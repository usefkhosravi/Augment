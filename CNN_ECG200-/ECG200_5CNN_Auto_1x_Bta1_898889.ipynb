{
 "cells": [
  {
   "cell_type": "markdown",
   "metadata": {},
   "source": [
    "import time\n",
    "plc=1\n",
    "time.sleep(1500*plc)         #run after 1 houre = 3600 seconds"
   ]
  },
  {
   "cell_type": "code",
   "execution_count": 1,
   "metadata": {},
   "outputs": [
    {
     "data": {
      "text/html": [
       "<style>#notebook { padding-top:0px !important; } .container { width:100% !important; } .end_space { min-height:0px !important; } html, body, .container{ margin:0!important;padding:0!important;}</style>"
      ],
      "text/plain": [
       "<IPython.core.display.HTML object>"
      ]
     },
     "metadata": {},
     "output_type": "display_data"
    }
   ],
   "source": [
    "import os\n",
    "import glob\n",
    "import scipy\n",
    "import random\n",
    "import bisect\n",
    "import numpy as np\n",
    "import pandas as pd\n",
    "import seaborn as sns\n",
    "from scipy import signal\n",
    "from scipy.signal import find_peaks\n",
    "import matplotlib.pyplot as plt\n",
    "from preprocess import *                         #ماژول استخراج پنجره ها\n",
    "from data import *                          #ماژول محلی ورود داده ها\n",
    "from augment import *                            #ماژول های داده افزایی\n",
    "from lstm_cnn import *                           #ماژول های داده افزایی با lstm_cnn\n",
    "import augment\n",
    "import importlib\n",
    "importlib.reload(augment)\n",
    "import tensorflow as tf\n",
    "from tensorflow import keras\n",
    "from tensorflow.keras.layers import BatchNormalization\n",
    "from sklearn.model_selection import train_test_split\n",
    "from sklearn.neural_network import MLPClassifier\n",
    "from sklearn.datasets import make_classification\n",
    "from sklearn.metrics import confusion_matrix, accuracy_score, classification_report,recall_score,precision_score\n",
    "from tensorflow.keras import callbacks\n",
    "from tensorflow.keras import layers\n",
    "from tensorflow.keras.models import Sequential\n",
    "from tensorflow.keras.layers import Convolution2D,Conv1D,Dropout,MaxPooling1D,MaxPooling2D,Flatten,Dense\n",
    "from tensorflow.keras import backend as K\n",
    "from tensorflow.keras.utils import to_categorical\n",
    "from tensorflow.keras.models import load_model\n",
    "cwd = os.getcwd() #\n",
    "fullscrn()"
   ]
  },
  {
   "cell_type": "markdown",
   "metadata": {},
   "source": [
    "<h1><center><div style=\"direction:rtl;font-family:B Nazanin\">Importing Data</div></center></h1>"
   ]
  },
  {
   "cell_type": "code",
   "execution_count": 2,
   "metadata": {
    "scrolled": true
   },
   "outputs": [
    {
     "name": "stdout",
     "output_type": "stream",
     "text": [
      "1 31\t2 69\tshape ecg= (100, 481)\n"
     ]
    }
   ],
   "source": [
    "for i in range (1,3):\n",
    "    vars()['ecg'+str(i)],vars()['ecg_tst'+str(i)]=Ecg200(i)\n",
    "os.chdir(cwd)\n",
    "clses_lens=np.array([])\n",
    "i=0                               #جمع آوری داده ها و چاپ تعداد نمونه ی هر کلاس\n",
    "ecg=np.array(ecg1)\n",
    "print(1,len(vars()['ecg'+str(1)]), end='\\t')\n",
    "clses_lens=np.append(clses_lens,len(vars()['ecg'+str(1)]))\n",
    "for i in range (2,3):\n",
    "    ecg=np.concatenate((ecg,vars()['ecg'+str(i)]),axis=0)\n",
    "    clses_lens=np.append(clses_lens,len(vars()['ecg'+str(i)]))\n",
    "    print( i,len(vars()['ecg'+str(i)]), end='\\t')\n",
    "\n",
    "mx_sig=max(clses_lens)\n",
    "print('shape ecg=',np.shape(ecg))"
   ]
  },
  {
   "cell_type": "markdown",
   "metadata": {},
   "source": [
    "<h2><center><div style=\"direction:rtl;font-family:B Nazanin\">Base Train windows</div></center></h1>"
   ]
  },
  {
   "cell_type": "code",
   "execution_count": 3,
   "metadata": {},
   "outputs": [
    {
     "name": "stdout",
     "output_type": "stream",
     "text": [
      "each class and its windows =\n",
      "1 31\t2 69\t\n",
      " max = 69\n"
     ]
    }
   ],
   "source": [
    "smpl_rte=480                                              # در ماژول ها نیز همین مقدار ثبت شده\n",
    "i=0\n",
    "windws=np.array([])\n",
    "\n",
    "for cls in range (1,3):                                 #ساخت پنجره های داده های آموزش اصلی\n",
    "    vars()['wndws'+str(cls)]=np.array(vars()['ecg'+str(cls)])  \n",
    "    \n",
    "print(\"each class and its windows =\")\n",
    "\n",
    "cls_wndws=np.array([])\n",
    "for cls in range (1,3):                                # آرایه ی تعداد پنجره ی هر کلاس\n",
    "    wns=len(vars()['wndws'+str(cls)])\n",
    "    cls_wndws=np.append(cls_wndws,wns)\n",
    "    print(cls, wns, end='\\t')\n",
    "\n",
    "mx_wndws=int(np.max(cls_wndws))                        # حداکثر تعداد پنجره ی موجود بین کلاس ها\n",
    "print('\\n max =', mx_wndws)"
   ]
  },
  {
   "cell_type": "markdown",
   "metadata": {},
   "source": [
    "<h1><center><div style=\"direction:rtl;font-family:B Nazanin\">Data Augmentation</div></center></h1>"
   ]
  },
  {
   "cell_type": "code",
   "execution_count": 4,
   "metadata": {},
   "outputs": [
    {
     "name": "stdout",
     "output_type": "stream",
     "text": [
      "[ 0 12 12 12 12 12 12 28]\n",
      "[[ 5  5  5  5  5  5 11]\n",
      " [ 0  0  0  0  0  0  0]]\n"
     ]
    }
   ],
   "source": [
    "beta=1.0                  #به توان رساندن سهم روش داده افزایی متناسب عملکردش\n",
    "alpha=0                   #چند برابر کردن داده افزایی هر کلاس متناسب ضعیف بودن آن کلاس\n",
    "X=1                       #داده افزایی تا چند برابر کلاس اکثریت\n",
    "mx_wndws=int(X*mx_wndws)  #داده افزایی تا چند برابر کلاس اکثریت\n",
    "\n",
    "scors0=np.array([83,95])                  #Class Scorses without Augmentation\n",
    "AgScr=1+alpha*(100-scors0)/100            #Class Specific\n",
    "\n",
    "f_scr=np.array([85,88,88,88,88,88,88,92]) #UnAg,Scl.2,Mag.05,Tm.2,Gs1,frqnc2,GAN,LSTMexpgdo\n",
    "f_scr_difrnc=f_scr-f_scr[0]\n",
    "f_scr_difrnc=f_scr_difrnc**beta\n",
    "f_scr_rtio=f_scr_difrnc/(sum(f_scr_difrnc))\n",
    "aug_amnt=np.empty((0,len(f_scr_rtio)-1), int) \n",
    "\n",
    "for i in range (1,3):\n",
    "    aug_amnt=np.append(aug_amnt,[f_scr_rtio[1:]*(mx_wndws*AgScr[i-1]-cls_wndws[i-1])],axis=0)\n",
    "    #vlum_win=mx_wndws-cls_wndws[i-1]             #میزان داده افزایی در روش های عمیق (پنجره)\n",
    "aug_amnt=np.int16(np.round(aug_amnt))\n",
    "print(np.int16(100*f_scr_rtio))\n",
    "print(aug_amnt)"
   ]
  },
  {
   "cell_type": "code",
   "execution_count": 5,
   "metadata": {
    "scrolled": false
   },
   "outputs": [
    {
     "name": "stdout",
     "output_type": "stream",
     "text": [
      "final shape=  (5, 487)\n",
      "final shape=  (5, 487)\n",
      "final shape=  (5, 487)\n",
      "final shape=  (5, 487)\n",
      "final shape=  (5, 487)\n",
      "final shape=  (5, 487)\n",
      "final shape=  (11, 487)\n",
      "class  1 train shape =  (67, 481)\n",
      "class  2 train shape =  (136, 481)\n"
     ]
    }
   ],
   "source": [
    "xtrain=np.empty((0,smpl_rte+1), float) \n",
    "\n",
    "for i in range (1,3):                                     #تعریف آرایه ی پنجره های کلاس ها\n",
    "    xtrain=np.append(xtrain,vars()['wndws'+str(i)],axis=0)\n",
    "    if aug_amnt[i-1,0]>0:\n",
    "        methd=10\n",
    "        sort=-1  #-5=Dis_sam_Cls=qlty1 #-4=var_Dis=qlty2 #-3=DisSm/DisOthr=qlty3  #-2=invrs_GDO_papr=qlty4   #-1=GDO_papr=qlty5\n",
    "        dp_slct_dstrb=1            #1-sequencial 2-linear 3-beta 4-exponential 5-unfrm\n",
    "        #xtrain=np.append(xtrain,srtd_data(methd,i,aug_amnt[i-1,0],dp_slct_dstrb,sort),axis=0)\n",
    "        aaa=np.array(srtd_data(methd,i,aug_amnt[i-1,0],dp_slct_dstrb,sort))\n",
    "    if aug_amnt[i-1,1]>0:\n",
    "        methd=20\n",
    "        sort=-1\n",
    "        dp_slct_dstrb=1\n",
    "        xtrain=np.append(xtrain,srtd_data(methd,i,aug_amnt[i-1,1],dp_slct_dstrb,sort),axis=0)\n",
    "    if aug_amnt[i-1,2]>0:\n",
    "        methd=30\n",
    "        sort=-3\n",
    "        dp_slct_dstrb=1\n",
    "        xtrain=np.append(xtrain,srtd_data(methd,i,aug_amnt[i-1,2],dp_slct_dstrb,sort),axis=0)\n",
    "    if aug_amnt[i-1,3]>0:\n",
    "        methd=41\n",
    "        sort=-3\n",
    "        dp_slct_dstrb=1\n",
    "        xtrain=np.append(xtrain,srtd_data(methd,i,aug_amnt[i-1,3],dp_slct_dstrb,sort),axis=0)\n",
    "    if aug_amnt[i-1,4]>0:\n",
    "        methd=50\n",
    "        sort=-5\n",
    "        dp_slct_dstrb=4\n",
    "        xtrain=np.append(xtrain,srtd_data(methd,i,aug_amnt[i-1,4],dp_slct_dstrb,sort),axis=0)\n",
    "    if aug_amnt[i-1,5]>0:\n",
    "        methd=60\n",
    "        sort=-1\n",
    "        dp_slct_dstrb=1\n",
    "        xtrain=np.append(xtrain,srtd_data(methd,i,aug_amnt[i-1,5],dp_slct_dstrb,sort),axis=0)\n",
    "    if aug_amnt[i-1,6]>0:\n",
    "        methd=70\n",
    "        sort=-5\n",
    "        dp_slct_dstrb=1\n",
    "        xtrain=np.append(xtrain,srtd_data(methd,i,aug_amnt[i-1,6],dp_slct_dstrb,sort),axis=0)\n",
    "    print('class ', i, 'train shape = ', np.shape(xtrain))"
   ]
  },
  {
   "cell_type": "code",
   "execution_count": 6,
   "metadata": {},
   "outputs": [
    {
     "name": "stdout",
     "output_type": "stream",
     "text": [
      "final shape=  (1, 0)\n"
     ]
    },
    {
     "data": {
      "text/plain": [
       "array([], shape=(1, 0), dtype=float64)"
      ]
     },
     "execution_count": 6,
     "metadata": {},
     "output_type": "execute_result"
    }
   ],
   "source": [
    "i=1\n",
    "methd=40\n",
    "dp_slct_dstrb=-3\n",
    "sort=1\n",
    "srtd_data(methd,i,aug_amnt[i-1,3],dp_slct_dstrb,sort)"
   ]
  },
  {
   "cell_type": "code",
   "execution_count": 7,
   "metadata": {},
   "outputs": [
    {
     "data": {
      "text/plain": [
       "array([[ 5,  5,  5,  5,  5,  5, 11],\n",
       "       [ 0,  0,  0,  0,  0,  0,  0]], dtype=int16)"
      ]
     },
     "execution_count": 7,
     "metadata": {},
     "output_type": "execute_result"
    }
   ],
   "source": [
    "aug_amnt"
   ]
  },
  {
   "cell_type": "code",
   "execution_count": 8,
   "metadata": {
    "scrolled": true
   },
   "outputs": [
    {
     "name": "stdout",
     "output_type": "stream",
     "text": [
      "[ 0 67 69]\n"
     ]
    }
   ],
   "source": [
    "print(np.bincount(np.int16(xtrain[:,-1])))    #تعداد پنجره در هر کلاس از 0 تا 17"
   ]
  },
  {
   "cell_type": "code",
   "execution_count": 9,
   "metadata": {},
   "outputs": [],
   "source": [
    "mx_aug=np.max(xtrain[:,:-1])\n",
    "mx=np.max(ecg[:,:-1])\n",
    "mn_aug=np.min(xtrain[:,:-1])\n",
    "mn=np.min(ecg[:,:-1])\n",
    "\n",
    "#for i in range (1,3):             #نرمالسازی داده های افزایشی\n",
    "xtrain[:,:-1]= 2*(xtrain[:,:-1]-mn_aug)/(mx_aug - mn_aug) - 1"
   ]
  },
  {
   "cell_type": "code",
   "execution_count": 10,
   "metadata": {},
   "outputs": [
    {
     "name": "stdout",
     "output_type": "stream",
     "text": [
      "min trn = -1.0\n",
      "max trn = 1.0\n"
     ]
    }
   ],
   "source": [
    "print('min trn =', np.min(xtrain[:,:-1]))\n",
    "print('max trn =', np.max(xtrain[:,:-1]))"
   ]
  },
  {
   "cell_type": "markdown",
   "metadata": {},
   "source": [
    "<h3><center><div style=\"direction:rtl;font-family:B Nazanin\">Test Windows</div></center></h1>"
   ]
  },
  {
   "cell_type": "code",
   "execution_count": 11,
   "metadata": {},
   "outputs": [],
   "source": [
    "wndws_test=np.empty((0,len(wndws1[0])), float)\n",
    "i=0\n",
    "windws=np.array([])\n",
    "for cls in range (1,3):                                 #ساخت پنجره های داده های آموزش اصلی\n",
    "    vars()['wndws_tst'+str(cls)]=np.empty((0,len(wndws1[0])), float)\n",
    "    vars()['wndws_tst'+str(cls)]=np.append(vars()['wndws_tst'+str(cls)],vars()['ecg_tst'+str(cls)],axis=0)   "
   ]
  },
  {
   "cell_type": "code",
   "execution_count": 12,
   "metadata": {},
   "outputs": [
    {
     "name": "stdout",
     "output_type": "stream",
     "text": [
      "\n",
      " cls 1  >> \n",
      "max magnitude class 1  =  4.159687838862726\n",
      "min magnitude class 1  =  -3.0608885355224738\n",
      "after normalizing >>\n",
      "max magnitude class 1  =  0.98871213043274\n",
      "min magnitude class 1  =  -1.0793024610689756\n",
      "\n",
      " cls 2  >> \n",
      "max magnitude class 2  =  4.1476\n",
      "min magnitude class 2  =  -2.9588110682839144\n",
      "after normalizing >>\n",
      "max magnitude class 2  =  0.9852501038781123\n",
      "min magnitude class 2  =  -1.0500668875125843\n",
      "each class and its windows =\n",
      "1 36\t2 64\t\n",
      " max instance in classes of test windows = 64\n"
     ]
    }
   ],
   "source": [
    "#print(np.max(wndws_tst))\n",
    "for i in range (1,3):                # Normalization test windows\n",
    "    cls=i\n",
    "    print('\\n cls', i, ' >> ')\n",
    "    print('max magnitude class', i , ' = ' ,np.max(vars()['wndws_tst'+str(cls)][:,:-1]))\n",
    "    print('min magnitude class', i , ' = ' ,np.min(vars()['wndws_tst'+str(cls)][:,:-1]))\n",
    "\n",
    "    vars()['wndws_tst'+str(i)][:,:-1]= 2*(vars()['wndws_tst'+str(i)][:,:-1]-mn_aug)/(mx_aug - mn_aug) - 1\n",
    "    \n",
    "    print('after normalizing >>')\n",
    "    print('max magnitude class', i , ' = ' ,np.max(vars()['wndws_tst'+str(cls)][:,:-1]))\n",
    "    print('min magnitude class', i , ' = ' ,np.min(vars()['wndws_tst'+str(cls)][:,:-1]))\n",
    "    \n",
    "print(\"each class and its windows =\")                    #تجمیع کلاس های تست\n",
    "cls_wndws=np.array([])\n",
    "for cls in range (1,3):                                # آرایه ی تعداد پنجره ی هر کلاس\n",
    "    wns=len(vars()['wndws_tst'+str(cls)])\n",
    "    cls_wndws=np.append(cls_wndws,wns)\n",
    "    print(cls, wns, end='\\t')\n",
    "    wndws_test=np.append(wndws_test,vars()['wndws_tst'+str(cls)],axis=0)\n",
    "    \n",
    "mx_wndws=int(np.max(cls_wndws))                        # حداکثر تعداد پنجره ی موجود بین کلاس ها\n",
    "print('\\n max instance in classes of test windows =', mx_wndws)"
   ]
  },
  {
   "cell_type": "code",
   "execution_count": 13,
   "metadata": {},
   "outputs": [
    {
     "name": "stdout",
     "output_type": "stream",
     "text": [
      "min tst = -1.0793024610689756\n",
      "max tst = 0.98871213043274\n"
     ]
    }
   ],
   "source": [
    "print('min tst =', np.min(wndws_test[:,:-1]))\n",
    "print('max tst =', np.max(wndws_test[:,:-1]))"
   ]
  },
  {
   "cell_type": "code",
   "execution_count": 14,
   "metadata": {},
   "outputs": [
    {
     "data": {
      "text/plain": [
       "100"
      ]
     },
     "execution_count": 14,
     "metadata": {},
     "output_type": "execute_result"
    }
   ],
   "source": [
    "len(wndws_test)"
   ]
  },
  {
   "cell_type": "code",
   "execution_count": 15,
   "metadata": {},
   "outputs": [
    {
     "data": {
      "text/plain": [
       "(100, 481)"
      ]
     },
     "execution_count": 15,
     "metadata": {},
     "output_type": "execute_result"
    }
   ],
   "source": [
    "np.shape(wndws_test)"
   ]
  },
  {
   "cell_type": "code",
   "execution_count": 16,
   "metadata": {},
   "outputs": [],
   "source": [
    "Xtest=wndws_test[:,:-1]\n",
    "ytest=np.int16(wndws_test[:,-1])"
   ]
  },
  {
   "cell_type": "code",
   "execution_count": 17,
   "metadata": {},
   "outputs": [
    {
     "name": "stdout",
     "output_type": "stream",
     "text": [
      "array([1, 1, 1, 1, 1, 1, 1, 1, 1, 1, 1, 1, 1, 1, 1, 1, 1, 1, 1, 1, 1, 1,\n",
      "       1, 1, 1, 1, 1, 1, 1, 1, 1, 1, 1, 1, 1, 1, 2, 2, 2, 2, 2, 2, 2, 2,\n",
      "       2, 2, 2, 2, 2, 2, 2, 2, 2, 2, 2, 2, 2, 2, 2, 2, 2, 2, 2, 2, 2, 2,\n",
      "       2, 2, 2, 2, 2, 2, 2, 2, 2, 2, 2, 2, 2, 2, 2, 2, 2, 2, 2, 2, 2, 2,\n",
      "       2, 2, 2, 2, 2, 2, 2, 2, 2, 2, 2, 2], dtype=int16)\n"
     ]
    }
   ],
   "source": [
    "fullprint(ytest)"
   ]
  },
  {
   "cell_type": "markdown",
   "metadata": {},
   "source": [
    "<h3><center><div style=\"direction:rtl;font-family:B Nazanin\">Train Windows</div></center></h1>"
   ]
  },
  {
   "cell_type": "code",
   "execution_count": 18,
   "metadata": {},
   "outputs": [
    {
     "data": {
      "text/plain": [
       "'\\nytestt=np.int32(np.array([ytest]).T)\\ntestx=np.concatenate((Xtest, ytestt), axis=1)\\ntestx=np.random.permutation(testx)\\nXtest=np.int32(testx[:,:-1])\\nytest=np.int32(testx[:,-1])'"
      ]
     },
     "execution_count": 18,
     "metadata": {},
     "output_type": "execute_result"
    }
   ],
   "source": [
    "#ytraint=np.int32(np.array([ytrain]).T)\n",
    "#trainx=np.concatenate((Xtrain, ytraint), axis=1)\n",
    "trainx=np.random.permutation(xtrain)\n",
    "Xtrain=np.array(trainx[:,:-1])\n",
    "ytrain=np.int16(trainx[:,-1])\n",
    "'''\n",
    "ytestt=np.int32(np.array([ytest]).T)\n",
    "testx=np.concatenate((Xtest, ytestt), axis=1)\n",
    "testx=np.random.permutation(testx)\n",
    "Xtest=np.int32(testx[:,:-1])\n",
    "ytest=np.int32(testx[:,-1])'''"
   ]
  },
  {
   "cell_type": "code",
   "execution_count": 19,
   "metadata": {},
   "outputs": [
    {
     "data": {
      "text/plain": [
       "(31, 481)"
      ]
     },
     "execution_count": 19,
     "metadata": {},
     "output_type": "execute_result"
    }
   ],
   "source": [
    "np.shape(wndws1)"
   ]
  },
  {
   "cell_type": "markdown",
   "metadata": {},
   "source": [
    "<h3><center><div style=\"direction:rtl;font-family:B Nazanin\">Validation Windows</div></center></h1>"
   ]
  },
  {
   "cell_type": "code",
   "execution_count": 20,
   "metadata": {},
   "outputs": [],
   "source": [
    "Xvalid=np.array(Xtest)\n",
    "yvalid=np.array(ytest)"
   ]
  },
  {
   "cell_type": "markdown",
   "metadata": {},
   "source": [
    "<h1><center><div style=\"direction:rtl;font-family:B Nazanin\">CNN And UnBalanced RAW Data</div></center></h1>\n",
    "<h1><center><div style=\"direction:rtl;font-family:Arial\">Cross Entropy Loss Function</div></center></h1>"
   ]
  },
  {
   "cell_type": "code",
   "execution_count": 21,
   "metadata": {
    "scrolled": true
   },
   "outputs": [
    {
     "name": "stdout",
     "output_type": "stream",
     "text": [
      "X_train =>  (136, 480)\n",
      "y_train =>  (136,)\n",
      "X_test  =>  (100, 480)\n",
      "y_test  =>  (100,)\n",
      "X_valid  =>  (100, 480)\n",
      "y_valid  =>  (100,)\n"
     ]
    }
   ],
   "source": [
    "X_train=np.array(Xtrain)\n",
    "y_train=np.array(ytrain)\n",
    "X_test=np.array(Xtest)\n",
    "y_test=np.array(ytest)\n",
    "X_valid=np.array(Xtest)\n",
    "y_valid=np.array(ytest)\n",
    "print('X_train => ', X_train.shape)\n",
    "print('y_train => ', y_train.shape)\n",
    "print('X_test  => ', X_test.shape)\n",
    "print('y_test  => ', y_test.shape)\n",
    "print('X_valid  => ', X_valid.shape)\n",
    "print('y_valid  => ', y_valid.shape)"
   ]
  },
  {
   "cell_type": "code",
   "execution_count": 22,
   "metadata": {},
   "outputs": [
    {
     "data": {
      "text/plain": [
       "1"
      ]
     },
     "execution_count": 22,
     "metadata": {},
     "output_type": "execute_result"
    }
   ],
   "source": [
    "y_train=np.array(ytrain)\n",
    "np.min(y_train)"
   ]
  },
  {
   "cell_type": "code",
   "execution_count": 23,
   "metadata": {},
   "outputs": [],
   "source": [
    "y_train_cat=to_categorical(y_train)\n",
    "y_valid_cat=to_categorical(y_valid)\n",
    "y_test_cat=to_categorical(y_test)\n",
    "\n",
    "\n",
    "X_train = np.expand_dims(X_train, axis=2)\n",
    "X_valid = np.expand_dims(X_valid, axis=2)\n",
    "X_test = np.expand_dims(X_test, axis=2)\n",
    "#y_train=np.transpose([y_train])"
   ]
  },
  {
   "cell_type": "code",
   "execution_count": 24,
   "metadata": {
    "scrolled": true
   },
   "outputs": [
    {
     "name": "stdout",
     "output_type": "stream",
     "text": [
      "Epoch 1/1000\n",
      "28/28 [==============================] - 3s 20ms/step - loss: 0.8318 - accuracy: 0.5809 - val_loss: 0.6520 - val_accuracy: 0.6900\n",
      "Epoch 2/1000\n",
      "28/28 [==============================] - 0s 10ms/step - loss: 0.5376 - accuracy: 0.7353 - val_loss: 1.0042 - val_accuracy: 0.6700\n",
      "Epoch 3/1000\n",
      "28/28 [==============================] - 0s 10ms/step - loss: 0.4633 - accuracy: 0.8015 - val_loss: 0.5464 - val_accuracy: 0.7700\n",
      "Epoch 4/1000\n",
      "28/28 [==============================] - 0s 10ms/step - loss: 0.4182 - accuracy: 0.7941 - val_loss: 0.4485 - val_accuracy: 0.7900\n",
      "Epoch 5/1000\n",
      "28/28 [==============================] - 0s 10ms/step - loss: 0.3599 - accuracy: 0.8603 - val_loss: 0.5923 - val_accuracy: 0.7400\n",
      "Epoch 6/1000\n",
      "28/28 [==============================] - 0s 10ms/step - loss: 0.3504 - accuracy: 0.8603 - val_loss: 0.3853 - val_accuracy: 0.8200\n",
      "Epoch 7/1000\n",
      "28/28 [==============================] - 0s 10ms/step - loss: 0.2927 - accuracy: 0.8750 - val_loss: 0.4686 - val_accuracy: 0.8200\n",
      "Epoch 8/1000\n",
      "28/28 [==============================] - 0s 10ms/step - loss: 0.2547 - accuracy: 0.8824 - val_loss: 0.4852 - val_accuracy: 0.8500\n",
      "Epoch 9/1000\n",
      "28/28 [==============================] - 0s 10ms/step - loss: 0.2133 - accuracy: 0.9338 - val_loss: 0.4123 - val_accuracy: 0.8600\n",
      "Epoch 10/1000\n",
      "28/28 [==============================] - 0s 10ms/step - loss: 0.2001 - accuracy: 0.9485 - val_loss: 0.7986 - val_accuracy: 0.7500\n",
      "Epoch 11/1000\n",
      "28/28 [==============================] - 0s 10ms/step - loss: 0.2253 - accuracy: 0.9265 - val_loss: 0.4247 - val_accuracy: 0.8300\n",
      "Epoch 12/1000\n",
      "28/28 [==============================] - 0s 10ms/step - loss: 0.1764 - accuracy: 0.9118 - val_loss: 0.3716 - val_accuracy: 0.8500\n",
      "Epoch 13/1000\n",
      "28/28 [==============================] - 0s 10ms/step - loss: 0.1479 - accuracy: 0.9265 - val_loss: 0.5168 - val_accuracy: 0.8200\n",
      "Epoch 14/1000\n",
      "28/28 [==============================] - 0s 10ms/step - loss: 0.1513 - accuracy: 0.9412 - val_loss: 0.4876 - val_accuracy: 0.8600\n",
      "Epoch 15/1000\n",
      "28/28 [==============================] - 0s 10ms/step - loss: 0.1466 - accuracy: 0.9338 - val_loss: 0.4656 - val_accuracy: 0.8700\n",
      "Epoch 16/1000\n",
      "28/28 [==============================] - 0s 10ms/step - loss: 0.1289 - accuracy: 0.9485 - val_loss: 0.6044 - val_accuracy: 0.8500\n",
      "Epoch 17/1000\n",
      "28/28 [==============================] - 0s 10ms/step - loss: 0.1357 - accuracy: 0.9559 - val_loss: 0.5672 - val_accuracy: 0.8600\n",
      "Epoch 18/1000\n",
      "28/28 [==============================] - 0s 10ms/step - loss: 0.1482 - accuracy: 0.9265 - val_loss: 0.5513 - val_accuracy: 0.8600\n",
      "Epoch 19/1000\n",
      "28/28 [==============================] - 0s 10ms/step - loss: 0.1252 - accuracy: 0.9559 - val_loss: 0.5027 - val_accuracy: 0.8900\n",
      "Epoch 20/1000\n",
      "28/28 [==============================] - 0s 10ms/step - loss: 0.0616 - accuracy: 0.9779 - val_loss: 0.7164 - val_accuracy: 0.8500\n",
      "Epoch 21/1000\n",
      "28/28 [==============================] - 0s 11ms/step - loss: 0.1484 - accuracy: 0.9485 - val_loss: 0.7268 - val_accuracy: 0.8200\n",
      "Epoch 22/1000\n",
      "28/28 [==============================] - 0s 10ms/step - loss: 0.0886 - accuracy: 0.9485 - val_loss: 0.7074 - val_accuracy: 0.8500\n",
      "Epoch 23/1000\n",
      "28/28 [==============================] - 0s 10ms/step - loss: 0.0647 - accuracy: 0.9853 - val_loss: 0.9818 - val_accuracy: 0.8600\n",
      "Epoch 24/1000\n",
      "28/28 [==============================] - 0s 10ms/step - loss: 0.0721 - accuracy: 0.9706 - val_loss: 0.8142 - val_accuracy: 0.8400\n",
      "Epoch 25/1000\n",
      "28/28 [==============================] - 0s 10ms/step - loss: 0.1695 - accuracy: 0.9632 - val_loss: 0.6537 - val_accuracy: 0.8800\n",
      "Epoch 26/1000\n",
      "28/28 [==============================] - 0s 10ms/step - loss: 0.0127 - accuracy: 1.0000 - val_loss: 0.9235 - val_accuracy: 0.8500\n",
      "Epoch 27/1000\n",
      "28/28 [==============================] - 0s 11ms/step - loss: 0.1188 - accuracy: 0.9779 - val_loss: 0.8009 - val_accuracy: 0.8700\n",
      "Epoch 28/1000\n",
      "28/28 [==============================] - 0s 10ms/step - loss: 0.0338 - accuracy: 0.9853 - val_loss: 0.9556 - val_accuracy: 0.8700\n",
      "Epoch 29/1000\n",
      "28/28 [==============================] - 0s 10ms/step - loss: 0.0497 - accuracy: 0.9853 - val_loss: 1.0402 - val_accuracy: 0.8700\n",
      "Epoch 30/1000\n",
      "28/28 [==============================] - 0s 11ms/step - loss: 0.0269 - accuracy: 0.9926 - val_loss: 0.9775 - val_accuracy: 0.8500\n",
      "Epoch 31/1000\n",
      "28/28 [==============================] - 0s 10ms/step - loss: 0.0410 - accuracy: 0.9779 - val_loss: 1.5402 - val_accuracy: 0.8000\n",
      "Epoch 32/1000\n",
      "28/28 [==============================] - 0s 11ms/step - loss: 0.0178 - accuracy: 0.9926 - val_loss: 0.9663 - val_accuracy: 0.8700\n",
      "Epoch 33/1000\n",
      "28/28 [==============================] - 0s 11ms/step - loss: 5.6017e-04 - accuracy: 1.0000 - val_loss: 1.0754 - val_accuracy: 0.8800\n",
      "Epoch 34/1000\n",
      "28/28 [==============================] - 0s 11ms/step - loss: 7.0278e-05 - accuracy: 1.0000 - val_loss: 1.1796 - val_accuracy: 0.8900\n",
      "Epoch 35/1000\n",
      "28/28 [==============================] - 2s 84ms/step - loss: 1.1044e-05 - accuracy: 1.0000 - val_loss: 1.2969 - val_accuracy: 0.8600\n",
      "Epoch 36/1000\n",
      "28/28 [==============================] - 0s 10ms/step - loss: 0.0851 - accuracy: 0.9853 - val_loss: 1.4943 - val_accuracy: 0.8800\n",
      "Epoch 37/1000\n",
      "28/28 [==============================] - 0s 10ms/step - loss: 0.0785 - accuracy: 0.9779 - val_loss: 1.1891 - val_accuracy: 0.8600\n",
      "Epoch 38/1000\n",
      "28/28 [==============================] - 0s 10ms/step - loss: 3.2449e-04 - accuracy: 1.0000 - val_loss: 1.2579 - val_accuracy: 0.8700\n",
      "Epoch 39/1000\n",
      "28/28 [==============================] - 0s 10ms/step - loss: 7.3133e-05 - accuracy: 1.0000 - val_loss: 1.1788 - val_accuracy: 0.8800\n",
      "20/20 [==============================] - 0s 2ms/step - loss: 0.5027 - accuracy: 0.8900\n",
      "np.shape(X_test)= (100, 480, 1)\n",
      "Model: \"sequential\"\n",
      "_________________________________________________________________\n",
      " Layer (type)                Output Shape              Param #   \n",
      "=================================================================\n",
      " conv1d (Conv1D)             (None, 478, 32)           128       \n",
      "                                                                 \n",
      " conv1d_1 (Conv1D)           (None, 476, 64)           6208      \n",
      "                                                                 \n",
      " max_pooling1d (MaxPooling1D  (None, 158, 64)          0         \n",
      " )                                                               \n",
      "                                                                 \n",
      " conv1d_2 (Conv1D)           (None, 156, 128)          24704     \n",
      "                                                                 \n",
      " max_pooling1d_1 (MaxPooling  (None, 52, 128)          0         \n",
      " 1D)                                                             \n",
      "                                                                 \n",
      " conv1d_3 (Conv1D)           (None, 50, 128)           49280     \n",
      "                                                                 \n",
      " max_pooling1d_2 (MaxPooling  (None, 16, 128)          0         \n",
      " 1D)                                                             \n",
      "                                                                 \n",
      " conv1d_4 (Conv1D)           (None, 14, 256)           98560     \n",
      "                                                                 \n",
      " max_pooling1d_3 (MaxPooling  (None, 4, 256)           0         \n",
      " 1D)                                                             \n",
      "                                                                 \n",
      " flatten (Flatten)           (None, 1024)              0         \n",
      "                                                                 \n",
      " dense (Dense)               (None, 2000)              2050000   \n",
      "                                                                 \n",
      " dense_1 (Dense)             (None, 3)                 6003      \n",
      "                                                                 \n",
      "=================================================================\n",
      "Total params: 2,234,883\n",
      "Trainable params: 2,234,883\n",
      "Non-trainable params: 0\n",
      "_________________________________________________________________\n",
      "Accuracy=  0.8899999856948853\n"
     ]
    }
   ],
   "source": [
    "accuracy=0\n",
    "acc_crs=np.array([])\n",
    "##for i in range (10):\n",
    "##    if accuracy<0.2 :\n",
    "\n",
    "verbose, epochs, batch_size = 1, 1000, 5\n",
    "n_timesteps, n_features, n_outputs = X_train.shape[1], X_train.shape[2], y_train_cat.shape[1]\n",
    "steps_per_epoch = len(X_train)//batch_size\n",
    "validation_steps = len(X_valid)//batch_size # if you have test data\n",
    "\n",
    "model_crs = Sequential()\n",
    "BatchNormalization()\n",
    "model_crs.add(Conv1D(filters=32, kernel_size=3, activation='relu', input_shape=(n_timesteps,n_features)))\n",
    "#model_crs.add(MaxPooling1D(pool_size=3))\n",
    "BatchNormalization()\n",
    "model_crs.add(Conv1D(filters=64, kernel_size=3, activation='relu'))\n",
    "#model_crs.add(Dropout(0.5))\n",
    "model_crs.add(MaxPooling1D(pool_size=3))\n",
    "BatchNormalization()\n",
    "model_crs.add(Conv1D(filters=128, kernel_size=3, activation='relu'))\n",
    "model_crs.add(MaxPooling1D(pool_size=3))\n",
    "BatchNormalization()\n",
    "model_crs.add(Conv1D(filters=128, kernel_size=3, activation='relu'))\n",
    "model_crs.add(MaxPooling1D(pool_size=3))\n",
    "BatchNormalization()\n",
    "model_crs.add(Conv1D(filters=256, kernel_size=3, activation='relu'))\n",
    "model_crs.add(MaxPooling1D(pool_size=3))\n",
    "'''model_crs.add(Conv1D(filters=512, kernel_size=3, activation='relu'))\n",
    "model_crs.add(MaxPooling1D(pool_size=3))\n",
    "model_crs.add(Conv1D(filters=1024, kernel_size=3, activation='relu'))\n",
    "model_crs.add(MaxPooling1D(pool_size=3))\n",
    "'''\n",
    "model_crs.add(Flatten())\n",
    "#model_crs.add(Dropout(0.5))\n",
    "model_crs.add(Dense(2000, activation='relu'))\n",
    "model_crs.add(Dense(n_outputs, activation='softmax'))\n",
    "model_crs.compile(optimizer='rmsprop', loss='categorical_crossentropy', metrics=['accuracy'])\n",
    "# fit network   #CategoricalCrossentropy #sparse_categorical_crossentropy #SparseCategoricalCrossentropy\n",
    "\n",
    "earlystopping = callbacks.EarlyStopping(monitor =\"val_accuracy\", mode =\"max\", patience = 20, restore_best_weights = True)\n",
    "\n",
    "model_crs.fit(X_train, y_train_cat, epochs=epochs, batch_size=batch_size, verbose=verbose, validation_data = (X_valid, y_valid_cat), callbacks =[earlystopping])\n",
    "# evaluate model_crs\n",
    "_, accuracy = model_crs.evaluate(X_valid, y_valid_cat, batch_size=batch_size, verbose=1)\n",
    "\n",
    "print('np.shape(X_test)=',np.shape(X_test))\n",
    "\n",
    "\n",
    "model_crs.summary()\n",
    "print('Accuracy= ', accuracy)\n",
    "\n",
    "#output = K.function([model_crs.layers[0].input],[model_crs.layers[3].output])\n",
    "#output(X_test)[0]\n",
    "#y_pred= model_crs.predict(X_test)                # Function 1\n",
    "\n",
    "##    print('Round ', i, '==>', 'accuracy = ', accuracy)\n",
    "##    acc_crs=np.append(acc_crs,accuracy)\n",
    "#y_pred_crs = model_crs.predict_classes(X_test)   # Function 2"
   ]
  },
  {
   "cell_type": "code",
   "execution_count": 25,
   "metadata": {},
   "outputs": [],
   "source": [
    "def maxindx(ar):\n",
    "    ar_cpy=np.array(ar)\n",
    "    pred=np.argmax(ar,axis=1)\n",
    "    for i in range (len(pred)):\n",
    "        if pred[i]==0:\n",
    "            ar_cpy[i,0]=-1000\n",
    "    pred=np.argmax(ar_cpy,axis=1)\n",
    "    return(pred)"
   ]
  },
  {
   "cell_type": "code",
   "execution_count": 26,
   "metadata": {},
   "outputs": [
    {
     "name": "stdout",
     "output_type": "stream",
     "text": [
      "4/4 [==============================] - 0s 17ms/step\n",
      "[[30  6]\n",
      " [ 5 59]]\n",
      "              precision    recall  f1-score   support\n",
      "\n",
      "           1       0.86      0.83      0.85        36\n",
      "           2       0.91      0.92      0.91        64\n",
      "\n",
      "    accuracy                           0.89       100\n",
      "   macro avg       0.88      0.88      0.88       100\n",
      "weighted avg       0.89      0.89      0.89       100\n",
      "\n"
     ]
    }
   ],
   "source": [
    "predict_x=model_crs.predict(X_test)              # Function 1\n",
    "\n",
    "y_pred_crs=maxindx(predict_x)                    # function from augment.py to remove 0 index predictions\n",
    "\n",
    "#y_pred_crs = model_crs.predict_classes(X_test)\n",
    "\n",
    "cm = confusion_matrix(y_test, y_pred_crs)\n",
    "print(cm)\n",
    "acc3=accuracy_score(y_test, y_pred_crs)\n",
    "\n",
    "print(classification_report(y_test, y_pred_crs))\n",
    "\n",
    "#sns.heatmap(cm, annot=True)\n",
    "\n",
    "#plt.imshow(cm)"
   ]
  },
  {
   "cell_type": "raw",
   "metadata": {},
   "source": [
    "y_pred_crs = model_crs.predict_classes(X_test)     # Function 2\n",
    "\n",
    "\n",
    "cm = confusion_matrix(y_test, y_pred_crs)\n",
    "print(cm)\n",
    "acc3=accuracy_score(y_test, y_pred_crs)\n",
    "\n",
    "print(classification_report(y_test, y_pred_crs))\n",
    "\n",
    "#sns.heatmap(cm, annot=True)\n",
    "\n",
    "#plt.imshow(cm)"
   ]
  },
  {
   "cell_type": "code",
   "execution_count": 27,
   "metadata": {
    "scrolled": true
   },
   "outputs": [
    {
     "name": "stdout",
     "output_type": "stream",
     "text": [
      "[67 69]\n"
     ]
    }
   ],
   "source": [
    "print(np.bincount(y_train)[1:])"
   ]
  },
  {
   "cell_type": "raw",
   "metadata": {},
   "source": [
    "#model_crs=load_model('CNN1_crs_UnBlnc_8020_fld1_5550.h5')   # Save CNN Network For thereafter Predictions\n",
    "#model_crs=load_model('CNN1_crs_UnBlnc_9395%.h5')\n",
    "\n",
    "model_crs.save('CNN1_Scl_crs_0000.h5') "
   ]
  }
 ],
 "metadata": {
  "celltoolbar": "Raw Cell Format",
  "kernelspec": {
   "display_name": "Python 3 (ipykernel)",
   "language": "python",
   "name": "python3"
  },
  "language_info": {
   "codemirror_mode": {
    "name": "ipython",
    "version": 3
   },
   "file_extension": ".py",
   "mimetype": "text/x-python",
   "name": "python",
   "nbconvert_exporter": "python",
   "pygments_lexer": "ipython3",
   "version": "3.9.7"
  }
 },
 "nbformat": 4,
 "nbformat_minor": 4
}
