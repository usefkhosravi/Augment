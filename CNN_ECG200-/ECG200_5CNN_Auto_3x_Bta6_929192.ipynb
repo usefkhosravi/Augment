{
 "cells": [
  {
   "cell_type": "markdown",
   "metadata": {},
   "source": [
    "import time\n",
    "plc=1\n",
    "time.sleep(1500*plc)         #run after 1 houre = 3600 seconds"
   ]
  },
  {
   "cell_type": "code",
   "execution_count": 1,
   "metadata": {},
   "outputs": [
    {
     "data": {
      "text/html": [
       "<style>#notebook { padding-top:0px !important; } .container { width:100% !important; } .end_space { min-height:0px !important; } html, body, .container{ margin:0!important;padding:0!important;}</style>"
      ],
      "text/plain": [
       "<IPython.core.display.HTML object>"
      ]
     },
     "metadata": {},
     "output_type": "display_data"
    }
   ],
   "source": [
    "import os\n",
    "import glob\n",
    "import scipy\n",
    "import random\n",
    "import bisect\n",
    "import numpy as np\n",
    "import pandas as pd\n",
    "import seaborn as sns\n",
    "from scipy import signal\n",
    "from scipy.signal import find_peaks\n",
    "import matplotlib.pyplot as plt\n",
    "from preprocess import *                         #ماژول استخراج پنجره ها\n",
    "from data import *                          #ماژول محلی ورود داده ها\n",
    "from augment import *                            #ماژول های داده افزایی\n",
    "from lstm_cnn import *                           #ماژول های داده افزایی با lstm_cnn\n",
    "import augment\n",
    "import importlib\n",
    "importlib.reload(augment)\n",
    "import tensorflow as tf\n",
    "from tensorflow import keras\n",
    "from tensorflow.keras.layers import BatchNormalization\n",
    "from sklearn.model_selection import train_test_split\n",
    "from sklearn.neural_network import MLPClassifier\n",
    "from sklearn.datasets import make_classification\n",
    "from sklearn.metrics import confusion_matrix, accuracy_score, classification_report,recall_score,precision_score\n",
    "from tensorflow.keras import callbacks\n",
    "from tensorflow.keras import layers\n",
    "from tensorflow.keras.models import Sequential\n",
    "from tensorflow.keras.layers import Convolution2D,Conv1D,Dropout,MaxPooling1D,MaxPooling2D,Flatten,Dense\n",
    "from tensorflow.keras import backend as K\n",
    "from tensorflow.keras.utils import to_categorical\n",
    "from tensorflow.keras.models import load_model\n",
    "cwd = os.getcwd() #\n",
    "fullscrn()"
   ]
  },
  {
   "cell_type": "markdown",
   "metadata": {},
   "source": [
    "<h1><center><div style=\"direction:rtl;font-family:B Nazanin\">Importing Data</div></center></h1>"
   ]
  },
  {
   "cell_type": "code",
   "execution_count": 2,
   "metadata": {
    "scrolled": true
   },
   "outputs": [
    {
     "name": "stdout",
     "output_type": "stream",
     "text": [
      "1 31\t2 69\tshape ecg= (100, 481)\n"
     ]
    }
   ],
   "source": [
    "for i in range (1,3):\n",
    "    vars()['ecg'+str(i)],vars()['ecg_tst'+str(i)]=Ecg200(i)\n",
    "os.chdir(cwd)\n",
    "clses_lens=np.array([])\n",
    "i=0                               #جمع آوری داده ها و چاپ تعداد نمونه ی هر کلاس\n",
    "ecg=np.array(ecg1)\n",
    "print(1,len(vars()['ecg'+str(1)]), end='\\t')\n",
    "clses_lens=np.append(clses_lens,len(vars()['ecg'+str(1)]))\n",
    "for i in range (2,3):\n",
    "    ecg=np.concatenate((ecg,vars()['ecg'+str(i)]),axis=0)\n",
    "    clses_lens=np.append(clses_lens,len(vars()['ecg'+str(i)]))\n",
    "    print( i,len(vars()['ecg'+str(i)]), end='\\t')\n",
    "\n",
    "mx_sig=max(clses_lens)\n",
    "print('shape ecg=',np.shape(ecg))"
   ]
  },
  {
   "cell_type": "markdown",
   "metadata": {},
   "source": [
    "<h2><center><div style=\"direction:rtl;font-family:B Nazanin\">Base Train windows</div></center></h1>"
   ]
  },
  {
   "cell_type": "code",
   "execution_count": 3,
   "metadata": {},
   "outputs": [
    {
     "name": "stdout",
     "output_type": "stream",
     "text": [
      "each class and its windows =\n",
      "1 31\t2 69\t\n",
      " max = 69\n"
     ]
    }
   ],
   "source": [
    "smpl_rte=480                                              # در ماژول ها نیز همین مقدار ثبت شده\n",
    "i=0\n",
    "windws=np.array([])\n",
    "\n",
    "for cls in range (1,3):                                 #ساخت پنجره های داده های آموزش اصلی\n",
    "    vars()['wndws'+str(cls)]=np.array(vars()['ecg'+str(cls)])  \n",
    "    \n",
    "print(\"each class and its windows =\")\n",
    "\n",
    "cls_wndws=np.array([])\n",
    "for cls in range (1,3):                                # آرایه ی تعداد پنجره ی هر کلاس\n",
    "    wns=len(vars()['wndws'+str(cls)])\n",
    "    cls_wndws=np.append(cls_wndws,wns)\n",
    "    print(cls, wns, end='\\t')\n",
    "\n",
    "mx_wndws=int(np.max(cls_wndws))                        # حداکثر تعداد پنجره ی موجود بین کلاس ها\n",
    "print('\\n max =', mx_wndws)"
   ]
  },
  {
   "cell_type": "markdown",
   "metadata": {},
   "source": [
    "<h1><center><div style=\"direction:rtl;font-family:B Nazanin\">Data Augmentation</div></center></h1>"
   ]
  },
  {
   "cell_type": "code",
   "execution_count": 4,
   "metadata": {},
   "outputs": [
    {
     "name": "stdout",
     "output_type": "stream",
     "text": [
      "[ 0  0  0  0  0  0  0 96]\n",
      "[[  1   1   1   1   1   1 103]\n",
      " [  0   0   0   0   0   0  67]]\n"
     ]
    }
   ],
   "source": [
    "beta=6.0   #exponent on benefits of augmentations types\n",
    "alpha=0    #Volume of augmentation base on class scores\n",
    "X=2        #volume of augmentation  to equalise \n",
    "mx_wndws=int(X*mx_wndws)  #mx_wndws*0.3  # =classes-1 برای بررسی الگوریتم تعداد کمی کلاس آزمایش شد\n",
    "#methd=70\n",
    "sort=-2          #-5=Dis_sam_Cls=qlty1   #-4=var_Dis=qlty2    #-3=DisSm/DisOthr=qlty3    #-2=invrs_GDO_papr=qlty4   #-1=GDO_papr=qlty5  \n",
    "invers=0         #1=inverse sorting base of \"sort\"             #inverse of qlity3=qlty6  else=0\n",
    "dp_slct_dstrb=1  #1-sequencial 2-linear 3-beta 4-exponential 5-unfrm\n",
    "scors0=np.array([83,95])\n",
    "AgScr=1+alpha*(100-scors0)/100\n",
    "\n",
    "f_scr=np.array([85,88,88,88,88,88,88,92]) #UnAg,Scl.2,Mag.05,Tm.2,Gs1,frqnc2,GAN,LSTMexpgdo\n",
    "f_scr_difrnc=f_scr-f_scr[0]\n",
    "f_scr_difrnc=f_scr_difrnc**beta\n",
    "f_scr_rtio=f_scr_difrnc/(sum(f_scr_difrnc))\n",
    "aug_amnt=np.empty((0,len(f_scr_rtio)-1), int) \n",
    "\n",
    "for i in range (1,3):\n",
    "    aug_amnt=np.append(aug_amnt,[f_scr_rtio[1:]*(mx_wndws*AgScr[i-1]-cls_wndws[i-1])],axis=0)\n",
    "    #vlum_win=mx_wndws-cls_wndws[i-1]             #میزان داده افزایی در روش های عمیق (پنجره)\n",
    "aug_amnt=np.int16(np.round(aug_amnt))\n",
    "print(np.int16(100*f_scr_rtio))\n",
    "print(aug_amnt)"
   ]
  },
  {
   "cell_type": "code",
   "execution_count": 5,
   "metadata": {
    "scrolled": false
   },
   "outputs": [
    {
     "name": "stdout",
     "output_type": "stream",
     "text": [
      "final shape=  (1, 487)\n",
      "final shape=  (1, 487)\n",
      "final shape=  (1, 487)\n",
      "final shape=  (1, 487)\n",
      "final shape=  (1, 487)\n",
      "final shape=  (1, 487)\n",
      "final shape=  (103, 487)\n",
      "class  1 train shape =  (139, 481)\n",
      "final shape=  (67, 487)\n",
      "class  2 train shape =  (275, 481)\n"
     ]
    }
   ],
   "source": [
    "xtrain=np.empty((0,smpl_rte+1), float) \n",
    "\n",
    "for i in range (1,3):                                     #تعریف آرایه ی پنجره های کلاس ها\n",
    "    xtrain=np.append(xtrain,vars()['wndws'+str(i)],axis=0)\n",
    "    if aug_amnt[i-1,0]>0:\n",
    "        methd=10\n",
    "        sort=-1  #-5=Dis_sam_Cls=qlty1 #-4=var_Dis=qlty2 #-3=DisSm/DisOthr=qlty3  #-2=invrs_GDO_papr=qlty4   #-1=GDO_papr=qlty5\n",
    "        dp_slct_dstrb=1            #1-sequencial 2-linear 3-beta 4-exponential 5-unfrm\n",
    "        #xtrain=np.append(xtrain,srtd_data(methd,i,aug_amnt[i-1,0],dp_slct_dstrb,sort),axis=0)\n",
    "        aaa=np.array(srtd_data(methd,i,aug_amnt[i-1,0],dp_slct_dstrb,sort))\n",
    "    if aug_amnt[i-1,1]>0:\n",
    "        methd=20\n",
    "        sort=-1\n",
    "        dp_slct_dstrb=1\n",
    "        xtrain=np.append(xtrain,srtd_data(methd,i,aug_amnt[i-1,1],dp_slct_dstrb,sort),axis=0)\n",
    "    if aug_amnt[i-1,2]>0:\n",
    "        methd=30\n",
    "        sort=-3\n",
    "        dp_slct_dstrb=1\n",
    "        xtrain=np.append(xtrain,srtd_data(methd,i,aug_amnt[i-1,2],dp_slct_dstrb,sort),axis=0)\n",
    "    if aug_amnt[i-1,3]>0:\n",
    "        methd=41\n",
    "        sort=-3\n",
    "        dp_slct_dstrb=1\n",
    "        xtrain=np.append(xtrain,srtd_data(methd,i,aug_amnt[i-1,3],dp_slct_dstrb,sort),axis=0)\n",
    "    if aug_amnt[i-1,4]>0:\n",
    "        methd=50\n",
    "        sort=-5\n",
    "        dp_slct_dstrb=4\n",
    "        xtrain=np.append(xtrain,srtd_data(methd,i,aug_amnt[i-1,4],dp_slct_dstrb,sort),axis=0)\n",
    "    if aug_amnt[i-1,5]>0:\n",
    "        methd=60\n",
    "        sort=-1\n",
    "        dp_slct_dstrb=1\n",
    "        xtrain=np.append(xtrain,srtd_data(methd,i,aug_amnt[i-1,5],dp_slct_dstrb,sort),axis=0)\n",
    "    if aug_amnt[i-1,6]>0:\n",
    "        methd=70\n",
    "        sort=-5\n",
    "        dp_slct_dstrb=1\n",
    "        xtrain=np.append(xtrain,srtd_data(methd,i,aug_amnt[i-1,6],dp_slct_dstrb,sort),axis=0)\n",
    "    print('class ', i, 'train shape = ', np.shape(xtrain))"
   ]
  },
  {
   "cell_type": "code",
   "execution_count": 6,
   "metadata": {},
   "outputs": [
    {
     "name": "stdout",
     "output_type": "stream",
     "text": [
      "final shape=  (1, 0)\n"
     ]
    },
    {
     "data": {
      "text/plain": [
       "array([], shape=(1, 0), dtype=float64)"
      ]
     },
     "execution_count": 6,
     "metadata": {},
     "output_type": "execute_result"
    }
   ],
   "source": [
    "i=1\n",
    "methd=40\n",
    "dp_slct_dstrb=-3\n",
    "sort=1\n",
    "srtd_data(methd,i,aug_amnt[i-1,3],dp_slct_dstrb,sort)"
   ]
  },
  {
   "cell_type": "code",
   "execution_count": 7,
   "metadata": {},
   "outputs": [
    {
     "data": {
      "text/plain": [
       "array([[  1,   1,   1,   1,   1,   1, 103],\n",
       "       [  0,   0,   0,   0,   0,   0,  67]], dtype=int16)"
      ]
     },
     "execution_count": 7,
     "metadata": {},
     "output_type": "execute_result"
    }
   ],
   "source": [
    "aug_amnt"
   ]
  },
  {
   "cell_type": "code",
   "execution_count": 8,
   "metadata": {
    "scrolled": true
   },
   "outputs": [
    {
     "name": "stdout",
     "output_type": "stream",
     "text": [
      "[  0 139 136]\n"
     ]
    }
   ],
   "source": [
    "print(np.bincount(np.int16(xtrain[:,-1])))    #تعداد پنجره در هر کلاس از 0 تا 17"
   ]
  },
  {
   "cell_type": "code",
   "execution_count": 9,
   "metadata": {},
   "outputs": [],
   "source": [
    "mx_aug=np.max(xtrain[:,:-1])\n",
    "mx=np.max(ecg[:,:-1])\n",
    "mn_aug=np.min(xtrain[:,:-1])\n",
    "mn=np.min(ecg[:,:-1])\n",
    "\n",
    "#for i in range (1,3):             #نرمالسازی داده های افزایشی\n",
    "xtrain[:,:-1]= 2*(xtrain[:,:-1]-mn_aug)/(mx_aug - mn_aug) - 1"
   ]
  },
  {
   "cell_type": "code",
   "execution_count": 10,
   "metadata": {},
   "outputs": [
    {
     "name": "stdout",
     "output_type": "stream",
     "text": [
      "min trn = -1.0\n",
      "max trn = 1.0\n"
     ]
    }
   ],
   "source": [
    "print('min trn =', np.min(xtrain[:,:-1]))\n",
    "print('max trn =', np.max(xtrain[:,:-1]))"
   ]
  },
  {
   "cell_type": "markdown",
   "metadata": {},
   "source": [
    "<h3><center><div style=\"direction:rtl;font-family:B Nazanin\">Test Windows</div></center></h1>"
   ]
  },
  {
   "cell_type": "code",
   "execution_count": 11,
   "metadata": {},
   "outputs": [],
   "source": [
    "wndws_test=np.empty((0,len(wndws1[0])), float)\n",
    "i=0\n",
    "windws=np.array([])\n",
    "for cls in range (1,3):                                 #ساخت پنجره های داده های آموزش اصلی\n",
    "    vars()['wndws_tst'+str(cls)]=np.empty((0,len(wndws1[0])), float)\n",
    "    vars()['wndws_tst'+str(cls)]=np.append(vars()['wndws_tst'+str(cls)],vars()['ecg_tst'+str(cls)],axis=0)   "
   ]
  },
  {
   "cell_type": "code",
   "execution_count": 12,
   "metadata": {},
   "outputs": [
    {
     "name": "stdout",
     "output_type": "stream",
     "text": [
      "\n",
      " cls 1  >> \n",
      "max magnitude class 1  =  4.159687838862726\n",
      "min magnitude class 1  =  -3.0608885355224738\n",
      "after normalizing >>\n",
      "max magnitude class 1  =  0.11628027088806303\n",
      "min magnitude class 1  =  -0.2686373712504675\n",
      "\n",
      " cls 2  >> \n",
      "max magnitude class 2  =  4.1476\n",
      "min magnitude class 2  =  -2.9588110682839144\n",
      "after normalizing >>\n",
      "max magnitude class 2  =  0.1156358870892713\n",
      "min magnitude class 2  =  -0.263195780999539\n",
      "each class and its windows =\n",
      "1 36\t2 64\t\n",
      " max instance in classes of test windows = 64\n"
     ]
    }
   ],
   "source": [
    "#print(np.max(wndws_tst))\n",
    "for i in range (1,3):                # Normalization test windows\n",
    "    cls=i\n",
    "    print('\\n cls', i, ' >> ')\n",
    "    print('max magnitude class', i , ' = ' ,np.max(vars()['wndws_tst'+str(cls)][:,:-1]))\n",
    "    print('min magnitude class', i , ' = ' ,np.min(vars()['wndws_tst'+str(cls)][:,:-1]))\n",
    "\n",
    "    vars()['wndws_tst'+str(i)][:,:-1]= 2*(vars()['wndws_tst'+str(i)][:,:-1]-mn_aug)/(mx_aug - mn_aug) - 1\n",
    "    \n",
    "    print('after normalizing >>')\n",
    "    print('max magnitude class', i , ' = ' ,np.max(vars()['wndws_tst'+str(cls)][:,:-1]))\n",
    "    print('min magnitude class', i , ' = ' ,np.min(vars()['wndws_tst'+str(cls)][:,:-1]))\n",
    "    \n",
    "print(\"each class and its windows =\")                    #تجمیع کلاس های تست\n",
    "cls_wndws=np.array([])\n",
    "for cls in range (1,3):                                # آرایه ی تعداد پنجره ی هر کلاس\n",
    "    wns=len(vars()['wndws_tst'+str(cls)])\n",
    "    cls_wndws=np.append(cls_wndws,wns)\n",
    "    print(cls, wns, end='\\t')\n",
    "    wndws_test=np.append(wndws_test,vars()['wndws_tst'+str(cls)],axis=0)\n",
    "    \n",
    "mx_wndws=int(np.max(cls_wndws))                        # حداکثر تعداد پنجره ی موجود بین کلاس ها\n",
    "print('\\n max instance in classes of test windows =', mx_wndws)"
   ]
  },
  {
   "cell_type": "code",
   "execution_count": 13,
   "metadata": {},
   "outputs": [
    {
     "name": "stdout",
     "output_type": "stream",
     "text": [
      "min tst = -0.2686373712504675\n",
      "max tst = 0.11628027088806303\n"
     ]
    }
   ],
   "source": [
    "print('min tst =', np.min(wndws_test[:,:-1]))\n",
    "print('max tst =', np.max(wndws_test[:,:-1]))"
   ]
  },
  {
   "cell_type": "code",
   "execution_count": 14,
   "metadata": {},
   "outputs": [
    {
     "data": {
      "text/plain": [
       "100"
      ]
     },
     "execution_count": 14,
     "metadata": {},
     "output_type": "execute_result"
    }
   ],
   "source": [
    "len(wndws_test)"
   ]
  },
  {
   "cell_type": "code",
   "execution_count": 15,
   "metadata": {},
   "outputs": [
    {
     "data": {
      "text/plain": [
       "(100, 481)"
      ]
     },
     "execution_count": 15,
     "metadata": {},
     "output_type": "execute_result"
    }
   ],
   "source": [
    "np.shape(wndws_test)"
   ]
  },
  {
   "cell_type": "code",
   "execution_count": 16,
   "metadata": {},
   "outputs": [],
   "source": [
    "Xtest=wndws_test[:,:-1]\n",
    "ytest=np.int16(wndws_test[:,-1])"
   ]
  },
  {
   "cell_type": "code",
   "execution_count": 17,
   "metadata": {},
   "outputs": [
    {
     "name": "stdout",
     "output_type": "stream",
     "text": [
      "array([1, 1, 1, 1, 1, 1, 1, 1, 1, 1, 1, 1, 1, 1, 1, 1, 1, 1, 1, 1, 1, 1,\n",
      "       1, 1, 1, 1, 1, 1, 1, 1, 1, 1, 1, 1, 1, 1, 2, 2, 2, 2, 2, 2, 2, 2,\n",
      "       2, 2, 2, 2, 2, 2, 2, 2, 2, 2, 2, 2, 2, 2, 2, 2, 2, 2, 2, 2, 2, 2,\n",
      "       2, 2, 2, 2, 2, 2, 2, 2, 2, 2, 2, 2, 2, 2, 2, 2, 2, 2, 2, 2, 2, 2,\n",
      "       2, 2, 2, 2, 2, 2, 2, 2, 2, 2, 2, 2], dtype=int16)\n"
     ]
    }
   ],
   "source": [
    "fullprint(ytest)"
   ]
  },
  {
   "cell_type": "markdown",
   "metadata": {},
   "source": [
    "<h3><center><div style=\"direction:rtl;font-family:B Nazanin\">Train Windows</div></center></h1>"
   ]
  },
  {
   "cell_type": "code",
   "execution_count": 18,
   "metadata": {},
   "outputs": [
    {
     "data": {
      "text/plain": [
       "'\\nytestt=np.int32(np.array([ytest]).T)\\ntestx=np.concatenate((Xtest, ytestt), axis=1)\\ntestx=np.random.permutation(testx)\\nXtest=np.int32(testx[:,:-1])\\nytest=np.int32(testx[:,-1])'"
      ]
     },
     "execution_count": 18,
     "metadata": {},
     "output_type": "execute_result"
    }
   ],
   "source": [
    "#ytraint=np.int32(np.array([ytrain]).T)\n",
    "#trainx=np.concatenate((Xtrain, ytraint), axis=1)\n",
    "trainx=np.random.permutation(xtrain)\n",
    "Xtrain=np.array(trainx[:,:-1])\n",
    "ytrain=np.int16(trainx[:,-1])\n",
    "'''\n",
    "ytestt=np.int32(np.array([ytest]).T)\n",
    "testx=np.concatenate((Xtest, ytestt), axis=1)\n",
    "testx=np.random.permutation(testx)\n",
    "Xtest=np.int32(testx[:,:-1])\n",
    "ytest=np.int32(testx[:,-1])'''"
   ]
  },
  {
   "cell_type": "code",
   "execution_count": 19,
   "metadata": {},
   "outputs": [
    {
     "data": {
      "text/plain": [
       "(31, 481)"
      ]
     },
     "execution_count": 19,
     "metadata": {},
     "output_type": "execute_result"
    }
   ],
   "source": [
    "np.shape(wndws1)"
   ]
  },
  {
   "cell_type": "markdown",
   "metadata": {},
   "source": [
    "<h3><center><div style=\"direction:rtl;font-family:B Nazanin\">Validation Windows</div></center></h1>"
   ]
  },
  {
   "cell_type": "code",
   "execution_count": 20,
   "metadata": {},
   "outputs": [],
   "source": [
    "Xvalid=np.array(Xtest)\n",
    "yvalid=np.array(ytest)"
   ]
  },
  {
   "cell_type": "markdown",
   "metadata": {},
   "source": [
    "<h1><center><div style=\"direction:rtl;font-family:B Nazanin\">CNN And UnBalanced RAW Data</div></center></h1>\n",
    "<h1><center><div style=\"direction:rtl;font-family:Arial\">Cross Entropy Loss Function</div></center></h1>"
   ]
  },
  {
   "cell_type": "code",
   "execution_count": 21,
   "metadata": {
    "scrolled": true
   },
   "outputs": [
    {
     "name": "stdout",
     "output_type": "stream",
     "text": [
      "X_train =>  (275, 480)\n",
      "y_train =>  (275,)\n",
      "X_test  =>  (100, 480)\n",
      "y_test  =>  (100,)\n",
      "X_valid  =>  (100, 480)\n",
      "y_valid  =>  (100,)\n"
     ]
    }
   ],
   "source": [
    "X_train=np.array(Xtrain)\n",
    "y_train=np.array(ytrain)\n",
    "X_test=np.array(Xtest)\n",
    "y_test=np.array(ytest)\n",
    "X_valid=np.array(Xtest)\n",
    "y_valid=np.array(ytest)\n",
    "print('X_train => ', X_train.shape)\n",
    "print('y_train => ', y_train.shape)\n",
    "print('X_test  => ', X_test.shape)\n",
    "print('y_test  => ', y_test.shape)\n",
    "print('X_valid  => ', X_valid.shape)\n",
    "print('y_valid  => ', y_valid.shape)"
   ]
  },
  {
   "cell_type": "code",
   "execution_count": 22,
   "metadata": {},
   "outputs": [
    {
     "data": {
      "text/plain": [
       "1"
      ]
     },
     "execution_count": 22,
     "metadata": {},
     "output_type": "execute_result"
    }
   ],
   "source": [
    "y_train=np.array(ytrain)\n",
    "np.min(y_train)"
   ]
  },
  {
   "cell_type": "code",
   "execution_count": 23,
   "metadata": {},
   "outputs": [],
   "source": [
    "y_train_cat=to_categorical(y_train)\n",
    "y_valid_cat=to_categorical(y_valid)\n",
    "y_test_cat=to_categorical(y_test)\n",
    "\n",
    "\n",
    "X_train = np.expand_dims(X_train, axis=2)\n",
    "X_valid = np.expand_dims(X_valid, axis=2)\n",
    "X_test = np.expand_dims(X_test, axis=2)\n",
    "#y_train=np.transpose([y_train])"
   ]
  },
  {
   "cell_type": "code",
   "execution_count": 24,
   "metadata": {
    "scrolled": true
   },
   "outputs": [
    {
     "name": "stdout",
     "output_type": "stream",
     "text": [
      "Epoch 1/1000\n",
      "55/55 [==============================] - 3s 12ms/step - loss: 0.6016 - accuracy: 0.6691 - val_loss: 0.6902 - val_accuracy: 0.6100\n",
      "Epoch 2/1000\n",
      "55/55 [==============================] - 1s 9ms/step - loss: 0.3974 - accuracy: 0.8255 - val_loss: 0.5742 - val_accuracy: 0.6900\n",
      "Epoch 3/1000\n",
      "55/55 [==============================] - 0s 9ms/step - loss: 0.3308 - accuracy: 0.8218 - val_loss: 0.8087 - val_accuracy: 0.5900\n",
      "Epoch 4/1000\n",
      "55/55 [==============================] - 1s 9ms/step - loss: 0.2762 - accuracy: 0.8764 - val_loss: 0.4560 - val_accuracy: 0.7800\n",
      "Epoch 5/1000\n",
      "55/55 [==============================] - 1s 9ms/step - loss: 0.2604 - accuracy: 0.8727 - val_loss: 0.7572 - val_accuracy: 0.6300\n",
      "Epoch 6/1000\n",
      "55/55 [==============================] - 1s 9ms/step - loss: 0.2099 - accuracy: 0.9055 - val_loss: 0.4891 - val_accuracy: 0.7700\n",
      "Epoch 7/1000\n",
      "55/55 [==============================] - 1s 9ms/step - loss: 0.2248 - accuracy: 0.9055 - val_loss: 0.4296 - val_accuracy: 0.8200\n",
      "Epoch 8/1000\n",
      "55/55 [==============================] - 0s 9ms/step - loss: 0.2215 - accuracy: 0.9055 - val_loss: 0.4306 - val_accuracy: 0.8100\n",
      "Epoch 9/1000\n",
      "55/55 [==============================] - 1s 9ms/step - loss: 0.1736 - accuracy: 0.9273 - val_loss: 0.4097 - val_accuracy: 0.8300\n",
      "Epoch 10/1000\n",
      "55/55 [==============================] - 1s 9ms/step - loss: 0.1754 - accuracy: 0.9309 - val_loss: 0.6059 - val_accuracy: 0.8000\n",
      "Epoch 11/1000\n",
      "55/55 [==============================] - 1s 10ms/step - loss: 0.1794 - accuracy: 0.9273 - val_loss: 0.4513 - val_accuracy: 0.8400\n",
      "Epoch 12/1000\n",
      "55/55 [==============================] - 0s 9ms/step - loss: 0.1690 - accuracy: 0.9309 - val_loss: 0.4303 - val_accuracy: 0.8400\n",
      "Epoch 13/1000\n",
      "55/55 [==============================] - 0s 9ms/step - loss: 0.1499 - accuracy: 0.9309 - val_loss: 0.5571 - val_accuracy: 0.8400\n",
      "Epoch 14/1000\n",
      "55/55 [==============================] - 0s 9ms/step - loss: 0.1638 - accuracy: 0.9345 - val_loss: 0.4295 - val_accuracy: 0.8200\n",
      "Epoch 15/1000\n",
      "55/55 [==============================] - 1s 9ms/step - loss: 0.1319 - accuracy: 0.9455 - val_loss: 0.3796 - val_accuracy: 0.8300\n",
      "Epoch 16/1000\n",
      "55/55 [==============================] - 0s 9ms/step - loss: 0.1305 - accuracy: 0.9309 - val_loss: 1.5936 - val_accuracy: 0.7800\n",
      "Epoch 17/1000\n",
      "55/55 [==============================] - 1s 10ms/step - loss: 0.1269 - accuracy: 0.9455 - val_loss: 0.3859 - val_accuracy: 0.8900\n",
      "Epoch 18/1000\n",
      "55/55 [==============================] - 0s 9ms/step - loss: 0.1137 - accuracy: 0.9418 - val_loss: 0.4252 - val_accuracy: 0.8800\n",
      "Epoch 19/1000\n",
      "55/55 [==============================] - 0s 9ms/step - loss: 0.1022 - accuracy: 0.9564 - val_loss: 0.6593 - val_accuracy: 0.8200\n",
      "Epoch 20/1000\n",
      "55/55 [==============================] - 0s 9ms/step - loss: 0.1185 - accuracy: 0.9491 - val_loss: 0.5115 - val_accuracy: 0.8500\n",
      "Epoch 21/1000\n",
      "55/55 [==============================] - 0s 9ms/step - loss: 0.1364 - accuracy: 0.9527 - val_loss: 0.5381 - val_accuracy: 0.8500\n",
      "Epoch 22/1000\n",
      "55/55 [==============================] - 0s 9ms/step - loss: 0.0994 - accuracy: 0.9527 - val_loss: 0.6861 - val_accuracy: 0.8600\n",
      "Epoch 23/1000\n",
      "55/55 [==============================] - 0s 9ms/step - loss: 0.1270 - accuracy: 0.9745 - val_loss: 0.3595 - val_accuracy: 0.8700\n",
      "Epoch 24/1000\n",
      "55/55 [==============================] - 0s 9ms/step - loss: 0.1407 - accuracy: 0.9600 - val_loss: 0.5146 - val_accuracy: 0.8700\n",
      "Epoch 25/1000\n",
      "55/55 [==============================] - 0s 9ms/step - loss: 0.0726 - accuracy: 0.9673 - val_loss: 0.7191 - val_accuracy: 0.8700\n",
      "Epoch 26/1000\n",
      "55/55 [==============================] - 0s 9ms/step - loss: 0.0987 - accuracy: 0.9745 - val_loss: 0.6560 - val_accuracy: 0.8600\n",
      "Epoch 27/1000\n",
      "55/55 [==============================] - 0s 9ms/step - loss: 0.0994 - accuracy: 0.9636 - val_loss: 0.4367 - val_accuracy: 0.8700\n",
      "Epoch 28/1000\n",
      "55/55 [==============================] - 0s 9ms/step - loss: 0.1138 - accuracy: 0.9745 - val_loss: 0.4307 - val_accuracy: 0.9000\n",
      "Epoch 29/1000\n",
      "55/55 [==============================] - 0s 9ms/step - loss: 0.0760 - accuracy: 0.9709 - val_loss: 0.5428 - val_accuracy: 0.8600\n",
      "Epoch 30/1000\n",
      "55/55 [==============================] - 1s 9ms/step - loss: 0.0803 - accuracy: 0.9782 - val_loss: 0.5088 - val_accuracy: 0.8800\n",
      "Epoch 31/1000\n",
      "55/55 [==============================] - 1s 9ms/step - loss: 0.0574 - accuracy: 0.9782 - val_loss: 0.6175 - val_accuracy: 0.9100\n",
      "Epoch 32/1000\n",
      "55/55 [==============================] - 0s 9ms/step - loss: 0.0861 - accuracy: 0.9636 - val_loss: 0.6597 - val_accuracy: 0.9000\n",
      "Epoch 33/1000\n",
      "55/55 [==============================] - 0s 9ms/step - loss: 0.0443 - accuracy: 0.9855 - val_loss: 1.1097 - val_accuracy: 0.8600\n",
      "Epoch 34/1000\n",
      "55/55 [==============================] - 0s 9ms/step - loss: 0.0983 - accuracy: 0.9782 - val_loss: 0.9891 - val_accuracy: 0.8600\n",
      "Epoch 35/1000\n",
      "55/55 [==============================] - 0s 9ms/step - loss: 0.0739 - accuracy: 0.9782 - val_loss: 0.5640 - val_accuracy: 0.8600\n",
      "Epoch 36/1000\n",
      "55/55 [==============================] - 0s 9ms/step - loss: 0.0635 - accuracy: 0.9709 - val_loss: 0.5258 - val_accuracy: 0.8900\n",
      "Epoch 37/1000\n",
      "55/55 [==============================] - 1s 9ms/step - loss: 0.0529 - accuracy: 0.9855 - val_loss: 1.1959 - val_accuracy: 0.8600\n",
      "Epoch 38/1000\n",
      "55/55 [==============================] - 1s 9ms/step - loss: 0.1112 - accuracy: 0.9745 - val_loss: 0.5565 - val_accuracy: 0.9000\n",
      "Epoch 39/1000\n",
      "55/55 [==============================] - 1s 11ms/step - loss: 0.0550 - accuracy: 0.9745 - val_loss: 0.9277 - val_accuracy: 0.8600\n",
      "Epoch 40/1000\n",
      "55/55 [==============================] - 2s 38ms/step - loss: 0.0882 - accuracy: 0.9709 - val_loss: 1.0199 - val_accuracy: 0.8600\n",
      "Epoch 41/1000\n",
      "55/55 [==============================] - 0s 9ms/step - loss: 0.2654 - accuracy: 0.9782 - val_loss: 0.5141 - val_accuracy: 0.9000\n",
      "Epoch 42/1000\n",
      "55/55 [==============================] - 0s 9ms/step - loss: 0.0222 - accuracy: 0.9927 - val_loss: 0.8478 - val_accuracy: 0.8700\n",
      "Epoch 43/1000\n",
      "55/55 [==============================] - 1s 9ms/step - loss: 0.0941 - accuracy: 0.9745 - val_loss: 0.5755 - val_accuracy: 0.9200\n",
      "Epoch 44/1000\n",
      "55/55 [==============================] - 0s 9ms/step - loss: 0.0711 - accuracy: 0.9818 - val_loss: 0.9908 - val_accuracy: 0.8800\n",
      "Epoch 45/1000\n",
      "55/55 [==============================] - 0s 9ms/step - loss: 0.0311 - accuracy: 0.9855 - val_loss: 1.4563 - val_accuracy: 0.8600\n",
      "Epoch 46/1000\n",
      "55/55 [==============================] - 0s 9ms/step - loss: 0.0509 - accuracy: 0.9818 - val_loss: 0.8323 - val_accuracy: 0.8900\n",
      "Epoch 47/1000\n",
      "55/55 [==============================] - 0s 9ms/step - loss: 0.0584 - accuracy: 0.9782 - val_loss: 0.9719 - val_accuracy: 0.8700\n",
      "Epoch 48/1000\n",
      "55/55 [==============================] - 0s 9ms/step - loss: 0.0456 - accuracy: 0.9745 - val_loss: 0.7380 - val_accuracy: 0.8900\n",
      "Epoch 49/1000\n",
      "55/55 [==============================] - 0s 9ms/step - loss: 0.0535 - accuracy: 0.9745 - val_loss: 1.2338 - val_accuracy: 0.8700\n",
      "Epoch 50/1000\n",
      "55/55 [==============================] - 0s 9ms/step - loss: 0.0437 - accuracy: 0.9818 - val_loss: 0.6834 - val_accuracy: 0.8900\n",
      "Epoch 51/1000\n",
      "55/55 [==============================] - 0s 9ms/step - loss: 0.0531 - accuracy: 0.9891 - val_loss: 1.0726 - val_accuracy: 0.9000\n",
      "Epoch 52/1000\n",
      "55/55 [==============================] - 0s 9ms/step - loss: 0.0735 - accuracy: 0.9600 - val_loss: 0.9061 - val_accuracy: 0.8700\n",
      "Epoch 53/1000\n",
      "55/55 [==============================] - 0s 9ms/step - loss: 0.0282 - accuracy: 0.9855 - val_loss: 0.9272 - val_accuracy: 0.8600\n",
      "Epoch 54/1000\n",
      "55/55 [==============================] - 0s 9ms/step - loss: 0.0912 - accuracy: 0.9709 - val_loss: 0.9722 - val_accuracy: 0.8700\n",
      "Epoch 55/1000\n",
      "55/55 [==============================] - 0s 9ms/step - loss: 0.0591 - accuracy: 0.9891 - val_loss: 0.9924 - val_accuracy: 0.8800\n",
      "Epoch 56/1000\n",
      "55/55 [==============================] - 0s 9ms/step - loss: 0.0499 - accuracy: 0.9891 - val_loss: 0.8942 - val_accuracy: 0.8600\n",
      "Epoch 57/1000\n",
      "55/55 [==============================] - 0s 9ms/step - loss: 0.1566 - accuracy: 0.9855 - val_loss: 0.9050 - val_accuracy: 0.9000\n",
      "Epoch 58/1000\n"
     ]
    },
    {
     "name": "stdout",
     "output_type": "stream",
     "text": [
      "55/55 [==============================] - 1s 9ms/step - loss: 0.0493 - accuracy: 0.9855 - val_loss: 1.0341 - val_accuracy: 0.9000\n",
      "Epoch 59/1000\n",
      "55/55 [==============================] - 1s 9ms/step - loss: 0.0020 - accuracy: 1.0000 - val_loss: 1.6178 - val_accuracy: 0.8600\n",
      "Epoch 60/1000\n",
      "55/55 [==============================] - 0s 9ms/step - loss: 0.0505 - accuracy: 0.9891 - val_loss: 1.3055 - val_accuracy: 0.8900\n",
      "Epoch 61/1000\n",
      "55/55 [==============================] - 1s 9ms/step - loss: 0.0479 - accuracy: 0.9855 - val_loss: 0.6285 - val_accuracy: 0.9100\n",
      "Epoch 62/1000\n",
      "55/55 [==============================] - 1s 9ms/step - loss: 0.0563 - accuracy: 0.9818 - val_loss: 1.7638 - val_accuracy: 0.8800\n",
      "Epoch 63/1000\n",
      "55/55 [==============================] - 1s 9ms/step - loss: 0.0384 - accuracy: 0.9782 - val_loss: 2.0784 - val_accuracy: 0.8600\n",
      "20/20 [==============================] - 0s 3ms/step - loss: 0.5755 - accuracy: 0.9200\n",
      "np.shape(X_test)= (100, 480, 1)\n",
      "Model: \"sequential\"\n",
      "_________________________________________________________________\n",
      " Layer (type)                Output Shape              Param #   \n",
      "=================================================================\n",
      " conv1d (Conv1D)             (None, 478, 32)           128       \n",
      "                                                                 \n",
      " conv1d_1 (Conv1D)           (None, 476, 64)           6208      \n",
      "                                                                 \n",
      " max_pooling1d (MaxPooling1D  (None, 158, 64)          0         \n",
      " )                                                               \n",
      "                                                                 \n",
      " conv1d_2 (Conv1D)           (None, 156, 128)          24704     \n",
      "                                                                 \n",
      " max_pooling1d_1 (MaxPooling  (None, 52, 128)          0         \n",
      " 1D)                                                             \n",
      "                                                                 \n",
      " conv1d_3 (Conv1D)           (None, 50, 128)           49280     \n",
      "                                                                 \n",
      " max_pooling1d_2 (MaxPooling  (None, 16, 128)          0         \n",
      " 1D)                                                             \n",
      "                                                                 \n",
      " conv1d_4 (Conv1D)           (None, 14, 256)           98560     \n",
      "                                                                 \n",
      " max_pooling1d_3 (MaxPooling  (None, 4, 256)           0         \n",
      " 1D)                                                             \n",
      "                                                                 \n",
      " flatten (Flatten)           (None, 1024)              0         \n",
      "                                                                 \n",
      " dense (Dense)               (None, 2000)              2050000   \n",
      "                                                                 \n",
      " dense_1 (Dense)             (None, 3)                 6003      \n",
      "                                                                 \n",
      "=================================================================\n",
      "Total params: 2,234,883\n",
      "Trainable params: 2,234,883\n",
      "Non-trainable params: 0\n",
      "_________________________________________________________________\n",
      "Accuracy=  0.9200000166893005\n"
     ]
    }
   ],
   "source": [
    "accuracy=0\n",
    "acc_crs=np.array([])\n",
    "##for i in range (10):\n",
    "##    if accuracy<0.2 :\n",
    "\n",
    "verbose, epochs, batch_size = 1, 1000, 5\n",
    "n_timesteps, n_features, n_outputs = X_train.shape[1], X_train.shape[2], y_train_cat.shape[1]\n",
    "steps_per_epoch = len(X_train)//batch_size\n",
    "validation_steps = len(X_valid)//batch_size # if you have test data\n",
    "\n",
    "model_crs = Sequential()\n",
    "BatchNormalization()\n",
    "model_crs.add(Conv1D(filters=32, kernel_size=3, activation='relu', input_shape=(n_timesteps,n_features)))\n",
    "#model_crs.add(MaxPooling1D(pool_size=3))\n",
    "BatchNormalization()\n",
    "model_crs.add(Conv1D(filters=64, kernel_size=3, activation='relu'))\n",
    "#model_crs.add(Dropout(0.5))\n",
    "model_crs.add(MaxPooling1D(pool_size=3))\n",
    "BatchNormalization()\n",
    "model_crs.add(Conv1D(filters=128, kernel_size=3, activation='relu'))\n",
    "model_crs.add(MaxPooling1D(pool_size=3))\n",
    "BatchNormalization()\n",
    "model_crs.add(Conv1D(filters=128, kernel_size=3, activation='relu'))\n",
    "model_crs.add(MaxPooling1D(pool_size=3))\n",
    "BatchNormalization()\n",
    "model_crs.add(Conv1D(filters=256, kernel_size=3, activation='relu'))\n",
    "model_crs.add(MaxPooling1D(pool_size=3))\n",
    "'''model_crs.add(Conv1D(filters=512, kernel_size=3, activation='relu'))\n",
    "model_crs.add(MaxPooling1D(pool_size=3))\n",
    "model_crs.add(Conv1D(filters=1024, kernel_size=3, activation='relu'))\n",
    "model_crs.add(MaxPooling1D(pool_size=3))\n",
    "'''\n",
    "model_crs.add(Flatten())\n",
    "#model_crs.add(Dropout(0.5))\n",
    "model_crs.add(Dense(2000, activation='relu'))\n",
    "model_crs.add(Dense(n_outputs, activation='softmax'))\n",
    "model_crs.compile(optimizer='rmsprop', loss='categorical_crossentropy', metrics=['accuracy'])\n",
    "# fit network   #CategoricalCrossentropy #sparse_categorical_crossentropy #SparseCategoricalCrossentropy\n",
    "\n",
    "earlystopping = callbacks.EarlyStopping(monitor =\"val_accuracy\", mode =\"max\", patience = 20, restore_best_weights = True)\n",
    "\n",
    "model_crs.fit(X_train, y_train_cat, epochs=epochs, batch_size=batch_size, verbose=verbose, validation_data = (X_valid, y_valid_cat), callbacks =[earlystopping])\n",
    "# evaluate model_crs\n",
    "_, accuracy = model_crs.evaluate(X_valid, y_valid_cat, batch_size=batch_size, verbose=1)\n",
    "\n",
    "print('np.shape(X_test)=',np.shape(X_test))\n",
    "\n",
    "\n",
    "model_crs.summary()\n",
    "print('Accuracy= ', accuracy)\n",
    "\n",
    "#output = K.function([model_crs.layers[0].input],[model_crs.layers[3].output])\n",
    "#output(X_test)[0]\n",
    "#y_pred= model_crs.predict(X_test)                # Function 1\n",
    "\n",
    "##    print('Round ', i, '==>', 'accuracy = ', accuracy)\n",
    "##    acc_crs=np.append(acc_crs,accuracy)\n",
    "#y_pred_crs = model_crs.predict_classes(X_test)   # Function 2"
   ]
  },
  {
   "cell_type": "code",
   "execution_count": 25,
   "metadata": {},
   "outputs": [],
   "source": [
    "def maxindx(ar):\n",
    "    ar_cpy=np.array(ar)\n",
    "    pred=np.argmax(ar,axis=1)\n",
    "    for i in range (len(pred)):\n",
    "        if pred[i]==0:\n",
    "            ar_cpy[i,0]=-1000\n",
    "    pred=np.argmax(ar_cpy,axis=1)\n",
    "    return(pred)"
   ]
  },
  {
   "cell_type": "code",
   "execution_count": 26,
   "metadata": {},
   "outputs": [
    {
     "name": "stdout",
     "output_type": "stream",
     "text": [
      "4/4 [==============================] - 0s 19ms/step\n",
      "[[32  4]\n",
      " [ 4 60]]\n",
      "              precision    recall  f1-score   support\n",
      "\n",
      "           1       0.89      0.89      0.89        36\n",
      "           2       0.94      0.94      0.94        64\n",
      "\n",
      "    accuracy                           0.92       100\n",
      "   macro avg       0.91      0.91      0.91       100\n",
      "weighted avg       0.92      0.92      0.92       100\n",
      "\n"
     ]
    }
   ],
   "source": [
    "predict_x=model_crs.predict(X_test)              # Function 1\n",
    "\n",
    "y_pred_crs=maxindx(predict_x)                    # function from augment.py to remove 0 index predictions\n",
    "\n",
    "#y_pred_crs = model_crs.predict_classes(X_test)\n",
    "\n",
    "cm = confusion_matrix(y_test, y_pred_crs)\n",
    "print(cm)\n",
    "acc3=accuracy_score(y_test, y_pred_crs)\n",
    "\n",
    "print(classification_report(y_test, y_pred_crs))\n",
    "\n",
    "#sns.heatmap(cm, annot=True)\n",
    "\n",
    "#plt.imshow(cm)"
   ]
  },
  {
   "cell_type": "raw",
   "metadata": {},
   "source": [
    "y_pred_crs = model_crs.predict_classes(X_test)     # Function 2\n",
    "\n",
    "\n",
    "cm = confusion_matrix(y_test, y_pred_crs)\n",
    "print(cm)\n",
    "acc3=accuracy_score(y_test, y_pred_crs)\n",
    "\n",
    "print(classification_report(y_test, y_pred_crs))\n",
    "\n",
    "#sns.heatmap(cm, annot=True)\n",
    "\n",
    "#plt.imshow(cm)"
   ]
  },
  {
   "cell_type": "code",
   "execution_count": 27,
   "metadata": {
    "scrolled": true
   },
   "outputs": [
    {
     "name": "stdout",
     "output_type": "stream",
     "text": [
      "[139 136]\n"
     ]
    }
   ],
   "source": [
    "print(np.bincount(y_train)[1:])"
   ]
  },
  {
   "cell_type": "raw",
   "metadata": {},
   "source": [
    "#model_crs=load_model('CNN1_crs_UnBlnc_8020_fld1_5550.h5')   # Save CNN Network For thereafter Predictions\n",
    "#model_crs=load_model('CNN1_crs_UnBlnc_9395%.h5')\n",
    "\n",
    "model_crs.save('CNN1_Scl_crs_0000.h5') "
   ]
  }
 ],
 "metadata": {
  "celltoolbar": "Raw Cell Format",
  "kernelspec": {
   "display_name": "Python 3 (ipykernel)",
   "language": "python",
   "name": "python3"
  },
  "language_info": {
   "codemirror_mode": {
    "name": "ipython",
    "version": 3
   },
   "file_extension": ".py",
   "mimetype": "text/x-python",
   "name": "python",
   "nbconvert_exporter": "python",
   "pygments_lexer": "ipython3",
   "version": "3.9.7"
  }
 },
 "nbformat": 4,
 "nbformat_minor": 4
}
