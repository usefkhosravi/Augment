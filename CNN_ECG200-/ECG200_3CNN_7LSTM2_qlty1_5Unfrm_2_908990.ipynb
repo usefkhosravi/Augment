{
 "cells": [
  {
   "cell_type": "markdown",
   "metadata": {},
   "source": [
    "import time\n",
    "plc=1\n",
    "time.sleep(1500*plc)         #run after 1 houre = 3600 seconds"
   ]
  },
  {
   "cell_type": "code",
   "execution_count": 1,
   "metadata": {},
   "outputs": [
    {
     "data": {
      "text/html": [
       "<style>#notebook { padding-top:0px !important; } .container { width:100% !important; } .end_space { min-height:0px !important; } html, body, .container{ margin:0!important;padding:0!important;}</style>"
      ],
      "text/plain": [
       "<IPython.core.display.HTML object>"
      ]
     },
     "metadata": {},
     "output_type": "display_data"
    }
   ],
   "source": [
    "import os\n",
    "import glob\n",
    "import scipy\n",
    "import random\n",
    "import bisect\n",
    "import numpy as np\n",
    "import pandas as pd\n",
    "import seaborn as sns\n",
    "from scipy import signal\n",
    "from scipy.signal import find_peaks\n",
    "import matplotlib.pyplot as plt\n",
    "from preprocess import *                         #ماژول استخراج پنجره ها\n",
    "from data import *                          #ماژول محلی ورود داده ها\n",
    "from augment import *                            #ماژول های داده افزایی\n",
    "from lstm_cnn import *                           #ماژول های داده افزایی با lstm_cnn\n",
    "import augment\n",
    "import importlib\n",
    "importlib.reload(augment)\n",
    "import tensorflow as tf\n",
    "from tensorflow import keras\n",
    "from tensorflow.keras.layers import BatchNormalization\n",
    "from sklearn.model_selection import train_test_split\n",
    "from sklearn.neural_network import MLPClassifier\n",
    "from sklearn.datasets import make_classification\n",
    "from sklearn.metrics import confusion_matrix, accuracy_score, classification_report,recall_score,precision_score\n",
    "from tensorflow.keras import callbacks\n",
    "from tensorflow.keras import layers\n",
    "from tensorflow.keras.models import Sequential\n",
    "from tensorflow.keras.layers import Convolution2D,Conv1D,Dropout,MaxPooling1D,MaxPooling2D,Flatten,Dense\n",
    "from tensorflow.keras import backend as K\n",
    "from tensorflow.keras.utils import to_categorical\n",
    "from tensorflow.keras.models import load_model\n",
    "cwd = os.getcwd() #\n",
    "fullscrn()"
   ]
  },
  {
   "cell_type": "markdown",
   "metadata": {},
   "source": [
    "<h1><center><div style=\"direction:rtl;font-family:B Nazanin\">Importing Data</div></center></h1>"
   ]
  },
  {
   "cell_type": "code",
   "execution_count": 2,
   "metadata": {
    "scrolled": true
   },
   "outputs": [
    {
     "name": "stdout",
     "output_type": "stream",
     "text": [
      "1 31\t2 69\tshape ecg= (100, 481)\n"
     ]
    }
   ],
   "source": [
    "for i in range (1,3):\n",
    "    vars()['ecg'+str(i)],vars()['ecg_tst'+str(i)]=Ecg200(i)\n",
    "os.chdir(cwd)\n",
    "clses_lens=np.array([])\n",
    "i=0                               #جمع آوری داده ها و چاپ تعداد نمونه ی هر کلاس\n",
    "ecg=np.array(ecg1)\n",
    "print(1,len(vars()['ecg'+str(1)]), end='\\t')\n",
    "clses_lens=np.append(clses_lens,len(vars()['ecg'+str(1)]))\n",
    "for i in range (2,3):\n",
    "    ecg=np.concatenate((ecg,vars()['ecg'+str(i)]),axis=0)\n",
    "    clses_lens=np.append(clses_lens,len(vars()['ecg'+str(i)]))\n",
    "    print( i,len(vars()['ecg'+str(i)]), end='\\t')\n",
    "\n",
    "mx_sig=max(clses_lens)\n",
    "print('shape ecg=',np.shape(ecg))"
   ]
  },
  {
   "cell_type": "markdown",
   "metadata": {},
   "source": [
    "<h2><center><div style=\"direction:rtl;font-family:B Nazanin\">Base Train windows</div></center></h1>"
   ]
  },
  {
   "cell_type": "code",
   "execution_count": 3,
   "metadata": {},
   "outputs": [
    {
     "name": "stdout",
     "output_type": "stream",
     "text": [
      "each class and its windows =\n",
      "1 31\t2 69\t\n",
      " max = 69\n"
     ]
    }
   ],
   "source": [
    "smpl_rte=480                                              # در ماژول ها نیز همین مقدار ثبت شده\n",
    "i=0\n",
    "windws=np.array([])\n",
    "\n",
    "for cls in range (1,3):                                 #ساخت پنجره های داده های آموزش اصلی\n",
    "    vars()['wndws'+str(cls)]=np.array(vars()['ecg'+str(cls)])  \n",
    "    \n",
    "print(\"each class and its windows =\")\n",
    "\n",
    "cls_wndws=np.array([])\n",
    "for cls in range (1,3):                                # آرایه ی تعداد پنجره ی هر کلاس\n",
    "    wns=len(vars()['wndws'+str(cls)])\n",
    "    cls_wndws=np.append(cls_wndws,wns)\n",
    "    print(cls, wns, end='\\t')\n",
    "\n",
    "mx_wndws=int(np.max(cls_wndws))                        # حداکثر تعداد پنجره ی موجود بین کلاس ها\n",
    "print('\\n max =', mx_wndws)"
   ]
  },
  {
   "cell_type": "code",
   "execution_count": 4,
   "metadata": {},
   "outputs": [
    {
     "name": "stdout",
     "output_type": "stream",
     "text": [
      "75\n"
     ]
    }
   ],
   "source": [
    "#clses=3                                   #تعیین میزان افزایش نمونه (تولید داده)\n",
    "mx_wndws=int(mx_wndws+6)  #mx_wndws*0.3  # =classes-1 برای بررسی الگوریتم تعداد کمی کلاس آزمایش شد\n",
    "print(mx_wndws)"
   ]
  },
  {
   "cell_type": "markdown",
   "metadata": {},
   "source": [
    "<h1><center><div style=\"direction:rtl;font-family:B Nazanin\">Data Augmentation</div></center></h1>"
   ]
  },
  {
   "cell_type": "code",
   "execution_count": 5,
   "metadata": {
    "scrolled": false
   },
   "outputs": [
    {
     "name": "stdout",
     "output_type": "stream",
     "text": [
      "vlum_win= 44\n",
      "final shape=  (44, 487)\n",
      "generated data shape for class  1  =  (44, 481)\n",
      "vlum_win= 6\n",
      "final shape=  (6, 487)\n",
      "generated data shape for class  2  =  (6, 481)\n"
     ]
    }
   ],
   "source": [
    "methd=71         #10=scle,20MgWrp,30=timWrp,40=GDO,50=frqnc,60=GAN,70=LSTMplusMgwrp,71LSTMplusTmwrp\n",
    "sort=-5          #-5=Dis_sam_Cls=qlty1   #-4=var_Dis=qlty2    #-3=DisSm/DisOthr=qlty3    #-2=invrs_GDO_papr=qlty4   #-1=GDO_papr=qlty5  \n",
    "invers=0         #1=inverse sorting base of \"sort\"             #inverse of qlity3=qlty6  else=0\n",
    "dp_slct_dstrb=1  #1-sequencial 2-linear 3-beta 4-exponential 5-unfrm\n",
    "\n",
    "for i in range (1,3):                           #تعریف آرایه ی پنجره های کلاس ها\n",
    "    vars()['ecg_aug'+str(i)+str(methd)]=np.empty((0,smpl_rte+1), float) \n",
    "for i in range (1,3):                                     #تعریف آرایه ی پنجره های کلاس ها\n",
    "    vlum_win=mx_wndws-len(vars()['wndws'+str(i)])         #میزان داده افزایی در روش های عمیق (پنجره)\n",
    "    print(\"vlum_win=\",vlum_win)\n",
    "    vars()['ecg_aug'+str(i)+str(methd)]=np.append(vars()['ecg_aug'+str(i)+str(methd)],srtd_data(methd,i,vlum_win,dp_slct_dstrb,sort),axis=0)\n",
    "    #print('aug shape=',np.shape(scl_rndm(ecg,i,vlum_win,mag=.1)))\n",
    "    print('generated data shape for class ', i, ' = ', np.shape(vars()['ecg_aug'+str(i)+str(methd)]))"
   ]
  },
  {
   "cell_type": "code",
   "execution_count": 6,
   "metadata": {},
   "outputs": [
    {
     "name": "stdout",
     "output_type": "stream",
     "text": [
      "final shape=  (6, 487)\n"
     ]
    },
    {
     "data": {
      "text/plain": [
       "array([[ 2.96623707,  3.23442221,  3.68637204, ...,  3.33728099,\n",
       "         3.2283051 ,  2.        ],\n",
       "       [ 3.27031612,  3.41982269,  3.80545354, ...,  3.7258215 ,\n",
       "         3.54402542,  2.        ],\n",
       "       [ 2.7070415 ,  3.03929043,  3.62035441, ...,  2.9924655 ,\n",
       "         2.85890555,  2.        ],\n",
       "       [ 3.48800325,  3.61423397,  3.97995496, ...,  3.91939902,\n",
       "         3.74638796,  2.        ],\n",
       "       [ 3.70264292,  3.84593081,  4.20735455, ...,  4.08704042,\n",
       "         3.95508027,  2.        ],\n",
       "       [-1.4331485 , -2.15138483, -2.39193296, ..., -0.01950577,\n",
       "        -1.00048482,  2.        ]])"
      ]
     },
     "execution_count": 6,
     "metadata": {},
     "output_type": "execute_result"
    }
   ],
   "source": [
    "srtd_data(methd,i,vlum_win,dp_slct_dstrb,sort)"
   ]
  },
  {
   "cell_type": "code",
   "execution_count": 7,
   "metadata": {},
   "outputs": [
    {
     "data": {
      "text/plain": [
       "6"
      ]
     },
     "execution_count": 7,
     "metadata": {},
     "output_type": "execute_result"
    }
   ],
   "source": [
    "vlum_win"
   ]
  },
  {
   "cell_type": "code",
   "execution_count": 8,
   "metadata": {},
   "outputs": [
    {
     "name": "stdout",
     "output_type": "stream",
     "text": [
      "Up to class  1 train shape =  (75, 481)\n",
      "Up to class  2 train shape =  (150, 481)\n"
     ]
    }
   ],
   "source": [
    "           #add augmented data to base data\n",
    "xtrain=np.empty((0,smpl_rte+1), float) \n",
    "for i in range (1,3):   \n",
    "    xtrain=np.append(xtrain,vars()['wndws'+str(i)],axis=0)\n",
    "    xtrain=np.append(xtrain,vars()['ecg_aug'+str(i)+str(methd)],axis=0)\n",
    "    print('Up to class ', i, 'train shape = ', np.shape(xtrain))"
   ]
  },
  {
   "cell_type": "code",
   "execution_count": 9,
   "metadata": {},
   "outputs": [
    {
     "name": "stdout",
     "output_type": "stream",
     "text": [
      "[ 0 75 75]\n"
     ]
    }
   ],
   "source": [
    "print(np.bincount(np.int16(xtrain[:,-1])))    #تعداد پنجره در هر کلاس از 0 تا 17"
   ]
  },
  {
   "cell_type": "code",
   "execution_count": 10,
   "metadata": {},
   "outputs": [],
   "source": [
    "mx_aug=np.max(xtrain[:,:-1])\n",
    "mx=np.max(ecg[:,:-1])\n",
    "mn_aug=np.min(xtrain[:,:-1])\n",
    "mn=np.min(ecg[:,:-1])\n",
    "\n",
    "#for i in range (1,3):             #نرمالسازی داده های افزایشی\n",
    "xtrain[:,:-1]= 2*(xtrain[:,:-1]-mn_aug)/(mx_aug - mn_aug) - 1"
   ]
  },
  {
   "cell_type": "code",
   "execution_count": 11,
   "metadata": {},
   "outputs": [
    {
     "name": "stdout",
     "output_type": "stream",
     "text": [
      "min trn = -1.0\n",
      "max trn = 1.0\n"
     ]
    }
   ],
   "source": [
    "print('min trn =', np.min(xtrain[:,:-1]))\n",
    "print('max trn =', np.max(xtrain[:,:-1]))"
   ]
  },
  {
   "cell_type": "raw",
   "metadata": {},
   "source": [
    "mxwn=np.array([])                               # Normalizing Base Train Windows\n",
    "wndws_base=np.empty((0,smpl_rte+1), float)\n",
    "for i in range (1,3):                          #جمع آوری کلاس ها جهت تعیین حداقل و حداکثر \n",
    "    wndws_base=np.append(wndws_base,vars()['wndws'+str(i)],axis=0)\n",
    "print('base train data wndws shape =', np.shape(wndws_base))\n",
    "mx=np.max(wndws_base[:,:-1])\n",
    "mn=np.min(wndws_base[:,:-1])\n",
    "xtrain=np.empty((0,smpl_rte+1), float)            \n",
    "for i in range (1,3):                          #انتقال به بعد از داده افزایی\n",
    "    vars()['wndws'+str(i)][:,:-1]= 2*(vars()['wndws'+str(i)][:,:-1]-mn)/(mx - mn) - 1\n",
    "    xtrain=np.append(xtrain,vars()['wndws'+str(i)],axis=0)"
   ]
  },
  {
   "cell_type": "raw",
   "metadata": {},
   "source": [
    "mx_aug=np.max(wndws_base[:,:-1])\n",
    "mn_aug=np.min(wndws_base[:,:-1])\n",
    "for i in range (1,3):             #نرمالسازی داده های افزایشی\n",
    "    vars()['ecg_aug'+str(i)][:,:-1]= 2*(vars()['ecg_aug'+str(i)][:,:-1]-mn_aug)/(mx_aug - mn_aug) - 1"
   ]
  },
  {
   "cell_type": "markdown",
   "metadata": {},
   "source": [
    "<h3><center><div style=\"direction:rtl;font-family:B Nazanin\">Test Windows</div></center></h1>"
   ]
  },
  {
   "cell_type": "code",
   "execution_count": 12,
   "metadata": {},
   "outputs": [],
   "source": [
    "wndws_test=np.empty((0,len(wndws1[0])), float)\n",
    "i=0\n",
    "windws=np.array([])\n",
    "for cls in range (1,3):                                 #ساخت پنجره های داده های آموزش اصلی\n",
    "    vars()['wndws_tst'+str(cls)]=np.empty((0,len(wndws1[0])), float)\n",
    "    vars()['wndws_tst'+str(cls)]=np.append(vars()['wndws_tst'+str(cls)],vars()['ecg_tst'+str(cls)],axis=0)   "
   ]
  },
  {
   "cell_type": "code",
   "execution_count": 13,
   "metadata": {},
   "outputs": [
    {
     "name": "stdout",
     "output_type": "stream",
     "text": [
      "\n",
      " cls 1  >> \n",
      "max magnitude class 1  =  4.159687838862726\n",
      "min magnitude class 1  =  -3.0608885355224738\n",
      "after normalizing >>\n",
      "max magnitude class 1  =  0.3848967318887122\n",
      "min magnitude class 1  =  -0.14203363664283564\n",
      "\n",
      " cls 2  >> \n",
      "max magnitude class 2  =  4.1476\n",
      "min magnitude class 2  =  -2.9588110682839144\n",
      "after normalizing >>\n",
      "max magnitude class 2  =  0.3840146071030399\n",
      "min magnitude class 2  =  -0.13458440895768964\n",
      "each class and its windows =\n",
      "1 36\t2 64\t\n",
      " max instance in classes of test windows = 64\n"
     ]
    }
   ],
   "source": [
    "#print(np.max(wndws_tst))\n",
    "for i in range (1,3):                # Normalization test windows\n",
    "    cls=i\n",
    "    print('\\n cls', i, ' >> ')\n",
    "    print('max magnitude class', i , ' = ' ,np.max(vars()['wndws_tst'+str(cls)][:,:-1]))\n",
    "    print('min magnitude class', i , ' = ' ,np.min(vars()['wndws_tst'+str(cls)][:,:-1]))\n",
    "\n",
    "    vars()['wndws_tst'+str(i)][:,:-1]= 2*(vars()['wndws_tst'+str(i)][:,:-1]-mn_aug)/(mx_aug - mn_aug) - 1\n",
    "    \n",
    "    print('after normalizing >>')\n",
    "    print('max magnitude class', i , ' = ' ,np.max(vars()['wndws_tst'+str(cls)][:,:-1]))\n",
    "    print('min magnitude class', i , ' = ' ,np.min(vars()['wndws_tst'+str(cls)][:,:-1]))\n",
    "    \n",
    "print(\"each class and its windows =\")                    #تجمیع کلاس های تست\n",
    "cls_wndws=np.array([])\n",
    "for cls in range (1,3):                                # آرایه ی تعداد پنجره ی هر کلاس\n",
    "    wns=len(vars()['wndws_tst'+str(cls)])\n",
    "    cls_wndws=np.append(cls_wndws,wns)\n",
    "    print(cls, wns, end='\\t')\n",
    "    wndws_test=np.append(wndws_test,vars()['wndws_tst'+str(cls)],axis=0)\n",
    "    \n",
    "mx_wndws=int(np.max(cls_wndws))                        # حداکثر تعداد پنجره ی موجود بین کلاس ها\n",
    "print('\\n max instance in classes of test windows =', mx_wndws)"
   ]
  },
  {
   "cell_type": "code",
   "execution_count": 14,
   "metadata": {},
   "outputs": [
    {
     "name": "stdout",
     "output_type": "stream",
     "text": [
      "min tst = -0.14203363664283564\n",
      "max tst = 0.3848967318887122\n"
     ]
    }
   ],
   "source": [
    "print('min tst =', np.min(wndws_test[:,:-1]))\n",
    "print('max tst =', np.max(wndws_test[:,:-1]))"
   ]
  },
  {
   "cell_type": "code",
   "execution_count": 15,
   "metadata": {},
   "outputs": [
    {
     "data": {
      "text/plain": [
       "100"
      ]
     },
     "execution_count": 15,
     "metadata": {},
     "output_type": "execute_result"
    }
   ],
   "source": [
    "len(wndws_test)"
   ]
  },
  {
   "cell_type": "code",
   "execution_count": 16,
   "metadata": {},
   "outputs": [
    {
     "data": {
      "text/plain": [
       "(100, 481)"
      ]
     },
     "execution_count": 16,
     "metadata": {},
     "output_type": "execute_result"
    }
   ],
   "source": [
    "np.shape(wndws_test)"
   ]
  },
  {
   "cell_type": "code",
   "execution_count": 17,
   "metadata": {},
   "outputs": [],
   "source": [
    "Xtest=wndws_test[:,:-1]\n",
    "ytest=np.int16(wndws_test[:,-1])"
   ]
  },
  {
   "cell_type": "code",
   "execution_count": 18,
   "metadata": {},
   "outputs": [
    {
     "name": "stdout",
     "output_type": "stream",
     "text": [
      "array([1, 1, 1, 1, 1, 1, 1, 1, 1, 1, 1, 1, 1, 1, 1, 1, 1, 1, 1, 1, 1, 1,\n",
      "       1, 1, 1, 1, 1, 1, 1, 1, 1, 1, 1, 1, 1, 1, 2, 2, 2, 2, 2, 2, 2, 2,\n",
      "       2, 2, 2, 2, 2, 2, 2, 2, 2, 2, 2, 2, 2, 2, 2, 2, 2, 2, 2, 2, 2, 2,\n",
      "       2, 2, 2, 2, 2, 2, 2, 2, 2, 2, 2, 2, 2, 2, 2, 2, 2, 2, 2, 2, 2, 2,\n",
      "       2, 2, 2, 2, 2, 2, 2, 2, 2, 2, 2, 2], dtype=int16)\n"
     ]
    }
   ],
   "source": [
    "fullprint(ytest)"
   ]
  },
  {
   "cell_type": "markdown",
   "metadata": {},
   "source": [
    "<h3><center><div style=\"direction:rtl;font-family:B Nazanin\">Train Windows</div></center></h1>"
   ]
  },
  {
   "cell_type": "code",
   "execution_count": 19,
   "metadata": {},
   "outputs": [
    {
     "data": {
      "text/plain": [
       "'\\nytestt=np.int32(np.array([ytest]).T)\\ntestx=np.concatenate((Xtest, ytestt), axis=1)\\ntestx=np.random.permutation(testx)\\nXtest=np.int32(testx[:,:-1])\\nytest=np.int32(testx[:,-1])'"
      ]
     },
     "execution_count": 19,
     "metadata": {},
     "output_type": "execute_result"
    }
   ],
   "source": [
    "#ytraint=np.int32(np.array([ytrain]).T)\n",
    "#trainx=np.concatenate((Xtrain, ytraint), axis=1)\n",
    "trainx=np.random.permutation(xtrain)\n",
    "Xtrain=np.array(trainx[:,:-1])\n",
    "ytrain=np.int16(trainx[:,-1])\n",
    "'''\n",
    "ytestt=np.int32(np.array([ytest]).T)\n",
    "testx=np.concatenate((Xtest, ytestt), axis=1)\n",
    "testx=np.random.permutation(testx)\n",
    "Xtest=np.int32(testx[:,:-1])\n",
    "ytest=np.int32(testx[:,-1])'''"
   ]
  },
  {
   "cell_type": "code",
   "execution_count": 20,
   "metadata": {},
   "outputs": [
    {
     "data": {
      "text/plain": [
       "(31, 481)"
      ]
     },
     "execution_count": 20,
     "metadata": {},
     "output_type": "execute_result"
    }
   ],
   "source": [
    "np.shape(wndws1)"
   ]
  },
  {
   "cell_type": "markdown",
   "metadata": {},
   "source": [
    "<h3><center><div style=\"direction:rtl;font-family:B Nazanin\">Validation Windows</div></center></h1>"
   ]
  },
  {
   "cell_type": "code",
   "execution_count": 21,
   "metadata": {},
   "outputs": [],
   "source": [
    "Xvalid=np.array(Xtest)\n",
    "yvalid=np.array(ytest)"
   ]
  },
  {
   "cell_type": "markdown",
   "metadata": {},
   "source": [
    "<h1><center><div style=\"direction:rtl;font-family:B Nazanin\">CNN And UnBalanced RAW Data</div></center></h1>\n",
    "<h1><center><div style=\"direction:rtl;font-family:Arial\">Cross Entropy Loss Function</div></center></h1>"
   ]
  },
  {
   "cell_type": "code",
   "execution_count": 22,
   "metadata": {
    "scrolled": true
   },
   "outputs": [
    {
     "name": "stdout",
     "output_type": "stream",
     "text": [
      "X_train =>  (150, 480)\n",
      "y_train =>  (150,)\n",
      "X_test  =>  (100, 480)\n",
      "y_test  =>  (100,)\n",
      "X_valid  =>  (100, 480)\n",
      "y_valid  =>  (100,)\n"
     ]
    }
   ],
   "source": [
    "X_train=np.array(Xtrain)\n",
    "y_train=np.array(ytrain)\n",
    "X_test=np.array(Xtest)\n",
    "y_test=np.array(ytest)\n",
    "X_valid=np.array(Xtest)\n",
    "y_valid=np.array(ytest)\n",
    "print('X_train => ', X_train.shape)\n",
    "print('y_train => ', y_train.shape)\n",
    "print('X_test  => ', X_test.shape)\n",
    "print('y_test  => ', y_test.shape)\n",
    "print('X_valid  => ', X_valid.shape)\n",
    "print('y_valid  => ', y_valid.shape)"
   ]
  },
  {
   "cell_type": "code",
   "execution_count": 23,
   "metadata": {},
   "outputs": [
    {
     "data": {
      "text/plain": [
       "1"
      ]
     },
     "execution_count": 23,
     "metadata": {},
     "output_type": "execute_result"
    }
   ],
   "source": [
    "y_train=np.array(ytrain)\n",
    "np.min(y_train)"
   ]
  },
  {
   "cell_type": "code",
   "execution_count": 24,
   "metadata": {},
   "outputs": [],
   "source": [
    "y_train_cat=to_categorical(y_train)\n",
    "y_valid_cat=to_categorical(y_valid)\n",
    "y_test_cat=to_categorical(y_test)\n",
    "\n",
    "\n",
    "X_train = np.expand_dims(X_train, axis=2)\n",
    "X_valid = np.expand_dims(X_valid, axis=2)\n",
    "X_test = np.expand_dims(X_test, axis=2)\n",
    "#y_train=np.transpose([y_train])"
   ]
  },
  {
   "cell_type": "code",
   "execution_count": 25,
   "metadata": {
    "scrolled": true
   },
   "outputs": [
    {
     "name": "stdout",
     "output_type": "stream",
     "text": [
      "Epoch 1/1000\n",
      "30/30 [==============================] - 9s 15ms/step - loss: 0.7081 - accuracy: 0.6000 - val_loss: 0.6390 - val_accuracy: 0.7500\n",
      "Epoch 2/1000\n",
      "30/30 [==============================] - 2s 81ms/step - loss: 0.4394 - accuracy: 0.7667 - val_loss: 0.4460 - val_accuracy: 0.8200\n",
      "Epoch 3/1000\n",
      "30/30 [==============================] - 0s 10ms/step - loss: 0.3417 - accuracy: 0.8533 - val_loss: 0.4355 - val_accuracy: 0.8000\n",
      "Epoch 4/1000\n",
      "30/30 [==============================] - 0s 10ms/step - loss: 0.3482 - accuracy: 0.8400 - val_loss: 0.5933 - val_accuracy: 0.8200\n",
      "Epoch 5/1000\n",
      "30/30 [==============================] - 2s 80ms/step - loss: 0.3341 - accuracy: 0.8467 - val_loss: 0.4065 - val_accuracy: 0.8200\n",
      "Epoch 6/1000\n",
      "30/30 [==============================] - 0s 10ms/step - loss: 0.3135 - accuracy: 0.8533 - val_loss: 0.4439 - val_accuracy: 0.7900\n",
      "Epoch 7/1000\n",
      "30/30 [==============================] - 0s 9ms/step - loss: 0.2860 - accuracy: 0.8933 - val_loss: 0.3909 - val_accuracy: 0.7800\n",
      "Epoch 8/1000\n",
      "30/30 [==============================] - 0s 9ms/step - loss: 0.3107 - accuracy: 0.8667 - val_loss: 0.3996 - val_accuracy: 0.8200\n",
      "Epoch 9/1000\n",
      "30/30 [==============================] - 2s 82ms/step - loss: 0.3027 - accuracy: 0.8400 - val_loss: 0.3730 - val_accuracy: 0.8300\n",
      "Epoch 10/1000\n",
      "30/30 [==============================] - 0s 11ms/step - loss: 0.2672 - accuracy: 0.8667 - val_loss: 0.4170 - val_accuracy: 0.8100\n",
      "Epoch 11/1000\n",
      "30/30 [==============================] - 0s 11ms/step - loss: 0.2201 - accuracy: 0.9200 - val_loss: 0.5749 - val_accuracy: 0.8100\n",
      "Epoch 12/1000\n",
      "30/30 [==============================] - 2s 86ms/step - loss: 0.2654 - accuracy: 0.8467 - val_loss: 0.6184 - val_accuracy: 0.7500\n",
      "Epoch 13/1000\n",
      "30/30 [==============================] - 0s 10ms/step - loss: 0.2708 - accuracy: 0.8800 - val_loss: 0.3643 - val_accuracy: 0.8300\n",
      "Epoch 14/1000\n",
      "30/30 [==============================] - 0s 10ms/step - loss: 0.2470 - accuracy: 0.8600 - val_loss: 0.3640 - val_accuracy: 0.8300\n",
      "Epoch 15/1000\n",
      "30/30 [==============================] - 2s 82ms/step - loss: 0.2225 - accuracy: 0.8867 - val_loss: 0.4728 - val_accuracy: 0.7800\n",
      "Epoch 16/1000\n",
      "30/30 [==============================] - 0s 11ms/step - loss: 0.2482 - accuracy: 0.9000 - val_loss: 0.3613 - val_accuracy: 0.8500\n",
      "Epoch 17/1000\n",
      "30/30 [==============================] - 0s 10ms/step - loss: 0.1957 - accuracy: 0.9000 - val_loss: 0.5407 - val_accuracy: 0.7400\n",
      "Epoch 18/1000\n",
      "30/30 [==============================] - 3s 102ms/step - loss: 0.2312 - accuracy: 0.9000 - val_loss: 0.3684 - val_accuracy: 0.8300\n",
      "Epoch 19/1000\n",
      "30/30 [==============================] - 0s 10ms/step - loss: 0.2101 - accuracy: 0.8933 - val_loss: 0.4452 - val_accuracy: 0.8400\n",
      "Epoch 20/1000\n",
      "30/30 [==============================] - 0s 10ms/step - loss: 0.2095 - accuracy: 0.8933 - val_loss: 0.3822 - val_accuracy: 0.8400\n",
      "Epoch 21/1000\n",
      "30/30 [==============================] - 0s 10ms/step - loss: 0.1697 - accuracy: 0.9133 - val_loss: 0.5030 - val_accuracy: 0.8200\n",
      "Epoch 22/1000\n",
      "30/30 [==============================] - 3s 11ms/step - loss: 0.1610 - accuracy: 0.9333 - val_loss: 0.4936 - val_accuracy: 0.8100\n",
      "Epoch 23/1000\n",
      "30/30 [==============================] - 0s 9ms/step - loss: 0.1398 - accuracy: 0.9400 - val_loss: 0.6090 - val_accuracy: 0.7400\n",
      "Epoch 24/1000\n",
      "30/30 [==============================] - 0s 9ms/step - loss: 0.1349 - accuracy: 0.9467 - val_loss: 0.4210 - val_accuracy: 0.8400\n",
      "Epoch 25/1000\n",
      "30/30 [==============================] - 3s 108ms/step - loss: 0.1455 - accuracy: 0.9533 - val_loss: 0.4143 - val_accuracy: 0.8300\n",
      "Epoch 26/1000\n",
      "30/30 [==============================] - 0s 9ms/step - loss: 0.1396 - accuracy: 0.9333 - val_loss: 0.3506 - val_accuracy: 0.8700\n",
      "Epoch 27/1000\n",
      "30/30 [==============================] - 0s 9ms/step - loss: 0.0954 - accuracy: 0.9667 - val_loss: 0.6904 - val_accuracy: 0.8600\n",
      "Epoch 28/1000\n",
      "30/30 [==============================] - 3s 109ms/step - loss: 0.1243 - accuracy: 0.9333 - val_loss: 0.3404 - val_accuracy: 0.8900\n",
      "Epoch 29/1000\n",
      "30/30 [==============================] - 0s 10ms/step - loss: 0.0863 - accuracy: 0.9533 - val_loss: 0.4059 - val_accuracy: 0.8600\n",
      "Epoch 30/1000\n",
      "30/30 [==============================] - 0s 9ms/step - loss: 0.1127 - accuracy: 0.9667 - val_loss: 0.8117 - val_accuracy: 0.8500\n",
      "Epoch 31/1000\n",
      "30/30 [==============================] - 0s 9ms/step - loss: 0.0895 - accuracy: 0.9733 - val_loss: 0.6710 - val_accuracy: 0.8500\n",
      "Epoch 32/1000\n",
      "30/30 [==============================] - 3s 111ms/step - loss: 0.1081 - accuracy: 0.9733 - val_loss: 0.5029 - val_accuracy: 0.8600\n",
      "Epoch 33/1000\n",
      "30/30 [==============================] - 0s 10ms/step - loss: 0.0765 - accuracy: 0.9667 - val_loss: 0.5026 - val_accuracy: 0.8800\n",
      "Epoch 34/1000\n",
      "30/30 [==============================] - 0s 10ms/step - loss: 0.1028 - accuracy: 0.9600 - val_loss: 0.4581 - val_accuracy: 0.8800\n",
      "Epoch 35/1000\n",
      "30/30 [==============================] - 3s 112ms/step - loss: 0.0415 - accuracy: 0.9867 - val_loss: 0.7034 - val_accuracy: 0.8600\n",
      "Epoch 36/1000\n",
      "30/30 [==============================] - 0s 11ms/step - loss: 0.1446 - accuracy: 0.9533 - val_loss: 0.6355 - val_accuracy: 0.8800\n",
      "Epoch 37/1000\n",
      "30/30 [==============================] - 0s 10ms/step - loss: 0.0114 - accuracy: 0.9933 - val_loss: 0.7113 - val_accuracy: 0.8800\n",
      "Epoch 38/1000\n",
      "30/30 [==============================] - 0s 10ms/step - loss: 0.0892 - accuracy: 0.9733 - val_loss: 0.6370 - val_accuracy: 0.8800\n",
      "Epoch 39/1000\n",
      "30/30 [==============================] - 3s 112ms/step - loss: 0.0856 - accuracy: 0.9933 - val_loss: 0.7616 - val_accuracy: 0.8600\n",
      "Epoch 40/1000\n",
      "30/30 [==============================] - 0s 10ms/step - loss: 0.0674 - accuracy: 0.9733 - val_loss: 0.5811 - val_accuracy: 0.8300\n",
      "Epoch 41/1000\n",
      "30/30 [==============================] - 0s 10ms/step - loss: 0.0557 - accuracy: 0.9800 - val_loss: 1.2591 - val_accuracy: 0.8300\n",
      "Epoch 42/1000\n",
      "30/30 [==============================] - 3s 113ms/step - loss: 0.0667 - accuracy: 0.9733 - val_loss: 0.5904 - val_accuracy: 0.9000\n",
      "Epoch 43/1000\n",
      "30/30 [==============================] - 0s 10ms/step - loss: 0.0010 - accuracy: 1.0000 - val_loss: 0.7823 - val_accuracy: 0.8900\n",
      "Epoch 44/1000\n",
      "30/30 [==============================] - 0s 10ms/step - loss: 0.1282 - accuracy: 0.9800 - val_loss: 0.8256 - val_accuracy: 0.8600\n",
      "Epoch 45/1000\n",
      "30/30 [==============================] - 3s 111ms/step - loss: 4.0356e-04 - accuracy: 1.0000 - val_loss: 0.8531 - val_accuracy: 0.8500\n",
      "Epoch 46/1000\n",
      "30/30 [==============================] - 0s 10ms/step - loss: 2.8792e-04 - accuracy: 1.0000 - val_loss: 1.0289 - val_accuracy: 0.8600\n",
      "Epoch 47/1000\n",
      "30/30 [==============================] - 0s 10ms/step - loss: 0.1705 - accuracy: 0.9733 - val_loss: 0.8895 - val_accuracy: 0.8400\n",
      "Epoch 48/1000\n",
      "30/30 [==============================] - 0s 10ms/step - loss: 0.0022 - accuracy: 1.0000 - val_loss: 0.9014 - val_accuracy: 0.8600\n",
      "Epoch 49/1000\n",
      "30/30 [==============================] - 3s 112ms/step - loss: 0.0594 - accuracy: 0.9867 - val_loss: 1.1747 - val_accuracy: 0.8500\n",
      "Epoch 50/1000\n",
      "30/30 [==============================] - 0s 10ms/step - loss: 0.1004 - accuracy: 0.9733 - val_loss: 1.3993 - val_accuracy: 0.8500\n",
      "Epoch 51/1000\n",
      "30/30 [==============================] - 0s 10ms/step - loss: 0.0691 - accuracy: 0.9733 - val_loss: 0.9410 - val_accuracy: 0.8600\n",
      "Epoch 52/1000\n",
      "30/30 [==============================] - 2s 56ms/step - loss: 0.0832 - accuracy: 0.9600 - val_loss: 0.9080 - val_accuracy: 0.8600\n",
      "Epoch 53/1000\n",
      "30/30 [==============================] - 0s 10ms/step - loss: 0.0524 - accuracy: 0.9800 - val_loss: 0.8565 - val_accuracy: 0.9000\n",
      "Epoch 54/1000\n",
      "30/30 [==============================] - 0s 10ms/step - loss: 5.5020e-04 - accuracy: 1.0000 - val_loss: 0.8806 - val_accuracy: 0.9000\n",
      "Epoch 55/1000\n",
      "30/30 [==============================] - 0s 9ms/step - loss: 1.5926e-04 - accuracy: 1.0000 - val_loss: 0.9912 - val_accuracy: 0.8900\n",
      "Epoch 56/1000\n",
      "30/30 [==============================] - 0s 11ms/step - loss: 0.1001 - accuracy: 0.9733 - val_loss: 1.2478 - val_accuracy: 0.8400\n",
      "Epoch 57/1000\n",
      "30/30 [==============================] - 0s 10ms/step - loss: 7.8866e-04 - accuracy: 1.0000 - val_loss: 1.1416 - val_accuracy: 0.8600\n"
     ]
    },
    {
     "name": "stdout",
     "output_type": "stream",
     "text": [
      "Epoch 58/1000\n",
      "30/30 [==============================] - 0s 10ms/step - loss: 1.1485e-04 - accuracy: 1.0000 - val_loss: 1.1729 - val_accuracy: 0.8800\n",
      "Epoch 59/1000\n",
      "30/30 [==============================] - 2s 57ms/step - loss: 5.3531e-05 - accuracy: 1.0000 - val_loss: 1.4124 - val_accuracy: 0.8300\n",
      "Epoch 60/1000\n",
      "30/30 [==============================] - 0s 9ms/step - loss: 0.1707 - accuracy: 0.9333 - val_loss: 0.8442 - val_accuracy: 0.8700\n",
      "Epoch 61/1000\n",
      "30/30 [==============================] - 0s 9ms/step - loss: 0.0474 - accuracy: 0.9800 - val_loss: 1.1279 - val_accuracy: 0.8800\n",
      "Epoch 62/1000\n",
      "30/30 [==============================] - 2s 56ms/step - loss: 0.0256 - accuracy: 0.9867 - val_loss: 1.0980 - val_accuracy: 0.8700\n",
      "20/20 [==============================] - 0s 3ms/step - loss: 0.5904 - accuracy: 0.9000\n",
      "np.shape(X_test)= (100, 480, 1)\n",
      "Model: \"sequential\"\n",
      "_________________________________________________________________\n",
      " Layer (type)                Output Shape              Param #   \n",
      "=================================================================\n",
      " conv1d (Conv1D)             (None, 478, 32)           128       \n",
      "                                                                 \n",
      " conv1d_1 (Conv1D)           (None, 476, 64)           6208      \n",
      "                                                                 \n",
      " max_pooling1d (MaxPooling1D  (None, 158, 64)          0         \n",
      " )                                                               \n",
      "                                                                 \n",
      " conv1d_2 (Conv1D)           (None, 156, 128)          24704     \n",
      "                                                                 \n",
      " max_pooling1d_1 (MaxPooling  (None, 52, 128)          0         \n",
      " 1D)                                                             \n",
      "                                                                 \n",
      " conv1d_3 (Conv1D)           (None, 50, 128)           49280     \n",
      "                                                                 \n",
      " max_pooling1d_2 (MaxPooling  (None, 16, 128)          0         \n",
      " 1D)                                                             \n",
      "                                                                 \n",
      " conv1d_4 (Conv1D)           (None, 14, 256)           98560     \n",
      "                                                                 \n",
      " max_pooling1d_3 (MaxPooling  (None, 4, 256)           0         \n",
      " 1D)                                                             \n",
      "                                                                 \n",
      " flatten (Flatten)           (None, 1024)              0         \n",
      "                                                                 \n",
      " dense (Dense)               (None, 2000)              2050000   \n",
      "                                                                 \n",
      " dense_1 (Dense)             (None, 3)                 6003      \n",
      "                                                                 \n",
      "=================================================================\n",
      "Total params: 2,234,883\n",
      "Trainable params: 2,234,883\n",
      "Non-trainable params: 0\n",
      "_________________________________________________________________\n",
      "Accuracy=  0.8999999761581421\n"
     ]
    }
   ],
   "source": [
    "accuracy=0\n",
    "acc_crs=np.array([])\n",
    "##for i in range (10):\n",
    "##    if accuracy<0.2 :\n",
    "\n",
    "verbose, epochs, batch_size = 1, 1000, 5\n",
    "n_timesteps, n_features, n_outputs = X_train.shape[1], X_train.shape[2], y_train_cat.shape[1]\n",
    "steps_per_epoch = len(X_train)//batch_size\n",
    "validation_steps = len(X_valid)//batch_size # if you have test data\n",
    "\n",
    "model_crs = Sequential()\n",
    "BatchNormalization()\n",
    "model_crs.add(Conv1D(filters=32, kernel_size=3, activation='relu', input_shape=(n_timesteps,n_features)))\n",
    "#model_crs.add(MaxPooling1D(pool_size=3))\n",
    "BatchNormalization()\n",
    "model_crs.add(Conv1D(filters=64, kernel_size=3, activation='relu'))\n",
    "#model_crs.add(Dropout(0.5))\n",
    "model_crs.add(MaxPooling1D(pool_size=3))\n",
    "BatchNormalization()\n",
    "model_crs.add(Conv1D(filters=128, kernel_size=3, activation='relu'))\n",
    "model_crs.add(MaxPooling1D(pool_size=3))\n",
    "BatchNormalization()\n",
    "model_crs.add(Conv1D(filters=128, kernel_size=3, activation='relu'))\n",
    "model_crs.add(MaxPooling1D(pool_size=3))\n",
    "BatchNormalization()\n",
    "model_crs.add(Conv1D(filters=256, kernel_size=3, activation='relu'))\n",
    "model_crs.add(MaxPooling1D(pool_size=3))\n",
    "'''model_crs.add(Conv1D(filters=512, kernel_size=3, activation='relu'))\n",
    "model_crs.add(MaxPooling1D(pool_size=3))\n",
    "model_crs.add(Conv1D(filters=1024, kernel_size=3, activation='relu'))\n",
    "model_crs.add(MaxPooling1D(pool_size=3))\n",
    "'''\n",
    "model_crs.add(Flatten())\n",
    "#model_crs.add(Dropout(0.5))\n",
    "model_crs.add(Dense(2000, activation='relu'))\n",
    "model_crs.add(Dense(n_outputs, activation='softmax'))\n",
    "model_crs.compile(optimizer='rmsprop', loss='categorical_crossentropy', metrics=['accuracy'])\n",
    "# fit network   #CategoricalCrossentropy #sparse_categorical_crossentropy #SparseCategoricalCrossentropy\n",
    "\n",
    "earlystopping = callbacks.EarlyStopping(monitor =\"val_accuracy\", mode =\"max\", patience = 20, restore_best_weights = True)\n",
    "\n",
    "model_crs.fit(X_train, y_train_cat, epochs=epochs, batch_size=batch_size, verbose=verbose, validation_data = (X_valid, y_valid_cat), callbacks =[earlystopping])\n",
    "# evaluate model_crs\n",
    "_, accuracy = model_crs.evaluate(X_valid, y_valid_cat, batch_size=batch_size, verbose=1)\n",
    "\n",
    "print('np.shape(X_test)=',np.shape(X_test))\n",
    "\n",
    "\n",
    "model_crs.summary()\n",
    "print('Accuracy= ', accuracy)\n",
    "\n",
    "#output = K.function([model_crs.layers[0].input],[model_crs.layers[3].output])\n",
    "#output(X_test)[0]\n",
    "#y_pred= model_crs.predict(X_test)                # Function 1\n",
    "\n",
    "##    print('Round ', i, '==>', 'accuracy = ', accuracy)\n",
    "##    acc_crs=np.append(acc_crs,accuracy)\n",
    "#y_pred_crs = model_crs.predict_classes(X_test)   # Function 2"
   ]
  },
  {
   "cell_type": "code",
   "execution_count": 26,
   "metadata": {},
   "outputs": [],
   "source": [
    "def maxindx(ar):\n",
    "    ar_cpy=np.array(ar)\n",
    "    pred=np.argmax(ar,axis=1)\n",
    "    for i in range (len(pred)):\n",
    "        if pred[i]==0:\n",
    "            ar_cpy[i,0]=-1000\n",
    "    pred=np.argmax(ar_cpy,axis=1)\n",
    "    return(pred)"
   ]
  },
  {
   "cell_type": "code",
   "execution_count": 27,
   "metadata": {},
   "outputs": [
    {
     "name": "stdout",
     "output_type": "stream",
     "text": [
      "4/4 [==============================] - 0s 18ms/step\n",
      "[[30  6]\n",
      " [ 4 60]]\n",
      "              precision    recall  f1-score   support\n",
      "\n",
      "           1       0.88      0.83      0.86        36\n",
      "           2       0.91      0.94      0.92        64\n",
      "\n",
      "    accuracy                           0.90       100\n",
      "   macro avg       0.90      0.89      0.89       100\n",
      "weighted avg       0.90      0.90      0.90       100\n",
      "\n"
     ]
    }
   ],
   "source": [
    "predict_x=model_crs.predict(X_test)              # Function 1\n",
    "\n",
    "y_pred_crs=maxindx(predict_x)                    # function from augment.py to remove 0 index predictions\n",
    "\n",
    "#y_pred_crs = model_crs.predict_classes(X_test)\n",
    "\n",
    "cm = confusion_matrix(y_test, y_pred_crs)\n",
    "print(cm)\n",
    "acc3=accuracy_score(y_test, y_pred_crs)\n",
    "\n",
    "print(classification_report(y_test, y_pred_crs))\n",
    "\n",
    "#sns.heatmap(cm, annot=True)\n",
    "\n",
    "#plt.imshow(cm)"
   ]
  },
  {
   "cell_type": "raw",
   "metadata": {},
   "source": [
    "y_pred_crs = model_crs.predict_classes(X_test)     # Function 2\n",
    "\n",
    "\n",
    "cm = confusion_matrix(y_test, y_pred_crs)\n",
    "print(cm)\n",
    "acc3=accuracy_score(y_test, y_pred_crs)\n",
    "\n",
    "print(classification_report(y_test, y_pred_crs))\n",
    "\n",
    "#sns.heatmap(cm, annot=True)\n",
    "\n",
    "#plt.imshow(cm)"
   ]
  },
  {
   "cell_type": "code",
   "execution_count": 28,
   "metadata": {
    "scrolled": true
   },
   "outputs": [
    {
     "name": "stdout",
     "output_type": "stream",
     "text": [
      "[75 75]\n"
     ]
    }
   ],
   "source": [
    "print(np.bincount(y_train)[1:])"
   ]
  },
  {
   "cell_type": "raw",
   "metadata": {},
   "source": [
    "#model_crs=load_model('CNN1_crs_UnBlnc_8020_fld1_5550.h5')   # Save CNN Network For thereafter Predictions\n",
    "#model_crs=load_model('CNN1_crs_UnBlnc_9395%.h5')\n",
    "\n",
    "model_crs.save('CNN1_Scl_crs_0000.h5') "
   ]
  }
 ],
 "metadata": {
  "celltoolbar": "Raw Cell Format",
  "kernelspec": {
   "display_name": "Python 3 (ipykernel)",
   "language": "python",
   "name": "python3"
  },
  "language_info": {
   "codemirror_mode": {
    "name": "ipython",
    "version": 3
   },
   "file_extension": ".py",
   "mimetype": "text/x-python",
   "name": "python",
   "nbconvert_exporter": "python",
   "pygments_lexer": "ipython3",
   "version": "3.9.7"
  }
 },
 "nbformat": 4,
 "nbformat_minor": 4
}
