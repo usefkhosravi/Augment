{
 "cells": [
  {
   "cell_type": "markdown",
   "metadata": {},
   "source": [
    "import time\n",
    "plc=1\n",
    "time.sleep(3000*plc)         #run after 1 houre = 3600 seconds"
   ]
  },
  {
   "cell_type": "code",
   "execution_count": 1,
   "metadata": {},
   "outputs": [
    {
     "data": {
      "text/html": [
       "<style>#notebook { padding-top:0px !important; } .container { width:100% !important; } .end_space { min-height:0px !important; } html, body, .container{ margin:0!important;padding:0!important;}</style>"
      ],
      "text/plain": [
       "<IPython.core.display.HTML object>"
      ]
     },
     "metadata": {},
     "output_type": "display_data"
    }
   ],
   "source": [
    "import os\n",
    "import glob\n",
    "import scipy\n",
    "import random\n",
    "import bisect\n",
    "import numpy as np\n",
    "import pandas as pd\n",
    "import seaborn as sns\n",
    "from scipy import signal\n",
    "from scipy.signal import find_peaks\n",
    "import matplotlib.pyplot as plt\n",
    "from preprocess import *                         #ماژول استخراج پنجره ها\n",
    "from data import *                          #ماژول محلی ورود داده ها\n",
    "from augment import *                            #ماژول های داده افزایی\n",
    "from lstm_cnn import *                           #ماژول های داده افزایی با lstm_cnn\n",
    "import augment\n",
    "import importlib\n",
    "importlib.reload(augment)\n",
    "import tensorflow as tf\n",
    "from tensorflow import keras\n",
    "from tensorflow.keras.layers import BatchNormalization\n",
    "from sklearn.model_selection import train_test_split\n",
    "from sklearn.neural_network import MLPClassifier\n",
    "from sklearn.datasets import make_classification\n",
    "from sklearn.metrics import confusion_matrix, accuracy_score, classification_report,recall_score,precision_score\n",
    "from tensorflow.keras import callbacks\n",
    "from tensorflow.keras import layers\n",
    "from tensorflow.keras.models import Sequential\n",
    "from tensorflow.keras.layers import Convolution2D,Conv1D,Dropout,MaxPooling1D,MaxPooling2D,Flatten,Dense\n",
    "from tensorflow.keras import backend as K\n",
    "from tensorflow.keras.utils import to_categorical\n",
    "from tensorflow.keras.models import load_model\n",
    "cwd = os.getcwd() #\n",
    "fullscrn()"
   ]
  },
  {
   "cell_type": "markdown",
   "metadata": {},
   "source": [
    "<h1><center><div style=\"direction:rtl;font-family:B Nazanin\">Importing Data</div></center></h1>"
   ]
  },
  {
   "cell_type": "code",
   "execution_count": 2,
   "metadata": {
    "scrolled": true
   },
   "outputs": [
    {
     "name": "stderr",
     "output_type": "stream",
     "text": [
      "C:\\ProgramData\\Anaconda3\\lib\\site-packages\\pandas\\util\\_decorators.py:311: ParserWarning: Falling back to the 'python' engine because the 'c' engine does not support regex separators (separators > 1 char and different from '\\s+' are interpreted as regex); you can avoid this warning by specifying engine='python'.\n",
      "  return func(*args, **kwargs)\n"
     ]
    },
    {
     "name": "stdout",
     "output_type": "stream",
     "text": [
      "first_train_shape= (500, 141)\n",
      "first_test_shape= (4500, 141)\n",
      "classes_quantity= 5\n",
      "tr_lbls=\t {1, 2, 3, 4, 5}\n",
      "Count_labels= [292 177  10  19   2]\n",
      "max(train_feature_Altitude)= 5.0\n",
      "min(train_feature_Altitude)= -5.7976446\n",
      "first_train_sample=\n",
      " [ 1.         -0.11252183 -2.8272038  -3.7738969  -4.3497511  -4.376041\n",
      " -3.4749863  -2.1814082  -1.8182865  -1.2505219  -0.47749208 -0.36380791\n",
      " -0.49195659 -0.42185509 -0.30920086 -0.4959387  -0.34211867 -0.35533627\n",
      " -0.36791303 -0.31650279 -0.41237405 -0.47167181 -0.41345783 -0.36461703\n",
      " -0.44929829 -0.47141866 -0.42477658 -0.46251673 -0.55247236 -0.47537519\n",
      " -0.6942     -0.7018681  -0.59381178 -0.66068415 -0.71383066 -0.76980688\n",
      " -0.67228161 -0.65367605 -0.63940562 -0.55930228 -0.59167032 -0.49322332\n",
      " -0.46305183 -0.30164382 -0.23273401 -0.12505488 -0.15394314 -0.0243574\n",
      " -0.06560876  0.03499926  0.06193522  0.07119542  0.12392505  0.10312371\n",
      "  0.22522849  0.12868305  0.30248315  0.25727621  0.19635161  0.17938297\n",
      "  0.24472863  0.34121687  0.32820441  0.40604169  0.44660507  0.42406823\n",
      "  0.48151204  0.4778438   0.62408259  0.57458456  0.59801319  0.5645919\n",
      "  0.607979    0.62063457  0.65625291  0.68474806  0.69427284  0.66558377\n",
      "  0.57579577  0.63813479  0.61491695  0.56908343  0.46857572  0.44281777\n",
      "  0.46827436  0.43249295  0.40795792  0.41862256  0.36253075  0.41095901\n",
      "  0.47166633  0.37216676  0.33787543  0.22140511  0.27399747  0.29866408\n",
      "  0.26356357  0.34256352  0.41950529  0.58660736  0.86062387  1.1733446\n",
      "  1.2581791   1.4337887   1.7005334   1.9990431   2.1253411   1.9932907\n",
      "  1.9322463   1.7974367   1.5222839   1.2511679   0.99873034  0.48372242\n",
      "  0.02313229 -0.19491383 -0.22091729 -0.24373668 -0.25469462 -0.29113555\n",
      " -0.25649034 -0.22787425 -0.32242276 -0.28928586 -0.31816951 -0.36365359\n",
      " -0.39345584 -0.26641886 -0.25682316 -0.28869399 -0.16233755  0.16034772\n",
      "  0.79216787  0.93354122  0.79695779  0.57862066  0.2577399   0.22807718\n",
      "  0.12343082  0.92528624  0.19313742]\n"
     ]
    },
    {
     "name": "stderr",
     "output_type": "stream",
     "text": [
      "C:\\Users\\user\\AppData\\Local\\Temp/ipykernel_6856/1381567861.py:5: VisibleDeprecationWarning: Creating an ndarray from ragged nested sequences (which is a list-or-tuple of lists-or-tuples-or ndarrays with different lengths or shapes) is deprecated. If you meant to do this, you must specify 'dtype=object' when creating the ndarray.\n",
      "  vars()['ecg'+str(i)],vars()['ecg_tst'+str(i)]=np.array(ECG5000(i))\n"
     ]
    },
    {
     "name": "stdout",
     "output_type": "stream",
     "text": [
      "1 292\t2 177\t3 10\t4 19\t5 2\t"
     ]
    }
   ],
   "source": [
    "rate=480\n",
    "smpl_rte=480                                              # در ماژول ها نیز همین مقدار ثبت شده\n",
    "\n",
    "for i in range (1,6):\n",
    "    vars()['ecg'+str(i)],vars()['ecg_tst'+str(i)]=np.array(ECG5000(i))\n",
    "\n",
    "os.chdir(cwd)\n",
    "clses_lens=np.array([])\n",
    "i=0                               #جمع آوری داده ها و چاپ تعداد نمونه ی هر کلاس\n",
    "ecg=np.array(ecg1)\n",
    "print(1,len(vars()['ecg'+str(1)]), end='\\t')\n",
    "clses_lens=np.append(clses_lens,len(vars()['ecg'+str(1)]))\n",
    "for i in range (2,6):\n",
    "    ecg=np.concatenate((ecg,vars()['ecg'+str(i)]),axis=0)\n",
    "    clses_lens=np.append(clses_lens,len(vars()['ecg'+str(i)]))\n",
    "    print(i,len(vars()['ecg'+str(i)]), end='\\t')\n",
    "\n",
    "mx_sig=max(clses_lens)"
   ]
  },
  {
   "cell_type": "code",
   "execution_count": 3,
   "metadata": {},
   "outputs": [
    {
     "data": {
      "text/plain": [
       "(500, 481)"
      ]
     },
     "execution_count": 3,
     "metadata": {},
     "output_type": "execute_result"
    }
   ],
   "source": [
    "np.shape(ecg)"
   ]
  },
  {
   "cell_type": "markdown",
   "metadata": {},
   "source": [
    "<h2><center><div style=\"direction:rtl;font-family:B Nazanin\">Base Train windows</div></center></h1>"
   ]
  },
  {
   "cell_type": "code",
   "execution_count": 4,
   "metadata": {},
   "outputs": [
    {
     "name": "stdout",
     "output_type": "stream",
     "text": [
      "each class and its windows =\n",
      "1 292\t2 177\t3 10\t4 19\t5 2\t\n",
      " max = 292\n"
     ]
    }
   ],
   "source": [
    "i=0\n",
    "windws=np.array([])\n",
    "\n",
    "for cls in range (1,6):                                 #ساخت پنجره های داده های آموزش اصلی\n",
    "    vars()['wndws'+str(cls)]=np.array(vars()['ecg'+str(cls)])  \n",
    "    \n",
    "print(\"each class and its windows =\")\n",
    "\n",
    "cls_wndws=np.array([])\n",
    "for cls in range (1,6):                                # آرایه ی تعداد پنجره ی هر کلاس\n",
    "    wns=len(vars()['wndws'+str(cls)])\n",
    "    cls_wndws=np.append(cls_wndws,wns)\n",
    "    print(cls, wns, end='\\t')\n",
    "\n",
    "mx_wndws=int(np.max(cls_wndws))                        # حداکثر تعداد پنجره ی موجود بین کلاس ها\n",
    "print('\\n max =', mx_wndws)"
   ]
  },
  {
   "cell_type": "code",
   "execution_count": 5,
   "metadata": {},
   "outputs": [
    {
     "name": "stdout",
     "output_type": "stream",
     "text": [
      "298\n"
     ]
    }
   ],
   "source": [
    "#clses=3                                   #تعیین میزان افزایش نمونه (تولید داده)\n",
    "mx_wndws=int(mx_wndws+6)  #mx_wndws*0.3  # =classes-1 برای بررسی الگوریتم تعداد کمی کلاس آزمایش شد\n",
    "print(mx_wndws)"
   ]
  },
  {
   "cell_type": "markdown",
   "metadata": {},
   "source": [
    "<h1><center><div style=\"direction:rtl;font-family:B Nazanin\">Data Augmentation</div></center></h1>"
   ]
  },
  {
   "cell_type": "code",
   "execution_count": 6,
   "metadata": {},
   "outputs": [
    {
     "name": "stdout",
     "output_type": "stream",
     "text": [
      "vlum_win= 6\n",
      "aug shape= (0, 481)\n",
      "generated data shape for class  1  =  (6, 481)\n",
      "vlum_win= 121\n",
      "aug shape= (0, 481)\n",
      "generated data shape for class  2  =  (121, 481)\n",
      "vlum_win= 288\n",
      "aug shape= (0, 481)\n",
      "generated data shape for class  3  =  (288, 481)\n",
      "vlum_win= 279\n",
      "aug shape= (0, 481)\n",
      "generated data shape for class  4  =  (279, 481)\n",
      "vlum_win= 296\n",
      "aug shape= (0, 481)\n",
      "generated data shape for class  5  =  (296, 481)\n"
     ]
    }
   ],
   "source": [
    "for i in range (1,6):                           #تعریف آرایه ی پنجره های کلاس ها\n",
    "    vars()['ecg_aug10'+str(i)]=xtrain=np.empty((0,smpl_rte+1), float) \n",
    "\n",
    "for i in range (1,6):                                     #تعریف آرایه ی پنجره های کلاس ها\n",
    "    vlum_win=mx_wndws-len(vars()['wndws'+str(i)])         #میزان داده افزایی در روش های عمیق (پنجره)\n",
    "    print(\"vlum_win=\",vlum_win)\n",
    "    vars()['ecg_aug10'+str(i)]=np.append(vars()['ecg_aug10'+str(i)],scl_rndm_beat(ecg,i,vlum_win,mag=.1),axis=0)\n",
    "    print('aug shape=',np.shape(scl_rndm(ecg,i,vlum_win,mag=.1)))\n",
    "    print('generated data shape for class ', i, ' = ', np.shape(vars()['ecg_aug10'+str(i)]))"
   ]
  },
  {
   "cell_type": "code",
   "execution_count": 7,
   "metadata": {
    "scrolled": true
   },
   "outputs": [
    {
     "data": {
      "text/plain": [
       "296"
      ]
     },
     "execution_count": 7,
     "metadata": {},
     "output_type": "execute_result"
    }
   ],
   "source": [
    "vlum_win"
   ]
  },
  {
   "cell_type": "code",
   "execution_count": 8,
   "metadata": {
    "scrolled": true
   },
   "outputs": [
    {
     "name": "stdout",
     "output_type": "stream",
     "text": [
      "Up to class  1 train shape =  (298, 481)\n",
      "Up to class  2 train shape =  (596, 481)\n",
      "Up to class  3 train shape =  (894, 481)\n",
      "Up to class  4 train shape =  (1192, 481)\n",
      "Up to class  5 train shape =  (1490, 481)\n"
     ]
    }
   ],
   "source": [
    "smpl_rte=len(wndws1[0])                                        # در ماژول ها نیز همین مقدار ثبت شده\n",
    "\n",
    "#add augmented data to base data\n",
    "xtrain=np.empty((0,len(wndws1[0])), float) \n",
    "for i in range (1,6):   \n",
    "    xtrain=np.append(xtrain,vars()['wndws'+str(i)],axis=0)\n",
    "    xtrain=np.append(xtrain,vars()['ecg_aug10'+str(i)],axis=0)  ####انتخاب نوع داده افزایی####\n",
    "    print('Up to class ', i, 'train shape = ', np.shape(xtrain))"
   ]
  },
  {
   "cell_type": "code",
   "execution_count": 9,
   "metadata": {},
   "outputs": [
    {
     "name": "stdout",
     "output_type": "stream",
     "text": [
      "[  0 298 298 298 298 298]\n"
     ]
    }
   ],
   "source": [
    "print(np.bincount(np.int16(xtrain[:,-1])))    #تعداد پنجره در هر کلاس از 0 تا 17"
   ]
  },
  {
   "cell_type": "code",
   "execution_count": 10,
   "metadata": {},
   "outputs": [
    {
     "data": {
      "text/plain": [
       "array([1., 1., 1., ..., 5., 5., 5.])"
      ]
     },
     "execution_count": 10,
     "metadata": {},
     "output_type": "execute_result"
    }
   ],
   "source": [
    "xtrain[:,-1]"
   ]
  },
  {
   "cell_type": "code",
   "execution_count": 11,
   "metadata": {},
   "outputs": [],
   "source": [
    "mx_aug=np.max(xtrain[:,:-1])\n",
    "mx=np.max(ecg[:,:-1])\n",
    "mn_aug=np.min(xtrain[:,:-1])\n",
    "mn=np.min(ecg[:,:-1])\n",
    "\n",
    "#for i in range (1,6):             #نرمالسازی داده های افزایشی\n",
    "xtrain[:,:-1]= 2*(xtrain[:,:-1]-mn_aug)/(mx_aug - mn_aug) - 1"
   ]
  },
  {
   "cell_type": "code",
   "execution_count": 12,
   "metadata": {},
   "outputs": [
    {
     "name": "stdout",
     "output_type": "stream",
     "text": [
      "min trn = -1.0\n",
      "max trn = 1.0\n"
     ]
    }
   ],
   "source": [
    "print('min trn =', np.min(xtrain[:,:-1]))\n",
    "print('max trn =', np.max(xtrain[:,:-1]))"
   ]
  },
  {
   "cell_type": "markdown",
   "metadata": {},
   "source": [
    "<h3><center><div style=\"direction:rtl;font-family:B Nazanin\">Test Windows</div></center></h1>"
   ]
  },
  {
   "cell_type": "code",
   "execution_count": 13,
   "metadata": {},
   "outputs": [],
   "source": [
    "wndws_test=np.empty((0,len(wndws1[0])), float)\n",
    "i=0\n",
    "windws=np.array([])\n",
    "for cls in range (1,6):                                 #ساخت پنجره های داده های آموزش اصلی\n",
    "    vars()['wndws_tst'+str(cls)]=np.empty((0,len(wndws1[0])), float)\n",
    "    vars()['wndws_tst'+str(cls)]=np.append(vars()['wndws_tst'+str(cls)],vars()['ecg_tst'+str(cls)],axis=0)   "
   ]
  },
  {
   "cell_type": "code",
   "execution_count": 14,
   "metadata": {},
   "outputs": [
    {
     "name": "stdout",
     "output_type": "stream",
     "text": [
      "\n",
      " cls 1  >> \n",
      "max magnitude class 1  =  5.398327935600255\n",
      "min magnitude class 1  =  -8.366738588591014\n",
      "after normalizing >>\n",
      "max magnitude class 1  =  1.1798720990237386\n",
      "min magnitude class 1  =  -1.1345226934975594\n",
      "\n",
      " cls 2  >> \n",
      "max magnitude class 2  =  7.557156182756754\n",
      "min magnitude class 2  =  -6.623263697325152\n",
      "after normalizing >>\n",
      "max magnitude class 2  =  1.5428475226721496\n",
      "min magnitude class 2  =  -0.8413828672463805\n",
      "\n",
      " cls 3  >> \n",
      "max magnitude class 3  =  3.427621598045422\n",
      "min magnitude class 3  =  -6.827926378639614\n",
      "after normalizing >>\n",
      "max magnitude class 3  =  0.8485266255231234\n",
      "min magnitude class 3  =  -0.8757939064538692\n",
      "\n",
      " cls 4  >> \n",
      "max magnitude class 4  =  3.033042703743151\n",
      "min magnitude class 4  =  -5.658319868425961\n",
      "after normalizing >>\n",
      "max magnitude class 4  =  0.7821839502729113\n",
      "min magnitude class 4  =  -0.679141662762913\n",
      "\n",
      " cls 5  >> \n",
      "max magnitude class 5  =  2.4648784169429363\n",
      "min magnitude class 5  =  -4.7540569\n",
      "after normalizing >>\n",
      "max magnitude class 5  =  0.6866554278094681\n",
      "min magnitude class 5  =  -0.5271030582623907\n",
      "each class and its windows =\n",
      "1 2627\t2 1590\t3 86\t4 175\t5 22\t\n",
      " max instance in classes of test windows = 2627\n"
     ]
    }
   ],
   "source": [
    "#print(np.max(wndws_tst))\n",
    "for i in range (1,6):                # Normalization test windows\n",
    "    cls=i\n",
    "    print('\\n cls', i, ' >> ')\n",
    "    print('max magnitude class', i , ' = ' ,np.max(vars()['wndws_tst'+str(cls)][:,:-1]))\n",
    "    print('min magnitude class', i , ' = ' ,np.min(vars()['wndws_tst'+str(cls)][:,:-1]))\n",
    "\n",
    "    vars()['wndws_tst'+str(i)][:,:-1]= 2*(vars()['wndws_tst'+str(i)][:,:-1]-mn_aug)/(mx_aug - mn_aug) - 1\n",
    "    \n",
    "    print('after normalizing >>')\n",
    "    print('max magnitude class', i , ' = ' ,np.max(vars()['wndws_tst'+str(cls)][:,:-1]))\n",
    "    print('min magnitude class', i , ' = ' ,np.min(vars()['wndws_tst'+str(cls)][:,:-1]))\n",
    "    \n",
    "print(\"each class and its windows =\")                    #تجمیع کلاس های تست\n",
    "cls_wndws=np.array([])\n",
    "for cls in range (1,6):                                # آرایه ی تعداد پنجره ی هر کلاس\n",
    "    wns=len(vars()['wndws_tst'+str(cls)])\n",
    "    cls_wndws=np.append(cls_wndws,wns)\n",
    "    print(cls, wns, end='\\t')\n",
    "    wndws_test=np.append(wndws_test,vars()['wndws_tst'+str(cls)],axis=0)\n",
    "    \n",
    "mx_wndws=int(np.max(cls_wndws))                        # حداکثر تعداد پنجره ی موجود بین کلاس ها\n",
    "print('\\n max instance in classes of test windows =', mx_wndws)"
   ]
  },
  {
   "cell_type": "code",
   "execution_count": 15,
   "metadata": {},
   "outputs": [
    {
     "name": "stdout",
     "output_type": "stream",
     "text": [
      "min tst = -1.1345226934975594\n",
      "max tst = 1.5428475226721496\n"
     ]
    }
   ],
   "source": [
    "print('min tst =', np.min(wndws_test[:,:-1]))\n",
    "print('max tst =', np.max(wndws_test[:,:-1]))"
   ]
  },
  {
   "cell_type": "code",
   "execution_count": 16,
   "metadata": {},
   "outputs": [
    {
     "data": {
      "text/plain": [
       "4500"
      ]
     },
     "execution_count": 16,
     "metadata": {},
     "output_type": "execute_result"
    }
   ],
   "source": [
    "len(wndws_test)"
   ]
  },
  {
   "cell_type": "code",
   "execution_count": 17,
   "metadata": {},
   "outputs": [
    {
     "data": {
      "text/plain": [
       "(4500, 481)"
      ]
     },
     "execution_count": 17,
     "metadata": {},
     "output_type": "execute_result"
    }
   ],
   "source": [
    "np.shape(wndws_test)"
   ]
  },
  {
   "cell_type": "code",
   "execution_count": 18,
   "metadata": {},
   "outputs": [],
   "source": [
    "Xtest=wndws_test[:,:-1]\n",
    "ytest=np.int16(wndws_test[:,-1])"
   ]
  },
  {
   "cell_type": "code",
   "execution_count": 19,
   "metadata": {},
   "outputs": [
    {
     "name": "stdout",
     "output_type": "stream",
     "text": [
      "array([1, 1, 1, 1, 1, 1, 1, 1, 1, 1, 1, 1, 1, 1, 1, 1, 1, 1, 1, 1, 1, 1,\n",
      "       1, 1, 1, 1, 1, 1, 1, 1, 1, 1, 1, 1, 1, 1, 1, 1, 1, 1, 1, 1, 1, 1,\n",
      "       1, 1, 1, 1, 1, 1, 1, 1, 1, 1, 1, 1, 1, 1, 1, 1, 1, 1, 1, 1, 1, 1,\n",
      "       1, 1, 1, 1, 1, 1, 1, 1, 1, 1, 1, 1, 1, 1, 1, 1, 1, 1, 1, 1, 1, 1,\n",
      "       1, 1, 1, 1, 1, 1, 1, 1, 1, 1, 1, 1, 1, 1, 1, 1, 1, 1, 1, 1, 1, 1,\n",
      "       1, 1, 1, 1, 1, 1, 1, 1, 1, 1, 1, 1, 1, 1, 1, 1, 1, 1, 1, 1, 1, 1,\n",
      "       1, 1, 1, 1, 1, 1, 1, 1, 1, 1, 1, 1, 1, 1, 1, 1, 1, 1, 1, 1, 1, 1,\n",
      "       1, 1, 1, 1, 1, 1, 1, 1, 1, 1, 1, 1, 1, 1, 1, 1, 1, 1, 1, 1, 1, 1,\n",
      "       1, 1, 1, 1, 1, 1, 1, 1, 1, 1, 1, 1, 1, 1, 1, 1, 1, 1, 1, 1, 1, 1,\n",
      "       1, 1, 1, 1, 1, 1, 1, 1, 1, 1, 1, 1, 1, 1, 1, 1, 1, 1, 1, 1, 1, 1,\n",
      "       1, 1, 1, 1, 1, 1, 1, 1, 1, 1, 1, 1, 1, 1, 1, 1, 1, 1, 1, 1, 1, 1,\n",
      "       1, 1, 1, 1, 1, 1, 1, 1, 1, 1, 1, 1, 1, 1, 1, 1, 1, 1, 1, 1, 1, 1,\n",
      "       1, 1, 1, 1, 1, 1, 1, 1, 1, 1, 1, 1, 1, 1, 1, 1, 1, 1, 1, 1, 1, 1,\n",
      "       1, 1, 1, 1, 1, 1, 1, 1, 1, 1, 1, 1, 1, 1, 1, 1, 1, 1, 1, 1, 1, 1,\n",
      "       1, 1, 1, 1, 1, 1, 1, 1, 1, 1, 1, 1, 1, 1, 1, 1, 1, 1, 1, 1, 1, 1,\n",
      "       1, 1, 1, 1, 1, 1, 1, 1, 1, 1, 1, 1, 1, 1, 1, 1, 1, 1, 1, 1, 1, 1,\n",
      "       1, 1, 1, 1, 1, 1, 1, 1, 1, 1, 1, 1, 1, 1, 1, 1, 1, 1, 1, 1, 1, 1,\n",
      "       1, 1, 1, 1, 1, 1, 1, 1, 1, 1, 1, 1, 1, 1, 1, 1, 1, 1, 1, 1, 1, 1,\n",
      "       1, 1, 1, 1, 1, 1, 1, 1, 1, 1, 1, 1, 1, 1, 1, 1, 1, 1, 1, 1, 1, 1,\n",
      "       1, 1, 1, 1, 1, 1, 1, 1, 1, 1, 1, 1, 1, 1, 1, 1, 1, 1, 1, 1, 1, 1,\n",
      "       1, 1, 1, 1, 1, 1, 1, 1, 1, 1, 1, 1, 1, 1, 1, 1, 1, 1, 1, 1, 1, 1,\n",
      "       1, 1, 1, 1, 1, 1, 1, 1, 1, 1, 1, 1, 1, 1, 1, 1, 1, 1, 1, 1, 1, 1,\n",
      "       1, 1, 1, 1, 1, 1, 1, 1, 1, 1, 1, 1, 1, 1, 1, 1, 1, 1, 1, 1, 1, 1,\n",
      "       1, 1, 1, 1, 1, 1, 1, 1, 1, 1, 1, 1, 1, 1, 1, 1, 1, 1, 1, 1, 1, 1,\n",
      "       1, 1, 1, 1, 1, 1, 1, 1, 1, 1, 1, 1, 1, 1, 1, 1, 1, 1, 1, 1, 1, 1,\n",
      "       1, 1, 1, 1, 1, 1, 1, 1, 1, 1, 1, 1, 1, 1, 1, 1, 1, 1, 1, 1, 1, 1,\n",
      "       1, 1, 1, 1, 1, 1, 1, 1, 1, 1, 1, 1, 1, 1, 1, 1, 1, 1, 1, 1, 1, 1,\n",
      "       1, 1, 1, 1, 1, 1, 1, 1, 1, 1, 1, 1, 1, 1, 1, 1, 1, 1, 1, 1, 1, 1,\n",
      "       1, 1, 1, 1, 1, 1, 1, 1, 1, 1, 1, 1, 1, 1, 1, 1, 1, 1, 1, 1, 1, 1,\n",
      "       1, 1, 1, 1, 1, 1, 1, 1, 1, 1, 1, 1, 1, 1, 1, 1, 1, 1, 1, 1, 1, 1,\n",
      "       1, 1, 1, 1, 1, 1, 1, 1, 1, 1, 1, 1, 1, 1, 1, 1, 1, 1, 1, 1, 1, 1,\n",
      "       1, 1, 1, 1, 1, 1, 1, 1, 1, 1, 1, 1, 1, 1, 1, 1, 1, 1, 1, 1, 1, 1,\n",
      "       1, 1, 1, 1, 1, 1, 1, 1, 1, 1, 1, 1, 1, 1, 1, 1, 1, 1, 1, 1, 1, 1,\n",
      "       1, 1, 1, 1, 1, 1, 1, 1, 1, 1, 1, 1, 1, 1, 1, 1, 1, 1, 1, 1, 1, 1,\n",
      "       1, 1, 1, 1, 1, 1, 1, 1, 1, 1, 1, 1, 1, 1, 1, 1, 1, 1, 1, 1, 1, 1,\n",
      "       1, 1, 1, 1, 1, 1, 1, 1, 1, 1, 1, 1, 1, 1, 1, 1, 1, 1, 1, 1, 1, 1,\n",
      "       1, 1, 1, 1, 1, 1, 1, 1, 1, 1, 1, 1, 1, 1, 1, 1, 1, 1, 1, 1, 1, 1,\n",
      "       1, 1, 1, 1, 1, 1, 1, 1, 1, 1, 1, 1, 1, 1, 1, 1, 1, 1, 1, 1, 1, 1,\n",
      "       1, 1, 1, 1, 1, 1, 1, 1, 1, 1, 1, 1, 1, 1, 1, 1, 1, 1, 1, 1, 1, 1,\n",
      "       1, 1, 1, 1, 1, 1, 1, 1, 1, 1, 1, 1, 1, 1, 1, 1, 1, 1, 1, 1, 1, 1,\n",
      "       1, 1, 1, 1, 1, 1, 1, 1, 1, 1, 1, 1, 1, 1, 1, 1, 1, 1, 1, 1, 1, 1,\n",
      "       1, 1, 1, 1, 1, 1, 1, 1, 1, 1, 1, 1, 1, 1, 1, 1, 1, 1, 1, 1, 1, 1,\n",
      "       1, 1, 1, 1, 1, 1, 1, 1, 1, 1, 1, 1, 1, 1, 1, 1, 1, 1, 1, 1, 1, 1,\n",
      "       1, 1, 1, 1, 1, 1, 1, 1, 1, 1, 1, 1, 1, 1, 1, 1, 1, 1, 1, 1, 1, 1,\n",
      "       1, 1, 1, 1, 1, 1, 1, 1, 1, 1, 1, 1, 1, 1, 1, 1, 1, 1, 1, 1, 1, 1,\n",
      "       1, 1, 1, 1, 1, 1, 1, 1, 1, 1, 1, 1, 1, 1, 1, 1, 1, 1, 1, 1, 1, 1,\n",
      "       1, 1, 1, 1, 1, 1, 1, 1, 1, 1, 1, 1, 1, 1, 1, 1, 1, 1, 1, 1, 1, 1,\n",
      "       1, 1, 1, 1, 1, 1, 1, 1, 1, 1, 1, 1, 1, 1, 1, 1, 1, 1, 1, 1, 1, 1,\n",
      "       1, 1, 1, 1, 1, 1, 1, 1, 1, 1, 1, 1, 1, 1, 1, 1, 1, 1, 1, 1, 1, 1,\n",
      "       1, 1, 1, 1, 1, 1, 1, 1, 1, 1, 1, 1, 1, 1, 1, 1, 1, 1, 1, 1, 1, 1,\n",
      "       1, 1, 1, 1, 1, 1, 1, 1, 1, 1, 1, 1, 1, 1, 1, 1, 1, 1, 1, 1, 1, 1,\n",
      "       1, 1, 1, 1, 1, 1, 1, 1, 1, 1, 1, 1, 1, 1, 1, 1, 1, 1, 1, 1, 1, 1,\n",
      "       1, 1, 1, 1, 1, 1, 1, 1, 1, 1, 1, 1, 1, 1, 1, 1, 1, 1, 1, 1, 1, 1,\n",
      "       1, 1, 1, 1, 1, 1, 1, 1, 1, 1, 1, 1, 1, 1, 1, 1, 1, 1, 1, 1, 1, 1,\n",
      "       1, 1, 1, 1, 1, 1, 1, 1, 1, 1, 1, 1, 1, 1, 1, 1, 1, 1, 1, 1, 1, 1,\n",
      "       1, 1, 1, 1, 1, 1, 1, 1, 1, 1, 1, 1, 1, 1, 1, 1, 1, 1, 1, 1, 1, 1,\n",
      "       1, 1, 1, 1, 1, 1, 1, 1, 1, 1, 1, 1, 1, 1, 1, 1, 1, 1, 1, 1, 1, 1,\n",
      "       1, 1, 1, 1, 1, 1, 1, 1, 1, 1, 1, 1, 1, 1, 1, 1, 1, 1, 1, 1, 1, 1,\n",
      "       1, 1, 1, 1, 1, 1, 1, 1, 1, 1, 1, 1, 1, 1, 1, 1, 1, 1, 1, 1, 1, 1,\n",
      "       1, 1, 1, 1, 1, 1, 1, 1, 1, 1, 1, 1, 1, 1, 1, 1, 1, 1, 1, 1, 1, 1,\n",
      "       1, 1, 1, 1, 1, 1, 1, 1, 1, 1, 1, 1, 1, 1, 1, 1, 1, 1, 1, 1, 1, 1,\n",
      "       1, 1, 1, 1, 1, 1, 1, 1, 1, 1, 1, 1, 1, 1, 1, 1, 1, 1, 1, 1, 1, 1,\n",
      "       1, 1, 1, 1, 1, 1, 1, 1, 1, 1, 1, 1, 1, 1, 1, 1, 1, 1, 1, 1, 1, 1,\n",
      "       1, 1, 1, 1, 1, 1, 1, 1, 1, 1, 1, 1, 1, 1, 1, 1, 1, 1, 1, 1, 1, 1,\n",
      "       1, 1, 1, 1, 1, 1, 1, 1, 1, 1, 1, 1, 1, 1, 1, 1, 1, 1, 1, 1, 1, 1,\n",
      "       1, 1, 1, 1, 1, 1, 1, 1, 1, 1, 1, 1, 1, 1, 1, 1, 1, 1, 1, 1, 1, 1,\n",
      "       1, 1, 1, 1, 1, 1, 1, 1, 1, 1, 1, 1, 1, 1, 1, 1, 1, 1, 1, 1, 1, 1,\n",
      "       1, 1, 1, 1, 1, 1, 1, 1, 1, 1, 1, 1, 1, 1, 1, 1, 1, 1, 1, 1, 1, 1,\n",
      "       1, 1, 1, 1, 1, 1, 1, 1, 1, 1, 1, 1, 1, 1, 1, 1, 1, 1, 1, 1, 1, 1,\n",
      "       1, 1, 1, 1, 1, 1, 1, 1, 1, 1, 1, 1, 1, 1, 1, 1, 1, 1, 1, 1, 1, 1,\n",
      "       1, 1, 1, 1, 1, 1, 1, 1, 1, 1, 1, 1, 1, 1, 1, 1, 1, 1, 1, 1, 1, 1,\n",
      "       1, 1, 1, 1, 1, 1, 1, 1, 1, 1, 1, 1, 1, 1, 1, 1, 1, 1, 1, 1, 1, 1,\n",
      "       1, 1, 1, 1, 1, 1, 1, 1, 1, 1, 1, 1, 1, 1, 1, 1, 1, 1, 1, 1, 1, 1,\n",
      "       1, 1, 1, 1, 1, 1, 1, 1, 1, 1, 1, 1, 1, 1, 1, 1, 1, 1, 1, 1, 1, 1,\n",
      "       1, 1, 1, 1, 1, 1, 1, 1, 1, 1, 1, 1, 1, 1, 1, 1, 1, 1, 1, 1, 1, 1,\n",
      "       1, 1, 1, 1, 1, 1, 1, 1, 1, 1, 1, 1, 1, 1, 1, 1, 1, 1, 1, 1, 1, 1,\n",
      "       1, 1, 1, 1, 1, 1, 1, 1, 1, 1, 1, 1, 1, 1, 1, 1, 1, 1, 1, 1, 1, 1,\n",
      "       1, 1, 1, 1, 1, 1, 1, 1, 1, 1, 1, 1, 1, 1, 1, 1, 1, 1, 1, 1, 1, 1,\n",
      "       1, 1, 1, 1, 1, 1, 1, 1, 1, 1, 1, 1, 1, 1, 1, 1, 1, 1, 1, 1, 1, 1,\n",
      "       1, 1, 1, 1, 1, 1, 1, 1, 1, 1, 1, 1, 1, 1, 1, 1, 1, 1, 1, 1, 1, 1,\n",
      "       1, 1, 1, 1, 1, 1, 1, 1, 1, 1, 1, 1, 1, 1, 1, 1, 1, 1, 1, 1, 1, 1,\n",
      "       1, 1, 1, 1, 1, 1, 1, 1, 1, 1, 1, 1, 1, 1, 1, 1, 1, 1, 1, 1, 1, 1,\n",
      "       1, 1, 1, 1, 1, 1, 1, 1, 1, 1, 1, 1, 1, 1, 1, 1, 1, 1, 1, 1, 1, 1,\n",
      "       1, 1, 1, 1, 1, 1, 1, 1, 1, 1, 1, 1, 1, 1, 1, 1, 1, 1, 1, 1, 1, 1,\n",
      "       1, 1, 1, 1, 1, 1, 1, 1, 1, 1, 1, 1, 1, 1, 1, 1, 1, 1, 1, 1, 1, 1,\n",
      "       1, 1, 1, 1, 1, 1, 1, 1, 1, 1, 1, 1, 1, 1, 1, 1, 1, 1, 1, 1, 1, 1,\n",
      "       1, 1, 1, 1, 1, 1, 1, 1, 1, 1, 1, 1, 1, 1, 1, 1, 1, 1, 1, 1, 1, 1,\n",
      "       1, 1, 1, 1, 1, 1, 1, 1, 1, 1, 1, 1, 1, 1, 1, 1, 1, 1, 1, 1, 1, 1,\n",
      "       1, 1, 1, 1, 1, 1, 1, 1, 1, 1, 1, 1, 1, 1, 1, 1, 1, 1, 1, 1, 1, 1,\n",
      "       1, 1, 1, 1, 1, 1, 1, 1, 1, 1, 1, 1, 1, 1, 1, 1, 1, 1, 1, 1, 1, 1,\n",
      "       1, 1, 1, 1, 1, 1, 1, 1, 1, 1, 1, 1, 1, 1, 1, 1, 1, 1, 1, 1, 1, 1,\n",
      "       1, 1, 1, 1, 1, 1, 1, 1, 1, 1, 1, 1, 1, 1, 1, 1, 1, 1, 1, 1, 1, 1,\n",
      "       1, 1, 1, 1, 1, 1, 1, 1, 1, 1, 1, 1, 1, 1, 1, 1, 1, 1, 1, 1, 1, 1,\n",
      "       1, 1, 1, 1, 1, 1, 1, 1, 1, 1, 1, 1, 1, 1, 1, 1, 1, 1, 1, 1, 1, 1,\n",
      "       1, 1, 1, 1, 1, 1, 1, 1, 1, 1, 1, 1, 1, 1, 1, 1, 1, 1, 1, 1, 1, 1,\n",
      "       1, 1, 1, 1, 1, 1, 1, 1, 1, 1, 1, 1, 1, 1, 1, 1, 1, 1, 1, 1, 1, 1,\n",
      "       1, 1, 1, 1, 1, 1, 1, 1, 1, 1, 1, 1, 1, 1, 1, 1, 1, 1, 1, 1, 1, 1,\n",
      "       1, 1, 1, 1, 1, 1, 1, 1, 1, 1, 1, 1, 1, 1, 1, 1, 1, 1, 1, 1, 1, 1,\n",
      "       1, 1, 1, 1, 1, 1, 1, 1, 1, 1, 1, 1, 1, 1, 1, 1, 1, 1, 1, 1, 1, 1,\n",
      "       1, 1, 1, 1, 1, 1, 1, 1, 1, 1, 1, 1, 1, 1, 1, 1, 1, 1, 1, 1, 1, 1,\n",
      "       1, 1, 1, 1, 1, 1, 1, 1, 1, 1, 1, 1, 1, 1, 1, 1, 1, 1, 1, 1, 1, 1,\n",
      "       1, 1, 1, 1, 1, 1, 1, 1, 1, 1, 1, 1, 1, 1, 1, 1, 1, 1, 1, 1, 1, 1,\n",
      "       1, 1, 1, 1, 1, 1, 1, 1, 1, 1, 1, 1, 1, 1, 1, 1, 1, 1, 1, 1, 1, 1,\n",
      "       1, 1, 1, 1, 1, 1, 1, 1, 1, 1, 1, 1, 1, 1, 1, 1, 1, 1, 1, 1, 1, 1,\n",
      "       1, 1, 1, 1, 1, 1, 1, 1, 1, 1, 1, 1, 1, 1, 1, 1, 1, 1, 1, 1, 1, 1,\n",
      "       1, 1, 1, 1, 1, 1, 1, 1, 1, 1, 1, 1, 1, 1, 1, 1, 1, 1, 1, 1, 1, 1,\n",
      "       1, 1, 1, 1, 1, 1, 1, 1, 1, 1, 1, 1, 1, 1, 1, 1, 1, 1, 1, 1, 1, 1,\n",
      "       1, 1, 1, 1, 1, 1, 1, 1, 1, 1, 1, 1, 1, 1, 1, 1, 1, 1, 1, 1, 1, 1,\n",
      "       1, 1, 1, 1, 1, 1, 1, 1, 1, 1, 1, 1, 1, 1, 1, 1, 1, 1, 1, 1, 1, 1,\n",
      "       1, 1, 1, 1, 1, 1, 1, 1, 1, 1, 1, 1, 1, 1, 1, 1, 1, 1, 1, 1, 1, 1,\n",
      "       1, 1, 1, 1, 1, 1, 1, 1, 1, 1, 1, 1, 1, 1, 1, 1, 1, 1, 1, 1, 1, 1,\n",
      "       1, 1, 1, 1, 1, 1, 1, 1, 1, 1, 1, 1, 1, 1, 1, 1, 1, 1, 1, 1, 1, 1,\n",
      "       1, 1, 1, 1, 1, 1, 1, 1, 1, 1, 1, 1, 1, 1, 1, 1, 1, 1, 1, 1, 1, 1,\n",
      "       1, 1, 1, 1, 1, 1, 1, 1, 1, 1, 1, 1, 1, 1, 1, 1, 1, 1, 1, 1, 1, 1,\n",
      "       1, 1, 1, 1, 1, 1, 1, 1, 1, 1, 1, 1, 1, 1, 1, 1, 1, 1, 1, 1, 1, 1,\n",
      "       1, 1, 1, 1, 1, 1, 1, 1, 1, 1, 1, 1, 1, 1, 1, 1, 1, 1, 1, 1, 1, 1,\n",
      "       1, 1, 1, 1, 1, 1, 1, 1, 1, 1, 1, 1, 1, 1, 1, 1, 1, 1, 1, 1, 1, 1,\n",
      "       1, 1, 1, 1, 1, 1, 1, 1, 1, 1, 1, 1, 1, 1, 1, 1, 1, 1, 1, 1, 1, 1,\n",
      "       1, 1, 1, 1, 1, 1, 1, 1, 1, 1, 1, 1, 1, 1, 1, 1, 1, 1, 1, 1, 1, 1,\n",
      "       1, 1, 1, 1, 1, 1, 1, 1, 1, 2, 2, 2, 2, 2, 2, 2, 2, 2, 2, 2, 2, 2,\n",
      "       2, 2, 2, 2, 2, 2, 2, 2, 2, 2, 2, 2, 2, 2, 2, 2, 2, 2, 2, 2, 2, 2,\n",
      "       2, 2, 2, 2, 2, 2, 2, 2, 2, 2, 2, 2, 2, 2, 2, 2, 2, 2, 2, 2, 2, 2,\n",
      "       2, 2, 2, 2, 2, 2, 2, 2, 2, 2, 2, 2, 2, 2, 2, 2, 2, 2, 2, 2, 2, 2,\n",
      "       2, 2, 2, 2, 2, 2, 2, 2, 2, 2, 2, 2, 2, 2, 2, 2, 2, 2, 2, 2, 2, 2,\n",
      "       2, 2, 2, 2, 2, 2, 2, 2, 2, 2, 2, 2, 2, 2, 2, 2, 2, 2, 2, 2, 2, 2,\n",
      "       2, 2, 2, 2, 2, 2, 2, 2, 2, 2, 2, 2, 2, 2, 2, 2, 2, 2, 2, 2, 2, 2,\n",
      "       2, 2, 2, 2, 2, 2, 2, 2, 2, 2, 2, 2, 2, 2, 2, 2, 2, 2, 2, 2, 2, 2,\n",
      "       2, 2, 2, 2, 2, 2, 2, 2, 2, 2, 2, 2, 2, 2, 2, 2, 2, 2, 2, 2, 2, 2,\n",
      "       2, 2, 2, 2, 2, 2, 2, 2, 2, 2, 2, 2, 2, 2, 2, 2, 2, 2, 2, 2, 2, 2,\n",
      "       2, 2, 2, 2, 2, 2, 2, 2, 2, 2, 2, 2, 2, 2, 2, 2, 2, 2, 2, 2, 2, 2,\n",
      "       2, 2, 2, 2, 2, 2, 2, 2, 2, 2, 2, 2, 2, 2, 2, 2, 2, 2, 2, 2, 2, 2,\n",
      "       2, 2, 2, 2, 2, 2, 2, 2, 2, 2, 2, 2, 2, 2, 2, 2, 2, 2, 2, 2, 2, 2,\n",
      "       2, 2, 2, 2, 2, 2, 2, 2, 2, 2, 2, 2, 2, 2, 2, 2, 2, 2, 2, 2, 2, 2,\n",
      "       2, 2, 2, 2, 2, 2, 2, 2, 2, 2, 2, 2, 2, 2, 2, 2, 2, 2, 2, 2, 2, 2,\n",
      "       2, 2, 2, 2, 2, 2, 2, 2, 2, 2, 2, 2, 2, 2, 2, 2, 2, 2, 2, 2, 2, 2,\n",
      "       2, 2, 2, 2, 2, 2, 2, 2, 2, 2, 2, 2, 2, 2, 2, 2, 2, 2, 2, 2, 2, 2,\n",
      "       2, 2, 2, 2, 2, 2, 2, 2, 2, 2, 2, 2, 2, 2, 2, 2, 2, 2, 2, 2, 2, 2,\n",
      "       2, 2, 2, 2, 2, 2, 2, 2, 2, 2, 2, 2, 2, 2, 2, 2, 2, 2, 2, 2, 2, 2,\n",
      "       2, 2, 2, 2, 2, 2, 2, 2, 2, 2, 2, 2, 2, 2, 2, 2, 2, 2, 2, 2, 2, 2,\n",
      "       2, 2, 2, 2, 2, 2, 2, 2, 2, 2, 2, 2, 2, 2, 2, 2, 2, 2, 2, 2, 2, 2,\n",
      "       2, 2, 2, 2, 2, 2, 2, 2, 2, 2, 2, 2, 2, 2, 2, 2, 2, 2, 2, 2, 2, 2,\n",
      "       2, 2, 2, 2, 2, 2, 2, 2, 2, 2, 2, 2, 2, 2, 2, 2, 2, 2, 2, 2, 2, 2,\n",
      "       2, 2, 2, 2, 2, 2, 2, 2, 2, 2, 2, 2, 2, 2, 2, 2, 2, 2, 2, 2, 2, 2,\n",
      "       2, 2, 2, 2, 2, 2, 2, 2, 2, 2, 2, 2, 2, 2, 2, 2, 2, 2, 2, 2, 2, 2,\n",
      "       2, 2, 2, 2, 2, 2, 2, 2, 2, 2, 2, 2, 2, 2, 2, 2, 2, 2, 2, 2, 2, 2,\n",
      "       2, 2, 2, 2, 2, 2, 2, 2, 2, 2, 2, 2, 2, 2, 2, 2, 2, 2, 2, 2, 2, 2,\n",
      "       2, 2, 2, 2, 2, 2, 2, 2, 2, 2, 2, 2, 2, 2, 2, 2, 2, 2, 2, 2, 2, 2,\n",
      "       2, 2, 2, 2, 2, 2, 2, 2, 2, 2, 2, 2, 2, 2, 2, 2, 2, 2, 2, 2, 2, 2,\n",
      "       2, 2, 2, 2, 2, 2, 2, 2, 2, 2, 2, 2, 2, 2, 2, 2, 2, 2, 2, 2, 2, 2,\n",
      "       2, 2, 2, 2, 2, 2, 2, 2, 2, 2, 2, 2, 2, 2, 2, 2, 2, 2, 2, 2, 2, 2,\n",
      "       2, 2, 2, 2, 2, 2, 2, 2, 2, 2, 2, 2, 2, 2, 2, 2, 2, 2, 2, 2, 2, 2,\n",
      "       2, 2, 2, 2, 2, 2, 2, 2, 2, 2, 2, 2, 2, 2, 2, 2, 2, 2, 2, 2, 2, 2,\n",
      "       2, 2, 2, 2, 2, 2, 2, 2, 2, 2, 2, 2, 2, 2, 2, 2, 2, 2, 2, 2, 2, 2,\n",
      "       2, 2, 2, 2, 2, 2, 2, 2, 2, 2, 2, 2, 2, 2, 2, 2, 2, 2, 2, 2, 2, 2,\n",
      "       2, 2, 2, 2, 2, 2, 2, 2, 2, 2, 2, 2, 2, 2, 2, 2, 2, 2, 2, 2, 2, 2,\n",
      "       2, 2, 2, 2, 2, 2, 2, 2, 2, 2, 2, 2, 2, 2, 2, 2, 2, 2, 2, 2, 2, 2,\n",
      "       2, 2, 2, 2, 2, 2, 2, 2, 2, 2, 2, 2, 2, 2, 2, 2, 2, 2, 2, 2, 2, 2,\n",
      "       2, 2, 2, 2, 2, 2, 2, 2, 2, 2, 2, 2, 2, 2, 2, 2, 2, 2, 2, 2, 2, 2,\n",
      "       2, 2, 2, 2, 2, 2, 2, 2, 2, 2, 2, 2, 2, 2, 2, 2, 2, 2, 2, 2, 2, 2,\n",
      "       2, 2, 2, 2, 2, 2, 2, 2, 2, 2, 2, 2, 2, 2, 2, 2, 2, 2, 2, 2, 2, 2,\n",
      "       2, 2, 2, 2, 2, 2, 2, 2, 2, 2, 2, 2, 2, 2, 2, 2, 2, 2, 2, 2, 2, 2,\n",
      "       2, 2, 2, 2, 2, 2, 2, 2, 2, 2, 2, 2, 2, 2, 2, 2, 2, 2, 2, 2, 2, 2,\n",
      "       2, 2, 2, 2, 2, 2, 2, 2, 2, 2, 2, 2, 2, 2, 2, 2, 2, 2, 2, 2, 2, 2,\n",
      "       2, 2, 2, 2, 2, 2, 2, 2, 2, 2, 2, 2, 2, 2, 2, 2, 2, 2, 2, 2, 2, 2,\n",
      "       2, 2, 2, 2, 2, 2, 2, 2, 2, 2, 2, 2, 2, 2, 2, 2, 2, 2, 2, 2, 2, 2,\n",
      "       2, 2, 2, 2, 2, 2, 2, 2, 2, 2, 2, 2, 2, 2, 2, 2, 2, 2, 2, 2, 2, 2,\n",
      "       2, 2, 2, 2, 2, 2, 2, 2, 2, 2, 2, 2, 2, 2, 2, 2, 2, 2, 2, 2, 2, 2,\n",
      "       2, 2, 2, 2, 2, 2, 2, 2, 2, 2, 2, 2, 2, 2, 2, 2, 2, 2, 2, 2, 2, 2,\n",
      "       2, 2, 2, 2, 2, 2, 2, 2, 2, 2, 2, 2, 2, 2, 2, 2, 2, 2, 2, 2, 2, 2,\n",
      "       2, 2, 2, 2, 2, 2, 2, 2, 2, 2, 2, 2, 2, 2, 2, 2, 2, 2, 2, 2, 2, 2,\n",
      "       2, 2, 2, 2, 2, 2, 2, 2, 2, 2, 2, 2, 2, 2, 2, 2, 2, 2, 2, 2, 2, 2,\n",
      "       2, 2, 2, 2, 2, 2, 2, 2, 2, 2, 2, 2, 2, 2, 2, 2, 2, 2, 2, 2, 2, 2,\n",
      "       2, 2, 2, 2, 2, 2, 2, 2, 2, 2, 2, 2, 2, 2, 2, 2, 2, 2, 2, 2, 2, 2,\n",
      "       2, 2, 2, 2, 2, 2, 2, 2, 2, 2, 2, 2, 2, 2, 2, 2, 2, 2, 2, 2, 2, 2,\n",
      "       2, 2, 2, 2, 2, 2, 2, 2, 2, 2, 2, 2, 2, 2, 2, 2, 2, 2, 2, 2, 2, 2,\n",
      "       2, 2, 2, 2, 2, 2, 2, 2, 2, 2, 2, 2, 2, 2, 2, 2, 2, 2, 2, 2, 2, 2,\n",
      "       2, 2, 2, 2, 2, 2, 2, 2, 2, 2, 2, 2, 2, 2, 2, 2, 2, 2, 2, 2, 2, 2,\n",
      "       2, 2, 2, 2, 2, 2, 2, 2, 2, 2, 2, 2, 2, 2, 2, 2, 2, 2, 2, 2, 2, 2,\n",
      "       2, 2, 2, 2, 2, 2, 2, 2, 2, 2, 2, 2, 2, 2, 2, 2, 2, 2, 2, 2, 2, 2,\n",
      "       2, 2, 2, 2, 2, 2, 2, 2, 2, 2, 2, 2, 2, 2, 2, 2, 2, 2, 2, 2, 2, 2,\n",
      "       2, 2, 2, 2, 2, 2, 2, 2, 2, 2, 2, 2, 2, 2, 2, 2, 2, 2, 2, 2, 2, 2,\n",
      "       2, 2, 2, 2, 2, 2, 2, 2, 2, 2, 2, 2, 2, 2, 2, 2, 2, 2, 2, 2, 2, 2,\n",
      "       2, 2, 2, 2, 2, 2, 2, 2, 2, 2, 2, 2, 2, 2, 2, 2, 2, 2, 2, 2, 2, 2,\n",
      "       2, 2, 2, 2, 2, 2, 2, 2, 2, 2, 2, 2, 2, 2, 2, 2, 2, 2, 2, 2, 2, 2,\n",
      "       2, 2, 2, 2, 2, 2, 2, 2, 2, 2, 2, 2, 2, 2, 2, 2, 2, 2, 2, 2, 2, 2,\n",
      "       2, 2, 2, 2, 2, 2, 2, 2, 2, 2, 2, 2, 2, 2, 2, 2, 2, 2, 2, 2, 2, 2,\n",
      "       2, 2, 2, 2, 2, 2, 2, 2, 2, 2, 2, 2, 2, 2, 2, 2, 2, 2, 2, 2, 2, 2,\n",
      "       2, 2, 2, 2, 2, 2, 2, 2, 2, 2, 2, 2, 2, 2, 2, 2, 2, 2, 2, 2, 2, 2,\n",
      "       2, 2, 2, 2, 2, 2, 2, 2, 2, 2, 2, 2, 2, 2, 2, 2, 2, 2, 2, 2, 2, 2,\n",
      "       2, 2, 2, 2, 2, 2, 2, 2, 2, 2, 2, 2, 2, 2, 2, 2, 2, 2, 2, 2, 2, 2,\n",
      "       2, 2, 2, 2, 2, 2, 2, 2, 2, 2, 2, 2, 2, 2, 2, 2, 2, 2, 2, 2, 2, 2,\n",
      "       2, 2, 2, 2, 2, 2, 2, 2, 2, 2, 2, 2, 2, 2, 2, 3, 3, 3, 3, 3, 3, 3,\n",
      "       3, 3, 3, 3, 3, 3, 3, 3, 3, 3, 3, 3, 3, 3, 3, 3, 3, 3, 3, 3, 3, 3,\n",
      "       3, 3, 3, 3, 3, 3, 3, 3, 3, 3, 3, 3, 3, 3, 3, 3, 3, 3, 3, 3, 3, 3,\n",
      "       3, 3, 3, 3, 3, 3, 3, 3, 3, 3, 3, 3, 3, 3, 3, 3, 3, 3, 3, 3, 3, 3,\n",
      "       3, 3, 3, 3, 3, 3, 3, 3, 3, 3, 3, 3, 3, 4, 4, 4, 4, 4, 4, 4, 4, 4,\n",
      "       4, 4, 4, 4, 4, 4, 4, 4, 4, 4, 4, 4, 4, 4, 4, 4, 4, 4, 4, 4, 4, 4,\n",
      "       4, 4, 4, 4, 4, 4, 4, 4, 4, 4, 4, 4, 4, 4, 4, 4, 4, 4, 4, 4, 4, 4,\n",
      "       4, 4, 4, 4, 4, 4, 4, 4, 4, 4, 4, 4, 4, 4, 4, 4, 4, 4, 4, 4, 4, 4,\n",
      "       4, 4, 4, 4, 4, 4, 4, 4, 4, 4, 4, 4, 4, 4, 4, 4, 4, 4, 4, 4, 4, 4,\n",
      "       4, 4, 4, 4, 4, 4, 4, 4, 4, 4, 4, 4, 4, 4, 4, 4, 4, 4, 4, 4, 4, 4,\n",
      "       4, 4, 4, 4, 4, 4, 4, 4, 4, 4, 4, 4, 4, 4, 4, 4, 4, 4, 4, 4, 4, 4,\n",
      "       4, 4, 4, 4, 4, 4, 4, 4, 4, 4, 4, 4, 4, 4, 4, 4, 4, 4, 4, 4, 4, 4,\n",
      "       4, 4, 4, 4, 4, 4, 4, 4, 4, 4, 4, 4, 5, 5, 5, 5, 5, 5, 5, 5, 5, 5,\n",
      "       5, 5, 5, 5, 5, 5, 5, 5, 5, 5, 5, 5], dtype=int16)\n"
     ]
    }
   ],
   "source": [
    "fullprint(ytest)"
   ]
  },
  {
   "cell_type": "markdown",
   "metadata": {},
   "source": [
    "<h3><center><div style=\"direction:rtl;font-family:B Nazanin\">Train Windows</div></center></h1>"
   ]
  },
  {
   "cell_type": "code",
   "execution_count": 20,
   "metadata": {},
   "outputs": [
    {
     "data": {
      "text/plain": [
       "'\\nytestt=np.int32(np.array([ytest]).T)\\ntestx=np.concatenate((Xtest, ytestt), axis=1)\\ntestx=np.random.permutation(testx)\\nXtest=np.int32(testx[:,:-1])\\nytest=np.int32(testx[:,-1])'"
      ]
     },
     "execution_count": 20,
     "metadata": {},
     "output_type": "execute_result"
    }
   ],
   "source": [
    "#ytraint=np.int32(np.array([ytrain]).T)\n",
    "#trainx=np.concatenate((Xtrain, ytraint), axis=1)\n",
    "trainx=np.random.permutation(xtrain)\n",
    "Xtrain=np.array(trainx[:,:-1])\n",
    "ytrain=np.int16(trainx[:,-1])\n",
    "'''\n",
    "ytestt=np.int32(np.array([ytest]).T)\n",
    "testx=np.concatenate((Xtest, ytestt), axis=1)\n",
    "testx=np.random.permutation(testx)\n",
    "Xtest=np.int32(testx[:,:-1])\n",
    "ytest=np.int32(testx[:,-1])'''"
   ]
  },
  {
   "cell_type": "code",
   "execution_count": 21,
   "metadata": {},
   "outputs": [
    {
     "data": {
      "text/plain": [
       "(292, 481)"
      ]
     },
     "execution_count": 21,
     "metadata": {},
     "output_type": "execute_result"
    }
   ],
   "source": [
    "np.shape(wndws1)"
   ]
  },
  {
   "cell_type": "markdown",
   "metadata": {},
   "source": [
    "<h3><center><div style=\"direction:rtl;font-family:B Nazanin\">Validation Windows</div></center></h1>"
   ]
  },
  {
   "cell_type": "code",
   "execution_count": 22,
   "metadata": {},
   "outputs": [],
   "source": [
    "Xvalid=np.array(Xtrain)\n",
    "yvalid=np.array(ytrain)"
   ]
  },
  {
   "cell_type": "markdown",
   "metadata": {},
   "source": [
    "<h1><center><div style=\"direction:rtl;font-family:B Nazanin\">CNN And UnBalanced RAW Data</div></center></h1>\n",
    "<h1><center><div style=\"direction:rtl;font-family:Arial\">Cross Entropy Loss Function</div></center></h1>"
   ]
  },
  {
   "cell_type": "code",
   "execution_count": 23,
   "metadata": {
    "scrolled": true
   },
   "outputs": [
    {
     "name": "stdout",
     "output_type": "stream",
     "text": [
      "X_train =>  (1490, 480)\n",
      "y_train =>  (1490,)\n",
      "X_test  =>  (4500, 480)\n",
      "y_test  =>  (4500,)\n",
      "X_valid  =>  (1490, 480)\n",
      "y_valid  =>  (1490,)\n"
     ]
    }
   ],
   "source": [
    "X_train=np.array(Xtrain)\n",
    "y_train=np.array(ytrain)\n",
    "X_test=np.array(Xtest)\n",
    "y_test=np.array(ytest)\n",
    "X_valid=np.array(Xtrain)\n",
    "y_valid=np.array(ytrain)\n",
    "print('X_train => ', X_train.shape)\n",
    "print('y_train => ', y_train.shape)\n",
    "print('X_test  => ', X_test.shape)\n",
    "print('y_test  => ', y_test.shape)\n",
    "print('X_valid  => ', X_valid.shape)\n",
    "print('y_valid  => ', y_valid.shape)"
   ]
  },
  {
   "cell_type": "code",
   "execution_count": 24,
   "metadata": {},
   "outputs": [
    {
     "data": {
      "text/plain": [
       "1"
      ]
     },
     "execution_count": 24,
     "metadata": {},
     "output_type": "execute_result"
    }
   ],
   "source": [
    "y_train=np.array(ytrain)\n",
    "np.min(y_train)"
   ]
  },
  {
   "cell_type": "code",
   "execution_count": 25,
   "metadata": {},
   "outputs": [],
   "source": [
    "y_train_cat=to_categorical(y_train)\n",
    "y_valid_cat=to_categorical(y_valid)\n",
    "y_test_cat=to_categorical(y_test)\n",
    "\n",
    "\n",
    "X_train = np.expand_dims(X_train, axis=2)\n",
    "X_valid = np.expand_dims(X_valid, axis=2)\n",
    "X_test = np.expand_dims(X_test, axis=2)\n",
    "#y_train=np.transpose([y_train])"
   ]
  },
  {
   "cell_type": "code",
   "execution_count": 26,
   "metadata": {
    "scrolled": true
   },
   "outputs": [
    {
     "name": "stdout",
     "output_type": "stream",
     "text": [
      "Epoch 1/1000\n",
      "298/298 [==============================] - 6s 11ms/step - loss: 0.6265 - accuracy: 0.7470 - val_loss: 0.3633 - val_accuracy: 0.8356\n",
      "Epoch 2/1000\n",
      "298/298 [==============================] - 3s 11ms/step - loss: 0.3553 - accuracy: 0.8658 - val_loss: 0.3651 - val_accuracy: 0.8651\n",
      "Epoch 3/1000\n",
      "298/298 [==============================] - 3s 10ms/step - loss: 0.3011 - accuracy: 0.8805 - val_loss: 0.2152 - val_accuracy: 0.9121\n",
      "Epoch 4/1000\n",
      "298/298 [==============================] - 3s 10ms/step - loss: 0.2596 - accuracy: 0.9007 - val_loss: 0.2033 - val_accuracy: 0.9148\n",
      "Epoch 5/1000\n",
      "298/298 [==============================] - 3s 10ms/step - loss: 0.2120 - accuracy: 0.9013 - val_loss: 0.2303 - val_accuracy: 0.9128\n",
      "Epoch 6/1000\n",
      "298/298 [==============================] - 3s 10ms/step - loss: 0.2057 - accuracy: 0.9228 - val_loss: 0.2224 - val_accuracy: 0.9141\n",
      "Epoch 7/1000\n",
      "298/298 [==============================] - 3s 10ms/step - loss: 0.2153 - accuracy: 0.9268 - val_loss: 0.1992 - val_accuracy: 0.9295\n",
      "Epoch 8/1000\n",
      "298/298 [==============================] - 3s 10ms/step - loss: 0.1724 - accuracy: 0.9349 - val_loss: 0.1406 - val_accuracy: 0.9409\n",
      "Epoch 9/1000\n",
      "298/298 [==============================] - 3s 10ms/step - loss: 0.1792 - accuracy: 0.9436 - val_loss: 0.0663 - val_accuracy: 0.9758\n",
      "Epoch 10/1000\n",
      "298/298 [==============================] - 3s 10ms/step - loss: 0.1339 - accuracy: 0.9557 - val_loss: 0.1003 - val_accuracy: 0.9423\n",
      "Epoch 11/1000\n",
      "298/298 [==============================] - 3s 10ms/step - loss: 0.1193 - accuracy: 0.9544 - val_loss: 0.0536 - val_accuracy: 0.9779\n",
      "Epoch 12/1000\n",
      "298/298 [==============================] - 3s 10ms/step - loss: 0.1310 - accuracy: 0.9624 - val_loss: 0.0413 - val_accuracy: 0.9933\n",
      "Epoch 13/1000\n",
      "298/298 [==============================] - 3s 10ms/step - loss: 0.0946 - accuracy: 0.9691 - val_loss: 0.1177 - val_accuracy: 0.9725\n",
      "Epoch 14/1000\n",
      "298/298 [==============================] - 3s 10ms/step - loss: 0.1196 - accuracy: 0.9644 - val_loss: 0.4982 - val_accuracy: 0.9181\n",
      "Epoch 15/1000\n",
      "298/298 [==============================] - 3s 10ms/step - loss: 0.0895 - accuracy: 0.9752 - val_loss: 0.0522 - val_accuracy: 0.9879\n",
      "Epoch 16/1000\n",
      "298/298 [==============================] - 3s 10ms/step - loss: 0.1107 - accuracy: 0.9738 - val_loss: 0.0196 - val_accuracy: 0.9926\n",
      "Epoch 17/1000\n",
      "298/298 [==============================] - 3s 10ms/step - loss: 0.0798 - accuracy: 0.9812 - val_loss: 0.0439 - val_accuracy: 0.9893\n",
      "Epoch 18/1000\n",
      "298/298 [==============================] - 3s 10ms/step - loss: 0.1329 - accuracy: 0.9758 - val_loss: 0.0253 - val_accuracy: 0.9933\n",
      "Epoch 19/1000\n",
      "298/298 [==============================] - 3s 10ms/step - loss: 0.0943 - accuracy: 0.9812 - val_loss: 0.0128 - val_accuracy: 0.9993\n",
      "Epoch 20/1000\n",
      "298/298 [==============================] - 3s 10ms/step - loss: 0.0524 - accuracy: 0.9832 - val_loss: 0.0968 - val_accuracy: 0.9792\n",
      "Epoch 21/1000\n",
      "298/298 [==============================] - 3s 10ms/step - loss: 0.0929 - accuracy: 0.9826 - val_loss: 0.0075 - val_accuracy: 0.9973\n",
      "Epoch 22/1000\n",
      "298/298 [==============================] - 3s 10ms/step - loss: 0.0719 - accuracy: 0.9872 - val_loss: 0.0231 - val_accuracy: 0.9946\n",
      "Epoch 23/1000\n",
      "298/298 [==============================] - 3s 10ms/step - loss: 0.0461 - accuracy: 0.9893 - val_loss: 0.0927 - val_accuracy: 0.9812\n",
      "Epoch 24/1000\n",
      "298/298 [==============================] - 3s 10ms/step - loss: 0.0781 - accuracy: 0.9866 - val_loss: 0.0320 - val_accuracy: 0.9899\n",
      "Epoch 25/1000\n",
      "298/298 [==============================] - 3s 10ms/step - loss: 0.0932 - accuracy: 0.9859 - val_loss: 0.0120 - val_accuracy: 0.9973\n",
      "Epoch 26/1000\n",
      "298/298 [==============================] - 3s 10ms/step - loss: 0.0641 - accuracy: 0.9846 - val_loss: 0.0024 - val_accuracy: 0.9993\n",
      "Epoch 27/1000\n",
      "298/298 [==============================] - 3s 10ms/step - loss: 0.0518 - accuracy: 0.9872 - val_loss: 0.0198 - val_accuracy: 0.9940\n",
      "Epoch 28/1000\n",
      "298/298 [==============================] - 3s 10ms/step - loss: 0.0355 - accuracy: 0.9886 - val_loss: 0.0745 - val_accuracy: 0.9859\n",
      "Epoch 29/1000\n",
      "298/298 [==============================] - 3s 10ms/step - loss: 0.0643 - accuracy: 0.9859 - val_loss: 0.0281 - val_accuracy: 0.9966\n",
      "Epoch 30/1000\n",
      "298/298 [==============================] - 3s 10ms/step - loss: 0.0760 - accuracy: 0.9866 - val_loss: 0.2285 - val_accuracy: 0.9644\n",
      "Epoch 31/1000\n",
      "298/298 [==============================] - 3s 10ms/step - loss: 0.0574 - accuracy: 0.9913 - val_loss: 0.0198 - val_accuracy: 0.9980\n",
      "Epoch 32/1000\n",
      "298/298 [==============================] - 3s 10ms/step - loss: 0.0676 - accuracy: 0.9872 - val_loss: 0.0068 - val_accuracy: 0.9980\n",
      "Epoch 33/1000\n",
      "298/298 [==============================] - 3s 10ms/step - loss: 0.0171 - accuracy: 0.9946 - val_loss: 0.0042 - val_accuracy: 1.0000\n",
      "Epoch 34/1000\n",
      "298/298 [==============================] - 3s 10ms/step - loss: 0.0882 - accuracy: 0.9933 - val_loss: 0.0039 - val_accuracy: 0.9987\n",
      "Epoch 35/1000\n",
      "298/298 [==============================] - 3s 10ms/step - loss: 0.0489 - accuracy: 0.9893 - val_loss: 0.0241 - val_accuracy: 0.9953\n",
      "Epoch 36/1000\n",
      "298/298 [==============================] - 3s 10ms/step - loss: 0.0877 - accuracy: 0.9906 - val_loss: 0.0012 - val_accuracy: 0.9993\n",
      "Epoch 37/1000\n",
      "298/298 [==============================] - 3s 10ms/step - loss: 0.0557 - accuracy: 0.9953 - val_loss: 5.1206e-04 - val_accuracy: 1.0000\n",
      "Epoch 38/1000\n",
      "298/298 [==============================] - 3s 10ms/step - loss: 0.0308 - accuracy: 0.9913 - val_loss: 0.0034 - val_accuracy: 0.9993\n",
      "Epoch 39/1000\n",
      "298/298 [==============================] - 3s 10ms/step - loss: 0.0262 - accuracy: 0.9973 - val_loss: 0.0556 - val_accuracy: 0.9940\n",
      "Epoch 40/1000\n",
      "298/298 [==============================] - 3s 10ms/step - loss: 0.0828 - accuracy: 0.9940 - val_loss: 2.5167 - val_accuracy: 0.8450\n",
      "Epoch 41/1000\n",
      "298/298 [==============================] - 3s 10ms/step - loss: 0.0557 - accuracy: 0.9946 - val_loss: 5.0106e-04 - val_accuracy: 1.0000\n",
      "Epoch 42/1000\n",
      "298/298 [==============================] - 3s 10ms/step - loss: 0.0472 - accuracy: 0.9953 - val_loss: 0.0169 - val_accuracy: 0.9973\n",
      "Epoch 43/1000\n",
      "298/298 [==============================] - 3s 10ms/step - loss: 0.0382 - accuracy: 0.9966 - val_loss: 1.2186e-04 - val_accuracy: 1.0000\n",
      "Epoch 44/1000\n",
      "298/298 [==============================] - 3s 10ms/step - loss: 0.0284 - accuracy: 0.9940 - val_loss: 0.1335 - val_accuracy: 0.9826\n",
      "Epoch 45/1000\n",
      "298/298 [==============================] - 3s 10ms/step - loss: 0.0364 - accuracy: 0.9960 - val_loss: 0.0074 - val_accuracy: 0.9987\n",
      "Epoch 46/1000\n",
      "298/298 [==============================] - 3s 10ms/step - loss: 0.0535 - accuracy: 0.9933 - val_loss: 2.4279e-04 - val_accuracy: 1.0000\n",
      "Epoch 47/1000\n",
      "298/298 [==============================] - 3s 11ms/step - loss: 0.0225 - accuracy: 0.9946 - val_loss: 0.0010 - val_accuracy: 0.9993\n",
      "Epoch 48/1000\n",
      "298/298 [==============================] - 3s 10ms/step - loss: 0.0227 - accuracy: 0.9940 - val_loss: 0.0257 - val_accuracy: 0.9872\n",
      "Epoch 49/1000\n",
      "298/298 [==============================] - 3s 10ms/step - loss: 0.0376 - accuracy: 0.9940 - val_loss: 0.0376 - val_accuracy: 0.9993\n",
      "Epoch 50/1000\n",
      "298/298 [==============================] - 3s 10ms/step - loss: 0.0577 - accuracy: 0.9953 - val_loss: 0.2537 - val_accuracy: 0.9852\n",
      "Epoch 51/1000\n",
      "298/298 [==============================] - 3s 11ms/step - loss: 0.0407 - accuracy: 0.9953 - val_loss: 0.1310 - val_accuracy: 0.9832\n",
      "Epoch 52/1000\n",
      "298/298 [==============================] - 3s 10ms/step - loss: 0.0596 - accuracy: 0.9913 - val_loss: 0.0041 - val_accuracy: 0.9993\n",
      "Epoch 53/1000\n",
      "298/298 [==============================] - 3s 10ms/step - loss: 0.0475 - accuracy: 0.9946 - val_loss: 0.2920 - val_accuracy: 0.9752\n",
      "298/298 [==============================] - 1s 3ms/step - loss: 0.0042 - accuracy: 1.0000\n",
      "np.shape(X_test)= (4500, 480, 1)\n",
      "Model: \"sequential\"\n",
      "_________________________________________________________________\n",
      " Layer (type)                Output Shape              Param #   \n",
      "=================================================================\n",
      " conv1d (Conv1D)             (None, 478, 32)           128       \n",
      "                                                                 \n"
     ]
    },
    {
     "name": "stdout",
     "output_type": "stream",
     "text": [
      " conv1d_1 (Conv1D)           (None, 476, 64)           6208      \n",
      "                                                                 \n",
      " max_pooling1d (MaxPooling1D  (None, 158, 64)          0         \n",
      " )                                                               \n",
      "                                                                 \n",
      " conv1d_2 (Conv1D)           (None, 156, 128)          24704     \n",
      "                                                                 \n",
      " max_pooling1d_1 (MaxPooling  (None, 52, 128)          0         \n",
      " 1D)                                                             \n",
      "                                                                 \n",
      " conv1d_3 (Conv1D)           (None, 50, 128)           49280     \n",
      "                                                                 \n",
      " max_pooling1d_2 (MaxPooling  (None, 16, 128)          0         \n",
      " 1D)                                                             \n",
      "                                                                 \n",
      " conv1d_4 (Conv1D)           (None, 14, 256)           98560     \n",
      "                                                                 \n",
      " max_pooling1d_3 (MaxPooling  (None, 4, 256)           0         \n",
      " 1D)                                                             \n",
      "                                                                 \n",
      " flatten (Flatten)           (None, 1024)              0         \n",
      "                                                                 \n",
      " dense (Dense)               (None, 2000)              2050000   \n",
      "                                                                 \n",
      " dense_1 (Dense)             (None, 6)                 12006     \n",
      "                                                                 \n",
      "=================================================================\n",
      "Total params: 2,240,886\n",
      "Trainable params: 2,240,886\n",
      "Non-trainable params: 0\n",
      "_________________________________________________________________\n",
      "Accuracy=  1.0\n"
     ]
    }
   ],
   "source": [
    "accuracy=0\n",
    "acc_crs=np.array([])\n",
    "##for i in range (10):\n",
    "##    if accuracy<0.2 :\n",
    "\n",
    "verbose, epochs, batch_size = 1, 1000, 5\n",
    "n_timesteps, n_features, n_outputs = X_train.shape[1], X_train.shape[2], y_train_cat.shape[1]\n",
    "steps_per_epoch = len(X_train)//batch_size\n",
    "validation_steps = len(X_valid)//batch_size # if you have test data\n",
    "\n",
    "model_crs = Sequential()\n",
    "BatchNormalization()\n",
    "model_crs.add(Conv1D(filters=32, kernel_size=3, activation='relu', input_shape=(n_timesteps,n_features)))\n",
    "#model_crs.add(MaxPooling1D(pool_size=3))\n",
    "BatchNormalization()\n",
    "model_crs.add(Conv1D(filters=64, kernel_size=3, activation='relu'))\n",
    "#model_crs.add(Dropout(0.5))\n",
    "model_crs.add(MaxPooling1D(pool_size=3))\n",
    "BatchNormalization()\n",
    "model_crs.add(Conv1D(filters=128, kernel_size=3, activation='relu'))\n",
    "model_crs.add(MaxPooling1D(pool_size=3))\n",
    "BatchNormalization()\n",
    "model_crs.add(Conv1D(filters=128, kernel_size=3, activation='relu'))\n",
    "model_crs.add(MaxPooling1D(pool_size=3))\n",
    "BatchNormalization()\n",
    "model_crs.add(Conv1D(filters=256, kernel_size=3, activation='relu'))\n",
    "model_crs.add(MaxPooling1D(pool_size=3))\n",
    "'''model_crs.add(Conv1D(filters=512, kernel_size=3, activation='relu'))\n",
    "model_crs.add(MaxPooling1D(pool_size=3))\n",
    "model_crs.add(Conv1D(filters=1024, kernel_size=3, activation='relu'))\n",
    "model_crs.add(MaxPooling1D(pool_size=3))\n",
    "'''\n",
    "model_crs.add(Flatten())\n",
    "#model_crs.add(Dropout(0.5))\n",
    "model_crs.add(Dense(2000, activation='relu'))\n",
    "model_crs.add(Dense(n_outputs, activation='softmax'))\n",
    "model_crs.compile(optimizer='rmsprop', loss='categorical_crossentropy', metrics=['accuracy'])\n",
    "# fit network   #CategoricalCrossentropy #sparse_categorical_crossentropy #SparseCategoricalCrossentropy\n",
    "\n",
    "earlystopping = callbacks.EarlyStopping(monitor =\"val_accuracy\", mode =\"max\", patience = 20, restore_best_weights = True)\n",
    "\n",
    "model_crs.fit(X_train, y_train_cat, epochs=epochs, batch_size=batch_size, verbose=verbose, validation_data = (X_valid, y_valid_cat), callbacks =[earlystopping])\n",
    "# evaluate model_crs\n",
    "_, accuracy = model_crs.evaluate(X_valid, y_valid_cat, batch_size=batch_size, verbose=1)\n",
    "\n",
    "print('np.shape(X_test)=',np.shape(X_test))\n",
    "\n",
    "\n",
    "model_crs.summary()\n",
    "print('Accuracy= ', accuracy)\n",
    "\n",
    "#output = K.function([model_crs.layers[0].input],[model_crs.layers[3].output])\n",
    "#output(X_test)[0]\n",
    "#y_pred= model_crs.predict(X_test)                # Function 1\n",
    "\n",
    "##    print('Round ', i, '==>', 'accuracy = ', accuracy)\n",
    "##    acc_crs=np.append(acc_crs,accuracy)\n",
    "#y_pred_crs = model_crs.predict_classes(X_test)   # Function 2"
   ]
  },
  {
   "cell_type": "code",
   "execution_count": 27,
   "metadata": {},
   "outputs": [],
   "source": [
    "def maxindx(ar):\n",
    "    ar_cpy=np.array(ar)\n",
    "    pred=np.argmax(ar,axis=1)\n",
    "    for i in range (len(pred)):\n",
    "        if pred[i]==0:\n",
    "            ar_cpy[i,0]=-1000\n",
    "    pred=np.argmax(ar_cpy,axis=1)\n",
    "    return(pred)"
   ]
  },
  {
   "cell_type": "code",
   "execution_count": 28,
   "metadata": {},
   "outputs": [
    {
     "name": "stdout",
     "output_type": "stream",
     "text": [
      "141/141 [==============================] - 0s 2ms/step\n",
      "[[2600   11    0   14    2]\n",
      " [  35 1436    4  113    2]\n",
      " [  23   26   22   12    3]\n",
      " [   5   80    1   86    3]\n",
      " [  11    5    1    2    3]]\n",
      "              precision    recall  f1-score   support\n",
      "\n",
      "           1       0.97      0.99      0.98      2627\n",
      "           2       0.92      0.90      0.91      1590\n",
      "           3       0.79      0.26      0.39        86\n",
      "           4       0.38      0.49      0.43       175\n",
      "           5       0.23      0.14      0.17        22\n",
      "\n",
      "    accuracy                           0.92      4500\n",
      "   macro avg       0.66      0.56      0.58      4500\n",
      "weighted avg       0.92      0.92      0.92      4500\n",
      "\n"
     ]
    }
   ],
   "source": [
    "predict_x=model_crs.predict(X_test)              # Function 1\n",
    "\n",
    "y_pred_crs=maxindx(predict_x)                    # function from augment.py to remove 0 index predictions\n",
    "\n",
    "#y_pred_crs = model_crs.predict_classes(X_test)\n",
    "\n",
    "cm = confusion_matrix(y_test, y_pred_crs)\n",
    "print(cm)\n",
    "acc3=accuracy_score(y_test, y_pred_crs)\n",
    "\n",
    "print(classification_report(y_test, y_pred_crs))\n",
    "\n",
    "#sns.heatmap(cm, annot=True)\n",
    "\n",
    "#plt.imshow(cm)"
   ]
  }
 ],
 "metadata": {
  "celltoolbar": "Raw Cell Format",
  "kernelspec": {
   "display_name": "Python 3 (ipykernel)",
   "language": "python",
   "name": "python3"
  },
  "language_info": {
   "codemirror_mode": {
    "name": "ipython",
    "version": 3
   },
   "file_extension": ".py",
   "mimetype": "text/x-python",
   "name": "python",
   "nbconvert_exporter": "python",
   "pygments_lexer": "ipython3",
   "version": "3.9.7"
  }
 },
 "nbformat": 4,
 "nbformat_minor": 4
}
