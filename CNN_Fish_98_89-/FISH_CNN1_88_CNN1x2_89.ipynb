{
 "cells": [
  {
   "cell_type": "markdown",
   "metadata": {},
   "source": [
    "import time\n",
    "plc=1\n",
    "time.sleep(3000*plc)         #run after 1 houre = 3600 seconds"
   ]
  },
  {
   "cell_type": "code",
   "execution_count": 1,
   "metadata": {},
   "outputs": [
    {
     "data": {
      "text/html": [
       "<style>#notebook { padding-top:0px !important; } .container { width:100% !important; } .end_space { min-height:0px !important; } html, body, .container{ margin:0!important;padding:0!important;}</style>"
      ],
      "text/plain": [
       "<IPython.core.display.HTML object>"
      ]
     },
     "metadata": {},
     "output_type": "display_data"
    }
   ],
   "source": [
    "import os\n",
    "import glob\n",
    "import scipy\n",
    "import random\n",
    "import bisect\n",
    "import numpy as np\n",
    "import pandas as pd\n",
    "import seaborn as sns\n",
    "from scipy import signal\n",
    "from scipy.signal import find_peaks\n",
    "import matplotlib.pyplot as plt\n",
    "from preprocess import *                         #ماژول استخراج پنجره ها\n",
    "from data import *                          #ماژول محلی ورود داده ها\n",
    "from augment import *                            #ماژول های داده افزایی\n",
    "from lstm_cnn import *                           #ماژول های داده افزایی با lstm_cnn\n",
    "import augment\n",
    "import importlib\n",
    "importlib.reload(augment)\n",
    "import tensorflow as tf\n",
    "from tensorflow import keras\n",
    "from tensorflow.keras.layers import BatchNormalization\n",
    "from sklearn.model_selection import train_test_split\n",
    "from sklearn.neural_network import MLPClassifier\n",
    "from sklearn.datasets import make_classification\n",
    "from sklearn.metrics import confusion_matrix, accuracy_score, classification_report,recall_score,precision_score\n",
    "from tensorflow.keras import callbacks\n",
    "from tensorflow.keras import layers\n",
    "from tensorflow.keras.models import Sequential\n",
    "from tensorflow.keras.layers import Convolution2D,Conv1D,Dropout,MaxPooling1D,MaxPooling2D,Flatten,Dense\n",
    "from tensorflow.keras import backend as K\n",
    "from tensorflow.keras.utils import to_categorical\n",
    "from tensorflow.keras.models import load_model\n",
    "cwd = os.getcwd() #\n",
    "fullscrn()"
   ]
  },
  {
   "cell_type": "markdown",
   "metadata": {},
   "source": [
    "<h1><center><div style=\"direction:rtl;font-family:B Nazanin\">Importing Data</div></center></h1>"
   ]
  },
  {
   "cell_type": "code",
   "execution_count": 2,
   "metadata": {
    "scrolled": true
   },
   "outputs": [
    {
     "name": "stdout",
     "output_type": "stream",
     "text": [
      "first_train_shape= (175, 464)\n",
      "first_test_shape= (175, 464)\n",
      "classes_quantity= 7\n",
      "tr_lbls=\t {1, 2, 3, 4, 5, 6, 7}\n",
      "Count_labels= [26 25 28 21 22 25 28]\n",
      "max(train_feature_Altitude)= 7.0\n",
      "min(train_feature_Altitude)= -1.9506\n",
      "first_train_sample=\n",
      " [ 7.0000e+00  1.9509e+00  1.9267e+00  1.8957e+00  1.8580e+00  1.8206e+00\n",
      "  1.7903e+00  1.7676e+00  1.7313e+00  1.6952e+00  1.6589e+00  1.6230e+00\n",
      "  1.5869e+00  1.5572e+00  1.5217e+00  1.4861e+00  1.4505e+00  1.4140e+00\n",
      "  1.3777e+00  1.3415e+00  1.3054e+00  1.2699e+00  1.2348e+00  1.1989e+00\n",
      "  1.1633e+00  1.1267e+00  1.0922e+00  1.0566e+00  1.0210e+00  9.8561e-01\n",
      "  9.4955e-01  9.1484e-01  8.7873e-01  8.4270e-01  8.0675e-01  7.7089e-01\n",
      "  7.3512e-01  6.9944e-01  6.6385e-01  6.2656e-01  5.9114e-01  5.5395e-01\n",
      "  5.1871e-01  4.8163e-01  4.4643e-01  4.0963e-01  3.7273e-01  3.3589e-01\n",
      "  3.0122e-01  2.6453e-01  2.2790e-01  1.9134e-01  1.5484e-01  1.1848e-01\n",
      "  8.2080e-02  4.5819e-02  9.6418e-03 -2.6445e-02 -6.2437e-02 -9.8329e-02\n",
      " -1.3412e-01 -1.6979e-01 -2.0535e-01 -2.4079e-01 -2.7609e-01 -3.1126e-01\n",
      " -3.4627e-01 -3.8114e-01 -4.1583e-01 -4.5035e-01 -4.7830e-01 -5.0900e-01\n",
      " -5.3932e-01 -5.6422e-01 -5.8783e-01 -6.0897e-01 -6.3131e-01 -6.5184e-01\n",
      " -6.6625e-01 -6.8112e-01 -6.9434e-01 -7.0491e-01 -7.1466e-01 -7.2294e-01\n",
      " -7.2971e-01 -7.4028e-01 -7.5052e-01 -7.5760e-01 -7.7014e-01 -7.8231e-01\n",
      " -7.9051e-01 -7.9427e-01 -8.0191e-01 -8.0758e-01 -8.2325e-01 -8.3793e-01\n",
      " -8.6776e-01 -9.0660e-01 -9.4326e-01 -9.8111e-01 -1.0169e+00 -1.0525e+00\n",
      " -1.0878e+00 -1.1304e+00 -1.1779e+00 -1.2118e+00 -1.2504e+00 -1.2892e+00\n",
      " -1.3342e+00 -1.3713e+00 -1.3982e+00 -1.4284e+00 -1.4419e+00 -1.4601e+00\n",
      " -1.4696e+00 -1.4835e+00 -1.4953e+00 -1.4979e+00 -1.5047e+00 -1.5090e+00\n",
      " -1.5040e+00 -1.5032e+00 -1.4998e+00 -1.4879e+00 -1.4793e+00 -1.4688e+00\n",
      " -1.4560e+00 -1.4354e+00 -1.4187e+00 -1.4003e+00 -1.3789e+00 -1.3536e+00\n",
      " -1.3307e+00 -1.3066e+00 -1.2812e+00 -1.2548e+00 -1.2244e+00 -1.1992e+00\n",
      " -1.1702e+00 -1.1404e+00 -1.1099e+00 -1.0789e+00 -1.0473e+00 -1.0123e+00\n",
      " -9.7991e-01 -9.4665e-01 -9.1127e-01 -8.7532e-01 -8.3711e-01 -7.9581e-01\n",
      " -7.5240e-01 -7.1170e-01 -6.7151e-01 -6.3428e-01 -5.9566e-01 -5.5700e-01\n",
      " -5.1832e-01 -4.8186e-01 -4.4309e-01 -4.0649e-01 -3.6766e-01 -3.3509e-01\n",
      " -3.0467e-01 -2.8453e-01 -2.6741e-01 -2.4286e-01 -2.3729e-01 -2.5098e-01\n",
      " -2.8306e-01 -3.2307e-01 -3.2182e-01 -2.8553e-01 -2.4904e-01 -2.1155e-01\n",
      " -1.7426e-01 -1.3710e-01 -9.9367e-02 -6.1820e-02 -2.4350e-02  1.4162e-02\n",
      "  5.2106e-02  9.0096e-02  1.2864e-01  1.6719e-01  2.0626e-01  2.4533e-01\n",
      "  2.8497e-01  3.2412e-01  3.6376e-01  4.0315e-01  4.4327e-01  4.8295e-01\n",
      "  5.2294e-01  5.6293e-01  6.0414e-01  6.4468e-01  6.8529e-01  7.2611e-01\n",
      "  7.6855e-01  8.0248e-01  8.4356e-01  8.8501e-01  9.2638e-01  9.6672e-01\n",
      "  1.0077e+00  1.0486e+00  1.0890e+00  1.1289e+00  1.1686e+00  1.2090e+00\n",
      "  1.2472e+00  1.2841e+00  1.3118e+00  1.3328e+00  1.3139e+00  1.2954e+00\n",
      "  1.2772e+00  1.2644e+00  1.2489e+00  1.2320e+00  1.2223e+00  1.2131e+00\n",
      "  1.2043e+00  1.1959e+00  1.1743e+00  1.1532e+00  1.1235e+00  1.0919e+00\n",
      "  1.0607e+00  1.0232e+00  9.9311e-01  1.0067e+00  1.0250e+00  1.0547e+00\n",
      "  1.0833e+00  1.1120e+00  1.1408e+00  1.1658e+00  1.1803e+00  1.2034e+00\n",
      "  1.2296e+00  1.2645e+00  1.2885e+00  1.2955e+00  1.3164e+00  1.3309e+00\n",
      "  1.3392e+00  1.3413e+00  1.3430e+00  1.3103e+00  1.2754e+00  1.2408e+00\n",
      "  1.2038e+00  1.1644e+00  1.1235e+00  1.0826e+00  1.0390e+00  9.9699e-01\n",
      "  9.5982e-01  9.2362e-01  8.7945e-01  8.3559e-01  7.9213e-01  7.4722e-01\n",
      "  7.0248e-01  6.5793e-01  6.1252e-01  5.6941e-01  5.2672e-01  4.8445e-01\n",
      "  4.4278e-01  4.0050e-01  3.5966e-01  3.1937e-01  2.8005e-01  2.3865e-01\n",
      "  1.9738e-01  1.5746e-01  1.1658e-01  7.5781e-02  3.7458e-02 -1.7719e-03\n",
      " -4.0064e-02 -7.8342e-02 -1.1661e-01 -1.5384e-01 -1.9205e-01 -2.2916e-01\n",
      " -2.6618e-01 -3.0428e-01 -3.4116e-01 -3.7912e-01 -4.1590e-01 -4.0776e-01\n",
      " -3.8189e-01 -3.6769e-01 -3.4274e-01 -3.2486e-01 -3.0737e-01 -2.9511e-01\n",
      " -2.8212e-01 -2.6839e-01 -2.5396e-01 -2.3883e-01 -2.2922e-01 -2.3393e-01\n",
      " -2.6074e-01 -2.9248e-01 -3.3074e-01 -3.7018e-01 -4.1610e-01 -4.5877e-01\n",
      " -5.0413e-01 -5.4786e-01 -5.9159e-01 -6.3532e-01 -6.7580e-01 -7.2128e-01\n",
      " -7.6975e-01 -8.1026e-01 -8.5072e-01 -8.9116e-01 -9.3155e-01 -9.7045e-01\n",
      " -1.0122e+00 -1.0525e+00 -1.0947e+00 -1.1398e+00 -1.1764e+00 -1.2068e+00\n",
      " -1.2374e+00 -1.2689e+00 -1.2886e+00 -1.3076e+00 -1.3315e+00 -1.3587e+00\n",
      " -1.3800e+00 -1.4049e+00 -1.4231e+00 -1.4451e+00 -1.4597e+00 -1.4782e+00\n",
      " -1.4885e+00 -1.4965e+00 -1.5085e+00 -1.5115e+00 -1.5119e+00 -1.5165e+00\n",
      " -1.5075e+00 -1.5043e+00 -1.4718e+00 -1.4341e+00 -1.3953e+00 -1.3565e+00\n",
      " -1.3176e+00 -1.2794e+00 -1.2590e+00 -1.2536e+00 -1.2389e+00 -1.2399e+00\n",
      " -1.2456e+00 -1.2437e+00 -1.2500e+00 -1.2576e+00 -1.2616e+00 -1.2622e+00\n",
      " -1.2656e+00 -1.2665e+00 -1.2648e+00 -1.2527e+00 -1.2379e+00 -1.2117e+00\n",
      " -1.1845e+00 -1.1566e+00 -1.1279e+00 -1.0985e+00 -1.0643e+00 -1.0302e+00\n",
      " -9.9892e-01 -9.6366e-01 -9.3166e-01 -8.9621e-01 -8.6295e-01 -8.2759e-01\n",
      " -7.9467e-01 -7.6487e-01 -7.3128e-01 -6.9742e-01 -6.6014e-01 -6.2589e-01\n",
      " -5.9142e-01 -5.5676e-01 -5.2191e-01 -4.8973e-01 -4.5448e-01 -4.1908e-01\n",
      " -3.8354e-01 -3.4787e-01 -3.1461e-01 -2.8112e-01 -2.4739e-01 -2.1113e-01\n",
      " -1.7477e-01 -1.3916e-01 -1.0617e-01 -6.9482e-02 -3.4803e-02  3.7369e-05\n",
      "  3.5031e-02  7.0171e-02  1.0545e-01  1.4086e-01  1.7640e-01  2.1360e-01\n",
      "  2.4821e-01  2.8371e-01  3.1970e-01  3.5579e-01  3.9049e-01  4.2805e-01\n",
      "  4.6320e-01  4.9969e-01  5.3625e-01  5.7290e-01  6.0961e-01  6.4639e-01\n",
      "  6.8325e-01  7.2017e-01  7.5693e-01  7.9325e-01  8.2967e-01  8.6661e-01\n",
      "  9.0366e-01  9.4098e-01  9.7834e-01  1.0157e+00  1.0532e+00  1.0899e+00\n",
      "  1.1274e+00  1.1646e+00  1.2019e+00  1.2396e+00  1.2773e+00  1.3151e+00\n",
      "  1.3523e+00  1.3901e+00  1.4280e+00  1.4659e+00  1.5033e+00  1.5408e+00\n",
      "  1.5783e+00  1.6156e+00  1.6528e+00  1.6906e+00  1.7282e+00  1.7661e+00\n",
      "  1.8044e+00  1.8422e+00  1.8567e+00  1.8628e+00  1.9011e+00  1.9395e+00\n",
      "  1.9505e+00  1.9508e+00]\n",
      "1 26\t2 25\t3 28\t4 21\t5 22\t6 25\t7 28\t"
     ]
    }
   ],
   "source": [
    "rate=480\n",
    "cls_num=7\n",
    "btch=50\n",
    "for i in range (1,cls_num+1):\n",
    "    vars()['ecg'+str(i)],vars()['ecg_tst'+str(i)]=FISH(i)\n",
    "\n",
    "os.chdir(cwd)\n",
    "clses_lens=np.array([])\n",
    "i=0                               #جمع آوری داده ها و چاپ تعداد نمونه ی هر کلاس\n",
    "ecg=np.array(ecg1)\n",
    "print(1,len(vars()['ecg'+str(1)]), end='\\t')\n",
    "clses_lens=np.append(clses_lens,len(vars()['ecg'+str(1)]))\n",
    "for i in range (2,cls_num+1):\n",
    "    ecg=np.concatenate((ecg,vars()['ecg'+str(i)]),axis=0)\n",
    "    clses_lens=np.append(clses_lens,len(vars()['ecg'+str(i)]))\n",
    "    print(i,len(vars()['ecg'+str(i)]), end='\\t')\n",
    "\n",
    "mx_sig=max(clses_lens)"
   ]
  },
  {
   "cell_type": "code",
   "execution_count": 3,
   "metadata": {},
   "outputs": [
    {
     "data": {
      "text/plain": [
       "(175, 481)"
      ]
     },
     "execution_count": 3,
     "metadata": {},
     "output_type": "execute_result"
    }
   ],
   "source": [
    "np.shape(ecg)"
   ]
  },
  {
   "cell_type": "code",
   "execution_count": 4,
   "metadata": {},
   "outputs": [
    {
     "data": {
      "text/plain": [
       "array([1., 1., 1., 1., 1., 1., 1., 1., 1., 1., 1., 1., 1., 1., 1., 1., 1.,\n",
       "       1., 1., 1., 1., 1., 1., 1., 1., 1., 2., 2., 2., 2., 2., 2., 2., 2.,\n",
       "       2., 2., 2., 2., 2., 2., 2., 2., 2., 2., 2., 2., 2., 2., 2., 2., 2.,\n",
       "       3., 3., 3., 3., 3., 3., 3., 3., 3., 3., 3., 3., 3., 3., 3., 3., 3.,\n",
       "       3., 3., 3., 3., 3., 3., 3., 3., 3., 3., 3., 4., 4., 4., 4., 4., 4.,\n",
       "       4., 4., 4., 4., 4., 4., 4., 4., 4., 4., 4., 4., 4., 4., 4., 5., 5.,\n",
       "       5., 5., 5., 5., 5., 5., 5., 5., 5., 5., 5., 5., 5., 5., 5., 5., 5.,\n",
       "       5., 5., 5., 6., 6., 6., 6., 6., 6., 6., 6., 6., 6., 6., 6., 6., 6.,\n",
       "       6., 6., 6., 6., 6., 6., 6., 6., 6., 6., 6., 7., 7., 7., 7., 7., 7.,\n",
       "       7., 7., 7., 7., 7., 7., 7., 7., 7., 7., 7., 7., 7., 7., 7., 7., 7.,\n",
       "       7., 7., 7., 7., 7.])"
      ]
     },
     "execution_count": 4,
     "metadata": {},
     "output_type": "execute_result"
    }
   ],
   "source": [
    "ecg[:,-1]"
   ]
  },
  {
   "cell_type": "markdown",
   "metadata": {},
   "source": [
    "<h2><center><div style=\"direction:rtl;font-family:B Nazanin\">Base Train windows</div></center></h1>"
   ]
  },
  {
   "cell_type": "code",
   "execution_count": 5,
   "metadata": {},
   "outputs": [
    {
     "name": "stdout",
     "output_type": "stream",
     "text": [
      "each class and its windows =\n",
      "1 26\t2 25\t3 28\t4 21\t5 22\t6 25\t7 28\t\n",
      " max = 28\n"
     ]
    }
   ],
   "source": [
    "smpl_rte=480                                              # در ماژول ها نیز همین مقدار ثبت شده\n",
    "i=0\n",
    "windws=np.array([])\n",
    "\n",
    "for cls in range (1,cls_num+1):                                 #ساخت پنجره های داده های آموزش اصلی\n",
    "    vars()['wndws'+str(cls)]=np.array(vars()['ecg'+str(cls)])  \n",
    "    \n",
    "print(\"each class and its windows =\")\n",
    "\n",
    "cls_wndws=np.array([])\n",
    "for cls in range (1,cls_num+1):                                # آرایه ی تعداد پنجره ی هر کلاس\n",
    "    wns=len(vars()['wndws'+str(cls)])\n",
    "    cls_wndws=np.append(cls_wndws,wns)\n",
    "    print(cls, wns, end='\\t')\n",
    "\n",
    "mx_wndws=int(np.max(cls_wndws))                        # حداکثر تعداد پنجره ی موجود بین کلاس ها\n",
    "print('\\n max =', mx_wndws)"
   ]
  },
  {
   "cell_type": "raw",
   "metadata": {},
   "source": [
    "#clses=3                                   #تعیین میزان افزایش نمونه (تولید داده)\n",
    "mx_wndws=int(mx_wndws)  #mx_wndws*0.3  # =classes-1 برای بررسی الگوریتم تعداد کمی کلاس آزمایش شد\n",
    "mx_wndws=2598           #+2\n",
    "print(mx_wndws)"
   ]
  },
  {
   "cell_type": "markdown",
   "metadata": {},
   "source": [
    "<h1><center><div style=\"direction:rtl;font-family:B Nazanin\">Data Augmentation</div></center></h1>"
   ]
  },
  {
   "cell_type": "code",
   "execution_count": 6,
   "metadata": {},
   "outputs": [
    {
     "name": "stdout",
     "output_type": "stream",
     "text": [
      "Up to class  1 train shape =  (26, 481)\n",
      "Up to class  2 train shape =  (51, 481)\n",
      "Up to class  3 train shape =  (79, 481)\n",
      "Up to class  4 train shape =  (100, 481)\n",
      "Up to class  5 train shape =  (122, 481)\n",
      "Up to class  6 train shape =  (147, 481)\n",
      "Up to class  7 train shape =  (175, 481)\n"
     ]
    }
   ],
   "source": [
    "smpl_rte=len(wndws1[0])                                        # در ماژول ها نیز همین مقدار ثبت شده\n",
    "\n",
    "#add augmented data to base data\n",
    "xtrain=np.empty((0,len(wndws1[0])), float) \n",
    "for i in range (1,cls_num+1):   \n",
    "    xtrain=np.append(xtrain,vars()['wndws'+str(i)],axis=0)\n",
    "    print('Up to class ', i, 'train shape = ', np.shape(xtrain))"
   ]
  },
  {
   "cell_type": "code",
   "execution_count": 7,
   "metadata": {},
   "outputs": [
    {
     "name": "stdout",
     "output_type": "stream",
     "text": [
      "[ 0 26 25 28 21 22 25 28]\n"
     ]
    }
   ],
   "source": [
    "print(np.bincount(np.int16(xtrain[:,-1])))    #تعداد پنجره در هر کلاس از 0 تا 17"
   ]
  },
  {
   "cell_type": "code",
   "execution_count": 8,
   "metadata": {},
   "outputs": [
    {
     "data": {
      "text/plain": [
       "array([1., 1., 1., 1., 1., 1., 1., 1., 1., 1., 1., 1., 1., 1., 1., 1., 1.,\n",
       "       1., 1., 1., 1., 1., 1., 1., 1., 1., 2., 2., 2., 2., 2., 2., 2., 2.,\n",
       "       2., 2., 2., 2., 2., 2., 2., 2., 2., 2., 2., 2., 2., 2., 2., 2., 2.,\n",
       "       3., 3., 3., 3., 3., 3., 3., 3., 3., 3., 3., 3., 3., 3., 3., 3., 3.,\n",
       "       3., 3., 3., 3., 3., 3., 3., 3., 3., 3., 3., 4., 4., 4., 4., 4., 4.,\n",
       "       4., 4., 4., 4., 4., 4., 4., 4., 4., 4., 4., 4., 4., 4., 4., 5., 5.,\n",
       "       5., 5., 5., 5., 5., 5., 5., 5., 5., 5., 5., 5., 5., 5., 5., 5., 5.,\n",
       "       5., 5., 5., 6., 6., 6., 6., 6., 6., 6., 6., 6., 6., 6., 6., 6., 6.,\n",
       "       6., 6., 6., 6., 6., 6., 6., 6., 6., 6., 6., 7., 7., 7., 7., 7., 7.,\n",
       "       7., 7., 7., 7., 7., 7., 7., 7., 7., 7., 7., 7., 7., 7., 7., 7., 7.,\n",
       "       7., 7., 7., 7., 7.])"
      ]
     },
     "execution_count": 8,
     "metadata": {},
     "output_type": "execute_result"
    }
   ],
   "source": [
    "xtrain[:,-1]"
   ]
  },
  {
   "cell_type": "code",
   "execution_count": 9,
   "metadata": {},
   "outputs": [],
   "source": [
    "mx_aug=np.max(xtrain[:,:-1])\n",
    "mx=np.max(ecg[:,:-1])\n",
    "mn_aug=np.min(xtrain[:,:-1])\n",
    "mn=np.min(ecg[:,:-1])\n",
    "\n",
    "#for i in range (1,cls_num+1):             #نرمالسازی داده های افزایشی\n",
    "xtrain[:,:-1]= 2*(xtrain[:,:-1]-mn_aug)/(mx_aug - mn_aug) - 1"
   ]
  },
  {
   "cell_type": "code",
   "execution_count": 10,
   "metadata": {},
   "outputs": [
    {
     "name": "stdout",
     "output_type": "stream",
     "text": [
      "min trn = -1.0\n",
      "max trn = 1.0\n"
     ]
    }
   ],
   "source": [
    "print('min trn =', np.min(xtrain[:,:-1]))\n",
    "print('max trn =', np.max(xtrain[:,:-1]))"
   ]
  },
  {
   "cell_type": "markdown",
   "metadata": {},
   "source": [
    "<h3><center><div style=\"direction:rtl;font-family:B Nazanin\">Test Windows</div></center></h1>"
   ]
  },
  {
   "cell_type": "code",
   "execution_count": 11,
   "metadata": {},
   "outputs": [],
   "source": [
    "wndws_test=np.empty((0,len(wndws1[0])), float)\n",
    "i=0\n",
    "windws=np.array([])\n",
    "for cls in range (1,cls_num+1):                                 #ساخت پنجره های داده های آموزش اصلی\n",
    "    vars()['wndws_tst'+str(cls)]=np.empty((0,len(wndws1[0])), float)\n",
    "    vars()['wndws_tst'+str(cls)]=np.append(vars()['wndws_tst'+str(cls)],vars()['ecg_tst'+str(cls)],axis=0)   "
   ]
  },
  {
   "cell_type": "code",
   "execution_count": 12,
   "metadata": {},
   "outputs": [
    {
     "name": "stdout",
     "output_type": "stream",
     "text": [
      "\n",
      " cls 1  >> \n",
      "max magnitude class 1  =  2.0470912776915458\n",
      "min magnitude class 1  =  -1.7067841463837912\n",
      "after normalizing >>\n",
      "max magnitude class 1  =  0.961349554710035\n",
      "min magnitude class 1  =  -0.8796770785564421\n",
      "\n",
      " cls 2  >> \n",
      "max magnitude class 2  =  1.9995000000000018\n",
      "min magnitude class 2  =  -1.737570959253758\n",
      "after normalizing >>\n",
      "max magnitude class 2  =  0.9380091931254746\n",
      "min magnitude class 2  =  -0.8947759659844823\n",
      "\n",
      " cls 3  >> \n",
      "max magnitude class 3  =  2.1528521925548616\n",
      "min magnitude class 3  =  -1.777414662371874\n",
      "after normalizing >>\n",
      "max magnitude class 3  =  1.0132182607872897\n",
      "min magnitude class 3  =  -0.9143166566898705\n",
      "\n",
      " cls 4  >> \n",
      "max magnitude class 4  =  11.25984586666761\n",
      "min magnitude class 4  =  -1.9420530969143601\n",
      "after normalizing >>\n",
      "max magnitude class 4  =  5.479593941637377\n",
      "min magnitude class 4  =  -0.9950608766253729\n",
      "\n",
      " cls 5  >> \n",
      "max magnitude class 5  =  2.1211000000000007\n",
      "min magnitude class 5  =  -1.7538854427257269\n",
      "after normalizing >>\n",
      "max magnitude class 5  =  0.9976459187262836\n",
      "min magnitude class 5  =  -0.9027771368244226\n",
      "\n",
      " cls 6  >> \n",
      "max magnitude class 6  =  2.0540000000000016\n",
      "min magnitude class 6  =  -1.7891619372072987\n",
      "after normalizing >>\n",
      "max magnitude class 6  =  0.9647378242541269\n",
      "min magnitude class 6  =  -0.9200779149622185\n",
      "\n",
      " cls 7  >> \n",
      "max magnitude class 7  =  2.04040190917243\n",
      "min magnitude class 7  =  -1.60279219024271\n",
      "after normalizing >>\n",
      "max magnitude class 7  =  0.9580688636342356\n",
      "min magnitude class 7  =  -0.8286759292712687\n",
      "each class and its windows =\n",
      "1 24\t2 25\t3 22\t4 29\t5 28\t6 25\t7 22\t\n",
      " max instance in classes of test windows = 29\n"
     ]
    }
   ],
   "source": [
    "#print(np.max(wndws_tst))\n",
    "for i in range (1,cls_num+1):                # Normalization test windows\n",
    "    cls=i\n",
    "    print('\\n cls', i, ' >> ')\n",
    "    print('max magnitude class', i , ' = ' ,np.max(vars()['wndws_tst'+str(cls)][:,:-1]))\n",
    "    print('min magnitude class', i , ' = ' ,np.min(vars()['wndws_tst'+str(cls)][:,:-1]))\n",
    "\n",
    "    vars()['wndws_tst'+str(i)][:,:-1]= 2*(vars()['wndws_tst'+str(i)][:,:-1]-mn_aug)/(mx_aug - mn_aug) - 1\n",
    "    \n",
    "    print('after normalizing >>')\n",
    "    print('max magnitude class', i , ' = ' ,np.max(vars()['wndws_tst'+str(cls)][:,:-1]))\n",
    "    print('min magnitude class', i , ' = ' ,np.min(vars()['wndws_tst'+str(cls)][:,:-1]))\n",
    "    \n",
    "print(\"each class and its windows =\")                    #تجمیع کلاس های تست\n",
    "cls_wndws=np.array([])\n",
    "for cls in range (1,cls_num+1):                                # آرایه ی تعداد پنجره ی هر کلاس\n",
    "    wns=len(vars()['wndws_tst'+str(cls)])\n",
    "    cls_wndws=np.append(cls_wndws,wns)\n",
    "    print(cls, wns, end='\\t')\n",
    "    wndws_test=np.append(wndws_test,vars()['wndws_tst'+str(cls)],axis=0)\n",
    "    \n",
    "mx_wndws=int(np.max(cls_wndws))                        # حداکثر تعداد پنجره ی موجود بین کلاس ها\n",
    "print('\\n max instance in classes of test windows =', mx_wndws)"
   ]
  },
  {
   "cell_type": "code",
   "execution_count": 13,
   "metadata": {},
   "outputs": [
    {
     "name": "stdout",
     "output_type": "stream",
     "text": [
      "min tst = -0.9950608766253729\n",
      "max tst = 5.479593941637377\n"
     ]
    }
   ],
   "source": [
    "print('min tst =', np.min(wndws_test[:,:-1]))\n",
    "print('max tst =', np.max(wndws_test[:,:-1]))"
   ]
  },
  {
   "cell_type": "code",
   "execution_count": 14,
   "metadata": {},
   "outputs": [
    {
     "data": {
      "text/plain": [
       "175"
      ]
     },
     "execution_count": 14,
     "metadata": {},
     "output_type": "execute_result"
    }
   ],
   "source": [
    "len(wndws_test)"
   ]
  },
  {
   "cell_type": "code",
   "execution_count": 15,
   "metadata": {},
   "outputs": [
    {
     "data": {
      "text/plain": [
       "(175, 481)"
      ]
     },
     "execution_count": 15,
     "metadata": {},
     "output_type": "execute_result"
    }
   ],
   "source": [
    "np.shape(wndws_test)"
   ]
  },
  {
   "cell_type": "code",
   "execution_count": 16,
   "metadata": {},
   "outputs": [],
   "source": [
    "Xtest=wndws_test[:,:-1]\n",
    "ytest=np.int16(wndws_test[:,-1])"
   ]
  },
  {
   "cell_type": "code",
   "execution_count": 17,
   "metadata": {},
   "outputs": [
    {
     "name": "stdout",
     "output_type": "stream",
     "text": [
      "array([1, 1, 1, 1, 1, 1, 1, 1, 1, 1, 1, 1, 1, 1, 1, 1, 1, 1, 1, 1, 1, 1,\n",
      "       1, 1, 2, 2, 2, 2, 2, 2, 2, 2, 2, 2, 2, 2, 2, 2, 2, 2, 2, 2, 2, 2,\n",
      "       2, 2, 2, 2, 2, 3, 3, 3, 3, 3, 3, 3, 3, 3, 3, 3, 3, 3, 3, 3, 3, 3,\n",
      "       3, 3, 3, 3, 3, 4, 4, 4, 4, 4, 4, 4, 4, 4, 4, 4, 4, 4, 4, 4, 4, 4,\n",
      "       4, 4, 4, 4, 4, 4, 4, 4, 4, 4, 4, 4, 5, 5, 5, 5, 5, 5, 5, 5, 5, 5,\n",
      "       5, 5, 5, 5, 5, 5, 5, 5, 5, 5, 5, 5, 5, 5, 5, 5, 5, 5, 6, 6, 6, 6,\n",
      "       6, 6, 6, 6, 6, 6, 6, 6, 6, 6, 6, 6, 6, 6, 6, 6, 6, 6, 6, 6, 6, 7,\n",
      "       7, 7, 7, 7, 7, 7, 7, 7, 7, 7, 7, 7, 7, 7, 7, 7, 7, 7, 7, 7, 7],\n",
      "      dtype=int16)\n"
     ]
    }
   ],
   "source": [
    "fullprint(ytest)"
   ]
  },
  {
   "cell_type": "markdown",
   "metadata": {},
   "source": [
    "<h3><center><div style=\"direction:rtl;font-family:B Nazanin\">Train Windows</div></center></h1>"
   ]
  },
  {
   "cell_type": "code",
   "execution_count": 18,
   "metadata": {},
   "outputs": [
    {
     "data": {
      "text/plain": [
       "'\\nytestt=np.int32(np.array([ytest]).T)\\ntestx=np.concatenate((Xtest, ytestt), axis=1)\\ntestx=np.random.permutation(testx)\\nXtest=np.int32(testx[:,:-1])\\nytest=np.int32(testx[:,-1])'"
      ]
     },
     "execution_count": 18,
     "metadata": {},
     "output_type": "execute_result"
    }
   ],
   "source": [
    "#ytraint=np.int32(np.array([ytrain]).T)\n",
    "#trainx=np.concatenate((Xtrain, ytraint), axis=1)\n",
    "trainx=np.random.permutation(xtrain)\n",
    "Xtrain=np.array(trainx[:,:-1])\n",
    "ytrain=np.int16(trainx[:,-1])\n",
    "'''\n",
    "ytestt=np.int32(np.array([ytest]).T)\n",
    "testx=np.concatenate((Xtest, ytestt), axis=1)\n",
    "testx=np.random.permutation(testx)\n",
    "Xtest=np.int32(testx[:,:-1])\n",
    "ytest=np.int32(testx[:,-1])'''"
   ]
  },
  {
   "cell_type": "code",
   "execution_count": 19,
   "metadata": {},
   "outputs": [
    {
     "data": {
      "text/plain": [
       "(26, 481)"
      ]
     },
     "execution_count": 19,
     "metadata": {},
     "output_type": "execute_result"
    }
   ],
   "source": [
    "np.shape(wndws1)"
   ]
  },
  {
   "cell_type": "markdown",
   "metadata": {},
   "source": [
    "<h3><center><div style=\"direction:rtl;font-family:B Nazanin\">Validation Windows</div></center></h1>"
   ]
  },
  {
   "cell_type": "code",
   "execution_count": 20,
   "metadata": {},
   "outputs": [],
   "source": [
    "Xvalid=np.array(Xtrain)\n",
    "yvalid=np.array(ytrain)"
   ]
  },
  {
   "cell_type": "markdown",
   "metadata": {},
   "source": [
    "<h1><center><div style=\"direction:rtl;font-family:B Nazanin\">CNN And UnBalanced RAW Data</div></center></h1>\n",
    "<h1><center><div style=\"direction:rtl;font-family:Arial\">Cross Entropy Loss Function</div></center></h1>"
   ]
  },
  {
   "cell_type": "code",
   "execution_count": 21,
   "metadata": {
    "scrolled": true
   },
   "outputs": [
    {
     "name": "stdout",
     "output_type": "stream",
     "text": [
      "X_train =>  (175, 480)\n",
      "y_train =>  (175,)\n",
      "X_test  =>  (175, 480)\n",
      "y_test  =>  (175,)\n",
      "X_valid  =>  (175, 480)\n",
      "y_valid  =>  (175,)\n"
     ]
    }
   ],
   "source": [
    "X_train=np.array(Xtrain)\n",
    "y_train=np.array(ytrain)\n",
    "X_test=np.array(Xtest)\n",
    "y_test=np.array(ytest)\n",
    "X_valid=np.array(Xtrain)\n",
    "y_valid=np.array(ytrain)\n",
    "print('X_train => ', X_train.shape)\n",
    "print('y_train => ', y_train.shape)\n",
    "print('X_test  => ', X_test.shape)\n",
    "print('y_test  => ', y_test.shape)\n",
    "print('X_valid  => ', X_valid.shape)\n",
    "print('y_valid  => ', y_valid.shape)"
   ]
  },
  {
   "cell_type": "code",
   "execution_count": 22,
   "metadata": {},
   "outputs": [],
   "source": [
    "y_train=np.array(y_train+1)\n",
    "y_test=np.array(y_test+1)\n",
    "y_valid=np.array(y_valid+1)"
   ]
  },
  {
   "cell_type": "code",
   "execution_count": 23,
   "metadata": {},
   "outputs": [],
   "source": [
    "y_train_cat=to_categorical(y_train)\n",
    "y_valid_cat=to_categorical(y_valid)\n",
    "y_test_cat=to_categorical(y_test)\n",
    "\n",
    "\n",
    "X_train = np.expand_dims(X_train, axis=2)\n",
    "X_valid = np.expand_dims(X_valid, axis=2)\n",
    "X_test = np.expand_dims(X_test, axis=2)\n",
    "#y_train=np.transpose([y_train])"
   ]
  },
  {
   "cell_type": "code",
   "execution_count": 24,
   "metadata": {
    "scrolled": true
   },
   "outputs": [
    {
     "name": "stdout",
     "output_type": "stream",
     "text": [
      "Epoch 1/1000\n",
      "9/9 [==============================] - 3s 47ms/step - loss: 2.1333 - accuracy: 0.1314 - val_loss: 1.9439 - val_accuracy: 0.2457\n",
      "Epoch 2/1000\n",
      "9/9 [==============================] - 0s 14ms/step - loss: 1.9532 - accuracy: 0.1714 - val_loss: 1.9004 - val_accuracy: 0.2286\n",
      "Epoch 3/1000\n",
      "9/9 [==============================] - 0s 15ms/step - loss: 1.9190 - accuracy: 0.2800 - val_loss: 1.7345 - val_accuracy: 0.3943\n",
      "Epoch 4/1000\n",
      "9/9 [==============================] - 0s 14ms/step - loss: 1.7615 - accuracy: 0.3029 - val_loss: 1.6969 - val_accuracy: 0.2971\n",
      "Epoch 5/1000\n",
      "9/9 [==============================] - 0s 14ms/step - loss: 1.6318 - accuracy: 0.3943 - val_loss: 1.5863 - val_accuracy: 0.2857\n",
      "Epoch 6/1000\n",
      "9/9 [==============================] - 0s 14ms/step - loss: 1.5584 - accuracy: 0.3771 - val_loss: 1.3788 - val_accuracy: 0.5200\n",
      "Epoch 7/1000\n",
      "9/9 [==============================] - 0s 13ms/step - loss: 1.4712 - accuracy: 0.4457 - val_loss: 1.2593 - val_accuracy: 0.5486\n",
      "Epoch 8/1000\n",
      "9/9 [==============================] - 0s 14ms/step - loss: 1.2330 - accuracy: 0.5714 - val_loss: 1.1091 - val_accuracy: 0.6514\n",
      "Epoch 9/1000\n",
      "9/9 [==============================] - 0s 13ms/step - loss: 1.1368 - accuracy: 0.5714 - val_loss: 0.8411 - val_accuracy: 0.7600\n",
      "Epoch 10/1000\n",
      "9/9 [==============================] - 0s 13ms/step - loss: 0.9661 - accuracy: 0.6400 - val_loss: 0.8896 - val_accuracy: 0.6914\n",
      "Epoch 11/1000\n",
      "9/9 [==============================] - 0s 13ms/step - loss: 0.9519 - accuracy: 0.6400 - val_loss: 0.8933 - val_accuracy: 0.6914\n",
      "Epoch 12/1000\n",
      "9/9 [==============================] - 0s 13ms/step - loss: 0.7880 - accuracy: 0.7371 - val_loss: 0.5149 - val_accuracy: 0.8343\n",
      "Epoch 13/1000\n",
      "9/9 [==============================] - 0s 13ms/step - loss: 0.7100 - accuracy: 0.7257 - val_loss: 0.5473 - val_accuracy: 0.8286\n",
      "Epoch 14/1000\n",
      "9/9 [==============================] - 0s 13ms/step - loss: 0.5999 - accuracy: 0.7771 - val_loss: 0.7382 - val_accuracy: 0.7314\n",
      "Epoch 15/1000\n",
      "9/9 [==============================] - 0s 13ms/step - loss: 0.5865 - accuracy: 0.7829 - val_loss: 0.7371 - val_accuracy: 0.6914\n",
      "Epoch 16/1000\n",
      "9/9 [==============================] - 0s 14ms/step - loss: 0.4750 - accuracy: 0.8229 - val_loss: 0.3961 - val_accuracy: 0.8343\n",
      "Epoch 17/1000\n",
      "9/9 [==============================] - 0s 15ms/step - loss: 0.5337 - accuracy: 0.7943 - val_loss: 0.4522 - val_accuracy: 0.8514\n",
      "Epoch 18/1000\n",
      "9/9 [==============================] - 0s 14ms/step - loss: 0.4113 - accuracy: 0.8457 - val_loss: 0.4986 - val_accuracy: 0.8000\n",
      "Epoch 19/1000\n",
      "9/9 [==============================] - 0s 14ms/step - loss: 0.3382 - accuracy: 0.8571 - val_loss: 0.5581 - val_accuracy: 0.7714\n",
      "Epoch 20/1000\n",
      "9/9 [==============================] - 0s 14ms/step - loss: 0.4913 - accuracy: 0.8114 - val_loss: 0.3766 - val_accuracy: 0.8514\n",
      "Epoch 21/1000\n",
      "9/9 [==============================] - 0s 15ms/step - loss: 0.2905 - accuracy: 0.9029 - val_loss: 0.1368 - val_accuracy: 0.9657\n",
      "Epoch 22/1000\n",
      "9/9 [==============================] - 0s 13ms/step - loss: 0.2731 - accuracy: 0.8971 - val_loss: 0.1776 - val_accuracy: 0.9429\n",
      "Epoch 23/1000\n",
      "9/9 [==============================] - 0s 13ms/step - loss: 0.2466 - accuracy: 0.9086 - val_loss: 0.2967 - val_accuracy: 0.8857\n",
      "Epoch 24/1000\n",
      "9/9 [==============================] - 0s 13ms/step - loss: 0.2487 - accuracy: 0.9257 - val_loss: 0.4321 - val_accuracy: 0.8400\n",
      "Epoch 25/1000\n",
      "9/9 [==============================] - 0s 13ms/step - loss: 0.2657 - accuracy: 0.8914 - val_loss: 0.1700 - val_accuracy: 0.9314\n",
      "Epoch 26/1000\n",
      "9/9 [==============================] - 0s 13ms/step - loss: 0.3173 - accuracy: 0.8800 - val_loss: 0.4416 - val_accuracy: 0.8457\n",
      "Epoch 27/1000\n",
      "9/9 [==============================] - 0s 13ms/step - loss: 0.2561 - accuracy: 0.9200 - val_loss: 0.1522 - val_accuracy: 0.9429\n",
      "Epoch 28/1000\n",
      "9/9 [==============================] - 0s 13ms/step - loss: 0.2467 - accuracy: 0.9029 - val_loss: 0.1977 - val_accuracy: 0.9371\n",
      "Epoch 29/1000\n",
      "9/9 [==============================] - 0s 13ms/step - loss: 0.2074 - accuracy: 0.9314 - val_loss: 0.1242 - val_accuracy: 0.9486\n",
      "Epoch 30/1000\n",
      "9/9 [==============================] - 0s 13ms/step - loss: 0.1902 - accuracy: 0.9257 - val_loss: 0.2317 - val_accuracy: 0.9314\n",
      "Epoch 31/1000\n",
      "9/9 [==============================] - 0s 14ms/step - loss: 0.1758 - accuracy: 0.9200 - val_loss: 0.0637 - val_accuracy: 0.9714\n",
      "Epoch 32/1000\n",
      "9/9 [==============================] - 0s 14ms/step - loss: 0.1388 - accuracy: 0.9486 - val_loss: 0.1566 - val_accuracy: 0.9600\n",
      "Epoch 33/1000\n",
      "9/9 [==============================] - 0s 13ms/step - loss: 0.1394 - accuracy: 0.9600 - val_loss: 0.1252 - val_accuracy: 0.9714\n",
      "Epoch 34/1000\n",
      "9/9 [==============================] - 0s 14ms/step - loss: 0.2787 - accuracy: 0.9143 - val_loss: 0.2391 - val_accuracy: 0.9029\n",
      "Epoch 35/1000\n",
      "9/9 [==============================] - 0s 14ms/step - loss: 0.1029 - accuracy: 0.9600 - val_loss: 0.1584 - val_accuracy: 0.9371\n",
      "Epoch 36/1000\n",
      "9/9 [==============================] - 0s 14ms/step - loss: 0.1081 - accuracy: 0.9657 - val_loss: 0.1063 - val_accuracy: 0.9714\n",
      "Epoch 37/1000\n",
      "9/9 [==============================] - 0s 14ms/step - loss: 0.1200 - accuracy: 0.9486 - val_loss: 0.1399 - val_accuracy: 0.9371\n",
      "Epoch 38/1000\n",
      "9/9 [==============================] - 0s 14ms/step - loss: 0.1049 - accuracy: 0.9657 - val_loss: 0.2732 - val_accuracy: 0.9029\n",
      "Epoch 39/1000\n",
      "9/9 [==============================] - 0s 15ms/step - loss: 0.2099 - accuracy: 0.9314 - val_loss: 0.0449 - val_accuracy: 0.9829\n",
      "Epoch 40/1000\n",
      "9/9 [==============================] - 0s 15ms/step - loss: 0.1155 - accuracy: 0.9486 - val_loss: 0.0249 - val_accuracy: 1.0000\n",
      "Epoch 41/1000\n",
      "9/9 [==============================] - 0s 14ms/step - loss: 0.0542 - accuracy: 0.9771 - val_loss: 0.1620 - val_accuracy: 0.9486\n",
      "Epoch 42/1000\n",
      "9/9 [==============================] - 0s 14ms/step - loss: 0.2241 - accuracy: 0.9200 - val_loss: 0.1097 - val_accuracy: 0.9657\n",
      "Epoch 43/1000\n",
      "9/9 [==============================] - 0s 14ms/step - loss: 0.0473 - accuracy: 0.9886 - val_loss: 0.0133 - val_accuracy: 1.0000\n",
      "Epoch 44/1000\n",
      "9/9 [==============================] - 0s 13ms/step - loss: 0.0200 - accuracy: 0.9943 - val_loss: 0.6608 - val_accuracy: 0.8400\n",
      "Epoch 45/1000\n",
      "9/9 [==============================] - 0s 13ms/step - loss: 0.2675 - accuracy: 0.9429 - val_loss: 0.0745 - val_accuracy: 0.9714\n",
      "Epoch 46/1000\n",
      "9/9 [==============================] - 0s 13ms/step - loss: 0.2190 - accuracy: 0.9371 - val_loss: 0.1919 - val_accuracy: 0.9200\n",
      "Epoch 47/1000\n",
      "9/9 [==============================] - 0s 13ms/step - loss: 0.0538 - accuracy: 0.9829 - val_loss: 0.0176 - val_accuracy: 0.9943\n",
      "Epoch 48/1000\n",
      "9/9 [==============================] - 0s 13ms/step - loss: 0.0163 - accuracy: 1.0000 - val_loss: 0.0107 - val_accuracy: 1.0000\n",
      "Epoch 49/1000\n",
      "9/9 [==============================] - 0s 13ms/step - loss: 0.0083 - accuracy: 1.0000 - val_loss: 0.0668 - val_accuracy: 0.9714\n",
      "Epoch 50/1000\n",
      "9/9 [==============================] - 0s 13ms/step - loss: 0.0081 - accuracy: 1.0000 - val_loss: 0.0025 - val_accuracy: 1.0000\n",
      "Epoch 51/1000\n",
      "9/9 [==============================] - 0s 13ms/step - loss: 0.0061 - accuracy: 1.0000 - val_loss: 0.9957 - val_accuracy: 0.8457\n",
      "Epoch 52/1000\n",
      "9/9 [==============================] - 0s 13ms/step - loss: 0.3546 - accuracy: 0.9257 - val_loss: 0.0639 - val_accuracy: 0.9771\n",
      "Epoch 53/1000\n",
      "9/9 [==============================] - 0s 14ms/step - loss: 0.0721 - accuracy: 0.9771 - val_loss: 0.0308 - val_accuracy: 0.9886\n",
      "Epoch 54/1000\n",
      "9/9 [==============================] - 0s 13ms/step - loss: 0.0212 - accuracy: 0.9943 - val_loss: 0.0029 - val_accuracy: 1.0000\n",
      "Epoch 55/1000\n",
      "9/9 [==============================] - 0s 13ms/step - loss: 0.0034 - accuracy: 1.0000 - val_loss: 0.0111 - val_accuracy: 0.9943\n",
      "Epoch 56/1000\n",
      "9/9 [==============================] - 0s 13ms/step - loss: 0.0032 - accuracy: 1.0000 - val_loss: 0.1100 - val_accuracy: 0.9543\n",
      "Epoch 57/1000\n",
      "9/9 [==============================] - 0s 13ms/step - loss: 0.5158 - accuracy: 0.8743 - val_loss: 0.0340 - val_accuracy: 0.9886\n",
      "Epoch 58/1000\n",
      "9/9 [==============================] - 0s 13ms/step - loss: 0.0151 - accuracy: 1.0000 - val_loss: 0.0048 - val_accuracy: 1.0000\n"
     ]
    },
    {
     "name": "stdout",
     "output_type": "stream",
     "text": [
      "Epoch 59/1000\n",
      "9/9 [==============================] - 0s 14ms/step - loss: 0.0046 - accuracy: 1.0000 - val_loss: 0.0028 - val_accuracy: 1.0000\n",
      "Epoch 60/1000\n",
      "9/9 [==============================] - 0s 14ms/step - loss: 0.0031 - accuracy: 1.0000 - val_loss: 0.0016 - val_accuracy: 1.0000\n",
      "9/9 [==============================] - 0s 3ms/step - loss: 0.0249 - accuracy: 1.0000\n",
      "np.shape(X_test)= (175, 480, 1)\n",
      "Model: \"sequential\"\n",
      "_________________________________________________________________\n",
      " Layer (type)                Output Shape              Param #   \n",
      "=================================================================\n",
      " conv1d (Conv1D)             (None, 478, 32)           128       \n",
      "                                                                 \n",
      " conv1d_1 (Conv1D)           (None, 476, 64)           6208      \n",
      "                                                                 \n",
      " max_pooling1d (MaxPooling1D  (None, 158, 64)          0         \n",
      " )                                                               \n",
      "                                                                 \n",
      " conv1d_2 (Conv1D)           (None, 156, 128)          24704     \n",
      "                                                                 \n",
      " max_pooling1d_1 (MaxPooling  (None, 52, 128)          0         \n",
      " 1D)                                                             \n",
      "                                                                 \n",
      " conv1d_3 (Conv1D)           (None, 50, 128)           49280     \n",
      "                                                                 \n",
      " max_pooling1d_2 (MaxPooling  (None, 16, 128)          0         \n",
      " 1D)                                                             \n",
      "                                                                 \n",
      " conv1d_4 (Conv1D)           (None, 14, 256)           98560     \n",
      "                                                                 \n",
      " max_pooling1d_3 (MaxPooling  (None, 4, 256)           0         \n",
      " 1D)                                                             \n",
      "                                                                 \n",
      " flatten (Flatten)           (None, 1024)              0         \n",
      "                                                                 \n",
      " dense (Dense)               (None, 2000)              2050000   \n",
      "                                                                 \n",
      " dense_1 (Dense)             (None, 9)                 18009     \n",
      "                                                                 \n",
      "=================================================================\n",
      "Total params: 2,246,889\n",
      "Trainable params: 2,246,889\n",
      "Non-trainable params: 0\n",
      "_________________________________________________________________\n",
      "Accuracy=  1.0\n"
     ]
    }
   ],
   "source": [
    "accuracy=0\n",
    "acc_crs=np.array([])\n",
    "##for i in range (10):\n",
    "##    if accuracy<0.2 :\n",
    "\n",
    "verbose, epochs, batch_size = 1, 1000, btch\n",
    "n_timesteps, n_features, n_outputs = X_train.shape[1], X_train.shape[2], y_train_cat.shape[1]\n",
    "steps_per_epoch = len(X_train)//batch_size\n",
    "validation_steps = len(X_valid)//batch_size # if you have test data\n",
    "\n",
    "model_crs = Sequential()\n",
    "BatchNormalization()\n",
    "model_crs.add(Conv1D(filters=32, kernel_size=3, activation='relu', input_shape=(n_timesteps,n_features)))\n",
    "#model_crs.add(MaxPooling1D(pool_size=3))\n",
    "BatchNormalization()\n",
    "model_crs.add(Conv1D(filters=64, kernel_size=3, activation='relu'))\n",
    "#model_crs.add(Dropout(0.5))\n",
    "model_crs.add(MaxPooling1D(pool_size=3))\n",
    "BatchNormalization()\n",
    "model_crs.add(Conv1D(filters=128, kernel_size=3, activation='relu'))\n",
    "model_crs.add(MaxPooling1D(pool_size=3))\n",
    "BatchNormalization()\n",
    "model_crs.add(Conv1D(filters=128, kernel_size=3, activation='relu'))\n",
    "model_crs.add(MaxPooling1D(pool_size=3))\n",
    "BatchNormalization()\n",
    "model_crs.add(Conv1D(filters=256, kernel_size=3, activation='relu'))\n",
    "model_crs.add(MaxPooling1D(pool_size=3))\n",
    "'''model_crs.add(Conv1D(filters=512, kernel_size=3, activation='relu'))\n",
    "model_crs.add(MaxPooling1D(pool_size=3))\n",
    "model_crs.add(Conv1D(filters=1024, kernel_size=3, activation='relu'))\n",
    "model_crs.add(MaxPooling1D(pool_size=3))\n",
    "'''\n",
    "model_crs.add(Flatten())\n",
    "#model_crs.add(Dropout(0.5))\n",
    "model_crs.add(Dense(2000, activation='relu'))\n",
    "model_crs.add(Dense(n_outputs, activation='softmax'))\n",
    "model_crs.compile(optimizer='rmsprop', loss='categorical_crossentropy', metrics=['accuracy'])\n",
    "# fit network   #CategoricalCrossentropy #sparse_categorical_crossentropy #SparseCategoricalCrossentropy\n",
    "\n",
    "earlystopping = callbacks.EarlyStopping(monitor =\"val_accuracy\", mode =\"max\", patience = 20, restore_best_weights = True)\n",
    "\n",
    "model_crs.fit(X_train, y_train_cat, epochs=epochs, batch_size=batch_size, verbose=verbose, validation_data = (X_valid, y_valid_cat), callbacks =[earlystopping])\n",
    "# evaluate model_crs\n",
    "_, accuracy = model_crs.evaluate(X_valid, y_valid_cat, batch_size=batch_size, verbose=1)\n",
    "\n",
    "print('np.shape(X_test)=',np.shape(X_test))\n",
    "\n",
    "\n",
    "model_crs.summary()\n",
    "print('Accuracy= ', accuracy)\n",
    "\n",
    "#output = K.function([model_crs.layers[0].input],[model_crs.layers[3].output])\n",
    "#output(X_test)[0]\n",
    "#y_pred= model_crs.predict(X_test)                # Function 1\n",
    "\n",
    "##    print('Round ', i, '==>', 'accuracy = ', accuracy)\n",
    "##    acc_crs=np.append(acc_crs,accuracy)\n",
    "#y_pred_crs = model_crs.predict_classes(X_test)   # Function 2"
   ]
  },
  {
   "cell_type": "code",
   "execution_count": 25,
   "metadata": {},
   "outputs": [],
   "source": [
    "def maxindx(ar):\n",
    "    ar_cpy=np.array(ar)\n",
    "    pred=np.argmax(ar,axis=1)\n",
    "    for i in range (len(pred)):\n",
    "        if pred[i]==0:\n",
    "            ar_cpy[i,0]=-1000\n",
    "    pred=np.argmax(ar_cpy,axis=1)\n",
    "    return(pred)"
   ]
  },
  {
   "cell_type": "code",
   "execution_count": 26,
   "metadata": {},
   "outputs": [
    {
     "name": "stdout",
     "output_type": "stream",
     "text": [
      "6/6 [==============================] - 0s 3ms/step\n",
      "array([[21,  0,  0,  0,  0,  1,  2],\n",
      "       [ 1, 24,  0,  0,  0,  0,  0],\n",
      "       [ 0,  0, 21,  0,  0,  1,  0],\n",
      "       [ 2,  0,  2, 24,  0,  1,  0],\n",
      "       [ 1,  0,  1,  1, 24,  1,  0],\n",
      "       [ 5,  0,  1,  2,  0, 17,  0],\n",
      "       [ 0,  0,  0,  0,  0,  0, 22]], dtype=int64)\n",
      "              precision    recall  f1-score   support\n",
      "\n",
      "           2       0.70      0.88      0.78        24\n",
      "           3       1.00      0.96      0.98        25\n",
      "           4       0.84      0.95      0.89        22\n",
      "           5       0.89      0.83      0.86        29\n",
      "           6       1.00      0.86      0.92        28\n",
      "           7       0.81      0.68      0.74        25\n",
      "           8       0.92      1.00      0.96        22\n",
      "\n",
      "    accuracy                           0.87       175\n",
      "   macro avg       0.88      0.88      0.88       175\n",
      "weighted avg       0.88      0.87      0.87       175\n",
      "\n"
     ]
    }
   ],
   "source": [
    "predict_x=model_crs.predict(X_test)              # Function 1\n",
    "\n",
    "y_pred_crs=maxindx(predict_x)                    # function from augment.py to remove 0 index predictions\n",
    "\n",
    "#y_pred_crs = model_crs.predict_classes(X_test)\n",
    "\n",
    "cm = confusion_matrix(y_test, y_pred_crs)\n",
    "fullprint(cm)\n",
    "acc3=accuracy_score(y_test, y_pred_crs)\n",
    "\n",
    "print(classification_report(y_test, y_pred_crs))\n",
    "\n",
    "#sns.heatmap(cm, annot=True)\n",
    "\n",
    "#plt.imshow(cm)"
   ]
  },
  {
   "cell_type": "code",
   "execution_count": 27,
   "metadata": {},
   "outputs": [
    {
     "name": "stdout",
     "output_type": "stream",
     "text": [
      "Epoch 1/1000\n",
      "9/9 [==============================] - 2s 79ms/step - loss: 2.1605 - accuracy: 0.1943 - val_loss: 1.9976 - val_accuracy: 0.1486\n",
      "Epoch 2/1000\n",
      "9/9 [==============================] - 0s 16ms/step - loss: 1.9788 - accuracy: 0.1657 - val_loss: 1.9605 - val_accuracy: 0.2514\n",
      "Epoch 3/1000\n",
      "9/9 [==============================] - 0s 16ms/step - loss: 1.9022 - accuracy: 0.2286 - val_loss: 1.7999 - val_accuracy: 0.3429\n",
      "Epoch 4/1000\n",
      "9/9 [==============================] - 0s 15ms/step - loss: 1.8114 - accuracy: 0.2686 - val_loss: 1.6533 - val_accuracy: 0.3371\n",
      "Epoch 5/1000\n",
      "9/9 [==============================] - 0s 16ms/step - loss: 1.6531 - accuracy: 0.3943 - val_loss: 1.5878 - val_accuracy: 0.3771\n",
      "Epoch 6/1000\n",
      "9/9 [==============================] - 0s 16ms/step - loss: 1.4615 - accuracy: 0.4514 - val_loss: 1.1535 - val_accuracy: 0.6914\n",
      "Epoch 7/1000\n",
      "9/9 [==============================] - 0s 15ms/step - loss: 1.3506 - accuracy: 0.5314 - val_loss: 1.0399 - val_accuracy: 0.6800\n",
      "Epoch 8/1000\n",
      "9/9 [==============================] - 0s 14ms/step - loss: 1.1084 - accuracy: 0.6514 - val_loss: 1.2921 - val_accuracy: 0.5371\n",
      "Epoch 9/1000\n",
      "9/9 [==============================] - 0s 16ms/step - loss: 1.0534 - accuracy: 0.6057 - val_loss: 0.7527 - val_accuracy: 0.7714\n",
      "Epoch 10/1000\n",
      "9/9 [==============================] - 0s 14ms/step - loss: 1.0014 - accuracy: 0.6571 - val_loss: 0.7539 - val_accuracy: 0.7314\n",
      "Epoch 11/1000\n",
      "9/9 [==============================] - 0s 15ms/step - loss: 0.8541 - accuracy: 0.6343 - val_loss: 0.7559 - val_accuracy: 0.7200\n",
      "Epoch 12/1000\n",
      "9/9 [==============================] - 0s 15ms/step - loss: 0.7117 - accuracy: 0.7600 - val_loss: 0.9272 - val_accuracy: 0.7314\n",
      "Epoch 13/1000\n",
      "9/9 [==============================] - 0s 15ms/step - loss: 0.8240 - accuracy: 0.6857 - val_loss: 0.7435 - val_accuracy: 0.6857\n",
      "Epoch 14/1000\n",
      "9/9 [==============================] - 0s 14ms/step - loss: 0.6422 - accuracy: 0.7429 - val_loss: 0.8326 - val_accuracy: 0.6629\n",
      "Epoch 15/1000\n",
      "9/9 [==============================] - 0s 16ms/step - loss: 0.6479 - accuracy: 0.7714 - val_loss: 0.4373 - val_accuracy: 0.8629\n",
      "Epoch 16/1000\n",
      "9/9 [==============================] - 0s 17ms/step - loss: 0.4776 - accuracy: 0.8286 - val_loss: 0.2808 - val_accuracy: 0.8971\n",
      "Epoch 17/1000\n",
      "9/9 [==============================] - 0s 15ms/step - loss: 0.5660 - accuracy: 0.7771 - val_loss: 0.4570 - val_accuracy: 0.8000\n",
      "Epoch 18/1000\n",
      "9/9 [==============================] - 0s 16ms/step - loss: 0.3076 - accuracy: 0.9029 - val_loss: 0.1871 - val_accuracy: 0.9429\n",
      "Epoch 19/1000\n",
      "9/9 [==============================] - 0s 15ms/step - loss: 0.5312 - accuracy: 0.8229 - val_loss: 0.3052 - val_accuracy: 0.9086\n",
      "Epoch 20/1000\n",
      "9/9 [==============================] - 0s 15ms/step - loss: 0.2713 - accuracy: 0.8914 - val_loss: 0.5923 - val_accuracy: 0.7771\n",
      "Epoch 21/1000\n",
      "9/9 [==============================] - 0s 15ms/step - loss: 0.5410 - accuracy: 0.8000 - val_loss: 0.3734 - val_accuracy: 0.8400\n",
      "Epoch 22/1000\n",
      "9/9 [==============================] - 0s 16ms/step - loss: 0.2217 - accuracy: 0.9257 - val_loss: 0.1694 - val_accuracy: 0.9657\n",
      "Epoch 23/1000\n",
      "9/9 [==============================] - 0s 15ms/step - loss: 0.2854 - accuracy: 0.9086 - val_loss: 0.1331 - val_accuracy: 0.9543\n",
      "Epoch 24/1000\n",
      "9/9 [==============================] - 0s 15ms/step - loss: 0.3109 - accuracy: 0.8857 - val_loss: 0.5621 - val_accuracy: 0.8229\n",
      "Epoch 25/1000\n",
      "9/9 [==============================] - 0s 15ms/step - loss: 0.2595 - accuracy: 0.9143 - val_loss: 0.1253 - val_accuracy: 0.9600\n",
      "Epoch 26/1000\n",
      "9/9 [==============================] - 0s 16ms/step - loss: 0.2687 - accuracy: 0.8971 - val_loss: 0.0745 - val_accuracy: 0.9714\n",
      "Epoch 27/1000\n",
      "9/9 [==============================] - 0s 15ms/step - loss: 0.4672 - accuracy: 0.8286 - val_loss: 0.1969 - val_accuracy: 0.9314\n",
      "Epoch 28/1000\n",
      "9/9 [==============================] - 0s 15ms/step - loss: 0.1431 - accuracy: 0.9429 - val_loss: 0.1475 - val_accuracy: 0.9314\n",
      "Epoch 29/1000\n",
      "9/9 [==============================] - 0s 15ms/step - loss: 0.1213 - accuracy: 0.9486 - val_loss: 0.1593 - val_accuracy: 0.9600\n",
      "Epoch 30/1000\n",
      "9/9 [==============================] - 0s 15ms/step - loss: 0.1914 - accuracy: 0.9200 - val_loss: 0.2257 - val_accuracy: 0.9086\n",
      "Epoch 31/1000\n",
      "9/9 [==============================] - 0s 16ms/step - loss: 0.2060 - accuracy: 0.9029 - val_loss: 0.0321 - val_accuracy: 0.9943\n",
      "Epoch 32/1000\n",
      "9/9 [==============================] - 0s 15ms/step - loss: 0.2946 - accuracy: 0.9086 - val_loss: 0.0792 - val_accuracy: 0.9886\n",
      "Epoch 33/1000\n",
      "9/9 [==============================] - 0s 15ms/step - loss: 0.0731 - accuracy: 0.9714 - val_loss: 0.3121 - val_accuracy: 0.9200\n",
      "Epoch 34/1000\n",
      "9/9 [==============================] - 0s 15ms/step - loss: 0.2582 - accuracy: 0.9200 - val_loss: 0.0752 - val_accuracy: 0.9600\n",
      "Epoch 35/1000\n",
      "9/9 [==============================] - 0s 15ms/step - loss: 0.0624 - accuracy: 0.9771 - val_loss: 0.0932 - val_accuracy: 0.9657\n",
      "Epoch 36/1000\n",
      "9/9 [==============================] - 0s 15ms/step - loss: 0.0784 - accuracy: 0.9657 - val_loss: 1.0094 - val_accuracy: 0.7429\n",
      "Epoch 37/1000\n",
      "9/9 [==============================] - 0s 15ms/step - loss: 0.2186 - accuracy: 0.9371 - val_loss: 0.3196 - val_accuracy: 0.8914\n",
      "Epoch 38/1000\n",
      "9/9 [==============================] - 0s 15ms/step - loss: 0.1018 - accuracy: 0.9714 - val_loss: 0.0427 - val_accuracy: 0.9829\n",
      "Epoch 39/1000\n",
      "9/9 [==============================] - 0s 15ms/step - loss: 0.0237 - accuracy: 0.9943 - val_loss: 0.0404 - val_accuracy: 0.9829\n",
      "Epoch 40/1000\n",
      "9/9 [==============================] - 0s 15ms/step - loss: 0.5036 - accuracy: 0.8743 - val_loss: 0.0965 - val_accuracy: 0.9657\n",
      "Epoch 41/1000\n",
      "9/9 [==============================] - 0s 16ms/step - loss: 0.0367 - accuracy: 0.9886 - val_loss: 0.0102 - val_accuracy: 1.0000\n",
      "Epoch 42/1000\n",
      "9/9 [==============================] - 0s 15ms/step - loss: 0.0078 - accuracy: 1.0000 - val_loss: 0.0059 - val_accuracy: 1.0000\n",
      "Epoch 43/1000\n",
      "9/9 [==============================] - 0s 15ms/step - loss: 0.0037 - accuracy: 1.0000 - val_loss: 0.0021 - val_accuracy: 1.0000\n",
      "Epoch 44/1000\n",
      "9/9 [==============================] - 0s 15ms/step - loss: 0.0023 - accuracy: 1.0000 - val_loss: 0.0025 - val_accuracy: 1.0000\n",
      "Epoch 45/1000\n",
      "9/9 [==============================] - 0s 15ms/step - loss: 0.0017 - accuracy: 1.0000 - val_loss: 0.1189 - val_accuracy: 0.9543\n",
      "Epoch 46/1000\n",
      "9/9 [==============================] - 0s 15ms/step - loss: 0.4836 - accuracy: 0.8857 - val_loss: 0.0226 - val_accuracy: 1.0000\n",
      "Epoch 47/1000\n",
      "9/9 [==============================] - 0s 15ms/step - loss: 0.0301 - accuracy: 0.9943 - val_loss: 0.5426 - val_accuracy: 0.8114\n",
      "Epoch 48/1000\n",
      "9/9 [==============================] - 0s 16ms/step - loss: 0.3225 - accuracy: 0.8971 - val_loss: 0.0418 - val_accuracy: 0.9886\n",
      "Epoch 49/1000\n",
      "9/9 [==============================] - 0s 16ms/step - loss: 0.0421 - accuracy: 0.9829 - val_loss: 0.0083 - val_accuracy: 1.0000\n",
      "Epoch 50/1000\n",
      "9/9 [==============================] - 0s 15ms/step - loss: 0.0066 - accuracy: 1.0000 - val_loss: 0.0024 - val_accuracy: 1.0000\n",
      "Epoch 51/1000\n",
      "9/9 [==============================] - 0s 15ms/step - loss: 0.0023 - accuracy: 1.0000 - val_loss: 0.0025 - val_accuracy: 1.0000\n",
      "Epoch 52/1000\n",
      "9/9 [==============================] - 0s 15ms/step - loss: 0.0013 - accuracy: 1.0000 - val_loss: 5.8847e-04 - val_accuracy: 1.0000\n",
      "Epoch 53/1000\n",
      "9/9 [==============================] - 0s 16ms/step - loss: 6.0651e-04 - accuracy: 1.0000 - val_loss: 3.2215e-04 - val_accuracy: 1.0000\n",
      "Epoch 54/1000\n",
      "9/9 [==============================] - 0s 15ms/step - loss: 2.8547e-04 - accuracy: 1.0000 - val_loss: 2.0929e-04 - val_accuracy: 1.0000\n",
      "Epoch 55/1000\n",
      "9/9 [==============================] - 0s 15ms/step - loss: 0.2031 - accuracy: 0.9714 - val_loss: 1.2091 - val_accuracy: 0.7257\n",
      "Epoch 56/1000\n",
      "9/9 [==============================] - 0s 15ms/step - loss: 0.2944 - accuracy: 0.9029 - val_loss: 0.0147 - val_accuracy: 1.0000\n",
      "Epoch 57/1000\n",
      "9/9 [==============================] - 0s 15ms/step - loss: 0.0123 - accuracy: 1.0000 - val_loss: 0.0237 - val_accuracy: 0.9943\n",
      "Epoch 58/1000\n"
     ]
    },
    {
     "name": "stdout",
     "output_type": "stream",
     "text": [
      "9/9 [==============================] - 0s 15ms/step - loss: 0.0351 - accuracy: 0.9771 - val_loss: 0.2498 - val_accuracy: 0.9200\n",
      "Epoch 59/1000\n",
      "9/9 [==============================] - 0s 15ms/step - loss: 0.1706 - accuracy: 0.9486 - val_loss: 0.0079 - val_accuracy: 1.0000\n",
      "Epoch 60/1000\n",
      "9/9 [==============================] - 0s 15ms/step - loss: 0.0061 - accuracy: 1.0000 - val_loss: 0.0037 - val_accuracy: 1.0000\n",
      "Epoch 61/1000\n",
      "9/9 [==============================] - 0s 16ms/step - loss: 0.0033 - accuracy: 1.0000 - val_loss: 9.9643e-04 - val_accuracy: 1.0000\n",
      "9/9 [==============================] - 0s 3ms/step - loss: 0.0102 - accuracy: 1.0000\n",
      "np.shape(X_test)= (175, 480, 1)\n",
      "Model: \"sequential_1\"\n",
      "_________________________________________________________________\n",
      " Layer (type)                Output Shape              Param #   \n",
      "=================================================================\n",
      " conv1d_5 (Conv1D)           (None, 478, 64)           256       \n",
      "                                                                 \n",
      " conv1d_6 (Conv1D)           (None, 476, 128)          24704     \n",
      "                                                                 \n",
      " max_pooling1d_4 (MaxPooling  (None, 158, 128)         0         \n",
      " 1D)                                                             \n",
      "                                                                 \n",
      " conv1d_7 (Conv1D)           (None, 156, 256)          98560     \n",
      "                                                                 \n",
      " max_pooling1d_5 (MaxPooling  (None, 52, 256)          0         \n",
      " 1D)                                                             \n",
      "                                                                 \n",
      " conv1d_8 (Conv1D)           (None, 50, 256)           196864    \n",
      "                                                                 \n",
      " max_pooling1d_6 (MaxPooling  (None, 16, 256)          0         \n",
      " 1D)                                                             \n",
      "                                                                 \n",
      " conv1d_9 (Conv1D)           (None, 14, 512)           393728    \n",
      "                                                                 \n",
      " max_pooling1d_7 (MaxPooling  (None, 4, 512)           0         \n",
      " 1D)                                                             \n",
      "                                                                 \n",
      " flatten_1 (Flatten)         (None, 2048)              0         \n",
      "                                                                 \n",
      " dense_2 (Dense)             (None, 2000)              4098000   \n",
      "                                                                 \n",
      " dense_3 (Dense)             (None, 9)                 18009     \n",
      "                                                                 \n",
      "=================================================================\n",
      "Total params: 4,830,121\n",
      "Trainable params: 4,830,121\n",
      "Non-trainable params: 0\n",
      "_________________________________________________________________\n",
      "Accuracy=  1.0\n"
     ]
    }
   ],
   "source": [
    "accuracy=0\n",
    "acc_crs=np.array([])\n",
    "##for i in range (10):\n",
    "##    if accuracy<0.2 :\n",
    "\n",
    "verbose, epochs, batch_size = 1, 1000, btch\n",
    "n_timesteps, n_features, n_outputs = X_train.shape[1], X_train.shape[2], y_train_cat.shape[1]\n",
    "steps_per_epoch = len(X_train)//batch_size\n",
    "validation_steps = len(X_valid)//batch_size # if you have test data\n",
    "\n",
    "model_crs = Sequential()\n",
    "BatchNormalization()\n",
    "model_crs.add(Conv1D(filters=64, kernel_size=3, activation='relu', input_shape=(n_timesteps,n_features)))\n",
    "#model_crs.add(MaxPooling1D(pool_size=3))\n",
    "BatchNormalization()\n",
    "model_crs.add(Conv1D(filters=128, kernel_size=3, activation='relu'))\n",
    "#model_crs.add(Dropout(0.5))\n",
    "model_crs.add(MaxPooling1D(pool_size=3))\n",
    "BatchNormalization()\n",
    "model_crs.add(Conv1D(filters=256, kernel_size=3, activation='relu'))\n",
    "model_crs.add(MaxPooling1D(pool_size=3))\n",
    "BatchNormalization()\n",
    "model_crs.add(Conv1D(filters=256, kernel_size=3, activation='relu'))\n",
    "model_crs.add(MaxPooling1D(pool_size=3))\n",
    "BatchNormalization()\n",
    "model_crs.add(Conv1D(filters=512, kernel_size=3, activation='relu'))\n",
    "model_crs.add(MaxPooling1D(pool_size=3))\n",
    "'''model_crs.add(Conv1D(filters=512, kernel_size=3, activation='relu'))\n",
    "model_crs.add(MaxPooling1D(pool_size=3))\n",
    "model_crs.add(Conv1D(filters=1024, kernel_size=3, activation='relu'))\n",
    "model_crs.add(MaxPooling1D(pool_size=3))\n",
    "'''\n",
    "model_crs.add(Flatten())\n",
    "#model_crs.add(Dropout(0.5))\n",
    "model_crs.add(Dense(2000, activation='relu'))\n",
    "model_crs.add(Dense(n_outputs, activation='softmax'))\n",
    "model_crs.compile(optimizer='rmsprop', loss='categorical_crossentropy', metrics=['accuracy'])\n",
    "# fit network   #CategoricalCrossentropy #sparse_categorical_crossentropy #SparseCategoricalCrossentropy\n",
    "\n",
    "earlystopping = callbacks.EarlyStopping(monitor =\"val_accuracy\", mode =\"max\", patience = 20, restore_best_weights = True)\n",
    "\n",
    "model_crs.fit(X_train, y_train_cat, epochs=epochs, batch_size=batch_size, verbose=verbose, validation_data = (X_valid, y_valid_cat), callbacks =[earlystopping])\n",
    "# evaluate model_crs\n",
    "_, accuracy = model_crs.evaluate(X_valid, y_valid_cat, batch_size=batch_size, verbose=1)\n",
    "\n",
    "print('np.shape(X_test)=',np.shape(X_test))\n",
    "\n",
    "\n",
    "model_crs.summary()\n",
    "print('Accuracy= ', accuracy)\n",
    "\n",
    "#output = K.function([model_crs.layers[0].input],[model_crs.layers[3].output])\n",
    "#output(X_test)[0]\n",
    "#y_pred= model_crs.predict(X_test)                # Function 1\n",
    "\n",
    "##    print('Round ', i, '==>', 'accuracy = ', accuracy)\n",
    "##    acc_crs=np.append(acc_crs,accuracy)\n",
    "#y_pred_crs = model_crs.predict_classes(X_test)   # Function 2"
   ]
  },
  {
   "cell_type": "code",
   "execution_count": 28,
   "metadata": {},
   "outputs": [
    {
     "name": "stdout",
     "output_type": "stream",
     "text": [
      "6/6 [==============================] - 0s 3ms/step\n",
      "array([[22,  0,  1,  0,  0,  0,  1],\n",
      "       [ 1, 24,  0,  0,  0,  0,  0],\n",
      "       [ 0,  0, 22,  0,  0,  0,  0],\n",
      "       [ 4,  0,  2, 23,  0,  0,  0],\n",
      "       [ 0,  0,  1,  1, 24,  2,  0],\n",
      "       [ 4,  0,  1,  1,  0, 19,  0],\n",
      "       [ 0,  1,  0,  0,  0,  0, 21]], dtype=int64)\n",
      "              precision    recall  f1-score   support\n",
      "\n",
      "           2       0.71      0.92      0.80        24\n",
      "           3       0.96      0.96      0.96        25\n",
      "           4       0.81      1.00      0.90        22\n",
      "           5       0.92      0.79      0.85        29\n",
      "           6       1.00      0.86      0.92        28\n",
      "           7       0.90      0.76      0.83        25\n",
      "           8       0.95      0.95      0.95        22\n",
      "\n",
      "    accuracy                           0.89       175\n",
      "   macro avg       0.89      0.89      0.89       175\n",
      "weighted avg       0.90      0.89      0.89       175\n",
      "\n"
     ]
    }
   ],
   "source": [
    "predict_x=model_crs.predict(X_test)              # Function 1\n",
    "\n",
    "y_pred_crs=maxindx(predict_x)                    # function from augment.py to remove 0 index predictions\n",
    "\n",
    "#y_pred_crs = model_crs.predict_classes(X_test)\n",
    "\n",
    "cm = confusion_matrix(y_test, y_pred_crs)\n",
    "fullprint(cm)\n",
    "acc3=accuracy_score(y_test, y_pred_crs)\n",
    "\n",
    "print(classification_report(y_test, y_pred_crs))\n",
    "\n",
    "#sns.heatmap(cm, annot=True)\n",
    "\n",
    "#plt.imshow(cm)"
   ]
  },
  {
   "cell_type": "code",
   "execution_count": null,
   "metadata": {},
   "outputs": [],
   "source": []
  }
 ],
 "metadata": {
  "celltoolbar": "Raw Cell Format",
  "kernelspec": {
   "display_name": "Python 3 (ipykernel)",
   "language": "python",
   "name": "python3"
  },
  "language_info": {
   "codemirror_mode": {
    "name": "ipython",
    "version": 3
   },
   "file_extension": ".py",
   "mimetype": "text/x-python",
   "name": "python",
   "nbconvert_exporter": "python",
   "pygments_lexer": "ipython3",
   "version": "3.9.7"
  }
 },
 "nbformat": 4,
 "nbformat_minor": 4
}
