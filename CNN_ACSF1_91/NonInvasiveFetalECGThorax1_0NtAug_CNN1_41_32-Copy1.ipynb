{
 "cells": [
  {
   "cell_type": "markdown",
   "metadata": {},
   "source": [
    "import time\n",
    "plc=1\n",
    "time.sleep(3000*plc)         #run after 1 houre = 3600 seconds"
   ]
  },
  {
   "cell_type": "code",
   "execution_count": 1,
   "metadata": {},
   "outputs": [
    {
     "data": {
      "text/html": [
       "<style>#notebook { padding-top:0px !important; } .container { width:100% !important; } .end_space { min-height:0px !important; } html, body, .container{ margin:0!important;padding:0!important;}</style>"
      ],
      "text/plain": [
       "<IPython.core.display.HTML object>"
      ]
     },
     "metadata": {},
     "output_type": "display_data"
    }
   ],
   "source": [
    "import os\n",
    "import glob\n",
    "import scipy\n",
    "import random\n",
    "import bisect\n",
    "import numpy as np\n",
    "import pandas as pd\n",
    "import seaborn as sns\n",
    "from scipy import signal\n",
    "from scipy.signal import find_peaks\n",
    "import matplotlib.pyplot as plt\n",
    "from preprocess import *                         #ماژول استخراج پنجره ها\n",
    "from data import *                          #ماژول محلی ورود داده ها\n",
    "from augment import *                            #ماژول های داده افزایی\n",
    "from lstm_cnn import *                           #ماژول های داده افزایی با lstm_cnn\n",
    "import augment\n",
    "import importlib\n",
    "importlib.reload(augment)\n",
    "import tensorflow as tf\n",
    "from tensorflow import keras\n",
    "from tensorflow.keras.layers import BatchNormalization\n",
    "from sklearn.model_selection import train_test_split\n",
    "from sklearn.neural_network import MLPClassifier\n",
    "from sklearn.datasets import make_classification\n",
    "from sklearn.metrics import confusion_matrix, accuracy_score, classification_report,recall_score,precision_score\n",
    "from tensorflow.keras import callbacks\n",
    "from tensorflow.keras import layers\n",
    "from tensorflow.keras.models import Sequential\n",
    "from tensorflow.keras.layers import Convolution2D,Conv1D,Dropout,MaxPooling1D,MaxPooling2D,Flatten,Dense\n",
    "from tensorflow.keras import backend as K\n",
    "from tensorflow.keras.utils import to_categorical\n",
    "from tensorflow.keras.models import load_model\n",
    "cwd = os.getcwd() #\n",
    "fullscrn()"
   ]
  },
  {
   "cell_type": "markdown",
   "metadata": {},
   "source": [
    "<h1><center><div style=\"direction:rtl;font-family:B Nazanin\">Importing Data</div></center></h1>"
   ]
  },
  {
   "cell_type": "code",
   "execution_count": 2,
   "metadata": {
    "scrolled": true
   },
   "outputs": [
    {
     "name": "stderr",
     "output_type": "stream",
     "text": [
      "C:\\ProgramData\\Anaconda3\\lib\\site-packages\\pandas\\util\\_decorators.py:311: ParserWarning: Falling back to the 'python' engine because the 'c' engine does not support regex separators (separators > 1 char and different from '\\s+' are interpreted as regex); you can avoid this warning by specifying engine='python'.\n",
      "  return func(*args, **kwargs)\n"
     ]
    },
    {
     "name": "stdout",
     "output_type": "stream",
     "text": [
      "first_train_shape= (100, 1461)\n",
      "first_test_shape= (100, 1461)\n",
      "classes_quantity= 10\n",
      "tr_lbls=\t {0, 1, 2, 3, 4, 5, 6, 7, 8, 9}\n",
      "Count_labels= [10 10 10 10 10 10 10 10 10]\n",
      "max(train_feature_Altitude)= 12.42995\n",
      "min(train_feature_Altitude)= -1.352876\n",
      "first_train_sample=\n",
      " [ 9.         -0.58475375 -0.58475375 ... -0.5786034   1.7327257\n",
      " -0.58473404]\n",
      "1 10\t1 10\t2 10\t3 10\t4 10\t5 10\t6 10\t7 10\t8 10\t9 10\t"
     ]
    }
   ],
   "source": [
    "rate=1460\n",
    "cls_num=10\n",
    "btch=20\n",
    "for i in range (0,cls_num):\n",
    "    vars()['ecg'+str(i)],vars()['ecg_tst'+str(i)]=ACSF1(i)\n",
    "\n",
    "os.chdir(cwd)\n",
    "clses_lens=np.array([])\n",
    "i=0                               #جمع آوری داده ها و چاپ تعداد نمونه ی هر کلاس\n",
    "ecg=np.array(ecg1)\n",
    "print(1,len(vars()['ecg'+str(1)]), end='\\t')\n",
    "clses_lens=np.append(clses_lens,len(vars()['ecg'+str(1)]))\n",
    "for i in range (1,cls_num):\n",
    "    ecg=np.concatenate((ecg,vars()['ecg'+str(i)]),axis=0)\n",
    "    clses_lens=np.append(clses_lens,len(vars()['ecg'+str(i)]))\n",
    "    print(i,len(vars()['ecg'+str(i)]), end='\\t')\n",
    "\n",
    "mx_sig=max(clses_lens)"
   ]
  },
  {
   "cell_type": "code",
   "execution_count": 3,
   "metadata": {},
   "outputs": [
    {
     "data": {
      "text/plain": [
       "(100, 1461)"
      ]
     },
     "execution_count": 3,
     "metadata": {},
     "output_type": "execute_result"
    }
   ],
   "source": [
    "np.shape(ecg)"
   ]
  },
  {
   "cell_type": "markdown",
   "metadata": {},
   "source": [
    "<h2><center><div style=\"direction:rtl;font-family:B Nazanin\">Base Train windows</div></center></h1>"
   ]
  },
  {
   "cell_type": "code",
   "execution_count": 4,
   "metadata": {},
   "outputs": [
    {
     "name": "stdout",
     "output_type": "stream",
     "text": [
      "each class and its windows =\n",
      "0 10\t1 10\t2 10\t3 10\t4 10\t5 10\t6 10\t7 10\t8 10\t9 10\t\n",
      " max = 10\n"
     ]
    }
   ],
   "source": [
    "smpl_rte=rate                                              # در ماژول ها نیز همین مقدار ثبت شده\n",
    "i=0\n",
    "windws=np.array([])\n",
    "\n",
    "for cls in range (0,cls_num):                                 #ساخت پنجره های داده های آموزش اصلی\n",
    "    vars()['wndws'+str(cls)]=np.array(vars()['ecg'+str(cls)])  \n",
    "    \n",
    "print(\"each class and its windows =\")\n",
    "\n",
    "cls_wndws=np.array([])\n",
    "for cls in range (0,cls_num):                                # آرایه ی تعداد پنجره ی هر کلاس\n",
    "    wns=len(vars()['wndws'+str(cls)])\n",
    "    cls_wndws=np.append(cls_wndws,wns)\n",
    "    print(cls, wns, end='\\t')\n",
    "\n",
    "mx_wndws=int(np.max(cls_wndws))                        # حداکثر تعداد پنجره ی موجود بین کلاس ها\n",
    "print('\\n max =', mx_wndws)"
   ]
  },
  {
   "cell_type": "raw",
   "metadata": {},
   "source": [
    "#clses=3                                   #تعیین میزان افزایش نمونه (تولید داده)\n",
    "mx_wndws=int(mx_wndws)  #mx_wndws*0.3  # =classes-1 برای بررسی الگوریتم تعداد کمی کلاس آزمایش شد\n",
    "mx_wndws=2598           #+2\n",
    "print(mx_wndws)"
   ]
  },
  {
   "cell_type": "markdown",
   "metadata": {},
   "source": [
    "<h1><center><div style=\"direction:rtl;font-family:B Nazanin\">Data Augmentation</div></center></h1>"
   ]
  },
  {
   "cell_type": "code",
   "execution_count": 5,
   "metadata": {},
   "outputs": [
    {
     "name": "stdout",
     "output_type": "stream",
     "text": [
      "Up to class  0 train shape =  (10, 1461)\n",
      "Up to class  1 train shape =  (20, 1461)\n",
      "Up to class  2 train shape =  (30, 1461)\n",
      "Up to class  3 train shape =  (40, 1461)\n",
      "Up to class  4 train shape =  (50, 1461)\n",
      "Up to class  5 train shape =  (60, 1461)\n",
      "Up to class  6 train shape =  (70, 1461)\n",
      "Up to class  7 train shape =  (80, 1461)\n",
      "Up to class  8 train shape =  (90, 1461)\n",
      "Up to class  9 train shape =  (100, 1461)\n"
     ]
    }
   ],
   "source": [
    "smpl_rte=len(wndws1[0])                                        # در ماژول ها نیز همین مقدار ثبت شده\n",
    "\n",
    "#add augmented data to base data\n",
    "xtrain=np.empty((0,len(wndws1[0])), float) \n",
    "for i in range (0,cls_num):   \n",
    "    xtrain=np.append(xtrain,vars()['wndws'+str(i)],axis=0)\n",
    "    print('Up to class ', i, 'train shape = ', np.shape(xtrain))"
   ]
  },
  {
   "cell_type": "code",
   "execution_count": 6,
   "metadata": {},
   "outputs": [
    {
     "name": "stdout",
     "output_type": "stream",
     "text": [
      "[10 10 10 10 10 10 10 10 10 10]\n"
     ]
    }
   ],
   "source": [
    "print(np.bincount(np.int16(xtrain[:,-1])))    #تعداد پنجره در هر کلاس از 0 تا 17"
   ]
  },
  {
   "cell_type": "code",
   "execution_count": 7,
   "metadata": {},
   "outputs": [
    {
     "data": {
      "text/plain": [
       "array([0., 0., 0., 0., 0., 0., 0., 0., 0., 0., 1., 1., 1., 1., 1., 1., 1.,\n",
       "       1., 1., 1., 2., 2., 2., 2., 2., 2., 2., 2., 2., 2., 3., 3., 3., 3.,\n",
       "       3., 3., 3., 3., 3., 3., 4., 4., 4., 4., 4., 4., 4., 4., 4., 4., 5.,\n",
       "       5., 5., 5., 5., 5., 5., 5., 5., 5., 6., 6., 6., 6., 6., 6., 6., 6.,\n",
       "       6., 6., 7., 7., 7., 7., 7., 7., 7., 7., 7., 7., 8., 8., 8., 8., 8.,\n",
       "       8., 8., 8., 8., 8., 9., 9., 9., 9., 9., 9., 9., 9., 9., 9.])"
      ]
     },
     "execution_count": 7,
     "metadata": {},
     "output_type": "execute_result"
    }
   ],
   "source": [
    "xtrain[:,-1]"
   ]
  },
  {
   "cell_type": "code",
   "execution_count": 8,
   "metadata": {},
   "outputs": [],
   "source": [
    "mx_aug=np.max(xtrain[:,:-1])\n",
    "mx=np.max(ecg[:,:-1])\n",
    "mn_aug=np.min(xtrain[:,:-1])\n",
    "mn=np.min(ecg[:,:-1])\n",
    "\n",
    "#for i in range (0,cls_num):             #نرمالسازی داده های افزایشی\n",
    "xtrain[:,:-1]= 2*(xtrain[:,:-1]-mn_aug)/(mx_aug - mn_aug) - 1"
   ]
  },
  {
   "cell_type": "code",
   "execution_count": 9,
   "metadata": {},
   "outputs": [
    {
     "name": "stdout",
     "output_type": "stream",
     "text": [
      "min trn = -1.0\n",
      "max trn = 1.0\n"
     ]
    }
   ],
   "source": [
    "print('min trn =', np.min(xtrain[:,:-1]))\n",
    "print('max trn =', np.max(xtrain[:,:-1]))"
   ]
  },
  {
   "cell_type": "markdown",
   "metadata": {},
   "source": [
    "<h3><center><div style=\"direction:rtl;font-family:B Nazanin\">Test Windows</div></center></h1>"
   ]
  },
  {
   "cell_type": "code",
   "execution_count": 10,
   "metadata": {},
   "outputs": [],
   "source": [
    "wndws_test=np.empty((0,len(wndws1[0])), float)\n",
    "i=0\n",
    "windws=np.array([])\n",
    "for cls in range (0,cls_num):                                 #ساخت پنجره های داده های آموزش اصلی\n",
    "    vars()['wndws_tst'+str(cls)]=np.empty((0,len(wndws1[0])), float)\n",
    "    vars()['wndws_tst'+str(cls)]=np.append(vars()['wndws_tst'+str(cls)],vars()['ecg_tst'+str(cls)],axis=0)   "
   ]
  },
  {
   "cell_type": "code",
   "execution_count": 11,
   "metadata": {},
   "outputs": [
    {
     "name": "stdout",
     "output_type": "stream",
     "text": [
      "\n",
      " cls 0  >> \n",
      "max magnitude class 0  =  7.793805500000001\n",
      "min magnitude class 0  =  -0.9384364300000007\n",
      "after normalizing >>\n",
      "max magnitude class 0  =  0.3272577771786427\n",
      "min magnitude class 0  =  -0.9398614522159678\n",
      "\n",
      " cls 1  >> \n",
      "max magnitude class 1  =  1.7608700000000006\n",
      "min magnitude class 1  =  -1.2472862\n",
      "after normalizing >>\n",
      "max magnitude class 1  =  -0.548170164812354\n",
      "min magnitude class 1  =  -0.9846780623944609\n",
      "\n",
      " cls 2  >> \n",
      "max magnitude class 2  =  1.7483563000000004\n",
      "min magnitude class 2  =  -0.9271888500000005\n",
      "after normalizing >>\n",
      "max magnitude class 2  =  -0.5499860043216098\n",
      "min magnitude class 2  =  -0.9382293370024405\n",
      "\n",
      " cls 3  >> \n",
      "max magnitude class 3  =  11.340412000000004\n",
      "min magnitude class 3  =  -0.89856476\n",
      "after normalizing >>\n",
      "max magnitude class 3  =  0.8418991867125079\n",
      "min magnitude class 3  =  -0.9340757490517545\n",
      "\n",
      " cls 4  >> \n",
      "max magnitude class 4  =  1.6795779999999993\n",
      "min magnitude class 4  =  -1.1284813\n",
      "after normalizing >>\n",
      "max magnitude class 4  =  -0.5599662942853665\n",
      "min magnitude class 4  =  -0.9674385064427279\n",
      "\n",
      " cls 5  >> \n",
      "max magnitude class 5  =  1.7612749000000008\n",
      "min magnitude class 5  =  -1.3068457000000018\n",
      "after normalizing >>\n",
      "max magnitude class 5  =  -0.5481114105336595\n",
      "min magnitude class 5  =  -0.9933206296009252\n",
      "\n",
      " cls 6  >> \n",
      "max magnitude class 6  =  1.7680566000000004\n",
      "min magnitude class 6  =  -0.7539090300000013\n",
      "after normalizing >>\n",
      "max magnitude class 6  =  -0.5471273307810748\n",
      "min magnitude class 6  =  -0.913085027700415\n",
      "\n",
      " cls 7  >> \n",
      "max magnitude class 7  =  10.394133\n",
      "min magnitude class 7  =  -1.3769185000000002\n",
      "after normalizing >>\n",
      "max magnitude class 7  =  0.7045864179087802\n",
      "min magnitude class 7  =  -1.003488762028919\n",
      "\n",
      " cls 8  >> \n",
      "max magnitude class 8  =  8.6199938\n",
      "min magnitude class 8  =  -0.89983013\n",
      "after normalizing >>\n",
      "max magnitude class 8  =  0.4471444100070625\n",
      "min magnitude class 8  =  -0.9342593645163915\n",
      "\n",
      " cls 9  >> \n",
      "max magnitude class 9  =  1.7578901999999998\n",
      "min magnitude class 9  =  -0.6056516500000003\n",
      "after normalizing >>\n",
      "max magnitude class 9  =  -0.5486025579950002\n",
      "min magnitude class 9  =  -0.8915716776806148\n",
      "each class and its windows =\n",
      "0 10\t1 10\t2 10\t3 10\t4 10\t5 10\t6 10\t7 10\t8 10\t9 10\t\n",
      " max instance in classes of test windows = 10\n"
     ]
    }
   ],
   "source": [
    "#print(np.max(wndws_tst))\n",
    "for i in range (0,cls_num):                # Normalization test windows\n",
    "    cls=i\n",
    "    print('\\n cls', i, ' >> ')\n",
    "    print('max magnitude class', i , ' = ' ,np.max(vars()['wndws_tst'+str(cls)][:,:-1]))\n",
    "    print('min magnitude class', i , ' = ' ,np.min(vars()['wndws_tst'+str(cls)][:,:-1]))\n",
    "\n",
    "    vars()['wndws_tst'+str(i)][:,:-1]= 2*(vars()['wndws_tst'+str(i)][:,:-1]-mn_aug)/(mx_aug - mn_aug) - 1\n",
    "    \n",
    "    print('after normalizing >>')\n",
    "    print('max magnitude class', i , ' = ' ,np.max(vars()['wndws_tst'+str(cls)][:,:-1]))\n",
    "    print('min magnitude class', i , ' = ' ,np.min(vars()['wndws_tst'+str(cls)][:,:-1]))\n",
    "    \n",
    "print(\"each class and its windows =\")                    #تجمیع کلاس های تست\n",
    "cls_wndws=np.array([])\n",
    "for cls in range (0,cls_num):                                # آرایه ی تعداد پنجره ی هر کلاس\n",
    "    wns=len(vars()['wndws_tst'+str(cls)])\n",
    "    cls_wndws=np.append(cls_wndws,wns)\n",
    "    print(cls, wns, end='\\t')\n",
    "    wndws_test=np.append(wndws_test,vars()['wndws_tst'+str(cls)],axis=0)\n",
    "    \n",
    "mx_wndws=int(np.max(cls_wndws))                        # حداکثر تعداد پنجره ی موجود بین کلاس ها\n",
    "print('\\n max instance in classes of test windows =', mx_wndws)"
   ]
  },
  {
   "cell_type": "code",
   "execution_count": 12,
   "metadata": {},
   "outputs": [
    {
     "name": "stdout",
     "output_type": "stream",
     "text": [
      "min tst = -1.003488762028919\n",
      "max tst = 0.8418991867125079\n"
     ]
    }
   ],
   "source": [
    "print('min tst =', np.min(wndws_test[:,:-1]))\n",
    "print('max tst =', np.max(wndws_test[:,:-1]))"
   ]
  },
  {
   "cell_type": "code",
   "execution_count": 13,
   "metadata": {},
   "outputs": [
    {
     "data": {
      "text/plain": [
       "100"
      ]
     },
     "execution_count": 13,
     "metadata": {},
     "output_type": "execute_result"
    }
   ],
   "source": [
    "len(wndws_test)"
   ]
  },
  {
   "cell_type": "code",
   "execution_count": 14,
   "metadata": {},
   "outputs": [
    {
     "data": {
      "text/plain": [
       "(100, 1461)"
      ]
     },
     "execution_count": 14,
     "metadata": {},
     "output_type": "execute_result"
    }
   ],
   "source": [
    "np.shape(wndws_test)"
   ]
  },
  {
   "cell_type": "code",
   "execution_count": 15,
   "metadata": {},
   "outputs": [],
   "source": [
    "Xtest=wndws_test[:,:-1]\n",
    "ytest=np.int16(wndws_test[:,-1])"
   ]
  },
  {
   "cell_type": "code",
   "execution_count": 16,
   "metadata": {},
   "outputs": [
    {
     "name": "stdout",
     "output_type": "stream",
     "text": [
      "array([0, 0, 0, 0, 0, 0, 0, 0, 0, 0, 1, 1, 1, 1, 1, 1, 1, 1, 1, 1, 2, 2,\n",
      "       2, 2, 2, 2, 2, 2, 2, 2, 3, 3, 3, 3, 3, 3, 3, 3, 3, 3, 4, 4, 4, 4,\n",
      "       4, 4, 4, 4, 4, 4, 5, 5, 5, 5, 5, 5, 5, 5, 5, 5, 6, 6, 6, 6, 6, 6,\n",
      "       6, 6, 6, 6, 7, 7, 7, 7, 7, 7, 7, 7, 7, 7, 8, 8, 8, 8, 8, 8, 8, 8,\n",
      "       8, 8, 9, 9, 9, 9, 9, 9, 9, 9, 9, 9], dtype=int16)\n"
     ]
    }
   ],
   "source": [
    "fullprint(ytest)"
   ]
  },
  {
   "cell_type": "markdown",
   "metadata": {},
   "source": [
    "<h3><center><div style=\"direction:rtl;font-family:B Nazanin\">Train Windows</div></center></h1>"
   ]
  },
  {
   "cell_type": "code",
   "execution_count": 17,
   "metadata": {},
   "outputs": [
    {
     "data": {
      "text/plain": [
       "'\\nytestt=np.int32(np.array([ytest]).T)\\ntestx=np.concatenate((Xtest, ytestt), axis=1)\\ntestx=np.random.permutation(testx)\\nXtest=np.int32(testx[:,:-1])\\nytest=np.int32(testx[:,-1])'"
      ]
     },
     "execution_count": 17,
     "metadata": {},
     "output_type": "execute_result"
    }
   ],
   "source": [
    "#ytraint=np.int32(np.array([ytrain]).T)\n",
    "#trainx=np.concatenate((Xtrain, ytraint), axis=1)\n",
    "trainx=np.random.permutation(xtrain)\n",
    "Xtrain=np.array(trainx[:,:-1])\n",
    "ytrain=np.int16(trainx[:,-1])\n",
    "'''\n",
    "ytestt=np.int32(np.array([ytest]).T)\n",
    "testx=np.concatenate((Xtest, ytestt), axis=1)\n",
    "testx=np.random.permutation(testx)\n",
    "Xtest=np.int32(testx[:,:-1])\n",
    "ytest=np.int32(testx[:,-1])'''"
   ]
  },
  {
   "cell_type": "code",
   "execution_count": 18,
   "metadata": {},
   "outputs": [
    {
     "data": {
      "text/plain": [
       "(10, 1461)"
      ]
     },
     "execution_count": 18,
     "metadata": {},
     "output_type": "execute_result"
    }
   ],
   "source": [
    "np.shape(wndws1)"
   ]
  },
  {
   "cell_type": "markdown",
   "metadata": {},
   "source": [
    "<h3><center><div style=\"direction:rtl;font-family:B Nazanin\">Validation Windows</div></center></h1>"
   ]
  },
  {
   "cell_type": "code",
   "execution_count": 19,
   "metadata": {},
   "outputs": [],
   "source": [
    "Xvalid=np.array(Xtrain)\n",
    "yvalid=np.array(ytrain)"
   ]
  },
  {
   "cell_type": "markdown",
   "metadata": {},
   "source": [
    "<h1><center><div style=\"direction:rtl;font-family:B Nazanin\">CNN And UnBalanced RAW Data</div></center></h1>\n",
    "<h1><center><div style=\"direction:rtl;font-family:Arial\">Cross Entropy Loss Function</div></center></h1>"
   ]
  },
  {
   "cell_type": "code",
   "execution_count": 20,
   "metadata": {
    "scrolled": true
   },
   "outputs": [
    {
     "name": "stdout",
     "output_type": "stream",
     "text": [
      "X_train =>  (100, 1460)\n",
      "y_train =>  (100,)\n",
      "X_test  =>  (100, 1460)\n",
      "y_test  =>  (100,)\n",
      "X_valid  =>  (100, 1460)\n",
      "y_valid  =>  (100,)\n"
     ]
    }
   ],
   "source": [
    "X_train=np.array(Xtrain)\n",
    "y_train=np.array(ytrain)\n",
    "X_test=np.array(Xtest)\n",
    "y_test=np.array(ytest)\n",
    "X_valid=np.array(Xtrain)\n",
    "y_valid=np.array(ytrain)\n",
    "print('X_train => ', X_train.shape)\n",
    "print('y_train => ', y_train.shape)\n",
    "print('X_test  => ', X_test.shape)\n",
    "print('y_test  => ', y_test.shape)\n",
    "print('X_valid  => ', X_valid.shape)\n",
    "print('y_valid  => ', y_valid.shape)"
   ]
  },
  {
   "cell_type": "code",
   "execution_count": null,
   "metadata": {},
   "outputs": [],
   "source": [
    "y_train=np.array(y_train+1)\n",
    "y_test=np.array(y_test+1)\n",
    "y_valid=np.array(y_valid+1)"
   ]
  },
  {
   "cell_type": "code",
   "execution_count": 22,
   "metadata": {},
   "outputs": [],
   "source": [
    "y_train_cat=to_categorical(y_train)\n",
    "y_valid_cat=to_categorical(y_valid)\n",
    "y_test_cat=to_categorical(y_test)\n",
    "\n",
    "\n",
    "X_train = np.expand_dims(X_train, axis=2)\n",
    "X_valid = np.expand_dims(X_valid, axis=2)\n",
    "X_test = np.expand_dims(X_test, axis=2)\n",
    "#y_train=np.transpose([y_train])"
   ]
  },
  {
   "cell_type": "code",
   "execution_count": 23,
   "metadata": {
    "scrolled": true
   },
   "outputs": [
    {
     "name": "stdout",
     "output_type": "stream",
     "text": [
      "Epoch 1/1000\n",
      "5/5 [==============================] - 3s 62ms/step - loss: 2.5507 - accuracy: 0.0800 - val_loss: 2.3030 - val_accuracy: 0.1000\n",
      "Epoch 2/1000\n",
      "5/5 [==============================] - 0s 21ms/step - loss: 2.3127 - accuracy: 0.0800 - val_loss: 2.3008 - val_accuracy: 0.1100\n",
      "Epoch 3/1000\n",
      "5/5 [==============================] - 0s 18ms/step - loss: 2.3025 - accuracy: 0.1100 - val_loss: 2.2769 - val_accuracy: 0.1000\n",
      "Epoch 4/1000\n",
      "5/5 [==============================] - 0s 22ms/step - loss: 2.3802 - accuracy: 0.1100 - val_loss: 2.2750 - val_accuracy: 0.1800\n",
      "Epoch 5/1000\n",
      "5/5 [==============================] - 0s 22ms/step - loss: 2.2522 - accuracy: 0.1300 - val_loss: 2.0956 - val_accuracy: 0.3100\n",
      "Epoch 6/1000\n",
      "5/5 [==============================] - 0s 18ms/step - loss: 2.0790 - accuracy: 0.2000 - val_loss: 1.9127 - val_accuracy: 0.2500\n",
      "Epoch 7/1000\n",
      "5/5 [==============================] - 0s 22ms/step - loss: 1.8883 - accuracy: 0.2500 - val_loss: 1.7603 - val_accuracy: 0.3300\n",
      "Epoch 8/1000\n",
      "5/5 [==============================] - 0s 18ms/step - loss: 2.3606 - accuracy: 0.2800 - val_loss: 1.9294 - val_accuracy: 0.3200\n",
      "Epoch 9/1000\n",
      "5/5 [==============================] - 0s 21ms/step - loss: 1.8329 - accuracy: 0.3400 - val_loss: 1.6837 - val_accuracy: 0.3400\n",
      "Epoch 10/1000\n",
      "5/5 [==============================] - 0s 22ms/step - loss: 1.7072 - accuracy: 0.3000 - val_loss: 1.6458 - val_accuracy: 0.3600\n",
      "Epoch 11/1000\n",
      "5/5 [==============================] - 0s 21ms/step - loss: 1.6688 - accuracy: 0.3700 - val_loss: 1.6313 - val_accuracy: 0.4300\n",
      "Epoch 12/1000\n",
      "5/5 [==============================] - 0s 18ms/step - loss: 1.6681 - accuracy: 0.3600 - val_loss: 1.5997 - val_accuracy: 0.3600\n",
      "Epoch 13/1000\n",
      "5/5 [==============================] - 0s 18ms/step - loss: 1.6659 - accuracy: 0.3100 - val_loss: 1.6110 - val_accuracy: 0.3500\n",
      "Epoch 14/1000\n",
      "5/5 [==============================] - 0s 18ms/step - loss: 1.7335 - accuracy: 0.2900 - val_loss: 1.6184 - val_accuracy: 0.4300\n",
      "Epoch 15/1000\n",
      "5/5 [==============================] - 0s 17ms/step - loss: 1.6428 - accuracy: 0.3300 - val_loss: 1.5976 - val_accuracy: 0.4200\n",
      "Epoch 16/1000\n",
      "5/5 [==============================] - 0s 17ms/step - loss: 1.6229 - accuracy: 0.3600 - val_loss: 1.5833 - val_accuracy: 0.4200\n",
      "Epoch 17/1000\n",
      "5/5 [==============================] - 0s 17ms/step - loss: 1.5431 - accuracy: 0.4000 - val_loss: 2.3223 - val_accuracy: 0.3400\n",
      "Epoch 18/1000\n",
      "5/5 [==============================] - 0s 17ms/step - loss: 2.0242 - accuracy: 0.3100 - val_loss: 1.6429 - val_accuracy: 0.3500\n",
      "Epoch 19/1000\n",
      "5/5 [==============================] - 0s 21ms/step - loss: 1.6449 - accuracy: 0.3400 - val_loss: 1.5894 - val_accuracy: 0.5300\n",
      "Epoch 20/1000\n",
      "5/5 [==============================] - 0s 17ms/step - loss: 1.5926 - accuracy: 0.4500 - val_loss: 1.6175 - val_accuracy: 0.3500\n",
      "Epoch 21/1000\n",
      "5/5 [==============================] - 0s 18ms/step - loss: 1.5248 - accuracy: 0.3300 - val_loss: 1.4708 - val_accuracy: 0.3700\n",
      "Epoch 22/1000\n",
      "5/5 [==============================] - 0s 18ms/step - loss: 1.5462 - accuracy: 0.3800 - val_loss: 1.5623 - val_accuracy: 0.3700\n",
      "Epoch 23/1000\n",
      "5/5 [==============================] - 0s 17ms/step - loss: 1.5743 - accuracy: 0.4000 - val_loss: 1.5471 - val_accuracy: 0.3700\n",
      "Epoch 24/1000\n",
      "5/5 [==============================] - 0s 18ms/step - loss: 1.5269 - accuracy: 0.3800 - val_loss: 1.3569 - val_accuracy: 0.3900\n",
      "Epoch 25/1000\n",
      "5/5 [==============================] - 0s 18ms/step - loss: 2.1928 - accuracy: 0.4200 - val_loss: 1.7173 - val_accuracy: 0.3600\n",
      "Epoch 26/1000\n",
      "5/5 [==============================] - 0s 17ms/step - loss: 1.5929 - accuracy: 0.3500 - val_loss: 1.4863 - val_accuracy: 0.4600\n",
      "Epoch 27/1000\n",
      "5/5 [==============================] - 0s 18ms/step - loss: 1.5165 - accuracy: 0.4100 - val_loss: 1.3862 - val_accuracy: 0.4800\n",
      "Epoch 28/1000\n",
      "5/5 [==============================] - 0s 17ms/step - loss: 1.4557 - accuracy: 0.4000 - val_loss: 1.3812 - val_accuracy: 0.4900\n",
      "Epoch 29/1000\n",
      "5/5 [==============================] - 0s 17ms/step - loss: 1.2830 - accuracy: 0.4900 - val_loss: 2.2713 - val_accuracy: 0.2800\n",
      "Epoch 30/1000\n",
      "5/5 [==============================] - 0s 18ms/step - loss: 1.9773 - accuracy: 0.3500 - val_loss: 1.2799 - val_accuracy: 0.5200\n",
      "Epoch 31/1000\n",
      "5/5 [==============================] - 0s 17ms/step - loss: 1.3446 - accuracy: 0.4800 - val_loss: 1.7269 - val_accuracy: 0.4000\n",
      "Epoch 32/1000\n",
      "5/5 [==============================] - 0s 17ms/step - loss: 1.4244 - accuracy: 0.5100 - val_loss: 1.3501 - val_accuracy: 0.4200\n",
      "Epoch 33/1000\n",
      "5/5 [==============================] - 0s 17ms/step - loss: 1.4719 - accuracy: 0.4300 - val_loss: 1.1767 - val_accuracy: 0.5200\n",
      "Epoch 34/1000\n",
      "5/5 [==============================] - 0s 22ms/step - loss: 1.2215 - accuracy: 0.5000 - val_loss: 1.1657 - val_accuracy: 0.5500\n",
      "Epoch 35/1000\n",
      "5/5 [==============================] - 0s 22ms/step - loss: 1.2224 - accuracy: 0.4900 - val_loss: 1.1237 - val_accuracy: 0.5800\n",
      "Epoch 36/1000\n",
      "5/5 [==============================] - 0s 18ms/step - loss: 1.1731 - accuracy: 0.5100 - val_loss: 1.7011 - val_accuracy: 0.4100\n",
      "Epoch 37/1000\n",
      "5/5 [==============================] - 0s 18ms/step - loss: 1.3360 - accuracy: 0.4800 - val_loss: 1.1774 - val_accuracy: 0.5600\n",
      "Epoch 38/1000\n",
      "5/5 [==============================] - 0s 17ms/step - loss: 1.1979 - accuracy: 0.4600 - val_loss: 1.2870 - val_accuracy: 0.4600\n",
      "Epoch 39/1000\n",
      "5/5 [==============================] - 0s 18ms/step - loss: 1.2781 - accuracy: 0.4600 - val_loss: 1.2385 - val_accuracy: 0.5400\n",
      "Epoch 40/1000\n",
      "5/5 [==============================] - 0s 17ms/step - loss: 1.2734 - accuracy: 0.5200 - val_loss: 1.1038 - val_accuracy: 0.5800\n",
      "Epoch 41/1000\n",
      "5/5 [==============================] - 0s 22ms/step - loss: 1.3453 - accuracy: 0.4500 - val_loss: 1.0741 - val_accuracy: 0.6000\n",
      "Epoch 42/1000\n",
      "5/5 [==============================] - 0s 17ms/step - loss: 1.0732 - accuracy: 0.5800 - val_loss: 1.1306 - val_accuracy: 0.4900\n",
      "Epoch 43/1000\n",
      "5/5 [==============================] - 0s 21ms/step - loss: 1.1669 - accuracy: 0.5000 - val_loss: 1.0857 - val_accuracy: 0.6200\n",
      "Epoch 44/1000\n",
      "5/5 [==============================] - 0s 18ms/step - loss: 1.1001 - accuracy: 0.5900 - val_loss: 0.9965 - val_accuracy: 0.5800\n",
      "Epoch 45/1000\n",
      "5/5 [==============================] - 0s 18ms/step - loss: 1.0291 - accuracy: 0.5700 - val_loss: 1.3900 - val_accuracy: 0.4200\n",
      "Epoch 46/1000\n",
      "5/5 [==============================] - 0s 17ms/step - loss: 1.1756 - accuracy: 0.5300 - val_loss: 0.9681 - val_accuracy: 0.6100\n",
      "Epoch 47/1000\n",
      "5/5 [==============================] - 0s 17ms/step - loss: 1.0958 - accuracy: 0.5700 - val_loss: 0.9967 - val_accuracy: 0.5800\n",
      "Epoch 48/1000\n",
      "5/5 [==============================] - 0s 21ms/step - loss: 1.0022 - accuracy: 0.6300 - val_loss: 0.9219 - val_accuracy: 0.6300\n",
      "Epoch 49/1000\n",
      "5/5 [==============================] - 0s 17ms/step - loss: 1.1221 - accuracy: 0.5300 - val_loss: 1.1196 - val_accuracy: 0.5800\n",
      "Epoch 50/1000\n",
      "5/5 [==============================] - 0s 17ms/step - loss: 1.0427 - accuracy: 0.5100 - val_loss: 1.4603 - val_accuracy: 0.6300\n",
      "Epoch 51/1000\n",
      "5/5 [==============================] - 0s 18ms/step - loss: 1.7414 - accuracy: 0.5300 - val_loss: 1.0965 - val_accuracy: 0.5900\n",
      "Epoch 52/1000\n",
      "5/5 [==============================] - 0s 22ms/step - loss: 1.0305 - accuracy: 0.6000 - val_loss: 0.8705 - val_accuracy: 0.6600\n",
      "Epoch 53/1000\n",
      "5/5 [==============================] - 0s 17ms/step - loss: 0.9791 - accuracy: 0.6000 - val_loss: 0.9720 - val_accuracy: 0.6000\n",
      "Epoch 54/1000\n",
      "5/5 [==============================] - 0s 21ms/step - loss: 0.9696 - accuracy: 0.6100 - val_loss: 0.8498 - val_accuracy: 0.6700\n",
      "Epoch 55/1000\n",
      "5/5 [==============================] - 0s 21ms/step - loss: 1.0306 - accuracy: 0.5800 - val_loss: 0.8516 - val_accuracy: 0.7000\n",
      "Epoch 56/1000\n",
      "5/5 [==============================] - 0s 18ms/step - loss: 1.0112 - accuracy: 0.6200 - val_loss: 1.2163 - val_accuracy: 0.5800\n",
      "Epoch 57/1000\n",
      "5/5 [==============================] - 0s 18ms/step - loss: 1.0625 - accuracy: 0.6200 - val_loss: 0.8013 - val_accuracy: 0.6700\n",
      "Epoch 58/1000\n",
      "5/5 [==============================] - 0s 17ms/step - loss: 0.8301 - accuracy: 0.7000 - val_loss: 1.0752 - val_accuracy: 0.6200\n"
     ]
    },
    {
     "name": "stdout",
     "output_type": "stream",
     "text": [
      "Epoch 59/1000\n",
      "5/5 [==============================] - 0s 17ms/step - loss: 0.8807 - accuracy: 0.6900 - val_loss: 1.0478 - val_accuracy: 0.6100\n",
      "Epoch 60/1000\n",
      "5/5 [==============================] - 0s 21ms/step - loss: 0.8853 - accuracy: 0.6000 - val_loss: 0.6953 - val_accuracy: 0.7400\n",
      "Epoch 61/1000\n",
      "5/5 [==============================] - 0s 17ms/step - loss: 1.0503 - accuracy: 0.6300 - val_loss: 0.8822 - val_accuracy: 0.6300\n",
      "Epoch 62/1000\n",
      "5/5 [==============================] - 0s 21ms/step - loss: 0.8365 - accuracy: 0.6400 - val_loss: 0.6825 - val_accuracy: 0.7600\n",
      "Epoch 63/1000\n",
      "5/5 [==============================] - 0s 17ms/step - loss: 0.8847 - accuracy: 0.6500 - val_loss: 0.7721 - val_accuracy: 0.6300\n",
      "Epoch 64/1000\n",
      "5/5 [==============================] - 0s 18ms/step - loss: 0.7352 - accuracy: 0.6900 - val_loss: 0.7274 - val_accuracy: 0.7300\n",
      "Epoch 65/1000\n",
      "5/5 [==============================] - 0s 17ms/step - loss: 0.7601 - accuracy: 0.7000 - val_loss: 0.7092 - val_accuracy: 0.6800\n",
      "Epoch 66/1000\n",
      "5/5 [==============================] - 0s 17ms/step - loss: 0.7983 - accuracy: 0.6700 - val_loss: 0.9082 - val_accuracy: 0.6300\n",
      "Epoch 67/1000\n",
      "5/5 [==============================] - 0s 17ms/step - loss: 0.7699 - accuracy: 0.6500 - val_loss: 0.7946 - val_accuracy: 0.7100\n",
      "Epoch 68/1000\n",
      "5/5 [==============================] - 0s 22ms/step - loss: 0.7610 - accuracy: 0.6900 - val_loss: 0.6051 - val_accuracy: 0.8100\n",
      "Epoch 69/1000\n",
      "5/5 [==============================] - 0s 17ms/step - loss: 0.6670 - accuracy: 0.7700 - val_loss: 0.7556 - val_accuracy: 0.6900\n",
      "Epoch 70/1000\n",
      "5/5 [==============================] - 0s 17ms/step - loss: 0.7417 - accuracy: 0.7100 - val_loss: 0.5991 - val_accuracy: 0.7800\n",
      "Epoch 71/1000\n",
      "5/5 [==============================] - 0s 18ms/step - loss: 0.9757 - accuracy: 0.6100 - val_loss: 0.7673 - val_accuracy: 0.6800\n",
      "Epoch 72/1000\n",
      "5/5 [==============================] - 0s 17ms/step - loss: 0.7246 - accuracy: 0.7200 - val_loss: 0.6164 - val_accuracy: 0.7800\n",
      "Epoch 73/1000\n",
      "5/5 [==============================] - 0s 21ms/step - loss: 0.7205 - accuracy: 0.7300 - val_loss: 0.5460 - val_accuracy: 0.8200\n",
      "Epoch 74/1000\n",
      "5/5 [==============================] - 0s 17ms/step - loss: 0.6049 - accuracy: 0.7500 - val_loss: 0.6790 - val_accuracy: 0.7300\n",
      "Epoch 75/1000\n",
      "5/5 [==============================] - 0s 18ms/step - loss: 0.5810 - accuracy: 0.8000 - val_loss: 0.5416 - val_accuracy: 0.7800\n",
      "Epoch 76/1000\n",
      "5/5 [==============================] - 0s 18ms/step - loss: 0.5767 - accuracy: 0.7500 - val_loss: 0.7786 - val_accuracy: 0.6800\n",
      "Epoch 77/1000\n",
      "5/5 [==============================] - 0s 17ms/step - loss: 0.7219 - accuracy: 0.6900 - val_loss: 0.6139 - val_accuracy: 0.7600\n",
      "Epoch 78/1000\n",
      "5/5 [==============================] - 0s 17ms/step - loss: 0.5860 - accuracy: 0.7900 - val_loss: 0.4758 - val_accuracy: 0.8000\n",
      "Epoch 79/1000\n",
      "5/5 [==============================] - 0s 18ms/step - loss: 0.5728 - accuracy: 0.8000 - val_loss: 1.2981 - val_accuracy: 0.6100\n",
      "Epoch 80/1000\n",
      "5/5 [==============================] - 0s 17ms/step - loss: 0.7846 - accuracy: 0.7500 - val_loss: 0.9079 - val_accuracy: 0.8200\n",
      "Epoch 81/1000\n",
      "5/5 [==============================] - 0s 17ms/step - loss: 0.7733 - accuracy: 0.7700 - val_loss: 0.8206 - val_accuracy: 0.7000\n",
      "Epoch 82/1000\n",
      "5/5 [==============================] - 0s 17ms/step - loss: 0.6304 - accuracy: 0.7500 - val_loss: 0.6509 - val_accuracy: 0.7500\n",
      "Epoch 83/1000\n",
      "5/5 [==============================] - 0s 18ms/step - loss: 0.7524 - accuracy: 0.6700 - val_loss: 0.5670 - val_accuracy: 0.7800\n",
      "Epoch 84/1000\n",
      "5/5 [==============================] - 0s 17ms/step - loss: 0.5527 - accuracy: 0.7900 - val_loss: 0.4539 - val_accuracy: 0.8200\n",
      "Epoch 85/1000\n",
      "5/5 [==============================] - 0s 22ms/step - loss: 0.5728 - accuracy: 0.8000 - val_loss: 0.4562 - val_accuracy: 0.8600\n",
      "Epoch 86/1000\n",
      "5/5 [==============================] - 0s 18ms/step - loss: 0.5269 - accuracy: 0.7800 - val_loss: 0.4203 - val_accuracy: 0.8600\n",
      "Epoch 87/1000\n",
      "5/5 [==============================] - 0s 18ms/step - loss: 0.5358 - accuracy: 0.7900 - val_loss: 0.4658 - val_accuracy: 0.8400\n",
      "Epoch 88/1000\n",
      "5/5 [==============================] - 0s 17ms/step - loss: 0.5845 - accuracy: 0.7700 - val_loss: 0.4439 - val_accuracy: 0.8600\n",
      "Epoch 89/1000\n",
      "5/5 [==============================] - 0s 18ms/step - loss: 0.5312 - accuracy: 0.7600 - val_loss: 0.4188 - val_accuracy: 0.8400\n",
      "Epoch 90/1000\n",
      "5/5 [==============================] - 0s 18ms/step - loss: 0.7009 - accuracy: 0.7600 - val_loss: 0.7284 - val_accuracy: 0.8300\n",
      "Epoch 91/1000\n",
      "5/5 [==============================] - 0s 18ms/step - loss: 0.7877 - accuracy: 0.8300 - val_loss: 0.5780 - val_accuracy: 0.7800\n",
      "Epoch 92/1000\n",
      "5/5 [==============================] - 0s 18ms/step - loss: 0.4278 - accuracy: 0.8400 - val_loss: 0.5606 - val_accuracy: 0.7600\n",
      "Epoch 93/1000\n",
      "5/5 [==============================] - 0s 18ms/step - loss: 0.4833 - accuracy: 0.8100 - val_loss: 0.4125 - val_accuracy: 0.8600\n",
      "Epoch 94/1000\n",
      "5/5 [==============================] - 0s 18ms/step - loss: 0.4916 - accuracy: 0.8500 - val_loss: 0.7523 - val_accuracy: 0.7000\n",
      "Epoch 95/1000\n",
      "5/5 [==============================] - 0s 18ms/step - loss: 0.6271 - accuracy: 0.7900 - val_loss: 0.3623 - val_accuracy: 0.8600\n",
      "Epoch 96/1000\n",
      "5/5 [==============================] - 0s 22ms/step - loss: 0.4401 - accuracy: 0.8400 - val_loss: 0.3169 - val_accuracy: 0.8900\n",
      "Epoch 97/1000\n",
      "5/5 [==============================] - 0s 18ms/step - loss: 0.3797 - accuracy: 0.8300 - val_loss: 0.4235 - val_accuracy: 0.8400\n",
      "Epoch 98/1000\n",
      "5/5 [==============================] - 0s 18ms/step - loss: 0.4233 - accuracy: 0.8400 - val_loss: 0.4941 - val_accuracy: 0.8500\n",
      "Epoch 99/1000\n",
      "5/5 [==============================] - 0s 21ms/step - loss: 0.4548 - accuracy: 0.8500 - val_loss: 0.3805 - val_accuracy: 0.9100\n",
      "Epoch 100/1000\n",
      "5/5 [==============================] - 0s 18ms/step - loss: 0.3729 - accuracy: 0.9000 - val_loss: 0.3083 - val_accuracy: 0.8800\n",
      "Epoch 101/1000\n",
      "5/5 [==============================] - 0s 18ms/step - loss: 0.5018 - accuracy: 0.7600 - val_loss: 0.2873 - val_accuracy: 0.8900\n",
      "Epoch 102/1000\n",
      "5/5 [==============================] - 0s 17ms/step - loss: 0.4058 - accuracy: 0.8700 - val_loss: 0.6415 - val_accuracy: 0.7800\n",
      "Epoch 103/1000\n",
      "5/5 [==============================] - 0s 18ms/step - loss: 0.6503 - accuracy: 0.8300 - val_loss: 0.3257 - val_accuracy: 0.8900\n",
      "Epoch 104/1000\n",
      "5/5 [==============================] - 0s 17ms/step - loss: 0.4656 - accuracy: 0.8600 - val_loss: 0.3966 - val_accuracy: 0.8900\n",
      "Epoch 105/1000\n",
      "5/5 [==============================] - 0s 22ms/step - loss: 0.3224 - accuracy: 0.8900 - val_loss: 0.2199 - val_accuracy: 0.9400\n",
      "Epoch 106/1000\n",
      "5/5 [==============================] - 0s 17ms/step - loss: 0.4184 - accuracy: 0.8600 - val_loss: 0.2791 - val_accuracy: 0.9300\n",
      "Epoch 107/1000\n",
      "5/5 [==============================] - 0s 17ms/step - loss: 0.3359 - accuracy: 0.8900 - val_loss: 0.2045 - val_accuracy: 0.9300\n",
      "Epoch 108/1000\n",
      "5/5 [==============================] - 0s 17ms/step - loss: 0.6068 - accuracy: 0.7800 - val_loss: 0.4332 - val_accuracy: 0.8500\n",
      "Epoch 109/1000\n",
      "5/5 [==============================] - 0s 17ms/step - loss: 0.3891 - accuracy: 0.8800 - val_loss: 0.2217 - val_accuracy: 0.9400\n",
      "Epoch 110/1000\n",
      "5/5 [==============================] - 0s 17ms/step - loss: 0.3180 - accuracy: 0.8600 - val_loss: 0.3571 - val_accuracy: 0.8900\n",
      "Epoch 111/1000\n",
      "5/5 [==============================] - 0s 17ms/step - loss: 0.2670 - accuracy: 0.8900 - val_loss: 0.2021 - val_accuracy: 0.9000\n",
      "Epoch 112/1000\n",
      "5/5 [==============================] - 0s 17ms/step - loss: 0.2873 - accuracy: 0.8900 - val_loss: 0.4796 - val_accuracy: 0.8100\n",
      "Epoch 113/1000\n",
      "5/5 [==============================] - 0s 17ms/step - loss: 0.4139 - accuracy: 0.8600 - val_loss: 0.3405 - val_accuracy: 0.8900\n",
      "Epoch 114/1000\n",
      "5/5 [==============================] - 0s 17ms/step - loss: 0.3489 - accuracy: 0.9100 - val_loss: 0.2326 - val_accuracy: 0.9100\n",
      "Epoch 115/1000\n",
      "5/5 [==============================] - 0s 18ms/step - loss: 0.4056 - accuracy: 0.8500 - val_loss: 0.3494 - val_accuracy: 0.9000\n",
      "Epoch 116/1000\n"
     ]
    },
    {
     "name": "stdout",
     "output_type": "stream",
     "text": [
      "5/5 [==============================] - 0s 18ms/step - loss: 0.2968 - accuracy: 0.9100 - val_loss: 0.1878 - val_accuracy: 0.9200\n",
      "Epoch 117/1000\n",
      "5/5 [==============================] - 0s 17ms/step - loss: 0.2434 - accuracy: 0.9000 - val_loss: 0.2124 - val_accuracy: 0.9300\n",
      "Epoch 118/1000\n",
      "5/5 [==============================] - 0s 17ms/step - loss: 0.3013 - accuracy: 0.8600 - val_loss: 0.2058 - val_accuracy: 0.9300\n",
      "Epoch 119/1000\n",
      "5/5 [==============================] - 0s 17ms/step - loss: 0.2242 - accuracy: 0.9100 - val_loss: 0.1591 - val_accuracy: 0.9400\n",
      "Epoch 120/1000\n",
      "5/5 [==============================] - 0s 17ms/step - loss: 0.2905 - accuracy: 0.8900 - val_loss: 0.3190 - val_accuracy: 0.8700\n",
      "Epoch 121/1000\n",
      "5/5 [==============================] - 0s 17ms/step - loss: 0.2302 - accuracy: 0.9100 - val_loss: 0.1466 - val_accuracy: 0.9400\n",
      "Epoch 122/1000\n",
      "5/5 [==============================] - 0s 21ms/step - loss: 0.4176 - accuracy: 0.8400 - val_loss: 0.1855 - val_accuracy: 0.9600\n",
      "Epoch 123/1000\n",
      "5/5 [==============================] - 0s 18ms/step - loss: 0.2120 - accuracy: 0.9400 - val_loss: 0.3723 - val_accuracy: 0.8700\n",
      "Epoch 124/1000\n",
      "5/5 [==============================] - 0s 17ms/step - loss: 0.2248 - accuracy: 0.9100 - val_loss: 0.1738 - val_accuracy: 0.9500\n",
      "Epoch 125/1000\n",
      "5/5 [==============================] - 0s 17ms/step - loss: 0.1768 - accuracy: 0.9600 - val_loss: 0.1329 - val_accuracy: 0.9300\n",
      "Epoch 126/1000\n",
      "5/5 [==============================] - 0s 17ms/step - loss: 0.3193 - accuracy: 0.8900 - val_loss: 0.4160 - val_accuracy: 0.8600\n",
      "Epoch 127/1000\n",
      "5/5 [==============================] - 0s 19ms/step - loss: 0.2667 - accuracy: 0.9300 - val_loss: 0.1362 - val_accuracy: 0.9500\n",
      "Epoch 128/1000\n",
      "5/5 [==============================] - 0s 18ms/step - loss: 0.1464 - accuracy: 0.9400 - val_loss: 0.6576 - val_accuracy: 0.8300\n",
      "Epoch 129/1000\n",
      "5/5 [==============================] - 0s 18ms/step - loss: 0.3985 - accuracy: 0.8900 - val_loss: 0.3339 - val_accuracy: 0.8700\n",
      "Epoch 130/1000\n",
      "5/5 [==============================] - 0s 21ms/step - loss: 0.2623 - accuracy: 0.9100 - val_loss: 0.1322 - val_accuracy: 0.9700\n",
      "Epoch 131/1000\n",
      "5/5 [==============================] - 0s 22ms/step - loss: 0.1641 - accuracy: 0.9400 - val_loss: 0.1028 - val_accuracy: 0.9800\n",
      "Epoch 132/1000\n",
      "5/5 [==============================] - 0s 18ms/step - loss: 0.1306 - accuracy: 0.9500 - val_loss: 0.4448 - val_accuracy: 0.8700\n",
      "Epoch 133/1000\n",
      "5/5 [==============================] - 0s 18ms/step - loss: 0.5763 - accuracy: 0.8400 - val_loss: 0.2513 - val_accuracy: 0.9000\n",
      "Epoch 134/1000\n",
      "5/5 [==============================] - 0s 18ms/step - loss: 0.1895 - accuracy: 0.9500 - val_loss: 0.1240 - val_accuracy: 0.9500\n",
      "Epoch 135/1000\n",
      "5/5 [==============================] - 0s 18ms/step - loss: 0.1545 - accuracy: 0.9400 - val_loss: 0.1328 - val_accuracy: 0.9400\n",
      "Epoch 136/1000\n",
      "5/5 [==============================] - 0s 18ms/step - loss: 0.1309 - accuracy: 0.9500 - val_loss: 0.1638 - val_accuracy: 0.9400\n",
      "Epoch 137/1000\n",
      "5/5 [==============================] - 0s 17ms/step - loss: 0.1702 - accuracy: 0.9400 - val_loss: 0.1275 - val_accuracy: 0.9600\n",
      "Epoch 138/1000\n",
      "5/5 [==============================] - 0s 17ms/step - loss: 0.1042 - accuracy: 0.9700 - val_loss: 0.0858 - val_accuracy: 0.9600\n",
      "Epoch 139/1000\n",
      "5/5 [==============================] - 0s 18ms/step - loss: 0.1422 - accuracy: 0.9300 - val_loss: 0.0993 - val_accuracy: 0.9600\n",
      "Epoch 140/1000\n",
      "5/5 [==============================] - 0s 17ms/step - loss: 0.3196 - accuracy: 0.8500 - val_loss: 0.3919 - val_accuracy: 0.8300\n",
      "Epoch 141/1000\n",
      "5/5 [==============================] - 0s 18ms/step - loss: 0.2339 - accuracy: 0.9300 - val_loss: 0.1493 - val_accuracy: 0.9300\n",
      "Epoch 142/1000\n",
      "5/5 [==============================] - 0s 17ms/step - loss: 0.2832 - accuracy: 0.9000 - val_loss: 0.1896 - val_accuracy: 0.9500\n",
      "Epoch 143/1000\n",
      "5/5 [==============================] - 0s 17ms/step - loss: 0.1413 - accuracy: 0.9500 - val_loss: 0.1537 - val_accuracy: 0.9200\n",
      "Epoch 144/1000\n",
      "5/5 [==============================] - 0s 17ms/step - loss: 0.1249 - accuracy: 0.9400 - val_loss: 0.0866 - val_accuracy: 0.9700\n",
      "Epoch 145/1000\n",
      "5/5 [==============================] - 0s 17ms/step - loss: 0.1032 - accuracy: 0.9500 - val_loss: 0.1126 - val_accuracy: 0.9500\n",
      "Epoch 146/1000\n",
      "5/5 [==============================] - 0s 17ms/step - loss: 0.2614 - accuracy: 0.9000 - val_loss: 0.2254 - val_accuracy: 0.9500\n",
      "Epoch 147/1000\n",
      "5/5 [==============================] - 0s 18ms/step - loss: 0.1603 - accuracy: 0.9500 - val_loss: 0.0629 - val_accuracy: 0.9800\n",
      "Epoch 148/1000\n",
      "5/5 [==============================] - 0s 17ms/step - loss: 0.0926 - accuracy: 0.9600 - val_loss: 0.2335 - val_accuracy: 0.9100\n",
      "Epoch 149/1000\n",
      "5/5 [==============================] - 0s 17ms/step - loss: 0.1273 - accuracy: 0.9500 - val_loss: 0.0973 - val_accuracy: 0.9600\n",
      "Epoch 150/1000\n",
      "5/5 [==============================] - 0s 17ms/step - loss: 0.0874 - accuracy: 0.9500 - val_loss: 0.0596 - val_accuracy: 0.9700\n",
      "Epoch 151/1000\n",
      "5/5 [==============================] - 0s 20ms/step - loss: 0.0743 - accuracy: 0.9600 - val_loss: 0.1728 - val_accuracy: 0.9200\n",
      "5/5 [==============================] - 0s 3ms/step - loss: 0.1028 - accuracy: 0.9800\n",
      "np.shape(X_test)= (100, 1460, 1)\n",
      "Model: \"sequential\"\n",
      "_________________________________________________________________\n",
      " Layer (type)                Output Shape              Param #   \n",
      "=================================================================\n",
      " conv1d (Conv1D)             (None, 1458, 32)          128       \n",
      "                                                                 \n",
      " conv1d_1 (Conv1D)           (None, 1456, 64)          6208      \n",
      "                                                                 \n",
      " max_pooling1d (MaxPooling1D  (None, 485, 64)          0         \n",
      " )                                                               \n",
      "                                                                 \n",
      " conv1d_2 (Conv1D)           (None, 483, 128)          24704     \n",
      "                                                                 \n",
      " max_pooling1d_1 (MaxPooling  (None, 161, 128)         0         \n",
      " 1D)                                                             \n",
      "                                                                 \n",
      " conv1d_3 (Conv1D)           (None, 159, 128)          49280     \n",
      "                                                                 \n",
      " max_pooling1d_2 (MaxPooling  (None, 53, 128)          0         \n",
      " 1D)                                                             \n",
      "                                                                 \n",
      " conv1d_4 (Conv1D)           (None, 51, 256)           98560     \n",
      "                                                                 \n",
      " max_pooling1d_3 (MaxPooling  (None, 17, 256)          0         \n",
      " 1D)                                                             \n",
      "                                                                 \n",
      " flatten (Flatten)           (None, 4352)              0         \n",
      "                                                                 \n",
      " dense (Dense)               (None, 2000)              8706000   \n",
      "                                                                 \n",
      " dense_1 (Dense)             (None, 10)                20010     \n",
      "                                                                 \n",
      "=================================================================\n",
      "Total params: 8,904,890\n",
      "Trainable params: 8,904,890\n",
      "Non-trainable params: 0\n",
      "_________________________________________________________________\n",
      "Accuracy=  0.9800000190734863\n"
     ]
    }
   ],
   "source": [
    "accuracy=0\n",
    "acc_crs=np.array([])\n",
    "##for i in range (10):\n",
    "##    if accuracy<0.2 :\n",
    "\n",
    "verbose, epochs, batch_size = 1, 1000, btch\n",
    "n_timesteps, n_features, n_outputs = X_train.shape[1], X_train.shape[2], y_train_cat.shape[1]\n",
    "steps_per_epoch = len(X_train)//batch_size\n",
    "validation_steps = len(X_valid)//batch_size # if you have test data\n",
    "\n",
    "model_crs = Sequential()\n",
    "BatchNormalization()\n",
    "model_crs.add(Conv1D(filters=32, kernel_size=3, activation='relu', input_shape=(n_timesteps,n_features)))\n",
    "#model_crs.add(MaxPooling1D(pool_size=3))\n",
    "BatchNormalization()\n",
    "model_crs.add(Conv1D(filters=64, kernel_size=3, activation='relu'))\n",
    "#model_crs.add(Dropout(0.5))\n",
    "model_crs.add(MaxPooling1D(pool_size=3))\n",
    "BatchNormalization()\n",
    "model_crs.add(Conv1D(filters=128, kernel_size=3, activation='relu'))\n",
    "model_crs.add(MaxPooling1D(pool_size=3))\n",
    "BatchNormalization()\n",
    "model_crs.add(Conv1D(filters=128, kernel_size=3, activation='relu'))\n",
    "model_crs.add(MaxPooling1D(pool_size=3))\n",
    "BatchNormalization()\n",
    "model_crs.add(Conv1D(filters=256, kernel_size=3, activation='relu'))\n",
    "model_crs.add(MaxPooling1D(pool_size=3))\n",
    "'''model_crs.add(Conv1D(filters=512, kernel_size=3, activation='relu'))\n",
    "model_crs.add(MaxPooling1D(pool_size=3))\n",
    "model_crs.add(Conv1D(filters=1024, kernel_size=3, activation='relu'))\n",
    "model_crs.add(MaxPooling1D(pool_size=3))\n",
    "'''\n",
    "model_crs.add(Flatten())\n",
    "#model_crs.add(Dropout(0.5))\n",
    "model_crs.add(Dense(2000, activation='relu'))\n",
    "model_crs.add(Dense(n_outputs, activation='softmax'))\n",
    "model_crs.compile(optimizer='rmsprop', loss='categorical_crossentropy', metrics=['accuracy'])\n",
    "# fit network   #CategoricalCrossentropy #sparse_categorical_crossentropy #SparseCategoricalCrossentropy\n",
    "\n",
    "earlystopping = callbacks.EarlyStopping(monitor =\"val_accuracy\", mode =\"max\", patience = 20, restore_best_weights = True)\n",
    "\n",
    "model_crs.fit(X_train, y_train_cat, epochs=epochs, batch_size=batch_size, verbose=verbose, validation_data = (X_valid, y_valid_cat), callbacks =[earlystopping])\n",
    "# evaluate model_crs\n",
    "_, accuracy = model_crs.evaluate(X_valid, y_valid_cat, batch_size=batch_size, verbose=1)\n",
    "\n",
    "print('np.shape(X_test)=',np.shape(X_test))\n",
    "\n",
    "\n",
    "model_crs.summary()\n",
    "print('Accuracy= ', accuracy)\n",
    "\n",
    "#output = K.function([model_crs.layers[0].input],[model_crs.layers[3].output])\n",
    "#output(X_test)[0]\n",
    "#y_pred= model_crs.predict(X_test)                # Function 1\n",
    "\n",
    "##    print('Round ', i, '==>', 'accuracy = ', accuracy)\n",
    "##    acc_crs=np.append(acc_crs,accuracy)\n",
    "#y_pred_crs = model_crs.predict_classes(X_test)   # Function 2"
   ]
  },
  {
   "cell_type": "code",
   "execution_count": 24,
   "metadata": {},
   "outputs": [],
   "source": [
    "def maxindx(ar):\n",
    "    ar_cpy=np.array(ar)\n",
    "    pred=np.argmax(ar,axis=1)\n",
    "    for i in range (len(pred)):\n",
    "        if pred[i]==0:\n",
    "            ar_cpy[i,0]=-1000\n",
    "    pred=np.argmax(ar_cpy,axis=1)\n",
    "    return(pred)"
   ]
  },
  {
   "cell_type": "code",
   "execution_count": 25,
   "metadata": {},
   "outputs": [
    {
     "name": "stdout",
     "output_type": "stream",
     "text": [
      "4/4 [==============================] - 0s 19ms/step\n",
      "array([[0, 2, 0, 0, 0, 1, 2, 2, 1, 2],\n",
      "       [0, 6, 1, 0, 0, 1, 1, 0, 0, 1],\n",
      "       [0, 3, 2, 0, 1, 1, 1, 2, 0, 0],\n",
      "       [0, 2, 1, 1, 1, 0, 1, 2, 2, 0],\n",
      "       [0, 4, 1, 0, 2, 2, 0, 1, 0, 0],\n",
      "       [0, 1, 0, 0, 0, 6, 2, 0, 0, 1],\n",
      "       [0, 0, 1, 0, 0, 1, 3, 0, 0, 5],\n",
      "       [0, 1, 0, 0, 0, 1, 1, 4, 1, 2],\n",
      "       [0, 3, 0, 2, 0, 1, 0, 2, 2, 0],\n",
      "       [0, 0, 0, 0, 0, 0, 2, 0, 0, 8]], dtype=int64)\n",
      "              precision    recall  f1-score   support\n",
      "\n",
      "           0       0.00      0.00      0.00        10\n",
      "           1       0.27      0.60      0.37        10\n",
      "           2       0.33      0.20      0.25        10\n",
      "           3       0.33      0.10      0.15        10\n",
      "           4       0.50      0.20      0.29        10\n",
      "           5       0.43      0.60      0.50        10\n",
      "           6       0.23      0.30      0.26        10\n",
      "           7       0.31      0.40      0.35        10\n",
      "           8       0.33      0.20      0.25        10\n",
      "           9       0.42      0.80      0.55        10\n",
      "\n",
      "    accuracy                           0.34       100\n",
      "   macro avg       0.32      0.34      0.30       100\n",
      "weighted avg       0.32      0.34      0.30       100\n",
      "\n"
     ]
    },
    {
     "name": "stderr",
     "output_type": "stream",
     "text": [
      "C:\\ProgramData\\Anaconda3\\lib\\site-packages\\sklearn\\metrics\\_classification.py:1248: UndefinedMetricWarning: Precision and F-score are ill-defined and being set to 0.0 in labels with no predicted samples. Use `zero_division` parameter to control this behavior.\n",
      "  _warn_prf(average, modifier, msg_start, len(result))\n",
      "C:\\ProgramData\\Anaconda3\\lib\\site-packages\\sklearn\\metrics\\_classification.py:1248: UndefinedMetricWarning: Precision and F-score are ill-defined and being set to 0.0 in labels with no predicted samples. Use `zero_division` parameter to control this behavior.\n",
      "  _warn_prf(average, modifier, msg_start, len(result))\n",
      "C:\\ProgramData\\Anaconda3\\lib\\site-packages\\sklearn\\metrics\\_classification.py:1248: UndefinedMetricWarning: Precision and F-score are ill-defined and being set to 0.0 in labels with no predicted samples. Use `zero_division` parameter to control this behavior.\n",
      "  _warn_prf(average, modifier, msg_start, len(result))\n"
     ]
    }
   ],
   "source": [
    "predict_x=model_crs.predict(X_test)              # Function 1\n",
    "\n",
    "y_pred_crs=maxindx(predict_x)                    # function from augment.py to remove 0 index predictions\n",
    "\n",
    "#y_pred_crs = model_crs.predict_classes(X_test)\n",
    "\n",
    "cm = confusion_matrix(y_test, y_pred_crs)\n",
    "fullprint(cm)\n",
    "acc3=accuracy_score(y_test, y_pred_crs)\n",
    "\n",
    "print(classification_report(y_test, y_pred_crs))\n",
    "\n",
    "#sns.heatmap(cm, annot=True)\n",
    "\n",
    "#plt.imshow(cm)"
   ]
  },
  {
   "cell_type": "code",
   "execution_count": 26,
   "metadata": {},
   "outputs": [
    {
     "name": "stdout",
     "output_type": "stream",
     "text": [
      "Epoch 1/1000\n",
      "5/5 [==============================] - 1s 75ms/step - loss: 6.6919 - accuracy: 0.0700 - val_loss: 2.3120 - val_accuracy: 0.1000\n",
      "Epoch 2/1000\n",
      "5/5 [==============================] - 0s 34ms/step - loss: 2.5137 - accuracy: 0.0400 - val_loss: 2.3029 - val_accuracy: 0.1000\n",
      "Epoch 3/1000\n",
      "5/5 [==============================] - 0s 35ms/step - loss: 2.3074 - accuracy: 0.0600 - val_loss: 2.3027 - val_accuracy: 0.1000\n",
      "Epoch 4/1000\n",
      "5/5 [==============================] - 0s 39ms/step - loss: 2.3083 - accuracy: 0.0900 - val_loss: 2.3025 - val_accuracy: 0.1200\n",
      "Epoch 5/1000\n",
      "5/5 [==============================] - 0s 34ms/step - loss: 2.3017 - accuracy: 0.1000 - val_loss: 2.3318 - val_accuracy: 0.1000\n",
      "Epoch 6/1000\n",
      "5/5 [==============================] - 0s 34ms/step - loss: 2.3086 - accuracy: 0.0900 - val_loss: 2.1548 - val_accuracy: 0.1100\n",
      "Epoch 7/1000\n",
      "5/5 [==============================] - 0s 34ms/step - loss: 3.0486 - accuracy: 0.0900 - val_loss: 2.3019 - val_accuracy: 0.1100\n",
      "Epoch 8/1000\n",
      "5/5 [==============================] - 0s 39ms/step - loss: 2.3036 - accuracy: 0.0900 - val_loss: 2.2988 - val_accuracy: 0.1300\n",
      "Epoch 9/1000\n",
      "5/5 [==============================] - 0s 34ms/step - loss: 2.2623 - accuracy: 0.1400 - val_loss: 5.6592 - val_accuracy: 0.1200\n",
      "Epoch 10/1000\n",
      "5/5 [==============================] - 0s 34ms/step - loss: 3.0000 - accuracy: 0.1400 - val_loss: 2.2426 - val_accuracy: 0.1100\n",
      "Epoch 11/1000\n",
      "5/5 [==============================] - 0s 39ms/step - loss: 2.2415 - accuracy: 0.1500 - val_loss: 2.2226 - val_accuracy: 0.1800\n",
      "Epoch 12/1000\n",
      "5/5 [==============================] - 0s 38ms/step - loss: 2.1669 - accuracy: 0.1600 - val_loss: 2.0064 - val_accuracy: 0.2600\n",
      "Epoch 13/1000\n",
      "5/5 [==============================] - 0s 34ms/step - loss: 2.0774 - accuracy: 0.2000 - val_loss: 1.9964 - val_accuracy: 0.2500\n",
      "Epoch 14/1000\n",
      "5/5 [==============================] - 0s 38ms/step - loss: 2.0556 - accuracy: 0.1700 - val_loss: 1.9177 - val_accuracy: 0.2900\n",
      "Epoch 15/1000\n",
      "5/5 [==============================] - 0s 36ms/step - loss: 1.9936 - accuracy: 0.2500 - val_loss: 2.0400 - val_accuracy: 0.2200\n",
      "Epoch 16/1000\n",
      "5/5 [==============================] - 0s 38ms/step - loss: 1.9098 - accuracy: 0.2300 - val_loss: 1.8030 - val_accuracy: 0.3200\n",
      "Epoch 17/1000\n",
      "5/5 [==============================] - 0s 34ms/step - loss: 1.7820 - accuracy: 0.2700 - val_loss: 1.7232 - val_accuracy: 0.3100\n",
      "Epoch 18/1000\n",
      "5/5 [==============================] - 0s 38ms/step - loss: 1.7783 - accuracy: 0.2500 - val_loss: 1.6493 - val_accuracy: 0.3600\n",
      "Epoch 19/1000\n",
      "5/5 [==============================] - 0s 35ms/step - loss: 2.5735 - accuracy: 0.2500 - val_loss: 1.7825 - val_accuracy: 0.3000\n",
      "Epoch 20/1000\n",
      "5/5 [==============================] - 0s 34ms/step - loss: 1.8050 - accuracy: 0.2900 - val_loss: 1.6650 - val_accuracy: 0.3400\n",
      "Epoch 21/1000\n",
      "5/5 [==============================] - 0s 34ms/step - loss: 1.6879 - accuracy: 0.3100 - val_loss: 2.1128 - val_accuracy: 0.2300\n",
      "Epoch 22/1000\n",
      "5/5 [==============================] - 0s 34ms/step - loss: 1.7126 - accuracy: 0.3000 - val_loss: 1.6321 - val_accuracy: 0.3500\n",
      "Epoch 23/1000\n",
      "5/5 [==============================] - 0s 35ms/step - loss: 1.6442 - accuracy: 0.3100 - val_loss: 1.6104 - val_accuracy: 0.3600\n",
      "Epoch 24/1000\n",
      "5/5 [==============================] - 0s 34ms/step - loss: 1.8729 - accuracy: 0.2600 - val_loss: 1.7603 - val_accuracy: 0.3000\n",
      "Epoch 25/1000\n",
      "5/5 [==============================] - 0s 34ms/step - loss: 1.7210 - accuracy: 0.2500 - val_loss: 1.6118 - val_accuracy: 0.3600\n",
      "Epoch 26/1000\n",
      "5/5 [==============================] - 0s 33ms/step - loss: 1.6056 - accuracy: 0.3400 - val_loss: 1.6616 - val_accuracy: 0.3300\n",
      "Epoch 27/1000\n",
      "5/5 [==============================] - 0s 34ms/step - loss: 1.6576 - accuracy: 0.3400 - val_loss: 1.6408 - val_accuracy: 0.3400\n",
      "Epoch 28/1000\n",
      "5/5 [==============================] - 0s 39ms/step - loss: 1.5837 - accuracy: 0.3100 - val_loss: 1.5086 - val_accuracy: 0.3800\n",
      "Epoch 29/1000\n",
      "5/5 [==============================] - 0s 35ms/step - loss: 1.5776 - accuracy: 0.3700 - val_loss: 1.6222 - val_accuracy: 0.3500\n",
      "Epoch 30/1000\n",
      "5/5 [==============================] - 0s 34ms/step - loss: 1.6274 - accuracy: 0.3200 - val_loss: 1.4839 - val_accuracy: 0.3800\n",
      "Epoch 31/1000\n",
      "5/5 [==============================] - 0s 38ms/step - loss: 1.5083 - accuracy: 0.3700 - val_loss: 1.4634 - val_accuracy: 0.4000\n",
      "Epoch 32/1000\n",
      "5/5 [==============================] - 0s 34ms/step - loss: 1.7589 - accuracy: 0.3500 - val_loss: 2.3781 - val_accuracy: 0.2200\n",
      "Epoch 33/1000\n",
      "5/5 [==============================] - 0s 34ms/step - loss: 2.2944 - accuracy: 0.1800 - val_loss: 1.7316 - val_accuracy: 0.3200\n",
      "Epoch 34/1000\n",
      "5/5 [==============================] - 0s 34ms/step - loss: 1.7303 - accuracy: 0.3000 - val_loss: 1.6422 - val_accuracy: 0.3400\n",
      "Epoch 35/1000\n",
      "5/5 [==============================] - 0s 34ms/step - loss: 1.6589 - accuracy: 0.3400 - val_loss: 1.6456 - val_accuracy: 0.3500\n",
      "Epoch 36/1000\n",
      "5/5 [==============================] - 0s 34ms/step - loss: 1.6269 - accuracy: 0.3700 - val_loss: 1.4923 - val_accuracy: 0.4000\n",
      "Epoch 37/1000\n",
      "5/5 [==============================] - 0s 39ms/step - loss: 1.5045 - accuracy: 0.3700 - val_loss: 1.4309 - val_accuracy: 0.4200\n",
      "Epoch 38/1000\n",
      "5/5 [==============================] - 0s 38ms/step - loss: 1.4427 - accuracy: 0.3700 - val_loss: 1.3478 - val_accuracy: 0.4900\n",
      "Epoch 39/1000\n",
      "5/5 [==============================] - 0s 34ms/step - loss: 1.4965 - accuracy: 0.3900 - val_loss: 1.6974 - val_accuracy: 0.3500\n",
      "Epoch 40/1000\n",
      "5/5 [==============================] - 0s 34ms/step - loss: 1.5407 - accuracy: 0.3800 - val_loss: 1.4811 - val_accuracy: 0.4100\n",
      "Epoch 41/1000\n",
      "5/5 [==============================] - 0s 34ms/step - loss: 1.3958 - accuracy: 0.4200 - val_loss: 1.2881 - val_accuracy: 0.4500\n",
      "Epoch 42/1000\n",
      "5/5 [==============================] - 0s 34ms/step - loss: 1.2730 - accuracy: 0.4900 - val_loss: 1.2044 - val_accuracy: 0.4700\n",
      "Epoch 43/1000\n",
      "5/5 [==============================] - 0s 35ms/step - loss: 1.2342 - accuracy: 0.4800 - val_loss: 4.1754 - val_accuracy: 0.3000\n",
      "Epoch 44/1000\n",
      "5/5 [==============================] - 0s 34ms/step - loss: 2.4706 - accuracy: 0.2700 - val_loss: 1.6798 - val_accuracy: 0.4000\n",
      "Epoch 45/1000\n",
      "5/5 [==============================] - 0s 38ms/step - loss: 1.5787 - accuracy: 0.3700 - val_loss: 1.2826 - val_accuracy: 0.5600\n",
      "Epoch 46/1000\n",
      "5/5 [==============================] - 0s 35ms/step - loss: 1.3036 - accuracy: 0.5000 - val_loss: 1.3826 - val_accuracy: 0.4400\n",
      "Epoch 47/1000\n",
      "5/5 [==============================] - 0s 38ms/step - loss: 1.3511 - accuracy: 0.4500 - val_loss: 1.1086 - val_accuracy: 0.5700\n",
      "Epoch 48/1000\n",
      "5/5 [==============================] - 0s 38ms/step - loss: 1.1644 - accuracy: 0.5200 - val_loss: 1.0449 - val_accuracy: 0.6000\n",
      "Epoch 49/1000\n",
      "5/5 [==============================] - 0s 34ms/step - loss: 1.6859 - accuracy: 0.4300 - val_loss: 1.1962 - val_accuracy: 0.5800\n",
      "Epoch 50/1000\n",
      "5/5 [==============================] - 0s 39ms/step - loss: 1.1309 - accuracy: 0.5400 - val_loss: 1.0234 - val_accuracy: 0.6300\n",
      "Epoch 51/1000\n",
      "5/5 [==============================] - 0s 35ms/step - loss: 1.3572 - accuracy: 0.4900 - val_loss: 1.4815 - val_accuracy: 0.4000\n",
      "Epoch 52/1000\n",
      "5/5 [==============================] - 0s 35ms/step - loss: 1.3661 - accuracy: 0.4600 - val_loss: 1.0240 - val_accuracy: 0.5900\n",
      "Epoch 53/1000\n",
      "5/5 [==============================] - 0s 34ms/step - loss: 1.1489 - accuracy: 0.5400 - val_loss: 1.0495 - val_accuracy: 0.5600\n",
      "Epoch 54/1000\n",
      "5/5 [==============================] - 0s 38ms/step - loss: 1.0553 - accuracy: 0.5600 - val_loss: 0.9587 - val_accuracy: 0.6600\n",
      "Epoch 55/1000\n",
      "5/5 [==============================] - 0s 34ms/step - loss: 0.9709 - accuracy: 0.5800 - val_loss: 0.9078 - val_accuracy: 0.5700\n",
      "Epoch 56/1000\n",
      "5/5 [==============================] - 0s 35ms/step - loss: 0.8672 - accuracy: 0.5900 - val_loss: 1.1329 - val_accuracy: 0.5600\n",
      "Epoch 57/1000\n",
      "5/5 [==============================] - 0s 35ms/step - loss: 2.3632 - accuracy: 0.4300 - val_loss: 1.3280 - val_accuracy: 0.4600\n",
      "Epoch 58/1000\n",
      "5/5 [==============================] - 0s 35ms/step - loss: 1.0829 - accuracy: 0.5900 - val_loss: 0.8917 - val_accuracy: 0.6400\n"
     ]
    },
    {
     "name": "stdout",
     "output_type": "stream",
     "text": [
      "Epoch 59/1000\n",
      "5/5 [==============================] - 0s 35ms/step - loss: 0.9386 - accuracy: 0.6000 - val_loss: 0.7924 - val_accuracy: 0.6600\n",
      "Epoch 60/1000\n",
      "5/5 [==============================] - 0s 39ms/step - loss: 0.8531 - accuracy: 0.6400 - val_loss: 0.7355 - val_accuracy: 0.6900\n",
      "Epoch 61/1000\n",
      "5/5 [==============================] - 0s 34ms/step - loss: 0.9663 - accuracy: 0.6000 - val_loss: 1.1359 - val_accuracy: 0.4900\n",
      "Epoch 62/1000\n",
      "5/5 [==============================] - 0s 34ms/step - loss: 0.9951 - accuracy: 0.5700 - val_loss: 1.1951 - val_accuracy: 0.5500\n",
      "Epoch 63/1000\n",
      "5/5 [==============================] - 0s 34ms/step - loss: 0.9930 - accuracy: 0.5800 - val_loss: 0.7922 - val_accuracy: 0.6600\n",
      "Epoch 64/1000\n",
      "5/5 [==============================] - 0s 34ms/step - loss: 0.8937 - accuracy: 0.5900 - val_loss: 0.7422 - val_accuracy: 0.6800\n",
      "Epoch 65/1000\n",
      "5/5 [==============================] - 0s 38ms/step - loss: 0.7611 - accuracy: 0.6800 - val_loss: 0.6528 - val_accuracy: 0.7000\n",
      "Epoch 66/1000\n",
      "5/5 [==============================] - 0s 34ms/step - loss: 0.7325 - accuracy: 0.7000 - val_loss: 0.7442 - val_accuracy: 0.6800\n",
      "Epoch 67/1000\n",
      "5/5 [==============================] - 0s 34ms/step - loss: 1.2955 - accuracy: 0.6300 - val_loss: 1.1354 - val_accuracy: 0.5700\n",
      "Epoch 68/1000\n",
      "5/5 [==============================] - 0s 39ms/step - loss: 0.8331 - accuracy: 0.6200 - val_loss: 0.7098 - val_accuracy: 0.7100\n",
      "Epoch 69/1000\n",
      "5/5 [==============================] - 0s 38ms/step - loss: 0.6610 - accuracy: 0.7300 - val_loss: 0.5805 - val_accuracy: 0.8300\n",
      "Epoch 70/1000\n",
      "5/5 [==============================] - 0s 34ms/step - loss: 0.6554 - accuracy: 0.7700 - val_loss: 0.8098 - val_accuracy: 0.6600\n",
      "Epoch 71/1000\n",
      "5/5 [==============================] - 0s 33ms/step - loss: 0.6751 - accuracy: 0.6600 - val_loss: 0.5971 - val_accuracy: 0.7600\n",
      "Epoch 72/1000\n",
      "5/5 [==============================] - 0s 34ms/step - loss: 0.6478 - accuracy: 0.7100 - val_loss: 0.5138 - val_accuracy: 0.8200\n",
      "Epoch 73/1000\n",
      "5/5 [==============================] - 0s 35ms/step - loss: 0.9009 - accuracy: 0.7100 - val_loss: 1.8581 - val_accuracy: 0.6500\n",
      "Epoch 74/1000\n",
      "5/5 [==============================] - 0s 35ms/step - loss: 1.0355 - accuracy: 0.6100 - val_loss: 0.5914 - val_accuracy: 0.8200\n",
      "Epoch 75/1000\n",
      "5/5 [==============================] - 0s 34ms/step - loss: 0.6720 - accuracy: 0.7200 - val_loss: 1.1680 - val_accuracy: 0.6100\n",
      "Epoch 76/1000\n",
      "5/5 [==============================] - 0s 34ms/step - loss: 0.8950 - accuracy: 0.6700 - val_loss: 3.0834 - val_accuracy: 0.6200\n",
      "Epoch 77/1000\n",
      "5/5 [==============================] - 0s 34ms/step - loss: 2.7888 - accuracy: 0.5600 - val_loss: 0.7095 - val_accuracy: 0.7500\n",
      "Epoch 78/1000\n",
      "5/5 [==============================] - 0s 34ms/step - loss: 0.6823 - accuracy: 0.7800 - val_loss: 0.5618 - val_accuracy: 0.7800\n",
      "Epoch 79/1000\n",
      "5/5 [==============================] - 0s 34ms/step - loss: 0.5916 - accuracy: 0.7800 - val_loss: 0.4672 - val_accuracy: 0.8300\n",
      "Epoch 80/1000\n",
      "5/5 [==============================] - 0s 34ms/step - loss: 0.5222 - accuracy: 0.7800 - val_loss: 0.5100 - val_accuracy: 0.8200\n",
      "Epoch 81/1000\n",
      "5/5 [==============================] - 0s 34ms/step - loss: 0.6260 - accuracy: 0.7800 - val_loss: 0.6424 - val_accuracy: 0.7100\n",
      "Epoch 82/1000\n",
      "5/5 [==============================] - 0s 34ms/step - loss: 0.6480 - accuracy: 0.7600 - val_loss: 0.5142 - val_accuracy: 0.7700\n",
      "Epoch 83/1000\n",
      "5/5 [==============================] - 0s 34ms/step - loss: 0.5424 - accuracy: 0.7900 - val_loss: 0.5224 - val_accuracy: 0.7900\n",
      "Epoch 84/1000\n",
      "5/5 [==============================] - 0s 34ms/step - loss: 0.5794 - accuracy: 0.7800 - val_loss: 0.7059 - val_accuracy: 0.7300\n",
      "Epoch 85/1000\n",
      "5/5 [==============================] - 0s 34ms/step - loss: 0.4847 - accuracy: 0.8300 - val_loss: 0.4100 - val_accuracy: 0.8300\n",
      "Epoch 86/1000\n",
      "5/5 [==============================] - 0s 34ms/step - loss: 0.3768 - accuracy: 0.8800 - val_loss: 0.3870 - val_accuracy: 0.7900\n",
      "Epoch 87/1000\n",
      "5/5 [==============================] - 0s 34ms/step - loss: 0.5080 - accuracy: 0.7900 - val_loss: 0.5756 - val_accuracy: 0.7300\n",
      "Epoch 88/1000\n",
      "5/5 [==============================] - 0s 35ms/step - loss: 1.8414 - accuracy: 0.5600 - val_loss: 0.9371 - val_accuracy: 0.6200\n",
      "Epoch 89/1000\n",
      "5/5 [==============================] - 0s 36ms/step - loss: 0.7578 - accuracy: 0.6800 - val_loss: 0.5785 - val_accuracy: 0.8300\n",
      "5/5 [==============================] - 0s 7ms/step - loss: 0.5805 - accuracy: 0.8300\n",
      "np.shape(X_test)= (100, 1460, 1)\n",
      "Model: \"sequential_1\"\n",
      "_________________________________________________________________\n",
      " Layer (type)                Output Shape              Param #   \n",
      "=================================================================\n",
      " conv1d_5 (Conv1D)           (None, 1456, 64)          384       \n",
      "                                                                 \n",
      " conv1d_6 (Conv1D)           (None, 1452, 64)          20544     \n",
      "                                                                 \n",
      " conv1d_7 (Conv1D)           (None, 1448, 128)         41088     \n",
      "                                                                 \n",
      " conv1d_8 (Conv1D)           (None, 1444, 128)         82048     \n",
      "                                                                 \n",
      " max_pooling1d_4 (MaxPooling  (None, 722, 128)         0         \n",
      " 1D)                                                             \n",
      "                                                                 \n",
      " conv1d_9 (Conv1D)           (None, 718, 256)          164096    \n",
      "                                                                 \n",
      " max_pooling1d_5 (MaxPooling  (None, 239, 256)         0         \n",
      " 1D)                                                             \n",
      "                                                                 \n",
      " conv1d_10 (Conv1D)          (None, 235, 256)          327936    \n",
      "                                                                 \n",
      " max_pooling1d_6 (MaxPooling  (None, 78, 256)          0         \n",
      " 1D)                                                             \n",
      "                                                                 \n",
      " conv1d_11 (Conv1D)          (None, 74, 512)           655872    \n",
      "                                                                 \n",
      " max_pooling1d_7 (MaxPooling  (None, 24, 512)          0         \n",
      " 1D)                                                             \n",
      "                                                                 \n",
      " conv1d_12 (Conv1D)          (None, 20, 512)           1311232   \n",
      "                                                                 \n",
      " max_pooling1d_8 (MaxPooling  (None, 6, 512)           0         \n",
      " 1D)                                                             \n",
      "                                                                 \n",
      " flatten_1 (Flatten)         (None, 3072)              0         \n",
      "                                                                 \n",
      " dense_2 (Dense)             (None, 2000)              6146000   \n",
      "                                                                 \n",
      " dense_3 (Dense)             (None, 10)                20010     \n",
      "                                                                 \n",
      "=================================================================\n",
      "Total params: 8,769,210\n",
      "Trainable params: 8,769,210\n",
      "Non-trainable params: 0\n",
      "_________________________________________________________________\n",
      "Accuracy=  0.8299999833106995\n"
     ]
    }
   ],
   "source": [
    "accuracy=0\n",
    "acc_crs=np.array([])\n",
    "##for i in range (10):\n",
    "##    if accuracy<0.2 :\n",
    "\n",
    "verbose, epochs, batch_size = 1, 1000, btch\n",
    "n_timesteps, n_features, n_outputs = X_train.shape[1], X_train.shape[2], y_train_cat.shape[1]\n",
    "steps_per_epoch = len(X_train)//batch_size\n",
    "validation_steps = len(X_valid)//batch_size # if you have test data\n",
    "\n",
    "model_crs = Sequential()\n",
    "BatchNormalization()\n",
    "model_crs.add(Conv1D(filters=64, kernel_size=5, activation='relu', input_shape=(n_timesteps,n_features)))\n",
    "#model_crs.add(MaxPooling1D(pool_size=3))\n",
    "BatchNormalization()\n",
    "model_crs.add(Conv1D(filters=64, kernel_size=5, activation='relu', input_shape=(n_timesteps,n_features)))\n",
    "#model_crs.add(MaxPooling1D(pool_size=3))\n",
    "BatchNormalization()\n",
    "model_crs.add(Conv1D(filters=128, kernel_size=5, activation='relu'))\n",
    "#model_crs.add(Dropout(0.5))\n",
    "BatchNormalization()\n",
    "model_crs.add(Conv1D(filters=128, kernel_size=5, activation='relu'))\n",
    "#model_crs.add(Dropout(0.5))\n",
    "model_crs.add(MaxPooling1D(pool_size=2))\n",
    "BatchNormalization()\n",
    "model_crs.add(Conv1D(filters=256, kernel_size=5, activation='relu'))\n",
    "model_crs.add(MaxPooling1D(pool_size=3))\n",
    "BatchNormalization()\n",
    "model_crs.add(Conv1D(filters=256, kernel_size=5, activation='relu'))\n",
    "model_crs.add(MaxPooling1D(pool_size=3))\n",
    "BatchNormalization()\n",
    "model_crs.add(Conv1D(filters=512, kernel_size=5, activation='relu'))\n",
    "model_crs.add(MaxPooling1D(pool_size=3))\n",
    "model_crs.add(Conv1D(filters=512, kernel_size=5, activation='relu'))\n",
    "model_crs.add(MaxPooling1D(pool_size=3))\n",
    "'''model_crs.add(Conv1D(filters=512, kernel_size=3, activation='relu'))\n",
    "model_crs.add(MaxPooling1D(pool_size=3))\n",
    "model_crs.add(Conv1D(filters=1024, kernel_size=3, activation='relu'))\n",
    "model_crs.add(MaxPooling1D(pool_size=3))\n",
    "'''\n",
    "model_crs.add(Flatten())\n",
    "#model_crs.add(Dropout(0.5))\n",
    "model_crs.add(Dense(2000, activation='relu'))\n",
    "model_crs.add(Dense(n_outputs, activation='softmax'))\n",
    "model_crs.compile(optimizer='rmsprop', loss='categorical_crossentropy', metrics=['accuracy'])\n",
    "# fit network   #CategoricalCrossentropy #sparse_categorical_crossentropy #SparseCategoricalCrossentropy\n",
    "\n",
    "earlystopping = callbacks.EarlyStopping(monitor =\"val_accuracy\", mode =\"max\", patience = 20, restore_best_weights = True)\n",
    "\n",
    "model_crs.fit(X_train, y_train_cat, epochs=epochs, batch_size=batch_size, verbose=verbose, validation_data = (X_valid, y_valid_cat), callbacks =[earlystopping])\n",
    "# evaluate model_crs\n",
    "_, accuracy = model_crs.evaluate(X_valid, y_valid_cat, batch_size=batch_size, verbose=1)\n",
    "\n",
    "print('np.shape(X_test)=',np.shape(X_test))\n",
    "\n",
    "\n",
    "model_crs.summary()\n",
    "print('Accuracy= ', accuracy)\n",
    "\n",
    "#output = K.function([model_crs.layers[0].input],[model_crs.layers[3].output])\n",
    "#output(X_test)[0]\n",
    "#y_pred= model_crs.predict(X_test)                # Function 1\n",
    "\n",
    "##    print('Round ', i, '==>', 'accuracy = ', accuracy)\n",
    "##    acc_crs=np.append(acc_crs,accuracy)\n",
    "#y_pred_crs = model_crs.predict_classes(X_test)   # Function 2"
   ]
  },
  {
   "cell_type": "code",
   "execution_count": 27,
   "metadata": {},
   "outputs": [
    {
     "name": "stdout",
     "output_type": "stream",
     "text": [
      "4/4 [==============================] - 0s 35ms/step\n",
      "array([[ 0,  1,  2,  0,  4,  0,  0,  0,  3,  0],\n",
      "       [ 0,  6,  1,  0,  0,  0,  0,  1,  1,  1],\n",
      "       [ 0,  3,  5,  0,  0,  1,  0,  0,  0,  1],\n",
      "       [ 0,  1,  0,  4,  1,  0,  0,  0,  4,  0],\n",
      "       [ 0,  6,  1,  1,  0,  0,  0,  0,  2,  0],\n",
      "       [ 0,  1,  0,  0,  0,  6,  1,  0,  0,  2],\n",
      "       [ 0,  2,  0,  0,  0,  1,  1,  0,  1,  5],\n",
      "       [ 0,  0,  1,  3,  1,  2,  0,  1,  1,  1],\n",
      "       [ 0,  1,  0,  3,  0,  0,  0,  1,  5,  0],\n",
      "       [ 0,  0,  0,  0,  0,  0,  0,  0,  0, 10]], dtype=int64)\n",
      "              precision    recall  f1-score   support\n",
      "\n",
      "           0       0.00      0.00      0.00        10\n",
      "           1       0.29      0.60      0.39        10\n",
      "           2       0.50      0.50      0.50        10\n",
      "           3       0.36      0.40      0.38        10\n",
      "           4       0.00      0.00      0.00        10\n",
      "           5       0.60      0.60      0.60        10\n",
      "           6       0.50      0.10      0.17        10\n",
      "           7       0.33      0.10      0.15        10\n",
      "           8       0.29      0.50      0.37        10\n",
      "           9       0.50      1.00      0.67        10\n",
      "\n",
      "    accuracy                           0.38       100\n",
      "   macro avg       0.34      0.38      0.32       100\n",
      "weighted avg       0.34      0.38      0.32       100\n",
      "\n"
     ]
    },
    {
     "name": "stderr",
     "output_type": "stream",
     "text": [
      "C:\\ProgramData\\Anaconda3\\lib\\site-packages\\sklearn\\metrics\\_classification.py:1248: UndefinedMetricWarning: Precision and F-score are ill-defined and being set to 0.0 in labels with no predicted samples. Use `zero_division` parameter to control this behavior.\n",
      "  _warn_prf(average, modifier, msg_start, len(result))\n",
      "C:\\ProgramData\\Anaconda3\\lib\\site-packages\\sklearn\\metrics\\_classification.py:1248: UndefinedMetricWarning: Precision and F-score are ill-defined and being set to 0.0 in labels with no predicted samples. Use `zero_division` parameter to control this behavior.\n",
      "  _warn_prf(average, modifier, msg_start, len(result))\n",
      "C:\\ProgramData\\Anaconda3\\lib\\site-packages\\sklearn\\metrics\\_classification.py:1248: UndefinedMetricWarning: Precision and F-score are ill-defined and being set to 0.0 in labels with no predicted samples. Use `zero_division` parameter to control this behavior.\n",
      "  _warn_prf(average, modifier, msg_start, len(result))\n"
     ]
    }
   ],
   "source": [
    "predict_x=model_crs.predict(X_test)              # Function 1\n",
    "\n",
    "y_pred_crs=maxindx(predict_x)                    # function from augment.py to remove 0 index predictions\n",
    "\n",
    "#y_pred_crs = model_crs.predict_classes(X_test)\n",
    "\n",
    "cm = confusion_matrix(y_test, y_pred_crs)\n",
    "fullprint(cm)\n",
    "acc3=accuracy_score(y_test, y_pred_crs)\n",
    "\n",
    "print(classification_report(y_test, y_pred_crs))\n",
    "\n",
    "#sns.heatmap(cm, annot=True)\n",
    "\n",
    "#plt.imshow(cm)"
   ]
  }
 ],
 "metadata": {
  "celltoolbar": "Raw Cell Format",
  "kernelspec": {
   "display_name": "Python 3 (ipykernel)",
   "language": "python",
   "name": "python3"
  },
  "language_info": {
   "codemirror_mode": {
    "name": "ipython",
    "version": 3
   },
   "file_extension": ".py",
   "mimetype": "text/x-python",
   "name": "python",
   "nbconvert_exporter": "python",
   "pygments_lexer": "ipython3",
   "version": "3.9.7"
  }
 },
 "nbformat": 4,
 "nbformat_minor": 4
}
