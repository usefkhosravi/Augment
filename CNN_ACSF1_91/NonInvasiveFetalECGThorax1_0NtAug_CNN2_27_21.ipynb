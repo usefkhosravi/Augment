{
 "cells": [
  {
   "cell_type": "markdown",
   "metadata": {},
   "source": [
    "import time\n",
    "plc=1\n",
    "time.sleep(3000*plc)         #run after 1 houre = 3600 seconds"
   ]
  },
  {
   "cell_type": "code",
   "execution_count": 1,
   "metadata": {},
   "outputs": [
    {
     "data": {
      "text/html": [
       "<style>#notebook { padding-top:0px !important; } .container { width:100% !important; } .end_space { min-height:0px !important; } html, body, .container{ margin:0!important;padding:0!important;}</style>"
      ],
      "text/plain": [
       "<IPython.core.display.HTML object>"
      ]
     },
     "metadata": {},
     "output_type": "display_data"
    }
   ],
   "source": [
    "import os\n",
    "import glob\n",
    "import scipy\n",
    "import random\n",
    "import bisect\n",
    "import numpy as np\n",
    "import pandas as pd\n",
    "import seaborn as sns\n",
    "from scipy import signal\n",
    "from scipy.signal import find_peaks\n",
    "import matplotlib.pyplot as plt\n",
    "from preprocess import *                         #ماژول استخراج پنجره ها\n",
    "from data import *                          #ماژول محلی ورود داده ها\n",
    "from augment import *                            #ماژول های داده افزایی\n",
    "from lstm_cnn import *                           #ماژول های داده افزایی با lstm_cnn\n",
    "import augment\n",
    "import importlib\n",
    "importlib.reload(augment)\n",
    "import tensorflow as tf\n",
    "from tensorflow import keras\n",
    "from tensorflow.keras.layers import BatchNormalization\n",
    "from sklearn.model_selection import train_test_split\n",
    "from sklearn.neural_network import MLPClassifier\n",
    "from sklearn.datasets import make_classification\n",
    "from sklearn.metrics import confusion_matrix, accuracy_score, classification_report,recall_score,precision_score\n",
    "from tensorflow.keras import callbacks\n",
    "from tensorflow.keras import layers\n",
    "from tensorflow.keras.models import Sequential\n",
    "from tensorflow.keras.layers import Convolution2D,Conv1D,Dropout,MaxPooling1D,MaxPooling2D,Flatten,Dense\n",
    "from tensorflow.keras import backend as K\n",
    "from tensorflow.keras.utils import to_categorical\n",
    "from tensorflow.keras.models import load_model\n",
    "cwd = os.getcwd() #\n",
    "fullscrn()"
   ]
  },
  {
   "cell_type": "markdown",
   "metadata": {},
   "source": [
    "<h1><center><div style=\"direction:rtl;font-family:B Nazanin\">Importing Data</div></center></h1>"
   ]
  },
  {
   "cell_type": "code",
   "execution_count": 2,
   "metadata": {},
   "outputs": [
    {
     "name": "stderr",
     "output_type": "stream",
     "text": [
      "C:\\ProgramData\\Anaconda3\\lib\\site-packages\\pandas\\util\\_decorators.py:311: ParserWarning: Falling back to the 'python' engine because the 'c' engine does not support regex separators (separators > 1 char and different from '\\s+' are interpreted as regex); you can avoid this warning by specifying engine='python'.\n",
      "  return func(*args, **kwargs)\n"
     ]
    },
    {
     "name": "stdout",
     "output_type": "stream",
     "text": [
      "first_train_shape= (100, 1461)\n",
      "first_test_shape= (100, 1461)\n",
      "classes_quantity= 10\n",
      "tr_lbls=\t {0, 1, 2, 3, 4, 5, 6, 7, 8, 9}\n",
      "Count_labels= [10 10 10 10 10 10 10 10 10]\n",
      "max(train_feature_Altitude)= 12.42995\n",
      "min(train_feature_Altitude)= -1.352876\n",
      "first_train_sample=\n",
      " [ 9.         -0.58475375 -0.58475375 ... -0.5786034   1.7327257\n",
      " -0.58473404]\n",
      "1 10\t1 10\t2 10\t3 10\t4 10\t5 10\t6 10\t7 10\t8 10\t9 10\t"
     ]
    }
   ],
   "source": [
    "rate=480                 #SIGNAL LENGTH=1460\n",
    "cls_num=10\n",
    "btch=20\n",
    "for i in range (0,cls_num):\n",
    "    vars()['ecg'+str(i)],vars()['ecg_tst'+str(i)]=ACSF1(i)\n",
    "\n",
    "os.chdir(cwd)\n",
    "clses_lens=np.array([])\n",
    "i=0                               #جمع آوری داده ها و چاپ تعداد نمونه ی هر کلاس\n",
    "ecg=np.array(ecg1)\n",
    "print(1,len(vars()['ecg'+str(1)]), end='\\t')\n",
    "clses_lens=np.append(clses_lens,len(vars()['ecg'+str(1)]))\n",
    "for i in range (1,cls_num):\n",
    "    ecg=np.concatenate((ecg,vars()['ecg'+str(i)]),axis=0)\n",
    "    clses_lens=np.append(clses_lens,len(vars()['ecg'+str(i)]))\n",
    "    print(i,len(vars()['ecg'+str(i)]), end='\\t')\n",
    "\n",
    "mx_sig=max(clses_lens)"
   ]
  },
  {
   "cell_type": "code",
   "execution_count": 3,
   "metadata": {},
   "outputs": [
    {
     "data": {
      "text/plain": [
       "(100, 481)"
      ]
     },
     "execution_count": 3,
     "metadata": {},
     "output_type": "execute_result"
    }
   ],
   "source": [
    "np.shape(ecg)"
   ]
  },
  {
   "cell_type": "markdown",
   "metadata": {},
   "source": [
    "<h2><center><div style=\"direction:rtl;font-family:B Nazanin\">Base Train windows</div></center></h1>"
   ]
  },
  {
   "cell_type": "code",
   "execution_count": 4,
   "metadata": {},
   "outputs": [
    {
     "name": "stdout",
     "output_type": "stream",
     "text": [
      "each class and its windows =\n",
      "0 10\t1 10\t2 10\t3 10\t4 10\t5 10\t6 10\t7 10\t8 10\t9 10\t\n",
      " max = 10\n"
     ]
    }
   ],
   "source": [
    "smpl_rte=rate                                              # در ماژول ها نیز همین مقدار ثبت شده\n",
    "i=0\n",
    "windws=np.array([])\n",
    "\n",
    "for cls in range (0,cls_num):                                 #ساخت پنجره های داده های آموزش اصلی\n",
    "    vars()['wndws'+str(cls)]=np.array(vars()['ecg'+str(cls)])  \n",
    "    \n",
    "print(\"each class and its windows =\")\n",
    "\n",
    "cls_wndws=np.array([])\n",
    "for cls in range (0,cls_num):                                # آرایه ی تعداد پنجره ی هر کلاس\n",
    "    wns=len(vars()['wndws'+str(cls)])\n",
    "    cls_wndws=np.append(cls_wndws,wns)\n",
    "    print(cls, wns, end='\\t')\n",
    "\n",
    "mx_wndws=int(np.max(cls_wndws))                        # حداکثر تعداد پنجره ی موجود بین کلاس ها\n",
    "print('\\n max =', mx_wndws)"
   ]
  },
  {
   "cell_type": "raw",
   "metadata": {},
   "source": [
    "#clses=3                                   #تعیین میزان افزایش نمونه (تولید داده)\n",
    "mx_wndws=int(mx_wndws)  #mx_wndws*0.3  # =classes-1 برای بررسی الگوریتم تعداد کمی کلاس آزمایش شد\n",
    "mx_wndws=2598           #+2\n",
    "print(mx_wndws)"
   ]
  },
  {
   "cell_type": "markdown",
   "metadata": {},
   "source": [
    "<h1><center><div style=\"direction:rtl;font-family:B Nazanin\">Data Augmentation</div></center></h1>"
   ]
  },
  {
   "cell_type": "code",
   "execution_count": 5,
   "metadata": {},
   "outputs": [
    {
     "name": "stdout",
     "output_type": "stream",
     "text": [
      "Up to class  0 train shape =  (10, 481)\n",
      "Up to class  1 train shape =  (20, 481)\n",
      "Up to class  2 train shape =  (30, 481)\n",
      "Up to class  3 train shape =  (40, 481)\n",
      "Up to class  4 train shape =  (50, 481)\n",
      "Up to class  5 train shape =  (60, 481)\n",
      "Up to class  6 train shape =  (70, 481)\n",
      "Up to class  7 train shape =  (80, 481)\n",
      "Up to class  8 train shape =  (90, 481)\n",
      "Up to class  9 train shape =  (100, 481)\n"
     ]
    }
   ],
   "source": [
    "smpl_rte=len(wndws1[0])                                        # در ماژول ها نیز همین مقدار ثبت شده\n",
    "\n",
    "#add augmented data to base data\n",
    "xtrain=np.empty((0,len(wndws1[0])), float) \n",
    "for i in range (0,cls_num):   \n",
    "    xtrain=np.append(xtrain,vars()['wndws'+str(i)],axis=0)\n",
    "    print('Up to class ', i, 'train shape = ', np.shape(xtrain))"
   ]
  },
  {
   "cell_type": "code",
   "execution_count": 6,
   "metadata": {},
   "outputs": [
    {
     "name": "stdout",
     "output_type": "stream",
     "text": [
      "[10 10 10 10 10 10 10 10 10 10]\n"
     ]
    }
   ],
   "source": [
    "print(np.bincount(np.int16(xtrain[:,-1])))    #تعداد پنجره در هر کلاس از 0 تا 17"
   ]
  },
  {
   "cell_type": "code",
   "execution_count": 7,
   "metadata": {},
   "outputs": [
    {
     "data": {
      "text/plain": [
       "array([0., 0., 0., 0., 0., 0., 0., 0., 0., 0., 1., 1., 1., 1., 1., 1., 1.,\n",
       "       1., 1., 1., 2., 2., 2., 2., 2., 2., 2., 2., 2., 2., 3., 3., 3., 3.,\n",
       "       3., 3., 3., 3., 3., 3., 4., 4., 4., 4., 4., 4., 4., 4., 4., 4., 5.,\n",
       "       5., 5., 5., 5., 5., 5., 5., 5., 5., 6., 6., 6., 6., 6., 6., 6., 6.,\n",
       "       6., 6., 7., 7., 7., 7., 7., 7., 7., 7., 7., 7., 8., 8., 8., 8., 8.,\n",
       "       8., 8., 8., 8., 8., 9., 9., 9., 9., 9., 9., 9., 9., 9., 9.])"
      ]
     },
     "execution_count": 7,
     "metadata": {},
     "output_type": "execute_result"
    }
   ],
   "source": [
    "xtrain[:,-1]"
   ]
  },
  {
   "cell_type": "code",
   "execution_count": 8,
   "metadata": {},
   "outputs": [],
   "source": [
    "mx_aug=np.max(xtrain[:,:-1])\n",
    "mx=np.max(ecg[:,:-1])\n",
    "mn_aug=np.min(xtrain[:,:-1])\n",
    "mn=np.min(ecg[:,:-1])\n",
    "\n",
    "#for i in range (0,cls_num):             #نرمالسازی داده های افزایشی\n",
    "xtrain[:,:-1]= 2*(xtrain[:,:-1]-mn_aug)/(mx_aug - mn_aug) - 1"
   ]
  },
  {
   "cell_type": "code",
   "execution_count": 9,
   "metadata": {},
   "outputs": [
    {
     "name": "stdout",
     "output_type": "stream",
     "text": [
      "min trn = -1.0\n",
      "max trn = 1.0\n"
     ]
    }
   ],
   "source": [
    "print('min trn =', np.min(xtrain[:,:-1]))\n",
    "print('max trn =', np.max(xtrain[:,:-1]))"
   ]
  },
  {
   "cell_type": "markdown",
   "metadata": {},
   "source": [
    "<h3><center><div style=\"direction:rtl;font-family:B Nazanin\">Test Windows</div></center></h1>"
   ]
  },
  {
   "cell_type": "code",
   "execution_count": 10,
   "metadata": {},
   "outputs": [],
   "source": [
    "wndws_test=np.empty((0,len(wndws1[0])), float)\n",
    "i=0\n",
    "windws=np.array([])\n",
    "for cls in range (0,cls_num):                                 #ساخت پنجره های داده های آموزش اصلی\n",
    "    vars()['wndws_tst'+str(cls)]=np.empty((0,len(wndws1[0])), float)\n",
    "    vars()['wndws_tst'+str(cls)]=np.append(vars()['wndws_tst'+str(cls)],vars()['ecg_tst'+str(cls)],axis=0)   "
   ]
  },
  {
   "cell_type": "code",
   "execution_count": 11,
   "metadata": {},
   "outputs": [
    {
     "name": "stdout",
     "output_type": "stream",
     "text": [
      "\n",
      " cls 0  >> \n",
      "max magnitude class 0  =  3.31525140974155\n",
      "min magnitude class 0  =  -0.5584374449741005\n",
      "after normalizing >>\n",
      "max magnitude class 0  =  0.5559488575733194\n",
      "min magnitude class 0  =  -0.7952255314536867\n",
      "\n",
      " cls 1  >> \n",
      "max magnitude class 1  =  0.2050093150265755\n",
      "min magnitude class 1  =  -0.2653986642416972\n",
      "after normalizing >>\n",
      "max magnitude class 1  =  -0.5289290507121321\n",
      "min magnitude class 1  =  -0.693011205428168\n",
      "\n",
      " cls 2  >> \n",
      "max magnitude class 2  =  0.14256655367282914\n",
      "min magnitude class 2  =  -0.10519479012179211\n",
      "after normalizing >>\n",
      "max magnitude class 2  =  -0.5507095971333033\n",
      "min magnitude class 2  =  -0.6371307824380226\n",
      "\n",
      " cls 3  >> \n",
      "max magnitude class 3  =  3.8701292568747316\n",
      "min magnitude class 3  =  -1.028493725105261\n",
      "after normalizing >>\n",
      "max magnitude class 3  =  0.7494947938123906\n",
      "min magnitude class 3  =  -0.9591850106310998\n",
      "\n",
      " cls 4  >> \n",
      "max magnitude class 4  =  0.28057121958745984\n",
      "min magnitude class 4  =  -0.3875062671407721\n",
      "after normalizing >>\n",
      "max magnitude class 4  =  -0.5025724397250413\n",
      "min magnitude class 4  =  -0.7356033370966317\n",
      "\n",
      " cls 5  >> \n",
      "max magnitude class 5  =  0.2377816497345464\n",
      "min magnitude class 5  =  -0.6898603461328728\n",
      "after normalizing >>\n",
      "max magnitude class 5  =  -0.5174977920367935\n",
      "min magnitude class 5  =  -0.84106691542576\n",
      "\n",
      " cls 6  >> \n",
      "max magnitude class 6  =  0.04667494121458984\n",
      "min magnitude class 6  =  -0.1620768410137608\n",
      "after normalizing >>\n",
      "max magnitude class 6  =  -0.5841573766880157\n",
      "min magnitude class 6  =  -0.6569717075208402\n",
      "\n",
      " cls 7  >> \n",
      "max magnitude class 7  =  2.969074792844593\n",
      "min magnitude class 7  =  -0.7022332123110971\n",
      "after normalizing >>\n",
      "max magnitude class 7  =  0.4351996192183154\n",
      "min magnitude class 7  =  -0.8453826724537215\n",
      "\n",
      " cls 8  >> \n",
      "max magnitude class 8  =  3.5196072065690065\n",
      "min magnitude class 8  =  -0.9962375518845646\n",
      "after normalizing >>\n",
      "max magnitude class 8  =  0.6272298327054158\n",
      "min magnitude class 8  =  -0.9479337933086845\n",
      "\n",
      " cls 9  >> \n",
      "max magnitude class 9  =  0.011761910800015134\n",
      "min magnitude class 9  =  -0.015120204436722339\n",
      "after normalizing >>\n",
      "max magnitude class 9  =  -0.5963353275531369\n",
      "min magnitude class 9  =  -0.6057120294497115\n",
      "each class and its windows =\n",
      "0 10\t1 10\t2 10\t3 10\t4 10\t5 10\t6 10\t7 10\t8 10\t9 10\t\n",
      " max instance in classes of test windows = 10\n"
     ]
    }
   ],
   "source": [
    "#print(np.max(wndws_tst))\n",
    "for i in range (0,cls_num):                # Normalization test windows\n",
    "    cls=i\n",
    "    print('\\n cls', i, ' >> ')\n",
    "    print('max magnitude class', i , ' = ' ,np.max(vars()['wndws_tst'+str(cls)][:,:-1]))\n",
    "    print('min magnitude class', i , ' = ' ,np.min(vars()['wndws_tst'+str(cls)][:,:-1]))\n",
    "\n",
    "    vars()['wndws_tst'+str(i)][:,:-1]= 2*(vars()['wndws_tst'+str(i)][:,:-1]-mn_aug)/(mx_aug - mn_aug) - 1\n",
    "    \n",
    "    print('after normalizing >>')\n",
    "    print('max magnitude class', i , ' = ' ,np.max(vars()['wndws_tst'+str(cls)][:,:-1]))\n",
    "    print('min magnitude class', i , ' = ' ,np.min(vars()['wndws_tst'+str(cls)][:,:-1]))\n",
    "    \n",
    "print(\"each class and its windows =\")                    #تجمیع کلاس های تست\n",
    "cls_wndws=np.array([])\n",
    "for cls in range (0,cls_num):                                # آرایه ی تعداد پنجره ی هر کلاس\n",
    "    wns=len(vars()['wndws_tst'+str(cls)])\n",
    "    cls_wndws=np.append(cls_wndws,wns)\n",
    "    print(cls, wns, end='\\t')\n",
    "    wndws_test=np.append(wndws_test,vars()['wndws_tst'+str(cls)],axis=0)\n",
    "    \n",
    "mx_wndws=int(np.max(cls_wndws))                        # حداکثر تعداد پنجره ی موجود بین کلاس ها\n",
    "print('\\n max instance in classes of test windows =', mx_wndws)"
   ]
  },
  {
   "cell_type": "code",
   "execution_count": 12,
   "metadata": {},
   "outputs": [
    {
     "name": "stdout",
     "output_type": "stream",
     "text": [
      "min tst = -0.9591850106310998\n",
      "max tst = 0.7494947938123906\n"
     ]
    }
   ],
   "source": [
    "print('min tst =', np.min(wndws_test[:,:-1]))\n",
    "print('max tst =', np.max(wndws_test[:,:-1]))"
   ]
  },
  {
   "cell_type": "code",
   "execution_count": 13,
   "metadata": {},
   "outputs": [
    {
     "data": {
      "text/plain": [
       "100"
      ]
     },
     "execution_count": 13,
     "metadata": {},
     "output_type": "execute_result"
    }
   ],
   "source": [
    "len(wndws_test)"
   ]
  },
  {
   "cell_type": "code",
   "execution_count": 14,
   "metadata": {},
   "outputs": [
    {
     "data": {
      "text/plain": [
       "(100, 481)"
      ]
     },
     "execution_count": 14,
     "metadata": {},
     "output_type": "execute_result"
    }
   ],
   "source": [
    "np.shape(wndws_test)"
   ]
  },
  {
   "cell_type": "code",
   "execution_count": 15,
   "metadata": {},
   "outputs": [],
   "source": [
    "Xtest=wndws_test[:,:-1]\n",
    "ytest=np.int16(wndws_test[:,-1])"
   ]
  },
  {
   "cell_type": "code",
   "execution_count": 16,
   "metadata": {},
   "outputs": [
    {
     "name": "stdout",
     "output_type": "stream",
     "text": [
      "array([0, 0, 0, 0, 0, 0, 0, 0, 0, 0, 1, 1, 1, 1, 1, 1, 1, 1, 1, 1, 2, 2,\n",
      "       2, 2, 2, 2, 2, 2, 2, 2, 3, 3, 3, 3, 3, 3, 3, 3, 3, 3, 4, 4, 4, 4,\n",
      "       4, 4, 4, 4, 4, 4, 5, 5, 5, 5, 5, 5, 5, 5, 5, 5, 6, 6, 6, 6, 6, 6,\n",
      "       6, 6, 6, 6, 7, 7, 7, 7, 7, 7, 7, 7, 7, 7, 8, 8, 8, 8, 8, 8, 8, 8,\n",
      "       8, 8, 9, 9, 9, 9, 9, 9, 9, 9, 9, 9], dtype=int16)\n"
     ]
    }
   ],
   "source": [
    "fullprint(ytest)"
   ]
  },
  {
   "cell_type": "markdown",
   "metadata": {},
   "source": [
    "<h3><center><div style=\"direction:rtl;font-family:B Nazanin\">Train Windows</div></center></h1>"
   ]
  },
  {
   "cell_type": "code",
   "execution_count": 17,
   "metadata": {},
   "outputs": [
    {
     "data": {
      "text/plain": [
       "'\\nytestt=np.int32(np.array([ytest]).T)\\ntestx=np.concatenate((Xtest, ytestt), axis=1)\\ntestx=np.random.permutation(testx)\\nXtest=np.int32(testx[:,:-1])\\nytest=np.int32(testx[:,-1])'"
      ]
     },
     "execution_count": 17,
     "metadata": {},
     "output_type": "execute_result"
    }
   ],
   "source": [
    "#ytraint=np.int32(np.array([ytrain]).T)\n",
    "#trainx=np.concatenate((Xtrain, ytraint), axis=1)\n",
    "trainx=np.random.permutation(xtrain)\n",
    "Xtrain=np.array(trainx[:,:-1])\n",
    "ytrain=np.int16(trainx[:,-1])\n",
    "'''\n",
    "ytestt=np.int32(np.array([ytest]).T)\n",
    "testx=np.concatenate((Xtest, ytestt), axis=1)\n",
    "testx=np.random.permutation(testx)\n",
    "Xtest=np.int32(testx[:,:-1])\n",
    "ytest=np.int32(testx[:,-1])'''"
   ]
  },
  {
   "cell_type": "code",
   "execution_count": 18,
   "metadata": {},
   "outputs": [
    {
     "data": {
      "text/plain": [
       "(10, 481)"
      ]
     },
     "execution_count": 18,
     "metadata": {},
     "output_type": "execute_result"
    }
   ],
   "source": [
    "np.shape(wndws1)"
   ]
  },
  {
   "cell_type": "markdown",
   "metadata": {},
   "source": [
    "<h3><center><div style=\"direction:rtl;font-family:B Nazanin\">Validation Windows</div></center></h1>"
   ]
  },
  {
   "cell_type": "code",
   "execution_count": 19,
   "metadata": {},
   "outputs": [],
   "source": [
    "Xvalid=np.array(Xtrain)\n",
    "yvalid=np.array(ytrain)"
   ]
  },
  {
   "cell_type": "markdown",
   "metadata": {},
   "source": [
    "<h1><center><div style=\"direction:rtl;font-family:B Nazanin\">CNN And UnBalanced RAW Data</div></center></h1>\n",
    "<h1><center><div style=\"direction:rtl;font-family:Arial\">Cross Entropy Loss Function</div></center></h1>"
   ]
  },
  {
   "cell_type": "code",
   "execution_count": 20,
   "metadata": {
    "scrolled": true
   },
   "outputs": [
    {
     "name": "stdout",
     "output_type": "stream",
     "text": [
      "X_train =>  (100, 480)\n",
      "y_train =>  (100,)\n",
      "X_test  =>  (100, 480)\n",
      "y_test  =>  (100,)\n",
      "X_valid  =>  (100, 480)\n",
      "y_valid  =>  (100,)\n"
     ]
    }
   ],
   "source": [
    "X_train=np.array(Xtrain)\n",
    "y_train=np.array(ytrain)\n",
    "X_test=np.array(Xtest)\n",
    "y_test=np.array(ytest)\n",
    "X_valid=np.array(Xtrain)\n",
    "y_valid=np.array(ytrain)\n",
    "print('X_train => ', X_train.shape)\n",
    "print('y_train => ', y_train.shape)\n",
    "print('X_test  => ', X_test.shape)\n",
    "print('y_test  => ', y_test.shape)\n",
    "print('X_valid  => ', X_valid.shape)\n",
    "print('y_valid  => ', y_valid.shape)"
   ]
  },
  {
   "cell_type": "code",
   "execution_count": 21,
   "metadata": {},
   "outputs": [],
   "source": [
    "y_train_cat=to_categorical(y_train)\n",
    "y_valid_cat=to_categorical(y_valid)\n",
    "y_test_cat=to_categorical(y_test)\n",
    "\n",
    "\n",
    "X_train = np.expand_dims(X_train, axis=2)\n",
    "X_valid = np.expand_dims(X_valid, axis=2)\n",
    "X_test = np.expand_dims(X_test, axis=2)\n",
    "#y_train=np.transpose([y_train])"
   ]
  },
  {
   "cell_type": "code",
   "execution_count": 22,
   "metadata": {},
   "outputs": [
    {
     "data": {
      "text/plain": [
       "0"
      ]
     },
     "execution_count": 22,
     "metadata": {},
     "output_type": "execute_result"
    }
   ],
   "source": [
    "y_train=np.array(ytrain)\n",
    "np.min(y_train)"
   ]
  },
  {
   "cell_type": "code",
   "execution_count": 23,
   "metadata": {},
   "outputs": [
    {
     "name": "stdout",
     "output_type": "stream",
     "text": [
      "Epoch 1/1000\n",
      "5/5 [==============================] - 3s 62ms/step - loss: 7.2787 - accuracy: 0.0800 - val_loss: 2.3025 - val_accuracy: 0.1000\n",
      "Epoch 2/1000\n",
      "5/5 [==============================] - 0s 21ms/step - loss: 2.1844 - accuracy: 0.1400 - val_loss: 2.3028 - val_accuracy: 0.1000\n",
      "Epoch 3/1000\n",
      "5/5 [==============================] - 0s 20ms/step - loss: 2.0772 - accuracy: 0.2000 - val_loss: 2.3105 - val_accuracy: 0.1000\n",
      "Epoch 4/1000\n",
      "5/5 [==============================] - 0s 20ms/step - loss: 1.9284 - accuracy: 0.2900 - val_loss: 2.3200 - val_accuracy: 0.1000\n",
      "Epoch 5/1000\n",
      "5/5 [==============================] - 0s 20ms/step - loss: 1.6945 - accuracy: 0.3400 - val_loss: 2.3541 - val_accuracy: 0.1000\n",
      "Epoch 6/1000\n",
      "5/5 [==============================] - 0s 21ms/step - loss: 1.6495 - accuracy: 0.3800 - val_loss: 2.3749 - val_accuracy: 0.1000\n",
      "Epoch 7/1000\n",
      "5/5 [==============================] - 0s 20ms/step - loss: 1.3203 - accuracy: 0.4700 - val_loss: 2.3677 - val_accuracy: 0.1000\n",
      "Epoch 8/1000\n",
      "5/5 [==============================] - 0s 21ms/step - loss: 1.4821 - accuracy: 0.4700 - val_loss: 2.4716 - val_accuracy: 0.1000\n",
      "Epoch 9/1000\n",
      "5/5 [==============================] - 0s 21ms/step - loss: 1.4536 - accuracy: 0.4000 - val_loss: 2.4278 - val_accuracy: 0.1000\n",
      "Epoch 10/1000\n",
      "5/5 [==============================] - 0s 21ms/step - loss: 1.2311 - accuracy: 0.5000 - val_loss: 2.4996 - val_accuracy: 0.1000\n",
      "Epoch 11/1000\n",
      "5/5 [==============================] - 0s 21ms/step - loss: 1.2239 - accuracy: 0.5100 - val_loss: 2.5325 - val_accuracy: 0.1000\n",
      "Epoch 12/1000\n",
      "5/5 [==============================] - 0s 21ms/step - loss: 1.2163 - accuracy: 0.5100 - val_loss: 2.5495 - val_accuracy: 0.1000\n",
      "Epoch 13/1000\n",
      "5/5 [==============================] - 0s 21ms/step - loss: 1.1909 - accuracy: 0.4900 - val_loss: 2.5717 - val_accuracy: 0.1000\n",
      "Epoch 14/1000\n",
      "5/5 [==============================] - 0s 21ms/step - loss: 1.2310 - accuracy: 0.5100 - val_loss: 2.6074 - val_accuracy: 0.1000\n",
      "Epoch 15/1000\n",
      "5/5 [==============================] - 0s 20ms/step - loss: 1.0684 - accuracy: 0.5000 - val_loss: 2.6452 - val_accuracy: 0.1000\n",
      "Epoch 16/1000\n",
      "5/5 [==============================] - 0s 21ms/step - loss: 1.0044 - accuracy: 0.6000 - val_loss: 2.7176 - val_accuracy: 0.1000\n",
      "Epoch 17/1000\n",
      "5/5 [==============================] - 0s 20ms/step - loss: 0.8946 - accuracy: 0.6600 - val_loss: 2.4348 - val_accuracy: 0.1000\n",
      "Epoch 18/1000\n",
      "5/5 [==============================] - 0s 21ms/step - loss: 1.0204 - accuracy: 0.5800 - val_loss: 2.6994 - val_accuracy: 0.1000\n",
      "Epoch 19/1000\n",
      "5/5 [==============================] - 0s 20ms/step - loss: 1.7846 - accuracy: 0.4500 - val_loss: 2.7675 - val_accuracy: 0.1000\n",
      "Epoch 20/1000\n",
      "5/5 [==============================] - 0s 21ms/step - loss: 0.9019 - accuracy: 0.7200 - val_loss: 2.7642 - val_accuracy: 0.1000\n",
      "Epoch 21/1000\n",
      "5/5 [==============================] - 0s 22ms/step - loss: 0.8045 - accuracy: 0.6900 - val_loss: 2.7190 - val_accuracy: 0.1000\n",
      "Epoch 22/1000\n",
      "5/5 [==============================] - 0s 21ms/step - loss: 0.7396 - accuracy: 0.7200 - val_loss: 2.8292 - val_accuracy: 0.1000\n",
      "Epoch 23/1000\n",
      "5/5 [==============================] - 0s 22ms/step - loss: 0.7662 - accuracy: 0.6800 - val_loss: 2.9106 - val_accuracy: 0.1000\n",
      "Epoch 24/1000\n",
      "5/5 [==============================] - 0s 21ms/step - loss: 0.7813 - accuracy: 0.7000 - val_loss: 2.8350 - val_accuracy: 0.1000\n",
      "Epoch 25/1000\n",
      "5/5 [==============================] - 0s 24ms/step - loss: 0.6590 - accuracy: 0.8000 - val_loss: 3.1084 - val_accuracy: 0.1100\n",
      "Epoch 26/1000\n",
      "5/5 [==============================] - 0s 22ms/step - loss: 0.6223 - accuracy: 0.7300 - val_loss: 3.1990 - val_accuracy: 0.1000\n",
      "Epoch 27/1000\n",
      "5/5 [==============================] - 0s 24ms/step - loss: 0.7845 - accuracy: 0.7300 - val_loss: 2.4911 - val_accuracy: 0.1400\n",
      "Epoch 28/1000\n",
      "5/5 [==============================] - 0s 21ms/step - loss: 1.2780 - accuracy: 0.6300 - val_loss: 3.0004 - val_accuracy: 0.1000\n",
      "Epoch 29/1000\n",
      "5/5 [==============================] - 0s 22ms/step - loss: 0.4987 - accuracy: 0.8500 - val_loss: 3.0142 - val_accuracy: 0.1000\n",
      "Epoch 30/1000\n",
      "5/5 [==============================] - 0s 22ms/step - loss: 0.5490 - accuracy: 0.8000 - val_loss: 2.9319 - val_accuracy: 0.1000\n",
      "Epoch 31/1000\n",
      "5/5 [==============================] - 0s 22ms/step - loss: 0.5737 - accuracy: 0.7400 - val_loss: 3.0728 - val_accuracy: 0.1000\n",
      "Epoch 32/1000\n",
      "5/5 [==============================] - 0s 21ms/step - loss: 0.5746 - accuracy: 0.7700 - val_loss: 2.9077 - val_accuracy: 0.1100\n",
      "Epoch 33/1000\n",
      "5/5 [==============================] - 0s 22ms/step - loss: 0.4306 - accuracy: 0.8500 - val_loss: 3.1111 - val_accuracy: 0.1100\n",
      "Epoch 34/1000\n",
      "5/5 [==============================] - 0s 24ms/step - loss: 0.8279 - accuracy: 0.8000 - val_loss: 3.1477 - val_accuracy: 0.1900\n",
      "Epoch 35/1000\n",
      "5/5 [==============================] - 0s 22ms/step - loss: 0.5749 - accuracy: 0.8200 - val_loss: 3.4373 - val_accuracy: 0.1100\n",
      "Epoch 36/1000\n",
      "5/5 [==============================] - 0s 22ms/step - loss: 0.3705 - accuracy: 0.8600 - val_loss: 3.1171 - val_accuracy: 0.1700\n",
      "Epoch 37/1000\n",
      "5/5 [==============================] - 0s 22ms/step - loss: 0.3813 - accuracy: 0.9000 - val_loss: 3.1942 - val_accuracy: 0.1100\n",
      "Epoch 38/1000\n",
      "5/5 [==============================] - 0s 22ms/step - loss: 0.3078 - accuracy: 0.9000 - val_loss: 2.9822 - val_accuracy: 0.1700\n",
      "Epoch 39/1000\n",
      "5/5 [==============================] - 0s 22ms/step - loss: 0.4677 - accuracy: 0.8400 - val_loss: 2.6332 - val_accuracy: 0.1900\n",
      "Epoch 40/1000\n",
      "5/5 [==============================] - 0s 22ms/step - loss: 0.7404 - accuracy: 0.7400 - val_loss: 2.5389 - val_accuracy: 0.1800\n",
      "Epoch 41/1000\n",
      "5/5 [==============================] - 0s 22ms/step - loss: 0.7036 - accuracy: 0.8400 - val_loss: 3.0587 - val_accuracy: 0.1200\n",
      "Epoch 42/1000\n",
      "5/5 [==============================] - 0s 22ms/step - loss: 0.3110 - accuracy: 0.8800 - val_loss: 2.7222 - val_accuracy: 0.1900\n",
      "Epoch 43/1000\n",
      "5/5 [==============================] - 0s 22ms/step - loss: 0.3398 - accuracy: 0.8700 - val_loss: 3.7890 - val_accuracy: 0.1100\n",
      "Epoch 44/1000\n",
      "5/5 [==============================] - 0s 22ms/step - loss: 0.4484 - accuracy: 0.8600 - val_loss: 2.7582 - val_accuracy: 0.1800\n",
      "Epoch 45/1000\n",
      "5/5 [==============================] - 0s 22ms/step - loss: 0.2847 - accuracy: 0.8900 - val_loss: 3.3731 - val_accuracy: 0.1400\n",
      "Epoch 46/1000\n",
      "5/5 [==============================] - 0s 22ms/step - loss: 0.2235 - accuracy: 0.9300 - val_loss: 3.2932 - val_accuracy: 0.1200\n",
      "Epoch 47/1000\n",
      "5/5 [==============================] - 0s 22ms/step - loss: 0.2080 - accuracy: 0.9100 - val_loss: 2.9315 - val_accuracy: 0.1600\n",
      "Epoch 48/1000\n",
      "5/5 [==============================] - 0s 24ms/step - loss: 0.1183 - accuracy: 0.9700 - val_loss: 3.0002 - val_accuracy: 0.2200\n",
      "Epoch 49/1000\n",
      "5/5 [==============================] - 0s 22ms/step - loss: 0.4044 - accuracy: 0.8600 - val_loss: 2.5758 - val_accuracy: 0.1600\n",
      "Epoch 50/1000\n",
      "5/5 [==============================] - 0s 22ms/step - loss: 0.3104 - accuracy: 0.9200 - val_loss: 3.2619 - val_accuracy: 0.1400\n",
      "Epoch 51/1000\n",
      "5/5 [==============================] - 0s 22ms/step - loss: 0.1749 - accuracy: 0.9500 - val_loss: 3.1743 - val_accuracy: 0.1900\n",
      "Epoch 52/1000\n",
      "5/5 [==============================] - 0s 22ms/step - loss: 0.1910 - accuracy: 0.9300 - val_loss: 4.5710 - val_accuracy: 0.1100\n",
      "Epoch 53/1000\n",
      "5/5 [==============================] - 0s 22ms/step - loss: 0.3906 - accuracy: 0.9300 - val_loss: 2.0492 - val_accuracy: 0.2200\n",
      "Epoch 54/1000\n",
      "5/5 [==============================] - 0s 24ms/step - loss: 0.3073 - accuracy: 0.8600 - val_loss: 1.6530 - val_accuracy: 0.4000\n",
      "Epoch 55/1000\n",
      "5/5 [==============================] - 0s 22ms/step - loss: 0.1700 - accuracy: 0.9400 - val_loss: 1.6666 - val_accuracy: 0.3900\n",
      "Epoch 56/1000\n",
      "5/5 [==============================] - 0s 22ms/step - loss: 0.0731 - accuracy: 0.9800 - val_loss: 1.6830 - val_accuracy: 0.3800\n",
      "Epoch 57/1000\n",
      "5/5 [==============================] - 0s 22ms/step - loss: 0.0553 - accuracy: 0.9900 - val_loss: 1.7670 - val_accuracy: 0.4000\n",
      "Epoch 58/1000\n",
      "5/5 [==============================] - 0s 22ms/step - loss: 0.9314 - accuracy: 0.8800 - val_loss: 1.6844 - val_accuracy: 0.4000\n"
     ]
    },
    {
     "name": "stdout",
     "output_type": "stream",
     "text": [
      "Epoch 59/1000\n",
      "5/5 [==============================] - 0s 22ms/step - loss: 0.5451 - accuracy: 0.8500 - val_loss: 2.4870 - val_accuracy: 0.2400\n",
      "Epoch 60/1000\n",
      "5/5 [==============================] - 0s 22ms/step - loss: 0.1274 - accuracy: 0.9500 - val_loss: 2.4512 - val_accuracy: 0.2700\n",
      "Epoch 61/1000\n",
      "5/5 [==============================] - 0s 22ms/step - loss: 0.1568 - accuracy: 0.9400 - val_loss: 1.9497 - val_accuracy: 0.3500\n",
      "Epoch 62/1000\n",
      "5/5 [==============================] - 0s 21ms/step - loss: 0.1528 - accuracy: 0.9400 - val_loss: 2.1541 - val_accuracy: 0.3000\n",
      "Epoch 63/1000\n",
      "5/5 [==============================] - 0s 21ms/step - loss: 0.0534 - accuracy: 0.9900 - val_loss: 2.1305 - val_accuracy: 0.3000\n",
      "Epoch 64/1000\n",
      "5/5 [==============================] - 0s 22ms/step - loss: 0.0714 - accuracy: 0.9700 - val_loss: 1.8416 - val_accuracy: 0.3200\n",
      "Epoch 65/1000\n",
      "5/5 [==============================] - 0s 22ms/step - loss: 0.1193 - accuracy: 0.9500 - val_loss: 2.8798 - val_accuracy: 0.2300\n",
      "Epoch 66/1000\n",
      "5/5 [==============================] - 0s 21ms/step - loss: 0.0350 - accuracy: 0.9900 - val_loss: 2.1867 - val_accuracy: 0.2900\n",
      "Epoch 67/1000\n",
      "5/5 [==============================] - 0s 22ms/step - loss: 0.0165 - accuracy: 1.0000 - val_loss: 1.9891 - val_accuracy: 0.3200\n",
      "Epoch 68/1000\n",
      "5/5 [==============================] - 0s 22ms/step - loss: 0.0084 - accuracy: 1.0000 - val_loss: 2.1375 - val_accuracy: 0.3200\n",
      "Epoch 69/1000\n",
      "5/5 [==============================] - 0s 21ms/step - loss: 0.0050 - accuracy: 1.0000 - val_loss: 2.1639 - val_accuracy: 0.3200\n",
      "Epoch 70/1000\n",
      "5/5 [==============================] - 0s 21ms/step - loss: 0.0035 - accuracy: 1.0000 - val_loss: 2.2507 - val_accuracy: 0.3000\n",
      "Epoch 71/1000\n",
      "5/5 [==============================] - 0s 21ms/step - loss: 0.0025 - accuracy: 1.0000 - val_loss: 2.5965 - val_accuracy: 0.3000\n",
      "Epoch 72/1000\n",
      "5/5 [==============================] - 0s 21ms/step - loss: 6.8027e-04 - accuracy: 1.0000 - val_loss: 2.2314 - val_accuracy: 0.3000\n",
      "Epoch 73/1000\n",
      "5/5 [==============================] - 0s 24ms/step - loss: 0.0018 - accuracy: 1.0000 - val_loss: 1.5861 - val_accuracy: 0.4100\n",
      "Epoch 74/1000\n",
      "5/5 [==============================] - 0s 24ms/step - loss: 0.9057 - accuracy: 0.8100 - val_loss: 1.6479 - val_accuracy: 0.4400\n",
      "Epoch 75/1000\n",
      "5/5 [==============================] - 0s 22ms/step - loss: 0.3155 - accuracy: 0.9300 - val_loss: 1.6270 - val_accuracy: 0.4300\n",
      "Epoch 76/1000\n",
      "5/5 [==============================] - 0s 22ms/step - loss: 0.0340 - accuracy: 0.9900 - val_loss: 1.5591 - val_accuracy: 0.4300\n",
      "Epoch 77/1000\n",
      "5/5 [==============================] - 0s 24ms/step - loss: 0.0280 - accuracy: 0.9900 - val_loss: 1.4422 - val_accuracy: 0.4900\n",
      "Epoch 78/1000\n",
      "5/5 [==============================] - 0s 22ms/step - loss: 0.0014 - accuracy: 1.0000 - val_loss: 1.4281 - val_accuracy: 0.4700\n",
      "Epoch 79/1000\n",
      "5/5 [==============================] - 0s 22ms/step - loss: 9.9480e-04 - accuracy: 1.0000 - val_loss: 1.4110 - val_accuracy: 0.4500\n",
      "Epoch 80/1000\n",
      "5/5 [==============================] - 0s 21ms/step - loss: 4.5857e-04 - accuracy: 1.0000 - val_loss: 1.4108 - val_accuracy: 0.4600\n",
      "Epoch 81/1000\n",
      "5/5 [==============================] - 0s 22ms/step - loss: 0.0032 - accuracy: 1.0000 - val_loss: 1.3401 - val_accuracy: 0.4700\n",
      "Epoch 82/1000\n",
      "5/5 [==============================] - 0s 24ms/step - loss: 0.0048 - accuracy: 1.0000 - val_loss: 0.9928 - val_accuracy: 0.6500\n",
      "Epoch 83/1000\n",
      "5/5 [==============================] - 0s 22ms/step - loss: 1.4500 - accuracy: 0.7200 - val_loss: 1.4046 - val_accuracy: 0.5300\n",
      "Epoch 84/1000\n",
      "5/5 [==============================] - 0s 22ms/step - loss: 0.9182 - accuracy: 0.9000 - val_loss: 1.4044 - val_accuracy: 0.5200\n",
      "Epoch 85/1000\n",
      "5/5 [==============================] - 0s 23ms/step - loss: 0.0136 - accuracy: 1.0000 - val_loss: 1.3246 - val_accuracy: 0.5300\n",
      "Epoch 86/1000\n",
      "5/5 [==============================] - 0s 21ms/step - loss: 0.0049 - accuracy: 1.0000 - val_loss: 1.2817 - val_accuracy: 0.5400\n",
      "Epoch 87/1000\n",
      "5/5 [==============================] - 0s 22ms/step - loss: 0.0024 - accuracy: 1.0000 - val_loss: 1.2167 - val_accuracy: 0.5400\n",
      "Epoch 88/1000\n",
      "5/5 [==============================] - 0s 22ms/step - loss: 0.0053 - accuracy: 1.0000 - val_loss: 1.1537 - val_accuracy: 0.5900\n",
      "Epoch 89/1000\n",
      "5/5 [==============================] - 0s 22ms/step - loss: 8.7521e-04 - accuracy: 1.0000 - val_loss: 1.1055 - val_accuracy: 0.5900\n",
      "Epoch 90/1000\n",
      "5/5 [==============================] - 0s 22ms/step - loss: 4.3567e-04 - accuracy: 1.0000 - val_loss: 1.0578 - val_accuracy: 0.6000\n",
      "Epoch 91/1000\n",
      "5/5 [==============================] - 0s 22ms/step - loss: 2.2204e-04 - accuracy: 1.0000 - val_loss: 1.0195 - val_accuracy: 0.6100\n",
      "Epoch 92/1000\n",
      "5/5 [==============================] - 0s 22ms/step - loss: 7.5844e-04 - accuracy: 1.0000 - val_loss: 1.0107 - val_accuracy: 0.6200\n",
      "Epoch 93/1000\n",
      "5/5 [==============================] - 0s 22ms/step - loss: 0.0010 - accuracy: 1.0000 - val_loss: 0.9713 - val_accuracy: 0.6100\n",
      "Epoch 94/1000\n",
      "5/5 [==============================] - 0s 22ms/step - loss: 8.2095e-04 - accuracy: 1.0000 - val_loss: 0.9359 - val_accuracy: 0.6100\n",
      "Epoch 95/1000\n",
      "5/5 [==============================] - 0s 23ms/step - loss: 5.6593e-05 - accuracy: 1.0000 - val_loss: 0.9177 - val_accuracy: 0.6100\n",
      "Epoch 96/1000\n",
      "5/5 [==============================] - 0s 21ms/step - loss: 1.9141e-04 - accuracy: 1.0000 - val_loss: 0.8856 - val_accuracy: 0.6200\n",
      "Epoch 97/1000\n",
      "5/5 [==============================] - 0s 22ms/step - loss: 6.9467e-05 - accuracy: 1.0000 - val_loss: 0.8766 - val_accuracy: 0.6500\n",
      "Epoch 98/1000\n",
      "5/5 [==============================] - 0s 24ms/step - loss: 2.7163e-05 - accuracy: 1.0000 - val_loss: 0.8676 - val_accuracy: 0.6800\n",
      "Epoch 99/1000\n",
      "5/5 [==============================] - 0s 22ms/step - loss: 1.9015e-05 - accuracy: 1.0000 - val_loss: 0.8499 - val_accuracy: 0.6800\n",
      "Epoch 100/1000\n",
      "5/5 [==============================] - 0s 22ms/step - loss: 3.0380e-05 - accuracy: 1.0000 - val_loss: 0.8372 - val_accuracy: 0.6800\n",
      "Epoch 101/1000\n",
      "5/5 [==============================] - 0s 23ms/step - loss: 1.3129e-05 - accuracy: 1.0000 - val_loss: 0.8159 - val_accuracy: 0.6800\n",
      "Epoch 102/1000\n",
      "5/5 [==============================] - 0s 22ms/step - loss: 6.9639e-05 - accuracy: 1.0000 - val_loss: 0.8721 - val_accuracy: 0.6700\n",
      "Epoch 103/1000\n",
      "5/5 [==============================] - 0s 22ms/step - loss: 1.3012e-05 - accuracy: 1.0000 - val_loss: 0.8184 - val_accuracy: 0.6800\n",
      "Epoch 104/1000\n",
      "5/5 [==============================] - 0s 25ms/step - loss: 1.0223e-05 - accuracy: 1.0000 - val_loss: 0.7851 - val_accuracy: 0.7100\n",
      "Epoch 105/1000\n",
      "5/5 [==============================] - 0s 22ms/step - loss: 1.2902e-05 - accuracy: 1.0000 - val_loss: 0.8305 - val_accuracy: 0.6800\n",
      "Epoch 106/1000\n",
      "5/5 [==============================] - 0s 24ms/step - loss: 6.0194e-06 - accuracy: 1.0000 - val_loss: 0.7362 - val_accuracy: 0.7300\n",
      "Epoch 107/1000\n",
      "5/5 [==============================] - 0s 24ms/step - loss: 7.3161e-06 - accuracy: 1.0000 - val_loss: 0.4339 - val_accuracy: 0.8600\n",
      "Epoch 108/1000\n",
      "5/5 [==============================] - 0s 22ms/step - loss: 1.8465e-06 - accuracy: 1.0000 - val_loss: 0.3728 - val_accuracy: 0.8600\n",
      "Epoch 109/1000\n",
      "5/5 [==============================] - 0s 25ms/step - loss: 8.4280e-07 - accuracy: 1.0000 - val_loss: 0.3079 - val_accuracy: 0.8800\n",
      "Epoch 110/1000\n",
      "5/5 [==============================] - 0s 24ms/step - loss: 2.9206e-07 - accuracy: 1.0000 - val_loss: 0.2521 - val_accuracy: 0.9300\n",
      "Epoch 111/1000\n",
      "5/5 [==============================] - 0s 23ms/step - loss: 1.4877e-04 - accuracy: 1.0000 - val_loss: 1.8281 - val_accuracy: 0.3700\n",
      "Epoch 112/1000\n",
      "5/5 [==============================] - 0s 22ms/step - loss: 1.7236 - accuracy: 0.7600 - val_loss: 2.5047 - val_accuracy: 0.3900\n",
      "Epoch 113/1000\n",
      "5/5 [==============================] - 0s 22ms/step - loss: 0.4524 - accuracy: 0.9300 - val_loss: 2.3433 - val_accuracy: 0.3500\n",
      "Epoch 114/1000\n",
      "5/5 [==============================] - 0s 23ms/step - loss: 0.0054 - accuracy: 1.0000 - val_loss: 2.3108 - val_accuracy: 0.3700\n",
      "Epoch 115/1000\n",
      "5/5 [==============================] - 0s 22ms/step - loss: 0.0012 - accuracy: 1.0000 - val_loss: 2.1639 - val_accuracy: 0.3800\n"
     ]
    },
    {
     "name": "stdout",
     "output_type": "stream",
     "text": [
      "Epoch 116/1000\n",
      "5/5 [==============================] - 0s 22ms/step - loss: 0.0026 - accuracy: 1.0000 - val_loss: 2.1498 - val_accuracy: 0.4000\n",
      "Epoch 117/1000\n",
      "5/5 [==============================] - 0s 21ms/step - loss: 0.0044 - accuracy: 1.0000 - val_loss: 1.3918 - val_accuracy: 0.4600\n",
      "Epoch 118/1000\n",
      "5/5 [==============================] - 0s 21ms/step - loss: 3.3285e-04 - accuracy: 1.0000 - val_loss: 1.3081 - val_accuracy: 0.4800\n",
      "Epoch 119/1000\n",
      "5/5 [==============================] - 0s 21ms/step - loss: 7.1868e-05 - accuracy: 1.0000 - val_loss: 1.2340 - val_accuracy: 0.4900\n",
      "Epoch 120/1000\n",
      "5/5 [==============================] - 0s 22ms/step - loss: 1.9752e-04 - accuracy: 1.0000 - val_loss: 1.1947 - val_accuracy: 0.4900\n",
      "Epoch 121/1000\n",
      "5/5 [==============================] - 0s 22ms/step - loss: 4.2103e-05 - accuracy: 1.0000 - val_loss: 1.1243 - val_accuracy: 0.5300\n",
      "Epoch 122/1000\n",
      "5/5 [==============================] - 0s 21ms/step - loss: 5.4576e-04 - accuracy: 1.0000 - val_loss: 1.3359 - val_accuracy: 0.5000\n",
      "Epoch 123/1000\n",
      "5/5 [==============================] - 0s 22ms/step - loss: 0.0056 - accuracy: 1.0000 - val_loss: 1.6110 - val_accuracy: 0.4000\n",
      "Epoch 124/1000\n",
      "5/5 [==============================] - 0s 21ms/step - loss: 1.2820e-04 - accuracy: 1.0000 - val_loss: 1.0788 - val_accuracy: 0.6300\n",
      "Epoch 125/1000\n",
      "5/5 [==============================] - 0s 22ms/step - loss: 6.1104e-05 - accuracy: 1.0000 - val_loss: 1.0013 - val_accuracy: 0.6300\n",
      "Epoch 126/1000\n",
      "5/5 [==============================] - 0s 22ms/step - loss: 3.6141e-05 - accuracy: 1.0000 - val_loss: 0.9718 - val_accuracy: 0.6400\n",
      "Epoch 127/1000\n",
      "5/5 [==============================] - 0s 22ms/step - loss: 1.3303e-05 - accuracy: 1.0000 - val_loss: 0.9374 - val_accuracy: 0.6500\n",
      "Epoch 128/1000\n",
      "5/5 [==============================] - 0s 21ms/step - loss: 9.2451e-06 - accuracy: 1.0000 - val_loss: 0.9058 - val_accuracy: 0.6700\n",
      "Epoch 129/1000\n",
      "5/5 [==============================] - 0s 22ms/step - loss: 8.4392e-06 - accuracy: 1.0000 - val_loss: 0.8707 - val_accuracy: 0.6700\n",
      "Epoch 130/1000\n",
      "5/5 [==============================] - 0s 22ms/step - loss: 5.5056e-05 - accuracy: 1.0000 - val_loss: 0.7606 - val_accuracy: 0.6800\n",
      "Epoch 131/1000\n",
      "5/5 [==============================] - 0s 21ms/step - loss: 1.6528e-05 - accuracy: 1.0000 - val_loss: 0.8403 - val_accuracy: 0.6700\n",
      "Epoch 132/1000\n",
      "5/5 [==============================] - 0s 21ms/step - loss: 2.6893e-06 - accuracy: 1.0000 - val_loss: 0.8061 - val_accuracy: 0.6800\n",
      "Epoch 133/1000\n",
      "5/5 [==============================] - 0s 22ms/step - loss: 0.0095 - accuracy: 0.9900 - val_loss: 3.0069 - val_accuracy: 0.4000\n",
      "Epoch 134/1000\n",
      "5/5 [==============================] - 0s 21ms/step - loss: 4.6915 - accuracy: 0.6000 - val_loss: 1.3703 - val_accuracy: 0.4800\n",
      "Epoch 135/1000\n",
      "5/5 [==============================] - 0s 21ms/step - loss: 0.1353 - accuracy: 0.9800 - val_loss: 1.3745 - val_accuracy: 0.5500\n",
      "Epoch 136/1000\n",
      "5/5 [==============================] - 0s 22ms/step - loss: 0.0319 - accuracy: 0.9900 - val_loss: 1.3701 - val_accuracy: 0.5400\n",
      "Epoch 137/1000\n",
      "5/5 [==============================] - 0s 22ms/step - loss: 0.0202 - accuracy: 1.0000 - val_loss: 1.2921 - val_accuracy: 0.5200\n",
      "Epoch 138/1000\n",
      "5/5 [==============================] - 0s 22ms/step - loss: 8.1320e-04 - accuracy: 1.0000 - val_loss: 1.2659 - val_accuracy: 0.5400\n",
      "Epoch 139/1000\n",
      "5/5 [==============================] - 0s 22ms/step - loss: 2.4824e-04 - accuracy: 1.0000 - val_loss: 1.2380 - val_accuracy: 0.5400\n",
      "Epoch 140/1000\n",
      "5/5 [==============================] - 0s 22ms/step - loss: 0.0169 - accuracy: 0.9900 - val_loss: 1.3208 - val_accuracy: 0.5200\n",
      "Epoch 141/1000\n",
      "5/5 [==============================] - 0s 22ms/step - loss: 0.0174 - accuracy: 1.0000 - val_loss: 1.5793 - val_accuracy: 0.5000\n",
      "Epoch 142/1000\n",
      "5/5 [==============================] - 0s 22ms/step - loss: 0.0416 - accuracy: 0.9900 - val_loss: 2.5794 - val_accuracy: 0.2800\n",
      "Epoch 143/1000\n",
      "5/5 [==============================] - 0s 22ms/step - loss: 0.0727 - accuracy: 0.9600 - val_loss: 2.1012 - val_accuracy: 0.3800\n",
      "Epoch 144/1000\n",
      "5/5 [==============================] - 0s 22ms/step - loss: 0.0152 - accuracy: 1.0000 - val_loss: 1.9425 - val_accuracy: 0.4300\n",
      "Epoch 145/1000\n",
      "5/5 [==============================] - 0s 21ms/step - loss: 0.0012 - accuracy: 1.0000 - val_loss: 1.8187 - val_accuracy: 0.4700\n",
      "Epoch 146/1000\n",
      "5/5 [==============================] - 0s 22ms/step - loss: 1.7073e-04 - accuracy: 1.0000 - val_loss: 1.7643 - val_accuracy: 0.4800\n",
      "Epoch 147/1000\n",
      "5/5 [==============================] - 0s 22ms/step - loss: 9.0443e-05 - accuracy: 1.0000 - val_loss: 1.7002 - val_accuracy: 0.4800\n",
      "Epoch 148/1000\n",
      "5/5 [==============================] - 0s 22ms/step - loss: 1.0528e-04 - accuracy: 1.0000 - val_loss: 1.6259 - val_accuracy: 0.4800\n",
      "Epoch 149/1000\n",
      "5/5 [==============================] - 0s 22ms/step - loss: 6.7312e-05 - accuracy: 1.0000 - val_loss: 1.5323 - val_accuracy: 0.5000\n",
      "Epoch 150/1000\n",
      "5/5 [==============================] - 0s 22ms/step - loss: 5.9720e-05 - accuracy: 1.0000 - val_loss: 1.4645 - val_accuracy: 0.5200\n",
      "Epoch 151/1000\n",
      "5/5 [==============================] - 0s 22ms/step - loss: 5.2554e-05 - accuracy: 1.0000 - val_loss: 1.3782 - val_accuracy: 0.6200\n",
      "Epoch 152/1000\n",
      "5/5 [==============================] - 0s 22ms/step - loss: 4.5052e-05 - accuracy: 1.0000 - val_loss: 1.3279 - val_accuracy: 0.6200\n",
      "Epoch 153/1000\n",
      "5/5 [==============================] - 0s 21ms/step - loss: 7.8902e-05 - accuracy: 1.0000 - val_loss: 1.2924 - val_accuracy: 0.6300\n",
      "Epoch 154/1000\n",
      "5/5 [==============================] - 0s 21ms/step - loss: 2.6316e-05 - accuracy: 1.0000 - val_loss: 1.2429 - val_accuracy: 0.6400\n",
      "Epoch 155/1000\n",
      "5/5 [==============================] - 0s 22ms/step - loss: 1.6565e-05 - accuracy: 1.0000 - val_loss: 1.1807 - val_accuracy: 0.6500\n",
      "Epoch 156/1000\n",
      "5/5 [==============================] - 0s 22ms/step - loss: 9.3614e-06 - accuracy: 1.0000 - val_loss: 1.1272 - val_accuracy: 0.6600\n",
      "Epoch 157/1000\n",
      "5/5 [==============================] - 0s 22ms/step - loss: 2.2105e-05 - accuracy: 1.0000 - val_loss: 1.1016 - val_accuracy: 0.6800\n",
      "Epoch 158/1000\n",
      "5/5 [==============================] - 0s 22ms/step - loss: 1.1074e-05 - accuracy: 1.0000 - val_loss: 0.9881 - val_accuracy: 0.6600\n",
      "Epoch 159/1000\n",
      "5/5 [==============================] - 0s 22ms/step - loss: 6.4971e-06 - accuracy: 1.0000 - val_loss: 0.9313 - val_accuracy: 0.7000\n",
      "Epoch 160/1000\n",
      "5/5 [==============================] - 0s 23ms/step - loss: 3.4105e-06 - accuracy: 1.0000 - val_loss: 0.9020 - val_accuracy: 0.7300\n",
      "5/5 [==============================] - 0s 4ms/step - loss: 0.2521 - accuracy: 0.9300\n",
      "np.shape(X_test)= (100, 480, 1)\n",
      "Accuracy=  0.9300000071525574\n"
     ]
    }
   ],
   "source": [
    "#VGG16_1D\n",
    "\n",
    "accuracy=0\n",
    "acc_crs=np.array([])\n",
    "##for i in range (10):\n",
    "##    if accuracy<0.2 :\n",
    "\n",
    "verbose, epochs, batch_size = 1, 1000, btch\n",
    "n_timesteps, n_features, n_outputs = X_train.shape[1], X_train.shape[2], y_train_cat.shape[1]\n",
    "steps_per_epoch = len(X_train)//batch_size\n",
    "validation_steps = len(X_valid)//batch_size # if you have test data\n",
    "\n",
    "\n",
    "\n",
    "model_crs = Sequential()\n",
    "#model_crs.add(Conv1D(input_shape=x_train.shape[1:],filters=64,kernel_size=9,padding=\"same\", activation=\"relu\"))\n",
    "model_crs.add(Conv1D(filters=128, kernel_size=12, strides=1, activation='relu', input_shape=(n_timesteps,n_features))) #Replaced\n",
    "model_crs.add(BatchNormalization())\n",
    "model_crs.add(MaxPooling1D(pool_size=2,strides=3))\n",
    "\n",
    "model_crs.add(Conv1D(filters=32, kernel_size=7, strides=1, padding=\"same\", activation=\"relu\"))\n",
    "model_crs.add(BatchNormalization())\n",
    "model_crs.add(MaxPooling1D(pool_size=2,strides=2))\n",
    "\n",
    "model_crs.add(Conv1D(filters=32, kernel_size=10, strides=1, padding=\"same\", activation=\"relu\"))\n",
    "model_crs.add(Conv1D(filters=128, kernel_size=5, strides=2, padding=\"same\", activation=\"relu\"))\n",
    "model_crs.add(MaxPooling1D(pool_size=2,strides=2))\n",
    "\n",
    "model_crs.add(Conv1D(filters=256, kernel_size=15, strides=1, padding=\"same\", activation=\"relu\"))\n",
    "model_crs.add(MaxPooling1D(pool_size=2,strides=2))\n",
    "\n",
    "model_crs.add(Conv1D(filters=512, kernel_size=5, strides=1, padding=\"same\", activation=\"relu\"))\n",
    "#model_crs.add(Conv1D(filters=128, kernel_size=3, strides=1, padding=\"same\", activation=\"relu\"))\n",
    "\n",
    "\n",
    "model_crs.add(Flatten())\n",
    "model_crs.add(Dropout(0.1))\n",
    "model_crs.add(Dense(units=512,activation=\"relu\"))\n",
    "#model_crs.add(Dense(units=2048,activation=\"relu\"))\n",
    "model_crs.add(Dense(n_outputs, activation='softmax'))   #Replaced here from old Model\n",
    "\n",
    "model_crs.compile(optimizer='rmsprop', loss='categorical_crossentropy', metrics=['accuracy'])\n",
    "# fit network   #CategoricalCrossentropy #sparse_categorical_crossentropy #SparseCategoricalCrossentropy\n",
    "\n",
    "earlystopping = callbacks.EarlyStopping(monitor =\"val_accuracy\", mode =\"max\", patience = 50, restore_best_weights = True)\n",
    "\n",
    "model_crs.fit(X_train, y_train_cat, epochs=epochs, batch_size=batch_size, verbose=verbose, validation_data = (X_valid, y_valid_cat), callbacks =[earlystopping])\n",
    "\n",
    "_, accuracy = model_crs.evaluate(X_valid, y_valid_cat, batch_size=batch_size, verbose=1)\n",
    "\n",
    "print('np.shape(X_test)=',np.shape(X_test))\n",
    "\n",
    "print('Accuracy= ', accuracy)\n",
    "\n",
    "#y_pred_vgg = model_crs.predict_classes(X_test)\n"
   ]
  },
  {
   "cell_type": "code",
   "execution_count": 24,
   "metadata": {},
   "outputs": [],
   "source": [
    "def maxindx(ar):\n",
    "    ar_cpy=np.array(ar)\n",
    "    pred=np.argmax(ar,axis=1)\n",
    "    for i in range (len(pred)):\n",
    "        if pred[i]==0:\n",
    "            ar_cpy[i,0]=-1000\n",
    "    pred=np.argmax(ar_cpy,axis=1)\n",
    "    return(pred)"
   ]
  },
  {
   "cell_type": "code",
   "execution_count": 25,
   "metadata": {},
   "outputs": [
    {
     "name": "stdout",
     "output_type": "stream",
     "text": [
      "4/4 [==============================] - 0s 46ms/step\n",
      "array([[0, 4, 0, 0, 1, 0, 4, 0, 1, 0],\n",
      "       [0, 4, 0, 0, 0, 1, 4, 0, 0, 1],\n",
      "       [0, 2, 2, 0, 0, 0, 3, 0, 0, 3],\n",
      "       [0, 0, 0, 4, 0, 0, 0, 1, 5, 0],\n",
      "       [0, 3, 1, 0, 2, 2, 1, 0, 0, 1],\n",
      "       [0, 1, 0, 0, 0, 0, 4, 0, 0, 5],\n",
      "       [0, 0, 1, 0, 1, 0, 6, 0, 0, 2],\n",
      "       [0, 0, 0, 3, 0, 0, 1, 2, 1, 3],\n",
      "       [0, 4, 0, 1, 0, 0, 1, 3, 1, 0],\n",
      "       [0, 0, 0, 0, 0, 0, 4, 0, 0, 6]], dtype=int64)\n",
      "              precision    recall  f1-score   support\n",
      "\n",
      "           0       0.00      0.00      0.00        10\n",
      "           1       0.22      0.40      0.29        10\n",
      "           2       0.50      0.20      0.29        10\n",
      "           3       0.50      0.40      0.44        10\n",
      "           4       0.50      0.20      0.29        10\n",
      "           5       0.00      0.00      0.00        10\n",
      "           6       0.21      0.60      0.32        10\n",
      "           7       0.33      0.20      0.25        10\n",
      "           8       0.12      0.10      0.11        10\n",
      "           9       0.29      0.60      0.39        10\n",
      "\n",
      "    accuracy                           0.27       100\n",
      "   macro avg       0.27      0.27      0.24       100\n",
      "weighted avg       0.27      0.27      0.24       100\n",
      "\n"
     ]
    },
    {
     "name": "stderr",
     "output_type": "stream",
     "text": [
      "C:\\ProgramData\\Anaconda3\\lib\\site-packages\\sklearn\\metrics\\_classification.py:1248: UndefinedMetricWarning: Precision and F-score are ill-defined and being set to 0.0 in labels with no predicted samples. Use `zero_division` parameter to control this behavior.\n",
      "  _warn_prf(average, modifier, msg_start, len(result))\n",
      "C:\\ProgramData\\Anaconda3\\lib\\site-packages\\sklearn\\metrics\\_classification.py:1248: UndefinedMetricWarning: Precision and F-score are ill-defined and being set to 0.0 in labels with no predicted samples. Use `zero_division` parameter to control this behavior.\n",
      "  _warn_prf(average, modifier, msg_start, len(result))\n",
      "C:\\ProgramData\\Anaconda3\\lib\\site-packages\\sklearn\\metrics\\_classification.py:1248: UndefinedMetricWarning: Precision and F-score are ill-defined and being set to 0.0 in labels with no predicted samples. Use `zero_division` parameter to control this behavior.\n",
      "  _warn_prf(average, modifier, msg_start, len(result))\n"
     ]
    }
   ],
   "source": [
    "predict_x=model_crs.predict(X_test)              # Function 1\n",
    "\n",
    "y_pred_crs=maxindx(predict_x)                    # function from augment.py to remove 0 index predictions\n",
    "\n",
    "#y_pred_crs = model_crs.predict_classes(X_test)\n",
    "\n",
    "cm = confusion_matrix(y_test, y_pred_crs)\n",
    "fullprint(cm)\n",
    "acc3=accuracy_score(y_test, y_pred_crs)\n",
    "\n",
    "print(classification_report(y_test, y_pred_crs))\n",
    "\n",
    "#sns.heatmap(cm, annot=True)\n",
    "\n",
    "#plt.imshow(cm)"
   ]
  },
  {
   "cell_type": "code",
   "execution_count": 26,
   "metadata": {
    "scrolled": true
   },
   "outputs": [
    {
     "name": "stdout",
     "output_type": "stream",
     "text": [
      "Epoch 1/1000\n",
      "5/5 [==============================] - 1s 68ms/step - loss: 53.7702 - accuracy: 0.0600 - val_loss: 2.3026 - val_accuracy: 0.1000\n",
      "Epoch 2/1000\n",
      "5/5 [==============================] - 0s 26ms/step - loss: 2.1519 - accuracy: 0.1100 - val_loss: 2.3027 - val_accuracy: 0.1000\n",
      "Epoch 3/1000\n",
      "5/5 [==============================] - 0s 27ms/step - loss: 2.0595 - accuracy: 0.1800 - val_loss: 2.3025 - val_accuracy: 0.1000\n",
      "Epoch 4/1000\n",
      "5/5 [==============================] - 0s 26ms/step - loss: 1.9692 - accuracy: 0.2000 - val_loss: 2.3030 - val_accuracy: 0.1000\n",
      "Epoch 5/1000\n",
      "5/5 [==============================] - 0s 26ms/step - loss: 1.7991 - accuracy: 0.2700 - val_loss: 2.3012 - val_accuracy: 0.1000\n",
      "Epoch 6/1000\n",
      "5/5 [==============================] - 0s 26ms/step - loss: 1.5976 - accuracy: 0.3500 - val_loss: 2.3043 - val_accuracy: 0.1000\n",
      "Epoch 7/1000\n",
      "5/5 [==============================] - 0s 26ms/step - loss: 1.4614 - accuracy: 0.3700 - val_loss: 2.3058 - val_accuracy: 0.1000\n",
      "Epoch 8/1000\n",
      "5/5 [==============================] - 0s 26ms/step - loss: 1.4129 - accuracy: 0.4600 - val_loss: 2.3093 - val_accuracy: 0.1000\n",
      "Epoch 9/1000\n",
      "5/5 [==============================] - 0s 26ms/step - loss: 1.7289 - accuracy: 0.4200 - val_loss: 2.3098 - val_accuracy: 0.1000\n",
      "Epoch 10/1000\n",
      "5/5 [==============================] - 0s 26ms/step - loss: 1.8990 - accuracy: 0.3000 - val_loss: 2.3035 - val_accuracy: 0.1000\n",
      "Epoch 11/1000\n",
      "5/5 [==============================] - 0s 26ms/step - loss: 1.2619 - accuracy: 0.4700 - val_loss: 2.3090 - val_accuracy: 0.1000\n",
      "Epoch 12/1000\n",
      "5/5 [==============================] - 0s 31ms/step - loss: 1.3242 - accuracy: 0.5100 - val_loss: 2.3159 - val_accuracy: 0.1900\n",
      "Epoch 13/1000\n",
      "5/5 [==============================] - 0s 26ms/step - loss: 1.8083 - accuracy: 0.3400 - val_loss: 2.3110 - val_accuracy: 0.1000\n",
      "Epoch 14/1000\n",
      "5/5 [==============================] - 0s 26ms/step - loss: 1.2710 - accuracy: 0.4900 - val_loss: 2.3078 - val_accuracy: 0.1000\n",
      "Epoch 15/1000\n",
      "5/5 [==============================] - 0s 26ms/step - loss: 1.2708 - accuracy: 0.4800 - val_loss: 2.3085 - val_accuracy: 0.1000\n",
      "Epoch 16/1000\n",
      "5/5 [==============================] - 0s 26ms/step - loss: 1.2563 - accuracy: 0.5300 - val_loss: 2.3167 - val_accuracy: 0.1000\n",
      "Epoch 17/1000\n",
      "5/5 [==============================] - 0s 26ms/step - loss: 1.1764 - accuracy: 0.5300 - val_loss: 2.3093 - val_accuracy: 0.1000\n",
      "Epoch 18/1000\n",
      "5/5 [==============================] - 0s 26ms/step - loss: 1.1248 - accuracy: 0.5700 - val_loss: 2.3259 - val_accuracy: 0.1000\n",
      "Epoch 19/1000\n",
      "5/5 [==============================] - 0s 26ms/step - loss: 1.2590 - accuracy: 0.5000 - val_loss: 2.3255 - val_accuracy: 0.1000\n",
      "Epoch 20/1000\n",
      "5/5 [==============================] - 0s 26ms/step - loss: 1.2692 - accuracy: 0.5600 - val_loss: 2.3428 - val_accuracy: 0.1000\n",
      "Epoch 21/1000\n",
      "5/5 [==============================] - 0s 26ms/step - loss: 1.6421 - accuracy: 0.4300 - val_loss: 2.3406 - val_accuracy: 0.1000\n",
      "Epoch 22/1000\n",
      "5/5 [==============================] - 0s 26ms/step - loss: 1.0338 - accuracy: 0.5900 - val_loss: 2.3471 - val_accuracy: 0.1000\n",
      "Epoch 23/1000\n",
      "5/5 [==============================] - 0s 26ms/step - loss: 1.0185 - accuracy: 0.6500 - val_loss: 2.3747 - val_accuracy: 0.1000\n",
      "Epoch 24/1000\n",
      "5/5 [==============================] - 0s 26ms/step - loss: 1.0940 - accuracy: 0.5900 - val_loss: 2.3685 - val_accuracy: 0.1000\n",
      "Epoch 25/1000\n",
      "5/5 [==============================] - 0s 26ms/step - loss: 0.8118 - accuracy: 0.6700 - val_loss: 2.3721 - val_accuracy: 0.1000\n",
      "Epoch 26/1000\n",
      "5/5 [==============================] - 0s 26ms/step - loss: 0.8150 - accuracy: 0.7100 - val_loss: 2.3099 - val_accuracy: 0.1100\n",
      "Epoch 27/1000\n",
      "5/5 [==============================] - 0s 26ms/step - loss: 1.2281 - accuracy: 0.6700 - val_loss: 2.4306 - val_accuracy: 0.1000\n",
      "Epoch 28/1000\n",
      "5/5 [==============================] - 0s 26ms/step - loss: 1.6502 - accuracy: 0.5500 - val_loss: 2.3509 - val_accuracy: 0.1000\n",
      "Epoch 29/1000\n",
      "5/5 [==============================] - 0s 26ms/step - loss: 1.0134 - accuracy: 0.6800 - val_loss: 2.2780 - val_accuracy: 0.1100\n",
      "Epoch 30/1000\n",
      "5/5 [==============================] - 0s 26ms/step - loss: 0.7000 - accuracy: 0.7700 - val_loss: 2.2976 - val_accuracy: 0.1200\n",
      "Epoch 31/1000\n",
      "5/5 [==============================] - 0s 26ms/step - loss: 0.6487 - accuracy: 0.8100 - val_loss: 2.2968 - val_accuracy: 0.1000\n",
      "Epoch 32/1000\n",
      "5/5 [==============================] - 0s 26ms/step - loss: 0.5807 - accuracy: 0.7700 - val_loss: 2.2953 - val_accuracy: 0.1100\n",
      "Epoch 33/1000\n",
      "5/5 [==============================] - 0s 26ms/step - loss: 0.6325 - accuracy: 0.7600 - val_loss: 2.2972 - val_accuracy: 0.1200\n",
      "Epoch 34/1000\n",
      "5/5 [==============================] - 0s 26ms/step - loss: 0.4685 - accuracy: 0.8200 - val_loss: 2.2622 - val_accuracy: 0.1200\n",
      "Epoch 35/1000\n",
      "5/5 [==============================] - 0s 26ms/step - loss: 0.5027 - accuracy: 0.8400 - val_loss: 2.3434 - val_accuracy: 0.1100\n",
      "Epoch 36/1000\n",
      "5/5 [==============================] - 0s 26ms/step - loss: 0.5243 - accuracy: 0.8200 - val_loss: 2.3706 - val_accuracy: 0.1100\n",
      "Epoch 37/1000\n",
      "5/5 [==============================] - 0s 26ms/step - loss: 1.3551 - accuracy: 0.6600 - val_loss: 2.3693 - val_accuracy: 0.1300\n",
      "Epoch 38/1000\n",
      "5/5 [==============================] - 0s 31ms/step - loss: 0.4984 - accuracy: 0.7900 - val_loss: 2.2049 - val_accuracy: 0.2000\n",
      "Epoch 39/1000\n",
      "5/5 [==============================] - 0s 26ms/step - loss: 0.6339 - accuracy: 0.7800 - val_loss: 2.6189 - val_accuracy: 0.1200\n",
      "Epoch 40/1000\n",
      "5/5 [==============================] - 0s 26ms/step - loss: 0.4973 - accuracy: 0.8400 - val_loss: 2.2953 - val_accuracy: 0.1500\n",
      "Epoch 41/1000\n",
      "5/5 [==============================] - 0s 26ms/step - loss: 0.4851 - accuracy: 0.8500 - val_loss: 2.2767 - val_accuracy: 0.1600\n",
      "Epoch 42/1000\n",
      "5/5 [==============================] - 0s 26ms/step - loss: 0.5517 - accuracy: 0.8000 - val_loss: 2.8098 - val_accuracy: 0.1300\n",
      "Epoch 43/1000\n",
      "5/5 [==============================] - 0s 26ms/step - loss: 0.6232 - accuracy: 0.8100 - val_loss: 3.5548 - val_accuracy: 0.1300\n",
      "Epoch 44/1000\n",
      "5/5 [==============================] - 0s 26ms/step - loss: 0.8829 - accuracy: 0.8400 - val_loss: 2.3649 - val_accuracy: 0.1800\n",
      "Epoch 45/1000\n",
      "5/5 [==============================] - 0s 26ms/step - loss: 0.3177 - accuracy: 0.8900 - val_loss: 2.4915 - val_accuracy: 0.1700\n",
      "Epoch 46/1000\n",
      "5/5 [==============================] - 0s 26ms/step - loss: 0.5723 - accuracy: 0.8200 - val_loss: 2.4987 - val_accuracy: 0.1600\n",
      "Epoch 47/1000\n",
      "5/5 [==============================] - 0s 30ms/step - loss: 0.3541 - accuracy: 0.8900 - val_loss: 1.8549 - val_accuracy: 0.3200\n",
      "Epoch 48/1000\n",
      "5/5 [==============================] - 0s 26ms/step - loss: 1.7637 - accuracy: 0.7400 - val_loss: 2.1828 - val_accuracy: 0.2600\n",
      "Epoch 49/1000\n",
      "5/5 [==============================] - 0s 26ms/step - loss: 0.2818 - accuracy: 0.9300 - val_loss: 2.1170 - val_accuracy: 0.2300\n",
      "Epoch 50/1000\n",
      "5/5 [==============================] - 0s 27ms/step - loss: 0.6023 - accuracy: 0.8700 - val_loss: 2.1422 - val_accuracy: 0.2000\n",
      "Epoch 51/1000\n",
      "5/5 [==============================] - 0s 27ms/step - loss: 0.2595 - accuracy: 0.9300 - val_loss: 2.1185 - val_accuracy: 0.2000\n",
      "Epoch 52/1000\n",
      "5/5 [==============================] - 0s 26ms/step - loss: 0.2224 - accuracy: 0.9300 - val_loss: 2.1006 - val_accuracy: 0.2000\n",
      "Epoch 53/1000\n",
      "5/5 [==============================] - 0s 27ms/step - loss: 0.2142 - accuracy: 0.9200 - val_loss: 2.1374 - val_accuracy: 0.2000\n",
      "Epoch 54/1000\n",
      "5/5 [==============================] - 0s 26ms/step - loss: 0.1716 - accuracy: 0.9600 - val_loss: 2.0397 - val_accuracy: 0.2300\n",
      "Epoch 55/1000\n",
      "5/5 [==============================] - 0s 26ms/step - loss: 0.5452 - accuracy: 0.8600 - val_loss: 2.0610 - val_accuracy: 0.2300\n",
      "Epoch 56/1000\n",
      "5/5 [==============================] - 0s 26ms/step - loss: 0.5134 - accuracy: 0.8600 - val_loss: 2.3691 - val_accuracy: 0.2300\n",
      "Epoch 57/1000\n",
      "5/5 [==============================] - 0s 27ms/step - loss: 0.2885 - accuracy: 0.8700 - val_loss: 2.0010 - val_accuracy: 0.2600\n",
      "Epoch 58/1000\n",
      "5/5 [==============================] - 0s 26ms/step - loss: 0.1313 - accuracy: 0.9600 - val_loss: 2.0155 - val_accuracy: 0.2800\n"
     ]
    },
    {
     "name": "stdout",
     "output_type": "stream",
     "text": [
      "Epoch 59/1000\n",
      "5/5 [==============================] - 0s 26ms/step - loss: 0.1717 - accuracy: 0.9500 - val_loss: 2.3717 - val_accuracy: 0.2500\n",
      "Epoch 60/1000\n",
      "5/5 [==============================] - 0s 31ms/step - loss: 0.2306 - accuracy: 0.9200 - val_loss: 1.8342 - val_accuracy: 0.3500\n",
      "Epoch 61/1000\n",
      "5/5 [==============================] - 0s 26ms/step - loss: 0.0936 - accuracy: 0.9700 - val_loss: 1.9018 - val_accuracy: 0.2500\n",
      "Epoch 62/1000\n",
      "5/5 [==============================] - 0s 26ms/step - loss: 0.1115 - accuracy: 0.9800 - val_loss: 1.8910 - val_accuracy: 0.2900\n",
      "Epoch 63/1000\n",
      "5/5 [==============================] - 0s 26ms/step - loss: 0.0636 - accuracy: 0.9800 - val_loss: 2.2081 - val_accuracy: 0.1900\n",
      "Epoch 64/1000\n",
      "5/5 [==============================] - 0s 31ms/step - loss: 0.2267 - accuracy: 0.9700 - val_loss: 1.4572 - val_accuracy: 0.4600\n",
      "Epoch 65/1000\n",
      "5/5 [==============================] - 0s 26ms/step - loss: 0.2237 - accuracy: 0.9300 - val_loss: 2.2463 - val_accuracy: 0.2300\n",
      "Epoch 66/1000\n",
      "5/5 [==============================] - 0s 26ms/step - loss: 0.6323 - accuracy: 0.9300 - val_loss: 2.3251 - val_accuracy: 0.2900\n",
      "Epoch 67/1000\n",
      "5/5 [==============================] - 0s 26ms/step - loss: 1.2726 - accuracy: 0.8400 - val_loss: 1.4210 - val_accuracy: 0.4500\n",
      "Epoch 68/1000\n",
      "5/5 [==============================] - 0s 26ms/step - loss: 0.1253 - accuracy: 0.9400 - val_loss: 1.5285 - val_accuracy: 0.4300\n",
      "Epoch 69/1000\n",
      "5/5 [==============================] - 0s 26ms/step - loss: 0.0541 - accuracy: 0.9700 - val_loss: 1.3864 - val_accuracy: 0.4600\n",
      "Epoch 70/1000\n",
      "5/5 [==============================] - 0s 30ms/step - loss: 0.0254 - accuracy: 0.9900 - val_loss: 1.3622 - val_accuracy: 0.4800\n",
      "Epoch 71/1000\n",
      "5/5 [==============================] - 0s 26ms/step - loss: 0.0088 - accuracy: 1.0000 - val_loss: 1.3302 - val_accuracy: 0.4800\n",
      "Epoch 72/1000\n",
      "5/5 [==============================] - 0s 26ms/step - loss: 0.0039 - accuracy: 1.0000 - val_loss: 1.3173 - val_accuracy: 0.4800\n",
      "Epoch 73/1000\n",
      "5/5 [==============================] - 0s 31ms/step - loss: 0.0013 - accuracy: 1.0000 - val_loss: 1.2819 - val_accuracy: 0.5000\n",
      "Epoch 74/1000\n",
      "5/5 [==============================] - 0s 31ms/step - loss: 8.1198e-04 - accuracy: 1.0000 - val_loss: 1.2564 - val_accuracy: 0.5100\n",
      "Epoch 75/1000\n",
      "5/5 [==============================] - 0s 31ms/step - loss: 3.7865e-04 - accuracy: 1.0000 - val_loss: 1.2256 - val_accuracy: 0.5200\n",
      "Epoch 76/1000\n",
      "5/5 [==============================] - 0s 27ms/step - loss: 3.3793e-04 - accuracy: 1.0000 - val_loss: 1.2005 - val_accuracy: 0.5200\n",
      "Epoch 77/1000\n",
      "5/5 [==============================] - 0s 26ms/step - loss: 0.0041 - accuracy: 1.0000 - val_loss: 1.4501 - val_accuracy: 0.4600\n",
      "Epoch 78/1000\n",
      "5/5 [==============================] - 0s 26ms/step - loss: 0.6725 - accuracy: 0.8900 - val_loss: 2.8267 - val_accuracy: 0.2300\n",
      "Epoch 79/1000\n",
      "5/5 [==============================] - 0s 26ms/step - loss: 0.6372 - accuracy: 0.8600 - val_loss: 2.4365 - val_accuracy: 0.2800\n",
      "Epoch 80/1000\n",
      "5/5 [==============================] - 0s 26ms/step - loss: 0.5058 - accuracy: 0.9700 - val_loss: 1.6927 - val_accuracy: 0.4200\n",
      "Epoch 81/1000\n",
      "5/5 [==============================] - 0s 26ms/step - loss: 0.1969 - accuracy: 0.9900 - val_loss: 2.6051 - val_accuracy: 0.4200\n",
      "Epoch 82/1000\n",
      "5/5 [==============================] - 0s 26ms/step - loss: 0.0826 - accuracy: 0.9600 - val_loss: 2.0142 - val_accuracy: 0.4200\n",
      "Epoch 83/1000\n",
      "5/5 [==============================] - 0s 31ms/step - loss: 0.4540 - accuracy: 0.9100 - val_loss: 1.0930 - val_accuracy: 0.6100\n",
      "Epoch 84/1000\n",
      "5/5 [==============================] - 0s 26ms/step - loss: 0.2591 - accuracy: 0.9300 - val_loss: 1.4284 - val_accuracy: 0.5200\n",
      "Epoch 85/1000\n",
      "5/5 [==============================] - 0s 26ms/step - loss: 0.0486 - accuracy: 1.0000 - val_loss: 1.4137 - val_accuracy: 0.5400\n",
      "Epoch 86/1000\n",
      "5/5 [==============================] - 0s 26ms/step - loss: 0.0041 - accuracy: 1.0000 - val_loss: 1.3984 - val_accuracy: 0.5400\n",
      "Epoch 87/1000\n",
      "5/5 [==============================] - 0s 26ms/step - loss: 0.0098 - accuracy: 1.0000 - val_loss: 1.4031 - val_accuracy: 0.5500\n",
      "Epoch 88/1000\n",
      "5/5 [==============================] - 0s 26ms/step - loss: 5.4257e-04 - accuracy: 1.0000 - val_loss: 1.3943 - val_accuracy: 0.5500\n",
      "Epoch 89/1000\n",
      "5/5 [==============================] - 0s 26ms/step - loss: 2.1841e-04 - accuracy: 1.0000 - val_loss: 1.3642 - val_accuracy: 0.5500\n",
      "Epoch 90/1000\n",
      "5/5 [==============================] - 0s 26ms/step - loss: 2.3314e-04 - accuracy: 1.0000 - val_loss: 1.3249 - val_accuracy: 0.5600\n",
      "Epoch 91/1000\n",
      "5/5 [==============================] - 0s 26ms/step - loss: 8.4043e-05 - accuracy: 1.0000 - val_loss: 1.2887 - val_accuracy: 0.5500\n",
      "Epoch 92/1000\n",
      "5/5 [==============================] - 0s 27ms/step - loss: 5.1049e-04 - accuracy: 1.0000 - val_loss: 1.3243 - val_accuracy: 0.5400\n",
      "Epoch 93/1000\n",
      "5/5 [==============================] - 0s 26ms/step - loss: 0.0013 - accuracy: 1.0000 - val_loss: 1.4170 - val_accuracy: 0.4600\n",
      "Epoch 94/1000\n",
      "5/5 [==============================] - 0s 30ms/step - loss: 0.0062 - accuracy: 1.0000 - val_loss: 1.3090 - val_accuracy: 0.6700\n",
      "Epoch 95/1000\n",
      "5/5 [==============================] - 0s 26ms/step - loss: 8.7208e-04 - accuracy: 1.0000 - val_loss: 1.1251 - val_accuracy: 0.6300\n",
      "Epoch 96/1000\n",
      "5/5 [==============================] - 0s 26ms/step - loss: 0.2199 - accuracy: 0.9700 - val_loss: 8.5097 - val_accuracy: 0.2100\n",
      "Epoch 97/1000\n",
      "5/5 [==============================] - 0s 26ms/step - loss: 5.2983 - accuracy: 0.6800 - val_loss: 13.4219 - val_accuracy: 0.2500\n",
      "Epoch 98/1000\n",
      "5/5 [==============================] - 0s 26ms/step - loss: 1.1275 - accuracy: 0.9300 - val_loss: 13.2834 - val_accuracy: 0.2000\n",
      "Epoch 99/1000\n",
      "5/5 [==============================] - 0s 26ms/step - loss: 1.0091 - accuracy: 0.9400 - val_loss: 3.8278 - val_accuracy: 0.3200\n",
      "Epoch 100/1000\n",
      "5/5 [==============================] - 0s 26ms/step - loss: 0.0698 - accuracy: 0.9900 - val_loss: 3.5539 - val_accuracy: 0.3500\n",
      "Epoch 101/1000\n",
      "5/5 [==============================] - 0s 26ms/step - loss: 4.2488e-04 - accuracy: 1.0000 - val_loss: 3.3648 - val_accuracy: 0.3700\n",
      "Epoch 102/1000\n",
      "5/5 [==============================] - 0s 26ms/step - loss: 7.8086e-04 - accuracy: 1.0000 - val_loss: 3.1609 - val_accuracy: 0.3800\n",
      "Epoch 103/1000\n",
      "5/5 [==============================] - 0s 26ms/step - loss: 0.0955 - accuracy: 0.9800 - val_loss: 1.8293 - val_accuracy: 0.4200\n",
      "Epoch 104/1000\n",
      "5/5 [==============================] - 0s 26ms/step - loss: 0.1102 - accuracy: 0.9800 - val_loss: 1.5166 - val_accuracy: 0.4400\n",
      "Epoch 105/1000\n",
      "5/5 [==============================] - 0s 26ms/step - loss: 0.1410 - accuracy: 0.9600 - val_loss: 1.2030 - val_accuracy: 0.4700\n",
      "Epoch 106/1000\n",
      "5/5 [==============================] - 0s 26ms/step - loss: 0.0248 - accuracy: 0.9900 - val_loss: 2.0777 - val_accuracy: 0.4300\n",
      "Epoch 107/1000\n",
      "5/5 [==============================] - 0s 27ms/step - loss: 5.7054e-04 - accuracy: 1.0000 - val_loss: 2.0108 - val_accuracy: 0.4300\n",
      "Epoch 108/1000\n",
      "5/5 [==============================] - 0s 26ms/step - loss: 3.0072e-04 - accuracy: 1.0000 - val_loss: 1.8833 - val_accuracy: 0.4400\n",
      "Epoch 109/1000\n",
      "5/5 [==============================] - 0s 26ms/step - loss: 2.3785e-04 - accuracy: 1.0000 - val_loss: 1.7693 - val_accuracy: 0.4400\n",
      "Epoch 110/1000\n",
      "5/5 [==============================] - 0s 26ms/step - loss: 0.2873 - accuracy: 0.9300 - val_loss: 7.8138 - val_accuracy: 0.3100\n",
      "Epoch 111/1000\n",
      "5/5 [==============================] - 0s 26ms/step - loss: 0.0810 - accuracy: 0.9800 - val_loss: 11.4005 - val_accuracy: 0.2500\n",
      "Epoch 112/1000\n",
      "5/5 [==============================] - 0s 26ms/step - loss: 0.0057 - accuracy: 1.0000 - val_loss: 9.9683 - val_accuracy: 0.2600\n",
      "Epoch 113/1000\n",
      "5/5 [==============================] - 0s 27ms/step - loss: 0.0014 - accuracy: 1.0000 - val_loss: 10.4565 - val_accuracy: 0.2600\n",
      "Epoch 114/1000\n",
      "5/5 [==============================] - 0s 26ms/step - loss: 3.0866e-04 - accuracy: 1.0000 - val_loss: 10.0670 - val_accuracy: 0.2600\n",
      "Epoch 115/1000\n",
      "5/5 [==============================] - 0s 26ms/step - loss: 5.0319e-05 - accuracy: 1.0000 - val_loss: 9.5866 - val_accuracy: 0.2700\n",
      "Epoch 116/1000\n"
     ]
    },
    {
     "name": "stdout",
     "output_type": "stream",
     "text": [
      "5/5 [==============================] - 0s 26ms/step - loss: 2.4630e-04 - accuracy: 1.0000 - val_loss: 9.2565 - val_accuracy: 0.2700\n",
      "Epoch 117/1000\n",
      "5/5 [==============================] - 0s 26ms/step - loss: 9.2822e-06 - accuracy: 1.0000 - val_loss: 8.8591 - val_accuracy: 0.2800\n",
      "Epoch 118/1000\n",
      "5/5 [==============================] - 0s 26ms/step - loss: 2.6841e-05 - accuracy: 1.0000 - val_loss: 7.7019 - val_accuracy: 0.3200\n",
      "Epoch 119/1000\n",
      "5/5 [==============================] - 0s 26ms/step - loss: 7.4864e-06 - accuracy: 1.0000 - val_loss: 7.3890 - val_accuracy: 0.3500\n",
      "Epoch 120/1000\n",
      "5/5 [==============================] - 0s 26ms/step - loss: 1.0494e-05 - accuracy: 1.0000 - val_loss: 7.1075 - val_accuracy: 0.3500\n",
      "Epoch 121/1000\n",
      "5/5 [==============================] - 0s 26ms/step - loss: 1.0846e-05 - accuracy: 1.0000 - val_loss: 6.7089 - val_accuracy: 0.3600\n",
      "Epoch 122/1000\n",
      "5/5 [==============================] - 0s 27ms/step - loss: 3.0624e-06 - accuracy: 1.0000 - val_loss: 6.4465 - val_accuracy: 0.3600\n",
      "Epoch 123/1000\n",
      "5/5 [==============================] - 0s 27ms/step - loss: 3.5676e-05 - accuracy: 1.0000 - val_loss: 6.3183 - val_accuracy: 0.3600\n",
      "Epoch 124/1000\n",
      "5/5 [==============================] - 0s 26ms/step - loss: 0.0209 - accuracy: 0.9900 - val_loss: 14.8390 - val_accuracy: 0.2500\n",
      "Epoch 125/1000\n",
      "5/5 [==============================] - 0s 26ms/step - loss: 3.1432 - accuracy: 0.7300 - val_loss: 2.1574 - val_accuracy: 0.3300\n",
      "Epoch 126/1000\n",
      "5/5 [==============================] - 0s 26ms/step - loss: 0.0358 - accuracy: 0.9800 - val_loss: 2.0581 - val_accuracy: 0.2600\n",
      "Epoch 127/1000\n",
      "5/5 [==============================] - 0s 26ms/step - loss: 0.0157 - accuracy: 1.0000 - val_loss: 2.1326 - val_accuracy: 0.2600\n",
      "Epoch 128/1000\n",
      "5/5 [==============================] - 0s 28ms/step - loss: 0.0208 - accuracy: 0.9900 - val_loss: 2.5249 - val_accuracy: 0.3500\n",
      "Epoch 129/1000\n",
      "5/5 [==============================] - 0s 26ms/step - loss: 1.1574 - accuracy: 0.9900 - val_loss: 10.7012 - val_accuracy: 0.3000\n",
      "Epoch 130/1000\n",
      "5/5 [==============================] - 0s 25ms/step - loss: 0.0654 - accuracy: 0.9800 - val_loss: 9.5344 - val_accuracy: 0.3100\n",
      "Epoch 131/1000\n",
      "5/5 [==============================] - 0s 25ms/step - loss: 0.0047 - accuracy: 1.0000 - val_loss: 8.7136 - val_accuracy: 0.3200\n",
      "Epoch 132/1000\n",
      "5/5 [==============================] - 0s 26ms/step - loss: 0.1820 - accuracy: 0.9700 - val_loss: 3.3018 - val_accuracy: 0.4400\n",
      "Epoch 133/1000\n",
      "5/5 [==============================] - 0s 26ms/step - loss: 0.1003 - accuracy: 0.9800 - val_loss: 4.0233 - val_accuracy: 0.4300\n",
      "Epoch 134/1000\n",
      "5/5 [==============================] - 0s 26ms/step - loss: 0.0070 - accuracy: 1.0000 - val_loss: 2.9341 - val_accuracy: 0.4600\n",
      "Epoch 135/1000\n",
      "5/5 [==============================] - 0s 26ms/step - loss: 0.0039 - accuracy: 1.0000 - val_loss: 3.1363 - val_accuracy: 0.4600\n",
      "Epoch 136/1000\n",
      "5/5 [==============================] - 0s 26ms/step - loss: 3.0177e-04 - accuracy: 1.0000 - val_loss: 2.9092 - val_accuracy: 0.4700\n",
      "Epoch 137/1000\n",
      "5/5 [==============================] - 0s 27ms/step - loss: 4.2072e-05 - accuracy: 1.0000 - val_loss: 2.6760 - val_accuracy: 0.4900\n",
      "Epoch 138/1000\n",
      "5/5 [==============================] - 0s 28ms/step - loss: 1.7798e-04 - accuracy: 1.0000 - val_loss: 2.4347 - val_accuracy: 0.4900\n",
      "Epoch 139/1000\n",
      "5/5 [==============================] - 0s 28ms/step - loss: 6.7751e-05 - accuracy: 1.0000 - val_loss: 2.2624 - val_accuracy: 0.5100\n",
      "Epoch 140/1000\n",
      "5/5 [==============================] - 0s 28ms/step - loss: 1.6420e-05 - accuracy: 1.0000 - val_loss: 2.1143 - val_accuracy: 0.5100\n",
      "Epoch 141/1000\n",
      "5/5 [==============================] - 0s 28ms/step - loss: 7.2320e-06 - accuracy: 1.0000 - val_loss: 1.9811 - val_accuracy: 0.5200\n",
      "Epoch 142/1000\n",
      "5/5 [==============================] - 0s 27ms/step - loss: 2.0712e-05 - accuracy: 1.0000 - val_loss: 1.8434 - val_accuracy: 0.5200\n",
      "Epoch 143/1000\n",
      "5/5 [==============================] - 0s 27ms/step - loss: 2.0730e-05 - accuracy: 1.0000 - val_loss: 1.6538 - val_accuracy: 0.5200\n",
      "Epoch 144/1000\n",
      "5/5 [==============================] - 0s 29ms/step - loss: 4.2970e-05 - accuracy: 1.0000 - val_loss: 1.4673 - val_accuracy: 0.5900\n",
      "5/5 [==============================] - 0s 5ms/step - loss: 1.3090 - accuracy: 0.6700\n",
      "np.shape(X_test)= (100, 480, 1)\n",
      "Accuracy=  0.6700000166893005\n"
     ]
    }
   ],
   "source": [
    "#VGG16_1D\n",
    "\n",
    "accuracy=0\n",
    "acc_crs=np.array([])\n",
    "##for i in range (10):\n",
    "##    if accuracy<0.2 :\n",
    "\n",
    "verbose, epochs, batch_size = 1, 1000, btch\n",
    "n_timesteps, n_features, n_outputs = X_train.shape[1], X_train.shape[2], y_train_cat.shape[1]\n",
    "steps_per_epoch = len(X_train)//batch_size\n",
    "validation_steps = len(X_valid)//batch_size # if you have test data\n",
    "\n",
    "\n",
    "\n",
    "model_crs = Sequential()\n",
    "#model_crs.add(Conv1D(input_shape=x_train.shape[1:],filters=64,kernel_size=9,padding=\"same\", activation=\"relu\"))\n",
    "model_crs.add(Conv1D(filters=256, kernel_size=12, strides=1, activation='relu', input_shape=(n_timesteps,n_features))) #Replaced\n",
    "model_crs.add(BatchNormalization())\n",
    "model_crs.add(MaxPooling1D(pool_size=2,strides=3))\n",
    "\n",
    "model_crs.add(Conv1D(filters=64, kernel_size=7, strides=1, padding=\"same\", activation=\"relu\"))\n",
    "model_crs.add(BatchNormalization())\n",
    "model_crs.add(MaxPooling1D(pool_size=2,strides=2))\n",
    "\n",
    "model_crs.add(Conv1D(filters=64, kernel_size=10, strides=1, padding=\"same\", activation=\"relu\"))\n",
    "model_crs.add(Conv1D(filters=256, kernel_size=5, strides=2, padding=\"same\", activation=\"relu\"))\n",
    "model_crs.add(MaxPooling1D(pool_size=2,strides=2))\n",
    "\n",
    "model_crs.add(Conv1D(filters=512, kernel_size=15, strides=1, padding=\"same\", activation=\"relu\"))\n",
    "model_crs.add(MaxPooling1D(pool_size=2,strides=2))\n",
    "\n",
    "model_crs.add(Conv1D(filters=1024, kernel_size=5, strides=1, padding=\"same\", activation=\"relu\"))\n",
    "#model_crs.add(Conv1D(filters=128, kernel_size=3, strides=1, padding=\"same\", activation=\"relu\"))\n",
    "\n",
    "\n",
    "model_crs.add(Flatten())\n",
    "model_crs.add(Dropout(0.1))\n",
    "model_crs.add(Dense(units=512,activation=\"relu\"))\n",
    "#model_crs.add(Dense(units=2048,activation=\"relu\"))\n",
    "model_crs.add(Dense(n_outputs, activation='softmax'))   #Replaced here from old Model\n",
    "\n",
    "model_crs.compile(optimizer='rmsprop', loss='categorical_crossentropy', metrics=['accuracy'])\n",
    "# fit network   #CategoricalCrossentropy #sparse_categorical_crossentropy #SparseCategoricalCrossentropy\n",
    "\n",
    "earlystopping = callbacks.EarlyStopping(monitor =\"val_accuracy\", mode =\"max\", patience = 50, restore_best_weights = True)\n",
    "\n",
    "model_crs.fit(X_train, y_train_cat, epochs=epochs, batch_size=batch_size, verbose=verbose, validation_data = (X_valid, y_valid_cat), callbacks =[earlystopping])\n",
    "\n",
    "_, accuracy = model_crs.evaluate(X_valid, y_valid_cat, batch_size=batch_size, verbose=1)\n",
    "\n",
    "print('np.shape(X_test)=',np.shape(X_test))\n",
    "\n",
    "print('Accuracy= ', accuracy)\n",
    "\n",
    "#y_pred_vgg = model_crs.predict_classes(X_test)\n"
   ]
  },
  {
   "cell_type": "code",
   "execution_count": 27,
   "metadata": {},
   "outputs": [
    {
     "name": "stdout",
     "output_type": "stream",
     "text": [
      "4/4 [==============================] - 0s 28ms/step\n",
      "array([[ 0,  1,  2,  0,  2,  1,  3,  0,  0,  1],\n",
      "       [ 0,  2,  2,  0,  0,  0,  2,  0,  0,  4],\n",
      "       [ 0,  0,  2,  0,  0,  0,  1,  0,  0,  7],\n",
      "       [ 0,  0,  0,  1,  2,  0,  0,  4,  3,  0],\n",
      "       [ 0,  0,  1,  0,  2,  1,  1,  0,  0,  5],\n",
      "       [ 0,  1,  0,  0,  0,  0,  0,  0,  0,  9],\n",
      "       [ 0,  0,  1,  0,  0,  0,  1,  0,  0,  8],\n",
      "       [ 0,  0,  2,  1,  0,  0,  1,  1,  0,  5],\n",
      "       [ 0,  2,  2,  0,  0,  0,  0,  4,  2,  0],\n",
      "       [ 0,  0,  0,  0,  0,  0,  0,  0,  0, 10]], dtype=int64)\n",
      "              precision    recall  f1-score   support\n",
      "\n",
      "           0       0.00      0.00      0.00        10\n",
      "           1       0.33      0.20      0.25        10\n",
      "           2       0.17      0.20      0.18        10\n",
      "           3       0.50      0.10      0.17        10\n",
      "           4       0.33      0.20      0.25        10\n",
      "           5       0.00      0.00      0.00        10\n",
      "           6       0.11      0.10      0.11        10\n",
      "           7       0.11      0.10      0.11        10\n",
      "           8       0.40      0.20      0.27        10\n",
      "           9       0.20      1.00      0.34        10\n",
      "\n",
      "    accuracy                           0.21       100\n",
      "   macro avg       0.22      0.21      0.17       100\n",
      "weighted avg       0.22      0.21      0.17       100\n",
      "\n"
     ]
    },
    {
     "name": "stderr",
     "output_type": "stream",
     "text": [
      "C:\\ProgramData\\Anaconda3\\lib\\site-packages\\sklearn\\metrics\\_classification.py:1248: UndefinedMetricWarning: Precision and F-score are ill-defined and being set to 0.0 in labels with no predicted samples. Use `zero_division` parameter to control this behavior.\n",
      "  _warn_prf(average, modifier, msg_start, len(result))\n",
      "C:\\ProgramData\\Anaconda3\\lib\\site-packages\\sklearn\\metrics\\_classification.py:1248: UndefinedMetricWarning: Precision and F-score are ill-defined and being set to 0.0 in labels with no predicted samples. Use `zero_division` parameter to control this behavior.\n",
      "  _warn_prf(average, modifier, msg_start, len(result))\n",
      "C:\\ProgramData\\Anaconda3\\lib\\site-packages\\sklearn\\metrics\\_classification.py:1248: UndefinedMetricWarning: Precision and F-score are ill-defined and being set to 0.0 in labels with no predicted samples. Use `zero_division` parameter to control this behavior.\n",
      "  _warn_prf(average, modifier, msg_start, len(result))\n"
     ]
    }
   ],
   "source": [
    "predict_x=model_crs.predict(X_test)              # Function 1\n",
    "\n",
    "y_pred_crs=maxindx(predict_x)                    # function from augment.py to remove 0 index predictions\n",
    "\n",
    "#y_pred_crs = model_crs.predict_classes(X_test)\n",
    "\n",
    "cm = confusion_matrix(y_test, y_pred_crs)\n",
    "fullprint(cm)\n",
    "acc3=accuracy_score(y_test, y_pred_crs)\n",
    "\n",
    "print(classification_report(y_test, y_pred_crs))\n",
    "\n",
    "#sns.heatmap(cm, annot=True)\n",
    "\n",
    "#plt.imshow(cm)"
   ]
  }
 ],
 "metadata": {
  "celltoolbar": "Raw Cell Format",
  "kernelspec": {
   "display_name": "Python 3 (ipykernel)",
   "language": "python",
   "name": "python3"
  },
  "language_info": {
   "codemirror_mode": {
    "name": "ipython",
    "version": 3
   },
   "file_extension": ".py",
   "mimetype": "text/x-python",
   "name": "python",
   "nbconvert_exporter": "python",
   "pygments_lexer": "ipython3",
   "version": "3.9.7"
  }
 },
 "nbformat": 4,
 "nbformat_minor": 4
}
