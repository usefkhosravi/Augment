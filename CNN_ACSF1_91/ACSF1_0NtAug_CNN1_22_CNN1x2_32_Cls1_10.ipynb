{
 "cells": [
  {
   "cell_type": "markdown",
   "metadata": {},
   "source": [
    "import time\n",
    "plc=1\n",
    "time.sleep(3000*plc)         #run after 1 houre = 3600 seconds"
   ]
  },
  {
   "cell_type": "code",
   "execution_count": 1,
   "metadata": {},
   "outputs": [
    {
     "data": {
      "text/html": [
       "<style>#notebook { padding-top:0px !important; } .container { width:100% !important; } .end_space { min-height:0px !important; } html, body, .container{ margin:0!important;padding:0!important;}</style>"
      ],
      "text/plain": [
       "<IPython.core.display.HTML object>"
      ]
     },
     "metadata": {},
     "output_type": "display_data"
    }
   ],
   "source": [
    "import os\n",
    "import glob\n",
    "import scipy\n",
    "import random\n",
    "import bisect\n",
    "import numpy as np\n",
    "import pandas as pd\n",
    "import seaborn as sns\n",
    "from scipy import signal\n",
    "from scipy.signal import find_peaks\n",
    "import matplotlib.pyplot as plt\n",
    "from preprocess import *                         #ماژول استخراج پنجره ها\n",
    "from data import *                          #ماژول محلی ورود داده ها\n",
    "from augment import *                            #ماژول های داده افزایی\n",
    "from lstm_cnn import *                           #ماژول های داده افزایی با lstm_cnn\n",
    "import augment\n",
    "import importlib\n",
    "importlib.reload(augment)\n",
    "import tensorflow as tf\n",
    "from tensorflow import keras\n",
    "from tensorflow.keras.layers import BatchNormalization\n",
    "from sklearn.model_selection import train_test_split\n",
    "from sklearn.neural_network import MLPClassifier\n",
    "from sklearn.datasets import make_classification\n",
    "from sklearn.metrics import confusion_matrix, accuracy_score, classification_report,recall_score,precision_score\n",
    "from tensorflow.keras import callbacks\n",
    "from tensorflow.keras import layers\n",
    "from tensorflow.keras.models import Sequential\n",
    "from tensorflow.keras.layers import Convolution2D,Conv1D,Dropout,MaxPooling1D,MaxPooling2D,Flatten,Dense\n",
    "from tensorflow.keras import backend as K\n",
    "from tensorflow.keras.utils import to_categorical\n",
    "from tensorflow.keras.models import load_model\n",
    "cwd = os.getcwd() #\n",
    "fullscrn()"
   ]
  },
  {
   "cell_type": "markdown",
   "metadata": {},
   "source": [
    "<h1><center><div style=\"direction:rtl;font-family:B Nazanin\">Importing Data</div></center></h1>"
   ]
  },
  {
   "cell_type": "code",
   "execution_count": 2,
   "metadata": {
    "scrolled": true
   },
   "outputs": [
    {
     "name": "stderr",
     "output_type": "stream",
     "text": [
      "C:\\ProgramData\\Anaconda3\\lib\\site-packages\\pandas\\util\\_decorators.py:311: ParserWarning: Falling back to the 'python' engine because the 'c' engine does not support regex separators (separators > 1 char and different from '\\s+' are interpreted as regex); you can avoid this warning by specifying engine='python'.\n",
      "  return func(*args, **kwargs)\n"
     ]
    },
    {
     "name": "stdout",
     "output_type": "stream",
     "text": [
      "first_train_shape= (100, 1461)\n",
      "first_test_shape= (100, 1461)\n",
      "classes_quantity= 10\n",
      "tr_lbls=\t {0, 1, 2, 3, 4, 5, 6, 7, 8, 9}\n",
      "Count_labels= [10 10 10 10 10 10 10 10 10]\n",
      "max(train_feature_Altitude)= 12.42995\n",
      "min(train_feature_Altitude)= -1.352876\n",
      "first_train_sample=\n",
      " [ 9.         -0.58475375 -0.58475375 ... -0.5786034   1.7327257\n",
      " -0.58473404]\n",
      "1 10\t1 10\t2 10\t3 10\t4 10\t5 10\t6 10\t7 10\t8 10\t9 10\t"
     ]
    }
   ],
   "source": [
    "rate=1460\n",
    "cls_num=10\n",
    "btch=20\n",
    "for i in range (0,cls_num):\n",
    "    vars()['ecg'+str(i)],vars()['ecg_tst'+str(i)]=ACSF1(i)\n",
    "\n",
    "os.chdir(cwd)\n",
    "clses_lens=np.array([])\n",
    "i=0                               #جمع آوری داده ها و چاپ تعداد نمونه ی هر کلاس\n",
    "ecg=np.array(ecg1)\n",
    "print(1,len(vars()['ecg'+str(1)]), end='\\t')\n",
    "clses_lens=np.append(clses_lens,len(vars()['ecg'+str(1)]))\n",
    "for i in range (1,cls_num):\n",
    "    ecg=np.concatenate((ecg,vars()['ecg'+str(i)]),axis=0)\n",
    "    clses_lens=np.append(clses_lens,len(vars()['ecg'+str(i)]))\n",
    "    print(i,len(vars()['ecg'+str(i)]), end='\\t')\n",
    "\n",
    "mx_sig=max(clses_lens)"
   ]
  },
  {
   "cell_type": "code",
   "execution_count": 3,
   "metadata": {},
   "outputs": [
    {
     "data": {
      "text/plain": [
       "(100, 1461)"
      ]
     },
     "execution_count": 3,
     "metadata": {},
     "output_type": "execute_result"
    }
   ],
   "source": [
    "np.shape(ecg)"
   ]
  },
  {
   "cell_type": "markdown",
   "metadata": {},
   "source": [
    "<h2><center><div style=\"direction:rtl;font-family:B Nazanin\">Base Train windows</div></center></h1>"
   ]
  },
  {
   "cell_type": "code",
   "execution_count": 4,
   "metadata": {},
   "outputs": [
    {
     "name": "stdout",
     "output_type": "stream",
     "text": [
      "each class and its windows =\n",
      "0 10\t1 10\t2 10\t3 10\t4 10\t5 10\t6 10\t7 10\t8 10\t9 10\t\n",
      " max = 10\n"
     ]
    }
   ],
   "source": [
    "smpl_rte=rate                                              # در ماژول ها نیز همین مقدار ثبت شده\n",
    "i=0\n",
    "windws=np.array([])\n",
    "\n",
    "for cls in range (0,cls_num):                                 #ساخت پنجره های داده های آموزش اصلی\n",
    "    vars()['wndws'+str(cls)]=np.array(vars()['ecg'+str(cls)])  \n",
    "    \n",
    "print(\"each class and its windows =\")\n",
    "\n",
    "cls_wndws=np.array([])\n",
    "for cls in range (0,cls_num):                                # آرایه ی تعداد پنجره ی هر کلاس\n",
    "    wns=len(vars()['wndws'+str(cls)])\n",
    "    cls_wndws=np.append(cls_wndws,wns)\n",
    "    print(cls, wns, end='\\t')\n",
    "\n",
    "mx_wndws=int(np.max(cls_wndws))                        # حداکثر تعداد پنجره ی موجود بین کلاس ها\n",
    "print('\\n max =', mx_wndws)"
   ]
  },
  {
   "cell_type": "raw",
   "metadata": {},
   "source": [
    "#clses=3                                   #تعیین میزان افزایش نمونه (تولید داده)\n",
    "mx_wndws=int(mx_wndws)  #mx_wndws*0.3  # =classes-1 برای بررسی الگوریتم تعداد کمی کلاس آزمایش شد\n",
    "mx_wndws=2598           #+2\n",
    "print(mx_wndws)"
   ]
  },
  {
   "cell_type": "markdown",
   "metadata": {},
   "source": [
    "<h1><center><div style=\"direction:rtl;font-family:B Nazanin\">Data Augmentation</div></center></h1>"
   ]
  },
  {
   "cell_type": "code",
   "execution_count": 5,
   "metadata": {},
   "outputs": [
    {
     "name": "stdout",
     "output_type": "stream",
     "text": [
      "Up to class  0 train shape =  (10, 1461)\n",
      "Up to class  1 train shape =  (20, 1461)\n",
      "Up to class  2 train shape =  (30, 1461)\n",
      "Up to class  3 train shape =  (40, 1461)\n",
      "Up to class  4 train shape =  (50, 1461)\n",
      "Up to class  5 train shape =  (60, 1461)\n",
      "Up to class  6 train shape =  (70, 1461)\n",
      "Up to class  7 train shape =  (80, 1461)\n",
      "Up to class  8 train shape =  (90, 1461)\n",
      "Up to class  9 train shape =  (100, 1461)\n"
     ]
    }
   ],
   "source": [
    "smpl_rte=len(wndws1[0])                                        # در ماژول ها نیز همین مقدار ثبت شده\n",
    "\n",
    "#add augmented data to base data\n",
    "xtrain=np.empty((0,len(wndws1[0])), float) \n",
    "for i in range (0,cls_num):   \n",
    "    xtrain=np.append(xtrain,vars()['wndws'+str(i)],axis=0)\n",
    "    print('Up to class ', i, 'train shape = ', np.shape(xtrain))"
   ]
  },
  {
   "cell_type": "code",
   "execution_count": 6,
   "metadata": {},
   "outputs": [
    {
     "name": "stdout",
     "output_type": "stream",
     "text": [
      "[10 10 10 10 10 10 10 10 10 10]\n"
     ]
    }
   ],
   "source": [
    "print(np.bincount(np.int16(xtrain[:,-1])))    #تعداد پنجره در هر کلاس از 0 تا 17"
   ]
  },
  {
   "cell_type": "code",
   "execution_count": 7,
   "metadata": {},
   "outputs": [
    {
     "data": {
      "text/plain": [
       "array([0., 0., 0., 0., 0., 0., 0., 0., 0., 0., 1., 1., 1., 1., 1., 1., 1.,\n",
       "       1., 1., 1., 2., 2., 2., 2., 2., 2., 2., 2., 2., 2., 3., 3., 3., 3.,\n",
       "       3., 3., 3., 3., 3., 3., 4., 4., 4., 4., 4., 4., 4., 4., 4., 4., 5.,\n",
       "       5., 5., 5., 5., 5., 5., 5., 5., 5., 6., 6., 6., 6., 6., 6., 6., 6.,\n",
       "       6., 6., 7., 7., 7., 7., 7., 7., 7., 7., 7., 7., 8., 8., 8., 8., 8.,\n",
       "       8., 8., 8., 8., 8., 9., 9., 9., 9., 9., 9., 9., 9., 9., 9.])"
      ]
     },
     "execution_count": 7,
     "metadata": {},
     "output_type": "execute_result"
    }
   ],
   "source": [
    "xtrain[:,-1]"
   ]
  },
  {
   "cell_type": "code",
   "execution_count": 8,
   "metadata": {},
   "outputs": [],
   "source": [
    "mx_aug=np.max(xtrain[:,:-1])\n",
    "mx=np.max(ecg[:,:-1])\n",
    "mn_aug=np.min(xtrain[:,:-1])\n",
    "mn=np.min(ecg[:,:-1])\n",
    "\n",
    "#for i in range (0,cls_num):             #نرمالسازی داده های افزایشی\n",
    "xtrain[:,:-1]= 2*(xtrain[:,:-1]-mn_aug)/(mx_aug - mn_aug) - 1"
   ]
  },
  {
   "cell_type": "code",
   "execution_count": 9,
   "metadata": {},
   "outputs": [
    {
     "name": "stdout",
     "output_type": "stream",
     "text": [
      "min trn = -1.0\n",
      "max trn = 1.0\n"
     ]
    }
   ],
   "source": [
    "print('min trn =', np.min(xtrain[:,:-1]))\n",
    "print('max trn =', np.max(xtrain[:,:-1]))"
   ]
  },
  {
   "cell_type": "markdown",
   "metadata": {},
   "source": [
    "<h3><center><div style=\"direction:rtl;font-family:B Nazanin\">Test Windows</div></center></h1>"
   ]
  },
  {
   "cell_type": "code",
   "execution_count": 10,
   "metadata": {},
   "outputs": [],
   "source": [
    "wndws_test=np.empty((0,len(wndws1[0])), float)\n",
    "i=0\n",
    "windws=np.array([])\n",
    "for cls in range (0,cls_num):                                 #ساخت پنجره های داده های آموزش اصلی\n",
    "    vars()['wndws_tst'+str(cls)]=np.empty((0,len(wndws1[0])), float)\n",
    "    vars()['wndws_tst'+str(cls)]=np.append(vars()['wndws_tst'+str(cls)],vars()['ecg_tst'+str(cls)],axis=0)   "
   ]
  },
  {
   "cell_type": "code",
   "execution_count": 11,
   "metadata": {},
   "outputs": [
    {
     "name": "stdout",
     "output_type": "stream",
     "text": [
      "\n",
      " cls 0  >> \n",
      "max magnitude class 0  =  7.793805500000001\n",
      "min magnitude class 0  =  -0.9384364300000007\n",
      "after normalizing >>\n",
      "max magnitude class 0  =  0.3272577771786427\n",
      "min magnitude class 0  =  -0.9398614522159678\n",
      "\n",
      " cls 1  >> \n",
      "max magnitude class 1  =  1.7608700000000006\n",
      "min magnitude class 1  =  -1.2472862\n",
      "after normalizing >>\n",
      "max magnitude class 1  =  -0.548170164812354\n",
      "min magnitude class 1  =  -0.9846780623944609\n",
      "\n",
      " cls 2  >> \n",
      "max magnitude class 2  =  1.7483563000000004\n",
      "min magnitude class 2  =  -0.9271888500000005\n",
      "after normalizing >>\n",
      "max magnitude class 2  =  -0.5499860043216098\n",
      "min magnitude class 2  =  -0.9382293370024405\n",
      "\n",
      " cls 3  >> \n",
      "max magnitude class 3  =  11.340412000000004\n",
      "min magnitude class 3  =  -0.89856476\n",
      "after normalizing >>\n",
      "max magnitude class 3  =  0.8418991867125079\n",
      "min magnitude class 3  =  -0.9340757490517545\n",
      "\n",
      " cls 4  >> \n",
      "max magnitude class 4  =  1.6795779999999993\n",
      "min magnitude class 4  =  -1.1284813\n",
      "after normalizing >>\n",
      "max magnitude class 4  =  -0.5599662942853665\n",
      "min magnitude class 4  =  -0.9674385064427279\n",
      "\n",
      " cls 5  >> \n",
      "max magnitude class 5  =  1.7612749000000008\n",
      "min magnitude class 5  =  -1.3068457000000018\n",
      "after normalizing >>\n",
      "max magnitude class 5  =  -0.5481114105336595\n",
      "min magnitude class 5  =  -0.9933206296009252\n",
      "\n",
      " cls 6  >> \n",
      "max magnitude class 6  =  1.7680566000000004\n",
      "min magnitude class 6  =  -0.7539090300000013\n",
      "after normalizing >>\n",
      "max magnitude class 6  =  -0.5471273307810748\n",
      "min magnitude class 6  =  -0.913085027700415\n",
      "\n",
      " cls 7  >> \n",
      "max magnitude class 7  =  10.394133\n",
      "min magnitude class 7  =  -1.3769185000000002\n",
      "after normalizing >>\n",
      "max magnitude class 7  =  0.7045864179087802\n",
      "min magnitude class 7  =  -1.003488762028919\n",
      "\n",
      " cls 8  >> \n",
      "max magnitude class 8  =  8.6199938\n",
      "min magnitude class 8  =  -0.89983013\n",
      "after normalizing >>\n",
      "max magnitude class 8  =  0.4471444100070625\n",
      "min magnitude class 8  =  -0.9342593645163915\n",
      "\n",
      " cls 9  >> \n",
      "max magnitude class 9  =  1.7578901999999998\n",
      "min magnitude class 9  =  -0.6056516500000003\n",
      "after normalizing >>\n",
      "max magnitude class 9  =  -0.5486025579950002\n",
      "min magnitude class 9  =  -0.8915716776806148\n",
      "each class and its windows =\n",
      "0 10\t1 10\t2 10\t3 10\t4 10\t5 10\t6 10\t7 10\t8 10\t9 10\t\n",
      " max instance in classes of test windows = 10\n"
     ]
    }
   ],
   "source": [
    "#print(np.max(wndws_tst))\n",
    "for i in range (0,cls_num):                # Normalization test windows\n",
    "    cls=i\n",
    "    print('\\n cls', i, ' >> ')\n",
    "    print('max magnitude class', i , ' = ' ,np.max(vars()['wndws_tst'+str(cls)][:,:-1]))\n",
    "    print('min magnitude class', i , ' = ' ,np.min(vars()['wndws_tst'+str(cls)][:,:-1]))\n",
    "\n",
    "    vars()['wndws_tst'+str(i)][:,:-1]= 2*(vars()['wndws_tst'+str(i)][:,:-1]-mn_aug)/(mx_aug - mn_aug) - 1\n",
    "    \n",
    "    print('after normalizing >>')\n",
    "    print('max magnitude class', i , ' = ' ,np.max(vars()['wndws_tst'+str(cls)][:,:-1]))\n",
    "    print('min magnitude class', i , ' = ' ,np.min(vars()['wndws_tst'+str(cls)][:,:-1]))\n",
    "    \n",
    "print(\"each class and its windows =\")                    #تجمیع کلاس های تست\n",
    "cls_wndws=np.array([])\n",
    "for cls in range (0,cls_num):                                # آرایه ی تعداد پنجره ی هر کلاس\n",
    "    wns=len(vars()['wndws_tst'+str(cls)])\n",
    "    cls_wndws=np.append(cls_wndws,wns)\n",
    "    print(cls, wns, end='\\t')\n",
    "    wndws_test=np.append(wndws_test,vars()['wndws_tst'+str(cls)],axis=0)\n",
    "    \n",
    "mx_wndws=int(np.max(cls_wndws))                        # حداکثر تعداد پنجره ی موجود بین کلاس ها\n",
    "print('\\n max instance in classes of test windows =', mx_wndws)"
   ]
  },
  {
   "cell_type": "code",
   "execution_count": 12,
   "metadata": {},
   "outputs": [
    {
     "name": "stdout",
     "output_type": "stream",
     "text": [
      "min tst = -1.003488762028919\n",
      "max tst = 0.8418991867125079\n"
     ]
    }
   ],
   "source": [
    "print('min tst =', np.min(wndws_test[:,:-1]))\n",
    "print('max tst =', np.max(wndws_test[:,:-1]))"
   ]
  },
  {
   "cell_type": "code",
   "execution_count": 13,
   "metadata": {},
   "outputs": [
    {
     "data": {
      "text/plain": [
       "100"
      ]
     },
     "execution_count": 13,
     "metadata": {},
     "output_type": "execute_result"
    }
   ],
   "source": [
    "len(wndws_test)"
   ]
  },
  {
   "cell_type": "code",
   "execution_count": 14,
   "metadata": {},
   "outputs": [
    {
     "data": {
      "text/plain": [
       "(100, 1461)"
      ]
     },
     "execution_count": 14,
     "metadata": {},
     "output_type": "execute_result"
    }
   ],
   "source": [
    "np.shape(wndws_test)"
   ]
  },
  {
   "cell_type": "code",
   "execution_count": 15,
   "metadata": {},
   "outputs": [],
   "source": [
    "Xtest=wndws_test[:,:-1]\n",
    "ytest=np.int16(wndws_test[:,-1])"
   ]
  },
  {
   "cell_type": "code",
   "execution_count": 16,
   "metadata": {},
   "outputs": [
    {
     "name": "stdout",
     "output_type": "stream",
     "text": [
      "array([0, 0, 0, 0, 0, 0, 0, 0, 0, 0, 1, 1, 1, 1, 1, 1, 1, 1, 1, 1, 2, 2,\n",
      "       2, 2, 2, 2, 2, 2, 2, 2, 3, 3, 3, 3, 3, 3, 3, 3, 3, 3, 4, 4, 4, 4,\n",
      "       4, 4, 4, 4, 4, 4, 5, 5, 5, 5, 5, 5, 5, 5, 5, 5, 6, 6, 6, 6, 6, 6,\n",
      "       6, 6, 6, 6, 7, 7, 7, 7, 7, 7, 7, 7, 7, 7, 8, 8, 8, 8, 8, 8, 8, 8,\n",
      "       8, 8, 9, 9, 9, 9, 9, 9, 9, 9, 9, 9], dtype=int16)\n"
     ]
    }
   ],
   "source": [
    "fullprint(ytest)"
   ]
  },
  {
   "cell_type": "markdown",
   "metadata": {},
   "source": [
    "<h3><center><div style=\"direction:rtl;font-family:B Nazanin\">Train Windows</div></center></h1>"
   ]
  },
  {
   "cell_type": "code",
   "execution_count": 17,
   "metadata": {},
   "outputs": [
    {
     "data": {
      "text/plain": [
       "'\\nytestt=np.int32(np.array([ytest]).T)\\ntestx=np.concatenate((Xtest, ytestt), axis=1)\\ntestx=np.random.permutation(testx)\\nXtest=np.int32(testx[:,:-1])\\nytest=np.int32(testx[:,-1])'"
      ]
     },
     "execution_count": 17,
     "metadata": {},
     "output_type": "execute_result"
    }
   ],
   "source": [
    "#ytraint=np.int32(np.array([ytrain]).T)\n",
    "#trainx=np.concatenate((Xtrain, ytraint), axis=1)\n",
    "trainx=np.random.permutation(xtrain)\n",
    "Xtrain=np.array(trainx[:,:-1])\n",
    "ytrain=np.int16(trainx[:,-1])\n",
    "'''\n",
    "ytestt=np.int32(np.array([ytest]).T)\n",
    "testx=np.concatenate((Xtest, ytestt), axis=1)\n",
    "testx=np.random.permutation(testx)\n",
    "Xtest=np.int32(testx[:,:-1])\n",
    "ytest=np.int32(testx[:,-1])'''"
   ]
  },
  {
   "cell_type": "code",
   "execution_count": 18,
   "metadata": {},
   "outputs": [
    {
     "data": {
      "text/plain": [
       "(10, 1461)"
      ]
     },
     "execution_count": 18,
     "metadata": {},
     "output_type": "execute_result"
    }
   ],
   "source": [
    "np.shape(wndws1)"
   ]
  },
  {
   "cell_type": "markdown",
   "metadata": {},
   "source": [
    "<h3><center><div style=\"direction:rtl;font-family:B Nazanin\">Validation Windows</div></center></h1>"
   ]
  },
  {
   "cell_type": "code",
   "execution_count": 19,
   "metadata": {},
   "outputs": [],
   "source": [
    "Xvalid=np.array(Xtrain)\n",
    "yvalid=np.array(ytrain)"
   ]
  },
  {
   "cell_type": "markdown",
   "metadata": {},
   "source": [
    "<h1><center><div style=\"direction:rtl;font-family:B Nazanin\">CNN And UnBalanced RAW Data</div></center></h1>\n",
    "<h1><center><div style=\"direction:rtl;font-family:Arial\">Cross Entropy Loss Function</div></center></h1>"
   ]
  },
  {
   "cell_type": "code",
   "execution_count": 20,
   "metadata": {
    "scrolled": true
   },
   "outputs": [
    {
     "name": "stdout",
     "output_type": "stream",
     "text": [
      "X_train =>  (100, 1460)\n",
      "y_train =>  (100,)\n",
      "X_test  =>  (100, 1460)\n",
      "y_test  =>  (100,)\n",
      "X_valid  =>  (100, 1460)\n",
      "y_valid  =>  (100,)\n"
     ]
    }
   ],
   "source": [
    "X_train=np.array(Xtrain)\n",
    "y_train=np.array(ytrain)\n",
    "X_test=np.array(Xtest)\n",
    "y_test=np.array(ytest)\n",
    "X_valid=np.array(Xtrain)\n",
    "y_valid=np.array(ytrain)\n",
    "print('X_train => ', X_train.shape)\n",
    "print('y_train => ', y_train.shape)\n",
    "print('X_test  => ', X_test.shape)\n",
    "print('y_test  => ', y_test.shape)\n",
    "print('X_valid  => ', X_valid.shape)\n",
    "print('y_valid  => ', y_valid.shape)"
   ]
  },
  {
   "cell_type": "code",
   "execution_count": 21,
   "metadata": {},
   "outputs": [],
   "source": [
    "y_train=np.array(y_train+1)\n",
    "y_test=np.array(y_test+1)\n",
    "y_valid=np.array(y_valid+1)"
   ]
  },
  {
   "cell_type": "code",
   "execution_count": 22,
   "metadata": {},
   "outputs": [],
   "source": [
    "y_train_cat=to_categorical(y_train)\n",
    "y_valid_cat=to_categorical(y_valid)\n",
    "y_test_cat=to_categorical(y_test)\n",
    "\n",
    "\n",
    "X_train = np.expand_dims(X_train, axis=2)\n",
    "X_valid = np.expand_dims(X_valid, axis=2)\n",
    "X_test = np.expand_dims(X_test, axis=2)\n",
    "#y_train=np.transpose([y_train])"
   ]
  },
  {
   "cell_type": "code",
   "execution_count": 23,
   "metadata": {
    "scrolled": true
   },
   "outputs": [
    {
     "name": "stdout",
     "output_type": "stream",
     "text": [
      "Epoch 1/1000\n",
      "5/5 [==============================] - 3s 62ms/step - loss: 2.6561 - accuracy: 0.0600 - val_loss: 2.3700 - val_accuracy: 0.1400\n",
      "Epoch 2/1000\n",
      "5/5 [==============================] - 0s 18ms/step - loss: 2.3807 - accuracy: 0.0900 - val_loss: 2.3421 - val_accuracy: 0.1000\n",
      "Epoch 3/1000\n",
      "5/5 [==============================] - 0s 23ms/step - loss: 2.3613 - accuracy: 0.1200 - val_loss: 2.3113 - val_accuracy: 0.2000\n",
      "Epoch 4/1000\n",
      "5/5 [==============================] - 0s 18ms/step - loss: 2.3250 - accuracy: 0.1200 - val_loss: 2.2138 - val_accuracy: 0.1100\n",
      "Epoch 5/1000\n",
      "5/5 [==============================] - 0s 23ms/step - loss: 2.2187 - accuracy: 0.1400 - val_loss: 1.9489 - val_accuracy: 0.3100\n",
      "Epoch 6/1000\n",
      "5/5 [==============================] - 0s 18ms/step - loss: 2.0185 - accuracy: 0.2500 - val_loss: 1.8063 - val_accuracy: 0.2900\n",
      "Epoch 7/1000\n",
      "5/5 [==============================] - 0s 22ms/step - loss: 1.8388 - accuracy: 0.2800 - val_loss: 1.7053 - val_accuracy: 0.3300\n",
      "Epoch 8/1000\n",
      "5/5 [==============================] - 0s 18ms/step - loss: 1.7287 - accuracy: 0.2800 - val_loss: 1.6772 - val_accuracy: 0.3300\n",
      "Epoch 9/1000\n",
      "5/5 [==============================] - 0s 18ms/step - loss: 1.7360 - accuracy: 0.3300 - val_loss: 1.7001 - val_accuracy: 0.3000\n",
      "Epoch 10/1000\n",
      "5/5 [==============================] - 0s 22ms/step - loss: 1.7944 - accuracy: 0.2600 - val_loss: 1.6631 - val_accuracy: 0.3400\n",
      "Epoch 11/1000\n",
      "5/5 [==============================] - 0s 18ms/step - loss: 1.6861 - accuracy: 0.3000 - val_loss: 1.6426 - val_accuracy: 0.3400\n",
      "Epoch 12/1000\n",
      "5/5 [==============================] - 0s 18ms/step - loss: 1.6734 - accuracy: 0.3300 - val_loss: 1.6359 - val_accuracy: 0.3400\n",
      "Epoch 13/1000\n",
      "5/5 [==============================] - 0s 18ms/step - loss: 1.6828 - accuracy: 0.3100 - val_loss: 2.1348 - val_accuracy: 0.2500\n",
      "Epoch 14/1000\n",
      "5/5 [==============================] - 0s 18ms/step - loss: 1.7818 - accuracy: 0.2700 - val_loss: 1.6402 - val_accuracy: 0.3400\n",
      "Epoch 15/1000\n",
      "5/5 [==============================] - 0s 18ms/step - loss: 1.6927 - accuracy: 0.3300 - val_loss: 1.6361 - val_accuracy: 0.3400\n",
      "Epoch 16/1000\n",
      "5/5 [==============================] - 0s 18ms/step - loss: 1.6583 - accuracy: 0.3000 - val_loss: 2.0338 - val_accuracy: 0.2900\n",
      "Epoch 17/1000\n",
      "5/5 [==============================] - 0s 18ms/step - loss: 1.7411 - accuracy: 0.3500 - val_loss: 1.6511 - val_accuracy: 0.3400\n",
      "Epoch 18/1000\n",
      "5/5 [==============================] - 0s 18ms/step - loss: 1.6626 - accuracy: 0.3300 - val_loss: 1.6313 - val_accuracy: 0.3400\n",
      "Epoch 19/1000\n",
      "5/5 [==============================] - 0s 18ms/step - loss: 1.6658 - accuracy: 0.3000 - val_loss: 1.6350 - val_accuracy: 0.3400\n",
      "Epoch 20/1000\n",
      "5/5 [==============================] - 0s 18ms/step - loss: 1.6493 - accuracy: 0.3100 - val_loss: 1.6306 - val_accuracy: 0.3400\n",
      "Epoch 21/1000\n",
      "5/5 [==============================] - 0s 18ms/step - loss: 1.6479 - accuracy: 0.2800 - val_loss: 1.6256 - val_accuracy: 0.3400\n",
      "Epoch 22/1000\n",
      "5/5 [==============================] - 0s 22ms/step - loss: 1.6581 - accuracy: 0.3000 - val_loss: 1.6233 - val_accuracy: 0.3500\n",
      "Epoch 23/1000\n",
      "5/5 [==============================] - 0s 18ms/step - loss: 1.6483 - accuracy: 0.3100 - val_loss: 1.6155 - val_accuracy: 0.3500\n",
      "Epoch 24/1000\n",
      "5/5 [==============================] - 0s 18ms/step - loss: 6.2645 - accuracy: 0.3300 - val_loss: 1.6249 - val_accuracy: 0.3400\n",
      "Epoch 25/1000\n",
      "5/5 [==============================] - 0s 19ms/step - loss: 1.6649 - accuracy: 0.2800 - val_loss: 1.6131 - val_accuracy: 0.3500\n",
      "Epoch 26/1000\n",
      "5/5 [==============================] - 0s 18ms/step - loss: 1.6360 - accuracy: 0.3200 - val_loss: 1.5965 - val_accuracy: 0.3500\n",
      "Epoch 27/1000\n",
      "5/5 [==============================] - 0s 23ms/step - loss: 1.6393 - accuracy: 0.3200 - val_loss: 1.6053 - val_accuracy: 0.3600\n",
      "Epoch 28/1000\n",
      "5/5 [==============================] - 0s 18ms/step - loss: 1.6116 - accuracy: 0.4000 - val_loss: 1.5781 - val_accuracy: 0.3600\n",
      "Epoch 29/1000\n",
      "5/5 [==============================] - 0s 23ms/step - loss: 1.5712 - accuracy: 0.3700 - val_loss: 1.5288 - val_accuracy: 0.3700\n",
      "Epoch 30/1000\n",
      "5/5 [==============================] - 0s 22ms/step - loss: 1.5288 - accuracy: 0.4000 - val_loss: 1.4552 - val_accuracy: 0.4100\n",
      "Epoch 31/1000\n",
      "5/5 [==============================] - 0s 18ms/step - loss: 1.6240 - accuracy: 0.3600 - val_loss: 1.5333 - val_accuracy: 0.3700\n",
      "Epoch 32/1000\n",
      "5/5 [==============================] - 0s 24ms/step - loss: 1.5396 - accuracy: 0.3200 - val_loss: 1.4489 - val_accuracy: 0.4700\n",
      "Epoch 33/1000\n",
      "5/5 [==============================] - 0s 20ms/step - loss: 1.6120 - accuracy: 0.3500 - val_loss: 1.4878 - val_accuracy: 0.4400\n",
      "Epoch 34/1000\n",
      "5/5 [==============================] - 0s 25ms/step - loss: 1.5299 - accuracy: 0.3800 - val_loss: 1.3866 - val_accuracy: 0.4800\n",
      "Epoch 35/1000\n",
      "5/5 [==============================] - 0s 22ms/step - loss: 1.5049 - accuracy: 0.3800 - val_loss: 1.3403 - val_accuracy: 0.5100\n",
      "Epoch 36/1000\n",
      "5/5 [==============================] - 0s 19ms/step - loss: 1.4507 - accuracy: 0.4500 - val_loss: 1.3636 - val_accuracy: 0.4300\n",
      "Epoch 37/1000\n",
      "5/5 [==============================] - 0s 20ms/step - loss: 1.7501 - accuracy: 0.3600 - val_loss: 1.7586 - val_accuracy: 0.3300\n",
      "Epoch 38/1000\n",
      "5/5 [==============================] - 0s 18ms/step - loss: 1.5644 - accuracy: 0.3500 - val_loss: 1.3860 - val_accuracy: 0.4700\n",
      "Epoch 39/1000\n",
      "5/5 [==============================] - 0s 18ms/step - loss: 1.4000 - accuracy: 0.4500 - val_loss: 1.4700 - val_accuracy: 0.4200\n",
      "Epoch 40/1000\n",
      "5/5 [==============================] - 0s 18ms/step - loss: 1.3976 - accuracy: 0.4200 - val_loss: 1.2681 - val_accuracy: 0.4900\n",
      "Epoch 41/1000\n",
      "5/5 [==============================] - 0s 18ms/step - loss: 1.5762 - accuracy: 0.4200 - val_loss: 1.4953 - val_accuracy: 0.3700\n",
      "Epoch 42/1000\n",
      "5/5 [==============================] - 0s 18ms/step - loss: 1.4346 - accuracy: 0.4400 - val_loss: 1.3982 - val_accuracy: 0.4200\n",
      "Epoch 43/1000\n",
      "5/5 [==============================] - 0s 18ms/step - loss: 1.3574 - accuracy: 0.4300 - val_loss: 1.4880 - val_accuracy: 0.3700\n",
      "Epoch 44/1000\n",
      "5/5 [==============================] - 0s 23ms/step - loss: 1.5439 - accuracy: 0.3700 - val_loss: 1.3763 - val_accuracy: 0.5200\n",
      "Epoch 45/1000\n",
      "5/5 [==============================] - 0s 18ms/step - loss: 1.3050 - accuracy: 0.4400 - val_loss: 1.8458 - val_accuracy: 0.3900\n",
      "Epoch 46/1000\n",
      "5/5 [==============================] - 0s 18ms/step - loss: 1.9338 - accuracy: 0.3500 - val_loss: 1.3986 - val_accuracy: 0.4800\n",
      "Epoch 47/1000\n",
      "5/5 [==============================] - 0s 24ms/step - loss: 1.3712 - accuracy: 0.4900 - val_loss: 1.2220 - val_accuracy: 0.5600\n",
      "Epoch 48/1000\n",
      "5/5 [==============================] - 0s 18ms/step - loss: 1.1586 - accuracy: 0.5600 - val_loss: 1.0770 - val_accuracy: 0.5100\n",
      "Epoch 49/1000\n",
      "5/5 [==============================] - 0s 23ms/step - loss: 1.4991 - accuracy: 0.4000 - val_loss: 1.2586 - val_accuracy: 0.5700\n",
      "Epoch 50/1000\n",
      "5/5 [==============================] - 0s 19ms/step - loss: 1.2559 - accuracy: 0.5200 - val_loss: 1.2322 - val_accuracy: 0.4700\n",
      "Epoch 51/1000\n",
      "5/5 [==============================] - 0s 23ms/step - loss: 1.2544 - accuracy: 0.4900 - val_loss: 1.0770 - val_accuracy: 0.6200\n",
      "Epoch 52/1000\n",
      "5/5 [==============================] - 0s 18ms/step - loss: 1.2646 - accuracy: 0.5200 - val_loss: 1.1006 - val_accuracy: 0.5200\n",
      "Epoch 53/1000\n",
      "5/5 [==============================] - 0s 22ms/step - loss: 0.9872 - accuracy: 0.6100 - val_loss: 0.8349 - val_accuracy: 0.7500\n",
      "Epoch 54/1000\n",
      "5/5 [==============================] - 0s 19ms/step - loss: 1.4188 - accuracy: 0.5000 - val_loss: 1.3633 - val_accuracy: 0.5500\n",
      "Epoch 55/1000\n",
      "5/5 [==============================] - 0s 19ms/step - loss: 1.6419 - accuracy: 0.5100 - val_loss: 0.9705 - val_accuracy: 0.6500\n",
      "Epoch 56/1000\n",
      "5/5 [==============================] - 0s 19ms/step - loss: 1.1346 - accuracy: 0.6200 - val_loss: 1.3007 - val_accuracy: 0.4600\n",
      "Epoch 57/1000\n",
      "5/5 [==============================] - 0s 18ms/step - loss: 1.2823 - accuracy: 0.5000 - val_loss: 0.9072 - val_accuracy: 0.7000\n",
      "Epoch 58/1000\n",
      "5/5 [==============================] - 0s 18ms/step - loss: 0.8968 - accuracy: 0.5700 - val_loss: 0.8527 - val_accuracy: 0.6500\n"
     ]
    },
    {
     "name": "stdout",
     "output_type": "stream",
     "text": [
      "Epoch 59/1000\n",
      "5/5 [==============================] - 0s 19ms/step - loss: 0.8653 - accuracy: 0.6400 - val_loss: 0.7377 - val_accuracy: 0.6900\n",
      "Epoch 60/1000\n",
      "5/5 [==============================] - 0s 19ms/step - loss: 1.1994 - accuracy: 0.5500 - val_loss: 1.0032 - val_accuracy: 0.6600\n",
      "Epoch 61/1000\n",
      "5/5 [==============================] - 0s 19ms/step - loss: 0.9837 - accuracy: 0.6300 - val_loss: 1.1130 - val_accuracy: 0.5400\n",
      "Epoch 62/1000\n",
      "5/5 [==============================] - 0s 18ms/step - loss: 0.9163 - accuracy: 0.6500 - val_loss: 1.1292 - val_accuracy: 0.6400\n",
      "Epoch 63/1000\n",
      "5/5 [==============================] - 0s 19ms/step - loss: 0.8683 - accuracy: 0.6600 - val_loss: 0.7275 - val_accuracy: 0.7200\n",
      "Epoch 64/1000\n",
      "5/5 [==============================] - 0s 18ms/step - loss: 0.9069 - accuracy: 0.5900 - val_loss: 0.7778 - val_accuracy: 0.7100\n",
      "Epoch 65/1000\n",
      "5/5 [==============================] - 0s 19ms/step - loss: 1.0424 - accuracy: 0.6300 - val_loss: 0.9978 - val_accuracy: 0.7200\n",
      "Epoch 66/1000\n",
      "5/5 [==============================] - 0s 18ms/step - loss: 1.0967 - accuracy: 0.7300 - val_loss: 0.8957 - val_accuracy: 0.6100\n",
      "Epoch 67/1000\n",
      "5/5 [==============================] - 0s 18ms/step - loss: 0.7453 - accuracy: 0.6500 - val_loss: 0.8086 - val_accuracy: 0.6500\n",
      "Epoch 68/1000\n",
      "5/5 [==============================] - 0s 23ms/step - loss: 0.8592 - accuracy: 0.6200 - val_loss: 0.7026 - val_accuracy: 0.7700\n",
      "Epoch 69/1000\n",
      "5/5 [==============================] - 0s 18ms/step - loss: 1.0247 - accuracy: 0.5600 - val_loss: 0.7853 - val_accuracy: 0.6900\n",
      "Epoch 70/1000\n",
      "5/5 [==============================] - 0s 19ms/step - loss: 0.7471 - accuracy: 0.7300 - val_loss: 0.6351 - val_accuracy: 0.7600\n",
      "Epoch 71/1000\n",
      "5/5 [==============================] - 0s 18ms/step - loss: 0.9979 - accuracy: 0.5800 - val_loss: 0.6856 - val_accuracy: 0.7700\n",
      "Epoch 72/1000\n",
      "5/5 [==============================] - 0s 19ms/step - loss: 0.6938 - accuracy: 0.7200 - val_loss: 0.6709 - val_accuracy: 0.7400\n",
      "Epoch 73/1000\n",
      "5/5 [==============================] - 0s 23ms/step - loss: 0.7191 - accuracy: 0.6600 - val_loss: 0.6099 - val_accuracy: 0.8200\n",
      "Epoch 74/1000\n",
      "5/5 [==============================] - 0s 18ms/step - loss: 0.6618 - accuracy: 0.7000 - val_loss: 0.5804 - val_accuracy: 0.7300\n",
      "Epoch 75/1000\n",
      "5/5 [==============================] - 0s 19ms/step - loss: 0.8274 - accuracy: 0.6600 - val_loss: 0.7635 - val_accuracy: 0.6800\n",
      "Epoch 76/1000\n",
      "5/5 [==============================] - 0s 19ms/step - loss: 0.7325 - accuracy: 0.7100 - val_loss: 0.8475 - val_accuracy: 0.6100\n",
      "Epoch 77/1000\n",
      "5/5 [==============================] - 0s 19ms/step - loss: 0.7101 - accuracy: 0.7200 - val_loss: 0.5416 - val_accuracy: 0.8100\n",
      "Epoch 78/1000\n",
      "5/5 [==============================] - 0s 19ms/step - loss: 0.8929 - accuracy: 0.7000 - val_loss: 0.6993 - val_accuracy: 0.6700\n",
      "Epoch 79/1000\n",
      "5/5 [==============================] - 0s 18ms/step - loss: 0.6204 - accuracy: 0.7700 - val_loss: 0.7200 - val_accuracy: 0.7200\n",
      "Epoch 80/1000\n",
      "5/5 [==============================] - 0s 19ms/step - loss: 0.8418 - accuracy: 0.6800 - val_loss: 0.6781 - val_accuracy: 0.7700\n",
      "Epoch 81/1000\n",
      "5/5 [==============================] - 0s 19ms/step - loss: 0.6320 - accuracy: 0.7200 - val_loss: 0.6132 - val_accuracy: 0.7700\n",
      "Epoch 82/1000\n",
      "5/5 [==============================] - 0s 18ms/step - loss: 0.6416 - accuracy: 0.7800 - val_loss: 0.6119 - val_accuracy: 0.7600\n",
      "Epoch 83/1000\n",
      "5/5 [==============================] - 0s 18ms/step - loss: 0.6790 - accuracy: 0.7200 - val_loss: 0.6401 - val_accuracy: 0.7700\n",
      "Epoch 84/1000\n",
      "5/5 [==============================] - 0s 19ms/step - loss: 0.6014 - accuracy: 0.7800 - val_loss: 0.7847 - val_accuracy: 0.6800\n",
      "Epoch 85/1000\n",
      "5/5 [==============================] - 0s 18ms/step - loss: 0.6248 - accuracy: 0.7300 - val_loss: 0.6559 - val_accuracy: 0.7100\n",
      "Epoch 86/1000\n",
      "5/5 [==============================] - 0s 18ms/step - loss: 0.6608 - accuracy: 0.7100 - val_loss: 0.5455 - val_accuracy: 0.8200\n",
      "Epoch 87/1000\n",
      "5/5 [==============================] - 0s 18ms/step - loss: 0.7101 - accuracy: 0.7300 - val_loss: 0.5751 - val_accuracy: 0.8100\n",
      "Epoch 88/1000\n",
      "5/5 [==============================] - 0s 19ms/step - loss: 0.5701 - accuracy: 0.7800 - val_loss: 0.5109 - val_accuracy: 0.7600\n",
      "Epoch 89/1000\n",
      "5/5 [==============================] - 0s 18ms/step - loss: 0.6637 - accuracy: 0.7300 - val_loss: 0.4704 - val_accuracy: 0.8200\n",
      "Epoch 90/1000\n",
      "5/5 [==============================] - 0s 18ms/step - loss: 0.5617 - accuracy: 0.7800 - val_loss: 0.5617 - val_accuracy: 0.7700\n",
      "Epoch 91/1000\n",
      "5/5 [==============================] - 0s 18ms/step - loss: 0.5844 - accuracy: 0.8000 - val_loss: 0.4628 - val_accuracy: 0.8200\n",
      "Epoch 92/1000\n",
      "5/5 [==============================] - 0s 19ms/step - loss: 0.5752 - accuracy: 0.8000 - val_loss: 0.6722 - val_accuracy: 0.7900\n",
      "Epoch 93/1000\n",
      "5/5 [==============================] - 0s 20ms/step - loss: 0.8254 - accuracy: 0.7200 - val_loss: 0.4983 - val_accuracy: 0.8100\n",
      "5/5 [==============================] - 0s 3ms/step - loss: 0.6099 - accuracy: 0.8200\n",
      "np.shape(X_test)= (100, 1460, 1)\n",
      "Model: \"sequential\"\n",
      "_________________________________________________________________\n",
      " Layer (type)                Output Shape              Param #   \n",
      "=================================================================\n",
      " conv1d (Conv1D)             (None, 1458, 32)          128       \n",
      "                                                                 \n",
      " conv1d_1 (Conv1D)           (None, 1456, 64)          6208      \n",
      "                                                                 \n",
      " max_pooling1d (MaxPooling1D  (None, 485, 64)          0         \n",
      " )                                                               \n",
      "                                                                 \n",
      " conv1d_2 (Conv1D)           (None, 483, 128)          24704     \n",
      "                                                                 \n",
      " max_pooling1d_1 (MaxPooling  (None, 161, 128)         0         \n",
      " 1D)                                                             \n",
      "                                                                 \n",
      " conv1d_3 (Conv1D)           (None, 159, 128)          49280     \n",
      "                                                                 \n",
      " max_pooling1d_2 (MaxPooling  (None, 53, 128)          0         \n",
      " 1D)                                                             \n",
      "                                                                 \n",
      " conv1d_4 (Conv1D)           (None, 51, 256)           98560     \n",
      "                                                                 \n",
      " max_pooling1d_3 (MaxPooling  (None, 17, 256)          0         \n",
      " 1D)                                                             \n",
      "                                                                 \n",
      " flatten (Flatten)           (None, 4352)              0         \n",
      "                                                                 \n",
      " dense (Dense)               (None, 2000)              8706000   \n",
      "                                                                 \n",
      " dense_1 (Dense)             (None, 11)                22011     \n",
      "                                                                 \n",
      "=================================================================\n",
      "Total params: 8,906,891\n",
      "Trainable params: 8,906,891\n",
      "Non-trainable params: 0\n",
      "_________________________________________________________________\n",
      "Accuracy=  0.8199999928474426\n"
     ]
    }
   ],
   "source": [
    "accuracy=0\n",
    "acc_crs=np.array([])\n",
    "##for i in range (10):\n",
    "##    if accuracy<0.2 :\n",
    "\n",
    "verbose, epochs, batch_size = 1, 1000, btch\n",
    "n_timesteps, n_features, n_outputs = X_train.shape[1], X_train.shape[2], y_train_cat.shape[1]\n",
    "steps_per_epoch = len(X_train)//batch_size\n",
    "validation_steps = len(X_valid)//batch_size # if you have test data\n",
    "\n",
    "model_crs = Sequential()\n",
    "BatchNormalization()\n",
    "model_crs.add(Conv1D(filters=32, kernel_size=3, activation='relu', input_shape=(n_timesteps,n_features)))\n",
    "#model_crs.add(MaxPooling1D(pool_size=3))\n",
    "BatchNormalization()\n",
    "model_crs.add(Conv1D(filters=64, kernel_size=3, activation='relu'))\n",
    "#model_crs.add(Dropout(0.5))\n",
    "model_crs.add(MaxPooling1D(pool_size=3))\n",
    "BatchNormalization()\n",
    "model_crs.add(Conv1D(filters=128, kernel_size=3, activation='relu'))\n",
    "model_crs.add(MaxPooling1D(pool_size=3))\n",
    "BatchNormalization()\n",
    "model_crs.add(Conv1D(filters=128, kernel_size=3, activation='relu'))\n",
    "model_crs.add(MaxPooling1D(pool_size=3))\n",
    "BatchNormalization()\n",
    "model_crs.add(Conv1D(filters=256, kernel_size=3, activation='relu'))\n",
    "model_crs.add(MaxPooling1D(pool_size=3))\n",
    "'''model_crs.add(Conv1D(filters=512, kernel_size=3, activation='relu'))\n",
    "model_crs.add(MaxPooling1D(pool_size=3))\n",
    "model_crs.add(Conv1D(filters=1024, kernel_size=3, activation='relu'))\n",
    "model_crs.add(MaxPooling1D(pool_size=3))\n",
    "'''\n",
    "model_crs.add(Flatten())\n",
    "#model_crs.add(Dropout(0.5))\n",
    "model_crs.add(Dense(2000, activation='relu'))\n",
    "model_crs.add(Dense(n_outputs, activation='softmax'))\n",
    "model_crs.compile(optimizer='rmsprop', loss='categorical_crossentropy', metrics=['accuracy'])\n",
    "# fit network   #CategoricalCrossentropy #sparse_categorical_crossentropy #SparseCategoricalCrossentropy\n",
    "\n",
    "earlystopping = callbacks.EarlyStopping(monitor =\"val_accuracy\", mode =\"max\", patience = 20, restore_best_weights = True)\n",
    "\n",
    "model_crs.fit(X_train, y_train_cat, epochs=epochs, batch_size=batch_size, verbose=verbose, validation_data = (X_valid, y_valid_cat), callbacks =[earlystopping])\n",
    "# evaluate model_crs\n",
    "_, accuracy = model_crs.evaluate(X_valid, y_valid_cat, batch_size=batch_size, verbose=1)\n",
    "\n",
    "print('np.shape(X_test)=',np.shape(X_test))\n",
    "\n",
    "\n",
    "model_crs.summary()\n",
    "print('Accuracy= ', accuracy)\n",
    "\n",
    "#output = K.function([model_crs.layers[0].input],[model_crs.layers[3].output])\n",
    "#output(X_test)[0]\n",
    "#y_pred= model_crs.predict(X_test)                # Function 1\n",
    "\n",
    "##    print('Round ', i, '==>', 'accuracy = ', accuracy)\n",
    "##    acc_crs=np.append(acc_crs,accuracy)\n",
    "#y_pred_crs = model_crs.predict_classes(X_test)   # Function 2"
   ]
  },
  {
   "cell_type": "code",
   "execution_count": 24,
   "metadata": {},
   "outputs": [],
   "source": [
    "def maxindx(ar):\n",
    "    ar_cpy=np.array(ar)\n",
    "    pred=np.argmax(ar,axis=1)\n",
    "    for i in range (len(pred)):\n",
    "        if pred[i]==0:\n",
    "            ar_cpy[i,0]=-1000\n",
    "    pred=np.argmax(ar_cpy,axis=1)\n",
    "    return(pred)"
   ]
  },
  {
   "cell_type": "code",
   "execution_count": 25,
   "metadata": {},
   "outputs": [
    {
     "name": "stdout",
     "output_type": "stream",
     "text": [
      "4/4 [==============================] - 0s 22ms/step\n",
      "array([[2, 3, 2, 1, 0, 0, 1, 0, 1, 0],\n",
      "       [1, 3, 2, 0, 3, 0, 0, 0, 0, 1],\n",
      "       [0, 0, 5, 0, 2, 0, 1, 0, 0, 2],\n",
      "       [2, 0, 0, 2, 1, 0, 0, 2, 3, 0],\n",
      "       [2, 0, 1, 0, 7, 0, 0, 0, 0, 0],\n",
      "       [0, 0, 1, 1, 1, 4, 2, 0, 0, 1],\n",
      "       [0, 0, 2, 0, 0, 0, 1, 0, 0, 7],\n",
      "       [1, 0, 1, 0, 1, 1, 1, 0, 2, 3],\n",
      "       [0, 0, 1, 2, 2, 0, 0, 2, 3, 0],\n",
      "       [0, 0, 0, 0, 0, 0, 2, 0, 0, 8]], dtype=int64)\n",
      "              precision    recall  f1-score   support\n",
      "\n",
      "           1       0.25      0.20      0.22        10\n",
      "           2       0.50      0.30      0.37        10\n",
      "           3       0.33      0.50      0.40        10\n",
      "           4       0.33      0.20      0.25        10\n",
      "           5       0.41      0.70      0.52        10\n",
      "           6       0.80      0.40      0.53        10\n",
      "           7       0.12      0.10      0.11        10\n",
      "           8       0.00      0.00      0.00        10\n",
      "           9       0.33      0.30      0.32        10\n",
      "          10       0.36      0.80      0.50        10\n",
      "\n",
      "    accuracy                           0.35       100\n",
      "   macro avg       0.35      0.35      0.32       100\n",
      "weighted avg       0.35      0.35      0.32       100\n",
      "\n"
     ]
    }
   ],
   "source": [
    "predict_x=model_crs.predict(X_test)              # Function 1\n",
    "\n",
    "y_pred_crs=maxindx(predict_x)                    # function from augment.py to remove 0 index predictions\n",
    "\n",
    "#y_pred_crs = model_crs.predict_classes(X_test)\n",
    "\n",
    "cm = confusion_matrix(y_test, y_pred_crs)\n",
    "fullprint(cm)\n",
    "acc3=accuracy_score(y_test, y_pred_crs)\n",
    "\n",
    "print(classification_report(y_test, y_pred_crs))\n",
    "\n",
    "#sns.heatmap(cm, annot=True)\n",
    "\n",
    "#plt.imshow(cm)"
   ]
  },
  {
   "cell_type": "code",
   "execution_count": 26,
   "metadata": {},
   "outputs": [
    {
     "name": "stdout",
     "output_type": "stream",
     "text": [
      "Epoch 1/1000\n",
      "5/5 [==============================] - 1s 70ms/step - loss: 3.7898 - accuracy: 0.0700 - val_loss: 2.3717 - val_accuracy: 0.1000\n",
      "Epoch 2/1000\n",
      "5/5 [==============================] - 0s 34ms/step - loss: 2.3990 - accuracy: 0.0800 - val_loss: 2.3450 - val_accuracy: 0.2000\n",
      "Epoch 3/1000\n",
      "5/5 [==============================] - 0s 25ms/step - loss: 2.3872 - accuracy: 0.0800 - val_loss: 2.3309 - val_accuracy: 0.1200\n",
      "Epoch 4/1000\n",
      "5/5 [==============================] - 0s 26ms/step - loss: 2.3647 - accuracy: 0.1000 - val_loss: 2.3434 - val_accuracy: 0.1000\n",
      "Epoch 5/1000\n",
      "5/5 [==============================] - 0s 26ms/step - loss: 2.3301 - accuracy: 0.1000 - val_loss: 2.2857 - val_accuracy: 0.1600\n",
      "Epoch 6/1000\n",
      "5/5 [==============================] - 0s 34ms/step - loss: 2.4202 - accuracy: 0.1600 - val_loss: 2.2083 - val_accuracy: 0.2300\n",
      "Epoch 7/1000\n",
      "5/5 [==============================] - 0s 25ms/step - loss: 2.1460 - accuracy: 0.2200 - val_loss: 1.9303 - val_accuracy: 0.2300\n",
      "Epoch 8/1000\n",
      "5/5 [==============================] - 0s 33ms/step - loss: 2.0945 - accuracy: 0.2400 - val_loss: 1.9761 - val_accuracy: 0.3000\n",
      "Epoch 9/1000\n",
      "5/5 [==============================] - 0s 35ms/step - loss: 1.8115 - accuracy: 0.3000 - val_loss: 1.6883 - val_accuracy: 0.3200\n",
      "Epoch 10/1000\n",
      "5/5 [==============================] - 0s 34ms/step - loss: 1.7923 - accuracy: 0.2600 - val_loss: 1.6658 - val_accuracy: 0.3400\n",
      "Epoch 11/1000\n",
      "5/5 [==============================] - 0s 25ms/step - loss: 3.3758 - accuracy: 0.2700 - val_loss: 1.8447 - val_accuracy: 0.3000\n",
      "Epoch 12/1000\n",
      "5/5 [==============================] - 0s 25ms/step - loss: 1.8084 - accuracy: 0.2500 - val_loss: 1.6582 - val_accuracy: 0.3400\n",
      "Epoch 13/1000\n",
      "5/5 [==============================] - 0s 25ms/step - loss: 1.6857 - accuracy: 0.3300 - val_loss: 1.8803 - val_accuracy: 0.2500\n",
      "Epoch 14/1000\n",
      "5/5 [==============================] - 0s 25ms/step - loss: 1.7060 - accuracy: 0.3000 - val_loss: 1.6385 - val_accuracy: 0.3400\n",
      "Epoch 15/1000\n",
      "5/5 [==============================] - 0s 25ms/step - loss: 1.7095 - accuracy: 0.3100 - val_loss: 1.6641 - val_accuracy: 0.3300\n",
      "Epoch 16/1000\n",
      "5/5 [==============================] - 0s 25ms/step - loss: 1.6748 - accuracy: 0.3100 - val_loss: 1.6294 - val_accuracy: 0.3400\n",
      "Epoch 17/1000\n",
      "5/5 [==============================] - 0s 33ms/step - loss: 1.6816 - accuracy: 0.3200 - val_loss: 1.6299 - val_accuracy: 0.3500\n",
      "Epoch 18/1000\n",
      "5/5 [==============================] - 0s 25ms/step - loss: 1.6587 - accuracy: 0.3100 - val_loss: 1.6262 - val_accuracy: 0.3500\n",
      "Epoch 19/1000\n",
      "5/5 [==============================] - 0s 24ms/step - loss: 3.8827 - accuracy: 0.2400 - val_loss: 1.7471 - val_accuracy: 0.3200\n",
      "Epoch 20/1000\n",
      "5/5 [==============================] - 0s 25ms/step - loss: 1.7404 - accuracy: 0.3200 - val_loss: 1.6419 - val_accuracy: 0.3400\n",
      "Epoch 21/1000\n",
      "5/5 [==============================] - 0s 25ms/step - loss: 1.6708 - accuracy: 0.2900 - val_loss: 1.6351 - val_accuracy: 0.3400\n",
      "Epoch 22/1000\n",
      "5/5 [==============================] - 0s 25ms/step - loss: 1.6486 - accuracy: 0.3400 - val_loss: 1.6216 - val_accuracy: 0.3400\n",
      "Epoch 23/1000\n",
      "5/5 [==============================] - 0s 25ms/step - loss: 1.6412 - accuracy: 0.3700 - val_loss: 1.6235 - val_accuracy: 0.3400\n",
      "Epoch 24/1000\n",
      "5/5 [==============================] - 0s 37ms/step - loss: 1.6616 - accuracy: 0.3100 - val_loss: 1.6315 - val_accuracy: 0.3700\n",
      "Epoch 25/1000\n",
      "5/5 [==============================] - 0s 25ms/step - loss: 1.6481 - accuracy: 0.2800 - val_loss: 1.6133 - val_accuracy: 0.3500\n",
      "Epoch 26/1000\n",
      "5/5 [==============================] - 0s 25ms/step - loss: 1.6381 - accuracy: 0.3200 - val_loss: 1.6071 - val_accuracy: 0.3600\n",
      "Epoch 27/1000\n",
      "5/5 [==============================] - 0s 25ms/step - loss: 1.7956 - accuracy: 0.3500 - val_loss: 2.3309 - val_accuracy: 0.2400\n",
      "Epoch 28/1000\n",
      "5/5 [==============================] - 0s 25ms/step - loss: 1.8565 - accuracy: 0.2700 - val_loss: 1.6461 - val_accuracy: 0.3400\n",
      "Epoch 29/1000\n",
      "5/5 [==============================] - 0s 25ms/step - loss: 1.8939 - accuracy: 0.2600 - val_loss: 1.6403 - val_accuracy: 0.3400\n",
      "Epoch 30/1000\n",
      "5/5 [==============================] - 0s 25ms/step - loss: 1.6396 - accuracy: 0.3400 - val_loss: 1.6303 - val_accuracy: 0.3600\n",
      "Epoch 31/1000\n",
      "5/5 [==============================] - 0s 33ms/step - loss: 1.6297 - accuracy: 0.3300 - val_loss: 1.5974 - val_accuracy: 0.4200\n",
      "Epoch 32/1000\n",
      "5/5 [==============================] - 0s 25ms/step - loss: 1.6192 - accuracy: 0.3500 - val_loss: 1.5621 - val_accuracy: 0.3600\n",
      "Epoch 33/1000\n",
      "5/5 [==============================] - 0s 25ms/step - loss: 1.5958 - accuracy: 0.3200 - val_loss: 1.6198 - val_accuracy: 0.3500\n",
      "Epoch 34/1000\n",
      "5/5 [==============================] - 0s 25ms/step - loss: 1.6379 - accuracy: 0.3200 - val_loss: 1.6043 - val_accuracy: 0.3600\n",
      "Epoch 35/1000\n",
      "5/5 [==============================] - 0s 25ms/step - loss: 1.6274 - accuracy: 0.3400 - val_loss: 1.6070 - val_accuracy: 0.3600\n",
      "Epoch 36/1000\n",
      "5/5 [==============================] - 0s 25ms/step - loss: 1.6321 - accuracy: 0.3400 - val_loss: 1.5848 - val_accuracy: 0.3600\n",
      "Epoch 37/1000\n",
      "5/5 [==============================] - 0s 25ms/step - loss: 2.2973 - accuracy: 0.3200 - val_loss: 1.8594 - val_accuracy: 0.3200\n",
      "Epoch 38/1000\n",
      "5/5 [==============================] - 0s 25ms/step - loss: 1.7200 - accuracy: 0.3100 - val_loss: 1.6056 - val_accuracy: 0.3600\n",
      "Epoch 39/1000\n",
      "5/5 [==============================] - 0s 26ms/step - loss: 1.6233 - accuracy: 0.3700 - val_loss: 1.5962 - val_accuracy: 0.3600\n",
      "Epoch 40/1000\n",
      "5/5 [==============================] - 0s 26ms/step - loss: 1.6073 - accuracy: 0.3100 - val_loss: 1.5842 - val_accuracy: 0.3600\n",
      "Epoch 41/1000\n",
      "5/5 [==============================] - 0s 25ms/step - loss: 1.6004 - accuracy: 0.3500 - val_loss: 1.5794 - val_accuracy: 0.3600\n",
      "Epoch 42/1000\n",
      "5/5 [==============================] - 0s 25ms/step - loss: 1.6005 - accuracy: 0.3300 - val_loss: 1.5747 - val_accuracy: 0.3600\n",
      "Epoch 43/1000\n",
      "5/5 [==============================] - 0s 25ms/step - loss: 1.5925 - accuracy: 0.3300 - val_loss: 1.5718 - val_accuracy: 0.3600\n",
      "Epoch 44/1000\n",
      "5/5 [==============================] - 0s 26ms/step - loss: 1.5955 - accuracy: 0.3000 - val_loss: 1.5537 - val_accuracy: 0.3700\n",
      "Epoch 45/1000\n",
      "5/5 [==============================] - 0s 25ms/step - loss: 1.5659 - accuracy: 0.3200 - val_loss: 1.5325 - val_accuracy: 0.3800\n",
      "Epoch 46/1000\n",
      "5/5 [==============================] - 0s 26ms/step - loss: 1.7015 - accuracy: 0.3300 - val_loss: 1.5818 - val_accuracy: 0.3600\n",
      "Epoch 47/1000\n",
      "5/5 [==============================] - 0s 25ms/step - loss: 1.5962 - accuracy: 0.3200 - val_loss: 1.5481 - val_accuracy: 0.3700\n",
      "Epoch 48/1000\n",
      "5/5 [==============================] - 0s 26ms/step - loss: 1.5630 - accuracy: 0.3100 - val_loss: 1.5467 - val_accuracy: 0.3600\n",
      "Epoch 49/1000\n",
      "5/5 [==============================] - 0s 25ms/step - loss: 1.5186 - accuracy: 0.3700 - val_loss: 1.5091 - val_accuracy: 0.3700\n",
      "Epoch 50/1000\n",
      "5/5 [==============================] - 0s 25ms/step - loss: 1.5899 - accuracy: 0.3500 - val_loss: 1.5497 - val_accuracy: 0.3900\n",
      "Epoch 51/1000\n",
      "5/5 [==============================] - 0s 27ms/step - loss: 1.5740 - accuracy: 0.3100 - val_loss: 1.5476 - val_accuracy: 0.4000\n",
      "5/5 [==============================] - 0s 4ms/step - loss: 1.5974 - accuracy: 0.4200\n",
      "np.shape(X_test)= (100, 1460, 1)\n",
      "Model: \"sequential_1\"\n",
      "_________________________________________________________________\n",
      " Layer (type)                Output Shape              Param #   \n",
      "=================================================================\n",
      " conv1d_5 (Conv1D)           (None, 1458, 64)          256       \n",
      "                                                                 \n",
      " conv1d_6 (Conv1D)           (None, 1456, 128)         24704     \n",
      "                                                                 \n",
      " max_pooling1d_4 (MaxPooling  (None, 485, 128)         0         \n",
      " 1D)                                                             \n",
      "                                                                 \n",
      " conv1d_7 (Conv1D)           (None, 483, 256)          98560     \n",
      "                                                                 \n",
      " max_pooling1d_5 (MaxPooling  (None, 161, 256)         0         \n"
     ]
    },
    {
     "name": "stdout",
     "output_type": "stream",
     "text": [
      " 1D)                                                             \n",
      "                                                                 \n",
      " conv1d_8 (Conv1D)           (None, 159, 256)          196864    \n",
      "                                                                 \n",
      " max_pooling1d_6 (MaxPooling  (None, 53, 256)          0         \n",
      " 1D)                                                             \n",
      "                                                                 \n",
      " conv1d_9 (Conv1D)           (None, 51, 512)           393728    \n",
      "                                                                 \n",
      " max_pooling1d_7 (MaxPooling  (None, 17, 512)          0         \n",
      " 1D)                                                             \n",
      "                                                                 \n",
      " flatten_1 (Flatten)         (None, 8704)              0         \n",
      "                                                                 \n",
      " dense_2 (Dense)             (None, 2000)              17410000  \n",
      "                                                                 \n",
      " dense_3 (Dense)             (None, 11)                22011     \n",
      "                                                                 \n",
      "=================================================================\n",
      "Total params: 18,146,123\n",
      "Trainable params: 18,146,123\n",
      "Non-trainable params: 0\n",
      "_________________________________________________________________\n",
      "Accuracy=  0.41999998688697815\n"
     ]
    }
   ],
   "source": [
    "accuracy=0\n",
    "acc_crs=np.array([])\n",
    "##for i in range (10):\n",
    "##    if accuracy<0.2 :\n",
    "\n",
    "verbose, epochs, batch_size = 1, 1000, btch\n",
    "n_timesteps, n_features, n_outputs = X_train.shape[1], X_train.shape[2], y_train_cat.shape[1]\n",
    "steps_per_epoch = len(X_train)//batch_size\n",
    "validation_steps = len(X_valid)//batch_size # if you have test data\n",
    "\n",
    "model_crs = Sequential()\n",
    "BatchNormalization()\n",
    "model_crs.add(Conv1D(filters=64, kernel_size=3, activation='relu', input_shape=(n_timesteps,n_features)))\n",
    "#model_crs.add(MaxPooling1D(pool_size=3))\n",
    "BatchNormalization()\n",
    "model_crs.add(Conv1D(filters=128, kernel_size=3, activation='relu'))\n",
    "#model_crs.add(Dropout(0.5))\n",
    "model_crs.add(MaxPooling1D(pool_size=3))\n",
    "BatchNormalization()\n",
    "model_crs.add(Conv1D(filters=256, kernel_size=3, activation='relu'))\n",
    "model_crs.add(MaxPooling1D(pool_size=3))\n",
    "BatchNormalization()\n",
    "model_crs.add(Conv1D(filters=256, kernel_size=3, activation='relu'))\n",
    "model_crs.add(MaxPooling1D(pool_size=3))\n",
    "BatchNormalization()\n",
    "model_crs.add(Conv1D(filters=512, kernel_size=3, activation='relu'))\n",
    "model_crs.add(MaxPooling1D(pool_size=3))\n",
    "'''model_crs.add(Conv1D(filters=512, kernel_size=3, activation='relu'))\n",
    "model_crs.add(MaxPooling1D(pool_size=3))\n",
    "model_crs.add(Conv1D(filters=1024, kernel_size=3, activation='relu'))\n",
    "model_crs.add(MaxPooling1D(pool_size=3))\n",
    "'''\n",
    "model_crs.add(Flatten())\n",
    "#model_crs.add(Dropout(0.5))\n",
    "model_crs.add(Dense(2000, activation='relu'))\n",
    "model_crs.add(Dense(n_outputs, activation='softmax'))\n",
    "model_crs.compile(optimizer='rmsprop', loss='categorical_crossentropy', metrics=['accuracy'])\n",
    "# fit network   #CategoricalCrossentropy #sparse_categorical_crossentropy #SparseCategoricalCrossentropy\n",
    "\n",
    "earlystopping = callbacks.EarlyStopping(monitor =\"val_accuracy\", mode =\"max\", patience = 20, restore_best_weights = True)\n",
    "\n",
    "model_crs.fit(X_train, y_train_cat, epochs=epochs, batch_size=batch_size, verbose=verbose, validation_data = (X_valid, y_valid_cat), callbacks =[earlystopping])\n",
    "# evaluate model_crs\n",
    "_, accuracy = model_crs.evaluate(X_valid, y_valid_cat, batch_size=batch_size, verbose=1)\n",
    "\n",
    "print('np.shape(X_test)=',np.shape(X_test))\n",
    "\n",
    "\n",
    "model_crs.summary()\n",
    "print('Accuracy= ', accuracy)\n",
    "\n",
    "#output = K.function([model_crs.layers[0].input],[model_crs.layers[3].output])\n",
    "#output(X_test)[0]\n",
    "#y_pred= model_crs.predict(X_test)                # Function 1\n",
    "\n",
    "##    print('Round ', i, '==>', 'accuracy = ', accuracy)\n",
    "##    acc_crs=np.append(acc_crs,accuracy)\n",
    "#y_pred_crs = model_crs.predict_classes(X_test)   # Function 2"
   ]
  },
  {
   "cell_type": "code",
   "execution_count": 27,
   "metadata": {},
   "outputs": [
    {
     "name": "stdout",
     "output_type": "stream",
     "text": [
      "4/4 [==============================] - 0s 17ms/step\n",
      "array([[ 0,  0,  2,  1,  0,  0,  0,  0,  0,  7],\n",
      "       [ 0,  0,  0,  0,  2,  0,  0,  0,  0,  8],\n",
      "       [ 0,  0,  0,  0,  0,  0,  0,  0,  0, 10],\n",
      "       [ 0,  0,  0,  5,  0,  0,  0,  2,  3,  0],\n",
      "       [ 0,  0,  0,  0,  5,  0,  0,  0,  0,  5],\n",
      "       [ 0,  0,  0,  0,  1,  0,  0,  0,  0,  9],\n",
      "       [ 0,  0,  0,  0,  0,  0,  0,  0,  0, 10],\n",
      "       [ 1,  0,  0,  0,  0,  0,  0,  2,  3,  4],\n",
      "       [ 0,  0,  0,  2,  0,  0,  0,  4,  3,  1],\n",
      "       [ 0,  0,  0,  0,  0,  0,  0,  0,  0, 10]], dtype=int64)\n",
      "              precision    recall  f1-score   support\n",
      "\n",
      "           1       0.00      0.00      0.00        10\n",
      "           2       0.00      0.00      0.00        10\n",
      "           3       0.00      0.00      0.00        10\n",
      "           4       0.62      0.50      0.56        10\n",
      "           5       0.62      0.50      0.56        10\n",
      "           6       0.00      0.00      0.00        10\n",
      "           7       0.00      0.00      0.00        10\n",
      "           8       0.25      0.20      0.22        10\n",
      "           9       0.33      0.30      0.32        10\n",
      "          10       0.16      1.00      0.27        10\n",
      "\n",
      "    accuracy                           0.25       100\n",
      "   macro avg       0.20      0.25      0.19       100\n",
      "weighted avg       0.20      0.25      0.19       100\n",
      "\n"
     ]
    },
    {
     "name": "stderr",
     "output_type": "stream",
     "text": [
      "C:\\ProgramData\\Anaconda3\\lib\\site-packages\\sklearn\\metrics\\_classification.py:1248: UndefinedMetricWarning: Precision and F-score are ill-defined and being set to 0.0 in labels with no predicted samples. Use `zero_division` parameter to control this behavior.\n",
      "  _warn_prf(average, modifier, msg_start, len(result))\n",
      "C:\\ProgramData\\Anaconda3\\lib\\site-packages\\sklearn\\metrics\\_classification.py:1248: UndefinedMetricWarning: Precision and F-score are ill-defined and being set to 0.0 in labels with no predicted samples. Use `zero_division` parameter to control this behavior.\n",
      "  _warn_prf(average, modifier, msg_start, len(result))\n",
      "C:\\ProgramData\\Anaconda3\\lib\\site-packages\\sklearn\\metrics\\_classification.py:1248: UndefinedMetricWarning: Precision and F-score are ill-defined and being set to 0.0 in labels with no predicted samples. Use `zero_division` parameter to control this behavior.\n",
      "  _warn_prf(average, modifier, msg_start, len(result))\n"
     ]
    }
   ],
   "source": [
    "predict_x=model_crs.predict(X_test)              # Function 1\n",
    "\n",
    "y_pred_crs=maxindx(predict_x)                    # function from augment.py to remove 0 index predictions\n",
    "\n",
    "#y_pred_crs = model_crs.predict_classes(X_test)\n",
    "\n",
    "cm = confusion_matrix(y_test, y_pred_crs)\n",
    "fullprint(cm)\n",
    "acc3=accuracy_score(y_test, y_pred_crs)\n",
    "\n",
    "print(classification_report(y_test, y_pred_crs))\n",
    "\n",
    "#sns.heatmap(cm, annot=True)\n",
    "\n",
    "#plt.imshow(cm)"
   ]
  }
 ],
 "metadata": {
  "celltoolbar": "Raw Cell Format",
  "kernelspec": {
   "display_name": "Python 3 (ipykernel)",
   "language": "python",
   "name": "python3"
  },
  "language_info": {
   "codemirror_mode": {
    "name": "ipython",
    "version": 3
   },
   "file_extension": ".py",
   "mimetype": "text/x-python",
   "name": "python",
   "nbconvert_exporter": "python",
   "pygments_lexer": "ipython3",
   "version": "3.9.7"
  }
 },
 "nbformat": 4,
 "nbformat_minor": 4
}
