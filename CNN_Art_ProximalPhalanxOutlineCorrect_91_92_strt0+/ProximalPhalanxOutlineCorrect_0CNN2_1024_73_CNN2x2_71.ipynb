{
 "cells": [
  {
   "cell_type": "markdown",
   "metadata": {},
   "source": [
    "import time\n",
    "plc=1\n",
    "time.sleep(3000*plc)         #run after 1 houre = 3600 seconds"
   ]
  },
  {
   "cell_type": "code",
   "execution_count": 1,
   "metadata": {},
   "outputs": [
    {
     "data": {
      "text/html": [
       "<style>#notebook { padding-top:0px !important; } .container { width:100% !important; } .end_space { min-height:0px !important; } html, body, .container{ margin:0!important;padding:0!important;}</style>"
      ],
      "text/plain": [
       "<IPython.core.display.HTML object>"
      ]
     },
     "metadata": {},
     "output_type": "display_data"
    }
   ],
   "source": [
    "import os\n",
    "import glob\n",
    "import scipy\n",
    "import random\n",
    "import bisect\n",
    "import numpy as np\n",
    "import pandas as pd\n",
    "import seaborn as sns\n",
    "from scipy import signal\n",
    "from scipy.signal import find_peaks\n",
    "import matplotlib.pyplot as plt\n",
    "from preprocess import *                         #ماژول استخراج پنجره ها\n",
    "from data import *                          #ماژول محلی ورود داده ها\n",
    "from augment import *                            #ماژول های داده افزایی\n",
    "from lstm_cnn import *                           #ماژول های داده افزایی با lstm_cnn\n",
    "import augment\n",
    "import importlib\n",
    "importlib.reload(augment)\n",
    "import tensorflow as tf\n",
    "from tensorflow import keras\n",
    "from tensorflow.keras.layers import BatchNormalization\n",
    "from sklearn.model_selection import train_test_split\n",
    "from sklearn.neural_network import MLPClassifier\n",
    "from sklearn.datasets import make_classification\n",
    "from sklearn.metrics import confusion_matrix, accuracy_score, classification_report,recall_score,precision_score\n",
    "from tensorflow.keras import callbacks\n",
    "from tensorflow.keras import layers\n",
    "from tensorflow.keras.models import Sequential\n",
    "from tensorflow.keras.layers import Convolution2D,Conv1D,Dropout,MaxPooling1D,MaxPooling2D,Flatten,Dense\n",
    "from tensorflow.keras import backend as K\n",
    "from tensorflow.keras.utils import to_categorical\n",
    "from tensorflow.keras.models import load_model\n",
    "cwd = os.getcwd() #\n",
    "fullscrn()"
   ]
  },
  {
   "cell_type": "markdown",
   "metadata": {},
   "source": [
    "<h1><center><div style=\"direction:rtl;font-family:B Nazanin\">Importing Data</div></center></h1>"
   ]
  },
  {
   "cell_type": "code",
   "execution_count": 2,
   "metadata": {
    "scrolled": true
   },
   "outputs": [
    {
     "name": "stderr",
     "output_type": "stream",
     "text": [
      "C:\\ProgramData\\Anaconda3\\lib\\site-packages\\pandas\\util\\_decorators.py:311: ParserWarning: Falling back to the 'python' engine because the 'c' engine does not support regex separators (separators > 1 char and different from '\\s+' are interpreted as regex); you can avoid this warning by specifying engine='python'.\n",
      "  return func(*args, **kwargs)\n"
     ]
    },
    {
     "name": "stdout",
     "output_type": "stream",
     "text": [
      "first_train_shape= (100, 1025)\n",
      "first_test_shape= (2425, 1025)\n",
      "classes_quantity= 5\n",
      "tr_lbls=\t {1, 2, 3, 4, 5}\n",
      "Count_labels= [20 20 20 20 20]\n",
      "max(train_feature_Altitude)= 5.0\n",
      "min(train_feature_Altitude)= -2.8941765\n",
      "first_train_sample=\n",
      " [1.        1.1309687 1.1204832 ... 1.0931087 1.1025334 1.1120469]\n",
      "1 20\t2 20\t3 20\t4 20\t5 20\t"
     ]
    }
   ],
   "source": [
    "rate=1024\n",
    "cls_num=5\n",
    "btch=20\n",
    "for i in range (1,cls_num+1):\n",
    "    vars()['ecg'+str(i)],vars()['ecg_tst'+str(i)]=MixedShapesSmallTrain0(i)\n",
    "\n",
    "os.chdir(cwd)\n",
    "clses_lens=np.array([])\n",
    "i=0                               #جمع آوری داده ها و چاپ تعداد نمونه ی هر کلاس\n",
    "ecg=np.array(ecg1)\n",
    "print(1,len(vars()['ecg'+str(1)]), end='\\t')\n",
    "clses_lens=np.append(clses_lens,len(vars()['ecg'+str(1)]))\n",
    "for i in range (2,cls_num+1):\n",
    "    ecg=np.concatenate((ecg,vars()['ecg'+str(i)]),axis=0)\n",
    "    clses_lens=np.append(clses_lens,len(vars()['ecg'+str(i)]))\n",
    "    print(i,len(vars()['ecg'+str(i)]), end='\\t')\n",
    "\n",
    "mx_sig=max(clses_lens)"
   ]
  },
  {
   "cell_type": "code",
   "execution_count": 3,
   "metadata": {},
   "outputs": [
    {
     "data": {
      "text/plain": [
       "(100, 1025)"
      ]
     },
     "execution_count": 3,
     "metadata": {},
     "output_type": "execute_result"
    }
   ],
   "source": [
    "np.shape(ecg)"
   ]
  },
  {
   "cell_type": "code",
   "execution_count": 4,
   "metadata": {},
   "outputs": [
    {
     "data": {
      "text/plain": [
       "array([1., 1., 1., 1., 1., 1., 1., 1., 1., 1., 1., 1., 1., 1., 1., 1., 1.,\n",
       "       1., 1., 1., 2., 2., 2., 2., 2., 2., 2., 2., 2., 2., 2., 2., 2., 2.,\n",
       "       2., 2., 2., 2., 2., 2., 3., 3., 3., 3., 3., 3., 3., 3., 3., 3., 3.,\n",
       "       3., 3., 3., 3., 3., 3., 3., 3., 3., 4., 4., 4., 4., 4., 4., 4., 4.,\n",
       "       4., 4., 4., 4., 4., 4., 4., 4., 4., 4., 4., 4., 5., 5., 5., 5., 5.,\n",
       "       5., 5., 5., 5., 5., 5., 5., 5., 5., 5., 5., 5., 5., 5., 5.])"
      ]
     },
     "execution_count": 4,
     "metadata": {},
     "output_type": "execute_result"
    }
   ],
   "source": [
    "ecg[:,-1]"
   ]
  },
  {
   "cell_type": "markdown",
   "metadata": {},
   "source": [
    "<h2><center><div style=\"direction:rtl;font-family:B Nazanin\">Base Train windows</div></center></h1>"
   ]
  },
  {
   "cell_type": "code",
   "execution_count": 5,
   "metadata": {},
   "outputs": [
    {
     "name": "stdout",
     "output_type": "stream",
     "text": [
      "each class and its windows =\n",
      "1 20\t2 20\t3 20\t4 20\t5 20\t\n",
      " max = 20\n"
     ]
    }
   ],
   "source": [
    "smpl_rte=rate                                              # در ماژول ها نیز همین مقدار ثبت شده\n",
    "i=0\n",
    "windws=np.array([])\n",
    "\n",
    "for cls in range (1,cls_num+1):                                 #ساخت پنجره های داده های آموزش اصلی\n",
    "    vars()['wndws'+str(cls)]=np.array(vars()['ecg'+str(cls)])  \n",
    "    \n",
    "print(\"each class and its windows =\")\n",
    "\n",
    "cls_wndws=np.array([])\n",
    "for cls in range (1,cls_num+1):                                # آرایه ی تعداد پنجره ی هر کلاس\n",
    "    wns=len(vars()['wndws'+str(cls)])\n",
    "    cls_wndws=np.append(cls_wndws,wns)\n",
    "    print(cls, wns, end='\\t')\n",
    "\n",
    "mx_wndws=int(np.max(cls_wndws))                        # حداکثر تعداد پنجره ی موجود بین کلاس ها\n",
    "print('\\n max =', mx_wndws)"
   ]
  },
  {
   "cell_type": "raw",
   "metadata": {},
   "source": [
    "#clses=3                                   #تعیین میزان افزایش نمونه (تولید داده)\n",
    "mx_wndws=int(mx_wndws)  #mx_wndws*0.3  # =classes-1 برای بررسی الگوریتم تعداد کمی کلاس آزمایش شد\n",
    "mx_wndws=2598           #+2\n",
    "print(mx_wndws)"
   ]
  },
  {
   "cell_type": "markdown",
   "metadata": {},
   "source": [
    "<h1><center><div style=\"direction:rtl;font-family:B Nazanin\">Data Augmentation</div></center></h1>"
   ]
  },
  {
   "cell_type": "code",
   "execution_count": 6,
   "metadata": {},
   "outputs": [
    {
     "name": "stdout",
     "output_type": "stream",
     "text": [
      "Up to class  1 train shape =  (20, 1025)\n",
      "Up to class  2 train shape =  (40, 1025)\n",
      "Up to class  3 train shape =  (60, 1025)\n",
      "Up to class  4 train shape =  (80, 1025)\n",
      "Up to class  5 train shape =  (100, 1025)\n"
     ]
    }
   ],
   "source": [
    "smpl_rte=len(wndws1[0])                                        # در ماژول ها نیز همین مقدار ثبت شده\n",
    "\n",
    "#add augmented data to base data\n",
    "xtrain=np.empty((0,len(wndws1[0])), float) \n",
    "for i in range (1,cls_num+1):   \n",
    "    xtrain=np.append(xtrain,vars()['wndws'+str(i)],axis=0)\n",
    "    print('Up to class ', i, 'train shape = ', np.shape(xtrain))"
   ]
  },
  {
   "cell_type": "code",
   "execution_count": 7,
   "metadata": {},
   "outputs": [
    {
     "name": "stdout",
     "output_type": "stream",
     "text": [
      "[ 0 20 20 20 20 20]\n"
     ]
    }
   ],
   "source": [
    "print(np.bincount(np.int16(xtrain[:,-1])))    #تعداد پنجره در هر کلاس از 0 تا 17"
   ]
  },
  {
   "cell_type": "code",
   "execution_count": 8,
   "metadata": {},
   "outputs": [
    {
     "data": {
      "text/plain": [
       "array([1., 1., 1., 1., 1., 1., 1., 1., 1., 1., 1., 1., 1., 1., 1., 1., 1.,\n",
       "       1., 1., 1., 2., 2., 2., 2., 2., 2., 2., 2., 2., 2., 2., 2., 2., 2.,\n",
       "       2., 2., 2., 2., 2., 2., 3., 3., 3., 3., 3., 3., 3., 3., 3., 3., 3.,\n",
       "       3., 3., 3., 3., 3., 3., 3., 3., 3., 4., 4., 4., 4., 4., 4., 4., 4.,\n",
       "       4., 4., 4., 4., 4., 4., 4., 4., 4., 4., 4., 4., 5., 5., 5., 5., 5.,\n",
       "       5., 5., 5., 5., 5., 5., 5., 5., 5., 5., 5., 5., 5., 5., 5.])"
      ]
     },
     "execution_count": 8,
     "metadata": {},
     "output_type": "execute_result"
    }
   ],
   "source": [
    "xtrain[:,-1]"
   ]
  },
  {
   "cell_type": "code",
   "execution_count": 9,
   "metadata": {},
   "outputs": [],
   "source": [
    "mx_aug=np.max(xtrain[:,:-1])\n",
    "mx=np.max(ecg[:,:-1])\n",
    "mn_aug=np.min(xtrain[:,:-1])\n",
    "mn=np.min(ecg[:,:-1])\n",
    "\n",
    "#for i in range (1,cls_num+1):             #نرمالسازی داده های افزایشی\n",
    "xtrain[:,:-1]= 2*(xtrain[:,:-1]-mn_aug)/(mx_aug - mn_aug) - 1"
   ]
  },
  {
   "cell_type": "code",
   "execution_count": 10,
   "metadata": {},
   "outputs": [
    {
     "name": "stdout",
     "output_type": "stream",
     "text": [
      "min trn = -1.0\n",
      "max trn = 1.0\n"
     ]
    }
   ],
   "source": [
    "print('min trn =', np.min(xtrain[:,:-1]))\n",
    "print('max trn =', np.max(xtrain[:,:-1]))"
   ]
  },
  {
   "cell_type": "markdown",
   "metadata": {},
   "source": [
    "<h3><center><div style=\"direction:rtl;font-family:B Nazanin\">Test Windows</div></center></h1>"
   ]
  },
  {
   "cell_type": "code",
   "execution_count": 11,
   "metadata": {},
   "outputs": [],
   "source": [
    "wndws_test=np.empty((0,len(wndws1[0])), float)\n",
    "i=0\n",
    "windws=np.array([])\n",
    "for cls in range (1,cls_num+1):                                 #ساخت پنجره های داده های آموزش اصلی\n",
    "    vars()['wndws_tst'+str(cls)]=np.empty((0,len(wndws1[0])), float)\n",
    "    vars()['wndws_tst'+str(cls)]=np.append(vars()['wndws_tst'+str(cls)],vars()['ecg_tst'+str(cls)],axis=0)   "
   ]
  },
  {
   "cell_type": "code",
   "execution_count": 12,
   "metadata": {},
   "outputs": [
    {
     "name": "stdout",
     "output_type": "stream",
     "text": [
      "\n",
      " cls 1  >> \n",
      "max magnitude class 1  =  3.2147954000000003\n",
      "min magnitude class 1  =  -2.8853939\n",
      "after normalizing >>\n",
      "max magnitude class 1  =  1.1640359935145925\n",
      "min magnitude class 1  =  -0.9968888607072098\n",
      "\n",
      " cls 2  >> \n",
      "max magnitude class 2  =  2.1563458\n",
      "min magnitude class 2  =  -3.1616234000000003\n",
      "after normalizing >>\n",
      "max magnitude class 2  =  0.7890918835701477\n",
      "min magnitude class 2  =  -1.0947401178836489\n",
      "\n",
      " cls 3  >> \n",
      "max magnitude class 3  =  3.2339357999999994\n",
      "min magnitude class 3  =  -2.679459\n",
      "after normalizing >>\n",
      "max magnitude class 3  =  1.1708162693463189\n",
      "min magnitude class 3  =  -0.9239386911507206\n",
      "\n",
      " cls 4  >> \n",
      "max magnitude class 4  =  2.9995496\n",
      "min magnitude class 4  =  -3.2768523000000007\n",
      "after normalizing >>\n",
      "max magnitude class 4  =  1.0877875402105524\n",
      "min magnitude class 4  =  -1.1355586862409686\n",
      "\n",
      " cls 5  >> \n",
      "max magnitude class 5  =  2.7769078\n",
      "min magnitude class 5  =  -2.6748398\n",
      "after normalizing >>\n",
      "max magnitude class 5  =  1.0089191353876594\n",
      "min magnitude class 5  =  -0.9223023904400818\n",
      "each class and its windows =\n",
      "1 458\t2 654\t3 418\t4 581\t5 314\t\n",
      " max instance in classes of test windows = 654\n"
     ]
    }
   ],
   "source": [
    "#print(np.max(wndws_tst))\n",
    "for i in range (1,cls_num+1):                # Normalization test windows\n",
    "    cls=i\n",
    "    print('\\n cls', i, ' >> ')\n",
    "    print('max magnitude class', i , ' = ' ,np.max(vars()['wndws_tst'+str(cls)][:,:-1]))\n",
    "    print('min magnitude class', i , ' = ' ,np.min(vars()['wndws_tst'+str(cls)][:,:-1]))\n",
    "\n",
    "    vars()['wndws_tst'+str(i)][:,:-1]= 2*(vars()['wndws_tst'+str(i)][:,:-1]-mn_aug)/(mx_aug - mn_aug) - 1\n",
    "    \n",
    "    print('after normalizing >>')\n",
    "    print('max magnitude class', i , ' = ' ,np.max(vars()['wndws_tst'+str(cls)][:,:-1]))\n",
    "    print('min magnitude class', i , ' = ' ,np.min(vars()['wndws_tst'+str(cls)][:,:-1]))\n",
    "    \n",
    "print(\"each class and its windows =\")                    #تجمیع کلاس های تست\n",
    "cls_wndws=np.array([])\n",
    "for cls in range (1,cls_num+1):                                # آرایه ی تعداد پنجره ی هر کلاس\n",
    "    wns=len(vars()['wndws_tst'+str(cls)])\n",
    "    cls_wndws=np.append(cls_wndws,wns)\n",
    "    print(cls, wns, end='\\t')\n",
    "    wndws_test=np.append(wndws_test,vars()['wndws_tst'+str(cls)],axis=0)\n",
    "    \n",
    "mx_wndws=int(np.max(cls_wndws))                        # حداکثر تعداد پنجره ی موجود بین کلاس ها\n",
    "print('\\n max instance in classes of test windows =', mx_wndws)"
   ]
  },
  {
   "cell_type": "code",
   "execution_count": 13,
   "metadata": {},
   "outputs": [
    {
     "name": "stdout",
     "output_type": "stream",
     "text": [
      "min tst = -1.1355586862409686\n",
      "max tst = 1.1708162693463189\n"
     ]
    }
   ],
   "source": [
    "print('min tst =', np.min(wndws_test[:,:-1]))\n",
    "print('max tst =', np.max(wndws_test[:,:-1]))"
   ]
  },
  {
   "cell_type": "code",
   "execution_count": 14,
   "metadata": {},
   "outputs": [
    {
     "data": {
      "text/plain": [
       "2425"
      ]
     },
     "execution_count": 14,
     "metadata": {},
     "output_type": "execute_result"
    }
   ],
   "source": [
    "len(wndws_test)"
   ]
  },
  {
   "cell_type": "code",
   "execution_count": 15,
   "metadata": {},
   "outputs": [
    {
     "data": {
      "text/plain": [
       "(2425, 1025)"
      ]
     },
     "execution_count": 15,
     "metadata": {},
     "output_type": "execute_result"
    }
   ],
   "source": [
    "np.shape(wndws_test)"
   ]
  },
  {
   "cell_type": "code",
   "execution_count": 16,
   "metadata": {},
   "outputs": [],
   "source": [
    "Xtest=wndws_test[:,:-1]\n",
    "ytest=np.int16(wndws_test[:,-1])"
   ]
  },
  {
   "cell_type": "code",
   "execution_count": 17,
   "metadata": {},
   "outputs": [
    {
     "name": "stdout",
     "output_type": "stream",
     "text": [
      "array([1, 1, 1, 1, 1, 1, 1, 1, 1, 1, 1, 1, 1, 1, 1, 1, 1, 1, 1, 1, 1, 1,\n",
      "       1, 1, 1, 1, 1, 1, 1, 1, 1, 1, 1, 1, 1, 1, 1, 1, 1, 1, 1, 1, 1, 1,\n",
      "       1, 1, 1, 1, 1, 1, 1, 1, 1, 1, 1, 1, 1, 1, 1, 1, 1, 1, 1, 1, 1, 1,\n",
      "       1, 1, 1, 1, 1, 1, 1, 1, 1, 1, 1, 1, 1, 1, 1, 1, 1, 1, 1, 1, 1, 1,\n",
      "       1, 1, 1, 1, 1, 1, 1, 1, 1, 1, 1, 1, 1, 1, 1, 1, 1, 1, 1, 1, 1, 1,\n",
      "       1, 1, 1, 1, 1, 1, 1, 1, 1, 1, 1, 1, 1, 1, 1, 1, 1, 1, 1, 1, 1, 1,\n",
      "       1, 1, 1, 1, 1, 1, 1, 1, 1, 1, 1, 1, 1, 1, 1, 1, 1, 1, 1, 1, 1, 1,\n",
      "       1, 1, 1, 1, 1, 1, 1, 1, 1, 1, 1, 1, 1, 1, 1, 1, 1, 1, 1, 1, 1, 1,\n",
      "       1, 1, 1, 1, 1, 1, 1, 1, 1, 1, 1, 1, 1, 1, 1, 1, 1, 1, 1, 1, 1, 1,\n",
      "       1, 1, 1, 1, 1, 1, 1, 1, 1, 1, 1, 1, 1, 1, 1, 1, 1, 1, 1, 1, 1, 1,\n",
      "       1, 1, 1, 1, 1, 1, 1, 1, 1, 1, 1, 1, 1, 1, 1, 1, 1, 1, 1, 1, 1, 1,\n",
      "       1, 1, 1, 1, 1, 1, 1, 1, 1, 1, 1, 1, 1, 1, 1, 1, 1, 1, 1, 1, 1, 1,\n",
      "       1, 1, 1, 1, 1, 1, 1, 1, 1, 1, 1, 1, 1, 1, 1, 1, 1, 1, 1, 1, 1, 1,\n",
      "       1, 1, 1, 1, 1, 1, 1, 1, 1, 1, 1, 1, 1, 1, 1, 1, 1, 1, 1, 1, 1, 1,\n",
      "       1, 1, 1, 1, 1, 1, 1, 1, 1, 1, 1, 1, 1, 1, 1, 1, 1, 1, 1, 1, 1, 1,\n",
      "       1, 1, 1, 1, 1, 1, 1, 1, 1, 1, 1, 1, 1, 1, 1, 1, 1, 1, 1, 1, 1, 1,\n",
      "       1, 1, 1, 1, 1, 1, 1, 1, 1, 1, 1, 1, 1, 1, 1, 1, 1, 1, 1, 1, 1, 1,\n",
      "       1, 1, 1, 1, 1, 1, 1, 1, 1, 1, 1, 1, 1, 1, 1, 1, 1, 1, 1, 1, 1, 1,\n",
      "       1, 1, 1, 1, 1, 1, 1, 1, 1, 1, 1, 1, 1, 1, 1, 1, 1, 1, 1, 1, 1, 1,\n",
      "       1, 1, 1, 1, 1, 1, 1, 1, 1, 1, 1, 1, 1, 1, 1, 1, 1, 1, 1, 1, 1, 1,\n",
      "       1, 1, 1, 1, 1, 1, 1, 1, 1, 1, 1, 1, 1, 1, 1, 1, 1, 1, 2, 2, 2, 2,\n",
      "       2, 2, 2, 2, 2, 2, 2, 2, 2, 2, 2, 2, 2, 2, 2, 2, 2, 2, 2, 2, 2, 2,\n",
      "       2, 2, 2, 2, 2, 2, 2, 2, 2, 2, 2, 2, 2, 2, 2, 2, 2, 2, 2, 2, 2, 2,\n",
      "       2, 2, 2, 2, 2, 2, 2, 2, 2, 2, 2, 2, 2, 2, 2, 2, 2, 2, 2, 2, 2, 2,\n",
      "       2, 2, 2, 2, 2, 2, 2, 2, 2, 2, 2, 2, 2, 2, 2, 2, 2, 2, 2, 2, 2, 2,\n",
      "       2, 2, 2, 2, 2, 2, 2, 2, 2, 2, 2, 2, 2, 2, 2, 2, 2, 2, 2, 2, 2, 2,\n",
      "       2, 2, 2, 2, 2, 2, 2, 2, 2, 2, 2, 2, 2, 2, 2, 2, 2, 2, 2, 2, 2, 2,\n",
      "       2, 2, 2, 2, 2, 2, 2, 2, 2, 2, 2, 2, 2, 2, 2, 2, 2, 2, 2, 2, 2, 2,\n",
      "       2, 2, 2, 2, 2, 2, 2, 2, 2, 2, 2, 2, 2, 2, 2, 2, 2, 2, 2, 2, 2, 2,\n",
      "       2, 2, 2, 2, 2, 2, 2, 2, 2, 2, 2, 2, 2, 2, 2, 2, 2, 2, 2, 2, 2, 2,\n",
      "       2, 2, 2, 2, 2, 2, 2, 2, 2, 2, 2, 2, 2, 2, 2, 2, 2, 2, 2, 2, 2, 2,\n",
      "       2, 2, 2, 2, 2, 2, 2, 2, 2, 2, 2, 2, 2, 2, 2, 2, 2, 2, 2, 2, 2, 2,\n",
      "       2, 2, 2, 2, 2, 2, 2, 2, 2, 2, 2, 2, 2, 2, 2, 2, 2, 2, 2, 2, 2, 2,\n",
      "       2, 2, 2, 2, 2, 2, 2, 2, 2, 2, 2, 2, 2, 2, 2, 2, 2, 2, 2, 2, 2, 2,\n",
      "       2, 2, 2, 2, 2, 2, 2, 2, 2, 2, 2, 2, 2, 2, 2, 2, 2, 2, 2, 2, 2, 2,\n",
      "       2, 2, 2, 2, 2, 2, 2, 2, 2, 2, 2, 2, 2, 2, 2, 2, 2, 2, 2, 2, 2, 2,\n",
      "       2, 2, 2, 2, 2, 2, 2, 2, 2, 2, 2, 2, 2, 2, 2, 2, 2, 2, 2, 2, 2, 2,\n",
      "       2, 2, 2, 2, 2, 2, 2, 2, 2, 2, 2, 2, 2, 2, 2, 2, 2, 2, 2, 2, 2, 2,\n",
      "       2, 2, 2, 2, 2, 2, 2, 2, 2, 2, 2, 2, 2, 2, 2, 2, 2, 2, 2, 2, 2, 2,\n",
      "       2, 2, 2, 2, 2, 2, 2, 2, 2, 2, 2, 2, 2, 2, 2, 2, 2, 2, 2, 2, 2, 2,\n",
      "       2, 2, 2, 2, 2, 2, 2, 2, 2, 2, 2, 2, 2, 2, 2, 2, 2, 2, 2, 2, 2, 2,\n",
      "       2, 2, 2, 2, 2, 2, 2, 2, 2, 2, 2, 2, 2, 2, 2, 2, 2, 2, 2, 2, 2, 2,\n",
      "       2, 2, 2, 2, 2, 2, 2, 2, 2, 2, 2, 2, 2, 2, 2, 2, 2, 2, 2, 2, 2, 2,\n",
      "       2, 2, 2, 2, 2, 2, 2, 2, 2, 2, 2, 2, 2, 2, 2, 2, 2, 2, 2, 2, 2, 2,\n",
      "       2, 2, 2, 2, 2, 2, 2, 2, 2, 2, 2, 2, 2, 2, 2, 2, 2, 2, 2, 2, 2, 2,\n",
      "       2, 2, 2, 2, 2, 2, 2, 2, 2, 2, 2, 2, 2, 2, 2, 2, 2, 2, 2, 2, 2, 2,\n",
      "       2, 2, 2, 2, 2, 2, 2, 2, 2, 2, 2, 2, 2, 2, 2, 2, 2, 2, 2, 2, 2, 2,\n",
      "       2, 2, 2, 2, 2, 2, 2, 2, 2, 2, 2, 2, 2, 2, 2, 2, 2, 2, 2, 2, 2, 2,\n",
      "       2, 2, 2, 2, 2, 2, 2, 2, 2, 2, 2, 2, 2, 2, 2, 2, 2, 2, 2, 2, 2, 2,\n",
      "       2, 2, 2, 2, 2, 2, 2, 2, 2, 2, 2, 2, 2, 2, 2, 2, 2, 2, 2, 2, 2, 2,\n",
      "       2, 2, 2, 2, 2, 2, 2, 2, 2, 2, 2, 2, 3, 3, 3, 3, 3, 3, 3, 3, 3, 3,\n",
      "       3, 3, 3, 3, 3, 3, 3, 3, 3, 3, 3, 3, 3, 3, 3, 3, 3, 3, 3, 3, 3, 3,\n",
      "       3, 3, 3, 3, 3, 3, 3, 3, 3, 3, 3, 3, 3, 3, 3, 3, 3, 3, 3, 3, 3, 3,\n",
      "       3, 3, 3, 3, 3, 3, 3, 3, 3, 3, 3, 3, 3, 3, 3, 3, 3, 3, 3, 3, 3, 3,\n",
      "       3, 3, 3, 3, 3, 3, 3, 3, 3, 3, 3, 3, 3, 3, 3, 3, 3, 3, 3, 3, 3, 3,\n",
      "       3, 3, 3, 3, 3, 3, 3, 3, 3, 3, 3, 3, 3, 3, 3, 3, 3, 3, 3, 3, 3, 3,\n",
      "       3, 3, 3, 3, 3, 3, 3, 3, 3, 3, 3, 3, 3, 3, 3, 3, 3, 3, 3, 3, 3, 3,\n",
      "       3, 3, 3, 3, 3, 3, 3, 3, 3, 3, 3, 3, 3, 3, 3, 3, 3, 3, 3, 3, 3, 3,\n",
      "       3, 3, 3, 3, 3, 3, 3, 3, 3, 3, 3, 3, 3, 3, 3, 3, 3, 3, 3, 3, 3, 3,\n",
      "       3, 3, 3, 3, 3, 3, 3, 3, 3, 3, 3, 3, 3, 3, 3, 3, 3, 3, 3, 3, 3, 3,\n",
      "       3, 3, 3, 3, 3, 3, 3, 3, 3, 3, 3, 3, 3, 3, 3, 3, 3, 3, 3, 3, 3, 3,\n",
      "       3, 3, 3, 3, 3, 3, 3, 3, 3, 3, 3, 3, 3, 3, 3, 3, 3, 3, 3, 3, 3, 3,\n",
      "       3, 3, 3, 3, 3, 3, 3, 3, 3, 3, 3, 3, 3, 3, 3, 3, 3, 3, 3, 3, 3, 3,\n",
      "       3, 3, 3, 3, 3, 3, 3, 3, 3, 3, 3, 3, 3, 3, 3, 3, 3, 3, 3, 3, 3, 3,\n",
      "       3, 3, 3, 3, 3, 3, 3, 3, 3, 3, 3, 3, 3, 3, 3, 3, 3, 3, 3, 3, 3, 3,\n",
      "       3, 3, 3, 3, 3, 3, 3, 3, 3, 3, 3, 3, 3, 3, 3, 3, 3, 3, 3, 3, 3, 3,\n",
      "       3, 3, 3, 3, 3, 3, 3, 3, 3, 3, 3, 3, 3, 3, 3, 3, 3, 3, 3, 3, 3, 3,\n",
      "       3, 3, 3, 3, 3, 3, 3, 3, 3, 3, 3, 3, 3, 3, 3, 3, 3, 3, 3, 3, 3, 3,\n",
      "       3, 3, 3, 3, 3, 3, 3, 3, 3, 3, 3, 3, 3, 3, 3, 3, 3, 3, 3, 3, 3, 3,\n",
      "       3, 3, 3, 3, 3, 3, 3, 3, 3, 3, 3, 3, 4, 4, 4, 4, 4, 4, 4, 4, 4, 4,\n",
      "       4, 4, 4, 4, 4, 4, 4, 4, 4, 4, 4, 4, 4, 4, 4, 4, 4, 4, 4, 4, 4, 4,\n",
      "       4, 4, 4, 4, 4, 4, 4, 4, 4, 4, 4, 4, 4, 4, 4, 4, 4, 4, 4, 4, 4, 4,\n",
      "       4, 4, 4, 4, 4, 4, 4, 4, 4, 4, 4, 4, 4, 4, 4, 4, 4, 4, 4, 4, 4, 4,\n",
      "       4, 4, 4, 4, 4, 4, 4, 4, 4, 4, 4, 4, 4, 4, 4, 4, 4, 4, 4, 4, 4, 4,\n",
      "       4, 4, 4, 4, 4, 4, 4, 4, 4, 4, 4, 4, 4, 4, 4, 4, 4, 4, 4, 4, 4, 4,\n",
      "       4, 4, 4, 4, 4, 4, 4, 4, 4, 4, 4, 4, 4, 4, 4, 4, 4, 4, 4, 4, 4, 4,\n",
      "       4, 4, 4, 4, 4, 4, 4, 4, 4, 4, 4, 4, 4, 4, 4, 4, 4, 4, 4, 4, 4, 4,\n",
      "       4, 4, 4, 4, 4, 4, 4, 4, 4, 4, 4, 4, 4, 4, 4, 4, 4, 4, 4, 4, 4, 4,\n",
      "       4, 4, 4, 4, 4, 4, 4, 4, 4, 4, 4, 4, 4, 4, 4, 4, 4, 4, 4, 4, 4, 4,\n",
      "       4, 4, 4, 4, 4, 4, 4, 4, 4, 4, 4, 4, 4, 4, 4, 4, 4, 4, 4, 4, 4, 4,\n",
      "       4, 4, 4, 4, 4, 4, 4, 4, 4, 4, 4, 4, 4, 4, 4, 4, 4, 4, 4, 4, 4, 4,\n",
      "       4, 4, 4, 4, 4, 4, 4, 4, 4, 4, 4, 4, 4, 4, 4, 4, 4, 4, 4, 4, 4, 4,\n",
      "       4, 4, 4, 4, 4, 4, 4, 4, 4, 4, 4, 4, 4, 4, 4, 4, 4, 4, 4, 4, 4, 4,\n",
      "       4, 4, 4, 4, 4, 4, 4, 4, 4, 4, 4, 4, 4, 4, 4, 4, 4, 4, 4, 4, 4, 4,\n",
      "       4, 4, 4, 4, 4, 4, 4, 4, 4, 4, 4, 4, 4, 4, 4, 4, 4, 4, 4, 4, 4, 4,\n",
      "       4, 4, 4, 4, 4, 4, 4, 4, 4, 4, 4, 4, 4, 4, 4, 4, 4, 4, 4, 4, 4, 4,\n",
      "       4, 4, 4, 4, 4, 4, 4, 4, 4, 4, 4, 4, 4, 4, 4, 4, 4, 4, 4, 4, 4, 4,\n",
      "       4, 4, 4, 4, 4, 4, 4, 4, 4, 4, 4, 4, 4, 4, 4, 4, 4, 4, 4, 4, 4, 4,\n",
      "       4, 4, 4, 4, 4, 4, 4, 4, 4, 4, 4, 4, 4, 4, 4, 4, 4, 4, 4, 4, 4, 4,\n",
      "       4, 4, 4, 4, 4, 4, 4, 4, 4, 4, 4, 4, 4, 4, 4, 4, 4, 4, 4, 4, 4, 4,\n",
      "       4, 4, 4, 4, 4, 4, 4, 4, 4, 4, 4, 4, 4, 4, 4, 4, 4, 4, 4, 4, 4, 4,\n",
      "       4, 4, 4, 4, 4, 4, 4, 4, 4, 4, 4, 4, 4, 4, 4, 4, 4, 4, 4, 4, 4, 4,\n",
      "       4, 4, 4, 4, 4, 4, 4, 4, 4, 4, 4, 4, 4, 4, 4, 4, 4, 4, 4, 4, 4, 4,\n",
      "       4, 4, 4, 4, 4, 4, 4, 4, 4, 4, 4, 4, 4, 4, 4, 4, 4, 4, 4, 4, 4, 4,\n",
      "       4, 4, 4, 4, 4, 4, 4, 4, 4, 4, 4, 4, 4, 4, 4, 4, 4, 4, 4, 4, 4, 4,\n",
      "       4, 4, 4, 4, 4, 4, 4, 4, 4, 4, 4, 4, 4, 4, 4, 4, 4, 4, 4, 4, 4, 5,\n",
      "       5, 5, 5, 5, 5, 5, 5, 5, 5, 5, 5, 5, 5, 5, 5, 5, 5, 5, 5, 5, 5, 5,\n",
      "       5, 5, 5, 5, 5, 5, 5, 5, 5, 5, 5, 5, 5, 5, 5, 5, 5, 5, 5, 5, 5, 5,\n",
      "       5, 5, 5, 5, 5, 5, 5, 5, 5, 5, 5, 5, 5, 5, 5, 5, 5, 5, 5, 5, 5, 5,\n",
      "       5, 5, 5, 5, 5, 5, 5, 5, 5, 5, 5, 5, 5, 5, 5, 5, 5, 5, 5, 5, 5, 5,\n",
      "       5, 5, 5, 5, 5, 5, 5, 5, 5, 5, 5, 5, 5, 5, 5, 5, 5, 5, 5, 5, 5, 5,\n",
      "       5, 5, 5, 5, 5, 5, 5, 5, 5, 5, 5, 5, 5, 5, 5, 5, 5, 5, 5, 5, 5, 5,\n",
      "       5, 5, 5, 5, 5, 5, 5, 5, 5, 5, 5, 5, 5, 5, 5, 5, 5, 5, 5, 5, 5, 5,\n",
      "       5, 5, 5, 5, 5, 5, 5, 5, 5, 5, 5, 5, 5, 5, 5, 5, 5, 5, 5, 5, 5, 5,\n",
      "       5, 5, 5, 5, 5, 5, 5, 5, 5, 5, 5, 5, 5, 5, 5, 5, 5, 5, 5, 5, 5, 5,\n",
      "       5, 5, 5, 5, 5, 5, 5, 5, 5, 5, 5, 5, 5, 5, 5, 5, 5, 5, 5, 5, 5, 5,\n",
      "       5, 5, 5, 5, 5, 5, 5, 5, 5, 5, 5, 5, 5, 5, 5, 5, 5, 5, 5, 5, 5, 5,\n",
      "       5, 5, 5, 5, 5, 5, 5, 5, 5, 5, 5, 5, 5, 5, 5, 5, 5, 5, 5, 5, 5, 5,\n",
      "       5, 5, 5, 5, 5, 5, 5, 5, 5, 5, 5, 5, 5, 5, 5, 5, 5, 5, 5, 5, 5, 5,\n",
      "       5, 5, 5, 5, 5, 5, 5, 5, 5, 5, 5, 5, 5, 5, 5, 5, 5, 5, 5, 5, 5, 5,\n",
      "       5, 5, 5, 5, 5], dtype=int16)\n"
     ]
    }
   ],
   "source": [
    "fullprint(ytest)"
   ]
  },
  {
   "cell_type": "markdown",
   "metadata": {},
   "source": [
    "<h3><center><div style=\"direction:rtl;font-family:B Nazanin\">Train Windows</div></center></h1>"
   ]
  },
  {
   "cell_type": "code",
   "execution_count": 18,
   "metadata": {},
   "outputs": [
    {
     "data": {
      "text/plain": [
       "'\\nytestt=np.int32(np.array([ytest]).T)\\ntestx=np.concatenate((Xtest, ytestt), axis=1)\\ntestx=np.random.permutation(testx)\\nXtest=np.int32(testx[:,:-1])\\nytest=np.int32(testx[:,-1])'"
      ]
     },
     "execution_count": 18,
     "metadata": {},
     "output_type": "execute_result"
    }
   ],
   "source": [
    "#ytraint=np.int32(np.array([ytrain]).T)\n",
    "#trainx=np.concatenate((Xtrain, ytraint), axis=1)\n",
    "trainx=np.random.permutation(xtrain)\n",
    "Xtrain=np.array(trainx[:,:-1])\n",
    "ytrain=np.int16(trainx[:,-1])\n",
    "'''\n",
    "ytestt=np.int32(np.array([ytest]).T)\n",
    "testx=np.concatenate((Xtest, ytestt), axis=1)\n",
    "testx=np.random.permutation(testx)\n",
    "Xtest=np.int32(testx[:,:-1])\n",
    "ytest=np.int32(testx[:,-1])'''"
   ]
  },
  {
   "cell_type": "code",
   "execution_count": 19,
   "metadata": {},
   "outputs": [
    {
     "data": {
      "text/plain": [
       "(20, 1025)"
      ]
     },
     "execution_count": 19,
     "metadata": {},
     "output_type": "execute_result"
    }
   ],
   "source": [
    "np.shape(wndws1)"
   ]
  },
  {
   "cell_type": "markdown",
   "metadata": {},
   "source": [
    "<h3><center><div style=\"direction:rtl;font-family:B Nazanin\">Validation Windows</div></center></h1>"
   ]
  },
  {
   "cell_type": "code",
   "execution_count": 20,
   "metadata": {},
   "outputs": [],
   "source": [
    "Xvalid=np.array(Xtrain)\n",
    "yvalid=np.array(ytrain)"
   ]
  },
  {
   "cell_type": "markdown",
   "metadata": {},
   "source": [
    "<h1><center><div style=\"direction:rtl;font-family:B Nazanin\">CNN And UnBalanced RAW Data</div></center></h1>\n",
    "<h1><center><div style=\"direction:rtl;font-family:Arial\">Cross Entropy Loss Function</div></center></h1>"
   ]
  },
  {
   "cell_type": "code",
   "execution_count": 21,
   "metadata": {
    "scrolled": true
   },
   "outputs": [
    {
     "name": "stdout",
     "output_type": "stream",
     "text": [
      "X_train =>  (100, 1024)\n",
      "y_train =>  (100,)\n",
      "X_test  =>  (2425, 1024)\n",
      "y_test  =>  (2425,)\n",
      "X_valid  =>  (100, 1024)\n",
      "y_valid  =>  (100,)\n"
     ]
    }
   ],
   "source": [
    "X_train=np.array(Xtrain)\n",
    "y_train=np.array(ytrain)\n",
    "X_test=np.array(Xtest)\n",
    "y_test=np.array(ytest)\n",
    "X_valid=np.array(Xtrain)\n",
    "y_valid=np.array(ytrain)\n",
    "print('X_train => ', X_train.shape)\n",
    "print('y_train => ', y_train.shape)\n",
    "print('X_test  => ', X_test.shape)\n",
    "print('y_test  => ', y_test.shape)\n",
    "print('X_valid  => ', X_valid.shape)\n",
    "print('y_valid  => ', y_valid.shape)"
   ]
  },
  {
   "cell_type": "markdown",
   "metadata": {},
   "source": [
    "y_train=np.array(y_train+1)\n",
    "y_test=np.array(y_test+1)\n",
    "y_valid=np.array(y_valid+1)"
   ]
  },
  {
   "cell_type": "code",
   "execution_count": 22,
   "metadata": {},
   "outputs": [],
   "source": [
    "y_train_cat=to_categorical(y_train)\n",
    "y_valid_cat=to_categorical(y_valid)\n",
    "y_test_cat=to_categorical(y_test)\n",
    "\n",
    "\n",
    "X_train = np.expand_dims(X_train, axis=2)\n",
    "X_valid = np.expand_dims(X_valid, axis=2)\n",
    "X_test = np.expand_dims(X_test, axis=2)\n",
    "#y_train=np.transpose([y_train])"
   ]
  },
  {
   "cell_type": "code",
   "execution_count": 23,
   "metadata": {
    "scrolled": true
   },
   "outputs": [
    {
     "name": "stdout",
     "output_type": "stream",
     "text": [
      "Epoch 1/1000\n",
      "2/2 [==============================] - 4s 597ms/step - loss: 9.4762 - accuracy: 0.1700 - val_loss: 1.7562 - val_accuracy: 0.2000\n",
      "Epoch 2/1000\n",
      "2/2 [==============================] - 0s 61ms/step - loss: 2.0113 - accuracy: 0.2700 - val_loss: 1.7684 - val_accuracy: 0.3400\n",
      "Epoch 3/1000\n",
      "2/2 [==============================] - 0s 42ms/step - loss: 1.4151 - accuracy: 0.4500 - val_loss: 1.7149 - val_accuracy: 0.2000\n",
      "Epoch 4/1000\n",
      "2/2 [==============================] - 0s 41ms/step - loss: 1.8088 - accuracy: 0.2300 - val_loss: 1.7590 - val_accuracy: 0.3300\n",
      "Epoch 5/1000\n",
      "2/2 [==============================] - 0s 56ms/step - loss: 1.0748 - accuracy: 0.7100 - val_loss: 1.6956 - val_accuracy: 0.3700\n",
      "Epoch 6/1000\n",
      "2/2 [==============================] - 0s 56ms/step - loss: 0.9196 - accuracy: 0.6000 - val_loss: 1.6994 - val_accuracy: 0.7100\n",
      "Epoch 7/1000\n",
      "2/2 [==============================] - 0s 59ms/step - loss: 0.5423 - accuracy: 0.7700 - val_loss: 1.6816 - val_accuracy: 0.7300\n",
      "Epoch 8/1000\n",
      "2/2 [==============================] - 0s 43ms/step - loss: 0.6976 - accuracy: 0.7600 - val_loss: 1.6839 - val_accuracy: 0.5200\n",
      "Epoch 9/1000\n",
      "2/2 [==============================] - 0s 43ms/step - loss: 0.4285 - accuracy: 0.8400 - val_loss: 1.6766 - val_accuracy: 0.5500\n",
      "Epoch 10/1000\n",
      "2/2 [==============================] - 0s 42ms/step - loss: 0.3369 - accuracy: 0.8700 - val_loss: 1.6899 - val_accuracy: 0.3000\n",
      "Epoch 11/1000\n",
      "2/2 [==============================] - 0s 42ms/step - loss: 0.6971 - accuracy: 0.7400 - val_loss: 1.6924 - val_accuracy: 0.5700\n",
      "Epoch 12/1000\n",
      "2/2 [==============================] - 0s 40ms/step - loss: 0.3397 - accuracy: 0.8700 - val_loss: 1.6863 - val_accuracy: 0.5300\n",
      "Epoch 13/1000\n",
      "2/2 [==============================] - 0s 42ms/step - loss: 0.2287 - accuracy: 0.9000 - val_loss: 1.6805 - val_accuracy: 0.3700\n",
      "Epoch 14/1000\n",
      "2/2 [==============================] - 0s 43ms/step - loss: 0.2438 - accuracy: 0.8800 - val_loss: 1.6641 - val_accuracy: 0.6200\n",
      "Epoch 15/1000\n",
      "2/2 [==============================] - 0s 41ms/step - loss: 0.1312 - accuracy: 0.9500 - val_loss: 1.6525 - val_accuracy: 0.4500\n",
      "Epoch 16/1000\n",
      "2/2 [==============================] - 0s 45ms/step - loss: 0.2240 - accuracy: 0.8900 - val_loss: 1.6943 - val_accuracy: 0.2000\n",
      "Epoch 17/1000\n",
      "2/2 [==============================] - 0s 49ms/step - loss: 0.4638 - accuracy: 0.7700 - val_loss: 1.6429 - val_accuracy: 0.5100\n",
      "Epoch 18/1000\n",
      "2/2 [==============================] - 0s 50ms/step - loss: 0.1346 - accuracy: 0.9500 - val_loss: 1.5968 - val_accuracy: 0.6500\n",
      "Epoch 19/1000\n",
      "2/2 [==============================] - 0s 49ms/step - loss: 0.0902 - accuracy: 0.9600 - val_loss: 1.5805 - val_accuracy: 0.6000\n",
      "Epoch 20/1000\n",
      "2/2 [==============================] - 0s 46ms/step - loss: 0.2168 - accuracy: 0.9100 - val_loss: 1.6838 - val_accuracy: 0.5100\n",
      "Epoch 21/1000\n",
      "2/2 [==============================] - 0s 48ms/step - loss: 0.1289 - accuracy: 0.9600 - val_loss: 1.6534 - val_accuracy: 0.6200\n",
      "Epoch 22/1000\n",
      "2/2 [==============================] - 0s 40ms/step - loss: 0.0710 - accuracy: 0.9800 - val_loss: 1.5924 - val_accuracy: 0.5600\n",
      "Epoch 23/1000\n",
      "2/2 [==============================] - 0s 45ms/step - loss: 0.0559 - accuracy: 0.9700 - val_loss: 1.5382 - val_accuracy: 0.5600\n",
      "Epoch 24/1000\n",
      "2/2 [==============================] - 0s 42ms/step - loss: 0.1637 - accuracy: 0.9100 - val_loss: 1.6507 - val_accuracy: 0.5800\n",
      "Epoch 25/1000\n",
      "2/2 [==============================] - 0s 45ms/step - loss: 0.1273 - accuracy: 0.9600 - val_loss: 1.6285 - val_accuracy: 0.4600\n",
      "Epoch 26/1000\n",
      "2/2 [==============================] - 0s 48ms/step - loss: 0.1123 - accuracy: 0.9400 - val_loss: 1.5891 - val_accuracy: 0.4100\n",
      "Epoch 27/1000\n",
      "2/2 [==============================] - 0s 46ms/step - loss: 0.0856 - accuracy: 0.9700 - val_loss: 1.5356 - val_accuracy: 0.5500\n",
      "Epoch 28/1000\n",
      "2/2 [==============================] - 0s 46ms/step - loss: 0.1445 - accuracy: 0.9400 - val_loss: 1.5782 - val_accuracy: 0.4300\n",
      "Epoch 29/1000\n",
      "2/2 [==============================] - 0s 48ms/step - loss: 0.8447 - accuracy: 0.7800 - val_loss: 1.4092 - val_accuracy: 0.6400\n",
      "Epoch 30/1000\n",
      "2/2 [==============================] - 0s 71ms/step - loss: 0.1840 - accuracy: 0.9300 - val_loss: 1.5993 - val_accuracy: 0.7600\n",
      "Epoch 31/1000\n",
      "2/2 [==============================] - 0s 68ms/step - loss: 0.1564 - accuracy: 0.9500 - val_loss: 1.5287 - val_accuracy: 0.8000\n",
      "Epoch 32/1000\n",
      "2/2 [==============================] - 0s 44ms/step - loss: 0.0602 - accuracy: 0.9800 - val_loss: 1.5488 - val_accuracy: 0.7600\n",
      "Epoch 33/1000\n",
      "2/2 [==============================] - 0s 45ms/step - loss: 0.2659 - accuracy: 0.8900 - val_loss: 1.5881 - val_accuracy: 0.7500\n",
      "Epoch 34/1000\n",
      "2/2 [==============================] - 0s 45ms/step - loss: 0.0397 - accuracy: 0.9900 - val_loss: 1.4994 - val_accuracy: 0.7900\n",
      "Epoch 35/1000\n",
      "2/2 [==============================] - 0s 47ms/step - loss: 0.0180 - accuracy: 0.9900 - val_loss: 1.4903 - val_accuracy: 0.7900\n",
      "Epoch 36/1000\n",
      "2/2 [==============================] - 0s 40ms/step - loss: 0.0115 - accuracy: 1.0000 - val_loss: 1.4610 - val_accuracy: 0.7800\n",
      "Epoch 37/1000\n",
      "2/2 [==============================] - 0s 44ms/step - loss: 0.0090 - accuracy: 1.0000 - val_loss: 1.5045 - val_accuracy: 0.7200\n",
      "Epoch 38/1000\n",
      "2/2 [==============================] - 0s 43ms/step - loss: 0.0225 - accuracy: 0.9900 - val_loss: 1.4849 - val_accuracy: 0.7900\n",
      "Epoch 39/1000\n",
      "2/2 [==============================] - 0s 41ms/step - loss: 0.0029 - accuracy: 1.0000 - val_loss: 1.4411 - val_accuracy: 0.7500\n",
      "Epoch 40/1000\n",
      "2/2 [==============================] - 0s 40ms/step - loss: 0.0020 - accuracy: 1.0000 - val_loss: 1.4183 - val_accuracy: 0.7600\n",
      "Epoch 41/1000\n",
      "2/2 [==============================] - 0s 41ms/step - loss: 9.2465e-04 - accuracy: 1.0000 - val_loss: 1.4142 - val_accuracy: 0.7700\n",
      "Epoch 42/1000\n",
      "2/2 [==============================] - 0s 41ms/step - loss: 7.2072e-04 - accuracy: 1.0000 - val_loss: 1.4006 - val_accuracy: 0.7600\n",
      "Epoch 43/1000\n",
      "2/2 [==============================] - 0s 45ms/step - loss: 4.3556e-04 - accuracy: 1.0000 - val_loss: 1.3888 - val_accuracy: 0.7200\n",
      "Epoch 44/1000\n",
      "2/2 [==============================] - 0s 46ms/step - loss: 3.4691e-04 - accuracy: 1.0000 - val_loss: 1.3795 - val_accuracy: 0.7200\n",
      "Epoch 45/1000\n",
      "2/2 [==============================] - 0s 42ms/step - loss: 2.8357e-04 - accuracy: 1.0000 - val_loss: 1.3677 - val_accuracy: 0.7200\n",
      "Epoch 46/1000\n",
      "2/2 [==============================] - 0s 40ms/step - loss: 2.1461e-04 - accuracy: 1.0000 - val_loss: 1.3593 - val_accuracy: 0.7200\n",
      "Epoch 47/1000\n",
      "2/2 [==============================] - 0s 38ms/step - loss: 1.9406e-04 - accuracy: 1.0000 - val_loss: 1.3495 - val_accuracy: 0.7200\n",
      "Epoch 48/1000\n",
      "2/2 [==============================] - 0s 40ms/step - loss: 1.5104e-04 - accuracy: 1.0000 - val_loss: 1.3407 - val_accuracy: 0.7200\n",
      "Epoch 49/1000\n",
      "2/2 [==============================] - 0s 42ms/step - loss: 1.7593e-04 - accuracy: 1.0000 - val_loss: 1.3182 - val_accuracy: 0.7200\n",
      "Epoch 50/1000\n",
      "2/2 [==============================] - 0s 41ms/step - loss: 1.5592e-04 - accuracy: 1.0000 - val_loss: 1.3024 - val_accuracy: 0.6900\n",
      "Epoch 51/1000\n",
      "2/2 [==============================] - 0s 41ms/step - loss: 1.2750e-04 - accuracy: 1.0000 - val_loss: 1.2930 - val_accuracy: 0.7200\n",
      "Epoch 52/1000\n",
      "2/2 [==============================] - 0s 41ms/step - loss: 7.8261e-05 - accuracy: 1.0000 - val_loss: 1.2815 - val_accuracy: 0.7200\n",
      "Epoch 53/1000\n",
      "2/2 [==============================] - 0s 40ms/step - loss: 5.7510e-05 - accuracy: 1.0000 - val_loss: 1.2693 - val_accuracy: 0.7200\n",
      "Epoch 54/1000\n",
      "2/2 [==============================] - 0s 42ms/step - loss: 6.1426e-05 - accuracy: 1.0000 - val_loss: 1.2547 - val_accuracy: 0.7200\n",
      "Epoch 55/1000\n",
      "2/2 [==============================] - 0s 41ms/step - loss: 4.1048e-05 - accuracy: 1.0000 - val_loss: 1.2487 - val_accuracy: 0.7200\n",
      "Epoch 56/1000\n",
      "2/2 [==============================] - 0s 42ms/step - loss: 4.1427e-05 - accuracy: 1.0000 - val_loss: 1.2393 - val_accuracy: 0.7200\n",
      "Epoch 57/1000\n",
      "2/2 [==============================] - 0s 49ms/step - loss: 3.1404e-05 - accuracy: 1.0000 - val_loss: 1.2265 - val_accuracy: 0.7200\n",
      "Epoch 58/1000\n",
      "2/2 [==============================] - 0s 47ms/step - loss: 2.6348e-05 - accuracy: 1.0000 - val_loss: 1.2154 - val_accuracy: 0.7100\n",
      "Epoch 59/1000\n",
      "2/2 [==============================] - 0s 46ms/step - loss: 2.3724e-05 - accuracy: 1.0000 - val_loss: 1.2036 - val_accuracy: 0.7100\n",
      "Epoch 60/1000\n",
      "2/2 [==============================] - 0s 46ms/step - loss: 2.3380e-05 - accuracy: 1.0000 - val_loss: 1.1908 - val_accuracy: 0.6600\n",
      "Epoch 61/1000\n",
      "2/2 [==============================] - 0s 46ms/step - loss: 2.1015e-05 - accuracy: 1.0000 - val_loss: 1.1814 - val_accuracy: 0.7000\n",
      "Epoch 62/1000\n",
      "2/2 [==============================] - 0s 46ms/step - loss: 1.9288e-05 - accuracy: 1.0000 - val_loss: 1.1705 - val_accuracy: 0.6900\n",
      "Epoch 63/1000\n",
      "2/2 [==============================] - 0s 45ms/step - loss: 1.7075e-05 - accuracy: 1.0000 - val_loss: 1.1638 - val_accuracy: 0.6600\n",
      "Epoch 64/1000\n",
      "2/2 [==============================] - 0s 40ms/step - loss: 1.4848e-05 - accuracy: 1.0000 - val_loss: 1.1528 - val_accuracy: 0.6600\n",
      "Epoch 65/1000\n",
      "2/2 [==============================] - 0s 40ms/step - loss: 1.1104e-05 - accuracy: 1.0000 - val_loss: 1.1424 - val_accuracy: 0.7100\n",
      "Epoch 66/1000\n",
      "2/2 [==============================] - 0s 40ms/step - loss: 1.1298e-05 - accuracy: 1.0000 - val_loss: 1.1269 - val_accuracy: 0.6800\n",
      "Epoch 67/1000\n",
      "2/2 [==============================] - 0s 44ms/step - loss: 8.2681e-06 - accuracy: 1.0000 - val_loss: 1.1164 - val_accuracy: 0.6800\n",
      "Epoch 68/1000\n",
      "2/2 [==============================] - 0s 41ms/step - loss: 7.5158e-06 - accuracy: 1.0000 - val_loss: 1.1085 - val_accuracy: 0.6800\n",
      "Epoch 69/1000\n",
      "2/2 [==============================] - 0s 41ms/step - loss: 7.3190e-06 - accuracy: 1.0000 - val_loss: 1.1010 - val_accuracy: 0.6500\n",
      "Epoch 70/1000\n",
      "2/2 [==============================] - 0s 41ms/step - loss: 6.2333e-06 - accuracy: 1.0000 - val_loss: 1.0898 - val_accuracy: 0.6500\n",
      "Epoch 71/1000\n",
      "2/2 [==============================] - 0s 41ms/step - loss: 3.9780e-06 - accuracy: 1.0000 - val_loss: 1.0800 - val_accuracy: 0.6800\n",
      "Epoch 72/1000\n",
      "2/2 [==============================] - 0s 41ms/step - loss: 5.4571e-06 - accuracy: 1.0000 - val_loss: 1.0749 - val_accuracy: 0.6500\n",
      "Epoch 73/1000\n",
      "2/2 [==============================] - 0s 42ms/step - loss: 4.6109e-06 - accuracy: 1.0000 - val_loss: 1.0703 - val_accuracy: 0.6500\n",
      "Epoch 74/1000\n",
      "2/2 [==============================] - 0s 43ms/step - loss: 5.1199e-06 - accuracy: 1.0000 - val_loss: 1.0523 - val_accuracy: 0.7000\n",
      "Epoch 75/1000\n",
      "2/2 [==============================] - 0s 43ms/step - loss: 4.3927e-06 - accuracy: 1.0000 - val_loss: 1.0448 - val_accuracy: 0.6600\n",
      "Epoch 76/1000\n",
      "2/2 [==============================] - 0s 42ms/step - loss: 2.6953e-06 - accuracy: 1.0000 - val_loss: 1.0320 - val_accuracy: 0.7000\n",
      "Epoch 77/1000\n",
      "2/2 [==============================] - 0s 40ms/step - loss: 2.4056e-06 - accuracy: 1.0000 - val_loss: 1.0225 - val_accuracy: 0.6800\n",
      "Epoch 78/1000\n",
      "2/2 [==============================] - 0s 39ms/step - loss: 2.6178e-06 - accuracy: 1.0000 - val_loss: 1.0163 - val_accuracy: 0.6600\n",
      "Epoch 79/1000\n",
      "2/2 [==============================] - 0s 40ms/step - loss: 2.4163e-06 - accuracy: 1.0000 - val_loss: 1.0023 - val_accuracy: 0.7100\n",
      "Epoch 80/1000\n",
      "2/2 [==============================] - 0s 42ms/step - loss: 1.8680e-06 - accuracy: 1.0000 - val_loss: 0.9934 - val_accuracy: 0.7000\n",
      "Epoch 81/1000\n",
      "2/2 [==============================] - 0s 51ms/step - loss: 1.1420e-06 - accuracy: 1.0000 - val_loss: 0.9865 - val_accuracy: 0.6700\n",
      "2/2 [==============================] - 0s 5ms/step - loss: 1.5287 - accuracy: 0.8000\n",
      "np.shape(X_test)= (2425, 1024, 1)\n",
      "Accuracy=  0.800000011920929\n"
     ]
    }
   ],
   "source": [
    "#VGG16_1D\n",
    "\n",
    "accuracy=0\n",
    "acc_crs=np.array([])\n",
    "##for i in range (10):\n",
    "##    if accuracy<0.2 :\n",
    "\n",
    "verbose, epochs, batch_size = 1, 1000, 80\n",
    "n_timesteps, n_features, n_outputs = X_train.shape[1], X_train.shape[2], y_train_cat.shape[1]\n",
    "steps_per_epoch = len(X_train)//batch_size\n",
    "validation_steps = len(X_valid)//batch_size # if you have test data\n",
    "\n",
    "\n",
    "\n",
    "model_crs = Sequential()\n",
    "#model_crs.add(Conv1D(input_shape=x_train.shape[1:],filters=64,kernel_size=9,padding=\"same\", activation=\"relu\"))\n",
    "model_crs.add(Conv1D(filters=128, kernel_size=12, strides=1, activation='relu', input_shape=(n_timesteps,n_features))) #Replaced\n",
    "model_crs.add(BatchNormalization())\n",
    "model_crs.add(MaxPooling1D(pool_size=2,strides=3))\n",
    "\n",
    "model_crs.add(Conv1D(filters=32, kernel_size=7, strides=1, padding=\"same\", activation=\"relu\"))\n",
    "model_crs.add(BatchNormalization())\n",
    "model_crs.add(MaxPooling1D(pool_size=2,strides=2))\n",
    "\n",
    "model_crs.add(Conv1D(filters=32, kernel_size=10, strides=1, padding=\"same\", activation=\"relu\"))\n",
    "model_crs.add(Conv1D(filters=128, kernel_size=5, strides=2, padding=\"same\", activation=\"relu\"))\n",
    "model_crs.add(MaxPooling1D(pool_size=2,strides=2))\n",
    "\n",
    "model_crs.add(Conv1D(filters=256, kernel_size=15, strides=1, padding=\"same\", activation=\"relu\"))\n",
    "model_crs.add(MaxPooling1D(pool_size=2,strides=2))\n",
    "\n",
    "model_crs.add(Conv1D(filters=512, kernel_size=5, strides=1, padding=\"same\", activation=\"relu\"))\n",
    "#model_crs.add(Conv1D(filters=128, kernel_size=3, strides=1, padding=\"same\", activation=\"relu\"))\n",
    "\n",
    "\n",
    "model_crs.add(Flatten())\n",
    "model_crs.add(Dropout(0.1))\n",
    "model_crs.add(Dense(units=512,activation=\"relu\"))\n",
    "#model_crs.add(Dense(units=2048,activation=\"relu\"))\n",
    "model_crs.add(Dense(n_outputs, activation='softmax'))   #Replaced here from old Model\n",
    "\n",
    "model_crs.compile(optimizer='rmsprop', loss='categorical_crossentropy', metrics=['accuracy'])\n",
    "# fit network   #CategoricalCrossentropy #sparse_categorical_crossentropy #SparseCategoricalCrossentropy\n",
    "\n",
    "earlystopping = callbacks.EarlyStopping(monitor =\"val_accuracy\", mode =\"max\", patience = 50, restore_best_weights = True)\n",
    "\n",
    "model_crs.fit(X_train, y_train_cat, epochs=epochs, batch_size=batch_size, verbose=verbose, validation_data = (X_valid, y_valid_cat), callbacks =[earlystopping])\n",
    "\n",
    "_, accuracy = model_crs.evaluate(X_valid, y_valid_cat, batch_size=batch_size, verbose=1)\n",
    "\n",
    "print('np.shape(X_test)=',np.shape(X_test))\n",
    "\n",
    "print('Accuracy= ', accuracy)\n",
    "\n",
    "#y_pred_vgg = model_crs.predict_classes(X_test)\n"
   ]
  },
  {
   "cell_type": "code",
   "execution_count": 24,
   "metadata": {},
   "outputs": [],
   "source": [
    "def maxindx(ar):\n",
    "    ar_cpy=np.array(ar)\n",
    "    pred=np.argmax(ar,axis=1)\n",
    "    for i in range (len(pred)):\n",
    "        if pred[i]==0:\n",
    "            ar_cpy[i,0]=-1000\n",
    "    pred=np.argmax(ar_cpy,axis=1)\n",
    "    return(pred)"
   ]
  },
  {
   "cell_type": "code",
   "execution_count": 25,
   "metadata": {},
   "outputs": [
    {
     "name": "stdout",
     "output_type": "stream",
     "text": [
      "76/76 [==============================] - 1s 5ms/step\n",
      "array([[387,   0,  33,   4,  34],\n",
      "       [ 23, 447,  76,  61,  47],\n",
      "       [ 28,   1, 338,  37,  14],\n",
      "       [ 41,   2, 187, 304,  47],\n",
      "       [  0,   0,   2,  18, 294]], dtype=int64)\n",
      "              precision    recall  f1-score   support\n",
      "\n",
      "           1       0.81      0.84      0.83       458\n",
      "           2       0.99      0.68      0.81       654\n",
      "           3       0.53      0.81      0.64       418\n",
      "           4       0.72      0.52      0.60       581\n",
      "           5       0.67      0.94      0.78       314\n",
      "\n",
      "    accuracy                           0.73      2425\n",
      "   macro avg       0.74      0.76      0.73      2425\n",
      "weighted avg       0.77      0.73      0.73      2425\n",
      "\n"
     ]
    }
   ],
   "source": [
    "predict_x=model_crs.predict(X_test)              # Function 1\n",
    "\n",
    "y_pred_crs=maxindx(predict_x)                    # function from augment.py to remove 0 index predictions\n",
    "\n",
    "#y_pred_crs = model_crs.predict_classes(X_test)\n",
    "\n",
    "cm = confusion_matrix(y_test, y_pred_crs)\n",
    "fullprint(cm)\n",
    "acc3=accuracy_score(y_test, y_pred_crs)\n",
    "\n",
    "print(classification_report(y_test, y_pred_crs))\n",
    "\n",
    "#sns.heatmap(cm, annot=True)\n",
    "\n",
    "#plt.imshow(cm)"
   ]
  },
  {
   "cell_type": "code",
   "execution_count": 26,
   "metadata": {},
   "outputs": [
    {
     "name": "stdout",
     "output_type": "stream",
     "text": [
      "Epoch 1/1000\n",
      "2/2 [==============================] - 2s 776ms/step - loss: 24.8993 - accuracy: 0.2000 - val_loss: 1.7946 - val_accuracy: 0.2000\n",
      "Epoch 2/1000\n",
      "2/2 [==============================] - 0s 85ms/step - loss: 3.4268 - accuracy: 0.1800 - val_loss: 1.7519 - val_accuracy: 0.5300\n",
      "Epoch 3/1000\n",
      "2/2 [==============================] - 0s 53ms/step - loss: 1.5517 - accuracy: 0.5000 - val_loss: 1.7052 - val_accuracy: 0.2000\n",
      "Epoch 4/1000\n",
      "2/2 [==============================] - 0s 54ms/step - loss: 2.7087 - accuracy: 0.2600 - val_loss: 1.7201 - val_accuracy: 0.4900\n",
      "Epoch 5/1000\n",
      "2/2 [==============================] - 0s 52ms/step - loss: 1.1804 - accuracy: 0.6400 - val_loss: 1.5690 - val_accuracy: 0.5000\n",
      "Epoch 6/1000\n",
      "2/2 [==============================] - 0s 52ms/step - loss: 1.2333 - accuracy: 0.5600 - val_loss: 1.6811 - val_accuracy: 0.4000\n",
      "Epoch 7/1000\n",
      "2/2 [==============================] - 0s 57ms/step - loss: 0.8604 - accuracy: 0.6700 - val_loss: 1.6378 - val_accuracy: 0.2200\n",
      "Epoch 8/1000\n",
      "2/2 [==============================] - 0s 53ms/step - loss: 0.7236 - accuracy: 0.7400 - val_loss: 1.6779 - val_accuracy: 0.2200\n",
      "Epoch 9/1000\n",
      "2/2 [==============================] - 0s 55ms/step - loss: 0.6362 - accuracy: 0.7300 - val_loss: 1.6647 - val_accuracy: 0.2300\n",
      "Epoch 10/1000\n",
      "2/2 [==============================] - 0s 57ms/step - loss: 0.5970 - accuracy: 0.7400 - val_loss: 1.6425 - val_accuracy: 0.2200\n",
      "Epoch 11/1000\n",
      "2/2 [==============================] - 0s 55ms/step - loss: 0.4754 - accuracy: 0.8200 - val_loss: 1.5862 - val_accuracy: 0.3300\n",
      "Epoch 12/1000\n",
      "2/2 [==============================] - 0s 53ms/step - loss: 0.6508 - accuracy: 0.7700 - val_loss: 1.6831 - val_accuracy: 0.2600\n",
      "Epoch 13/1000\n",
      "2/2 [==============================] - 0s 53ms/step - loss: 0.4719 - accuracy: 0.8900 - val_loss: 1.5909 - val_accuracy: 0.3600\n",
      "Epoch 14/1000\n",
      "2/2 [==============================] - 0s 54ms/step - loss: 0.3412 - accuracy: 0.8400 - val_loss: 1.5841 - val_accuracy: 0.3600\n",
      "Epoch 15/1000\n",
      "2/2 [==============================] - 0s 53ms/step - loss: 0.2098 - accuracy: 0.9300 - val_loss: 1.5709 - val_accuracy: 0.3000\n",
      "Epoch 16/1000\n",
      "2/2 [==============================] - 0s 52ms/step - loss: 0.1726 - accuracy: 0.9100 - val_loss: 1.5914 - val_accuracy: 0.2000\n",
      "Epoch 17/1000\n",
      "2/2 [==============================] - 0s 53ms/step - loss: 0.1809 - accuracy: 0.9000 - val_loss: 1.6254 - val_accuracy: 0.2000\n",
      "Epoch 18/1000\n",
      "2/2 [==============================] - 0s 54ms/step - loss: 0.2366 - accuracy: 0.9000 - val_loss: 1.6234 - val_accuracy: 0.2100\n",
      "Epoch 19/1000\n",
      "2/2 [==============================] - 0s 55ms/step - loss: 0.1458 - accuracy: 0.9300 - val_loss: 1.6281 - val_accuracy: 0.2300\n",
      "Epoch 20/1000\n",
      "2/2 [==============================] - 0s 57ms/step - loss: 0.1115 - accuracy: 0.9700 - val_loss: 1.5790 - val_accuracy: 0.2200\n",
      "Epoch 21/1000\n",
      "2/2 [==============================] - 0s 53ms/step - loss: 0.5862 - accuracy: 0.7800 - val_loss: 1.4958 - val_accuracy: 0.5000\n",
      "Epoch 22/1000\n",
      "2/2 [==============================] - 0s 55ms/step - loss: 3.1439 - accuracy: 0.6600 - val_loss: 1.3824 - val_accuracy: 0.4700\n",
      "Epoch 23/1000\n",
      "2/2 [==============================] - 0s 55ms/step - loss: 0.4496 - accuracy: 0.7900 - val_loss: 1.6306 - val_accuracy: 0.4700\n",
      "Epoch 24/1000\n",
      "2/2 [==============================] - 0s 86ms/step - loss: 0.6078 - accuracy: 0.7200 - val_loss: 1.5728 - val_accuracy: 0.6800\n",
      "Epoch 25/1000\n",
      "2/2 [==============================] - 0s 85ms/step - loss: 0.2842 - accuracy: 0.8800 - val_loss: 1.4139 - val_accuracy: 0.7200\n",
      "Epoch 26/1000\n",
      "2/2 [==============================] - 0s 82ms/step - loss: 0.4413 - accuracy: 0.7900 - val_loss: 1.6130 - val_accuracy: 0.7600\n",
      "Epoch 27/1000\n",
      "2/2 [==============================] - 0s 53ms/step - loss: 0.2678 - accuracy: 0.9100 - val_loss: 1.5121 - val_accuracy: 0.6100\n",
      "Epoch 28/1000\n",
      "2/2 [==============================] - 0s 83ms/step - loss: 0.1200 - accuracy: 0.9700 - val_loss: 1.4527 - val_accuracy: 0.7800\n",
      "Epoch 29/1000\n",
      "2/2 [==============================] - 0s 52ms/step - loss: 0.1014 - accuracy: 0.9500 - val_loss: 1.4257 - val_accuracy: 0.7100\n",
      "Epoch 30/1000\n",
      "2/2 [==============================] - 0s 54ms/step - loss: 0.1891 - accuracy: 0.9100 - val_loss: 1.4940 - val_accuracy: 0.4700\n",
      "Epoch 31/1000\n",
      "2/2 [==============================] - 0s 52ms/step - loss: 0.1072 - accuracy: 0.9600 - val_loss: 1.4527 - val_accuracy: 0.5600\n",
      "Epoch 32/1000\n",
      "2/2 [==============================] - 0s 52ms/step - loss: 0.1413 - accuracy: 0.9300 - val_loss: 1.4087 - val_accuracy: 0.7700\n",
      "Epoch 33/1000\n",
      "2/2 [==============================] - 0s 53ms/step - loss: 0.2848 - accuracy: 0.8800 - val_loss: 1.5716 - val_accuracy: 0.3500\n",
      "Epoch 34/1000\n",
      "2/2 [==============================] - 0s 53ms/step - loss: 0.1289 - accuracy: 0.9500 - val_loss: 1.5443 - val_accuracy: 0.3400\n",
      "Epoch 35/1000\n",
      "2/2 [==============================] - 0s 53ms/step - loss: 0.0575 - accuracy: 0.9800 - val_loss: 1.7015 - val_accuracy: 0.2800\n",
      "Epoch 36/1000\n",
      "2/2 [==============================] - 0s 54ms/step - loss: 0.0460 - accuracy: 0.9800 - val_loss: 1.7371 - val_accuracy: 0.2400\n",
      "Epoch 37/1000\n",
      "2/2 [==============================] - 0s 54ms/step - loss: 0.0487 - accuracy: 0.9800 - val_loss: 2.2309 - val_accuracy: 0.2000\n",
      "Epoch 38/1000\n",
      "2/2 [==============================] - 0s 52ms/step - loss: 0.0283 - accuracy: 0.9900 - val_loss: 2.3483 - val_accuracy: 0.2000\n",
      "Epoch 39/1000\n",
      "2/2 [==============================] - 0s 53ms/step - loss: 0.0063 - accuracy: 1.0000 - val_loss: 2.3728 - val_accuracy: 0.2000\n",
      "Epoch 40/1000\n",
      "2/2 [==============================] - 0s 54ms/step - loss: 0.0036 - accuracy: 1.0000 - val_loss: 2.7832 - val_accuracy: 0.2000\n",
      "Epoch 41/1000\n",
      "2/2 [==============================] - 0s 55ms/step - loss: 0.0047 - accuracy: 1.0000 - val_loss: 2.5459 - val_accuracy: 0.2000\n",
      "Epoch 42/1000\n",
      "2/2 [==============================] - 0s 55ms/step - loss: 0.0045 - accuracy: 1.0000 - val_loss: 2.8671 - val_accuracy: 0.2000\n",
      "Epoch 43/1000\n",
      "2/2 [==============================] - 0s 53ms/step - loss: 0.0025 - accuracy: 1.0000 - val_loss: 1.7887 - val_accuracy: 0.2000\n",
      "Epoch 44/1000\n",
      "2/2 [==============================] - 0s 55ms/step - loss: 7.7850e-04 - accuracy: 1.0000 - val_loss: 1.9019 - val_accuracy: 0.2000\n",
      "Epoch 45/1000\n",
      "2/2 [==============================] - 0s 55ms/step - loss: 3.6172e-04 - accuracy: 1.0000 - val_loss: 2.0289 - val_accuracy: 0.2000\n",
      "Epoch 46/1000\n",
      "2/2 [==============================] - 0s 54ms/step - loss: 1.7689e-04 - accuracy: 1.0000 - val_loss: 2.0791 - val_accuracy: 0.2000\n",
      "Epoch 47/1000\n",
      "2/2 [==============================] - 0s 55ms/step - loss: 1.5634e-04 - accuracy: 1.0000 - val_loss: 2.1691 - val_accuracy: 0.2000\n",
      "Epoch 48/1000\n",
      "2/2 [==============================] - 0s 54ms/step - loss: 9.7061e-05 - accuracy: 1.0000 - val_loss: 2.1923 - val_accuracy: 0.2000\n",
      "Epoch 49/1000\n",
      "2/2 [==============================] - 0s 56ms/step - loss: 8.8130e-05 - accuracy: 1.0000 - val_loss: 2.2179 - val_accuracy: 0.2000\n",
      "Epoch 50/1000\n",
      "2/2 [==============================] - 0s 55ms/step - loss: 8.5608e-05 - accuracy: 1.0000 - val_loss: 2.2523 - val_accuracy: 0.2000\n",
      "Epoch 51/1000\n",
      "2/2 [==============================] - 0s 55ms/step - loss: 7.3299e-05 - accuracy: 1.0000 - val_loss: 2.2936 - val_accuracy: 0.2000\n",
      "Epoch 52/1000\n",
      "2/2 [==============================] - 0s 56ms/step - loss: 5.7580e-05 - accuracy: 1.0000 - val_loss: 2.3182 - val_accuracy: 0.2000\n",
      "Epoch 53/1000\n",
      "2/2 [==============================] - 0s 53ms/step - loss: 5.6524e-05 - accuracy: 1.0000 - val_loss: 2.3501 - val_accuracy: 0.2000\n",
      "Epoch 54/1000\n",
      "2/2 [==============================] - 0s 54ms/step - loss: 4.3727e-05 - accuracy: 1.0000 - val_loss: 2.3720 - val_accuracy: 0.2000\n",
      "Epoch 55/1000\n",
      "2/2 [==============================] - 0s 55ms/step - loss: 3.7781e-05 - accuracy: 1.0000 - val_loss: 2.4133 - val_accuracy: 0.2000\n",
      "Epoch 56/1000\n",
      "2/2 [==============================] - 0s 53ms/step - loss: 3.8877e-05 - accuracy: 1.0000 - val_loss: 2.5106 - val_accuracy: 0.2000\n",
      "Epoch 57/1000\n",
      "2/2 [==============================] - 0s 53ms/step - loss: 3.2559e-05 - accuracy: 1.0000 - val_loss: 2.5546 - val_accuracy: 0.2000\n",
      "Epoch 58/1000\n",
      "2/2 [==============================] - 0s 54ms/step - loss: 2.7759e-05 - accuracy: 1.0000 - val_loss: 2.5506 - val_accuracy: 0.2000\n",
      "Epoch 59/1000\n",
      "2/2 [==============================] - 0s 52ms/step - loss: 1.9886e-05 - accuracy: 1.0000 - val_loss: 2.5886 - val_accuracy: 0.2000\n",
      "Epoch 60/1000\n",
      "2/2 [==============================] - 0s 53ms/step - loss: 1.8121e-05 - accuracy: 1.0000 - val_loss: 2.6410 - val_accuracy: 0.2000\n",
      "Epoch 61/1000\n",
      "2/2 [==============================] - 0s 54ms/step - loss: 1.3184e-05 - accuracy: 1.0000 - val_loss: 2.6697 - val_accuracy: 0.2000\n",
      "Epoch 62/1000\n",
      "2/2 [==============================] - 0s 51ms/step - loss: 1.1752e-05 - accuracy: 1.0000 - val_loss: 2.6741 - val_accuracy: 0.2000\n",
      "Epoch 63/1000\n",
      "2/2 [==============================] - 0s 56ms/step - loss: 1.1837e-05 - accuracy: 1.0000 - val_loss: 2.6975 - val_accuracy: 0.2000\n",
      "Epoch 64/1000\n",
      "2/2 [==============================] - 0s 53ms/step - loss: 1.0755e-05 - accuracy: 1.0000 - val_loss: 2.7403 - val_accuracy: 0.2000\n",
      "Epoch 65/1000\n",
      "2/2 [==============================] - 0s 54ms/step - loss: 8.5017e-06 - accuracy: 1.0000 - val_loss: 2.7857 - val_accuracy: 0.2000\n",
      "Epoch 66/1000\n",
      "2/2 [==============================] - 0s 55ms/step - loss: 8.6518e-06 - accuracy: 1.0000 - val_loss: 2.8090 - val_accuracy: 0.2000\n",
      "Epoch 67/1000\n",
      "2/2 [==============================] - 0s 53ms/step - loss: 6.9926e-06 - accuracy: 1.0000 - val_loss: 2.8555 - val_accuracy: 0.2000\n",
      "Epoch 68/1000\n",
      "2/2 [==============================] - 0s 54ms/step - loss: 4.8362e-06 - accuracy: 1.0000 - val_loss: 2.8790 - val_accuracy: 0.2000\n",
      "Epoch 69/1000\n",
      "2/2 [==============================] - 0s 54ms/step - loss: 4.9054e-06 - accuracy: 1.0000 - val_loss: 2.9087 - val_accuracy: 0.2000\n",
      "Epoch 70/1000\n",
      "2/2 [==============================] - 0s 52ms/step - loss: 4.3225e-06 - accuracy: 1.0000 - val_loss: 2.9364 - val_accuracy: 0.2000\n",
      "Epoch 71/1000\n",
      "2/2 [==============================] - 0s 53ms/step - loss: 3.8575e-06 - accuracy: 1.0000 - val_loss: 2.9930 - val_accuracy: 0.2000\n",
      "Epoch 72/1000\n",
      "2/2 [==============================] - 0s 52ms/step - loss: 3.0565e-06 - accuracy: 1.0000 - val_loss: 2.9958 - val_accuracy: 0.2000\n",
      "Epoch 73/1000\n",
      "2/2 [==============================] - 0s 51ms/step - loss: 3.0684e-06 - accuracy: 1.0000 - val_loss: 2.9994 - val_accuracy: 0.2000\n",
      "Epoch 74/1000\n",
      "2/2 [==============================] - 0s 53ms/step - loss: 5.5323e-06 - accuracy: 1.0000 - val_loss: 3.2053 - val_accuracy: 0.2000\n",
      "Epoch 75/1000\n",
      "2/2 [==============================] - 0s 53ms/step - loss: 2.2805e-06 - accuracy: 1.0000 - val_loss: 3.1907 - val_accuracy: 0.2000\n",
      "Epoch 76/1000\n",
      "2/2 [==============================] - 0s 53ms/step - loss: 2.6262e-06 - accuracy: 1.0000 - val_loss: 3.2126 - val_accuracy: 0.2000\n",
      "Epoch 77/1000\n",
      "2/2 [==============================] - 0s 52ms/step - loss: 2.6595e-06 - accuracy: 1.0000 - val_loss: 3.2168 - val_accuracy: 0.2000\n",
      "Epoch 78/1000\n",
      "2/2 [==============================] - 0s 62ms/step - loss: 1.4937e-06 - accuracy: 1.0000 - val_loss: 3.1931 - val_accuracy: 0.2000\n",
      "2/2 [==============================] - 0s 6ms/step - loss: 1.4527 - accuracy: 0.7800\n",
      "np.shape(X_test)= (2425, 1024, 1)\n",
      "Accuracy=  0.7799999713897705\n"
     ]
    }
   ],
   "source": [
    "#VGG16_1D\n",
    "\n",
    "accuracy=0\n",
    "acc_crs=np.array([])\n",
    "##for i in range (10):\n",
    "##    if accuracy<0.2 :\n",
    "\n",
    "verbose, epochs, batch_size = 1, 1000, 80\n",
    "n_timesteps, n_features, n_outputs = X_train.shape[1], X_train.shape[2], y_train_cat.shape[1]\n",
    "steps_per_epoch = len(X_train)//batch_size\n",
    "validation_steps = len(X_valid)//batch_size # if you have test data\n",
    "\n",
    "\n",
    "\n",
    "model_crs = Sequential()\n",
    "#model_crs.add(Conv1D(input_shape=x_train.shape[1:],filters=64,kernel_size=9,padding=\"same\", activation=\"relu\"))\n",
    "model_crs.add(Conv1D(filters=256, kernel_size=12, strides=1, activation='relu', input_shape=(n_timesteps,n_features))) #Replaced\n",
    "model_crs.add(BatchNormalization())\n",
    "model_crs.add(MaxPooling1D(pool_size=2,strides=3))\n",
    "\n",
    "model_crs.add(Conv1D(filters=64, kernel_size=7, strides=1, padding=\"same\", activation=\"relu\"))\n",
    "model_crs.add(BatchNormalization())\n",
    "model_crs.add(MaxPooling1D(pool_size=2,strides=2))\n",
    "\n",
    "model_crs.add(Conv1D(filters=64, kernel_size=10, strides=1, padding=\"same\", activation=\"relu\"))\n",
    "model_crs.add(Conv1D(filters=128, kernel_size=5, strides=2, padding=\"same\", activation=\"relu\"))\n",
    "model_crs.add(MaxPooling1D(pool_size=2,strides=2))\n",
    "\n",
    "model_crs.add(Conv1D(filters=512, kernel_size=15, strides=1, padding=\"same\", activation=\"relu\"))\n",
    "model_crs.add(MaxPooling1D(pool_size=2,strides=2))\n",
    "\n",
    "model_crs.add(Conv1D(filters=1024, kernel_size=5, strides=1, padding=\"same\", activation=\"relu\"))\n",
    "#model_crs.add(Conv1D(filters=128, kernel_size=3, strides=1, padding=\"same\", activation=\"relu\"))\n",
    "\n",
    "\n",
    "model_crs.add(Flatten())\n",
    "model_crs.add(Dropout(0.1))\n",
    "model_crs.add(Dense(units=512,activation=\"relu\"))\n",
    "#model_crs.add(Dense(units=2048,activation=\"relu\"))\n",
    "model_crs.add(Dense(n_outputs, activation='softmax'))   #Replaced here from old Model\n",
    "\n",
    "model_crs.compile(optimizer='rmsprop', loss='categorical_crossentropy', metrics=['accuracy'])\n",
    "# fit network   #CategoricalCrossentropy #sparse_categorical_crossentropy #SparseCategoricalCrossentropy\n",
    "\n",
    "earlystopping = callbacks.EarlyStopping(monitor =\"val_accuracy\", mode =\"max\", patience = 50, restore_best_weights = True)\n",
    "\n",
    "model_crs.fit(X_train, y_train_cat, epochs=epochs, batch_size=batch_size, verbose=verbose, validation_data = (X_valid, y_valid_cat), callbacks =[earlystopping])\n",
    "\n",
    "_, accuracy = model_crs.evaluate(X_valid, y_valid_cat, batch_size=batch_size, verbose=1)\n",
    "\n",
    "print('np.shape(X_test)=',np.shape(X_test))\n",
    "\n",
    "print('Accuracy= ', accuracy)\n",
    "\n",
    "#y_pred_vgg = model_crs.predict_classes(X_test)\n"
   ]
  },
  {
   "cell_type": "code",
   "execution_count": 27,
   "metadata": {},
   "outputs": [
    {
     "name": "stdout",
     "output_type": "stream",
     "text": [
      "76/76 [==============================] - 1s 7ms/step\n",
      "array([[391,   0,  29,  20,  18],\n",
      "       [ 21, 406,  23, 178,  26],\n",
      "       [ 24,   0, 287,  97,  10],\n",
      "       [ 21,   2, 189, 350,  19],\n",
      "       [  0,   0,   1,  21, 292]], dtype=int64)\n",
      "              precision    recall  f1-score   support\n",
      "\n",
      "           1       0.86      0.85      0.85       458\n",
      "           2       1.00      0.62      0.76       654\n",
      "           3       0.54      0.69      0.61       418\n",
      "           4       0.53      0.60      0.56       581\n",
      "           5       0.80      0.93      0.86       314\n",
      "\n",
      "    accuracy                           0.71      2425\n",
      "   macro avg       0.74      0.74      0.73      2425\n",
      "weighted avg       0.75      0.71      0.72      2425\n",
      "\n"
     ]
    }
   ],
   "source": [
    "predict_x=model_crs.predict(X_test)              # Function 1\n",
    "\n",
    "y_pred_crs=maxindx(predict_x)                    # function from augment.py to remove 0 index predictions\n",
    "\n",
    "#y_pred_crs = model_crs.predict_classes(X_test)\n",
    "\n",
    "cm = confusion_matrix(y_test, y_pred_crs)\n",
    "fullprint(cm)\n",
    "acc3=accuracy_score(y_test, y_pred_crs)\n",
    "\n",
    "print(classification_report(y_test, y_pred_crs))\n",
    "\n",
    "#sns.heatmap(cm, annot=True)\n",
    "\n",
    "#plt.imshow(cm)"
   ]
  },
  {
   "cell_type": "code",
   "execution_count": null,
   "metadata": {},
   "outputs": [],
   "source": []
  }
 ],
 "metadata": {
  "celltoolbar": "Raw Cell Format",
  "kernelspec": {
   "display_name": "Python 3 (ipykernel)",
   "language": "python",
   "name": "python3"
  },
  "language_info": {
   "codemirror_mode": {
    "name": "ipython",
    "version": 3
   },
   "file_extension": ".py",
   "mimetype": "text/x-python",
   "name": "python",
   "nbconvert_exporter": "python",
   "pygments_lexer": "ipython3",
   "version": "3.9.7"
  }
 },
 "nbformat": 4,
 "nbformat_minor": 4
}
