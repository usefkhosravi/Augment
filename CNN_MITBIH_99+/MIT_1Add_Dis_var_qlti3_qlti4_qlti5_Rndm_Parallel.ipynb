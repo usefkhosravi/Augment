{
 "cells": [
  {
   "cell_type": "code",
   "execution_count": 1,
   "id": "ab7fbdac",
   "metadata": {},
   "outputs": [],
   "source": [
    "from augment import *\n",
    "import glob\n",
    "import os\n",
    "import glob\n",
    "import scipy\n",
    "import random\n",
    "import bisect\n",
    "import numpy as np\n",
    "import pandas as pd\n",
    "import seaborn as sns\n",
    "from scipy import signal\n",
    "from scipy.signal import find_peaks\n",
    "import matplotlib.pyplot as plt\n",
    "from preprocess import *                         #ماژول استخراج پنجره ها\n",
    "from data import *                               #ماژول محلی ورود داده ها\n",
    "from augment import *                            #ماژول های داده افزایی\n",
    "from GAN import *                  \n",
    "from lstm_cnn import *                           #ماژول های داده افزایی با lstm_cnn\n",
    "import augment\n",
    "import importlib\n",
    "importlib.reload(augment)\n",
    "import tensorflow as tf\n",
    "from tensorflow import keras\n",
    "from tensorflow.keras.layers import BatchNormalization\n",
    "from sklearn.model_selection import train_test_split\n",
    "from sklearn.neural_network import MLPClassifier\n",
    "from sklearn.datasets import make_classification\n",
    "from sklearn.metrics import confusion_matrix, accuracy_score, classification_report,recall_score,precision_score\n",
    "from tensorflow.keras import callbacks\n",
    "from tensorflow.keras import layers\n",
    "from tensorflow.keras.models import Sequential\n",
    "from tensorflow.keras.layers import Convolution2D,Conv1D,Dropout,MaxPooling1D,MaxPooling2D,Flatten,Dense\n",
    "from tensorflow.keras import backend as K\n",
    "from tensorflow.keras.utils import to_categorical\n",
    "from tensorflow.keras.models import load_model\n",
    "cwd = os.getcwd() #"
   ]
  },
  {
   "cell_type": "raw",
   "id": "ef340513",
   "metadata": {},
   "source": [
    "def dstnc(dt2,dt1): #فاصله و واریانس بردار فاصله ی هر کدام از ردیف های دیتاست(آگمنت)1 از (کل)2\n",
    "    dist,vrnc,i,h,w=[],[],0,np.shape(dt1)[0],np.shape(dt1)[1]\n",
    "    end=min(len(dt2[0]),len(dt1[0]))\n",
    "    for i in range (h):\n",
    "        ds1 = dt2-dt1[i,:end] #.reshape(-1,1) #distance of every training instance\n",
    "        dist_array=(ds1*10)**3  #معیار فاصله با حساسیت به توان 3 (حفظ علامت و تاثیر بیشتر تفاوت زیاد در نقاط)\n",
    "        vr=np.var(ds1)\n",
    "        ds1=min(np.sum(np.absolute(dist_array),axis=1))\n",
    "        #print('dist2 = ', dist2)\n",
    "        vrnc.append(vr)\n",
    "        dist.append(ds1)\n",
    "    variance=np.reshape(vrnc,(-1,1))\n",
    "    distnc=np.reshape(dist,(-1,1))\n",
    "    return(distnc,variance)"
   ]
  },
  {
   "cell_type": "code",
   "execution_count": 2,
   "id": "784f32a5",
   "metadata": {},
   "outputs": [],
   "source": [
    "'''for i in range (1,18):\n",
    "    vars()['ecg'+str(i)]=MITBIH(i)         #فراخوانی داده های اصلی\n",
    "    ecg=np.append(ecg,vars()['ecg'+str(i)])\n",
    "ecg=np.reshape(ecg,(int(len(ecg)/wdth),wdth))  #base data windows\n",
    "print('\\nfinal_train_shap=',np.shape(ecg))\n",
    "'''\n",
    "smpl_rte=480                               #len(ecg1[0])  # در ماژول ها نیز همین مقدار ثبت شده\n",
    "cls_num=17\n",
    "#ecg=np.array([])\n",
    "ecg=np.empty((0,smpl_rte+1), float)\n",
    "#base_wn_dt=np.array([])\n",
    "windws=np.array([])\n",
    "\n",
    "for cls in range (1,18):                   #ساخت پنجره های داده های آموزش اصلی\n",
    "    vars()['ecg0'+str(cls)]=MITBIH(cls)         #فراخوانی داده های اصلی\n",
    "    dta=np.array(vars()['ecg0'+str(cls)][int(.1*len(vars()['ecg0'+str(cls)])):,:]) #انتخاب محدوده ترِین جهت داده افزایی\n",
    "    vars()['wndws'+str(cls)]=wndwng_sig(dta)                #نرخ نمونه برداری 480 است و شماره کلاس در آخر ردیف نیست\n",
    "    clm0vlu=np.zeros(len(vars()['wndws'+str(cls)]))\n",
    "    cls_clm=np.array(clm0vlu)\n",
    "    cls_clm=np.int16(cls_clm+cls)\n",
    "    cls_clm=np.transpose([cls_clm])                     # افزودن ستون برچسب (شماره کلاس) به سمت راست پنجره ها\n",
    "    vars()['wndws'+str(cls)]=np.concatenate((vars()['wndws'+str(cls)],cls_clm),axis=1)   \n",
    "    vars()['ecg'+str(cls)]=np.array(vars()['wndws'+str(cls)])\n",
    "    ecg=np.concatenate((ecg,vars()['ecg'+str(cls)]),axis=0)    \n",
    "    #base_wn_dt=np.append(base_wn_dt,vars()['wndws'+str(cls)])\n",
    "wdth=int(len(vars()['wndws'+str(cls)][0]))\n",
    "#base_wn_dt=np.reshape(base_wn_dt,(int(len(base_wn_dt)/wdth),wdth))  #base data windows\n",
    "os.chdir(cwd)"
   ]
  },
  {
   "cell_type": "code",
   "execution_count": 3,
   "id": "73ae545a",
   "metadata": {},
   "outputs": [
    {
     "data": {
      "text/plain": [
       "(2598, 481)"
      ]
     },
     "execution_count": 3,
     "metadata": {},
     "output_type": "execute_result"
    }
   ],
   "source": [
    "np.shape(ecg1)"
   ]
  },
  {
   "cell_type": "raw",
   "id": "3c470172",
   "metadata": {},
   "source": [
    "for i in range (1,cls_num+1):\n",
    "    vars()['ecg'+str(i)],vars()['ecg_tst'+str(i)]=MITBIH(i)         #فراخوانی داده های اصلی\n",
    "    ecg=np.append(ecg,vars()['ecg'+str(i)])"
   ]
  },
  {
   "cell_type": "code",
   "execution_count": 4,
   "id": "64bf2935",
   "metadata": {
    "scrolled": false
   },
   "outputs": [
    {
     "name": "stdout",
     "output_type": "stream",
     "text": [
      "shape wndws1= (2598, 481)\n",
      "shape base_wn= (10140, 481)\n",
      "shape furir_windws0= (10140, 480)\n",
      "shape furir_windws= (10140, 481)\n",
      "smpl_rte= 480\n",
      "mx_wndws= 2598\n"
     ]
    }
   ],
   "source": [
    "base_wn=np.array([])\n",
    "windws=np.array([])\n",
    "\n",
    "for cls in range (1,cls_num+1):                   #ساخت پنجره های داده های آموزش اصلی\n",
    "    vars()['wndws'+str(cls)]=np.array(vars()['ecg'+str(cls)])\n",
    "    base_wn=np.append(base_wn,vars()['wndws'+str(cls)])\n",
    "base_wn=np.reshape(base_wn,(int(len(base_wn)/wdth),wdth))  #base data windows\n",
    "print(\"shape wndws1=\", np.shape(wndws1))\n",
    "print(\"shape base_wn=\", np.shape(base_wn))\n",
    "\n",
    "furir_windws0=np.fft.fft(np.array(base_wn[:,:-1]))\n",
    "print(\"shape furir_windws0=\", np.shape(furir_windws0))\n",
    "furir_windws=np.concatenate((np.array(furir_windws0),np.transpose([base_wn[:,-1]])),axis=1)   \n",
    "print(\"shape furir_windws=\", np.shape(furir_windws))\n",
    "\n",
    "smpl_rte=len(base_wn[0])-1                 #len(ecg1[0])  # در ماژول ها نیز همین مقدار ثبت شده\n",
    "print(\"smpl_rte=\",smpl_rte)\n",
    "mx_wndws=np.max(np.bincount(np.int16(base_wn[:,-1])))\n",
    "print(\"mx_wndws=\",mx_wndws)"
   ]
  },
  {
   "cell_type": "code",
   "execution_count": 5,
   "id": "095bd5cf",
   "metadata": {
    "scrolled": true
   },
   "outputs": [],
   "source": [
    "path=('{}\\AugEvl'.format(cwd)) #create folder \n",
    "if not os.path.isdir(path):\n",
    "    os.mkdir(path)\n",
    "\n",
    "def addqlty(base_wn_dt,data,mthd,i):               \n",
    "    cls=int(i)\n",
    "    c,alpha,PL=0,1,1\n",
    "    #from glob import glob\n",
    "    cwd = os.getcwd() #\n",
    "    adrs=cwd+'/Aug/aug'+str(i)+str(mthd)+'.csv'\n",
    "    #alldata = np.array([])                    # List for storing all the data\n",
    "    train_labels=np.array(base_wn_dt[:,-1])\n",
    "    tr=np.array(base_wn_dt[:,:-1])\n",
    "    indx_pstv=np.where(base_wn_dt[:,-1] == i)\n",
    "    P=np.array(base_wn_dt[indx_pstv])\n",
    "    indx_ngtv=np.where(base_wn_dt[:,-1] != i)\n",
    "    N=np.array(base_wn_dt[indx_ngtv])\n",
    "\n",
    "    #data = np.array(data)\n",
    "    aug=np.array(data)\n",
    "    pnts=int(np.shape(data)[1])\n",
    "    \n",
    "    #aug=data[data[:,-2].argsort()]        # Positive data Sorted Base Distance\n",
    "    trl=np.array(train_labels)\n",
    "    for j in range (len(trl)):\n",
    "        if train_labels[j]==i :           # !!!!! == (Paper GDO)\n",
    "            trl[j]=1\n",
    "        else :\n",
    "            trl[j]=0\n",
    "    trlt=np.array([trl]).T\n",
    "    #mn_ds_pstv=np.reshape(aug[:,-2],(-1,1)) #min dis to positive class (submited in -2 column)\n",
    "    print('shape and aug[0]=',np.shape(aug[0]),aug[0])\n",
    "    print('shape P and P[0]=',np.shape(P),P[0])    \n",
    "    qlty1,qlty2=mn_ds_pstv,vr_P=dstnc(P[:,1:-1],aug[:,1:-1])  #min distance to negative class\n",
    "    new1=np.append(aug,qlty1,axis=1)\n",
    "    new2=np.append(new1,qlty2,axis=1)\n",
    "    mn_ds_ngtv,vr_N=dstnc(N[:,1:-1],aug[:,1:-1])              #min distance to negative class\n",
    "    qlty3=mn_ds_pstv/mn_ds_ngtv                               #Smaller is Better\n",
    "    qlty4=np.reshape(valuation(aug[:,:-1],tr,trlt),(-1,1))   #line 272\n",
    "    new3=np.append(new2,qlty3,axis=1)\n",
    "    new4=np.append(new3,qlty4,axis=1)\n",
    "    for j in range (len(trl)):\n",
    "        if train_labels[j]!=i :                          # !!!!! == (!= Inverse Paper GDO)\n",
    "            trl[j]=1\n",
    "        else :\n",
    "            trl[j]=0\n",
    "    trlt=np.array([trl]).T\n",
    "    qlty5=np.reshape(valuation(aug[:,:-1],tr,trlt),(-1,1))   #line 272\n",
    "    new5=np.append(new4,qlty5,axis=1)\n",
    "    print('class=',i,'shape(new5)=',np.shape(new5),end='\\t')\n",
    "    print('mx=',np.max(new5[:,1:-7]),end='\\t')\n",
    "    print('mn=',np.min(new5[:,1:-7]))\n",
    "    pd.DataFrame(new5[:,:]).to_csv('{}/AugEvl/AugEvl{}{}.csv'.format(cwd,cls,mthd))\n",
    "    print()\n",
    "    \n",
    "\n",
    "def agmnt_qlty(i): #classess\n",
    "    #for i in range (1,cls_num+1):                           #تعریف آرایه ی پنجره های کلاس ها\n",
    "    #for i in (classess):\n",
    "    vlum_sig=5*mx_wndws                                      #-len(vars()['wndws'+str(i)])\n",
    "\n",
    "    vars()['ecg_aug'+str(i)+'00']=np.empty((0,smpl_rte+1), float) #Scale    \n",
    "    vars()['ecg_aug'+str(i)+'10']=np.empty((0,smpl_rte+1), float) #Scale\n",
    "    vars()['ecg_aug'+str(i)+'20']=np.empty((0,smpl_rte+1), float) #Mag Warp\n",
    "    vars()['ecg_aug'+str(i)+'30']=np.empty((0,smpl_rte+1), float) #TimWarp\n",
    "    vars()['ecg_aug'+str(i)+'40']=np.empty((0,smpl_rte+1), float) #GDO\n",
    "    vars()['ecg_aug'+str(i)+'50']=np.empty((0,smpl_rte+1), float) #frequence\n",
    "    vars()['ecg_aug'+str(i)+'60']=np.empty((0,smpl_rte+1), float) #GAN\n",
    "    vars()['ecg_aug'+str(i)+'70']=np.empty((0,smpl_rte+1), float) #LSTM\n",
    "    \n",
    "    vars()['ecg_aug'+str(i)+'10']=np.append(vars()['ecg_aug'+str(i)+'10'],scl_rndm_beat(ecg,i,int(vlum_sig),mag=.2),axis=0)#0.1\n",
    "    addqlty(base_wn,vars()['ecg_aug'+str(i)+'10'],10,i)\n",
    "    print(str(i)+'10 =',len(vars()['ecg_aug'+str(i)+'10']))\n",
    "\n",
    "    vars()['ecg_aug'+str(i)+'20']=np.append(vars()['ecg_aug'+str(i)+'20'],MgWrp_rndm_beat(ecg,i,int(vlum_sig),mag=.2),axis=0)\n",
    "    addqlty(base_wn,vars()['ecg_aug'+str(i)+'20'],20,i)\n",
    "    print(str(i)+'20 =',len(vars()['ecg_aug'+str(i)+'20']))\n",
    "\n",
    "    vars()['ecg_aug'+str(i)+'30']=np.append(vars()['ecg_aug'+str(i)+'30'],TimWrp_rndm_beat(ecg,i,int(vlum_sig),mag=.2),axis=0)#.1\n",
    "    addqlty(base_wn,vars()['ecg_aug'+str(i)+'30'],30,i)\n",
    "    print(str(i)+'30 =',len(vars()['ecg_aug'+str(i)+'30']))\n",
    "\n",
    "    vars()['ecg_aug'+str(i)+'40']=np.append(vars()['ecg_aug'+str(i)+'40'],GDO_rndm_beat(ecg,i,int(vlum_sig),mag=.2),axis=0)\n",
    "    addqlty(base_wn,vars()['ecg_aug'+str(i)+'40'],40,i)\n",
    "    print(str(i)+'40 =',len(vars()['ecg_aug'+str(i)+'40']))\n",
    "\n",
    "    vars()['ecg_aug'+str(i)+'50']=np.append(vars()['ecg_aug'+str(i)+'50'],frqnc_rndm_beat(furir_windws,i,int(vlum_sig),mag=.2),axis=0)\n",
    "    addqlty(base_wn,vars()['ecg_aug'+str(i)+'50'],50,i)\n",
    "    print(str(i)+'50 =',len(vars()['ecg_aug'+str(i)+'50']))"
   ]
  },
  {
   "cell_type": "code",
   "execution_count": null,
   "id": "adca00a4",
   "metadata": {},
   "outputs": [
    {
     "name": "stderr",
     "output_type": "stream",
     "text": [
      "\r",
      "  0%|                                                                                           | 0/17 [00:00<?, ?it/s]"
     ]
    }
   ],
   "source": [
    "\n",
    "import multiprocessing\n",
    "from joblib import Parallel, delayed\n",
    "from tqdm import tqdm\n",
    "\n",
    "num_cores = multiprocessing.cpu_count()\n",
    "classess = tqdm(range(1,18))\n",
    "\n",
    "#if __name__ == \"__main__\":\n",
    "Parallel(n_jobs=num_cores)(delayed(agmnt_qlty)(i) for i in classess)     #processed_list = "
   ]
  },
  {
   "cell_type": "code",
   "execution_count": null,
   "id": "272c738a",
   "metadata": {},
   "outputs": [],
   "source": [
    "for i in range (1,cls_num+1):                           #تعریف آرایه ی پنجره های کلاس ها\n",
    "    aug_pls60,aug_pls61,aug_pls62=3,4,5 #2 is MgWrp and 4 is GDO and 5 is freq Augmentes Data for GAN Training\n",
    "    vars()['ecg_aug'+str(i)+'60']=np.append(vars()['ecg_aug'+str(i)+'60'],GAN_Gnrt(ecg,i,aug_pls60),axis=0)\n",
    "    addqlty(base_wn,vars()['ecg_aug'+str(i)+'60'],60,i)\n",
    "    print(str(i)+'60 =',len(vars()['ecg_aug'+str(i)+'60']))"
   ]
  },
  {
   "cell_type": "code",
   "execution_count": null,
   "id": "5e9a1095",
   "metadata": {},
   "outputs": [],
   "source": [
    "for i in range (1,cls_num+1):                           #تعریف آرایه ی پنجره های کلاس ها\n",
    "    aug_pls70,aug_pls71,aug_pls72=3,4,5 #2 is MgWrp and 3 is TimeWrp Augmentes Data for LSTM Augmentation\n",
    "    vars()['ecg_aug'+str(i)+'70']=np.append(vars()['ecg_aug'+str(i)+'70'],LSTM_Gnrt_Pridc(ecg,i,aug_pls70),axis=0)\n",
    "    addqlty(base_wn,vars()['ecg_aug'+str(i)+'70'],70,i)\n",
    "    print(str(i)+'70 =',len(vars()['ecg_aug'+str(i)+'70']))"
   ]
  }
 ],
 "metadata": {
  "kernelspec": {
   "display_name": "Python 3 (ipykernel)",
   "language": "python",
   "name": "python3"
  },
  "language_info": {
   "codemirror_mode": {
    "name": "ipython",
    "version": 3
   },
   "file_extension": ".py",
   "mimetype": "text/x-python",
   "name": "python",
   "nbconvert_exporter": "python",
   "pygments_lexer": "ipython3",
   "version": "3.9.7"
  }
 },
 "nbformat": 4,
 "nbformat_minor": 5
}
