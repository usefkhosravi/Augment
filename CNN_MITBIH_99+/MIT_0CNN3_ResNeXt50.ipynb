{
 "cells": [
  {
   "cell_type": "markdown",
   "metadata": {},
   "source": [
    "import time\n",
    "plc=1\n",
    "time.sleep(3000*plc)         #run after 1 houre = 3600 seconds"
   ]
  },
  {
   "cell_type": "code",
   "execution_count": 1,
   "metadata": {},
   "outputs": [
    {
     "data": {
      "text/html": [
       "<style>#notebook { padding-top:0px !important; } .container { width:100% !important; } .end_space { min-height:0px !important; } html, body, .container{ margin:0!important;padding:0!important;}</style>"
      ],
      "text/plain": [
       "<IPython.core.display.HTML object>"
      ]
     },
     "metadata": {},
     "output_type": "display_data"
    }
   ],
   "source": [
    "import os\n",
    "import glob\n",
    "import scipy\n",
    "import random\n",
    "import bisect\n",
    "import numpy as np\n",
    "import pandas as pd\n",
    "import seaborn as sns\n",
    "from scipy import signal\n",
    "from scipy.signal import find_peaks\n",
    "import matplotlib.pyplot as plt\n",
    "from preprocess import *                         #ماژول استخراج پنجره ها\n",
    "from data import *                          #ماژول محلی ورود داده ها\n",
    "from augment import *                            #ماژول های داده افزایی\n",
    "from lstm_cnn import *                           #ماژول های داده افزایی با lstm_cnn\n",
    "import augment\n",
    "import importlib\n",
    "importlib.reload(augment)\n",
    "import tensorflow as tf\n",
    "from tensorflow import keras\n",
    "from tensorflow.keras.layers import BatchNormalization,Input,ReLU,add,MaxPool1D,GlobalAveragePooling1D\n",
    "from sklearn.model_selection import train_test_split\n",
    "from sklearn.neural_network import MLPClassifier\n",
    "from sklearn.datasets import make_classification\n",
    "from sklearn.metrics import confusion_matrix, accuracy_score, classification_report,recall_score,precision_score,mean_absolute_error\n",
    "from tensorflow.keras import callbacks,Model,layers\n",
    "from tensorflow.keras.models import Sequential\n",
    "from tensorflow.keras.layers import Convolution2D,Conv1D,Dropout,MaxPooling1D,MaxPooling2D,Flatten,Dense\n",
    "from tensorflow.keras import backend as K\n",
    "from tensorflow.keras.utils import to_categorical\n",
    "from tensorflow.keras.models import load_model\n",
    "from keras.callbacks import EarlyStopping, ModelCheckpoint\n",
    "cwd = os.getcwd() #\n",
    "fullscrn()"
   ]
  },
  {
   "cell_type": "code",
   "execution_count": null,
   "metadata": {},
   "outputs": [],
   "source": [
    "def maxindx(ar):\n",
    "    ar_cpy=np.array(ar)\n",
    "    pred=np.argmax(ar,axis=1)\n",
    "    for i in range (len(pred)):\n",
    "        if pred[i]==0:\n",
    "            ar_cpy[i,0]=-1000\n",
    "    pred=np.argmax(ar_cpy,axis=1)\n",
    "    return(pred)\n",
    "\n",
    "def wndwng0d(x,snstvty=2):            #روش تشخیص ایپاک پایه\n",
    "    smpl_rte=480\n",
    "    i=0\n",
    "    wndws=np.array([])\n",
    "    #for i in range (1,2):   #print(np.shape(x))\n",
    "    if snstvty==1 :                        #تشخیص ایپاک پایه\n",
    "        xj=np.array(x)\n",
    "        peaks,_ = find_peaks(xj, height=0.03*max(xj), distance=200,prominence=300, width=3)\n",
    "        if len(peaks)<6 :\n",
    "            peaks,_ = find_peaks(xj, height=0.03*max(xj), distance=160,prominence=100, width=3)\n",
    "            #print('class ', i, 'Row = ', j, 'have ',len(peaks),'peaks')\n",
    "        if len(peaks)>1 :\n",
    "            for z in range (len(peaks)):\n",
    "                if (peaks[z]<3100 and peaks[z]!=peaks[-1]) :\n",
    "                    win=np.array(xj[peaks[z]:peaks[z+1]])\n",
    "                    win = signal.resample(win, smpl_rte)\n",
    "                    if len(win)==smpl_rte :  #win=np.append(win, i)# if len(win)==smpl_rte+1 :\n",
    "                        wndws=np.append(wndws, win)\n",
    "\n",
    "\n",
    "    if snstvty==2 :                        #تشخیص ایپاک حساس تر\n",
    "        xj=np.array(x)\n",
    "        peaks,_ = find_peaks(xj, height=0.02*max(xj), distance=160,prominence=200, width=3)\n",
    "        if len(peaks)<6 :\n",
    "            peaks,_ = find_peaks(xj, height=0.01*max(xj), distance=120,prominence=60, width=3)\n",
    "        if len(peaks)>1 :\n",
    "            for z in range (len(peaks)):\n",
    "                if (peaks[z]<3100 and peaks[z]!=peaks[-1]) :\n",
    "                    win=np.array(xj[peaks[z]:peaks[z+1]])\n",
    "                    win = signal.resample(win, smpl_rte)\n",
    "                    if len(win)==smpl_rte :\n",
    "                        wndws=np.append(wndws, win)\n",
    "    rows=int(len(wndws)/(smpl_rte))            #/(smpl_rte+1))\n",
    "    wndws0=np.reshape(wndws,(rows,(smpl_rte)))    #(wndws,(rows,(smpl_rte+1)))\n",
    "    return(wndws0)"
   ]
  },
  {
   "cell_type": "markdown",
   "metadata": {},
   "source": [
    "<h1><center><div style=\"direction:rtl;font-family:B Nazanin\">Importing Data</div></center></h1>"
   ]
  },
  {
   "cell_type": "code",
   "execution_count": 2,
   "metadata": {
    "scrolled": true
   },
   "outputs": [
    {
     "name": "stdout",
     "output_type": "stream",
     "text": [
      "first_train_shape= (276, 81)\n",
      "first_test_shape= (600, 81)\n",
      "classes_quantity= 2\n",
      "tr_lbls=\t {0, 1}\n",
      "Count_labels= [161]\n",
      "max(train_feature_Altitude)= 2.4602\n",
      "min(train_feature_Altitude)= -2.1799\n",
      "first_train_sample=\n",
      " [ 1.       -0.88425  -0.76511  -0.6264   -0.30459  -0.014302  0.29922\n",
      "  0.51262   0.62572   0.89455   1.053     1.1322    1.2672    1.4321\n",
      "  1.4845    1.2757    1.1589    1.0053    0.81736   0.50439   0.37885\n",
      "  0.14581  -0.20947  -0.57872  -0.67481  -0.79999  -0.93504  -0.78816\n",
      " -0.57744  -0.27191   0.061242  0.41037   0.76072   1.1348    1.5046\n",
      "  1.6696    1.6999    1.5531    1.3937    1.4704    1.5877    1.6902\n",
      "  1.7647    1.5246    1.1461    0.76139   0.42848   0.076242 -0.2335\n",
      " -0.51671  -0.81834  -0.080823 -0.27898  -0.46208  -0.69433  -0.92273\n",
      " -1.1133   -1.3737   -1.5067   -1.5621   -1.3708   -1.102    -0.86298\n",
      " -0.53403  -0.3252   -0.1899   -0.3366   -0.45422  -0.60653  -0.78383\n",
      " -1.0497   -1.3447   -1.4977   -1.5734   -1.4749   -1.2418   -1.0149\n",
      " -0.78176  -0.61354  -0.3066   -0.16655 ]\n",
      "0 115\t1 161\t"
     ]
    }
   ],
   "source": [
    "cls_num=17\n",
    "for i in range (1,cls_num+1):\n",
    "    vars()['ecg'+str(i)]=MITBIH(i)\n",
    "os.chdir(cwd)\n",
    "clses_lens=np.array([])\n",
    "i=0                               #جمع آوری داده ها و چاپ تعداد نمونه ی هر کلاس\n",
    "ecg=np.array(ecg1)\n",
    "print(1,len(vars()['ecg'+str(1)]), end='\\t')\n",
    "clses_lens=np.append(clses_lens,len(vars()['ecg'+str(1)]))\n",
    "for i in range (2,cls_num+1):\n",
    "    ecg=np.concatenate((ecg,vars()['ecg'+str(i)]),axis=0)\n",
    "    clses_lens=np.append(clses_lens,len(vars()['ecg'+str(i)]))\n",
    "    print( i,len(vars()['ecg'+str(i)]), end='\\t')\n",
    "\n",
    "mx_sig=max(clses_lens)\n",
    "btch=1000"
   ]
  },
  {
   "cell_type": "markdown",
   "metadata": {},
   "source": [
    "<h2><center><div style=\"direction:rtl;font-family:B Nazanin\">Base Train windows</div></center></h1>"
   ]
  },
  {
   "cell_type": "code",
   "execution_count": 5,
   "metadata": {},
   "outputs": [
    {
     "name": "stdout",
     "output_type": "stream",
     "text": [
      "each class and its windows =\n",
      "0 115\t1 161\t\n",
      " max = 161\n"
     ]
    }
   ],
   "source": [
    "smpl_rte=480                                              # در ماژول ها نیز همین مقدار ثبت شده\n",
    "i=0\n",
    "windws=np.array([])\n",
    "for cls in range (1,cls_num+1):                                 #ساخت پنجره های داده های آموزش اصلی\n",
    "    dta=np.array(vars()['ecg'+str(cls)][int(.1*len(vars()['ecg'+str(cls)])):,:]) #انتخاب محدوده ترِین جهت داده افزایی\n",
    "    vars()['wndws'+str(cls)]=wndwng(dta)                #نرخ نمونه برداری 480 است و شماره کلاس در آخر ردیف نیست\n",
    "    clm0vlu=np.zeros(len(vars()['wndws'+str(cls)]))\n",
    "    cls_clm=np.array(clm0vlu)\n",
    "    cls_clm=np.int16(cls_clm+cls)\n",
    "    cls_clm=np.transpose([cls_clm])                     # افزودن ستون برچسب (شماره کلاس) به سمت راست پنجره ها\n",
    "    vars()['wndws'+str(cls)]=np.concatenate((vars()['wndws'+str(cls)],cls_clm),axis=1)   \n",
    "\n",
    "print(\"each class and its windows =\")\n",
    "cls_wndws=np.array([])\n",
    "for cls in range (1,cls_num+1):                                # آرایه ی تعداد پنجره ی هر کلاس\n",
    "    wns=len(vars()['wndws'+str(cls)])\n",
    "    cls_wndws=np.append(cls_wndws,wns)\n",
    "    print(cls, wns, end='\\t')\n",
    "cls_wndws=np.int16(cls_wndws)    \n",
    "mx_wndws=int(np.max(cls_wndws))                        # حداکثر تعداد پنجره ی موجود بین کلاس ها\n",
    "print('\\n max =', mx_wndws)"
   ]
  },
  {
   "cell_type": "raw",
   "metadata": {},
   "source": [
    "#clses=3                                   #تعیین میزان افزایش نمونه (تولید داده)\n",
    "mx_wndws=int(mx_wndws)  #mx_wndws*0.3  # =classes-1 برای بررسی الگوریتم تعداد کمی کلاس آزمایش شد\n",
    "mx_wndws=2598           #+2\n",
    "print(mx_wndws)"
   ]
  },
  {
   "cell_type": "markdown",
   "metadata": {},
   "source": [
    "<h1><center><div style=\"direction:rtl;font-family:B Nazanin\">Data Augmentation</div></center></h1>"
   ]
  },
  {
   "cell_type": "code",
   "execution_count": 6,
   "metadata": {},
   "outputs": [
    {
     "name": "stdout",
     "output_type": "stream",
     "text": [
      "Up to class  0 train shape =  (115, 481)\n",
      "Up to class  1 train shape =  (276, 481)\n"
     ]
    }
   ],
   "source": [
    "smpl_rte=len(wndws1[0])                                        # در ماژول ها نیز همین مقدار ثبت شده\n",
    "\n",
    "#add augmented data to base data\n",
    "xtrain=np.empty((0,len(wndws1[0])), float) \n",
    "for i in range (0,cls_num):   \n",
    "    xtrain=np.append(xtrain,vars()['wndws'+str(i)],axis=0)\n",
    "    print('Up to class ', i, 'train shape = ', np.shape(xtrain))"
   ]
  },
  {
   "cell_type": "code",
   "execution_count": 7,
   "metadata": {},
   "outputs": [
    {
     "name": "stdout",
     "output_type": "stream",
     "text": [
      "[115 161]\n"
     ]
    }
   ],
   "source": [
    "print(np.bincount(np.int16(xtrain[:,-1])))    #تعداد پنجره در هر کلاس از 0 تا 17"
   ]
  },
  {
   "cell_type": "code",
   "execution_count": 8,
   "metadata": {},
   "outputs": [
    {
     "data": {
      "text/plain": [
       "array([0., 0., 0., 0., 0., 0., 0., 0., 0., 0., 0., 0., 0., 0., 0., 0., 0.,\n",
       "       0., 0., 0., 0., 0., 0., 0., 0., 0., 0., 0., 0., 0., 0., 0., 0., 0.,\n",
       "       0., 0., 0., 0., 0., 0., 0., 0., 0., 0., 0., 0., 0., 0., 0., 0., 0.,\n",
       "       0., 0., 0., 0., 0., 0., 0., 0., 0., 0., 0., 0., 0., 0., 0., 0., 0.,\n",
       "       0., 0., 0., 0., 0., 0., 0., 0., 0., 0., 0., 0., 0., 0., 0., 0., 0.,\n",
       "       0., 0., 0., 0., 0., 0., 0., 0., 0., 0., 0., 0., 0., 0., 0., 0., 0.,\n",
       "       0., 0., 0., 0., 0., 0., 0., 0., 0., 0., 0., 0., 0., 1., 1., 1., 1.,\n",
       "       1., 1., 1., 1., 1., 1., 1., 1., 1., 1., 1., 1., 1., 1., 1., 1., 1.,\n",
       "       1., 1., 1., 1., 1., 1., 1., 1., 1., 1., 1., 1., 1., 1., 1., 1., 1.,\n",
       "       1., 1., 1., 1., 1., 1., 1., 1., 1., 1., 1., 1., 1., 1., 1., 1., 1.,\n",
       "       1., 1., 1., 1., 1., 1., 1., 1., 1., 1., 1., 1., 1., 1., 1., 1., 1.,\n",
       "       1., 1., 1., 1., 1., 1., 1., 1., 1., 1., 1., 1., 1., 1., 1., 1., 1.,\n",
       "       1., 1., 1., 1., 1., 1., 1., 1., 1., 1., 1., 1., 1., 1., 1., 1., 1.,\n",
       "       1., 1., 1., 1., 1., 1., 1., 1., 1., 1., 1., 1., 1., 1., 1., 1., 1.,\n",
       "       1., 1., 1., 1., 1., 1., 1., 1., 1., 1., 1., 1., 1., 1., 1., 1., 1.,\n",
       "       1., 1., 1., 1., 1., 1., 1., 1., 1., 1., 1., 1., 1., 1., 1., 1., 1.,\n",
       "       1., 1., 1., 1.])"
      ]
     },
     "execution_count": 8,
     "metadata": {},
     "output_type": "execute_result"
    }
   ],
   "source": [
    "xtrain[:,-1]"
   ]
  },
  {
   "cell_type": "code",
   "execution_count": 9,
   "metadata": {},
   "outputs": [],
   "source": [
    "mx_aug=np.max(xtrain[:,:-1])\n",
    "mx=np.max(ecg[:,:-1])\n",
    "mn_aug=np.min(xtrain[:,:-1])\n",
    "mn=np.min(ecg[:,:-1])\n",
    "\n",
    "#for i in range (0,cls_num):             #نرمالسازی داده های افزایشی\n",
    "xtrain[:,:-1]= 2*(xtrain[:,:-1]-mn_aug)/(mx_aug - mn_aug) - 1"
   ]
  },
  {
   "cell_type": "code",
   "execution_count": 10,
   "metadata": {},
   "outputs": [
    {
     "name": "stdout",
     "output_type": "stream",
     "text": [
      "min trn = -1.0\n",
      "max trn = 1.0\n"
     ]
    }
   ],
   "source": [
    "print('min trn =', np.min(xtrain[:,:-1]))\n",
    "print('max trn =', np.max(xtrain[:,:-1]))"
   ]
  },
  {
   "cell_type": "markdown",
   "metadata": {},
   "source": [
    "<h3><center><div style=\"direction:rtl;font-family:B Nazanin\">Test Windows</div></center></h1>"
   ]
  },
  {
   "cell_type": "code",
   "execution_count": 11,
   "metadata": {},
   "outputs": [],
   "source": [
    "wndws_test=np.empty((0,len(wndws1[0])), float)\n",
    "i=0\n",
    "windws=np.array([])\n",
    "for cls in range (0,cls_num):                                 #ساخت پنجره های داده های آموزش اصلی\n",
    "    vars()['wndws_tst'+str(cls)]=np.empty((0,len(wndws1[0])), float)\n",
    "    vars()['wndws_tst'+str(cls)]=np.append(vars()['wndws_tst'+str(cls)],vars()['ecg_tst'+str(cls)],axis=0)   "
   ]
  },
  {
   "cell_type": "code",
   "execution_count": 12,
   "metadata": {},
   "outputs": [
    {
     "name": "stdout",
     "output_type": "stream",
     "text": [
      "\n",
      " cls 0  >> \n",
      "max magnitude class 0  =  2.4659367123545555\n",
      "min magnitude class 0  =  -2.1616024973492727\n",
      "after normalizing >>\n",
      "max magnitude class 0  =  0.9764289207494858\n",
      "min magnitude class 0  =  -0.9718534363802719\n",
      "\n",
      " cls 1  >> \n",
      "max magnitude class 1  =  2.095753113350402\n",
      "min magnitude class 1  =  -1.994499999999999\n",
      "after normalizing >>\n",
      "max magnitude class 1  =  0.8205745579542003\n",
      "min magnitude class 1  =  -0.9015000946440819\n",
      "each class and its windows =\n",
      "0 222\t1 378\t\n",
      " max instance in classes of test windows = 378\n"
     ]
    }
   ],
   "source": [
    "#print(np.max(wndws_tst))\n",
    "for i in range (0,cls_num):                # Normalization test windows\n",
    "    cls=i\n",
    "    print('\\n cls', i, ' >> ')\n",
    "    print('max magnitude class', i , ' = ' ,np.max(vars()['wndws_tst'+str(cls)][:,:-1]))\n",
    "    print('min magnitude class', i , ' = ' ,np.min(vars()['wndws_tst'+str(cls)][:,:-1]))\n",
    "\n",
    "    vars()['wndws_tst'+str(i)][:,:-1]= 2*(vars()['wndws_tst'+str(i)][:,:-1]-mn_aug)/(mx_aug - mn_aug) - 1\n",
    "    \n",
    "    print('after normalizing >>')\n",
    "    print('max magnitude class', i , ' = ' ,np.max(vars()['wndws_tst'+str(cls)][:,:-1]))\n",
    "    print('min magnitude class', i , ' = ' ,np.min(vars()['wndws_tst'+str(cls)][:,:-1]))\n",
    "    \n",
    "print(\"each class and its windows =\")                    #تجمیع کلاس های تست\n",
    "cls_wndws=np.array([])\n",
    "for cls in range (0,cls_num):                                # آرایه ی تعداد پنجره ی هر کلاس\n",
    "    wns=len(vars()['wndws_tst'+str(cls)])\n",
    "    cls_wndws=np.append(cls_wndws,wns)\n",
    "    print(cls, wns, end='\\t')\n",
    "    wndws_test=np.append(wndws_test,vars()['wndws_tst'+str(cls)],axis=0)\n",
    "    \n",
    "mx_wndws=int(np.max(cls_wndws))                        # حداکثر تعداد پنجره ی موجود بین کلاس ها\n",
    "print('\\n max instance in classes of test windows =', mx_wndws)"
   ]
  },
  {
   "cell_type": "code",
   "execution_count": 13,
   "metadata": {},
   "outputs": [
    {
     "name": "stdout",
     "output_type": "stream",
     "text": [
      "min tst = -0.9718534363802719\n",
      "max tst = 0.9764289207494858\n"
     ]
    }
   ],
   "source": [
    "print('min tst =', np.min(wndws_test[:,:-1]))\n",
    "print('max tst =', np.max(wndws_test[:,:-1]))"
   ]
  },
  {
   "cell_type": "code",
   "execution_count": 14,
   "metadata": {},
   "outputs": [
    {
     "data": {
      "text/plain": [
       "600"
      ]
     },
     "execution_count": 14,
     "metadata": {},
     "output_type": "execute_result"
    }
   ],
   "source": [
    "len(wndws_test)"
   ]
  },
  {
   "cell_type": "code",
   "execution_count": 15,
   "metadata": {},
   "outputs": [
    {
     "data": {
      "text/plain": [
       "(600, 481)"
      ]
     },
     "execution_count": 15,
     "metadata": {},
     "output_type": "execute_result"
    }
   ],
   "source": [
    "np.shape(wndws_test)"
   ]
  },
  {
   "cell_type": "code",
   "execution_count": 16,
   "metadata": {},
   "outputs": [],
   "source": [
    "Xtest=wndws_test[:,:-1]\n",
    "ytest=np.int16(wndws_test[:,-1])"
   ]
  },
  {
   "cell_type": "code",
   "execution_count": 17,
   "metadata": {},
   "outputs": [
    {
     "name": "stdout",
     "output_type": "stream",
     "text": [
      "array([0, 0, 0, 0, 0, 0, 0, 0, 0, 0, 0, 0, 0, 0, 0, 0, 0, 0, 0, 0, 0, 0,\n",
      "       0, 0, 0, 0, 0, 0, 0, 0, 0, 0, 0, 0, 0, 0, 0, 0, 0, 0, 0, 0, 0, 0,\n",
      "       0, 0, 0, 0, 0, 0, 0, 0, 0, 0, 0, 0, 0, 0, 0, 0, 0, 0, 0, 0, 0, 0,\n",
      "       0, 0, 0, 0, 0, 0, 0, 0, 0, 0, 0, 0, 0, 0, 0, 0, 0, 0, 0, 0, 0, 0,\n",
      "       0, 0, 0, 0, 0, 0, 0, 0, 0, 0, 0, 0, 0, 0, 0, 0, 0, 0, 0, 0, 0, 0,\n",
      "       0, 0, 0, 0, 0, 0, 0, 0, 0, 0, 0, 0, 0, 0, 0, 0, 0, 0, 0, 0, 0, 0,\n",
      "       0, 0, 0, 0, 0, 0, 0, 0, 0, 0, 0, 0, 0, 0, 0, 0, 0, 0, 0, 0, 0, 0,\n",
      "       0, 0, 0, 0, 0, 0, 0, 0, 0, 0, 0, 0, 0, 0, 0, 0, 0, 0, 0, 0, 0, 0,\n",
      "       0, 0, 0, 0, 0, 0, 0, 0, 0, 0, 0, 0, 0, 0, 0, 0, 0, 0, 0, 0, 0, 0,\n",
      "       0, 0, 0, 0, 0, 0, 0, 0, 0, 0, 0, 0, 0, 0, 0, 0, 0, 0, 0, 0, 0, 0,\n",
      "       0, 0, 1, 1, 1, 1, 1, 1, 1, 1, 1, 1, 1, 1, 1, 1, 1, 1, 1, 1, 1, 1,\n",
      "       1, 1, 1, 1, 1, 1, 1, 1, 1, 1, 1, 1, 1, 1, 1, 1, 1, 1, 1, 1, 1, 1,\n",
      "       1, 1, 1, 1, 1, 1, 1, 1, 1, 1, 1, 1, 1, 1, 1, 1, 1, 1, 1, 1, 1, 1,\n",
      "       1, 1, 1, 1, 1, 1, 1, 1, 1, 1, 1, 1, 1, 1, 1, 1, 1, 1, 1, 1, 1, 1,\n",
      "       1, 1, 1, 1, 1, 1, 1, 1, 1, 1, 1, 1, 1, 1, 1, 1, 1, 1, 1, 1, 1, 1,\n",
      "       1, 1, 1, 1, 1, 1, 1, 1, 1, 1, 1, 1, 1, 1, 1, 1, 1, 1, 1, 1, 1, 1,\n",
      "       1, 1, 1, 1, 1, 1, 1, 1, 1, 1, 1, 1, 1, 1, 1, 1, 1, 1, 1, 1, 1, 1,\n",
      "       1, 1, 1, 1, 1, 1, 1, 1, 1, 1, 1, 1, 1, 1, 1, 1, 1, 1, 1, 1, 1, 1,\n",
      "       1, 1, 1, 1, 1, 1, 1, 1, 1, 1, 1, 1, 1, 1, 1, 1, 1, 1, 1, 1, 1, 1,\n",
      "       1, 1, 1, 1, 1, 1, 1, 1, 1, 1, 1, 1, 1, 1, 1, 1, 1, 1, 1, 1, 1, 1,\n",
      "       1, 1, 1, 1, 1, 1, 1, 1, 1, 1, 1, 1, 1, 1, 1, 1, 1, 1, 1, 1, 1, 1,\n",
      "       1, 1, 1, 1, 1, 1, 1, 1, 1, 1, 1, 1, 1, 1, 1, 1, 1, 1, 1, 1, 1, 1,\n",
      "       1, 1, 1, 1, 1, 1, 1, 1, 1, 1, 1, 1, 1, 1, 1, 1, 1, 1, 1, 1, 1, 1,\n",
      "       1, 1, 1, 1, 1, 1, 1, 1, 1, 1, 1, 1, 1, 1, 1, 1, 1, 1, 1, 1, 1, 1,\n",
      "       1, 1, 1, 1, 1, 1, 1, 1, 1, 1, 1, 1, 1, 1, 1, 1, 1, 1, 1, 1, 1, 1,\n",
      "       1, 1, 1, 1, 1, 1, 1, 1, 1, 1, 1, 1, 1, 1, 1, 1, 1, 1, 1, 1, 1, 1,\n",
      "       1, 1, 1, 1, 1, 1, 1, 1, 1, 1, 1, 1, 1, 1, 1, 1, 1, 1, 1, 1, 1, 1,\n",
      "       1, 1, 1, 1, 1, 1], dtype=int16)\n"
     ]
    }
   ],
   "source": [
    "fullprint(ytest)"
   ]
  },
  {
   "cell_type": "markdown",
   "metadata": {},
   "source": [
    "<h3><center><div style=\"direction:rtl;font-family:B Nazanin\">Train Windows</div></center></h1>"
   ]
  },
  {
   "cell_type": "code",
   "execution_count": 18,
   "metadata": {},
   "outputs": [
    {
     "data": {
      "text/plain": [
       "'\\nytestt=np.int32(np.array([ytest]).T)\\ntestx=np.concatenate((Xtest, ytestt), axis=1)\\ntestx=np.random.permutation(testx)\\nXtest=np.int32(testx[:,:-1])\\nytest=np.int32(testx[:,-1])'"
      ]
     },
     "execution_count": 18,
     "metadata": {},
     "output_type": "execute_result"
    }
   ],
   "source": [
    "#ytraint=np.int32(np.array([ytrain]).T)\n",
    "#trainx=np.concatenate((Xtrain, ytraint), axis=1)\n",
    "trainx=np.random.permutation(xtrain)\n",
    "Xtrain=np.array(trainx[:,:-1])\n",
    "ytrain=np.int16(trainx[:,-1])\n",
    "'''\n",
    "ytestt=np.int32(np.array([ytest]).T)\n",
    "testx=np.concatenate((Xtest, ytestt), axis=1)\n",
    "testx=np.random.permutation(testx)\n",
    "Xtest=np.int32(testx[:,:-1])\n",
    "ytest=np.int32(testx[:,-1])'''"
   ]
  },
  {
   "cell_type": "code",
   "execution_count": 19,
   "metadata": {},
   "outputs": [
    {
     "data": {
      "text/plain": [
       "(161, 481)"
      ]
     },
     "execution_count": 19,
     "metadata": {},
     "output_type": "execute_result"
    }
   ],
   "source": [
    "np.shape(wndws1)"
   ]
  },
  {
   "cell_type": "markdown",
   "metadata": {},
   "source": [
    "<h3><center><div style=\"direction:rtl;font-family:B Nazanin\">Validation Windows</div></center></h1>"
   ]
  },
  {
   "cell_type": "code",
   "execution_count": 20,
   "metadata": {},
   "outputs": [],
   "source": [
    "Xvalid=np.array(Xtrain)\n",
    "yvalid=np.array(ytrain)"
   ]
  },
  {
   "cell_type": "markdown",
   "metadata": {},
   "source": [
    "<h1><center><div style=\"direction:rtl;font-family:B Nazanin\">CNN And UnBalanced RAW Data</div></center></h1>\n",
    "<h1><center><div style=\"direction:rtl;font-family:Arial\">Cross Entropy Loss Function</div></center></h1>"
   ]
  },
  {
   "cell_type": "code",
   "execution_count": 21,
   "metadata": {
    "scrolled": true
   },
   "outputs": [
    {
     "name": "stdout",
     "output_type": "stream",
     "text": [
      "X_train =>  (276, 480)\n",
      "y_train =>  (276,)\n",
      "X_test  =>  (600, 480)\n",
      "y_test  =>  (600,)\n",
      "X_valid  =>  (276, 480)\n",
      "y_valid  =>  (276,)\n"
     ]
    }
   ],
   "source": [
    "X_train=np.array(Xtrain)\n",
    "y_train=np.array(ytrain)\n",
    "X_test=np.array(Xtest)\n",
    "y_test=np.array(ytest)\n",
    "X_valid=np.array(Xtrain)\n",
    "y_valid=np.array(ytrain)\n",
    "print('X_train => ', X_train.shape)\n",
    "print('y_train => ', y_train.shape)\n",
    "print('X_test  => ', X_test.shape)\n",
    "print('y_test  => ', y_test.shape)\n",
    "print('X_valid  => ', X_valid.shape)\n",
    "print('y_valid  => ', y_valid.shape)"
   ]
  },
  {
   "cell_type": "code",
   "execution_count": 22,
   "metadata": {},
   "outputs": [
    {
     "name": "stdout",
     "output_type": "stream",
     "text": [
      " class was started from 0=Zero \n",
      "final labels= {0, 1}\n"
     ]
    }
   ],
   "source": [
    "if min(y_train)==0:\n",
    "    print(' class was started from 0=Zero ')\n",
    "else:\n",
    "    print('!!!!!! class Should start from 0=Zero !!!!!!')\n",
    "    print(\"!!!!!!   Reduce 1 From Class Number    !!!!!\")\n",
    "    y_train=np.array(y_train-1)\n",
    "    y_test=np.array(y_test-1)\n",
    "    y_valid=np.array(y_valid-1)\n",
    "print('final labels=',set(y_train))"
   ]
  },
  {
   "cell_type": "code",
   "execution_count": 23,
   "metadata": {},
   "outputs": [],
   "source": [
    "y_train_cat=to_categorical(y_train)#[:,1:]\n",
    "y_valid_cat=to_categorical(y_valid)#[:,1:]\n",
    "y_test_cat=to_categorical(y_test)#[:,1:]\n",
    "\n",
    "\n",
    "X_train = np.expand_dims(X_train, axis=2)\n",
    "X_valid = np.expand_dims(X_valid, axis=2)\n",
    "X_test = np.expand_dims(X_test, axis=2)\n",
    "#y_train=np.transpose([y_train])"
   ]
  },
  {
   "cell_type": "markdown",
   "metadata": {},
   "source": [
    "<h1><center><div style=\"direction:rtl;font-family:B Nazanin\">Network</div></center></h1>"
   ]
  },
  {
   "cell_type": "code",
   "execution_count": 24,
   "metadata": {
    "scrolled": true
   },
   "outputs": [
    {
     "name": "stdout",
     "output_type": "stream",
     "text": [
      "Epoch 1/500\n",
      "14/14 [==============================] - 43s 653ms/step - loss: 1.0508 - accuracy: 0.5761 - val_loss: 5.3673 - val_accuracy: 0.4167\n",
      "Epoch 2/500\n",
      "14/14 [==============================] - 5s 393ms/step - loss: 0.8152 - accuracy: 0.5870 - val_loss: 0.7031 - val_accuracy: 0.4130\n",
      "Epoch 3/500\n",
      "14/14 [==============================] - 6s 407ms/step - loss: 0.6847 - accuracy: 0.6014 - val_loss: 0.6908 - val_accuracy: 0.5833\n",
      "Epoch 4/500\n",
      "14/14 [==============================] - 6s 401ms/step - loss: 0.7803 - accuracy: 0.5833 - val_loss: 0.6788 - val_accuracy: 0.5833\n",
      "Epoch 5/500\n",
      "14/14 [==============================] - 6s 398ms/step - loss: 0.7222 - accuracy: 0.5978 - val_loss: 0.8127 - val_accuracy: 0.4167\n",
      "Epoch 6/500\n",
      "14/14 [==============================] - 6s 407ms/step - loss: 0.6810 - accuracy: 0.6884 - val_loss: 0.7343 - val_accuracy: 0.4167\n",
      "Epoch 7/500\n",
      "14/14 [==============================] - 6s 399ms/step - loss: 0.6627 - accuracy: 0.6558 - val_loss: 0.8157 - val_accuracy: 0.4167\n",
      "Epoch 8/500\n",
      "14/14 [==============================] - 6s 405ms/step - loss: 0.6586 - accuracy: 0.6341 - val_loss: 1.6896 - val_accuracy: 0.4167\n",
      "Epoch 9/500\n",
      "14/14 [==============================] - 6s 403ms/step - loss: 0.6542 - accuracy: 0.6449 - val_loss: 0.9503 - val_accuracy: 0.4167\n",
      "Epoch 10/500\n",
      "14/14 [==============================] - 5s 391ms/step - loss: 0.6565 - accuracy: 0.6486 - val_loss: 1.3209 - val_accuracy: 0.4167\n",
      "Epoch 11/500\n",
      "14/14 [==============================] - 5s 397ms/step - loss: 0.5647 - accuracy: 0.7536 - val_loss: 1.3528 - val_accuracy: 0.4167\n",
      "Epoch 12/500\n",
      "14/14 [==============================] - 6s 399ms/step - loss: 0.5913 - accuracy: 0.6920 - val_loss: 1.8960 - val_accuracy: 0.4167\n",
      "Epoch 13/500\n",
      "14/14 [==============================] - 5s 395ms/step - loss: 0.5483 - accuracy: 0.7174 - val_loss: 1.5237 - val_accuracy: 0.4167\n",
      "Epoch 14/500\n",
      "14/14 [==============================] - 5s 394ms/step - loss: 0.5304 - accuracy: 0.7500 - val_loss: 1.9720 - val_accuracy: 0.4094\n",
      "Epoch 15/500\n",
      "14/14 [==============================] - 6s 408ms/step - loss: 0.4578 - accuracy: 0.8007 - val_loss: 3.1800 - val_accuracy: 0.4058\n",
      "Epoch 16/500\n",
      "14/14 [==============================] - 5s 393ms/step - loss: 0.5173 - accuracy: 0.7246 - val_loss: 1.8278 - val_accuracy: 0.4167\n",
      "Epoch 17/500\n",
      "14/14 [==============================] - 6s 400ms/step - loss: 0.4225 - accuracy: 0.8080 - val_loss: 3.5410 - val_accuracy: 0.4094\n",
      "Epoch 18/500\n",
      "14/14 [==============================] - 6s 396ms/step - loss: 0.5493 - accuracy: 0.7500 - val_loss: 3.2501 - val_accuracy: 0.3587\n",
      "Epoch 19/500\n",
      "14/14 [==============================] - 5s 388ms/step - loss: 0.4191 - accuracy: 0.7971 - val_loss: 2.5856 - val_accuracy: 0.3986\n",
      "Epoch 20/500\n",
      "14/14 [==============================] - 6s 401ms/step - loss: 0.4164 - accuracy: 0.8007 - val_loss: 1.3721 - val_accuracy: 0.4203\n",
      "Epoch 21/500\n",
      "14/14 [==============================] - 5s 391ms/step - loss: 0.4455 - accuracy: 0.7754 - val_loss: 3.0629 - val_accuracy: 0.4167\n",
      "Epoch 22/500\n",
      "14/14 [==============================] - 6s 407ms/step - loss: 0.3698 - accuracy: 0.8116 - val_loss: 2.9687 - val_accuracy: 0.4493\n",
      "Epoch 23/500\n",
      "14/14 [==============================] - 6s 402ms/step - loss: 0.3927 - accuracy: 0.8116 - val_loss: 1.5723 - val_accuracy: 0.5217\n",
      "Epoch 24/500\n",
      "14/14 [==============================] - 6s 404ms/step - loss: 0.4775 - accuracy: 0.7935 - val_loss: 2.3533 - val_accuracy: 0.4493\n",
      "Epoch 25/500\n",
      "14/14 [==============================] - 5s 391ms/step - loss: 0.3818 - accuracy: 0.8261 - val_loss: 2.5976 - val_accuracy: 0.4239\n",
      "Epoch 26/500\n",
      "14/14 [==============================] - 6s 407ms/step - loss: 0.4249 - accuracy: 0.8297 - val_loss: 0.6738 - val_accuracy: 0.6739\n",
      "Epoch 27/500\n",
      "14/14 [==============================] - 5s 392ms/step - loss: 0.2904 - accuracy: 0.8768 - val_loss: 3.8643 - val_accuracy: 0.4094\n",
      "Epoch 28/500\n",
      "14/14 [==============================] - 5s 394ms/step - loss: 0.3636 - accuracy: 0.8261 - val_loss: 3.4049 - val_accuracy: 0.4384\n",
      "Epoch 29/500\n",
      "14/14 [==============================] - 6s 399ms/step - loss: 0.3489 - accuracy: 0.8261 - val_loss: 1.5679 - val_accuracy: 0.6159\n",
      "Epoch 30/500\n",
      "14/14 [==============================] - 6s 402ms/step - loss: 0.2746 - accuracy: 0.8986 - val_loss: 3.0326 - val_accuracy: 0.5326\n",
      "Epoch 31/500\n",
      "14/14 [==============================] - 6s 407ms/step - loss: 0.3256 - accuracy: 0.8478 - val_loss: 1.0409 - val_accuracy: 0.6739\n",
      "Epoch 32/500\n",
      "14/14 [==============================] - 6s 409ms/step - loss: 0.2943 - accuracy: 0.8804 - val_loss: 1.5925 - val_accuracy: 0.6594\n",
      "Epoch 33/500\n",
      "14/14 [==============================] - 6s 407ms/step - loss: 0.3032 - accuracy: 0.8732 - val_loss: 2.1117 - val_accuracy: 0.6884\n",
      "Epoch 34/500\n",
      "14/14 [==============================] - 6s 416ms/step - loss: 0.2008 - accuracy: 0.9275 - val_loss: 1.1623 - val_accuracy: 0.7790\n",
      "Epoch 35/500\n",
      "14/14 [==============================] - 6s 429ms/step - loss: 0.2876 - accuracy: 0.8877 - val_loss: 0.4413 - val_accuracy: 0.8225\n",
      "Epoch 36/500\n",
      "14/14 [==============================] - 6s 429ms/step - loss: 0.2258 - accuracy: 0.9130 - val_loss: 1.5858 - val_accuracy: 0.7355\n",
      "Epoch 37/500\n",
      "14/14 [==============================] - 6s 410ms/step - loss: 0.1654 - accuracy: 0.9457 - val_loss: 2.5460 - val_accuracy: 0.5870\n",
      "Epoch 38/500\n",
      "14/14 [==============================] - 6s 424ms/step - loss: 0.2803 - accuracy: 0.9058 - val_loss: 1.0027 - val_accuracy: 0.7029\n",
      "Epoch 39/500\n",
      "14/14 [==============================] - 6s 423ms/step - loss: 0.1611 - accuracy: 0.9384 - val_loss: 0.3028 - val_accuracy: 0.9022\n",
      "Epoch 40/500\n",
      "14/14 [==============================] - 6s 419ms/step - loss: 0.1830 - accuracy: 0.9420 - val_loss: 1.8283 - val_accuracy: 0.7355\n",
      "Epoch 41/500\n",
      "14/14 [==============================] - 6s 414ms/step - loss: 0.1913 - accuracy: 0.9130 - val_loss: 0.3840 - val_accuracy: 0.8841\n",
      "Epoch 42/500\n",
      "14/14 [==============================] - 6s 413ms/step - loss: 0.1561 - accuracy: 0.9493 - val_loss: 1.7796 - val_accuracy: 0.6486\n",
      "Epoch 43/500\n",
      "14/14 [==============================] - 6s 401ms/step - loss: 0.1986 - accuracy: 0.9058 - val_loss: 2.6530 - val_accuracy: 0.6667\n",
      "Epoch 44/500\n",
      "14/14 [==============================] - 6s 403ms/step - loss: 0.1817 - accuracy: 0.9384 - val_loss: 1.3265 - val_accuracy: 0.7645\n",
      "Epoch 45/500\n",
      "14/14 [==============================] - 6s 408ms/step - loss: 0.1756 - accuracy: 0.9493 - val_loss: 0.8877 - val_accuracy: 0.8514\n",
      "Epoch 46/500\n",
      "14/14 [==============================] - 6s 411ms/step - loss: 0.1537 - accuracy: 0.9457 - val_loss: 0.8028 - val_accuracy: 0.7609\n",
      "Epoch 47/500\n",
      "14/14 [==============================] - 6s 425ms/step - loss: 0.0900 - accuracy: 0.9674 - val_loss: 0.3924 - val_accuracy: 0.8768\n",
      "Epoch 48/500\n",
      "14/14 [==============================] - 6s 428ms/step - loss: 0.2067 - accuracy: 0.9275 - val_loss: 0.3907 - val_accuracy: 0.8804\n",
      "Epoch 49/500\n",
      "14/14 [==============================] - 6s 400ms/step - loss: 0.1900 - accuracy: 0.9167 - val_loss: 17.0701 - val_accuracy: 0.4964\n",
      "Epoch 50/500\n",
      "14/14 [==============================] - 5s 397ms/step - loss: 0.1395 - accuracy: 0.9493 - val_loss: 0.7680 - val_accuracy: 0.8043\n",
      "Epoch 51/500\n",
      "14/14 [==============================] - 6s 400ms/step - loss: 0.1011 - accuracy: 0.9674 - val_loss: 3.5916 - val_accuracy: 0.5109\n",
      "Epoch 52/500\n",
      "14/14 [==============================] - 6s 400ms/step - loss: 0.2045 - accuracy: 0.9167 - val_loss: 1.3416 - val_accuracy: 0.8007\n",
      "Epoch 53/500\n",
      "14/14 [==============================] - 6s 407ms/step - loss: 0.1476 - accuracy: 0.9384 - val_loss: 0.2582 - val_accuracy: 0.9239\n",
      "Epoch 54/500\n",
      "14/14 [==============================] - 6s 407ms/step - loss: 0.1156 - accuracy: 0.9529 - val_loss: 0.2667 - val_accuracy: 0.9457\n",
      "Epoch 55/500\n",
      "14/14 [==============================] - 5s 395ms/step - loss: 0.1470 - accuracy: 0.9420 - val_loss: 0.9414 - val_accuracy: 0.8370\n",
      "Epoch 56/500\n",
      "14/14 [==============================] - 6s 398ms/step - loss: 0.1111 - accuracy: 0.9529 - val_loss: 1.7758 - val_accuracy: 0.7500\n",
      "Epoch 57/500\n",
      "14/14 [==============================] - 6s 400ms/step - loss: 0.0767 - accuracy: 0.9674 - val_loss: 1.1297 - val_accuracy: 0.8370\n"
     ]
    },
    {
     "name": "stdout",
     "output_type": "stream",
     "text": [
      "Epoch 58/500\n",
      "14/14 [==============================] - 5s 395ms/step - loss: 0.0952 - accuracy: 0.9601 - val_loss: 1.5365 - val_accuracy: 0.8188\n",
      "Epoch 59/500\n",
      "14/14 [==============================] - 6s 404ms/step - loss: 0.1162 - accuracy: 0.9565 - val_loss: 0.8439 - val_accuracy: 0.8261\n",
      "Epoch 60/500\n",
      "14/14 [==============================] - 6s 402ms/step - loss: 0.0442 - accuracy: 0.9928 - val_loss: 1.4934 - val_accuracy: 0.7065\n",
      "Epoch 61/500\n",
      "14/14 [==============================] - 6s 404ms/step - loss: 0.1344 - accuracy: 0.9529 - val_loss: 0.6532 - val_accuracy: 0.8333\n",
      "Epoch 62/500\n",
      "14/14 [==============================] - 5s 395ms/step - loss: 0.0927 - accuracy: 0.9783 - val_loss: 0.3390 - val_accuracy: 0.9239\n",
      "Epoch 63/500\n",
      "14/14 [==============================] - 6s 410ms/step - loss: 0.1562 - accuracy: 0.9457 - val_loss: 0.2515 - val_accuracy: 0.9493\n",
      "Epoch 64/500\n",
      "14/14 [==============================] - 6s 409ms/step - loss: 0.0654 - accuracy: 0.9783 - val_loss: 0.6695 - val_accuracy: 0.8587\n",
      "Epoch 65/500\n",
      "14/14 [==============================] - 6s 401ms/step - loss: 0.0227 - accuracy: 0.9928 - val_loss: 0.2351 - val_accuracy: 0.9529\n",
      "Epoch 66/500\n",
      "14/14 [==============================] - 6s 403ms/step - loss: 0.2297 - accuracy: 0.9058 - val_loss: 0.7300 - val_accuracy: 0.9239\n",
      "Epoch 67/500\n",
      "14/14 [==============================] - 6s 408ms/step - loss: 0.1235 - accuracy: 0.9674 - val_loss: 0.0484 - val_accuracy: 0.9819\n",
      "Epoch 68/500\n",
      "14/14 [==============================] - 6s 404ms/step - loss: 0.0426 - accuracy: 0.9855 - val_loss: 0.0306 - val_accuracy: 0.9891\n",
      "Epoch 69/500\n",
      "14/14 [==============================] - 5s 388ms/step - loss: 0.1010 - accuracy: 0.9638 - val_loss: 0.1358 - val_accuracy: 0.9674\n",
      "Epoch 70/500\n",
      "14/14 [==============================] - 6s 405ms/step - loss: 0.1549 - accuracy: 0.9565 - val_loss: 0.9242 - val_accuracy: 0.8370\n",
      "Epoch 71/500\n",
      "14/14 [==============================] - 6s 406ms/step - loss: 0.0719 - accuracy: 0.9529 - val_loss: 0.2390 - val_accuracy: 0.9203\n",
      "Epoch 72/500\n",
      "14/14 [==============================] - 6s 405ms/step - loss: 0.0783 - accuracy: 0.9710 - val_loss: 0.1558 - val_accuracy: 0.9638\n",
      "Epoch 73/500\n",
      "14/14 [==============================] - 6s 401ms/step - loss: 0.0700 - accuracy: 0.9601 - val_loss: 0.0911 - val_accuracy: 0.9674\n",
      "Epoch 74/500\n",
      "14/14 [==============================] - 6s 408ms/step - loss: 0.0330 - accuracy: 0.9891 - val_loss: 0.0164 - val_accuracy: 0.9964\n",
      "Epoch 75/500\n",
      "14/14 [==============================] - 6s 417ms/step - loss: 0.0464 - accuracy: 0.9746 - val_loss: 0.1138 - val_accuracy: 0.9565\n",
      "Epoch 76/500\n",
      "14/14 [==============================] - 6s 421ms/step - loss: 0.0548 - accuracy: 0.9819 - val_loss: 2.1062 - val_accuracy: 0.7754\n",
      "Epoch 77/500\n",
      "14/14 [==============================] - 6s 402ms/step - loss: 0.1183 - accuracy: 0.9529 - val_loss: 3.4212 - val_accuracy: 0.6884\n",
      "Epoch 78/500\n",
      "14/14 [==============================] - 6s 400ms/step - loss: 0.0447 - accuracy: 0.9891 - val_loss: 0.2014 - val_accuracy: 0.9420\n",
      "Epoch 79/500\n",
      "14/14 [==============================] - 6s 415ms/step - loss: 0.0279 - accuracy: 0.9891 - val_loss: 0.1418 - val_accuracy: 0.9601\n",
      "Epoch 80/500\n",
      "14/14 [==============================] - 6s 405ms/step - loss: 0.1628 - accuracy: 0.9601 - val_loss: 1.1157 - val_accuracy: 0.8333\n",
      "Epoch 81/500\n",
      "14/14 [==============================] - 6s 415ms/step - loss: 0.0218 - accuracy: 0.9928 - val_loss: 0.0611 - val_accuracy: 0.9783\n",
      "Epoch 82/500\n",
      "14/14 [==============================] - 6s 418ms/step - loss: 0.0639 - accuracy: 0.9746 - val_loss: 3.3593 - val_accuracy: 0.7210\n",
      "Epoch 83/500\n",
      "14/14 [==============================] - 6s 425ms/step - loss: 0.1390 - accuracy: 0.9493 - val_loss: 0.3465 - val_accuracy: 0.9167\n",
      "Epoch 84/500\n",
      "14/14 [==============================] - 6s 422ms/step - loss: 0.1860 - accuracy: 0.9094 - val_loss: 4.4724 - val_accuracy: 0.7101\n",
      "Epoch 85/500\n",
      "14/14 [==============================] - 6s 431ms/step - loss: 0.0313 - accuracy: 0.9891 - val_loss: 0.3504 - val_accuracy: 0.9022\n",
      "Epoch 86/500\n",
      "14/14 [==============================] - 6s 434ms/step - loss: 0.0590 - accuracy: 0.9819 - val_loss: 0.3453 - val_accuracy: 0.9022\n",
      "Epoch 87/500\n",
      "14/14 [==============================] - 6s 424ms/step - loss: 0.1338 - accuracy: 0.9529 - val_loss: 4.0660 - val_accuracy: 0.5870\n",
      "Epoch 88/500\n",
      "14/14 [==============================] - 6s 408ms/step - loss: 0.0487 - accuracy: 0.9819 - val_loss: 0.0153 - val_accuracy: 0.9928\n",
      "Epoch 89/500\n",
      "14/14 [==============================] - 6s 403ms/step - loss: 0.0112 - accuracy: 1.0000 - val_loss: 0.0745 - val_accuracy: 0.9710\n",
      "Epoch 90/500\n",
      "14/14 [==============================] - 6s 405ms/step - loss: 0.0546 - accuracy: 0.9855 - val_loss: 0.1543 - val_accuracy: 0.9601\n",
      "Epoch 91/500\n",
      "14/14 [==============================] - 6s 411ms/step - loss: 0.1099 - accuracy: 0.9493 - val_loss: 0.4874 - val_accuracy: 0.8913\n",
      "Epoch 92/500\n",
      "14/14 [==============================] - 6s 404ms/step - loss: 0.0297 - accuracy: 0.9891 - val_loss: 0.0420 - val_accuracy: 0.9855\n",
      "Epoch 93/500\n",
      "14/14 [==============================] - 6s 403ms/step - loss: 0.0124 - accuracy: 0.9964 - val_loss: 0.1548 - val_accuracy: 0.9457\n",
      "Epoch 94/500\n",
      "14/14 [==============================] - 6s 411ms/step - loss: 0.0314 - accuracy: 0.9855 - val_loss: 0.3258 - val_accuracy: 0.9275\n",
      "Epoch 95/500\n",
      "14/14 [==============================] - 6s 430ms/step - loss: 0.0640 - accuracy: 0.9783 - val_loss: 1.0385 - val_accuracy: 0.7899\n",
      "Epoch 96/500\n",
      "14/14 [==============================] - 6s 423ms/step - loss: 0.2336 - accuracy: 0.9348 - val_loss: 0.0622 - val_accuracy: 0.9964\n",
      "Epoch 97/500\n",
      "14/14 [==============================] - 6s 405ms/step - loss: 0.0637 - accuracy: 0.9783 - val_loss: 0.1404 - val_accuracy: 0.9674\n",
      "Epoch 98/500\n",
      "14/14 [==============================] - 6s 416ms/step - loss: 0.0295 - accuracy: 0.9964 - val_loss: 0.0044 - val_accuracy: 1.0000\n",
      "Epoch 99/500\n",
      "14/14 [==============================] - 6s 405ms/step - loss: 0.0426 - accuracy: 0.9891 - val_loss: 0.7513 - val_accuracy: 0.8188\n",
      "Epoch 100/500\n",
      "14/14 [==============================] - 6s 417ms/step - loss: 0.1314 - accuracy: 0.9565 - val_loss: 0.0588 - val_accuracy: 0.9746\n",
      "Epoch 101/500\n",
      "14/14 [==============================] - 6s 418ms/step - loss: 0.1117 - accuracy: 0.9638 - val_loss: 0.1672 - val_accuracy: 0.9529\n",
      "Epoch 102/500\n",
      "14/14 [==============================] - 6s 409ms/step - loss: 0.0288 - accuracy: 0.9855 - val_loss: 0.0945 - val_accuracy: 0.9783\n",
      "Epoch 103/500\n",
      "14/14 [==============================] - 6s 416ms/step - loss: 0.0399 - accuracy: 0.9891 - val_loss: 3.3253 - val_accuracy: 0.6812\n",
      "Epoch 104/500\n",
      "14/14 [==============================] - 6s 416ms/step - loss: 0.0139 - accuracy: 0.9964 - val_loss: 0.2421 - val_accuracy: 0.9420\n",
      "Epoch 105/500\n",
      "14/14 [==============================] - 6s 420ms/step - loss: 0.0312 - accuracy: 0.9819 - val_loss: 0.4640 - val_accuracy: 0.9348\n",
      "Epoch 106/500\n",
      "14/14 [==============================] - 6s 418ms/step - loss: 0.0306 - accuracy: 0.9928 - val_loss: 3.5265 - val_accuracy: 0.5906\n",
      "Epoch 107/500\n",
      "14/14 [==============================] - 6s 418ms/step - loss: 0.0342 - accuracy: 0.9855 - val_loss: 0.1086 - val_accuracy: 0.9638\n",
      "Epoch 108/500\n",
      "14/14 [==============================] - 6s 423ms/step - loss: 0.1383 - accuracy: 0.9638 - val_loss: 0.6111 - val_accuracy: 0.8659\n",
      "Epoch 109/500\n",
      "14/14 [==============================] - 6s 424ms/step - loss: 0.0373 - accuracy: 0.9855 - val_loss: 0.3432 - val_accuracy: 0.8804\n",
      "Epoch 110/500\n",
      "14/14 [==============================] - 6s 424ms/step - loss: 0.0032 - accuracy: 1.0000 - val_loss: 0.1127 - val_accuracy: 0.9493\n",
      "Epoch 111/500\n",
      "14/14 [==============================] - 6s 432ms/step - loss: 0.0019 - accuracy: 1.0000 - val_loss: 0.0011 - val_accuracy: 1.0000\n",
      "Epoch 112/500\n",
      "14/14 [==============================] - 6s 426ms/step - loss: 0.1374 - accuracy: 0.9638 - val_loss: 0.0593 - val_accuracy: 0.9819\n",
      "Epoch 113/500\n",
      "14/14 [==============================] - 6s 428ms/step - loss: 0.0232 - accuracy: 0.9928 - val_loss: 0.2263 - val_accuracy: 0.9312\n",
      "Epoch 114/500\n",
      "14/14 [==============================] - 6s 430ms/step - loss: 0.0178 - accuracy: 0.9928 - val_loss: 0.1142 - val_accuracy: 0.9674\n"
     ]
    },
    {
     "name": "stdout",
     "output_type": "stream",
     "text": [
      "Epoch 115/500\n",
      "14/14 [==============================] - 6s 450ms/step - loss: 0.0817 - accuracy: 0.9674 - val_loss: 0.4747 - val_accuracy: 0.8949\n",
      "Epoch 116/500\n",
      "14/14 [==============================] - 6s 461ms/step - loss: 0.0424 - accuracy: 0.9891 - val_loss: 0.2040 - val_accuracy: 0.9565\n",
      "Epoch 117/500\n",
      "14/14 [==============================] - 6s 441ms/step - loss: 0.0561 - accuracy: 0.9710 - val_loss: 1.1862 - val_accuracy: 0.8225\n",
      "Epoch 118/500\n",
      "14/14 [==============================] - 6s 446ms/step - loss: 0.0081 - accuracy: 1.0000 - val_loss: 0.1796 - val_accuracy: 0.9493\n",
      "Epoch 119/500\n",
      "14/14 [==============================] - 6s 448ms/step - loss: 0.0603 - accuracy: 0.9783 - val_loss: 0.1120 - val_accuracy: 0.9529\n",
      "Epoch 120/500\n",
      "14/14 [==============================] - 6s 439ms/step - loss: 0.0190 - accuracy: 0.9928 - val_loss: 0.1590 - val_accuracy: 0.9529\n",
      "Epoch 121/500\n",
      "14/14 [==============================] - 6s 442ms/step - loss: 0.0084 - accuracy: 1.0000 - val_loss: 0.0824 - val_accuracy: 0.9783\n",
      "Epoch 122/500\n",
      "14/14 [==============================] - 6s 453ms/step - loss: 0.0094 - accuracy: 0.9964 - val_loss: 0.0320 - val_accuracy: 0.9891\n",
      "Epoch 123/500\n",
      "14/14 [==============================] - 6s 443ms/step - loss: 0.0396 - accuracy: 0.9891 - val_loss: 0.0942 - val_accuracy: 0.9674\n",
      "Epoch 124/500\n",
      "14/14 [==============================] - 6s 445ms/step - loss: 0.0348 - accuracy: 0.9855 - val_loss: 0.1229 - val_accuracy: 0.9674\n",
      "Epoch 125/500\n",
      "14/14 [==============================] - 6s 438ms/step - loss: 0.0077 - accuracy: 0.9964 - val_loss: 0.3331 - val_accuracy: 0.9022\n",
      "Epoch 126/500\n",
      "14/14 [==============================] - 6s 436ms/step - loss: 0.0684 - accuracy: 0.9783 - val_loss: 0.3646 - val_accuracy: 0.9384\n",
      "Epoch 127/500\n",
      "14/14 [==============================] - 6s 435ms/step - loss: 0.0063 - accuracy: 1.0000 - val_loss: 0.0156 - val_accuracy: 0.9891\n",
      "Epoch 128/500\n",
      "14/14 [==============================] - 6s 432ms/step - loss: 0.0062 - accuracy: 0.9964 - val_loss: 0.3606 - val_accuracy: 0.9348\n",
      "Epoch 129/500\n",
      "14/14 [==============================] - 6s 438ms/step - loss: 0.0381 - accuracy: 0.9964 - val_loss: 0.0412 - val_accuracy: 0.9819\n",
      "Epoch 130/500\n",
      "14/14 [==============================] - 6s 431ms/step - loss: 0.1225 - accuracy: 0.9674 - val_loss: 0.1684 - val_accuracy: 0.9746\n",
      "Epoch 131/500\n",
      "14/14 [==============================] - 6s 431ms/step - loss: 0.0420 - accuracy: 0.9819 - val_loss: 0.0834 - val_accuracy: 0.9819\n",
      "Epoch 132/500\n",
      "14/14 [==============================] - 18s 1s/step - loss: 0.0246 - accuracy: 0.9928 - val_loss: 0.1145 - val_accuracy: 0.9493\n",
      "Epoch 133/500\n",
      "14/14 [==============================] - 19s 1s/step - loss: 0.0551 - accuracy: 0.9819 - val_loss: 0.1828 - val_accuracy: 0.9565\n",
      "Epoch 134/500\n",
      "14/14 [==============================] - 20s 1s/step - loss: 0.0103 - accuracy: 0.9964 - val_loss: 0.0119 - val_accuracy: 0.9964\n",
      "Epoch 135/500\n",
      "14/14 [==============================] - 18s 1s/step - loss: 4.4107e-04 - accuracy: 1.0000 - val_loss: 0.0038 - val_accuracy: 1.0000\n",
      "Epoch 136/500\n",
      "14/14 [==============================] - 16s 1s/step - loss: 0.0092 - accuracy: 0.9964 - val_loss: 0.1022 - val_accuracy: 0.9710\n",
      "Epoch 137/500\n",
      "14/14 [==============================] - 19s 1s/step - loss: 0.0513 - accuracy: 0.9891 - val_loss: 1.3724 - val_accuracy: 0.7971\n",
      "Epoch 138/500\n",
      "14/14 [==============================] - 19s 1s/step - loss: 0.0702 - accuracy: 0.9746 - val_loss: 0.0840 - val_accuracy: 0.9710\n",
      "Epoch 139/500\n",
      "14/14 [==============================] - 16s 1s/step - loss: 0.0065 - accuracy: 0.9964 - val_loss: 0.0209 - val_accuracy: 0.9964\n",
      "Epoch 140/500\n",
      "14/14 [==============================] - 19s 1s/step - loss: 0.0775 - accuracy: 0.9819 - val_loss: 0.0112 - val_accuracy: 0.9964\n",
      "Epoch 141/500\n",
      "14/14 [==============================] - 19s 1s/step - loss: 0.0133 - accuracy: 0.9928 - val_loss: 0.0748 - val_accuracy: 0.9819\n",
      "Epoch 142/500\n",
      "14/14 [==============================] - 19s 1s/step - loss: 0.0678 - accuracy: 0.9819 - val_loss: 0.2539 - val_accuracy: 0.9420\n",
      "Epoch 143/500\n",
      "14/14 [==============================] - 19s 1s/step - loss: 0.0433 - accuracy: 0.9783 - val_loss: 0.0678 - val_accuracy: 0.9855\n",
      "Epoch 144/500\n",
      "14/14 [==============================] - 17s 1s/step - loss: 0.0290 - accuracy: 0.9891 - val_loss: 0.0137 - val_accuracy: 0.9964\n",
      "Epoch 145/500\n",
      "14/14 [==============================] - 19s 1s/step - loss: 0.0018 - accuracy: 1.0000 - val_loss: 0.0046 - val_accuracy: 0.9964\n",
      "Epoch 146/500\n",
      "14/14 [==============================] - 19s 1s/step - loss: 5.9386e-04 - accuracy: 1.0000 - val_loss: 0.0016 - val_accuracy: 1.0000\n",
      "Epoch 147/500\n",
      "14/14 [==============================] - 19s 1s/step - loss: 0.0014 - accuracy: 1.0000 - val_loss: 9.0013e-04 - val_accuracy: 1.0000\n",
      "Epoch 148/500\n",
      "14/14 [==============================] - 16s 1s/step - loss: 0.0872 - accuracy: 0.9746 - val_loss: 0.0643 - val_accuracy: 0.9674\n",
      "Epoch 149/500\n",
      "14/14 [==============================] - 18s 1s/step - loss: 0.0287 - accuracy: 0.9855 - val_loss: 0.6052 - val_accuracy: 0.8986\n",
      "Epoch 150/500\n",
      "14/14 [==============================] - 18s 1s/step - loss: 0.0075 - accuracy: 1.0000 - val_loss: 0.3101 - val_accuracy: 0.9312\n",
      "Epoch 151/500\n",
      "14/14 [==============================] - 17s 1s/step - loss: 0.0177 - accuracy: 0.9891 - val_loss: 0.6804 - val_accuracy: 0.8551\n",
      "Epoch 152/500\n",
      "14/14 [==============================] - 19s 1s/step - loss: 0.0282 - accuracy: 0.9964 - val_loss: 0.2025 - val_accuracy: 0.9420\n",
      "Epoch 153/500\n",
      "14/14 [==============================] - 18s 1s/step - loss: 0.0735 - accuracy: 0.9783 - val_loss: 0.2004 - val_accuracy: 0.9348\n",
      "Epoch 154/500\n",
      "14/14 [==============================] - 16s 1s/step - loss: 0.0458 - accuracy: 0.9819 - val_loss: 0.0497 - val_accuracy: 0.9783\n",
      "Epoch 155/500\n",
      "14/14 [==============================] - 19s 1s/step - loss: 0.0015 - accuracy: 1.0000 - val_loss: 0.0123 - val_accuracy: 0.9964\n",
      "Epoch 156/500\n",
      "14/14 [==============================] - 19s 1s/step - loss: 0.0041 - accuracy: 1.0000 - val_loss: 0.0118 - val_accuracy: 1.0000\n",
      "Epoch 157/500\n",
      "14/14 [==============================] - 6s 435ms/step - loss: 0.0017 - accuracy: 1.0000 - val_loss: 0.1113 - val_accuracy: 0.9565\n",
      "Epoch 158/500\n",
      "14/14 [==============================] - 6s 445ms/step - loss: 4.2833e-04 - accuracy: 1.0000 - val_loss: 0.0016 - val_accuracy: 1.0000\n",
      "Epoch 159/500\n",
      "14/14 [==============================] - 6s 442ms/step - loss: 0.0154 - accuracy: 0.9964 - val_loss: 0.3645 - val_accuracy: 0.8949\n",
      "Epoch 160/500\n",
      "14/14 [==============================] - 12s 929ms/step - loss: 0.1154 - accuracy: 0.9674 - val_loss: 1.6758 - val_accuracy: 0.6739\n",
      "Epoch 161/500\n",
      "14/14 [==============================] - 19s 1s/step - loss: 0.0857 - accuracy: 0.9674 - val_loss: 0.8225 - val_accuracy: 0.7536\n",
      "Epoch 162/500\n",
      "14/14 [==============================] - 18s 1s/step - loss: 0.0869 - accuracy: 0.9819 - val_loss: 1.4239 - val_accuracy: 0.6486\n",
      "Epoch 163/500\n",
      "14/14 [==============================] - 16s 1s/step - loss: 0.0141 - accuracy: 0.9964 - val_loss: 0.2993 - val_accuracy: 0.9275\n",
      "Epoch 164/500\n",
      "14/14 [==============================] - 18s 1s/step - loss: 0.0317 - accuracy: 0.9855 - val_loss: 0.0253 - val_accuracy: 0.9928\n",
      "Epoch 165/500\n",
      "14/14 [==============================] - 16s 1s/step - loss: 0.0092 - accuracy: 1.0000 - val_loss: 0.0210 - val_accuracy: 0.9928\n",
      "Epoch 166/500\n",
      "14/14 [==============================] - 18s 1s/step - loss: 9.9641e-04 - accuracy: 1.0000 - val_loss: 0.0011 - val_accuracy: 1.0000\n",
      "Epoch 167/500\n",
      "14/14 [==============================] - 18s 1s/step - loss: 2.5724e-04 - accuracy: 1.0000 - val_loss: 2.2717e-04 - val_accuracy: 1.0000\n",
      "Epoch 168/500\n",
      "14/14 [==============================] - 16s 1s/step - loss: 1.5653e-04 - accuracy: 1.0000 - val_loss: 0.0013 - val_accuracy: 1.0000\n",
      "Epoch 169/500\n",
      "14/14 [==============================] - 18s 1s/step - loss: 5.5185e-05 - accuracy: 1.0000 - val_loss: 1.0858e-04 - val_accuracy: 1.0000\n",
      "Epoch 170/500\n",
      "14/14 [==============================] - 16s 1s/step - loss: 0.0114 - accuracy: 0.9964 - val_loss: 0.0176 - val_accuracy: 0.9928\n",
      "Epoch 171/500\n",
      "14/14 [==============================] - 18s 1s/step - loss: 0.0022 - accuracy: 1.0000 - val_loss: 0.0025 - val_accuracy: 1.0000\n"
     ]
    },
    {
     "name": "stdout",
     "output_type": "stream",
     "text": [
      "Epoch 172/500\n",
      "14/14 [==============================] - 16s 1s/step - loss: 0.0464 - accuracy: 0.9928 - val_loss: 0.1975 - val_accuracy: 0.9601\n",
      "Epoch 173/500\n",
      "14/14 [==============================] - 18s 1s/step - loss: 0.0214 - accuracy: 0.9928 - val_loss: 0.1611 - val_accuracy: 0.9565\n",
      "Epoch 174/500\n",
      "14/14 [==============================] - 19s 1s/step - loss: 0.0942 - accuracy: 0.9710 - val_loss: 0.1883 - val_accuracy: 0.9638\n",
      "Epoch 175/500\n",
      "14/14 [==============================] - 16s 1s/step - loss: 0.0258 - accuracy: 0.9928 - val_loss: 0.0715 - val_accuracy: 0.9674\n",
      "Epoch 176/500\n",
      "14/14 [==============================] - 18s 1s/step - loss: 0.0033 - accuracy: 1.0000 - val_loss: 0.0186 - val_accuracy: 0.9928\n",
      "Epoch 177/500\n",
      "14/14 [==============================] - 16s 1s/step - loss: 7.5339e-04 - accuracy: 1.0000 - val_loss: 0.0832 - val_accuracy: 0.9746\n",
      "Epoch 178/500\n",
      "14/14 [==============================] - 18s 1s/step - loss: 9.4615e-04 - accuracy: 1.0000 - val_loss: 6.4482e-04 - val_accuracy: 1.0000\n",
      "Epoch 179/500\n",
      "14/14 [==============================] - 16s 1s/step - loss: 1.2661e-04 - accuracy: 1.0000 - val_loss: 7.3099e-05 - val_accuracy: 1.0000\n",
      "Epoch 180/500\n",
      "14/14 [==============================] - 18s 1s/step - loss: 0.0278 - accuracy: 0.9964 - val_loss: 0.5613 - val_accuracy: 0.8949\n",
      "Epoch 181/500\n",
      "14/14 [==============================] - 18s 1s/step - loss: 0.0460 - accuracy: 0.9819 - val_loss: 1.2211 - val_accuracy: 0.8152\n",
      "Epoch 182/500\n",
      "14/14 [==============================] - 16s 1s/step - loss: 0.0909 - accuracy: 0.9638 - val_loss: 0.3503 - val_accuracy: 0.9348\n",
      "Epoch 183/500\n",
      "14/14 [==============================] - 18s 1s/step - loss: 0.0092 - accuracy: 0.9964 - val_loss: 0.7716 - val_accuracy: 0.8949\n",
      "Epoch 184/500\n",
      "14/14 [==============================] - 16s 1s/step - loss: 0.0549 - accuracy: 0.9819 - val_loss: 0.1410 - val_accuracy: 0.9674\n",
      "Epoch 185/500\n",
      "14/14 [==============================] - 18s 1s/step - loss: 0.0159 - accuracy: 0.9928 - val_loss: 0.2059 - val_accuracy: 0.9348\n",
      "Epoch 186/500\n",
      "14/14 [==============================] - 19s 1s/step - loss: 0.0301 - accuracy: 0.9928 - val_loss: 0.0280 - val_accuracy: 0.9855\n",
      "Epoch 187/500\n",
      "14/14 [==============================] - 16s 1s/step - loss: 0.0020 - accuracy: 1.0000 - val_loss: 0.0049 - val_accuracy: 0.9964\n",
      "Epoch 188/500\n",
      "14/14 [==============================] - 10s 582ms/step - loss: 1.8235e-04 - accuracy: 1.0000 - val_loss: 0.0030 - val_accuracy: 1.0000\n",
      "Epoch 189/500\n",
      "14/14 [==============================] - 6s 430ms/step - loss: 5.2471e-04 - accuracy: 1.0000 - val_loss: 0.0211 - val_accuracy: 0.9928\n",
      "Epoch 190/500\n",
      "14/14 [==============================] - 6s 423ms/step - loss: 0.0023 - accuracy: 1.0000 - val_loss: 0.1799 - val_accuracy: 0.9601\n",
      "Epoch 191/500\n",
      "14/14 [==============================] - 12s 895ms/step - loss: 0.0693 - accuracy: 0.9891 - val_loss: 0.1371 - val_accuracy: 0.9674\n",
      "Epoch 192/500\n",
      "14/14 [==============================] - 16s 1s/step - loss: 0.0162 - accuracy: 0.9928 - val_loss: 0.1112 - val_accuracy: 0.9638\n",
      "Epoch 193/500\n",
      "14/14 [==============================] - 18s 1s/step - loss: 0.0338 - accuracy: 0.9891 - val_loss: 0.0352 - val_accuracy: 0.9819\n",
      "Epoch 194/500\n",
      "14/14 [==============================] - 16s 1s/step - loss: 0.0085 - accuracy: 0.9964 - val_loss: 0.0469 - val_accuracy: 0.9855\n",
      "Epoch 195/500\n",
      "14/14 [==============================] - 18s 1s/step - loss: 0.0277 - accuracy: 0.9928 - val_loss: 0.4949 - val_accuracy: 0.9094\n",
      "Epoch 196/500\n",
      "14/14 [==============================] - 16s 1s/step - loss: 0.0038 - accuracy: 1.0000 - val_loss: 0.3682 - val_accuracy: 0.9529\n",
      "Epoch 197/500\n",
      "14/14 [==============================] - 18s 1s/step - loss: 0.0671 - accuracy: 0.9746 - val_loss: 0.0242 - val_accuracy: 0.9855\n",
      "Epoch 198/500\n",
      "14/14 [==============================] - 16s 1s/step - loss: 0.0244 - accuracy: 0.9928 - val_loss: 0.0489 - val_accuracy: 0.9855\n"
     ]
    }
   ],
   "source": [
    "# Import ResNet1D Module\n",
    "#from ResNet_1DCNN import ResNet\n",
    "#from ResNeXt_1DCNN import ResNeXt as ResNet\n",
    "from SE_ResNeXt_1DCNN import SEResNeXt as ResNet\n",
    "\n",
    "\"Configurations for ResNet in Regression Mode\"\n",
    "length = X_train.shape[1]   # Number of Features (or length of the signal)\n",
    "model_width = 32           # Number of Filter or Kernel in the Input Layer\n",
    "num_channel = 1             # Number of Input Channels\n",
    "problem_type = 'Classification' # Regression or Classification\n",
    "output_number = cls_num     # Number of Outputs in the Regression Mode\n",
    "Regression_Model = ResNet(length, num_channel, model_width, problem_type=problem_type, output_nums=output_number).SEResNeXt50() # Build Model\n",
    "# SEResNext Models supported: SEResNeXt18, SEResNeXt34, SEResNeXt50, SEResNeXt101, SEResNeXt152, \n",
    "Regression_Model.compile(optimizer='rmsprop', loss='categorical_crossentropy', metrics=['accuracy'])\n",
    "earlystopping = callbacks.EarlyStopping(monitor =\"val_accuracy\", mode =\"max\", patience = 100, restore_best_weights = True)\n",
    "history = Regression_Model.fit(X_train, y_train_cat, epochs=500, batch_size=btch, verbose=1, validation_data = (X_valid, y_valid_cat), callbacks =[earlystopping]) #,validation_split=0.2,callbacks =[callbacks]"
   ]
  },
  {
   "cell_type": "code",
   "execution_count": 25,
   "metadata": {},
   "outputs": [
    {
     "name": "stdout",
     "output_type": "stream",
     "text": [
      "19/19 [==============================] - 7s 188ms/step\n",
      "array([[170,  52],\n",
      "       [ 85, 293]], dtype=int64)\n",
      "              precision    recall  f1-score   support\n",
      "\n",
      "           0       0.67      0.77      0.71       222\n",
      "           1       0.85      0.78      0.81       378\n",
      "\n",
      "    accuracy                           0.77       600\n",
      "   macro avg       0.76      0.77      0.76       600\n",
      "weighted avg       0.78      0.77      0.77       600\n",
      "\n"
     ]
    }
   ],
   "source": [
    "predict_x=Regression_Model.predict(X_test)              # Function 1\n",
    "\n",
    "y_pred_crs=np.argmax(predict_x,axis=1)                 # function from augment.py to remove 0 index predictions\n",
    "\n",
    "#y_pred_crs = model_Res.predict_classes(X_test)\n",
    "\n",
    "cm = confusion_matrix(y_test, y_pred_crs)\n",
    "fullprint(cm)\n",
    "acc3=accuracy_score(y_test, y_pred_crs)\n",
    "\n",
    "print(classification_report(y_test, y_pred_crs))\n",
    "\n",
    "#sns.heatmap(cm, annot=True)\n",
    "\n",
    "#plt.imshow(cm)"
   ]
  }
 ],
 "metadata": {
  "celltoolbar": "Raw Cell Format",
  "kernelspec": {
   "display_name": "Python 3 (ipykernel)",
   "language": "python",
   "name": "python3"
  },
  "language_info": {
   "codemirror_mode": {
    "name": "ipython",
    "version": 3
   },
   "file_extension": ".py",
   "mimetype": "text/x-python",
   "name": "python",
   "nbconvert_exporter": "python",
   "pygments_lexer": "ipython3",
   "version": "3.9.7"
  }
 },
 "nbformat": 4,
 "nbformat_minor": 4
}
