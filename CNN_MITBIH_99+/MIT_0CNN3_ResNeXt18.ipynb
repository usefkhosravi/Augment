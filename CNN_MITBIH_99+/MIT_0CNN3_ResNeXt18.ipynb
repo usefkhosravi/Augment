{
 "cells": [
  {
   "cell_type": "markdown",
   "metadata": {},
   "source": [
    "import time\n",
    "plc=1\n",
    "time.sleep(3000*plc)         #run after 1 houre = 3600 seconds"
   ]
  },
  {
   "cell_type": "code",
   "execution_count": 1,
   "metadata": {},
   "outputs": [
    {
     "data": {
      "text/html": [
       "<style>#notebook { padding-top:0px !important; } .container { width:100% !important; } .end_space { min-height:0px !important; } html, body, .container{ margin:0!important;padding:0!important;}</style>"
      ],
      "text/plain": [
       "<IPython.core.display.HTML object>"
      ]
     },
     "metadata": {},
     "output_type": "display_data"
    }
   ],
   "source": [
    "import os\n",
    "import glob\n",
    "import scipy\n",
    "import random\n",
    "import bisect\n",
    "import numpy as np\n",
    "import pandas as pd\n",
    "import seaborn as sns\n",
    "from scipy import signal\n",
    "from scipy.signal import find_peaks\n",
    "import matplotlib.pyplot as plt\n",
    "from preprocess import *                         #ماژول استخراج پنجره ها\n",
    "from data import *                          #ماژول محلی ورود داده ها\n",
    "from augment import *                            #ماژول های داده افزایی\n",
    "from lstm_cnn import *                           #ماژول های داده افزایی با lstm_cnn\n",
    "import augment\n",
    "import importlib\n",
    "importlib.reload(augment)\n",
    "import tensorflow as tf\n",
    "from tensorflow import keras\n",
    "from tensorflow.keras.layers import BatchNormalization,Input,ReLU,add,MaxPool1D,GlobalAveragePooling1D\n",
    "from sklearn.model_selection import train_test_split\n",
    "from sklearn.neural_network import MLPClassifier\n",
    "from sklearn.datasets import make_classification\n",
    "from sklearn.metrics import confusion_matrix, accuracy_score, classification_report,recall_score,precision_score,mean_absolute_error\n",
    "from tensorflow.keras import callbacks,Model,layers\n",
    "from tensorflow.keras.models import Sequential\n",
    "from tensorflow.keras.layers import Convolution2D,Conv1D,Dropout,MaxPooling1D,MaxPooling2D,Flatten,Dense\n",
    "from tensorflow.keras import backend as K\n",
    "from tensorflow.keras.utils import to_categorical\n",
    "from tensorflow.keras.models import load_model\n",
    "from keras.callbacks import EarlyStopping, ModelCheckpoint\n",
    "cwd = os.getcwd() #\n",
    "fullscrn()"
   ]
  },
  {
   "cell_type": "code",
   "execution_count": null,
   "metadata": {},
   "outputs": [],
   "source": [
    "def maxindx(ar):\n",
    "    ar_cpy=np.array(ar)\n",
    "    pred=np.argmax(ar,axis=1)\n",
    "    for i in range (len(pred)):\n",
    "        if pred[i]==0:\n",
    "            ar_cpy[i,0]=-1000\n",
    "    pred=np.argmax(ar_cpy,axis=1)\n",
    "    return(pred)\n",
    "\n",
    "def wndwng0d(x,snstvty=2):            #روش تشخیص ایپاک پایه\n",
    "    smpl_rte=480\n",
    "    i=0\n",
    "    wndws=np.array([])\n",
    "    #for i in range (1,2):   #print(np.shape(x))\n",
    "    if snstvty==1 :                        #تشخیص ایپاک پایه\n",
    "        xj=np.array(x)\n",
    "        peaks,_ = find_peaks(xj, height=0.03*max(xj), distance=200,prominence=300, width=3)\n",
    "        if len(peaks)<6 :\n",
    "            peaks,_ = find_peaks(xj, height=0.03*max(xj), distance=160,prominence=100, width=3)\n",
    "            #print('class ', i, 'Row = ', j, 'have ',len(peaks),'peaks')\n",
    "        if len(peaks)>1 :\n",
    "            for z in range (len(peaks)):\n",
    "                if (peaks[z]<3100 and peaks[z]!=peaks[-1]) :\n",
    "                    win=np.array(xj[peaks[z]:peaks[z+1]])\n",
    "                    win = signal.resample(win, smpl_rte)\n",
    "                    if len(win)==smpl_rte :  #win=np.append(win, i)# if len(win)==smpl_rte+1 :\n",
    "                        wndws=np.append(wndws, win)\n",
    "\n",
    "\n",
    "    if snstvty==2 :                        #تشخیص ایپاک حساس تر\n",
    "        xj=np.array(x)\n",
    "        peaks,_ = find_peaks(xj, height=0.02*max(xj), distance=160,prominence=200, width=3)\n",
    "        if len(peaks)<6 :\n",
    "            peaks,_ = find_peaks(xj, height=0.01*max(xj), distance=120,prominence=60, width=3)\n",
    "        if len(peaks)>1 :\n",
    "            for z in range (len(peaks)):\n",
    "                if (peaks[z]<3100 and peaks[z]!=peaks[-1]) :\n",
    "                    win=np.array(xj[peaks[z]:peaks[z+1]])\n",
    "                    win = signal.resample(win, smpl_rte)\n",
    "                    if len(win)==smpl_rte :\n",
    "                        wndws=np.append(wndws, win)\n",
    "    rows=int(len(wndws)/(smpl_rte))            #/(smpl_rte+1))\n",
    "    wndws0=np.reshape(wndws,(rows,(smpl_rte)))    #(wndws,(rows,(smpl_rte+1)))\n",
    "    return(wndws0)"
   ]
  },
  {
   "cell_type": "markdown",
   "metadata": {},
   "source": [
    "<h1><center><div style=\"direction:rtl;font-family:B Nazanin\">Importing Data</div></center></h1>"
   ]
  },
  {
   "cell_type": "code",
   "execution_count": 2,
   "metadata": {
    "scrolled": true
   },
   "outputs": [
    {
     "name": "stdout",
     "output_type": "stream",
     "text": [
      "first_train_shape= (276, 81)\n",
      "first_test_shape= (600, 81)\n",
      "classes_quantity= 2\n",
      "tr_lbls=\t {0, 1}\n",
      "Count_labels= [161]\n",
      "max(train_feature_Altitude)= 2.4602\n",
      "min(train_feature_Altitude)= -2.1799\n",
      "first_train_sample=\n",
      " [ 1.       -0.88425  -0.76511  -0.6264   -0.30459  -0.014302  0.29922\n",
      "  0.51262   0.62572   0.89455   1.053     1.1322    1.2672    1.4321\n",
      "  1.4845    1.2757    1.1589    1.0053    0.81736   0.50439   0.37885\n",
      "  0.14581  -0.20947  -0.57872  -0.67481  -0.79999  -0.93504  -0.78816\n",
      " -0.57744  -0.27191   0.061242  0.41037   0.76072   1.1348    1.5046\n",
      "  1.6696    1.6999    1.5531    1.3937    1.4704    1.5877    1.6902\n",
      "  1.7647    1.5246    1.1461    0.76139   0.42848   0.076242 -0.2335\n",
      " -0.51671  -0.81834  -0.080823 -0.27898  -0.46208  -0.69433  -0.92273\n",
      " -1.1133   -1.3737   -1.5067   -1.5621   -1.3708   -1.102    -0.86298\n",
      " -0.53403  -0.3252   -0.1899   -0.3366   -0.45422  -0.60653  -0.78383\n",
      " -1.0497   -1.3447   -1.4977   -1.5734   -1.4749   -1.2418   -1.0149\n",
      " -0.78176  -0.61354  -0.3066   -0.16655 ]\n",
      "0 115\t1 161\t"
     ]
    }
   ],
   "source": [
    "cls_num=17\n",
    "for i in range (1,cls_num+1):\n",
    "    vars()['ecg'+str(i)]=MITBIH(i)\n",
    "os.chdir(cwd)\n",
    "clses_lens=np.array([])\n",
    "i=0                               #جمع آوری داده ها و چاپ تعداد نمونه ی هر کلاس\n",
    "ecg=np.array(ecg1)\n",
    "print(1,len(vars()['ecg'+str(1)]), end='\\t')\n",
    "clses_lens=np.append(clses_lens,len(vars()['ecg'+str(1)]))\n",
    "for i in range (2,cls_num+1):\n",
    "    ecg=np.concatenate((ecg,vars()['ecg'+str(i)]),axis=0)\n",
    "    clses_lens=np.append(clses_lens,len(vars()['ecg'+str(i)]))\n",
    "    print( i,len(vars()['ecg'+str(i)]), end='\\t')\n",
    "\n",
    "mx_sig=max(clses_lens)\n",
    "btch=1000"
   ]
  },
  {
   "cell_type": "code",
   "execution_count": 3,
   "metadata": {},
   "outputs": [
    {
     "data": {
      "text/plain": [
       "(276, 481)"
      ]
     },
     "execution_count": 3,
     "metadata": {},
     "output_type": "execute_result"
    }
   ],
   "source": [
    "np.shape(ecg)"
   ]
  },
  {
   "cell_type": "markdown",
   "metadata": {},
   "source": [
    "<h2><center><div style=\"direction:rtl;font-family:B Nazanin\">Base Train windows</div></center></h1>"
   ]
  },
  {
   "cell_type": "code",
   "execution_count": 5,
   "metadata": {},
   "outputs": [
    {
     "name": "stdout",
     "output_type": "stream",
     "text": [
      "each class and its windows =\n",
      "0 115\t1 161\t\n",
      " max = 161\n"
     ]
    }
   ],
   "source": [
    "smpl_rte=480                                              # در ماژول ها نیز همین مقدار ثبت شده\n",
    "i=0\n",
    "windws=np.array([])\n",
    "for cls in range (1,cls_num+1):                                 #ساخت پنجره های داده های آموزش اصلی\n",
    "    dta=np.array(vars()['ecg'+str(cls)][int(.1*len(vars()['ecg'+str(cls)])):,:]) #انتخاب محدوده ترِین جهت داده افزایی\n",
    "    vars()['wndws'+str(cls)]=wndwng(dta)                #نرخ نمونه برداری 480 است و شماره کلاس در آخر ردیف نیست\n",
    "    clm0vlu=np.zeros(len(vars()['wndws'+str(cls)]))\n",
    "    cls_clm=np.array(clm0vlu)\n",
    "    cls_clm=np.int16(cls_clm+cls)\n",
    "    cls_clm=np.transpose([cls_clm])                     # افزودن ستون برچسب (شماره کلاس) به سمت راست پنجره ها\n",
    "    vars()['wndws'+str(cls)]=np.concatenate((vars()['wndws'+str(cls)],cls_clm),axis=1)   \n",
    "\n",
    "print(\"each class and its windows =\")\n",
    "cls_wndws=np.array([])\n",
    "for cls in range (1,cls_num+1):                                # آرایه ی تعداد پنجره ی هر کلاس\n",
    "    wns=len(vars()['wndws'+str(cls)])\n",
    "    cls_wndws=np.append(cls_wndws,wns)\n",
    "    print(cls, wns, end='\\t')\n",
    "cls_wndws=np.int16(cls_wndws)    \n",
    "mx_wndws=int(np.max(cls_wndws))                        # حداکثر تعداد پنجره ی موجود بین کلاس ها\n",
    "print('\\n max =', mx_wndws)"
   ]
  },
  {
   "cell_type": "raw",
   "metadata": {},
   "source": [
    "#clses=3                                   #تعیین میزان افزایش نمونه (تولید داده)\n",
    "mx_wndws=int(mx_wndws)  #mx_wndws*0.3  # =classes-1 برای بررسی الگوریتم تعداد کمی کلاس آزمایش شد\n",
    "mx_wndws=2598           #+2\n",
    "print(mx_wndws)"
   ]
  },
  {
   "cell_type": "markdown",
   "metadata": {},
   "source": [
    "<h1><center><div style=\"direction:rtl;font-family:B Nazanin\">Data Augmentation</div></center></h1>"
   ]
  },
  {
   "cell_type": "code",
   "execution_count": 6,
   "metadata": {},
   "outputs": [
    {
     "name": "stdout",
     "output_type": "stream",
     "text": [
      "Up to class  0 train shape =  (115, 481)\n",
      "Up to class  1 train shape =  (276, 481)\n"
     ]
    }
   ],
   "source": [
    "smpl_rte=len(wndws1[0])                                        # در ماژول ها نیز همین مقدار ثبت شده\n",
    "\n",
    "#add augmented data to base data\n",
    "xtrain=np.empty((0,len(wndws1[0])), float) \n",
    "for i in range (0,cls_num):   \n",
    "    xtrain=np.append(xtrain,vars()['wndws'+str(i)],axis=0)\n",
    "    print('Up to class ', i, 'train shape = ', np.shape(xtrain))"
   ]
  },
  {
   "cell_type": "code",
   "execution_count": 7,
   "metadata": {},
   "outputs": [
    {
     "name": "stdout",
     "output_type": "stream",
     "text": [
      "[115 161]\n"
     ]
    }
   ],
   "source": [
    "print(np.bincount(np.int16(xtrain[:,-1])))    #تعداد پنجره در هر کلاس از 0 تا 17"
   ]
  },
  {
   "cell_type": "code",
   "execution_count": 8,
   "metadata": {},
   "outputs": [
    {
     "data": {
      "text/plain": [
       "array([0., 0., 0., 0., 0., 0., 0., 0., 0., 0., 0., 0., 0., 0., 0., 0., 0.,\n",
       "       0., 0., 0., 0., 0., 0., 0., 0., 0., 0., 0., 0., 0., 0., 0., 0., 0.,\n",
       "       0., 0., 0., 0., 0., 0., 0., 0., 0., 0., 0., 0., 0., 0., 0., 0., 0.,\n",
       "       0., 0., 0., 0., 0., 0., 0., 0., 0., 0., 0., 0., 0., 0., 0., 0., 0.,\n",
       "       0., 0., 0., 0., 0., 0., 0., 0., 0., 0., 0., 0., 0., 0., 0., 0., 0.,\n",
       "       0., 0., 0., 0., 0., 0., 0., 0., 0., 0., 0., 0., 0., 0., 0., 0., 0.,\n",
       "       0., 0., 0., 0., 0., 0., 0., 0., 0., 0., 0., 0., 0., 1., 1., 1., 1.,\n",
       "       1., 1., 1., 1., 1., 1., 1., 1., 1., 1., 1., 1., 1., 1., 1., 1., 1.,\n",
       "       1., 1., 1., 1., 1., 1., 1., 1., 1., 1., 1., 1., 1., 1., 1., 1., 1.,\n",
       "       1., 1., 1., 1., 1., 1., 1., 1., 1., 1., 1., 1., 1., 1., 1., 1., 1.,\n",
       "       1., 1., 1., 1., 1., 1., 1., 1., 1., 1., 1., 1., 1., 1., 1., 1., 1.,\n",
       "       1., 1., 1., 1., 1., 1., 1., 1., 1., 1., 1., 1., 1., 1., 1., 1., 1.,\n",
       "       1., 1., 1., 1., 1., 1., 1., 1., 1., 1., 1., 1., 1., 1., 1., 1., 1.,\n",
       "       1., 1., 1., 1., 1., 1., 1., 1., 1., 1., 1., 1., 1., 1., 1., 1., 1.,\n",
       "       1., 1., 1., 1., 1., 1., 1., 1., 1., 1., 1., 1., 1., 1., 1., 1., 1.,\n",
       "       1., 1., 1., 1., 1., 1., 1., 1., 1., 1., 1., 1., 1., 1., 1., 1., 1.,\n",
       "       1., 1., 1., 1.])"
      ]
     },
     "execution_count": 8,
     "metadata": {},
     "output_type": "execute_result"
    }
   ],
   "source": [
    "xtrain[:,-1]"
   ]
  },
  {
   "cell_type": "code",
   "execution_count": 9,
   "metadata": {},
   "outputs": [],
   "source": [
    "mx_aug=np.max(xtrain[:,:-1])\n",
    "mx=np.max(ecg[:,:-1])\n",
    "mn_aug=np.min(xtrain[:,:-1])\n",
    "mn=np.min(ecg[:,:-1])\n",
    "\n",
    "#for i in range (0,cls_num):             #نرمالسازی داده های افزایشی\n",
    "xtrain[:,:-1]= 2*(xtrain[:,:-1]-mn_aug)/(mx_aug - mn_aug) - 1"
   ]
  },
  {
   "cell_type": "code",
   "execution_count": 10,
   "metadata": {},
   "outputs": [
    {
     "name": "stdout",
     "output_type": "stream",
     "text": [
      "min trn = -1.0\n",
      "max trn = 1.0\n"
     ]
    }
   ],
   "source": [
    "print('min trn =', np.min(xtrain[:,:-1]))\n",
    "print('max trn =', np.max(xtrain[:,:-1]))"
   ]
  },
  {
   "cell_type": "markdown",
   "metadata": {},
   "source": [
    "<h3><center><div style=\"direction:rtl;font-family:B Nazanin\">Test Windows</div></center></h1>"
   ]
  },
  {
   "cell_type": "code",
   "execution_count": 11,
   "metadata": {},
   "outputs": [],
   "source": [
    "wndws_test=np.empty((0,len(wndws1[0])), float)\n",
    "i=0\n",
    "windws=np.array([])\n",
    "for cls in range (0,cls_num):                                 #ساخت پنجره های داده های آموزش اصلی\n",
    "    vars()['wndws_tst'+str(cls)]=np.empty((0,len(wndws1[0])), float)\n",
    "    vars()['wndws_tst'+str(cls)]=np.append(vars()['wndws_tst'+str(cls)],vars()['ecg_tst'+str(cls)],axis=0)   "
   ]
  },
  {
   "cell_type": "code",
   "execution_count": 12,
   "metadata": {},
   "outputs": [
    {
     "name": "stdout",
     "output_type": "stream",
     "text": [
      "\n",
      " cls 0  >> \n",
      "max magnitude class 0  =  2.4659367123545555\n",
      "min magnitude class 0  =  -2.1616024973492727\n",
      "after normalizing >>\n",
      "max magnitude class 0  =  0.9764289207494858\n",
      "min magnitude class 0  =  -0.9718534363802719\n",
      "\n",
      " cls 1  >> \n",
      "max magnitude class 1  =  2.095753113350402\n",
      "min magnitude class 1  =  -1.994499999999999\n",
      "after normalizing >>\n",
      "max magnitude class 1  =  0.8205745579542003\n",
      "min magnitude class 1  =  -0.9015000946440819\n",
      "each class and its windows =\n",
      "0 222\t1 378\t\n",
      " max instance in classes of test windows = 378\n"
     ]
    }
   ],
   "source": [
    "#print(np.max(wndws_tst))\n",
    "for i in range (0,cls_num):                # Normalization test windows\n",
    "    cls=i\n",
    "    print('\\n cls', i, ' >> ')\n",
    "    print('max magnitude class', i , ' = ' ,np.max(vars()['wndws_tst'+str(cls)][:,:-1]))\n",
    "    print('min magnitude class', i , ' = ' ,np.min(vars()['wndws_tst'+str(cls)][:,:-1]))\n",
    "\n",
    "    vars()['wndws_tst'+str(i)][:,:-1]= 2*(vars()['wndws_tst'+str(i)][:,:-1]-mn_aug)/(mx_aug - mn_aug) - 1\n",
    "    \n",
    "    print('after normalizing >>')\n",
    "    print('max magnitude class', i , ' = ' ,np.max(vars()['wndws_tst'+str(cls)][:,:-1]))\n",
    "    print('min magnitude class', i , ' = ' ,np.min(vars()['wndws_tst'+str(cls)][:,:-1]))\n",
    "    \n",
    "print(\"each class and its windows =\")                    #تجمیع کلاس های تست\n",
    "cls_wndws=np.array([])\n",
    "for cls in range (0,cls_num):                                # آرایه ی تعداد پنجره ی هر کلاس\n",
    "    wns=len(vars()['wndws_tst'+str(cls)])\n",
    "    cls_wndws=np.append(cls_wndws,wns)\n",
    "    print(cls, wns, end='\\t')\n",
    "    wndws_test=np.append(wndws_test,vars()['wndws_tst'+str(cls)],axis=0)\n",
    "    \n",
    "mx_wndws=int(np.max(cls_wndws))                        # حداکثر تعداد پنجره ی موجود بین کلاس ها\n",
    "print('\\n max instance in classes of test windows =', mx_wndws)"
   ]
  },
  {
   "cell_type": "code",
   "execution_count": 13,
   "metadata": {},
   "outputs": [
    {
     "name": "stdout",
     "output_type": "stream",
     "text": [
      "min tst = -0.9718534363802719\n",
      "max tst = 0.9764289207494858\n"
     ]
    }
   ],
   "source": [
    "print('min tst =', np.min(wndws_test[:,:-1]))\n",
    "print('max tst =', np.max(wndws_test[:,:-1]))"
   ]
  },
  {
   "cell_type": "code",
   "execution_count": 14,
   "metadata": {},
   "outputs": [
    {
     "data": {
      "text/plain": [
       "600"
      ]
     },
     "execution_count": 14,
     "metadata": {},
     "output_type": "execute_result"
    }
   ],
   "source": [
    "len(wndws_test)"
   ]
  },
  {
   "cell_type": "code",
   "execution_count": 15,
   "metadata": {},
   "outputs": [
    {
     "data": {
      "text/plain": [
       "(600, 481)"
      ]
     },
     "execution_count": 15,
     "metadata": {},
     "output_type": "execute_result"
    }
   ],
   "source": [
    "np.shape(wndws_test)"
   ]
  },
  {
   "cell_type": "code",
   "execution_count": 16,
   "metadata": {},
   "outputs": [],
   "source": [
    "Xtest=wndws_test[:,:-1]\n",
    "ytest=np.int16(wndws_test[:,-1])"
   ]
  },
  {
   "cell_type": "code",
   "execution_count": 17,
   "metadata": {},
   "outputs": [
    {
     "name": "stdout",
     "output_type": "stream",
     "text": [
      "array([0, 0, 0, 0, 0, 0, 0, 0, 0, 0, 0, 0, 0, 0, 0, 0, 0, 0, 0, 0, 0, 0,\n",
      "       0, 0, 0, 0, 0, 0, 0, 0, 0, 0, 0, 0, 0, 0, 0, 0, 0, 0, 0, 0, 0, 0,\n",
      "       0, 0, 0, 0, 0, 0, 0, 0, 0, 0, 0, 0, 0, 0, 0, 0, 0, 0, 0, 0, 0, 0,\n",
      "       0, 0, 0, 0, 0, 0, 0, 0, 0, 0, 0, 0, 0, 0, 0, 0, 0, 0, 0, 0, 0, 0,\n",
      "       0, 0, 0, 0, 0, 0, 0, 0, 0, 0, 0, 0, 0, 0, 0, 0, 0, 0, 0, 0, 0, 0,\n",
      "       0, 0, 0, 0, 0, 0, 0, 0, 0, 0, 0, 0, 0, 0, 0, 0, 0, 0, 0, 0, 0, 0,\n",
      "       0, 0, 0, 0, 0, 0, 0, 0, 0, 0, 0, 0, 0, 0, 0, 0, 0, 0, 0, 0, 0, 0,\n",
      "       0, 0, 0, 0, 0, 0, 0, 0, 0, 0, 0, 0, 0, 0, 0, 0, 0, 0, 0, 0, 0, 0,\n",
      "       0, 0, 0, 0, 0, 0, 0, 0, 0, 0, 0, 0, 0, 0, 0, 0, 0, 0, 0, 0, 0, 0,\n",
      "       0, 0, 0, 0, 0, 0, 0, 0, 0, 0, 0, 0, 0, 0, 0, 0, 0, 0, 0, 0, 0, 0,\n",
      "       0, 0, 1, 1, 1, 1, 1, 1, 1, 1, 1, 1, 1, 1, 1, 1, 1, 1, 1, 1, 1, 1,\n",
      "       1, 1, 1, 1, 1, 1, 1, 1, 1, 1, 1, 1, 1, 1, 1, 1, 1, 1, 1, 1, 1, 1,\n",
      "       1, 1, 1, 1, 1, 1, 1, 1, 1, 1, 1, 1, 1, 1, 1, 1, 1, 1, 1, 1, 1, 1,\n",
      "       1, 1, 1, 1, 1, 1, 1, 1, 1, 1, 1, 1, 1, 1, 1, 1, 1, 1, 1, 1, 1, 1,\n",
      "       1, 1, 1, 1, 1, 1, 1, 1, 1, 1, 1, 1, 1, 1, 1, 1, 1, 1, 1, 1, 1, 1,\n",
      "       1, 1, 1, 1, 1, 1, 1, 1, 1, 1, 1, 1, 1, 1, 1, 1, 1, 1, 1, 1, 1, 1,\n",
      "       1, 1, 1, 1, 1, 1, 1, 1, 1, 1, 1, 1, 1, 1, 1, 1, 1, 1, 1, 1, 1, 1,\n",
      "       1, 1, 1, 1, 1, 1, 1, 1, 1, 1, 1, 1, 1, 1, 1, 1, 1, 1, 1, 1, 1, 1,\n",
      "       1, 1, 1, 1, 1, 1, 1, 1, 1, 1, 1, 1, 1, 1, 1, 1, 1, 1, 1, 1, 1, 1,\n",
      "       1, 1, 1, 1, 1, 1, 1, 1, 1, 1, 1, 1, 1, 1, 1, 1, 1, 1, 1, 1, 1, 1,\n",
      "       1, 1, 1, 1, 1, 1, 1, 1, 1, 1, 1, 1, 1, 1, 1, 1, 1, 1, 1, 1, 1, 1,\n",
      "       1, 1, 1, 1, 1, 1, 1, 1, 1, 1, 1, 1, 1, 1, 1, 1, 1, 1, 1, 1, 1, 1,\n",
      "       1, 1, 1, 1, 1, 1, 1, 1, 1, 1, 1, 1, 1, 1, 1, 1, 1, 1, 1, 1, 1, 1,\n",
      "       1, 1, 1, 1, 1, 1, 1, 1, 1, 1, 1, 1, 1, 1, 1, 1, 1, 1, 1, 1, 1, 1,\n",
      "       1, 1, 1, 1, 1, 1, 1, 1, 1, 1, 1, 1, 1, 1, 1, 1, 1, 1, 1, 1, 1, 1,\n",
      "       1, 1, 1, 1, 1, 1, 1, 1, 1, 1, 1, 1, 1, 1, 1, 1, 1, 1, 1, 1, 1, 1,\n",
      "       1, 1, 1, 1, 1, 1, 1, 1, 1, 1, 1, 1, 1, 1, 1, 1, 1, 1, 1, 1, 1, 1,\n",
      "       1, 1, 1, 1, 1, 1], dtype=int16)\n"
     ]
    }
   ],
   "source": [
    "fullprint(ytest)"
   ]
  },
  {
   "cell_type": "markdown",
   "metadata": {},
   "source": [
    "<h3><center><div style=\"direction:rtl;font-family:B Nazanin\">Train Windows</div></center></h1>"
   ]
  },
  {
   "cell_type": "code",
   "execution_count": 18,
   "metadata": {},
   "outputs": [
    {
     "data": {
      "text/plain": [
       "'\\nytestt=np.int32(np.array([ytest]).T)\\ntestx=np.concatenate((Xtest, ytestt), axis=1)\\ntestx=np.random.permutation(testx)\\nXtest=np.int32(testx[:,:-1])\\nytest=np.int32(testx[:,-1])'"
      ]
     },
     "execution_count": 18,
     "metadata": {},
     "output_type": "execute_result"
    }
   ],
   "source": [
    "#ytraint=np.int32(np.array([ytrain]).T)\n",
    "#trainx=np.concatenate((Xtrain, ytraint), axis=1)\n",
    "trainx=np.random.permutation(xtrain)\n",
    "Xtrain=np.array(trainx[:,:-1])\n",
    "ytrain=np.int16(trainx[:,-1])\n",
    "'''\n",
    "ytestt=np.int32(np.array([ytest]).T)\n",
    "testx=np.concatenate((Xtest, ytestt), axis=1)\n",
    "testx=np.random.permutation(testx)\n",
    "Xtest=np.int32(testx[:,:-1])\n",
    "ytest=np.int32(testx[:,-1])'''"
   ]
  },
  {
   "cell_type": "code",
   "execution_count": 19,
   "metadata": {},
   "outputs": [
    {
     "data": {
      "text/plain": [
       "(161, 481)"
      ]
     },
     "execution_count": 19,
     "metadata": {},
     "output_type": "execute_result"
    }
   ],
   "source": [
    "np.shape(wndws1)"
   ]
  },
  {
   "cell_type": "markdown",
   "metadata": {},
   "source": [
    "<h3><center><div style=\"direction:rtl;font-family:B Nazanin\">Validation Windows</div></center></h1>"
   ]
  },
  {
   "cell_type": "code",
   "execution_count": 20,
   "metadata": {},
   "outputs": [],
   "source": [
    "Xvalid=np.array(Xtrain)\n",
    "yvalid=np.array(ytrain)"
   ]
  },
  {
   "cell_type": "markdown",
   "metadata": {},
   "source": [
    "<h1><center><div style=\"direction:rtl;font-family:B Nazanin\">CNN And UnBalanced RAW Data</div></center></h1>\n",
    "<h1><center><div style=\"direction:rtl;font-family:Arial\">Cross Entropy Loss Function</div></center></h1>"
   ]
  },
  {
   "cell_type": "code",
   "execution_count": 21,
   "metadata": {
    "scrolled": true
   },
   "outputs": [
    {
     "name": "stdout",
     "output_type": "stream",
     "text": [
      "X_train =>  (276, 480)\n",
      "y_train =>  (276,)\n",
      "X_test  =>  (600, 480)\n",
      "y_test  =>  (600,)\n",
      "X_valid  =>  (276, 480)\n",
      "y_valid  =>  (276,)\n"
     ]
    }
   ],
   "source": [
    "X_train=np.array(Xtrain)\n",
    "y_train=np.array(ytrain)\n",
    "X_test=np.array(Xtest)\n",
    "y_test=np.array(ytest)\n",
    "X_valid=np.array(Xtrain)\n",
    "y_valid=np.array(ytrain)\n",
    "print('X_train => ', X_train.shape)\n",
    "print('y_train => ', y_train.shape)\n",
    "print('X_test  => ', X_test.shape)\n",
    "print('y_test  => ', y_test.shape)\n",
    "print('X_valid  => ', X_valid.shape)\n",
    "print('y_valid  => ', y_valid.shape)"
   ]
  },
  {
   "cell_type": "code",
   "execution_count": 22,
   "metadata": {},
   "outputs": [
    {
     "name": "stdout",
     "output_type": "stream",
     "text": [
      " class was started from 0=Zero \n",
      "final labels= {0, 1}\n"
     ]
    }
   ],
   "source": [
    "if min(y_train)==0:\n",
    "    print(' class was started from 0=Zero ')\n",
    "else:\n",
    "    print('!!!!!! class Should start from 0=Zero !!!!!!')\n",
    "    print(\"!!!!!!   Reduce 1 From Class Number    !!!!!\")\n",
    "    y_train=np.array(y_train-1)\n",
    "    y_test=np.array(y_test-1)\n",
    "    y_valid=np.array(y_valid-1)\n",
    "print('final labels=',set(y_train))"
   ]
  },
  {
   "cell_type": "code",
   "execution_count": 23,
   "metadata": {},
   "outputs": [],
   "source": [
    "y_train_cat=to_categorical(y_train)#[:,1:]\n",
    "y_valid_cat=to_categorical(y_valid)#[:,1:]\n",
    "y_test_cat=to_categorical(y_test)#[:,1:]\n",
    "\n",
    "\n",
    "X_train = np.expand_dims(X_train, axis=2)\n",
    "X_valid = np.expand_dims(X_valid, axis=2)\n",
    "X_test = np.expand_dims(X_test, axis=2)\n",
    "#y_train=np.transpose([y_train])"
   ]
  },
  {
   "cell_type": "markdown",
   "metadata": {},
   "source": [
    "<h1><center><div style=\"direction:rtl;font-family:B Nazanin\">Network</div></center></h1>"
   ]
  },
  {
   "cell_type": "code",
   "execution_count": 24,
   "metadata": {
    "scrolled": true
   },
   "outputs": [
    {
     "name": "stdout",
     "output_type": "stream",
     "text": [
      "Epoch 1/500\n",
      "14/14 [==============================] - 30s 685ms/step - loss: 0.8196 - accuracy: 0.6703 - val_loss: 1.2381 - val_accuracy: 0.4167\n",
      "Epoch 2/500\n",
      "14/14 [==============================] - 7s 491ms/step - loss: 0.6430 - accuracy: 0.6848 - val_loss: 1.3200 - val_accuracy: 0.5833\n",
      "Epoch 3/500\n",
      "14/14 [==============================] - 8s 636ms/step - loss: 0.5827 - accuracy: 0.7355 - val_loss: 0.6792 - val_accuracy: 0.5036\n",
      "Epoch 4/500\n",
      "14/14 [==============================] - 6s 483ms/step - loss: 0.5709 - accuracy: 0.7138 - val_loss: 0.7623 - val_accuracy: 0.4058\n",
      "Epoch 5/500\n",
      "14/14 [==============================] - 6s 478ms/step - loss: 0.4921 - accuracy: 0.7935 - val_loss: 1.4413 - val_accuracy: 0.4167\n",
      "Epoch 6/500\n",
      "14/14 [==============================] - 6s 482ms/step - loss: 0.4641 - accuracy: 0.8116 - val_loss: 1.2906 - val_accuracy: 0.4167\n",
      "Epoch 7/500\n",
      "14/14 [==============================] - 9s 652ms/step - loss: 0.3843 - accuracy: 0.8514 - val_loss: 1.6094 - val_accuracy: 0.4167\n",
      "Epoch 8/500\n",
      "14/14 [==============================] - 6s 488ms/step - loss: 0.4293 - accuracy: 0.8188 - val_loss: 3.3957 - val_accuracy: 0.4167\n",
      "Epoch 9/500\n",
      "14/14 [==============================] - 7s 494ms/step - loss: 0.4475 - accuracy: 0.7899 - val_loss: 3.6006 - val_accuracy: 0.4167\n",
      "Epoch 10/500\n",
      "14/14 [==============================] - 8s 478ms/step - loss: 0.3481 - accuracy: 0.8768 - val_loss: 3.4148 - val_accuracy: 0.4167\n",
      "Epoch 11/500\n",
      "14/14 [==============================] - 6s 484ms/step - loss: 0.2637 - accuracy: 0.8877 - val_loss: 5.6891 - val_accuracy: 0.4167\n",
      "Epoch 12/500\n",
      "14/14 [==============================] - 6s 478ms/step - loss: 0.3127 - accuracy: 0.8659 - val_loss: 7.6792 - val_accuracy: 0.4167\n",
      "Epoch 13/500\n",
      "14/14 [==============================] - 6s 476ms/step - loss: 0.1836 - accuracy: 0.9384 - val_loss: 9.3696 - val_accuracy: 0.4167\n",
      "Epoch 14/500\n",
      "14/14 [==============================] - 8s 482ms/step - loss: 0.3405 - accuracy: 0.8877 - val_loss: 9.6298 - val_accuracy: 0.4167\n",
      "Epoch 15/500\n",
      "14/14 [==============================] - 6s 485ms/step - loss: 0.1745 - accuracy: 0.9384 - val_loss: 18.2495 - val_accuracy: 0.4167\n",
      "Epoch 16/500\n",
      "14/14 [==============================] - 6s 474ms/step - loss: 0.2193 - accuracy: 0.9275 - val_loss: 18.3545 - val_accuracy: 0.4167\n",
      "Epoch 17/500\n",
      "14/14 [==============================] - 8s 644ms/step - loss: 0.1380 - accuracy: 0.9384 - val_loss: 13.3724 - val_accuracy: 0.4167\n",
      "Epoch 18/500\n",
      "14/14 [==============================] - 6s 482ms/step - loss: 0.1713 - accuracy: 0.9312 - val_loss: 13.8312 - val_accuracy: 0.4167\n",
      "Epoch 19/500\n",
      "14/14 [==============================] - 6s 475ms/step - loss: 0.1729 - accuracy: 0.9348 - val_loss: 13.6768 - val_accuracy: 0.4167\n",
      "Epoch 20/500\n",
      "14/14 [==============================] - 6s 480ms/step - loss: 0.1051 - accuracy: 0.9493 - val_loss: 11.0304 - val_accuracy: 0.4167\n",
      "Epoch 21/500\n",
      "14/14 [==============================] - 8s 634ms/step - loss: 0.1449 - accuracy: 0.9529 - val_loss: 4.0719 - val_accuracy: 0.4348\n",
      "Epoch 22/500\n",
      "14/14 [==============================] - 6s 479ms/step - loss: 0.1737 - accuracy: 0.9312 - val_loss: 5.9661 - val_accuracy: 0.4601\n",
      "Epoch 23/500\n",
      "14/14 [==============================] - 6s 485ms/step - loss: 0.2082 - accuracy: 0.9058 - val_loss: 3.0459 - val_accuracy: 0.5906\n",
      "Epoch 24/500\n",
      "14/14 [==============================] - 6s 484ms/step - loss: 0.2126 - accuracy: 0.9094 - val_loss: 0.5534 - val_accuracy: 0.8080\n",
      "Epoch 25/500\n",
      "14/14 [==============================] - 8s 484ms/step - loss: 0.1222 - accuracy: 0.9565 - val_loss: 0.9498 - val_accuracy: 0.7826\n",
      "Epoch 26/500\n",
      "14/14 [==============================] - 6s 483ms/step - loss: 0.1255 - accuracy: 0.9601 - val_loss: 4.4891 - val_accuracy: 0.5181\n",
      "Epoch 27/500\n",
      "14/14 [==============================] - 6s 486ms/step - loss: 0.0255 - accuracy: 0.9928 - val_loss: 0.9646 - val_accuracy: 0.8297\n",
      "Epoch 28/500\n",
      "14/14 [==============================] - 9s 494ms/step - loss: 0.1775 - accuracy: 0.9420 - val_loss: 2.1896 - val_accuracy: 0.6775\n",
      "Epoch 29/500\n",
      "14/14 [==============================] - 7s 508ms/step - loss: 0.0717 - accuracy: 0.9746 - val_loss: 0.4436 - val_accuracy: 0.8514\n",
      "Epoch 30/500\n",
      "14/14 [==============================] - 9s 667ms/step - loss: 0.0874 - accuracy: 0.9638 - val_loss: 0.9902 - val_accuracy: 0.7536\n",
      "Epoch 31/500\n",
      "14/14 [==============================] - 7s 493ms/step - loss: 0.0975 - accuracy: 0.9674 - val_loss: 9.1840 - val_accuracy: 0.4203\n",
      "Epoch 32/500\n",
      "14/14 [==============================] - 7s 498ms/step - loss: 0.2309 - accuracy: 0.9239 - val_loss: 2.2762 - val_accuracy: 0.6123\n",
      "Epoch 33/500\n",
      "14/14 [==============================] - 9s 661ms/step - loss: 0.0646 - accuracy: 0.9710 - val_loss: 0.3970 - val_accuracy: 0.8986\n",
      "Epoch 34/500\n",
      "14/14 [==============================] - 7s 503ms/step - loss: 0.0954 - accuracy: 0.9746 - val_loss: 0.6114 - val_accuracy: 0.8370\n",
      "Epoch 35/500\n",
      "14/14 [==============================] - 9s 651ms/step - loss: 0.0886 - accuracy: 0.9710 - val_loss: 0.1634 - val_accuracy: 0.9493\n",
      "Epoch 36/500\n",
      "14/14 [==============================] - 6s 488ms/step - loss: 0.0377 - accuracy: 0.9819 - val_loss: 0.8379 - val_accuracy: 0.8370\n",
      "Epoch 37/500\n",
      "14/14 [==============================] - 6s 486ms/step - loss: 0.1507 - accuracy: 0.9601 - val_loss: 0.7217 - val_accuracy: 0.8696\n",
      "Epoch 38/500\n",
      "14/14 [==============================] - 9s 652ms/step - loss: 0.0469 - accuracy: 0.9783 - val_loss: 0.0645 - val_accuracy: 0.9710\n",
      "Epoch 39/500\n",
      "14/14 [==============================] - 6s 482ms/step - loss: 0.0268 - accuracy: 0.9891 - val_loss: 0.9986 - val_accuracy: 0.8007\n",
      "Epoch 40/500\n",
      "14/14 [==============================] - 5s 337ms/step - loss: 0.1068 - accuracy: 0.9746 - val_loss: 0.6632 - val_accuracy: 0.8659\n",
      "Epoch 41/500\n",
      "14/14 [==============================] - 2s 179ms/step - loss: 0.0888 - accuracy: 0.9746 - val_loss: 0.2102 - val_accuracy: 0.9384\n",
      "Epoch 42/500\n",
      "14/14 [==============================] - 3s 181ms/step - loss: 0.0536 - accuracy: 0.9746 - val_loss: 0.2854 - val_accuracy: 0.9203\n",
      "Epoch 43/500\n",
      "14/14 [==============================] - 2s 179ms/step - loss: 0.0264 - accuracy: 0.9928 - val_loss: 1.1318 - val_accuracy: 0.7717\n",
      "Epoch 44/500\n",
      "14/14 [==============================] - 2s 179ms/step - loss: 0.1385 - accuracy: 0.9384 - val_loss: 0.4048 - val_accuracy: 0.8841\n",
      "Epoch 45/500\n",
      "14/14 [==============================] - 3s 187ms/step - loss: 0.0761 - accuracy: 0.9638 - val_loss: 0.1102 - val_accuracy: 0.9746\n",
      "Epoch 46/500\n",
      "14/14 [==============================] - 3s 182ms/step - loss: 0.0848 - accuracy: 0.9819 - val_loss: 0.0126 - val_accuracy: 0.9964\n",
      "Epoch 47/500\n",
      "14/14 [==============================] - 5s 343ms/step - loss: 0.0057 - accuracy: 1.0000 - val_loss: 0.0043 - val_accuracy: 1.0000\n",
      "Epoch 48/500\n",
      "14/14 [==============================] - 6s 488ms/step - loss: 0.0071 - accuracy: 1.0000 - val_loss: 0.0234 - val_accuracy: 0.9855\n",
      "Epoch 49/500\n",
      "14/14 [==============================] - 8s 481ms/step - loss: 0.1750 - accuracy: 0.9601 - val_loss: 1.2395 - val_accuracy: 0.7862\n",
      "Epoch 50/500\n",
      "14/14 [==============================] - 6s 481ms/step - loss: 0.0787 - accuracy: 0.9601 - val_loss: 0.8914 - val_accuracy: 0.8623\n",
      "Epoch 51/500\n",
      "14/14 [==============================] - 6s 480ms/step - loss: 0.0430 - accuracy: 0.9819 - val_loss: 0.4451 - val_accuracy: 0.8659\n",
      "Epoch 52/500\n",
      "14/14 [==============================] - 8s 642ms/step - loss: 0.1971 - accuracy: 0.9384 - val_loss: 0.9371 - val_accuracy: 0.8043\n",
      "Epoch 53/500\n",
      "14/14 [==============================] - 7s 494ms/step - loss: 0.0501 - accuracy: 0.9855 - val_loss: 0.3504 - val_accuracy: 0.9022\n",
      "Epoch 54/500\n",
      "14/14 [==============================] - 6s 486ms/step - loss: 0.0476 - accuracy: 0.9746 - val_loss: 0.8384 - val_accuracy: 0.7899\n",
      "Epoch 55/500\n",
      "14/14 [==============================] - 9s 487ms/step - loss: 0.0299 - accuracy: 0.9891 - val_loss: 0.1972 - val_accuracy: 0.9312\n",
      "Epoch 56/500\n",
      "14/14 [==============================] - 6s 483ms/step - loss: 0.1113 - accuracy: 0.9601 - val_loss: 2.9977 - val_accuracy: 0.5761\n",
      "Epoch 57/500\n",
      "14/14 [==============================] - 7s 490ms/step - loss: 0.0645 - accuracy: 0.9746 - val_loss: 0.0342 - val_accuracy: 0.9891\n"
     ]
    },
    {
     "name": "stdout",
     "output_type": "stream",
     "text": [
      "Epoch 58/500\n",
      "14/14 [==============================] - 8s 484ms/step - loss: 0.0876 - accuracy: 0.9638 - val_loss: 0.0533 - val_accuracy: 0.9783\n",
      "Epoch 59/500\n",
      "14/14 [==============================] - 6s 485ms/step - loss: 0.0514 - accuracy: 0.9746 - val_loss: 0.0600 - val_accuracy: 0.9819\n",
      "Epoch 60/500\n",
      "14/14 [==============================] - 6s 479ms/step - loss: 0.0352 - accuracy: 0.9891 - val_loss: 0.8002 - val_accuracy: 0.8043\n",
      "Epoch 61/500\n",
      "14/14 [==============================] - 9s 648ms/step - loss: 0.0846 - accuracy: 0.9746 - val_loss: 0.0844 - val_accuracy: 0.9855\n",
      "Epoch 62/500\n",
      "14/14 [==============================] - 6s 479ms/step - loss: 0.0556 - accuracy: 0.9928 - val_loss: 0.0410 - val_accuracy: 0.9855\n",
      "Epoch 63/500\n",
      "14/14 [==============================] - 6s 477ms/step - loss: 0.0606 - accuracy: 0.9746 - val_loss: 1.5484 - val_accuracy: 0.7319\n",
      "Epoch 64/500\n",
      "14/14 [==============================] - 6s 479ms/step - loss: 0.0404 - accuracy: 0.9855 - val_loss: 0.2998 - val_accuracy: 0.9022\n",
      "Epoch 65/500\n",
      "14/14 [==============================] - 9s 488ms/step - loss: 0.0756 - accuracy: 0.9819 - val_loss: 0.0813 - val_accuracy: 0.9710\n",
      "Epoch 66/500\n",
      "14/14 [==============================] - 6s 475ms/step - loss: 0.0246 - accuracy: 0.9928 - val_loss: 0.0116 - val_accuracy: 0.9964\n",
      "Epoch 67/500\n",
      "14/14 [==============================] - 6s 483ms/step - loss: 0.0059 - accuracy: 1.0000 - val_loss: 0.0082 - val_accuracy: 0.9964\n",
      "Epoch 68/500\n",
      "14/14 [==============================] - 9s 644ms/step - loss: 0.0060 - accuracy: 1.0000 - val_loss: 0.0646 - val_accuracy: 0.9783\n",
      "Epoch 69/500\n",
      "14/14 [==============================] - 6s 482ms/step - loss: 0.0698 - accuracy: 0.9674 - val_loss: 0.0830 - val_accuracy: 0.9746\n",
      "Epoch 70/500\n",
      "14/14 [==============================] - 6s 489ms/step - loss: 0.0461 - accuracy: 0.9891 - val_loss: 0.0416 - val_accuracy: 0.9891\n",
      "Epoch 71/500\n",
      "14/14 [==============================] - 9s 652ms/step - loss: 0.0085 - accuracy: 0.9964 - val_loss: 0.0296 - val_accuracy: 0.9891\n",
      "Epoch 72/500\n",
      "14/14 [==============================] - 6s 483ms/step - loss: 0.0354 - accuracy: 0.9855 - val_loss: 0.4998 - val_accuracy: 0.9022\n",
      "Epoch 73/500\n",
      "14/14 [==============================] - 6s 483ms/step - loss: 0.0709 - accuracy: 0.9674 - val_loss: 0.0618 - val_accuracy: 0.9746\n",
      "Epoch 74/500\n",
      "14/14 [==============================] - 9s 652ms/step - loss: 0.0171 - accuracy: 0.9964 - val_loss: 0.0341 - val_accuracy: 0.9819\n",
      "Epoch 75/500\n",
      "14/14 [==============================] - 6s 487ms/step - loss: 0.0522 - accuracy: 0.9746 - val_loss: 1.7653 - val_accuracy: 0.7500\n",
      "Epoch 76/500\n",
      "14/14 [==============================] - 6s 483ms/step - loss: 0.0280 - accuracy: 0.9783 - val_loss: 0.0063 - val_accuracy: 0.9964\n",
      "Epoch 77/500\n",
      "14/14 [==============================] - 9s 655ms/step - loss: 0.0236 - accuracy: 0.9928 - val_loss: 0.0219 - val_accuracy: 0.9928\n",
      "Epoch 78/500\n",
      "14/14 [==============================] - 6s 480ms/step - loss: 0.0974 - accuracy: 0.9601 - val_loss: 0.2728 - val_accuracy: 0.9420\n",
      "Epoch 79/500\n",
      "14/14 [==============================] - 6s 475ms/step - loss: 0.0679 - accuracy: 0.9710 - val_loss: 0.5486 - val_accuracy: 0.8551\n",
      "Epoch 80/500\n",
      "14/14 [==============================] - 8s 640ms/step - loss: 0.0097 - accuracy: 1.0000 - val_loss: 0.0234 - val_accuracy: 0.9928\n",
      "Epoch 81/500\n",
      "14/14 [==============================] - 7s 493ms/step - loss: 0.0271 - accuracy: 0.9928 - val_loss: 0.0145 - val_accuracy: 0.9964\n",
      "Epoch 82/500\n",
      "14/14 [==============================] - 6s 485ms/step - loss: 0.0974 - accuracy: 0.9674 - val_loss: 0.0663 - val_accuracy: 0.9855\n",
      "Epoch 83/500\n",
      "14/14 [==============================] - 9s 650ms/step - loss: 0.0115 - accuracy: 0.9964 - val_loss: 0.0389 - val_accuracy: 0.9891\n",
      "Epoch 84/500\n",
      "14/14 [==============================] - 6s 480ms/step - loss: 0.0030 - accuracy: 1.0000 - val_loss: 0.0053 - val_accuracy: 0.9964\n",
      "Epoch 85/500\n",
      "14/14 [==============================] - 6s 477ms/step - loss: 5.9117e-04 - accuracy: 1.0000 - val_loss: 0.0019 - val_accuracy: 1.0000\n",
      "Epoch 86/500\n",
      "14/14 [==============================] - 6s 476ms/step - loss: 0.0088 - accuracy: 0.9964 - val_loss: 0.0477 - val_accuracy: 0.9783\n",
      "Epoch 87/500\n",
      "14/14 [==============================] - 9s 493ms/step - loss: 0.0785 - accuracy: 0.9746 - val_loss: 0.1026 - val_accuracy: 0.9601\n",
      "Epoch 88/500\n",
      "14/14 [==============================] - 6s 478ms/step - loss: 0.0356 - accuracy: 0.9783 - val_loss: 0.1603 - val_accuracy: 0.9638\n",
      "Epoch 89/500\n",
      "14/14 [==============================] - 6s 484ms/step - loss: 0.0592 - accuracy: 0.9783 - val_loss: 0.1549 - val_accuracy: 0.9529\n",
      "Epoch 90/500\n",
      "14/14 [==============================] - 9s 488ms/step - loss: 0.0288 - accuracy: 0.9891 - val_loss: 0.0818 - val_accuracy: 0.9601\n",
      "Epoch 91/500\n",
      "14/14 [==============================] - 7s 492ms/step - loss: 0.0538 - accuracy: 0.9855 - val_loss: 0.0498 - val_accuracy: 0.9783\n",
      "Epoch 92/500\n",
      "14/14 [==============================] - 6s 481ms/step - loss: 0.0433 - accuracy: 0.9928 - val_loss: 1.1304 - val_accuracy: 0.7935\n",
      "Epoch 93/500\n",
      "14/14 [==============================] - 9s 488ms/step - loss: 0.0230 - accuracy: 0.9891 - val_loss: 0.5280 - val_accuracy: 0.8696\n",
      "Epoch 94/500\n",
      "14/14 [==============================] - 6s 482ms/step - loss: 0.0041 - accuracy: 1.0000 - val_loss: 0.0109 - val_accuracy: 0.9964\n",
      "Epoch 95/500\n",
      "14/14 [==============================] - 6s 484ms/step - loss: 7.0083e-04 - accuracy: 1.0000 - val_loss: 0.0027 - val_accuracy: 1.0000\n",
      "Epoch 96/500\n",
      "14/14 [==============================] - 8s 483ms/step - loss: 0.0326 - accuracy: 0.9891 - val_loss: 0.2007 - val_accuracy: 0.9493\n",
      "Epoch 97/500\n",
      "14/14 [==============================] - 6s 484ms/step - loss: 0.1342 - accuracy: 0.9529 - val_loss: 0.2206 - val_accuracy: 0.9420\n",
      "Epoch 98/500\n",
      "14/14 [==============================] - 6s 482ms/step - loss: 0.0073 - accuracy: 1.0000 - val_loss: 0.0682 - val_accuracy: 0.9783\n",
      "Epoch 99/500\n",
      "14/14 [==============================] - 9s 648ms/step - loss: 0.0081 - accuracy: 1.0000 - val_loss: 0.0136 - val_accuracy: 0.9964\n",
      "Epoch 100/500\n",
      "14/14 [==============================] - 7s 490ms/step - loss: 0.0045 - accuracy: 1.0000 - val_loss: 0.0362 - val_accuracy: 0.9891\n",
      "Epoch 101/500\n",
      "14/14 [==============================] - 6s 488ms/step - loss: 0.0566 - accuracy: 0.9891 - val_loss: 0.7073 - val_accuracy: 0.9094\n",
      "Epoch 102/500\n",
      "14/14 [==============================] - 9s 646ms/step - loss: 0.0480 - accuracy: 0.9819 - val_loss: 0.1315 - val_accuracy: 0.9710\n",
      "Epoch 103/500\n",
      "14/14 [==============================] - 7s 490ms/step - loss: 0.0123 - accuracy: 0.9928 - val_loss: 0.0741 - val_accuracy: 0.9710\n",
      "Epoch 104/500\n",
      "14/14 [==============================] - 7s 490ms/step - loss: 0.0042 - accuracy: 1.0000 - val_loss: 0.0124 - val_accuracy: 0.9928\n",
      "Epoch 105/500\n",
      "14/14 [==============================] - 8s 636ms/step - loss: 0.0394 - accuracy: 0.9891 - val_loss: 0.1940 - val_accuracy: 0.9565\n",
      "Epoch 106/500\n",
      "14/14 [==============================] - 6s 480ms/step - loss: 0.0275 - accuracy: 0.9891 - val_loss: 0.0085 - val_accuracy: 0.9964\n",
      "Epoch 107/500\n",
      "14/14 [==============================] - 6s 484ms/step - loss: 0.0044 - accuracy: 0.9964 - val_loss: 0.0254 - val_accuracy: 0.9964\n",
      "Epoch 108/500\n",
      "14/14 [==============================] - 6s 488ms/step - loss: 0.0020 - accuracy: 1.0000 - val_loss: 0.0414 - val_accuracy: 0.9891\n",
      "Epoch 109/500\n",
      "14/14 [==============================] - 2s 177ms/step - loss: 0.1235 - accuracy: 0.9819 - val_loss: 0.5565 - val_accuracy: 0.8659\n",
      "Epoch 110/500\n",
      "14/14 [==============================] - 2s 174ms/step - loss: 0.0549 - accuracy: 0.9783 - val_loss: 0.7410 - val_accuracy: 0.8333\n",
      "Epoch 111/500\n",
      "14/14 [==============================] - 2s 173ms/step - loss: 0.0121 - accuracy: 0.9964 - val_loss: 0.0497 - val_accuracy: 0.9783\n",
      "Epoch 112/500\n",
      "14/14 [==============================] - 3s 182ms/step - loss: 0.0025 - accuracy: 1.0000 - val_loss: 0.0220 - val_accuracy: 0.9891\n",
      "Epoch 113/500\n",
      "14/14 [==============================] - 2s 175ms/step - loss: 5.4511e-04 - accuracy: 1.0000 - val_loss: 0.0062 - val_accuracy: 0.9964\n",
      "Epoch 114/500\n",
      "14/14 [==============================] - 3s 186ms/step - loss: 0.0376 - accuracy: 0.9928 - val_loss: 0.0273 - val_accuracy: 0.9928\n"
     ]
    },
    {
     "name": "stdout",
     "output_type": "stream",
     "text": [
      "Epoch 115/500\n",
      "14/14 [==============================] - 3s 181ms/step - loss: 0.0565 - accuracy: 0.9891 - val_loss: 0.2982 - val_accuracy: 0.9348\n",
      "Epoch 116/500\n",
      "14/14 [==============================] - 5s 336ms/step - loss: 0.0391 - accuracy: 0.9855 - val_loss: 0.0026 - val_accuracy: 1.0000\n",
      "Epoch 117/500\n",
      "14/14 [==============================] - 9s 646ms/step - loss: 0.0083 - accuracy: 0.9964 - val_loss: 0.1222 - val_accuracy: 0.9601\n",
      "Epoch 118/500\n",
      "14/14 [==============================] - 6s 476ms/step - loss: 0.0203 - accuracy: 0.9928 - val_loss: 0.0115 - val_accuracy: 0.9964\n",
      "Epoch 119/500\n",
      "14/14 [==============================] - 6s 481ms/step - loss: 0.0275 - accuracy: 0.9855 - val_loss: 0.0704 - val_accuracy: 0.9746\n",
      "Epoch 120/500\n",
      "14/14 [==============================] - 6s 477ms/step - loss: 0.0068 - accuracy: 1.0000 - val_loss: 5.1113e-04 - val_accuracy: 1.0000\n",
      "Epoch 121/500\n",
      "14/14 [==============================] - 8s 482ms/step - loss: 0.0045 - accuracy: 1.0000 - val_loss: 6.2722e-05 - val_accuracy: 1.0000\n",
      "Epoch 122/500\n",
      "14/14 [==============================] - 6s 482ms/step - loss: 0.0048 - accuracy: 0.9964 - val_loss: 0.0366 - val_accuracy: 0.9891\n",
      "Epoch 123/500\n",
      "14/14 [==============================] - 6s 484ms/step - loss: 0.0208 - accuracy: 0.9964 - val_loss: 0.1086 - val_accuracy: 0.9674\n",
      "Epoch 124/500\n",
      "14/14 [==============================] - 6s 483ms/step - loss: 0.1075 - accuracy: 0.9783 - val_loss: 0.2848 - val_accuracy: 0.9348\n",
      "Epoch 125/500\n",
      "14/14 [==============================] - 9s 485ms/step - loss: 0.0341 - accuracy: 0.9964 - val_loss: 0.0222 - val_accuracy: 0.9855\n",
      "Epoch 126/500\n",
      "14/14 [==============================] - 6s 480ms/step - loss: 0.0465 - accuracy: 0.9819 - val_loss: 8.7911e-04 - val_accuracy: 1.0000\n",
      "Epoch 127/500\n",
      "14/14 [==============================] - 6s 487ms/step - loss: 0.0014 - accuracy: 1.0000 - val_loss: 5.4584e-04 - val_accuracy: 1.0000\n",
      "Epoch 128/500\n",
      "14/14 [==============================] - 9s 488ms/step - loss: 0.0058 - accuracy: 1.0000 - val_loss: 1.3838e-04 - val_accuracy: 1.0000\n",
      "Epoch 129/500\n",
      "14/14 [==============================] - 6s 484ms/step - loss: 0.0083 - accuracy: 0.9964 - val_loss: 0.0932 - val_accuracy: 0.9710\n",
      "Epoch 130/500\n",
      "14/14 [==============================] - 7s 497ms/step - loss: 0.0665 - accuracy: 0.9783 - val_loss: 0.0128 - val_accuracy: 0.9928\n",
      "Epoch 131/500\n",
      "14/14 [==============================] - 9s 493ms/step - loss: 0.0070 - accuracy: 0.9964 - val_loss: 9.4283e-05 - val_accuracy: 1.0000\n",
      "Epoch 132/500\n",
      "14/14 [==============================] - 6s 485ms/step - loss: 0.0011 - accuracy: 1.0000 - val_loss: 0.0064 - val_accuracy: 0.9964\n",
      "Epoch 133/500\n",
      "14/14 [==============================] - 9s 649ms/step - loss: 6.2184e-04 - accuracy: 1.0000 - val_loss: 3.9517e-04 - val_accuracy: 1.0000\n",
      "Epoch 134/500\n",
      "14/14 [==============================] - 7s 491ms/step - loss: 0.0274 - accuracy: 0.9855 - val_loss: 0.0704 - val_accuracy: 0.9638\n",
      "Epoch 135/500\n",
      "14/14 [==============================] - 6s 487ms/step - loss: 0.0221 - accuracy: 0.9891 - val_loss: 0.1640 - val_accuracy: 0.9312\n",
      "Epoch 136/500\n",
      "14/14 [==============================] - 9s 650ms/step - loss: 0.0039 - accuracy: 1.0000 - val_loss: 0.0983 - val_accuracy: 0.9638\n",
      "Epoch 137/500\n",
      "14/14 [==============================] - 6s 479ms/step - loss: 2.2400e-04 - accuracy: 1.0000 - val_loss: 0.0293 - val_accuracy: 0.9855\n",
      "Epoch 138/500\n",
      "14/14 [==============================] - 7s 491ms/step - loss: 1.1144e-04 - accuracy: 1.0000 - val_loss: 0.0151 - val_accuracy: 0.9928\n",
      "Epoch 139/500\n",
      "14/14 [==============================] - 9s 493ms/step - loss: 5.7537e-05 - accuracy: 1.0000 - val_loss: 0.0024 - val_accuracy: 1.0000\n",
      "Epoch 140/500\n",
      "14/14 [==============================] - 6s 488ms/step - loss: 4.6312e-05 - accuracy: 1.0000 - val_loss: 3.4437e-04 - val_accuracy: 1.0000\n",
      "Epoch 141/500\n",
      "14/14 [==============================] - 9s 649ms/step - loss: 3.4678e-05 - accuracy: 1.0000 - val_loss: 0.0057 - val_accuracy: 0.9964\n",
      "Epoch 142/500\n",
      "14/14 [==============================] - 6s 484ms/step - loss: 1.1207e-04 - accuracy: 1.0000 - val_loss: 0.0487 - val_accuracy: 0.9855\n",
      "Epoch 143/500\n",
      "14/14 [==============================] - 6s 485ms/step - loss: 0.0624 - accuracy: 0.9928 - val_loss: 0.0528 - val_accuracy: 0.9855\n",
      "Epoch 144/500\n",
      "14/14 [==============================] - 6s 481ms/step - loss: 0.0163 - accuracy: 0.9928 - val_loss: 0.0526 - val_accuracy: 0.9819\n",
      "Epoch 145/500\n",
      "14/14 [==============================] - 9s 488ms/step - loss: 0.0052 - accuracy: 1.0000 - val_loss: 0.1691 - val_accuracy: 0.9493\n",
      "Epoch 146/500\n",
      "14/14 [==============================] - 7s 489ms/step - loss: 0.0027 - accuracy: 0.9964 - val_loss: 0.0618 - val_accuracy: 0.9746\n",
      "Epoch 147/500\n",
      "14/14 [==============================] - 9s 658ms/step - loss: 0.0320 - accuracy: 0.9855 - val_loss: 2.1377 - val_accuracy: 0.7138\n"
     ]
    }
   ],
   "source": [
    "# Import ResNet1D Module\n",
    "#from ResNet_1DCNN import ResNet\n",
    "#from ResNeXt_1DCNN import ResNeXt as ResNet\n",
    "from SE_ResNeXt_1DCNN import SEResNeXt as ResNet\n",
    "\n",
    "\"Configurations for ResNet in Regression Mode\"\n",
    "length = X_train.shape[1]   # Number of Features (or length of the signal)\n",
    "model_width = 32           # Number of Filter or Kernel in the Input Layer\n",
    "num_channel = 1             # Number of Input Channels\n",
    "problem_type = 'Classification' # Regression or Classification\n",
    "output_number = cls_num     # Number of Outputs in the Regression Mode\n",
    "Regression_Model = ResNet(length, num_channel, model_width, problem_type=problem_type, output_nums=output_number).SEResNeXt18() # Build Model\n",
    "# SEResNext Models supported: SEResNeXt18, SEResNeXt34, SEResNeXt50, SEResNeXt101, SEResNeXt152, \n",
    "Regression_Model.compile(optimizer='rmsprop', loss='categorical_crossentropy', metrics=['accuracy'])\n",
    "earlystopping = callbacks.EarlyStopping(monitor =\"val_accuracy\", mode =\"max\", patience = 100, restore_best_weights = True)\n",
    "history = Regression_Model.fit(X_train, y_train_cat, epochs=500, batch_size=btch, verbose=1, validation_data = (X_valid, y_valid_cat), callbacks =[earlystopping]) #,validation_split=0.2,callbacks =[callbacks]"
   ]
  },
  {
   "cell_type": "code",
   "execution_count": 25,
   "metadata": {},
   "outputs": [
    {
     "name": "stdout",
     "output_type": "stream",
     "text": [
      "19/19 [==============================] - 4s 34ms/step\n",
      "array([[150,  72],\n",
      "       [ 73, 305]], dtype=int64)\n",
      "              precision    recall  f1-score   support\n",
      "\n",
      "           0       0.67      0.68      0.67       222\n",
      "           1       0.81      0.81      0.81       378\n",
      "\n",
      "    accuracy                           0.76       600\n",
      "   macro avg       0.74      0.74      0.74       600\n",
      "weighted avg       0.76      0.76      0.76       600\n",
      "\n"
     ]
    }
   ],
   "source": [
    "predict_x=Regression_Model.predict(X_test)              # Function 1\n",
    "\n",
    "y_pred_crs=np.argmax(predict_x,axis=1)                 # function from augment.py to remove 0 index predictions\n",
    "\n",
    "#y_pred_crs = model_Res.predict_classes(X_test)\n",
    "\n",
    "cm = confusion_matrix(y_test, y_pred_crs)\n",
    "fullprint(cm)\n",
    "acc3=accuracy_score(y_test, y_pred_crs)\n",
    "\n",
    "print(classification_report(y_test, y_pred_crs))\n",
    "\n",
    "#sns.heatmap(cm, annot=True)\n",
    "\n",
    "#plt.imshow(cm)"
   ]
  }
 ],
 "metadata": {
  "celltoolbar": "Raw Cell Format",
  "kernelspec": {
   "display_name": "Python 3 (ipykernel)",
   "language": "python",
   "name": "python3"
  },
  "language_info": {
   "codemirror_mode": {
    "name": "ipython",
    "version": 3
   },
   "file_extension": ".py",
   "mimetype": "text/x-python",
   "name": "python",
   "nbconvert_exporter": "python",
   "pygments_lexer": "ipython3",
   "version": "3.9.7"
  }
 },
 "nbformat": 4,
 "nbformat_minor": 4
}
