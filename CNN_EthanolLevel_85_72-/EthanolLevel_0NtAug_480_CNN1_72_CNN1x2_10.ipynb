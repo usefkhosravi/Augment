{
 "cells": [
  {
   "cell_type": "markdown",
   "metadata": {},
   "source": [
    "import time\n",
    "plc=1\n",
    "time.sleep(3000*plc)         #run after 1 houre = 3600 seconds"
   ]
  },
  {
   "cell_type": "code",
   "execution_count": 1,
   "metadata": {},
   "outputs": [
    {
     "data": {
      "text/html": [
       "<style>#notebook { padding-top:0px !important; } .container { width:100% !important; } .end_space { min-height:0px !important; } html, body, .container{ margin:0!important;padding:0!important;}</style>"
      ],
      "text/plain": [
       "<IPython.core.display.HTML object>"
      ]
     },
     "metadata": {},
     "output_type": "display_data"
    }
   ],
   "source": [
    "import os\n",
    "import glob\n",
    "import scipy\n",
    "import random\n",
    "import bisect\n",
    "import numpy as np\n",
    "import pandas as pd\n",
    "import seaborn as sns\n",
    "from scipy import signal\n",
    "from scipy.signal import find_peaks\n",
    "import matplotlib.pyplot as plt\n",
    "from preprocess import *                         #ماژول استخراج پنجره ها\n",
    "from data import *                          #ماژول محلی ورود داده ها\n",
    "from augment import *                            #ماژول های داده افزایی\n",
    "from lstm_cnn import *                           #ماژول های داده افزایی با lstm_cnn\n",
    "import augment\n",
    "import importlib\n",
    "importlib.reload(augment)\n",
    "import tensorflow as tf\n",
    "from tensorflow import keras\n",
    "from tensorflow.keras.layers import BatchNormalization\n",
    "from sklearn.model_selection import train_test_split\n",
    "from sklearn.neural_network import MLPClassifier\n",
    "from sklearn.datasets import make_classification\n",
    "from sklearn.metrics import confusion_matrix, accuracy_score, classification_report,recall_score,precision_score\n",
    "from tensorflow.keras import callbacks\n",
    "from tensorflow.keras import layers\n",
    "from tensorflow.keras.models import Sequential\n",
    "from tensorflow.keras.layers import Convolution2D,Conv1D,Dropout,MaxPooling1D,MaxPooling2D,Flatten,Dense\n",
    "from tensorflow.keras import backend as K\n",
    "from tensorflow.keras.utils import to_categorical\n",
    "from tensorflow.keras.models import load_model\n",
    "cwd = os.getcwd() #\n",
    "fullscrn()"
   ]
  },
  {
   "cell_type": "markdown",
   "metadata": {},
   "source": [
    "<h1><center><div style=\"direction:rtl;font-family:B Nazanin\">Importing Data</div></center></h1>"
   ]
  },
  {
   "cell_type": "code",
   "execution_count": 2,
   "metadata": {
    "scrolled": true
   },
   "outputs": [
    {
     "name": "stderr",
     "output_type": "stream",
     "text": [
      "C:\\ProgramData\\Anaconda3\\lib\\site-packages\\pandas\\util\\_decorators.py:311: ParserWarning: Falling back to the 'python' engine because the 'c' engine does not support regex separators (separators > 1 char and different from '\\s+' are interpreted as regex); you can avoid this warning by specifying engine='python'.\n",
      "  return func(*args, **kwargs)\n"
     ]
    },
    {
     "name": "stdout",
     "output_type": "stream",
     "text": [
      "first_train_shape= (504, 1752)\n",
      "first_test_shape= (500, 1752)\n",
      "classes_quantity= 4\n",
      "tr_lbls=\t {1, 2, 3, 4}\n",
      "Count_labels= [126 126 126 126]\n",
      "max(train_feature_Altitude)= 4.0\n",
      "min(train_feature_Altitude)= -0.99315624\n",
      "first_train_sample=\n",
      " [ 1.         -0.94066444 -0.94086231 ... -0.9264013  -0.92721665\n",
      " -0.92742172]\n",
      "1 126\t2 126\t3 126\t4 126\t"
     ]
    }
   ],
   "source": [
    "rate=480\n",
    "cls_num=4\n",
    "btch=20\n",
    "for i in range (1,cls_num+1):\n",
    "    vars()['ecg'+str(i)],vars()['ecg_tst'+str(i)]=EthanolLevel(i)\n",
    "\n",
    "os.chdir(cwd)\n",
    "clses_lens=np.array([])\n",
    "i=0                               #جمع آوری داده ها و چاپ تعداد نمونه ی هر کلاس\n",
    "ecg=np.array(ecg1)\n",
    "print(1,len(vars()['ecg'+str(1)]), end='\\t')\n",
    "clses_lens=np.append(clses_lens,len(vars()['ecg'+str(1)]))\n",
    "for i in range (2,cls_num+1):\n",
    "    ecg=np.concatenate((ecg,vars()['ecg'+str(i)]),axis=0)\n",
    "    clses_lens=np.append(clses_lens,len(vars()['ecg'+str(i)]))\n",
    "    print(i,len(vars()['ecg'+str(i)]), end='\\t')\n",
    "\n",
    "mx_sig=max(clses_lens)"
   ]
  },
  {
   "cell_type": "code",
   "execution_count": 3,
   "metadata": {},
   "outputs": [
    {
     "data": {
      "text/plain": [
       "(504, 481)"
      ]
     },
     "execution_count": 3,
     "metadata": {},
     "output_type": "execute_result"
    }
   ],
   "source": [
    "np.shape(ecg)"
   ]
  },
  {
   "cell_type": "code",
   "execution_count": 4,
   "metadata": {},
   "outputs": [
    {
     "data": {
      "text/plain": [
       "array([1., 1., 1., 1., 1., 1., 1., 1., 1., 1., 1., 1., 1., 1., 1., 1., 1.,\n",
       "       1., 1., 1., 1., 1., 1., 1., 1., 1., 1., 1., 1., 1., 1., 1., 1., 1.,\n",
       "       1., 1., 1., 1., 1., 1., 1., 1., 1., 1., 1., 1., 1., 1., 1., 1., 1.,\n",
       "       1., 1., 1., 1., 1., 1., 1., 1., 1., 1., 1., 1., 1., 1., 1., 1., 1.,\n",
       "       1., 1., 1., 1., 1., 1., 1., 1., 1., 1., 1., 1., 1., 1., 1., 1., 1.,\n",
       "       1., 1., 1., 1., 1., 1., 1., 1., 1., 1., 1., 1., 1., 1., 1., 1., 1.,\n",
       "       1., 1., 1., 1., 1., 1., 1., 1., 1., 1., 1., 1., 1., 1., 1., 1., 1.,\n",
       "       1., 1., 1., 1., 1., 1., 1., 2., 2., 2., 2., 2., 2., 2., 2., 2., 2.,\n",
       "       2., 2., 2., 2., 2., 2., 2., 2., 2., 2., 2., 2., 2., 2., 2., 2., 2.,\n",
       "       2., 2., 2., 2., 2., 2., 2., 2., 2., 2., 2., 2., 2., 2., 2., 2., 2.,\n",
       "       2., 2., 2., 2., 2., 2., 2., 2., 2., 2., 2., 2., 2., 2., 2., 2., 2.,\n",
       "       2., 2., 2., 2., 2., 2., 2., 2., 2., 2., 2., 2., 2., 2., 2., 2., 2.,\n",
       "       2., 2., 2., 2., 2., 2., 2., 2., 2., 2., 2., 2., 2., 2., 2., 2., 2.,\n",
       "       2., 2., 2., 2., 2., 2., 2., 2., 2., 2., 2., 2., 2., 2., 2., 2., 2.,\n",
       "       2., 2., 2., 2., 2., 2., 2., 2., 2., 2., 2., 2., 2., 2., 3., 3., 3.,\n",
       "       3., 3., 3., 3., 3., 3., 3., 3., 3., 3., 3., 3., 3., 3., 3., 3., 3.,\n",
       "       3., 3., 3., 3., 3., 3., 3., 3., 3., 3., 3., 3., 3., 3., 3., 3., 3.,\n",
       "       3., 3., 3., 3., 3., 3., 3., 3., 3., 3., 3., 3., 3., 3., 3., 3., 3.,\n",
       "       3., 3., 3., 3., 3., 3., 3., 3., 3., 3., 3., 3., 3., 3., 3., 3., 3.,\n",
       "       3., 3., 3., 3., 3., 3., 3., 3., 3., 3., 3., 3., 3., 3., 3., 3., 3.,\n",
       "       3., 3., 3., 3., 3., 3., 3., 3., 3., 3., 3., 3., 3., 3., 3., 3., 3.,\n",
       "       3., 3., 3., 3., 3., 3., 3., 3., 3., 3., 3., 3., 3., 3., 3., 3., 3.,\n",
       "       3., 3., 3., 3., 4., 4., 4., 4., 4., 4., 4., 4., 4., 4., 4., 4., 4.,\n",
       "       4., 4., 4., 4., 4., 4., 4., 4., 4., 4., 4., 4., 4., 4., 4., 4., 4.,\n",
       "       4., 4., 4., 4., 4., 4., 4., 4., 4., 4., 4., 4., 4., 4., 4., 4., 4.,\n",
       "       4., 4., 4., 4., 4., 4., 4., 4., 4., 4., 4., 4., 4., 4., 4., 4., 4.,\n",
       "       4., 4., 4., 4., 4., 4., 4., 4., 4., 4., 4., 4., 4., 4., 4., 4., 4.,\n",
       "       4., 4., 4., 4., 4., 4., 4., 4., 4., 4., 4., 4., 4., 4., 4., 4., 4.,\n",
       "       4., 4., 4., 4., 4., 4., 4., 4., 4., 4., 4., 4., 4., 4., 4., 4., 4.,\n",
       "       4., 4., 4., 4., 4., 4., 4., 4., 4., 4., 4.])"
      ]
     },
     "execution_count": 4,
     "metadata": {},
     "output_type": "execute_result"
    }
   ],
   "source": [
    "ecg[:,-1]"
   ]
  },
  {
   "cell_type": "markdown",
   "metadata": {},
   "source": [
    "<h2><center><div style=\"direction:rtl;font-family:B Nazanin\">Base Train windows</div></center></h1>"
   ]
  },
  {
   "cell_type": "code",
   "execution_count": 5,
   "metadata": {},
   "outputs": [
    {
     "name": "stdout",
     "output_type": "stream",
     "text": [
      "each class and its windows =\n",
      "1 126\t2 126\t3 126\t4 126\t\n",
      " max = 126\n"
     ]
    }
   ],
   "source": [
    "smpl_rte=480                                              # در ماژول ها نیز همین مقدار ثبت شده\n",
    "i=0\n",
    "windws=np.array([])\n",
    "\n",
    "for cls in range (1,cls_num+1):                                 #ساخت پنجره های داده های آموزش اصلی\n",
    "    vars()['wndws'+str(cls)]=np.array(vars()['ecg'+str(cls)])  \n",
    "    \n",
    "print(\"each class and its windows =\")\n",
    "\n",
    "cls_wndws=np.array([])\n",
    "for cls in range (1,cls_num+1):                                # آرایه ی تعداد پنجره ی هر کلاس\n",
    "    wns=len(vars()['wndws'+str(cls)])\n",
    "    cls_wndws=np.append(cls_wndws,wns)\n",
    "    print(cls, wns, end='\\t')\n",
    "\n",
    "mx_wndws=int(np.max(cls_wndws))                        # حداکثر تعداد پنجره ی موجود بین کلاس ها\n",
    "print('\\n max =', mx_wndws)"
   ]
  },
  {
   "cell_type": "raw",
   "metadata": {},
   "source": [
    "#clses=3                                   #تعیین میزان افزایش نمونه (تولید داده)\n",
    "mx_wndws=int(mx_wndws)  #mx_wndws*0.3  # =classes-1 برای بررسی الگوریتم تعداد کمی کلاس آزمایش شد\n",
    "mx_wndws=2598           #+2\n",
    "print(mx_wndws)"
   ]
  },
  {
   "cell_type": "markdown",
   "metadata": {},
   "source": [
    "<h1><center><div style=\"direction:rtl;font-family:B Nazanin\">Data Augmentation</div></center></h1>"
   ]
  },
  {
   "cell_type": "code",
   "execution_count": 6,
   "metadata": {},
   "outputs": [
    {
     "name": "stdout",
     "output_type": "stream",
     "text": [
      "Up to class  1 train shape =  (126, 481)\n",
      "Up to class  2 train shape =  (252, 481)\n",
      "Up to class  3 train shape =  (378, 481)\n",
      "Up to class  4 train shape =  (504, 481)\n"
     ]
    }
   ],
   "source": [
    "smpl_rte=len(wndws1[0])                                        # در ماژول ها نیز همین مقدار ثبت شده\n",
    "\n",
    "#add augmented data to base data\n",
    "xtrain=np.empty((0,len(wndws1[0])), float) \n",
    "for i in range (1,cls_num+1):   \n",
    "    xtrain=np.append(xtrain,vars()['wndws'+str(i)],axis=0)\n",
    "    print('Up to class ', i, 'train shape = ', np.shape(xtrain))"
   ]
  },
  {
   "cell_type": "code",
   "execution_count": 7,
   "metadata": {},
   "outputs": [
    {
     "name": "stdout",
     "output_type": "stream",
     "text": [
      "[  0 126 126 126 126]\n"
     ]
    }
   ],
   "source": [
    "print(np.bincount(np.int16(xtrain[:,-1])))    #تعداد پنجره در هر کلاس از 0 تا 17"
   ]
  },
  {
   "cell_type": "code",
   "execution_count": 8,
   "metadata": {},
   "outputs": [
    {
     "data": {
      "text/plain": [
       "array([1., 1., 1., 1., 1., 1., 1., 1., 1., 1., 1., 1., 1., 1., 1., 1., 1.,\n",
       "       1., 1., 1., 1., 1., 1., 1., 1., 1., 1., 1., 1., 1., 1., 1., 1., 1.,\n",
       "       1., 1., 1., 1., 1., 1., 1., 1., 1., 1., 1., 1., 1., 1., 1., 1., 1.,\n",
       "       1., 1., 1., 1., 1., 1., 1., 1., 1., 1., 1., 1., 1., 1., 1., 1., 1.,\n",
       "       1., 1., 1., 1., 1., 1., 1., 1., 1., 1., 1., 1., 1., 1., 1., 1., 1.,\n",
       "       1., 1., 1., 1., 1., 1., 1., 1., 1., 1., 1., 1., 1., 1., 1., 1., 1.,\n",
       "       1., 1., 1., 1., 1., 1., 1., 1., 1., 1., 1., 1., 1., 1., 1., 1., 1.,\n",
       "       1., 1., 1., 1., 1., 1., 1., 2., 2., 2., 2., 2., 2., 2., 2., 2., 2.,\n",
       "       2., 2., 2., 2., 2., 2., 2., 2., 2., 2., 2., 2., 2., 2., 2., 2., 2.,\n",
       "       2., 2., 2., 2., 2., 2., 2., 2., 2., 2., 2., 2., 2., 2., 2., 2., 2.,\n",
       "       2., 2., 2., 2., 2., 2., 2., 2., 2., 2., 2., 2., 2., 2., 2., 2., 2.,\n",
       "       2., 2., 2., 2., 2., 2., 2., 2., 2., 2., 2., 2., 2., 2., 2., 2., 2.,\n",
       "       2., 2., 2., 2., 2., 2., 2., 2., 2., 2., 2., 2., 2., 2., 2., 2., 2.,\n",
       "       2., 2., 2., 2., 2., 2., 2., 2., 2., 2., 2., 2., 2., 2., 2., 2., 2.,\n",
       "       2., 2., 2., 2., 2., 2., 2., 2., 2., 2., 2., 2., 2., 2., 3., 3., 3.,\n",
       "       3., 3., 3., 3., 3., 3., 3., 3., 3., 3., 3., 3., 3., 3., 3., 3., 3.,\n",
       "       3., 3., 3., 3., 3., 3., 3., 3., 3., 3., 3., 3., 3., 3., 3., 3., 3.,\n",
       "       3., 3., 3., 3., 3., 3., 3., 3., 3., 3., 3., 3., 3., 3., 3., 3., 3.,\n",
       "       3., 3., 3., 3., 3., 3., 3., 3., 3., 3., 3., 3., 3., 3., 3., 3., 3.,\n",
       "       3., 3., 3., 3., 3., 3., 3., 3., 3., 3., 3., 3., 3., 3., 3., 3., 3.,\n",
       "       3., 3., 3., 3., 3., 3., 3., 3., 3., 3., 3., 3., 3., 3., 3., 3., 3.,\n",
       "       3., 3., 3., 3., 3., 3., 3., 3., 3., 3., 3., 3., 3., 3., 3., 3., 3.,\n",
       "       3., 3., 3., 3., 4., 4., 4., 4., 4., 4., 4., 4., 4., 4., 4., 4., 4.,\n",
       "       4., 4., 4., 4., 4., 4., 4., 4., 4., 4., 4., 4., 4., 4., 4., 4., 4.,\n",
       "       4., 4., 4., 4., 4., 4., 4., 4., 4., 4., 4., 4., 4., 4., 4., 4., 4.,\n",
       "       4., 4., 4., 4., 4., 4., 4., 4., 4., 4., 4., 4., 4., 4., 4., 4., 4.,\n",
       "       4., 4., 4., 4., 4., 4., 4., 4., 4., 4., 4., 4., 4., 4., 4., 4., 4.,\n",
       "       4., 4., 4., 4., 4., 4., 4., 4., 4., 4., 4., 4., 4., 4., 4., 4., 4.,\n",
       "       4., 4., 4., 4., 4., 4., 4., 4., 4., 4., 4., 4., 4., 4., 4., 4., 4.,\n",
       "       4., 4., 4., 4., 4., 4., 4., 4., 4., 4., 4.])"
      ]
     },
     "execution_count": 8,
     "metadata": {},
     "output_type": "execute_result"
    }
   ],
   "source": [
    "xtrain[:,-1]"
   ]
  },
  {
   "cell_type": "code",
   "execution_count": 9,
   "metadata": {},
   "outputs": [],
   "source": [
    "mx_aug=np.max(xtrain[:,:-1])\n",
    "mx=np.max(ecg[:,:-1])\n",
    "mn_aug=np.min(xtrain[:,:-1])\n",
    "mn=np.min(ecg[:,:-1])\n",
    "\n",
    "#for i in range (1,cls_num+1):             #نرمالسازی داده های افزایشی\n",
    "xtrain[:,:-1]= 2*(xtrain[:,:-1]-mn_aug)/(mx_aug - mn_aug) - 1"
   ]
  },
  {
   "cell_type": "code",
   "execution_count": 10,
   "metadata": {},
   "outputs": [
    {
     "name": "stdout",
     "output_type": "stream",
     "text": [
      "min trn = -1.0\n",
      "max trn = 1.0\n"
     ]
    }
   ],
   "source": [
    "print('min trn =', np.min(xtrain[:,:-1]))\n",
    "print('max trn =', np.max(xtrain[:,:-1]))"
   ]
  },
  {
   "cell_type": "markdown",
   "metadata": {},
   "source": [
    "<h3><center><div style=\"direction:rtl;font-family:B Nazanin\">Test Windows</div></center></h1>"
   ]
  },
  {
   "cell_type": "code",
   "execution_count": 11,
   "metadata": {},
   "outputs": [],
   "source": [
    "wndws_test=np.empty((0,len(wndws1[0])), float)\n",
    "i=0\n",
    "windws=np.array([])\n",
    "for cls in range (1,cls_num+1):                                 #ساخت پنجره های داده های آموزش اصلی\n",
    "    vars()['wndws_tst'+str(cls)]=np.empty((0,len(wndws1[0])), float)\n",
    "    vars()['wndws_tst'+str(cls)]=np.append(vars()['wndws_tst'+str(cls)],vars()['ecg_tst'+str(cls)],axis=0)   "
   ]
  },
  {
   "cell_type": "code",
   "execution_count": 12,
   "metadata": {},
   "outputs": [
    {
     "name": "stdout",
     "output_type": "stream",
     "text": [
      "\n",
      " cls 1  >> \n",
      "max magnitude class 1  =  2.0066322303209314\n",
      "min magnitude class 1  =  -0.9887515177465563\n",
      "after normalizing >>\n",
      "max magnitude class 1  =  0.9577038578449146\n",
      "min magnitude class 1  =  -0.9973014360269996\n",
      "\n",
      " cls 2  >> \n",
      "max magnitude class 2  =  2.0087651656600385\n",
      "min magnitude class 2  =  -0.9839751932466482\n",
      "after normalizing >>\n",
      "max magnitude class 2  =  0.9590959665796073\n",
      "min magnitude class 2  =  -0.9941840592673123\n",
      "\n",
      " cls 3  >> \n",
      "max magnitude class 3  =  2.011338228512399\n",
      "min magnitude class 3  =  -0.9923098777256709\n",
      "after normalizing >>\n",
      "max magnitude class 3  =  0.9607753345407493\n",
      "min magnitude class 3  =  -0.9996238805555709\n",
      "\n",
      " cls 4  >> \n",
      "max magnitude class 4  =  2.004223552511414\n",
      "min magnitude class 4  =  -0.9939171120828527\n",
      "after normalizing >>\n",
      "max magnitude class 4  =  0.9561317795187649\n",
      "min magnitude class 4  =  -1.0006728785942398\n",
      "each class and its windows =\n",
      "1 126\t2 124\t3 126\t4 124\t\n",
      " max instance in classes of test windows = 126\n"
     ]
    }
   ],
   "source": [
    "#print(np.max(wndws_tst))\n",
    "for i in range (1,cls_num+1):                # Normalization test windows\n",
    "    cls=i\n",
    "    print('\\n cls', i, ' >> ')\n",
    "    print('max magnitude class', i , ' = ' ,np.max(vars()['wndws_tst'+str(cls)][:,:-1]))\n",
    "    print('min magnitude class', i , ' = ' ,np.min(vars()['wndws_tst'+str(cls)][:,:-1]))\n",
    "\n",
    "    vars()['wndws_tst'+str(i)][:,:-1]= 2*(vars()['wndws_tst'+str(i)][:,:-1]-mn_aug)/(mx_aug - mn_aug) - 1\n",
    "    \n",
    "    print('after normalizing >>')\n",
    "    print('max magnitude class', i , ' = ' ,np.max(vars()['wndws_tst'+str(cls)][:,:-1]))\n",
    "    print('min magnitude class', i , ' = ' ,np.min(vars()['wndws_tst'+str(cls)][:,:-1]))\n",
    "    \n",
    "print(\"each class and its windows =\")                    #تجمیع کلاس های تست\n",
    "cls_wndws=np.array([])\n",
    "for cls in range (1,cls_num+1):                                # آرایه ی تعداد پنجره ی هر کلاس\n",
    "    wns=len(vars()['wndws_tst'+str(cls)])\n",
    "    cls_wndws=np.append(cls_wndws,wns)\n",
    "    print(cls, wns, end='\\t')\n",
    "    wndws_test=np.append(wndws_test,vars()['wndws_tst'+str(cls)],axis=0)\n",
    "    \n",
    "mx_wndws=int(np.max(cls_wndws))                        # حداکثر تعداد پنجره ی موجود بین کلاس ها\n",
    "print('\\n max instance in classes of test windows =', mx_wndws)"
   ]
  },
  {
   "cell_type": "code",
   "execution_count": 13,
   "metadata": {},
   "outputs": [
    {
     "name": "stdout",
     "output_type": "stream",
     "text": [
      "min tst = -1.0006728785942398\n",
      "max tst = 0.9607753345407493\n"
     ]
    }
   ],
   "source": [
    "print('min tst =', np.min(wndws_test[:,:-1]))\n",
    "print('max tst =', np.max(wndws_test[:,:-1]))"
   ]
  },
  {
   "cell_type": "code",
   "execution_count": 14,
   "metadata": {},
   "outputs": [
    {
     "data": {
      "text/plain": [
       "500"
      ]
     },
     "execution_count": 14,
     "metadata": {},
     "output_type": "execute_result"
    }
   ],
   "source": [
    "len(wndws_test)"
   ]
  },
  {
   "cell_type": "code",
   "execution_count": 15,
   "metadata": {},
   "outputs": [
    {
     "data": {
      "text/plain": [
       "(500, 481)"
      ]
     },
     "execution_count": 15,
     "metadata": {},
     "output_type": "execute_result"
    }
   ],
   "source": [
    "np.shape(wndws_test)"
   ]
  },
  {
   "cell_type": "code",
   "execution_count": 16,
   "metadata": {},
   "outputs": [],
   "source": [
    "Xtest=wndws_test[:,:-1]\n",
    "ytest=np.int16(wndws_test[:,-1])"
   ]
  },
  {
   "cell_type": "code",
   "execution_count": 17,
   "metadata": {},
   "outputs": [
    {
     "name": "stdout",
     "output_type": "stream",
     "text": [
      "array([1, 1, 1, 1, 1, 1, 1, 1, 1, 1, 1, 1, 1, 1, 1, 1, 1, 1, 1, 1, 1, 1,\n",
      "       1, 1, 1, 1, 1, 1, 1, 1, 1, 1, 1, 1, 1, 1, 1, 1, 1, 1, 1, 1, 1, 1,\n",
      "       1, 1, 1, 1, 1, 1, 1, 1, 1, 1, 1, 1, 1, 1, 1, 1, 1, 1, 1, 1, 1, 1,\n",
      "       1, 1, 1, 1, 1, 1, 1, 1, 1, 1, 1, 1, 1, 1, 1, 1, 1, 1, 1, 1, 1, 1,\n",
      "       1, 1, 1, 1, 1, 1, 1, 1, 1, 1, 1, 1, 1, 1, 1, 1, 1, 1, 1, 1, 1, 1,\n",
      "       1, 1, 1, 1, 1, 1, 1, 1, 1, 1, 1, 1, 1, 1, 1, 1, 2, 2, 2, 2, 2, 2,\n",
      "       2, 2, 2, 2, 2, 2, 2, 2, 2, 2, 2, 2, 2, 2, 2, 2, 2, 2, 2, 2, 2, 2,\n",
      "       2, 2, 2, 2, 2, 2, 2, 2, 2, 2, 2, 2, 2, 2, 2, 2, 2, 2, 2, 2, 2, 2,\n",
      "       2, 2, 2, 2, 2, 2, 2, 2, 2, 2, 2, 2, 2, 2, 2, 2, 2, 2, 2, 2, 2, 2,\n",
      "       2, 2, 2, 2, 2, 2, 2, 2, 2, 2, 2, 2, 2, 2, 2, 2, 2, 2, 2, 2, 2, 2,\n",
      "       2, 2, 2, 2, 2, 2, 2, 2, 2, 2, 2, 2, 2, 2, 2, 2, 2, 2, 2, 2, 2, 2,\n",
      "       2, 2, 2, 2, 2, 2, 2, 2, 3, 3, 3, 3, 3, 3, 3, 3, 3, 3, 3, 3, 3, 3,\n",
      "       3, 3, 3, 3, 3, 3, 3, 3, 3, 3, 3, 3, 3, 3, 3, 3, 3, 3, 3, 3, 3, 3,\n",
      "       3, 3, 3, 3, 3, 3, 3, 3, 3, 3, 3, 3, 3, 3, 3, 3, 3, 3, 3, 3, 3, 3,\n",
      "       3, 3, 3, 3, 3, 3, 3, 3, 3, 3, 3, 3, 3, 3, 3, 3, 3, 3, 3, 3, 3, 3,\n",
      "       3, 3, 3, 3, 3, 3, 3, 3, 3, 3, 3, 3, 3, 3, 3, 3, 3, 3, 3, 3, 3, 3,\n",
      "       3, 3, 3, 3, 3, 3, 3, 3, 3, 3, 3, 3, 3, 3, 3, 3, 3, 3, 3, 3, 3, 3,\n",
      "       3, 3, 4, 4, 4, 4, 4, 4, 4, 4, 4, 4, 4, 4, 4, 4, 4, 4, 4, 4, 4, 4,\n",
      "       4, 4, 4, 4, 4, 4, 4, 4, 4, 4, 4, 4, 4, 4, 4, 4, 4, 4, 4, 4, 4, 4,\n",
      "       4, 4, 4, 4, 4, 4, 4, 4, 4, 4, 4, 4, 4, 4, 4, 4, 4, 4, 4, 4, 4, 4,\n",
      "       4, 4, 4, 4, 4, 4, 4, 4, 4, 4, 4, 4, 4, 4, 4, 4, 4, 4, 4, 4, 4, 4,\n",
      "       4, 4, 4, 4, 4, 4, 4, 4, 4, 4, 4, 4, 4, 4, 4, 4, 4, 4, 4, 4, 4, 4,\n",
      "       4, 4, 4, 4, 4, 4, 4, 4, 4, 4, 4, 4, 4, 4, 4, 4], dtype=int16)\n"
     ]
    }
   ],
   "source": [
    "fullprint(ytest)"
   ]
  },
  {
   "cell_type": "markdown",
   "metadata": {},
   "source": [
    "<h3><center><div style=\"direction:rtl;font-family:B Nazanin\">Train Windows</div></center></h1>"
   ]
  },
  {
   "cell_type": "code",
   "execution_count": 18,
   "metadata": {},
   "outputs": [
    {
     "data": {
      "text/plain": [
       "'\\nytestt=np.int32(np.array([ytest]).T)\\ntestx=np.concatenate((Xtest, ytestt), axis=1)\\ntestx=np.random.permutation(testx)\\nXtest=np.int32(testx[:,:-1])\\nytest=np.int32(testx[:,-1])'"
      ]
     },
     "execution_count": 18,
     "metadata": {},
     "output_type": "execute_result"
    }
   ],
   "source": [
    "#ytraint=np.int32(np.array([ytrain]).T)\n",
    "#trainx=np.concatenate((Xtrain, ytraint), axis=1)\n",
    "trainx=np.random.permutation(xtrain)\n",
    "Xtrain=np.array(trainx[:,:-1])\n",
    "ytrain=np.int16(trainx[:,-1])\n",
    "'''\n",
    "ytestt=np.int32(np.array([ytest]).T)\n",
    "testx=np.concatenate((Xtest, ytestt), axis=1)\n",
    "testx=np.random.permutation(testx)\n",
    "Xtest=np.int32(testx[:,:-1])\n",
    "ytest=np.int32(testx[:,-1])'''"
   ]
  },
  {
   "cell_type": "code",
   "execution_count": 19,
   "metadata": {},
   "outputs": [
    {
     "data": {
      "text/plain": [
       "(126, 481)"
      ]
     },
     "execution_count": 19,
     "metadata": {},
     "output_type": "execute_result"
    }
   ],
   "source": [
    "np.shape(wndws1)"
   ]
  },
  {
   "cell_type": "markdown",
   "metadata": {},
   "source": [
    "<h3><center><div style=\"direction:rtl;font-family:B Nazanin\">Validation Windows</div></center></h1>"
   ]
  },
  {
   "cell_type": "code",
   "execution_count": 20,
   "metadata": {},
   "outputs": [],
   "source": [
    "Xvalid=np.array(Xtrain)\n",
    "yvalid=np.array(ytrain)"
   ]
  },
  {
   "cell_type": "markdown",
   "metadata": {},
   "source": [
    "<h1><center><div style=\"direction:rtl;font-family:B Nazanin\">CNN And UnBalanced RAW Data</div></center></h1>\n",
    "<h1><center><div style=\"direction:rtl;font-family:Arial\">Cross Entropy Loss Function</div></center></h1>"
   ]
  },
  {
   "cell_type": "code",
   "execution_count": 21,
   "metadata": {
    "scrolled": true
   },
   "outputs": [
    {
     "name": "stdout",
     "output_type": "stream",
     "text": [
      "X_train =>  (504, 480)\n",
      "y_train =>  (504,)\n",
      "X_test  =>  (500, 480)\n",
      "y_test  =>  (500,)\n",
      "X_valid  =>  (504, 480)\n",
      "y_valid  =>  (504,)\n"
     ]
    }
   ],
   "source": [
    "X_train=np.array(Xtrain)\n",
    "y_train=np.array(ytrain)\n",
    "X_test=np.array(Xtest)\n",
    "y_test=np.array(ytest)\n",
    "X_valid=np.array(Xtrain)\n",
    "y_valid=np.array(ytrain)\n",
    "print('X_train => ', X_train.shape)\n",
    "print('y_train => ', y_train.shape)\n",
    "print('X_test  => ', X_test.shape)\n",
    "print('y_test  => ', y_test.shape)\n",
    "print('X_valid  => ', X_valid.shape)\n",
    "print('y_valid  => ', y_valid.shape)"
   ]
  },
  {
   "cell_type": "code",
   "execution_count": 22,
   "metadata": {},
   "outputs": [],
   "source": [
    "y_train=np.array(y_train+1)\n",
    "y_test=np.array(y_test+1)\n",
    "y_valid=np.array(y_valid+1)"
   ]
  },
  {
   "cell_type": "code",
   "execution_count": 23,
   "metadata": {},
   "outputs": [],
   "source": [
    "y_train_cat=to_categorical(y_train)\n",
    "y_valid_cat=to_categorical(y_valid)\n",
    "y_test_cat=to_categorical(y_test)\n",
    "\n",
    "\n",
    "X_train = np.expand_dims(X_train, axis=2)\n",
    "X_valid = np.expand_dims(X_valid, axis=2)\n",
    "X_test = np.expand_dims(X_test, axis=2)\n",
    "#y_train=np.transpose([y_train])"
   ]
  },
  {
   "cell_type": "code",
   "execution_count": 24,
   "metadata": {
    "scrolled": true
   },
   "outputs": [
    {
     "name": "stdout",
     "output_type": "stream",
     "text": [
      "Epoch 1/1000\n",
      "26/26 [==============================] - 3s 23ms/step - loss: 1.4946 - accuracy: 0.2242 - val_loss: 1.4301 - val_accuracy: 0.2500\n",
      "Epoch 2/1000\n",
      "26/26 [==============================] - 0s 11ms/step - loss: 1.4234 - accuracy: 0.1964 - val_loss: 1.4179 - val_accuracy: 0.2500\n",
      "Epoch 3/1000\n",
      "26/26 [==============================] - 0s 11ms/step - loss: 1.4077 - accuracy: 0.2440 - val_loss: 1.3986 - val_accuracy: 0.2500\n",
      "Epoch 4/1000\n",
      "26/26 [==============================] - 0s 11ms/step - loss: 1.4054 - accuracy: 0.2679 - val_loss: 1.4264 - val_accuracy: 0.2500\n",
      "Epoch 5/1000\n",
      "26/26 [==============================] - 0s 11ms/step - loss: 1.4019 - accuracy: 0.2500 - val_loss: 1.3989 - val_accuracy: 0.2500\n",
      "Epoch 6/1000\n",
      "26/26 [==============================] - 0s 11ms/step - loss: 1.4041 - accuracy: 0.2341 - val_loss: 1.4199 - val_accuracy: 0.2500\n",
      "Epoch 7/1000\n",
      "26/26 [==============================] - 0s 11ms/step - loss: 1.4010 - accuracy: 0.2262 - val_loss: 1.3925 - val_accuracy: 0.2500\n",
      "Epoch 8/1000\n",
      "26/26 [==============================] - 0s 11ms/step - loss: 1.3955 - accuracy: 0.2202 - val_loss: 1.3887 - val_accuracy: 0.2500\n",
      "Epoch 9/1000\n",
      "26/26 [==============================] - 0s 12ms/step - loss: 1.3877 - accuracy: 0.2738 - val_loss: 1.3945 - val_accuracy: 0.2500\n",
      "Epoch 10/1000\n",
      "26/26 [==============================] - 0s 12ms/step - loss: 1.3920 - accuracy: 0.2798 - val_loss: 1.3916 - val_accuracy: 0.2877\n",
      "Epoch 11/1000\n",
      "26/26 [==============================] - 0s 12ms/step - loss: 1.3915 - accuracy: 0.2540 - val_loss: 1.3885 - val_accuracy: 0.2500\n",
      "Epoch 12/1000\n",
      "26/26 [==============================] - 0s 12ms/step - loss: 1.3787 - accuracy: 0.3135 - val_loss: 1.3642 - val_accuracy: 0.3095\n",
      "Epoch 13/1000\n",
      "26/26 [==============================] - 0s 12ms/step - loss: 1.3694 - accuracy: 0.2976 - val_loss: 1.3739 - val_accuracy: 0.3056\n",
      "Epoch 14/1000\n",
      "26/26 [==============================] - 0s 12ms/step - loss: 1.3649 - accuracy: 0.3155 - val_loss: 1.3801 - val_accuracy: 0.3095\n",
      "Epoch 15/1000\n",
      "26/26 [==============================] - 0s 12ms/step - loss: 1.3714 - accuracy: 0.2937 - val_loss: 1.3788 - val_accuracy: 0.2639\n",
      "Epoch 16/1000\n",
      "26/26 [==============================] - 0s 12ms/step - loss: 1.3695 - accuracy: 0.3016 - val_loss: 1.3929 - val_accuracy: 0.2857\n",
      "Epoch 17/1000\n",
      "26/26 [==============================] - 0s 12ms/step - loss: 1.3585 - accuracy: 0.3095 - val_loss: 1.4114 - val_accuracy: 0.3194\n",
      "Epoch 18/1000\n",
      "26/26 [==============================] - 0s 12ms/step - loss: 1.3435 - accuracy: 0.3413 - val_loss: 1.3490 - val_accuracy: 0.3591\n",
      "Epoch 19/1000\n",
      "26/26 [==============================] - 0s 12ms/step - loss: 1.3485 - accuracy: 0.3234 - val_loss: 1.3102 - val_accuracy: 0.4067\n",
      "Epoch 20/1000\n",
      "26/26 [==============================] - 0s 12ms/step - loss: 1.3439 - accuracy: 0.3274 - val_loss: 1.3412 - val_accuracy: 0.3611\n",
      "Epoch 21/1000\n",
      "26/26 [==============================] - 0s 12ms/step - loss: 1.3183 - accuracy: 0.3611 - val_loss: 1.3357 - val_accuracy: 0.3532\n",
      "Epoch 22/1000\n",
      "26/26 [==============================] - 0s 12ms/step - loss: 1.3334 - accuracy: 0.3413 - val_loss: 1.3034 - val_accuracy: 0.3730\n",
      "Epoch 23/1000\n",
      "26/26 [==============================] - 0s 12ms/step - loss: 1.3155 - accuracy: 0.3651 - val_loss: 1.2885 - val_accuracy: 0.3611\n",
      "Epoch 24/1000\n",
      "26/26 [==============================] - 0s 12ms/step - loss: 1.3083 - accuracy: 0.3571 - val_loss: 1.3021 - val_accuracy: 0.3770\n",
      "Epoch 25/1000\n",
      "26/26 [==============================] - 0s 12ms/step - loss: 1.2903 - accuracy: 0.3849 - val_loss: 1.2363 - val_accuracy: 0.4266\n",
      "Epoch 26/1000\n",
      "26/26 [==============================] - 0s 12ms/step - loss: 1.2509 - accuracy: 0.4127 - val_loss: 1.1890 - val_accuracy: 0.4861\n",
      "Epoch 27/1000\n",
      "26/26 [==============================] - 0s 12ms/step - loss: 1.2399 - accuracy: 0.4762 - val_loss: 1.2475 - val_accuracy: 0.3730\n",
      "Epoch 28/1000\n",
      "26/26 [==============================] - 0s 12ms/step - loss: 1.2051 - accuracy: 0.4544 - val_loss: 1.1644 - val_accuracy: 0.4563\n",
      "Epoch 29/1000\n",
      "26/26 [==============================] - 0s 12ms/step - loss: 1.2017 - accuracy: 0.4544 - val_loss: 1.0728 - val_accuracy: 0.5377\n",
      "Epoch 30/1000\n",
      "26/26 [==============================] - 0s 12ms/step - loss: 1.1986 - accuracy: 0.4563 - val_loss: 1.0972 - val_accuracy: 0.5000\n",
      "Epoch 31/1000\n",
      "26/26 [==============================] - 0s 12ms/step - loss: 1.0794 - accuracy: 0.5298 - val_loss: 0.9929 - val_accuracy: 0.5794\n",
      "Epoch 32/1000\n",
      "26/26 [==============================] - 0s 12ms/step - loss: 1.1138 - accuracy: 0.5040 - val_loss: 0.9536 - val_accuracy: 0.6706\n",
      "Epoch 33/1000\n",
      "26/26 [==============================] - 0s 12ms/step - loss: 1.0457 - accuracy: 0.5119 - val_loss: 0.9522 - val_accuracy: 0.7024\n",
      "Epoch 34/1000\n",
      "26/26 [==============================] - 0s 12ms/step - loss: 1.0424 - accuracy: 0.5317 - val_loss: 0.9351 - val_accuracy: 0.6012\n",
      "Epoch 35/1000\n",
      "26/26 [==============================] - 0s 12ms/step - loss: 0.9968 - accuracy: 0.5734 - val_loss: 1.3532 - val_accuracy: 0.3829\n",
      "Epoch 36/1000\n",
      "26/26 [==============================] - 0s 12ms/step - loss: 1.0693 - accuracy: 0.5099 - val_loss: 1.0712 - val_accuracy: 0.5079\n",
      "Epoch 37/1000\n",
      "26/26 [==============================] - 0s 11ms/step - loss: 0.9980 - accuracy: 0.5496 - val_loss: 0.8594 - val_accuracy: 0.6329\n",
      "Epoch 38/1000\n",
      "26/26 [==============================] - 0s 12ms/step - loss: 0.8875 - accuracy: 0.5972 - val_loss: 0.9080 - val_accuracy: 0.5853\n",
      "Epoch 39/1000\n",
      "26/26 [==============================] - 0s 12ms/step - loss: 0.9433 - accuracy: 0.5774 - val_loss: 1.0809 - val_accuracy: 0.4524\n",
      "Epoch 40/1000\n",
      "26/26 [==============================] - 0s 12ms/step - loss: 0.8889 - accuracy: 0.5893 - val_loss: 0.7788 - val_accuracy: 0.6429\n",
      "Epoch 41/1000\n",
      "26/26 [==============================] - 0s 12ms/step - loss: 0.8617 - accuracy: 0.6012 - val_loss: 1.1458 - val_accuracy: 0.5000\n",
      "Epoch 42/1000\n",
      "26/26 [==============================] - 0s 13ms/step - loss: 0.8644 - accuracy: 0.6032 - val_loss: 0.8902 - val_accuracy: 0.5913\n",
      "Epoch 43/1000\n",
      "26/26 [==============================] - 0s 13ms/step - loss: 0.8745 - accuracy: 0.6171 - val_loss: 0.6773 - val_accuracy: 0.7083\n",
      "Epoch 44/1000\n",
      "26/26 [==============================] - 0s 12ms/step - loss: 0.7784 - accuracy: 0.6528 - val_loss: 0.7858 - val_accuracy: 0.6429\n",
      "Epoch 45/1000\n",
      "26/26 [==============================] - 0s 12ms/step - loss: 0.8246 - accuracy: 0.6310 - val_loss: 0.6539 - val_accuracy: 0.7083\n",
      "Epoch 46/1000\n",
      "26/26 [==============================] - 0s 12ms/step - loss: 0.7775 - accuracy: 0.6429 - val_loss: 1.2060 - val_accuracy: 0.5099\n",
      "Epoch 47/1000\n",
      "26/26 [==============================] - 0s 12ms/step - loss: 0.6610 - accuracy: 0.7361 - val_loss: 1.3452 - val_accuracy: 0.5119\n",
      "Epoch 48/1000\n",
      "26/26 [==============================] - 0s 12ms/step - loss: 0.7374 - accuracy: 0.6825 - val_loss: 1.3664 - val_accuracy: 0.4405\n",
      "Epoch 49/1000\n",
      "26/26 [==============================] - 0s 12ms/step - loss: 0.6983 - accuracy: 0.6925 - val_loss: 0.5475 - val_accuracy: 0.8016\n",
      "Epoch 50/1000\n",
      "26/26 [==============================] - 0s 11ms/step - loss: 0.6797 - accuracy: 0.6925 - val_loss: 1.5844 - val_accuracy: 0.3829\n",
      "Epoch 51/1000\n",
      "26/26 [==============================] - 0s 12ms/step - loss: 0.6672 - accuracy: 0.6885 - val_loss: 0.7052 - val_accuracy: 0.7024\n",
      "Epoch 52/1000\n",
      "26/26 [==============================] - 0s 12ms/step - loss: 0.6526 - accuracy: 0.7460 - val_loss: 0.4988 - val_accuracy: 0.8175\n",
      "Epoch 53/1000\n",
      "26/26 [==============================] - 0s 12ms/step - loss: 0.5914 - accuracy: 0.7421 - val_loss: 0.7277 - val_accuracy: 0.6647\n",
      "Epoch 54/1000\n",
      "26/26 [==============================] - 0s 12ms/step - loss: 0.6272 - accuracy: 0.7024 - val_loss: 0.5322 - val_accuracy: 0.7659\n",
      "Epoch 55/1000\n",
      "26/26 [==============================] - 0s 12ms/step - loss: 0.5525 - accuracy: 0.7599 - val_loss: 0.8466 - val_accuracy: 0.5575\n",
      "Epoch 56/1000\n",
      "26/26 [==============================] - 0s 12ms/step - loss: 0.5515 - accuracy: 0.7619 - val_loss: 1.2382 - val_accuracy: 0.4306\n",
      "Epoch 57/1000\n",
      "26/26 [==============================] - 0s 12ms/step - loss: 0.5912 - accuracy: 0.7361 - val_loss: 0.6551 - val_accuracy: 0.6746\n"
     ]
    },
    {
     "name": "stdout",
     "output_type": "stream",
     "text": [
      "Epoch 58/1000\n",
      "26/26 [==============================] - 0s 12ms/step - loss: 0.5441 - accuracy: 0.7500 - val_loss: 0.4048 - val_accuracy: 0.8433\n",
      "Epoch 59/1000\n",
      "26/26 [==============================] - 0s 12ms/step - loss: 0.5764 - accuracy: 0.7421 - val_loss: 0.5402 - val_accuracy: 0.7341\n",
      "Epoch 60/1000\n",
      "26/26 [==============================] - 0s 12ms/step - loss: 0.5282 - accuracy: 0.7679 - val_loss: 0.4541 - val_accuracy: 0.8194\n",
      "Epoch 61/1000\n",
      "26/26 [==============================] - 0s 11ms/step - loss: 0.4708 - accuracy: 0.7956 - val_loss: 0.5419 - val_accuracy: 0.7540\n",
      "Epoch 62/1000\n",
      "26/26 [==============================] - 0s 12ms/step - loss: 0.4756 - accuracy: 0.7758 - val_loss: 0.4489 - val_accuracy: 0.7917\n",
      "Epoch 63/1000\n",
      "26/26 [==============================] - 0s 11ms/step - loss: 0.5448 - accuracy: 0.8036 - val_loss: 0.4662 - val_accuracy: 0.7937\n",
      "Epoch 64/1000\n",
      "26/26 [==============================] - 0s 12ms/step - loss: 0.4512 - accuracy: 0.8115 - val_loss: 0.3616 - val_accuracy: 0.8651\n",
      "Epoch 65/1000\n",
      "26/26 [==============================] - 0s 12ms/step - loss: 0.4637 - accuracy: 0.8274 - val_loss: 0.9541 - val_accuracy: 0.5437\n",
      "Epoch 66/1000\n",
      "26/26 [==============================] - 0s 12ms/step - loss: 0.4301 - accuracy: 0.8333 - val_loss: 0.5356 - val_accuracy: 0.7500\n",
      "Epoch 67/1000\n",
      "26/26 [==============================] - 0s 12ms/step - loss: 0.5240 - accuracy: 0.7976 - val_loss: 0.6106 - val_accuracy: 0.6746\n",
      "Epoch 68/1000\n",
      "26/26 [==============================] - 0s 12ms/step - loss: 0.3942 - accuracy: 0.8313 - val_loss: 0.5612 - val_accuracy: 0.7679\n",
      "Epoch 69/1000\n",
      "26/26 [==============================] - 0s 12ms/step - loss: 0.4894 - accuracy: 0.8175 - val_loss: 0.5249 - val_accuracy: 0.7579\n",
      "Epoch 70/1000\n",
      "26/26 [==============================] - 0s 12ms/step - loss: 0.4656 - accuracy: 0.8175 - val_loss: 0.3580 - val_accuracy: 0.8710\n",
      "Epoch 71/1000\n",
      "26/26 [==============================] - 0s 12ms/step - loss: 0.4377 - accuracy: 0.8294 - val_loss: 0.3793 - val_accuracy: 0.8611\n",
      "Epoch 72/1000\n",
      "26/26 [==============================] - 0s 12ms/step - loss: 0.3360 - accuracy: 0.8611 - val_loss: 1.3171 - val_accuracy: 0.5139\n",
      "Epoch 73/1000\n",
      "26/26 [==============================] - 0s 12ms/step - loss: 0.4528 - accuracy: 0.7996 - val_loss: 0.2804 - val_accuracy: 0.8889\n",
      "Epoch 74/1000\n",
      "26/26 [==============================] - 0s 12ms/step - loss: 0.4452 - accuracy: 0.8135 - val_loss: 0.2528 - val_accuracy: 0.9206\n",
      "Epoch 75/1000\n",
      "26/26 [==============================] - 0s 12ms/step - loss: 0.4544 - accuracy: 0.8294 - val_loss: 0.3643 - val_accuracy: 0.8413\n",
      "Epoch 76/1000\n",
      "26/26 [==============================] - 0s 12ms/step - loss: 0.3698 - accuracy: 0.8492 - val_loss: 0.4567 - val_accuracy: 0.7937\n",
      "Epoch 77/1000\n",
      "26/26 [==============================] - 0s 12ms/step - loss: 0.3402 - accuracy: 0.8571 - val_loss: 0.4187 - val_accuracy: 0.8135\n",
      "Epoch 78/1000\n",
      "26/26 [==============================] - 0s 12ms/step - loss: 0.3491 - accuracy: 0.8413 - val_loss: 1.0556 - val_accuracy: 0.5893\n",
      "Epoch 79/1000\n",
      "26/26 [==============================] - 0s 12ms/step - loss: 0.3945 - accuracy: 0.8254 - val_loss: 0.6922 - val_accuracy: 0.7679\n",
      "Epoch 80/1000\n",
      "26/26 [==============================] - 0s 12ms/step - loss: 0.3758 - accuracy: 0.8234 - val_loss: 0.2708 - val_accuracy: 0.9008\n",
      "Epoch 81/1000\n",
      "26/26 [==============================] - 0s 12ms/step - loss: 0.3597 - accuracy: 0.8433 - val_loss: 0.2439 - val_accuracy: 0.8948\n",
      "Epoch 82/1000\n",
      "26/26 [==============================] - 0s 13ms/step - loss: 0.4091 - accuracy: 0.8373 - val_loss: 0.2896 - val_accuracy: 0.8889\n",
      "Epoch 83/1000\n",
      "26/26 [==============================] - 0s 12ms/step - loss: 0.3536 - accuracy: 0.8671 - val_loss: 0.2454 - val_accuracy: 0.9008\n",
      "Epoch 84/1000\n",
      "26/26 [==============================] - 0s 13ms/step - loss: 0.2691 - accuracy: 0.9008 - val_loss: 0.7932 - val_accuracy: 0.7460\n",
      "Epoch 85/1000\n",
      "26/26 [==============================] - 0s 13ms/step - loss: 0.3624 - accuracy: 0.8433 - val_loss: 0.2022 - val_accuracy: 0.9246\n",
      "Epoch 86/1000\n",
      "26/26 [==============================] - 0s 12ms/step - loss: 0.3468 - accuracy: 0.8770 - val_loss: 0.2601 - val_accuracy: 0.8810\n",
      "Epoch 87/1000\n",
      "26/26 [==============================] - 0s 13ms/step - loss: 0.3183 - accuracy: 0.8810 - val_loss: 0.2415 - val_accuracy: 0.9008\n",
      "Epoch 88/1000\n",
      "26/26 [==============================] - 0s 12ms/step - loss: 0.2976 - accuracy: 0.8810 - val_loss: 0.3466 - val_accuracy: 0.8710\n",
      "Epoch 89/1000\n",
      "26/26 [==============================] - 0s 12ms/step - loss: 0.3994 - accuracy: 0.8274 - val_loss: 0.2949 - val_accuracy: 0.8671\n",
      "Epoch 90/1000\n",
      "26/26 [==============================] - 0s 12ms/step - loss: 0.2328 - accuracy: 0.9167 - val_loss: 0.2236 - val_accuracy: 0.9127\n",
      "Epoch 91/1000\n",
      "26/26 [==============================] - 0s 12ms/step - loss: 0.4163 - accuracy: 0.8313 - val_loss: 0.4840 - val_accuracy: 0.8155\n",
      "Epoch 92/1000\n",
      "26/26 [==============================] - 0s 12ms/step - loss: 0.2800 - accuracy: 0.8849 - val_loss: 0.1746 - val_accuracy: 0.9246\n",
      "Epoch 93/1000\n",
      "26/26 [==============================] - 0s 12ms/step - loss: 0.2484 - accuracy: 0.8869 - val_loss: 2.5903 - val_accuracy: 0.4861\n",
      "Epoch 94/1000\n",
      "26/26 [==============================] - 0s 12ms/step - loss: 0.3550 - accuracy: 0.8730 - val_loss: 0.5212 - val_accuracy: 0.7937\n",
      "Epoch 95/1000\n",
      "26/26 [==============================] - 0s 12ms/step - loss: 0.2765 - accuracy: 0.9008 - val_loss: 0.3001 - val_accuracy: 0.8730\n",
      "Epoch 96/1000\n",
      "26/26 [==============================] - 0s 12ms/step - loss: 0.1880 - accuracy: 0.9325 - val_loss: 0.1457 - val_accuracy: 0.9405\n",
      "Epoch 97/1000\n",
      "26/26 [==============================] - 0s 12ms/step - loss: 0.3100 - accuracy: 0.8552 - val_loss: 0.1587 - val_accuracy: 0.9484\n",
      "Epoch 98/1000\n",
      "26/26 [==============================] - 0s 12ms/step - loss: 0.2663 - accuracy: 0.8909 - val_loss: 0.2250 - val_accuracy: 0.8909\n",
      "Epoch 99/1000\n",
      "26/26 [==============================] - 0s 12ms/step - loss: 0.3060 - accuracy: 0.8690 - val_loss: 0.2008 - val_accuracy: 0.9325\n",
      "Epoch 100/1000\n",
      "26/26 [==============================] - 0s 12ms/step - loss: 0.2378 - accuracy: 0.9067 - val_loss: 0.1502 - val_accuracy: 0.9385\n",
      "Epoch 101/1000\n",
      "26/26 [==============================] - 0s 12ms/step - loss: 0.3029 - accuracy: 0.8889 - val_loss: 0.2072 - val_accuracy: 0.9087\n",
      "Epoch 102/1000\n",
      "26/26 [==============================] - 0s 12ms/step - loss: 0.2080 - accuracy: 0.9127 - val_loss: 0.1438 - val_accuracy: 0.9365\n",
      "Epoch 103/1000\n",
      "26/26 [==============================] - 0s 12ms/step - loss: 0.2383 - accuracy: 0.9048 - val_loss: 0.3854 - val_accuracy: 0.8413\n",
      "Epoch 104/1000\n",
      "26/26 [==============================] - 0s 12ms/step - loss: 0.3251 - accuracy: 0.8690 - val_loss: 0.4185 - val_accuracy: 0.8274\n",
      "Epoch 105/1000\n",
      "26/26 [==============================] - 0s 12ms/step - loss: 0.2417 - accuracy: 0.9127 - val_loss: 0.1443 - val_accuracy: 0.9464\n",
      "Epoch 106/1000\n",
      "26/26 [==============================] - 0s 12ms/step - loss: 0.2158 - accuracy: 0.9167 - val_loss: 0.0910 - val_accuracy: 0.9643\n",
      "Epoch 107/1000\n",
      "26/26 [==============================] - 0s 12ms/step - loss: 0.2342 - accuracy: 0.8988 - val_loss: 0.4114 - val_accuracy: 0.8056\n",
      "Epoch 108/1000\n",
      "26/26 [==============================] - 0s 12ms/step - loss: 0.2718 - accuracy: 0.8968 - val_loss: 0.1050 - val_accuracy: 0.9722\n",
      "Epoch 109/1000\n",
      "26/26 [==============================] - 0s 12ms/step - loss: 0.2151 - accuracy: 0.9147 - val_loss: 0.0989 - val_accuracy: 0.9722\n",
      "Epoch 110/1000\n",
      "26/26 [==============================] - 0s 12ms/step - loss: 0.1934 - accuracy: 0.9345 - val_loss: 1.6606 - val_accuracy: 0.6091\n",
      "Epoch 111/1000\n",
      "26/26 [==============================] - 0s 12ms/step - loss: 0.2219 - accuracy: 0.9187 - val_loss: 0.1537 - val_accuracy: 0.9345\n",
      "Epoch 112/1000\n",
      "26/26 [==============================] - 0s 12ms/step - loss: 0.2503 - accuracy: 0.9246 - val_loss: 0.1577 - val_accuracy: 0.9325\n",
      "Epoch 113/1000\n",
      "26/26 [==============================] - 0s 12ms/step - loss: 0.1730 - accuracy: 0.9206 - val_loss: 1.0459 - val_accuracy: 0.7440\n",
      "Epoch 114/1000\n",
      "26/26 [==============================] - 0s 11ms/step - loss: 0.2561 - accuracy: 0.9107 - val_loss: 0.5736 - val_accuracy: 0.7579\n"
     ]
    },
    {
     "name": "stdout",
     "output_type": "stream",
     "text": [
      "Epoch 115/1000\n",
      "26/26 [==============================] - 0s 12ms/step - loss: 0.2862 - accuracy: 0.8988 - val_loss: 0.4743 - val_accuracy: 0.8135\n",
      "Epoch 116/1000\n",
      "26/26 [==============================] - 0s 12ms/step - loss: 0.2457 - accuracy: 0.9187 - val_loss: 1.0700 - val_accuracy: 0.6885\n",
      "Epoch 117/1000\n",
      "26/26 [==============================] - 0s 12ms/step - loss: 0.1738 - accuracy: 0.9325 - val_loss: 0.3279 - val_accuracy: 0.8829\n",
      "Epoch 118/1000\n",
      "26/26 [==============================] - 0s 12ms/step - loss: 0.2448 - accuracy: 0.8948 - val_loss: 0.8686 - val_accuracy: 0.6984\n",
      "Epoch 119/1000\n",
      "26/26 [==============================] - 0s 12ms/step - loss: 0.1823 - accuracy: 0.9365 - val_loss: 0.0894 - val_accuracy: 0.9663\n",
      "Epoch 120/1000\n",
      "26/26 [==============================] - 0s 12ms/step - loss: 0.1638 - accuracy: 0.9444 - val_loss: 0.2143 - val_accuracy: 0.9087\n",
      "Epoch 121/1000\n",
      "26/26 [==============================] - 0s 12ms/step - loss: 0.1878 - accuracy: 0.9464 - val_loss: 1.4676 - val_accuracy: 0.5972\n",
      "Epoch 122/1000\n",
      "26/26 [==============================] - 0s 12ms/step - loss: 0.1876 - accuracy: 0.9405 - val_loss: 1.6134 - val_accuracy: 0.6786\n",
      "Epoch 123/1000\n",
      "26/26 [==============================] - 0s 12ms/step - loss: 0.2764 - accuracy: 0.8948 - val_loss: 0.4983 - val_accuracy: 0.8115\n",
      "Epoch 124/1000\n",
      "26/26 [==============================] - 0s 11ms/step - loss: 0.1305 - accuracy: 0.9365 - val_loss: 0.7889 - val_accuracy: 0.8333\n",
      "Epoch 125/1000\n",
      "26/26 [==============================] - 0s 12ms/step - loss: 0.2662 - accuracy: 0.9107 - val_loss: 0.0647 - val_accuracy: 0.9802\n",
      "Epoch 126/1000\n",
      "26/26 [==============================] - 0s 12ms/step - loss: 0.1544 - accuracy: 0.9405 - val_loss: 0.0661 - val_accuracy: 0.9921\n",
      "Epoch 127/1000\n",
      "26/26 [==============================] - 0s 12ms/step - loss: 0.1876 - accuracy: 0.9425 - val_loss: 0.0453 - val_accuracy: 0.9881\n",
      "Epoch 128/1000\n",
      "26/26 [==============================] - 0s 12ms/step - loss: 0.2100 - accuracy: 0.9385 - val_loss: 0.0983 - val_accuracy: 0.9583\n",
      "Epoch 129/1000\n",
      "26/26 [==============================] - 0s 12ms/step - loss: 0.1320 - accuracy: 0.9544 - val_loss: 0.4535 - val_accuracy: 0.8710\n",
      "Epoch 130/1000\n",
      "26/26 [==============================] - 0s 11ms/step - loss: 0.1965 - accuracy: 0.9187 - val_loss: 0.5861 - val_accuracy: 0.7877\n",
      "Epoch 131/1000\n",
      "26/26 [==============================] - 0s 11ms/step - loss: 0.1964 - accuracy: 0.9345 - val_loss: 0.1728 - val_accuracy: 0.9266\n",
      "Epoch 132/1000\n",
      "26/26 [==============================] - 0s 12ms/step - loss: 0.2321 - accuracy: 0.9365 - val_loss: 0.1434 - val_accuracy: 0.9385\n",
      "Epoch 133/1000\n",
      "26/26 [==============================] - 0s 12ms/step - loss: 0.1497 - accuracy: 0.9365 - val_loss: 0.1004 - val_accuracy: 0.9603\n",
      "Epoch 134/1000\n",
      "26/26 [==============================] - 0s 12ms/step - loss: 0.1400 - accuracy: 0.9484 - val_loss: 0.4268 - val_accuracy: 0.8512\n",
      "Epoch 135/1000\n",
      "26/26 [==============================] - 0s 12ms/step - loss: 0.1989 - accuracy: 0.9325 - val_loss: 0.1275 - val_accuracy: 0.9563\n",
      "Epoch 136/1000\n",
      "26/26 [==============================] - 0s 12ms/step - loss: 0.1378 - accuracy: 0.9484 - val_loss: 0.4517 - val_accuracy: 0.8135\n",
      "Epoch 137/1000\n",
      "26/26 [==============================] - 0s 12ms/step - loss: 0.1103 - accuracy: 0.9544 - val_loss: 1.3628 - val_accuracy: 0.6250\n",
      "Epoch 138/1000\n",
      "26/26 [==============================] - 0s 12ms/step - loss: 0.2294 - accuracy: 0.9187 - val_loss: 0.1094 - val_accuracy: 0.9663\n",
      "Epoch 139/1000\n",
      "26/26 [==============================] - 0s 12ms/step - loss: 0.1574 - accuracy: 0.9385 - val_loss: 0.0604 - val_accuracy: 0.9802\n",
      "Epoch 140/1000\n",
      "26/26 [==============================] - 0s 12ms/step - loss: 0.1481 - accuracy: 0.9563 - val_loss: 0.2414 - val_accuracy: 0.9067\n",
      "Epoch 141/1000\n",
      "26/26 [==============================] - 0s 12ms/step - loss: 0.0706 - accuracy: 0.9821 - val_loss: 0.2578 - val_accuracy: 0.9167\n",
      "Epoch 142/1000\n",
      "26/26 [==============================] - 0s 12ms/step - loss: 0.1901 - accuracy: 0.9405 - val_loss: 0.0477 - val_accuracy: 0.9841\n",
      "Epoch 143/1000\n",
      "26/26 [==============================] - 0s 12ms/step - loss: 0.2150 - accuracy: 0.9206 - val_loss: 0.0573 - val_accuracy: 0.9821\n",
      "Epoch 144/1000\n",
      "26/26 [==============================] - 0s 12ms/step - loss: 0.1898 - accuracy: 0.9385 - val_loss: 0.0957 - val_accuracy: 0.9643\n",
      "Epoch 145/1000\n",
      "26/26 [==============================] - 0s 12ms/step - loss: 0.0977 - accuracy: 0.9683 - val_loss: 0.0366 - val_accuracy: 0.9940\n",
      "Epoch 146/1000\n",
      "26/26 [==============================] - 0s 12ms/step - loss: 0.1633 - accuracy: 0.9345 - val_loss: 0.0819 - val_accuracy: 0.9762\n",
      "Epoch 147/1000\n",
      "26/26 [==============================] - 0s 12ms/step - loss: 0.0804 - accuracy: 0.9663 - val_loss: 0.1301 - val_accuracy: 0.9444\n",
      "Epoch 148/1000\n",
      "26/26 [==============================] - 0s 12ms/step - loss: 0.2318 - accuracy: 0.9147 - val_loss: 0.1030 - val_accuracy: 0.9683\n",
      "Epoch 149/1000\n",
      "26/26 [==============================] - 0s 12ms/step - loss: 0.0571 - accuracy: 0.9861 - val_loss: 0.2200 - val_accuracy: 0.9028\n",
      "Epoch 150/1000\n",
      "26/26 [==============================] - 0s 12ms/step - loss: 0.2061 - accuracy: 0.9306 - val_loss: 0.7526 - val_accuracy: 0.7619\n",
      "Epoch 151/1000\n",
      "26/26 [==============================] - 0s 12ms/step - loss: 0.1125 - accuracy: 0.9683 - val_loss: 0.0190 - val_accuracy: 0.9980\n",
      "Epoch 152/1000\n",
      "26/26 [==============================] - 0s 12ms/step - loss: 0.1413 - accuracy: 0.9544 - val_loss: 0.0355 - val_accuracy: 0.9901\n",
      "Epoch 153/1000\n",
      "26/26 [==============================] - 0s 12ms/step - loss: 0.1467 - accuracy: 0.9444 - val_loss: 0.0296 - val_accuracy: 0.9861\n",
      "Epoch 154/1000\n",
      "26/26 [==============================] - 0s 11ms/step - loss: 0.1502 - accuracy: 0.9603 - val_loss: 0.0288 - val_accuracy: 0.9960\n",
      "Epoch 155/1000\n",
      "26/26 [==============================] - 0s 12ms/step - loss: 0.0771 - accuracy: 0.9841 - val_loss: 3.3588 - val_accuracy: 0.5198\n",
      "Epoch 156/1000\n",
      "26/26 [==============================] - 0s 12ms/step - loss: 0.2636 - accuracy: 0.9365 - val_loss: 0.0217 - val_accuracy: 0.9980\n",
      "Epoch 157/1000\n",
      "26/26 [==============================] - 0s 12ms/step - loss: 0.1936 - accuracy: 0.9464 - val_loss: 0.0583 - val_accuracy: 0.9821\n",
      "Epoch 158/1000\n",
      "26/26 [==============================] - 0s 12ms/step - loss: 0.0240 - accuracy: 0.9960 - val_loss: 0.0086 - val_accuracy: 1.0000\n",
      "Epoch 159/1000\n",
      "26/26 [==============================] - 0s 12ms/step - loss: 0.2126 - accuracy: 0.9405 - val_loss: 0.0443 - val_accuracy: 0.9802\n",
      "Epoch 160/1000\n",
      "26/26 [==============================] - 0s 12ms/step - loss: 0.1654 - accuracy: 0.9464 - val_loss: 0.0324 - val_accuracy: 0.9921\n",
      "Epoch 161/1000\n",
      "26/26 [==============================] - 0s 12ms/step - loss: 0.1250 - accuracy: 0.9663 - val_loss: 0.2882 - val_accuracy: 0.9127\n",
      "Epoch 162/1000\n",
      "26/26 [==============================] - 0s 12ms/step - loss: 0.0471 - accuracy: 0.9901 - val_loss: 0.1193 - val_accuracy: 0.9464\n",
      "Epoch 163/1000\n",
      "26/26 [==============================] - 0s 11ms/step - loss: 0.1922 - accuracy: 0.9464 - val_loss: 0.0694 - val_accuracy: 0.9762\n",
      "Epoch 164/1000\n",
      "26/26 [==============================] - 0s 12ms/step - loss: 0.1139 - accuracy: 0.9643 - val_loss: 0.3866 - val_accuracy: 0.8512\n",
      "Epoch 165/1000\n",
      "26/26 [==============================] - 0s 11ms/step - loss: 0.0840 - accuracy: 0.9683 - val_loss: 0.3595 - val_accuracy: 0.8829\n",
      "Epoch 166/1000\n",
      "26/26 [==============================] - 0s 12ms/step - loss: 0.1414 - accuracy: 0.9504 - val_loss: 0.0095 - val_accuracy: 1.0000\n",
      "Epoch 167/1000\n",
      "26/26 [==============================] - 0s 12ms/step - loss: 0.1239 - accuracy: 0.9544 - val_loss: 0.0396 - val_accuracy: 0.9861\n",
      "Epoch 168/1000\n",
      "26/26 [==============================] - 0s 12ms/step - loss: 0.0673 - accuracy: 0.9742 - val_loss: 0.7637 - val_accuracy: 0.7778\n",
      "Epoch 169/1000\n",
      "26/26 [==============================] - 0s 12ms/step - loss: 0.1469 - accuracy: 0.9583 - val_loss: 0.0110 - val_accuracy: 1.0000\n",
      "Epoch 170/1000\n",
      "26/26 [==============================] - 0s 11ms/step - loss: 0.2239 - accuracy: 0.9385 - val_loss: 0.0322 - val_accuracy: 0.9861\n",
      "Epoch 171/1000\n",
      "26/26 [==============================] - 0s 12ms/step - loss: 0.1529 - accuracy: 0.9583 - val_loss: 0.2413 - val_accuracy: 0.9048\n",
      "Epoch 172/1000\n",
      "26/26 [==============================] - 0s 12ms/step - loss: 0.0678 - accuracy: 0.9663 - val_loss: 0.0275 - val_accuracy: 0.9921\n",
      "Epoch 173/1000\n",
      "26/26 [==============================] - 0s 12ms/step - loss: 0.1230 - accuracy: 0.9742 - val_loss: 0.0077 - val_accuracy: 0.9980\n",
      "Epoch 174/1000\n",
      "26/26 [==============================] - 0s 12ms/step - loss: 0.1269 - accuracy: 0.9583 - val_loss: 0.0845 - val_accuracy: 0.9643\n",
      "Epoch 175/1000\n",
      "26/26 [==============================] - 0s 12ms/step - loss: 0.1965 - accuracy: 0.9345 - val_loss: 0.2097 - val_accuracy: 0.9286\n",
      "Epoch 176/1000\n",
      "26/26 [==============================] - 0s 12ms/step - loss: 0.0492 - accuracy: 0.9861 - val_loss: 0.0232 - val_accuracy: 0.9921\n",
      "Epoch 177/1000\n",
      "26/26 [==============================] - 0s 12ms/step - loss: 0.2251 - accuracy: 0.9504 - val_loss: 0.0293 - val_accuracy: 0.9901\n",
      "Epoch 178/1000\n",
      "26/26 [==============================] - 0s 12ms/step - loss: 0.0372 - accuracy: 0.9901 - val_loss: 0.0156 - val_accuracy: 0.9940\n",
      "26/26 [==============================] - 0s 3ms/step - loss: 0.0086 - accuracy: 1.0000\n",
      "np.shape(X_test)= (500, 480, 1)\n",
      "Model: \"sequential\"\n",
      "_________________________________________________________________\n",
      " Layer (type)                Output Shape              Param #   \n",
      "=================================================================\n",
      " conv1d (Conv1D)             (None, 478, 32)           128       \n",
      "                                                                 \n",
      " conv1d_1 (Conv1D)           (None, 476, 64)           6208      \n",
      "                                                                 \n",
      " max_pooling1d (MaxPooling1D  (None, 158, 64)          0         \n",
      " )                                                               \n",
      "                                                                 \n",
      " conv1d_2 (Conv1D)           (None, 156, 128)          24704     \n",
      "                                                                 \n",
      " max_pooling1d_1 (MaxPooling  (None, 52, 128)          0         \n",
      " 1D)                                                             \n",
      "                                                                 \n",
      " conv1d_3 (Conv1D)           (None, 50, 128)           49280     \n",
      "                                                                 \n",
      " max_pooling1d_2 (MaxPooling  (None, 16, 128)          0         \n",
      " 1D)                                                             \n",
      "                                                                 \n",
      " conv1d_4 (Conv1D)           (None, 14, 256)           98560     \n",
      "                                                                 \n",
      " max_pooling1d_3 (MaxPooling  (None, 4, 256)           0         \n",
      " 1D)                                                             \n",
      "                                                                 \n",
      " flatten (Flatten)           (None, 1024)              0         \n",
      "                                                                 \n",
      " dense (Dense)               (None, 2000)              2050000   \n",
      "                                                                 \n",
      " dense_1 (Dense)             (None, 6)                 12006     \n",
      "                                                                 \n",
      "=================================================================\n",
      "Total params: 2,240,886\n",
      "Trainable params: 2,240,886\n",
      "Non-trainable params: 0\n",
      "_________________________________________________________________\n",
      "Accuracy=  1.0\n"
     ]
    }
   ],
   "source": [
    "accuracy=0\n",
    "acc_crs=np.array([])\n",
    "##for i in range (10):\n",
    "##    if accuracy<0.2 :\n",
    "\n",
    "verbose, epochs, batch_size = 1, 1000, btch\n",
    "n_timesteps, n_features, n_outputs = X_train.shape[1], X_train.shape[2], y_train_cat.shape[1]\n",
    "steps_per_epoch = len(X_train)//batch_size\n",
    "validation_steps = len(X_valid)//batch_size # if you have test data\n",
    "\n",
    "model_crs = Sequential()\n",
    "BatchNormalization()\n",
    "model_crs.add(Conv1D(filters=32, kernel_size=3, activation='relu', input_shape=(n_timesteps,n_features)))\n",
    "#model_crs.add(MaxPooling1D(pool_size=3))\n",
    "BatchNormalization()\n",
    "model_crs.add(Conv1D(filters=64, kernel_size=3, activation='relu'))\n",
    "#model_crs.add(Dropout(0.5))\n",
    "model_crs.add(MaxPooling1D(pool_size=3))\n",
    "BatchNormalization()\n",
    "model_crs.add(Conv1D(filters=128, kernel_size=3, activation='relu'))\n",
    "model_crs.add(MaxPooling1D(pool_size=3))\n",
    "BatchNormalization()\n",
    "model_crs.add(Conv1D(filters=128, kernel_size=3, activation='relu'))\n",
    "model_crs.add(MaxPooling1D(pool_size=3))\n",
    "BatchNormalization()\n",
    "model_crs.add(Conv1D(filters=256, kernel_size=3, activation='relu'))\n",
    "model_crs.add(MaxPooling1D(pool_size=3))\n",
    "'''model_crs.add(Conv1D(filters=512, kernel_size=3, activation='relu'))\n",
    "model_crs.add(MaxPooling1D(pool_size=3))\n",
    "model_crs.add(Conv1D(filters=1024, kernel_size=3, activation='relu'))\n",
    "model_crs.add(MaxPooling1D(pool_size=3))\n",
    "'''\n",
    "model_crs.add(Flatten())\n",
    "#model_crs.add(Dropout(0.5))\n",
    "model_crs.add(Dense(2000, activation='relu'))\n",
    "model_crs.add(Dense(n_outputs, activation='softmax'))\n",
    "model_crs.compile(optimizer='rmsprop', loss='categorical_crossentropy', metrics=['accuracy'])\n",
    "# fit network   #CategoricalCrossentropy #sparse_categorical_crossentropy #SparseCategoricalCrossentropy\n",
    "\n",
    "earlystopping = callbacks.EarlyStopping(monitor =\"val_accuracy\", mode =\"max\", patience = 20, restore_best_weights = True)\n",
    "\n",
    "model_crs.fit(X_train, y_train_cat, epochs=epochs, batch_size=batch_size, verbose=verbose, validation_data = (X_valid, y_valid_cat), callbacks =[earlystopping])\n",
    "# evaluate model_crs\n",
    "_, accuracy = model_crs.evaluate(X_valid, y_valid_cat, batch_size=batch_size, verbose=1)\n",
    "\n",
    "print('np.shape(X_test)=',np.shape(X_test))\n",
    "\n",
    "\n",
    "model_crs.summary()\n",
    "print('Accuracy= ', accuracy)\n",
    "\n",
    "#output = K.function([model_crs.layers[0].input],[model_crs.layers[3].output])\n",
    "#output(X_test)[0]\n",
    "#y_pred= model_crs.predict(X_test)                # Function 1\n",
    "\n",
    "##    print('Round ', i, '==>', 'accuracy = ', accuracy)\n",
    "##    acc_crs=np.append(acc_crs,accuracy)\n",
    "#y_pred_crs = model_crs.predict_classes(X_test)   # Function 2"
   ]
  },
  {
   "cell_type": "code",
   "execution_count": 25,
   "metadata": {},
   "outputs": [],
   "source": [
    "def maxindx(ar):\n",
    "    ar_cpy=np.array(ar)\n",
    "    pred=np.argmax(ar,axis=1)\n",
    "    for i in range (len(pred)):\n",
    "        if pred[i]==0:\n",
    "            ar_cpy[i,0]=-1000\n",
    "    pred=np.argmax(ar_cpy,axis=1)\n",
    "    return(pred)"
   ]
  },
  {
   "cell_type": "code",
   "execution_count": 26,
   "metadata": {},
   "outputs": [
    {
     "name": "stdout",
     "output_type": "stream",
     "text": [
      "16/16 [==============================] - 0s 2ms/step\n",
      "array([[ 92,  30,   4,   0],\n",
      "       [ 19,  63,  39,   3],\n",
      "       [  3,  20,  84,  19],\n",
      "       [  0,   0,   0, 124]], dtype=int64)\n",
      "              precision    recall  f1-score   support\n",
      "\n",
      "           2       0.81      0.73      0.77       126\n",
      "           3       0.56      0.51      0.53       124\n",
      "           4       0.66      0.67      0.66       126\n",
      "           5       0.85      1.00      0.92       124\n",
      "\n",
      "    accuracy                           0.73       500\n",
      "   macro avg       0.72      0.73      0.72       500\n",
      "weighted avg       0.72      0.73      0.72       500\n",
      "\n"
     ]
    }
   ],
   "source": [
    "predict_x=model_crs.predict(X_test)              # Function 1\n",
    "\n",
    "y_pred_crs=maxindx(predict_x)                    # function from augment.py to remove 0 index predictions\n",
    "\n",
    "#y_pred_crs = model_crs.predict_classes(X_test)\n",
    "\n",
    "cm = confusion_matrix(y_test, y_pred_crs)\n",
    "fullprint(cm)\n",
    "acc3=accuracy_score(y_test, y_pred_crs)\n",
    "\n",
    "print(classification_report(y_test, y_pred_crs))\n",
    "\n",
    "#sns.heatmap(cm, annot=True)\n",
    "\n",
    "#plt.imshow(cm)"
   ]
  },
  {
   "cell_type": "code",
   "execution_count": 27,
   "metadata": {},
   "outputs": [
    {
     "name": "stdout",
     "output_type": "stream",
     "text": [
      "Epoch 1/1000\n",
      "26/26 [==============================] - 2s 26ms/step - loss: 1.5341 - accuracy: 0.2163 - val_loss: 1.4926 - val_accuracy: 0.2500\n",
      "Epoch 2/1000\n",
      "26/26 [==============================] - 0s 13ms/step - loss: 1.4235 - accuracy: 0.2381 - val_loss: 1.4159 - val_accuracy: 0.2500\n",
      "Epoch 3/1000\n",
      "26/26 [==============================] - 0s 13ms/step - loss: 1.4063 - accuracy: 0.2560 - val_loss: 1.4083 - val_accuracy: 0.2500\n",
      "Epoch 4/1000\n",
      "26/26 [==============================] - 0s 13ms/step - loss: 1.4062 - accuracy: 0.2480 - val_loss: 1.3963 - val_accuracy: 0.2500\n",
      "Epoch 5/1000\n",
      "26/26 [==============================] - 0s 13ms/step - loss: 1.4013 - accuracy: 0.2460 - val_loss: 1.3992 - val_accuracy: 0.2500\n",
      "Epoch 6/1000\n",
      "26/26 [==============================] - 0s 13ms/step - loss: 1.4012 - accuracy: 0.2321 - val_loss: 1.3940 - val_accuracy: 0.2500\n",
      "Epoch 7/1000\n",
      "26/26 [==============================] - 0s 13ms/step - loss: 1.3991 - accuracy: 0.2103 - val_loss: 1.3906 - val_accuracy: 0.2500\n",
      "Epoch 8/1000\n",
      "26/26 [==============================] - 0s 13ms/step - loss: 1.3958 - accuracy: 0.2222 - val_loss: 1.4112 - val_accuracy: 0.2500\n",
      "Epoch 9/1000\n",
      "26/26 [==============================] - 0s 13ms/step - loss: 1.3991 - accuracy: 0.2202 - val_loss: 1.4180 - val_accuracy: 0.2500\n",
      "Epoch 10/1000\n",
      "26/26 [==============================] - 0s 13ms/step - loss: 1.3974 - accuracy: 0.2560 - val_loss: 1.3884 - val_accuracy: 0.2500\n",
      "Epoch 11/1000\n",
      "26/26 [==============================] - 0s 13ms/step - loss: 1.3948 - accuracy: 0.2341 - val_loss: 1.3908 - val_accuracy: 0.2500\n",
      "Epoch 12/1000\n",
      "26/26 [==============================] - 0s 13ms/step - loss: 1.3947 - accuracy: 0.2004 - val_loss: 1.3884 - val_accuracy: 0.2500\n",
      "Epoch 13/1000\n",
      "26/26 [==============================] - 0s 12ms/step - loss: 1.3918 - accuracy: 0.2202 - val_loss: 1.3880 - val_accuracy: 0.2500\n",
      "Epoch 14/1000\n",
      "26/26 [==============================] - 0s 13ms/step - loss: 1.3933 - accuracy: 0.2183 - val_loss: 1.3884 - val_accuracy: 0.2500\n",
      "Epoch 15/1000\n",
      "26/26 [==============================] - 0s 13ms/step - loss: 1.3931 - accuracy: 0.2183 - val_loss: 1.3880 - val_accuracy: 0.2500\n",
      "Epoch 16/1000\n",
      "26/26 [==============================] - 0s 13ms/step - loss: 1.3872 - accuracy: 0.2421 - val_loss: 1.3956 - val_accuracy: 0.2500\n",
      "Epoch 17/1000\n",
      "26/26 [==============================] - 0s 13ms/step - loss: 1.3914 - accuracy: 0.2063 - val_loss: 1.3888 - val_accuracy: 0.2500\n",
      "Epoch 18/1000\n",
      "26/26 [==============================] - 0s 13ms/step - loss: 1.3905 - accuracy: 0.2639 - val_loss: 1.3894 - val_accuracy: 0.2500\n",
      "Epoch 19/1000\n",
      "26/26 [==============================] - 0s 13ms/step - loss: 1.3905 - accuracy: 0.2460 - val_loss: 1.3889 - val_accuracy: 0.2500\n",
      "Epoch 20/1000\n",
      "26/26 [==============================] - 0s 13ms/step - loss: 1.3898 - accuracy: 0.2183 - val_loss: 1.3876 - val_accuracy: 0.2500\n",
      "Epoch 21/1000\n",
      "26/26 [==============================] - 0s 13ms/step - loss: 1.3917 - accuracy: 0.2282 - val_loss: 1.3875 - val_accuracy: 0.2500\n",
      "26/26 [==============================] - 0s 3ms/step - loss: 1.4926 - accuracy: 0.2500\n",
      "np.shape(X_test)= (500, 480, 1)\n",
      "Model: \"sequential_1\"\n",
      "_________________________________________________________________\n",
      " Layer (type)                Output Shape              Param #   \n",
      "=================================================================\n",
      " conv1d_5 (Conv1D)           (None, 478, 64)           256       \n",
      "                                                                 \n",
      " conv1d_6 (Conv1D)           (None, 476, 128)          24704     \n",
      "                                                                 \n",
      " max_pooling1d_4 (MaxPooling  (None, 158, 128)         0         \n",
      " 1D)                                                             \n",
      "                                                                 \n",
      " conv1d_7 (Conv1D)           (None, 156, 256)          98560     \n",
      "                                                                 \n",
      " max_pooling1d_5 (MaxPooling  (None, 52, 256)          0         \n",
      " 1D)                                                             \n",
      "                                                                 \n",
      " conv1d_8 (Conv1D)           (None, 50, 256)           196864    \n",
      "                                                                 \n",
      " max_pooling1d_6 (MaxPooling  (None, 16, 256)          0         \n",
      " 1D)                                                             \n",
      "                                                                 \n",
      " conv1d_9 (Conv1D)           (None, 14, 512)           393728    \n",
      "                                                                 \n",
      " max_pooling1d_7 (MaxPooling  (None, 4, 512)           0         \n",
      " 1D)                                                             \n",
      "                                                                 \n",
      " flatten_1 (Flatten)         (None, 2048)              0         \n",
      "                                                                 \n",
      " dense_2 (Dense)             (None, 2000)              4098000   \n",
      "                                                                 \n",
      " dense_3 (Dense)             (None, 6)                 12006     \n",
      "                                                                 \n",
      "=================================================================\n",
      "Total params: 4,824,118\n",
      "Trainable params: 4,824,118\n",
      "Non-trainable params: 0\n",
      "_________________________________________________________________\n",
      "Accuracy=  0.25\n"
     ]
    }
   ],
   "source": [
    "accuracy=0\n",
    "acc_crs=np.array([])\n",
    "##for i in range (10):\n",
    "##    if accuracy<0.2 :\n",
    "\n",
    "verbose, epochs, batch_size = 1, 1000, btch\n",
    "n_timesteps, n_features, n_outputs = X_train.shape[1], X_train.shape[2], y_train_cat.shape[1]\n",
    "steps_per_epoch = len(X_train)//batch_size\n",
    "validation_steps = len(X_valid)//batch_size # if you have test data\n",
    "\n",
    "model_crs = Sequential()\n",
    "BatchNormalization()\n",
    "model_crs.add(Conv1D(filters=64, kernel_size=3, activation='relu', input_shape=(n_timesteps,n_features)))\n",
    "#model_crs.add(MaxPooling1D(pool_size=3))\n",
    "BatchNormalization()\n",
    "model_crs.add(Conv1D(filters=128, kernel_size=3, activation='relu'))\n",
    "#model_crs.add(Dropout(0.5))\n",
    "model_crs.add(MaxPooling1D(pool_size=3))\n",
    "BatchNormalization()\n",
    "model_crs.add(Conv1D(filters=256, kernel_size=3, activation='relu'))\n",
    "model_crs.add(MaxPooling1D(pool_size=3))\n",
    "BatchNormalization()\n",
    "model_crs.add(Conv1D(filters=256, kernel_size=3, activation='relu'))\n",
    "model_crs.add(MaxPooling1D(pool_size=3))\n",
    "BatchNormalization()\n",
    "model_crs.add(Conv1D(filters=512, kernel_size=3, activation='relu'))\n",
    "model_crs.add(MaxPooling1D(pool_size=3))\n",
    "'''model_crs.add(Conv1D(filters=512, kernel_size=3, activation='relu'))\n",
    "model_crs.add(MaxPooling1D(pool_size=3))\n",
    "model_crs.add(Conv1D(filters=1024, kernel_size=3, activation='relu'))\n",
    "model_crs.add(MaxPooling1D(pool_size=3))\n",
    "'''\n",
    "model_crs.add(Flatten())\n",
    "#model_crs.add(Dropout(0.5))\n",
    "model_crs.add(Dense(2000, activation='relu'))\n",
    "model_crs.add(Dense(n_outputs, activation='softmax'))\n",
    "model_crs.compile(optimizer='rmsprop', loss='categorical_crossentropy', metrics=['accuracy'])\n",
    "# fit network   #CategoricalCrossentropy #sparse_categorical_crossentropy #SparseCategoricalCrossentropy\n",
    "\n",
    "earlystopping = callbacks.EarlyStopping(monitor =\"val_accuracy\", mode =\"max\", patience = 20, restore_best_weights = True)\n",
    "\n",
    "model_crs.fit(X_train, y_train_cat, epochs=epochs, batch_size=batch_size, verbose=verbose, validation_data = (X_valid, y_valid_cat), callbacks =[earlystopping])\n",
    "# evaluate model_crs\n",
    "_, accuracy = model_crs.evaluate(X_valid, y_valid_cat, batch_size=batch_size, verbose=1)\n",
    "\n",
    "print('np.shape(X_test)=',np.shape(X_test))\n",
    "\n",
    "\n",
    "model_crs.summary()\n",
    "print('Accuracy= ', accuracy)\n",
    "\n",
    "#output = K.function([model_crs.layers[0].input],[model_crs.layers[3].output])\n",
    "#output(X_test)[0]\n",
    "#y_pred= model_crs.predict(X_test)                # Function 1\n",
    "\n",
    "##    print('Round ', i, '==>', 'accuracy = ', accuracy)\n",
    "##    acc_crs=np.append(acc_crs,accuracy)\n",
    "#y_pred_crs = model_crs.predict_classes(X_test)   # Function 2"
   ]
  },
  {
   "cell_type": "code",
   "execution_count": 28,
   "metadata": {},
   "outputs": [
    {
     "name": "stdout",
     "output_type": "stream",
     "text": [
      "16/16 [==============================] - 0s 3ms/step\n",
      "array([[  0,   0,   0, 126],\n",
      "       [  0,   0,   0, 124],\n",
      "       [  0,   0,   0, 126],\n",
      "       [  0,   0,   0, 124]], dtype=int64)\n",
      "              precision    recall  f1-score   support\n",
      "\n",
      "           2       0.00      0.00      0.00       126\n",
      "           3       0.00      0.00      0.00       124\n",
      "           4       0.00      0.00      0.00       126\n",
      "           5       0.25      1.00      0.40       124\n",
      "\n",
      "    accuracy                           0.25       500\n",
      "   macro avg       0.06      0.25      0.10       500\n",
      "weighted avg       0.06      0.25      0.10       500\n",
      "\n"
     ]
    },
    {
     "name": "stderr",
     "output_type": "stream",
     "text": [
      "C:\\ProgramData\\Anaconda3\\lib\\site-packages\\sklearn\\metrics\\_classification.py:1248: UndefinedMetricWarning: Precision and F-score are ill-defined and being set to 0.0 in labels with no predicted samples. Use `zero_division` parameter to control this behavior.\n",
      "  _warn_prf(average, modifier, msg_start, len(result))\n",
      "C:\\ProgramData\\Anaconda3\\lib\\site-packages\\sklearn\\metrics\\_classification.py:1248: UndefinedMetricWarning: Precision and F-score are ill-defined and being set to 0.0 in labels with no predicted samples. Use `zero_division` parameter to control this behavior.\n",
      "  _warn_prf(average, modifier, msg_start, len(result))\n",
      "C:\\ProgramData\\Anaconda3\\lib\\site-packages\\sklearn\\metrics\\_classification.py:1248: UndefinedMetricWarning: Precision and F-score are ill-defined and being set to 0.0 in labels with no predicted samples. Use `zero_division` parameter to control this behavior.\n",
      "  _warn_prf(average, modifier, msg_start, len(result))\n"
     ]
    }
   ],
   "source": [
    "predict_x=model_crs.predict(X_test)              # Function 1\n",
    "\n",
    "y_pred_crs=maxindx(predict_x)                    # function from augment.py to remove 0 index predictions\n",
    "\n",
    "#y_pred_crs = model_crs.predict_classes(X_test)\n",
    "\n",
    "cm = confusion_matrix(y_test, y_pred_crs)\n",
    "fullprint(cm)\n",
    "acc3=accuracy_score(y_test, y_pred_crs)\n",
    "\n",
    "print(classification_report(y_test, y_pred_crs))\n",
    "\n",
    "#sns.heatmap(cm, annot=True)\n",
    "\n",
    "#plt.imshow(cm)"
   ]
  },
  {
   "cell_type": "code",
   "execution_count": null,
   "metadata": {},
   "outputs": [],
   "source": []
  }
 ],
 "metadata": {
  "celltoolbar": "Raw Cell Format",
  "kernelspec": {
   "display_name": "Python 3 (ipykernel)",
   "language": "python",
   "name": "python3"
  },
  "language_info": {
   "codemirror_mode": {
    "name": "ipython",
    "version": 3
   },
   "file_extension": ".py",
   "mimetype": "text/x-python",
   "name": "python",
   "nbconvert_exporter": "python",
   "pygments_lexer": "ipython3",
   "version": "3.9.7"
  }
 },
 "nbformat": 4,
 "nbformat_minor": 4
}
