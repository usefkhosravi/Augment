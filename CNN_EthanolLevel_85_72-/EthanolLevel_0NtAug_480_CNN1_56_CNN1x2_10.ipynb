{
 "cells": [
  {
   "cell_type": "markdown",
   "metadata": {},
   "source": [
    "import time\n",
    "plc=1\n",
    "time.sleep(3000*plc)         #run after 1 houre = 3600 seconds"
   ]
  },
  {
   "cell_type": "code",
   "execution_count": 1,
   "metadata": {},
   "outputs": [
    {
     "data": {
      "text/html": [
       "<style>#notebook { padding-top:0px !important; } .container { width:100% !important; } .end_space { min-height:0px !important; } html, body, .container{ margin:0!important;padding:0!important;}</style>"
      ],
      "text/plain": [
       "<IPython.core.display.HTML object>"
      ]
     },
     "metadata": {},
     "output_type": "display_data"
    }
   ],
   "source": [
    "import os\n",
    "import glob\n",
    "import scipy\n",
    "import random\n",
    "import bisect\n",
    "import numpy as np\n",
    "import pandas as pd\n",
    "import seaborn as sns\n",
    "from scipy import signal\n",
    "from scipy.signal import find_peaks\n",
    "import matplotlib.pyplot as plt\n",
    "from preprocess import *                         #ماژول استخراج پنجره ها\n",
    "from data import *                          #ماژول محلی ورود داده ها\n",
    "from augment import *                            #ماژول های داده افزایی\n",
    "from lstm_cnn import *                           #ماژول های داده افزایی با lstm_cnn\n",
    "import augment\n",
    "import importlib\n",
    "importlib.reload(augment)\n",
    "import tensorflow as tf\n",
    "from tensorflow import keras\n",
    "from tensorflow.keras.layers import BatchNormalization\n",
    "from sklearn.model_selection import train_test_split\n",
    "from sklearn.neural_network import MLPClassifier\n",
    "from sklearn.datasets import make_classification\n",
    "from sklearn.metrics import confusion_matrix, accuracy_score, classification_report,recall_score,precision_score\n",
    "from tensorflow.keras import callbacks\n",
    "from tensorflow.keras import layers\n",
    "from tensorflow.keras.models import Sequential\n",
    "from tensorflow.keras.layers import Convolution2D,Conv1D,Dropout,MaxPooling1D,MaxPooling2D,Flatten,Dense\n",
    "from tensorflow.keras import backend as K\n",
    "from tensorflow.keras.utils import to_categorical\n",
    "from tensorflow.keras.models import load_model\n",
    "cwd = os.getcwd() #\n",
    "fullscrn()"
   ]
  },
  {
   "cell_type": "markdown",
   "metadata": {},
   "source": [
    "<h1><center><div style=\"direction:rtl;font-family:B Nazanin\">Importing Data</div></center></h1>"
   ]
  },
  {
   "cell_type": "code",
   "execution_count": 2,
   "metadata": {
    "scrolled": true
   },
   "outputs": [
    {
     "name": "stderr",
     "output_type": "stream",
     "text": [
      "C:\\ProgramData\\Anaconda3\\lib\\site-packages\\pandas\\util\\_decorators.py:311: ParserWarning: Falling back to the 'python' engine because the 'c' engine does not support regex separators (separators > 1 char and different from '\\s+' are interpreted as regex); you can avoid this warning by specifying engine='python'.\n",
      "  return func(*args, **kwargs)\n"
     ]
    },
    {
     "name": "stdout",
     "output_type": "stream",
     "text": [
      "first_train_shape= (504, 1752)\n",
      "first_test_shape= (500, 1752)\n",
      "classes_quantity= 4\n",
      "tr_lbls=\t {1, 2, 3, 4}\n",
      "Count_labels= [126 126 126 126]\n",
      "max(train_feature_Altitude)= 4.0\n",
      "min(train_feature_Altitude)= -0.99315624\n",
      "first_train_sample=\n",
      " [ 1.         -0.94066444 -0.94086231 ... -0.9264013  -0.92721665\n",
      " -0.92742172]\n",
      "1 126\t2 126\t3 126\t4 126\t"
     ]
    }
   ],
   "source": [
    "rate=480\n",
    "cls_num=4\n",
    "btch=20\n",
    "for i in range (1,cls_num+1):\n",
    "    vars()['ecg'+str(i)],vars()['ecg_tst'+str(i)]=EthanolLevel(i)\n",
    "\n",
    "os.chdir(cwd)\n",
    "clses_lens=np.array([])\n",
    "i=0                               #جمع آوری داده ها و چاپ تعداد نمونه ی هر کلاس\n",
    "ecg=np.array(ecg1)\n",
    "print(1,len(vars()['ecg'+str(1)]), end='\\t')\n",
    "clses_lens=np.append(clses_lens,len(vars()['ecg'+str(1)]))\n",
    "for i in range (2,cls_num+1):\n",
    "    ecg=np.concatenate((ecg,vars()['ecg'+str(i)]),axis=0)\n",
    "    clses_lens=np.append(clses_lens,len(vars()['ecg'+str(i)]))\n",
    "    print(i,len(vars()['ecg'+str(i)]), end='\\t')\n",
    "\n",
    "mx_sig=max(clses_lens)"
   ]
  },
  {
   "cell_type": "code",
   "execution_count": 3,
   "metadata": {},
   "outputs": [
    {
     "data": {
      "text/plain": [
       "(504, 481)"
      ]
     },
     "execution_count": 3,
     "metadata": {},
     "output_type": "execute_result"
    }
   ],
   "source": [
    "np.shape(ecg)"
   ]
  },
  {
   "cell_type": "code",
   "execution_count": 4,
   "metadata": {},
   "outputs": [
    {
     "data": {
      "text/plain": [
       "array([1., 1., 1., 1., 1., 1., 1., 1., 1., 1., 1., 1., 1., 1., 1., 1., 1.,\n",
       "       1., 1., 1., 1., 1., 1., 1., 1., 1., 1., 1., 1., 1., 1., 1., 1., 1.,\n",
       "       1., 1., 1., 1., 1., 1., 1., 1., 1., 1., 1., 1., 1., 1., 1., 1., 1.,\n",
       "       1., 1., 1., 1., 1., 1., 1., 1., 1., 1., 1., 1., 1., 1., 1., 1., 1.,\n",
       "       1., 1., 1., 1., 1., 1., 1., 1., 1., 1., 1., 1., 1., 1., 1., 1., 1.,\n",
       "       1., 1., 1., 1., 1., 1., 1., 1., 1., 1., 1., 1., 1., 1., 1., 1., 1.,\n",
       "       1., 1., 1., 1., 1., 1., 1., 1., 1., 1., 1., 1., 1., 1., 1., 1., 1.,\n",
       "       1., 1., 1., 1., 1., 1., 1., 2., 2., 2., 2., 2., 2., 2., 2., 2., 2.,\n",
       "       2., 2., 2., 2., 2., 2., 2., 2., 2., 2., 2., 2., 2., 2., 2., 2., 2.,\n",
       "       2., 2., 2., 2., 2., 2., 2., 2., 2., 2., 2., 2., 2., 2., 2., 2., 2.,\n",
       "       2., 2., 2., 2., 2., 2., 2., 2., 2., 2., 2., 2., 2., 2., 2., 2., 2.,\n",
       "       2., 2., 2., 2., 2., 2., 2., 2., 2., 2., 2., 2., 2., 2., 2., 2., 2.,\n",
       "       2., 2., 2., 2., 2., 2., 2., 2., 2., 2., 2., 2., 2., 2., 2., 2., 2.,\n",
       "       2., 2., 2., 2., 2., 2., 2., 2., 2., 2., 2., 2., 2., 2., 2., 2., 2.,\n",
       "       2., 2., 2., 2., 2., 2., 2., 2., 2., 2., 2., 2., 2., 2., 3., 3., 3.,\n",
       "       3., 3., 3., 3., 3., 3., 3., 3., 3., 3., 3., 3., 3., 3., 3., 3., 3.,\n",
       "       3., 3., 3., 3., 3., 3., 3., 3., 3., 3., 3., 3., 3., 3., 3., 3., 3.,\n",
       "       3., 3., 3., 3., 3., 3., 3., 3., 3., 3., 3., 3., 3., 3., 3., 3., 3.,\n",
       "       3., 3., 3., 3., 3., 3., 3., 3., 3., 3., 3., 3., 3., 3., 3., 3., 3.,\n",
       "       3., 3., 3., 3., 3., 3., 3., 3., 3., 3., 3., 3., 3., 3., 3., 3., 3.,\n",
       "       3., 3., 3., 3., 3., 3., 3., 3., 3., 3., 3., 3., 3., 3., 3., 3., 3.,\n",
       "       3., 3., 3., 3., 3., 3., 3., 3., 3., 3., 3., 3., 3., 3., 3., 3., 3.,\n",
       "       3., 3., 3., 3., 4., 4., 4., 4., 4., 4., 4., 4., 4., 4., 4., 4., 4.,\n",
       "       4., 4., 4., 4., 4., 4., 4., 4., 4., 4., 4., 4., 4., 4., 4., 4., 4.,\n",
       "       4., 4., 4., 4., 4., 4., 4., 4., 4., 4., 4., 4., 4., 4., 4., 4., 4.,\n",
       "       4., 4., 4., 4., 4., 4., 4., 4., 4., 4., 4., 4., 4., 4., 4., 4., 4.,\n",
       "       4., 4., 4., 4., 4., 4., 4., 4., 4., 4., 4., 4., 4., 4., 4., 4., 4.,\n",
       "       4., 4., 4., 4., 4., 4., 4., 4., 4., 4., 4., 4., 4., 4., 4., 4., 4.,\n",
       "       4., 4., 4., 4., 4., 4., 4., 4., 4., 4., 4., 4., 4., 4., 4., 4., 4.,\n",
       "       4., 4., 4., 4., 4., 4., 4., 4., 4., 4., 4.])"
      ]
     },
     "execution_count": 4,
     "metadata": {},
     "output_type": "execute_result"
    }
   ],
   "source": [
    "ecg[:,-1]"
   ]
  },
  {
   "cell_type": "markdown",
   "metadata": {},
   "source": [
    "<h2><center><div style=\"direction:rtl;font-family:B Nazanin\">Base Train windows</div></center></h1>"
   ]
  },
  {
   "cell_type": "code",
   "execution_count": 5,
   "metadata": {},
   "outputs": [
    {
     "name": "stdout",
     "output_type": "stream",
     "text": [
      "each class and its windows =\n",
      "1 126\t2 126\t3 126\t4 126\t\n",
      " max = 126\n"
     ]
    }
   ],
   "source": [
    "smpl_rte=480                                              # در ماژول ها نیز همین مقدار ثبت شده\n",
    "i=0\n",
    "windws=np.array([])\n",
    "\n",
    "for cls in range (1,cls_num+1):                                 #ساخت پنجره های داده های آموزش اصلی\n",
    "    vars()['wndws'+str(cls)]=np.array(vars()['ecg'+str(cls)])  \n",
    "    \n",
    "print(\"each class and its windows =\")\n",
    "\n",
    "cls_wndws=np.array([])\n",
    "for cls in range (1,cls_num+1):                                # آرایه ی تعداد پنجره ی هر کلاس\n",
    "    wns=len(vars()['wndws'+str(cls)])\n",
    "    cls_wndws=np.append(cls_wndws,wns)\n",
    "    print(cls, wns, end='\\t')\n",
    "\n",
    "mx_wndws=int(np.max(cls_wndws))                        # حداکثر تعداد پنجره ی موجود بین کلاس ها\n",
    "print('\\n max =', mx_wndws)"
   ]
  },
  {
   "cell_type": "raw",
   "metadata": {},
   "source": [
    "#clses=3                                   #تعیین میزان افزایش نمونه (تولید داده)\n",
    "mx_wndws=int(mx_wndws)  #mx_wndws*0.3  # =classes-1 برای بررسی الگوریتم تعداد کمی کلاس آزمایش شد\n",
    "mx_wndws=2598           #+2\n",
    "print(mx_wndws)"
   ]
  },
  {
   "cell_type": "markdown",
   "metadata": {},
   "source": [
    "<h1><center><div style=\"direction:rtl;font-family:B Nazanin\">Data Augmentation</div></center></h1>"
   ]
  },
  {
   "cell_type": "code",
   "execution_count": 6,
   "metadata": {},
   "outputs": [
    {
     "name": "stdout",
     "output_type": "stream",
     "text": [
      "Up to class  1 train shape =  (126, 481)\n",
      "Up to class  2 train shape =  (252, 481)\n",
      "Up to class  3 train shape =  (378, 481)\n",
      "Up to class  4 train shape =  (504, 481)\n"
     ]
    }
   ],
   "source": [
    "smpl_rte=len(wndws1[0])                                        # در ماژول ها نیز همین مقدار ثبت شده\n",
    "\n",
    "#add augmented data to base data\n",
    "xtrain=np.empty((0,len(wndws1[0])), float) \n",
    "for i in range (1,cls_num+1):   \n",
    "    xtrain=np.append(xtrain,vars()['wndws'+str(i)],axis=0)\n",
    "    print('Up to class ', i, 'train shape = ', np.shape(xtrain))"
   ]
  },
  {
   "cell_type": "code",
   "execution_count": 7,
   "metadata": {},
   "outputs": [
    {
     "name": "stdout",
     "output_type": "stream",
     "text": [
      "[  0 126 126 126 126]\n"
     ]
    }
   ],
   "source": [
    "print(np.bincount(np.int16(xtrain[:,-1])))    #تعداد پنجره در هر کلاس از 0 تا 17"
   ]
  },
  {
   "cell_type": "code",
   "execution_count": 8,
   "metadata": {},
   "outputs": [
    {
     "data": {
      "text/plain": [
       "array([1., 1., 1., 1., 1., 1., 1., 1., 1., 1., 1., 1., 1., 1., 1., 1., 1.,\n",
       "       1., 1., 1., 1., 1., 1., 1., 1., 1., 1., 1., 1., 1., 1., 1., 1., 1.,\n",
       "       1., 1., 1., 1., 1., 1., 1., 1., 1., 1., 1., 1., 1., 1., 1., 1., 1.,\n",
       "       1., 1., 1., 1., 1., 1., 1., 1., 1., 1., 1., 1., 1., 1., 1., 1., 1.,\n",
       "       1., 1., 1., 1., 1., 1., 1., 1., 1., 1., 1., 1., 1., 1., 1., 1., 1.,\n",
       "       1., 1., 1., 1., 1., 1., 1., 1., 1., 1., 1., 1., 1., 1., 1., 1., 1.,\n",
       "       1., 1., 1., 1., 1., 1., 1., 1., 1., 1., 1., 1., 1., 1., 1., 1., 1.,\n",
       "       1., 1., 1., 1., 1., 1., 1., 2., 2., 2., 2., 2., 2., 2., 2., 2., 2.,\n",
       "       2., 2., 2., 2., 2., 2., 2., 2., 2., 2., 2., 2., 2., 2., 2., 2., 2.,\n",
       "       2., 2., 2., 2., 2., 2., 2., 2., 2., 2., 2., 2., 2., 2., 2., 2., 2.,\n",
       "       2., 2., 2., 2., 2., 2., 2., 2., 2., 2., 2., 2., 2., 2., 2., 2., 2.,\n",
       "       2., 2., 2., 2., 2., 2., 2., 2., 2., 2., 2., 2., 2., 2., 2., 2., 2.,\n",
       "       2., 2., 2., 2., 2., 2., 2., 2., 2., 2., 2., 2., 2., 2., 2., 2., 2.,\n",
       "       2., 2., 2., 2., 2., 2., 2., 2., 2., 2., 2., 2., 2., 2., 2., 2., 2.,\n",
       "       2., 2., 2., 2., 2., 2., 2., 2., 2., 2., 2., 2., 2., 2., 3., 3., 3.,\n",
       "       3., 3., 3., 3., 3., 3., 3., 3., 3., 3., 3., 3., 3., 3., 3., 3., 3.,\n",
       "       3., 3., 3., 3., 3., 3., 3., 3., 3., 3., 3., 3., 3., 3., 3., 3., 3.,\n",
       "       3., 3., 3., 3., 3., 3., 3., 3., 3., 3., 3., 3., 3., 3., 3., 3., 3.,\n",
       "       3., 3., 3., 3., 3., 3., 3., 3., 3., 3., 3., 3., 3., 3., 3., 3., 3.,\n",
       "       3., 3., 3., 3., 3., 3., 3., 3., 3., 3., 3., 3., 3., 3., 3., 3., 3.,\n",
       "       3., 3., 3., 3., 3., 3., 3., 3., 3., 3., 3., 3., 3., 3., 3., 3., 3.,\n",
       "       3., 3., 3., 3., 3., 3., 3., 3., 3., 3., 3., 3., 3., 3., 3., 3., 3.,\n",
       "       3., 3., 3., 3., 4., 4., 4., 4., 4., 4., 4., 4., 4., 4., 4., 4., 4.,\n",
       "       4., 4., 4., 4., 4., 4., 4., 4., 4., 4., 4., 4., 4., 4., 4., 4., 4.,\n",
       "       4., 4., 4., 4., 4., 4., 4., 4., 4., 4., 4., 4., 4., 4., 4., 4., 4.,\n",
       "       4., 4., 4., 4., 4., 4., 4., 4., 4., 4., 4., 4., 4., 4., 4., 4., 4.,\n",
       "       4., 4., 4., 4., 4., 4., 4., 4., 4., 4., 4., 4., 4., 4., 4., 4., 4.,\n",
       "       4., 4., 4., 4., 4., 4., 4., 4., 4., 4., 4., 4., 4., 4., 4., 4., 4.,\n",
       "       4., 4., 4., 4., 4., 4., 4., 4., 4., 4., 4., 4., 4., 4., 4., 4., 4.,\n",
       "       4., 4., 4., 4., 4., 4., 4., 4., 4., 4., 4.])"
      ]
     },
     "execution_count": 8,
     "metadata": {},
     "output_type": "execute_result"
    }
   ],
   "source": [
    "xtrain[:,-1]"
   ]
  },
  {
   "cell_type": "code",
   "execution_count": 9,
   "metadata": {},
   "outputs": [],
   "source": [
    "mx_aug=np.max(xtrain[:,:-1])\n",
    "mx=np.max(ecg[:,:-1])\n",
    "mn_aug=np.min(xtrain[:,:-1])\n",
    "mn=np.min(ecg[:,:-1])\n",
    "\n",
    "#for i in range (1,cls_num+1):             #نرمالسازی داده های افزایشی\n",
    "xtrain[:,:-1]= 2*(xtrain[:,:-1]-mn_aug)/(mx_aug - mn_aug) - 1"
   ]
  },
  {
   "cell_type": "code",
   "execution_count": 10,
   "metadata": {},
   "outputs": [
    {
     "name": "stdout",
     "output_type": "stream",
     "text": [
      "min trn = -1.0\n",
      "max trn = 1.0\n"
     ]
    }
   ],
   "source": [
    "print('min trn =', np.min(xtrain[:,:-1]))\n",
    "print('max trn =', np.max(xtrain[:,:-1]))"
   ]
  },
  {
   "cell_type": "markdown",
   "metadata": {},
   "source": [
    "<h3><center><div style=\"direction:rtl;font-family:B Nazanin\">Test Windows</div></center></h1>"
   ]
  },
  {
   "cell_type": "code",
   "execution_count": 11,
   "metadata": {},
   "outputs": [],
   "source": [
    "wndws_test=np.empty((0,len(wndws1[0])), float)\n",
    "i=0\n",
    "windws=np.array([])\n",
    "for cls in range (1,cls_num+1):                                 #ساخت پنجره های داده های آموزش اصلی\n",
    "    vars()['wndws_tst'+str(cls)]=np.empty((0,len(wndws1[0])), float)\n",
    "    vars()['wndws_tst'+str(cls)]=np.append(vars()['wndws_tst'+str(cls)],vars()['ecg_tst'+str(cls)],axis=0)   "
   ]
  },
  {
   "cell_type": "code",
   "execution_count": 12,
   "metadata": {},
   "outputs": [
    {
     "name": "stdout",
     "output_type": "stream",
     "text": [
      "\n",
      " cls 1  >> \n",
      "max magnitude class 1  =  2.0066322303209314\n",
      "min magnitude class 1  =  -0.9887515177465563\n",
      "after normalizing >>\n",
      "max magnitude class 1  =  0.9577038578449146\n",
      "min magnitude class 1  =  -0.9973014360269996\n",
      "\n",
      " cls 2  >> \n",
      "max magnitude class 2  =  2.0087651656600385\n",
      "min magnitude class 2  =  -0.9839751932466482\n",
      "after normalizing >>\n",
      "max magnitude class 2  =  0.9590959665796073\n",
      "min magnitude class 2  =  -0.9941840592673123\n",
      "\n",
      " cls 3  >> \n",
      "max magnitude class 3  =  2.011338228512399\n",
      "min magnitude class 3  =  -0.9923098777256709\n",
      "after normalizing >>\n",
      "max magnitude class 3  =  0.9607753345407493\n",
      "min magnitude class 3  =  -0.9996238805555709\n",
      "\n",
      " cls 4  >> \n",
      "max magnitude class 4  =  2.004223552511414\n",
      "min magnitude class 4  =  -0.9939171120828527\n",
      "after normalizing >>\n",
      "max magnitude class 4  =  0.9561317795187649\n",
      "min magnitude class 4  =  -1.0006728785942398\n",
      "each class and its windows =\n",
      "1 126\t2 124\t3 126\t4 124\t\n",
      " max instance in classes of test windows = 126\n"
     ]
    }
   ],
   "source": [
    "#print(np.max(wndws_tst))\n",
    "for i in range (1,cls_num+1):                # Normalization test windows\n",
    "    cls=i\n",
    "    print('\\n cls', i, ' >> ')\n",
    "    print('max magnitude class', i , ' = ' ,np.max(vars()['wndws_tst'+str(cls)][:,:-1]))\n",
    "    print('min magnitude class', i , ' = ' ,np.min(vars()['wndws_tst'+str(cls)][:,:-1]))\n",
    "\n",
    "    vars()['wndws_tst'+str(i)][:,:-1]= 2*(vars()['wndws_tst'+str(i)][:,:-1]-mn_aug)/(mx_aug - mn_aug) - 1\n",
    "    \n",
    "    print('after normalizing >>')\n",
    "    print('max magnitude class', i , ' = ' ,np.max(vars()['wndws_tst'+str(cls)][:,:-1]))\n",
    "    print('min magnitude class', i , ' = ' ,np.min(vars()['wndws_tst'+str(cls)][:,:-1]))\n",
    "    \n",
    "print(\"each class and its windows =\")                    #تجمیع کلاس های تست\n",
    "cls_wndws=np.array([])\n",
    "for cls in range (1,cls_num+1):                                # آرایه ی تعداد پنجره ی هر کلاس\n",
    "    wns=len(vars()['wndws_tst'+str(cls)])\n",
    "    cls_wndws=np.append(cls_wndws,wns)\n",
    "    print(cls, wns, end='\\t')\n",
    "    wndws_test=np.append(wndws_test,vars()['wndws_tst'+str(cls)],axis=0)\n",
    "    \n",
    "mx_wndws=int(np.max(cls_wndws))                        # حداکثر تعداد پنجره ی موجود بین کلاس ها\n",
    "print('\\n max instance in classes of test windows =', mx_wndws)"
   ]
  },
  {
   "cell_type": "code",
   "execution_count": 13,
   "metadata": {},
   "outputs": [
    {
     "name": "stdout",
     "output_type": "stream",
     "text": [
      "min tst = -1.0006728785942398\n",
      "max tst = 0.9607753345407493\n"
     ]
    }
   ],
   "source": [
    "print('min tst =', np.min(wndws_test[:,:-1]))\n",
    "print('max tst =', np.max(wndws_test[:,:-1]))"
   ]
  },
  {
   "cell_type": "code",
   "execution_count": 14,
   "metadata": {},
   "outputs": [
    {
     "data": {
      "text/plain": [
       "500"
      ]
     },
     "execution_count": 14,
     "metadata": {},
     "output_type": "execute_result"
    }
   ],
   "source": [
    "len(wndws_test)"
   ]
  },
  {
   "cell_type": "code",
   "execution_count": 15,
   "metadata": {},
   "outputs": [
    {
     "data": {
      "text/plain": [
       "(500, 481)"
      ]
     },
     "execution_count": 15,
     "metadata": {},
     "output_type": "execute_result"
    }
   ],
   "source": [
    "np.shape(wndws_test)"
   ]
  },
  {
   "cell_type": "code",
   "execution_count": 16,
   "metadata": {},
   "outputs": [],
   "source": [
    "Xtest=wndws_test[:,:-1]\n",
    "ytest=np.int16(wndws_test[:,-1])"
   ]
  },
  {
   "cell_type": "code",
   "execution_count": 17,
   "metadata": {},
   "outputs": [
    {
     "name": "stdout",
     "output_type": "stream",
     "text": [
      "array([1, 1, 1, 1, 1, 1, 1, 1, 1, 1, 1, 1, 1, 1, 1, 1, 1, 1, 1, 1, 1, 1,\n",
      "       1, 1, 1, 1, 1, 1, 1, 1, 1, 1, 1, 1, 1, 1, 1, 1, 1, 1, 1, 1, 1, 1,\n",
      "       1, 1, 1, 1, 1, 1, 1, 1, 1, 1, 1, 1, 1, 1, 1, 1, 1, 1, 1, 1, 1, 1,\n",
      "       1, 1, 1, 1, 1, 1, 1, 1, 1, 1, 1, 1, 1, 1, 1, 1, 1, 1, 1, 1, 1, 1,\n",
      "       1, 1, 1, 1, 1, 1, 1, 1, 1, 1, 1, 1, 1, 1, 1, 1, 1, 1, 1, 1, 1, 1,\n",
      "       1, 1, 1, 1, 1, 1, 1, 1, 1, 1, 1, 1, 1, 1, 1, 1, 2, 2, 2, 2, 2, 2,\n",
      "       2, 2, 2, 2, 2, 2, 2, 2, 2, 2, 2, 2, 2, 2, 2, 2, 2, 2, 2, 2, 2, 2,\n",
      "       2, 2, 2, 2, 2, 2, 2, 2, 2, 2, 2, 2, 2, 2, 2, 2, 2, 2, 2, 2, 2, 2,\n",
      "       2, 2, 2, 2, 2, 2, 2, 2, 2, 2, 2, 2, 2, 2, 2, 2, 2, 2, 2, 2, 2, 2,\n",
      "       2, 2, 2, 2, 2, 2, 2, 2, 2, 2, 2, 2, 2, 2, 2, 2, 2, 2, 2, 2, 2, 2,\n",
      "       2, 2, 2, 2, 2, 2, 2, 2, 2, 2, 2, 2, 2, 2, 2, 2, 2, 2, 2, 2, 2, 2,\n",
      "       2, 2, 2, 2, 2, 2, 2, 2, 3, 3, 3, 3, 3, 3, 3, 3, 3, 3, 3, 3, 3, 3,\n",
      "       3, 3, 3, 3, 3, 3, 3, 3, 3, 3, 3, 3, 3, 3, 3, 3, 3, 3, 3, 3, 3, 3,\n",
      "       3, 3, 3, 3, 3, 3, 3, 3, 3, 3, 3, 3, 3, 3, 3, 3, 3, 3, 3, 3, 3, 3,\n",
      "       3, 3, 3, 3, 3, 3, 3, 3, 3, 3, 3, 3, 3, 3, 3, 3, 3, 3, 3, 3, 3, 3,\n",
      "       3, 3, 3, 3, 3, 3, 3, 3, 3, 3, 3, 3, 3, 3, 3, 3, 3, 3, 3, 3, 3, 3,\n",
      "       3, 3, 3, 3, 3, 3, 3, 3, 3, 3, 3, 3, 3, 3, 3, 3, 3, 3, 3, 3, 3, 3,\n",
      "       3, 3, 4, 4, 4, 4, 4, 4, 4, 4, 4, 4, 4, 4, 4, 4, 4, 4, 4, 4, 4, 4,\n",
      "       4, 4, 4, 4, 4, 4, 4, 4, 4, 4, 4, 4, 4, 4, 4, 4, 4, 4, 4, 4, 4, 4,\n",
      "       4, 4, 4, 4, 4, 4, 4, 4, 4, 4, 4, 4, 4, 4, 4, 4, 4, 4, 4, 4, 4, 4,\n",
      "       4, 4, 4, 4, 4, 4, 4, 4, 4, 4, 4, 4, 4, 4, 4, 4, 4, 4, 4, 4, 4, 4,\n",
      "       4, 4, 4, 4, 4, 4, 4, 4, 4, 4, 4, 4, 4, 4, 4, 4, 4, 4, 4, 4, 4, 4,\n",
      "       4, 4, 4, 4, 4, 4, 4, 4, 4, 4, 4, 4, 4, 4, 4, 4], dtype=int16)\n"
     ]
    }
   ],
   "source": [
    "fullprint(ytest)"
   ]
  },
  {
   "cell_type": "markdown",
   "metadata": {},
   "source": [
    "<h3><center><div style=\"direction:rtl;font-family:B Nazanin\">Train Windows</div></center></h1>"
   ]
  },
  {
   "cell_type": "code",
   "execution_count": 18,
   "metadata": {},
   "outputs": [
    {
     "data": {
      "text/plain": [
       "'\\nytestt=np.int32(np.array([ytest]).T)\\ntestx=np.concatenate((Xtest, ytestt), axis=1)\\ntestx=np.random.permutation(testx)\\nXtest=np.int32(testx[:,:-1])\\nytest=np.int32(testx[:,-1])'"
      ]
     },
     "execution_count": 18,
     "metadata": {},
     "output_type": "execute_result"
    }
   ],
   "source": [
    "#ytraint=np.int32(np.array([ytrain]).T)\n",
    "#trainx=np.concatenate((Xtrain, ytraint), axis=1)\n",
    "trainx=np.random.permutation(xtrain)\n",
    "Xtrain=np.array(trainx[:,:-1])\n",
    "ytrain=np.int16(trainx[:,-1])\n",
    "'''\n",
    "ytestt=np.int32(np.array([ytest]).T)\n",
    "testx=np.concatenate((Xtest, ytestt), axis=1)\n",
    "testx=np.random.permutation(testx)\n",
    "Xtest=np.int32(testx[:,:-1])\n",
    "ytest=np.int32(testx[:,-1])'''"
   ]
  },
  {
   "cell_type": "code",
   "execution_count": 19,
   "metadata": {},
   "outputs": [
    {
     "data": {
      "text/plain": [
       "(126, 481)"
      ]
     },
     "execution_count": 19,
     "metadata": {},
     "output_type": "execute_result"
    }
   ],
   "source": [
    "np.shape(wndws1)"
   ]
  },
  {
   "cell_type": "markdown",
   "metadata": {},
   "source": [
    "<h3><center><div style=\"direction:rtl;font-family:B Nazanin\">Validation Windows</div></center></h1>"
   ]
  },
  {
   "cell_type": "code",
   "execution_count": 20,
   "metadata": {},
   "outputs": [],
   "source": [
    "Xvalid=np.array(Xtrain)\n",
    "yvalid=np.array(ytrain)"
   ]
  },
  {
   "cell_type": "markdown",
   "metadata": {},
   "source": [
    "<h1><center><div style=\"direction:rtl;font-family:B Nazanin\">CNN And UnBalanced RAW Data</div></center></h1>\n",
    "<h1><center><div style=\"direction:rtl;font-family:Arial\">Cross Entropy Loss Function</div></center></h1>"
   ]
  },
  {
   "cell_type": "code",
   "execution_count": 21,
   "metadata": {
    "scrolled": true
   },
   "outputs": [
    {
     "name": "stdout",
     "output_type": "stream",
     "text": [
      "X_train =>  (504, 480)\n",
      "y_train =>  (504,)\n",
      "X_test  =>  (500, 480)\n",
      "y_test  =>  (500,)\n",
      "X_valid  =>  (504, 480)\n",
      "y_valid  =>  (504,)\n"
     ]
    }
   ],
   "source": [
    "X_train=np.array(Xtrain)\n",
    "y_train=np.array(ytrain)\n",
    "X_test=np.array(Xtest)\n",
    "y_test=np.array(ytest)\n",
    "X_valid=np.array(Xtrain)\n",
    "y_valid=np.array(ytrain)\n",
    "print('X_train => ', X_train.shape)\n",
    "print('y_train => ', y_train.shape)\n",
    "print('X_test  => ', X_test.shape)\n",
    "print('y_test  => ', y_test.shape)\n",
    "print('X_valid  => ', X_valid.shape)\n",
    "print('y_valid  => ', y_valid.shape)"
   ]
  },
  {
   "cell_type": "code",
   "execution_count": 22,
   "metadata": {},
   "outputs": [],
   "source": [
    "y_train=np.array(y_train+1)\n",
    "y_test=np.array(y_test+1)\n",
    "y_valid=np.array(y_valid+1)"
   ]
  },
  {
   "cell_type": "code",
   "execution_count": 23,
   "metadata": {},
   "outputs": [],
   "source": [
    "y_train_cat=to_categorical(y_train)\n",
    "y_valid_cat=to_categorical(y_valid)\n",
    "y_test_cat=to_categorical(y_test)\n",
    "\n",
    "\n",
    "X_train = np.expand_dims(X_train, axis=2)\n",
    "X_valid = np.expand_dims(X_valid, axis=2)\n",
    "X_test = np.expand_dims(X_test, axis=2)\n",
    "#y_train=np.transpose([y_train])"
   ]
  },
  {
   "cell_type": "code",
   "execution_count": 24,
   "metadata": {
    "scrolled": true
   },
   "outputs": [
    {
     "name": "stdout",
     "output_type": "stream",
     "text": [
      "Epoch 1/1000\n",
      "26/26 [==============================] - 3s 23ms/step - loss: 1.4901 - accuracy: 0.2401 - val_loss: 1.4895 - val_accuracy: 0.2500\n",
      "Epoch 2/1000\n",
      "26/26 [==============================] - 0s 11ms/step - loss: 1.4194 - accuracy: 0.2500 - val_loss: 1.4097 - val_accuracy: 0.2500\n",
      "Epoch 3/1000\n",
      "26/26 [==============================] - 0s 11ms/step - loss: 1.4143 - accuracy: 0.2361 - val_loss: 1.3982 - val_accuracy: 0.2500\n",
      "Epoch 4/1000\n",
      "26/26 [==============================] - 0s 11ms/step - loss: 1.4027 - accuracy: 0.2123 - val_loss: 1.4068 - val_accuracy: 0.2500\n",
      "Epoch 5/1000\n",
      "26/26 [==============================] - 0s 11ms/step - loss: 1.4039 - accuracy: 0.2302 - val_loss: 1.3951 - val_accuracy: 0.2500\n",
      "Epoch 6/1000\n",
      "26/26 [==============================] - 0s 11ms/step - loss: 1.3931 - accuracy: 0.2817 - val_loss: 1.3911 - val_accuracy: 0.2500\n",
      "Epoch 7/1000\n",
      "26/26 [==============================] - 0s 11ms/step - loss: 1.3955 - accuracy: 0.2480 - val_loss: 1.3872 - val_accuracy: 0.2500\n",
      "Epoch 8/1000\n",
      "26/26 [==============================] - 0s 12ms/step - loss: 1.4008 - accuracy: 0.2480 - val_loss: 1.3817 - val_accuracy: 0.2798\n",
      "Epoch 9/1000\n",
      "26/26 [==============================] - 0s 12ms/step - loss: 1.3920 - accuracy: 0.2698 - val_loss: 1.4914 - val_accuracy: 0.2500\n",
      "Epoch 10/1000\n",
      "26/26 [==============================] - 0s 12ms/step - loss: 1.3945 - accuracy: 0.2778 - val_loss: 1.3867 - val_accuracy: 0.2500\n",
      "Epoch 11/1000\n",
      "26/26 [==============================] - 0s 12ms/step - loss: 1.3816 - accuracy: 0.2798 - val_loss: 1.3666 - val_accuracy: 0.2897\n",
      "Epoch 12/1000\n",
      "26/26 [==============================] - 0s 12ms/step - loss: 1.3690 - accuracy: 0.3075 - val_loss: 1.3716 - val_accuracy: 0.3115\n",
      "Epoch 13/1000\n",
      "26/26 [==============================] - 0s 12ms/step - loss: 1.3693 - accuracy: 0.2778 - val_loss: 1.3710 - val_accuracy: 0.3234\n",
      "Epoch 14/1000\n",
      "26/26 [==============================] - 0s 12ms/step - loss: 1.3644 - accuracy: 0.3234 - val_loss: 1.3366 - val_accuracy: 0.3433\n",
      "Epoch 15/1000\n",
      "26/26 [==============================] - 0s 12ms/step - loss: 1.3634 - accuracy: 0.2679 - val_loss: 1.3436 - val_accuracy: 0.3274\n",
      "Epoch 16/1000\n",
      "26/26 [==============================] - 0s 12ms/step - loss: 1.3542 - accuracy: 0.3313 - val_loss: 1.3490 - val_accuracy: 0.3790\n",
      "Epoch 17/1000\n",
      "26/26 [==============================] - 0s 11ms/step - loss: 1.3499 - accuracy: 0.3214 - val_loss: 1.3855 - val_accuracy: 0.3472\n",
      "Epoch 18/1000\n",
      "26/26 [==============================] - 0s 11ms/step - loss: 1.3496 - accuracy: 0.3274 - val_loss: 1.3403 - val_accuracy: 0.3135\n",
      "Epoch 19/1000\n",
      "26/26 [==============================] - 0s 11ms/step - loss: 1.3366 - accuracy: 0.3571 - val_loss: 1.3250 - val_accuracy: 0.3294\n",
      "Epoch 20/1000\n",
      "26/26 [==============================] - 0s 12ms/step - loss: 1.3353 - accuracy: 0.3333 - val_loss: 1.3137 - val_accuracy: 0.3274\n",
      "Epoch 21/1000\n",
      "26/26 [==============================] - 0s 12ms/step - loss: 1.3168 - accuracy: 0.3373 - val_loss: 1.4711 - val_accuracy: 0.3056\n",
      "Epoch 22/1000\n",
      "26/26 [==============================] - 0s 12ms/step - loss: 1.3245 - accuracy: 0.3353 - val_loss: 1.2928 - val_accuracy: 0.3512\n",
      "Epoch 23/1000\n",
      "26/26 [==============================] - 0s 12ms/step - loss: 1.3092 - accuracy: 0.3988 - val_loss: 1.2712 - val_accuracy: 0.3929\n",
      "Epoch 24/1000\n",
      "26/26 [==============================] - 0s 12ms/step - loss: 1.3088 - accuracy: 0.3849 - val_loss: 1.2989 - val_accuracy: 0.3671\n",
      "Epoch 25/1000\n",
      "26/26 [==============================] - 0s 12ms/step - loss: 1.2940 - accuracy: 0.3631 - val_loss: 1.2538 - val_accuracy: 0.4107\n",
      "Epoch 26/1000\n",
      "26/26 [==============================] - 0s 11ms/step - loss: 1.2704 - accuracy: 0.3948 - val_loss: 1.3983 - val_accuracy: 0.2837\n",
      "Epoch 27/1000\n",
      "26/26 [==============================] - 0s 12ms/step - loss: 1.2785 - accuracy: 0.3968 - val_loss: 1.2528 - val_accuracy: 0.4087\n",
      "Epoch 28/1000\n",
      "26/26 [==============================] - 0s 12ms/step - loss: 1.2542 - accuracy: 0.4266 - val_loss: 1.2251 - val_accuracy: 0.4008\n",
      "Epoch 29/1000\n",
      "26/26 [==============================] - 0s 12ms/step - loss: 1.2439 - accuracy: 0.4345 - val_loss: 1.1661 - val_accuracy: 0.4623\n",
      "Epoch 30/1000\n",
      "26/26 [==============================] - 0s 12ms/step - loss: 1.2248 - accuracy: 0.4345 - val_loss: 1.4115 - val_accuracy: 0.3313\n",
      "Epoch 31/1000\n",
      "26/26 [==============================] - 0s 12ms/step - loss: 1.2130 - accuracy: 0.4325 - val_loss: 1.2270 - val_accuracy: 0.4067\n",
      "Epoch 32/1000\n",
      "26/26 [==============================] - 0s 12ms/step - loss: 1.1812 - accuracy: 0.4643 - val_loss: 1.2408 - val_accuracy: 0.4563\n",
      "Epoch 33/1000\n",
      "26/26 [==============================] - 0s 11ms/step - loss: 1.1660 - accuracy: 0.4821 - val_loss: 1.2863 - val_accuracy: 0.3829\n",
      "Epoch 34/1000\n",
      "26/26 [==============================] - 0s 11ms/step - loss: 1.1472 - accuracy: 0.4881 - val_loss: 1.2231 - val_accuracy: 0.4563\n",
      "Epoch 35/1000\n",
      "26/26 [==============================] - 0s 12ms/step - loss: 1.1105 - accuracy: 0.4861 - val_loss: 1.0604 - val_accuracy: 0.5516\n",
      "Epoch 36/1000\n",
      "26/26 [==============================] - 0s 12ms/step - loss: 1.0861 - accuracy: 0.5060 - val_loss: 1.6185 - val_accuracy: 0.3591\n",
      "Epoch 37/1000\n",
      "26/26 [==============================] - 0s 12ms/step - loss: 1.0994 - accuracy: 0.5060 - val_loss: 1.1614 - val_accuracy: 0.4345\n",
      "Epoch 38/1000\n",
      "26/26 [==============================] - 0s 12ms/step - loss: 1.0237 - accuracy: 0.5317 - val_loss: 1.3031 - val_accuracy: 0.3869\n",
      "Epoch 39/1000\n",
      "26/26 [==============================] - 0s 12ms/step - loss: 1.1017 - accuracy: 0.4881 - val_loss: 1.0893 - val_accuracy: 0.4821\n",
      "Epoch 40/1000\n",
      "26/26 [==============================] - 0s 12ms/step - loss: 1.0319 - accuracy: 0.5159 - val_loss: 0.9927 - val_accuracy: 0.5317\n",
      "Epoch 41/1000\n",
      "26/26 [==============================] - 0s 12ms/step - loss: 1.0099 - accuracy: 0.5476 - val_loss: 1.5541 - val_accuracy: 0.3571\n",
      "Epoch 42/1000\n",
      "26/26 [==============================] - 0s 12ms/step - loss: 1.0206 - accuracy: 0.5456 - val_loss: 1.0170 - val_accuracy: 0.5179\n",
      "Epoch 43/1000\n",
      "26/26 [==============================] - 0s 12ms/step - loss: 0.9743 - accuracy: 0.5813 - val_loss: 1.0104 - val_accuracy: 0.5575\n",
      "Epoch 44/1000\n",
      "26/26 [==============================] - 0s 12ms/step - loss: 0.9688 - accuracy: 0.5952 - val_loss: 0.7742 - val_accuracy: 0.6845\n",
      "Epoch 45/1000\n",
      "26/26 [==============================] - 0s 11ms/step - loss: 0.9674 - accuracy: 0.5813 - val_loss: 0.9593 - val_accuracy: 0.5794\n",
      "Epoch 46/1000\n",
      "26/26 [==============================] - 0s 11ms/step - loss: 0.9052 - accuracy: 0.6091 - val_loss: 0.7697 - val_accuracy: 0.6310\n",
      "Epoch 47/1000\n",
      "26/26 [==============================] - 0s 11ms/step - loss: 0.9221 - accuracy: 0.5714 - val_loss: 0.8352 - val_accuracy: 0.6230\n",
      "Epoch 48/1000\n",
      "26/26 [==============================] - 0s 11ms/step - loss: 0.8744 - accuracy: 0.6290 - val_loss: 0.9756 - val_accuracy: 0.5635\n",
      "Epoch 49/1000\n",
      "26/26 [==============================] - 0s 11ms/step - loss: 0.9352 - accuracy: 0.6151 - val_loss: 1.0916 - val_accuracy: 0.4821\n",
      "Epoch 50/1000\n",
      "26/26 [==============================] - 0s 12ms/step - loss: 0.8347 - accuracy: 0.6726 - val_loss: 0.6532 - val_accuracy: 0.7163\n",
      "Epoch 51/1000\n",
      "26/26 [==============================] - 0s 12ms/step - loss: 0.8464 - accuracy: 0.6488 - val_loss: 0.7098 - val_accuracy: 0.7202\n",
      "Epoch 52/1000\n",
      "26/26 [==============================] - 0s 12ms/step - loss: 0.8117 - accuracy: 0.6429 - val_loss: 0.8693 - val_accuracy: 0.6032\n",
      "Epoch 53/1000\n",
      "26/26 [==============================] - 0s 12ms/step - loss: 0.7740 - accuracy: 0.6706 - val_loss: 0.6291 - val_accuracy: 0.7183\n",
      "Epoch 54/1000\n",
      "26/26 [==============================] - 0s 11ms/step - loss: 0.7729 - accuracy: 0.6726 - val_loss: 1.2801 - val_accuracy: 0.4702\n",
      "Epoch 55/1000\n",
      "26/26 [==============================] - 0s 12ms/step - loss: 0.7850 - accuracy: 0.6647 - val_loss: 1.7938 - val_accuracy: 0.4504\n",
      "Epoch 56/1000\n",
      "26/26 [==============================] - 0s 12ms/step - loss: 0.7528 - accuracy: 0.6865 - val_loss: 0.5937 - val_accuracy: 0.7421\n",
      "Epoch 57/1000\n",
      "26/26 [==============================] - 0s 12ms/step - loss: 0.7260 - accuracy: 0.6865 - val_loss: 0.5468 - val_accuracy: 0.7619\n"
     ]
    },
    {
     "name": "stdout",
     "output_type": "stream",
     "text": [
      "Epoch 58/1000\n",
      "26/26 [==============================] - 0s 12ms/step - loss: 0.7184 - accuracy: 0.6766 - val_loss: 0.6937 - val_accuracy: 0.6905\n",
      "Epoch 59/1000\n",
      "26/26 [==============================] - 0s 12ms/step - loss: 0.7070 - accuracy: 0.7440 - val_loss: 0.7519 - val_accuracy: 0.6806\n",
      "Epoch 60/1000\n",
      "26/26 [==============================] - 0s 11ms/step - loss: 0.6702 - accuracy: 0.7004 - val_loss: 1.6500 - val_accuracy: 0.4464\n",
      "Epoch 61/1000\n",
      "26/26 [==============================] - 0s 12ms/step - loss: 0.7135 - accuracy: 0.6845 - val_loss: 0.9453 - val_accuracy: 0.5655\n",
      "Epoch 62/1000\n",
      "26/26 [==============================] - 0s 11ms/step - loss: 0.6954 - accuracy: 0.6885 - val_loss: 0.8220 - val_accuracy: 0.6409\n",
      "Epoch 63/1000\n",
      "26/26 [==============================] - 0s 11ms/step - loss: 0.6475 - accuracy: 0.7341 - val_loss: 0.6677 - val_accuracy: 0.7024\n",
      "Epoch 64/1000\n",
      "26/26 [==============================] - 0s 12ms/step - loss: 0.6353 - accuracy: 0.7440 - val_loss: 1.0067 - val_accuracy: 0.5714\n",
      "Epoch 65/1000\n",
      "26/26 [==============================] - 0s 12ms/step - loss: 0.6513 - accuracy: 0.7381 - val_loss: 0.4518 - val_accuracy: 0.8135\n",
      "Epoch 66/1000\n",
      "26/26 [==============================] - 0s 12ms/step - loss: 0.6363 - accuracy: 0.7401 - val_loss: 0.7017 - val_accuracy: 0.6865\n",
      "Epoch 67/1000\n",
      "26/26 [==============================] - 0s 12ms/step - loss: 0.5799 - accuracy: 0.7421 - val_loss: 0.4712 - val_accuracy: 0.8194\n",
      "Epoch 68/1000\n",
      "26/26 [==============================] - 0s 11ms/step - loss: 0.5147 - accuracy: 0.7778 - val_loss: 0.7146 - val_accuracy: 0.6647\n",
      "Epoch 69/1000\n",
      "26/26 [==============================] - 0s 12ms/step - loss: 0.5499 - accuracy: 0.7599 - val_loss: 0.9609 - val_accuracy: 0.6468\n",
      "Epoch 70/1000\n",
      "26/26 [==============================] - 0s 12ms/step - loss: 0.6117 - accuracy: 0.7321 - val_loss: 0.4887 - val_accuracy: 0.7917\n",
      "Epoch 71/1000\n",
      "26/26 [==============================] - 0s 12ms/step - loss: 0.5493 - accuracy: 0.7679 - val_loss: 0.3715 - val_accuracy: 0.8770\n",
      "Epoch 72/1000\n",
      "26/26 [==============================] - 0s 11ms/step - loss: 0.5380 - accuracy: 0.7659 - val_loss: 0.9991 - val_accuracy: 0.6230\n",
      "Epoch 73/1000\n",
      "26/26 [==============================] - 0s 11ms/step - loss: 0.4845 - accuracy: 0.7798 - val_loss: 0.9722 - val_accuracy: 0.5734\n",
      "Epoch 74/1000\n",
      "26/26 [==============================] - 0s 11ms/step - loss: 0.4738 - accuracy: 0.8234 - val_loss: 1.5279 - val_accuracy: 0.5079\n",
      "Epoch 75/1000\n",
      "26/26 [==============================] - 0s 12ms/step - loss: 0.4701 - accuracy: 0.7996 - val_loss: 0.5360 - val_accuracy: 0.7540\n",
      "Epoch 76/1000\n",
      "26/26 [==============================] - 0s 12ms/step - loss: 0.5309 - accuracy: 0.7897 - val_loss: 0.5782 - val_accuracy: 0.7619\n",
      "Epoch 77/1000\n",
      "26/26 [==============================] - 0s 11ms/step - loss: 0.4292 - accuracy: 0.8214 - val_loss: 0.5132 - val_accuracy: 0.7579\n",
      "Epoch 78/1000\n",
      "26/26 [==============================] - 0s 11ms/step - loss: 0.4935 - accuracy: 0.7976 - val_loss: 0.6058 - val_accuracy: 0.7698\n",
      "Epoch 79/1000\n",
      "26/26 [==============================] - 0s 12ms/step - loss: 0.4867 - accuracy: 0.8075 - val_loss: 0.3623 - val_accuracy: 0.8512\n",
      "Epoch 80/1000\n",
      "26/26 [==============================] - 0s 11ms/step - loss: 0.3745 - accuracy: 0.8472 - val_loss: 0.6110 - val_accuracy: 0.7798\n",
      "Epoch 81/1000\n",
      "26/26 [==============================] - 0s 12ms/step - loss: 0.5401 - accuracy: 0.7817 - val_loss: 0.4463 - val_accuracy: 0.8135\n",
      "Epoch 82/1000\n",
      "26/26 [==============================] - 0s 12ms/step - loss: 0.3865 - accuracy: 0.8452 - val_loss: 0.3644 - val_accuracy: 0.8373\n",
      "Epoch 83/1000\n",
      "26/26 [==============================] - 0s 12ms/step - loss: 0.4218 - accuracy: 0.8294 - val_loss: 0.3043 - val_accuracy: 0.9048\n",
      "Epoch 84/1000\n",
      "26/26 [==============================] - 0s 12ms/step - loss: 0.3828 - accuracy: 0.8552 - val_loss: 0.7382 - val_accuracy: 0.7520\n",
      "Epoch 85/1000\n",
      "26/26 [==============================] - 0s 12ms/step - loss: 0.3850 - accuracy: 0.8452 - val_loss: 0.4427 - val_accuracy: 0.8254\n",
      "Epoch 86/1000\n",
      "26/26 [==============================] - 0s 12ms/step - loss: 0.4056 - accuracy: 0.8393 - val_loss: 0.5823 - val_accuracy: 0.7679\n",
      "Epoch 87/1000\n",
      "26/26 [==============================] - 0s 12ms/step - loss: 0.4394 - accuracy: 0.8075 - val_loss: 0.9207 - val_accuracy: 0.6607\n",
      "Epoch 88/1000\n",
      "26/26 [==============================] - 0s 12ms/step - loss: 0.3558 - accuracy: 0.8552 - val_loss: 0.1832 - val_accuracy: 0.9345\n",
      "Epoch 89/1000\n",
      "26/26 [==============================] - 0s 12ms/step - loss: 0.3537 - accuracy: 0.8651 - val_loss: 0.7064 - val_accuracy: 0.7381\n",
      "Epoch 90/1000\n",
      "26/26 [==============================] - 0s 12ms/step - loss: 0.3733 - accuracy: 0.8710 - val_loss: 0.5553 - val_accuracy: 0.7460\n",
      "Epoch 91/1000\n",
      "26/26 [==============================] - 0s 12ms/step - loss: 0.3703 - accuracy: 0.8452 - val_loss: 0.3433 - val_accuracy: 0.8393\n",
      "Epoch 92/1000\n",
      "26/26 [==============================] - 0s 12ms/step - loss: 0.2664 - accuracy: 0.8849 - val_loss: 0.6402 - val_accuracy: 0.7520\n",
      "Epoch 93/1000\n",
      "26/26 [==============================] - 0s 12ms/step - loss: 0.3648 - accuracy: 0.8611 - val_loss: 0.6665 - val_accuracy: 0.7698\n",
      "Epoch 94/1000\n",
      "26/26 [==============================] - 0s 11ms/step - loss: 0.3156 - accuracy: 0.8889 - val_loss: 0.6371 - val_accuracy: 0.6944\n",
      "Epoch 95/1000\n",
      "26/26 [==============================] - 0s 12ms/step - loss: 0.3417 - accuracy: 0.8790 - val_loss: 0.1597 - val_accuracy: 0.9444\n",
      "Epoch 96/1000\n",
      "26/26 [==============================] - 0s 12ms/step - loss: 0.3058 - accuracy: 0.8750 - val_loss: 0.3242 - val_accuracy: 0.8571\n",
      "Epoch 97/1000\n",
      "26/26 [==============================] - 0s 12ms/step - loss: 0.3020 - accuracy: 0.8849 - val_loss: 0.1310 - val_accuracy: 0.9603\n",
      "Epoch 98/1000\n",
      "26/26 [==============================] - 0s 12ms/step - loss: 0.3219 - accuracy: 0.8869 - val_loss: 0.1576 - val_accuracy: 0.9306\n",
      "Epoch 99/1000\n",
      "26/26 [==============================] - 0s 11ms/step - loss: 0.3862 - accuracy: 0.8690 - val_loss: 0.2455 - val_accuracy: 0.9048\n",
      "Epoch 100/1000\n",
      "26/26 [==============================] - 0s 12ms/step - loss: 0.2421 - accuracy: 0.9127 - val_loss: 0.1341 - val_accuracy: 0.9683\n",
      "Epoch 101/1000\n",
      "26/26 [==============================] - 0s 12ms/step - loss: 0.2667 - accuracy: 0.9028 - val_loss: 0.2320 - val_accuracy: 0.8988\n",
      "Epoch 102/1000\n",
      "26/26 [==============================] - 0s 11ms/step - loss: 0.3129 - accuracy: 0.8750 - val_loss: 0.6135 - val_accuracy: 0.7520\n",
      "Epoch 103/1000\n",
      "26/26 [==============================] - 0s 11ms/step - loss: 0.4134 - accuracy: 0.8452 - val_loss: 0.2133 - val_accuracy: 0.9107\n",
      "Epoch 104/1000\n",
      "26/26 [==============================] - 0s 12ms/step - loss: 0.2336 - accuracy: 0.9107 - val_loss: 0.1859 - val_accuracy: 0.9266\n",
      "Epoch 105/1000\n",
      "26/26 [==============================] - 0s 12ms/step - loss: 0.3078 - accuracy: 0.8889 - val_loss: 0.2358 - val_accuracy: 0.9167\n",
      "Epoch 106/1000\n",
      "26/26 [==============================] - 0s 12ms/step - loss: 0.2877 - accuracy: 0.9028 - val_loss: 0.3094 - val_accuracy: 0.8710\n",
      "Epoch 107/1000\n",
      "26/26 [==============================] - 0s 12ms/step - loss: 0.2194 - accuracy: 0.9246 - val_loss: 0.9506 - val_accuracy: 0.6171\n",
      "Epoch 108/1000\n",
      "26/26 [==============================] - 0s 11ms/step - loss: 0.2199 - accuracy: 0.9048 - val_loss: 0.2738 - val_accuracy: 0.8869\n",
      "Epoch 109/1000\n",
      "26/26 [==============================] - 0s 12ms/step - loss: 0.2484 - accuracy: 0.9067 - val_loss: 0.0793 - val_accuracy: 0.9901\n",
      "Epoch 110/1000\n",
      "26/26 [==============================] - 0s 12ms/step - loss: 0.2080 - accuracy: 0.9226 - val_loss: 0.1407 - val_accuracy: 0.9345\n",
      "Epoch 111/1000\n",
      "26/26 [==============================] - 0s 12ms/step - loss: 0.3248 - accuracy: 0.8651 - val_loss: 0.1181 - val_accuracy: 0.9702\n",
      "Epoch 112/1000\n",
      "26/26 [==============================] - 0s 12ms/step - loss: 0.2723 - accuracy: 0.8889 - val_loss: 0.3290 - val_accuracy: 0.8690\n",
      "Epoch 113/1000\n",
      "26/26 [==============================] - 0s 12ms/step - loss: 0.1889 - accuracy: 0.9167 - val_loss: 0.2311 - val_accuracy: 0.8929\n",
      "Epoch 114/1000\n",
      "26/26 [==============================] - 0s 12ms/step - loss: 0.2180 - accuracy: 0.8968 - val_loss: 0.1283 - val_accuracy: 0.9563\n"
     ]
    },
    {
     "name": "stdout",
     "output_type": "stream",
     "text": [
      "Epoch 115/1000\n",
      "26/26 [==============================] - 0s 12ms/step - loss: 0.2481 - accuracy: 0.9028 - val_loss: 0.7565 - val_accuracy: 0.7103\n",
      "Epoch 116/1000\n",
      "26/26 [==============================] - 0s 12ms/step - loss: 0.2836 - accuracy: 0.9048 - val_loss: 0.0704 - val_accuracy: 0.9901\n",
      "Epoch 117/1000\n",
      "26/26 [==============================] - 0s 12ms/step - loss: 0.2183 - accuracy: 0.9167 - val_loss: 0.1774 - val_accuracy: 0.9187\n",
      "Epoch 118/1000\n",
      "26/26 [==============================] - 0s 11ms/step - loss: 0.2436 - accuracy: 0.9087 - val_loss: 0.2024 - val_accuracy: 0.9405\n",
      "Epoch 119/1000\n",
      "26/26 [==============================] - 0s 11ms/step - loss: 0.2057 - accuracy: 0.9226 - val_loss: 0.2343 - val_accuracy: 0.9067\n",
      "Epoch 120/1000\n",
      "26/26 [==============================] - 0s 11ms/step - loss: 0.2633 - accuracy: 0.9067 - val_loss: 0.9115 - val_accuracy: 0.7024\n",
      "Epoch 121/1000\n",
      "26/26 [==============================] - 0s 11ms/step - loss: 0.2326 - accuracy: 0.9226 - val_loss: 0.1011 - val_accuracy: 0.9663\n",
      "Epoch 122/1000\n",
      "26/26 [==============================] - 0s 12ms/step - loss: 0.1797 - accuracy: 0.9345 - val_loss: 0.6632 - val_accuracy: 0.7639\n",
      "Epoch 123/1000\n",
      "26/26 [==============================] - 0s 12ms/step - loss: 0.2314 - accuracy: 0.9187 - val_loss: 0.1156 - val_accuracy: 0.9563\n",
      "Epoch 124/1000\n",
      "26/26 [==============================] - 0s 12ms/step - loss: 0.2231 - accuracy: 0.9107 - val_loss: 0.0835 - val_accuracy: 0.9663\n",
      "Epoch 125/1000\n",
      "26/26 [==============================] - 0s 12ms/step - loss: 0.1231 - accuracy: 0.9583 - val_loss: 0.1114 - val_accuracy: 0.9544\n",
      "Epoch 126/1000\n",
      "26/26 [==============================] - 0s 12ms/step - loss: 0.2987 - accuracy: 0.9107 - val_loss: 0.0528 - val_accuracy: 0.9881\n",
      "Epoch 127/1000\n",
      "26/26 [==============================] - 0s 12ms/step - loss: 0.2321 - accuracy: 0.9167 - val_loss: 0.3157 - val_accuracy: 0.8790\n",
      "Epoch 128/1000\n",
      "26/26 [==============================] - 0s 12ms/step - loss: 0.1634 - accuracy: 0.9345 - val_loss: 1.1971 - val_accuracy: 0.7540\n",
      "Epoch 129/1000\n",
      "26/26 [==============================] - 0s 12ms/step - loss: 0.2300 - accuracy: 0.9306 - val_loss: 3.0648 - val_accuracy: 0.6270\n",
      "26/26 [==============================] - 0s 3ms/step - loss: 0.0793 - accuracy: 0.9901\n",
      "np.shape(X_test)= (500, 480, 1)\n",
      "Model: \"sequential\"\n",
      "_________________________________________________________________\n",
      " Layer (type)                Output Shape              Param #   \n",
      "=================================================================\n",
      " conv1d (Conv1D)             (None, 478, 32)           128       \n",
      "                                                                 \n",
      " conv1d_1 (Conv1D)           (None, 476, 64)           6208      \n",
      "                                                                 \n",
      " max_pooling1d (MaxPooling1D  (None, 158, 64)          0         \n",
      " )                                                               \n",
      "                                                                 \n",
      " conv1d_2 (Conv1D)           (None, 156, 128)          24704     \n",
      "                                                                 \n",
      " max_pooling1d_1 (MaxPooling  (None, 52, 128)          0         \n",
      " 1D)                                                             \n",
      "                                                                 \n",
      " conv1d_3 (Conv1D)           (None, 50, 128)           49280     \n",
      "                                                                 \n",
      " max_pooling1d_2 (MaxPooling  (None, 16, 128)          0         \n",
      " 1D)                                                             \n",
      "                                                                 \n",
      " conv1d_4 (Conv1D)           (None, 14, 256)           98560     \n",
      "                                                                 \n",
      " max_pooling1d_3 (MaxPooling  (None, 4, 256)           0         \n",
      " 1D)                                                             \n",
      "                                                                 \n",
      " flatten (Flatten)           (None, 1024)              0         \n",
      "                                                                 \n",
      " dense (Dense)               (None, 2000)              2050000   \n",
      "                                                                 \n",
      " dense_1 (Dense)             (None, 6)                 12006     \n",
      "                                                                 \n",
      "=================================================================\n",
      "Total params: 2,240,886\n",
      "Trainable params: 2,240,886\n",
      "Non-trainable params: 0\n",
      "_________________________________________________________________\n",
      "Accuracy=  0.9900793433189392\n"
     ]
    }
   ],
   "source": [
    "accuracy=0\n",
    "acc_crs=np.array([])\n",
    "##for i in range (10):\n",
    "##    if accuracy<0.2 :\n",
    "\n",
    "verbose, epochs, batch_size = 1, 1000, btch\n",
    "n_timesteps, n_features, n_outputs = X_train.shape[1], X_train.shape[2], y_train_cat.shape[1]\n",
    "steps_per_epoch = len(X_train)//batch_size\n",
    "validation_steps = len(X_valid)//batch_size # if you have test data\n",
    "\n",
    "model_crs = Sequential()\n",
    "BatchNormalization()\n",
    "model_crs.add(Conv1D(filters=32, kernel_size=3, activation='relu', input_shape=(n_timesteps,n_features)))\n",
    "#model_crs.add(MaxPooling1D(pool_size=3))\n",
    "BatchNormalization()\n",
    "model_crs.add(Conv1D(filters=64, kernel_size=3, activation='relu'))\n",
    "#model_crs.add(Dropout(0.5))\n",
    "model_crs.add(MaxPooling1D(pool_size=3))\n",
    "BatchNormalization()\n",
    "model_crs.add(Conv1D(filters=128, kernel_size=3, activation='relu'))\n",
    "model_crs.add(MaxPooling1D(pool_size=3))\n",
    "BatchNormalization()\n",
    "model_crs.add(Conv1D(filters=128, kernel_size=3, activation='relu'))\n",
    "model_crs.add(MaxPooling1D(pool_size=3))\n",
    "BatchNormalization()\n",
    "model_crs.add(Conv1D(filters=256, kernel_size=3, activation='relu'))\n",
    "model_crs.add(MaxPooling1D(pool_size=3))\n",
    "'''model_crs.add(Conv1D(filters=512, kernel_size=3, activation='relu'))\n",
    "model_crs.add(MaxPooling1D(pool_size=3))\n",
    "model_crs.add(Conv1D(filters=1024, kernel_size=3, activation='relu'))\n",
    "model_crs.add(MaxPooling1D(pool_size=3))\n",
    "'''\n",
    "model_crs.add(Flatten())\n",
    "#model_crs.add(Dropout(0.5))\n",
    "model_crs.add(Dense(2000, activation='relu'))\n",
    "model_crs.add(Dense(n_outputs, activation='softmax'))\n",
    "model_crs.compile(optimizer='rmsprop', loss='categorical_crossentropy', metrics=['accuracy'])\n",
    "# fit network   #CategoricalCrossentropy #sparse_categorical_crossentropy #SparseCategoricalCrossentropy\n",
    "\n",
    "earlystopping = callbacks.EarlyStopping(monitor =\"val_accuracy\", mode =\"max\", patience = 20, restore_best_weights = True)\n",
    "\n",
    "model_crs.fit(X_train, y_train_cat, epochs=epochs, batch_size=batch_size, verbose=verbose, validation_data = (X_valid, y_valid_cat), callbacks =[earlystopping])\n",
    "# evaluate model_crs\n",
    "_, accuracy = model_crs.evaluate(X_valid, y_valid_cat, batch_size=batch_size, verbose=1)\n",
    "\n",
    "print('np.shape(X_test)=',np.shape(X_test))\n",
    "\n",
    "\n",
    "model_crs.summary()\n",
    "print('Accuracy= ', accuracy)\n",
    "\n",
    "#output = K.function([model_crs.layers[0].input],[model_crs.layers[3].output])\n",
    "#output(X_test)[0]\n",
    "#y_pred= model_crs.predict(X_test)                # Function 1\n",
    "\n",
    "##    print('Round ', i, '==>', 'accuracy = ', accuracy)\n",
    "##    acc_crs=np.append(acc_crs,accuracy)\n",
    "#y_pred_crs = model_crs.predict_classes(X_test)   # Function 2"
   ]
  },
  {
   "cell_type": "code",
   "execution_count": 25,
   "metadata": {},
   "outputs": [],
   "source": [
    "def maxindx(ar):\n",
    "    ar_cpy=np.array(ar)\n",
    "    pred=np.argmax(ar,axis=1)\n",
    "    for i in range (len(pred)):\n",
    "        if pred[i]==0:\n",
    "            ar_cpy[i,0]=-1000\n",
    "    pred=np.argmax(ar_cpy,axis=1)\n",
    "    return(pred)"
   ]
  },
  {
   "cell_type": "code",
   "execution_count": 26,
   "metadata": {},
   "outputs": [
    {
     "name": "stdout",
     "output_type": "stream",
     "text": [
      "16/16 [==============================] - 0s 2ms/step\n",
      "array([[ 73,  40,  11,   2],\n",
      "       [ 32,  47,  39,   6],\n",
      "       [ 10,  28,  56,  32],\n",
      "       [  2,   5,  12, 105]], dtype=int64)\n",
      "              precision    recall  f1-score   support\n",
      "\n",
      "           2       0.62      0.58      0.60       126\n",
      "           3       0.39      0.38      0.39       124\n",
      "           4       0.47      0.44      0.46       126\n",
      "           5       0.72      0.85      0.78       124\n",
      "\n",
      "    accuracy                           0.56       500\n",
      "   macro avg       0.55      0.56      0.56       500\n",
      "weighted avg       0.55      0.56      0.56       500\n",
      "\n"
     ]
    }
   ],
   "source": [
    "predict_x=model_crs.predict(X_test)              # Function 1\n",
    "\n",
    "y_pred_crs=maxindx(predict_x)                    # function from augment.py to remove 0 index predictions\n",
    "\n",
    "#y_pred_crs = model_crs.predict_classes(X_test)\n",
    "\n",
    "cm = confusion_matrix(y_test, y_pred_crs)\n",
    "fullprint(cm)\n",
    "acc3=accuracy_score(y_test, y_pred_crs)\n",
    "\n",
    "print(classification_report(y_test, y_pred_crs))\n",
    "\n",
    "#sns.heatmap(cm, annot=True)\n",
    "\n",
    "#plt.imshow(cm)"
   ]
  },
  {
   "cell_type": "code",
   "execution_count": 27,
   "metadata": {},
   "outputs": [
    {
     "name": "stdout",
     "output_type": "stream",
     "text": [
      "Epoch 1/1000\n",
      "26/26 [==============================] - 2s 26ms/step - loss: 1.5306 - accuracy: 0.2123 - val_loss: 1.4317 - val_accuracy: 0.2500\n",
      "Epoch 2/1000\n",
      "26/26 [==============================] - 0s 13ms/step - loss: 1.4173 - accuracy: 0.2242 - val_loss: 1.4633 - val_accuracy: 0.2500\n",
      "Epoch 3/1000\n",
      "26/26 [==============================] - 0s 13ms/step - loss: 1.4029 - accuracy: 0.2440 - val_loss: 1.5853 - val_accuracy: 0.2500\n",
      "Epoch 4/1000\n",
      "26/26 [==============================] - 0s 13ms/step - loss: 1.4180 - accuracy: 0.2183 - val_loss: 1.3985 - val_accuracy: 0.2500\n",
      "Epoch 5/1000\n",
      "26/26 [==============================] - 0s 13ms/step - loss: 1.4008 - accuracy: 0.2163 - val_loss: 1.3922 - val_accuracy: 0.2500\n",
      "Epoch 6/1000\n",
      "26/26 [==============================] - 0s 13ms/step - loss: 1.3990 - accuracy: 0.2421 - val_loss: 1.3904 - val_accuracy: 0.2500\n",
      "Epoch 7/1000\n",
      "26/26 [==============================] - 0s 13ms/step - loss: 1.3974 - accuracy: 0.2679 - val_loss: 1.3940 - val_accuracy: 0.2500\n",
      "Epoch 8/1000\n",
      "26/26 [==============================] - 0s 13ms/step - loss: 1.3949 - accuracy: 0.2460 - val_loss: 1.4180 - val_accuracy: 0.2500\n",
      "Epoch 9/1000\n",
      "26/26 [==============================] - 0s 13ms/step - loss: 1.3976 - accuracy: 0.2262 - val_loss: 1.3889 - val_accuracy: 0.2500\n",
      "Epoch 10/1000\n",
      "26/26 [==============================] - 0s 13ms/step - loss: 1.3971 - accuracy: 0.2480 - val_loss: 1.3911 - val_accuracy: 0.2500\n",
      "Epoch 11/1000\n",
      "26/26 [==============================] - 0s 13ms/step - loss: 1.3943 - accuracy: 0.2083 - val_loss: 1.3911 - val_accuracy: 0.2500\n",
      "Epoch 12/1000\n",
      "26/26 [==============================] - 0s 13ms/step - loss: 1.3931 - accuracy: 0.2560 - val_loss: 1.3904 - val_accuracy: 0.2500\n",
      "Epoch 13/1000\n",
      "26/26 [==============================] - 0s 13ms/step - loss: 1.3917 - accuracy: 0.2242 - val_loss: 1.3901 - val_accuracy: 0.2500\n",
      "Epoch 14/1000\n",
      "26/26 [==============================] - 0s 13ms/step - loss: 1.3930 - accuracy: 0.2302 - val_loss: 1.3903 - val_accuracy: 0.2500\n",
      "Epoch 15/1000\n",
      "26/26 [==============================] - 0s 13ms/step - loss: 1.3919 - accuracy: 0.2341 - val_loss: 1.3901 - val_accuracy: 0.2500\n",
      "Epoch 16/1000\n",
      "26/26 [==============================] - 0s 13ms/step - loss: 1.3903 - accuracy: 0.2560 - val_loss: 1.3882 - val_accuracy: 0.2500\n",
      "Epoch 17/1000\n",
      "26/26 [==============================] - 0s 13ms/step - loss: 1.3909 - accuracy: 0.2262 - val_loss: 1.3875 - val_accuracy: 0.2500\n",
      "Epoch 18/1000\n",
      "26/26 [==============================] - 0s 13ms/step - loss: 1.3916 - accuracy: 0.2282 - val_loss: 1.3869 - val_accuracy: 0.2500\n",
      "Epoch 19/1000\n",
      "26/26 [==============================] - 0s 13ms/step - loss: 1.3908 - accuracy: 0.2202 - val_loss: 1.3882 - val_accuracy: 0.2500\n",
      "Epoch 20/1000\n",
      "26/26 [==============================] - 0s 13ms/step - loss: 1.3921 - accuracy: 0.2183 - val_loss: 1.3874 - val_accuracy: 0.2500\n",
      "Epoch 21/1000\n",
      "26/26 [==============================] - 0s 13ms/step - loss: 1.3902 - accuracy: 0.2361 - val_loss: 1.3875 - val_accuracy: 0.2500\n",
      "26/26 [==============================] - 0s 3ms/step - loss: 1.4317 - accuracy: 0.2500\n",
      "np.shape(X_test)= (500, 480, 1)\n",
      "Model: \"sequential_1\"\n",
      "_________________________________________________________________\n",
      " Layer (type)                Output Shape              Param #   \n",
      "=================================================================\n",
      " conv1d_5 (Conv1D)           (None, 478, 64)           256       \n",
      "                                                                 \n",
      " conv1d_6 (Conv1D)           (None, 476, 128)          24704     \n",
      "                                                                 \n",
      " max_pooling1d_4 (MaxPooling  (None, 158, 128)         0         \n",
      " 1D)                                                             \n",
      "                                                                 \n",
      " conv1d_7 (Conv1D)           (None, 156, 256)          98560     \n",
      "                                                                 \n",
      " max_pooling1d_5 (MaxPooling  (None, 52, 256)          0         \n",
      " 1D)                                                             \n",
      "                                                                 \n",
      " conv1d_8 (Conv1D)           (None, 50, 256)           196864    \n",
      "                                                                 \n",
      " max_pooling1d_6 (MaxPooling  (None, 16, 256)          0         \n",
      " 1D)                                                             \n",
      "                                                                 \n",
      " conv1d_9 (Conv1D)           (None, 14, 512)           393728    \n",
      "                                                                 \n",
      " max_pooling1d_7 (MaxPooling  (None, 4, 512)           0         \n",
      " 1D)                                                             \n",
      "                                                                 \n",
      " flatten_1 (Flatten)         (None, 2048)              0         \n",
      "                                                                 \n",
      " dense_2 (Dense)             (None, 2000)              4098000   \n",
      "                                                                 \n",
      " dense_3 (Dense)             (None, 6)                 12006     \n",
      "                                                                 \n",
      "=================================================================\n",
      "Total params: 4,824,118\n",
      "Trainable params: 4,824,118\n",
      "Non-trainable params: 0\n",
      "_________________________________________________________________\n",
      "Accuracy=  0.25\n"
     ]
    }
   ],
   "source": [
    "accuracy=0\n",
    "acc_crs=np.array([])\n",
    "##for i in range (10):\n",
    "##    if accuracy<0.2 :\n",
    "\n",
    "verbose, epochs, batch_size = 1, 1000, btch\n",
    "n_timesteps, n_features, n_outputs = X_train.shape[1], X_train.shape[2], y_train_cat.shape[1]\n",
    "steps_per_epoch = len(X_train)//batch_size\n",
    "validation_steps = len(X_valid)//batch_size # if you have test data\n",
    "\n",
    "model_crs = Sequential()\n",
    "BatchNormalization()\n",
    "model_crs.add(Conv1D(filters=64, kernel_size=3, activation='relu', input_shape=(n_timesteps,n_features)))\n",
    "#model_crs.add(MaxPooling1D(pool_size=3))\n",
    "BatchNormalization()\n",
    "model_crs.add(Conv1D(filters=128, kernel_size=3, activation='relu'))\n",
    "#model_crs.add(Dropout(0.5))\n",
    "model_crs.add(MaxPooling1D(pool_size=3))\n",
    "BatchNormalization()\n",
    "model_crs.add(Conv1D(filters=256, kernel_size=3, activation='relu'))\n",
    "model_crs.add(MaxPooling1D(pool_size=3))\n",
    "BatchNormalization()\n",
    "model_crs.add(Conv1D(filters=256, kernel_size=3, activation='relu'))\n",
    "model_crs.add(MaxPooling1D(pool_size=3))\n",
    "BatchNormalization()\n",
    "model_crs.add(Conv1D(filters=512, kernel_size=3, activation='relu'))\n",
    "model_crs.add(MaxPooling1D(pool_size=3))\n",
    "'''model_crs.add(Conv1D(filters=512, kernel_size=3, activation='relu'))\n",
    "model_crs.add(MaxPooling1D(pool_size=3))\n",
    "model_crs.add(Conv1D(filters=1024, kernel_size=3, activation='relu'))\n",
    "model_crs.add(MaxPooling1D(pool_size=3))\n",
    "'''\n",
    "model_crs.add(Flatten())\n",
    "#model_crs.add(Dropout(0.5))\n",
    "model_crs.add(Dense(2000, activation='relu'))\n",
    "model_crs.add(Dense(n_outputs, activation='softmax'))\n",
    "model_crs.compile(optimizer='rmsprop', loss='categorical_crossentropy', metrics=['accuracy'])\n",
    "# fit network   #CategoricalCrossentropy #sparse_categorical_crossentropy #SparseCategoricalCrossentropy\n",
    "\n",
    "earlystopping = callbacks.EarlyStopping(monitor =\"val_accuracy\", mode =\"max\", patience = 20, restore_best_weights = True)\n",
    "\n",
    "model_crs.fit(X_train, y_train_cat, epochs=epochs, batch_size=batch_size, verbose=verbose, validation_data = (X_valid, y_valid_cat), callbacks =[earlystopping])\n",
    "# evaluate model_crs\n",
    "_, accuracy = model_crs.evaluate(X_valid, y_valid_cat, batch_size=batch_size, verbose=1)\n",
    "\n",
    "print('np.shape(X_test)=',np.shape(X_test))\n",
    "\n",
    "\n",
    "model_crs.summary()\n",
    "print('Accuracy= ', accuracy)\n",
    "\n",
    "#output = K.function([model_crs.layers[0].input],[model_crs.layers[3].output])\n",
    "#output(X_test)[0]\n",
    "#y_pred= model_crs.predict(X_test)                # Function 1\n",
    "\n",
    "##    print('Round ', i, '==>', 'accuracy = ', accuracy)\n",
    "##    acc_crs=np.append(acc_crs,accuracy)\n",
    "#y_pred_crs = model_crs.predict_classes(X_test)   # Function 2"
   ]
  },
  {
   "cell_type": "code",
   "execution_count": 28,
   "metadata": {},
   "outputs": [
    {
     "name": "stdout",
     "output_type": "stream",
     "text": [
      "16/16 [==============================] - 0s 2ms/step\n",
      "array([[  0, 126,   0,   0],\n",
      "       [  0, 124,   0,   0],\n",
      "       [  0, 126,   0,   0],\n",
      "       [  0, 124,   0,   0]], dtype=int64)\n",
      "              precision    recall  f1-score   support\n",
      "\n",
      "           2       0.00      0.00      0.00       126\n",
      "           3       0.25      1.00      0.40       124\n",
      "           4       0.00      0.00      0.00       126\n",
      "           5       0.00      0.00      0.00       124\n",
      "\n",
      "    accuracy                           0.25       500\n",
      "   macro avg       0.06      0.25      0.10       500\n",
      "weighted avg       0.06      0.25      0.10       500\n",
      "\n"
     ]
    },
    {
     "name": "stderr",
     "output_type": "stream",
     "text": [
      "C:\\ProgramData\\Anaconda3\\lib\\site-packages\\sklearn\\metrics\\_classification.py:1248: UndefinedMetricWarning: Precision and F-score are ill-defined and being set to 0.0 in labels with no predicted samples. Use `zero_division` parameter to control this behavior.\n",
      "  _warn_prf(average, modifier, msg_start, len(result))\n",
      "C:\\ProgramData\\Anaconda3\\lib\\site-packages\\sklearn\\metrics\\_classification.py:1248: UndefinedMetricWarning: Precision and F-score are ill-defined and being set to 0.0 in labels with no predicted samples. Use `zero_division` parameter to control this behavior.\n",
      "  _warn_prf(average, modifier, msg_start, len(result))\n",
      "C:\\ProgramData\\Anaconda3\\lib\\site-packages\\sklearn\\metrics\\_classification.py:1248: UndefinedMetricWarning: Precision and F-score are ill-defined and being set to 0.0 in labels with no predicted samples. Use `zero_division` parameter to control this behavior.\n",
      "  _warn_prf(average, modifier, msg_start, len(result))\n"
     ]
    }
   ],
   "source": [
    "predict_x=model_crs.predict(X_test)              # Function 1\n",
    "\n",
    "y_pred_crs=maxindx(predict_x)                    # function from augment.py to remove 0 index predictions\n",
    "\n",
    "#y_pred_crs = model_crs.predict_classes(X_test)\n",
    "\n",
    "cm = confusion_matrix(y_test, y_pred_crs)\n",
    "fullprint(cm)\n",
    "acc3=accuracy_score(y_test, y_pred_crs)\n",
    "\n",
    "print(classification_report(y_test, y_pred_crs))\n",
    "\n",
    "#sns.heatmap(cm, annot=True)\n",
    "\n",
    "#plt.imshow(cm)"
   ]
  },
  {
   "cell_type": "code",
   "execution_count": null,
   "metadata": {},
   "outputs": [],
   "source": []
  }
 ],
 "metadata": {
  "celltoolbar": "Raw Cell Format",
  "kernelspec": {
   "display_name": "Python 3 (ipykernel)",
   "language": "python",
   "name": "python3"
  },
  "language_info": {
   "codemirror_mode": {
    "name": "ipython",
    "version": 3
   },
   "file_extension": ".py",
   "mimetype": "text/x-python",
   "name": "python",
   "nbconvert_exporter": "python",
   "pygments_lexer": "ipython3",
   "version": "3.9.7"
  }
 },
 "nbformat": 4,
 "nbformat_minor": 4
}
