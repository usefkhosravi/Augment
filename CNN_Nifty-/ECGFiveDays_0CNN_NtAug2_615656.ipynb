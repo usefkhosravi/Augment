{
 "cells": [
  {
   "cell_type": "markdown",
   "metadata": {},
   "source": [
    "import time\n",
    "plc=1\n",
    "time.sleep(3000*plc)         #run after 1 houre = 3600 seconds"
   ]
  },
  {
   "cell_type": "code",
   "execution_count": 1,
   "metadata": {},
   "outputs": [
    {
     "data": {
      "text/html": [
       "<style>#notebook { padding-top:0px !important; } .container { width:100% !important; } .end_space { min-height:0px !important; } html, body, .container{ margin:0!important;padding:0!important;}</style>"
      ],
      "text/plain": [
       "<IPython.core.display.HTML object>"
      ]
     },
     "metadata": {},
     "output_type": "display_data"
    }
   ],
   "source": [
    "import os\n",
    "import glob\n",
    "import scipy\n",
    "import random\n",
    "import bisect\n",
    "import numpy as np\n",
    "import pandas as pd\n",
    "import seaborn as sns\n",
    "from scipy import signal\n",
    "from scipy.signal import find_peaks\n",
    "import matplotlib.pyplot as plt\n",
    "from preprocess import *                         #ماژول استخراج پنجره ها\n",
    "from data import *                          #ماژول محلی ورود داده ها\n",
    "from augment import *                            #ماژول های داده افزایی\n",
    "from lstm_cnn import *                           #ماژول های داده افزایی با lstm_cnn\n",
    "import augment\n",
    "import importlib\n",
    "importlib.reload(augment)\n",
    "import tensorflow as tf\n",
    "from tensorflow import keras\n",
    "from tensorflow.keras.layers import BatchNormalization\n",
    "from sklearn.model_selection import train_test_split\n",
    "from sklearn.neural_network import MLPClassifier\n",
    "from sklearn.datasets import make_classification\n",
    "from sklearn.metrics import confusion_matrix, accuracy_score, classification_report,recall_score,precision_score\n",
    "from tensorflow.keras import callbacks\n",
    "from tensorflow.keras import layers\n",
    "from tensorflow.keras.models import Sequential\n",
    "from tensorflow.keras.layers import Convolution2D,Conv1D,Dropout,MaxPooling1D,MaxPooling2D,Flatten,Dense\n",
    "from tensorflow.keras import backend as K\n",
    "from tensorflow.keras.utils import to_categorical\n",
    "from tensorflow.keras.models import load_model\n",
    "cwd = os.getcwd() #\n",
    "fullscrn()"
   ]
  },
  {
   "cell_type": "markdown",
   "metadata": {},
   "source": [
    "<h1><center><div style=\"direction:rtl;font-family:B Nazanin\">Importing Data</div></center></h1>"
   ]
  },
  {
   "cell_type": "code",
   "execution_count": 2,
   "metadata": {
    "scrolled": true
   },
   "outputs": [
    {
     "name": "stdout",
     "output_type": "stream",
     "text": [
      "first_train_shape= (23, 137)\n",
      "first_test_shape= (861, 137)\n",
      "classes_quantity= 2\n",
      "tr_lbls=\t {1, 2}\n",
      "Count_labels= [14  9]\n",
      "max(train_feature_Altitude)= 5.4210751\n",
      "min(train_feature_Altitude)= -6.5111593\n",
      "first_train_sample=\n",
      " [ 1.0000000e+00  9.9133945e-03  3.3428888e-02 -5.7636009e-03\n",
      " -2.9279094e-02 -5.2794587e-02  9.9133945e-03 -2.1440596e-02\n",
      " -2.9279094e-02 -6.0633085e-02 -9.1987075e-02 -1.3602099e-02\n",
      " -6.0633085e-02 -1.3602099e-02 -7.6310081e-02 -6.0633085e-02\n",
      " -1.2334106e-01 -8.4148578e-02 -6.8471582e-02 -3.7117591e-02\n",
      " -7.6310081e-02 -6.0633085e-02 -1.2334106e-01 -6.0633085e-02\n",
      " -9.1987075e-02 -6.8471582e-02 -1.0766407e-01 -9.9825575e-02\n",
      " -1.4685656e-01 -2.9279094e-02  9.9133945e-03  9.6136870e-02\n",
      "  1.2749086e-01  1.6668335e-01  2.9209932e-01  4.1751527e-01\n",
      "  1.1965236e-01 -8.4148578e-02 -7.6310081e-02 -2.1740303e-01\n",
      " -1.9388755e-01 -2.7227252e-01 -2.4091853e-01 -3.1146501e-01\n",
      " -3.0362652e-01 -2.4091853e-01 -2.0956454e-01 -1.5469506e-01\n",
      " -2.1740303e-01 -9.1987075e-02  6.6050870e-01  2.8317725e+00\n",
      "  5.0265519e+00  9.1917913e-01 -4.9361786e+00 -6.1197918e+00\n",
      " -4.3326143e+00 -2.4200209e+00 -1.0717993e+00 -4.4471947e-01\n",
      " -3.3498050e-01 -1.4685656e-01 -1.2334106e-01 -5.2794587e-02\n",
      "  2.0748969e-03 -5.7636009e-03 -4.4956090e-02  2.5590390e-02\n",
      "  1.2749086e-01  6.4782879e-02  1.1965236e-01  1.5884485e-01\n",
      "  2.5290682e-01  3.3913030e-01  3.5480729e-01  4.2535377e-01\n",
      "  6.7618570e-01  7.6240917e-01  8.7998664e-01  1.1308186e+00\n",
      "  1.0916261e+00  1.2640730e+00  1.1543340e+00  1.1464955e+00\n",
      "  9.8972556e-01  7.6240917e-01  5.5076973e-01  3.6264579e-01\n",
      "  2.2939133e-01  1.1965236e-01  8.0459874e-02  2.5590390e-02\n",
      "  3.3428888e-02  4.9105883e-02  9.9133945e-03  6.4782879e-02\n",
      "  9.6136870e-02  9.6136870e-02  1.1965236e-01  1.4316785e-01\n",
      "  1.9019885e-01  1.1965236e-01  7.2621376e-02  1.9803734e-01\n",
      "  9.6136870e-02  1.0397536e-01  4.1267385e-02 -1.3602099e-02\n",
      "  9.9133945e-03  8.0459874e-02 -1.3602099e-02 -2.1440596e-02\n",
      "  9.9133945e-03 -7.6310081e-02 -1.4685656e-01 -6.0633085e-02\n",
      "  3.3428888e-02 -6.0633085e-02 -5.7636009e-03 -6.0633085e-02\n",
      "  2.0748969e-03 -6.8471582e-02  9.9133945e-03 -2.9279094e-02\n",
      " -2.9279094e-02 -5.2794587e-02 -3.7117591e-02 -9.1987075e-02\n",
      "  2.0748969e-03 -4.4956090e-02 -6.0633085e-02 -6.8471582e-02\n",
      "  2.0748969e-03 -2.9279094e-02 -1.1550256e-01  2.0748969e-03\n",
      "  2.5590390e-02]\n",
      "1 14\t2 9\t"
     ]
    },
    {
     "name": "stderr",
     "output_type": "stream",
     "text": [
      "C:\\ProgramData\\Anaconda3\\lib\\site-packages\\pandas\\util\\_decorators.py:311: ParserWarning: Falling back to the 'python' engine because the 'c' engine does not support regex separators (separators > 1 char and different from '\\s+' are interpreted as regex); you can avoid this warning by specifying engine='python'.\n",
      "  return func(*args, **kwargs)\n",
      "C:\\Users\\user\\AppData\\Local\\Temp/ipykernel_5356/792620249.py:3: VisibleDeprecationWarning: Creating an ndarray from ragged nested sequences (which is a list-or-tuple of lists-or-tuples-or ndarrays with different lengths or shapes) is deprecated. If you meant to do this, you must specify 'dtype=object' when creating the ndarray.\n",
      "  vars()['ecg'+str(i)],vars()['ecg_tst'+str(i)]=np.array(ECGFiveDays(i))\n"
     ]
    }
   ],
   "source": [
    "rate=480\n",
    "for i in range (1,3):\n",
    "    vars()['ecg'+str(i)],vars()['ecg_tst'+str(i)]=np.array(ECGFiveDays(i))\n",
    "\n",
    "os.chdir(cwd)\n",
    "clses_lens=np.array([])\n",
    "i=0                               #جمع آوری داده ها و چاپ تعداد نمونه ی هر کلاس\n",
    "ecg=np.array(ecg1)\n",
    "print(1,len(vars()['ecg'+str(1)]), end='\\t')\n",
    "clses_lens=np.append(clses_lens,len(vars()['ecg'+str(1)]))\n",
    "for i in range (2,3):\n",
    "    ecg=np.concatenate((ecg,vars()['ecg'+str(i)]),axis=0)\n",
    "    clses_lens=np.append(clses_lens,len(vars()['ecg'+str(i)]))\n",
    "    print(i,len(vars()['ecg'+str(i)]), end='\\t')\n",
    "\n",
    "mx_sig=max(clses_lens)"
   ]
  },
  {
   "cell_type": "code",
   "execution_count": 3,
   "metadata": {},
   "outputs": [
    {
     "data": {
      "text/plain": [
       "(23, 481)"
      ]
     },
     "execution_count": 3,
     "metadata": {},
     "output_type": "execute_result"
    }
   ],
   "source": [
    "np.shape(ecg)"
   ]
  },
  {
   "cell_type": "markdown",
   "metadata": {},
   "source": [
    "<h2><center><div style=\"direction:rtl;font-family:B Nazanin\">Base Train windows</div></center></h1>"
   ]
  },
  {
   "cell_type": "code",
   "execution_count": 4,
   "metadata": {},
   "outputs": [
    {
     "name": "stdout",
     "output_type": "stream",
     "text": [
      "each class and its windows =\n",
      "1 14\t2 9\t\n",
      " max = 14\n"
     ]
    }
   ],
   "source": [
    "smpl_rte=480                                              # در ماژول ها نیز همین مقدار ثبت شده\n",
    "i=0\n",
    "windws=np.array([])\n",
    "\n",
    "for cls in range (1,3):                                 #ساخت پنجره های داده های آموزش اصلی\n",
    "    vars()['wndws'+str(cls)]=np.array(vars()['ecg'+str(cls)])  \n",
    "    \n",
    "print(\"each class and its windows =\")\n",
    "\n",
    "cls_wndws=np.array([])\n",
    "for cls in range (1,3):                                # آرایه ی تعداد پنجره ی هر کلاس\n",
    "    wns=len(vars()['wndws'+str(cls)])\n",
    "    cls_wndws=np.append(cls_wndws,wns)\n",
    "    print(cls, wns, end='\\t')\n",
    "\n",
    "mx_wndws=int(np.max(cls_wndws))                        # حداکثر تعداد پنجره ی موجود بین کلاس ها\n",
    "print('\\n max =', mx_wndws)"
   ]
  },
  {
   "cell_type": "raw",
   "metadata": {},
   "source": [
    "#clses=3                                   #تعیین میزان افزایش نمونه (تولید داده)\n",
    "mx_wndws=int(mx_wndws)  #mx_wndws*0.3  # =classes-1 برای بررسی الگوریتم تعداد کمی کلاس آزمایش شد\n",
    "mx_wndws=2598           #+2\n",
    "print(mx_wndws)"
   ]
  },
  {
   "cell_type": "markdown",
   "metadata": {},
   "source": [
    "<h1><center><div style=\"direction:rtl;font-family:B Nazanin\">Data Augmentation</div></center></h1>"
   ]
  },
  {
   "cell_type": "code",
   "execution_count": 5,
   "metadata": {},
   "outputs": [
    {
     "name": "stdout",
     "output_type": "stream",
     "text": [
      "Up to class  1 train shape =  (14, 481)\n",
      "Up to class  2 train shape =  (23, 481)\n"
     ]
    }
   ],
   "source": [
    "smpl_rte=len(wndws1[0])                                        # در ماژول ها نیز همین مقدار ثبت شده\n",
    "\n",
    "#add augmented data to base data\n",
    "xtrain=np.empty((0,len(wndws1[0])), float) \n",
    "for i in range (1,3):   \n",
    "    xtrain=np.append(xtrain,vars()['wndws'+str(i)],axis=0)\n",
    "    print('Up to class ', i, 'train shape = ', np.shape(xtrain))"
   ]
  },
  {
   "cell_type": "code",
   "execution_count": 6,
   "metadata": {},
   "outputs": [
    {
     "name": "stdout",
     "output_type": "stream",
     "text": [
      "[ 0 14  9]\n"
     ]
    }
   ],
   "source": [
    "print(np.bincount(np.int16(xtrain[:,-1])))    #تعداد پنجره در هر کلاس از 0 تا 17"
   ]
  },
  {
   "cell_type": "code",
   "execution_count": 7,
   "metadata": {},
   "outputs": [
    {
     "data": {
      "text/plain": [
       "array([1., 1., 1., 1., 1., 1., 1., 1., 1., 1., 1., 1., 1., 1., 2., 2., 2.,\n",
       "       2., 2., 2., 2., 2., 2.])"
      ]
     },
     "execution_count": 7,
     "metadata": {},
     "output_type": "execute_result"
    }
   ],
   "source": [
    "xtrain[:,-1]"
   ]
  },
  {
   "cell_type": "code",
   "execution_count": 8,
   "metadata": {},
   "outputs": [],
   "source": [
    "mx_aug=np.max(xtrain[:,:-1])\n",
    "mx=np.max(ecg[:,:-1])\n",
    "mn_aug=np.min(xtrain[:,:-1])\n",
    "mn=np.min(ecg[:,:-1])\n",
    "\n",
    "#for i in range (1,3):             #نرمالسازی داده های افزایشی\n",
    "xtrain[:,:-1]= 2*(xtrain[:,:-1]-mn_aug)/(mx_aug - mn_aug) - 1"
   ]
  },
  {
   "cell_type": "code",
   "execution_count": 9,
   "metadata": {},
   "outputs": [
    {
     "name": "stdout",
     "output_type": "stream",
     "text": [
      "min trn = -1.0\n",
      "max trn = 1.0\n"
     ]
    }
   ],
   "source": [
    "print('min trn =', np.min(xtrain[:,:-1]))\n",
    "print('max trn =', np.max(xtrain[:,:-1]))"
   ]
  },
  {
   "cell_type": "markdown",
   "metadata": {},
   "source": [
    "<h3><center><div style=\"direction:rtl;font-family:B Nazanin\">Test Windows</div></center></h1>"
   ]
  },
  {
   "cell_type": "code",
   "execution_count": 10,
   "metadata": {},
   "outputs": [],
   "source": [
    "wndws_test=np.empty((0,len(wndws1[0])), float)\n",
    "i=0\n",
    "windws=np.array([])\n",
    "for cls in range (1,3):                                 #ساخت پنجره های داده های آموزش اصلی\n",
    "    vars()['wndws_tst'+str(cls)]=np.empty((0,len(wndws1[0])), float)\n",
    "    vars()['wndws_tst'+str(cls)]=np.append(vars()['wndws_tst'+str(cls)],vars()['ecg_tst'+str(cls)],axis=0)   "
   ]
  },
  {
   "cell_type": "code",
   "execution_count": 11,
   "metadata": {},
   "outputs": [
    {
     "name": "stdout",
     "output_type": "stream",
     "text": [
      "\n",
      " cls 1  >> \n",
      "max magnitude class 1  =  6.131504203095951\n",
      "min magnitude class 1  =  -6.857098701424793\n",
      "after normalizing >>\n",
      "max magnitude class 1  =  1.0976449002074964\n",
      "min magnitude class 1  =  -1.0082730305736756\n",
      "\n",
      " cls 2  >> \n",
      "max magnitude class 2  =  3.8526643929354916\n",
      "min magnitude class 2  =  -7.169855000515227\n",
      "after normalizing >>\n",
      "max magnitude class 2  =  0.7281633129365095\n",
      "min magnitude class 2  =  -1.0589820331554747\n",
      "each class and its windows =\n",
      "1 428\t2 433\t\n",
      " max instance in classes of test windows = 433\n"
     ]
    }
   ],
   "source": [
    "#print(np.max(wndws_tst))\n",
    "for i in range (1,3):                # Normalization test windows\n",
    "    cls=i\n",
    "    print('\\n cls', i, ' >> ')\n",
    "    print('max magnitude class', i , ' = ' ,np.max(vars()['wndws_tst'+str(cls)][:,:-1]))\n",
    "    print('min magnitude class', i , ' = ' ,np.min(vars()['wndws_tst'+str(cls)][:,:-1]))\n",
    "\n",
    "    vars()['wndws_tst'+str(i)][:,:-1]= 2*(vars()['wndws_tst'+str(i)][:,:-1]-mn_aug)/(mx_aug - mn_aug) - 1\n",
    "    \n",
    "    print('after normalizing >>')\n",
    "    print('max magnitude class', i , ' = ' ,np.max(vars()['wndws_tst'+str(cls)][:,:-1]))\n",
    "    print('min magnitude class', i , ' = ' ,np.min(vars()['wndws_tst'+str(cls)][:,:-1]))\n",
    "    \n",
    "print(\"each class and its windows =\")                    #تجمیع کلاس های تست\n",
    "cls_wndws=np.array([])\n",
    "for cls in range (1,3):                                # آرایه ی تعداد پنجره ی هر کلاس\n",
    "    wns=len(vars()['wndws_tst'+str(cls)])\n",
    "    cls_wndws=np.append(cls_wndws,wns)\n",
    "    print(cls, wns, end='\\t')\n",
    "    wndws_test=np.append(wndws_test,vars()['wndws_tst'+str(cls)],axis=0)\n",
    "    \n",
    "mx_wndws=int(np.max(cls_wndws))                        # حداکثر تعداد پنجره ی موجود بین کلاس ها\n",
    "print('\\n max instance in classes of test windows =', mx_wndws)"
   ]
  },
  {
   "cell_type": "code",
   "execution_count": 12,
   "metadata": {},
   "outputs": [
    {
     "name": "stdout",
     "output_type": "stream",
     "text": [
      "min tst = -1.0589820331554747\n",
      "max tst = 1.0976449002074964\n"
     ]
    }
   ],
   "source": [
    "print('min tst =', np.min(wndws_test[:,:-1]))\n",
    "print('max tst =', np.max(wndws_test[:,:-1]))"
   ]
  },
  {
   "cell_type": "code",
   "execution_count": 13,
   "metadata": {},
   "outputs": [
    {
     "data": {
      "text/plain": [
       "861"
      ]
     },
     "execution_count": 13,
     "metadata": {},
     "output_type": "execute_result"
    }
   ],
   "source": [
    "len(wndws_test)"
   ]
  },
  {
   "cell_type": "code",
   "execution_count": 14,
   "metadata": {},
   "outputs": [
    {
     "data": {
      "text/plain": [
       "(861, 481)"
      ]
     },
     "execution_count": 14,
     "metadata": {},
     "output_type": "execute_result"
    }
   ],
   "source": [
    "np.shape(wndws_test)"
   ]
  },
  {
   "cell_type": "code",
   "execution_count": 15,
   "metadata": {},
   "outputs": [],
   "source": [
    "Xtest=wndws_test[:,:-1]\n",
    "ytest=np.int16(wndws_test[:,-1])"
   ]
  },
  {
   "cell_type": "code",
   "execution_count": 16,
   "metadata": {},
   "outputs": [
    {
     "name": "stdout",
     "output_type": "stream",
     "text": [
      "array([1, 1, 1, 1, 1, 1, 1, 1, 1, 1, 1, 1, 1, 1, 1, 1, 1, 1, 1, 1, 1, 1,\n",
      "       1, 1, 1, 1, 1, 1, 1, 1, 1, 1, 1, 1, 1, 1, 1, 1, 1, 1, 1, 1, 1, 1,\n",
      "       1, 1, 1, 1, 1, 1, 1, 1, 1, 1, 1, 1, 1, 1, 1, 1, 1, 1, 1, 1, 1, 1,\n",
      "       1, 1, 1, 1, 1, 1, 1, 1, 1, 1, 1, 1, 1, 1, 1, 1, 1, 1, 1, 1, 1, 1,\n",
      "       1, 1, 1, 1, 1, 1, 1, 1, 1, 1, 1, 1, 1, 1, 1, 1, 1, 1, 1, 1, 1, 1,\n",
      "       1, 1, 1, 1, 1, 1, 1, 1, 1, 1, 1, 1, 1, 1, 1, 1, 1, 1, 1, 1, 1, 1,\n",
      "       1, 1, 1, 1, 1, 1, 1, 1, 1, 1, 1, 1, 1, 1, 1, 1, 1, 1, 1, 1, 1, 1,\n",
      "       1, 1, 1, 1, 1, 1, 1, 1, 1, 1, 1, 1, 1, 1, 1, 1, 1, 1, 1, 1, 1, 1,\n",
      "       1, 1, 1, 1, 1, 1, 1, 1, 1, 1, 1, 1, 1, 1, 1, 1, 1, 1, 1, 1, 1, 1,\n",
      "       1, 1, 1, 1, 1, 1, 1, 1, 1, 1, 1, 1, 1, 1, 1, 1, 1, 1, 1, 1, 1, 1,\n",
      "       1, 1, 1, 1, 1, 1, 1, 1, 1, 1, 1, 1, 1, 1, 1, 1, 1, 1, 1, 1, 1, 1,\n",
      "       1, 1, 1, 1, 1, 1, 1, 1, 1, 1, 1, 1, 1, 1, 1, 1, 1, 1, 1, 1, 1, 1,\n",
      "       1, 1, 1, 1, 1, 1, 1, 1, 1, 1, 1, 1, 1, 1, 1, 1, 1, 1, 1, 1, 1, 1,\n",
      "       1, 1, 1, 1, 1, 1, 1, 1, 1, 1, 1, 1, 1, 1, 1, 1, 1, 1, 1, 1, 1, 1,\n",
      "       1, 1, 1, 1, 1, 1, 1, 1, 1, 1, 1, 1, 1, 1, 1, 1, 1, 1, 1, 1, 1, 1,\n",
      "       1, 1, 1, 1, 1, 1, 1, 1, 1, 1, 1, 1, 1, 1, 1, 1, 1, 1, 1, 1, 1, 1,\n",
      "       1, 1, 1, 1, 1, 1, 1, 1, 1, 1, 1, 1, 1, 1, 1, 1, 1, 1, 1, 1, 1, 1,\n",
      "       1, 1, 1, 1, 1, 1, 1, 1, 1, 1, 1, 1, 1, 1, 1, 1, 1, 1, 1, 1, 1, 1,\n",
      "       1, 1, 1, 1, 1, 1, 1, 1, 1, 1, 1, 1, 1, 1, 1, 1, 1, 1, 1, 1, 1, 1,\n",
      "       1, 1, 1, 1, 1, 1, 1, 1, 1, 1, 2, 2, 2, 2, 2, 2, 2, 2, 2, 2, 2, 2,\n",
      "       2, 2, 2, 2, 2, 2, 2, 2, 2, 2, 2, 2, 2, 2, 2, 2, 2, 2, 2, 2, 2, 2,\n",
      "       2, 2, 2, 2, 2, 2, 2, 2, 2, 2, 2, 2, 2, 2, 2, 2, 2, 2, 2, 2, 2, 2,\n",
      "       2, 2, 2, 2, 2, 2, 2, 2, 2, 2, 2, 2, 2, 2, 2, 2, 2, 2, 2, 2, 2, 2,\n",
      "       2, 2, 2, 2, 2, 2, 2, 2, 2, 2, 2, 2, 2, 2, 2, 2, 2, 2, 2, 2, 2, 2,\n",
      "       2, 2, 2, 2, 2, 2, 2, 2, 2, 2, 2, 2, 2, 2, 2, 2, 2, 2, 2, 2, 2, 2,\n",
      "       2, 2, 2, 2, 2, 2, 2, 2, 2, 2, 2, 2, 2, 2, 2, 2, 2, 2, 2, 2, 2, 2,\n",
      "       2, 2, 2, 2, 2, 2, 2, 2, 2, 2, 2, 2, 2, 2, 2, 2, 2, 2, 2, 2, 2, 2,\n",
      "       2, 2, 2, 2, 2, 2, 2, 2, 2, 2, 2, 2, 2, 2, 2, 2, 2, 2, 2, 2, 2, 2,\n",
      "       2, 2, 2, 2, 2, 2, 2, 2, 2, 2, 2, 2, 2, 2, 2, 2, 2, 2, 2, 2, 2, 2,\n",
      "       2, 2, 2, 2, 2, 2, 2, 2, 2, 2, 2, 2, 2, 2, 2, 2, 2, 2, 2, 2, 2, 2,\n",
      "       2, 2, 2, 2, 2, 2, 2, 2, 2, 2, 2, 2, 2, 2, 2, 2, 2, 2, 2, 2, 2, 2,\n",
      "       2, 2, 2, 2, 2, 2, 2, 2, 2, 2, 2, 2, 2, 2, 2, 2, 2, 2, 2, 2, 2, 2,\n",
      "       2, 2, 2, 2, 2, 2, 2, 2, 2, 2, 2, 2, 2, 2, 2, 2, 2, 2, 2, 2, 2, 2,\n",
      "       2, 2, 2, 2, 2, 2, 2, 2, 2, 2, 2, 2, 2, 2, 2, 2, 2, 2, 2, 2, 2, 2,\n",
      "       2, 2, 2, 2, 2, 2, 2, 2, 2, 2, 2, 2, 2, 2, 2, 2, 2, 2, 2, 2, 2, 2,\n",
      "       2, 2, 2, 2, 2, 2, 2, 2, 2, 2, 2, 2, 2, 2, 2, 2, 2, 2, 2, 2, 2, 2,\n",
      "       2, 2, 2, 2, 2, 2, 2, 2, 2, 2, 2, 2, 2, 2, 2, 2, 2, 2, 2, 2, 2, 2,\n",
      "       2, 2, 2, 2, 2, 2, 2, 2, 2, 2, 2, 2, 2, 2, 2, 2, 2, 2, 2, 2, 2, 2,\n",
      "       2, 2, 2, 2, 2, 2, 2, 2, 2, 2, 2, 2, 2, 2, 2, 2, 2, 2, 2, 2, 2, 2,\n",
      "       2, 2, 2], dtype=int16)\n"
     ]
    }
   ],
   "source": [
    "fullprint(ytest)"
   ]
  },
  {
   "cell_type": "markdown",
   "metadata": {},
   "source": [
    "<h3><center><div style=\"direction:rtl;font-family:B Nazanin\">Train Windows</div></center></h1>"
   ]
  },
  {
   "cell_type": "code",
   "execution_count": 17,
   "metadata": {},
   "outputs": [
    {
     "data": {
      "text/plain": [
       "'\\nytestt=np.int32(np.array([ytest]).T)\\ntestx=np.concatenate((Xtest, ytestt), axis=1)\\ntestx=np.random.permutation(testx)\\nXtest=np.int32(testx[:,:-1])\\nytest=np.int32(testx[:,-1])'"
      ]
     },
     "execution_count": 17,
     "metadata": {},
     "output_type": "execute_result"
    }
   ],
   "source": [
    "#ytraint=np.int32(np.array([ytrain]).T)\n",
    "#trainx=np.concatenate((Xtrain, ytraint), axis=1)\n",
    "trainx=np.random.permutation(xtrain)\n",
    "Xtrain=np.array(trainx[:,:-1])\n",
    "ytrain=np.int16(trainx[:,-1])\n",
    "'''\n",
    "ytestt=np.int32(np.array([ytest]).T)\n",
    "testx=np.concatenate((Xtest, ytestt), axis=1)\n",
    "testx=np.random.permutation(testx)\n",
    "Xtest=np.int32(testx[:,:-1])\n",
    "ytest=np.int32(testx[:,-1])'''"
   ]
  },
  {
   "cell_type": "code",
   "execution_count": 18,
   "metadata": {},
   "outputs": [
    {
     "data": {
      "text/plain": [
       "(14, 481)"
      ]
     },
     "execution_count": 18,
     "metadata": {},
     "output_type": "execute_result"
    }
   ],
   "source": [
    "np.shape(wndws1)"
   ]
  },
  {
   "cell_type": "markdown",
   "metadata": {},
   "source": [
    "<h3><center><div style=\"direction:rtl;font-family:B Nazanin\">Validation Windows</div></center></h1>"
   ]
  },
  {
   "cell_type": "code",
   "execution_count": 19,
   "metadata": {},
   "outputs": [],
   "source": [
    "Xvalid=np.array(Xtrain)\n",
    "yvalid=np.array(ytrain)"
   ]
  },
  {
   "cell_type": "markdown",
   "metadata": {},
   "source": [
    "<h1><center><div style=\"direction:rtl;font-family:B Nazanin\">CNN And UnBalanced RAW Data</div></center></h1>\n",
    "<h1><center><div style=\"direction:rtl;font-family:Arial\">Cross Entropy Loss Function</div></center></h1>"
   ]
  },
  {
   "cell_type": "code",
   "execution_count": 20,
   "metadata": {
    "scrolled": true
   },
   "outputs": [
    {
     "name": "stdout",
     "output_type": "stream",
     "text": [
      "X_train =>  (23, 480)\n",
      "y_train =>  (23,)\n",
      "X_test  =>  (861, 480)\n",
      "y_test  =>  (861,)\n",
      "X_valid  =>  (23, 480)\n",
      "y_valid  =>  (23,)\n"
     ]
    }
   ],
   "source": [
    "X_train=np.array(Xtrain)\n",
    "y_train=np.array(ytrain)\n",
    "X_test=np.array(Xtest)\n",
    "y_test=np.array(ytest)\n",
    "X_valid=np.array(Xtrain)\n",
    "y_valid=np.array(ytrain)\n",
    "print('X_train => ', X_train.shape)\n",
    "print('y_train => ', y_train.shape)\n",
    "print('X_test  => ', X_test.shape)\n",
    "print('y_test  => ', y_test.shape)\n",
    "print('X_valid  => ', X_valid.shape)\n",
    "print('y_valid  => ', y_valid.shape)"
   ]
  },
  {
   "cell_type": "code",
   "execution_count": 21,
   "metadata": {},
   "outputs": [
    {
     "data": {
      "text/plain": [
       "1"
      ]
     },
     "execution_count": 21,
     "metadata": {},
     "output_type": "execute_result"
    }
   ],
   "source": [
    "y_train=np.array(ytrain)\n",
    "np.min(y_train)"
   ]
  },
  {
   "cell_type": "code",
   "execution_count": 22,
   "metadata": {},
   "outputs": [],
   "source": [
    "y_train_cat=to_categorical(y_train)\n",
    "y_valid_cat=to_categorical(y_valid)\n",
    "y_test_cat=to_categorical(y_test)\n",
    "\n",
    "\n",
    "X_train = np.expand_dims(X_train, axis=2)\n",
    "X_valid = np.expand_dims(X_valid, axis=2)\n",
    "X_test = np.expand_dims(X_test, axis=2)\n",
    "#y_train=np.transpose([y_train])"
   ]
  },
  {
   "cell_type": "code",
   "execution_count": 23,
   "metadata": {
    "scrolled": true
   },
   "outputs": [
    {
     "name": "stdout",
     "output_type": "stream",
     "text": [
      "Epoch 1/1000\n",
      "1/1 [==============================] - 13s 13s/step - loss: 1.1415 - accuracy: 0.3913 - val_loss: 0.8972 - val_accuracy: 0.6087\n",
      "Epoch 2/1000\n",
      "1/1 [==============================] - 0s 38ms/step - loss: 24.3034 - accuracy: 0.6087 - val_loss: 1.0785 - val_accuracy: 0.3913\n",
      "Epoch 3/1000\n",
      "1/1 [==============================] - 0s 37ms/step - loss: 1.0764 - accuracy: 0.3913 - val_loss: 1.0769 - val_accuracy: 0.3913\n",
      "Epoch 4/1000\n",
      "1/1 [==============================] - 0s 38ms/step - loss: 0.8925 - accuracy: 0.3913 - val_loss: 1.0474 - val_accuracy: 0.6087\n",
      "Epoch 5/1000\n",
      "1/1 [==============================] - 0s 34ms/step - loss: 0.7202 - accuracy: 0.7826 - val_loss: 1.0037 - val_accuracy: 0.6087\n",
      "Epoch 6/1000\n",
      "1/1 [==============================] - 0s 39ms/step - loss: 0.5904 - accuracy: 0.6087 - val_loss: 1.0060 - val_accuracy: 0.3913\n",
      "Epoch 7/1000\n",
      "1/1 [==============================] - 0s 38ms/step - loss: 0.6856 - accuracy: 0.3913 - val_loss: 0.9855 - val_accuracy: 0.6087\n",
      "Epoch 8/1000\n",
      "1/1 [==============================] - 0s 36ms/step - loss: 0.8285 - accuracy: 0.6087 - val_loss: 1.0324 - val_accuracy: 0.6087\n",
      "Epoch 9/1000\n",
      "1/1 [==============================] - 0s 35ms/step - loss: 0.7024 - accuracy: 0.8696 - val_loss: 0.9839 - val_accuracy: 0.6087\n",
      "Epoch 10/1000\n",
      "1/1 [==============================] - 0s 76ms/step - loss: 0.4675 - accuracy: 0.8696 - val_loss: 0.9616 - val_accuracy: 0.7826\n",
      "Epoch 11/1000\n",
      "1/1 [==============================] - 0s 38ms/step - loss: 0.3163 - accuracy: 0.9565 - val_loss: 0.9385 - val_accuracy: 0.7391\n",
      "Epoch 12/1000\n",
      "1/1 [==============================] - 0s 34ms/step - loss: 0.2145 - accuracy: 0.9565 - val_loss: 0.9522 - val_accuracy: 0.3913\n",
      "Epoch 13/1000\n",
      "1/1 [==============================] - 0s 35ms/step - loss: 1.2520 - accuracy: 0.3913 - val_loss: 0.9247 - val_accuracy: 0.6087\n",
      "Epoch 14/1000\n",
      "1/1 [==============================] - 0s 34ms/step - loss: 1.5883 - accuracy: 0.6087 - val_loss: 1.0179 - val_accuracy: 0.6087\n",
      "Epoch 15/1000\n",
      "1/1 [==============================] - 0s 34ms/step - loss: 0.7603 - accuracy: 1.0000 - val_loss: 0.9746 - val_accuracy: 0.6087\n",
      "Epoch 16/1000\n",
      "1/1 [==============================] - 0s 33ms/step - loss: 0.5080 - accuracy: 0.9130 - val_loss: 0.9468 - val_accuracy: 0.6087\n",
      "Epoch 17/1000\n",
      "1/1 [==============================] - 0s 34ms/step - loss: 0.3396 - accuracy: 0.9130 - val_loss: 0.9269 - val_accuracy: 0.6087\n",
      "Epoch 18/1000\n",
      "1/1 [==============================] - 0s 36ms/step - loss: 0.4254 - accuracy: 0.7391 - val_loss: 0.9585 - val_accuracy: 0.3913\n",
      "Epoch 19/1000\n",
      "1/1 [==============================] - 0s 34ms/step - loss: 1.2607 - accuracy: 0.3913 - val_loss: 0.9638 - val_accuracy: 0.6087\n",
      "Epoch 20/1000\n",
      "1/1 [==============================] - 0s 42ms/step - loss: 0.5772 - accuracy: 0.6087 - val_loss: 0.9812 - val_accuracy: 0.6087\n",
      "Epoch 21/1000\n",
      "1/1 [==============================] - 0s 40ms/step - loss: 0.4558 - accuracy: 0.6522 - val_loss: 0.9637 - val_accuracy: 0.6522\n",
      "Epoch 22/1000\n",
      "1/1 [==============================] - 0s 36ms/step - loss: 0.3544 - accuracy: 0.9130 - val_loss: 0.9513 - val_accuracy: 0.5652\n",
      "Epoch 23/1000\n",
      "1/1 [==============================] - 0s 35ms/step - loss: 0.2498 - accuracy: 0.9565 - val_loss: 0.9274 - val_accuracy: 0.4783\n",
      "Epoch 24/1000\n",
      "1/1 [==============================] - 0s 33ms/step - loss: 0.1449 - accuracy: 0.9565 - val_loss: 0.9222 - val_accuracy: 0.3913\n",
      "Epoch 25/1000\n",
      "1/1 [==============================] - 0s 35ms/step - loss: 0.1415 - accuracy: 1.0000 - val_loss: 0.8748 - val_accuracy: 0.6087\n",
      "Epoch 26/1000\n",
      "1/1 [==============================] - 0s 37ms/step - loss: 1.0070 - accuracy: 0.6087 - val_loss: 0.9704 - val_accuracy: 0.3913\n",
      "Epoch 27/1000\n",
      "1/1 [==============================] - 0s 37ms/step - loss: 0.4826 - accuracy: 0.6957 - val_loss: 0.9488 - val_accuracy: 0.5217\n",
      "Epoch 28/1000\n",
      "1/1 [==============================] - 0s 37ms/step - loss: 0.3364 - accuracy: 0.9130 - val_loss: 0.9396 - val_accuracy: 0.3913\n",
      "Epoch 29/1000\n",
      "1/1 [==============================] - 0s 35ms/step - loss: 0.1642 - accuracy: 0.9565 - val_loss: 0.9201 - val_accuracy: 0.3913\n",
      "Epoch 30/1000\n",
      "1/1 [==============================] - 0s 34ms/step - loss: 0.0833 - accuracy: 1.0000 - val_loss: 0.9059 - val_accuracy: 0.3913\n",
      "Epoch 31/1000\n",
      "1/1 [==============================] - 0s 35ms/step - loss: 0.0454 - accuracy: 1.0000 - val_loss: 0.8919 - val_accuracy: 0.3913\n",
      "Epoch 32/1000\n",
      "1/1 [==============================] - 0s 35ms/step - loss: 0.0239 - accuracy: 1.0000 - val_loss: 0.8791 - val_accuracy: 0.3913\n",
      "Epoch 33/1000\n",
      "1/1 [==============================] - 0s 35ms/step - loss: 0.0138 - accuracy: 1.0000 - val_loss: 0.8633 - val_accuracy: 0.3913\n",
      "Epoch 34/1000\n",
      "1/1 [==============================] - 0s 35ms/step - loss: 0.0073 - accuracy: 1.0000 - val_loss: 0.8551 - val_accuracy: 0.3913\n",
      "Epoch 35/1000\n",
      "1/1 [==============================] - 0s 33ms/step - loss: 0.0046 - accuracy: 1.0000 - val_loss: 0.8515 - val_accuracy: 0.3913\n",
      "Epoch 36/1000\n",
      "1/1 [==============================] - 0s 35ms/step - loss: 0.0031 - accuracy: 1.0000 - val_loss: 0.8440 - val_accuracy: 0.3913\n",
      "Epoch 37/1000\n",
      "1/1 [==============================] - 0s 41ms/step - loss: 0.0019 - accuracy: 1.0000 - val_loss: 0.8499 - val_accuracy: 0.3913\n",
      "Epoch 38/1000\n",
      "1/1 [==============================] - 0s 40ms/step - loss: 0.0021 - accuracy: 1.0000 - val_loss: 0.8401 - val_accuracy: 0.3913\n",
      "Epoch 39/1000\n",
      "1/1 [==============================] - 0s 38ms/step - loss: 0.0016 - accuracy: 1.0000 - val_loss: 0.8600 - val_accuracy: 0.3913\n",
      "Epoch 40/1000\n",
      "1/1 [==============================] - 0s 36ms/step - loss: 0.0012 - accuracy: 1.0000 - val_loss: 0.8439 - val_accuracy: 0.3913\n",
      "Epoch 41/1000\n",
      "1/1 [==============================] - 0s 34ms/step - loss: 8.1823e-04 - accuracy: 1.0000 - val_loss: 0.8502 - val_accuracy: 0.3913\n",
      "Epoch 42/1000\n",
      "1/1 [==============================] - 0s 35ms/step - loss: 7.3215e-04 - accuracy: 1.0000 - val_loss: 0.8541 - val_accuracy: 0.3913\n",
      "Epoch 43/1000\n",
      "1/1 [==============================] - 0s 35ms/step - loss: 5.2334e-04 - accuracy: 1.0000 - val_loss: 0.8530 - val_accuracy: 0.3913\n",
      "Epoch 44/1000\n",
      "1/1 [==============================] - 0s 35ms/step - loss: 4.8529e-04 - accuracy: 1.0000 - val_loss: 0.8558 - val_accuracy: 0.3913\n",
      "Epoch 45/1000\n",
      "1/1 [==============================] - 0s 34ms/step - loss: 4.6596e-04 - accuracy: 1.0000 - val_loss: 0.8660 - val_accuracy: 0.3913\n",
      "Epoch 46/1000\n",
      "1/1 [==============================] - 0s 35ms/step - loss: 4.1354e-04 - accuracy: 1.0000 - val_loss: 0.8667 - val_accuracy: 0.3913\n",
      "Epoch 47/1000\n",
      "1/1 [==============================] - 0s 34ms/step - loss: 3.1196e-04 - accuracy: 1.0000 - val_loss: 0.8699 - val_accuracy: 0.3913\n",
      "Epoch 48/1000\n",
      "1/1 [==============================] - 0s 34ms/step - loss: 2.9695e-04 - accuracy: 1.0000 - val_loss: 0.8724 - val_accuracy: 0.3913\n",
      "Epoch 49/1000\n",
      "1/1 [==============================] - 0s 36ms/step - loss: 2.7640e-04 - accuracy: 1.0000 - val_loss: 0.8783 - val_accuracy: 0.3913\n",
      "Epoch 50/1000\n",
      "1/1 [==============================] - 0s 36ms/step - loss: 2.5588e-04 - accuracy: 1.0000 - val_loss: 0.8790 - val_accuracy: 0.3913\n",
      "Epoch 51/1000\n",
      "1/1 [==============================] - 0s 37ms/step - loss: 2.2845e-04 - accuracy: 1.0000 - val_loss: 0.8874 - val_accuracy: 0.3913\n",
      "Epoch 52/1000\n",
      "1/1 [==============================] - 0s 46ms/step - loss: 2.0594e-04 - accuracy: 1.0000 - val_loss: 0.8992 - val_accuracy: 0.3913\n",
      "Epoch 53/1000\n",
      "1/1 [==============================] - 0s 40ms/step - loss: 1.7184e-04 - accuracy: 1.0000 - val_loss: 0.9008 - val_accuracy: 0.3913\n",
      "Epoch 54/1000\n",
      "1/1 [==============================] - 0s 39ms/step - loss: 1.3823e-04 - accuracy: 1.0000 - val_loss: 0.9042 - val_accuracy: 0.3913\n",
      "Epoch 55/1000\n",
      "1/1 [==============================] - 0s 37ms/step - loss: 1.2843e-04 - accuracy: 1.0000 - val_loss: 0.9048 - val_accuracy: 0.3913\n",
      "Epoch 56/1000\n",
      "1/1 [==============================] - 0s 34ms/step - loss: 1.2658e-04 - accuracy: 1.0000 - val_loss: 0.9248 - val_accuracy: 0.3913\n",
      "Epoch 57/1000\n",
      "1/1 [==============================] - 0s 33ms/step - loss: 1.2028e-04 - accuracy: 1.0000 - val_loss: 0.9332 - val_accuracy: 0.3913\n",
      "Epoch 58/1000\n"
     ]
    },
    {
     "name": "stdout",
     "output_type": "stream",
     "text": [
      "1/1 [==============================] - 0s 34ms/step - loss: 1.0658e-04 - accuracy: 1.0000 - val_loss: 0.9348 - val_accuracy: 0.3913\n",
      "Epoch 59/1000\n",
      "1/1 [==============================] - 0s 33ms/step - loss: 1.0724e-04 - accuracy: 1.0000 - val_loss: 0.9325 - val_accuracy: 0.3913\n",
      "Epoch 60/1000\n",
      "1/1 [==============================] - 0s 39ms/step - loss: 8.4463e-05 - accuracy: 1.0000 - val_loss: 0.9406 - val_accuracy: 0.3913\n",
      "1/1 [==============================] - 0s 15ms/step - loss: 0.9616 - accuracy: 0.7826\n",
      "np.shape(X_test)= (861, 480, 1)\n",
      "Accuracy=  0.782608687877655\n"
     ]
    }
   ],
   "source": [
    "#VGG16_1D\n",
    "\n",
    "accuracy=0\n",
    "acc_crs=np.array([])\n",
    "##for i in range (10):\n",
    "##    if accuracy<0.2 :\n",
    "\n",
    "verbose, epochs, batch_size = 1, 1000, 70\n",
    "n_timesteps, n_features, n_outputs = X_train.shape[1], X_train.shape[2], y_train_cat.shape[1]\n",
    "steps_per_epoch = len(X_train)//batch_size\n",
    "validation_steps = len(X_valid)//batch_size # if you have test data\n",
    "\n",
    "\n",
    "\n",
    "model_crs = Sequential()\n",
    "#model_crs.add(Conv1D(input_shape=x_train.shape[1:],filters=64,kernel_size=9,padding=\"same\", activation=\"relu\"))\n",
    "model_crs.add(Conv1D(filters=128, kernel_size=12, strides=1, activation='relu', input_shape=(n_timesteps,n_features))) #Replaced\n",
    "model_crs.add(BatchNormalization())\n",
    "model_crs.add(MaxPooling1D(pool_size=2,strides=3))\n",
    "\n",
    "model_crs.add(Conv1D(filters=32, kernel_size=7, strides=1, padding=\"same\", activation=\"relu\"))\n",
    "model_crs.add(BatchNormalization())\n",
    "model_crs.add(MaxPooling1D(pool_size=2,strides=2))\n",
    "\n",
    "model_crs.add(Conv1D(filters=32, kernel_size=10, strides=1, padding=\"same\", activation=\"relu\"))\n",
    "model_crs.add(Conv1D(filters=128, kernel_size=5, strides=2, padding=\"same\", activation=\"relu\"))\n",
    "model_crs.add(MaxPooling1D(pool_size=2,strides=2))\n",
    "\n",
    "model_crs.add(Conv1D(filters=256, kernel_size=15, strides=1, padding=\"same\", activation=\"relu\"))\n",
    "model_crs.add(MaxPooling1D(pool_size=2,strides=2))\n",
    "\n",
    "model_crs.add(Conv1D(filters=512, kernel_size=5, strides=1, padding=\"same\", activation=\"relu\"))\n",
    "#model_crs.add(Conv1D(filters=128, kernel_size=3, strides=1, padding=\"same\", activation=\"relu\"))\n",
    "\n",
    "\n",
    "model_crs.add(Flatten())\n",
    "model_crs.add(Dropout(0.1))\n",
    "model_crs.add(Dense(units=512,activation=\"relu\"))\n",
    "#model_crs.add(Dense(units=2048,activation=\"relu\"))\n",
    "model_crs.add(Dense(n_outputs, activation='softmax'))   #Replaced here from old Model\n",
    "\n",
    "model_crs.compile(optimizer='rmsprop', loss='categorical_crossentropy', metrics=['accuracy'])\n",
    "# fit network   #CategoricalCrossentropy #sparse_categorical_crossentropy #SparseCategoricalCrossentropy\n",
    "\n",
    "earlystopping = callbacks.EarlyStopping(monitor =\"val_accuracy\", mode =\"max\", patience = 50, restore_best_weights = True)\n",
    "\n",
    "model_crs.fit(X_train, y_train_cat, epochs=epochs, batch_size=batch_size, verbose=verbose, validation_data = (X_valid, y_valid_cat), callbacks =[earlystopping])\n",
    "\n",
    "_, accuracy = model_crs.evaluate(X_valid, y_valid_cat, batch_size=batch_size, verbose=1)\n",
    "\n",
    "print('np.shape(X_test)=',np.shape(X_test))\n",
    "\n",
    "print('Accuracy= ', accuracy)\n",
    "\n",
    "#y_pred_vgg = model_crs.predict_classes(X_test)\n"
   ]
  },
  {
   "cell_type": "code",
   "execution_count": 24,
   "metadata": {},
   "outputs": [],
   "source": [
    "def maxindx(ar):\n",
    "    ar_cpy=np.array(ar)\n",
    "    pred=np.argmax(ar,axis=1)\n",
    "    for i in range (len(pred)):\n",
    "        if pred[i]==0:\n",
    "            ar_cpy[i,0]=-1000\n",
    "    pred=np.argmax(ar_cpy,axis=1)\n",
    "    return(pred)"
   ]
  },
  {
   "cell_type": "code",
   "execution_count": 25,
   "metadata": {},
   "outputs": [
    {
     "name": "stdout",
     "output_type": "stream",
     "text": [
      "27/27 [==============================] - 0s 7ms/step\n",
      "[[420   8]\n",
      " [324 109]]\n",
      "              precision    recall  f1-score   support\n",
      "\n",
      "           1       0.56      0.98      0.72       428\n",
      "           2       0.93      0.25      0.40       433\n",
      "\n",
      "    accuracy                           0.61       861\n",
      "   macro avg       0.75      0.62      0.56       861\n",
      "weighted avg       0.75      0.61      0.56       861\n",
      "\n"
     ]
    }
   ],
   "source": [
    "predict_x=model_crs.predict(X_test)              # Function 1\n",
    "\n",
    "y_pred_crs=maxindx(predict_x)                    # function from augment.py to remove 0 index predictions\n",
    "\n",
    "#y_pred_crs = model_crs.predict_classes(X_test)\n",
    "\n",
    "cm = confusion_matrix(y_test, y_pred_crs)\n",
    "print(cm)\n",
    "acc3=accuracy_score(y_test, y_pred_crs)\n",
    "\n",
    "print(classification_report(y_test, y_pred_crs))\n",
    "\n",
    "#sns.heatmap(cm, annot=True)\n",
    "\n",
    "#plt.imshow(cm)"
   ]
  }
 ],
 "metadata": {
  "celltoolbar": "Raw Cell Format",
  "kernelspec": {
   "display_name": "Python 3 (ipykernel)",
   "language": "python",
   "name": "python3"
  },
  "language_info": {
   "codemirror_mode": {
    "name": "ipython",
    "version": 3
   },
   "file_extension": ".py",
   "mimetype": "text/x-python",
   "name": "python",
   "nbconvert_exporter": "python",
   "pygments_lexer": "ipython3",
   "version": "3.9.7"
  }
 },
 "nbformat": 4,
 "nbformat_minor": 4
}
