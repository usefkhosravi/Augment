{
 "cells": [
  {
   "cell_type": "markdown",
   "metadata": {},
   "source": [
    "import time\n",
    "plc=1\n",
    "time.sleep(3000*plc)         #run after 1 houre = 3600 seconds"
   ]
  },
  {
   "cell_type": "code",
   "execution_count": 1,
   "metadata": {},
   "outputs": [
    {
     "data": {
      "text/html": [
       "<style>#notebook { padding-top:0px !important; } .container { width:100% !important; } .end_space { min-height:0px !important; } html, body, .container{ margin:0!important;padding:0!important;}</style>"
      ],
      "text/plain": [
       "<IPython.core.display.HTML object>"
      ]
     },
     "metadata": {},
     "output_type": "display_data"
    }
   ],
   "source": [
    "import os\n",
    "import glob\n",
    "import scipy\n",
    "import random\n",
    "import bisect\n",
    "import numpy as np\n",
    "import pandas as pd\n",
    "import seaborn as sns\n",
    "from scipy import signal\n",
    "from scipy.signal import find_peaks\n",
    "import matplotlib.pyplot as plt\n",
    "from preprocess import *                         #ماژول استخراج پنجره ها\n",
    "from data import *                          #ماژول محلی ورود داده ها\n",
    "from augment import *                            #ماژول های داده افزایی\n",
    "from lstm_cnn import *                           #ماژول های داده افزایی با lstm_cnn\n",
    "import augment\n",
    "import importlib\n",
    "importlib.reload(augment)\n",
    "import tensorflow as tf\n",
    "from tensorflow import keras\n",
    "from tensorflow.keras.layers import BatchNormalization\n",
    "from sklearn.model_selection import train_test_split\n",
    "from sklearn.neural_network import MLPClassifier\n",
    "from sklearn.datasets import make_classification\n",
    "from sklearn.metrics import confusion_matrix, accuracy_score, classification_report,recall_score,precision_score\n",
    "from tensorflow.keras import callbacks\n",
    "from tensorflow.keras import layers\n",
    "from tensorflow.keras.models import Sequential\n",
    "from tensorflow.keras.layers import Convolution2D,Conv1D,Dropout,MaxPooling1D,MaxPooling2D,Flatten,Dense\n",
    "from tensorflow.keras import backend as K\n",
    "from tensorflow.keras.utils import to_categorical\n",
    "from tensorflow.keras.models import load_model\n",
    "cwd = os.getcwd() #\n",
    "fullscrn()"
   ]
  },
  {
   "cell_type": "markdown",
   "metadata": {},
   "source": [
    "<h1><center><div style=\"direction:rtl;font-family:B Nazanin\">Importing Data</div></center></h1>"
   ]
  },
  {
   "cell_type": "code",
   "execution_count": 2,
   "metadata": {
    "scrolled": true
   },
   "outputs": [
    {
     "name": "stdout",
     "output_type": "stream",
     "text": [
      "first_train_shape= (155, 1093)\n",
      "first_test_shape= (308, 1093)\n",
      "classes_quantity= 5\n",
      "tr_lbls=\t {1, 2, 3, 4, 5}\n",
      "Count_labels= [18 34 34 36 33]\n",
      "max(train_feature_Altitude)= 5.0\n",
      "min(train_feature_Altitude)= -11.147\n",
      "first_train_sample=\n",
      " [ 5.      -1.0475   0.54834 ...  0.89676 -2.6913  -8.1963 ]\n",
      "1 18\t2 34\t3 34\t4 36\t5 33\t"
     ]
    }
   ],
   "source": [
    "rate=480\n",
    "cls_num=5\n",
    "btch=20\n",
    "for i in range (1,cls_num+1):\n",
    "    vars()['ecg'+str(i)],vars()['ecg_tst'+str(i)]=Haptics(i)\n",
    "\n",
    "os.chdir(cwd)\n",
    "clses_lens=np.array([])\n",
    "i=0                               #جمع آوری داده ها و چاپ تعداد نمونه ی هر کلاس\n",
    "ecg=np.array(ecg1)\n",
    "print(1,len(vars()['ecg'+str(1)]), end='\\t')\n",
    "clses_lens=np.append(clses_lens,len(vars()['ecg'+str(1)]))\n",
    "for i in range (2,cls_num+1):\n",
    "    ecg=np.concatenate((ecg,vars()['ecg'+str(i)]),axis=0)\n",
    "    clses_lens=np.append(clses_lens,len(vars()['ecg'+str(i)]))\n",
    "    print(i,len(vars()['ecg'+str(i)]), end='\\t')\n",
    "\n",
    "mx_sig=max(clses_lens)"
   ]
  },
  {
   "cell_type": "code",
   "execution_count": 3,
   "metadata": {},
   "outputs": [
    {
     "data": {
      "text/plain": [
       "(155, 481)"
      ]
     },
     "execution_count": 3,
     "metadata": {},
     "output_type": "execute_result"
    }
   ],
   "source": [
    "np.shape(ecg)"
   ]
  },
  {
   "cell_type": "code",
   "execution_count": 4,
   "metadata": {},
   "outputs": [
    {
     "data": {
      "text/plain": [
       "array([1., 1., 1., 1., 1., 1., 1., 1., 1., 1., 1., 1., 1., 1., 1., 1., 1.,\n",
       "       1., 2., 2., 2., 2., 2., 2., 2., 2., 2., 2., 2., 2., 2., 2., 2., 2.,\n",
       "       2., 2., 2., 2., 2., 2., 2., 2., 2., 2., 2., 2., 2., 2., 2., 2., 2.,\n",
       "       2., 3., 3., 3., 3., 3., 3., 3., 3., 3., 3., 3., 3., 3., 3., 3., 3.,\n",
       "       3., 3., 3., 3., 3., 3., 3., 3., 3., 3., 3., 3., 3., 3., 3., 3., 3.,\n",
       "       3., 4., 4., 4., 4., 4., 4., 4., 4., 4., 4., 4., 4., 4., 4., 4., 4.,\n",
       "       4., 4., 4., 4., 4., 4., 4., 4., 4., 4., 4., 4., 4., 4., 4., 4., 4.,\n",
       "       4., 4., 4., 5., 5., 5., 5., 5., 5., 5., 5., 5., 5., 5., 5., 5., 5.,\n",
       "       5., 5., 5., 5., 5., 5., 5., 5., 5., 5., 5., 5., 5., 5., 5., 5., 5.,\n",
       "       5., 5.])"
      ]
     },
     "execution_count": 4,
     "metadata": {},
     "output_type": "execute_result"
    }
   ],
   "source": [
    "ecg[:,-1]"
   ]
  },
  {
   "cell_type": "markdown",
   "metadata": {},
   "source": [
    "<h2><center><div style=\"direction:rtl;font-family:B Nazanin\">Base Train windows</div></center></h1>"
   ]
  },
  {
   "cell_type": "code",
   "execution_count": 5,
   "metadata": {},
   "outputs": [
    {
     "name": "stdout",
     "output_type": "stream",
     "text": [
      "each class and its windows =\n",
      "1 18\t2 34\t3 34\t4 36\t5 33\t\n",
      " max = 36\n"
     ]
    }
   ],
   "source": [
    "smpl_rte=rate                                              # در ماژول ها نیز همین مقدار ثبت شده\n",
    "i=0\n",
    "windws=np.array([])\n",
    "\n",
    "for cls in range (1,cls_num+1):                                 #ساخت پنجره های داده های آموزش اصلی\n",
    "    vars()['wndws'+str(cls)]=np.array(vars()['ecg'+str(cls)])  \n",
    "    \n",
    "print(\"each class and its windows =\")\n",
    "\n",
    "cls_wndws=np.array([])\n",
    "for cls in range (1,cls_num+1):                                # آرایه ی تعداد پنجره ی هر کلاس\n",
    "    wns=len(vars()['wndws'+str(cls)])\n",
    "    cls_wndws=np.append(cls_wndws,wns)\n",
    "    print(cls, wns, end='\\t')\n",
    "\n",
    "mx_wndws=int(np.max(cls_wndws))                        # حداکثر تعداد پنجره ی موجود بین کلاس ها\n",
    "print('\\n max =', mx_wndws)"
   ]
  },
  {
   "cell_type": "raw",
   "metadata": {},
   "source": [
    "#clses=3                                   #تعیین میزان افزایش نمونه (تولید داده)\n",
    "mx_wndws=int(mx_wndws)  #mx_wndws*0.3  # =classes-1 برای بررسی الگوریتم تعداد کمی کلاس آزمایش شد\n",
    "mx_wndws=2598           #+2\n",
    "print(mx_wndws)"
   ]
  },
  {
   "cell_type": "markdown",
   "metadata": {},
   "source": [
    "<h1><center><div style=\"direction:rtl;font-family:B Nazanin\">Data Augmentation</div></center></h1>"
   ]
  },
  {
   "cell_type": "code",
   "execution_count": 6,
   "metadata": {},
   "outputs": [
    {
     "name": "stdout",
     "output_type": "stream",
     "text": [
      "Up to class  1 train shape =  (18, 481)\n",
      "Up to class  2 train shape =  (52, 481)\n",
      "Up to class  3 train shape =  (86, 481)\n",
      "Up to class  4 train shape =  (122, 481)\n",
      "Up to class  5 train shape =  (155, 481)\n"
     ]
    }
   ],
   "source": [
    "smpl_rte=len(wndws1[0])                                        # در ماژول ها نیز همین مقدار ثبت شده\n",
    "\n",
    "#add augmented data to base data\n",
    "xtrain=np.empty((0,len(wndws1[0])), float) \n",
    "for i in range (1,cls_num+1):   \n",
    "    xtrain=np.append(xtrain,vars()['wndws'+str(i)],axis=0)\n",
    "    print('Up to class ', i, 'train shape = ', np.shape(xtrain))"
   ]
  },
  {
   "cell_type": "code",
   "execution_count": 7,
   "metadata": {},
   "outputs": [
    {
     "name": "stdout",
     "output_type": "stream",
     "text": [
      "[ 0 18 34 34 36 33]\n"
     ]
    }
   ],
   "source": [
    "print(np.bincount(np.int16(xtrain[:,-1])))    #تعداد پنجره در هر کلاس از 0 تا 17"
   ]
  },
  {
   "cell_type": "code",
   "execution_count": 8,
   "metadata": {},
   "outputs": [
    {
     "data": {
      "text/plain": [
       "array([1., 1., 1., 1., 1., 1., 1., 1., 1., 1., 1., 1., 1., 1., 1., 1., 1.,\n",
       "       1., 2., 2., 2., 2., 2., 2., 2., 2., 2., 2., 2., 2., 2., 2., 2., 2.,\n",
       "       2., 2., 2., 2., 2., 2., 2., 2., 2., 2., 2., 2., 2., 2., 2., 2., 2.,\n",
       "       2., 3., 3., 3., 3., 3., 3., 3., 3., 3., 3., 3., 3., 3., 3., 3., 3.,\n",
       "       3., 3., 3., 3., 3., 3., 3., 3., 3., 3., 3., 3., 3., 3., 3., 3., 3.,\n",
       "       3., 4., 4., 4., 4., 4., 4., 4., 4., 4., 4., 4., 4., 4., 4., 4., 4.,\n",
       "       4., 4., 4., 4., 4., 4., 4., 4., 4., 4., 4., 4., 4., 4., 4., 4., 4.,\n",
       "       4., 4., 4., 5., 5., 5., 5., 5., 5., 5., 5., 5., 5., 5., 5., 5., 5.,\n",
       "       5., 5., 5., 5., 5., 5., 5., 5., 5., 5., 5., 5., 5., 5., 5., 5., 5.,\n",
       "       5., 5.])"
      ]
     },
     "execution_count": 8,
     "metadata": {},
     "output_type": "execute_result"
    }
   ],
   "source": [
    "xtrain[:,-1]"
   ]
  },
  {
   "cell_type": "code",
   "execution_count": 9,
   "metadata": {},
   "outputs": [],
   "source": [
    "mx_aug=np.max(xtrain[:,:-1])\n",
    "mx=np.max(ecg[:,:-1])\n",
    "mn_aug=np.min(xtrain[:,:-1])\n",
    "mn=np.min(ecg[:,:-1])\n",
    "\n",
    "#for i in range (1,cls_num+1):             #نرمالسازی داده های افزایشی\n",
    "xtrain[:,:-1]= 2*(xtrain[:,:-1]-mn_aug)/(mx_aug - mn_aug) - 1"
   ]
  },
  {
   "cell_type": "code",
   "execution_count": 10,
   "metadata": {},
   "outputs": [
    {
     "name": "stdout",
     "output_type": "stream",
     "text": [
      "min trn = -1.0\n",
      "max trn = 1.0\n"
     ]
    }
   ],
   "source": [
    "print('min trn =', np.min(xtrain[:,:-1]))\n",
    "print('max trn =', np.max(xtrain[:,:-1]))"
   ]
  },
  {
   "cell_type": "markdown",
   "metadata": {},
   "source": [
    "<h3><center><div style=\"direction:rtl;font-family:B Nazanin\">Test Windows</div></center></h1>"
   ]
  },
  {
   "cell_type": "code",
   "execution_count": 11,
   "metadata": {},
   "outputs": [],
   "source": [
    "wndws_test=np.empty((0,len(wndws1[0])), float)\n",
    "i=0\n",
    "windws=np.array([])\n",
    "for cls in range (1,cls_num+1):                                 #ساخت پنجره های داده های آموزش اصلی\n",
    "    vars()['wndws_tst'+str(cls)]=np.empty((0,len(wndws1[0])), float)\n",
    "    vars()['wndws_tst'+str(cls)]=np.append(vars()['wndws_tst'+str(cls)],vars()['ecg_tst'+str(cls)],axis=0)   "
   ]
  },
  {
   "cell_type": "code",
   "execution_count": 12,
   "metadata": {},
   "outputs": [
    {
     "name": "stdout",
     "output_type": "stream",
     "text": [
      "\n",
      " cls 1  >> \n",
      "max magnitude class 1  =  4.597467569572298\n",
      "min magnitude class 1  =  -13.17299850668317\n",
      "after normalizing >>\n",
      "max magnitude class 1  =  1.2596009116229263\n",
      "min magnitude class 1  =  -1.8343638646323206\n",
      "\n",
      " cls 2  >> \n",
      "max magnitude class 2  =  2.7396485902086973\n",
      "min magnitude class 2  =  -7.29747643241007\n",
      "after normalizing >>\n",
      "max magnitude class 2  =  0.9361413884937131\n",
      "min magnitude class 2  =  -0.811393602518538\n",
      "\n",
      " cls 3  >> \n",
      "max magnitude class 3  =  2.921229641073384\n",
      "min magnitude class 3  =  -8.077613775922405\n",
      "after normalizing >>\n",
      "max magnitude class 3  =  0.9677559433962111\n",
      "min magnitude class 3  =  -0.9472210732844096\n",
      "\n",
      " cls 4  >> \n",
      "max magnitude class 4  =  2.566649466280018\n",
      "min magnitude class 4  =  -6.7000715338116725\n",
      "after normalizing >>\n",
      "max magnitude class 4  =  0.9060210082256042\n",
      "min magnitude class 4  =  -0.707381152563975\n",
      "\n",
      " cls 5  >> \n",
      "max magnitude class 5  =  3.059927687644744\n",
      "min magnitude class 5  =  -7.133883777493334\n",
      "after normalizing >>\n",
      "max magnitude class 5  =  0.9919042616668607\n",
      "min magnitude class 5  =  -0.7829109555359263\n",
      "each class and its windows =\n",
      "1 60\t2 58\t3 59\t4 64\t5 67\t\n",
      " max instance in classes of test windows = 67\n"
     ]
    }
   ],
   "source": [
    "#print(np.max(wndws_tst))\n",
    "for i in range (1,cls_num+1):                # Normalization test windows\n",
    "    cls=i\n",
    "    print('\\n cls', i, ' >> ')\n",
    "    print('max magnitude class', i , ' = ' ,np.max(vars()['wndws_tst'+str(cls)][:,:-1]))\n",
    "    print('min magnitude class', i , ' = ' ,np.min(vars()['wndws_tst'+str(cls)][:,:-1]))\n",
    "\n",
    "    vars()['wndws_tst'+str(i)][:,:-1]= 2*(vars()['wndws_tst'+str(i)][:,:-1]-mn_aug)/(mx_aug - mn_aug) - 1\n",
    "    \n",
    "    print('after normalizing >>')\n",
    "    print('max magnitude class', i , ' = ' ,np.max(vars()['wndws_tst'+str(cls)][:,:-1]))\n",
    "    print('min magnitude class', i , ' = ' ,np.min(vars()['wndws_tst'+str(cls)][:,:-1]))\n",
    "    \n",
    "print(\"each class and its windows =\")                    #تجمیع کلاس های تست\n",
    "cls_wndws=np.array([])\n",
    "for cls in range (1,cls_num+1):                                # آرایه ی تعداد پنجره ی هر کلاس\n",
    "    wns=len(vars()['wndws_tst'+str(cls)])\n",
    "    cls_wndws=np.append(cls_wndws,wns)\n",
    "    print(cls, wns, end='\\t')\n",
    "    wndws_test=np.append(wndws_test,vars()['wndws_tst'+str(cls)],axis=0)\n",
    "    \n",
    "mx_wndws=int(np.max(cls_wndws))                        # حداکثر تعداد پنجره ی موجود بین کلاس ها\n",
    "print('\\n max instance in classes of test windows =', mx_wndws)"
   ]
  },
  {
   "cell_type": "code",
   "execution_count": 13,
   "metadata": {},
   "outputs": [
    {
     "name": "stdout",
     "output_type": "stream",
     "text": [
      "min tst = -1.8343638646323206\n",
      "max tst = 1.2596009116229263\n"
     ]
    }
   ],
   "source": [
    "print('min tst =', np.min(wndws_test[:,:-1]))\n",
    "print('max tst =', np.max(wndws_test[:,:-1]))"
   ]
  },
  {
   "cell_type": "code",
   "execution_count": 14,
   "metadata": {},
   "outputs": [
    {
     "data": {
      "text/plain": [
       "308"
      ]
     },
     "execution_count": 14,
     "metadata": {},
     "output_type": "execute_result"
    }
   ],
   "source": [
    "len(wndws_test)"
   ]
  },
  {
   "cell_type": "code",
   "execution_count": 15,
   "metadata": {},
   "outputs": [
    {
     "data": {
      "text/plain": [
       "(308, 481)"
      ]
     },
     "execution_count": 15,
     "metadata": {},
     "output_type": "execute_result"
    }
   ],
   "source": [
    "np.shape(wndws_test)"
   ]
  },
  {
   "cell_type": "code",
   "execution_count": 16,
   "metadata": {},
   "outputs": [],
   "source": [
    "Xtest=wndws_test[:,:-1]\n",
    "ytest=np.int16(wndws_test[:,-1])"
   ]
  },
  {
   "cell_type": "code",
   "execution_count": 17,
   "metadata": {},
   "outputs": [
    {
     "name": "stdout",
     "output_type": "stream",
     "text": [
      "array([1, 1, 1, 1, 1, 1, 1, 1, 1, 1, 1, 1, 1, 1, 1, 1, 1, 1, 1, 1, 1, 1,\n",
      "       1, 1, 1, 1, 1, 1, 1, 1, 1, 1, 1, 1, 1, 1, 1, 1, 1, 1, 1, 1, 1, 1,\n",
      "       1, 1, 1, 1, 1, 1, 1, 1, 1, 1, 1, 1, 1, 1, 1, 1, 2, 2, 2, 2, 2, 2,\n",
      "       2, 2, 2, 2, 2, 2, 2, 2, 2, 2, 2, 2, 2, 2, 2, 2, 2, 2, 2, 2, 2, 2,\n",
      "       2, 2, 2, 2, 2, 2, 2, 2, 2, 2, 2, 2, 2, 2, 2, 2, 2, 2, 2, 2, 2, 2,\n",
      "       2, 2, 2, 2, 2, 2, 2, 2, 3, 3, 3, 3, 3, 3, 3, 3, 3, 3, 3, 3, 3, 3,\n",
      "       3, 3, 3, 3, 3, 3, 3, 3, 3, 3, 3, 3, 3, 3, 3, 3, 3, 3, 3, 3, 3, 3,\n",
      "       3, 3, 3, 3, 3, 3, 3, 3, 3, 3, 3, 3, 3, 3, 3, 3, 3, 3, 3, 3, 3, 3,\n",
      "       3, 4, 4, 4, 4, 4, 4, 4, 4, 4, 4, 4, 4, 4, 4, 4, 4, 4, 4, 4, 4, 4,\n",
      "       4, 4, 4, 4, 4, 4, 4, 4, 4, 4, 4, 4, 4, 4, 4, 4, 4, 4, 4, 4, 4, 4,\n",
      "       4, 4, 4, 4, 4, 4, 4, 4, 4, 4, 4, 4, 4, 4, 4, 4, 4, 4, 4, 4, 4, 5,\n",
      "       5, 5, 5, 5, 5, 5, 5, 5, 5, 5, 5, 5, 5, 5, 5, 5, 5, 5, 5, 5, 5, 5,\n",
      "       5, 5, 5, 5, 5, 5, 5, 5, 5, 5, 5, 5, 5, 5, 5, 5, 5, 5, 5, 5, 5, 5,\n",
      "       5, 5, 5, 5, 5, 5, 5, 5, 5, 5, 5, 5, 5, 5, 5, 5, 5, 5, 5, 5, 5, 5],\n",
      "      dtype=int16)\n"
     ]
    }
   ],
   "source": [
    "fullprint(ytest)"
   ]
  },
  {
   "cell_type": "markdown",
   "metadata": {},
   "source": [
    "<h3><center><div style=\"direction:rtl;font-family:B Nazanin\">Train Windows</div></center></h1>"
   ]
  },
  {
   "cell_type": "code",
   "execution_count": 18,
   "metadata": {},
   "outputs": [
    {
     "data": {
      "text/plain": [
       "'\\nytestt=np.int32(np.array([ytest]).T)\\ntestx=np.concatenate((Xtest, ytestt), axis=1)\\ntestx=np.random.permutation(testx)\\nXtest=np.int32(testx[:,:-1])\\nytest=np.int32(testx[:,-1])'"
      ]
     },
     "execution_count": 18,
     "metadata": {},
     "output_type": "execute_result"
    }
   ],
   "source": [
    "#ytraint=np.int32(np.array([ytrain]).T)\n",
    "#trainx=np.concatenate((Xtrain, ytraint), axis=1)\n",
    "trainx=np.random.permutation(xtrain)\n",
    "Xtrain=np.array(trainx[:,:-1])\n",
    "ytrain=np.int16(trainx[:,-1])\n",
    "'''\n",
    "ytestt=np.int32(np.array([ytest]).T)\n",
    "testx=np.concatenate((Xtest, ytestt), axis=1)\n",
    "testx=np.random.permutation(testx)\n",
    "Xtest=np.int32(testx[:,:-1])\n",
    "ytest=np.int32(testx[:,-1])'''"
   ]
  },
  {
   "cell_type": "code",
   "execution_count": 19,
   "metadata": {},
   "outputs": [
    {
     "data": {
      "text/plain": [
       "(18, 481)"
      ]
     },
     "execution_count": 19,
     "metadata": {},
     "output_type": "execute_result"
    }
   ],
   "source": [
    "np.shape(wndws1)"
   ]
  },
  {
   "cell_type": "markdown",
   "metadata": {},
   "source": [
    "<h3><center><div style=\"direction:rtl;font-family:B Nazanin\">Validation Windows</div></center></h1>"
   ]
  },
  {
   "cell_type": "code",
   "execution_count": 20,
   "metadata": {},
   "outputs": [],
   "source": [
    "Xvalid=np.array(Xtrain)\n",
    "yvalid=np.array(ytrain)"
   ]
  },
  {
   "cell_type": "markdown",
   "metadata": {},
   "source": [
    "<h1><center><div style=\"direction:rtl;font-family:B Nazanin\">CNN And UnBalanced RAW Data</div></center></h1>\n",
    "<h1><center><div style=\"direction:rtl;font-family:Arial\">Cross Entropy Loss Function</div></center></h1>"
   ]
  },
  {
   "cell_type": "code",
   "execution_count": 21,
   "metadata": {
    "scrolled": true
   },
   "outputs": [
    {
     "name": "stdout",
     "output_type": "stream",
     "text": [
      "X_train =>  (155, 480)\n",
      "y_train =>  (155,)\n",
      "X_test  =>  (308, 480)\n",
      "y_test  =>  (308,)\n",
      "X_valid  =>  (155, 480)\n",
      "y_valid  =>  (155,)\n"
     ]
    }
   ],
   "source": [
    "X_train=np.array(Xtrain)\n",
    "y_train=np.array(ytrain)\n",
    "X_test=np.array(Xtest)\n",
    "y_test=np.array(ytest)\n",
    "X_valid=np.array(Xtrain)\n",
    "y_valid=np.array(ytrain)\n",
    "print('X_train => ', X_train.shape)\n",
    "print('y_train => ', y_train.shape)\n",
    "print('X_test  => ', X_test.shape)\n",
    "print('y_test  => ', y_test.shape)\n",
    "print('X_valid  => ', X_valid.shape)\n",
    "print('y_valid  => ', y_valid.shape)"
   ]
  },
  {
   "cell_type": "code",
   "execution_count": 22,
   "metadata": {},
   "outputs": [],
   "source": [
    "y_train=np.array(y_train+1)\n",
    "y_test=np.array(y_test+1)\n",
    "y_valid=np.array(y_valid+1)"
   ]
  },
  {
   "cell_type": "code",
   "execution_count": 23,
   "metadata": {},
   "outputs": [],
   "source": [
    "y_train_cat=to_categorical(y_train)\n",
    "y_valid_cat=to_categorical(y_valid)\n",
    "y_test_cat=to_categorical(y_test)\n",
    "\n",
    "\n",
    "X_train = np.expand_dims(X_train, axis=2)\n",
    "X_valid = np.expand_dims(X_valid, axis=2)\n",
    "X_test = np.expand_dims(X_test, axis=2)\n",
    "#y_train=np.transpose([y_train])"
   ]
  },
  {
   "cell_type": "code",
   "execution_count": 24,
   "metadata": {
    "scrolled": true
   },
   "outputs": [
    {
     "name": "stdout",
     "output_type": "stream",
     "text": [
      "Epoch 1/1000\n",
      "2/2 [==============================] - 4s 540ms/step - loss: 5.3816 - accuracy: 0.1161 - val_loss: 1.8942 - val_accuracy: 0.2194\n",
      "Epoch 2/1000\n",
      "2/2 [==============================] - 0s 50ms/step - loss: 2.1629 - accuracy: 0.2323 - val_loss: 1.9206 - val_accuracy: 0.2323\n",
      "Epoch 3/1000\n",
      "2/2 [==============================] - 0s 44ms/step - loss: 1.7480 - accuracy: 0.2258 - val_loss: 1.8999 - val_accuracy: 0.2129\n",
      "Epoch 4/1000\n",
      "2/2 [==============================] - 0s 45ms/step - loss: 1.6423 - accuracy: 0.4194 - val_loss: 1.8681 - val_accuracy: 0.2194\n",
      "Epoch 5/1000\n",
      "2/2 [==============================] - 0s 46ms/step - loss: 1.8303 - accuracy: 0.2903 - val_loss: 1.8949 - val_accuracy: 0.2323\n",
      "Epoch 6/1000\n",
      "2/2 [==============================] - 0s 49ms/step - loss: 1.7231 - accuracy: 0.3484 - val_loss: 1.8665 - val_accuracy: 0.2839\n",
      "Epoch 7/1000\n",
      "2/2 [==============================] - 0s 50ms/step - loss: 1.6402 - accuracy: 0.3290 - val_loss: 1.8561 - val_accuracy: 0.3806\n",
      "Epoch 8/1000\n",
      "2/2 [==============================] - 0s 41ms/step - loss: 1.4587 - accuracy: 0.3613 - val_loss: 1.8463 - val_accuracy: 0.2194\n",
      "Epoch 9/1000\n",
      "2/2 [==============================] - 0s 41ms/step - loss: 1.4795 - accuracy: 0.3742 - val_loss: 1.8552 - val_accuracy: 0.2194\n",
      "Epoch 10/1000\n",
      "2/2 [==============================] - 0s 39ms/step - loss: 1.6262 - accuracy: 0.3613 - val_loss: 1.8693 - val_accuracy: 0.2194\n",
      "Epoch 11/1000\n",
      "2/2 [==============================] - 0s 40ms/step - loss: 1.6056 - accuracy: 0.2581 - val_loss: 1.8437 - val_accuracy: 0.2194\n",
      "Epoch 12/1000\n",
      "2/2 [==============================] - 0s 41ms/step - loss: 1.4181 - accuracy: 0.3613 - val_loss: 1.8466 - val_accuracy: 0.2194\n",
      "Epoch 13/1000\n",
      "2/2 [==============================] - 0s 39ms/step - loss: 1.4224 - accuracy: 0.4452 - val_loss: 1.8406 - val_accuracy: 0.2194\n",
      "Epoch 14/1000\n",
      "2/2 [==============================] - 0s 40ms/step - loss: 1.3702 - accuracy: 0.4710 - val_loss: 1.8206 - val_accuracy: 0.2258\n",
      "Epoch 15/1000\n",
      "2/2 [==============================] - 0s 42ms/step - loss: 1.8527 - accuracy: 0.4129 - val_loss: 1.8602 - val_accuracy: 0.2194\n",
      "Epoch 16/1000\n",
      "2/2 [==============================] - 0s 41ms/step - loss: 1.5200 - accuracy: 0.4065 - val_loss: 1.8317 - val_accuracy: 0.2194\n",
      "Epoch 17/1000\n",
      "2/2 [==============================] - 0s 41ms/step - loss: 1.2705 - accuracy: 0.5097 - val_loss: 1.8012 - val_accuracy: 0.2774\n",
      "Epoch 18/1000\n",
      "2/2 [==============================] - 0s 39ms/step - loss: 1.3128 - accuracy: 0.4710 - val_loss: 1.8180 - val_accuracy: 0.2194\n",
      "Epoch 19/1000\n",
      "2/2 [==============================] - 0s 39ms/step - loss: 1.2346 - accuracy: 0.5484 - val_loss: 1.8101 - val_accuracy: 0.2194\n",
      "Epoch 20/1000\n",
      "2/2 [==============================] - 0s 40ms/step - loss: 1.1458 - accuracy: 0.5742 - val_loss: 1.7738 - val_accuracy: 0.2774\n",
      "Epoch 21/1000\n",
      "2/2 [==============================] - 0s 41ms/step - loss: 1.0566 - accuracy: 0.5871 - val_loss: 1.7714 - val_accuracy: 0.2194\n",
      "Epoch 22/1000\n",
      "2/2 [==============================] - 0s 39ms/step - loss: 1.3427 - accuracy: 0.4710 - val_loss: 1.7935 - val_accuracy: 0.2194\n",
      "Epoch 23/1000\n",
      "2/2 [==============================] - 0s 39ms/step - loss: 1.0535 - accuracy: 0.6258 - val_loss: 1.8052 - val_accuracy: 0.1548\n",
      "Epoch 24/1000\n",
      "2/2 [==============================] - 0s 39ms/step - loss: 1.2765 - accuracy: 0.5032 - val_loss: 1.7462 - val_accuracy: 0.2839\n",
      "Epoch 25/1000\n",
      "2/2 [==============================] - 0s 41ms/step - loss: 1.0735 - accuracy: 0.5742 - val_loss: 1.7784 - val_accuracy: 0.2516\n",
      "Epoch 26/1000\n",
      "2/2 [==============================] - 0s 39ms/step - loss: 1.3344 - accuracy: 0.5161 - val_loss: 1.7450 - val_accuracy: 0.2839\n",
      "Epoch 27/1000\n",
      "2/2 [==============================] - 0s 41ms/step - loss: 0.9317 - accuracy: 0.6194 - val_loss: 1.7234 - val_accuracy: 0.2258\n",
      "Epoch 28/1000\n",
      "2/2 [==============================] - 0s 40ms/step - loss: 0.8482 - accuracy: 0.6581 - val_loss: 1.7522 - val_accuracy: 0.2194\n",
      "Epoch 29/1000\n",
      "2/2 [==============================] - 0s 41ms/step - loss: 1.5661 - accuracy: 0.5032 - val_loss: 1.7784 - val_accuracy: 0.2194\n",
      "Epoch 30/1000\n",
      "2/2 [==============================] - 0s 41ms/step - loss: 0.9786 - accuracy: 0.6452 - val_loss: 1.6991 - val_accuracy: 0.2323\n",
      "Epoch 31/1000\n",
      "2/2 [==============================] - 0s 40ms/step - loss: 0.7136 - accuracy: 0.7226 - val_loss: 1.6930 - val_accuracy: 0.2258\n",
      "Epoch 32/1000\n",
      "2/2 [==============================] - 0s 41ms/step - loss: 1.0791 - accuracy: 0.6129 - val_loss: 1.7886 - val_accuracy: 0.2516\n",
      "Epoch 33/1000\n",
      "2/2 [==============================] - 0s 41ms/step - loss: 0.8492 - accuracy: 0.6839 - val_loss: 1.7000 - val_accuracy: 0.2323\n",
      "Epoch 34/1000\n",
      "2/2 [==============================] - 0s 40ms/step - loss: 0.5666 - accuracy: 0.8194 - val_loss: 1.7362 - val_accuracy: 0.2387\n",
      "Epoch 35/1000\n",
      "2/2 [==============================] - 0s 41ms/step - loss: 1.0683 - accuracy: 0.5871 - val_loss: 1.7287 - val_accuracy: 0.2194\n",
      "Epoch 36/1000\n",
      "2/2 [==============================] - 0s 42ms/step - loss: 0.8654 - accuracy: 0.6645 - val_loss: 1.7152 - val_accuracy: 0.2452\n",
      "Epoch 37/1000\n",
      "2/2 [==============================] - 0s 43ms/step - loss: 0.3864 - accuracy: 0.8516 - val_loss: 1.6658 - val_accuracy: 0.2258\n",
      "Epoch 38/1000\n",
      "2/2 [==============================] - 0s 44ms/step - loss: 0.9171 - accuracy: 0.6645 - val_loss: 1.7555 - val_accuracy: 0.2194\n",
      "Epoch 39/1000\n",
      "2/2 [==============================] - 0s 42ms/step - loss: 0.5895 - accuracy: 0.8129 - val_loss: 1.7098 - val_accuracy: 0.2387\n",
      "Epoch 40/1000\n",
      "2/2 [==============================] - 0s 41ms/step - loss: 0.5934 - accuracy: 0.7806 - val_loss: 1.6977 - val_accuracy: 0.2323\n",
      "Epoch 41/1000\n",
      "2/2 [==============================] - 0s 41ms/step - loss: 0.2463 - accuracy: 0.9484 - val_loss: 1.7207 - val_accuracy: 0.1032\n",
      "Epoch 42/1000\n",
      "2/2 [==============================] - 0s 40ms/step - loss: 0.1799 - accuracy: 0.9484 - val_loss: 1.7440 - val_accuracy: 0.2065\n",
      "Epoch 43/1000\n",
      "2/2 [==============================] - 0s 41ms/step - loss: 0.4523 - accuracy: 0.8258 - val_loss: 1.7499 - val_accuracy: 0.1290\n",
      "Epoch 44/1000\n",
      "2/2 [==============================] - 0s 41ms/step - loss: 0.3977 - accuracy: 0.8452 - val_loss: 1.7248 - val_accuracy: 0.1097\n",
      "Epoch 45/1000\n",
      "2/2 [==============================] - 0s 41ms/step - loss: 0.1886 - accuracy: 0.9548 - val_loss: 1.7380 - val_accuracy: 0.1032\n",
      "Epoch 46/1000\n",
      "2/2 [==============================] - 0s 41ms/step - loss: 0.2361 - accuracy: 0.9097 - val_loss: 1.7221 - val_accuracy: 0.1032\n",
      "Epoch 47/1000\n",
      "2/2 [==============================] - 0s 41ms/step - loss: 0.1439 - accuracy: 0.9548 - val_loss: 1.7424 - val_accuracy: 0.1161\n",
      "Epoch 48/1000\n",
      "2/2 [==============================] - 0s 41ms/step - loss: 0.0328 - accuracy: 1.0000 - val_loss: 1.8755 - val_accuracy: 0.1161\n",
      "Epoch 49/1000\n",
      "2/2 [==============================] - 0s 42ms/step - loss: 0.0183 - accuracy: 1.0000 - val_loss: 1.9417 - val_accuracy: 0.1161\n",
      "Epoch 50/1000\n",
      "2/2 [==============================] - 0s 41ms/step - loss: 0.0147 - accuracy: 1.0000 - val_loss: 2.0353 - val_accuracy: 0.1161\n",
      "Epoch 51/1000\n",
      "2/2 [==============================] - 0s 41ms/step - loss: 0.0032 - accuracy: 1.0000 - val_loss: 2.2207 - val_accuracy: 0.1161\n",
      "Epoch 52/1000\n",
      "2/2 [==============================] - 0s 42ms/step - loss: 0.0016 - accuracy: 1.0000 - val_loss: 2.2827 - val_accuracy: 0.1161\n",
      "Epoch 53/1000\n",
      "2/2 [==============================] - 0s 41ms/step - loss: 0.0012 - accuracy: 1.0000 - val_loss: 2.3760 - val_accuracy: 0.1161\n",
      "Epoch 54/1000\n",
      "2/2 [==============================] - 0s 43ms/step - loss: 9.8879e-04 - accuracy: 1.0000 - val_loss: 2.3997 - val_accuracy: 0.1161\n",
      "Epoch 55/1000\n",
      "2/2 [==============================] - 0s 43ms/step - loss: 7.5928e-04 - accuracy: 1.0000 - val_loss: 2.4794 - val_accuracy: 0.1161\n",
      "Epoch 56/1000\n",
      "2/2 [==============================] - 0s 43ms/step - loss: 6.9692e-04 - accuracy: 1.0000 - val_loss: 2.5324 - val_accuracy: 0.1161\n",
      "Epoch 57/1000\n",
      "2/2 [==============================] - 0s 48ms/step - loss: 5.4446e-04 - accuracy: 1.0000 - val_loss: 2.5780 - val_accuracy: 0.1161\n",
      "2/2 [==============================] - 0s 5ms/step - loss: 1.8561 - accuracy: 0.3806\n",
      "np.shape(X_test)= (308, 480, 1)\n",
      "Accuracy=  0.38064515590667725\n"
     ]
    }
   ],
   "source": [
    "#VGG16_1D\n",
    "\n",
    "accuracy=0\n",
    "acc_crs=np.array([])\n",
    "##for i in range (10):\n",
    "##    if accuracy<0.2 :\n",
    "\n",
    "verbose, epochs, batch_size = 1, 1000, 80\n",
    "n_timesteps, n_features, n_outputs = X_train.shape[1], X_train.shape[2], y_train_cat.shape[1]\n",
    "steps_per_epoch = len(X_train)//batch_size\n",
    "validation_steps = len(X_valid)//batch_size # if you have test data\n",
    "\n",
    "\n",
    "\n",
    "model_crs = Sequential()\n",
    "#model_crs.add(Conv1D(input_shape=x_train.shape[1:],filters=64,kernel_size=9,padding=\"same\", activation=\"relu\"))\n",
    "model_crs.add(Conv1D(filters=128, kernel_size=12, strides=1, activation='relu', input_shape=(n_timesteps,n_features))) #Replaced\n",
    "model_crs.add(BatchNormalization())\n",
    "model_crs.add(MaxPooling1D(pool_size=2,strides=3))\n",
    "\n",
    "model_crs.add(Conv1D(filters=32, kernel_size=7, strides=1, padding=\"same\", activation=\"relu\"))\n",
    "model_crs.add(BatchNormalization())\n",
    "model_crs.add(MaxPooling1D(pool_size=2,strides=2))\n",
    "\n",
    "model_crs.add(Conv1D(filters=32, kernel_size=10, strides=1, padding=\"same\", activation=\"relu\"))\n",
    "model_crs.add(Conv1D(filters=128, kernel_size=5, strides=2, padding=\"same\", activation=\"relu\"))\n",
    "model_crs.add(MaxPooling1D(pool_size=2,strides=2))\n",
    "\n",
    "model_crs.add(Conv1D(filters=256, kernel_size=15, strides=1, padding=\"same\", activation=\"relu\"))\n",
    "model_crs.add(MaxPooling1D(pool_size=2,strides=2))\n",
    "\n",
    "model_crs.add(Conv1D(filters=512, kernel_size=5, strides=1, padding=\"same\", activation=\"relu\"))\n",
    "#model_crs.add(Conv1D(filters=128, kernel_size=3, strides=1, padding=\"same\", activation=\"relu\"))\n",
    "\n",
    "\n",
    "model_crs.add(Flatten())\n",
    "model_crs.add(Dropout(0.1))\n",
    "model_crs.add(Dense(units=512,activation=\"relu\"))\n",
    "#model_crs.add(Dense(units=2048,activation=\"relu\"))\n",
    "model_crs.add(Dense(n_outputs, activation='softmax'))   #Replaced here from old Model\n",
    "\n",
    "model_crs.compile(optimizer='rmsprop', loss='categorical_crossentropy', metrics=['accuracy'])\n",
    "# fit network   #CategoricalCrossentropy #sparse_categorical_crossentropy #SparseCategoricalCrossentropy\n",
    "\n",
    "earlystopping = callbacks.EarlyStopping(monitor =\"val_accuracy\", mode =\"max\", patience = 50, restore_best_weights = True)\n",
    "\n",
    "model_crs.fit(X_train, y_train_cat, epochs=epochs, batch_size=batch_size, verbose=verbose, validation_data = (X_valid, y_valid_cat), callbacks =[earlystopping])\n",
    "\n",
    "_, accuracy = model_crs.evaluate(X_valid, y_valid_cat, batch_size=batch_size, verbose=1)\n",
    "\n",
    "print('np.shape(X_test)=',np.shape(X_test))\n",
    "\n",
    "print('Accuracy= ', accuracy)\n",
    "\n",
    "#y_pred_vgg = model_crs.predict_classes(X_test)\n"
   ]
  },
  {
   "cell_type": "code",
   "execution_count": 25,
   "metadata": {},
   "outputs": [],
   "source": [
    "def maxindx(ar):\n",
    "    ar_cpy=np.array(ar)\n",
    "    pred=np.argmax(ar,axis=1)\n",
    "    for i in range (len(pred)):\n",
    "        if pred[i]==0:\n",
    "            ar_cpy[i,0]=-1000\n",
    "    pred=np.argmax(ar_cpy,axis=1)\n",
    "    return(pred)"
   ]
  },
  {
   "cell_type": "code",
   "execution_count": 26,
   "metadata": {},
   "outputs": [
    {
     "name": "stdout",
     "output_type": "stream",
     "text": [
      "10/10 [==============================] - 0s 20ms/step\n",
      "array([[ 0,  0, 28, 12, 20],\n",
      "       [ 0,  0, 36, 17,  5],\n",
      "       [ 0,  0, 43, 10,  6],\n",
      "       [ 0,  0, 27, 19, 18],\n",
      "       [ 0,  0, 16, 13, 38]], dtype=int64)\n",
      "              precision    recall  f1-score   support\n",
      "\n",
      "           2       0.00      0.00      0.00        60\n",
      "           3       0.00      0.00      0.00        58\n",
      "           4       0.29      0.73      0.41        59\n",
      "           5       0.27      0.30      0.28        64\n",
      "           6       0.44      0.57      0.49        67\n",
      "\n",
      "    accuracy                           0.32       308\n",
      "   macro avg       0.20      0.32      0.24       308\n",
      "weighted avg       0.21      0.32      0.24       308\n",
      "\n"
     ]
    },
    {
     "name": "stderr",
     "output_type": "stream",
     "text": [
      "C:\\ProgramData\\Anaconda3\\lib\\site-packages\\sklearn\\metrics\\_classification.py:1248: UndefinedMetricWarning: Precision and F-score are ill-defined and being set to 0.0 in labels with no predicted samples. Use `zero_division` parameter to control this behavior.\n",
      "  _warn_prf(average, modifier, msg_start, len(result))\n",
      "C:\\ProgramData\\Anaconda3\\lib\\site-packages\\sklearn\\metrics\\_classification.py:1248: UndefinedMetricWarning: Precision and F-score are ill-defined and being set to 0.0 in labels with no predicted samples. Use `zero_division` parameter to control this behavior.\n",
      "  _warn_prf(average, modifier, msg_start, len(result))\n",
      "C:\\ProgramData\\Anaconda3\\lib\\site-packages\\sklearn\\metrics\\_classification.py:1248: UndefinedMetricWarning: Precision and F-score are ill-defined and being set to 0.0 in labels with no predicted samples. Use `zero_division` parameter to control this behavior.\n",
      "  _warn_prf(average, modifier, msg_start, len(result))\n"
     ]
    }
   ],
   "source": [
    "predict_x=model_crs.predict(X_test)              # Function 1\n",
    "\n",
    "y_pred_crs=maxindx(predict_x)                    # function from augment.py to remove 0 index predictions\n",
    "\n",
    "#y_pred_crs = model_crs.predict_classes(X_test)\n",
    "\n",
    "cm = confusion_matrix(y_test, y_pred_crs)\n",
    "fullprint(cm)\n",
    "acc3=accuracy_score(y_test, y_pred_crs)\n",
    "\n",
    "print(classification_report(y_test, y_pred_crs))\n",
    "\n",
    "#sns.heatmap(cm, annot=True)\n",
    "\n",
    "#plt.imshow(cm)"
   ]
  },
  {
   "cell_type": "code",
   "execution_count": 27,
   "metadata": {},
   "outputs": [
    {
     "name": "stdout",
     "output_type": "stream",
     "text": [
      "Epoch 1/1000\n",
      "2/2 [==============================] - 2s 723ms/step - loss: 17.3443 - accuracy: 0.0903 - val_loss: 1.9228 - val_accuracy: 0.2194\n",
      "Epoch 2/1000\n",
      "2/2 [==============================] - 0s 54ms/step - loss: 2.6458 - accuracy: 0.2387 - val_loss: 1.9169 - val_accuracy: 0.2194\n",
      "Epoch 3/1000\n",
      "2/2 [==============================] - 0s 60ms/step - loss: 1.7759 - accuracy: 0.1935 - val_loss: 1.8922 - val_accuracy: 0.2194\n",
      "Epoch 4/1000\n",
      "2/2 [==============================] - 0s 60ms/step - loss: 1.9187 - accuracy: 0.3290 - val_loss: 1.8770 - val_accuracy: 0.2194\n",
      "Epoch 5/1000\n",
      "2/2 [==============================] - 0s 78ms/step - loss: 1.6958 - accuracy: 0.2323 - val_loss: 1.8528 - val_accuracy: 0.2645\n",
      "Epoch 6/1000\n",
      "2/2 [==============================] - 0s 57ms/step - loss: 1.5532 - accuracy: 0.2710 - val_loss: 1.8455 - val_accuracy: 0.2129\n",
      "Epoch 7/1000\n",
      "2/2 [==============================] - 0s 52ms/step - loss: 1.6620 - accuracy: 0.2645 - val_loss: 1.8501 - val_accuracy: 0.2194\n",
      "Epoch 8/1000\n",
      "2/2 [==============================] - 0s 69ms/step - loss: 1.4813 - accuracy: 0.3871 - val_loss: 1.8170 - val_accuracy: 0.2903\n",
      "Epoch 9/1000\n",
      "2/2 [==============================] - 0s 52ms/step - loss: 1.5711 - accuracy: 0.3290 - val_loss: 1.8210 - val_accuracy: 0.2645\n",
      "Epoch 10/1000\n",
      "2/2 [==============================] - 0s 53ms/step - loss: 1.3781 - accuracy: 0.3677 - val_loss: 1.8270 - val_accuracy: 0.2194\n",
      "Epoch 11/1000\n",
      "2/2 [==============================] - 0s 52ms/step - loss: 1.4224 - accuracy: 0.4516 - val_loss: 1.8195 - val_accuracy: 0.2323\n",
      "Epoch 12/1000\n",
      "2/2 [==============================] - 0s 51ms/step - loss: 1.5374 - accuracy: 0.4129 - val_loss: 1.7721 - val_accuracy: 0.2452\n",
      "Epoch 13/1000\n",
      "2/2 [==============================] - 0s 51ms/step - loss: 1.3780 - accuracy: 0.4516 - val_loss: 1.7846 - val_accuracy: 0.2323\n",
      "Epoch 14/1000\n",
      "2/2 [==============================] - 0s 53ms/step - loss: 1.3953 - accuracy: 0.4065 - val_loss: 1.7917 - val_accuracy: 0.2323\n",
      "Epoch 15/1000\n",
      "2/2 [==============================] - 0s 53ms/step - loss: 1.4093 - accuracy: 0.4258 - val_loss: 1.8212 - val_accuracy: 0.2194\n",
      "Epoch 16/1000\n",
      "2/2 [==============================] - 0s 73ms/step - loss: 1.3106 - accuracy: 0.4774 - val_loss: 1.7535 - val_accuracy: 0.3161\n",
      "Epoch 17/1000\n",
      "2/2 [==============================] - 0s 52ms/step - loss: 1.2422 - accuracy: 0.4710 - val_loss: 1.8102 - val_accuracy: 0.2194\n",
      "Epoch 18/1000\n",
      "2/2 [==============================] - 0s 52ms/step - loss: 1.1984 - accuracy: 0.5742 - val_loss: 1.7616 - val_accuracy: 0.2194\n",
      "Epoch 19/1000\n",
      "2/2 [==============================] - 0s 70ms/step - loss: 1.1816 - accuracy: 0.5097 - val_loss: 1.7462 - val_accuracy: 0.3290\n",
      "Epoch 20/1000\n",
      "2/2 [==============================] - 0s 52ms/step - loss: 1.1707 - accuracy: 0.5290 - val_loss: 1.7903 - val_accuracy: 0.2323\n",
      "Epoch 21/1000\n",
      "2/2 [==============================] - 0s 53ms/step - loss: 1.1558 - accuracy: 0.5484 - val_loss: 1.7811 - val_accuracy: 0.2194\n",
      "Epoch 22/1000\n",
      "2/2 [==============================] - 0s 55ms/step - loss: 1.2056 - accuracy: 0.5032 - val_loss: 1.7430 - val_accuracy: 0.3032\n",
      "Epoch 23/1000\n",
      "2/2 [==============================] - 0s 55ms/step - loss: 0.9968 - accuracy: 0.6065 - val_loss: 1.7352 - val_accuracy: 0.2194\n",
      "Epoch 24/1000\n",
      "2/2 [==============================] - 0s 52ms/step - loss: 1.3668 - accuracy: 0.4903 - val_loss: 1.7753 - val_accuracy: 0.2323\n",
      "Epoch 25/1000\n",
      "2/2 [==============================] - 0s 53ms/step - loss: 0.9466 - accuracy: 0.6387 - val_loss: 1.7221 - val_accuracy: 0.1226\n",
      "Epoch 26/1000\n",
      "2/2 [==============================] - 0s 51ms/step - loss: 1.5417 - accuracy: 0.5226 - val_loss: 1.8273 - val_accuracy: 0.2968\n",
      "Epoch 27/1000\n",
      "2/2 [==============================] - 0s 51ms/step - loss: 1.2425 - accuracy: 0.5742 - val_loss: 1.7722 - val_accuracy: 0.2903\n",
      "Epoch 28/1000\n",
      "2/2 [==============================] - 0s 54ms/step - loss: 1.0923 - accuracy: 0.5613 - val_loss: 1.6979 - val_accuracy: 0.1871\n",
      "Epoch 29/1000\n",
      "2/2 [==============================] - 0s 52ms/step - loss: 1.0012 - accuracy: 0.5871 - val_loss: 1.7695 - val_accuracy: 0.2452\n",
      "Epoch 30/1000\n",
      "2/2 [==============================] - 0s 52ms/step - loss: 1.0047 - accuracy: 0.5548 - val_loss: 1.7190 - val_accuracy: 0.2581\n",
      "Epoch 31/1000\n",
      "2/2 [==============================] - 0s 53ms/step - loss: 1.1553 - accuracy: 0.6387 - val_loss: 1.7713 - val_accuracy: 0.2839\n",
      "Epoch 32/1000\n",
      "2/2 [==============================] - 0s 54ms/step - loss: 1.0631 - accuracy: 0.5677 - val_loss: 1.7662 - val_accuracy: 0.2323\n",
      "Epoch 33/1000\n",
      "2/2 [==============================] - 0s 53ms/step - loss: 0.8963 - accuracy: 0.5548 - val_loss: 1.7511 - val_accuracy: 0.2452\n",
      "Epoch 34/1000\n",
      "2/2 [==============================] - 0s 53ms/step - loss: 0.6750 - accuracy: 0.7548 - val_loss: 1.7417 - val_accuracy: 0.1871\n",
      "Epoch 35/1000\n",
      "2/2 [==============================] - 0s 56ms/step - loss: 1.2178 - accuracy: 0.5871 - val_loss: 1.7810 - val_accuracy: 0.2516\n",
      "Epoch 36/1000\n",
      "2/2 [==============================] - 0s 54ms/step - loss: 0.6560 - accuracy: 0.7548 - val_loss: 1.6943 - val_accuracy: 0.2774\n",
      "Epoch 37/1000\n",
      "2/2 [==============================] - 0s 54ms/step - loss: 0.6350 - accuracy: 0.7419 - val_loss: 1.7427 - val_accuracy: 0.2516\n",
      "Epoch 38/1000\n",
      "2/2 [==============================] - 0s 55ms/step - loss: 0.5504 - accuracy: 0.7677 - val_loss: 1.7016 - val_accuracy: 0.1097\n",
      "Epoch 39/1000\n",
      "2/2 [==============================] - 0s 53ms/step - loss: 0.7785 - accuracy: 0.6968 - val_loss: 1.7356 - val_accuracy: 0.2194\n",
      "Epoch 40/1000\n",
      "2/2 [==============================] - 0s 54ms/step - loss: 0.6672 - accuracy: 0.7355 - val_loss: 1.6979 - val_accuracy: 0.1677\n",
      "Epoch 41/1000\n",
      "2/2 [==============================] - 0s 55ms/step - loss: 0.5901 - accuracy: 0.7613 - val_loss: 1.6972 - val_accuracy: 0.1355\n",
      "Epoch 42/1000\n",
      "2/2 [==============================] - 0s 54ms/step - loss: 0.5102 - accuracy: 0.7935 - val_loss: 1.7218 - val_accuracy: 0.1613\n",
      "Epoch 43/1000\n",
      "2/2 [==============================] - 0s 54ms/step - loss: 0.3727 - accuracy: 0.8387 - val_loss: 1.8947 - val_accuracy: 0.1290\n",
      "Epoch 44/1000\n",
      "2/2 [==============================] - 0s 54ms/step - loss: 0.4074 - accuracy: 0.8323 - val_loss: 1.8029 - val_accuracy: 0.1097\n",
      "Epoch 45/1000\n",
      "2/2 [==============================] - 0s 52ms/step - loss: 0.6769 - accuracy: 0.7613 - val_loss: 1.7355 - val_accuracy: 0.1097\n",
      "Epoch 46/1000\n",
      "2/2 [==============================] - 0s 52ms/step - loss: 0.3967 - accuracy: 0.8774 - val_loss: 2.4848 - val_accuracy: 0.1097\n",
      "Epoch 47/1000\n",
      "2/2 [==============================] - 0s 53ms/step - loss: 0.3223 - accuracy: 0.8903 - val_loss: 2.2629 - val_accuracy: 0.1097\n",
      "Epoch 48/1000\n",
      "2/2 [==============================] - 0s 54ms/step - loss: 0.4511 - accuracy: 0.7935 - val_loss: 1.7347 - val_accuracy: 0.1161\n",
      "Epoch 49/1000\n",
      "2/2 [==============================] - 0s 52ms/step - loss: 0.2890 - accuracy: 0.9290 - val_loss: 2.1790 - val_accuracy: 0.1097\n",
      "Epoch 50/1000\n",
      "2/2 [==============================] - 0s 55ms/step - loss: 0.1149 - accuracy: 0.9548 - val_loss: 3.4147 - val_accuracy: 0.1161\n",
      "Epoch 51/1000\n",
      "2/2 [==============================] - 0s 55ms/step - loss: 0.0824 - accuracy: 0.9742 - val_loss: 2.4797 - val_accuracy: 0.1097\n",
      "Epoch 52/1000\n",
      "2/2 [==============================] - 0s 54ms/step - loss: 0.1834 - accuracy: 0.9097 - val_loss: 2.1295 - val_accuracy: 0.1097\n",
      "Epoch 53/1000\n",
      "2/2 [==============================] - 0s 54ms/step - loss: 1.2566 - accuracy: 0.6516 - val_loss: 1.7874 - val_accuracy: 0.2258\n",
      "Epoch 54/1000\n",
      "2/2 [==============================] - 0s 54ms/step - loss: 1.2340 - accuracy: 0.5032 - val_loss: 1.8911 - val_accuracy: 0.1161\n",
      "Epoch 55/1000\n",
      "2/2 [==============================] - 0s 54ms/step - loss: 0.5795 - accuracy: 0.7484 - val_loss: 1.8564 - val_accuracy: 0.1484\n",
      "Epoch 56/1000\n",
      "2/2 [==============================] - 0s 52ms/step - loss: 0.5007 - accuracy: 0.8000 - val_loss: 1.8089 - val_accuracy: 0.1355\n",
      "Epoch 57/1000\n",
      "2/2 [==============================] - 0s 54ms/step - loss: 0.2770 - accuracy: 0.9097 - val_loss: 2.0321 - val_accuracy: 0.1097\n",
      "Epoch 58/1000\n",
      "2/2 [==============================] - 0s 55ms/step - loss: 0.0532 - accuracy: 0.9871 - val_loss: 2.4138 - val_accuracy: 0.1097\n"
     ]
    },
    {
     "name": "stdout",
     "output_type": "stream",
     "text": [
      "Epoch 59/1000\n",
      "2/2 [==============================] - 0s 54ms/step - loss: 0.0177 - accuracy: 1.0000 - val_loss: 2.8614 - val_accuracy: 0.1097\n",
      "Epoch 60/1000\n",
      "2/2 [==============================] - 0s 54ms/step - loss: 0.0037 - accuracy: 1.0000 - val_loss: 3.5683 - val_accuracy: 0.1097\n",
      "Epoch 61/1000\n",
      "2/2 [==============================] - 0s 55ms/step - loss: 0.0012 - accuracy: 1.0000 - val_loss: 4.2751 - val_accuracy: 0.1161\n",
      "Epoch 62/1000\n",
      "2/2 [==============================] - 0s 53ms/step - loss: 4.4474e-04 - accuracy: 1.0000 - val_loss: 5.0241 - val_accuracy: 0.1161\n",
      "Epoch 63/1000\n",
      "2/2 [==============================] - 0s 54ms/step - loss: 2.7089e-04 - accuracy: 1.0000 - val_loss: 5.7304 - val_accuracy: 0.1161\n",
      "Epoch 64/1000\n",
      "2/2 [==============================] - 0s 54ms/step - loss: 1.6530e-04 - accuracy: 1.0000 - val_loss: 5.8704 - val_accuracy: 0.1161\n",
      "Epoch 65/1000\n",
      "2/2 [==============================] - 0s 53ms/step - loss: 1.1409e-04 - accuracy: 1.0000 - val_loss: 6.3469 - val_accuracy: 0.1161\n",
      "Epoch 66/1000\n",
      "2/2 [==============================] - 0s 54ms/step - loss: 8.4001e-05 - accuracy: 1.0000 - val_loss: 6.4991 - val_accuracy: 0.1161\n",
      "Epoch 67/1000\n",
      "2/2 [==============================] - 0s 53ms/step - loss: 7.3984e-05 - accuracy: 1.0000 - val_loss: 6.6714 - val_accuracy: 0.1161\n",
      "Epoch 68/1000\n",
      "2/2 [==============================] - 0s 53ms/step - loss: 6.9981e-05 - accuracy: 1.0000 - val_loss: 6.7486 - val_accuracy: 0.1161\n",
      "Epoch 69/1000\n",
      "2/2 [==============================] - 0s 61ms/step - loss: 4.5262e-05 - accuracy: 1.0000 - val_loss: 6.7929 - val_accuracy: 0.1161\n",
      "2/2 [==============================] - 0s 8ms/step - loss: 1.7462 - accuracy: 0.3290\n",
      "np.shape(X_test)= (308, 480, 1)\n",
      "Accuracy=  0.3290322721004486\n"
     ]
    }
   ],
   "source": [
    "#VGG16_1D\n",
    "\n",
    "accuracy=0\n",
    "acc_crs=np.array([])\n",
    "##for i in range (10):\n",
    "##    if accuracy<0.2 :\n",
    "\n",
    "verbose, epochs, batch_size = 1, 1000, 80\n",
    "n_timesteps, n_features, n_outputs = X_train.shape[1], X_train.shape[2], y_train_cat.shape[1]\n",
    "steps_per_epoch = len(X_train)//batch_size\n",
    "validation_steps = len(X_valid)//batch_size # if you have test data\n",
    "\n",
    "\n",
    "\n",
    "model_crs = Sequential()\n",
    "#model_crs.add(Conv1D(input_shape=x_train.shape[1:],filters=64,kernel_size=9,padding=\"same\", activation=\"relu\"))\n",
    "model_crs.add(Conv1D(filters=256, kernel_size=12, strides=1, activation='relu', input_shape=(n_timesteps,n_features))) #Replaced\n",
    "model_crs.add(BatchNormalization())\n",
    "model_crs.add(MaxPooling1D(pool_size=2,strides=3))\n",
    "\n",
    "model_crs.add(Conv1D(filters=64, kernel_size=7, strides=1, padding=\"same\", activation=\"relu\"))\n",
    "model_crs.add(BatchNormalization())\n",
    "model_crs.add(MaxPooling1D(pool_size=2,strides=2))\n",
    "\n",
    "model_crs.add(Conv1D(filters=64, kernel_size=10, strides=1, padding=\"same\", activation=\"relu\"))\n",
    "model_crs.add(Conv1D(filters=128, kernel_size=5, strides=2, padding=\"same\", activation=\"relu\"))\n",
    "model_crs.add(MaxPooling1D(pool_size=2,strides=2))\n",
    "\n",
    "model_crs.add(Conv1D(filters=512, kernel_size=15, strides=1, padding=\"same\", activation=\"relu\"))\n",
    "model_crs.add(MaxPooling1D(pool_size=2,strides=2))\n",
    "\n",
    "model_crs.add(Conv1D(filters=1024, kernel_size=5, strides=1, padding=\"same\", activation=\"relu\"))\n",
    "#model_crs.add(Conv1D(filters=128, kernel_size=3, strides=1, padding=\"same\", activation=\"relu\"))\n",
    "\n",
    "\n",
    "model_crs.add(Flatten())\n",
    "model_crs.add(Dropout(0.1))\n",
    "model_crs.add(Dense(units=512,activation=\"relu\"))\n",
    "#model_crs.add(Dense(units=2048,activation=\"relu\"))\n",
    "model_crs.add(Dense(n_outputs, activation='softmax'))   #Replaced here from old Model\n",
    "\n",
    "model_crs.compile(optimizer='rmsprop', loss='categorical_crossentropy', metrics=['accuracy'])\n",
    "# fit network   #CategoricalCrossentropy #sparse_categorical_crossentropy #SparseCategoricalCrossentropy\n",
    "\n",
    "earlystopping = callbacks.EarlyStopping(monitor =\"val_accuracy\", mode =\"max\", patience = 50, restore_best_weights = True)\n",
    "\n",
    "model_crs.fit(X_train, y_train_cat, epochs=epochs, batch_size=batch_size, verbose=verbose, validation_data = (X_valid, y_valid_cat), callbacks =[earlystopping])\n",
    "\n",
    "_, accuracy = model_crs.evaluate(X_valid, y_valid_cat, batch_size=batch_size, verbose=1)\n",
    "\n",
    "print('np.shape(X_test)=',np.shape(X_test))\n",
    "\n",
    "print('Accuracy= ', accuracy)\n",
    "\n",
    "#y_pred_vgg = model_crs.predict_classes(X_test)\n"
   ]
  },
  {
   "cell_type": "code",
   "execution_count": 28,
   "metadata": {},
   "outputs": [
    {
     "name": "stdout",
     "output_type": "stream",
     "text": [
      "10/10 [==============================] - 0s 17ms/step\n",
      "array([[ 0,  0, 30, 30,  0],\n",
      "       [ 0,  0, 27, 31,  0],\n",
      "       [ 0,  0, 43, 16,  0],\n",
      "       [ 0,  0, 25, 39,  0],\n",
      "       [ 0,  0, 21, 46,  0]], dtype=int64)\n",
      "              precision    recall  f1-score   support\n",
      "\n",
      "           2       0.00      0.00      0.00        60\n",
      "           3       0.00      0.00      0.00        58\n",
      "           4       0.29      0.73      0.42        59\n",
      "           5       0.24      0.61      0.35        64\n",
      "           6       0.00      0.00      0.00        67\n",
      "\n",
      "    accuracy                           0.27       308\n",
      "   macro avg       0.11      0.27      0.15       308\n",
      "weighted avg       0.11      0.27      0.15       308\n",
      "\n"
     ]
    },
    {
     "name": "stderr",
     "output_type": "stream",
     "text": [
      "C:\\ProgramData\\Anaconda3\\lib\\site-packages\\sklearn\\metrics\\_classification.py:1248: UndefinedMetricWarning: Precision and F-score are ill-defined and being set to 0.0 in labels with no predicted samples. Use `zero_division` parameter to control this behavior.\n",
      "  _warn_prf(average, modifier, msg_start, len(result))\n",
      "C:\\ProgramData\\Anaconda3\\lib\\site-packages\\sklearn\\metrics\\_classification.py:1248: UndefinedMetricWarning: Precision and F-score are ill-defined and being set to 0.0 in labels with no predicted samples. Use `zero_division` parameter to control this behavior.\n",
      "  _warn_prf(average, modifier, msg_start, len(result))\n",
      "C:\\ProgramData\\Anaconda3\\lib\\site-packages\\sklearn\\metrics\\_classification.py:1248: UndefinedMetricWarning: Precision and F-score are ill-defined and being set to 0.0 in labels with no predicted samples. Use `zero_division` parameter to control this behavior.\n",
      "  _warn_prf(average, modifier, msg_start, len(result))\n"
     ]
    }
   ],
   "source": [
    "predict_x=model_crs.predict(X_test)              # Function 1\n",
    "\n",
    "y_pred_crs=maxindx(predict_x)                    # function from augment.py to remove 0 index predictions\n",
    "\n",
    "#y_pred_crs = model_crs.predict_classes(X_test)\n",
    "\n",
    "cm = confusion_matrix(y_test, y_pred_crs)\n",
    "fullprint(cm)\n",
    "acc3=accuracy_score(y_test, y_pred_crs)\n",
    "\n",
    "print(classification_report(y_test, y_pred_crs))\n",
    "\n",
    "#sns.heatmap(cm, annot=True)\n",
    "\n",
    "#plt.imshow(cm)"
   ]
  },
  {
   "cell_type": "code",
   "execution_count": null,
   "metadata": {},
   "outputs": [],
   "source": []
  }
 ],
 "metadata": {
  "celltoolbar": "Raw Cell Format",
  "kernelspec": {
   "display_name": "Python 3 (ipykernel)",
   "language": "python",
   "name": "python3"
  },
  "language_info": {
   "codemirror_mode": {
    "name": "ipython",
    "version": 3
   },
   "file_extension": ".py",
   "mimetype": "text/x-python",
   "name": "python",
   "nbconvert_exporter": "python",
   "pygments_lexer": "ipython3",
   "version": "3.9.7"
  }
 },
 "nbformat": 4,
 "nbformat_minor": 4
}
