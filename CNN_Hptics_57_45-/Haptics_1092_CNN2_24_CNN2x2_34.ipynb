{
 "cells": [
  {
   "cell_type": "markdown",
   "metadata": {},
   "source": [
    "import time\n",
    "plc=1\n",
    "time.sleep(3000*plc)         #run after 1 houre = 3600 seconds"
   ]
  },
  {
   "cell_type": "code",
   "execution_count": 1,
   "metadata": {},
   "outputs": [
    {
     "data": {
      "text/html": [
       "<style>#notebook { padding-top:0px !important; } .container { width:100% !important; } .end_space { min-height:0px !important; } html, body, .container{ margin:0!important;padding:0!important;}</style>"
      ],
      "text/plain": [
       "<IPython.core.display.HTML object>"
      ]
     },
     "metadata": {},
     "output_type": "display_data"
    }
   ],
   "source": [
    "import os\n",
    "import glob\n",
    "import scipy\n",
    "import random\n",
    "import bisect\n",
    "import numpy as np\n",
    "import pandas as pd\n",
    "import seaborn as sns\n",
    "from scipy import signal\n",
    "from scipy.signal import find_peaks\n",
    "import matplotlib.pyplot as plt\n",
    "from preprocess import *                         #ماژول استخراج پنجره ها\n",
    "from data import *                          #ماژول محلی ورود داده ها\n",
    "from augment import *                            #ماژول های داده افزایی\n",
    "from lstm_cnn import *                           #ماژول های داده افزایی با lstm_cnn\n",
    "import augment\n",
    "import importlib\n",
    "importlib.reload(augment)\n",
    "import tensorflow as tf\n",
    "from tensorflow import keras\n",
    "from tensorflow.keras.layers import BatchNormalization\n",
    "from sklearn.model_selection import train_test_split\n",
    "from sklearn.neural_network import MLPClassifier\n",
    "from sklearn.datasets import make_classification\n",
    "from sklearn.metrics import confusion_matrix, accuracy_score, classification_report,recall_score,precision_score\n",
    "from tensorflow.keras import callbacks\n",
    "from tensorflow.keras import layers\n",
    "from tensorflow.keras.models import Sequential\n",
    "from tensorflow.keras.layers import Convolution2D,Conv1D,Dropout,MaxPooling1D,MaxPooling2D,Flatten,Dense\n",
    "from tensorflow.keras import backend as K\n",
    "from tensorflow.keras.utils import to_categorical\n",
    "from tensorflow.keras.models import load_model\n",
    "cwd = os.getcwd() #\n",
    "fullscrn()"
   ]
  },
  {
   "cell_type": "markdown",
   "metadata": {},
   "source": [
    "<h1><center><div style=\"direction:rtl;font-family:B Nazanin\">Importing Data</div></center></h1>"
   ]
  },
  {
   "cell_type": "code",
   "execution_count": 2,
   "metadata": {
    "scrolled": true
   },
   "outputs": [
    {
     "name": "stdout",
     "output_type": "stream",
     "text": [
      "first_train_shape= (155, 1093)\n",
      "first_test_shape= (308, 1093)\n",
      "classes_quantity= 5\n",
      "tr_lbls=\t {1, 2, 3, 4, 5}\n",
      "Count_labels= [18 34 34 36 33]\n",
      "max(train_feature_Altitude)= 5.0\n",
      "min(train_feature_Altitude)= -11.147\n",
      "first_train_sample=\n",
      " [ 5.      -1.0475   0.54834 ...  0.89676 -2.6913  -8.1963 ]\n",
      "1 18\t2 34\t3 34\t4 36\t5 33\t"
     ]
    }
   ],
   "source": [
    "rate=1092\n",
    "cls_num=5\n",
    "btch=20\n",
    "for i in range (1,cls_num+1):\n",
    "    vars()['ecg'+str(i)],vars()['ecg_tst'+str(i)]=Haptics0(i)\n",
    "\n",
    "os.chdir(cwd)\n",
    "clses_lens=np.array([])\n",
    "i=0                               #جمع آوری داده ها و چاپ تعداد نمونه ی هر کلاس\n",
    "ecg=np.array(ecg1)\n",
    "print(1,len(vars()['ecg'+str(1)]), end='\\t')\n",
    "clses_lens=np.append(clses_lens,len(vars()['ecg'+str(1)]))\n",
    "for i in range (2,cls_num+1):\n",
    "    ecg=np.concatenate((ecg,vars()['ecg'+str(i)]),axis=0)\n",
    "    clses_lens=np.append(clses_lens,len(vars()['ecg'+str(i)]))\n",
    "    print(i,len(vars()['ecg'+str(i)]), end='\\t')\n",
    "\n",
    "mx_sig=max(clses_lens)"
   ]
  },
  {
   "cell_type": "code",
   "execution_count": 3,
   "metadata": {},
   "outputs": [
    {
     "data": {
      "text/plain": [
       "(155, 1093)"
      ]
     },
     "execution_count": 3,
     "metadata": {},
     "output_type": "execute_result"
    }
   ],
   "source": [
    "np.shape(ecg)"
   ]
  },
  {
   "cell_type": "code",
   "execution_count": 4,
   "metadata": {},
   "outputs": [
    {
     "data": {
      "text/plain": [
       "array([1., 1., 1., 1., 1., 1., 1., 1., 1., 1., 1., 1., 1., 1., 1., 1., 1.,\n",
       "       1., 2., 2., 2., 2., 2., 2., 2., 2., 2., 2., 2., 2., 2., 2., 2., 2.,\n",
       "       2., 2., 2., 2., 2., 2., 2., 2., 2., 2., 2., 2., 2., 2., 2., 2., 2.,\n",
       "       2., 3., 3., 3., 3., 3., 3., 3., 3., 3., 3., 3., 3., 3., 3., 3., 3.,\n",
       "       3., 3., 3., 3., 3., 3., 3., 3., 3., 3., 3., 3., 3., 3., 3., 3., 3.,\n",
       "       3., 4., 4., 4., 4., 4., 4., 4., 4., 4., 4., 4., 4., 4., 4., 4., 4.,\n",
       "       4., 4., 4., 4., 4., 4., 4., 4., 4., 4., 4., 4., 4., 4., 4., 4., 4.,\n",
       "       4., 4., 4., 5., 5., 5., 5., 5., 5., 5., 5., 5., 5., 5., 5., 5., 5.,\n",
       "       5., 5., 5., 5., 5., 5., 5., 5., 5., 5., 5., 5., 5., 5., 5., 5., 5.,\n",
       "       5., 5.])"
      ]
     },
     "execution_count": 4,
     "metadata": {},
     "output_type": "execute_result"
    }
   ],
   "source": [
    "ecg[:,-1]"
   ]
  },
  {
   "cell_type": "markdown",
   "metadata": {},
   "source": [
    "<h2><center><div style=\"direction:rtl;font-family:B Nazanin\">Base Train windows</div></center></h1>"
   ]
  },
  {
   "cell_type": "code",
   "execution_count": 5,
   "metadata": {},
   "outputs": [
    {
     "name": "stdout",
     "output_type": "stream",
     "text": [
      "each class and its windows =\n",
      "1 18\t2 34\t3 34\t4 36\t5 33\t\n",
      " max = 36\n"
     ]
    }
   ],
   "source": [
    "smpl_rte=rate                                              # در ماژول ها نیز همین مقدار ثبت شده\n",
    "i=0\n",
    "windws=np.array([])\n",
    "\n",
    "for cls in range (1,cls_num+1):                                 #ساخت پنجره های داده های آموزش اصلی\n",
    "    vars()['wndws'+str(cls)]=np.array(vars()['ecg'+str(cls)])  \n",
    "    \n",
    "print(\"each class and its windows =\")\n",
    "\n",
    "cls_wndws=np.array([])\n",
    "for cls in range (1,cls_num+1):                                # آرایه ی تعداد پنجره ی هر کلاس\n",
    "    wns=len(vars()['wndws'+str(cls)])\n",
    "    cls_wndws=np.append(cls_wndws,wns)\n",
    "    print(cls, wns, end='\\t')\n",
    "\n",
    "mx_wndws=int(np.max(cls_wndws))                        # حداکثر تعداد پنجره ی موجود بین کلاس ها\n",
    "print('\\n max =', mx_wndws)"
   ]
  },
  {
   "cell_type": "raw",
   "metadata": {},
   "source": [
    "#clses=3                                   #تعیین میزان افزایش نمونه (تولید داده)\n",
    "mx_wndws=int(mx_wndws)  #mx_wndws*0.3  # =classes-1 برای بررسی الگوریتم تعداد کمی کلاس آزمایش شد\n",
    "mx_wndws=2598           #+2\n",
    "print(mx_wndws)"
   ]
  },
  {
   "cell_type": "markdown",
   "metadata": {},
   "source": [
    "<h1><center><div style=\"direction:rtl;font-family:B Nazanin\">Data Augmentation</div></center></h1>"
   ]
  },
  {
   "cell_type": "code",
   "execution_count": 6,
   "metadata": {},
   "outputs": [
    {
     "name": "stdout",
     "output_type": "stream",
     "text": [
      "Up to class  1 train shape =  (18, 1093)\n",
      "Up to class  2 train shape =  (52, 1093)\n",
      "Up to class  3 train shape =  (86, 1093)\n",
      "Up to class  4 train shape =  (122, 1093)\n",
      "Up to class  5 train shape =  (155, 1093)\n"
     ]
    }
   ],
   "source": [
    "smpl_rte=len(wndws1[0])                                        # در ماژول ها نیز همین مقدار ثبت شده\n",
    "\n",
    "#add augmented data to base data\n",
    "xtrain=np.empty((0,len(wndws1[0])), float) \n",
    "for i in range (1,cls_num+1):   \n",
    "    xtrain=np.append(xtrain,vars()['wndws'+str(i)],axis=0)\n",
    "    print('Up to class ', i, 'train shape = ', np.shape(xtrain))"
   ]
  },
  {
   "cell_type": "code",
   "execution_count": 7,
   "metadata": {},
   "outputs": [
    {
     "name": "stdout",
     "output_type": "stream",
     "text": [
      "[ 0 18 34 34 36 33]\n"
     ]
    }
   ],
   "source": [
    "print(np.bincount(np.int16(xtrain[:,-1])))    #تعداد پنجره در هر کلاس از 0 تا 17"
   ]
  },
  {
   "cell_type": "code",
   "execution_count": 8,
   "metadata": {},
   "outputs": [
    {
     "data": {
      "text/plain": [
       "array([1., 1., 1., 1., 1., 1., 1., 1., 1., 1., 1., 1., 1., 1., 1., 1., 1.,\n",
       "       1., 2., 2., 2., 2., 2., 2., 2., 2., 2., 2., 2., 2., 2., 2., 2., 2.,\n",
       "       2., 2., 2., 2., 2., 2., 2., 2., 2., 2., 2., 2., 2., 2., 2., 2., 2.,\n",
       "       2., 3., 3., 3., 3., 3., 3., 3., 3., 3., 3., 3., 3., 3., 3., 3., 3.,\n",
       "       3., 3., 3., 3., 3., 3., 3., 3., 3., 3., 3., 3., 3., 3., 3., 3., 3.,\n",
       "       3., 4., 4., 4., 4., 4., 4., 4., 4., 4., 4., 4., 4., 4., 4., 4., 4.,\n",
       "       4., 4., 4., 4., 4., 4., 4., 4., 4., 4., 4., 4., 4., 4., 4., 4., 4.,\n",
       "       4., 4., 4., 5., 5., 5., 5., 5., 5., 5., 5., 5., 5., 5., 5., 5., 5.,\n",
       "       5., 5., 5., 5., 5., 5., 5., 5., 5., 5., 5., 5., 5., 5., 5., 5., 5.,\n",
       "       5., 5.])"
      ]
     },
     "execution_count": 8,
     "metadata": {},
     "output_type": "execute_result"
    }
   ],
   "source": [
    "xtrain[:,-1]"
   ]
  },
  {
   "cell_type": "code",
   "execution_count": 9,
   "metadata": {},
   "outputs": [],
   "source": [
    "mx_aug=np.max(xtrain[:,:-1])\n",
    "mx=np.max(ecg[:,:-1])\n",
    "mn_aug=np.min(xtrain[:,:-1])\n",
    "mn=np.min(ecg[:,:-1])\n",
    "\n",
    "#for i in range (1,cls_num+1):             #نرمالسازی داده های افزایشی\n",
    "xtrain[:,:-1]= 2*(xtrain[:,:-1]-mn_aug)/(mx_aug - mn_aug) - 1"
   ]
  },
  {
   "cell_type": "code",
   "execution_count": 10,
   "metadata": {},
   "outputs": [
    {
     "name": "stdout",
     "output_type": "stream",
     "text": [
      "min trn = -1.0\n",
      "max trn = 1.0\n"
     ]
    }
   ],
   "source": [
    "print('min trn =', np.min(xtrain[:,:-1]))\n",
    "print('max trn =', np.max(xtrain[:,:-1]))"
   ]
  },
  {
   "cell_type": "markdown",
   "metadata": {},
   "source": [
    "<h3><center><div style=\"direction:rtl;font-family:B Nazanin\">Test Windows</div></center></h1>"
   ]
  },
  {
   "cell_type": "code",
   "execution_count": 11,
   "metadata": {},
   "outputs": [],
   "source": [
    "wndws_test=np.empty((0,len(wndws1[0])), float)\n",
    "i=0\n",
    "windws=np.array([])\n",
    "for cls in range (1,cls_num+1):                                 #ساخت پنجره های داده های آموزش اصلی\n",
    "    vars()['wndws_tst'+str(cls)]=np.empty((0,len(wndws1[0])), float)\n",
    "    vars()['wndws_tst'+str(cls)]=np.append(vars()['wndws_tst'+str(cls)],vars()['ecg_tst'+str(cls)],axis=0)   "
   ]
  },
  {
   "cell_type": "code",
   "execution_count": 12,
   "metadata": {},
   "outputs": [
    {
     "name": "stdout",
     "output_type": "stream",
     "text": [
      "\n",
      " cls 1  >> \n",
      "max magnitude class 1  =  3.903199999999999\n",
      "min magnitude class 1  =  -14.859999999999998\n",
      "after normalizing >>\n",
      "max magnitude class 1  =  1.1093335015171584\n",
      "min magnitude class 1  =  -1.5203887849419413\n",
      "\n",
      " cls 2  >> \n",
      "max magnitude class 2  =  2.7426000000000004\n",
      "min magnitude class 2  =  -10.213999999999999\n",
      "after normalizing >>\n",
      "max magnitude class 2  =  0.9466717121814145\n",
      "min magnitude class 2  =  -0.8692370761242035\n",
      "\n",
      " cls 3  >> \n",
      "max magnitude class 3  =  2.9853\n",
      "min magnitude class 3  =  -10.375999999999998\n",
      "after normalizing >>\n",
      "max magnitude class 3  =  0.9806868907716135\n",
      "min magnitude class 3  =  -0.8919418924884895\n",
      "\n",
      " cls 4  >> \n",
      "max magnitude class 4  =  2.5669999999999997\n",
      "min magnitude class 4  =  -9.867799999999999\n",
      "after normalizing >>\n",
      "max magnitude class 4  =  0.9220608124680276\n",
      "min magnitude class 4  =  -0.8207160426345994\n",
      "\n",
      " cls 5  >> \n",
      "max magnitude class 5  =  2.8078999999999996\n",
      "min magnitude class 5  =  -10.584999999999997\n",
      "after normalizing >>\n",
      "max magnitude class 5  =  0.9558237153208458\n",
      "min magnitude class 5  =  -0.9212339086621674\n",
      "each class and its windows =\n",
      "1 60\t2 58\t3 59\t4 64\t5 67\t\n",
      " max instance in classes of test windows = 67\n"
     ]
    }
   ],
   "source": [
    "#print(np.max(wndws_tst))\n",
    "for i in range (1,cls_num+1):                # Normalization test windows\n",
    "    cls=i\n",
    "    print('\\n cls', i, ' >> ')\n",
    "    print('max magnitude class', i , ' = ' ,np.max(vars()['wndws_tst'+str(cls)][:,:-1]))\n",
    "    print('min magnitude class', i , ' = ' ,np.min(vars()['wndws_tst'+str(cls)][:,:-1]))\n",
    "\n",
    "    vars()['wndws_tst'+str(i)][:,:-1]= 2*(vars()['wndws_tst'+str(i)][:,:-1]-mn_aug)/(mx_aug - mn_aug) - 1\n",
    "    \n",
    "    print('after normalizing >>')\n",
    "    print('max magnitude class', i , ' = ' ,np.max(vars()['wndws_tst'+str(cls)][:,:-1]))\n",
    "    print('min magnitude class', i , ' = ' ,np.min(vars()['wndws_tst'+str(cls)][:,:-1]))\n",
    "    \n",
    "print(\"each class and its windows =\")                    #تجمیع کلاس های تست\n",
    "cls_wndws=np.array([])\n",
    "for cls in range (1,cls_num+1):                                # آرایه ی تعداد پنجره ی هر کلاس\n",
    "    wns=len(vars()['wndws_tst'+str(cls)])\n",
    "    cls_wndws=np.append(cls_wndws,wns)\n",
    "    print(cls, wns, end='\\t')\n",
    "    wndws_test=np.append(wndws_test,vars()['wndws_tst'+str(cls)],axis=0)\n",
    "    \n",
    "mx_wndws=int(np.max(cls_wndws))                        # حداکثر تعداد پنجره ی موجود بین کلاس ها\n",
    "print('\\n max instance in classes of test windows =', mx_wndws)"
   ]
  },
  {
   "cell_type": "code",
   "execution_count": 13,
   "metadata": {},
   "outputs": [
    {
     "name": "stdout",
     "output_type": "stream",
     "text": [
      "min tst = -1.5203887849419413\n",
      "max tst = 1.1093335015171584\n"
     ]
    }
   ],
   "source": [
    "print('min tst =', np.min(wndws_test[:,:-1]))\n",
    "print('max tst =', np.max(wndws_test[:,:-1]))"
   ]
  },
  {
   "cell_type": "code",
   "execution_count": 14,
   "metadata": {},
   "outputs": [
    {
     "data": {
      "text/plain": [
       "308"
      ]
     },
     "execution_count": 14,
     "metadata": {},
     "output_type": "execute_result"
    }
   ],
   "source": [
    "len(wndws_test)"
   ]
  },
  {
   "cell_type": "code",
   "execution_count": 15,
   "metadata": {},
   "outputs": [
    {
     "data": {
      "text/plain": [
       "(308, 1093)"
      ]
     },
     "execution_count": 15,
     "metadata": {},
     "output_type": "execute_result"
    }
   ],
   "source": [
    "np.shape(wndws_test)"
   ]
  },
  {
   "cell_type": "code",
   "execution_count": 16,
   "metadata": {},
   "outputs": [],
   "source": [
    "Xtest=wndws_test[:,:-1]\n",
    "ytest=np.int16(wndws_test[:,-1])"
   ]
  },
  {
   "cell_type": "code",
   "execution_count": 17,
   "metadata": {},
   "outputs": [
    {
     "name": "stdout",
     "output_type": "stream",
     "text": [
      "array([1, 1, 1, 1, 1, 1, 1, 1, 1, 1, 1, 1, 1, 1, 1, 1, 1, 1, 1, 1, 1, 1,\n",
      "       1, 1, 1, 1, 1, 1, 1, 1, 1, 1, 1, 1, 1, 1, 1, 1, 1, 1, 1, 1, 1, 1,\n",
      "       1, 1, 1, 1, 1, 1, 1, 1, 1, 1, 1, 1, 1, 1, 1, 1, 2, 2, 2, 2, 2, 2,\n",
      "       2, 2, 2, 2, 2, 2, 2, 2, 2, 2, 2, 2, 2, 2, 2, 2, 2, 2, 2, 2, 2, 2,\n",
      "       2, 2, 2, 2, 2, 2, 2, 2, 2, 2, 2, 2, 2, 2, 2, 2, 2, 2, 2, 2, 2, 2,\n",
      "       2, 2, 2, 2, 2, 2, 2, 2, 3, 3, 3, 3, 3, 3, 3, 3, 3, 3, 3, 3, 3, 3,\n",
      "       3, 3, 3, 3, 3, 3, 3, 3, 3, 3, 3, 3, 3, 3, 3, 3, 3, 3, 3, 3, 3, 3,\n",
      "       3, 3, 3, 3, 3, 3, 3, 3, 3, 3, 3, 3, 3, 3, 3, 3, 3, 3, 3, 3, 3, 3,\n",
      "       3, 4, 4, 4, 4, 4, 4, 4, 4, 4, 4, 4, 4, 4, 4, 4, 4, 4, 4, 4, 4, 4,\n",
      "       4, 4, 4, 4, 4, 4, 4, 4, 4, 4, 4, 4, 4, 4, 4, 4, 4, 4, 4, 4, 4, 4,\n",
      "       4, 4, 4, 4, 4, 4, 4, 4, 4, 4, 4, 4, 4, 4, 4, 4, 4, 4, 4, 4, 4, 5,\n",
      "       5, 5, 5, 5, 5, 5, 5, 5, 5, 5, 5, 5, 5, 5, 5, 5, 5, 5, 5, 5, 5, 5,\n",
      "       5, 5, 5, 5, 5, 5, 5, 5, 5, 5, 5, 5, 5, 5, 5, 5, 5, 5, 5, 5, 5, 5,\n",
      "       5, 5, 5, 5, 5, 5, 5, 5, 5, 5, 5, 5, 5, 5, 5, 5, 5, 5, 5, 5, 5, 5],\n",
      "      dtype=int16)\n"
     ]
    }
   ],
   "source": [
    "fullprint(ytest)"
   ]
  },
  {
   "cell_type": "markdown",
   "metadata": {},
   "source": [
    "<h3><center><div style=\"direction:rtl;font-family:B Nazanin\">Train Windows</div></center></h1>"
   ]
  },
  {
   "cell_type": "code",
   "execution_count": 18,
   "metadata": {},
   "outputs": [
    {
     "data": {
      "text/plain": [
       "'\\nytestt=np.int32(np.array([ytest]).T)\\ntestx=np.concatenate((Xtest, ytestt), axis=1)\\ntestx=np.random.permutation(testx)\\nXtest=np.int32(testx[:,:-1])\\nytest=np.int32(testx[:,-1])'"
      ]
     },
     "execution_count": 18,
     "metadata": {},
     "output_type": "execute_result"
    }
   ],
   "source": [
    "#ytraint=np.int32(np.array([ytrain]).T)\n",
    "#trainx=np.concatenate((Xtrain, ytraint), axis=1)\n",
    "trainx=np.random.permutation(xtrain)\n",
    "Xtrain=np.array(trainx[:,:-1])\n",
    "ytrain=np.int16(trainx[:,-1])\n",
    "'''\n",
    "ytestt=np.int32(np.array([ytest]).T)\n",
    "testx=np.concatenate((Xtest, ytestt), axis=1)\n",
    "testx=np.random.permutation(testx)\n",
    "Xtest=np.int32(testx[:,:-1])\n",
    "ytest=np.int32(testx[:,-1])'''"
   ]
  },
  {
   "cell_type": "code",
   "execution_count": 19,
   "metadata": {},
   "outputs": [
    {
     "data": {
      "text/plain": [
       "(18, 1093)"
      ]
     },
     "execution_count": 19,
     "metadata": {},
     "output_type": "execute_result"
    }
   ],
   "source": [
    "np.shape(wndws1)"
   ]
  },
  {
   "cell_type": "markdown",
   "metadata": {},
   "source": [
    "<h3><center><div style=\"direction:rtl;font-family:B Nazanin\">Validation Windows</div></center></h1>"
   ]
  },
  {
   "cell_type": "code",
   "execution_count": 20,
   "metadata": {},
   "outputs": [],
   "source": [
    "Xvalid=np.array(Xtrain)\n",
    "yvalid=np.array(ytrain)"
   ]
  },
  {
   "cell_type": "markdown",
   "metadata": {},
   "source": [
    "<h1><center><div style=\"direction:rtl;font-family:B Nazanin\">CNN And UnBalanced RAW Data</div></center></h1>\n",
    "<h1><center><div style=\"direction:rtl;font-family:Arial\">Cross Entropy Loss Function</div></center></h1>"
   ]
  },
  {
   "cell_type": "code",
   "execution_count": 21,
   "metadata": {
    "scrolled": true
   },
   "outputs": [
    {
     "name": "stdout",
     "output_type": "stream",
     "text": [
      "X_train =>  (155, 1092)\n",
      "y_train =>  (155,)\n",
      "X_test  =>  (308, 1092)\n",
      "y_test  =>  (308,)\n",
      "X_valid  =>  (155, 1092)\n",
      "y_valid  =>  (155,)\n"
     ]
    }
   ],
   "source": [
    "X_train=np.array(Xtrain)\n",
    "y_train=np.array(ytrain)\n",
    "X_test=np.array(Xtest)\n",
    "y_test=np.array(ytest)\n",
    "X_valid=np.array(Xtrain)\n",
    "y_valid=np.array(ytrain)\n",
    "print('X_train => ', X_train.shape)\n",
    "print('y_train => ', y_train.shape)\n",
    "print('X_test  => ', X_test.shape)\n",
    "print('y_test  => ', y_test.shape)\n",
    "print('X_valid  => ', X_valid.shape)\n",
    "print('y_valid  => ', y_valid.shape)"
   ]
  },
  {
   "cell_type": "code",
   "execution_count": 22,
   "metadata": {},
   "outputs": [],
   "source": [
    "y_train=np.array(y_train+1)\n",
    "y_test=np.array(y_test+1)\n",
    "y_valid=np.array(y_valid+1)"
   ]
  },
  {
   "cell_type": "code",
   "execution_count": 23,
   "metadata": {},
   "outputs": [],
   "source": [
    "y_train_cat=to_categorical(y_train)\n",
    "y_valid_cat=to_categorical(y_valid)\n",
    "y_test_cat=to_categorical(y_test)\n",
    "\n",
    "\n",
    "X_train = np.expand_dims(X_train, axis=2)\n",
    "X_valid = np.expand_dims(X_valid, axis=2)\n",
    "X_test = np.expand_dims(X_test, axis=2)\n",
    "#y_train=np.transpose([y_train])"
   ]
  },
  {
   "cell_type": "code",
   "execution_count": 24,
   "metadata": {
    "scrolled": true
   },
   "outputs": [
    {
     "name": "stdout",
     "output_type": "stream",
     "text": [
      "Epoch 1/1000\n",
      "2/2 [==============================] - 14s 3s/step - loss: 35.1588 - accuracy: 0.2065 - val_loss: 1.8944 - val_accuracy: 0.2194\n",
      "Epoch 2/1000\n",
      "2/2 [==============================] - 0s 60ms/step - loss: 1.8933 - accuracy: 0.2258 - val_loss: 1.8489 - val_accuracy: 0.2194\n",
      "Epoch 3/1000\n",
      "2/2 [==============================] - 0s 54ms/step - loss: 2.0782 - accuracy: 0.2516 - val_loss: 1.9176 - val_accuracy: 0.2129\n",
      "Epoch 4/1000\n",
      "2/2 [==============================] - 0s 69ms/step - loss: 1.7238 - accuracy: 0.4000 - val_loss: 1.9092 - val_accuracy: 0.2516\n",
      "Epoch 5/1000\n",
      "2/2 [==============================] - 0s 52ms/step - loss: 1.5482 - accuracy: 0.3613 - val_loss: 1.8660 - val_accuracy: 0.2194\n",
      "Epoch 6/1000\n",
      "2/2 [==============================] - 0s 72ms/step - loss: 1.5905 - accuracy: 0.3226 - val_loss: 1.8860 - val_accuracy: 0.2645\n",
      "Epoch 7/1000\n",
      "2/2 [==============================] - 0s 53ms/step - loss: 1.4368 - accuracy: 0.4129 - val_loss: 1.8780 - val_accuracy: 0.2387\n",
      "Epoch 8/1000\n",
      "2/2 [==============================] - 0s 56ms/step - loss: 1.3804 - accuracy: 0.4194 - val_loss: 1.8607 - val_accuracy: 0.2323\n",
      "Epoch 9/1000\n",
      "2/2 [==============================] - 0s 55ms/step - loss: 1.3862 - accuracy: 0.4645 - val_loss: 1.8698 - val_accuracy: 0.2387\n",
      "Epoch 10/1000\n",
      "2/2 [==============================] - 0s 54ms/step - loss: 1.3265 - accuracy: 0.5355 - val_loss: 1.8463 - val_accuracy: 0.2194\n",
      "Epoch 11/1000\n",
      "2/2 [==============================] - 0s 57ms/step - loss: 1.4027 - accuracy: 0.3742 - val_loss: 1.8647 - val_accuracy: 0.2387\n",
      "Epoch 12/1000\n",
      "2/2 [==============================] - 2s 2s/step - loss: 1.2494 - accuracy: 0.4839 - val_loss: 1.8477 - val_accuracy: 0.1677\n",
      "Epoch 13/1000\n",
      "2/2 [==============================] - 0s 53ms/step - loss: 1.3071 - accuracy: 0.5097 - val_loss: 1.8575 - val_accuracy: 0.1548\n",
      "Epoch 14/1000\n",
      "2/2 [==============================] - 0s 53ms/step - loss: 1.1552 - accuracy: 0.5677 - val_loss: 1.8364 - val_accuracy: 0.2452\n",
      "Epoch 15/1000\n",
      "2/2 [==============================] - 0s 56ms/step - loss: 1.1746 - accuracy: 0.5806 - val_loss: 1.8480 - val_accuracy: 0.1935\n",
      "Epoch 16/1000\n",
      "2/2 [==============================] - 0s 54ms/step - loss: 1.1220 - accuracy: 0.5806 - val_loss: 1.8442 - val_accuracy: 0.1161\n",
      "Epoch 17/1000\n",
      "2/2 [==============================] - 0s 54ms/step - loss: 1.2218 - accuracy: 0.5226 - val_loss: 1.8548 - val_accuracy: 0.1161\n",
      "Epoch 18/1000\n",
      "2/2 [==============================] - 0s 53ms/step - loss: 1.1016 - accuracy: 0.6452 - val_loss: 1.8018 - val_accuracy: 0.1161\n",
      "Epoch 19/1000\n",
      "2/2 [==============================] - 0s 52ms/step - loss: 1.2013 - accuracy: 0.5290 - val_loss: 1.8615 - val_accuracy: 0.1161\n",
      "Epoch 20/1000\n",
      "2/2 [==============================] - 0s 54ms/step - loss: 1.2703 - accuracy: 0.5419 - val_loss: 1.8330 - val_accuracy: 0.1161\n",
      "Epoch 21/1000\n",
      "2/2 [==============================] - 0s 53ms/step - loss: 1.1361 - accuracy: 0.5871 - val_loss: 1.8388 - val_accuracy: 0.1161\n",
      "Epoch 22/1000\n",
      "2/2 [==============================] - 0s 55ms/step - loss: 1.1352 - accuracy: 0.5677 - val_loss: 1.8171 - val_accuracy: 0.1161\n",
      "Epoch 23/1000\n",
      "2/2 [==============================] - 0s 55ms/step - loss: 0.8646 - accuracy: 0.6645 - val_loss: 1.7928 - val_accuracy: 0.1355\n",
      "Epoch 24/1000\n",
      "2/2 [==============================] - 0s 51ms/step - loss: 0.9415 - accuracy: 0.6452 - val_loss: 1.7907 - val_accuracy: 0.1484\n",
      "Epoch 25/1000\n",
      "2/2 [==============================] - 2s 55ms/step - loss: 0.9492 - accuracy: 0.6323 - val_loss: 1.8015 - val_accuracy: 0.1419\n",
      "Epoch 26/1000\n",
      "2/2 [==============================] - 0s 52ms/step - loss: 0.8090 - accuracy: 0.6839 - val_loss: 1.8063 - val_accuracy: 0.1161\n",
      "Epoch 27/1000\n",
      "2/2 [==============================] - 0s 56ms/step - loss: 0.7758 - accuracy: 0.6968 - val_loss: 1.7924 - val_accuracy: 0.1161\n",
      "Epoch 28/1000\n",
      "2/2 [==============================] - 0s 55ms/step - loss: 0.8303 - accuracy: 0.6839 - val_loss: 1.8153 - val_accuracy: 0.1161\n",
      "Epoch 29/1000\n",
      "2/2 [==============================] - 0s 53ms/step - loss: 0.7771 - accuracy: 0.7032 - val_loss: 1.7718 - val_accuracy: 0.1161\n",
      "Epoch 30/1000\n",
      "2/2 [==============================] - 0s 55ms/step - loss: 0.7596 - accuracy: 0.6839 - val_loss: 1.7623 - val_accuracy: 0.1355\n",
      "Epoch 31/1000\n",
      "2/2 [==============================] - 0s 54ms/step - loss: 0.9268 - accuracy: 0.6194 - val_loss: 1.7888 - val_accuracy: 0.1161\n",
      "Epoch 32/1000\n",
      "2/2 [==============================] - 0s 53ms/step - loss: 0.8498 - accuracy: 0.7226 - val_loss: 1.8441 - val_accuracy: 0.1290\n",
      "Epoch 33/1000\n",
      "2/2 [==============================] - 0s 56ms/step - loss: 0.7544 - accuracy: 0.7742 - val_loss: 1.7744 - val_accuracy: 0.1355\n",
      "Epoch 34/1000\n",
      "2/2 [==============================] - 0s 53ms/step - loss: 0.5715 - accuracy: 0.7355 - val_loss: 1.7728 - val_accuracy: 0.1161\n",
      "Epoch 35/1000\n",
      "2/2 [==============================] - 0s 55ms/step - loss: 1.0003 - accuracy: 0.6065 - val_loss: 1.8107 - val_accuracy: 0.1290\n",
      "Epoch 36/1000\n",
      "2/2 [==============================] - 0s 52ms/step - loss: 0.7840 - accuracy: 0.6903 - val_loss: 1.8376 - val_accuracy: 0.1419\n",
      "Epoch 37/1000\n",
      "2/2 [==============================] - 2s 2s/step - loss: 0.5279 - accuracy: 0.8516 - val_loss: 1.8414 - val_accuracy: 0.1161\n",
      "Epoch 38/1000\n",
      "2/2 [==============================] - 0s 52ms/step - loss: 0.4778 - accuracy: 0.8323 - val_loss: 1.9500 - val_accuracy: 0.1161\n",
      "Epoch 39/1000\n",
      "2/2 [==============================] - 0s 54ms/step - loss: 0.5551 - accuracy: 0.8000 - val_loss: 1.8120 - val_accuracy: 0.1419\n",
      "Epoch 40/1000\n",
      "2/2 [==============================] - 0s 52ms/step - loss: 0.7094 - accuracy: 0.7226 - val_loss: 1.9430 - val_accuracy: 0.1161\n",
      "Epoch 41/1000\n",
      "2/2 [==============================] - 0s 54ms/step - loss: 0.2564 - accuracy: 0.9419 - val_loss: 1.9609 - val_accuracy: 0.1161\n",
      "Epoch 42/1000\n",
      "2/2 [==============================] - 0s 51ms/step - loss: 0.6546 - accuracy: 0.7742 - val_loss: 1.8009 - val_accuracy: 0.1226\n",
      "Epoch 43/1000\n",
      "2/2 [==============================] - 0s 53ms/step - loss: 0.6871 - accuracy: 0.7355 - val_loss: 1.7775 - val_accuracy: 0.1613\n",
      "Epoch 44/1000\n",
      "2/2 [==============================] - 0s 50ms/step - loss: 0.3212 - accuracy: 0.8710 - val_loss: 1.8218 - val_accuracy: 0.1419\n",
      "Epoch 45/1000\n",
      "2/2 [==============================] - 0s 52ms/step - loss: 0.3519 - accuracy: 0.8710 - val_loss: 1.7688 - val_accuracy: 0.1226\n",
      "Epoch 46/1000\n",
      "2/2 [==============================] - 0s 51ms/step - loss: 0.1998 - accuracy: 0.9613 - val_loss: 1.7844 - val_accuracy: 0.1355\n",
      "Epoch 47/1000\n",
      "2/2 [==============================] - 0s 53ms/step - loss: 0.2389 - accuracy: 0.9032 - val_loss: 1.9141 - val_accuracy: 0.1161\n",
      "Epoch 48/1000\n",
      "2/2 [==============================] - 0s 52ms/step - loss: 0.1803 - accuracy: 0.9355 - val_loss: 2.2226 - val_accuracy: 0.1161\n",
      "Epoch 49/1000\n",
      "2/2 [==============================] - 0s 54ms/step - loss: 0.6929 - accuracy: 0.8065 - val_loss: 1.7547 - val_accuracy: 0.1419\n",
      "Epoch 50/1000\n",
      "2/2 [==============================] - 2s 57ms/step - loss: 0.1758 - accuracy: 0.9613 - val_loss: 2.2499 - val_accuracy: 0.1161\n",
      "Epoch 51/1000\n",
      "2/2 [==============================] - 0s 54ms/step - loss: 0.1343 - accuracy: 0.9419 - val_loss: 2.1221 - val_accuracy: 0.1161\n",
      "Epoch 52/1000\n",
      "2/2 [==============================] - 0s 53ms/step - loss: 0.3265 - accuracy: 0.8968 - val_loss: 2.5412 - val_accuracy: 0.1161\n",
      "Epoch 53/1000\n",
      "2/2 [==============================] - 0s 52ms/step - loss: 0.2074 - accuracy: 0.9419 - val_loss: 2.0351 - val_accuracy: 0.1161\n",
      "Epoch 54/1000\n",
      "2/2 [==============================] - 0s 53ms/step - loss: 0.0637 - accuracy: 0.9871 - val_loss: 2.4544 - val_accuracy: 0.1161\n",
      "Epoch 55/1000\n",
      "2/2 [==============================] - 0s 52ms/step - loss: 0.0160 - accuracy: 1.0000 - val_loss: 2.7578 - val_accuracy: 0.1161\n",
      "Epoch 56/1000\n",
      "2/2 [==============================] - 0s 61ms/step - loss: 0.0113 - accuracy: 1.0000 - val_loss: 3.0441 - val_accuracy: 0.1161\n",
      "2/2 [==============================] - 0s 8ms/step - loss: 1.8860 - accuracy: 0.2645\n",
      "np.shape(X_test)= (308, 1092, 1)\n",
      "Accuracy=  0.26451611518859863\n"
     ]
    }
   ],
   "source": [
    "#VGG16_1D\n",
    "\n",
    "accuracy=0\n",
    "acc_crs=np.array([])\n",
    "##for i in range (10):\n",
    "##    if accuracy<0.2 :\n",
    "\n",
    "verbose, epochs, batch_size = 1, 1000, 80\n",
    "n_timesteps, n_features, n_outputs = X_train.shape[1], X_train.shape[2], y_train_cat.shape[1]\n",
    "steps_per_epoch = len(X_train)//batch_size\n",
    "validation_steps = len(X_valid)//batch_size # if you have test data\n",
    "\n",
    "\n",
    "\n",
    "model_crs = Sequential()\n",
    "#model_crs.add(Conv1D(input_shape=x_train.shape[1:],filters=64,kernel_size=9,padding=\"same\", activation=\"relu\"))\n",
    "model_crs.add(Conv1D(filters=128, kernel_size=12, strides=1, activation='relu', input_shape=(n_timesteps,n_features))) #Replaced\n",
    "model_crs.add(BatchNormalization())\n",
    "model_crs.add(MaxPooling1D(pool_size=2,strides=3))\n",
    "\n",
    "model_crs.add(Conv1D(filters=32, kernel_size=7, strides=1, padding=\"same\", activation=\"relu\"))\n",
    "model_crs.add(BatchNormalization())\n",
    "model_crs.add(MaxPooling1D(pool_size=2,strides=2))\n",
    "\n",
    "model_crs.add(Conv1D(filters=32, kernel_size=10, strides=1, padding=\"same\", activation=\"relu\"))\n",
    "model_crs.add(Conv1D(filters=128, kernel_size=5, strides=2, padding=\"same\", activation=\"relu\"))\n",
    "model_crs.add(MaxPooling1D(pool_size=2,strides=2))\n",
    "\n",
    "model_crs.add(Conv1D(filters=256, kernel_size=15, strides=1, padding=\"same\", activation=\"relu\"))\n",
    "model_crs.add(MaxPooling1D(pool_size=2,strides=2))\n",
    "\n",
    "model_crs.add(Conv1D(filters=512, kernel_size=5, strides=1, padding=\"same\", activation=\"relu\"))\n",
    "#model_crs.add(Conv1D(filters=128, kernel_size=3, strides=1, padding=\"same\", activation=\"relu\"))\n",
    "\n",
    "\n",
    "model_crs.add(Flatten())\n",
    "model_crs.add(Dropout(0.1))\n",
    "model_crs.add(Dense(units=512,activation=\"relu\"))\n",
    "#model_crs.add(Dense(units=2048,activation=\"relu\"))\n",
    "model_crs.add(Dense(n_outputs, activation='softmax'))   #Replaced here from old Model\n",
    "\n",
    "model_crs.compile(optimizer='rmsprop', loss='categorical_crossentropy', metrics=['accuracy'])\n",
    "# fit network   #CategoricalCrossentropy #sparse_categorical_crossentropy #SparseCategoricalCrossentropy\n",
    "\n",
    "earlystopping = callbacks.EarlyStopping(monitor =\"val_accuracy\", mode =\"max\", patience = 50, restore_best_weights = True)\n",
    "\n",
    "model_crs.fit(X_train, y_train_cat, epochs=epochs, batch_size=batch_size, verbose=verbose, validation_data = (X_valid, y_valid_cat), callbacks =[earlystopping])\n",
    "\n",
    "_, accuracy = model_crs.evaluate(X_valid, y_valid_cat, batch_size=batch_size, verbose=1)\n",
    "\n",
    "print('np.shape(X_test)=',np.shape(X_test))\n",
    "\n",
    "print('Accuracy= ', accuracy)\n",
    "\n",
    "#y_pred_vgg = model_crs.predict_classes(X_test)\n"
   ]
  },
  {
   "cell_type": "code",
   "execution_count": 25,
   "metadata": {},
   "outputs": [],
   "source": [
    "def maxindx(ar):\n",
    "    ar_cpy=np.array(ar)\n",
    "    pred=np.argmax(ar,axis=1)\n",
    "    for i in range (len(pred)):\n",
    "        if pred[i]==0:\n",
    "            ar_cpy[i,0]=-1000\n",
    "    pred=np.argmax(ar_cpy,axis=1)\n",
    "    return(pred)"
   ]
  },
  {
   "cell_type": "code",
   "execution_count": 26,
   "metadata": {},
   "outputs": [
    {
     "name": "stdout",
     "output_type": "stream",
     "text": [
      "10/10 [==============================] - 0s 14ms/step\n",
      "array([[ 0,  0,  0, 51,  9],\n",
      "       [ 0,  0,  0, 58,  0],\n",
      "       [ 0,  0,  0, 57,  2],\n",
      "       [ 0,  0,  0, 57,  7],\n",
      "       [ 0,  0,  0, 49, 18]], dtype=int64)\n",
      "              precision    recall  f1-score   support\n",
      "\n",
      "           2       0.00      0.00      0.00        60\n",
      "           3       0.00      0.00      0.00        58\n",
      "           4       0.00      0.00      0.00        59\n",
      "           5       0.21      0.89      0.34        64\n",
      "           6       0.50      0.27      0.35        67\n",
      "\n",
      "    accuracy                           0.24       308\n",
      "   macro avg       0.14      0.23      0.14       308\n",
      "weighted avg       0.15      0.24      0.15       308\n",
      "\n"
     ]
    },
    {
     "name": "stderr",
     "output_type": "stream",
     "text": [
      "C:\\ProgramData\\Anaconda3\\lib\\site-packages\\sklearn\\metrics\\_classification.py:1248: UndefinedMetricWarning: Precision and F-score are ill-defined and being set to 0.0 in labels with no predicted samples. Use `zero_division` parameter to control this behavior.\n",
      "  _warn_prf(average, modifier, msg_start, len(result))\n",
      "C:\\ProgramData\\Anaconda3\\lib\\site-packages\\sklearn\\metrics\\_classification.py:1248: UndefinedMetricWarning: Precision and F-score are ill-defined and being set to 0.0 in labels with no predicted samples. Use `zero_division` parameter to control this behavior.\n",
      "  _warn_prf(average, modifier, msg_start, len(result))\n",
      "C:\\ProgramData\\Anaconda3\\lib\\site-packages\\sklearn\\metrics\\_classification.py:1248: UndefinedMetricWarning: Precision and F-score are ill-defined and being set to 0.0 in labels with no predicted samples. Use `zero_division` parameter to control this behavior.\n",
      "  _warn_prf(average, modifier, msg_start, len(result))\n"
     ]
    }
   ],
   "source": [
    "predict_x=model_crs.predict(X_test)              # Function 1\n",
    "\n",
    "y_pred_crs=maxindx(predict_x)                    # function from augment.py to remove 0 index predictions\n",
    "\n",
    "#y_pred_crs = model_crs.predict_classes(X_test)\n",
    "\n",
    "cm = confusion_matrix(y_test, y_pred_crs)\n",
    "fullprint(cm)\n",
    "acc3=accuracy_score(y_test, y_pred_crs)\n",
    "\n",
    "print(classification_report(y_test, y_pred_crs))\n",
    "\n",
    "#sns.heatmap(cm, annot=True)\n",
    "\n",
    "#plt.imshow(cm)"
   ]
  },
  {
   "cell_type": "code",
   "execution_count": 27,
   "metadata": {},
   "outputs": [
    {
     "name": "stdout",
     "output_type": "stream",
     "text": [
      "Epoch 1/1000\n",
      "2/2 [==============================] - 4s 647ms/step - loss: 58.8635 - accuracy: 0.2065 - val_loss: 1.8554 - val_accuracy: 0.2194\n",
      "Epoch 2/1000\n",
      "2/2 [==============================] - 2s 111ms/step - loss: 2.9435 - accuracy: 0.2065 - val_loss: 1.9031 - val_accuracy: 0.2323\n",
      "Epoch 3/1000\n",
      "2/2 [==============================] - 0s 112ms/step - loss: 1.7236 - accuracy: 0.2581 - val_loss: 1.8725 - val_accuracy: 0.3677\n",
      "Epoch 4/1000\n",
      "2/2 [==============================] - 0s 79ms/step - loss: 1.6664 - accuracy: 0.3613 - val_loss: 1.8336 - val_accuracy: 0.2323\n",
      "Epoch 5/1000\n",
      "2/2 [==============================] - 0s 78ms/step - loss: 2.1242 - accuracy: 0.2129 - val_loss: 1.8805 - val_accuracy: 0.2129\n",
      "Epoch 6/1000\n",
      "2/2 [==============================] - 0s 79ms/step - loss: 1.5823 - accuracy: 0.3161 - val_loss: 1.8691 - val_accuracy: 0.2194\n",
      "Epoch 7/1000\n",
      "2/2 [==============================] - 0s 79ms/step - loss: 1.5182 - accuracy: 0.3419 - val_loss: 1.8419 - val_accuracy: 0.3290\n",
      "Epoch 8/1000\n",
      "2/2 [==============================] - 0s 78ms/step - loss: 1.4107 - accuracy: 0.3935 - val_loss: 1.8394 - val_accuracy: 0.3097\n",
      "Epoch 9/1000\n",
      "2/2 [==============================] - 2s 2s/step - loss: 1.4645 - accuracy: 0.3806 - val_loss: 1.8515 - val_accuracy: 0.2710\n",
      "Epoch 10/1000\n",
      "2/2 [==============================] - 0s 79ms/step - loss: 1.3726 - accuracy: 0.4516 - val_loss: 1.8264 - val_accuracy: 0.3097\n",
      "Epoch 11/1000\n",
      "2/2 [==============================] - 0s 77ms/step - loss: 1.4506 - accuracy: 0.3548 - val_loss: 1.8364 - val_accuracy: 0.2516\n",
      "Epoch 12/1000\n",
      "2/2 [==============================] - 0s 76ms/step - loss: 1.2762 - accuracy: 0.5226 - val_loss: 1.8359 - val_accuracy: 0.2839\n",
      "Epoch 13/1000\n",
      "2/2 [==============================] - 0s 77ms/step - loss: 1.3440 - accuracy: 0.4258 - val_loss: 1.8495 - val_accuracy: 0.2323\n",
      "Epoch 14/1000\n",
      "2/2 [==============================] - 0s 78ms/step - loss: 1.1696 - accuracy: 0.6000 - val_loss: 1.8168 - val_accuracy: 0.1161\n",
      "Epoch 15/1000\n",
      "2/2 [==============================] - 0s 77ms/step - loss: 1.3450 - accuracy: 0.5097 - val_loss: 1.8721 - val_accuracy: 0.2194\n",
      "Epoch 16/1000\n",
      "2/2 [==============================] - 0s 78ms/step - loss: 1.3199 - accuracy: 0.5613 - val_loss: 1.8421 - val_accuracy: 0.2194\n",
      "Epoch 17/1000\n",
      "2/2 [==============================] - 0s 76ms/step - loss: 1.2578 - accuracy: 0.4774 - val_loss: 1.8382 - val_accuracy: 0.2194\n",
      "Epoch 18/1000\n",
      "2/2 [==============================] - 0s 78ms/step - loss: 1.1663 - accuracy: 0.5484 - val_loss: 1.8159 - val_accuracy: 0.2387\n",
      "Epoch 19/1000\n",
      "2/2 [==============================] - 0s 77ms/step - loss: 1.0514 - accuracy: 0.6129 - val_loss: 1.7943 - val_accuracy: 0.2194\n",
      "Epoch 20/1000\n",
      "2/2 [==============================] - 0s 78ms/step - loss: 1.0675 - accuracy: 0.5806 - val_loss: 1.8088 - val_accuracy: 0.2581\n",
      "Epoch 21/1000\n",
      "2/2 [==============================] - 0s 78ms/step - loss: 1.0142 - accuracy: 0.6387 - val_loss: 1.8228 - val_accuracy: 0.2194\n",
      "Epoch 22/1000\n",
      "2/2 [==============================] - 0s 77ms/step - loss: 1.1602 - accuracy: 0.5032 - val_loss: 1.7763 - val_accuracy: 0.2323\n",
      "Epoch 23/1000\n",
      "2/2 [==============================] - 0s 79ms/step - loss: 1.0289 - accuracy: 0.5548 - val_loss: 1.8241 - val_accuracy: 0.1742\n",
      "Epoch 24/1000\n",
      "2/2 [==============================] - 0s 78ms/step - loss: 1.1968 - accuracy: 0.5871 - val_loss: 1.7402 - val_accuracy: 0.2323\n",
      "Epoch 25/1000\n",
      "2/2 [==============================] - 0s 77ms/step - loss: 1.1193 - accuracy: 0.5484 - val_loss: 1.8290 - val_accuracy: 0.2387\n",
      "Epoch 26/1000\n",
      "2/2 [==============================] - 0s 78ms/step - loss: 0.9571 - accuracy: 0.6387 - val_loss: 1.7029 - val_accuracy: 0.2194\n",
      "Epoch 27/1000\n",
      "2/2 [==============================] - 0s 77ms/step - loss: 1.1919 - accuracy: 0.5613 - val_loss: 1.8466 - val_accuracy: 0.2581\n",
      "Epoch 28/1000\n",
      "2/2 [==============================] - 0s 76ms/step - loss: 0.9712 - accuracy: 0.6903 - val_loss: 1.8188 - val_accuracy: 0.1161\n",
      "Epoch 29/1000\n",
      "2/2 [==============================] - 0s 77ms/step - loss: 1.0006 - accuracy: 0.6000 - val_loss: 1.7756 - val_accuracy: 0.2581\n",
      "Epoch 30/1000\n",
      "2/2 [==============================] - 0s 78ms/step - loss: 0.9008 - accuracy: 0.6323 - val_loss: 1.8254 - val_accuracy: 0.1355\n",
      "Epoch 31/1000\n",
      "2/2 [==============================] - 0s 77ms/step - loss: 0.7756 - accuracy: 0.7226 - val_loss: 1.7487 - val_accuracy: 0.3226\n",
      "Epoch 32/1000\n",
      "2/2 [==============================] - 0s 80ms/step - loss: 0.7020 - accuracy: 0.7097 - val_loss: 1.7508 - val_accuracy: 0.2387\n",
      "Epoch 33/1000\n",
      "2/2 [==============================] - 0s 76ms/step - loss: 0.9636 - accuracy: 0.5935 - val_loss: 1.7964 - val_accuracy: 0.2194\n",
      "Epoch 34/1000\n",
      "2/2 [==============================] - 0s 79ms/step - loss: 0.9756 - accuracy: 0.6129 - val_loss: 1.7119 - val_accuracy: 0.2194\n",
      "Epoch 35/1000\n",
      "2/2 [==============================] - 0s 77ms/step - loss: 0.7414 - accuracy: 0.7097 - val_loss: 1.7954 - val_accuracy: 0.2387\n",
      "Epoch 36/1000\n",
      "2/2 [==============================] - 0s 79ms/step - loss: 0.6176 - accuracy: 0.7806 - val_loss: 1.7186 - val_accuracy: 0.2323\n",
      "Epoch 37/1000\n",
      "2/2 [==============================] - 0s 79ms/step - loss: 0.6454 - accuracy: 0.7613 - val_loss: 1.7429 - val_accuracy: 0.1613\n",
      "Epoch 38/1000\n",
      "2/2 [==============================] - 0s 77ms/step - loss: 1.1623 - accuracy: 0.5613 - val_loss: 1.7334 - val_accuracy: 0.2323\n",
      "Epoch 39/1000\n",
      "2/2 [==============================] - 0s 78ms/step - loss: 0.7934 - accuracy: 0.6774 - val_loss: 1.7441 - val_accuracy: 0.2065\n",
      "Epoch 40/1000\n",
      "2/2 [==============================] - 0s 77ms/step - loss: 0.7432 - accuracy: 0.7355 - val_loss: 1.6964 - val_accuracy: 0.2194\n",
      "Epoch 41/1000\n",
      "2/2 [==============================] - 0s 79ms/step - loss: 0.5961 - accuracy: 0.7742 - val_loss: 1.7956 - val_accuracy: 0.2258\n",
      "Epoch 42/1000\n",
      "2/2 [==============================] - 0s 79ms/step - loss: 0.5148 - accuracy: 0.8065 - val_loss: 1.6863 - val_accuracy: 0.2194\n",
      "Epoch 43/1000\n",
      "2/2 [==============================] - 0s 78ms/step - loss: 0.4938 - accuracy: 0.8129 - val_loss: 1.7707 - val_accuracy: 0.2194\n",
      "Epoch 44/1000\n",
      "2/2 [==============================] - 0s 77ms/step - loss: 0.2921 - accuracy: 0.9290 - val_loss: 1.6451 - val_accuracy: 0.2194\n",
      "Epoch 45/1000\n",
      "2/2 [==============================] - 0s 77ms/step - loss: 0.3151 - accuracy: 0.8645 - val_loss: 1.6808 - val_accuracy: 0.3290\n",
      "Epoch 46/1000\n",
      "2/2 [==============================] - 0s 77ms/step - loss: 1.3913 - accuracy: 0.5290 - val_loss: 1.7493 - val_accuracy: 0.2194\n",
      "Epoch 47/1000\n",
      "2/2 [==============================] - 0s 82ms/step - loss: 0.7636 - accuracy: 0.7419 - val_loss: 1.7305 - val_accuracy: 0.1548\n",
      "Epoch 48/1000\n",
      "2/2 [==============================] - 0s 80ms/step - loss: 0.7050 - accuracy: 0.7548 - val_loss: 1.6890 - val_accuracy: 0.2452\n",
      "Epoch 49/1000\n",
      "2/2 [==============================] - 0s 75ms/step - loss: 0.3461 - accuracy: 0.8774 - val_loss: 1.6542 - val_accuracy: 0.2258\n",
      "Epoch 50/1000\n",
      "2/2 [==============================] - 0s 81ms/step - loss: 0.3503 - accuracy: 0.8839 - val_loss: 1.6927 - val_accuracy: 0.2194\n",
      "Epoch 51/1000\n",
      "2/2 [==============================] - 0s 79ms/step - loss: 0.2333 - accuracy: 0.9355 - val_loss: 1.6463 - val_accuracy: 0.2194\n",
      "Epoch 52/1000\n",
      "2/2 [==============================] - 0s 80ms/step - loss: 0.0888 - accuracy: 0.9613 - val_loss: 1.6633 - val_accuracy: 0.2323\n",
      "Epoch 53/1000\n",
      "2/2 [==============================] - 0s 88ms/step - loss: 0.4274 - accuracy: 0.8452 - val_loss: 1.7672 - val_accuracy: 0.1742\n",
      "2/2 [==============================] - 0s 13ms/step - loss: 1.8725 - accuracy: 0.3677\n",
      "np.shape(X_test)= (308, 1092, 1)\n",
      "Accuracy=  0.3677419424057007\n"
     ]
    }
   ],
   "source": [
    "#VGG16_1D\n",
    "\n",
    "accuracy=0\n",
    "acc_crs=np.array([])\n",
    "##for i in range (10):\n",
    "##    if accuracy<0.2 :\n",
    "\n",
    "verbose, epochs, batch_size = 1, 1000, 80\n",
    "n_timesteps, n_features, n_outputs = X_train.shape[1], X_train.shape[2], y_train_cat.shape[1]\n",
    "steps_per_epoch = len(X_train)//batch_size\n",
    "validation_steps = len(X_valid)//batch_size # if you have test data\n",
    "\n",
    "\n",
    "\n",
    "model_crs = Sequential()\n",
    "#model_crs.add(Conv1D(input_shape=x_train.shape[1:],filters=64,kernel_size=9,padding=\"same\", activation=\"relu\"))\n",
    "model_crs.add(Conv1D(filters=256, kernel_size=12, strides=1, activation='relu', input_shape=(n_timesteps,n_features))) #Replaced\n",
    "model_crs.add(BatchNormalization())\n",
    "model_crs.add(MaxPooling1D(pool_size=2,strides=3))\n",
    "\n",
    "model_crs.add(Conv1D(filters=64, kernel_size=7, strides=1, padding=\"same\", activation=\"relu\"))\n",
    "model_crs.add(BatchNormalization())\n",
    "model_crs.add(MaxPooling1D(pool_size=2,strides=2))\n",
    "\n",
    "model_crs.add(Conv1D(filters=64, kernel_size=10, strides=1, padding=\"same\", activation=\"relu\"))\n",
    "model_crs.add(Conv1D(filters=128, kernel_size=5, strides=2, padding=\"same\", activation=\"relu\"))\n",
    "model_crs.add(MaxPooling1D(pool_size=2,strides=2))\n",
    "\n",
    "model_crs.add(Conv1D(filters=512, kernel_size=15, strides=1, padding=\"same\", activation=\"relu\"))\n",
    "model_crs.add(MaxPooling1D(pool_size=2,strides=2))\n",
    "\n",
    "model_crs.add(Conv1D(filters=1024, kernel_size=5, strides=1, padding=\"same\", activation=\"relu\"))\n",
    "#model_crs.add(Conv1D(filters=128, kernel_size=3, strides=1, padding=\"same\", activation=\"relu\"))\n",
    "\n",
    "\n",
    "model_crs.add(Flatten())\n",
    "model_crs.add(Dropout(0.1))\n",
    "model_crs.add(Dense(units=512,activation=\"relu\"))\n",
    "#model_crs.add(Dense(units=2048,activation=\"relu\"))\n",
    "model_crs.add(Dense(n_outputs, activation='softmax'))   #Replaced here from old Model\n",
    "\n",
    "model_crs.compile(optimizer='rmsprop', loss='categorical_crossentropy', metrics=['accuracy'])\n",
    "# fit network   #CategoricalCrossentropy #sparse_categorical_crossentropy #SparseCategoricalCrossentropy\n",
    "\n",
    "earlystopping = callbacks.EarlyStopping(monitor =\"val_accuracy\", mode =\"max\", patience = 50, restore_best_weights = True)\n",
    "\n",
    "model_crs.fit(X_train, y_train_cat, epochs=epochs, batch_size=batch_size, verbose=verbose, validation_data = (X_valid, y_valid_cat), callbacks =[earlystopping])\n",
    "\n",
    "_, accuracy = model_crs.evaluate(X_valid, y_valid_cat, batch_size=batch_size, verbose=1)\n",
    "\n",
    "print('np.shape(X_test)=',np.shape(X_test))\n",
    "\n",
    "print('Accuracy= ', accuracy)\n",
    "\n",
    "#y_pred_vgg = model_crs.predict_classes(X_test)\n"
   ]
  },
  {
   "cell_type": "code",
   "execution_count": 28,
   "metadata": {},
   "outputs": [
    {
     "name": "stdout",
     "output_type": "stream",
     "text": [
      "10/10 [==============================] - 0s 22ms/step\n",
      "array([[ 0,  8, 24,  5, 23],\n",
      "       [ 0, 24, 23,  5,  6],\n",
      "       [ 0, 16, 34,  1,  8],\n",
      "       [ 0, 21, 14, 11, 18],\n",
      "       [ 0, 10, 14,  6, 37]], dtype=int64)\n",
      "              precision    recall  f1-score   support\n",
      "\n",
      "           2       0.00      0.00      0.00        60\n",
      "           3       0.30      0.41      0.35        58\n",
      "           4       0.31      0.58      0.40        59\n",
      "           5       0.39      0.17      0.24        64\n",
      "           6       0.40      0.55      0.47        67\n",
      "\n",
      "    accuracy                           0.34       308\n",
      "   macro avg       0.28      0.34      0.29       308\n",
      "weighted avg       0.29      0.34      0.29       308\n",
      "\n"
     ]
    },
    {
     "name": "stderr",
     "output_type": "stream",
     "text": [
      "C:\\ProgramData\\Anaconda3\\lib\\site-packages\\sklearn\\metrics\\_classification.py:1248: UndefinedMetricWarning: Precision and F-score are ill-defined and being set to 0.0 in labels with no predicted samples. Use `zero_division` parameter to control this behavior.\n",
      "  _warn_prf(average, modifier, msg_start, len(result))\n",
      "C:\\ProgramData\\Anaconda3\\lib\\site-packages\\sklearn\\metrics\\_classification.py:1248: UndefinedMetricWarning: Precision and F-score are ill-defined and being set to 0.0 in labels with no predicted samples. Use `zero_division` parameter to control this behavior.\n",
      "  _warn_prf(average, modifier, msg_start, len(result))\n",
      "C:\\ProgramData\\Anaconda3\\lib\\site-packages\\sklearn\\metrics\\_classification.py:1248: UndefinedMetricWarning: Precision and F-score are ill-defined and being set to 0.0 in labels with no predicted samples. Use `zero_division` parameter to control this behavior.\n",
      "  _warn_prf(average, modifier, msg_start, len(result))\n"
     ]
    }
   ],
   "source": [
    "predict_x=model_crs.predict(X_test)              # Function 1\n",
    "\n",
    "y_pred_crs=maxindx(predict_x)                    # function from augment.py to remove 0 index predictions\n",
    "\n",
    "#y_pred_crs = model_crs.predict_classes(X_test)\n",
    "\n",
    "cm = confusion_matrix(y_test, y_pred_crs)\n",
    "fullprint(cm)\n",
    "acc3=accuracy_score(y_test, y_pred_crs)\n",
    "\n",
    "print(classification_report(y_test, y_pred_crs))\n",
    "\n",
    "#sns.heatmap(cm, annot=True)\n",
    "\n",
    "#plt.imshow(cm)"
   ]
  },
  {
   "cell_type": "code",
   "execution_count": null,
   "metadata": {},
   "outputs": [],
   "source": []
  }
 ],
 "metadata": {
  "celltoolbar": "Raw Cell Format",
  "kernelspec": {
   "display_name": "Python 3 (ipykernel)",
   "language": "python",
   "name": "python3"
  },
  "language_info": {
   "codemirror_mode": {
    "name": "ipython",
    "version": 3
   },
   "file_extension": ".py",
   "mimetype": "text/x-python",
   "name": "python",
   "nbconvert_exporter": "python",
   "pygments_lexer": "ipython3",
   "version": "3.9.7"
  }
 },
 "nbformat": 4,
 "nbformat_minor": 4
}
