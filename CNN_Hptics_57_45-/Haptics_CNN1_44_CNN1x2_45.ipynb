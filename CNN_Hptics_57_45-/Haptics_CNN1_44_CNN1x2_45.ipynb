{
 "cells": [
  {
   "cell_type": "markdown",
   "metadata": {},
   "source": [
    "import time\n",
    "plc=1\n",
    "time.sleep(3000*plc)         #run after 1 houre = 3600 seconds"
   ]
  },
  {
   "cell_type": "code",
   "execution_count": 1,
   "metadata": {},
   "outputs": [
    {
     "data": {
      "text/html": [
       "<style>#notebook { padding-top:0px !important; } .container { width:100% !important; } .end_space { min-height:0px !important; } html, body, .container{ margin:0!important;padding:0!important;}</style>"
      ],
      "text/plain": [
       "<IPython.core.display.HTML object>"
      ]
     },
     "metadata": {},
     "output_type": "display_data"
    }
   ],
   "source": [
    "import os\n",
    "import glob\n",
    "import scipy\n",
    "import random\n",
    "import bisect\n",
    "import numpy as np\n",
    "import pandas as pd\n",
    "import seaborn as sns\n",
    "from scipy import signal\n",
    "from scipy.signal import find_peaks\n",
    "import matplotlib.pyplot as plt\n",
    "from preprocess import *                         #ماژول استخراج پنجره ها\n",
    "from data import *                          #ماژول محلی ورود داده ها\n",
    "from augment import *                            #ماژول های داده افزایی\n",
    "from lstm_cnn import *                           #ماژول های داده افزایی با lstm_cnn\n",
    "import augment\n",
    "import importlib\n",
    "importlib.reload(augment)\n",
    "import tensorflow as tf\n",
    "from tensorflow import keras\n",
    "from tensorflow.keras.layers import BatchNormalization\n",
    "from sklearn.model_selection import train_test_split\n",
    "from sklearn.neural_network import MLPClassifier\n",
    "from sklearn.datasets import make_classification\n",
    "from sklearn.metrics import confusion_matrix, accuracy_score, classification_report,recall_score,precision_score\n",
    "from tensorflow.keras import callbacks\n",
    "from tensorflow.keras import layers\n",
    "from tensorflow.keras.models import Sequential\n",
    "from tensorflow.keras.layers import Convolution2D,Conv1D,Dropout,MaxPooling1D,MaxPooling2D,Flatten,Dense\n",
    "from tensorflow.keras import backend as K\n",
    "from tensorflow.keras.utils import to_categorical\n",
    "from tensorflow.keras.models import load_model\n",
    "cwd = os.getcwd() #\n",
    "fullscrn()"
   ]
  },
  {
   "cell_type": "markdown",
   "metadata": {},
   "source": [
    "<h1><center><div style=\"direction:rtl;font-family:B Nazanin\">Importing Data</div></center></h1>"
   ]
  },
  {
   "cell_type": "code",
   "execution_count": 2,
   "metadata": {
    "scrolled": true
   },
   "outputs": [
    {
     "name": "stdout",
     "output_type": "stream",
     "text": [
      "first_train_shape= (155, 1093)\n",
      "first_test_shape= (308, 1093)\n",
      "classes_quantity= 5\n",
      "tr_lbls=\t {1, 2, 3, 4, 5}\n",
      "Count_labels= [18 34 34 36 33]\n",
      "max(train_feature_Altitude)= 5.0\n",
      "min(train_feature_Altitude)= -11.147\n",
      "first_train_sample=\n",
      " [ 5.      -1.0475   0.54834 ...  0.89676 -2.6913  -8.1963 ]\n",
      "1 18\t2 34\t3 34\t4 36\t5 33\t"
     ]
    }
   ],
   "source": [
    "rate=480\n",
    "cls_num=5\n",
    "btch=20\n",
    "for i in range (1,cls_num+1):\n",
    "    vars()['ecg'+str(i)],vars()['ecg_tst'+str(i)]=Haptics(i)\n",
    "\n",
    "os.chdir(cwd)\n",
    "clses_lens=np.array([])\n",
    "i=0                               #جمع آوری داده ها و چاپ تعداد نمونه ی هر کلاس\n",
    "ecg=np.array(ecg1)\n",
    "print(1,len(vars()['ecg'+str(1)]), end='\\t')\n",
    "clses_lens=np.append(clses_lens,len(vars()['ecg'+str(1)]))\n",
    "for i in range (2,cls_num+1):\n",
    "    ecg=np.concatenate((ecg,vars()['ecg'+str(i)]),axis=0)\n",
    "    clses_lens=np.append(clses_lens,len(vars()['ecg'+str(i)]))\n",
    "    print(i,len(vars()['ecg'+str(i)]), end='\\t')\n",
    "\n",
    "mx_sig=max(clses_lens)"
   ]
  },
  {
   "cell_type": "code",
   "execution_count": 3,
   "metadata": {},
   "outputs": [
    {
     "data": {
      "text/plain": [
       "(155, 481)"
      ]
     },
     "execution_count": 3,
     "metadata": {},
     "output_type": "execute_result"
    }
   ],
   "source": [
    "np.shape(ecg)"
   ]
  },
  {
   "cell_type": "code",
   "execution_count": 4,
   "metadata": {},
   "outputs": [
    {
     "data": {
      "text/plain": [
       "array([1., 1., 1., 1., 1., 1., 1., 1., 1., 1., 1., 1., 1., 1., 1., 1., 1.,\n",
       "       1., 2., 2., 2., 2., 2., 2., 2., 2., 2., 2., 2., 2., 2., 2., 2., 2.,\n",
       "       2., 2., 2., 2., 2., 2., 2., 2., 2., 2., 2., 2., 2., 2., 2., 2., 2.,\n",
       "       2., 3., 3., 3., 3., 3., 3., 3., 3., 3., 3., 3., 3., 3., 3., 3., 3.,\n",
       "       3., 3., 3., 3., 3., 3., 3., 3., 3., 3., 3., 3., 3., 3., 3., 3., 3.,\n",
       "       3., 4., 4., 4., 4., 4., 4., 4., 4., 4., 4., 4., 4., 4., 4., 4., 4.,\n",
       "       4., 4., 4., 4., 4., 4., 4., 4., 4., 4., 4., 4., 4., 4., 4., 4., 4.,\n",
       "       4., 4., 4., 5., 5., 5., 5., 5., 5., 5., 5., 5., 5., 5., 5., 5., 5.,\n",
       "       5., 5., 5., 5., 5., 5., 5., 5., 5., 5., 5., 5., 5., 5., 5., 5., 5.,\n",
       "       5., 5.])"
      ]
     },
     "execution_count": 4,
     "metadata": {},
     "output_type": "execute_result"
    }
   ],
   "source": [
    "ecg[:,-1]"
   ]
  },
  {
   "cell_type": "markdown",
   "metadata": {},
   "source": [
    "<h2><center><div style=\"direction:rtl;font-family:B Nazanin\">Base Train windows</div></center></h1>"
   ]
  },
  {
   "cell_type": "code",
   "execution_count": 5,
   "metadata": {},
   "outputs": [
    {
     "name": "stdout",
     "output_type": "stream",
     "text": [
      "each class and its windows =\n",
      "1 18\t2 34\t3 34\t4 36\t5 33\t\n",
      " max = 36\n"
     ]
    }
   ],
   "source": [
    "smpl_rte=rate                                              # در ماژول ها نیز همین مقدار ثبت شده\n",
    "i=0\n",
    "windws=np.array([])\n",
    "\n",
    "for cls in range (1,cls_num+1):                                 #ساخت پنجره های داده های آموزش اصلی\n",
    "    vars()['wndws'+str(cls)]=np.array(vars()['ecg'+str(cls)])  \n",
    "    \n",
    "print(\"each class and its windows =\")\n",
    "\n",
    "cls_wndws=np.array([])\n",
    "for cls in range (1,cls_num+1):                                # آرایه ی تعداد پنجره ی هر کلاس\n",
    "    wns=len(vars()['wndws'+str(cls)])\n",
    "    cls_wndws=np.append(cls_wndws,wns)\n",
    "    print(cls, wns, end='\\t')\n",
    "\n",
    "mx_wndws=int(np.max(cls_wndws))                        # حداکثر تعداد پنجره ی موجود بین کلاس ها\n",
    "print('\\n max =', mx_wndws)"
   ]
  },
  {
   "cell_type": "raw",
   "metadata": {},
   "source": [
    "#clses=3                                   #تعیین میزان افزایش نمونه (تولید داده)\n",
    "mx_wndws=int(mx_wndws)  #mx_wndws*0.3  # =classes-1 برای بررسی الگوریتم تعداد کمی کلاس آزمایش شد\n",
    "mx_wndws=2598           #+2\n",
    "print(mx_wndws)"
   ]
  },
  {
   "cell_type": "markdown",
   "metadata": {},
   "source": [
    "<h1><center><div style=\"direction:rtl;font-family:B Nazanin\">Data Augmentation</div></center></h1>"
   ]
  },
  {
   "cell_type": "code",
   "execution_count": 6,
   "metadata": {},
   "outputs": [
    {
     "name": "stdout",
     "output_type": "stream",
     "text": [
      "Up to class  1 train shape =  (18, 481)\n",
      "Up to class  2 train shape =  (52, 481)\n",
      "Up to class  3 train shape =  (86, 481)\n",
      "Up to class  4 train shape =  (122, 481)\n",
      "Up to class  5 train shape =  (155, 481)\n"
     ]
    }
   ],
   "source": [
    "smpl_rte=len(wndws1[0])                                        # در ماژول ها نیز همین مقدار ثبت شده\n",
    "\n",
    "#add augmented data to base data\n",
    "xtrain=np.empty((0,len(wndws1[0])), float) \n",
    "for i in range (1,cls_num+1):   \n",
    "    xtrain=np.append(xtrain,vars()['wndws'+str(i)],axis=0)\n",
    "    print('Up to class ', i, 'train shape = ', np.shape(xtrain))"
   ]
  },
  {
   "cell_type": "code",
   "execution_count": 7,
   "metadata": {},
   "outputs": [
    {
     "name": "stdout",
     "output_type": "stream",
     "text": [
      "[ 0 18 34 34 36 33]\n"
     ]
    }
   ],
   "source": [
    "print(np.bincount(np.int16(xtrain[:,-1])))    #تعداد پنجره در هر کلاس از 0 تا 17"
   ]
  },
  {
   "cell_type": "code",
   "execution_count": 8,
   "metadata": {},
   "outputs": [
    {
     "data": {
      "text/plain": [
       "array([1., 1., 1., 1., 1., 1., 1., 1., 1., 1., 1., 1., 1., 1., 1., 1., 1.,\n",
       "       1., 2., 2., 2., 2., 2., 2., 2., 2., 2., 2., 2., 2., 2., 2., 2., 2.,\n",
       "       2., 2., 2., 2., 2., 2., 2., 2., 2., 2., 2., 2., 2., 2., 2., 2., 2.,\n",
       "       2., 3., 3., 3., 3., 3., 3., 3., 3., 3., 3., 3., 3., 3., 3., 3., 3.,\n",
       "       3., 3., 3., 3., 3., 3., 3., 3., 3., 3., 3., 3., 3., 3., 3., 3., 3.,\n",
       "       3., 4., 4., 4., 4., 4., 4., 4., 4., 4., 4., 4., 4., 4., 4., 4., 4.,\n",
       "       4., 4., 4., 4., 4., 4., 4., 4., 4., 4., 4., 4., 4., 4., 4., 4., 4.,\n",
       "       4., 4., 4., 5., 5., 5., 5., 5., 5., 5., 5., 5., 5., 5., 5., 5., 5.,\n",
       "       5., 5., 5., 5., 5., 5., 5., 5., 5., 5., 5., 5., 5., 5., 5., 5., 5.,\n",
       "       5., 5.])"
      ]
     },
     "execution_count": 8,
     "metadata": {},
     "output_type": "execute_result"
    }
   ],
   "source": [
    "xtrain[:,-1]"
   ]
  },
  {
   "cell_type": "code",
   "execution_count": 9,
   "metadata": {},
   "outputs": [],
   "source": [
    "mx_aug=np.max(xtrain[:,:-1])\n",
    "mx=np.max(ecg[:,:-1])\n",
    "mn_aug=np.min(xtrain[:,:-1])\n",
    "mn=np.min(ecg[:,:-1])\n",
    "\n",
    "#for i in range (1,cls_num+1):             #نرمالسازی داده های افزایشی\n",
    "xtrain[:,:-1]= 2*(xtrain[:,:-1]-mn_aug)/(mx_aug - mn_aug) - 1"
   ]
  },
  {
   "cell_type": "code",
   "execution_count": 10,
   "metadata": {},
   "outputs": [
    {
     "name": "stdout",
     "output_type": "stream",
     "text": [
      "min trn = -1.0\n",
      "max trn = 1.0\n"
     ]
    }
   ],
   "source": [
    "print('min trn =', np.min(xtrain[:,:-1]))\n",
    "print('max trn =', np.max(xtrain[:,:-1]))"
   ]
  },
  {
   "cell_type": "markdown",
   "metadata": {},
   "source": [
    "<h3><center><div style=\"direction:rtl;font-family:B Nazanin\">Test Windows</div></center></h1>"
   ]
  },
  {
   "cell_type": "code",
   "execution_count": 11,
   "metadata": {},
   "outputs": [],
   "source": [
    "wndws_test=np.empty((0,len(wndws1[0])), float)\n",
    "i=0\n",
    "windws=np.array([])\n",
    "for cls in range (1,cls_num+1):                                 #ساخت پنجره های داده های آموزش اصلی\n",
    "    vars()['wndws_tst'+str(cls)]=np.empty((0,len(wndws1[0])), float)\n",
    "    vars()['wndws_tst'+str(cls)]=np.append(vars()['wndws_tst'+str(cls)],vars()['ecg_tst'+str(cls)],axis=0)   "
   ]
  },
  {
   "cell_type": "code",
   "execution_count": 12,
   "metadata": {},
   "outputs": [
    {
     "name": "stdout",
     "output_type": "stream",
     "text": [
      "\n",
      " cls 1  >> \n",
      "max magnitude class 1  =  4.597467569572298\n",
      "min magnitude class 1  =  -13.17299850668317\n",
      "after normalizing >>\n",
      "max magnitude class 1  =  1.2596009116229263\n",
      "min magnitude class 1  =  -1.8343638646323206\n",
      "\n",
      " cls 2  >> \n",
      "max magnitude class 2  =  2.7396485902086973\n",
      "min magnitude class 2  =  -7.29747643241007\n",
      "after normalizing >>\n",
      "max magnitude class 2  =  0.9361413884937131\n",
      "min magnitude class 2  =  -0.811393602518538\n",
      "\n",
      " cls 3  >> \n",
      "max magnitude class 3  =  2.921229641073384\n",
      "min magnitude class 3  =  -8.077613775922405\n",
      "after normalizing >>\n",
      "max magnitude class 3  =  0.9677559433962111\n",
      "min magnitude class 3  =  -0.9472210732844096\n",
      "\n",
      " cls 4  >> \n",
      "max magnitude class 4  =  2.566649466280018\n",
      "min magnitude class 4  =  -6.7000715338116725\n",
      "after normalizing >>\n",
      "max magnitude class 4  =  0.9060210082256042\n",
      "min magnitude class 4  =  -0.707381152563975\n",
      "\n",
      " cls 5  >> \n",
      "max magnitude class 5  =  3.059927687644744\n",
      "min magnitude class 5  =  -7.133883777493334\n",
      "after normalizing >>\n",
      "max magnitude class 5  =  0.9919042616668607\n",
      "min magnitude class 5  =  -0.7829109555359263\n",
      "each class and its windows =\n",
      "1 60\t2 58\t3 59\t4 64\t5 67\t\n",
      " max instance in classes of test windows = 67\n"
     ]
    }
   ],
   "source": [
    "#print(np.max(wndws_tst))\n",
    "for i in range (1,cls_num+1):                # Normalization test windows\n",
    "    cls=i\n",
    "    print('\\n cls', i, ' >> ')\n",
    "    print('max magnitude class', i , ' = ' ,np.max(vars()['wndws_tst'+str(cls)][:,:-1]))\n",
    "    print('min magnitude class', i , ' = ' ,np.min(vars()['wndws_tst'+str(cls)][:,:-1]))\n",
    "\n",
    "    vars()['wndws_tst'+str(i)][:,:-1]= 2*(vars()['wndws_tst'+str(i)][:,:-1]-mn_aug)/(mx_aug - mn_aug) - 1\n",
    "    \n",
    "    print('after normalizing >>')\n",
    "    print('max magnitude class', i , ' = ' ,np.max(vars()['wndws_tst'+str(cls)][:,:-1]))\n",
    "    print('min magnitude class', i , ' = ' ,np.min(vars()['wndws_tst'+str(cls)][:,:-1]))\n",
    "    \n",
    "print(\"each class and its windows =\")                    #تجمیع کلاس های تست\n",
    "cls_wndws=np.array([])\n",
    "for cls in range (1,cls_num+1):                                # آرایه ی تعداد پنجره ی هر کلاس\n",
    "    wns=len(vars()['wndws_tst'+str(cls)])\n",
    "    cls_wndws=np.append(cls_wndws,wns)\n",
    "    print(cls, wns, end='\\t')\n",
    "    wndws_test=np.append(wndws_test,vars()['wndws_tst'+str(cls)],axis=0)\n",
    "    \n",
    "mx_wndws=int(np.max(cls_wndws))                        # حداکثر تعداد پنجره ی موجود بین کلاس ها\n",
    "print('\\n max instance in classes of test windows =', mx_wndws)"
   ]
  },
  {
   "cell_type": "code",
   "execution_count": 13,
   "metadata": {},
   "outputs": [
    {
     "name": "stdout",
     "output_type": "stream",
     "text": [
      "min tst = -1.8343638646323206\n",
      "max tst = 1.2596009116229263\n"
     ]
    }
   ],
   "source": [
    "print('min tst =', np.min(wndws_test[:,:-1]))\n",
    "print('max tst =', np.max(wndws_test[:,:-1]))"
   ]
  },
  {
   "cell_type": "code",
   "execution_count": 14,
   "metadata": {},
   "outputs": [
    {
     "data": {
      "text/plain": [
       "308"
      ]
     },
     "execution_count": 14,
     "metadata": {},
     "output_type": "execute_result"
    }
   ],
   "source": [
    "len(wndws_test)"
   ]
  },
  {
   "cell_type": "code",
   "execution_count": 15,
   "metadata": {},
   "outputs": [
    {
     "data": {
      "text/plain": [
       "(308, 481)"
      ]
     },
     "execution_count": 15,
     "metadata": {},
     "output_type": "execute_result"
    }
   ],
   "source": [
    "np.shape(wndws_test)"
   ]
  },
  {
   "cell_type": "code",
   "execution_count": 16,
   "metadata": {},
   "outputs": [],
   "source": [
    "Xtest=wndws_test[:,:-1]\n",
    "ytest=np.int16(wndws_test[:,-1])"
   ]
  },
  {
   "cell_type": "code",
   "execution_count": 17,
   "metadata": {},
   "outputs": [
    {
     "name": "stdout",
     "output_type": "stream",
     "text": [
      "array([1, 1, 1, 1, 1, 1, 1, 1, 1, 1, 1, 1, 1, 1, 1, 1, 1, 1, 1, 1, 1, 1,\n",
      "       1, 1, 1, 1, 1, 1, 1, 1, 1, 1, 1, 1, 1, 1, 1, 1, 1, 1, 1, 1, 1, 1,\n",
      "       1, 1, 1, 1, 1, 1, 1, 1, 1, 1, 1, 1, 1, 1, 1, 1, 2, 2, 2, 2, 2, 2,\n",
      "       2, 2, 2, 2, 2, 2, 2, 2, 2, 2, 2, 2, 2, 2, 2, 2, 2, 2, 2, 2, 2, 2,\n",
      "       2, 2, 2, 2, 2, 2, 2, 2, 2, 2, 2, 2, 2, 2, 2, 2, 2, 2, 2, 2, 2, 2,\n",
      "       2, 2, 2, 2, 2, 2, 2, 2, 3, 3, 3, 3, 3, 3, 3, 3, 3, 3, 3, 3, 3, 3,\n",
      "       3, 3, 3, 3, 3, 3, 3, 3, 3, 3, 3, 3, 3, 3, 3, 3, 3, 3, 3, 3, 3, 3,\n",
      "       3, 3, 3, 3, 3, 3, 3, 3, 3, 3, 3, 3, 3, 3, 3, 3, 3, 3, 3, 3, 3, 3,\n",
      "       3, 4, 4, 4, 4, 4, 4, 4, 4, 4, 4, 4, 4, 4, 4, 4, 4, 4, 4, 4, 4, 4,\n",
      "       4, 4, 4, 4, 4, 4, 4, 4, 4, 4, 4, 4, 4, 4, 4, 4, 4, 4, 4, 4, 4, 4,\n",
      "       4, 4, 4, 4, 4, 4, 4, 4, 4, 4, 4, 4, 4, 4, 4, 4, 4, 4, 4, 4, 4, 5,\n",
      "       5, 5, 5, 5, 5, 5, 5, 5, 5, 5, 5, 5, 5, 5, 5, 5, 5, 5, 5, 5, 5, 5,\n",
      "       5, 5, 5, 5, 5, 5, 5, 5, 5, 5, 5, 5, 5, 5, 5, 5, 5, 5, 5, 5, 5, 5,\n",
      "       5, 5, 5, 5, 5, 5, 5, 5, 5, 5, 5, 5, 5, 5, 5, 5, 5, 5, 5, 5, 5, 5],\n",
      "      dtype=int16)\n"
     ]
    }
   ],
   "source": [
    "fullprint(ytest)"
   ]
  },
  {
   "cell_type": "markdown",
   "metadata": {},
   "source": [
    "<h3><center><div style=\"direction:rtl;font-family:B Nazanin\">Train Windows</div></center></h1>"
   ]
  },
  {
   "cell_type": "code",
   "execution_count": 18,
   "metadata": {},
   "outputs": [
    {
     "data": {
      "text/plain": [
       "'\\nytestt=np.int32(np.array([ytest]).T)\\ntestx=np.concatenate((Xtest, ytestt), axis=1)\\ntestx=np.random.permutation(testx)\\nXtest=np.int32(testx[:,:-1])\\nytest=np.int32(testx[:,-1])'"
      ]
     },
     "execution_count": 18,
     "metadata": {},
     "output_type": "execute_result"
    }
   ],
   "source": [
    "#ytraint=np.int32(np.array([ytrain]).T)\n",
    "#trainx=np.concatenate((Xtrain, ytraint), axis=1)\n",
    "trainx=np.random.permutation(xtrain)\n",
    "Xtrain=np.array(trainx[:,:-1])\n",
    "ytrain=np.int16(trainx[:,-1])\n",
    "'''\n",
    "ytestt=np.int32(np.array([ytest]).T)\n",
    "testx=np.concatenate((Xtest, ytestt), axis=1)\n",
    "testx=np.random.permutation(testx)\n",
    "Xtest=np.int32(testx[:,:-1])\n",
    "ytest=np.int32(testx[:,-1])'''"
   ]
  },
  {
   "cell_type": "code",
   "execution_count": 19,
   "metadata": {},
   "outputs": [
    {
     "data": {
      "text/plain": [
       "(18, 481)"
      ]
     },
     "execution_count": 19,
     "metadata": {},
     "output_type": "execute_result"
    }
   ],
   "source": [
    "np.shape(wndws1)"
   ]
  },
  {
   "cell_type": "markdown",
   "metadata": {},
   "source": [
    "<h3><center><div style=\"direction:rtl;font-family:B Nazanin\">Validation Windows</div></center></h1>"
   ]
  },
  {
   "cell_type": "code",
   "execution_count": 20,
   "metadata": {},
   "outputs": [],
   "source": [
    "Xvalid=np.array(Xtrain)\n",
    "yvalid=np.array(ytrain)"
   ]
  },
  {
   "cell_type": "markdown",
   "metadata": {},
   "source": [
    "<h1><center><div style=\"direction:rtl;font-family:B Nazanin\">CNN And UnBalanced RAW Data</div></center></h1>\n",
    "<h1><center><div style=\"direction:rtl;font-family:Arial\">Cross Entropy Loss Function</div></center></h1>"
   ]
  },
  {
   "cell_type": "code",
   "execution_count": 21,
   "metadata": {
    "scrolled": true
   },
   "outputs": [
    {
     "name": "stdout",
     "output_type": "stream",
     "text": [
      "X_train =>  (155, 480)\n",
      "y_train =>  (155,)\n",
      "X_test  =>  (308, 480)\n",
      "y_test  =>  (308,)\n",
      "X_valid  =>  (155, 480)\n",
      "y_valid  =>  (155,)\n"
     ]
    }
   ],
   "source": [
    "X_train=np.array(Xtrain)\n",
    "y_train=np.array(ytrain)\n",
    "X_test=np.array(Xtest)\n",
    "y_test=np.array(ytest)\n",
    "X_valid=np.array(Xtrain)\n",
    "y_valid=np.array(ytrain)\n",
    "print('X_train => ', X_train.shape)\n",
    "print('y_train => ', y_train.shape)\n",
    "print('X_test  => ', X_test.shape)\n",
    "print('y_test  => ', y_test.shape)\n",
    "print('X_valid  => ', X_valid.shape)\n",
    "print('y_valid  => ', y_valid.shape)"
   ]
  },
  {
   "cell_type": "code",
   "execution_count": 22,
   "metadata": {},
   "outputs": [],
   "source": [
    "y_train=np.array(y_train+1)\n",
    "y_test=np.array(y_test+1)\n",
    "y_valid=np.array(y_valid+1)"
   ]
  },
  {
   "cell_type": "code",
   "execution_count": 23,
   "metadata": {},
   "outputs": [],
   "source": [
    "y_train_cat=to_categorical(y_train)\n",
    "y_valid_cat=to_categorical(y_valid)\n",
    "y_test_cat=to_categorical(y_test)\n",
    "\n",
    "\n",
    "X_train = np.expand_dims(X_train, axis=2)\n",
    "X_valid = np.expand_dims(X_valid, axis=2)\n",
    "X_test = np.expand_dims(X_test, axis=2)\n",
    "#y_train=np.transpose([y_train])"
   ]
  },
  {
   "cell_type": "code",
   "execution_count": 24,
   "metadata": {
    "scrolled": true
   },
   "outputs": [
    {
     "name": "stdout",
     "output_type": "stream",
     "text": [
      "Epoch 1/1000\n",
      "8/8 [==============================] - 3s 53ms/step - loss: 1.7776 - accuracy: 0.1935 - val_loss: 1.6080 - val_accuracy: 0.2194\n",
      "Epoch 2/1000\n",
      "8/8 [==============================] - 0s 13ms/step - loss: 1.6573 - accuracy: 0.2129 - val_loss: 1.6174 - val_accuracy: 0.2194\n",
      "Epoch 3/1000\n",
      "8/8 [==============================] - 0s 13ms/step - loss: 1.6235 - accuracy: 0.2839 - val_loss: 1.6191 - val_accuracy: 0.2129\n",
      "Epoch 4/1000\n",
      "8/8 [==============================] - 0s 14ms/step - loss: 1.6123 - accuracy: 0.1935 - val_loss: 1.6023 - val_accuracy: 0.3548\n",
      "Epoch 5/1000\n",
      "8/8 [==============================] - 0s 13ms/step - loss: 1.6271 - accuracy: 0.2452 - val_loss: 1.5825 - val_accuracy: 0.3097\n",
      "Epoch 6/1000\n",
      "8/8 [==============================] - 0s 13ms/step - loss: 1.6261 - accuracy: 0.1871 - val_loss: 1.5993 - val_accuracy: 0.3548\n",
      "Epoch 7/1000\n",
      "8/8 [==============================] - 0s 13ms/step - loss: 1.5945 - accuracy: 0.2968 - val_loss: 1.5783 - val_accuracy: 0.2774\n",
      "Epoch 8/1000\n",
      "8/8 [==============================] - 0s 14ms/step - loss: 1.5696 - accuracy: 0.2774 - val_loss: 1.5707 - val_accuracy: 0.3677\n",
      "Epoch 9/1000\n",
      "8/8 [==============================] - 0s 13ms/step - loss: 1.5784 - accuracy: 0.3290 - val_loss: 1.5132 - val_accuracy: 0.2968\n",
      "Epoch 10/1000\n",
      "8/8 [==============================] - 0s 13ms/step - loss: 1.5191 - accuracy: 0.3226 - val_loss: 1.8745 - val_accuracy: 0.2258\n",
      "Epoch 11/1000\n",
      "8/8 [==============================] - 0s 13ms/step - loss: 1.5455 - accuracy: 0.3355 - val_loss: 1.4786 - val_accuracy: 0.3355\n",
      "Epoch 12/1000\n",
      "8/8 [==============================] - 0s 14ms/step - loss: 1.4936 - accuracy: 0.3677 - val_loss: 1.4484 - val_accuracy: 0.4129\n",
      "Epoch 13/1000\n",
      "8/8 [==============================] - 0s 13ms/step - loss: 1.4628 - accuracy: 0.3742 - val_loss: 1.4340 - val_accuracy: 0.4194\n",
      "Epoch 14/1000\n",
      "8/8 [==============================] - 0s 13ms/step - loss: 1.4822 - accuracy: 0.3419 - val_loss: 1.4251 - val_accuracy: 0.3871\n",
      "Epoch 15/1000\n",
      "8/8 [==============================] - 0s 13ms/step - loss: 1.4522 - accuracy: 0.3677 - val_loss: 1.3661 - val_accuracy: 0.4645\n",
      "Epoch 16/1000\n",
      "8/8 [==============================] - 0s 13ms/step - loss: 1.4221 - accuracy: 0.3935 - val_loss: 1.4014 - val_accuracy: 0.4452\n",
      "Epoch 17/1000\n",
      "8/8 [==============================] - 0s 14ms/step - loss: 1.3905 - accuracy: 0.3935 - val_loss: 1.2968 - val_accuracy: 0.4903\n",
      "Epoch 18/1000\n",
      "8/8 [==============================] - 0s 15ms/step - loss: 1.3843 - accuracy: 0.4258 - val_loss: 1.2865 - val_accuracy: 0.5226\n",
      "Epoch 19/1000\n",
      "8/8 [==============================] - 0s 14ms/step - loss: 1.3664 - accuracy: 0.4065 - val_loss: 1.2977 - val_accuracy: 0.4774\n",
      "Epoch 20/1000\n",
      "8/8 [==============================] - 0s 14ms/step - loss: 1.3549 - accuracy: 0.4387 - val_loss: 1.3300 - val_accuracy: 0.4258\n",
      "Epoch 21/1000\n",
      "8/8 [==============================] - 0s 14ms/step - loss: 1.3321 - accuracy: 0.4516 - val_loss: 1.3408 - val_accuracy: 0.4581\n",
      "Epoch 22/1000\n",
      "8/8 [==============================] - 0s 14ms/step - loss: 1.3045 - accuracy: 0.4903 - val_loss: 1.6907 - val_accuracy: 0.3290\n",
      "Epoch 23/1000\n",
      "8/8 [==============================] - 0s 14ms/step - loss: 1.3776 - accuracy: 0.5161 - val_loss: 1.2611 - val_accuracy: 0.4710\n",
      "Epoch 24/1000\n",
      "8/8 [==============================] - 0s 15ms/step - loss: 1.2220 - accuracy: 0.5677 - val_loss: 1.1678 - val_accuracy: 0.5677\n",
      "Epoch 25/1000\n",
      "8/8 [==============================] - 0s 14ms/step - loss: 1.1962 - accuracy: 0.5806 - val_loss: 1.3230 - val_accuracy: 0.4839\n",
      "Epoch 26/1000\n",
      "8/8 [==============================] - 0s 15ms/step - loss: 1.2763 - accuracy: 0.4839 - val_loss: 1.1075 - val_accuracy: 0.6000\n",
      "Epoch 27/1000\n",
      "8/8 [==============================] - 0s 14ms/step - loss: 1.1707 - accuracy: 0.6000 - val_loss: 1.0963 - val_accuracy: 0.5935\n",
      "Epoch 28/1000\n",
      "8/8 [==============================] - 0s 15ms/step - loss: 1.2614 - accuracy: 0.5226 - val_loss: 1.0831 - val_accuracy: 0.6129\n",
      "Epoch 29/1000\n",
      "8/8 [==============================] - 0s 14ms/step - loss: 1.1018 - accuracy: 0.6000 - val_loss: 1.7316 - val_accuracy: 0.4000\n",
      "Epoch 30/1000\n",
      "8/8 [==============================] - 0s 14ms/step - loss: 1.2673 - accuracy: 0.5355 - val_loss: 1.0094 - val_accuracy: 0.6516\n",
      "Epoch 31/1000\n",
      "8/8 [==============================] - 0s 14ms/step - loss: 1.2411 - accuracy: 0.5097 - val_loss: 1.0989 - val_accuracy: 0.5613\n",
      "Epoch 32/1000\n",
      "8/8 [==============================] - 0s 14ms/step - loss: 1.0754 - accuracy: 0.5742 - val_loss: 1.0271 - val_accuracy: 0.6323\n",
      "Epoch 33/1000\n",
      "8/8 [==============================] - 0s 15ms/step - loss: 1.0260 - accuracy: 0.6581 - val_loss: 0.9441 - val_accuracy: 0.6710\n",
      "Epoch 34/1000\n",
      "8/8 [==============================] - 0s 14ms/step - loss: 1.0677 - accuracy: 0.6258 - val_loss: 0.9759 - val_accuracy: 0.6323\n",
      "Epoch 35/1000\n",
      "8/8 [==============================] - 0s 14ms/step - loss: 1.1099 - accuracy: 0.5806 - val_loss: 0.9264 - val_accuracy: 0.6323\n",
      "Epoch 36/1000\n",
      "8/8 [==============================] - 0s 14ms/step - loss: 1.0091 - accuracy: 0.5871 - val_loss: 1.0974 - val_accuracy: 0.5613\n",
      "Epoch 37/1000\n",
      "8/8 [==============================] - 0s 14ms/step - loss: 1.0664 - accuracy: 0.5548 - val_loss: 0.9364 - val_accuracy: 0.6581\n",
      "Epoch 38/1000\n",
      "8/8 [==============================] - 0s 14ms/step - loss: 0.9468 - accuracy: 0.5806 - val_loss: 0.9961 - val_accuracy: 0.5871\n",
      "Epoch 39/1000\n",
      "8/8 [==============================] - 0s 14ms/step - loss: 0.9904 - accuracy: 0.6065 - val_loss: 1.1379 - val_accuracy: 0.5355\n",
      "Epoch 40/1000\n",
      "8/8 [==============================] - 0s 14ms/step - loss: 0.9983 - accuracy: 0.5806 - val_loss: 0.8341 - val_accuracy: 0.6645\n",
      "Epoch 41/1000\n",
      "8/8 [==============================] - 0s 14ms/step - loss: 0.9342 - accuracy: 0.6323 - val_loss: 0.8804 - val_accuracy: 0.6645\n",
      "Epoch 42/1000\n",
      "8/8 [==============================] - 0s 14ms/step - loss: 0.9502 - accuracy: 0.6323 - val_loss: 0.8764 - val_accuracy: 0.6581\n",
      "Epoch 43/1000\n",
      "8/8 [==============================] - 0s 14ms/step - loss: 0.9975 - accuracy: 0.5742 - val_loss: 0.8031 - val_accuracy: 0.6968\n",
      "Epoch 44/1000\n",
      "8/8 [==============================] - 0s 15ms/step - loss: 0.8835 - accuracy: 0.6968 - val_loss: 0.7404 - val_accuracy: 0.7161\n",
      "Epoch 45/1000\n",
      "8/8 [==============================] - 0s 14ms/step - loss: 0.9795 - accuracy: 0.6000 - val_loss: 0.9606 - val_accuracy: 0.6774\n",
      "Epoch 46/1000\n",
      "8/8 [==============================] - 0s 14ms/step - loss: 0.8297 - accuracy: 0.7097 - val_loss: 0.8025 - val_accuracy: 0.6774\n",
      "Epoch 47/1000\n",
      "8/8 [==============================] - 0s 14ms/step - loss: 0.8444 - accuracy: 0.6452 - val_loss: 0.8515 - val_accuracy: 0.6710\n",
      "Epoch 48/1000\n",
      "8/8 [==============================] - 0s 14ms/step - loss: 0.9183 - accuracy: 0.6194 - val_loss: 0.7083 - val_accuracy: 0.7290\n",
      "Epoch 49/1000\n",
      "8/8 [==============================] - 0s 15ms/step - loss: 0.8483 - accuracy: 0.6581 - val_loss: 0.6655 - val_accuracy: 0.7419\n",
      "Epoch 50/1000\n",
      "8/8 [==============================] - 0s 14ms/step - loss: 0.7746 - accuracy: 0.7290 - val_loss: 0.7751 - val_accuracy: 0.6839\n",
      "Epoch 51/1000\n",
      "8/8 [==============================] - 0s 15ms/step - loss: 0.7627 - accuracy: 0.7097 - val_loss: 0.5582 - val_accuracy: 0.8065\n",
      "Epoch 52/1000\n",
      "8/8 [==============================] - 0s 14ms/step - loss: 0.7552 - accuracy: 0.7097 - val_loss: 1.1467 - val_accuracy: 0.5871\n",
      "Epoch 53/1000\n",
      "8/8 [==============================] - 0s 14ms/step - loss: 0.8580 - accuracy: 0.6516 - val_loss: 0.6835 - val_accuracy: 0.6903\n",
      "Epoch 54/1000\n",
      "8/8 [==============================] - 0s 14ms/step - loss: 0.6376 - accuracy: 0.7613 - val_loss: 0.7871 - val_accuracy: 0.7290\n",
      "Epoch 55/1000\n",
      "8/8 [==============================] - 0s 13ms/step - loss: 0.7142 - accuracy: 0.7419 - val_loss: 0.5422 - val_accuracy: 0.7806\n",
      "Epoch 56/1000\n",
      "8/8 [==============================] - 0s 14ms/step - loss: 0.7187 - accuracy: 0.7355 - val_loss: 0.8645 - val_accuracy: 0.6323\n",
      "Epoch 57/1000\n",
      "8/8 [==============================] - 0s 14ms/step - loss: 0.6148 - accuracy: 0.7871 - val_loss: 0.5475 - val_accuracy: 0.7742\n",
      "Epoch 58/1000\n",
      "8/8 [==============================] - 0s 15ms/step - loss: 0.6012 - accuracy: 0.7806 - val_loss: 0.7708 - val_accuracy: 0.6774\n"
     ]
    },
    {
     "name": "stdout",
     "output_type": "stream",
     "text": [
      "Epoch 59/1000\n",
      "8/8 [==============================] - 0s 15ms/step - loss: 0.6150 - accuracy: 0.7742 - val_loss: 0.4578 - val_accuracy: 0.8194\n",
      "Epoch 60/1000\n",
      "8/8 [==============================] - 0s 15ms/step - loss: 0.6397 - accuracy: 0.7548 - val_loss: 0.4749 - val_accuracy: 0.8387\n",
      "Epoch 61/1000\n",
      "8/8 [==============================] - 0s 14ms/step - loss: 0.5869 - accuracy: 0.7484 - val_loss: 0.4213 - val_accuracy: 0.8323\n",
      "Epoch 62/1000\n",
      "8/8 [==============================] - 0s 14ms/step - loss: 0.5969 - accuracy: 0.7548 - val_loss: 0.5802 - val_accuracy: 0.7677\n",
      "Epoch 63/1000\n",
      "8/8 [==============================] - 0s 13ms/step - loss: 0.6204 - accuracy: 0.7484 - val_loss: 0.4778 - val_accuracy: 0.8000\n",
      "Epoch 64/1000\n",
      "8/8 [==============================] - 0s 16ms/step - loss: 0.5708 - accuracy: 0.7806 - val_loss: 0.3195 - val_accuracy: 0.9097\n",
      "Epoch 65/1000\n",
      "8/8 [==============================] - 0s 14ms/step - loss: 0.3934 - accuracy: 0.8387 - val_loss: 0.5970 - val_accuracy: 0.7613\n",
      "Epoch 66/1000\n",
      "8/8 [==============================] - 0s 15ms/step - loss: 0.5701 - accuracy: 0.7871 - val_loss: 0.5879 - val_accuracy: 0.7484\n",
      "Epoch 67/1000\n",
      "8/8 [==============================] - 0s 15ms/step - loss: 0.6662 - accuracy: 0.7419 - val_loss: 0.3509 - val_accuracy: 0.8710\n",
      "Epoch 68/1000\n",
      "8/8 [==============================] - 0s 15ms/step - loss: 0.3787 - accuracy: 0.8710 - val_loss: 0.3865 - val_accuracy: 0.8452\n",
      "Epoch 69/1000\n",
      "8/8 [==============================] - 0s 15ms/step - loss: 0.4109 - accuracy: 0.8645 - val_loss: 0.4827 - val_accuracy: 0.8129\n",
      "Epoch 70/1000\n",
      "8/8 [==============================] - 0s 15ms/step - loss: 0.4249 - accuracy: 0.8645 - val_loss: 0.4742 - val_accuracy: 0.7677\n",
      "Epoch 71/1000\n",
      "8/8 [==============================] - 0s 17ms/step - loss: 0.4846 - accuracy: 0.8194 - val_loss: 0.2791 - val_accuracy: 0.9161\n",
      "Epoch 72/1000\n",
      "8/8 [==============================] - 0s 15ms/step - loss: 0.4555 - accuracy: 0.8194 - val_loss: 0.2556 - val_accuracy: 0.9226\n",
      "Epoch 73/1000\n",
      "8/8 [==============================] - 0s 14ms/step - loss: 0.3087 - accuracy: 0.8839 - val_loss: 0.2176 - val_accuracy: 0.9161\n",
      "Epoch 74/1000\n",
      "8/8 [==============================] - 0s 16ms/step - loss: 0.5365 - accuracy: 0.7677 - val_loss: 0.5026 - val_accuracy: 0.8000\n",
      "Epoch 75/1000\n",
      "8/8 [==============================] - 0s 13ms/step - loss: 0.4042 - accuracy: 0.8387 - val_loss: 0.2691 - val_accuracy: 0.9032\n",
      "Epoch 76/1000\n",
      "8/8 [==============================] - 0s 15ms/step - loss: 0.4550 - accuracy: 0.8452 - val_loss: 0.2019 - val_accuracy: 0.9419\n",
      "Epoch 77/1000\n",
      "8/8 [==============================] - 0s 14ms/step - loss: 0.2056 - accuracy: 0.9355 - val_loss: 0.2301 - val_accuracy: 0.9032\n",
      "Epoch 78/1000\n",
      "8/8 [==============================] - 0s 14ms/step - loss: 0.2661 - accuracy: 0.8903 - val_loss: 0.7592 - val_accuracy: 0.7419\n",
      "Epoch 79/1000\n",
      "8/8 [==============================] - 0s 15ms/step - loss: 0.3153 - accuracy: 0.8581 - val_loss: 0.2275 - val_accuracy: 0.9226\n",
      "Epoch 80/1000\n",
      "8/8 [==============================] - 0s 13ms/step - loss: 0.3771 - accuracy: 0.8645 - val_loss: 0.7061 - val_accuracy: 0.7935\n",
      "Epoch 81/1000\n",
      "8/8 [==============================] - 0s 14ms/step - loss: 0.3201 - accuracy: 0.8774 - val_loss: 0.1272 - val_accuracy: 0.9613\n",
      "Epoch 82/1000\n",
      "8/8 [==============================] - 0s 14ms/step - loss: 0.4515 - accuracy: 0.8387 - val_loss: 0.2293 - val_accuracy: 0.9226\n",
      "Epoch 83/1000\n",
      "8/8 [==============================] - 0s 13ms/step - loss: 0.1982 - accuracy: 0.9290 - val_loss: 0.3272 - val_accuracy: 0.8516\n",
      "Epoch 84/1000\n",
      "8/8 [==============================] - 0s 15ms/step - loss: 0.2908 - accuracy: 0.8645 - val_loss: 0.1043 - val_accuracy: 0.9613\n",
      "Epoch 85/1000\n",
      "8/8 [==============================] - 0s 14ms/step - loss: 0.1352 - accuracy: 0.9677 - val_loss: 0.3629 - val_accuracy: 0.8452\n",
      "Epoch 86/1000\n",
      "8/8 [==============================] - 0s 14ms/step - loss: 0.2729 - accuracy: 0.8903 - val_loss: 0.4649 - val_accuracy: 0.8065\n",
      "Epoch 87/1000\n",
      "8/8 [==============================] - 0s 13ms/step - loss: 0.2813 - accuracy: 0.9032 - val_loss: 0.4034 - val_accuracy: 0.8774\n",
      "Epoch 88/1000\n",
      "8/8 [==============================] - 0s 14ms/step - loss: 0.1649 - accuracy: 0.9484 - val_loss: 0.1209 - val_accuracy: 0.9613\n",
      "Epoch 89/1000\n",
      "8/8 [==============================] - 0s 13ms/step - loss: 0.3776 - accuracy: 0.8903 - val_loss: 0.2393 - val_accuracy: 0.8968\n",
      "Epoch 90/1000\n",
      "8/8 [==============================] - 0s 14ms/step - loss: 0.2913 - accuracy: 0.8774 - val_loss: 0.1032 - val_accuracy: 1.0000\n",
      "Epoch 91/1000\n",
      "8/8 [==============================] - 0s 13ms/step - loss: 0.1442 - accuracy: 0.9484 - val_loss: 0.1692 - val_accuracy: 0.9290\n",
      "Epoch 92/1000\n",
      "8/8 [==============================] - 0s 14ms/step - loss: 0.1495 - accuracy: 0.9419 - val_loss: 0.0790 - val_accuracy: 0.9677\n",
      "Epoch 93/1000\n",
      "8/8 [==============================] - 0s 14ms/step - loss: 0.1717 - accuracy: 0.9226 - val_loss: 1.1747 - val_accuracy: 0.6581\n",
      "Epoch 94/1000\n",
      "8/8 [==============================] - 0s 14ms/step - loss: 0.3561 - accuracy: 0.8710 - val_loss: 0.0531 - val_accuracy: 1.0000\n",
      "Epoch 95/1000\n",
      "8/8 [==============================] - 0s 14ms/step - loss: 0.0569 - accuracy: 1.0000 - val_loss: 0.0388 - val_accuracy: 0.9871\n",
      "Epoch 96/1000\n",
      "8/8 [==============================] - 0s 14ms/step - loss: 0.0369 - accuracy: 1.0000 - val_loss: 0.1310 - val_accuracy: 0.9613\n",
      "Epoch 97/1000\n",
      "8/8 [==============================] - 0s 13ms/step - loss: 0.5234 - accuracy: 0.7935 - val_loss: 0.1272 - val_accuracy: 0.9677\n",
      "Epoch 98/1000\n",
      "8/8 [==============================] - 0s 13ms/step - loss: 0.0572 - accuracy: 0.9935 - val_loss: 0.0306 - val_accuracy: 1.0000\n",
      "Epoch 99/1000\n",
      "8/8 [==============================] - 0s 14ms/step - loss: 0.0302 - accuracy: 1.0000 - val_loss: 0.0307 - val_accuracy: 0.9871\n",
      "Epoch 100/1000\n",
      "8/8 [==============================] - 0s 14ms/step - loss: 0.4226 - accuracy: 0.8323 - val_loss: 0.6912 - val_accuracy: 0.8129\n",
      "Epoch 101/1000\n",
      "8/8 [==============================] - 0s 14ms/step - loss: 0.2039 - accuracy: 0.9355 - val_loss: 0.0296 - val_accuracy: 1.0000\n",
      "Epoch 102/1000\n",
      "8/8 [==============================] - 0s 13ms/step - loss: 0.0250 - accuracy: 0.9935 - val_loss: 0.0882 - val_accuracy: 0.9742\n",
      "Epoch 103/1000\n",
      "8/8 [==============================] - 0s 14ms/step - loss: 0.0602 - accuracy: 0.9935 - val_loss: 0.7222 - val_accuracy: 0.7290\n",
      "Epoch 104/1000\n",
      "8/8 [==============================] - 0s 13ms/step - loss: 0.5425 - accuracy: 0.8065 - val_loss: 0.0904 - val_accuracy: 0.9677\n",
      "Epoch 105/1000\n",
      "8/8 [==============================] - 0s 14ms/step - loss: 0.0662 - accuracy: 0.9935 - val_loss: 0.0176 - val_accuracy: 1.0000\n",
      "Epoch 106/1000\n",
      "8/8 [==============================] - 0s 14ms/step - loss: 0.0168 - accuracy: 1.0000 - val_loss: 0.0101 - val_accuracy: 1.0000\n",
      "Epoch 107/1000\n",
      "8/8 [==============================] - 0s 14ms/step - loss: 0.0101 - accuracy: 1.0000 - val_loss: 0.0197 - val_accuracy: 0.9935\n",
      "Epoch 108/1000\n",
      "8/8 [==============================] - 0s 14ms/step - loss: 0.1720 - accuracy: 0.9419 - val_loss: 1.8052 - val_accuracy: 0.6452\n",
      "Epoch 109/1000\n",
      "8/8 [==============================] - 0s 14ms/step - loss: 0.4523 - accuracy: 0.8774 - val_loss: 0.0337 - val_accuracy: 1.0000\n",
      "Epoch 110/1000\n",
      "8/8 [==============================] - 0s 14ms/step - loss: 0.0304 - accuracy: 1.0000 - val_loss: 0.0151 - val_accuracy: 1.0000\n",
      "8/8 [==============================] - 0s 3ms/step - loss: 0.1032 - accuracy: 1.0000\n",
      "np.shape(X_test)= (308, 480, 1)\n",
      "Model: \"sequential\"\n",
      "_________________________________________________________________\n",
      " Layer (type)                Output Shape              Param #   \n",
      "=================================================================\n",
      " conv1d (Conv1D)             (None, 478, 32)           128       \n",
      "                                                                 \n",
      " conv1d_1 (Conv1D)           (None, 476, 64)           6208      \n",
      "                                                                 \n",
      " max_pooling1d (MaxPooling1D  (None, 158, 64)          0         \n",
      " )                                                               \n",
      "                                                                 \n",
      " conv1d_2 (Conv1D)           (None, 156, 128)          24704     \n"
     ]
    },
    {
     "name": "stdout",
     "output_type": "stream",
     "text": [
      "                                                                 \n",
      " max_pooling1d_1 (MaxPooling  (None, 52, 128)          0         \n",
      " 1D)                                                             \n",
      "                                                                 \n",
      " conv1d_3 (Conv1D)           (None, 50, 128)           49280     \n",
      "                                                                 \n",
      " max_pooling1d_2 (MaxPooling  (None, 16, 128)          0         \n",
      " 1D)                                                             \n",
      "                                                                 \n",
      " conv1d_4 (Conv1D)           (None, 14, 256)           98560     \n",
      "                                                                 \n",
      " max_pooling1d_3 (MaxPooling  (None, 4, 256)           0         \n",
      " 1D)                                                             \n",
      "                                                                 \n",
      " flatten (Flatten)           (None, 1024)              0         \n",
      "                                                                 \n",
      " dense (Dense)               (None, 2000)              2050000   \n",
      "                                                                 \n",
      " dense_1 (Dense)             (None, 7)                 14007     \n",
      "                                                                 \n",
      "=================================================================\n",
      "Total params: 2,242,887\n",
      "Trainable params: 2,242,887\n",
      "Non-trainable params: 0\n",
      "_________________________________________________________________\n",
      "Accuracy=  1.0\n"
     ]
    }
   ],
   "source": [
    "accuracy=0\n",
    "acc_crs=np.array([])\n",
    "##for i in range (10):\n",
    "##    if accuracy<0.2 :\n",
    "\n",
    "verbose, epochs, batch_size = 1, 1000, btch\n",
    "n_timesteps, n_features, n_outputs = X_train.shape[1], X_train.shape[2], y_train_cat.shape[1]\n",
    "steps_per_epoch = len(X_train)//batch_size\n",
    "validation_steps = len(X_valid)//batch_size # if you have test data\n",
    "\n",
    "model_crs = Sequential()\n",
    "BatchNormalization()\n",
    "model_crs.add(Conv1D(filters=32, kernel_size=3, activation='relu', input_shape=(n_timesteps,n_features)))\n",
    "#model_crs.add(MaxPooling1D(pool_size=3))\n",
    "BatchNormalization()\n",
    "model_crs.add(Conv1D(filters=64, kernel_size=3, activation='relu'))\n",
    "#model_crs.add(Dropout(0.5))\n",
    "model_crs.add(MaxPooling1D(pool_size=3))\n",
    "BatchNormalization()\n",
    "model_crs.add(Conv1D(filters=128, kernel_size=3, activation='relu'))\n",
    "model_crs.add(MaxPooling1D(pool_size=3))\n",
    "BatchNormalization()\n",
    "model_crs.add(Conv1D(filters=128, kernel_size=3, activation='relu'))\n",
    "model_crs.add(MaxPooling1D(pool_size=3))\n",
    "BatchNormalization()\n",
    "model_crs.add(Conv1D(filters=256, kernel_size=3, activation='relu'))\n",
    "model_crs.add(MaxPooling1D(pool_size=3))\n",
    "'''model_crs.add(Conv1D(filters=512, kernel_size=3, activation='relu'))\n",
    "model_crs.add(MaxPooling1D(pool_size=3))\n",
    "model_crs.add(Conv1D(filters=1024, kernel_size=3, activation='relu'))\n",
    "model_crs.add(MaxPooling1D(pool_size=3))\n",
    "'''\n",
    "model_crs.add(Flatten())\n",
    "#model_crs.add(Dropout(0.5))\n",
    "model_crs.add(Dense(2000, activation='relu'))\n",
    "model_crs.add(Dense(n_outputs, activation='softmax'))\n",
    "model_crs.compile(optimizer='rmsprop', loss='categorical_crossentropy', metrics=['accuracy'])\n",
    "# fit network   #CategoricalCrossentropy #sparse_categorical_crossentropy #SparseCategoricalCrossentropy\n",
    "\n",
    "earlystopping = callbacks.EarlyStopping(monitor =\"val_accuracy\", mode =\"max\", patience = 20, restore_best_weights = True)\n",
    "\n",
    "model_crs.fit(X_train, y_train_cat, epochs=epochs, batch_size=batch_size, verbose=verbose, validation_data = (X_valid, y_valid_cat), callbacks =[earlystopping])\n",
    "# evaluate model_crs\n",
    "_, accuracy = model_crs.evaluate(X_valid, y_valid_cat, batch_size=batch_size, verbose=1)\n",
    "\n",
    "print('np.shape(X_test)=',np.shape(X_test))\n",
    "\n",
    "\n",
    "model_crs.summary()\n",
    "print('Accuracy= ', accuracy)\n",
    "\n",
    "#output = K.function([model_crs.layers[0].input],[model_crs.layers[3].output])\n",
    "#output(X_test)[0]\n",
    "#y_pred= model_crs.predict(X_test)                # Function 1\n",
    "\n",
    "##    print('Round ', i, '==>', 'accuracy = ', accuracy)\n",
    "##    acc_crs=np.append(acc_crs,accuracy)\n",
    "#y_pred_crs = model_crs.predict_classes(X_test)   # Function 2"
   ]
  },
  {
   "cell_type": "code",
   "execution_count": 25,
   "metadata": {},
   "outputs": [],
   "source": [
    "def maxindx(ar):\n",
    "    ar_cpy=np.array(ar)\n",
    "    pred=np.argmax(ar,axis=1)\n",
    "    for i in range (len(pred)):\n",
    "        if pred[i]==0:\n",
    "            ar_cpy[i,0]=-1000\n",
    "    pred=np.argmax(ar_cpy,axis=1)\n",
    "    return(pred)"
   ]
  },
  {
   "cell_type": "code",
   "execution_count": 26,
   "metadata": {},
   "outputs": [
    {
     "name": "stdout",
     "output_type": "stream",
     "text": [
      "10/10 [==============================] - 0s 2ms/step\n",
      "array([[13,  9, 24,  6,  8],\n",
      "       [ 0, 33,  9, 12,  4],\n",
      "       [ 3, 11, 34,  6,  5],\n",
      "       [ 5, 11,  7, 31, 10],\n",
      "       [15,  6, 12,  8, 26]], dtype=int64)\n",
      "              precision    recall  f1-score   support\n",
      "\n",
      "           2       0.36      0.22      0.27        60\n",
      "           3       0.47      0.57      0.52        58\n",
      "           4       0.40      0.58      0.47        59\n",
      "           5       0.49      0.48      0.49        64\n",
      "           6       0.49      0.39      0.43        67\n",
      "\n",
      "    accuracy                           0.44       308\n",
      "   macro avg       0.44      0.45      0.44       308\n",
      "weighted avg       0.44      0.44      0.44       308\n",
      "\n"
     ]
    }
   ],
   "source": [
    "predict_x=model_crs.predict(X_test)              # Function 1\n",
    "\n",
    "y_pred_crs=maxindx(predict_x)                    # function from augment.py to remove 0 index predictions\n",
    "\n",
    "#y_pred_crs = model_crs.predict_classes(X_test)\n",
    "\n",
    "cm = confusion_matrix(y_test, y_pred_crs)\n",
    "fullprint(cm)\n",
    "acc3=accuracy_score(y_test, y_pred_crs)\n",
    "\n",
    "print(classification_report(y_test, y_pred_crs))\n",
    "\n",
    "#sns.heatmap(cm, annot=True)\n",
    "\n",
    "#plt.imshow(cm)"
   ]
  },
  {
   "cell_type": "code",
   "execution_count": 27,
   "metadata": {},
   "outputs": [
    {
     "name": "stdout",
     "output_type": "stream",
     "text": [
      "Epoch 1/1000\n",
      "8/8 [==============================] - 2s 88ms/step - loss: 1.9087 - accuracy: 0.1871 - val_loss: 1.6446 - val_accuracy: 0.2323\n",
      "Epoch 2/1000\n",
      "8/8 [==============================] - 0s 15ms/step - loss: 1.6358 - accuracy: 0.2710 - val_loss: 1.6087 - val_accuracy: 0.2194\n",
      "Epoch 3/1000\n",
      "8/8 [==============================] - 0s 15ms/step - loss: 1.6371 - accuracy: 0.1871 - val_loss: 1.6300 - val_accuracy: 0.2194\n",
      "Epoch 4/1000\n",
      "8/8 [==============================] - 0s 16ms/step - loss: 1.6088 - accuracy: 0.2903 - val_loss: 1.6115 - val_accuracy: 0.2194\n",
      "Epoch 5/1000\n",
      "8/8 [==============================] - 0s 15ms/step - loss: 1.6134 - accuracy: 0.1871 - val_loss: 1.6040 - val_accuracy: 0.2194\n",
      "Epoch 6/1000\n",
      "8/8 [==============================] - 0s 14ms/step - loss: 1.6321 - accuracy: 0.2065 - val_loss: 1.5933 - val_accuracy: 0.2194\n",
      "Epoch 7/1000\n",
      "8/8 [==============================] - 0s 15ms/step - loss: 1.6350 - accuracy: 0.1742 - val_loss: 1.5947 - val_accuracy: 0.2323\n",
      "Epoch 8/1000\n",
      "8/8 [==============================] - 0s 15ms/step - loss: 1.6096 - accuracy: 0.2387 - val_loss: 1.6134 - val_accuracy: 0.2129\n",
      "Epoch 9/1000\n",
      "8/8 [==============================] - 0s 15ms/step - loss: 1.6044 - accuracy: 0.1935 - val_loss: 1.5822 - val_accuracy: 0.2194\n",
      "Epoch 10/1000\n",
      "8/8 [==============================] - 0s 16ms/step - loss: 1.6231 - accuracy: 0.2065 - val_loss: 1.5748 - val_accuracy: 0.2774\n",
      "Epoch 11/1000\n",
      "8/8 [==============================] - 0s 16ms/step - loss: 1.6120 - accuracy: 0.2581 - val_loss: 1.5846 - val_accuracy: 0.2903\n",
      "Epoch 12/1000\n",
      "8/8 [==============================] - 0s 15ms/step - loss: 1.5842 - accuracy: 0.3097 - val_loss: 1.5669 - val_accuracy: 0.2452\n",
      "Epoch 13/1000\n",
      "8/8 [==============================] - 0s 16ms/step - loss: 1.5768 - accuracy: 0.2323 - val_loss: 1.5668 - val_accuracy: 0.3419\n",
      "Epoch 14/1000\n",
      "8/8 [==============================] - 0s 15ms/step - loss: 1.5532 - accuracy: 0.2645 - val_loss: 1.5148 - val_accuracy: 0.2581\n",
      "Epoch 15/1000\n",
      "8/8 [==============================] - 0s 15ms/step - loss: 1.5406 - accuracy: 0.3032 - val_loss: 1.5278 - val_accuracy: 0.2452\n",
      "Epoch 16/1000\n",
      "8/8 [==============================] - 0s 16ms/step - loss: 1.4878 - accuracy: 0.3355 - val_loss: 1.4122 - val_accuracy: 0.3742\n",
      "Epoch 17/1000\n",
      "8/8 [==============================] - 0s 15ms/step - loss: 1.5997 - accuracy: 0.3097 - val_loss: 1.4036 - val_accuracy: 0.3677\n",
      "Epoch 18/1000\n",
      "8/8 [==============================] - 0s 17ms/step - loss: 1.4043 - accuracy: 0.4065 - val_loss: 1.3546 - val_accuracy: 0.3871\n",
      "Epoch 19/1000\n",
      "8/8 [==============================] - 0s 16ms/step - loss: 1.4303 - accuracy: 0.3613 - val_loss: 1.3056 - val_accuracy: 0.4968\n",
      "Epoch 20/1000\n",
      "8/8 [==============================] - 0s 17ms/step - loss: 1.4306 - accuracy: 0.3613 - val_loss: 1.3151 - val_accuracy: 0.5548\n",
      "Epoch 21/1000\n",
      "8/8 [==============================] - 0s 15ms/step - loss: 1.3818 - accuracy: 0.4516 - val_loss: 1.3441 - val_accuracy: 0.4581\n",
      "Epoch 22/1000\n",
      "8/8 [==============================] - 0s 15ms/step - loss: 1.3310 - accuracy: 0.4323 - val_loss: 1.4357 - val_accuracy: 0.3677\n",
      "Epoch 23/1000\n",
      "8/8 [==============================] - 0s 15ms/step - loss: 1.3292 - accuracy: 0.5097 - val_loss: 1.2812 - val_accuracy: 0.5161\n",
      "Epoch 24/1000\n",
      "8/8 [==============================] - 0s 15ms/step - loss: 1.2935 - accuracy: 0.4581 - val_loss: 1.2153 - val_accuracy: 0.5355\n",
      "Epoch 25/1000\n",
      "8/8 [==============================] - 0s 15ms/step - loss: 1.2580 - accuracy: 0.4710 - val_loss: 1.3544 - val_accuracy: 0.4452\n",
      "Epoch 26/1000\n",
      "8/8 [==============================] - 0s 15ms/step - loss: 1.3407 - accuracy: 0.4194 - val_loss: 1.2423 - val_accuracy: 0.5355\n",
      "Epoch 27/1000\n",
      "8/8 [==============================] - 0s 15ms/step - loss: 1.2379 - accuracy: 0.5419 - val_loss: 1.5775 - val_accuracy: 0.3613\n",
      "Epoch 28/1000\n",
      "8/8 [==============================] - 0s 15ms/step - loss: 1.2702 - accuracy: 0.4516 - val_loss: 1.1765 - val_accuracy: 0.5355\n",
      "Epoch 29/1000\n",
      "8/8 [==============================] - 0s 15ms/step - loss: 1.1756 - accuracy: 0.5355 - val_loss: 1.1525 - val_accuracy: 0.5419\n",
      "Epoch 30/1000\n",
      "8/8 [==============================] - 0s 15ms/step - loss: 1.1766 - accuracy: 0.4903 - val_loss: 1.2086 - val_accuracy: 0.4903\n",
      "Epoch 31/1000\n",
      "8/8 [==============================] - 0s 15ms/step - loss: 1.1839 - accuracy: 0.5097 - val_loss: 1.1820 - val_accuracy: 0.5161\n",
      "Epoch 32/1000\n",
      "8/8 [==============================] - 0s 17ms/step - loss: 1.2026 - accuracy: 0.5032 - val_loss: 1.2750 - val_accuracy: 0.4323\n",
      "Epoch 33/1000\n",
      "8/8 [==============================] - 0s 15ms/step - loss: 1.1065 - accuracy: 0.5484 - val_loss: 1.1846 - val_accuracy: 0.5226\n",
      "Epoch 34/1000\n",
      "8/8 [==============================] - 0s 16ms/step - loss: 1.1719 - accuracy: 0.5355 - val_loss: 1.0089 - val_accuracy: 0.6323\n",
      "Epoch 35/1000\n",
      "8/8 [==============================] - 0s 15ms/step - loss: 1.2532 - accuracy: 0.5548 - val_loss: 1.1560 - val_accuracy: 0.5613\n",
      "Epoch 36/1000\n",
      "8/8 [==============================] - 0s 15ms/step - loss: 1.0602 - accuracy: 0.5935 - val_loss: 1.0766 - val_accuracy: 0.5548\n",
      "Epoch 37/1000\n",
      "8/8 [==============================] - 0s 17ms/step - loss: 1.0226 - accuracy: 0.5677 - val_loss: 0.9059 - val_accuracy: 0.6645\n",
      "Epoch 38/1000\n",
      "8/8 [==============================] - 0s 15ms/step - loss: 1.0899 - accuracy: 0.6065 - val_loss: 1.2489 - val_accuracy: 0.5161\n",
      "Epoch 39/1000\n",
      "8/8 [==============================] - 0s 15ms/step - loss: 1.0346 - accuracy: 0.5613 - val_loss: 1.1568 - val_accuracy: 0.5548\n",
      "Epoch 40/1000\n",
      "8/8 [==============================] - 0s 15ms/step - loss: 1.0843 - accuracy: 0.5613 - val_loss: 1.0509 - val_accuracy: 0.5742\n",
      "Epoch 41/1000\n",
      "8/8 [==============================] - 0s 18ms/step - loss: 1.0626 - accuracy: 0.6129 - val_loss: 0.8925 - val_accuracy: 0.6710\n",
      "Epoch 42/1000\n",
      "8/8 [==============================] - 0s 17ms/step - loss: 1.0105 - accuracy: 0.6452 - val_loss: 0.9185 - val_accuracy: 0.6774\n",
      "Epoch 43/1000\n",
      "8/8 [==============================] - 0s 16ms/step - loss: 1.0281 - accuracy: 0.5935 - val_loss: 0.9322 - val_accuracy: 0.5935\n",
      "Epoch 44/1000\n",
      "8/8 [==============================] - 0s 16ms/step - loss: 1.0248 - accuracy: 0.6323 - val_loss: 0.8787 - val_accuracy: 0.6452\n",
      "Epoch 45/1000\n",
      "8/8 [==============================] - 0s 16ms/step - loss: 0.8749 - accuracy: 0.6774 - val_loss: 0.8532 - val_accuracy: 0.6710\n",
      "Epoch 46/1000\n",
      "8/8 [==============================] - 0s 17ms/step - loss: 0.9185 - accuracy: 0.6645 - val_loss: 0.8620 - val_accuracy: 0.6839\n",
      "Epoch 47/1000\n",
      "8/8 [==============================] - 0s 15ms/step - loss: 1.0260 - accuracy: 0.5806 - val_loss: 0.9189 - val_accuracy: 0.6387\n",
      "Epoch 48/1000\n",
      "8/8 [==============================] - 0s 16ms/step - loss: 0.9291 - accuracy: 0.6452 - val_loss: 1.0251 - val_accuracy: 0.5419\n",
      "Epoch 49/1000\n",
      "8/8 [==============================] - 0s 15ms/step - loss: 0.9808 - accuracy: 0.5677 - val_loss: 0.9486 - val_accuracy: 0.6194\n",
      "Epoch 50/1000\n",
      "8/8 [==============================] - 0s 16ms/step - loss: 0.8234 - accuracy: 0.6903 - val_loss: 1.0733 - val_accuracy: 0.5742\n",
      "Epoch 51/1000\n",
      "8/8 [==============================] - 0s 16ms/step - loss: 0.9679 - accuracy: 0.6258 - val_loss: 0.8749 - val_accuracy: 0.6710\n",
      "Epoch 52/1000\n",
      "8/8 [==============================] - 0s 15ms/step - loss: 0.8112 - accuracy: 0.6774 - val_loss: 0.9409 - val_accuracy: 0.5419\n",
      "Epoch 53/1000\n",
      "8/8 [==============================] - 0s 16ms/step - loss: 0.9331 - accuracy: 0.6323 - val_loss: 0.8851 - val_accuracy: 0.6065\n",
      "Epoch 54/1000\n",
      "8/8 [==============================] - 0s 17ms/step - loss: 0.7842 - accuracy: 0.7097 - val_loss: 0.7152 - val_accuracy: 0.7355\n",
      "Epoch 55/1000\n",
      "8/8 [==============================] - 0s 15ms/step - loss: 0.8489 - accuracy: 0.6710 - val_loss: 0.8040 - val_accuracy: 0.6839\n",
      "Epoch 56/1000\n",
      "8/8 [==============================] - 0s 15ms/step - loss: 0.8250 - accuracy: 0.6774 - val_loss: 1.1390 - val_accuracy: 0.5871\n",
      "Epoch 57/1000\n",
      "8/8 [==============================] - 0s 17ms/step - loss: 0.7481 - accuracy: 0.7097 - val_loss: 0.5775 - val_accuracy: 0.7806\n",
      "Epoch 58/1000\n",
      "8/8 [==============================] - 0s 15ms/step - loss: 0.9160 - accuracy: 0.6710 - val_loss: 0.6457 - val_accuracy: 0.7355\n"
     ]
    },
    {
     "name": "stdout",
     "output_type": "stream",
     "text": [
      "Epoch 59/1000\n",
      "8/8 [==============================] - 0s 16ms/step - loss: 0.6835 - accuracy: 0.7161 - val_loss: 0.5952 - val_accuracy: 0.8000\n",
      "Epoch 60/1000\n",
      "8/8 [==============================] - 0s 15ms/step - loss: 0.6674 - accuracy: 0.7355 - val_loss: 0.7565 - val_accuracy: 0.6581\n",
      "Epoch 61/1000\n",
      "8/8 [==============================] - 0s 15ms/step - loss: 0.7274 - accuracy: 0.7032 - val_loss: 0.8958 - val_accuracy: 0.6258\n",
      "Epoch 62/1000\n",
      "8/8 [==============================] - 0s 15ms/step - loss: 0.8975 - accuracy: 0.6516 - val_loss: 0.6892 - val_accuracy: 0.7613\n",
      "Epoch 63/1000\n",
      "8/8 [==============================] - 0s 17ms/step - loss: 0.6117 - accuracy: 0.7419 - val_loss: 0.5365 - val_accuracy: 0.8129\n",
      "Epoch 64/1000\n",
      "8/8 [==============================] - 0s 15ms/step - loss: 0.6442 - accuracy: 0.7548 - val_loss: 0.7585 - val_accuracy: 0.6774\n",
      "Epoch 65/1000\n",
      "8/8 [==============================] - 0s 17ms/step - loss: 0.6545 - accuracy: 0.7419 - val_loss: 0.4673 - val_accuracy: 0.8323\n",
      "Epoch 66/1000\n",
      "8/8 [==============================] - 0s 16ms/step - loss: 0.5326 - accuracy: 0.7871 - val_loss: 0.5844 - val_accuracy: 0.8065\n",
      "Epoch 67/1000\n",
      "8/8 [==============================] - 0s 16ms/step - loss: 0.8783 - accuracy: 0.6710 - val_loss: 0.6128 - val_accuracy: 0.7677\n",
      "Epoch 68/1000\n",
      "8/8 [==============================] - 0s 15ms/step - loss: 0.5492 - accuracy: 0.8194 - val_loss: 0.4242 - val_accuracy: 0.8323\n",
      "Epoch 69/1000\n",
      "8/8 [==============================] - 0s 17ms/step - loss: 0.5989 - accuracy: 0.7871 - val_loss: 1.4601 - val_accuracy: 0.4387\n",
      "Epoch 70/1000\n",
      "8/8 [==============================] - 0s 15ms/step - loss: 0.6653 - accuracy: 0.7161 - val_loss: 0.5417 - val_accuracy: 0.8000\n",
      "Epoch 71/1000\n",
      "8/8 [==============================] - 0s 15ms/step - loss: 0.5528 - accuracy: 0.7742 - val_loss: 0.5338 - val_accuracy: 0.7742\n",
      "Epoch 72/1000\n",
      "8/8 [==============================] - 0s 16ms/step - loss: 0.4945 - accuracy: 0.7871 - val_loss: 0.9574 - val_accuracy: 0.5806\n",
      "Epoch 73/1000\n",
      "8/8 [==============================] - 0s 15ms/step - loss: 0.5837 - accuracy: 0.7677 - val_loss: 0.5824 - val_accuracy: 0.7548\n",
      "Epoch 74/1000\n",
      "8/8 [==============================] - 0s 15ms/step - loss: 0.4928 - accuracy: 0.7935 - val_loss: 0.5398 - val_accuracy: 0.7742\n",
      "Epoch 75/1000\n",
      "8/8 [==============================] - 0s 17ms/step - loss: 0.6466 - accuracy: 0.7871 - val_loss: 0.7766 - val_accuracy: 0.6581\n",
      "Epoch 76/1000\n",
      "8/8 [==============================] - 0s 16ms/step - loss: 0.4782 - accuracy: 0.8000 - val_loss: 1.2256 - val_accuracy: 0.5871\n",
      "Epoch 77/1000\n",
      "8/8 [==============================] - 0s 17ms/step - loss: 0.5788 - accuracy: 0.7935 - val_loss: 0.2726 - val_accuracy: 0.9097\n",
      "Epoch 78/1000\n",
      "8/8 [==============================] - 0s 15ms/step - loss: 0.3888 - accuracy: 0.8903 - val_loss: 0.2912 - val_accuracy: 0.9032\n",
      "Epoch 79/1000\n",
      "8/8 [==============================] - 0s 16ms/step - loss: 0.3963 - accuracy: 0.8516 - val_loss: 0.4945 - val_accuracy: 0.8065\n",
      "Epoch 80/1000\n",
      "8/8 [==============================] - 0s 16ms/step - loss: 0.5177 - accuracy: 0.8065 - val_loss: 0.3015 - val_accuracy: 0.8903\n",
      "Epoch 81/1000\n",
      "8/8 [==============================] - 0s 15ms/step - loss: 0.3559 - accuracy: 0.8774 - val_loss: 0.3774 - val_accuracy: 0.8065\n",
      "Epoch 82/1000\n",
      "8/8 [==============================] - 0s 17ms/step - loss: 0.4829 - accuracy: 0.7871 - val_loss: 0.3037 - val_accuracy: 0.9355\n",
      "Epoch 83/1000\n",
      "8/8 [==============================] - 0s 16ms/step - loss: 0.2948 - accuracy: 0.8903 - val_loss: 0.2255 - val_accuracy: 0.9290\n",
      "Epoch 84/1000\n",
      "8/8 [==============================] - 0s 15ms/step - loss: 0.1924 - accuracy: 0.9484 - val_loss: 0.5155 - val_accuracy: 0.8194\n",
      "Epoch 85/1000\n",
      "8/8 [==============================] - 0s 17ms/step - loss: 0.6460 - accuracy: 0.7806 - val_loss: 0.2009 - val_accuracy: 0.9419\n",
      "Epoch 86/1000\n",
      "8/8 [==============================] - 0s 17ms/step - loss: 0.2009 - accuracy: 0.9419 - val_loss: 0.1241 - val_accuracy: 0.9613\n",
      "Epoch 87/1000\n",
      "8/8 [==============================] - 0s 15ms/step - loss: 0.3684 - accuracy: 0.8968 - val_loss: 0.1785 - val_accuracy: 0.9161\n",
      "Epoch 88/1000\n",
      "8/8 [==============================] - 0s 15ms/step - loss: 0.1577 - accuracy: 0.9419 - val_loss: 1.0084 - val_accuracy: 0.7484\n",
      "Epoch 89/1000\n",
      "8/8 [==============================] - 0s 15ms/step - loss: 0.4846 - accuracy: 0.8516 - val_loss: 0.1400 - val_accuracy: 0.9548\n",
      "Epoch 90/1000\n",
      "8/8 [==============================] - 0s 15ms/step - loss: 0.1977 - accuracy: 0.9032 - val_loss: 0.4847 - val_accuracy: 0.7806\n",
      "Epoch 91/1000\n",
      "8/8 [==============================] - 0s 17ms/step - loss: 0.5237 - accuracy: 0.8000 - val_loss: 0.1321 - val_accuracy: 0.9742\n",
      "Epoch 92/1000\n",
      "8/8 [==============================] - 0s 15ms/step - loss: 0.2660 - accuracy: 0.9161 - val_loss: 0.3290 - val_accuracy: 0.8774\n",
      "Epoch 93/1000\n",
      "8/8 [==============================] - 0s 15ms/step - loss: 0.1725 - accuracy: 0.9419 - val_loss: 0.3567 - val_accuracy: 0.8774\n",
      "Epoch 94/1000\n",
      "8/8 [==============================] - 0s 15ms/step - loss: 0.3594 - accuracy: 0.8645 - val_loss: 0.1759 - val_accuracy: 0.9355\n",
      "Epoch 95/1000\n",
      "8/8 [==============================] - 0s 16ms/step - loss: 0.2723 - accuracy: 0.9032 - val_loss: 0.2136 - val_accuracy: 0.9161\n",
      "Epoch 96/1000\n",
      "8/8 [==============================] - 0s 17ms/step - loss: 0.1640 - accuracy: 0.9484 - val_loss: 0.0559 - val_accuracy: 0.9871\n",
      "Epoch 97/1000\n",
      "8/8 [==============================] - 0s 17ms/step - loss: 0.0636 - accuracy: 0.9871 - val_loss: 0.0368 - val_accuracy: 0.9935\n",
      "Epoch 98/1000\n",
      "8/8 [==============================] - 0s 16ms/step - loss: 0.1831 - accuracy: 0.9355 - val_loss: 1.6068 - val_accuracy: 0.6000\n",
      "Epoch 99/1000\n",
      "8/8 [==============================] - 0s 16ms/step - loss: 0.3080 - accuracy: 0.8903 - val_loss: 0.0657 - val_accuracy: 0.9871\n",
      "Epoch 100/1000\n",
      "8/8 [==============================] - 0s 16ms/step - loss: 0.0731 - accuracy: 0.9806 - val_loss: 0.0365 - val_accuracy: 0.9935\n",
      "Epoch 101/1000\n",
      "8/8 [==============================] - 0s 16ms/step - loss: 0.2841 - accuracy: 0.9097 - val_loss: 2.3597 - val_accuracy: 0.5871\n",
      "Epoch 102/1000\n",
      "8/8 [==============================] - 0s 16ms/step - loss: 0.5145 - accuracy: 0.8065 - val_loss: 0.1013 - val_accuracy: 0.9806\n",
      "Epoch 103/1000\n",
      "8/8 [==============================] - 0s 17ms/step - loss: 0.0601 - accuracy: 0.9935 - val_loss: 0.0265 - val_accuracy: 1.0000\n",
      "Epoch 104/1000\n",
      "8/8 [==============================] - 0s 16ms/step - loss: 0.0250 - accuracy: 1.0000 - val_loss: 0.0220 - val_accuracy: 1.0000\n",
      "Epoch 105/1000\n",
      "8/8 [==============================] - 0s 16ms/step - loss: 0.0761 - accuracy: 0.9806 - val_loss: 0.3725 - val_accuracy: 0.8581\n",
      "Epoch 106/1000\n",
      "8/8 [==============================] - 0s 16ms/step - loss: 0.3486 - accuracy: 0.8581 - val_loss: 0.2967 - val_accuracy: 0.8839\n",
      "Epoch 107/1000\n",
      "8/8 [==============================] - 0s 15ms/step - loss: 0.1273 - accuracy: 0.9548 - val_loss: 0.0274 - val_accuracy: 0.9935\n",
      "Epoch 108/1000\n",
      "8/8 [==============================] - 0s 16ms/step - loss: 0.0386 - accuracy: 0.9935 - val_loss: 0.4373 - val_accuracy: 0.8903\n",
      "Epoch 109/1000\n",
      "8/8 [==============================] - 0s 16ms/step - loss: 0.4259 - accuracy: 0.8645 - val_loss: 0.0587 - val_accuracy: 1.0000\n",
      "Epoch 110/1000\n",
      "8/8 [==============================] - 0s 15ms/step - loss: 0.0863 - accuracy: 0.9613 - val_loss: 0.0458 - val_accuracy: 0.9871\n",
      "Epoch 111/1000\n",
      "8/8 [==============================] - 0s 16ms/step - loss: 0.0292 - accuracy: 1.0000 - val_loss: 0.0145 - val_accuracy: 1.0000\n",
      "Epoch 112/1000\n",
      "8/8 [==============================] - 0s 15ms/step - loss: 0.0107 - accuracy: 1.0000 - val_loss: 0.0150 - val_accuracy: 1.0000\n",
      "Epoch 113/1000\n",
      "8/8 [==============================] - 0s 15ms/step - loss: 0.0143 - accuracy: 1.0000 - val_loss: 0.0050 - val_accuracy: 1.0000\n",
      "Epoch 114/1000\n",
      "8/8 [==============================] - 0s 15ms/step - loss: 0.8233 - accuracy: 0.8516 - val_loss: 0.8258 - val_accuracy: 0.7032\n",
      "Epoch 115/1000\n",
      "8/8 [==============================] - 0s 16ms/step - loss: 0.1347 - accuracy: 0.9613 - val_loss: 0.0327 - val_accuracy: 1.0000\n",
      "Epoch 116/1000\n"
     ]
    },
    {
     "name": "stdout",
     "output_type": "stream",
     "text": [
      "8/8 [==============================] - 0s 16ms/step - loss: 0.0299 - accuracy: 1.0000 - val_loss: 0.0190 - val_accuracy: 1.0000\n",
      "Epoch 117/1000\n",
      "8/8 [==============================] - 0s 16ms/step - loss: 0.0144 - accuracy: 1.0000 - val_loss: 0.0102 - val_accuracy: 1.0000\n",
      "Epoch 118/1000\n",
      "8/8 [==============================] - 0s 16ms/step - loss: 0.0088 - accuracy: 1.0000 - val_loss: 0.0077 - val_accuracy: 1.0000\n",
      "Epoch 119/1000\n",
      "8/8 [==============================] - 0s 15ms/step - loss: 0.0068 - accuracy: 1.0000 - val_loss: 0.0068 - val_accuracy: 1.0000\n",
      "Epoch 120/1000\n",
      "8/8 [==============================] - 0s 15ms/step - loss: 0.0044 - accuracy: 1.0000 - val_loss: 0.2785 - val_accuracy: 0.8968\n",
      "Epoch 121/1000\n",
      "8/8 [==============================] - 0s 15ms/step - loss: 0.8493 - accuracy: 0.7226 - val_loss: 0.0721 - val_accuracy: 0.9742\n",
      "Epoch 122/1000\n",
      "8/8 [==============================] - 0s 15ms/step - loss: 0.0462 - accuracy: 0.9871 - val_loss: 0.0163 - val_accuracy: 1.0000\n",
      "Epoch 123/1000\n",
      "8/8 [==============================] - 0s 16ms/step - loss: 0.0145 - accuracy: 1.0000 - val_loss: 0.0082 - val_accuracy: 1.0000\n",
      "8/8 [==============================] - 0s 3ms/step - loss: 0.0265 - accuracy: 1.0000\n",
      "np.shape(X_test)= (308, 480, 1)\n",
      "Model: \"sequential_1\"\n",
      "_________________________________________________________________\n",
      " Layer (type)                Output Shape              Param #   \n",
      "=================================================================\n",
      " conv1d_5 (Conv1D)           (None, 478, 64)           256       \n",
      "                                                                 \n",
      " conv1d_6 (Conv1D)           (None, 476, 128)          24704     \n",
      "                                                                 \n",
      " max_pooling1d_4 (MaxPooling  (None, 158, 128)         0         \n",
      " 1D)                                                             \n",
      "                                                                 \n",
      " conv1d_7 (Conv1D)           (None, 156, 256)          98560     \n",
      "                                                                 \n",
      " max_pooling1d_5 (MaxPooling  (None, 52, 256)          0         \n",
      " 1D)                                                             \n",
      "                                                                 \n",
      " conv1d_8 (Conv1D)           (None, 50, 256)           196864    \n",
      "                                                                 \n",
      " max_pooling1d_6 (MaxPooling  (None, 16, 256)          0         \n",
      " 1D)                                                             \n",
      "                                                                 \n",
      " conv1d_9 (Conv1D)           (None, 14, 512)           393728    \n",
      "                                                                 \n",
      " max_pooling1d_7 (MaxPooling  (None, 4, 512)           0         \n",
      " 1D)                                                             \n",
      "                                                                 \n",
      " flatten_1 (Flatten)         (None, 2048)              0         \n",
      "                                                                 \n",
      " dense_2 (Dense)             (None, 2000)              4098000   \n",
      "                                                                 \n",
      " dense_3 (Dense)             (None, 7)                 14007     \n",
      "                                                                 \n",
      "=================================================================\n",
      "Total params: 4,826,119\n",
      "Trainable params: 4,826,119\n",
      "Non-trainable params: 0\n",
      "_________________________________________________________________\n",
      "Accuracy=  1.0\n"
     ]
    }
   ],
   "source": [
    "accuracy=0\n",
    "acc_crs=np.array([])\n",
    "##for i in range (10):\n",
    "##    if accuracy<0.2 :\n",
    "\n",
    "verbose, epochs, batch_size = 1, 1000, btch\n",
    "n_timesteps, n_features, n_outputs = X_train.shape[1], X_train.shape[2], y_train_cat.shape[1]\n",
    "steps_per_epoch = len(X_train)//batch_size\n",
    "validation_steps = len(X_valid)//batch_size # if you have test data\n",
    "\n",
    "model_crs = Sequential()\n",
    "BatchNormalization()\n",
    "model_crs.add(Conv1D(filters=64, kernel_size=3, activation='relu', input_shape=(n_timesteps,n_features)))\n",
    "#model_crs.add(MaxPooling1D(pool_size=3))\n",
    "BatchNormalization()\n",
    "model_crs.add(Conv1D(filters=128, kernel_size=3, activation='relu'))\n",
    "#model_crs.add(Dropout(0.5))\n",
    "model_crs.add(MaxPooling1D(pool_size=3))\n",
    "BatchNormalization()\n",
    "model_crs.add(Conv1D(filters=256, kernel_size=3, activation='relu'))\n",
    "model_crs.add(MaxPooling1D(pool_size=3))\n",
    "BatchNormalization()\n",
    "model_crs.add(Conv1D(filters=256, kernel_size=3, activation='relu'))\n",
    "model_crs.add(MaxPooling1D(pool_size=3))\n",
    "BatchNormalization()\n",
    "model_crs.add(Conv1D(filters=512, kernel_size=3, activation='relu'))\n",
    "model_crs.add(MaxPooling1D(pool_size=3))\n",
    "'''model_crs.add(Conv1D(filters=512, kernel_size=3, activation='relu'))\n",
    "model_crs.add(MaxPooling1D(pool_size=3))\n",
    "model_crs.add(Conv1D(filters=1024, kernel_size=3, activation='relu'))\n",
    "model_crs.add(MaxPooling1D(pool_size=3))\n",
    "'''\n",
    "model_crs.add(Flatten())\n",
    "#model_crs.add(Dropout(0.5))\n",
    "model_crs.add(Dense(2000, activation='relu'))\n",
    "model_crs.add(Dense(n_outputs, activation='softmax'))\n",
    "model_crs.compile(optimizer='rmsprop', loss='categorical_crossentropy', metrics=['accuracy'])\n",
    "# fit network   #CategoricalCrossentropy #sparse_categorical_crossentropy #SparseCategoricalCrossentropy\n",
    "\n",
    "earlystopping = callbacks.EarlyStopping(monitor =\"val_accuracy\", mode =\"max\", patience = 20, restore_best_weights = True)\n",
    "\n",
    "model_crs.fit(X_train, y_train_cat, epochs=epochs, batch_size=batch_size, verbose=verbose, validation_data = (X_valid, y_valid_cat), callbacks =[earlystopping])\n",
    "# evaluate model_crs\n",
    "_, accuracy = model_crs.evaluate(X_valid, y_valid_cat, batch_size=batch_size, verbose=1)\n",
    "\n",
    "print('np.shape(X_test)=',np.shape(X_test))\n",
    "\n",
    "\n",
    "model_crs.summary()\n",
    "print('Accuracy= ', accuracy)\n",
    "\n",
    "#output = K.function([model_crs.layers[0].input],[model_crs.layers[3].output])\n",
    "#output(X_test)[0]\n",
    "#y_pred= model_crs.predict(X_test)                # Function 1\n",
    "\n",
    "##    print('Round ', i, '==>', 'accuracy = ', accuracy)\n",
    "##    acc_crs=np.append(acc_crs,accuracy)\n",
    "#y_pred_crs = model_crs.predict_classes(X_test)   # Function 2"
   ]
  },
  {
   "cell_type": "code",
   "execution_count": 28,
   "metadata": {},
   "outputs": [
    {
     "name": "stdout",
     "output_type": "stream",
     "text": [
      "10/10 [==============================] - 0s 3ms/step\n",
      "array([[ 6,  7, 16, 12, 19],\n",
      "       [ 2, 30,  8, 16,  2],\n",
      "       [ 5, 10, 35,  4,  5],\n",
      "       [ 3, 12,  7, 32, 10],\n",
      "       [ 8,  7,  7, 10, 35]], dtype=int64)\n",
      "              precision    recall  f1-score   support\n",
      "\n",
      "           2       0.25      0.10      0.14        60\n",
      "           3       0.45      0.52      0.48        58\n",
      "           4       0.48      0.59      0.53        59\n",
      "           5       0.43      0.50      0.46        64\n",
      "           6       0.49      0.52      0.51        67\n",
      "\n",
      "    accuracy                           0.45       308\n",
      "   macro avg       0.42      0.45      0.43       308\n",
      "weighted avg       0.42      0.45      0.43       308\n",
      "\n"
     ]
    }
   ],
   "source": [
    "predict_x=model_crs.predict(X_test)              # Function 1\n",
    "\n",
    "y_pred_crs=maxindx(predict_x)                    # function from augment.py to remove 0 index predictions\n",
    "\n",
    "#y_pred_crs = model_crs.predict_classes(X_test)\n",
    "\n",
    "cm = confusion_matrix(y_test, y_pred_crs)\n",
    "fullprint(cm)\n",
    "acc3=accuracy_score(y_test, y_pred_crs)\n",
    "\n",
    "print(classification_report(y_test, y_pred_crs))\n",
    "\n",
    "#sns.heatmap(cm, annot=True)\n",
    "\n",
    "#plt.imshow(cm)"
   ]
  },
  {
   "cell_type": "code",
   "execution_count": null,
   "metadata": {},
   "outputs": [],
   "source": []
  }
 ],
 "metadata": {
  "celltoolbar": "Raw Cell Format",
  "kernelspec": {
   "display_name": "Python 3 (ipykernel)",
   "language": "python",
   "name": "python3"
  },
  "language_info": {
   "codemirror_mode": {
    "name": "ipython",
    "version": 3
   },
   "file_extension": ".py",
   "mimetype": "text/x-python",
   "name": "python",
   "nbconvert_exporter": "python",
   "pygments_lexer": "ipython3",
   "version": "3.9.7"
  }
 },
 "nbformat": 4,
 "nbformat_minor": 4
}
