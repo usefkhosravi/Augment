{
 "cells": [
  {
   "cell_type": "markdown",
   "metadata": {},
   "source": [
    "import time\n",
    "plc=1\n",
    "time.sleep(3000*plc)         #run after 1 houre = 3600 seconds"
   ]
  },
  {
   "cell_type": "code",
   "execution_count": 1,
   "metadata": {},
   "outputs": [
    {
     "data": {
      "text/html": [
       "<style>#notebook { padding-top:0px !important; } .container { width:100% !important; } .end_space { min-height:0px !important; } html, body, .container{ margin:0!important;padding:0!important;}</style>"
      ],
      "text/plain": [
       "<IPython.core.display.HTML object>"
      ]
     },
     "metadata": {},
     "output_type": "display_data"
    }
   ],
   "source": [
    "import os\n",
    "import glob\n",
    "import scipy\n",
    "import random\n",
    "import bisect\n",
    "import numpy as np\n",
    "import pandas as pd\n",
    "import seaborn as sns\n",
    "from scipy import signal\n",
    "from scipy.signal import find_peaks\n",
    "import matplotlib.pyplot as plt\n",
    "from preprocess import *                         #ماژول استخراج پنجره ها\n",
    "from data import *                          #ماژول محلی ورود داده ها\n",
    "from augment import *                            #ماژول های داده افزایی\n",
    "from lstm_cnn import *                           #ماژول های داده افزایی با lstm_cnn\n",
    "import augment\n",
    "import importlib\n",
    "importlib.reload(augment)\n",
    "import tensorflow as tf\n",
    "from tensorflow import keras\n",
    "from tensorflow.keras.layers import BatchNormalization\n",
    "from sklearn.model_selection import train_test_split\n",
    "from sklearn.neural_network import MLPClassifier\n",
    "from sklearn.datasets import make_classification\n",
    "from sklearn.metrics import confusion_matrix, accuracy_score, classification_report,recall_score,precision_score\n",
    "from tensorflow.keras import callbacks\n",
    "from tensorflow.keras import layers\n",
    "from tensorflow.keras.models import Sequential\n",
    "from tensorflow.keras.layers import Convolution2D,Conv1D,Dropout,MaxPooling1D,MaxPooling2D,Flatten,Dense\n",
    "from tensorflow.keras import backend as K\n",
    "from tensorflow.keras.utils import to_categorical\n",
    "from tensorflow.keras.models import load_model\n",
    "cwd = os.getcwd() #\n",
    "fullscrn()"
   ]
  },
  {
   "cell_type": "markdown",
   "metadata": {},
   "source": [
    "<h1><center><div style=\"direction:rtl;font-family:B Nazanin\">Importing Data</div></center></h1>"
   ]
  },
  {
   "cell_type": "code",
   "execution_count": 2,
   "metadata": {
    "scrolled": true
   },
   "outputs": [
    {
     "name": "stdout",
     "output_type": "stream",
     "text": [
      "first_train_shape= (109, 432)\n",
      "first_test_shape= (105, 432)\n",
      "classes_quantity= 2\n",
      "tr_lbls=\t {1, 2}\n",
      "Count_labels= [52 57]\n",
      "max(train_feature_Altitude)= 8.0329\n",
      "min(train_feature_Altitude)= -2.0538\n",
      "first_train_sample=\n",
      " [ 1.         0.11403    0.10489    0.095754   0.086619   0.086619\n",
      "  0.086619   0.077484   0.077484   0.077484   0.077484   0.077484\n",
      "  0.077484   0.077484   0.077484   0.077484   0.077484   0.077484\n",
      "  0.068348   0.068348   0.068348   0.068348   0.068348   0.068348\n",
      "  0.068348   0.068348   0.068348   0.077484   0.077484   0.077484\n",
      "  0.077484   0.086619   0.086619   0.095754   0.095754   0.10489\n",
      "  0.11403    0.11403    0.12316    0.12316    0.1323     0.14143\n",
      "  0.14143    0.15057    0.1597     0.1597     0.16884    0.17797\n",
      "  0.19624    0.20538    0.22365    0.25106    0.30587    0.36068\n",
      "  0.37895    0.37895    0.43376    0.49771    0.47031    0.45204\n",
      "  0.70783    1.2742     1.5026     1.4843     1.3564     1.2742\n",
      "  1.192      1.0184     0.91794    0.89054    0.85399    0.70783\n",
      "  0.36982    0.077484   0.013536   0.022671   0.068348   0.20538\n",
      "  0.40636    0.63474    0.82659    0.98189    1.0824     1.1463\n",
      "  1.1737     1.1829     1.1829     1.1829     1.1737     1.1463\n",
      "  1.0824     0.97275    0.80832    0.58907    0.34241    0.095754\n",
      " -0.11436   -0.26966   -0.36102   -0.39756   -0.39756   -0.39756\n",
      " -0.37929   -0.32447   -0.23312   -0.11436    0.0044003  0.12316\n",
      "  0.22365    0.29673    0.34241    0.36068    0.36068    0.33328\n",
      "  0.22365    0.095754  -0.096089  -0.2788    -0.34275   -0.34275\n",
      " -0.2788    -0.14177    0.068348   0.30587    0.50685    0.5982\n",
      "  0.61647    0.5982     0.49771    0.26019   -0.050412  -0.31534\n",
      " -0.47978   -0.562     -0.5894    -0.60767   -0.62594   -0.67162\n",
      " -0.73557   -0.79038   -0.80865   -0.80865   -0.79952   -0.79038\n",
      " -0.79038   -0.79038   -0.80865   -0.8726    -0.97309   -1.0918\n",
      " -1.1878    -1.2289    -1.2362    -1.2271    -1.1869    -1.1284\n",
      " -1.0736    -0.99136   -0.91828   -0.90001   -0.89087   -0.86346\n",
      " -0.81779   -0.7447    -0.65335   -0.54372   -0.42496   -0.29707\n",
      " -0.14177    0.068348   0.32414    0.5708     0.74437    0.83572\n",
      "  0.89054    0.91794    0.92708    0.93621    0.93621    0.92708\n",
      "  0.89054    0.76264    0.45204   -0.068683  -0.64421   -1.0827\n",
      " -1.365     -1.5294    -1.6226    -1.6719    -1.6957    -1.7085\n",
      " -1.7149    -1.7185    -1.7185    -1.7076    -1.6765    -1.6455\n",
      " -1.6144    -1.5724    -1.5121    -1.4207    -1.2782    -1.0462\n",
      " -0.66249   -0.1509     0.34241    0.66215    0.82659    0.89054\n",
      "  0.92708    0.94535    0.96362    0.96362    0.96362    0.96362\n",
      "  0.94535    0.92708    0.89967    0.82659    0.68042    0.39722\n",
      " -0.023006  -0.47064   -0.85433   -1.1101    -1.2563    -1.3221\n",
      " -1.3403    -1.3422    -1.3321    -1.3001    -1.259     -1.2152\n",
      " -1.1695    -1.1101    -1.037     -1.0005    -1.0005    -1.037\n",
      " -1.101     -1.1704    -1.2453    -1.3211    -1.4006    -1.4719\n",
      " -1.5121    -1.5212    -1.5194    -1.4956    -1.4372    -1.3559\n",
      " -1.28      -1.2316    -1.2143    -1.2088    -1.2033    -1.1896\n",
      " -1.1485    -1.0553    -0.88173   -0.58027   -0.16004    0.27846\n",
      "  0.61647    0.79918    0.89054    0.91794    0.92708    0.91794\n",
      "  0.89054    0.78091    0.58907    0.37895    0.14143    0.086619\n",
      "  0.16884    0.33328    0.39722    0.38809    0.24192   -0.096089\n",
      " -0.50718   -0.85433   -1.0553    -1.1193    -1.1193    -1.0644\n",
      " -0.88173   -0.66249   -0.50718   -0.45237   -0.45237   -0.47978\n",
      " -0.58027   -0.68989   -0.72643   -0.72643   -0.69903   -0.57113\n",
      " -0.3062     0.10489    0.57993    0.92708    1.1281     1.2377\n",
      "  1.3108     1.3564     1.4021     1.4295     1.4478     1.4569\n",
      "  1.4569     1.4569     1.4569     1.4478     1.4295     1.4204\n",
      "  1.4021     1.3747     1.3564     1.329      1.3108     1.2925\n",
      "  1.2651     1.2377     1.192      1.1189     1.0184     0.87226\n",
      "  0.69869    0.50685    0.315      0.1323     0.022671  -0.023006\n",
      " -0.032141  -0.023006   0.040942   0.17797    0.37895    0.63474\n",
      "  0.89967    1.1189     1.2651     1.3473     1.393      1.4295\n",
      "  1.4661     1.4935     1.5117     1.5391     1.5574     1.5574\n",
      "  1.5574     1.53       1.4661     1.329      1.0732     0.71696\n",
      "  0.2876    -0.14177   -0.51632   -0.80865   -1.037     -1.206\n",
      " -1.3495    -1.4737    -1.5852    -1.6857    -1.7752    -1.8556\n",
      " -1.9259    -1.9844    -2.0255    -2.0474    -2.0538    -2.0538\n",
      " -2.0502    -2.0346    -1.9908    -1.904     -1.7761    -1.6445\n",
      " -1.5431    -1.4609    -1.3687    -1.2344    -1.037     -0.78125\n",
      " -0.45237    0.11403    0.62561    1.055      1.329      1.4295\n",
      "  1.4935     1.5209     1.53       1.5117     1.4569     1.3473\n",
      "  1.2011     1.0093     0.81745    0.69869    0.67129    0.67129\n",
      "  0.73523    0.91794    1.1737     1.3838     1.5117     1.5666\n",
      "  1.5848     1.6031     1.6031     1.6031     1.594      1.5666\n",
      "  1.4752     1.2834     0.97275    0.50685   -0.050412  -0.57113\n",
      " -0.98222   -1.2682    -1.4646    -1.5925    -1.6628    -1.7067   ]\n",
      "1 52\t2 57\t"
     ]
    }
   ],
   "source": [
    "rate=480\n",
    "cls_num=2\n",
    "btch=20\n",
    "for i in range (1,cls_num+1):\n",
    "    vars()['ecg'+str(i)],vars()['ecg_tst'+str(i)]=Ham(i)\n",
    "\n",
    "os.chdir(cwd)\n",
    "clses_lens=np.array([])\n",
    "i=0                               #جمع آوری داده ها و چاپ تعداد نمونه ی هر کلاس\n",
    "ecg=np.array(ecg1)\n",
    "print(1,len(vars()['ecg'+str(1)]), end='\\t')\n",
    "clses_lens=np.append(clses_lens,len(vars()['ecg'+str(1)]))\n",
    "for i in range (2,cls_num+1):\n",
    "    ecg=np.concatenate((ecg,vars()['ecg'+str(i)]),axis=0)\n",
    "    clses_lens=np.append(clses_lens,len(vars()['ecg'+str(i)]))\n",
    "    print(i,len(vars()['ecg'+str(i)]), end='\\t')\n",
    "\n",
    "mx_sig=max(clses_lens)"
   ]
  },
  {
   "cell_type": "code",
   "execution_count": 3,
   "metadata": {},
   "outputs": [
    {
     "data": {
      "text/plain": [
       "(109, 481)"
      ]
     },
     "execution_count": 3,
     "metadata": {},
     "output_type": "execute_result"
    }
   ],
   "source": [
    "np.shape(ecg)"
   ]
  },
  {
   "cell_type": "code",
   "execution_count": 4,
   "metadata": {},
   "outputs": [
    {
     "data": {
      "text/plain": [
       "array([1., 1., 1., 1., 1., 1., 1., 1., 1., 1., 1., 1., 1., 1., 1., 1., 1.,\n",
       "       1., 1., 1., 1., 1., 1., 1., 1., 1., 1., 1., 1., 1., 1., 1., 1., 1.,\n",
       "       1., 1., 1., 1., 1., 1., 1., 1., 1., 1., 1., 1., 1., 1., 1., 1., 1.,\n",
       "       1., 2., 2., 2., 2., 2., 2., 2., 2., 2., 2., 2., 2., 2., 2., 2., 2.,\n",
       "       2., 2., 2., 2., 2., 2., 2., 2., 2., 2., 2., 2., 2., 2., 2., 2., 2.,\n",
       "       2., 2., 2., 2., 2., 2., 2., 2., 2., 2., 2., 2., 2., 2., 2., 2., 2.,\n",
       "       2., 2., 2., 2., 2., 2., 2.])"
      ]
     },
     "execution_count": 4,
     "metadata": {},
     "output_type": "execute_result"
    }
   ],
   "source": [
    "ecg[:,-1]"
   ]
  },
  {
   "cell_type": "markdown",
   "metadata": {},
   "source": [
    "<h2><center><div style=\"direction:rtl;font-family:B Nazanin\">Base Train windows</div></center></h1>"
   ]
  },
  {
   "cell_type": "code",
   "execution_count": 5,
   "metadata": {},
   "outputs": [
    {
     "name": "stdout",
     "output_type": "stream",
     "text": [
      "each class and its windows =\n",
      "1 52\t2 57\t\n",
      " max = 57\n"
     ]
    }
   ],
   "source": [
    "smpl_rte=480                                              # در ماژول ها نیز همین مقدار ثبت شده\n",
    "i=0\n",
    "windws=np.array([])\n",
    "\n",
    "for cls in range (1,cls_num+1):                                 #ساخت پنجره های داده های آموزش اصلی\n",
    "    vars()['wndws'+str(cls)]=np.array(vars()['ecg'+str(cls)])  \n",
    "    \n",
    "print(\"each class and its windows =\")\n",
    "\n",
    "cls_wndws=np.array([])\n",
    "for cls in range (1,cls_num+1):                                # آرایه ی تعداد پنجره ی هر کلاس\n",
    "    wns=len(vars()['wndws'+str(cls)])\n",
    "    cls_wndws=np.append(cls_wndws,wns)\n",
    "    print(cls, wns, end='\\t')\n",
    "\n",
    "mx_wndws=int(np.max(cls_wndws))                        # حداکثر تعداد پنجره ی موجود بین کلاس ها\n",
    "print('\\n max =', mx_wndws)"
   ]
  },
  {
   "cell_type": "raw",
   "metadata": {},
   "source": [
    "#clses=3                                   #تعیین میزان افزایش نمونه (تولید داده)\n",
    "mx_wndws=int(mx_wndws)  #mx_wndws*0.3  # =classes-1 برای بررسی الگوریتم تعداد کمی کلاس آزمایش شد\n",
    "mx_wndws=2598           #+2\n",
    "print(mx_wndws)"
   ]
  },
  {
   "cell_type": "markdown",
   "metadata": {},
   "source": [
    "<h1><center><div style=\"direction:rtl;font-family:B Nazanin\">Data Augmentation</div></center></h1>"
   ]
  },
  {
   "cell_type": "code",
   "execution_count": 6,
   "metadata": {},
   "outputs": [
    {
     "name": "stdout",
     "output_type": "stream",
     "text": [
      "Up to class  1 train shape =  (52, 481)\n",
      "Up to class  2 train shape =  (109, 481)\n"
     ]
    }
   ],
   "source": [
    "smpl_rte=len(wndws1[0])                                        # در ماژول ها نیز همین مقدار ثبت شده\n",
    "\n",
    "#add augmented data to base data\n",
    "xtrain=np.empty((0,len(wndws1[0])), float) \n",
    "for i in range (1,cls_num+1):   \n",
    "    xtrain=np.append(xtrain,vars()['wndws'+str(i)],axis=0)\n",
    "    print('Up to class ', i, 'train shape = ', np.shape(xtrain))"
   ]
  },
  {
   "cell_type": "code",
   "execution_count": 7,
   "metadata": {},
   "outputs": [
    {
     "name": "stdout",
     "output_type": "stream",
     "text": [
      "[ 0 52 57]\n"
     ]
    }
   ],
   "source": [
    "print(np.bincount(np.int16(xtrain[:,-1])))    #تعداد پنجره در هر کلاس از 0 تا 17"
   ]
  },
  {
   "cell_type": "code",
   "execution_count": 8,
   "metadata": {},
   "outputs": [
    {
     "data": {
      "text/plain": [
       "array([1., 1., 1., 1., 1., 1., 1., 1., 1., 1., 1., 1., 1., 1., 1., 1., 1.,\n",
       "       1., 1., 1., 1., 1., 1., 1., 1., 1., 1., 1., 1., 1., 1., 1., 1., 1.,\n",
       "       1., 1., 1., 1., 1., 1., 1., 1., 1., 1., 1., 1., 1., 1., 1., 1., 1.,\n",
       "       1., 2., 2., 2., 2., 2., 2., 2., 2., 2., 2., 2., 2., 2., 2., 2., 2.,\n",
       "       2., 2., 2., 2., 2., 2., 2., 2., 2., 2., 2., 2., 2., 2., 2., 2., 2.,\n",
       "       2., 2., 2., 2., 2., 2., 2., 2., 2., 2., 2., 2., 2., 2., 2., 2., 2.,\n",
       "       2., 2., 2., 2., 2., 2., 2.])"
      ]
     },
     "execution_count": 8,
     "metadata": {},
     "output_type": "execute_result"
    }
   ],
   "source": [
    "xtrain[:,-1]"
   ]
  },
  {
   "cell_type": "code",
   "execution_count": 9,
   "metadata": {},
   "outputs": [],
   "source": [
    "mx_aug=np.max(xtrain[:,:-1])\n",
    "mx=np.max(ecg[:,:-1])\n",
    "mn_aug=np.min(xtrain[:,:-1])\n",
    "mn=np.min(ecg[:,:-1])\n",
    "\n",
    "#for i in range (1,cls_num+1):             #نرمالسازی داده های افزایشی\n",
    "xtrain[:,:-1]= 2*(xtrain[:,:-1]-mn_aug)/(mx_aug - mn_aug) - 1"
   ]
  },
  {
   "cell_type": "code",
   "execution_count": 10,
   "metadata": {},
   "outputs": [
    {
     "name": "stdout",
     "output_type": "stream",
     "text": [
      "min trn = -1.0\n",
      "max trn = 1.0\n"
     ]
    }
   ],
   "source": [
    "print('min trn =', np.min(xtrain[:,:-1]))\n",
    "print('max trn =', np.max(xtrain[:,:-1]))"
   ]
  },
  {
   "cell_type": "markdown",
   "metadata": {},
   "source": [
    "<h3><center><div style=\"direction:rtl;font-family:B Nazanin\">Test Windows</div></center></h1>"
   ]
  },
  {
   "cell_type": "code",
   "execution_count": 11,
   "metadata": {},
   "outputs": [],
   "source": [
    "wndws_test=np.empty((0,len(wndws1[0])), float)\n",
    "i=0\n",
    "windws=np.array([])\n",
    "for cls in range (1,cls_num+1):                                 #ساخت پنجره های داده های آموزش اصلی\n",
    "    vars()['wndws_tst'+str(cls)]=np.empty((0,len(wndws1[0])), float)\n",
    "    vars()['wndws_tst'+str(cls)]=np.append(vars()['wndws_tst'+str(cls)],vars()['ecg_tst'+str(cls)],axis=0)   "
   ]
  },
  {
   "cell_type": "code",
   "execution_count": 12,
   "metadata": {},
   "outputs": [
    {
     "name": "stdout",
     "output_type": "stream",
     "text": [
      "\n",
      " cls 1  >> \n",
      "max magnitude class 1  =  8.36492882199105\n",
      "min magnitude class 1  =  -1.7775228921276347\n",
      "after normalizing >>\n",
      "max magnitude class 1  =  1.0620379590784341\n",
      "min magnitude class 1  =  -0.9444358147514927\n",
      "\n",
      " cls 2  >> \n",
      "max magnitude class 2  =  9.427653983004678\n",
      "min magnitude class 2  =  -1.4538411248842698\n",
      "after normalizing >>\n",
      "max magnitude class 2  =  1.2722760971998848\n",
      "min magnitude class 2  =  -0.8804020884546584\n",
      "each class and its windows =\n",
      "1 51\t2 54\t\n",
      " max instance in classes of test windows = 54\n"
     ]
    }
   ],
   "source": [
    "#print(np.max(wndws_tst))\n",
    "for i in range (1,cls_num+1):                # Normalization test windows\n",
    "    cls=i\n",
    "    print('\\n cls', i, ' >> ')\n",
    "    print('max magnitude class', i , ' = ' ,np.max(vars()['wndws_tst'+str(cls)][:,:-1]))\n",
    "    print('min magnitude class', i , ' = ' ,np.min(vars()['wndws_tst'+str(cls)][:,:-1]))\n",
    "\n",
    "    vars()['wndws_tst'+str(i)][:,:-1]= 2*(vars()['wndws_tst'+str(i)][:,:-1]-mn_aug)/(mx_aug - mn_aug) - 1\n",
    "    \n",
    "    print('after normalizing >>')\n",
    "    print('max magnitude class', i , ' = ' ,np.max(vars()['wndws_tst'+str(cls)][:,:-1]))\n",
    "    print('min magnitude class', i , ' = ' ,np.min(vars()['wndws_tst'+str(cls)][:,:-1]))\n",
    "    \n",
    "print(\"each class and its windows =\")                    #تجمیع کلاس های تست\n",
    "cls_wndws=np.array([])\n",
    "for cls in range (1,cls_num+1):                                # آرایه ی تعداد پنجره ی هر کلاس\n",
    "    wns=len(vars()['wndws_tst'+str(cls)])\n",
    "    cls_wndws=np.append(cls_wndws,wns)\n",
    "    print(cls, wns, end='\\t')\n",
    "    wndws_test=np.append(wndws_test,vars()['wndws_tst'+str(cls)],axis=0)\n",
    "    \n",
    "mx_wndws=int(np.max(cls_wndws))                        # حداکثر تعداد پنجره ی موجود بین کلاس ها\n",
    "print('\\n max instance in classes of test windows =', mx_wndws)"
   ]
  },
  {
   "cell_type": "code",
   "execution_count": 13,
   "metadata": {},
   "outputs": [
    {
     "name": "stdout",
     "output_type": "stream",
     "text": [
      "min tst = -0.9444358147514927\n",
      "max tst = 1.2722760971998848\n"
     ]
    }
   ],
   "source": [
    "print('min tst =', np.min(wndws_test[:,:-1]))\n",
    "print('max tst =', np.max(wndws_test[:,:-1]))"
   ]
  },
  {
   "cell_type": "code",
   "execution_count": 14,
   "metadata": {},
   "outputs": [
    {
     "data": {
      "text/plain": [
       "105"
      ]
     },
     "execution_count": 14,
     "metadata": {},
     "output_type": "execute_result"
    }
   ],
   "source": [
    "len(wndws_test)"
   ]
  },
  {
   "cell_type": "code",
   "execution_count": 15,
   "metadata": {},
   "outputs": [
    {
     "data": {
      "text/plain": [
       "(105, 481)"
      ]
     },
     "execution_count": 15,
     "metadata": {},
     "output_type": "execute_result"
    }
   ],
   "source": [
    "np.shape(wndws_test)"
   ]
  },
  {
   "cell_type": "code",
   "execution_count": 16,
   "metadata": {},
   "outputs": [],
   "source": [
    "Xtest=wndws_test[:,:-1]\n",
    "ytest=np.int16(wndws_test[:,-1])"
   ]
  },
  {
   "cell_type": "code",
   "execution_count": 17,
   "metadata": {},
   "outputs": [
    {
     "name": "stdout",
     "output_type": "stream",
     "text": [
      "array([1, 1, 1, 1, 1, 1, 1, 1, 1, 1, 1, 1, 1, 1, 1, 1, 1, 1, 1, 1, 1, 1,\n",
      "       1, 1, 1, 1, 1, 1, 1, 1, 1, 1, 1, 1, 1, 1, 1, 1, 1, 1, 1, 1, 1, 1,\n",
      "       1, 1, 1, 1, 1, 1, 1, 2, 2, 2, 2, 2, 2, 2, 2, 2, 2, 2, 2, 2, 2, 2,\n",
      "       2, 2, 2, 2, 2, 2, 2, 2, 2, 2, 2, 2, 2, 2, 2, 2, 2, 2, 2, 2, 2, 2,\n",
      "       2, 2, 2, 2, 2, 2, 2, 2, 2, 2, 2, 2, 2, 2, 2, 2, 2], dtype=int16)\n"
     ]
    }
   ],
   "source": [
    "fullprint(ytest)"
   ]
  },
  {
   "cell_type": "markdown",
   "metadata": {},
   "source": [
    "<h3><center><div style=\"direction:rtl;font-family:B Nazanin\">Train Windows</div></center></h1>"
   ]
  },
  {
   "cell_type": "code",
   "execution_count": 18,
   "metadata": {},
   "outputs": [
    {
     "data": {
      "text/plain": [
       "'\\nytestt=np.int32(np.array([ytest]).T)\\ntestx=np.concatenate((Xtest, ytestt), axis=1)\\ntestx=np.random.permutation(testx)\\nXtest=np.int32(testx[:,:-1])\\nytest=np.int32(testx[:,-1])'"
      ]
     },
     "execution_count": 18,
     "metadata": {},
     "output_type": "execute_result"
    }
   ],
   "source": [
    "#ytraint=np.int32(np.array([ytrain]).T)\n",
    "#trainx=np.concatenate((Xtrain, ytraint), axis=1)\n",
    "trainx=np.random.permutation(xtrain)\n",
    "Xtrain=np.array(trainx[:,:-1])\n",
    "ytrain=np.int16(trainx[:,-1])\n",
    "'''\n",
    "ytestt=np.int32(np.array([ytest]).T)\n",
    "testx=np.concatenate((Xtest, ytestt), axis=1)\n",
    "testx=np.random.permutation(testx)\n",
    "Xtest=np.int32(testx[:,:-1])\n",
    "ytest=np.int32(testx[:,-1])'''"
   ]
  },
  {
   "cell_type": "code",
   "execution_count": 19,
   "metadata": {},
   "outputs": [
    {
     "data": {
      "text/plain": [
       "(52, 481)"
      ]
     },
     "execution_count": 19,
     "metadata": {},
     "output_type": "execute_result"
    }
   ],
   "source": [
    "np.shape(wndws1)"
   ]
  },
  {
   "cell_type": "markdown",
   "metadata": {},
   "source": [
    "<h3><center><div style=\"direction:rtl;font-family:B Nazanin\">Validation Windows</div></center></h1>"
   ]
  },
  {
   "cell_type": "code",
   "execution_count": 20,
   "metadata": {},
   "outputs": [],
   "source": [
    "Xvalid=np.array(Xtrain)\n",
    "yvalid=np.array(ytrain)"
   ]
  },
  {
   "cell_type": "markdown",
   "metadata": {},
   "source": [
    "<h1><center><div style=\"direction:rtl;font-family:B Nazanin\">CNN And UnBalanced RAW Data</div></center></h1>\n",
    "<h1><center><div style=\"direction:rtl;font-family:Arial\">Cross Entropy Loss Function</div></center></h1>"
   ]
  },
  {
   "cell_type": "code",
   "execution_count": 21,
   "metadata": {
    "scrolled": true
   },
   "outputs": [
    {
     "name": "stdout",
     "output_type": "stream",
     "text": [
      "X_train =>  (109, 480)\n",
      "y_train =>  (109,)\n",
      "X_test  =>  (105, 480)\n",
      "y_test  =>  (105,)\n",
      "X_valid  =>  (109, 480)\n",
      "y_valid  =>  (109,)\n"
     ]
    }
   ],
   "source": [
    "X_train=np.array(Xtrain)\n",
    "y_train=np.array(ytrain)\n",
    "X_test=np.array(Xtest)\n",
    "y_test=np.array(ytest)\n",
    "X_valid=np.array(Xtrain)\n",
    "y_valid=np.array(ytrain)\n",
    "print('X_train => ', X_train.shape)\n",
    "print('y_train => ', y_train.shape)\n",
    "print('X_test  => ', X_test.shape)\n",
    "print('y_test  => ', y_test.shape)\n",
    "print('X_valid  => ', X_valid.shape)\n",
    "print('y_valid  => ', y_valid.shape)"
   ]
  },
  {
   "cell_type": "code",
   "execution_count": 22,
   "metadata": {},
   "outputs": [],
   "source": [
    "y_train=np.array(y_train+1)\n",
    "y_test=np.array(y_test+1)\n",
    "y_valid=np.array(y_valid+1)"
   ]
  },
  {
   "cell_type": "code",
   "execution_count": 23,
   "metadata": {},
   "outputs": [],
   "source": [
    "y_train_cat=to_categorical(y_train)\n",
    "y_valid_cat=to_categorical(y_valid)\n",
    "y_test_cat=to_categorical(y_test)\n",
    "\n",
    "\n",
    "X_train = np.expand_dims(X_train, axis=2)\n",
    "X_valid = np.expand_dims(X_valid, axis=2)\n",
    "X_test = np.expand_dims(X_test, axis=2)\n",
    "#y_train=np.transpose([y_train])"
   ]
  },
  {
   "cell_type": "code",
   "execution_count": 24,
   "metadata": {
    "scrolled": true
   },
   "outputs": [
    {
     "name": "stdout",
     "output_type": "stream",
     "text": [
      "Epoch 1/1000\n",
      "2/2 [==============================] - 4s 667ms/step - loss: 4.7430 - accuracy: 0.4862 - val_loss: 1.1837 - val_accuracy: 0.4771\n",
      "Epoch 2/1000\n",
      "2/2 [==============================] - 0s 39ms/step - loss: 3.7410 - accuracy: 0.4771 - val_loss: 1.2796 - val_accuracy: 0.4771\n",
      "Epoch 3/1000\n",
      "2/2 [==============================] - 0s 36ms/step - loss: 0.8840 - accuracy: 0.4679 - val_loss: 1.0389 - val_accuracy: 0.4771\n",
      "Epoch 4/1000\n",
      "2/2 [==============================] - 0s 48ms/step - loss: 1.4232 - accuracy: 0.5413 - val_loss: 1.1303 - val_accuracy: 0.5229\n",
      "Epoch 5/1000\n",
      "2/2 [==============================] - 0s 53ms/step - loss: 0.7386 - accuracy: 0.5505 - val_loss: 1.0871 - val_accuracy: 0.5596\n",
      "Epoch 6/1000\n",
      "2/2 [==============================] - 0s 39ms/step - loss: 0.6805 - accuracy: 0.5780 - val_loss: 1.0567 - val_accuracy: 0.5229\n",
      "Epoch 7/1000\n",
      "2/2 [==============================] - 0s 39ms/step - loss: 0.7784 - accuracy: 0.5138 - val_loss: 1.0819 - val_accuracy: 0.4771\n",
      "Epoch 8/1000\n",
      "2/2 [==============================] - 0s 36ms/step - loss: 0.6418 - accuracy: 0.8073 - val_loss: 1.0170 - val_accuracy: 0.4771\n",
      "Epoch 9/1000\n",
      "2/2 [==============================] - 0s 36ms/step - loss: 0.7268 - accuracy: 0.4771 - val_loss: 1.1430 - val_accuracy: 0.4771\n",
      "Epoch 10/1000\n",
      "2/2 [==============================] - 0s 35ms/step - loss: 0.6924 - accuracy: 0.5688 - val_loss: 1.0318 - val_accuracy: 0.5229\n",
      "Epoch 11/1000\n",
      "2/2 [==============================] - 0s 35ms/step - loss: 0.6183 - accuracy: 0.5872 - val_loss: 1.0226 - val_accuracy: 0.5229\n",
      "Epoch 12/1000\n",
      "2/2 [==============================] - 0s 37ms/step - loss: 0.6683 - accuracy: 0.5229 - val_loss: 1.0575 - val_accuracy: 0.5229\n",
      "Epoch 13/1000\n",
      "2/2 [==============================] - 0s 34ms/step - loss: 0.6395 - accuracy: 0.6330 - val_loss: 1.0080 - val_accuracy: 0.4771\n",
      "Epoch 14/1000\n",
      "2/2 [==============================] - 0s 37ms/step - loss: 0.4907 - accuracy: 0.8349 - val_loss: 1.0015 - val_accuracy: 0.4771\n",
      "Epoch 15/1000\n",
      "2/2 [==============================] - 0s 35ms/step - loss: 1.3693 - accuracy: 0.5046 - val_loss: 1.0138 - val_accuracy: 0.5229\n",
      "Epoch 16/1000\n",
      "2/2 [==============================] - 0s 36ms/step - loss: 0.6472 - accuracy: 0.5505 - val_loss: 1.0120 - val_accuracy: 0.5229\n",
      "Epoch 17/1000\n",
      "2/2 [==============================] - 0s 36ms/step - loss: 0.5554 - accuracy: 0.6697 - val_loss: 0.9782 - val_accuracy: 0.5229\n",
      "Epoch 18/1000\n",
      "2/2 [==============================] - 0s 37ms/step - loss: 0.5622 - accuracy: 0.6330 - val_loss: 0.9611 - val_accuracy: 0.4771\n",
      "Epoch 19/1000\n",
      "2/2 [==============================] - 0s 37ms/step - loss: 0.4000 - accuracy: 0.8807 - val_loss: 0.8744 - val_accuracy: 0.4771\n",
      "Epoch 20/1000\n",
      "2/2 [==============================] - 0s 46ms/step - loss: 0.8224 - accuracy: 0.5780 - val_loss: 1.0993 - val_accuracy: 0.6697\n",
      "Epoch 21/1000\n",
      "2/2 [==============================] - 0s 38ms/step - loss: 0.6907 - accuracy: 0.7431 - val_loss: 0.9245 - val_accuracy: 0.5229\n",
      "Epoch 22/1000\n",
      "2/2 [==============================] - 0s 38ms/step - loss: 0.5547 - accuracy: 0.6697 - val_loss: 0.9015 - val_accuracy: 0.5229\n",
      "Epoch 23/1000\n",
      "2/2 [==============================] - 0s 38ms/step - loss: 0.3680 - accuracy: 0.8532 - val_loss: 0.8359 - val_accuracy: 0.5229\n",
      "Epoch 24/1000\n",
      "2/2 [==============================] - 0s 38ms/step - loss: 0.3650 - accuracy: 0.8165 - val_loss: 0.8421 - val_accuracy: 0.5229\n",
      "Epoch 25/1000\n",
      "2/2 [==============================] - 0s 37ms/step - loss: 0.2101 - accuracy: 0.9266 - val_loss: 0.7882 - val_accuracy: 0.5229\n",
      "Epoch 26/1000\n",
      "2/2 [==============================] - 0s 38ms/step - loss: 0.2004 - accuracy: 0.9174 - val_loss: 0.7999 - val_accuracy: 0.5229\n",
      "Epoch 27/1000\n",
      "2/2 [==============================] - 0s 47ms/step - loss: 0.1572 - accuracy: 0.9450 - val_loss: 0.7483 - val_accuracy: 0.7064\n",
      "Epoch 28/1000\n",
      "2/2 [==============================] - 0s 36ms/step - loss: 0.0679 - accuracy: 0.9817 - val_loss: 0.7266 - val_accuracy: 0.4862\n",
      "Epoch 29/1000\n",
      "2/2 [==============================] - 0s 46ms/step - loss: 0.3474 - accuracy: 0.8440 - val_loss: 0.8615 - val_accuracy: 0.7615\n",
      "Epoch 30/1000\n",
      "2/2 [==============================] - 0s 38ms/step - loss: 0.3128 - accuracy: 0.8716 - val_loss: 0.7175 - val_accuracy: 0.7339\n",
      "Epoch 31/1000\n",
      "2/2 [==============================] - 0s 37ms/step - loss: 0.1157 - accuracy: 0.9817 - val_loss: 0.7087 - val_accuracy: 0.7248\n",
      "Epoch 32/1000\n",
      "2/2 [==============================] - 0s 40ms/step - loss: 0.1052 - accuracy: 0.9725 - val_loss: 0.6976 - val_accuracy: 0.5596\n",
      "Epoch 33/1000\n",
      "2/2 [==============================] - 0s 48ms/step - loss: 0.0159 - accuracy: 1.0000 - val_loss: 0.6777 - val_accuracy: 0.8165\n",
      "Epoch 34/1000\n",
      "2/2 [==============================] - 0s 37ms/step - loss: 0.0121 - accuracy: 1.0000 - val_loss: 0.6631 - val_accuracy: 0.6881\n",
      "Epoch 35/1000\n",
      "2/2 [==============================] - 0s 36ms/step - loss: 0.0023 - accuracy: 1.0000 - val_loss: 0.6570 - val_accuracy: 0.6422\n",
      "Epoch 36/1000\n",
      "2/2 [==============================] - 0s 38ms/step - loss: 0.0012 - accuracy: 1.0000 - val_loss: 0.6536 - val_accuracy: 0.6147\n",
      "Epoch 37/1000\n",
      "2/2 [==============================] - 0s 37ms/step - loss: 7.5057e-04 - accuracy: 1.0000 - val_loss: 0.6514 - val_accuracy: 0.6055\n",
      "Epoch 38/1000\n",
      "2/2 [==============================] - 0s 38ms/step - loss: 5.4501e-04 - accuracy: 1.0000 - val_loss: 0.6492 - val_accuracy: 0.6055\n",
      "Epoch 39/1000\n",
      "2/2 [==============================] - 0s 39ms/step - loss: 4.0856e-04 - accuracy: 1.0000 - val_loss: 0.6486 - val_accuracy: 0.5780\n",
      "Epoch 40/1000\n",
      "2/2 [==============================] - 0s 39ms/step - loss: 3.1447e-04 - accuracy: 1.0000 - val_loss: 0.6470 - val_accuracy: 0.5780\n",
      "Epoch 41/1000\n",
      "2/2 [==============================] - 0s 41ms/step - loss: 1.9937e-04 - accuracy: 1.0000 - val_loss: 0.6471 - val_accuracy: 0.5505\n",
      "Epoch 42/1000\n",
      "2/2 [==============================] - 0s 38ms/step - loss: 1.3505e-04 - accuracy: 1.0000 - val_loss: 0.6465 - val_accuracy: 0.5505\n",
      "Epoch 43/1000\n",
      "2/2 [==============================] - 0s 38ms/step - loss: 8.7299e-05 - accuracy: 1.0000 - val_loss: 0.6397 - val_accuracy: 0.6514\n",
      "Epoch 44/1000\n",
      "2/2 [==============================] - 0s 39ms/step - loss: 7.2468e-05 - accuracy: 1.0000 - val_loss: 0.6449 - val_accuracy: 0.5505\n",
      "Epoch 45/1000\n",
      "2/2 [==============================] - 0s 39ms/step - loss: 6.5574e-05 - accuracy: 1.0000 - val_loss: 0.6440 - val_accuracy: 0.5505\n",
      "Epoch 46/1000\n",
      "2/2 [==============================] - 0s 39ms/step - loss: 4.6064e-05 - accuracy: 1.0000 - val_loss: 0.6387 - val_accuracy: 0.5963\n",
      "Epoch 47/1000\n",
      "2/2 [==============================] - 0s 38ms/step - loss: 4.2191e-05 - accuracy: 1.0000 - val_loss: 0.6469 - val_accuracy: 0.5321\n",
      "Epoch 48/1000\n",
      "2/2 [==============================] - 0s 39ms/step - loss: 4.3318e-05 - accuracy: 1.0000 - val_loss: 0.6446 - val_accuracy: 0.5321\n",
      "Epoch 49/1000\n",
      "2/2 [==============================] - 0s 39ms/step - loss: 2.9184e-05 - accuracy: 1.0000 - val_loss: 0.6399 - val_accuracy: 0.5505\n",
      "Epoch 50/1000\n",
      "2/2 [==============================] - 0s 39ms/step - loss: 2.5473e-05 - accuracy: 1.0000 - val_loss: 0.6327 - val_accuracy: 0.6330\n",
      "Epoch 51/1000\n",
      "2/2 [==============================] - 0s 38ms/step - loss: 2.1205e-05 - accuracy: 1.0000 - val_loss: 0.6313 - val_accuracy: 0.6330\n",
      "Epoch 52/1000\n",
      "2/2 [==============================] - 0s 39ms/step - loss: 2.1446e-05 - accuracy: 1.0000 - val_loss: 0.6274 - val_accuracy: 0.6697\n",
      "Epoch 53/1000\n",
      "2/2 [==============================] - 0s 39ms/step - loss: 2.0859e-05 - accuracy: 1.0000 - val_loss: 0.6262 - val_accuracy: 0.6697\n",
      "Epoch 54/1000\n",
      "2/2 [==============================] - 0s 39ms/step - loss: 1.7359e-05 - accuracy: 1.0000 - val_loss: 0.6238 - val_accuracy: 0.6697\n",
      "Epoch 55/1000\n",
      "2/2 [==============================] - 0s 39ms/step - loss: 1.5273e-05 - accuracy: 1.0000 - val_loss: 0.6446 - val_accuracy: 0.5321\n",
      "Epoch 56/1000\n",
      "2/2 [==============================] - 0s 38ms/step - loss: 1.2902e-05 - accuracy: 1.0000 - val_loss: 0.6278 - val_accuracy: 0.6055\n",
      "Epoch 57/1000\n",
      "2/2 [==============================] - 0s 40ms/step - loss: 1.2886e-05 - accuracy: 1.0000 - val_loss: 0.6565 - val_accuracy: 0.5229\n",
      "Epoch 58/1000\n"
     ]
    },
    {
     "name": "stdout",
     "output_type": "stream",
     "text": [
      "2/2 [==============================] - 0s 39ms/step - loss: 1.0887e-05 - accuracy: 1.0000 - val_loss: 0.6327 - val_accuracy: 0.5413\n",
      "Epoch 59/1000\n",
      "2/2 [==============================] - 0s 40ms/step - loss: 9.8612e-06 - accuracy: 1.0000 - val_loss: 0.6135 - val_accuracy: 0.7523\n",
      "Epoch 60/1000\n",
      "2/2 [==============================] - 0s 38ms/step - loss: 9.9705e-06 - accuracy: 1.0000 - val_loss: 0.6150 - val_accuracy: 0.6606\n",
      "Epoch 61/1000\n",
      "2/2 [==============================] - 0s 39ms/step - loss: 7.2683e-06 - accuracy: 1.0000 - val_loss: 0.6089 - val_accuracy: 0.7890\n",
      "Epoch 62/1000\n",
      "2/2 [==============================] - 0s 38ms/step - loss: 7.2880e-06 - accuracy: 1.0000 - val_loss: 0.6171 - val_accuracy: 0.6239\n",
      "Epoch 63/1000\n",
      "2/2 [==============================] - 0s 39ms/step - loss: 6.8888e-06 - accuracy: 1.0000 - val_loss: 0.6149 - val_accuracy: 0.6330\n",
      "Epoch 64/1000\n",
      "2/2 [==============================] - 0s 39ms/step - loss: 4.6469e-06 - accuracy: 1.0000 - val_loss: 0.6215 - val_accuracy: 0.6055\n",
      "Epoch 65/1000\n",
      "2/2 [==============================] - 0s 39ms/step - loss: 4.9334e-06 - accuracy: 1.0000 - val_loss: 0.6507 - val_accuracy: 0.5229\n",
      "Epoch 66/1000\n",
      "2/2 [==============================] - 0s 39ms/step - loss: 4.5036e-06 - accuracy: 1.0000 - val_loss: 0.6151 - val_accuracy: 0.6147\n",
      "Epoch 67/1000\n",
      "2/2 [==============================] - 0s 38ms/step - loss: 4.1679e-06 - accuracy: 1.0000 - val_loss: 0.5987 - val_accuracy: 0.7523\n",
      "Epoch 68/1000\n",
      "2/2 [==============================] - 0s 39ms/step - loss: 3.0568e-06 - accuracy: 1.0000 - val_loss: 0.6053 - val_accuracy: 0.6514\n",
      "Epoch 69/1000\n",
      "2/2 [==============================] - 0s 39ms/step - loss: 2.8271e-06 - accuracy: 1.0000 - val_loss: 0.6256 - val_accuracy: 0.5505\n",
      "Epoch 70/1000\n",
      "2/2 [==============================] - 0s 39ms/step - loss: 2.4848e-06 - accuracy: 1.0000 - val_loss: 0.6288 - val_accuracy: 0.5413\n",
      "Epoch 71/1000\n",
      "2/2 [==============================] - 0s 38ms/step - loss: 3.0305e-06 - accuracy: 1.0000 - val_loss: 0.6111 - val_accuracy: 0.6055\n",
      "Epoch 72/1000\n",
      "2/2 [==============================] - 0s 39ms/step - loss: 2.2573e-06 - accuracy: 1.0000 - val_loss: 0.6001 - val_accuracy: 0.6514\n",
      "Epoch 73/1000\n",
      "2/2 [==============================] - 0s 38ms/step - loss: 1.6810e-06 - accuracy: 1.0000 - val_loss: 0.6182 - val_accuracy: 0.5688\n",
      "Epoch 74/1000\n",
      "2/2 [==============================] - 0s 39ms/step - loss: 1.7116e-06 - accuracy: 1.0000 - val_loss: 0.5843 - val_accuracy: 0.7798\n",
      "Epoch 75/1000\n",
      "2/2 [==============================] - 0s 42ms/step - loss: 2.0637e-06 - accuracy: 1.0000 - val_loss: 0.6080 - val_accuracy: 0.6055\n",
      "Epoch 76/1000\n",
      "2/2 [==============================] - 0s 39ms/step - loss: 1.3682e-06 - accuracy: 1.0000 - val_loss: 0.6118 - val_accuracy: 0.5963\n",
      "Epoch 77/1000\n",
      "2/2 [==============================] - 0s 39ms/step - loss: 1.2818e-06 - accuracy: 1.0000 - val_loss: 0.6149 - val_accuracy: 0.5688\n",
      "Epoch 78/1000\n",
      "2/2 [==============================] - 0s 40ms/step - loss: 9.1539e-07 - accuracy: 1.0000 - val_loss: 0.6034 - val_accuracy: 0.6147\n",
      "Epoch 79/1000\n",
      "2/2 [==============================] - 0s 40ms/step - loss: 1.0368e-06 - accuracy: 1.0000 - val_loss: 0.6013 - val_accuracy: 0.6147\n",
      "Epoch 80/1000\n",
      "2/2 [==============================] - 0s 39ms/step - loss: 1.0849e-06 - accuracy: 1.0000 - val_loss: 0.6329 - val_accuracy: 0.5505\n",
      "Epoch 81/1000\n",
      "2/2 [==============================] - 0s 39ms/step - loss: 1.0444e-06 - accuracy: 1.0000 - val_loss: 0.6744 - val_accuracy: 0.5229\n",
      "Epoch 82/1000\n",
      "2/2 [==============================] - 0s 39ms/step - loss: 8.4540e-07 - accuracy: 1.0000 - val_loss: 0.6158 - val_accuracy: 0.5596\n",
      "Epoch 83/1000\n",
      "2/2 [==============================] - 0s 46ms/step - loss: 6.5948e-07 - accuracy: 1.0000 - val_loss: 0.6082 - val_accuracy: 0.5872\n",
      "2/2 [==============================] - 0s 5ms/step - loss: 0.6777 - accuracy: 0.8165\n",
      "np.shape(X_test)= (105, 480, 1)\n",
      "Accuracy=  0.8165137767791748\n"
     ]
    }
   ],
   "source": [
    "#VGG16_1D\n",
    "\n",
    "accuracy=0\n",
    "acc_crs=np.array([])\n",
    "##for i in range (10):\n",
    "##    if accuracy<0.2 :\n",
    "\n",
    "verbose, epochs, batch_size = 1, 1000, 80\n",
    "n_timesteps, n_features, n_outputs = X_train.shape[1], X_train.shape[2], y_train_cat.shape[1]\n",
    "steps_per_epoch = len(X_train)//batch_size\n",
    "validation_steps = len(X_valid)//batch_size # if you have test data\n",
    "\n",
    "\n",
    "\n",
    "model_crs = Sequential()\n",
    "#model_crs.add(Conv1D(input_shape=x_train.shape[1:],filters=64,kernel_size=9,padding=\"same\", activation=\"relu\"))\n",
    "model_crs.add(Conv1D(filters=128, kernel_size=12, strides=1, activation='relu', input_shape=(n_timesteps,n_features))) #Replaced\n",
    "model_crs.add(BatchNormalization())\n",
    "model_crs.add(MaxPooling1D(pool_size=2,strides=3))\n",
    "\n",
    "model_crs.add(Conv1D(filters=32, kernel_size=7, strides=1, padding=\"same\", activation=\"relu\"))\n",
    "model_crs.add(BatchNormalization())\n",
    "model_crs.add(MaxPooling1D(pool_size=2,strides=2))\n",
    "\n",
    "model_crs.add(Conv1D(filters=32, kernel_size=10, strides=1, padding=\"same\", activation=\"relu\"))\n",
    "model_crs.add(Conv1D(filters=128, kernel_size=5, strides=2, padding=\"same\", activation=\"relu\"))\n",
    "model_crs.add(MaxPooling1D(pool_size=2,strides=2))\n",
    "\n",
    "model_crs.add(Conv1D(filters=256, kernel_size=15, strides=1, padding=\"same\", activation=\"relu\"))\n",
    "model_crs.add(MaxPooling1D(pool_size=2,strides=2))\n",
    "\n",
    "model_crs.add(Conv1D(filters=512, kernel_size=5, strides=1, padding=\"same\", activation=\"relu\"))\n",
    "#model_crs.add(Conv1D(filters=128, kernel_size=3, strides=1, padding=\"same\", activation=\"relu\"))\n",
    "\n",
    "\n",
    "model_crs.add(Flatten())\n",
    "model_crs.add(Dropout(0.1))\n",
    "model_crs.add(Dense(units=512,activation=\"relu\"))\n",
    "#model_crs.add(Dense(units=2048,activation=\"relu\"))\n",
    "model_crs.add(Dense(n_outputs, activation='softmax'))   #Replaced here from old Model\n",
    "\n",
    "model_crs.compile(optimizer='rmsprop', loss='categorical_crossentropy', metrics=['accuracy'])\n",
    "# fit network   #CategoricalCrossentropy #sparse_categorical_crossentropy #SparseCategoricalCrossentropy\n",
    "\n",
    "earlystopping = callbacks.EarlyStopping(monitor =\"val_accuracy\", mode =\"max\", patience = 50, restore_best_weights = True)\n",
    "\n",
    "model_crs.fit(X_train, y_train_cat, epochs=epochs, batch_size=batch_size, verbose=verbose, validation_data = (X_valid, y_valid_cat), callbacks =[earlystopping])\n",
    "\n",
    "_, accuracy = model_crs.evaluate(X_valid, y_valid_cat, batch_size=batch_size, verbose=1)\n",
    "\n",
    "print('np.shape(X_test)=',np.shape(X_test))\n",
    "\n",
    "print('Accuracy= ', accuracy)\n",
    "\n",
    "#y_pred_vgg = model_crs.predict_classes(X_test)\n"
   ]
  },
  {
   "cell_type": "code",
   "execution_count": 25,
   "metadata": {},
   "outputs": [],
   "source": [
    "def maxindx(ar):\n",
    "    ar_cpy=np.array(ar)\n",
    "    pred=np.argmax(ar,axis=1)\n",
    "    for i in range (len(pred)):\n",
    "        if pred[i]==0:\n",
    "            ar_cpy[i,0]=-1000\n",
    "    pred=np.argmax(ar_cpy,axis=1)\n",
    "    return(pred)"
   ]
  },
  {
   "cell_type": "code",
   "execution_count": 26,
   "metadata": {},
   "outputs": [
    {
     "name": "stdout",
     "output_type": "stream",
     "text": [
      "4/4 [==============================] - 0s 50ms/step\n",
      "array([[43,  8],\n",
      "       [32, 22]], dtype=int64)\n",
      "              precision    recall  f1-score   support\n",
      "\n",
      "           2       0.57      0.84      0.68        51\n",
      "           3       0.73      0.41      0.52        54\n",
      "\n",
      "    accuracy                           0.62       105\n",
      "   macro avg       0.65      0.63      0.60       105\n",
      "weighted avg       0.66      0.62      0.60       105\n",
      "\n"
     ]
    }
   ],
   "source": [
    "predict_x=model_crs.predict(X_test)              # Function 1\n",
    "\n",
    "y_pred_crs=maxindx(predict_x)                    # function from augment.py to remove 0 index predictions\n",
    "\n",
    "#y_pred_crs = model_crs.predict_classes(X_test)\n",
    "\n",
    "cm = confusion_matrix(y_test, y_pred_crs)\n",
    "fullprint(cm)\n",
    "acc3=accuracy_score(y_test, y_pred_crs)\n",
    "\n",
    "print(classification_report(y_test, y_pred_crs))\n",
    "\n",
    "#sns.heatmap(cm, annot=True)\n",
    "\n",
    "#plt.imshow(cm)"
   ]
  },
  {
   "cell_type": "code",
   "execution_count": 27,
   "metadata": {},
   "outputs": [
    {
     "name": "stdout",
     "output_type": "stream",
     "text": [
      "Epoch 1/1000\n",
      "2/2 [==============================] - 2s 540ms/step - loss: 3.4230 - accuracy: 0.1651 - val_loss: 10.2020 - val_accuracy: 0.4771\n",
      "Epoch 2/1000\n",
      "2/2 [==============================] - 0s 45ms/step - loss: 107.7111 - accuracy: 0.4771 - val_loss: 1.2963 - val_accuracy: 0.4771\n",
      "Epoch 3/1000\n",
      "2/2 [==============================] - 0s 63ms/step - loss: 1.0766 - accuracy: 0.4771 - val_loss: 1.2551 - val_accuracy: 0.5229\n",
      "Epoch 4/1000\n",
      "2/2 [==============================] - 0s 45ms/step - loss: 0.7851 - accuracy: 0.6422 - val_loss: 1.1701 - val_accuracy: 0.5229\n",
      "Epoch 5/1000\n",
      "2/2 [==============================] - 0s 45ms/step - loss: 0.8561 - accuracy: 0.5138 - val_loss: 1.1715 - val_accuracy: 0.5229\n",
      "Epoch 6/1000\n",
      "2/2 [==============================] - 0s 46ms/step - loss: 0.6554 - accuracy: 0.6881 - val_loss: 1.1266 - val_accuracy: 0.4771\n",
      "Epoch 7/1000\n",
      "2/2 [==============================] - 0s 45ms/step - loss: 1.0926 - accuracy: 0.4495 - val_loss: 1.2173 - val_accuracy: 0.5229\n",
      "Epoch 8/1000\n",
      "2/2 [==============================] - 0s 45ms/step - loss: 0.7281 - accuracy: 0.5780 - val_loss: 1.1565 - val_accuracy: 0.5229\n",
      "Epoch 9/1000\n",
      "2/2 [==============================] - 0s 45ms/step - loss: 0.6569 - accuracy: 0.6422 - val_loss: 1.1252 - val_accuracy: 0.5229\n",
      "Epoch 10/1000\n",
      "2/2 [==============================] - 0s 46ms/step - loss: 0.6434 - accuracy: 0.6239 - val_loss: 1.1171 - val_accuracy: 0.5229\n",
      "Epoch 11/1000\n",
      "2/2 [==============================] - 0s 63ms/step - loss: 0.8252 - accuracy: 0.6514 - val_loss: 1.1388 - val_accuracy: 0.5688\n",
      "Epoch 12/1000\n",
      "2/2 [==============================] - 0s 45ms/step - loss: 0.5844 - accuracy: 0.7248 - val_loss: 1.1048 - val_accuracy: 0.4771\n",
      "Epoch 13/1000\n",
      "2/2 [==============================] - 0s 46ms/step - loss: 0.6152 - accuracy: 0.5688 - val_loss: 1.1338 - val_accuracy: 0.5229\n",
      "Epoch 14/1000\n",
      "2/2 [==============================] - 0s 45ms/step - loss: 0.5342 - accuracy: 0.8440 - val_loss: 1.0705 - val_accuracy: 0.5229\n",
      "Epoch 15/1000\n",
      "2/2 [==============================] - 0s 47ms/step - loss: 0.5922 - accuracy: 0.7890 - val_loss: 1.0663 - val_accuracy: 0.5229\n",
      "Epoch 16/1000\n",
      "2/2 [==============================] - 0s 46ms/step - loss: 1.2831 - accuracy: 0.5413 - val_loss: 1.0875 - val_accuracy: 0.5229\n",
      "Epoch 17/1000\n",
      "2/2 [==============================] - 0s 46ms/step - loss: 0.6085 - accuracy: 0.7706 - val_loss: 1.0322 - val_accuracy: 0.5321\n",
      "Epoch 18/1000\n",
      "2/2 [==============================] - 0s 44ms/step - loss: 0.5658 - accuracy: 0.6514 - val_loss: 1.0557 - val_accuracy: 0.5229\n",
      "Epoch 19/1000\n",
      "2/2 [==============================] - 0s 46ms/step - loss: 0.5016 - accuracy: 0.8532 - val_loss: 0.9710 - val_accuracy: 0.5229\n",
      "Epoch 20/1000\n",
      "2/2 [==============================] - 0s 46ms/step - loss: 0.7190 - accuracy: 0.7706 - val_loss: 1.0246 - val_accuracy: 0.5229\n",
      "Epoch 21/1000\n",
      "2/2 [==============================] - 0s 48ms/step - loss: 0.7759 - accuracy: 0.6330 - val_loss: 1.0137 - val_accuracy: 0.5229\n",
      "Epoch 22/1000\n",
      "2/2 [==============================] - 0s 46ms/step - loss: 0.5134 - accuracy: 0.9450 - val_loss: 0.9534 - val_accuracy: 0.5229\n",
      "Epoch 23/1000\n",
      "2/2 [==============================] - 0s 46ms/step - loss: 0.3538 - accuracy: 0.8899 - val_loss: 0.8761 - val_accuracy: 0.5229\n",
      "Epoch 24/1000\n",
      "2/2 [==============================] - 0s 64ms/step - loss: 2.4406 - accuracy: 0.6330 - val_loss: 0.8530 - val_accuracy: 0.5963\n",
      "Epoch 25/1000\n",
      "2/2 [==============================] - 0s 62ms/step - loss: 0.5439 - accuracy: 0.7064 - val_loss: 0.8366 - val_accuracy: 0.6789\n",
      "Epoch 26/1000\n",
      "2/2 [==============================] - 0s 46ms/step - loss: 0.5479 - accuracy: 0.7615 - val_loss: 0.9043 - val_accuracy: 0.5505\n",
      "Epoch 27/1000\n",
      "2/2 [==============================] - 0s 46ms/step - loss: 0.4791 - accuracy: 0.8257 - val_loss: 0.7973 - val_accuracy: 0.5321\n",
      "Epoch 28/1000\n",
      "2/2 [==============================] - 0s 46ms/step - loss: 0.3753 - accuracy: 0.8440 - val_loss: 0.8362 - val_accuracy: 0.5321\n",
      "Epoch 29/1000\n",
      "2/2 [==============================] - 0s 46ms/step - loss: 0.2733 - accuracy: 0.9450 - val_loss: 0.7829 - val_accuracy: 0.5229\n",
      "Epoch 30/1000\n",
      "2/2 [==============================] - 0s 46ms/step - loss: 0.4718 - accuracy: 0.8349 - val_loss: 0.7852 - val_accuracy: 0.5229\n",
      "Epoch 31/1000\n",
      "2/2 [==============================] - 0s 47ms/step - loss: 1.2060 - accuracy: 0.5688 - val_loss: 0.7540 - val_accuracy: 0.5229\n",
      "Epoch 32/1000\n",
      "2/2 [==============================] - 0s 47ms/step - loss: 0.5675 - accuracy: 0.7798 - val_loss: 0.7428 - val_accuracy: 0.5229\n",
      "Epoch 33/1000\n",
      "2/2 [==============================] - 0s 46ms/step - loss: 0.5280 - accuracy: 0.6422 - val_loss: 0.7935 - val_accuracy: 0.5229\n",
      "Epoch 34/1000\n",
      "2/2 [==============================] - 0s 48ms/step - loss: 0.7381 - accuracy: 0.6330 - val_loss: 0.7548 - val_accuracy: 0.5229\n",
      "Epoch 35/1000\n",
      "2/2 [==============================] - 0s 45ms/step - loss: 0.3321 - accuracy: 0.9358 - val_loss: 0.7364 - val_accuracy: 0.5229\n",
      "Epoch 36/1000\n",
      "2/2 [==============================] - 0s 44ms/step - loss: 0.6259 - accuracy: 0.8257 - val_loss: 0.7497 - val_accuracy: 0.5229\n",
      "Epoch 37/1000\n",
      "2/2 [==============================] - 0s 45ms/step - loss: 1.0079 - accuracy: 0.6239 - val_loss: 0.7234 - val_accuracy: 0.5229\n",
      "Epoch 38/1000\n",
      "2/2 [==============================] - 0s 45ms/step - loss: 0.3447 - accuracy: 0.9266 - val_loss: 0.7116 - val_accuracy: 0.5229\n",
      "Epoch 39/1000\n",
      "2/2 [==============================] - 0s 45ms/step - loss: 0.3745 - accuracy: 0.8532 - val_loss: 0.7501 - val_accuracy: 0.5229\n",
      "Epoch 40/1000\n",
      "2/2 [==============================] - 0s 46ms/step - loss: 0.3586 - accuracy: 0.7982 - val_loss: 0.7241 - val_accuracy: 0.5596\n",
      "Epoch 41/1000\n",
      "2/2 [==============================] - 0s 63ms/step - loss: 0.1347 - accuracy: 0.9725 - val_loss: 0.7158 - val_accuracy: 0.6972\n",
      "Epoch 42/1000\n",
      "2/2 [==============================] - 0s 44ms/step - loss: 0.0956 - accuracy: 0.9633 - val_loss: 0.7146 - val_accuracy: 0.5229\n",
      "Epoch 43/1000\n",
      "2/2 [==============================] - 0s 63ms/step - loss: 0.0686 - accuracy: 1.0000 - val_loss: 0.6833 - val_accuracy: 0.7248\n",
      "Epoch 44/1000\n",
      "2/2 [==============================] - 0s 44ms/step - loss: 0.0178 - accuracy: 0.9908 - val_loss: 0.7302 - val_accuracy: 0.5229\n",
      "Epoch 45/1000\n",
      "2/2 [==============================] - 0s 45ms/step - loss: 0.4718 - accuracy: 0.8073 - val_loss: 0.7729 - val_accuracy: 0.4771\n",
      "Epoch 46/1000\n",
      "2/2 [==============================] - 0s 48ms/step - loss: 0.1762 - accuracy: 0.9358 - val_loss: 0.7436 - val_accuracy: 0.4771\n",
      "Epoch 47/1000\n",
      "2/2 [==============================] - 0s 45ms/step - loss: 0.0627 - accuracy: 0.9817 - val_loss: 0.7503 - val_accuracy: 0.4771\n",
      "Epoch 48/1000\n",
      "2/2 [==============================] - 0s 46ms/step - loss: 0.0216 - accuracy: 0.9908 - val_loss: 0.7509 - val_accuracy: 0.5413\n",
      "Epoch 49/1000\n",
      "2/2 [==============================] - 0s 62ms/step - loss: 0.0058 - accuracy: 1.0000 - val_loss: 0.7508 - val_accuracy: 0.7339\n",
      "Epoch 50/1000\n",
      "2/2 [==============================] - 0s 44ms/step - loss: 0.0016 - accuracy: 1.0000 - val_loss: 0.7339 - val_accuracy: 0.5780\n",
      "Epoch 51/1000\n",
      "2/2 [==============================] - 0s 46ms/step - loss: 6.0013e-04 - accuracy: 1.0000 - val_loss: 0.7062 - val_accuracy: 0.5229\n",
      "Epoch 52/1000\n",
      "2/2 [==============================] - 0s 45ms/step - loss: 2.1996e-04 - accuracy: 1.0000 - val_loss: 0.6973 - val_accuracy: 0.5229\n",
      "Epoch 53/1000\n",
      "2/2 [==============================] - 0s 46ms/step - loss: 1.1098e-04 - accuracy: 1.0000 - val_loss: 0.6923 - val_accuracy: 0.5229\n",
      "Epoch 54/1000\n",
      "2/2 [==============================] - 0s 45ms/step - loss: 8.6928e-05 - accuracy: 1.0000 - val_loss: 0.6885 - val_accuracy: 0.5229\n",
      "Epoch 55/1000\n",
      "2/2 [==============================] - 0s 46ms/step - loss: 6.2845e-05 - accuracy: 1.0000 - val_loss: 0.6873 - val_accuracy: 0.5229\n",
      "Epoch 56/1000\n",
      "2/2 [==============================] - 0s 46ms/step - loss: 4.9274e-05 - accuracy: 1.0000 - val_loss: 0.6845 - val_accuracy: 0.5229\n",
      "Epoch 57/1000\n",
      "2/2 [==============================] - 0s 47ms/step - loss: 3.8485e-05 - accuracy: 1.0000 - val_loss: 0.6837 - val_accuracy: 0.5229\n",
      "Epoch 58/1000\n"
     ]
    },
    {
     "name": "stdout",
     "output_type": "stream",
     "text": [
      "2/2 [==============================] - 0s 45ms/step - loss: 3.2310e-05 - accuracy: 1.0000 - val_loss: 0.6784 - val_accuracy: 0.5229\n",
      "Epoch 59/1000\n",
      "2/2 [==============================] - 0s 45ms/step - loss: 2.8912e-05 - accuracy: 1.0000 - val_loss: 0.6938 - val_accuracy: 0.5229\n",
      "Epoch 60/1000\n",
      "2/2 [==============================] - 0s 45ms/step - loss: 2.4032e-05 - accuracy: 1.0000 - val_loss: 0.6870 - val_accuracy: 0.5229\n",
      "Epoch 61/1000\n",
      "2/2 [==============================] - 0s 45ms/step - loss: 1.8942e-05 - accuracy: 1.0000 - val_loss: 0.6839 - val_accuracy: 0.5229\n",
      "Epoch 62/1000\n",
      "2/2 [==============================] - 0s 46ms/step - loss: 1.6639e-05 - accuracy: 1.0000 - val_loss: 0.6722 - val_accuracy: 0.5229\n",
      "Epoch 63/1000\n",
      "2/2 [==============================] - 0s 46ms/step - loss: 1.3598e-05 - accuracy: 1.0000 - val_loss: 0.6820 - val_accuracy: 0.5229\n",
      "Epoch 64/1000\n",
      "2/2 [==============================] - 0s 47ms/step - loss: 1.2141e-05 - accuracy: 1.0000 - val_loss: 0.6779 - val_accuracy: 0.5229\n",
      "Epoch 65/1000\n",
      "2/2 [==============================] - 0s 45ms/step - loss: 1.0663e-05 - accuracy: 1.0000 - val_loss: 0.6710 - val_accuracy: 0.5229\n",
      "Epoch 66/1000\n",
      "2/2 [==============================] - 0s 44ms/step - loss: 8.6395e-06 - accuracy: 1.0000 - val_loss: 0.6729 - val_accuracy: 0.5229\n",
      "Epoch 67/1000\n",
      "2/2 [==============================] - 0s 46ms/step - loss: 7.9024e-06 - accuracy: 1.0000 - val_loss: 0.6687 - val_accuracy: 0.5229\n",
      "Epoch 68/1000\n",
      "2/2 [==============================] - 0s 45ms/step - loss: 7.8336e-06 - accuracy: 1.0000 - val_loss: 0.6678 - val_accuracy: 0.5229\n",
      "Epoch 69/1000\n",
      "2/2 [==============================] - 0s 44ms/step - loss: 6.7028e-06 - accuracy: 1.0000 - val_loss: 0.6658 - val_accuracy: 0.6514\n",
      "Epoch 70/1000\n",
      "2/2 [==============================] - 0s 46ms/step - loss: 5.7788e-06 - accuracy: 1.0000 - val_loss: 0.6653 - val_accuracy: 0.6514\n",
      "Epoch 71/1000\n",
      "2/2 [==============================] - 0s 47ms/step - loss: 5.4200e-06 - accuracy: 1.0000 - val_loss: 0.6660 - val_accuracy: 0.5321\n",
      "Epoch 72/1000\n",
      "2/2 [==============================] - 0s 45ms/step - loss: 5.1565e-06 - accuracy: 1.0000 - val_loss: 0.6671 - val_accuracy: 0.6147\n",
      "Epoch 73/1000\n",
      "2/2 [==============================] - 0s 63ms/step - loss: 4.7333e-06 - accuracy: 1.0000 - val_loss: 0.6638 - val_accuracy: 0.7431\n",
      "Epoch 74/1000\n",
      "2/2 [==============================] - 0s 45ms/step - loss: 4.7693e-06 - accuracy: 1.0000 - val_loss: 0.6823 - val_accuracy: 0.4954\n",
      "Epoch 75/1000\n",
      "2/2 [==============================] - 0s 45ms/step - loss: 4.4806e-06 - accuracy: 1.0000 - val_loss: 0.6646 - val_accuracy: 0.7064\n",
      "Epoch 76/1000\n",
      "2/2 [==============================] - 0s 46ms/step - loss: 3.7326e-06 - accuracy: 1.0000 - val_loss: 0.6728 - val_accuracy: 0.5138\n",
      "Epoch 77/1000\n",
      "2/2 [==============================] - 0s 46ms/step - loss: 3.3509e-06 - accuracy: 1.0000 - val_loss: 0.6616 - val_accuracy: 0.6514\n",
      "Epoch 78/1000\n",
      "2/2 [==============================] - 0s 45ms/step - loss: 2.5263e-06 - accuracy: 1.0000 - val_loss: 0.6615 - val_accuracy: 0.5963\n",
      "Epoch 79/1000\n",
      "2/2 [==============================] - 0s 65ms/step - loss: 2.3710e-06 - accuracy: 1.0000 - val_loss: 0.6607 - val_accuracy: 0.7523\n",
      "Epoch 80/1000\n",
      "2/2 [==============================] - 0s 46ms/step - loss: 2.2190e-06 - accuracy: 1.0000 - val_loss: 0.6653 - val_accuracy: 0.5229\n",
      "Epoch 81/1000\n",
      "2/2 [==============================] - 0s 45ms/step - loss: 2.0615e-06 - accuracy: 1.0000 - val_loss: 0.6603 - val_accuracy: 0.6972\n",
      "Epoch 82/1000\n",
      "2/2 [==============================] - 0s 48ms/step - loss: 1.5978e-06 - accuracy: 1.0000 - val_loss: 0.6587 - val_accuracy: 0.7156\n",
      "Epoch 83/1000\n",
      "2/2 [==============================] - 0s 46ms/step - loss: 1.6678e-06 - accuracy: 1.0000 - val_loss: 0.6609 - val_accuracy: 0.6881\n",
      "Epoch 84/1000\n",
      "2/2 [==============================] - 0s 47ms/step - loss: 1.3725e-06 - accuracy: 1.0000 - val_loss: 0.6585 - val_accuracy: 0.7248\n",
      "Epoch 85/1000\n",
      "2/2 [==============================] - 0s 52ms/step - loss: 1.4622e-06 - accuracy: 1.0000 - val_loss: 0.6978 - val_accuracy: 0.4862\n",
      "Epoch 86/1000\n",
      "2/2 [==============================] - 0s 51ms/step - loss: 1.2358e-06 - accuracy: 1.0000 - val_loss: 0.6579 - val_accuracy: 0.6881\n",
      "Epoch 87/1000\n",
      "2/2 [==============================] - 0s 53ms/step - loss: 9.8757e-07 - accuracy: 1.0000 - val_loss: 0.6565 - val_accuracy: 0.7248\n",
      "Epoch 88/1000\n",
      "2/2 [==============================] - 0s 49ms/step - loss: 9.5476e-07 - accuracy: 1.0000 - val_loss: 0.6558 - val_accuracy: 0.7156\n",
      "Epoch 89/1000\n",
      "2/2 [==============================] - 0s 46ms/step - loss: 7.7650e-07 - accuracy: 1.0000 - val_loss: 0.6555 - val_accuracy: 0.7339\n",
      "Epoch 90/1000\n",
      "2/2 [==============================] - 0s 44ms/step - loss: 7.3166e-07 - accuracy: 1.0000 - val_loss: 0.6603 - val_accuracy: 0.6330\n",
      "Epoch 91/1000\n",
      "2/2 [==============================] - 0s 44ms/step - loss: 6.5073e-07 - accuracy: 1.0000 - val_loss: 0.6591 - val_accuracy: 0.6330\n",
      "Epoch 92/1000\n",
      "2/2 [==============================] - 0s 45ms/step - loss: 6.9010e-07 - accuracy: 1.0000 - val_loss: 0.6707 - val_accuracy: 0.5138\n",
      "Epoch 93/1000\n",
      "2/2 [==============================] - 0s 44ms/step - loss: 6.3870e-07 - accuracy: 1.0000 - val_loss: 0.6684 - val_accuracy: 0.5138\n",
      "Epoch 94/1000\n",
      "2/2 [==============================] - 0s 45ms/step - loss: 5.4574e-07 - accuracy: 1.0000 - val_loss: 0.6685 - val_accuracy: 0.5138\n",
      "Epoch 95/1000\n",
      "2/2 [==============================] - 0s 44ms/step - loss: 4.9652e-07 - accuracy: 1.0000 - val_loss: 0.6636 - val_accuracy: 0.5505\n",
      "Epoch 96/1000\n",
      "2/2 [==============================] - 0s 45ms/step - loss: 6.2448e-07 - accuracy: 1.0000 - val_loss: 0.7178 - val_accuracy: 0.4771\n",
      "Epoch 97/1000\n",
      "2/2 [==============================] - 0s 46ms/step - loss: 5.0418e-07 - accuracy: 1.0000 - val_loss: 0.6660 - val_accuracy: 0.5138\n",
      "Epoch 98/1000\n",
      "2/2 [==============================] - 0s 46ms/step - loss: 4.1340e-07 - accuracy: 1.0000 - val_loss: 0.6636 - val_accuracy: 0.5505\n",
      "Epoch 99/1000\n",
      "2/2 [==============================] - 0s 45ms/step - loss: 3.3357e-07 - accuracy: 1.0000 - val_loss: 0.6578 - val_accuracy: 0.6239\n",
      "Epoch 100/1000\n",
      "2/2 [==============================] - 0s 46ms/step - loss: 3.0294e-07 - accuracy: 1.0000 - val_loss: 0.6698 - val_accuracy: 0.5138\n",
      "Epoch 101/1000\n",
      "2/2 [==============================] - 0s 46ms/step - loss: 2.6576e-07 - accuracy: 1.0000 - val_loss: 0.6604 - val_accuracy: 0.5596\n",
      "Epoch 102/1000\n",
      "2/2 [==============================] - 0s 44ms/step - loss: 2.7560e-07 - accuracy: 1.0000 - val_loss: 0.6544 - val_accuracy: 0.6881\n",
      "Epoch 103/1000\n",
      "2/2 [==============================] - 0s 49ms/step - loss: 2.3732e-07 - accuracy: 1.0000 - val_loss: 0.6704 - val_accuracy: 0.5046\n",
      "Epoch 104/1000\n",
      "2/2 [==============================] - 0s 46ms/step - loss: 2.4061e-07 - accuracy: 1.0000 - val_loss: 0.6646 - val_accuracy: 0.5229\n",
      "Epoch 105/1000\n",
      "2/2 [==============================] - 0s 45ms/step - loss: 2.2201e-07 - accuracy: 1.0000 - val_loss: 0.6543 - val_accuracy: 0.6330\n",
      "Epoch 106/1000\n",
      "2/2 [==============================] - 0s 46ms/step - loss: 1.6186e-07 - accuracy: 1.0000 - val_loss: 0.6579 - val_accuracy: 0.5688\n",
      "Epoch 107/1000\n",
      "2/2 [==============================] - 0s 44ms/step - loss: 1.9358e-07 - accuracy: 1.0000 - val_loss: 0.6904 - val_accuracy: 0.4954\n",
      "Epoch 108/1000\n",
      "2/2 [==============================] - 0s 45ms/step - loss: 1.3671e-07 - accuracy: 1.0000 - val_loss: 0.6817 - val_accuracy: 0.4954\n",
      "Epoch 109/1000\n",
      "2/2 [==============================] - 0s 45ms/step - loss: 1.2905e-07 - accuracy: 1.0000 - val_loss: 0.6709 - val_accuracy: 0.5046\n",
      "Epoch 110/1000\n",
      "2/2 [==============================] - 0s 46ms/step - loss: 1.2030e-07 - accuracy: 1.0000 - val_loss: 0.6662 - val_accuracy: 0.5138\n",
      "Epoch 111/1000\n",
      "2/2 [==============================] - 0s 46ms/step - loss: 1.1921e-07 - accuracy: 1.0000 - val_loss: 0.6658 - val_accuracy: 0.5138\n",
      "Epoch 112/1000\n",
      "2/2 [==============================] - 0s 46ms/step - loss: 9.0774e-08 - accuracy: 1.0000 - val_loss: 0.6636 - val_accuracy: 0.5321\n",
      "Epoch 113/1000\n",
      "2/2 [==============================] - 0s 45ms/step - loss: 9.8430e-08 - accuracy: 1.0000 - val_loss: 0.6693 - val_accuracy: 0.5046\n",
      "Epoch 114/1000\n"
     ]
    },
    {
     "name": "stdout",
     "output_type": "stream",
     "text": [
      "2/2 [==============================] - 0s 45ms/step - loss: 1.2796e-07 - accuracy: 1.0000 - val_loss: 0.7082 - val_accuracy: 0.4862\n",
      "Epoch 115/1000\n",
      "2/2 [==============================] - 0s 46ms/step - loss: 8.3118e-08 - accuracy: 1.0000 - val_loss: 0.7098 - val_accuracy: 0.4862\n",
      "Epoch 116/1000\n",
      "2/2 [==============================] - 0s 45ms/step - loss: 8.2025e-08 - accuracy: 1.0000 - val_loss: 0.6926 - val_accuracy: 0.4954\n",
      "Epoch 117/1000\n",
      "2/2 [==============================] - 0s 45ms/step - loss: 6.7807e-08 - accuracy: 1.0000 - val_loss: 0.7071 - val_accuracy: 0.4862\n",
      "Epoch 118/1000\n",
      "2/2 [==============================] - 0s 46ms/step - loss: 8.0931e-08 - accuracy: 1.0000 - val_loss: 0.7193 - val_accuracy: 0.4862\n",
      "Epoch 119/1000\n",
      "2/2 [==============================] - 0s 45ms/step - loss: 4.8121e-08 - accuracy: 1.0000 - val_loss: 0.6924 - val_accuracy: 0.4954\n",
      "Epoch 120/1000\n",
      "2/2 [==============================] - 0s 46ms/step - loss: 5.2496e-08 - accuracy: 1.0000 - val_loss: 0.6792 - val_accuracy: 0.4954\n",
      "Epoch 121/1000\n",
      "2/2 [==============================] - 0s 45ms/step - loss: 3.9372e-08 - accuracy: 1.0000 - val_loss: 0.6792 - val_accuracy: 0.4954\n",
      "Epoch 122/1000\n",
      "2/2 [==============================] - 0s 46ms/step - loss: 3.9372e-08 - accuracy: 1.0000 - val_loss: 0.6717 - val_accuracy: 0.5046\n",
      "Epoch 123/1000\n",
      "2/2 [==============================] - 0s 45ms/step - loss: 4.7028e-08 - accuracy: 1.0000 - val_loss: 0.6692 - val_accuracy: 0.5138\n",
      "Epoch 124/1000\n",
      "2/2 [==============================] - 0s 45ms/step - loss: 3.4997e-08 - accuracy: 1.0000 - val_loss: 0.6642 - val_accuracy: 0.5138\n",
      "Epoch 125/1000\n",
      "2/2 [==============================] - 0s 44ms/step - loss: 3.3904e-08 - accuracy: 1.0000 - val_loss: 0.6656 - val_accuracy: 0.5138\n",
      "Epoch 126/1000\n",
      "2/2 [==============================] - 0s 45ms/step - loss: 3.4997e-08 - accuracy: 1.0000 - val_loss: 0.6912 - val_accuracy: 0.4954\n",
      "Epoch 127/1000\n",
      "2/2 [==============================] - 0s 45ms/step - loss: 3.2810e-08 - accuracy: 1.0000 - val_loss: 0.6780 - val_accuracy: 0.5046\n",
      "Epoch 128/1000\n",
      "2/2 [==============================] - 0s 46ms/step - loss: 2.2967e-08 - accuracy: 1.0000 - val_loss: 0.6673 - val_accuracy: 0.5138\n",
      "Epoch 129/1000\n",
      "2/2 [==============================] - 0s 54ms/step - loss: 2.2967e-08 - accuracy: 1.0000 - val_loss: 0.6636 - val_accuracy: 0.5138\n",
      "2/2 [==============================] - 0s 5ms/step - loss: 0.6607 - accuracy: 0.7523\n",
      "np.shape(X_test)= (105, 480, 1)\n",
      "Accuracy=  0.752293586730957\n"
     ]
    }
   ],
   "source": [
    "#VGG16_1D\n",
    "\n",
    "accuracy=0\n",
    "acc_crs=np.array([])\n",
    "##for i in range (10):\n",
    "##    if accuracy<0.2 :\n",
    "\n",
    "verbose, epochs, batch_size = 1, 1000, 80\n",
    "n_timesteps, n_features, n_outputs = X_train.shape[1], X_train.shape[2], y_train_cat.shape[1]\n",
    "steps_per_epoch = len(X_train)//batch_size\n",
    "validation_steps = len(X_valid)//batch_size # if you have test data\n",
    "\n",
    "\n",
    "\n",
    "model_crs = Sequential()\n",
    "#model_crs.add(Conv1D(input_shape=x_train.shape[1:],filters=64,kernel_size=9,padding=\"same\", activation=\"relu\"))\n",
    "model_crs.add(Conv1D(filters=256, kernel_size=12, strides=1, activation='relu', input_shape=(n_timesteps,n_features))) #Replaced\n",
    "model_crs.add(BatchNormalization())\n",
    "model_crs.add(MaxPooling1D(pool_size=2,strides=3))\n",
    "\n",
    "model_crs.add(Conv1D(filters=64, kernel_size=7, strides=1, padding=\"same\", activation=\"relu\"))\n",
    "model_crs.add(BatchNormalization())\n",
    "model_crs.add(MaxPooling1D(pool_size=2,strides=2))\n",
    "\n",
    "model_crs.add(Conv1D(filters=64, kernel_size=10, strides=1, padding=\"same\", activation=\"relu\"))\n",
    "model_crs.add(Conv1D(filters=128, kernel_size=5, strides=2, padding=\"same\", activation=\"relu\"))\n",
    "model_crs.add(MaxPooling1D(pool_size=2,strides=2))\n",
    "\n",
    "model_crs.add(Conv1D(filters=512, kernel_size=15, strides=1, padding=\"same\", activation=\"relu\"))\n",
    "model_crs.add(MaxPooling1D(pool_size=2,strides=2))\n",
    "\n",
    "model_crs.add(Conv1D(filters=1024, kernel_size=5, strides=1, padding=\"same\", activation=\"relu\"))\n",
    "#model_crs.add(Conv1D(filters=128, kernel_size=3, strides=1, padding=\"same\", activation=\"relu\"))\n",
    "\n",
    "\n",
    "model_crs.add(Flatten())\n",
    "model_crs.add(Dropout(0.1))\n",
    "model_crs.add(Dense(units=512,activation=\"relu\"))\n",
    "#model_crs.add(Dense(units=2048,activation=\"relu\"))\n",
    "model_crs.add(Dense(n_outputs, activation='softmax'))   #Replaced here from old Model\n",
    "\n",
    "model_crs.compile(optimizer='rmsprop', loss='categorical_crossentropy', metrics=['accuracy'])\n",
    "# fit network   #CategoricalCrossentropy #sparse_categorical_crossentropy #SparseCategoricalCrossentropy\n",
    "\n",
    "earlystopping = callbacks.EarlyStopping(monitor =\"val_accuracy\", mode =\"max\", patience = 50, restore_best_weights = True)\n",
    "\n",
    "model_crs.fit(X_train, y_train_cat, epochs=epochs, batch_size=batch_size, verbose=verbose, validation_data = (X_valid, y_valid_cat), callbacks =[earlystopping])\n",
    "\n",
    "_, accuracy = model_crs.evaluate(X_valid, y_valid_cat, batch_size=batch_size, verbose=1)\n",
    "\n",
    "print('np.shape(X_test)=',np.shape(X_test))\n",
    "\n",
    "print('Accuracy= ', accuracy)\n",
    "\n",
    "#y_pred_vgg = model_crs.predict_classes(X_test)\n"
   ]
  },
  {
   "cell_type": "code",
   "execution_count": 28,
   "metadata": {},
   "outputs": [
    {
     "name": "stdout",
     "output_type": "stream",
     "text": [
      "4/4 [==============================] - 0s 42ms/step\n",
      "array([[32, 19],\n",
      "       [19, 35]], dtype=int64)\n",
      "              precision    recall  f1-score   support\n",
      "\n",
      "           2       0.63      0.63      0.63        51\n",
      "           3       0.65      0.65      0.65        54\n",
      "\n",
      "    accuracy                           0.64       105\n",
      "   macro avg       0.64      0.64      0.64       105\n",
      "weighted avg       0.64      0.64      0.64       105\n",
      "\n"
     ]
    }
   ],
   "source": [
    "predict_x=model_crs.predict(X_test)              # Function 1\n",
    "\n",
    "y_pred_crs=maxindx(predict_x)                    # function from augment.py to remove 0 index predictions\n",
    "\n",
    "#y_pred_crs = model_crs.predict_classes(X_test)\n",
    "\n",
    "cm = confusion_matrix(y_test, y_pred_crs)\n",
    "fullprint(cm)\n",
    "acc3=accuracy_score(y_test, y_pred_crs)\n",
    "\n",
    "print(classification_report(y_test, y_pred_crs))\n",
    "\n",
    "#sns.heatmap(cm, annot=True)\n",
    "\n",
    "#plt.imshow(cm)"
   ]
  },
  {
   "cell_type": "code",
   "execution_count": null,
   "metadata": {},
   "outputs": [],
   "source": []
  }
 ],
 "metadata": {
  "celltoolbar": "Raw Cell Format",
  "kernelspec": {
   "display_name": "Python 3 (ipykernel)",
   "language": "python",
   "name": "python3"
  },
  "language_info": {
   "codemirror_mode": {
    "name": "ipython",
    "version": 3
   },
   "file_extension": ".py",
   "mimetype": "text/x-python",
   "name": "python",
   "nbconvert_exporter": "python",
   "pygments_lexer": "ipython3",
   "version": "3.9.7"
  }
 },
 "nbformat": 4,
 "nbformat_minor": 4
}
