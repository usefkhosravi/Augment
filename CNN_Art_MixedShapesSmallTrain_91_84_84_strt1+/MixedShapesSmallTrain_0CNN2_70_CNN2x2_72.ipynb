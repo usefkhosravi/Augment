{
 "cells": [
  {
   "cell_type": "markdown",
   "metadata": {},
   "source": [
    "import time\n",
    "plc=1\n",
    "time.sleep(3000*plc)         #run after 1 houre = 3600 seconds"
   ]
  },
  {
   "cell_type": "code",
   "execution_count": 1,
   "metadata": {},
   "outputs": [
    {
     "data": {
      "text/html": [
       "<style>#notebook { padding-top:0px !important; } .container { width:100% !important; } .end_space { min-height:0px !important; } html, body, .container{ margin:0!important;padding:0!important;}</style>"
      ],
      "text/plain": [
       "<IPython.core.display.HTML object>"
      ]
     },
     "metadata": {},
     "output_type": "display_data"
    }
   ],
   "source": [
    "import os\n",
    "import glob\n",
    "import scipy\n",
    "import random\n",
    "import bisect\n",
    "import numpy as np\n",
    "import pandas as pd\n",
    "import seaborn as sns\n",
    "from scipy import signal\n",
    "from scipy.signal import find_peaks\n",
    "import matplotlib.pyplot as plt\n",
    "from preprocess import *                         #ماژول استخراج پنجره ها\n",
    "from data import *                          #ماژول محلی ورود داده ها\n",
    "from augment import *                            #ماژول های داده افزایی\n",
    "from lstm_cnn import *                           #ماژول های داده افزایی با lstm_cnn\n",
    "import augment\n",
    "import importlib\n",
    "importlib.reload(augment)\n",
    "import tensorflow as tf\n",
    "from tensorflow import keras\n",
    "from tensorflow.keras.layers import BatchNormalization\n",
    "from sklearn.model_selection import train_test_split\n",
    "from sklearn.neural_network import MLPClassifier\n",
    "from sklearn.datasets import make_classification\n",
    "from sklearn.metrics import confusion_matrix, accuracy_score, classification_report,recall_score,precision_score\n",
    "from tensorflow.keras import callbacks\n",
    "from tensorflow.keras import layers\n",
    "from tensorflow.keras.models import Sequential\n",
    "from tensorflow.keras.layers import Convolution2D,Conv1D,Dropout,MaxPooling1D,MaxPooling2D,Flatten,Dense\n",
    "from tensorflow.keras import backend as K\n",
    "from tensorflow.keras.utils import to_categorical\n",
    "from tensorflow.keras.models import load_model\n",
    "cwd = os.getcwd() #\n",
    "fullscrn()"
   ]
  },
  {
   "cell_type": "markdown",
   "metadata": {},
   "source": [
    "<h1><center><div style=\"direction:rtl;font-family:B Nazanin\">Importing Data</div></center></h1>"
   ]
  },
  {
   "cell_type": "code",
   "execution_count": 2,
   "metadata": {
    "scrolled": true
   },
   "outputs": [
    {
     "name": "stderr",
     "output_type": "stream",
     "text": [
      "C:\\ProgramData\\Anaconda3\\lib\\site-packages\\pandas\\util\\_decorators.py:311: ParserWarning: Falling back to the 'python' engine because the 'c' engine does not support regex separators (separators > 1 char and different from '\\s+' are interpreted as regex); you can avoid this warning by specifying engine='python'.\n",
      "  return func(*args, **kwargs)\n"
     ]
    },
    {
     "name": "stdout",
     "output_type": "stream",
     "text": [
      "first_train_shape= (100, 1025)\n",
      "first_test_shape= (2425, 1025)\n",
      "classes_quantity= 5\n",
      "tr_lbls=\t {1, 2, 3, 4, 5}\n",
      "Count_labels= [20 20 20 20 20]\n",
      "max(train_feature_Altitude)= 5.0\n",
      "min(train_feature_Altitude)= -2.8941765\n",
      "first_train_sample=\n",
      " [1.        1.1309687 1.1204832 ... 1.0931087 1.1025334 1.1120469]\n",
      "1 20\t2 20\t3 20\t4 20\t5 20\t"
     ]
    }
   ],
   "source": [
    "rate=480\n",
    "cls_num=5\n",
    "btch=20\n",
    "for i in range (1,cls_num+1):\n",
    "    vars()['ecg'+str(i)],vars()['ecg_tst'+str(i)]=MixedShapesSmallTrain(i)\n",
    "\n",
    "os.chdir(cwd)\n",
    "clses_lens=np.array([])\n",
    "i=0                               #جمع آوری داده ها و چاپ تعداد نمونه ی هر کلاس\n",
    "ecg=np.array(ecg1)\n",
    "print(1,len(vars()['ecg'+str(1)]), end='\\t')\n",
    "clses_lens=np.append(clses_lens,len(vars()['ecg'+str(1)]))\n",
    "for i in range (2,cls_num+1):\n",
    "    ecg=np.concatenate((ecg,vars()['ecg'+str(i)]),axis=0)\n",
    "    clses_lens=np.append(clses_lens,len(vars()['ecg'+str(i)]))\n",
    "    print(i,len(vars()['ecg'+str(i)]), end='\\t')\n",
    "\n",
    "mx_sig=max(clses_lens)"
   ]
  },
  {
   "cell_type": "code",
   "execution_count": 3,
   "metadata": {},
   "outputs": [
    {
     "data": {
      "text/plain": [
       "(100, 1026)"
      ]
     },
     "execution_count": 3,
     "metadata": {},
     "output_type": "execute_result"
    }
   ],
   "source": [
    "np.shape(ecg)"
   ]
  },
  {
   "cell_type": "code",
   "execution_count": 4,
   "metadata": {},
   "outputs": [
    {
     "data": {
      "text/plain": [
       "array([1., 1., 1., 1., 1., 1., 1., 1., 1., 1., 1., 1., 1., 1., 1., 1., 1.,\n",
       "       1., 1., 1., 2., 2., 2., 2., 2., 2., 2., 2., 2., 2., 2., 2., 2., 2.,\n",
       "       2., 2., 2., 2., 2., 2., 3., 3., 3., 3., 3., 3., 3., 3., 3., 3., 3.,\n",
       "       3., 3., 3., 3., 3., 3., 3., 3., 3., 4., 4., 4., 4., 4., 4., 4., 4.,\n",
       "       4., 4., 4., 4., 4., 4., 4., 4., 4., 4., 4., 4., 5., 5., 5., 5., 5.,\n",
       "       5., 5., 5., 5., 5., 5., 5., 5., 5., 5., 5., 5., 5., 5., 5.])"
      ]
     },
     "execution_count": 4,
     "metadata": {},
     "output_type": "execute_result"
    }
   ],
   "source": [
    "ecg[:,-1]"
   ]
  },
  {
   "cell_type": "markdown",
   "metadata": {},
   "source": [
    "<h2><center><div style=\"direction:rtl;font-family:B Nazanin\">Base Train windows</div></center></h1>"
   ]
  },
  {
   "cell_type": "code",
   "execution_count": 5,
   "metadata": {},
   "outputs": [
    {
     "name": "stdout",
     "output_type": "stream",
     "text": [
      "each class and its windows =\n",
      "1 20\t2 20\t3 20\t4 20\t5 20\t\n",
      " max = 20\n"
     ]
    }
   ],
   "source": [
    "smpl_rte=rate                                              # در ماژول ها نیز همین مقدار ثبت شده\n",
    "i=0\n",
    "windws=np.array([])\n",
    "\n",
    "for cls in range (1,cls_num+1):                                 #ساخت پنجره های داده های آموزش اصلی\n",
    "    vars()['wndws'+str(cls)]=np.array(vars()['ecg'+str(cls)])  \n",
    "    \n",
    "print(\"each class and its windows =\")\n",
    "\n",
    "cls_wndws=np.array([])\n",
    "for cls in range (1,cls_num+1):                                # آرایه ی تعداد پنجره ی هر کلاس\n",
    "    wns=len(vars()['wndws'+str(cls)])\n",
    "    cls_wndws=np.append(cls_wndws,wns)\n",
    "    print(cls, wns, end='\\t')\n",
    "\n",
    "mx_wndws=int(np.max(cls_wndws))                        # حداکثر تعداد پنجره ی موجود بین کلاس ها\n",
    "print('\\n max =', mx_wndws)"
   ]
  },
  {
   "cell_type": "raw",
   "metadata": {},
   "source": [
    "#clses=3                                   #تعیین میزان افزایش نمونه (تولید داده)\n",
    "mx_wndws=int(mx_wndws)  #mx_wndws*0.3  # =classes-1 برای بررسی الگوریتم تعداد کمی کلاس آزمایش شد\n",
    "mx_wndws=2598           #+2\n",
    "print(mx_wndws)"
   ]
  },
  {
   "cell_type": "markdown",
   "metadata": {},
   "source": [
    "<h1><center><div style=\"direction:rtl;font-family:B Nazanin\">Data Augmentation</div></center></h1>"
   ]
  },
  {
   "cell_type": "code",
   "execution_count": 6,
   "metadata": {},
   "outputs": [
    {
     "name": "stdout",
     "output_type": "stream",
     "text": [
      "Up to class  1 train shape =  (20, 1026)\n",
      "Up to class  2 train shape =  (40, 1026)\n",
      "Up to class  3 train shape =  (60, 1026)\n",
      "Up to class  4 train shape =  (80, 1026)\n",
      "Up to class  5 train shape =  (100, 1026)\n"
     ]
    }
   ],
   "source": [
    "smpl_rte=len(wndws1[0])                                        # در ماژول ها نیز همین مقدار ثبت شده\n",
    "\n",
    "#add augmented data to base data\n",
    "xtrain=np.empty((0,len(wndws1[0])), float) \n",
    "for i in range (1,cls_num+1):   \n",
    "    xtrain=np.append(xtrain,vars()['wndws'+str(i)],axis=0)\n",
    "    print('Up to class ', i, 'train shape = ', np.shape(xtrain))"
   ]
  },
  {
   "cell_type": "code",
   "execution_count": 7,
   "metadata": {},
   "outputs": [
    {
     "name": "stdout",
     "output_type": "stream",
     "text": [
      "[ 0 20 20 20 20 20]\n"
     ]
    }
   ],
   "source": [
    "print(np.bincount(np.int16(xtrain[:,-1])))    #تعداد پنجره در هر کلاس از 0 تا 17"
   ]
  },
  {
   "cell_type": "code",
   "execution_count": 8,
   "metadata": {},
   "outputs": [
    {
     "data": {
      "text/plain": [
       "array([1., 1., 1., 1., 1., 1., 1., 1., 1., 1., 1., 1., 1., 1., 1., 1., 1.,\n",
       "       1., 1., 1., 2., 2., 2., 2., 2., 2., 2., 2., 2., 2., 2., 2., 2., 2.,\n",
       "       2., 2., 2., 2., 2., 2., 3., 3., 3., 3., 3., 3., 3., 3., 3., 3., 3.,\n",
       "       3., 3., 3., 3., 3., 3., 3., 3., 3., 4., 4., 4., 4., 4., 4., 4., 4.,\n",
       "       4., 4., 4., 4., 4., 4., 4., 4., 4., 4., 4., 4., 5., 5., 5., 5., 5.,\n",
       "       5., 5., 5., 5., 5., 5., 5., 5., 5., 5., 5., 5., 5., 5., 5.])"
      ]
     },
     "execution_count": 8,
     "metadata": {},
     "output_type": "execute_result"
    }
   ],
   "source": [
    "xtrain[:,-1]"
   ]
  },
  {
   "cell_type": "code",
   "execution_count": 9,
   "metadata": {},
   "outputs": [],
   "source": [
    "mx_aug=np.max(xtrain[:,:-1])\n",
    "mx=np.max(ecg[:,:-1])\n",
    "mn_aug=np.min(xtrain[:,:-1])\n",
    "mn=np.min(ecg[:,:-1])\n",
    "\n",
    "#for i in range (1,cls_num+1):             #نرمالسازی داده های افزایشی\n",
    "xtrain[:,:-1]= 2*(xtrain[:,:-1]-mn_aug)/(mx_aug - mn_aug) - 1"
   ]
  },
  {
   "cell_type": "code",
   "execution_count": 10,
   "metadata": {},
   "outputs": [
    {
     "name": "stdout",
     "output_type": "stream",
     "text": [
      "min trn = -1.0\n",
      "max trn = 1.0\n"
     ]
    }
   ],
   "source": [
    "print('min trn =', np.min(xtrain[:,:-1]))\n",
    "print('max trn =', np.max(xtrain[:,:-1]))"
   ]
  },
  {
   "cell_type": "markdown",
   "metadata": {},
   "source": [
    "<h3><center><div style=\"direction:rtl;font-family:B Nazanin\">Test Windows</div></center></h1>"
   ]
  },
  {
   "cell_type": "code",
   "execution_count": 11,
   "metadata": {},
   "outputs": [],
   "source": [
    "wndws_test=np.empty((0,len(wndws1[0])), float)\n",
    "i=0\n",
    "windws=np.array([])\n",
    "for cls in range (1,cls_num+1):                                 #ساخت پنجره های داده های آموزش اصلی\n",
    "    vars()['wndws_tst'+str(cls)]=np.empty((0,len(wndws1[0])), float)\n",
    "    vars()['wndws_tst'+str(cls)]=np.append(vars()['wndws_tst'+str(cls)],vars()['ecg_tst'+str(cls)],axis=0)   "
   ]
  },
  {
   "cell_type": "code",
   "execution_count": 12,
   "metadata": {},
   "outputs": [
    {
     "name": "stdout",
     "output_type": "stream",
     "text": [
      "\n",
      " cls 1  >> \n",
      "max magnitude class 1  =  3.21213033734455\n",
      "min magnitude class 1  =  -2.8891245088987194\n",
      "after normalizing >>\n",
      "max magnitude class 1  =  1.1627936811981954\n",
      "min magnitude class 1  =  -0.9987129476405349\n",
      "\n",
      " cls 2  >> \n",
      "max magnitude class 2  =  2.1546204563925477\n",
      "min magnitude class 2  =  -3.164165326477745\n",
      "after normalizing >>\n",
      "max magnitude class 2  =  0.7881470428681057\n",
      "min magnitude class 2  =  -1.0961523376316513\n",
      "\n",
      " cls 3  >> \n",
      "max magnitude class 3  =  3.233935799999998\n",
      "min magnitude class 3  =  -2.679114137073017\n",
      "after normalizing >>\n",
      "max magnitude class 3  =  1.1705187563282187\n",
      "min magnitude class 3  =  -0.9243120543381274\n",
      "\n",
      " cls 4  >> \n",
      "max magnitude class 4  =  2.999549600000001\n",
      "min magnitude class 4  =  -3.2747076178584655\n",
      "after normalizing >>\n",
      "max magnitude class 4  =  1.0874821781527864\n",
      "min magnitude class 4  =  -1.1353144283175651\n",
      "\n",
      " cls 5  >> \n",
      "max magnitude class 5  =  2.7770362704260414\n",
      "min magnitude class 5  =  -2.674774892102765\n",
      "after normalizing >>\n",
      "max magnitude class 5  =  1.0086518311176618\n",
      "min magnitude class 5  =  -0.9227747793014799\n",
      "each class and its windows =\n",
      "1 458\t2 654\t3 418\t4 581\t5 314\t\n",
      " max instance in classes of test windows = 654\n"
     ]
    }
   ],
   "source": [
    "#print(np.max(wndws_tst))\n",
    "for i in range (1,cls_num+1):                # Normalization test windows\n",
    "    cls=i\n",
    "    print('\\n cls', i, ' >> ')\n",
    "    print('max magnitude class', i , ' = ' ,np.max(vars()['wndws_tst'+str(cls)][:,:-1]))\n",
    "    print('min magnitude class', i , ' = ' ,np.min(vars()['wndws_tst'+str(cls)][:,:-1]))\n",
    "\n",
    "    vars()['wndws_tst'+str(i)][:,:-1]= 2*(vars()['wndws_tst'+str(i)][:,:-1]-mn_aug)/(mx_aug - mn_aug) - 1\n",
    "    \n",
    "    print('after normalizing >>')\n",
    "    print('max magnitude class', i , ' = ' ,np.max(vars()['wndws_tst'+str(cls)][:,:-1]))\n",
    "    print('min magnitude class', i , ' = ' ,np.min(vars()['wndws_tst'+str(cls)][:,:-1]))\n",
    "    \n",
    "print(\"each class and its windows =\")                    #تجمیع کلاس های تست\n",
    "cls_wndws=np.array([])\n",
    "for cls in range (1,cls_num+1):                                # آرایه ی تعداد پنجره ی هر کلاس\n",
    "    wns=len(vars()['wndws_tst'+str(cls)])\n",
    "    cls_wndws=np.append(cls_wndws,wns)\n",
    "    print(cls, wns, end='\\t')\n",
    "    wndws_test=np.append(wndws_test,vars()['wndws_tst'+str(cls)],axis=0)\n",
    "    \n",
    "mx_wndws=int(np.max(cls_wndws))                        # حداکثر تعداد پنجره ی موجود بین کلاس ها\n",
    "print('\\n max instance in classes of test windows =', mx_wndws)"
   ]
  },
  {
   "cell_type": "code",
   "execution_count": 13,
   "metadata": {},
   "outputs": [
    {
     "name": "stdout",
     "output_type": "stream",
     "text": [
      "min tst = -1.1353144283175651\n",
      "max tst = 1.1705187563282187\n"
     ]
    }
   ],
   "source": [
    "print('min tst =', np.min(wndws_test[:,:-1]))\n",
    "print('max tst =', np.max(wndws_test[:,:-1]))"
   ]
  },
  {
   "cell_type": "code",
   "execution_count": 14,
   "metadata": {},
   "outputs": [
    {
     "data": {
      "text/plain": [
       "2425"
      ]
     },
     "execution_count": 14,
     "metadata": {},
     "output_type": "execute_result"
    }
   ],
   "source": [
    "len(wndws_test)"
   ]
  },
  {
   "cell_type": "code",
   "execution_count": 15,
   "metadata": {},
   "outputs": [
    {
     "data": {
      "text/plain": [
       "(2425, 1026)"
      ]
     },
     "execution_count": 15,
     "metadata": {},
     "output_type": "execute_result"
    }
   ],
   "source": [
    "np.shape(wndws_test)"
   ]
  },
  {
   "cell_type": "code",
   "execution_count": 16,
   "metadata": {},
   "outputs": [],
   "source": [
    "Xtest=wndws_test[:,:-1]\n",
    "ytest=np.int16(wndws_test[:,-1])"
   ]
  },
  {
   "cell_type": "code",
   "execution_count": 17,
   "metadata": {},
   "outputs": [
    {
     "name": "stdout",
     "output_type": "stream",
     "text": [
      "array([1, 1, 1, 1, 1, 1, 1, 1, 1, 1, 1, 1, 1, 1, 1, 1, 1, 1, 1, 1, 1, 1,\n",
      "       1, 1, 1, 1, 1, 1, 1, 1, 1, 1, 1, 1, 1, 1, 1, 1, 1, 1, 1, 1, 1, 1,\n",
      "       1, 1, 1, 1, 1, 1, 1, 1, 1, 1, 1, 1, 1, 1, 1, 1, 1, 1, 1, 1, 1, 1,\n",
      "       1, 1, 1, 1, 1, 1, 1, 1, 1, 1, 1, 1, 1, 1, 1, 1, 1, 1, 1, 1, 1, 1,\n",
      "       1, 1, 1, 1, 1, 1, 1, 1, 1, 1, 1, 1, 1, 1, 1, 1, 1, 1, 1, 1, 1, 1,\n",
      "       1, 1, 1, 1, 1, 1, 1, 1, 1, 1, 1, 1, 1, 1, 1, 1, 1, 1, 1, 1, 1, 1,\n",
      "       1, 1, 1, 1, 1, 1, 1, 1, 1, 1, 1, 1, 1, 1, 1, 1, 1, 1, 1, 1, 1, 1,\n",
      "       1, 1, 1, 1, 1, 1, 1, 1, 1, 1, 1, 1, 1, 1, 1, 1, 1, 1, 1, 1, 1, 1,\n",
      "       1, 1, 1, 1, 1, 1, 1, 1, 1, 1, 1, 1, 1, 1, 1, 1, 1, 1, 1, 1, 1, 1,\n",
      "       1, 1, 1, 1, 1, 1, 1, 1, 1, 1, 1, 1, 1, 1, 1, 1, 1, 1, 1, 1, 1, 1,\n",
      "       1, 1, 1, 1, 1, 1, 1, 1, 1, 1, 1, 1, 1, 1, 1, 1, 1, 1, 1, 1, 1, 1,\n",
      "       1, 1, 1, 1, 1, 1, 1, 1, 1, 1, 1, 1, 1, 1, 1, 1, 1, 1, 1, 1, 1, 1,\n",
      "       1, 1, 1, 1, 1, 1, 1, 1, 1, 1, 1, 1, 1, 1, 1, 1, 1, 1, 1, 1, 1, 1,\n",
      "       1, 1, 1, 1, 1, 1, 1, 1, 1, 1, 1, 1, 1, 1, 1, 1, 1, 1, 1, 1, 1, 1,\n",
      "       1, 1, 1, 1, 1, 1, 1, 1, 1, 1, 1, 1, 1, 1, 1, 1, 1, 1, 1, 1, 1, 1,\n",
      "       1, 1, 1, 1, 1, 1, 1, 1, 1, 1, 1, 1, 1, 1, 1, 1, 1, 1, 1, 1, 1, 1,\n",
      "       1, 1, 1, 1, 1, 1, 1, 1, 1, 1, 1, 1, 1, 1, 1, 1, 1, 1, 1, 1, 1, 1,\n",
      "       1, 1, 1, 1, 1, 1, 1, 1, 1, 1, 1, 1, 1, 1, 1, 1, 1, 1, 1, 1, 1, 1,\n",
      "       1, 1, 1, 1, 1, 1, 1, 1, 1, 1, 1, 1, 1, 1, 1, 1, 1, 1, 1, 1, 1, 1,\n",
      "       1, 1, 1, 1, 1, 1, 1, 1, 1, 1, 1, 1, 1, 1, 1, 1, 1, 1, 1, 1, 1, 1,\n",
      "       1, 1, 1, 1, 1, 1, 1, 1, 1, 1, 1, 1, 1, 1, 1, 1, 1, 1, 2, 2, 2, 2,\n",
      "       2, 2, 2, 2, 2, 2, 2, 2, 2, 2, 2, 2, 2, 2, 2, 2, 2, 2, 2, 2, 2, 2,\n",
      "       2, 2, 2, 2, 2, 2, 2, 2, 2, 2, 2, 2, 2, 2, 2, 2, 2, 2, 2, 2, 2, 2,\n",
      "       2, 2, 2, 2, 2, 2, 2, 2, 2, 2, 2, 2, 2, 2, 2, 2, 2, 2, 2, 2, 2, 2,\n",
      "       2, 2, 2, 2, 2, 2, 2, 2, 2, 2, 2, 2, 2, 2, 2, 2, 2, 2, 2, 2, 2, 2,\n",
      "       2, 2, 2, 2, 2, 2, 2, 2, 2, 2, 2, 2, 2, 2, 2, 2, 2, 2, 2, 2, 2, 2,\n",
      "       2, 2, 2, 2, 2, 2, 2, 2, 2, 2, 2, 2, 2, 2, 2, 2, 2, 2, 2, 2, 2, 2,\n",
      "       2, 2, 2, 2, 2, 2, 2, 2, 2, 2, 2, 2, 2, 2, 2, 2, 2, 2, 2, 2, 2, 2,\n",
      "       2, 2, 2, 2, 2, 2, 2, 2, 2, 2, 2, 2, 2, 2, 2, 2, 2, 2, 2, 2, 2, 2,\n",
      "       2, 2, 2, 2, 2, 2, 2, 2, 2, 2, 2, 2, 2, 2, 2, 2, 2, 2, 2, 2, 2, 2,\n",
      "       2, 2, 2, 2, 2, 2, 2, 2, 2, 2, 2, 2, 2, 2, 2, 2, 2, 2, 2, 2, 2, 2,\n",
      "       2, 2, 2, 2, 2, 2, 2, 2, 2, 2, 2, 2, 2, 2, 2, 2, 2, 2, 2, 2, 2, 2,\n",
      "       2, 2, 2, 2, 2, 2, 2, 2, 2, 2, 2, 2, 2, 2, 2, 2, 2, 2, 2, 2, 2, 2,\n",
      "       2, 2, 2, 2, 2, 2, 2, 2, 2, 2, 2, 2, 2, 2, 2, 2, 2, 2, 2, 2, 2, 2,\n",
      "       2, 2, 2, 2, 2, 2, 2, 2, 2, 2, 2, 2, 2, 2, 2, 2, 2, 2, 2, 2, 2, 2,\n",
      "       2, 2, 2, 2, 2, 2, 2, 2, 2, 2, 2, 2, 2, 2, 2, 2, 2, 2, 2, 2, 2, 2,\n",
      "       2, 2, 2, 2, 2, 2, 2, 2, 2, 2, 2, 2, 2, 2, 2, 2, 2, 2, 2, 2, 2, 2,\n",
      "       2, 2, 2, 2, 2, 2, 2, 2, 2, 2, 2, 2, 2, 2, 2, 2, 2, 2, 2, 2, 2, 2,\n",
      "       2, 2, 2, 2, 2, 2, 2, 2, 2, 2, 2, 2, 2, 2, 2, 2, 2, 2, 2, 2, 2, 2,\n",
      "       2, 2, 2, 2, 2, 2, 2, 2, 2, 2, 2, 2, 2, 2, 2, 2, 2, 2, 2, 2, 2, 2,\n",
      "       2, 2, 2, 2, 2, 2, 2, 2, 2, 2, 2, 2, 2, 2, 2, 2, 2, 2, 2, 2, 2, 2,\n",
      "       2, 2, 2, 2, 2, 2, 2, 2, 2, 2, 2, 2, 2, 2, 2, 2, 2, 2, 2, 2, 2, 2,\n",
      "       2, 2, 2, 2, 2, 2, 2, 2, 2, 2, 2, 2, 2, 2, 2, 2, 2, 2, 2, 2, 2, 2,\n",
      "       2, 2, 2, 2, 2, 2, 2, 2, 2, 2, 2, 2, 2, 2, 2, 2, 2, 2, 2, 2, 2, 2,\n",
      "       2, 2, 2, 2, 2, 2, 2, 2, 2, 2, 2, 2, 2, 2, 2, 2, 2, 2, 2, 2, 2, 2,\n",
      "       2, 2, 2, 2, 2, 2, 2, 2, 2, 2, 2, 2, 2, 2, 2, 2, 2, 2, 2, 2, 2, 2,\n",
      "       2, 2, 2, 2, 2, 2, 2, 2, 2, 2, 2, 2, 2, 2, 2, 2, 2, 2, 2, 2, 2, 2,\n",
      "       2, 2, 2, 2, 2, 2, 2, 2, 2, 2, 2, 2, 2, 2, 2, 2, 2, 2, 2, 2, 2, 2,\n",
      "       2, 2, 2, 2, 2, 2, 2, 2, 2, 2, 2, 2, 2, 2, 2, 2, 2, 2, 2, 2, 2, 2,\n",
      "       2, 2, 2, 2, 2, 2, 2, 2, 2, 2, 2, 2, 2, 2, 2, 2, 2, 2, 2, 2, 2, 2,\n",
      "       2, 2, 2, 2, 2, 2, 2, 2, 2, 2, 2, 2, 3, 3, 3, 3, 3, 3, 3, 3, 3, 3,\n",
      "       3, 3, 3, 3, 3, 3, 3, 3, 3, 3, 3, 3, 3, 3, 3, 3, 3, 3, 3, 3, 3, 3,\n",
      "       3, 3, 3, 3, 3, 3, 3, 3, 3, 3, 3, 3, 3, 3, 3, 3, 3, 3, 3, 3, 3, 3,\n",
      "       3, 3, 3, 3, 3, 3, 3, 3, 3, 3, 3, 3, 3, 3, 3, 3, 3, 3, 3, 3, 3, 3,\n",
      "       3, 3, 3, 3, 3, 3, 3, 3, 3, 3, 3, 3, 3, 3, 3, 3, 3, 3, 3, 3, 3, 3,\n",
      "       3, 3, 3, 3, 3, 3, 3, 3, 3, 3, 3, 3, 3, 3, 3, 3, 3, 3, 3, 3, 3, 3,\n",
      "       3, 3, 3, 3, 3, 3, 3, 3, 3, 3, 3, 3, 3, 3, 3, 3, 3, 3, 3, 3, 3, 3,\n",
      "       3, 3, 3, 3, 3, 3, 3, 3, 3, 3, 3, 3, 3, 3, 3, 3, 3, 3, 3, 3, 3, 3,\n",
      "       3, 3, 3, 3, 3, 3, 3, 3, 3, 3, 3, 3, 3, 3, 3, 3, 3, 3, 3, 3, 3, 3,\n",
      "       3, 3, 3, 3, 3, 3, 3, 3, 3, 3, 3, 3, 3, 3, 3, 3, 3, 3, 3, 3, 3, 3,\n",
      "       3, 3, 3, 3, 3, 3, 3, 3, 3, 3, 3, 3, 3, 3, 3, 3, 3, 3, 3, 3, 3, 3,\n",
      "       3, 3, 3, 3, 3, 3, 3, 3, 3, 3, 3, 3, 3, 3, 3, 3, 3, 3, 3, 3, 3, 3,\n",
      "       3, 3, 3, 3, 3, 3, 3, 3, 3, 3, 3, 3, 3, 3, 3, 3, 3, 3, 3, 3, 3, 3,\n",
      "       3, 3, 3, 3, 3, 3, 3, 3, 3, 3, 3, 3, 3, 3, 3, 3, 3, 3, 3, 3, 3, 3,\n",
      "       3, 3, 3, 3, 3, 3, 3, 3, 3, 3, 3, 3, 3, 3, 3, 3, 3, 3, 3, 3, 3, 3,\n",
      "       3, 3, 3, 3, 3, 3, 3, 3, 3, 3, 3, 3, 3, 3, 3, 3, 3, 3, 3, 3, 3, 3,\n",
      "       3, 3, 3, 3, 3, 3, 3, 3, 3, 3, 3, 3, 3, 3, 3, 3, 3, 3, 3, 3, 3, 3,\n",
      "       3, 3, 3, 3, 3, 3, 3, 3, 3, 3, 3, 3, 3, 3, 3, 3, 3, 3, 3, 3, 3, 3,\n",
      "       3, 3, 3, 3, 3, 3, 3, 3, 3, 3, 3, 3, 3, 3, 3, 3, 3, 3, 3, 3, 3, 3,\n",
      "       3, 3, 3, 3, 3, 3, 3, 3, 3, 3, 3, 3, 4, 4, 4, 4, 4, 4, 4, 4, 4, 4,\n",
      "       4, 4, 4, 4, 4, 4, 4, 4, 4, 4, 4, 4, 4, 4, 4, 4, 4, 4, 4, 4, 4, 4,\n",
      "       4, 4, 4, 4, 4, 4, 4, 4, 4, 4, 4, 4, 4, 4, 4, 4, 4, 4, 4, 4, 4, 4,\n",
      "       4, 4, 4, 4, 4, 4, 4, 4, 4, 4, 4, 4, 4, 4, 4, 4, 4, 4, 4, 4, 4, 4,\n",
      "       4, 4, 4, 4, 4, 4, 4, 4, 4, 4, 4, 4, 4, 4, 4, 4, 4, 4, 4, 4, 4, 4,\n",
      "       4, 4, 4, 4, 4, 4, 4, 4, 4, 4, 4, 4, 4, 4, 4, 4, 4, 4, 4, 4, 4, 4,\n",
      "       4, 4, 4, 4, 4, 4, 4, 4, 4, 4, 4, 4, 4, 4, 4, 4, 4, 4, 4, 4, 4, 4,\n",
      "       4, 4, 4, 4, 4, 4, 4, 4, 4, 4, 4, 4, 4, 4, 4, 4, 4, 4, 4, 4, 4, 4,\n",
      "       4, 4, 4, 4, 4, 4, 4, 4, 4, 4, 4, 4, 4, 4, 4, 4, 4, 4, 4, 4, 4, 4,\n",
      "       4, 4, 4, 4, 4, 4, 4, 4, 4, 4, 4, 4, 4, 4, 4, 4, 4, 4, 4, 4, 4, 4,\n",
      "       4, 4, 4, 4, 4, 4, 4, 4, 4, 4, 4, 4, 4, 4, 4, 4, 4, 4, 4, 4, 4, 4,\n",
      "       4, 4, 4, 4, 4, 4, 4, 4, 4, 4, 4, 4, 4, 4, 4, 4, 4, 4, 4, 4, 4, 4,\n",
      "       4, 4, 4, 4, 4, 4, 4, 4, 4, 4, 4, 4, 4, 4, 4, 4, 4, 4, 4, 4, 4, 4,\n",
      "       4, 4, 4, 4, 4, 4, 4, 4, 4, 4, 4, 4, 4, 4, 4, 4, 4, 4, 4, 4, 4, 4,\n",
      "       4, 4, 4, 4, 4, 4, 4, 4, 4, 4, 4, 4, 4, 4, 4, 4, 4, 4, 4, 4, 4, 4,\n",
      "       4, 4, 4, 4, 4, 4, 4, 4, 4, 4, 4, 4, 4, 4, 4, 4, 4, 4, 4, 4, 4, 4,\n",
      "       4, 4, 4, 4, 4, 4, 4, 4, 4, 4, 4, 4, 4, 4, 4, 4, 4, 4, 4, 4, 4, 4,\n",
      "       4, 4, 4, 4, 4, 4, 4, 4, 4, 4, 4, 4, 4, 4, 4, 4, 4, 4, 4, 4, 4, 4,\n",
      "       4, 4, 4, 4, 4, 4, 4, 4, 4, 4, 4, 4, 4, 4, 4, 4, 4, 4, 4, 4, 4, 4,\n",
      "       4, 4, 4, 4, 4, 4, 4, 4, 4, 4, 4, 4, 4, 4, 4, 4, 4, 4, 4, 4, 4, 4,\n",
      "       4, 4, 4, 4, 4, 4, 4, 4, 4, 4, 4, 4, 4, 4, 4, 4, 4, 4, 4, 4, 4, 4,\n",
      "       4, 4, 4, 4, 4, 4, 4, 4, 4, 4, 4, 4, 4, 4, 4, 4, 4, 4, 4, 4, 4, 4,\n",
      "       4, 4, 4, 4, 4, 4, 4, 4, 4, 4, 4, 4, 4, 4, 4, 4, 4, 4, 4, 4, 4, 4,\n",
      "       4, 4, 4, 4, 4, 4, 4, 4, 4, 4, 4, 4, 4, 4, 4, 4, 4, 4, 4, 4, 4, 4,\n",
      "       4, 4, 4, 4, 4, 4, 4, 4, 4, 4, 4, 4, 4, 4, 4, 4, 4, 4, 4, 4, 4, 4,\n",
      "       4, 4, 4, 4, 4, 4, 4, 4, 4, 4, 4, 4, 4, 4, 4, 4, 4, 4, 4, 4, 4, 4,\n",
      "       4, 4, 4, 4, 4, 4, 4, 4, 4, 4, 4, 4, 4, 4, 4, 4, 4, 4, 4, 4, 4, 5,\n",
      "       5, 5, 5, 5, 5, 5, 5, 5, 5, 5, 5, 5, 5, 5, 5, 5, 5, 5, 5, 5, 5, 5,\n",
      "       5, 5, 5, 5, 5, 5, 5, 5, 5, 5, 5, 5, 5, 5, 5, 5, 5, 5, 5, 5, 5, 5,\n",
      "       5, 5, 5, 5, 5, 5, 5, 5, 5, 5, 5, 5, 5, 5, 5, 5, 5, 5, 5, 5, 5, 5,\n",
      "       5, 5, 5, 5, 5, 5, 5, 5, 5, 5, 5, 5, 5, 5, 5, 5, 5, 5, 5, 5, 5, 5,\n",
      "       5, 5, 5, 5, 5, 5, 5, 5, 5, 5, 5, 5, 5, 5, 5, 5, 5, 5, 5, 5, 5, 5,\n",
      "       5, 5, 5, 5, 5, 5, 5, 5, 5, 5, 5, 5, 5, 5, 5, 5, 5, 5, 5, 5, 5, 5,\n",
      "       5, 5, 5, 5, 5, 5, 5, 5, 5, 5, 5, 5, 5, 5, 5, 5, 5, 5, 5, 5, 5, 5,\n",
      "       5, 5, 5, 5, 5, 5, 5, 5, 5, 5, 5, 5, 5, 5, 5, 5, 5, 5, 5, 5, 5, 5,\n",
      "       5, 5, 5, 5, 5, 5, 5, 5, 5, 5, 5, 5, 5, 5, 5, 5, 5, 5, 5, 5, 5, 5,\n",
      "       5, 5, 5, 5, 5, 5, 5, 5, 5, 5, 5, 5, 5, 5, 5, 5, 5, 5, 5, 5, 5, 5,\n",
      "       5, 5, 5, 5, 5, 5, 5, 5, 5, 5, 5, 5, 5, 5, 5, 5, 5, 5, 5, 5, 5, 5,\n",
      "       5, 5, 5, 5, 5, 5, 5, 5, 5, 5, 5, 5, 5, 5, 5, 5, 5, 5, 5, 5, 5, 5,\n",
      "       5, 5, 5, 5, 5, 5, 5, 5, 5, 5, 5, 5, 5, 5, 5, 5, 5, 5, 5, 5, 5, 5,\n",
      "       5, 5, 5, 5, 5, 5, 5, 5, 5, 5, 5, 5, 5, 5, 5, 5, 5, 5, 5, 5, 5, 5,\n",
      "       5, 5, 5, 5, 5], dtype=int16)\n"
     ]
    }
   ],
   "source": [
    "fullprint(ytest)"
   ]
  },
  {
   "cell_type": "markdown",
   "metadata": {},
   "source": [
    "<h3><center><div style=\"direction:rtl;font-family:B Nazanin\">Train Windows</div></center></h1>"
   ]
  },
  {
   "cell_type": "code",
   "execution_count": 18,
   "metadata": {},
   "outputs": [
    {
     "data": {
      "text/plain": [
       "'\\nytestt=np.int32(np.array([ytest]).T)\\ntestx=np.concatenate((Xtest, ytestt), axis=1)\\ntestx=np.random.permutation(testx)\\nXtest=np.int32(testx[:,:-1])\\nytest=np.int32(testx[:,-1])'"
      ]
     },
     "execution_count": 18,
     "metadata": {},
     "output_type": "execute_result"
    }
   ],
   "source": [
    "#ytraint=np.int32(np.array([ytrain]).T)\n",
    "#trainx=np.concatenate((Xtrain, ytraint), axis=1)\n",
    "trainx=np.random.permutation(xtrain)\n",
    "Xtrain=np.array(trainx[:,:-1])\n",
    "ytrain=np.int16(trainx[:,-1])\n",
    "'''\n",
    "ytestt=np.int32(np.array([ytest]).T)\n",
    "testx=np.concatenate((Xtest, ytestt), axis=1)\n",
    "testx=np.random.permutation(testx)\n",
    "Xtest=np.int32(testx[:,:-1])\n",
    "ytest=np.int32(testx[:,-1])'''"
   ]
  },
  {
   "cell_type": "code",
   "execution_count": 19,
   "metadata": {},
   "outputs": [
    {
     "data": {
      "text/plain": [
       "(20, 1026)"
      ]
     },
     "execution_count": 19,
     "metadata": {},
     "output_type": "execute_result"
    }
   ],
   "source": [
    "np.shape(wndws1)"
   ]
  },
  {
   "cell_type": "markdown",
   "metadata": {},
   "source": [
    "<h3><center><div style=\"direction:rtl;font-family:B Nazanin\">Validation Windows</div></center></h1>"
   ]
  },
  {
   "cell_type": "code",
   "execution_count": 20,
   "metadata": {},
   "outputs": [],
   "source": [
    "Xvalid=np.array(Xtrain)\n",
    "yvalid=np.array(ytrain)"
   ]
  },
  {
   "cell_type": "markdown",
   "metadata": {},
   "source": [
    "<h1><center><div style=\"direction:rtl;font-family:B Nazanin\">CNN And UnBalanced RAW Data</div></center></h1>\n",
    "<h1><center><div style=\"direction:rtl;font-family:Arial\">Cross Entropy Loss Function</div></center></h1>"
   ]
  },
  {
   "cell_type": "code",
   "execution_count": 21,
   "metadata": {
    "scrolled": true
   },
   "outputs": [
    {
     "name": "stdout",
     "output_type": "stream",
     "text": [
      "X_train =>  (100, 1025)\n",
      "y_train =>  (100,)\n",
      "X_test  =>  (2425, 1025)\n",
      "y_test  =>  (2425,)\n",
      "X_valid  =>  (100, 1025)\n",
      "y_valid  =>  (100,)\n"
     ]
    }
   ],
   "source": [
    "X_train=np.array(Xtrain)\n",
    "y_train=np.array(ytrain)\n",
    "X_test=np.array(Xtest)\n",
    "y_test=np.array(ytest)\n",
    "X_valid=np.array(Xtrain)\n",
    "y_valid=np.array(ytrain)\n",
    "print('X_train => ', X_train.shape)\n",
    "print('y_train => ', y_train.shape)\n",
    "print('X_test  => ', X_test.shape)\n",
    "print('y_test  => ', y_test.shape)\n",
    "print('X_valid  => ', X_valid.shape)\n",
    "print('y_valid  => ', y_valid.shape)"
   ]
  },
  {
   "cell_type": "markdown",
   "metadata": {},
   "source": [
    "y_train=np.array(y_train+1)\n",
    "y_test=np.array(y_test+1)\n",
    "y_valid=np.array(y_valid+1)"
   ]
  },
  {
   "cell_type": "code",
   "execution_count": 22,
   "metadata": {},
   "outputs": [],
   "source": [
    "y_train_cat=to_categorical(y_train)\n",
    "y_valid_cat=to_categorical(y_valid)\n",
    "y_test_cat=to_categorical(y_test)\n",
    "\n",
    "\n",
    "X_train = np.expand_dims(X_train, axis=2)\n",
    "X_valid = np.expand_dims(X_valid, axis=2)\n",
    "X_test = np.expand_dims(X_test, axis=2)\n",
    "#y_train=np.transpose([y_train])"
   ]
  },
  {
   "cell_type": "code",
   "execution_count": 23,
   "metadata": {
    "scrolled": true
   },
   "outputs": [
    {
     "name": "stdout",
     "output_type": "stream",
     "text": [
      "Epoch 1/1000\n",
      "2/2 [==============================] - 4s 618ms/step - loss: 4.2485 - accuracy: 0.1700 - val_loss: 1.8245 - val_accuracy: 0.2300\n",
      "Epoch 2/1000\n",
      "2/2 [==============================] - 0s 47ms/step - loss: 5.2120 - accuracy: 0.3200 - val_loss: 1.7694 - val_accuracy: 0.2000\n",
      "Epoch 3/1000\n",
      "2/2 [==============================] - 0s 65ms/step - loss: 1.5348 - accuracy: 0.4800 - val_loss: 1.6807 - val_accuracy: 0.4900\n",
      "Epoch 4/1000\n",
      "2/2 [==============================] - 0s 65ms/step - loss: 1.1888 - accuracy: 0.5600 - val_loss: 1.6883 - val_accuracy: 0.6500\n",
      "Epoch 5/1000\n",
      "2/2 [==============================] - 0s 55ms/step - loss: 1.1723 - accuracy: 0.6000 - val_loss: 1.6782 - val_accuracy: 0.5500\n",
      "Epoch 6/1000\n",
      "2/2 [==============================] - 0s 47ms/step - loss: 1.4412 - accuracy: 0.5900 - val_loss: 1.6364 - val_accuracy: 0.6200\n",
      "Epoch 7/1000\n",
      "2/2 [==============================] - 0s 45ms/step - loss: 0.6756 - accuracy: 0.7000 - val_loss: 1.6066 - val_accuracy: 0.5500\n",
      "Epoch 8/1000\n",
      "2/2 [==============================] - 0s 47ms/step - loss: 0.4719 - accuracy: 0.7700 - val_loss: 1.6577 - val_accuracy: 0.5300\n",
      "Epoch 9/1000\n",
      "2/2 [==============================] - 0s 57ms/step - loss: 0.3453 - accuracy: 0.8400 - val_loss: 1.5531 - val_accuracy: 0.7500\n",
      "Epoch 10/1000\n",
      "2/2 [==============================] - 0s 42ms/step - loss: 1.1435 - accuracy: 0.7700 - val_loss: 1.6285 - val_accuracy: 0.4500\n",
      "Epoch 11/1000\n",
      "2/2 [==============================] - 0s 41ms/step - loss: 0.3470 - accuracy: 0.8200 - val_loss: 1.6125 - val_accuracy: 0.6800\n",
      "Epoch 12/1000\n",
      "2/2 [==============================] - 0s 42ms/step - loss: 0.2019 - accuracy: 0.9000 - val_loss: 1.5957 - val_accuracy: 0.6400\n",
      "Epoch 13/1000\n",
      "2/2 [==============================] - 0s 48ms/step - loss: 0.1601 - accuracy: 0.9500 - val_loss: 1.5432 - val_accuracy: 0.6800\n",
      "Epoch 14/1000\n",
      "2/2 [==============================] - 0s 47ms/step - loss: 0.3677 - accuracy: 0.8500 - val_loss: 1.6020 - val_accuracy: 0.6700\n",
      "Epoch 15/1000\n",
      "2/2 [==============================] - 0s 44ms/step - loss: 0.5368 - accuracy: 0.7700 - val_loss: 1.6222 - val_accuracy: 0.5500\n",
      "Epoch 16/1000\n",
      "2/2 [==============================] - 0s 43ms/step - loss: 0.2683 - accuracy: 0.8900 - val_loss: 1.5804 - val_accuracy: 0.6700\n",
      "Epoch 17/1000\n",
      "2/2 [==============================] - 0s 40ms/step - loss: 0.1750 - accuracy: 0.9100 - val_loss: 1.5384 - val_accuracy: 0.6900\n",
      "Epoch 18/1000\n",
      "2/2 [==============================] - 0s 41ms/step - loss: 0.1722 - accuracy: 0.9100 - val_loss: 1.5223 - val_accuracy: 0.3800\n",
      "Epoch 19/1000\n",
      "2/2 [==============================] - 0s 41ms/step - loss: 0.9358 - accuracy: 0.6700 - val_loss: 1.7195 - val_accuracy: 0.5100\n",
      "Epoch 20/1000\n",
      "2/2 [==============================] - 0s 41ms/step - loss: 0.4528 - accuracy: 0.8100 - val_loss: 1.6464 - val_accuracy: 0.5500\n",
      "Epoch 21/1000\n",
      "2/2 [==============================] - 0s 41ms/step - loss: 0.1813 - accuracy: 0.9300 - val_loss: 1.5369 - val_accuracy: 0.6000\n",
      "Epoch 22/1000\n",
      "2/2 [==============================] - 0s 46ms/step - loss: 0.0976 - accuracy: 0.9500 - val_loss: 1.4941 - val_accuracy: 0.7400\n",
      "Epoch 23/1000\n",
      "2/2 [==============================] - 0s 47ms/step - loss: 0.0617 - accuracy: 0.9900 - val_loss: 1.4439 - val_accuracy: 0.5500\n",
      "Epoch 24/1000\n",
      "2/2 [==============================] - 0s 47ms/step - loss: 0.3579 - accuracy: 0.8500 - val_loss: 1.5886 - val_accuracy: 0.4200\n",
      "Epoch 25/1000\n",
      "2/2 [==============================] - 0s 47ms/step - loss: 0.7303 - accuracy: 0.7900 - val_loss: 1.5703 - val_accuracy: 0.3900\n",
      "Epoch 26/1000\n",
      "2/2 [==============================] - 0s 46ms/step - loss: 0.1054 - accuracy: 0.9600 - val_loss: 1.5204 - val_accuracy: 0.6200\n",
      "Epoch 27/1000\n",
      "2/2 [==============================] - 0s 45ms/step - loss: 0.0744 - accuracy: 0.9600 - val_loss: 1.4066 - val_accuracy: 0.3900\n",
      "Epoch 28/1000\n",
      "2/2 [==============================] - 0s 47ms/step - loss: 0.5596 - accuracy: 0.8400 - val_loss: 1.5768 - val_accuracy: 0.5800\n",
      "Epoch 29/1000\n",
      "2/2 [==============================] - 0s 47ms/step - loss: 0.5337 - accuracy: 0.8300 - val_loss: 1.6076 - val_accuracy: 0.7300\n",
      "Epoch 30/1000\n",
      "2/2 [==============================] - 0s 63ms/step - loss: 0.0743 - accuracy: 1.0000 - val_loss: 1.5323 - val_accuracy: 0.7900\n",
      "Epoch 31/1000\n",
      "2/2 [==============================] - 0s 46ms/step - loss: 0.0803 - accuracy: 0.9600 - val_loss: 1.5221 - val_accuracy: 0.7700\n",
      "Epoch 32/1000\n",
      "2/2 [==============================] - 0s 45ms/step - loss: 0.0309 - accuracy: 0.9900 - val_loss: 1.4934 - val_accuracy: 0.7900\n",
      "Epoch 33/1000\n",
      "2/2 [==============================] - 0s 45ms/step - loss: 0.0187 - accuracy: 1.0000 - val_loss: 1.4375 - val_accuracy: 0.7400\n",
      "Epoch 34/1000\n",
      "2/2 [==============================] - 0s 45ms/step - loss: 0.0270 - accuracy: 0.9900 - val_loss: 1.4748 - val_accuracy: 0.7600\n",
      "Epoch 35/1000\n",
      "2/2 [==============================] - 0s 45ms/step - loss: 0.0196 - accuracy: 0.9900 - val_loss: 1.4149 - val_accuracy: 0.7600\n",
      "Epoch 36/1000\n",
      "2/2 [==============================] - 0s 44ms/step - loss: 0.0093 - accuracy: 1.0000 - val_loss: 1.4062 - val_accuracy: 0.7500\n",
      "Epoch 37/1000\n",
      "2/2 [==============================] - 0s 42ms/step - loss: 0.0048 - accuracy: 1.0000 - val_loss: 1.3764 - val_accuracy: 0.6900\n",
      "Epoch 38/1000\n",
      "2/2 [==============================] - 0s 42ms/step - loss: 0.0032 - accuracy: 1.0000 - val_loss: 1.3523 - val_accuracy: 0.6300\n",
      "Epoch 39/1000\n",
      "2/2 [==============================] - 0s 41ms/step - loss: 0.0054 - accuracy: 1.0000 - val_loss: 1.3347 - val_accuracy: 0.6100\n",
      "Epoch 40/1000\n",
      "2/2 [==============================] - 0s 44ms/step - loss: 0.0064 - accuracy: 1.0000 - val_loss: 1.3582 - val_accuracy: 0.7300\n",
      "Epoch 41/1000\n",
      "2/2 [==============================] - 0s 43ms/step - loss: 0.0019 - accuracy: 1.0000 - val_loss: 1.3255 - val_accuracy: 0.6000\n",
      "Epoch 42/1000\n",
      "2/2 [==============================] - 0s 41ms/step - loss: 6.0163e-04 - accuracy: 1.0000 - val_loss: 1.3160 - val_accuracy: 0.6000\n",
      "Epoch 43/1000\n",
      "2/2 [==============================] - 0s 42ms/step - loss: 4.2854e-04 - accuracy: 1.0000 - val_loss: 1.3108 - val_accuracy: 0.5700\n",
      "Epoch 44/1000\n",
      "2/2 [==============================] - 0s 40ms/step - loss: 3.9587e-04 - accuracy: 1.0000 - val_loss: 1.3005 - val_accuracy: 0.5400\n",
      "Epoch 45/1000\n",
      "2/2 [==============================] - 0s 42ms/step - loss: 2.5655e-04 - accuracy: 1.0000 - val_loss: 1.2972 - val_accuracy: 0.5500\n",
      "Epoch 46/1000\n",
      "2/2 [==============================] - 0s 42ms/step - loss: 2.3140e-04 - accuracy: 1.0000 - val_loss: 1.2943 - val_accuracy: 0.5300\n",
      "Epoch 47/1000\n",
      "2/2 [==============================] - 0s 42ms/step - loss: 2.0451e-04 - accuracy: 1.0000 - val_loss: 1.2932 - val_accuracy: 0.5100\n",
      "Epoch 48/1000\n",
      "2/2 [==============================] - 0s 41ms/step - loss: 1.7548e-04 - accuracy: 1.0000 - val_loss: 1.2931 - val_accuracy: 0.5000\n",
      "Epoch 49/1000\n",
      "2/2 [==============================] - 0s 41ms/step - loss: 1.1939e-04 - accuracy: 1.0000 - val_loss: 1.2949 - val_accuracy: 0.4600\n",
      "Epoch 50/1000\n",
      "2/2 [==============================] - 0s 42ms/step - loss: 8.6594e-05 - accuracy: 1.0000 - val_loss: 1.2990 - val_accuracy: 0.4500\n",
      "Epoch 51/1000\n",
      "2/2 [==============================] - 0s 42ms/step - loss: 7.9491e-05 - accuracy: 1.0000 - val_loss: 1.3023 - val_accuracy: 0.4500\n",
      "Epoch 52/1000\n",
      "2/2 [==============================] - 0s 42ms/step - loss: 7.5490e-05 - accuracy: 1.0000 - val_loss: 1.3187 - val_accuracy: 0.4100\n",
      "Epoch 53/1000\n",
      "2/2 [==============================] - 0s 44ms/step - loss: 6.8838e-05 - accuracy: 1.0000 - val_loss: 1.3176 - val_accuracy: 0.3900\n",
      "Epoch 54/1000\n",
      "2/2 [==============================] - 0s 42ms/step - loss: 4.7470e-05 - accuracy: 1.0000 - val_loss: 1.3196 - val_accuracy: 0.3900\n",
      "Epoch 55/1000\n",
      "2/2 [==============================] - 0s 42ms/step - loss: 5.1388e-05 - accuracy: 1.0000 - val_loss: 1.3110 - val_accuracy: 0.3900\n",
      "Epoch 56/1000\n",
      "2/2 [==============================] - 0s 41ms/step - loss: 6.7742e-05 - accuracy: 1.0000 - val_loss: 1.3185 - val_accuracy: 0.4000\n",
      "Epoch 57/1000\n",
      "2/2 [==============================] - 0s 42ms/step - loss: 3.5419e-05 - accuracy: 1.0000 - val_loss: 1.3225 - val_accuracy: 0.4000\n",
      "Epoch 58/1000\n",
      "2/2 [==============================] - 0s 41ms/step - loss: 2.9853e-05 - accuracy: 1.0000 - val_loss: 1.3355 - val_accuracy: 0.3900\n",
      "Epoch 59/1000\n",
      "2/2 [==============================] - 0s 41ms/step - loss: 4.6021e-05 - accuracy: 1.0000 - val_loss: 1.3304 - val_accuracy: 0.3700\n",
      "Epoch 60/1000\n",
      "2/2 [==============================] - 0s 42ms/step - loss: 0.0636 - accuracy: 0.9800 - val_loss: 3.6692 - val_accuracy: 0.2000\n",
      "Epoch 61/1000\n",
      "2/2 [==============================] - 0s 42ms/step - loss: 13.5004 - accuracy: 0.3100 - val_loss: 1.7578 - val_accuracy: 0.2300\n",
      "Epoch 62/1000\n",
      "2/2 [==============================] - 0s 40ms/step - loss: 1.0143 - accuracy: 0.5300 - val_loss: 1.6813 - val_accuracy: 0.2000\n",
      "Epoch 63/1000\n",
      "2/2 [==============================] - 0s 43ms/step - loss: 0.5065 - accuracy: 0.8000 - val_loss: 1.6407 - val_accuracy: 0.2300\n",
      "Epoch 64/1000\n",
      "2/2 [==============================] - 0s 42ms/step - loss: 0.1767 - accuracy: 0.9200 - val_loss: 1.6231 - val_accuracy: 0.3200\n",
      "Epoch 65/1000\n",
      "2/2 [==============================] - 0s 42ms/step - loss: 0.5799 - accuracy: 0.7700 - val_loss: 1.7101 - val_accuracy: 0.2000\n",
      "Epoch 66/1000\n",
      "2/2 [==============================] - 0s 42ms/step - loss: 0.3096 - accuracy: 0.8400 - val_loss: 1.6730 - val_accuracy: 0.4400\n",
      "Epoch 67/1000\n",
      "2/2 [==============================] - 0s 41ms/step - loss: 0.0923 - accuracy: 0.9700 - val_loss: 1.6567 - val_accuracy: 0.5800\n",
      "Epoch 68/1000\n",
      "2/2 [==============================] - 0s 40ms/step - loss: 0.1132 - accuracy: 0.9400 - val_loss: 1.6529 - val_accuracy: 0.6000\n",
      "Epoch 69/1000\n",
      "2/2 [==============================] - 0s 42ms/step - loss: 0.0696 - accuracy: 0.9700 - val_loss: 1.6430 - val_accuracy: 0.6300\n",
      "Epoch 70/1000\n",
      "2/2 [==============================] - 0s 41ms/step - loss: 0.0370 - accuracy: 0.9900 - val_loss: 1.6210 - val_accuracy: 0.6100\n",
      "Epoch 71/1000\n",
      "2/2 [==============================] - 0s 43ms/step - loss: 0.0149 - accuracy: 1.0000 - val_loss: 1.6038 - val_accuracy: 0.6200\n",
      "Epoch 72/1000\n",
      "2/2 [==============================] - 0s 42ms/step - loss: 0.0085 - accuracy: 1.0000 - val_loss: 1.5869 - val_accuracy: 0.6000\n",
      "Epoch 73/1000\n",
      "2/2 [==============================] - 0s 41ms/step - loss: 0.0062 - accuracy: 1.0000 - val_loss: 1.5747 - val_accuracy: 0.5900\n",
      "Epoch 74/1000\n",
      "2/2 [==============================] - 0s 41ms/step - loss: 0.0035 - accuracy: 1.0000 - val_loss: 1.5426 - val_accuracy: 0.5800\n",
      "Epoch 75/1000\n",
      "2/2 [==============================] - 0s 47ms/step - loss: 0.0081 - accuracy: 1.0000 - val_loss: 1.5633 - val_accuracy: 0.6100\n",
      "Epoch 76/1000\n",
      "2/2 [==============================] - 0s 43ms/step - loss: 0.0017 - accuracy: 1.0000 - val_loss: 1.5452 - val_accuracy: 0.6100\n",
      "Epoch 77/1000\n",
      "2/2 [==============================] - 0s 42ms/step - loss: 9.8366e-04 - accuracy: 1.0000 - val_loss: 1.5271 - val_accuracy: 0.6100\n",
      "Epoch 78/1000\n",
      "2/2 [==============================] - 0s 41ms/step - loss: 7.0688e-04 - accuracy: 1.0000 - val_loss: 1.5113 - val_accuracy: 0.6200\n",
      "Epoch 79/1000\n",
      "2/2 [==============================] - 0s 42ms/step - loss: 5.7687e-04 - accuracy: 1.0000 - val_loss: 1.4946 - val_accuracy: 0.6000\n",
      "Epoch 80/1000\n",
      "2/2 [==============================] - 0s 49ms/step - loss: 4.7220e-04 - accuracy: 1.0000 - val_loss: 1.4849 - val_accuracy: 0.5800\n",
      "2/2 [==============================] - 0s 5ms/step - loss: 1.5323 - accuracy: 0.7900\n",
      "np.shape(X_test)= (2425, 1025, 1)\n",
      "Accuracy=  0.7900000214576721\n"
     ]
    }
   ],
   "source": [
    "#VGG16_1D\n",
    "\n",
    "accuracy=0\n",
    "acc_crs=np.array([])\n",
    "##for i in range (10):\n",
    "##    if accuracy<0.2 :\n",
    "\n",
    "verbose, epochs, batch_size = 1, 1000, 80\n",
    "n_timesteps, n_features, n_outputs = X_train.shape[1], X_train.shape[2], y_train_cat.shape[1]\n",
    "steps_per_epoch = len(X_train)//batch_size\n",
    "validation_steps = len(X_valid)//batch_size # if you have test data\n",
    "\n",
    "\n",
    "\n",
    "model_crs = Sequential()\n",
    "#model_crs.add(Conv1D(input_shape=x_train.shape[1:],filters=64,kernel_size=9,padding=\"same\", activation=\"relu\"))\n",
    "model_crs.add(Conv1D(filters=128, kernel_size=12, strides=1, activation='relu', input_shape=(n_timesteps,n_features))) #Replaced\n",
    "model_crs.add(BatchNormalization())\n",
    "model_crs.add(MaxPooling1D(pool_size=2,strides=3))\n",
    "\n",
    "model_crs.add(Conv1D(filters=32, kernel_size=7, strides=1, padding=\"same\", activation=\"relu\"))\n",
    "model_crs.add(BatchNormalization())\n",
    "model_crs.add(MaxPooling1D(pool_size=2,strides=2))\n",
    "\n",
    "model_crs.add(Conv1D(filters=32, kernel_size=10, strides=1, padding=\"same\", activation=\"relu\"))\n",
    "model_crs.add(Conv1D(filters=128, kernel_size=5, strides=2, padding=\"same\", activation=\"relu\"))\n",
    "model_crs.add(MaxPooling1D(pool_size=2,strides=2))\n",
    "\n",
    "model_crs.add(Conv1D(filters=256, kernel_size=15, strides=1, padding=\"same\", activation=\"relu\"))\n",
    "model_crs.add(MaxPooling1D(pool_size=2,strides=2))\n",
    "\n",
    "model_crs.add(Conv1D(filters=512, kernel_size=5, strides=1, padding=\"same\", activation=\"relu\"))\n",
    "#model_crs.add(Conv1D(filters=128, kernel_size=3, strides=1, padding=\"same\", activation=\"relu\"))\n",
    "\n",
    "\n",
    "model_crs.add(Flatten())\n",
    "model_crs.add(Dropout(0.1))\n",
    "model_crs.add(Dense(units=512,activation=\"relu\"))\n",
    "#model_crs.add(Dense(units=2048,activation=\"relu\"))\n",
    "model_crs.add(Dense(n_outputs, activation='softmax'))   #Replaced here from old Model\n",
    "\n",
    "model_crs.compile(optimizer='rmsprop', loss='categorical_crossentropy', metrics=['accuracy'])\n",
    "# fit network   #CategoricalCrossentropy #sparse_categorical_crossentropy #SparseCategoricalCrossentropy\n",
    "\n",
    "earlystopping = callbacks.EarlyStopping(monitor =\"val_accuracy\", mode =\"max\", patience = 50, restore_best_weights = True)\n",
    "\n",
    "model_crs.fit(X_train, y_train_cat, epochs=epochs, batch_size=batch_size, verbose=verbose, validation_data = (X_valid, y_valid_cat), callbacks =[earlystopping])\n",
    "\n",
    "_, accuracy = model_crs.evaluate(X_valid, y_valid_cat, batch_size=batch_size, verbose=1)\n",
    "\n",
    "print('np.shape(X_test)=',np.shape(X_test))\n",
    "\n",
    "print('Accuracy= ', accuracy)\n",
    "\n",
    "#y_pred_vgg = model_crs.predict_classes(X_test)\n"
   ]
  },
  {
   "cell_type": "code",
   "execution_count": 24,
   "metadata": {},
   "outputs": [],
   "source": [
    "def maxindx(ar):\n",
    "    ar_cpy=np.array(ar)\n",
    "    pred=np.argmax(ar,axis=1)\n",
    "    for i in range (len(pred)):\n",
    "        if pred[i]==0:\n",
    "            ar_cpy[i,0]=-1000\n",
    "    pred=np.argmax(ar_cpy,axis=1)\n",
    "    return(pred)"
   ]
  },
  {
   "cell_type": "code",
   "execution_count": 25,
   "metadata": {},
   "outputs": [
    {
     "name": "stdout",
     "output_type": "stream",
     "text": [
      "76/76 [==============================] - 1s 5ms/step\n",
      "array([[374,  10,  10,  28,  36],\n",
      "       [  3, 543,  27,  16,  65],\n",
      "       [ 24,  64, 265,  44,  21],\n",
      "       [ 20, 151, 151, 204,  55],\n",
      "       [  0,   3,   1,   3, 307]], dtype=int64)\n",
      "              precision    recall  f1-score   support\n",
      "\n",
      "           1       0.89      0.82      0.85       458\n",
      "           2       0.70      0.83      0.76       654\n",
      "           3       0.58      0.63      0.61       418\n",
      "           4       0.69      0.35      0.47       581\n",
      "           5       0.63      0.98      0.77       314\n",
      "\n",
      "    accuracy                           0.70      2425\n",
      "   macro avg       0.70      0.72      0.69      2425\n",
      "weighted avg       0.71      0.70      0.68      2425\n",
      "\n"
     ]
    }
   ],
   "source": [
    "predict_x=model_crs.predict(X_test)              # Function 1\n",
    "\n",
    "y_pred_crs=maxindx(predict_x)                    # function from augment.py to remove 0 index predictions\n",
    "\n",
    "#y_pred_crs = model_crs.predict_classes(X_test)\n",
    "\n",
    "cm = confusion_matrix(y_test, y_pred_crs)\n",
    "fullprint(cm)\n",
    "acc3=accuracy_score(y_test, y_pred_crs)\n",
    "\n",
    "print(classification_report(y_test, y_pred_crs))\n",
    "\n",
    "#sns.heatmap(cm, annot=True)\n",
    "\n",
    "#plt.imshow(cm)"
   ]
  },
  {
   "cell_type": "code",
   "execution_count": 26,
   "metadata": {},
   "outputs": [
    {
     "name": "stdout",
     "output_type": "stream",
     "text": [
      "Epoch 1/1000\n",
      "2/2 [==============================] - 2s 763ms/step - loss: 32.7083 - accuracy: 0.2000 - val_loss: 1.7514 - val_accuracy: 0.2000\n",
      "Epoch 2/1000\n",
      "2/2 [==============================] - 0s 53ms/step - loss: 2.6561 - accuracy: 0.2000 - val_loss: 1.7650 - val_accuracy: 0.2000\n",
      "Epoch 3/1000\n",
      "2/2 [==============================] - 0s 55ms/step - loss: 1.6234 - accuracy: 0.2600 - val_loss: 1.7074 - val_accuracy: 0.2000\n",
      "Epoch 4/1000\n",
      "2/2 [==============================] - 0s 82ms/step - loss: 2.6902 - accuracy: 0.2600 - val_loss: 1.7518 - val_accuracy: 0.2500\n",
      "Epoch 5/1000\n",
      "2/2 [==============================] - 0s 80ms/step - loss: 1.6375 - accuracy: 0.4000 - val_loss: 1.7305 - val_accuracy: 0.5400\n",
      "Epoch 6/1000\n",
      "2/2 [==============================] - 0s 90ms/step - loss: 1.0463 - accuracy: 0.6000 - val_loss: 1.6201 - val_accuracy: 0.5500\n",
      "Epoch 7/1000\n",
      "2/2 [==============================] - 0s 87ms/step - loss: 0.9140 - accuracy: 0.5800 - val_loss: 1.7120 - val_accuracy: 0.5800\n",
      "Epoch 8/1000\n",
      "2/2 [==============================] - 0s 79ms/step - loss: 0.6243 - accuracy: 0.7100 - val_loss: 1.6600 - val_accuracy: 0.6900\n",
      "Epoch 9/1000\n",
      "2/2 [==============================] - 0s 57ms/step - loss: 0.5189 - accuracy: 0.7700 - val_loss: 1.7032 - val_accuracy: 0.4500\n",
      "Epoch 10/1000\n",
      "2/2 [==============================] - 0s 80ms/step - loss: 0.3255 - accuracy: 0.9100 - val_loss: 1.6384 - val_accuracy: 0.7300\n",
      "Epoch 11/1000\n",
      "2/2 [==============================] - 0s 55ms/step - loss: 0.3634 - accuracy: 0.9000 - val_loss: 1.6565 - val_accuracy: 0.2500\n",
      "Epoch 12/1000\n",
      "2/2 [==============================] - 0s 57ms/step - loss: 1.1448 - accuracy: 0.6500 - val_loss: 1.7097 - val_accuracy: 0.2800\n",
      "Epoch 13/1000\n",
      "2/2 [==============================] - 0s 55ms/step - loss: 0.5586 - accuracy: 0.7600 - val_loss: 1.7061 - val_accuracy: 0.2600\n",
      "Epoch 14/1000\n",
      "2/2 [==============================] - 0s 54ms/step - loss: 0.4046 - accuracy: 0.8500 - val_loss: 1.7145 - val_accuracy: 0.7300\n",
      "Epoch 15/1000\n",
      "2/2 [==============================] - 0s 55ms/step - loss: 0.2097 - accuracy: 0.9200 - val_loss: 1.6737 - val_accuracy: 0.5300\n",
      "Epoch 16/1000\n",
      "2/2 [==============================] - 0s 56ms/step - loss: 0.2556 - accuracy: 0.8800 - val_loss: 1.6890 - val_accuracy: 0.5800\n",
      "Epoch 17/1000\n",
      "2/2 [==============================] - 0s 55ms/step - loss: 0.1541 - accuracy: 0.9500 - val_loss: 1.6405 - val_accuracy: 0.3600\n",
      "Epoch 18/1000\n",
      "2/2 [==============================] - 0s 55ms/step - loss: 0.1479 - accuracy: 0.9200 - val_loss: 1.6928 - val_accuracy: 0.3600\n",
      "Epoch 19/1000\n",
      "2/2 [==============================] - 0s 56ms/step - loss: 0.1576 - accuracy: 0.9000 - val_loss: 1.6679 - val_accuracy: 0.4400\n",
      "Epoch 20/1000\n",
      "2/2 [==============================] - 0s 54ms/step - loss: 0.2390 - accuracy: 0.8900 - val_loss: 1.7064 - val_accuracy: 0.2300\n",
      "Epoch 21/1000\n",
      "2/2 [==============================] - 0s 55ms/step - loss: 0.4032 - accuracy: 0.8300 - val_loss: 1.6290 - val_accuracy: 0.5800\n",
      "Epoch 22/1000\n",
      "2/2 [==============================] - 0s 56ms/step - loss: 0.2350 - accuracy: 0.9400 - val_loss: 1.6369 - val_accuracy: 0.5300\n",
      "Epoch 23/1000\n",
      "2/2 [==============================] - 0s 55ms/step - loss: 0.1240 - accuracy: 0.9600 - val_loss: 1.6042 - val_accuracy: 0.6000\n",
      "Epoch 24/1000\n",
      "2/2 [==============================] - 0s 54ms/step - loss: 0.1051 - accuracy: 0.9500 - val_loss: 1.5898 - val_accuracy: 0.3300\n",
      "Epoch 25/1000\n",
      "2/2 [==============================] - 0s 54ms/step - loss: 0.0384 - accuracy: 0.9900 - val_loss: 1.5372 - val_accuracy: 0.5300\n",
      "Epoch 26/1000\n",
      "2/2 [==============================] - 0s 55ms/step - loss: 0.0547 - accuracy: 0.9600 - val_loss: 1.5174 - val_accuracy: 0.3700\n",
      "Epoch 27/1000\n",
      "2/2 [==============================] - 0s 54ms/step - loss: 0.0884 - accuracy: 0.9500 - val_loss: 1.5960 - val_accuracy: 0.4000\n",
      "Epoch 28/1000\n",
      "2/2 [==============================] - 0s 59ms/step - loss: 0.0527 - accuracy: 0.9800 - val_loss: 1.5319 - val_accuracy: 0.3900\n",
      "Epoch 29/1000\n",
      "2/2 [==============================] - 0s 61ms/step - loss: 0.0209 - accuracy: 0.9900 - val_loss: 1.5296 - val_accuracy: 0.3100\n",
      "Epoch 30/1000\n",
      "2/2 [==============================] - 0s 59ms/step - loss: 0.0254 - accuracy: 0.9900 - val_loss: 1.5399 - val_accuracy: 0.4100\n",
      "Epoch 31/1000\n",
      "2/2 [==============================] - 0s 55ms/step - loss: 0.0300 - accuracy: 0.9900 - val_loss: 1.4873 - val_accuracy: 0.3700\n",
      "Epoch 32/1000\n",
      "2/2 [==============================] - 0s 54ms/step - loss: 0.0052 - accuracy: 1.0000 - val_loss: 1.4938 - val_accuracy: 0.3900\n",
      "Epoch 33/1000\n",
      "2/2 [==============================] - 0s 55ms/step - loss: 0.0014 - accuracy: 1.0000 - val_loss: 1.4789 - val_accuracy: 0.3600\n",
      "Epoch 34/1000\n",
      "2/2 [==============================] - 0s 60ms/step - loss: 8.0813e-04 - accuracy: 1.0000 - val_loss: 1.4753 - val_accuracy: 0.3900\n",
      "Epoch 35/1000\n",
      "2/2 [==============================] - 0s 58ms/step - loss: 4.5846e-04 - accuracy: 1.0000 - val_loss: 1.4751 - val_accuracy: 0.3700\n",
      "Epoch 36/1000\n",
      "2/2 [==============================] - 0s 53ms/step - loss: 3.0654e-04 - accuracy: 1.0000 - val_loss: 1.4865 - val_accuracy: 0.3800\n",
      "Epoch 37/1000\n",
      "2/2 [==============================] - 0s 53ms/step - loss: 2.3457e-04 - accuracy: 1.0000 - val_loss: 1.4990 - val_accuracy: 0.4000\n",
      "Epoch 38/1000\n",
      "2/2 [==============================] - 0s 54ms/step - loss: 1.5406e-04 - accuracy: 1.0000 - val_loss: 1.4933 - val_accuracy: 0.3900\n",
      "Epoch 39/1000\n",
      "2/2 [==============================] - 0s 53ms/step - loss: 1.2829e-04 - accuracy: 1.0000 - val_loss: 1.4930 - val_accuracy: 0.3900\n",
      "Epoch 40/1000\n",
      "2/2 [==============================] - 0s 55ms/step - loss: 1.0834e-04 - accuracy: 1.0000 - val_loss: 1.4942 - val_accuracy: 0.3800\n",
      "Epoch 41/1000\n",
      "2/2 [==============================] - 0s 54ms/step - loss: 1.0235e-04 - accuracy: 1.0000 - val_loss: 1.4804 - val_accuracy: 0.4100\n",
      "Epoch 42/1000\n",
      "2/2 [==============================] - 0s 55ms/step - loss: 7.9172e-05 - accuracy: 1.0000 - val_loss: 1.4825 - val_accuracy: 0.4000\n",
      "Epoch 43/1000\n",
      "2/2 [==============================] - 0s 54ms/step - loss: 6.2738e-05 - accuracy: 1.0000 - val_loss: 1.5006 - val_accuracy: 0.4100\n",
      "Epoch 44/1000\n",
      "2/2 [==============================] - 0s 55ms/step - loss: 5.3614e-05 - accuracy: 1.0000 - val_loss: 1.5012 - val_accuracy: 0.4100\n",
      "Epoch 45/1000\n",
      "2/2 [==============================] - 0s 55ms/step - loss: 4.5683e-05 - accuracy: 1.0000 - val_loss: 1.5042 - val_accuracy: 0.4000\n",
      "Epoch 46/1000\n",
      "2/2 [==============================] - 0s 55ms/step - loss: 4.1964e-05 - accuracy: 1.0000 - val_loss: 1.5093 - val_accuracy: 0.4200\n",
      "Epoch 47/1000\n",
      "2/2 [==============================] - 0s 54ms/step - loss: 3.4780e-05 - accuracy: 1.0000 - val_loss: 1.5286 - val_accuracy: 0.4100\n",
      "Epoch 48/1000\n",
      "2/2 [==============================] - 0s 53ms/step - loss: 3.0519e-05 - accuracy: 1.0000 - val_loss: 1.5348 - val_accuracy: 0.4000\n",
      "Epoch 49/1000\n",
      "2/2 [==============================] - 0s 53ms/step - loss: 2.6429e-05 - accuracy: 1.0000 - val_loss: 1.5466 - val_accuracy: 0.4300\n",
      "Epoch 50/1000\n",
      "2/2 [==============================] - 0s 54ms/step - loss: 2.3044e-05 - accuracy: 1.0000 - val_loss: 1.5636 - val_accuracy: 0.4000\n",
      "Epoch 51/1000\n",
      "2/2 [==============================] - 0s 54ms/step - loss: 1.6609e-05 - accuracy: 1.0000 - val_loss: 1.5797 - val_accuracy: 0.3600\n",
      "Epoch 52/1000\n",
      "2/2 [==============================] - 0s 54ms/step - loss: 1.6447e-05 - accuracy: 1.0000 - val_loss: 1.5929 - val_accuracy: 0.3600\n",
      "Epoch 53/1000\n",
      "2/2 [==============================] - 0s 55ms/step - loss: 1.3121e-05 - accuracy: 1.0000 - val_loss: 1.6137 - val_accuracy: 0.3600\n",
      "Epoch 54/1000\n",
      "2/2 [==============================] - 0s 54ms/step - loss: 1.2311e-05 - accuracy: 1.0000 - val_loss: 1.5841 - val_accuracy: 0.4300\n",
      "Epoch 55/1000\n",
      "2/2 [==============================] - 0s 54ms/step - loss: 1.5260e-05 - accuracy: 1.0000 - val_loss: 1.6689 - val_accuracy: 0.3500\n",
      "Epoch 56/1000\n",
      "2/2 [==============================] - 0s 55ms/step - loss: 9.6173e-06 - accuracy: 1.0000 - val_loss: 1.6019 - val_accuracy: 0.4100\n",
      "Epoch 57/1000\n",
      "2/2 [==============================] - 0s 54ms/step - loss: 1.0592e-05 - accuracy: 1.0000 - val_loss: 1.6667 - val_accuracy: 0.3500\n",
      "Epoch 58/1000\n"
     ]
    },
    {
     "name": "stdout",
     "output_type": "stream",
     "text": [
      "2/2 [==============================] - 0s 55ms/step - loss: 6.2095e-06 - accuracy: 1.0000 - val_loss: 1.6920 - val_accuracy: 0.3300\n",
      "Epoch 59/1000\n",
      "2/2 [==============================] - 0s 55ms/step - loss: 6.6731e-06 - accuracy: 1.0000 - val_loss: 1.6454 - val_accuracy: 0.4000\n",
      "Epoch 60/1000\n",
      "2/2 [==============================] - 0s 68ms/step - loss: 6.2465e-06 - accuracy: 1.0000 - val_loss: 1.6698 - val_accuracy: 0.3500\n",
      "2/2 [==============================] - 0s 6ms/step - loss: 1.6384 - accuracy: 0.7300\n",
      "np.shape(X_test)= (2425, 1025, 1)\n",
      "Accuracy=  0.7300000190734863\n"
     ]
    }
   ],
   "source": [
    "#VGG16_1D\n",
    "\n",
    "accuracy=0\n",
    "acc_crs=np.array([])\n",
    "##for i in range (10):\n",
    "##    if accuracy<0.2 :\n",
    "\n",
    "verbose, epochs, batch_size = 1, 1000, 80\n",
    "n_timesteps, n_features, n_outputs = X_train.shape[1], X_train.shape[2], y_train_cat.shape[1]\n",
    "steps_per_epoch = len(X_train)//batch_size\n",
    "validation_steps = len(X_valid)//batch_size # if you have test data\n",
    "\n",
    "\n",
    "\n",
    "model_crs = Sequential()\n",
    "#model_crs.add(Conv1D(input_shape=x_train.shape[1:],filters=64,kernel_size=9,padding=\"same\", activation=\"relu\"))\n",
    "model_crs.add(Conv1D(filters=256, kernel_size=12, strides=1, activation='relu', input_shape=(n_timesteps,n_features))) #Replaced\n",
    "model_crs.add(BatchNormalization())\n",
    "model_crs.add(MaxPooling1D(pool_size=2,strides=3))\n",
    "\n",
    "model_crs.add(Conv1D(filters=64, kernel_size=7, strides=1, padding=\"same\", activation=\"relu\"))\n",
    "model_crs.add(BatchNormalization())\n",
    "model_crs.add(MaxPooling1D(pool_size=2,strides=2))\n",
    "\n",
    "model_crs.add(Conv1D(filters=64, kernel_size=10, strides=1, padding=\"same\", activation=\"relu\"))\n",
    "model_crs.add(Conv1D(filters=128, kernel_size=5, strides=2, padding=\"same\", activation=\"relu\"))\n",
    "model_crs.add(MaxPooling1D(pool_size=2,strides=2))\n",
    "\n",
    "model_crs.add(Conv1D(filters=512, kernel_size=15, strides=1, padding=\"same\", activation=\"relu\"))\n",
    "model_crs.add(MaxPooling1D(pool_size=2,strides=2))\n",
    "\n",
    "model_crs.add(Conv1D(filters=1024, kernel_size=5, strides=1, padding=\"same\", activation=\"relu\"))\n",
    "#model_crs.add(Conv1D(filters=128, kernel_size=3, strides=1, padding=\"same\", activation=\"relu\"))\n",
    "\n",
    "\n",
    "model_crs.add(Flatten())\n",
    "model_crs.add(Dropout(0.1))\n",
    "model_crs.add(Dense(units=512,activation=\"relu\"))\n",
    "#model_crs.add(Dense(units=2048,activation=\"relu\"))\n",
    "model_crs.add(Dense(n_outputs, activation='softmax'))   #Replaced here from old Model\n",
    "\n",
    "model_crs.compile(optimizer='rmsprop', loss='categorical_crossentropy', metrics=['accuracy'])\n",
    "# fit network   #CategoricalCrossentropy #sparse_categorical_crossentropy #SparseCategoricalCrossentropy\n",
    "\n",
    "earlystopping = callbacks.EarlyStopping(monitor =\"val_accuracy\", mode =\"max\", patience = 50, restore_best_weights = True)\n",
    "\n",
    "model_crs.fit(X_train, y_train_cat, epochs=epochs, batch_size=batch_size, verbose=verbose, validation_data = (X_valid, y_valid_cat), callbacks =[earlystopping])\n",
    "\n",
    "_, accuracy = model_crs.evaluate(X_valid, y_valid_cat, batch_size=batch_size, verbose=1)\n",
    "\n",
    "print('np.shape(X_test)=',np.shape(X_test))\n",
    "\n",
    "print('Accuracy= ', accuracy)\n",
    "\n",
    "#y_pred_vgg = model_crs.predict_classes(X_test)\n"
   ]
  },
  {
   "cell_type": "code",
   "execution_count": 27,
   "metadata": {},
   "outputs": [
    {
     "name": "stdout",
     "output_type": "stream",
     "text": [
      "76/76 [==============================] - 1s 7ms/step\n",
      "array([[425,   1,   0,  21,  11],\n",
      "       [ 65, 531,   0,  56,   2],\n",
      "       [ 32,   5,  12, 361,   8],\n",
      "       [ 58,   2,   1, 514,   6],\n",
      "       [  8,   2,   0,  49, 255]], dtype=int64)\n",
      "              precision    recall  f1-score   support\n",
      "\n",
      "           1       0.72      0.93      0.81       458\n",
      "           2       0.98      0.81      0.89       654\n",
      "           3       0.92      0.03      0.06       418\n",
      "           4       0.51      0.88      0.65       581\n",
      "           5       0.90      0.81      0.86       314\n",
      "\n",
      "    accuracy                           0.72      2425\n",
      "   macro avg       0.81      0.69      0.65      2425\n",
      "weighted avg       0.80      0.72      0.67      2425\n",
      "\n"
     ]
    }
   ],
   "source": [
    "predict_x=model_crs.predict(X_test)              # Function 1\n",
    "\n",
    "y_pred_crs=maxindx(predict_x)                    # function from augment.py to remove 0 index predictions\n",
    "\n",
    "#y_pred_crs = model_crs.predict_classes(X_test)\n",
    "\n",
    "cm = confusion_matrix(y_test, y_pred_crs)\n",
    "fullprint(cm)\n",
    "acc3=accuracy_score(y_test, y_pred_crs)\n",
    "\n",
    "print(classification_report(y_test, y_pred_crs))\n",
    "\n",
    "#sns.heatmap(cm, annot=True)\n",
    "\n",
    "#plt.imshow(cm)"
   ]
  },
  {
   "cell_type": "code",
   "execution_count": null,
   "metadata": {},
   "outputs": [],
   "source": []
  }
 ],
 "metadata": {
  "celltoolbar": "Raw Cell Format",
  "kernelspec": {
   "display_name": "Python 3 (ipykernel)",
   "language": "python",
   "name": "python3"
  },
  "language_info": {
   "codemirror_mode": {
    "name": "ipython",
    "version": 3
   },
   "file_extension": ".py",
   "mimetype": "text/x-python",
   "name": "python",
   "nbconvert_exporter": "python",
   "pygments_lexer": "ipython3",
   "version": "3.9.7"
  }
 },
 "nbformat": 4,
 "nbformat_minor": 4
}
