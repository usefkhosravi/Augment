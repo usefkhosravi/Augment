{
 "cells": [
  {
   "cell_type": "markdown",
   "metadata": {},
   "source": [
    "import time\n",
    "plc=1\n",
    "time.sleep(3000*plc)         #run after 1 houre = 3600 seconds"
   ]
  },
  {
   "cell_type": "code",
   "execution_count": 1,
   "metadata": {},
   "outputs": [
    {
     "data": {
      "text/html": [
       "<style>#notebook { padding-top:0px !important; } .container { width:100% !important; } .end_space { min-height:0px !important; } html, body, .container{ margin:0!important;padding:0!important;}</style>"
      ],
      "text/plain": [
       "<IPython.core.display.HTML object>"
      ]
     },
     "metadata": {},
     "output_type": "display_data"
    }
   ],
   "source": [
    "import os\n",
    "import glob\n",
    "import scipy\n",
    "import random\n",
    "import bisect\n",
    "import numpy as np\n",
    "import pandas as pd\n",
    "import seaborn as sns\n",
    "from scipy import signal\n",
    "from scipy.signal import find_peaks\n",
    "import matplotlib.pyplot as plt\n",
    "from preprocess import *                         #ماژول استخراج پنجره ها\n",
    "from data import *                          #ماژول محلی ورود داده ها\n",
    "from augment import *                            #ماژول های داده افزایی\n",
    "from lstm_cnn import *                           #ماژول های داده افزایی با lstm_cnn\n",
    "import augment\n",
    "import importlib\n",
    "importlib.reload(augment)\n",
    "import tensorflow as tf\n",
    "from tensorflow import keras\n",
    "from tensorflow.keras.layers import BatchNormalization,Input,ReLU,add,MaxPool1D,GlobalAveragePooling1D\n",
    "from sklearn.model_selection import train_test_split\n",
    "from sklearn.neural_network import MLPClassifier\n",
    "from sklearn.datasets import make_classification\n",
    "from sklearn.metrics import confusion_matrix, accuracy_score, classification_report,recall_score,precision_score,mean_absolute_error\n",
    "from tensorflow.keras import callbacks,Model,layers\n",
    "from tensorflow.keras.models import Sequential\n",
    "from tensorflow.keras.layers import Convolution2D,Conv1D,Dropout,MaxPooling1D,MaxPooling2D,Flatten,Dense\n",
    "from tensorflow.keras import backend as K\n",
    "from tensorflow.keras.utils import to_categorical\n",
    "from tensorflow.keras.models import load_model\n",
    "from keras.callbacks import EarlyStopping, ModelCheckpoint\n",
    "cwd = os.getcwd() #\n",
    "fullscrn()"
   ]
  },
  {
   "cell_type": "markdown",
   "metadata": {},
   "source": [
    "<h1><center><div style=\"direction:rtl;font-family:B Nazanin\">Importing Data</div></center></h1>"
   ]
  },
  {
   "cell_type": "code",
   "execution_count": 2,
   "metadata": {
    "scrolled": true
   },
   "outputs": [
    {
     "name": "stderr",
     "output_type": "stream",
     "text": [
      "C:\\ProgramData\\Anaconda3\\lib\\site-packages\\pandas\\util\\_decorators.py:311: ParserWarning: Falling back to the 'python' engine because the 'c' engine does not support regex separators (separators > 1 char and different from '\\s+' are interpreted as regex); you can avoid this warning by specifying engine='python'.\n",
      "  return func(*args, **kwargs)\n"
     ]
    },
    {
     "name": "stdout",
     "output_type": "stream",
     "text": [
      "first_train_shape= (100, 1025)\n",
      "first_test_shape= (2425, 1025)\n",
      "classes_quantity= 5\n",
      "tr_lbls=\t {1, 2, 3, 4, 5}\n",
      "Count_labels= [20 20 20 20 20]\n",
      "max(train_feature_Altitude)= 5.0\n",
      "min(train_feature_Altitude)= -2.8941765\n",
      "first_train_sample=\n",
      " [1.        1.1309687 1.1204832 ... 1.0931087 1.1025334 1.1120469]\n",
      "1 20\t2 20\t3 20\t4 20\t5 20\t"
     ]
    }
   ],
   "source": [
    "rate=1024\n",
    "cls_num=5\n",
    "btch=20\n",
    "for i in range (1,cls_num+1):\n",
    "    vars()['ecg'+str(i)],vars()['ecg_tst'+str(i)]=MixedShapesSmallTrain0(i)\n",
    "\n",
    "os.chdir(cwd)\n",
    "clses_lens=np.array([])\n",
    "i=0                               #جمع آوری داده ها و چاپ تعداد نمونه ی هر کلاس\n",
    "ecg=np.array(ecg1)\n",
    "print(1,len(vars()['ecg'+str(1)]), end='\\t')\n",
    "clses_lens=np.append(clses_lens,len(vars()['ecg'+str(1)]))\n",
    "for i in range (2,cls_num+1):\n",
    "    ecg=np.concatenate((ecg,vars()['ecg'+str(i)]),axis=0)\n",
    "    clses_lens=np.append(clses_lens,len(vars()['ecg'+str(i)]))\n",
    "    print(i,len(vars()['ecg'+str(i)]), end='\\t')\n",
    "\n",
    "mx_sig=max(clses_lens)"
   ]
  },
  {
   "cell_type": "code",
   "execution_count": 3,
   "metadata": {},
   "outputs": [
    {
     "data": {
      "text/plain": [
       "(100, 1025)"
      ]
     },
     "execution_count": 3,
     "metadata": {},
     "output_type": "execute_result"
    }
   ],
   "source": [
    "np.shape(ecg)"
   ]
  },
  {
   "cell_type": "code",
   "execution_count": 4,
   "metadata": {},
   "outputs": [
    {
     "data": {
      "text/plain": [
       "array([1., 1., 1., 1., 1., 1., 1., 1., 1., 1., 1., 1., 1., 1., 1., 1., 1.,\n",
       "       1., 1., 1., 2., 2., 2., 2., 2., 2., 2., 2., 2., 2., 2., 2., 2., 2.,\n",
       "       2., 2., 2., 2., 2., 2., 3., 3., 3., 3., 3., 3., 3., 3., 3., 3., 3.,\n",
       "       3., 3., 3., 3., 3., 3., 3., 3., 3., 4., 4., 4., 4., 4., 4., 4., 4.,\n",
       "       4., 4., 4., 4., 4., 4., 4., 4., 4., 4., 4., 4., 5., 5., 5., 5., 5.,\n",
       "       5., 5., 5., 5., 5., 5., 5., 5., 5., 5., 5., 5., 5., 5., 5.])"
      ]
     },
     "execution_count": 4,
     "metadata": {},
     "output_type": "execute_result"
    }
   ],
   "source": [
    "ecg[:,-1]"
   ]
  },
  {
   "cell_type": "markdown",
   "metadata": {},
   "source": [
    "<h2><center><div style=\"direction:rtl;font-family:B Nazanin\">Base Train windows</div></center></h1>"
   ]
  },
  {
   "cell_type": "code",
   "execution_count": 5,
   "metadata": {},
   "outputs": [
    {
     "name": "stdout",
     "output_type": "stream",
     "text": [
      "each class and its windows =\n",
      "1 20\t2 20\t3 20\t4 20\t5 20\t\n",
      " max = 20\n"
     ]
    }
   ],
   "source": [
    "smpl_rte=rate                                              # در ماژول ها نیز همین مقدار ثبت شده\n",
    "i=0\n",
    "windws=np.array([])\n",
    "\n",
    "for cls in range (1,cls_num+1):                                 #ساخت پنجره های داده های آموزش اصلی\n",
    "    vars()['wndws'+str(cls)]=np.array(vars()['ecg'+str(cls)])  \n",
    "    \n",
    "print(\"each class and its windows =\")\n",
    "\n",
    "cls_wndws=np.array([])\n",
    "for cls in range (1,cls_num+1):                                # آرایه ی تعداد پنجره ی هر کلاس\n",
    "    wns=len(vars()['wndws'+str(cls)])\n",
    "    cls_wndws=np.append(cls_wndws,wns)\n",
    "    print(cls, wns, end='\\t')\n",
    "\n",
    "mx_wndws=int(np.max(cls_wndws))                        # حداکثر تعداد پنجره ی موجود بین کلاس ها\n",
    "print('\\n max =', mx_wndws)"
   ]
  },
  {
   "cell_type": "raw",
   "metadata": {},
   "source": [
    "#clses=3                                   #تعیین میزان افزایش نمونه (تولید داده)\n",
    "mx_wndws=int(mx_wndws)  #mx_wndws*0.3  # =classes-1 برای بررسی الگوریتم تعداد کمی کلاس آزمایش شد\n",
    "mx_wndws=2598           #+2\n",
    "print(mx_wndws)"
   ]
  },
  {
   "cell_type": "markdown",
   "metadata": {},
   "source": [
    "<h1><center><div style=\"direction:rtl;font-family:B Nazanin\">Data Augmentation</div></center></h1>"
   ]
  },
  {
   "cell_type": "code",
   "execution_count": 6,
   "metadata": {},
   "outputs": [
    {
     "name": "stdout",
     "output_type": "stream",
     "text": [
      "Up to class  1 train shape =  (20, 1025)\n",
      "Up to class  2 train shape =  (40, 1025)\n",
      "Up to class  3 train shape =  (60, 1025)\n",
      "Up to class  4 train shape =  (80, 1025)\n",
      "Up to class  5 train shape =  (100, 1025)\n"
     ]
    }
   ],
   "source": [
    "smpl_rte=len(wndws1[0])                                        # در ماژول ها نیز همین مقدار ثبت شده\n",
    "\n",
    "#add augmented data to base data\n",
    "xtrain=np.empty((0,len(wndws1[0])), float) \n",
    "for i in range (1,cls_num+1):   \n",
    "    xtrain=np.append(xtrain,vars()['wndws'+str(i)],axis=0)\n",
    "    print('Up to class ', i, 'train shape = ', np.shape(xtrain))"
   ]
  },
  {
   "cell_type": "code",
   "execution_count": 7,
   "metadata": {},
   "outputs": [
    {
     "name": "stdout",
     "output_type": "stream",
     "text": [
      "[ 0 20 20 20 20 20]\n"
     ]
    }
   ],
   "source": [
    "print(np.bincount(np.int16(xtrain[:,-1])))    #تعداد پنجره در هر کلاس از 0 تا 17"
   ]
  },
  {
   "cell_type": "code",
   "execution_count": 8,
   "metadata": {},
   "outputs": [
    {
     "data": {
      "text/plain": [
       "array([1., 1., 1., 1., 1., 1., 1., 1., 1., 1., 1., 1., 1., 1., 1., 1., 1.,\n",
       "       1., 1., 1., 2., 2., 2., 2., 2., 2., 2., 2., 2., 2., 2., 2., 2., 2.,\n",
       "       2., 2., 2., 2., 2., 2., 3., 3., 3., 3., 3., 3., 3., 3., 3., 3., 3.,\n",
       "       3., 3., 3., 3., 3., 3., 3., 3., 3., 4., 4., 4., 4., 4., 4., 4., 4.,\n",
       "       4., 4., 4., 4., 4., 4., 4., 4., 4., 4., 4., 4., 5., 5., 5., 5., 5.,\n",
       "       5., 5., 5., 5., 5., 5., 5., 5., 5., 5., 5., 5., 5., 5., 5.])"
      ]
     },
     "execution_count": 8,
     "metadata": {},
     "output_type": "execute_result"
    }
   ],
   "source": [
    "xtrain[:,-1]"
   ]
  },
  {
   "cell_type": "code",
   "execution_count": 9,
   "metadata": {},
   "outputs": [],
   "source": [
    "mx_aug=np.max(xtrain[:,:-1])\n",
    "mx=np.max(ecg[:,:-1])\n",
    "mn_aug=np.min(xtrain[:,:-1])\n",
    "mn=np.min(ecg[:,:-1])\n",
    "\n",
    "#for i in range (1,cls_num+1):             #نرمالسازی داده های افزایشی\n",
    "xtrain[:,:-1]= 2*(xtrain[:,:-1]-mn_aug)/(mx_aug - mn_aug) - 1"
   ]
  },
  {
   "cell_type": "code",
   "execution_count": 10,
   "metadata": {},
   "outputs": [
    {
     "name": "stdout",
     "output_type": "stream",
     "text": [
      "min trn = -1.0\n",
      "max trn = 1.0\n"
     ]
    }
   ],
   "source": [
    "print('min trn =', np.min(xtrain[:,:-1]))\n",
    "print('max trn =', np.max(xtrain[:,:-1]))"
   ]
  },
  {
   "cell_type": "markdown",
   "metadata": {},
   "source": [
    "<h3><center><div style=\"direction:rtl;font-family:B Nazanin\">Test Windows</div></center></h1>"
   ]
  },
  {
   "cell_type": "code",
   "execution_count": 11,
   "metadata": {},
   "outputs": [],
   "source": [
    "wndws_test=np.empty((0,len(wndws1[0])), float)\n",
    "i=0\n",
    "windws=np.array([])\n",
    "for cls in range (1,cls_num+1):                                 #ساخت پنجره های داده های آموزش اصلی\n",
    "    vars()['wndws_tst'+str(cls)]=np.empty((0,len(wndws1[0])), float)\n",
    "    vars()['wndws_tst'+str(cls)]=np.append(vars()['wndws_tst'+str(cls)],vars()['ecg_tst'+str(cls)],axis=0)   "
   ]
  },
  {
   "cell_type": "code",
   "execution_count": 12,
   "metadata": {},
   "outputs": [
    {
     "name": "stdout",
     "output_type": "stream",
     "text": [
      "\n",
      " cls 1  >> \n",
      "max magnitude class 1  =  3.2147954000000003\n",
      "min magnitude class 1  =  -2.8853939\n",
      "after normalizing >>\n",
      "max magnitude class 1  =  1.1640359935145925\n",
      "min magnitude class 1  =  -0.9968888607072098\n",
      "\n",
      " cls 2  >> \n",
      "max magnitude class 2  =  2.1563458\n",
      "min magnitude class 2  =  -3.1616234000000003\n",
      "after normalizing >>\n",
      "max magnitude class 2  =  0.7890918835701477\n",
      "min magnitude class 2  =  -1.0947401178836489\n",
      "\n",
      " cls 3  >> \n",
      "max magnitude class 3  =  3.2339357999999994\n",
      "min magnitude class 3  =  -2.679459\n",
      "after normalizing >>\n",
      "max magnitude class 3  =  1.1708162693463189\n",
      "min magnitude class 3  =  -0.9239386911507206\n",
      "\n",
      " cls 4  >> \n",
      "max magnitude class 4  =  2.9995496\n",
      "min magnitude class 4  =  -3.2768523000000007\n",
      "after normalizing >>\n",
      "max magnitude class 4  =  1.0877875402105524\n",
      "min magnitude class 4  =  -1.1355586862409686\n",
      "\n",
      " cls 5  >> \n",
      "max magnitude class 5  =  2.7769078\n",
      "min magnitude class 5  =  -2.6748398\n",
      "after normalizing >>\n",
      "max magnitude class 5  =  1.0089191353876594\n",
      "min magnitude class 5  =  -0.9223023904400818\n",
      "each class and its windows =\n",
      "1 458\t2 654\t3 418\t4 581\t5 314\t\n",
      " max instance in classes of test windows = 654\n"
     ]
    }
   ],
   "source": [
    "#print(np.max(wndws_tst))\n",
    "for i in range (1,cls_num+1):                # Normalization test windows\n",
    "    cls=i\n",
    "    print('\\n cls', i, ' >> ')\n",
    "    print('max magnitude class', i , ' = ' ,np.max(vars()['wndws_tst'+str(cls)][:,:-1]))\n",
    "    print('min magnitude class', i , ' = ' ,np.min(vars()['wndws_tst'+str(cls)][:,:-1]))\n",
    "\n",
    "    vars()['wndws_tst'+str(i)][:,:-1]= 2*(vars()['wndws_tst'+str(i)][:,:-1]-mn_aug)/(mx_aug - mn_aug) - 1\n",
    "    \n",
    "    print('after normalizing >>')\n",
    "    print('max magnitude class', i , ' = ' ,np.max(vars()['wndws_tst'+str(cls)][:,:-1]))\n",
    "    print('min magnitude class', i , ' = ' ,np.min(vars()['wndws_tst'+str(cls)][:,:-1]))\n",
    "    \n",
    "print(\"each class and its windows =\")                    #تجمیع کلاس های تست\n",
    "cls_wndws=np.array([])\n",
    "for cls in range (1,cls_num+1):                                # آرایه ی تعداد پنجره ی هر کلاس\n",
    "    wns=len(vars()['wndws_tst'+str(cls)])\n",
    "    cls_wndws=np.append(cls_wndws,wns)\n",
    "    print(cls, wns, end='\\t')\n",
    "    wndws_test=np.append(wndws_test,vars()['wndws_tst'+str(cls)],axis=0)\n",
    "    \n",
    "mx_wndws=int(np.max(cls_wndws))                        # حداکثر تعداد پنجره ی موجود بین کلاس ها\n",
    "print('\\n max instance in classes of test windows =', mx_wndws)"
   ]
  },
  {
   "cell_type": "code",
   "execution_count": 13,
   "metadata": {},
   "outputs": [
    {
     "name": "stdout",
     "output_type": "stream",
     "text": [
      "min tst = -1.1355586862409686\n",
      "max tst = 1.1708162693463189\n"
     ]
    }
   ],
   "source": [
    "print('min tst =', np.min(wndws_test[:,:-1]))\n",
    "print('max tst =', np.max(wndws_test[:,:-1]))"
   ]
  },
  {
   "cell_type": "code",
   "execution_count": 14,
   "metadata": {},
   "outputs": [
    {
     "data": {
      "text/plain": [
       "2425"
      ]
     },
     "execution_count": 14,
     "metadata": {},
     "output_type": "execute_result"
    }
   ],
   "source": [
    "len(wndws_test)"
   ]
  },
  {
   "cell_type": "code",
   "execution_count": 15,
   "metadata": {},
   "outputs": [
    {
     "data": {
      "text/plain": [
       "(2425, 1025)"
      ]
     },
     "execution_count": 15,
     "metadata": {},
     "output_type": "execute_result"
    }
   ],
   "source": [
    "np.shape(wndws_test)"
   ]
  },
  {
   "cell_type": "code",
   "execution_count": 16,
   "metadata": {},
   "outputs": [],
   "source": [
    "Xtest=wndws_test[:,:-1]\n",
    "ytest=np.int16(wndws_test[:,-1])"
   ]
  },
  {
   "cell_type": "code",
   "execution_count": 17,
   "metadata": {},
   "outputs": [
    {
     "name": "stdout",
     "output_type": "stream",
     "text": [
      "array([1, 1, 1, 1, 1, 1, 1, 1, 1, 1, 1, 1, 1, 1, 1, 1, 1, 1, 1, 1, 1, 1,\n",
      "       1, 1, 1, 1, 1, 1, 1, 1, 1, 1, 1, 1, 1, 1, 1, 1, 1, 1, 1, 1, 1, 1,\n",
      "       1, 1, 1, 1, 1, 1, 1, 1, 1, 1, 1, 1, 1, 1, 1, 1, 1, 1, 1, 1, 1, 1,\n",
      "       1, 1, 1, 1, 1, 1, 1, 1, 1, 1, 1, 1, 1, 1, 1, 1, 1, 1, 1, 1, 1, 1,\n",
      "       1, 1, 1, 1, 1, 1, 1, 1, 1, 1, 1, 1, 1, 1, 1, 1, 1, 1, 1, 1, 1, 1,\n",
      "       1, 1, 1, 1, 1, 1, 1, 1, 1, 1, 1, 1, 1, 1, 1, 1, 1, 1, 1, 1, 1, 1,\n",
      "       1, 1, 1, 1, 1, 1, 1, 1, 1, 1, 1, 1, 1, 1, 1, 1, 1, 1, 1, 1, 1, 1,\n",
      "       1, 1, 1, 1, 1, 1, 1, 1, 1, 1, 1, 1, 1, 1, 1, 1, 1, 1, 1, 1, 1, 1,\n",
      "       1, 1, 1, 1, 1, 1, 1, 1, 1, 1, 1, 1, 1, 1, 1, 1, 1, 1, 1, 1, 1, 1,\n",
      "       1, 1, 1, 1, 1, 1, 1, 1, 1, 1, 1, 1, 1, 1, 1, 1, 1, 1, 1, 1, 1, 1,\n",
      "       1, 1, 1, 1, 1, 1, 1, 1, 1, 1, 1, 1, 1, 1, 1, 1, 1, 1, 1, 1, 1, 1,\n",
      "       1, 1, 1, 1, 1, 1, 1, 1, 1, 1, 1, 1, 1, 1, 1, 1, 1, 1, 1, 1, 1, 1,\n",
      "       1, 1, 1, 1, 1, 1, 1, 1, 1, 1, 1, 1, 1, 1, 1, 1, 1, 1, 1, 1, 1, 1,\n",
      "       1, 1, 1, 1, 1, 1, 1, 1, 1, 1, 1, 1, 1, 1, 1, 1, 1, 1, 1, 1, 1, 1,\n",
      "       1, 1, 1, 1, 1, 1, 1, 1, 1, 1, 1, 1, 1, 1, 1, 1, 1, 1, 1, 1, 1, 1,\n",
      "       1, 1, 1, 1, 1, 1, 1, 1, 1, 1, 1, 1, 1, 1, 1, 1, 1, 1, 1, 1, 1, 1,\n",
      "       1, 1, 1, 1, 1, 1, 1, 1, 1, 1, 1, 1, 1, 1, 1, 1, 1, 1, 1, 1, 1, 1,\n",
      "       1, 1, 1, 1, 1, 1, 1, 1, 1, 1, 1, 1, 1, 1, 1, 1, 1, 1, 1, 1, 1, 1,\n",
      "       1, 1, 1, 1, 1, 1, 1, 1, 1, 1, 1, 1, 1, 1, 1, 1, 1, 1, 1, 1, 1, 1,\n",
      "       1, 1, 1, 1, 1, 1, 1, 1, 1, 1, 1, 1, 1, 1, 1, 1, 1, 1, 1, 1, 1, 1,\n",
      "       1, 1, 1, 1, 1, 1, 1, 1, 1, 1, 1, 1, 1, 1, 1, 1, 1, 1, 2, 2, 2, 2,\n",
      "       2, 2, 2, 2, 2, 2, 2, 2, 2, 2, 2, 2, 2, 2, 2, 2, 2, 2, 2, 2, 2, 2,\n",
      "       2, 2, 2, 2, 2, 2, 2, 2, 2, 2, 2, 2, 2, 2, 2, 2, 2, 2, 2, 2, 2, 2,\n",
      "       2, 2, 2, 2, 2, 2, 2, 2, 2, 2, 2, 2, 2, 2, 2, 2, 2, 2, 2, 2, 2, 2,\n",
      "       2, 2, 2, 2, 2, 2, 2, 2, 2, 2, 2, 2, 2, 2, 2, 2, 2, 2, 2, 2, 2, 2,\n",
      "       2, 2, 2, 2, 2, 2, 2, 2, 2, 2, 2, 2, 2, 2, 2, 2, 2, 2, 2, 2, 2, 2,\n",
      "       2, 2, 2, 2, 2, 2, 2, 2, 2, 2, 2, 2, 2, 2, 2, 2, 2, 2, 2, 2, 2, 2,\n",
      "       2, 2, 2, 2, 2, 2, 2, 2, 2, 2, 2, 2, 2, 2, 2, 2, 2, 2, 2, 2, 2, 2,\n",
      "       2, 2, 2, 2, 2, 2, 2, 2, 2, 2, 2, 2, 2, 2, 2, 2, 2, 2, 2, 2, 2, 2,\n",
      "       2, 2, 2, 2, 2, 2, 2, 2, 2, 2, 2, 2, 2, 2, 2, 2, 2, 2, 2, 2, 2, 2,\n",
      "       2, 2, 2, 2, 2, 2, 2, 2, 2, 2, 2, 2, 2, 2, 2, 2, 2, 2, 2, 2, 2, 2,\n",
      "       2, 2, 2, 2, 2, 2, 2, 2, 2, 2, 2, 2, 2, 2, 2, 2, 2, 2, 2, 2, 2, 2,\n",
      "       2, 2, 2, 2, 2, 2, 2, 2, 2, 2, 2, 2, 2, 2, 2, 2, 2, 2, 2, 2, 2, 2,\n",
      "       2, 2, 2, 2, 2, 2, 2, 2, 2, 2, 2, 2, 2, 2, 2, 2, 2, 2, 2, 2, 2, 2,\n",
      "       2, 2, 2, 2, 2, 2, 2, 2, 2, 2, 2, 2, 2, 2, 2, 2, 2, 2, 2, 2, 2, 2,\n",
      "       2, 2, 2, 2, 2, 2, 2, 2, 2, 2, 2, 2, 2, 2, 2, 2, 2, 2, 2, 2, 2, 2,\n",
      "       2, 2, 2, 2, 2, 2, 2, 2, 2, 2, 2, 2, 2, 2, 2, 2, 2, 2, 2, 2, 2, 2,\n",
      "       2, 2, 2, 2, 2, 2, 2, 2, 2, 2, 2, 2, 2, 2, 2, 2, 2, 2, 2, 2, 2, 2,\n",
      "       2, 2, 2, 2, 2, 2, 2, 2, 2, 2, 2, 2, 2, 2, 2, 2, 2, 2, 2, 2, 2, 2,\n",
      "       2, 2, 2, 2, 2, 2, 2, 2, 2, 2, 2, 2, 2, 2, 2, 2, 2, 2, 2, 2, 2, 2,\n",
      "       2, 2, 2, 2, 2, 2, 2, 2, 2, 2, 2, 2, 2, 2, 2, 2, 2, 2, 2, 2, 2, 2,\n",
      "       2, 2, 2, 2, 2, 2, 2, 2, 2, 2, 2, 2, 2, 2, 2, 2, 2, 2, 2, 2, 2, 2,\n",
      "       2, 2, 2, 2, 2, 2, 2, 2, 2, 2, 2, 2, 2, 2, 2, 2, 2, 2, 2, 2, 2, 2,\n",
      "       2, 2, 2, 2, 2, 2, 2, 2, 2, 2, 2, 2, 2, 2, 2, 2, 2, 2, 2, 2, 2, 2,\n",
      "       2, 2, 2, 2, 2, 2, 2, 2, 2, 2, 2, 2, 2, 2, 2, 2, 2, 2, 2, 2, 2, 2,\n",
      "       2, 2, 2, 2, 2, 2, 2, 2, 2, 2, 2, 2, 2, 2, 2, 2, 2, 2, 2, 2, 2, 2,\n",
      "       2, 2, 2, 2, 2, 2, 2, 2, 2, 2, 2, 2, 2, 2, 2, 2, 2, 2, 2, 2, 2, 2,\n",
      "       2, 2, 2, 2, 2, 2, 2, 2, 2, 2, 2, 2, 2, 2, 2, 2, 2, 2, 2, 2, 2, 2,\n",
      "       2, 2, 2, 2, 2, 2, 2, 2, 2, 2, 2, 2, 2, 2, 2, 2, 2, 2, 2, 2, 2, 2,\n",
      "       2, 2, 2, 2, 2, 2, 2, 2, 2, 2, 2, 2, 2, 2, 2, 2, 2, 2, 2, 2, 2, 2,\n",
      "       2, 2, 2, 2, 2, 2, 2, 2, 2, 2, 2, 2, 3, 3, 3, 3, 3, 3, 3, 3, 3, 3,\n",
      "       3, 3, 3, 3, 3, 3, 3, 3, 3, 3, 3, 3, 3, 3, 3, 3, 3, 3, 3, 3, 3, 3,\n",
      "       3, 3, 3, 3, 3, 3, 3, 3, 3, 3, 3, 3, 3, 3, 3, 3, 3, 3, 3, 3, 3, 3,\n",
      "       3, 3, 3, 3, 3, 3, 3, 3, 3, 3, 3, 3, 3, 3, 3, 3, 3, 3, 3, 3, 3, 3,\n",
      "       3, 3, 3, 3, 3, 3, 3, 3, 3, 3, 3, 3, 3, 3, 3, 3, 3, 3, 3, 3, 3, 3,\n",
      "       3, 3, 3, 3, 3, 3, 3, 3, 3, 3, 3, 3, 3, 3, 3, 3, 3, 3, 3, 3, 3, 3,\n",
      "       3, 3, 3, 3, 3, 3, 3, 3, 3, 3, 3, 3, 3, 3, 3, 3, 3, 3, 3, 3, 3, 3,\n",
      "       3, 3, 3, 3, 3, 3, 3, 3, 3, 3, 3, 3, 3, 3, 3, 3, 3, 3, 3, 3, 3, 3,\n",
      "       3, 3, 3, 3, 3, 3, 3, 3, 3, 3, 3, 3, 3, 3, 3, 3, 3, 3, 3, 3, 3, 3,\n",
      "       3, 3, 3, 3, 3, 3, 3, 3, 3, 3, 3, 3, 3, 3, 3, 3, 3, 3, 3, 3, 3, 3,\n",
      "       3, 3, 3, 3, 3, 3, 3, 3, 3, 3, 3, 3, 3, 3, 3, 3, 3, 3, 3, 3, 3, 3,\n",
      "       3, 3, 3, 3, 3, 3, 3, 3, 3, 3, 3, 3, 3, 3, 3, 3, 3, 3, 3, 3, 3, 3,\n",
      "       3, 3, 3, 3, 3, 3, 3, 3, 3, 3, 3, 3, 3, 3, 3, 3, 3, 3, 3, 3, 3, 3,\n",
      "       3, 3, 3, 3, 3, 3, 3, 3, 3, 3, 3, 3, 3, 3, 3, 3, 3, 3, 3, 3, 3, 3,\n",
      "       3, 3, 3, 3, 3, 3, 3, 3, 3, 3, 3, 3, 3, 3, 3, 3, 3, 3, 3, 3, 3, 3,\n",
      "       3, 3, 3, 3, 3, 3, 3, 3, 3, 3, 3, 3, 3, 3, 3, 3, 3, 3, 3, 3, 3, 3,\n",
      "       3, 3, 3, 3, 3, 3, 3, 3, 3, 3, 3, 3, 3, 3, 3, 3, 3, 3, 3, 3, 3, 3,\n",
      "       3, 3, 3, 3, 3, 3, 3, 3, 3, 3, 3, 3, 3, 3, 3, 3, 3, 3, 3, 3, 3, 3,\n",
      "       3, 3, 3, 3, 3, 3, 3, 3, 3, 3, 3, 3, 3, 3, 3, 3, 3, 3, 3, 3, 3, 3,\n",
      "       3, 3, 3, 3, 3, 3, 3, 3, 3, 3, 3, 3, 4, 4, 4, 4, 4, 4, 4, 4, 4, 4,\n",
      "       4, 4, 4, 4, 4, 4, 4, 4, 4, 4, 4, 4, 4, 4, 4, 4, 4, 4, 4, 4, 4, 4,\n",
      "       4, 4, 4, 4, 4, 4, 4, 4, 4, 4, 4, 4, 4, 4, 4, 4, 4, 4, 4, 4, 4, 4,\n",
      "       4, 4, 4, 4, 4, 4, 4, 4, 4, 4, 4, 4, 4, 4, 4, 4, 4, 4, 4, 4, 4, 4,\n",
      "       4, 4, 4, 4, 4, 4, 4, 4, 4, 4, 4, 4, 4, 4, 4, 4, 4, 4, 4, 4, 4, 4,\n",
      "       4, 4, 4, 4, 4, 4, 4, 4, 4, 4, 4, 4, 4, 4, 4, 4, 4, 4, 4, 4, 4, 4,\n",
      "       4, 4, 4, 4, 4, 4, 4, 4, 4, 4, 4, 4, 4, 4, 4, 4, 4, 4, 4, 4, 4, 4,\n",
      "       4, 4, 4, 4, 4, 4, 4, 4, 4, 4, 4, 4, 4, 4, 4, 4, 4, 4, 4, 4, 4, 4,\n",
      "       4, 4, 4, 4, 4, 4, 4, 4, 4, 4, 4, 4, 4, 4, 4, 4, 4, 4, 4, 4, 4, 4,\n",
      "       4, 4, 4, 4, 4, 4, 4, 4, 4, 4, 4, 4, 4, 4, 4, 4, 4, 4, 4, 4, 4, 4,\n",
      "       4, 4, 4, 4, 4, 4, 4, 4, 4, 4, 4, 4, 4, 4, 4, 4, 4, 4, 4, 4, 4, 4,\n",
      "       4, 4, 4, 4, 4, 4, 4, 4, 4, 4, 4, 4, 4, 4, 4, 4, 4, 4, 4, 4, 4, 4,\n",
      "       4, 4, 4, 4, 4, 4, 4, 4, 4, 4, 4, 4, 4, 4, 4, 4, 4, 4, 4, 4, 4, 4,\n",
      "       4, 4, 4, 4, 4, 4, 4, 4, 4, 4, 4, 4, 4, 4, 4, 4, 4, 4, 4, 4, 4, 4,\n",
      "       4, 4, 4, 4, 4, 4, 4, 4, 4, 4, 4, 4, 4, 4, 4, 4, 4, 4, 4, 4, 4, 4,\n",
      "       4, 4, 4, 4, 4, 4, 4, 4, 4, 4, 4, 4, 4, 4, 4, 4, 4, 4, 4, 4, 4, 4,\n",
      "       4, 4, 4, 4, 4, 4, 4, 4, 4, 4, 4, 4, 4, 4, 4, 4, 4, 4, 4, 4, 4, 4,\n",
      "       4, 4, 4, 4, 4, 4, 4, 4, 4, 4, 4, 4, 4, 4, 4, 4, 4, 4, 4, 4, 4, 4,\n",
      "       4, 4, 4, 4, 4, 4, 4, 4, 4, 4, 4, 4, 4, 4, 4, 4, 4, 4, 4, 4, 4, 4,\n",
      "       4, 4, 4, 4, 4, 4, 4, 4, 4, 4, 4, 4, 4, 4, 4, 4, 4, 4, 4, 4, 4, 4,\n",
      "       4, 4, 4, 4, 4, 4, 4, 4, 4, 4, 4, 4, 4, 4, 4, 4, 4, 4, 4, 4, 4, 4,\n",
      "       4, 4, 4, 4, 4, 4, 4, 4, 4, 4, 4, 4, 4, 4, 4, 4, 4, 4, 4, 4, 4, 4,\n",
      "       4, 4, 4, 4, 4, 4, 4, 4, 4, 4, 4, 4, 4, 4, 4, 4, 4, 4, 4, 4, 4, 4,\n",
      "       4, 4, 4, 4, 4, 4, 4, 4, 4, 4, 4, 4, 4, 4, 4, 4, 4, 4, 4, 4, 4, 4,\n",
      "       4, 4, 4, 4, 4, 4, 4, 4, 4, 4, 4, 4, 4, 4, 4, 4, 4, 4, 4, 4, 4, 4,\n",
      "       4, 4, 4, 4, 4, 4, 4, 4, 4, 4, 4, 4, 4, 4, 4, 4, 4, 4, 4, 4, 4, 4,\n",
      "       4, 4, 4, 4, 4, 4, 4, 4, 4, 4, 4, 4, 4, 4, 4, 4, 4, 4, 4, 4, 4, 5,\n",
      "       5, 5, 5, 5, 5, 5, 5, 5, 5, 5, 5, 5, 5, 5, 5, 5, 5, 5, 5, 5, 5, 5,\n",
      "       5, 5, 5, 5, 5, 5, 5, 5, 5, 5, 5, 5, 5, 5, 5, 5, 5, 5, 5, 5, 5, 5,\n",
      "       5, 5, 5, 5, 5, 5, 5, 5, 5, 5, 5, 5, 5, 5, 5, 5, 5, 5, 5, 5, 5, 5,\n",
      "       5, 5, 5, 5, 5, 5, 5, 5, 5, 5, 5, 5, 5, 5, 5, 5, 5, 5, 5, 5, 5, 5,\n",
      "       5, 5, 5, 5, 5, 5, 5, 5, 5, 5, 5, 5, 5, 5, 5, 5, 5, 5, 5, 5, 5, 5,\n",
      "       5, 5, 5, 5, 5, 5, 5, 5, 5, 5, 5, 5, 5, 5, 5, 5, 5, 5, 5, 5, 5, 5,\n",
      "       5, 5, 5, 5, 5, 5, 5, 5, 5, 5, 5, 5, 5, 5, 5, 5, 5, 5, 5, 5, 5, 5,\n",
      "       5, 5, 5, 5, 5, 5, 5, 5, 5, 5, 5, 5, 5, 5, 5, 5, 5, 5, 5, 5, 5, 5,\n",
      "       5, 5, 5, 5, 5, 5, 5, 5, 5, 5, 5, 5, 5, 5, 5, 5, 5, 5, 5, 5, 5, 5,\n",
      "       5, 5, 5, 5, 5, 5, 5, 5, 5, 5, 5, 5, 5, 5, 5, 5, 5, 5, 5, 5, 5, 5,\n",
      "       5, 5, 5, 5, 5, 5, 5, 5, 5, 5, 5, 5, 5, 5, 5, 5, 5, 5, 5, 5, 5, 5,\n",
      "       5, 5, 5, 5, 5, 5, 5, 5, 5, 5, 5, 5, 5, 5, 5, 5, 5, 5, 5, 5, 5, 5,\n",
      "       5, 5, 5, 5, 5, 5, 5, 5, 5, 5, 5, 5, 5, 5, 5, 5, 5, 5, 5, 5, 5, 5,\n",
      "       5, 5, 5, 5, 5, 5, 5, 5, 5, 5, 5, 5, 5, 5, 5, 5, 5, 5, 5, 5, 5, 5,\n",
      "       5, 5, 5, 5, 5], dtype=int16)\n"
     ]
    }
   ],
   "source": [
    "fullprint(ytest)"
   ]
  },
  {
   "cell_type": "markdown",
   "metadata": {},
   "source": [
    "<h3><center><div style=\"direction:rtl;font-family:B Nazanin\">Train Windows</div></center></h1>"
   ]
  },
  {
   "cell_type": "code",
   "execution_count": 18,
   "metadata": {},
   "outputs": [
    {
     "data": {
      "text/plain": [
       "'\\nytestt=np.int32(np.array([ytest]).T)\\ntestx=np.concatenate((Xtest, ytestt), axis=1)\\ntestx=np.random.permutation(testx)\\nXtest=np.int32(testx[:,:-1])\\nytest=np.int32(testx[:,-1])'"
      ]
     },
     "execution_count": 18,
     "metadata": {},
     "output_type": "execute_result"
    }
   ],
   "source": [
    "#ytraint=np.int32(np.array([ytrain]).T)\n",
    "#trainx=np.concatenate((Xtrain, ytraint), axis=1)\n",
    "trainx=np.random.permutation(xtrain)\n",
    "Xtrain=np.array(trainx[:,:-1])\n",
    "ytrain=np.int16(trainx[:,-1])\n",
    "'''\n",
    "ytestt=np.int32(np.array([ytest]).T)\n",
    "testx=np.concatenate((Xtest, ytestt), axis=1)\n",
    "testx=np.random.permutation(testx)\n",
    "Xtest=np.int32(testx[:,:-1])\n",
    "ytest=np.int32(testx[:,-1])'''"
   ]
  },
  {
   "cell_type": "code",
   "execution_count": 19,
   "metadata": {},
   "outputs": [
    {
     "data": {
      "text/plain": [
       "(20, 1025)"
      ]
     },
     "execution_count": 19,
     "metadata": {},
     "output_type": "execute_result"
    }
   ],
   "source": [
    "np.shape(wndws1)"
   ]
  },
  {
   "cell_type": "markdown",
   "metadata": {},
   "source": [
    "<h3><center><div style=\"direction:rtl;font-family:B Nazanin\">Validation Windows</div></center></h1>"
   ]
  },
  {
   "cell_type": "code",
   "execution_count": 20,
   "metadata": {},
   "outputs": [],
   "source": [
    "Xvalid=np.array(Xtrain)\n",
    "yvalid=np.array(ytrain)"
   ]
  },
  {
   "cell_type": "markdown",
   "metadata": {},
   "source": [
    "<h1><center><div style=\"direction:rtl;font-family:B Nazanin\">CNN And UnBalanced RAW Data</div></center></h1>\n",
    "<h1><center><div style=\"direction:rtl;font-family:Arial\">Cross Entropy Loss Function</div></center></h1>"
   ]
  },
  {
   "cell_type": "code",
   "execution_count": 21,
   "metadata": {
    "scrolled": true
   },
   "outputs": [
    {
     "name": "stdout",
     "output_type": "stream",
     "text": [
      "X_train =>  (100, 1024)\n",
      "y_train =>  (100,)\n",
      "X_test  =>  (2425, 1024)\n",
      "y_test  =>  (2425,)\n",
      "X_valid  =>  (100, 1024)\n",
      "y_valid  =>  (100,)\n"
     ]
    }
   ],
   "source": [
    "X_train=np.array(Xtrain)\n",
    "y_train=np.array(ytrain)\n",
    "X_test=np.array(Xtest)\n",
    "y_test=np.array(ytest)\n",
    "X_valid=np.array(Xtrain)\n",
    "y_valid=np.array(ytrain)\n",
    "print('X_train => ', X_train.shape)\n",
    "print('y_train => ', y_train.shape)\n",
    "print('X_test  => ', X_test.shape)\n",
    "print('y_test  => ', y_test.shape)\n",
    "print('X_valid  => ', X_valid.shape)\n",
    "print('y_valid  => ', y_valid.shape)"
   ]
  },
  {
   "cell_type": "code",
   "execution_count": 22,
   "metadata": {},
   "outputs": [
    {
     "name": "stdout",
     "output_type": "stream",
     "text": [
      "!!!!!! class Should start from 0=Zero !!!!!!\n",
      "!!!!!!   Reduce 1 From Class Number    !!!!!\n",
      "final labels= {0, 1, 2, 3, 4}\n"
     ]
    }
   ],
   "source": [
    "if min(y_train)==0:\n",
    "    print(' class was started from 0=Zero ')\n",
    "else:\n",
    "    print('!!!!!! class Should start from 0=Zero !!!!!!')\n",
    "    print(\"!!!!!!   Reduce 1 From Class Number    !!!!!\")\n",
    "    y_train=np.array(y_train-1)\n",
    "    y_test=np.array(y_test-1)\n",
    "    y_valid=np.array(y_valid-1)\n",
    "print('final labels=',set(y_train))"
   ]
  },
  {
   "cell_type": "code",
   "execution_count": 23,
   "metadata": {},
   "outputs": [],
   "source": [
    "y_train_cat=to_categorical(y_train)#[:,1:]\n",
    "y_valid_cat=to_categorical(y_valid)#[:,1:]\n",
    "y_test_cat=to_categorical(y_test)#[:,1:]\n",
    "\n",
    "\n",
    "X_train = np.expand_dims(X_train, axis=2)\n",
    "X_valid = np.expand_dims(X_valid, axis=2)\n",
    "X_test = np.expand_dims(X_test, axis=2)\n",
    "#y_train=np.transpose([y_train])"
   ]
  },
  {
   "cell_type": "markdown",
   "metadata": {},
   "source": [
    "<h1><center><div style=\"direction:rtl;font-family:B Nazanin\">Network</div></center></h1>"
   ]
  },
  {
   "cell_type": "code",
   "execution_count": 24,
   "metadata": {
    "scrolled": true
   },
   "outputs": [
    {
     "name": "stdout",
     "output_type": "stream",
     "text": [
      "Epoch 1/500\n",
      "5/5 [==============================] - 57s 3s/step - loss: 3.4491 - accuracy: 0.3100 - val_loss: 3620062.5000 - val_accuracy: 0.2000\n",
      "Epoch 2/500\n",
      "5/5 [==============================] - 8s 2s/step - loss: 1.9854 - accuracy: 0.2900 - val_loss: 2156763.7500 - val_accuracy: 0.2000\n",
      "Epoch 3/500\n",
      "5/5 [==============================] - 6s 2s/step - loss: 1.8069 - accuracy: 0.4200 - val_loss: 599648.8125 - val_accuracy: 0.2000\n",
      "Epoch 4/500\n",
      "5/5 [==============================] - 6s 998ms/step - loss: 1.4308 - accuracy: 0.4200 - val_loss: 155077.6875 - val_accuracy: 0.2000\n",
      "Epoch 5/500\n",
      "5/5 [==============================] - 8s 2s/step - loss: 1.4050 - accuracy: 0.3900 - val_loss: 92153.9219 - val_accuracy: 0.2000\n",
      "Epoch 6/500\n",
      "5/5 [==============================] - 7s 2s/step - loss: 1.2575 - accuracy: 0.5200 - val_loss: 39986.5312 - val_accuracy: 0.2000\n",
      "Epoch 7/500\n",
      "5/5 [==============================] - 9s 2s/step - loss: 0.8215 - accuracy: 0.6800 - val_loss: 11687.6396 - val_accuracy: 0.2000\n",
      "Epoch 8/500\n",
      "5/5 [==============================] - 7s 2s/step - loss: 1.4732 - accuracy: 0.4400 - val_loss: 38427.8008 - val_accuracy: 0.2000\n",
      "Epoch 9/500\n",
      "5/5 [==============================] - 9s 2s/step - loss: 1.4455 - accuracy: 0.4700 - val_loss: 7483.3369 - val_accuracy: 0.2000\n",
      "Epoch 10/500\n",
      "5/5 [==============================] - 7s 2s/step - loss: 1.5009 - accuracy: 0.4900 - val_loss: 16452.5605 - val_accuracy: 0.2000\n",
      "Epoch 11/500\n",
      "5/5 [==============================] - 8s 2s/step - loss: 0.9083 - accuracy: 0.6300 - val_loss: 6851.0205 - val_accuracy: 0.2000\n",
      "Epoch 12/500\n",
      "5/5 [==============================] - 6s 2s/step - loss: 1.0924 - accuracy: 0.6200 - val_loss: 2198.8799 - val_accuracy: 0.2000\n",
      "Epoch 13/500\n",
      "5/5 [==============================] - 6s 2s/step - loss: 0.7634 - accuracy: 0.7500 - val_loss: 1282.6003 - val_accuracy: 0.2000\n",
      "Epoch 14/500\n",
      "5/5 [==============================] - 9s 2s/step - loss: 1.1704 - accuracy: 0.5700 - val_loss: 1509.8983 - val_accuracy: 0.2000\n",
      "Epoch 15/500\n",
      "5/5 [==============================] - 6s 1s/step - loss: 0.8420 - accuracy: 0.7500 - val_loss: 2482.9070 - val_accuracy: 0.2000\n",
      "Epoch 16/500\n",
      "5/5 [==============================] - 8s 2s/step - loss: 0.7239 - accuracy: 0.7400 - val_loss: 957.4636 - val_accuracy: 0.2000\n",
      "Epoch 17/500\n",
      "5/5 [==============================] - 6s 2s/step - loss: 0.5943 - accuracy: 0.7600 - val_loss: 1335.7308 - val_accuracy: 0.2000\n",
      "Epoch 18/500\n",
      "5/5 [==============================] - 8s 2s/step - loss: 0.7272 - accuracy: 0.7400 - val_loss: 3973.0212 - val_accuracy: 0.2000\n",
      "Epoch 19/500\n",
      "5/5 [==============================] - 6s 2s/step - loss: 1.3122 - accuracy: 0.6100 - val_loss: 17269.9375 - val_accuracy: 0.2000\n",
      "Epoch 20/500\n",
      "5/5 [==============================] - 6s 2s/step - loss: 0.6612 - accuracy: 0.8000 - val_loss: 4368.4482 - val_accuracy: 0.2000\n",
      "Epoch 21/500\n",
      "5/5 [==============================] - 8s 1s/step - loss: 0.5890 - accuracy: 0.7700 - val_loss: 60.9498 - val_accuracy: 0.2000\n",
      "Epoch 22/500\n",
      "5/5 [==============================] - 6s 1s/step - loss: 0.9370 - accuracy: 0.6300 - val_loss: 146.5259 - val_accuracy: 0.2000\n",
      "Epoch 23/500\n",
      "5/5 [==============================] - 8s 2s/step - loss: 0.5472 - accuracy: 0.8000 - val_loss: 4190.6431 - val_accuracy: 0.2000\n",
      "Epoch 24/500\n",
      "5/5 [==============================] - 6s 2s/step - loss: 0.9149 - accuracy: 0.7300 - val_loss: 283.1400 - val_accuracy: 0.2000\n",
      "Epoch 25/500\n",
      "5/5 [==============================] - 6s 2s/step - loss: 0.6334 - accuracy: 0.7700 - val_loss: 3115.0850 - val_accuracy: 0.2000\n",
      "Epoch 26/500\n",
      "5/5 [==============================] - 8s 2s/step - loss: 0.6820 - accuracy: 0.8100 - val_loss: 5399.4062 - val_accuracy: 0.2000\n",
      "Epoch 27/500\n",
      "5/5 [==============================] - 6s 2s/step - loss: 0.6263 - accuracy: 0.7800 - val_loss: 988.5925 - val_accuracy: 0.2000\n",
      "Epoch 28/500\n",
      "5/5 [==============================] - 8s 2s/step - loss: 0.4775 - accuracy: 0.8400 - val_loss: 1202.1985 - val_accuracy: 0.2000\n",
      "Epoch 29/500\n",
      "5/5 [==============================] - 7s 2s/step - loss: 1.0465 - accuracy: 0.7200 - val_loss: 2082.1907 - val_accuracy: 0.2000\n",
      "Epoch 30/500\n",
      "5/5 [==============================] - 9s 2s/step - loss: 0.7077 - accuracy: 0.7200 - val_loss: 1104.9126 - val_accuracy: 0.3500\n",
      "Epoch 31/500\n",
      "5/5 [==============================] - 6s 2s/step - loss: 0.4596 - accuracy: 0.8500 - val_loss: 336.1466 - val_accuracy: 0.2800\n",
      "Epoch 32/500\n",
      "5/5 [==============================] - 6s 1s/step - loss: 0.6222 - accuracy: 0.7700 - val_loss: 657.4166 - val_accuracy: 0.1900\n",
      "Epoch 33/500\n",
      "5/5 [==============================] - 9s 2s/step - loss: 0.6936 - accuracy: 0.6800 - val_loss: 1118.5981 - val_accuracy: 0.2000\n",
      "Epoch 34/500\n",
      "5/5 [==============================] - 7s 2s/step - loss: 0.4929 - accuracy: 0.8000 - val_loss: 1154.8645 - val_accuracy: 0.2800\n",
      "Epoch 35/500\n",
      "5/5 [==============================] - 9s 2s/step - loss: 0.6217 - accuracy: 0.8100 - val_loss: 14352.1621 - val_accuracy: 0.2000\n",
      "Epoch 36/500\n",
      "5/5 [==============================] - 7s 2s/step - loss: 0.3301 - accuracy: 0.8700 - val_loss: 2216.4233 - val_accuracy: 0.2100\n",
      "Epoch 37/500\n",
      "5/5 [==============================] - 9s 2s/step - loss: 0.6994 - accuracy: 0.7600 - val_loss: 3527.5203 - val_accuracy: 0.2000\n",
      "Epoch 38/500\n",
      "5/5 [==============================] - 7s 2s/step - loss: 0.2998 - accuracy: 0.9100 - val_loss: 1261.4910 - val_accuracy: 0.2100\n",
      "Epoch 39/500\n",
      "5/5 [==============================] - 9s 2s/step - loss: 0.6080 - accuracy: 0.8200 - val_loss: 2318.3965 - val_accuracy: 0.1900\n",
      "Epoch 40/500\n",
      "5/5 [==============================] - 7s 2s/step - loss: 0.2517 - accuracy: 0.8900 - val_loss: 489.5287 - val_accuracy: 0.2400\n",
      "Epoch 41/500\n",
      "5/5 [==============================] - 8s 2s/step - loss: 0.1799 - accuracy: 0.9500 - val_loss: 423.6667 - val_accuracy: 0.3500\n",
      "Epoch 42/500\n",
      "5/5 [==============================] - 7s 2s/step - loss: 0.5497 - accuracy: 0.8400 - val_loss: 2315.7480 - val_accuracy: 0.2100\n",
      "Epoch 43/500\n",
      "5/5 [==============================] - 9s 2s/step - loss: 0.7424 - accuracy: 0.7700 - val_loss: 3919.1494 - val_accuracy: 0.2000\n",
      "Epoch 44/500\n",
      "5/5 [==============================] - 6s 2s/step - loss: 0.4747 - accuracy: 0.8500 - val_loss: 1907.2719 - val_accuracy: 0.2400\n",
      "Epoch 45/500\n",
      "5/5 [==============================] - 6s 2s/step - loss: 0.6014 - accuracy: 0.7800 - val_loss: 9597.7451 - val_accuracy: 0.2000\n",
      "Epoch 46/500\n",
      "5/5 [==============================] - 9s 2s/step - loss: 0.3327 - accuracy: 0.9000 - val_loss: 3672.0283 - val_accuracy: 0.2000\n",
      "Epoch 47/500\n",
      "5/5 [==============================] - 6s 1s/step - loss: 0.3850 - accuracy: 0.8900 - val_loss: 12011.4678 - val_accuracy: 0.2000\n",
      "Epoch 48/500\n",
      "5/5 [==============================] - 8s 1s/step - loss: 0.2708 - accuracy: 0.9300 - val_loss: 6210.5869 - val_accuracy: 0.2000\n",
      "Epoch 49/500\n",
      "5/5 [==============================] - 6s 1s/step - loss: 0.5792 - accuracy: 0.8300 - val_loss: 451.0470 - val_accuracy: 0.2400\n",
      "Epoch 50/500\n",
      "5/5 [==============================] - 6s 1s/step - loss: 0.3044 - accuracy: 0.9200 - val_loss: 483.8410 - val_accuracy: 0.2100\n",
      "Epoch 51/500\n",
      "5/5 [==============================] - 8s 1s/step - loss: 0.1454 - accuracy: 0.9500 - val_loss: 586.0982 - val_accuracy: 0.2100\n",
      "Epoch 52/500\n",
      "5/5 [==============================] - 6s 2s/step - loss: 0.7250 - accuracy: 0.7700 - val_loss: 1421.9241 - val_accuracy: 0.2000\n",
      "Epoch 53/500\n",
      "5/5 [==============================] - 8s 2s/step - loss: 0.2896 - accuracy: 0.9300 - val_loss: 804.1730 - val_accuracy: 0.2400\n",
      "Epoch 54/500\n",
      "5/5 [==============================] - 6s 1s/step - loss: 0.1955 - accuracy: 0.9500 - val_loss: 1989.6678 - val_accuracy: 0.2100\n",
      "Epoch 55/500\n",
      "5/5 [==============================] - 6s 2s/step - loss: 0.4348 - accuracy: 0.8600 - val_loss: 583.2982 - val_accuracy: 0.2000\n",
      "Epoch 56/500\n",
      "5/5 [==============================] - 8s 2s/step - loss: 0.3221 - accuracy: 0.9100 - val_loss: 584.0594 - val_accuracy: 0.2000\n",
      "Epoch 57/500\n",
      "5/5 [==============================] - 6s 2s/step - loss: 0.4390 - accuracy: 0.8700 - val_loss: 4449.2695 - val_accuracy: 0.2000\n",
      "Epoch 58/500\n",
      "5/5 [==============================] - 8s 2s/step - loss: 0.4038 - accuracy: 0.8000 - val_loss: 5063.5063 - val_accuracy: 0.2000\n"
     ]
    },
    {
     "name": "stdout",
     "output_type": "stream",
     "text": [
      "Epoch 59/500\n",
      "5/5 [==============================] - 6s 1s/step - loss: 0.3492 - accuracy: 0.8700 - val_loss: 9381.7930 - val_accuracy: 0.2000\n",
      "Epoch 60/500\n",
      "5/5 [==============================] - 6s 1s/step - loss: 0.3531 - accuracy: 0.8500 - val_loss: 1028.6791 - val_accuracy: 0.2000\n",
      "Epoch 61/500\n",
      "5/5 [==============================] - 8s 1s/step - loss: 0.2363 - accuracy: 0.9200 - val_loss: 4145.8545 - val_accuracy: 0.2000\n",
      "Epoch 62/500\n",
      "5/5 [==============================] - 6s 1s/step - loss: 0.2796 - accuracy: 0.8800 - val_loss: 3056.5549 - val_accuracy: 0.2000\n",
      "Epoch 63/500\n",
      "5/5 [==============================] - 8s 2s/step - loss: 0.3267 - accuracy: 0.9100 - val_loss: 3426.1387 - val_accuracy: 0.2000\n",
      "Epoch 64/500\n",
      "5/5 [==============================] - 6s 2s/step - loss: 0.1656 - accuracy: 0.9300 - val_loss: 1403.8164 - val_accuracy: 0.2000\n",
      "Epoch 65/500\n",
      "5/5 [==============================] - 6s 2s/step - loss: 0.2596 - accuracy: 0.9100 - val_loss: 4438.4204 - val_accuracy: 0.2000\n",
      "Epoch 66/500\n",
      "5/5 [==============================] - 8s 1s/step - loss: 0.4060 - accuracy: 0.8500 - val_loss: 1333.1698 - val_accuracy: 0.2000\n",
      "Epoch 67/500\n",
      "5/5 [==============================] - 6s 2s/step - loss: 0.2169 - accuracy: 0.9200 - val_loss: 2543.4219 - val_accuracy: 0.2000\n",
      "Epoch 68/500\n",
      "5/5 [==============================] - 8s 2s/step - loss: 0.0876 - accuracy: 0.9600 - val_loss: 858.2252 - val_accuracy: 0.2000\n",
      "Epoch 69/500\n",
      "5/5 [==============================] - 6s 2s/step - loss: 0.0639 - accuracy: 0.9700 - val_loss: 514.8274 - val_accuracy: 0.2000\n",
      "Epoch 70/500\n",
      "5/5 [==============================] - 8s 2s/step - loss: 0.5144 - accuracy: 0.8600 - val_loss: 719.9852 - val_accuracy: 0.2000\n",
      "Epoch 71/500\n",
      "5/5 [==============================] - 6s 2s/step - loss: 0.3466 - accuracy: 0.8700 - val_loss: 3245.3159 - val_accuracy: 0.2000\n",
      "Epoch 72/500\n",
      "5/5 [==============================] - 6s 2s/step - loss: 0.6495 - accuracy: 0.7800 - val_loss: 121.5678 - val_accuracy: 0.2000\n",
      "Epoch 73/500\n",
      "5/5 [==============================] - 8s 2s/step - loss: 0.2106 - accuracy: 0.9200 - val_loss: 183.2695 - val_accuracy: 0.2000\n",
      "Epoch 74/500\n",
      "5/5 [==============================] - 6s 2s/step - loss: 0.4194 - accuracy: 0.8600 - val_loss: 1238.3658 - val_accuracy: 0.2000\n",
      "Epoch 75/500\n",
      "5/5 [==============================] - 8s 1s/step - loss: 0.1401 - accuracy: 0.9800 - val_loss: 1472.7767 - val_accuracy: 0.2000\n",
      "Epoch 76/500\n",
      "5/5 [==============================] - 6s 2s/step - loss: 0.1750 - accuracy: 0.9500 - val_loss: 1070.2571 - val_accuracy: 0.2000\n",
      "Epoch 77/500\n",
      "5/5 [==============================] - 6s 1s/step - loss: 0.1688 - accuracy: 0.9400 - val_loss: 2714.8330 - val_accuracy: 0.2000\n",
      "Epoch 78/500\n",
      "5/5 [==============================] - 8s 2s/step - loss: 0.3111 - accuracy: 0.8900 - val_loss: 2359.2927 - val_accuracy: 0.2000\n",
      "Epoch 79/500\n",
      "5/5 [==============================] - 6s 2s/step - loss: 0.1332 - accuracy: 0.9700 - val_loss: 1545.9504 - val_accuracy: 0.2000\n",
      "Epoch 80/500\n",
      "5/5 [==============================] - 8s 1s/step - loss: 0.0444 - accuracy: 0.9900 - val_loss: 642.0414 - val_accuracy: 0.2000\n",
      "Epoch 81/500\n",
      "5/5 [==============================] - 6s 2s/step - loss: 0.0189 - accuracy: 1.0000 - val_loss: 325.5499 - val_accuracy: 0.2000\n",
      "Epoch 82/500\n",
      "5/5 [==============================] - 6s 2s/step - loss: 0.7009 - accuracy: 0.7900 - val_loss: 56.1603 - val_accuracy: 0.1900\n",
      "Epoch 83/500\n",
      "5/5 [==============================] - 8s 2s/step - loss: 0.5151 - accuracy: 0.8500 - val_loss: 433.0091 - val_accuracy: 0.2000\n",
      "Epoch 84/500\n",
      "5/5 [==============================] - 6s 2s/step - loss: 0.4849 - accuracy: 0.8400 - val_loss: 961.5041 - val_accuracy: 0.2000\n",
      "Epoch 85/500\n",
      "5/5 [==============================] - 8s 2s/step - loss: 0.2120 - accuracy: 0.9300 - val_loss: 675.9185 - val_accuracy: 0.2000\n",
      "Epoch 86/500\n",
      "5/5 [==============================] - 6s 2s/step - loss: 0.1302 - accuracy: 0.9500 - val_loss: 592.1918 - val_accuracy: 0.2000\n",
      "Epoch 87/500\n",
      "5/5 [==============================] - 9s 2s/step - loss: 0.1143 - accuracy: 0.9400 - val_loss: 642.9020 - val_accuracy: 0.2000\n",
      "Epoch 88/500\n",
      "5/5 [==============================] - 6s 2s/step - loss: 0.1037 - accuracy: 0.9500 - val_loss: 571.3074 - val_accuracy: 0.2000\n",
      "Epoch 89/500\n",
      "5/5 [==============================] - 9s 2s/step - loss: 0.1530 - accuracy: 0.9400 - val_loss: 266.6801 - val_accuracy: 0.2000\n",
      "Epoch 90/500\n",
      "5/5 [==============================] - 6s 2s/step - loss: 0.0634 - accuracy: 0.9800 - val_loss: 342.4138 - val_accuracy: 0.2000\n",
      "Epoch 91/500\n",
      "5/5 [==============================] - 6s 2s/step - loss: 0.1721 - accuracy: 0.9500 - val_loss: 281.1411 - val_accuracy: 0.2000\n",
      "Epoch 92/500\n",
      "5/5 [==============================] - 9s 2s/step - loss: 0.3364 - accuracy: 0.8800 - val_loss: 561.3409 - val_accuracy: 0.2000\n",
      "Epoch 93/500\n",
      "5/5 [==============================] - 6s 2s/step - loss: 0.1571 - accuracy: 0.9300 - val_loss: 1383.4016 - val_accuracy: 0.2000\n",
      "Epoch 94/500\n",
      "5/5 [==============================] - 8s 2s/step - loss: 0.0971 - accuracy: 0.9600 - val_loss: 1274.5449 - val_accuracy: 0.2000\n",
      "Epoch 95/500\n",
      "5/5 [==============================] - 6s 2s/step - loss: 0.0638 - accuracy: 0.9800 - val_loss: 478.5508 - val_accuracy: 0.2000\n",
      "Epoch 96/500\n",
      "5/5 [==============================] - 6s 1s/step - loss: 0.0060 - accuracy: 1.0000 - val_loss: 360.6949 - val_accuracy: 0.2000\n",
      "Epoch 97/500\n",
      "5/5 [==============================] - 8s 2s/step - loss: 0.1308 - accuracy: 0.9600 - val_loss: 1110.3701 - val_accuracy: 0.2000\n",
      "Epoch 98/500\n",
      "5/5 [==============================] - 6s 2s/step - loss: 0.2277 - accuracy: 0.9200 - val_loss: 991.7200 - val_accuracy: 0.2000\n",
      "Epoch 99/500\n",
      "5/5 [==============================] - 8s 2s/step - loss: 0.2702 - accuracy: 0.9200 - val_loss: 939.0345 - val_accuracy: 0.2000\n",
      "Epoch 100/500\n",
      "5/5 [==============================] - 6s 2s/step - loss: 0.0775 - accuracy: 0.9600 - val_loss: 781.2241 - val_accuracy: 0.2000\n",
      "Epoch 101/500\n",
      "5/5 [==============================] - 6s 2s/step - loss: 0.1393 - accuracy: 0.9500 - val_loss: 419.4624 - val_accuracy: 0.2000\n",
      "Epoch 102/500\n",
      "5/5 [==============================] - 6s 2s/step - loss: 0.2641 - accuracy: 0.9100 - val_loss: 850.0377 - val_accuracy: 0.2000\n",
      "Epoch 103/500\n",
      "5/5 [==============================] - 6s 2s/step - loss: 0.1426 - accuracy: 0.9600 - val_loss: 390.5650 - val_accuracy: 0.2000\n",
      "Epoch 104/500\n",
      "5/5 [==============================] - 8s 1s/step - loss: 0.2166 - accuracy: 0.9600 - val_loss: 532.8767 - val_accuracy: 0.2000\n",
      "Epoch 105/500\n",
      "5/5 [==============================] - 6s 1s/step - loss: 0.2346 - accuracy: 0.9400 - val_loss: 269.1803 - val_accuracy: 0.2000\n",
      "Epoch 106/500\n",
      "5/5 [==============================] - 6s 999ms/step - loss: 0.0977 - accuracy: 0.9700 - val_loss: 156.5464 - val_accuracy: 0.2200\n",
      "Epoch 107/500\n",
      "5/5 [==============================] - 8s 1s/step - loss: 0.0695 - accuracy: 0.9800 - val_loss: 80.7797 - val_accuracy: 0.3400\n",
      "Epoch 108/500\n",
      "5/5 [==============================] - 6s 2s/step - loss: 0.0284 - accuracy: 0.9900 - val_loss: 123.7947 - val_accuracy: 0.2000\n",
      "Epoch 109/500\n",
      "5/5 [==============================] - 9s 2s/step - loss: 0.0199 - accuracy: 0.9900 - val_loss: 106.2471 - val_accuracy: 0.2100\n",
      "Epoch 110/500\n",
      "5/5 [==============================] - 7s 2s/step - loss: 0.0053 - accuracy: 1.0000 - val_loss: 81.6692 - val_accuracy: 0.2100\n",
      "Epoch 111/500\n",
      "5/5 [==============================] - 9s 2s/step - loss: 0.0072 - accuracy: 1.0000 - val_loss: 61.6449 - val_accuracy: 0.2200\n",
      "Epoch 112/500\n",
      "5/5 [==============================] - 7s 2s/step - loss: 0.0057 - accuracy: 1.0000 - val_loss: 29.9403 - val_accuracy: 0.3700\n",
      "Epoch 113/500\n",
      "5/5 [==============================] - 9s 2s/step - loss: 0.0294 - accuracy: 0.9800 - val_loss: 61.6665 - val_accuracy: 0.2200\n",
      "Epoch 114/500\n",
      "5/5 [==============================] - 9s 2s/step - loss: 0.6388 - accuracy: 0.8200 - val_loss: 32.0257 - val_accuracy: 0.3800\n",
      "Epoch 115/500\n",
      "5/5 [==============================] - 7s 2s/step - loss: 0.1496 - accuracy: 0.9500 - val_loss: 10.6585 - val_accuracy: 0.4200\n",
      "Epoch 116/500\n",
      "5/5 [==============================] - 9s 2s/step - loss: 0.2113 - accuracy: 0.9300 - val_loss: 13.4325 - val_accuracy: 0.6200\n"
     ]
    },
    {
     "name": "stdout",
     "output_type": "stream",
     "text": [
      "Epoch 117/500\n",
      "5/5 [==============================] - 7s 2s/step - loss: 0.0574 - accuracy: 0.9700 - val_loss: 15.4010 - val_accuracy: 0.5200\n",
      "Epoch 118/500\n",
      "5/5 [==============================] - 9s 2s/step - loss: 0.3754 - accuracy: 0.9300 - val_loss: 4.8021 - val_accuracy: 0.6900\n",
      "Epoch 119/500\n",
      "5/5 [==============================] - 6s 2s/step - loss: 0.0837 - accuracy: 0.9600 - val_loss: 4.1603 - val_accuracy: 0.6900\n",
      "Epoch 120/500\n",
      "5/5 [==============================] - 9s 2s/step - loss: 0.0219 - accuracy: 1.0000 - val_loss: 5.4318 - val_accuracy: 0.6800\n",
      "Epoch 121/500\n",
      "5/5 [==============================] - 6s 1s/step - loss: 0.2285 - accuracy: 0.9000 - val_loss: 41.1935 - val_accuracy: 0.2100\n",
      "Epoch 122/500\n",
      "5/5 [==============================] - 8s 2s/step - loss: 0.0577 - accuracy: 0.9900 - val_loss: 18.3112 - val_accuracy: 0.2700\n",
      "Epoch 123/500\n",
      "5/5 [==============================] - 6s 2s/step - loss: 0.0078 - accuracy: 1.0000 - val_loss: 12.6178 - val_accuracy: 0.4300\n",
      "Epoch 124/500\n",
      "5/5 [==============================] - 8s 2s/step - loss: 0.6290 - accuracy: 0.8600 - val_loss: 27.0390 - val_accuracy: 0.3000\n",
      "Epoch 125/500\n",
      "5/5 [==============================] - 7s 2s/step - loss: 0.0611 - accuracy: 0.9700 - val_loss: 25.0359 - val_accuracy: 0.4000\n",
      "Epoch 126/500\n",
      "5/5 [==============================] - 8s 2s/step - loss: 0.1297 - accuracy: 0.9600 - val_loss: 22.8220 - val_accuracy: 0.3700\n",
      "Epoch 127/500\n",
      "5/5 [==============================] - 7s 2s/step - loss: 0.1963 - accuracy: 0.9400 - val_loss: 22.5347 - val_accuracy: 0.2900\n",
      "Epoch 128/500\n",
      "5/5 [==============================] - 6s 2s/step - loss: 0.1079 - accuracy: 0.9500 - val_loss: 68.6268 - val_accuracy: 0.3400\n",
      "Epoch 129/500\n",
      "5/5 [==============================] - 8s 2s/step - loss: 0.0911 - accuracy: 0.9500 - val_loss: 127.7869 - val_accuracy: 0.3200\n",
      "Epoch 130/500\n",
      "5/5 [==============================] - 6s 2s/step - loss: 0.0211 - accuracy: 1.0000 - val_loss: 51.9619 - val_accuracy: 0.3800\n",
      "Epoch 131/500\n",
      "5/5 [==============================] - 9s 2s/step - loss: 0.0183 - accuracy: 0.9900 - val_loss: 34.2169 - val_accuracy: 0.2600\n",
      "Epoch 132/500\n",
      "5/5 [==============================] - 7s 2s/step - loss: 0.0979 - accuracy: 0.9800 - val_loss: 17.5721 - val_accuracy: 0.3300\n",
      "Epoch 133/500\n",
      "5/5 [==============================] - 9s 2s/step - loss: 0.0360 - accuracy: 0.9800 - val_loss: 5.0242 - val_accuracy: 0.6400\n",
      "Epoch 134/500\n",
      "5/5 [==============================] - 6s 1s/step - loss: 0.0100 - accuracy: 1.0000 - val_loss: 4.3478 - val_accuracy: 0.6500\n",
      "Epoch 135/500\n",
      "5/5 [==============================] - 8s 2s/step - loss: 0.0355 - accuracy: 0.9900 - val_loss: 21.8399 - val_accuracy: 0.4000\n",
      "Epoch 136/500\n",
      "5/5 [==============================] - 7s 2s/step - loss: 0.7723 - accuracy: 0.8500 - val_loss: 3.5128 - val_accuracy: 0.5500\n",
      "Epoch 137/500\n",
      "5/5 [==============================] - 6s 2s/step - loss: 0.4894 - accuracy: 0.8600 - val_loss: 205.1821 - val_accuracy: 0.2000\n",
      "Epoch 138/500\n",
      "5/5 [==============================] - 9s 2s/step - loss: 0.0594 - accuracy: 0.9800 - val_loss: 120.2625 - val_accuracy: 0.2000\n",
      "Epoch 139/500\n",
      "5/5 [==============================] - 6s 2s/step - loss: 0.0423 - accuracy: 0.9800 - val_loss: 98.4297 - val_accuracy: 0.2000\n",
      "Epoch 140/500\n",
      "5/5 [==============================] - 8s 2s/step - loss: 0.1281 - accuracy: 0.9800 - val_loss: 65.3003 - val_accuracy: 0.2000\n",
      "Epoch 141/500\n",
      "5/5 [==============================] - 6s 2s/step - loss: 0.3412 - accuracy: 0.8900 - val_loss: 26.9655 - val_accuracy: 0.3200\n",
      "Epoch 142/500\n",
      "5/5 [==============================] - 9s 2s/step - loss: 0.0581 - accuracy: 0.9800 - val_loss: 4.3725 - val_accuracy: 0.7200\n",
      "Epoch 143/500\n",
      "5/5 [==============================] - 9s 2s/step - loss: 0.0719 - accuracy: 0.9800 - val_loss: 3.0774 - val_accuracy: 0.7800\n",
      "Epoch 144/500\n",
      "5/5 [==============================] - 6s 2s/step - loss: 0.0509 - accuracy: 0.9800 - val_loss: 6.6623 - val_accuracy: 0.6800\n",
      "Epoch 145/500\n",
      "5/5 [==============================] - 6s 2s/step - loss: 0.0075 - accuracy: 1.0000 - val_loss: 11.5773 - val_accuracy: 0.6000\n",
      "Epoch 146/500\n",
      "5/5 [==============================] - 8s 2s/step - loss: 0.0132 - accuracy: 0.9900 - val_loss: 5.8552 - val_accuracy: 0.6800\n",
      "Epoch 147/500\n",
      "5/5 [==============================] - 6s 2s/step - loss: 0.0794 - accuracy: 0.9900 - val_loss: 36.9649 - val_accuracy: 0.2900\n",
      "Epoch 148/500\n",
      "5/5 [==============================] - 8s 1s/step - loss: 0.0131 - accuracy: 1.0000 - val_loss: 15.4735 - val_accuracy: 0.4700\n",
      "Epoch 149/500\n",
      "5/5 [==============================] - 6s 2s/step - loss: 0.2592 - accuracy: 0.9400 - val_loss: 9.0487 - val_accuracy: 0.4600\n",
      "Epoch 150/500\n",
      "5/5 [==============================] - 6s 1s/step - loss: 0.0560 - accuracy: 0.9800 - val_loss: 10.4888 - val_accuracy: 0.5600\n",
      "Epoch 151/500\n",
      "5/5 [==============================] - 8s 1s/step - loss: 0.1390 - accuracy: 0.9600 - val_loss: 13.9705 - val_accuracy: 0.5800\n",
      "Epoch 152/500\n",
      "5/5 [==============================] - 6s 2s/step - loss: 0.0075 - accuracy: 1.0000 - val_loss: 14.7207 - val_accuracy: 0.5800\n",
      "Epoch 153/500\n",
      "5/5 [==============================] - 8s 2s/step - loss: 0.0046 - accuracy: 1.0000 - val_loss: 12.9778 - val_accuracy: 0.6200\n",
      "Epoch 154/500\n",
      "5/5 [==============================] - 6s 2s/step - loss: 0.0050 - accuracy: 1.0000 - val_loss: 27.8347 - val_accuracy: 0.4000\n",
      "Epoch 155/500\n",
      "5/5 [==============================] - 6s 2s/step - loss: 0.0064 - accuracy: 1.0000 - val_loss: 11.3336 - val_accuracy: 0.5400\n",
      "Epoch 156/500\n",
      "5/5 [==============================] - 9s 2s/step - loss: 0.0024 - accuracy: 1.0000 - val_loss: 7.5325 - val_accuracy: 0.5900\n",
      "Epoch 157/500\n",
      "5/5 [==============================] - 6s 2s/step - loss: 0.0033 - accuracy: 1.0000 - val_loss: 4.8444 - val_accuracy: 0.6100\n",
      "Epoch 158/500\n",
      "5/5 [==============================] - 8s 1s/step - loss: 0.2376 - accuracy: 0.9600 - val_loss: 80.8241 - val_accuracy: 0.2900\n",
      "Epoch 159/500\n",
      "5/5 [==============================] - 6s 2s/step - loss: 0.0356 - accuracy: 0.9800 - val_loss: 82.0658 - val_accuracy: 0.2400\n",
      "Epoch 160/500\n",
      "5/5 [==============================] - 6s 2s/step - loss: 0.1117 - accuracy: 0.9600 - val_loss: 2.9801 - val_accuracy: 0.6500\n",
      "Epoch 161/500\n",
      "5/5 [==============================] - 8s 2s/step - loss: 0.0091 - accuracy: 1.0000 - val_loss: 4.4747 - val_accuracy: 0.6400\n",
      "Epoch 162/500\n",
      "5/5 [==============================] - 6s 2s/step - loss: 0.0012 - accuracy: 1.0000 - val_loss: 3.1971 - val_accuracy: 0.6900\n",
      "Epoch 163/500\n",
      "5/5 [==============================] - 9s 2s/step - loss: 0.0114 - accuracy: 1.0000 - val_loss: 10.9475 - val_accuracy: 0.5700\n",
      "Epoch 164/500\n",
      "5/5 [==============================] - 7s 2s/step - loss: 0.0043 - accuracy: 1.0000 - val_loss: 8.8997 - val_accuracy: 0.5400\n",
      "Epoch 165/500\n",
      "5/5 [==============================] - 9s 2s/step - loss: 0.0014 - accuracy: 1.0000 - val_loss: 6.3267 - val_accuracy: 0.6000\n",
      "Epoch 166/500\n",
      "5/5 [==============================] - 7s 2s/step - loss: 0.0019 - accuracy: 1.0000 - val_loss: 1.6373 - val_accuracy: 0.7500\n",
      "Epoch 167/500\n",
      "5/5 [==============================] - 9s 2s/step - loss: 2.8337e-04 - accuracy: 1.0000 - val_loss: 1.3224 - val_accuracy: 0.7700\n",
      "Epoch 168/500\n",
      "5/5 [==============================] - 7s 2s/step - loss: 2.1002e-04 - accuracy: 1.0000 - val_loss: 0.9002 - val_accuracy: 0.8300\n",
      "Epoch 169/500\n",
      "5/5 [==============================] - 9s 2s/step - loss: 9.4127e-05 - accuracy: 1.0000 - val_loss: 0.7391 - val_accuracy: 0.8700\n",
      "Epoch 170/500\n",
      "5/5 [==============================] - 7s 2s/step - loss: 0.1228 - accuracy: 0.9300 - val_loss: 1.5634 - val_accuracy: 0.7400\n",
      "Epoch 171/500\n",
      "5/5 [==============================] - 9s 2s/step - loss: 0.2627 - accuracy: 0.9300 - val_loss: 4.1542 - val_accuracy: 0.6300\n",
      "Epoch 172/500\n",
      "5/5 [==============================] - 9s 2s/step - loss: 0.1258 - accuracy: 0.9500 - val_loss: 0.4466 - val_accuracy: 0.8800\n",
      "Epoch 173/500\n",
      "5/5 [==============================] - 6s 2s/step - loss: 0.0305 - accuracy: 0.9800 - val_loss: 1.2888 - val_accuracy: 0.8600\n",
      "Epoch 174/500\n",
      "5/5 [==============================] - 6s 2s/step - loss: 0.0628 - accuracy: 0.9700 - val_loss: 0.8394 - val_accuracy: 0.8300\n",
      "Epoch 175/500\n"
     ]
    },
    {
     "name": "stdout",
     "output_type": "stream",
     "text": [
      "5/5 [==============================] - 9s 2s/step - loss: 0.0583 - accuracy: 0.9800 - val_loss: 0.0699 - val_accuracy: 0.9900\n",
      "Epoch 176/500\n",
      "5/5 [==============================] - 9s 2s/step - loss: 0.2111 - accuracy: 0.9800 - val_loss: 10.1070 - val_accuracy: 0.5800\n",
      "Epoch 177/500\n",
      "5/5 [==============================] - 7s 2s/step - loss: 0.1550 - accuracy: 0.9600 - val_loss: 32.9012 - val_accuracy: 0.4200\n",
      "Epoch 178/500\n",
      "5/5 [==============================] - 6s 2s/step - loss: 0.0187 - accuracy: 1.0000 - val_loss: 15.4932 - val_accuracy: 0.4900\n",
      "Epoch 179/500\n",
      "5/5 [==============================] - 7s 2s/step - loss: 0.2518 - accuracy: 0.9400 - val_loss: 12.6894 - val_accuracy: 0.4700\n",
      "Epoch 180/500\n",
      "5/5 [==============================] - 6s 2s/step - loss: 0.0226 - accuracy: 0.9900 - val_loss: 6.4184 - val_accuracy: 0.6000\n",
      "Epoch 181/500\n",
      "5/5 [==============================] - 9s 2s/step - loss: 0.0146 - accuracy: 1.0000 - val_loss: 2.9691 - val_accuracy: 0.7000\n",
      "Epoch 182/500\n",
      "5/5 [==============================] - 6s 1s/step - loss: 0.0028 - accuracy: 1.0000 - val_loss: 2.3772 - val_accuracy: 0.7300\n",
      "Epoch 183/500\n",
      "5/5 [==============================] - 9s 2s/step - loss: 9.6959e-04 - accuracy: 1.0000 - val_loss: 1.7081 - val_accuracy: 0.7700\n",
      "Epoch 184/500\n",
      "5/5 [==============================] - 7s 2s/step - loss: 0.0085 - accuracy: 1.0000 - val_loss: 8.5397 - val_accuracy: 0.5300\n",
      "Epoch 185/500\n",
      "5/5 [==============================] - 7s 2s/step - loss: 0.5690 - accuracy: 0.8900 - val_loss: 49.0680 - val_accuracy: 0.2000\n",
      "Epoch 186/500\n",
      "5/5 [==============================] - 9s 2s/step - loss: 0.5102 - accuracy: 0.9000 - val_loss: 18.5038 - val_accuracy: 0.5200\n",
      "Epoch 187/500\n",
      "5/5 [==============================] - 7s 2s/step - loss: 0.0090 - accuracy: 1.0000 - val_loss: 20.5457 - val_accuracy: 0.5200\n",
      "Epoch 188/500\n",
      "5/5 [==============================] - 9s 2s/step - loss: 0.0647 - accuracy: 0.9800 - val_loss: 30.1878 - val_accuracy: 0.2800\n",
      "Epoch 189/500\n",
      "5/5 [==============================] - 6s 2s/step - loss: 0.0330 - accuracy: 0.9900 - val_loss: 15.1716 - val_accuracy: 0.4600\n",
      "Epoch 190/500\n",
      "5/5 [==============================] - 9s 2s/step - loss: 0.0091 - accuracy: 1.0000 - val_loss: 14.5442 - val_accuracy: 0.4600\n",
      "Epoch 191/500\n",
      "5/5 [==============================] - 7s 2s/step - loss: 0.0158 - accuracy: 0.9900 - val_loss: 3.3858 - val_accuracy: 0.6600\n",
      "Epoch 192/500\n",
      "5/5 [==============================] - 9s 2s/step - loss: 0.0079 - accuracy: 1.0000 - val_loss: 2.8588 - val_accuracy: 0.6800\n",
      "Epoch 193/500\n",
      "5/5 [==============================] - 7s 2s/step - loss: 0.3980 - accuracy: 0.9000 - val_loss: 38.4639 - val_accuracy: 0.3900\n",
      "Epoch 194/500\n",
      "5/5 [==============================] - 8s 2s/step - loss: 0.0469 - accuracy: 0.9800 - val_loss: 27.9873 - val_accuracy: 0.4300\n",
      "Epoch 195/500\n",
      "5/5 [==============================] - 6s 2s/step - loss: 0.0354 - accuracy: 0.9900 - val_loss: 13.9299 - val_accuracy: 0.4800\n",
      "Epoch 196/500\n",
      "5/5 [==============================] - 6s 1s/step - loss: 0.0030 - accuracy: 1.0000 - val_loss: 11.8675 - val_accuracy: 0.4900\n",
      "Epoch 197/500\n",
      "5/5 [==============================] - 8s 1s/step - loss: 0.0010 - accuracy: 1.0000 - val_loss: 8.7865 - val_accuracy: 0.5300\n",
      "Epoch 198/500\n",
      "5/5 [==============================] - 6s 2s/step - loss: 6.3496e-04 - accuracy: 1.0000 - val_loss: 6.1338 - val_accuracy: 0.6000\n",
      "Epoch 199/500\n",
      "5/5 [==============================] - 8s 1s/step - loss: 0.0189 - accuracy: 0.9900 - val_loss: 4.4163 - val_accuracy: 0.7400\n",
      "Epoch 200/500\n",
      "5/5 [==============================] - 6s 2s/step - loss: 0.0034 - accuracy: 1.0000 - val_loss: 2.8395 - val_accuracy: 0.7700\n",
      "Epoch 201/500\n",
      "5/5 [==============================] - 6s 2s/step - loss: 0.0398 - accuracy: 0.9900 - val_loss: 1.7374 - val_accuracy: 0.8200\n",
      "Epoch 202/500\n",
      "5/5 [==============================] - 8s 1s/step - loss: 0.2406 - accuracy: 0.9400 - val_loss: 5.2494 - val_accuracy: 0.6200\n",
      "Epoch 203/500\n",
      "5/5 [==============================] - 6s 1s/step - loss: 0.0250 - accuracy: 1.0000 - val_loss: 2.5489 - val_accuracy: 0.7100\n",
      "Epoch 204/500\n",
      "5/5 [==============================] - 9s 2s/step - loss: 0.0115 - accuracy: 1.0000 - val_loss: 3.9107 - val_accuracy: 0.7300\n",
      "Epoch 205/500\n",
      "5/5 [==============================] - 6s 1s/step - loss: 0.6510 - accuracy: 0.8500 - val_loss: 2.3166 - val_accuracy: 0.8000\n",
      "Epoch 206/500\n",
      "5/5 [==============================] - 7s 2s/step - loss: 0.0579 - accuracy: 0.9900 - val_loss: 2.2914 - val_accuracy: 0.7800\n",
      "Epoch 207/500\n",
      "5/5 [==============================] - 9s 2s/step - loss: 0.0477 - accuracy: 0.9900 - val_loss: 2.1800 - val_accuracy: 0.7800\n",
      "Epoch 208/500\n",
      "5/5 [==============================] - 7s 2s/step - loss: 0.0033 - accuracy: 1.0000 - val_loss: 1.3933 - val_accuracy: 0.8400\n",
      "Epoch 209/500\n",
      "5/5 [==============================] - 8s 2s/step - loss: 0.0016 - accuracy: 1.0000 - val_loss: 1.1645 - val_accuracy: 0.8700\n",
      "Epoch 210/500\n",
      "5/5 [==============================] - 6s 1s/step - loss: 0.0053 - accuracy: 1.0000 - val_loss: 0.2765 - val_accuracy: 0.9500\n",
      "Epoch 211/500\n",
      "5/5 [==============================] - 8s 2s/step - loss: 0.0051 - accuracy: 1.0000 - val_loss: 0.1836 - val_accuracy: 0.9700\n",
      "Epoch 212/500\n",
      "5/5 [==============================] - 7s 2s/step - loss: 0.0050 - accuracy: 1.0000 - val_loss: 0.0134 - val_accuracy: 1.0000\n",
      "Epoch 213/500\n",
      "5/5 [==============================] - 8s 2s/step - loss: 0.0070 - accuracy: 1.0000 - val_loss: 0.1676 - val_accuracy: 0.9300\n",
      "Epoch 214/500\n",
      "5/5 [==============================] - 7s 2s/step - loss: 0.0015 - accuracy: 1.0000 - val_loss: 0.1582 - val_accuracy: 0.9400\n",
      "Epoch 215/500\n",
      "5/5 [==============================] - 9s 2s/step - loss: 0.0802 - accuracy: 0.9700 - val_loss: 6.5762 - val_accuracy: 0.6200\n",
      "Epoch 216/500\n",
      "5/5 [==============================] - 7s 2s/step - loss: 0.4082 - accuracy: 0.9100 - val_loss: 2.3307 - val_accuracy: 0.7600\n",
      "Epoch 217/500\n",
      "5/5 [==============================] - 9s 2s/step - loss: 0.0226 - accuracy: 0.9900 - val_loss: 1.0346 - val_accuracy: 0.8500\n",
      "Epoch 218/500\n",
      "5/5 [==============================] - 7s 2s/step - loss: 0.0436 - accuracy: 0.9800 - val_loss: 22.9403 - val_accuracy: 0.3200\n",
      "Epoch 219/500\n",
      "5/5 [==============================] - 9s 2s/step - loss: 0.1832 - accuracy: 0.9500 - val_loss: 4.8416 - val_accuracy: 0.6600\n",
      "Epoch 220/500\n",
      "5/5 [==============================] - 6s 2s/step - loss: 0.0222 - accuracy: 0.9900 - val_loss: 11.0628 - val_accuracy: 0.5300\n",
      "Epoch 221/500\n",
      "5/5 [==============================] - 7s 2s/step - loss: 0.2381 - accuracy: 0.9500 - val_loss: 11.6559 - val_accuracy: 0.4800\n",
      "Epoch 222/500\n",
      "5/5 [==============================] - 8s 2s/step - loss: 0.1276 - accuracy: 0.9500 - val_loss: 7.2692 - val_accuracy: 0.5700\n",
      "Epoch 223/500\n",
      "5/5 [==============================] - 7s 2s/step - loss: 0.0909 - accuracy: 0.9600 - val_loss: 1.0811 - val_accuracy: 0.8200\n",
      "Epoch 224/500\n",
      "5/5 [==============================] - 8s 2s/step - loss: 0.1310 - accuracy: 0.9700 - val_loss: 1.8343 - val_accuracy: 0.7800\n",
      "Epoch 225/500\n",
      "5/5 [==============================] - 7s 2s/step - loss: 0.0766 - accuracy: 0.9700 - val_loss: 0.4868 - val_accuracy: 0.9000\n",
      "Epoch 226/500\n",
      "5/5 [==============================] - 9s 2s/step - loss: 0.0578 - accuracy: 0.9900 - val_loss: 2.0717 - val_accuracy: 0.7600\n",
      "Epoch 227/500\n",
      "5/5 [==============================] - 7s 2s/step - loss: 0.0050 - accuracy: 1.0000 - val_loss: 0.2876 - val_accuracy: 0.9000\n",
      "Epoch 228/500\n",
      "5/5 [==============================] - 8s 2s/step - loss: 0.0019 - accuracy: 1.0000 - val_loss: 0.0790 - val_accuracy: 0.9700\n",
      "Epoch 229/500\n",
      "5/5 [==============================] - 11s 2s/step - loss: 0.0020 - accuracy: 1.0000 - val_loss: 0.1917 - val_accuracy: 0.9300\n",
      "Epoch 230/500\n",
      "5/5 [==============================] - 8s 2s/step - loss: 0.1188 - accuracy: 0.9600 - val_loss: 2.8957 - val_accuracy: 0.6400\n",
      "Epoch 231/500\n",
      "5/5 [==============================] - 11s 2s/step - loss: 0.0193 - accuracy: 0.9900 - val_loss: 6.8880 - val_accuracy: 0.6000\n",
      "Epoch 232/500\n",
      "5/5 [==============================] - 9s 2s/step - loss: 0.0314 - accuracy: 0.9900 - val_loss: 15.1974 - val_accuracy: 0.5000\n",
      "Epoch 233/500\n"
     ]
    },
    {
     "name": "stdout",
     "output_type": "stream",
     "text": [
      "5/5 [==============================] - 12s 2s/step - loss: 0.0040 - accuracy: 1.0000 - val_loss: 1.2844 - val_accuracy: 0.7600\n",
      "Epoch 234/500\n",
      "5/5 [==============================] - 9s 2s/step - loss: 0.1447 - accuracy: 0.9600 - val_loss: 2.2078 - val_accuracy: 0.7400\n",
      "Epoch 235/500\n",
      "5/5 [==============================] - 10s 2s/step - loss: 0.0569 - accuracy: 0.9800 - val_loss: 1.2794 - val_accuracy: 0.7900\n",
      "Epoch 236/500\n",
      "5/5 [==============================] - 7s 2s/step - loss: 0.1416 - accuracy: 0.9400 - val_loss: 8.1847 - val_accuracy: 0.5000\n",
      "Epoch 237/500\n",
      "5/5 [==============================] - 9s 2s/step - loss: 0.0088 - accuracy: 1.0000 - val_loss: 4.1489 - val_accuracy: 0.5700\n",
      "Epoch 238/500\n",
      "5/5 [==============================] - 6s 2s/step - loss: 0.0045 - accuracy: 1.0000 - val_loss: 2.2099 - val_accuracy: 0.6800\n",
      "Epoch 239/500\n",
      "5/5 [==============================] - 6s 2s/step - loss: 0.0078 - accuracy: 1.0000 - val_loss: 1.3550 - val_accuracy: 0.8300\n",
      "Epoch 240/500\n",
      "5/5 [==============================] - 9s 2s/step - loss: 0.0084 - accuracy: 1.0000 - val_loss: 9.7992 - val_accuracy: 0.4400\n",
      "Epoch 241/500\n",
      "5/5 [==============================] - 7s 2s/step - loss: 0.0327 - accuracy: 0.9800 - val_loss: 16.0319 - val_accuracy: 0.4000\n",
      "Epoch 242/500\n",
      "5/5 [==============================] - 9s 2s/step - loss: 0.0036 - accuracy: 1.0000 - val_loss: 13.3688 - val_accuracy: 0.4300\n",
      "Epoch 243/500\n",
      "5/5 [==============================] - 7s 2s/step - loss: 7.5992e-04 - accuracy: 1.0000 - val_loss: 10.7388 - val_accuracy: 0.4500\n",
      "Epoch 244/500\n",
      "5/5 [==============================] - 9s 2s/step - loss: 0.0763 - accuracy: 0.9800 - val_loss: 25.6114 - val_accuracy: 0.3400\n",
      "Epoch 245/500\n",
      "5/5 [==============================] - 7s 2s/step - loss: 0.0190 - accuracy: 0.9900 - val_loss: 17.1753 - val_accuracy: 0.4800\n",
      "Epoch 246/500\n",
      "5/5 [==============================] - 8s 1s/step - loss: 0.0031 - accuracy: 1.0000 - val_loss: 14.1205 - val_accuracy: 0.4800\n",
      "Epoch 247/500\n",
      "5/5 [==============================] - 6s 2s/step - loss: 0.0017 - accuracy: 1.0000 - val_loss: 11.5909 - val_accuracy: 0.4500\n",
      "Epoch 248/500\n",
      "5/5 [==============================] - 6s 2s/step - loss: 0.0016 - accuracy: 1.0000 - val_loss: 9.4626 - val_accuracy: 0.4600\n",
      "Epoch 249/500\n",
      "5/5 [==============================] - 7s 2s/step - loss: 4.5751e-04 - accuracy: 1.0000 - val_loss: 6.9936 - val_accuracy: 0.5200\n",
      "Epoch 250/500\n",
      "5/5 [==============================] - 6s 2s/step - loss: 0.0024 - accuracy: 1.0000 - val_loss: 2.7816 - val_accuracy: 0.7100\n",
      "Epoch 251/500\n",
      "5/5 [==============================] - 8s 2s/step - loss: 0.0251 - accuracy: 0.9900 - val_loss: 0.3241 - val_accuracy: 0.9200\n",
      "Epoch 252/500\n",
      "5/5 [==============================] - 6s 2s/step - loss: 0.2640 - accuracy: 0.9400 - val_loss: 8.4271 - val_accuracy: 0.3700\n",
      "Epoch 253/500\n",
      "5/5 [==============================] - 9s 2s/step - loss: 0.3094 - accuracy: 0.9600 - val_loss: 5.5606 - val_accuracy: 0.5600\n",
      "Epoch 254/500\n",
      "5/5 [==============================] - 7s 2s/step - loss: 0.0423 - accuracy: 0.9900 - val_loss: 5.4602 - val_accuracy: 0.8000\n",
      "Epoch 255/500\n",
      "5/5 [==============================] - 9s 2s/step - loss: 0.0164 - accuracy: 0.9900 - val_loss: 10.1951 - val_accuracy: 0.4700\n",
      "Epoch 256/500\n",
      "5/5 [==============================] - 6s 2s/step - loss: 0.1415 - accuracy: 0.9700 - val_loss: 8.4253 - val_accuracy: 0.6900\n",
      "Epoch 257/500\n",
      "5/5 [==============================] - 9s 2s/step - loss: 0.0020 - accuracy: 1.0000 - val_loss: 6.4712 - val_accuracy: 0.7000\n",
      "Epoch 258/500\n",
      "5/5 [==============================] - 6s 2s/step - loss: 0.0100 - accuracy: 1.0000 - val_loss: 3.4044 - val_accuracy: 0.7900\n",
      "Epoch 259/500\n",
      "5/5 [==============================] - 6s 2s/step - loss: 3.0729e-04 - accuracy: 1.0000 - val_loss: 2.5656 - val_accuracy: 0.8200\n",
      "Epoch 260/500\n",
      "5/5 [==============================] - 9s 2s/step - loss: 5.8737e-04 - accuracy: 1.0000 - val_loss: 2.0024 - val_accuracy: 0.8400\n",
      "Epoch 261/500\n",
      "5/5 [==============================] - 6s 2s/step - loss: 0.0036 - accuracy: 1.0000 - val_loss: 1.6049 - val_accuracy: 0.7900\n",
      "Epoch 262/500\n",
      "5/5 [==============================] - 8s 2s/step - loss: 0.4463 - accuracy: 0.9300 - val_loss: 3.1734 - val_accuracy: 0.7100\n",
      "Epoch 263/500\n",
      "5/5 [==============================] - 6s 2s/step - loss: 0.0861 - accuracy: 0.9900 - val_loss: 4.8361 - val_accuracy: 0.5500\n",
      "Epoch 264/500\n",
      "5/5 [==============================] - 8s 2s/step - loss: 0.0020 - accuracy: 1.0000 - val_loss: 3.4489 - val_accuracy: 0.6000\n",
      "Epoch 265/500\n",
      "5/5 [==============================] - 6s 2s/step - loss: 0.4802 - accuracy: 0.9100 - val_loss: 5.4874 - val_accuracy: 0.6300\n",
      "Epoch 266/500\n",
      "5/5 [==============================] - 6s 1s/step - loss: 0.0446 - accuracy: 0.9800 - val_loss: 2.1127 - val_accuracy: 0.8100\n",
      "Epoch 267/500\n",
      "5/5 [==============================] - 8s 2s/step - loss: 0.0563 - accuracy: 0.9900 - val_loss: 1.4952 - val_accuracy: 0.8500\n",
      "Epoch 268/500\n",
      "5/5 [==============================] - 7s 2s/step - loss: 0.0031 - accuracy: 1.0000 - val_loss: 1.2253 - val_accuracy: 0.8600\n",
      "Epoch 269/500\n",
      "5/5 [==============================] - 9s 2s/step - loss: 0.0602 - accuracy: 0.9600 - val_loss: 0.3905 - val_accuracy: 0.9500\n",
      "Epoch 270/500\n",
      "5/5 [==============================] - 6s 2s/step - loss: 0.0613 - accuracy: 0.9700 - val_loss: 0.7981 - val_accuracy: 0.8600\n",
      "Epoch 271/500\n",
      "5/5 [==============================] - 7s 2s/step - loss: 0.0064 - accuracy: 1.0000 - val_loss: 0.4566 - val_accuracy: 0.9000\n",
      "Epoch 272/500\n",
      "5/5 [==============================] - 9s 2s/step - loss: 0.0022 - accuracy: 1.0000 - val_loss: 0.4185 - val_accuracy: 0.9100\n",
      "Epoch 273/500\n",
      "5/5 [==============================] - 6s 2s/step - loss: 0.1925 - accuracy: 0.9500 - val_loss: 9.3562 - val_accuracy: 0.5800\n",
      "Epoch 274/500\n",
      "5/5 [==============================] - 8s 2s/step - loss: 0.0371 - accuracy: 0.9800 - val_loss: 3.9267 - val_accuracy: 0.6700\n",
      "Epoch 275/500\n",
      "5/5 [==============================] - 6s 2s/step - loss: 0.1277 - accuracy: 0.9600 - val_loss: 1.7034 - val_accuracy: 0.8400\n",
      "Epoch 276/500\n",
      "5/5 [==============================] - 9s 2s/step - loss: 0.0942 - accuracy: 0.9800 - val_loss: 3.2774 - val_accuracy: 0.8300\n",
      "Epoch 277/500\n",
      "5/5 [==============================] - 6s 2s/step - loss: 0.0641 - accuracy: 0.9900 - val_loss: 2.1658 - val_accuracy: 0.8400\n",
      "Epoch 278/500\n",
      "5/5 [==============================] - 6s 2s/step - loss: 0.0031 - accuracy: 1.0000 - val_loss: 1.6788 - val_accuracy: 0.8500\n",
      "Epoch 279/500\n",
      "5/5 [==============================] - 8s 2s/step - loss: 0.0066 - accuracy: 1.0000 - val_loss: 0.7598 - val_accuracy: 0.8900\n",
      "Epoch 280/500\n",
      "5/5 [==============================] - 6s 2s/step - loss: 0.0448 - accuracy: 0.9800 - val_loss: 7.4798 - val_accuracy: 0.6000\n",
      "Epoch 281/500\n",
      "5/5 [==============================] - 8s 1s/step - loss: 0.0040 - accuracy: 1.0000 - val_loss: 2.6766 - val_accuracy: 0.7300\n",
      "Epoch 282/500\n",
      "5/5 [==============================] - 6s 1s/step - loss: 0.0016 - accuracy: 1.0000 - val_loss: 1.8400 - val_accuracy: 0.7900\n",
      "Epoch 283/500\n",
      "5/5 [==============================] - 6s 2s/step - loss: 6.1641e-04 - accuracy: 1.0000 - val_loss: 1.1061 - val_accuracy: 0.8200\n",
      "Epoch 284/500\n",
      "5/5 [==============================] - 8s 2s/step - loss: 7.5763e-04 - accuracy: 1.0000 - val_loss: 0.9832 - val_accuracy: 0.8200\n",
      "Epoch 285/500\n",
      "5/5 [==============================] - 6s 2s/step - loss: 5.8600e-04 - accuracy: 1.0000 - val_loss: 0.3349 - val_accuracy: 0.9100\n",
      "Epoch 286/500\n",
      "5/5 [==============================] - 9s 2s/step - loss: 0.2545 - accuracy: 0.9500 - val_loss: 4.8487 - val_accuracy: 0.6400\n",
      "Epoch 287/500\n",
      "5/5 [==============================] - 6s 1s/step - loss: 0.0053 - accuracy: 1.0000 - val_loss: 4.7474 - val_accuracy: 0.6300\n",
      "Epoch 288/500\n",
      "5/5 [==============================] - 8s 2s/step - loss: 0.0029 - accuracy: 1.0000 - val_loss: 2.4589 - val_accuracy: 0.6900\n",
      "Epoch 289/500\n",
      "5/5 [==============================] - 6s 1s/step - loss: 6.1833e-04 - accuracy: 1.0000 - val_loss: 1.7023 - val_accuracy: 0.7400\n",
      "Epoch 290/500\n",
      "5/5 [==============================] - 6s 2s/step - loss: 0.0023 - accuracy: 1.0000 - val_loss: 0.1730 - val_accuracy: 0.9300\n",
      "Epoch 291/500\n"
     ]
    },
    {
     "name": "stdout",
     "output_type": "stream",
     "text": [
      "5/5 [==============================] - 8s 2s/step - loss: 0.0043 - accuracy: 1.0000 - val_loss: 0.1848 - val_accuracy: 0.9500\n",
      "Epoch 292/500\n",
      "5/5 [==============================] - 6s 1s/step - loss: 0.0862 - accuracy: 0.9800 - val_loss: 2.0043 - val_accuracy: 0.6800\n",
      "Epoch 293/500\n",
      "5/5 [==============================] - 8s 2s/step - loss: 0.0303 - accuracy: 0.9900 - val_loss: 0.4273 - val_accuracy: 0.8700\n",
      "Epoch 294/500\n",
      "5/5 [==============================] - 6s 2s/step - loss: 0.2258 - accuracy: 0.9500 - val_loss: 2.5939 - val_accuracy: 0.8400\n",
      "Epoch 295/500\n",
      "5/5 [==============================] - 9s 2s/step - loss: 0.0164 - accuracy: 0.9900 - val_loss: 14.8195 - val_accuracy: 0.5200\n",
      "Epoch 296/500\n",
      "5/5 [==============================] - 7s 2s/step - loss: 0.0026 - accuracy: 1.0000 - val_loss: 8.6820 - val_accuracy: 0.6200\n",
      "Epoch 297/500\n",
      "5/5 [==============================] - 6s 2s/step - loss: 0.0014 - accuracy: 1.0000 - val_loss: 6.7284 - val_accuracy: 0.6500\n",
      "Epoch 298/500\n",
      "5/5 [==============================] - 9s 2s/step - loss: 6.9550e-04 - accuracy: 1.0000 - val_loss: 5.3496 - val_accuracy: 0.7000\n",
      "Epoch 299/500\n",
      "5/5 [==============================] - 7s 2s/step - loss: 9.5965e-04 - accuracy: 1.0000 - val_loss: 2.6604 - val_accuracy: 0.7900\n",
      "Epoch 300/500\n",
      "5/5 [==============================] - 8s 2s/step - loss: 5.7157e-04 - accuracy: 1.0000 - val_loss: 2.1055 - val_accuracy: 0.7900\n",
      "Epoch 301/500\n",
      "5/5 [==============================] - 7s 2s/step - loss: 5.0315e-04 - accuracy: 1.0000 - val_loss: 1.4480 - val_accuracy: 0.8400\n",
      "Epoch 302/500\n",
      "5/5 [==============================] - 9s 2s/step - loss: 1.3526e-04 - accuracy: 1.0000 - val_loss: 0.8607 - val_accuracy: 0.8600\n",
      "Epoch 303/500\n",
      "5/5 [==============================] - 7s 2s/step - loss: 3.8751e-04 - accuracy: 1.0000 - val_loss: 0.6163 - val_accuracy: 0.8800\n",
      "Epoch 304/500\n",
      "5/5 [==============================] - 9s 2s/step - loss: 2.7199e-04 - accuracy: 1.0000 - val_loss: 0.2006 - val_accuracy: 0.9500\n",
      "Epoch 305/500\n",
      "5/5 [==============================] - 7s 2s/step - loss: 2.0476e-04 - accuracy: 1.0000 - val_loss: 0.0451 - val_accuracy: 0.9800\n",
      "Epoch 306/500\n",
      "5/5 [==============================] - 6s 2s/step - loss: 3.0736e-04 - accuracy: 1.0000 - val_loss: 0.0215 - val_accuracy: 0.9900\n",
      "Epoch 307/500\n",
      "5/5 [==============================] - 9s 2s/step - loss: 0.4080 - accuracy: 0.9000 - val_loss: 0.2089 - val_accuracy: 0.9400\n",
      "Epoch 308/500\n",
      "5/5 [==============================] - 6s 2s/step - loss: 0.1647 - accuracy: 0.9500 - val_loss: 0.0086 - val_accuracy: 1.0000\n",
      "Epoch 309/500\n",
      "5/5 [==============================] - 9s 2s/step - loss: 0.0114 - accuracy: 1.0000 - val_loss: 0.0013 - val_accuracy: 1.0000\n",
      "Epoch 310/500\n",
      "5/5 [==============================] - 7s 2s/step - loss: 0.0139 - accuracy: 0.9900 - val_loss: 0.0033 - val_accuracy: 1.0000\n",
      "Epoch 311/500\n",
      "5/5 [==============================] - 9s 2s/step - loss: 0.0012 - accuracy: 1.0000 - val_loss: 7.7206e-04 - val_accuracy: 1.0000\n",
      "Epoch 312/500\n",
      "5/5 [==============================] - 7s 2s/step - loss: 3.5145e-04 - accuracy: 1.0000 - val_loss: 5.8580e-04 - val_accuracy: 1.0000\n"
     ]
    }
   ],
   "source": [
    "# Import ResNet1D Module\n",
    "#from ResNet_1DCNN import ResNet\n",
    "#from ResNeXt_1DCNN import ResNeXt as ResNet\n",
    "from SE_ResNeXt_1DCNN import SEResNeXt as ResNet\n",
    "\n",
    "\"Configurations for ResNet in Regression Mode\"\n",
    "length = X_train.shape[1]   # Number of Features (or length of the signal)\n",
    "model_width = 128           # Number of Filter or Kernel in the Input Layer\n",
    "num_channel = 1             # Number of Input Channels\n",
    "problem_type = 'Classification' # Regression or Classification\n",
    "output_number = cls_num     # Number of Outputs in the Regression Mode\n",
    "Regression_Model = ResNet(length, num_channel, model_width, problem_type=problem_type, output_nums=output_number).SEResNeXt50() # Build Model\n",
    "# SEResNext Models supported: SEResNeXt18, SEResNeXt34, SEResNeXt50, SEResNeXt101, SEResNeXt152, \n",
    "Regression_Model.compile(optimizer='rmsprop', loss='categorical_crossentropy', metrics=['accuracy'])\n",
    "earlystopping = callbacks.EarlyStopping(monitor =\"val_accuracy\", mode =\"max\", patience = 100, restore_best_weights = True)\n",
    "history = Regression_Model.fit(X_train, y_train_cat, epochs=500, batch_size=btch, verbose=1, validation_data = (X_valid, y_valid_cat), callbacks =[earlystopping]) #,validation_split=0.2,callbacks =[callbacks]"
   ]
  },
  {
   "cell_type": "code",
   "execution_count": 25,
   "metadata": {},
   "outputs": [
    {
     "name": "stdout",
     "output_type": "stream",
     "text": [
      "76/76 [==============================] - 26s 282ms/step\n",
      "array([[410,   1,  19,  17,  11],\n",
      "       [ 46, 576,  26,   5,   1],\n",
      "       [ 11,   0, 385,  17,   5],\n",
      "       [119,   6,  54, 386,  16],\n",
      "       [ 17,   0,   4,   0, 293]], dtype=int64)\n",
      "              precision    recall  f1-score   support\n",
      "\n",
      "           0       0.68      0.90      0.77       458\n",
      "           1       0.99      0.88      0.93       654\n",
      "           2       0.79      0.92      0.85       418\n",
      "           3       0.91      0.66      0.77       581\n",
      "           4       0.90      0.93      0.92       314\n",
      "\n",
      "    accuracy                           0.85      2425\n",
      "   macro avg       0.85      0.86      0.85      2425\n",
      "weighted avg       0.86      0.85      0.85      2425\n",
      "\n"
     ]
    }
   ],
   "source": [
    "predict_x=Regression_Model.predict(X_test)              # Function 1\n",
    "\n",
    "y_pred_crs=np.argmax(predict_x,axis=1)                 # function from augment.py to remove 0 index predictions\n",
    "\n",
    "#y_pred_crs = model_Res.predict_classes(X_test)\n",
    "\n",
    "cm = confusion_matrix(y_test, y_pred_crs)\n",
    "fullprint(cm)\n",
    "acc3=accuracy_score(y_test, y_pred_crs)\n",
    "\n",
    "print(classification_report(y_test, y_pred_crs))\n",
    "\n",
    "#sns.heatmap(cm, annot=True)\n",
    "\n",
    "#plt.imshow(cm)"
   ]
  }
 ],
 "metadata": {
  "celltoolbar": "Raw Cell Format",
  "kernelspec": {
   "display_name": "Python 3 (ipykernel)",
   "language": "python",
   "name": "python3"
  },
  "language_info": {
   "codemirror_mode": {
    "name": "ipython",
    "version": 3
   },
   "file_extension": ".py",
   "mimetype": "text/x-python",
   "name": "python",
   "nbconvert_exporter": "python",
   "pygments_lexer": "ipython3",
   "version": "3.9.7"
  }
 },
 "nbformat": 4,
 "nbformat_minor": 4
}
