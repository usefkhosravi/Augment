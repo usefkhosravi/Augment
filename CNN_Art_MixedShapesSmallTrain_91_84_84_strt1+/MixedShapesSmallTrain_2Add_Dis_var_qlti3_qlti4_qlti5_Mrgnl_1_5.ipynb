{
 "cells": [
  {
   "cell_type": "code",
   "execution_count": 1,
   "id": "d5518c54",
   "metadata": {},
   "outputs": [],
   "source": [
    "#Change ClsStrt from 0/1 , cls_num , dataload , Rate"
   ]
  },
  {
   "cell_type": "code",
   "execution_count": 2,
   "id": "ab7fbdac",
   "metadata": {},
   "outputs": [],
   "source": [
    "from augment import *\n",
    "import glob\n",
    "import os\n",
    "import glob\n",
    "import scipy\n",
    "import random\n",
    "import bisect\n",
    "import numpy as np\n",
    "import pandas as pd\n",
    "import seaborn as sns\n",
    "from scipy import signal\n",
    "from scipy.signal import find_peaks\n",
    "import matplotlib.pyplot as plt\n",
    "from preprocess import *                         #ماژول استخراج پنجره ها\n",
    "from data import *                               #ماژول محلی ورود داده ها\n",
    "from augment import *                            #ماژول های داده افزایی\n",
    "from GAN import *                  \n",
    "from lstm_cnn import *                           #ماژول های داده افزایی با lstm_cnn\n",
    "import augment\n",
    "import importlib\n",
    "importlib.reload(augment)\n",
    "import tensorflow as tf\n",
    "from tensorflow import keras\n",
    "from tensorflow.keras.layers import BatchNormalization\n",
    "from sklearn.model_selection import train_test_split\n",
    "from sklearn.neural_network import MLPClassifier\n",
    "from sklearn.datasets import make_classification\n",
    "from sklearn.metrics import confusion_matrix, accuracy_score, classification_report,recall_score,precision_score\n",
    "from tensorflow.keras import callbacks\n",
    "from tensorflow.keras import layers\n",
    "from tensorflow.keras.models import Sequential\n",
    "from tensorflow.keras.layers import Convolution2D,Conv1D,Dropout,MaxPooling1D,MaxPooling2D,Flatten,Dense\n",
    "from tensorflow.keras import backend as K\n",
    "from tensorflow.keras.utils import to_categorical\n",
    "from tensorflow.keras.models import load_model\n",
    "cwd = os.getcwd() #"
   ]
  },
  {
   "cell_type": "code",
   "execution_count": 3,
   "id": "35d7534f",
   "metadata": {},
   "outputs": [],
   "source": [
    "def dstnc(dt2,dt1): #فاصله و واریانس بردار فاصله ی هر کدام از ردیف های دیتاست(آگمنت)1 از (کل)2\n",
    "    dist,vrnc,i,h,w=[],[],0,np.shape(dt1)[0],np.shape(dt1)[1]\n",
    "    end=min(len(dt2[0]),len(dt1[0]))\n",
    "    for i in range (h):\n",
    "        ds1 = dt2-dt1[i,:end] #.reshape(-1,1) #distance of every training instance\n",
    "        dist_array=(ds1*10)**3  #معیار فاصله با حساسیت به توان 3 (حفظ علامت و تاثیر بیشتر تفاوت زیاد در نقاط)\n",
    "        vr=np.var(ds1)\n",
    "        ds1=min(np.sum(np.absolute(dist_array),axis=1))\n",
    "        #print('dist2 = ', dist2)\n",
    "        vrnc.append(vr)\n",
    "        dist.append(ds1)\n",
    "    variance=np.reshape(vrnc,(-1,1))\n",
    "    distnc=np.reshape(dist,(-1,1))\n",
    "    return(distnc,variance)"
   ]
  },
  {
   "cell_type": "code",
   "execution_count": 4,
   "id": "73e40353",
   "metadata": {},
   "outputs": [
    {
     "name": "stderr",
     "output_type": "stream",
     "text": [
      "C:\\ProgramData\\Anaconda3\\lib\\site-packages\\pandas\\util\\_decorators.py:311: ParserWarning: Falling back to the 'python' engine because the 'c' engine does not support regex separators (separators > 1 char and different from '\\s+' are interpreted as regex); you can avoid this warning by specifying engine='python'.\n",
      "  return func(*args, **kwargs)\n"
     ]
    },
    {
     "name": "stdout",
     "output_type": "stream",
     "text": [
      "first_train_shape= (100, 1025)\n",
      "first_test_shape= (2425, 1025)\n",
      "classes_quantity= 5\n",
      "tr_lbls=\t {1, 2, 3, 4, 5}\n",
      "Count_labels= [20 20 20 20 20]\n",
      "max(train_feature_Altitude)= 5.0\n",
      "min(train_feature_Altitude)= -2.8941765\n",
      "first_train_sample=\n",
      " [1.        1.1309687 1.1204832 ... 1.0931087 1.1025334 1.1120469]\n",
      "1 20\t2 20\t3 20\t4 20\t5 20\t"
     ]
    }
   ],
   "source": [
    "rate=480\n",
    "cls_num=5\n",
    "btch=20\n",
    "for i in range (1,cls_num+1):\n",
    "    vars()['ecg'+str(i)],vars()['ecg_tst'+str(i)]=MixedShapesSmallTrain(i)\n",
    "\n",
    "os.chdir(cwd)\n",
    "clses_lens=np.array([])\n",
    "i=0                               #جمع آوری داده ها و چاپ تعداد نمونه ی هر کلاس\n",
    "ecg=np.array(ecg1)\n",
    "print(1,len(vars()['ecg'+str(1)]), end='\\t')\n",
    "clses_lens=np.append(clses_lens,len(vars()['ecg'+str(1)]))\n",
    "for i in range (2,cls_num+1):\n",
    "    ecg=np.concatenate((ecg,vars()['ecg'+str(i)]),axis=0)\n",
    "    clses_lens=np.append(clses_lens,len(vars()['ecg'+str(i)]))\n",
    "    print(i,len(vars()['ecg'+str(i)]), end='\\t')\n",
    "mx_sig=max(clses_lens)"
   ]
  },
  {
   "cell_type": "code",
   "execution_count": 5,
   "id": "64bf2935",
   "metadata": {
    "scrolled": false
   },
   "outputs": [
    {
     "name": "stdout",
     "output_type": "stream",
     "text": [
      "shape wndws1= (20, 481)\n",
      "shape base_wn= (100, 481)\n",
      "shape furir_windws0= (100, 480)\n",
      "shape furir_windws= (100, 481)\n",
      "smpl_rte= 480\n",
      "mx_wndws= 20\n"
     ]
    }
   ],
   "source": [
    "wdth=int(len(ecg1[0]))\n",
    "os.chdir(cwd)\n",
    "base_wn=np.array([])\n",
    "windws=np.array([])\n",
    "\n",
    "for cls in range (1,cls_num+1):                   #ساخت پنجره های داده های آموزش اصلی\n",
    "    vars()['wndws'+str(cls)]=np.array(vars()['ecg'+str(cls)])\n",
    "    base_wn=np.append(base_wn,vars()['wndws'+str(cls)])\n",
    "base_wn=np.reshape(base_wn,(int(len(base_wn)/wdth),wdth))  #base data windows\n",
    "print(\"shape wndws1=\", np.shape(wndws1))\n",
    "print(\"shape base_wn=\", np.shape(base_wn))\n",
    "\n",
    "furir_windws0=np.fft.fft(np.array(base_wn[:,:-1]))\n",
    "print(\"shape furir_windws0=\", np.shape(furir_windws0))\n",
    "furir_windws=np.concatenate((np.array(furir_windws0),np.transpose([base_wn[:,-1]])),axis=1)   \n",
    "print(\"shape furir_windws=\", np.shape(furir_windws))\n",
    "\n",
    "smpl_rte=len(base_wn[0])-1                 #len(ecg1[0])  # در ماژول ها نیز همین مقدار ثبت شده\n",
    "print(\"smpl_rte=\",smpl_rte)\n",
    "mx_wndws=np.max(np.bincount(np.int16(base_wn[:,-1])))\n",
    "print(\"mx_wndws=\",mx_wndws)"
   ]
  },
  {
   "cell_type": "code",
   "execution_count": 6,
   "id": "095bd5cf",
   "metadata": {
    "scrolled": true
   },
   "outputs": [],
   "source": [
    "path=('{}\\AugEvl'.format(cwd)) #create folder \n",
    "if not os.path.isdir(path):\n",
    "    os.mkdir(path)\n",
    "\n",
    "def addqlty(base_wn_dt,data,mthd,i):               \n",
    "    cls=int(i)\n",
    "    c,alpha,PL=0,1,1\n",
    "    #from glob import glob\n",
    "    cwd = os.getcwd() #\n",
    "    adrs=cwd+'/Aug/aug'+str(i)+str(mthd)+'.csv'\n",
    "    #alldata = np.array([])                    # List for storing all the data\n",
    "    train_labels=np.array(base_wn_dt[:,-1])\n",
    "    tr=np.array(base_wn_dt[:,:-1])\n",
    "    indx_pstv=np.where(base_wn_dt[:,-1] == i)\n",
    "    P=np.array(base_wn_dt[indx_pstv])\n",
    "    indx_ngtv=np.where(base_wn_dt[:,-1] != i)\n",
    "    N=np.array(base_wn_dt[indx_ngtv])\n",
    "\n",
    "    #data = np.array(data)\n",
    "    aug=np.array(data)\n",
    "    pnts=int(np.shape(data)[1])\n",
    "    \n",
    "    #aug=data[data[:,-2].argsort()]        # Positive data Sorted Base Distance\n",
    "    trl=np.array(train_labels)\n",
    "    for j in range (len(trl)):\n",
    "        if train_labels[j]==i :           # !!!!! == (Paper GDO)\n",
    "            trl[j]=1\n",
    "        else :\n",
    "            trl[j]=0\n",
    "    trlt=np.array([trl]).T\n",
    "    #mn_ds_pstv=np.reshape(aug[:,-2],(-1,1)) #min dis to positive class (submited in -2 column)\n",
    "    #print('shape and aug[0]=',np.shape(aug[0]),aug[0])\n",
    "    #print('shape P and P[0]=',np.shape(P),P[0])    \n",
    "    qlty1,qlty2=mn_ds_pstv,vr_P=dstnc(P[:,1:-1],aug[:,1:-1])  #min distance to negative class\n",
    "    new1=np.append(aug,qlty1,axis=1)\n",
    "    new2=np.append(new1,qlty2,axis=1)\n",
    "    mn_ds_ngtv,vr_N=dstnc(N[:,1:-1],aug[:,1:-1])              #min distance to negative class\n",
    "    qlty3=mn_ds_pstv/mn_ds_ngtv                               #Smaller is Better\n",
    "    qlty4=np.reshape(valuation(aug[:,:-1],tr,trlt),(-1,1))   #line 272\n",
    "    new3=np.append(new2,qlty3,axis=1)\n",
    "    new4=np.append(new3,qlty4,axis=1)\n",
    "    for j in range (len(trl)):\n",
    "        if train_labels[j]!=i :                          # !!!!! == (!= Inverse Paper GDO)\n",
    "            trl[j]=1\n",
    "        else :\n",
    "            trl[j]=0\n",
    "    trlt=np.array([trl]).T\n",
    "    qlty5=np.reshape(valuation(aug[:,:-1],tr,trlt),(-1,1))   #line 272\n",
    "    new5=np.append(new4,qlty5,axis=1)\n",
    "    print('class=',i,'shape(new5)=',np.shape(new5),end='\\t')\n",
    "    print('mx=',np.max(new5[:,1:-7]),end='\\t')\n",
    "    print('mn=',np.min(new5[:,1:-7]))\n",
    "    pd.DataFrame(new5[:,:]).to_csv('{}/AugEvl/AugEvl{}{}.csv'.format(cwd,cls,mthd))\n",
    "    print()"
   ]
  },
  {
   "cell_type": "code",
   "execution_count": 7,
   "id": "39af649c",
   "metadata": {},
   "outputs": [],
   "source": [
    "for i in range (1,cls_num+1):                           #تعریف آرایه ی پنجره های کلاس ها\n",
    "    vars()['ecg_aug'+str(i)+'00']=np.empty((0,smpl_rte+1), float) #Scale    \n",
    "    vars()['ecg_aug'+str(i)+'10']=np.empty((0,smpl_rte+1), float) #Scale\n",
    "    vars()['ecg_aug'+str(i)+'20']=np.empty((0,smpl_rte+1), float) #Mag Warp\n",
    "    vars()['ecg_aug'+str(i)+'30']=np.empty((0,smpl_rte+1), float) #TimWarp\n",
    "    vars()['ecg_aug'+str(i)+'40']=np.empty((0,smpl_rte+1), float) #GDO\n",
    "    vars()['ecg_aug'+str(i)+'50']=np.empty((0,smpl_rte+1), float) #frequence\n",
    "    vars()['ecg_aug'+str(i)+'60']=np.empty((0,smpl_rte+1), float) #GAN\n",
    "    vars()['ecg_aug'+str(i)+'61']=np.empty((0,smpl_rte+1), float)\n",
    "    vars()['ecg_aug'+str(i)+'62']=np.empty((0,smpl_rte+1), float)\n",
    "    vars()['ecg_aug'+str(i)+'70']=np.empty((0,smpl_rte+1), float) #LSTM\n",
    "    vars()['ecg_aug'+str(i)+'71']=np.empty((0,smpl_rte+1), float)\n",
    "    vars()['ecg_aug'+str(i)+'72']=np.empty((0,smpl_rte+1), float)"
   ]
  },
  {
   "cell_type": "code",
   "execution_count": 8,
   "id": "f821490e",
   "metadata": {
    "scrolled": false
   },
   "outputs": [
    {
     "name": "stdout",
     "output_type": "stream",
     "text": [
      "class= 1 shape(new5)= (183, 486)\tmx= 3.12109375\tmn= -3.47265625\n",
      "\n",
      "110 = 183\n"
     ]
    },
    {
     "name": "stderr",
     "output_type": "stream",
     "text": [
      "C:\\ProgramData\\Anaconda3\\lib\\site-packages\\numpy\\core\\fromnumeric.py:3419: RuntimeWarning: Mean of empty slice.\n",
      "  return _methods._mean(a, axis=axis, dtype=dtype,\n",
      "C:\\ProgramData\\Anaconda3\\lib\\site-packages\\numpy\\core\\_methods.py:188: RuntimeWarning: invalid value encountered in double_scalars\n",
      "  ret = ret.dtype.type(ret / rcount)\n"
     ]
    },
    {
     "name": "stdout",
     "output_type": "stream",
     "text": [
      "class= 1 shape(new5)= (183, 486)\tmx= 2.553289331401575\tmn= -2.9506748589482243\n",
      "\n",
      "120 = 183\n",
      "class= 1 shape(new5)= (182, 486)\tmx= 2.3540005706855394\tmn= -2.769204794062455\n",
      "\n",
      "130 = 182\n",
      "class= 1 shape(new5)= (182, 486)\tmx= 3.232048723019061\tmn= -4.632422068809412\n",
      "\n",
      "140 = 182\n"
     ]
    },
    {
     "name": "stderr",
     "output_type": "stream",
     "text": [
      "C:\\Users\\user\\Thesis\\Classifying\\CNNsplit\\CNN_Art_MixedShapesSmallTrain_91_84\\augment.py:658: ComplexWarning: Casting complex values to real discards the imaginary part\n",
      "  p_wn = np.float16(np.concatenate((P,pl), axis=1))\n"
     ]
    },
    {
     "name": "stdout",
     "output_type": "stream",
     "text": [
      "class= 1 shape(new5)= (182, 486)\tmx= 2.400390625\tmn= -2.810546875\n",
      "\n",
      "150 = 182\n",
      "class= 2 shape(new5)= (183, 486)\tmx= 2.90234375\tmn= -3.974609375\n",
      "\n",
      "210 = 183\n",
      "class= 2 shape(new5)= (183, 486)\tmx= 2.1959661371020256\tmn= -3.1973120314341736\n",
      "\n",
      "220 = 183\n",
      "class= 2 shape(new5)= (182, 486)\tmx= 1.94754429542485\tmn= -2.8906712090286817\n",
      "\n",
      "230 = 182\n",
      "class= 2 shape(new5)= (182, 486)\tmx= 2.9265819723353084\tmn= -4.180428670219246\n",
      "\n",
      "240 = 182\n",
      "class= 2 shape(new5)= (182, 486)\tmx= 1.994140625\tmn= -2.99609375\n",
      "\n",
      "250 = 182\n",
      "class= 3 shape(new5)= (183, 486)\tmx= 3.677734375\tmn= -2.923828125\n",
      "\n",
      "310 = 183\n",
      "class= 3 shape(new5)= (183, 486)\tmx= 2.6603036244038307\tmn= -2.601461779805288\n",
      "\n",
      "320 = 183\n",
      "class= 3 shape(new5)= (182, 486)\tmx= 2.558506042703387\tmn= -2.471061377939925\n",
      "\n",
      "330 = 182\n",
      "class= 3 shape(new5)= (182, 486)\tmx= 3.94006307839642\tmn= -3.9847275675956064\n",
      "\n",
      "340 = 182\n",
      "class= 3 shape(new5)= (182, 486)\tmx= 2.60546875\tmn= -2.517578125\n",
      "\n",
      "350 = 182\n",
      "class= 4 shape(new5)= (183, 486)\tmx= 3.83984375\tmn= -3.935546875\n",
      "\n",
      "410 = 183\n",
      "class= 4 shape(new5)= (183, 486)\tmx= 2.694693839399842\tmn= -2.784956424342823\n",
      "\n",
      "420 = 183\n",
      "class= 4 shape(new5)= (182, 486)\tmx= 2.512476185536437\tmn= -2.5987811476671094\n",
      "\n",
      "430 = 182\n",
      "class= 4 shape(new5)= (182, 486)\tmx= 3.643603963607884\tmn= -3.9791905261718017\n",
      "\n",
      "440 = 182\n",
      "class= 4 shape(new5)= (182, 486)\tmx= 2.5703125\tmn= -2.6796875\n",
      "\n",
      "450 = 182\n",
      "class= 5 shape(new5)= (183, 486)\tmx= 3.359375\tmn= -2.703125\n",
      "\n",
      "510 = 183\n",
      "class= 5 shape(new5)= (183, 486)\tmx= 3.011883924034838\tmn= -2.1293929980533868\n",
      "\n",
      "520 = 183\n",
      "class= 5 shape(new5)= (182, 486)\tmx= 2.752960555464187\tmn= -1.9691118417316735\n",
      "\n",
      "530 = 182\n",
      "class= 5 shape(new5)= (182, 486)\tmx= 4.236854727131631\tmn= -3.037418141344257\n",
      "\n",
      "540 = 182\n",
      "class= 5 shape(new5)= (182, 486)\tmx= 2.767578125\tmn= -2.001953125\n",
      "\n",
      "550 = 182\n"
     ]
    }
   ],
   "source": [
    "for i in range (1,cls_num+1):                           #تعریف آرایه ی پنجره های کلاس ها\n",
    "    vlum_sig=10*mx_wndws-len(vars()['wndws'+str(i)])\n",
    "    \n",
    "    vars()['ecg_aug'+str(i)+'10']=np.append(vars()['ecg_aug'+str(i)+'10'],sclRaw(ecg,i,int(vlum_sig),mag=.2),axis=0)#0.1\n",
    "    addqlty(base_wn,vars()['ecg_aug'+str(i)+'10'],10,i)\n",
    "    print(str(i)+'10 =>',len(vars()['ecg_aug'+str(i)+'10']))              #scl_rndm_beat=Rndm  ,  sclRaw=Mrgnl\n",
    "    \n",
    "    vars()['ecg_aug'+str(i)+'20']=np.append(vars()['ecg_aug'+str(i)+'20'],MgWrpRaw(ecg,i,int(vlum_sig),mag=.05),axis=0)\n",
    "    addqlty(base_wn,vars()['ecg_aug'+str(i)+'20'],20,i)\n",
    "    print(str(i)+'20 =>',len(vars()['ecg_aug'+str(i)+'20']))\n",
    "    \n",
    "    vars()['ecg_aug'+str(i)+'30']=np.append(vars()['ecg_aug'+str(i)+'30'],TimWrp_rndm_beat(ecg,i,int(vlum_sig),mag=.05),axis=0)#.1\n",
    "    addqlty(base_wn,vars()['ecg_aug'+str(i)+'30'],30,i)\n",
    "    print(str(i)+'30 =>',len(vars()['ecg_aug'+str(i)+'30']))\n",
    "    \n",
    "    vars()['ecg_aug'+str(i)+'40']=np.append(vars()['ecg_aug'+str(i)+'40'],GDO_rndm_beat(ecg,i,int(vlum_sig),mag=.2),axis=0)\n",
    "    addqlty(base_wn,vars()['ecg_aug'+str(i)+'40'],40,i)\n",
    "    print(str(i)+'40 =>',len(vars()['ecg_aug'+str(i)+'40']))\n",
    "    \n",
    "    vars()['ecg_aug'+str(i)+'50']=np.append(vars()['ecg_aug'+str(i)+'50'],frqnc_rndm_beat(furir_windws,i,int(vlum_sig),mag=.05),axis=0)\n",
    "    addqlty(base_wn,vars()['ecg_aug'+str(i)+'50'],50,i)\n",
    "    print(str(i)+'50 =>',len(vars()['ecg_aug'+str(i)+'50']))"
   ]
  },
  {
   "cell_type": "raw",
   "id": "f5256b07",
   "metadata": {},
   "source": [
    "for i in range (1,cls_num+1):                           #تعریف آرایه ی پنجره های کلاس ها\n",
    "    aug_pls60,aug_pls61,aug_pls62=2,5,3 #2 is MgWrp and 4 is GDO and 5 is freq Augmentes Data for GAN Training\n",
    "    vars()['ecg_aug'+str(i)+'60']=np.append(vars()['ecg_aug'+str(i)+'60'],GAN_Gnrt(ecg,i,aug_pls60),axis=0)\n",
    "    addqlty(base_wn,vars()['ecg_aug'+str(i)+'60'],60,i)\n",
    "    print(str(i)+'60 =',len(vars()['ecg_aug'+str(i)+'60']))\n",
    "    '''vars()['ecg_aug'+str(i)+'61']=np.append(vars()['ecg_aug'+str(i)+'61'],GAN_Gnrt(ecg,i,aug_pls61),axis=0)\n",
    "    addqlty(base_wn,vars()['ecg_aug'+str(i)+'61'],61,i)\n",
    "    print(str(i)+'61 =',len(vars()['ecg_aug'+str(i)+'61']))\n",
    "    vars()['ecg_aug'+str(i)+'62']=np.append(vars()['ecg_aug'+str(i)+'62'],GAN_Gnrt(ecg,i,aug_pls62),axis=0)\n",
    "    addqlty(base_wn,vars()['ecg_aug'+str(i)+'62'],62,i)\n",
    "    print(str(i)+'62 =',len(vars()['ecg_aug'+str(i)+'62']))'''"
   ]
  },
  {
   "cell_type": "raw",
   "id": "321f8919",
   "metadata": {},
   "source": [
    "for i in range (1,cls_num+1):                           #تعریف آرایه ی پنجره های کلاس ها\n",
    "    aug_pls70,aug_pls71,aug_pls72=2,5,3 #2 is MgWrp and 3 is TimeWrp Augmentes Data for LSTM Augmentation\n",
    "    vars()['ecg_aug'+str(i)+'70']=np.append(vars()['ecg_aug'+str(i)+'70'],LSTM_Gnrt_Pridc(ecg,i,aug_pls70),axis=0)\n",
    "    addqlty(base_wn,vars()['ecg_aug'+str(i)+'70'],70,i)\n",
    "    print(str(i)+'70 =',len(vars()['ecg_aug'+str(i)+'70']))\n",
    "    '''vars()['ecg_aug'+str(i)+'71']=np.append(vars()['ecg_aug'+str(i)+'71'],LSTM_Gnrt_Pridc(ecg,i,aug_pls71),axis=0)\n",
    "    addqlty(base_wn,vars()['ecg_aug'+str(i)+'71'],71,i)\n",
    "    print(str(i)+'71 =',len(vars()['ecg_aug'+str(i)+'71']))\n",
    "    vars()['ecg_aug'+str(i)+'72']=np.append(vars()['ecg_aug'+str(i)+'72'],LSTM_Gnrt_Pridc(ecg,i,aug_pls72),axis=0)\n",
    "    addqlty(base_wn,vars()['ecg_aug'+str(i)+'72'],72,i)\n",
    "    print(str(i)+'72 =',len(vars()['ecg_aug'+str(i)+'72']))'''"
   ]
  }
 ],
 "metadata": {
  "kernelspec": {
   "display_name": "Python 3 (ipykernel)",
   "language": "python",
   "name": "python3"
  },
  "language_info": {
   "codemirror_mode": {
    "name": "ipython",
    "version": 3
   },
   "file_extension": ".py",
   "mimetype": "text/x-python",
   "name": "python",
   "nbconvert_exporter": "python",
   "pygments_lexer": "ipython3",
   "version": "3.9.7"
  }
 },
 "nbformat": 4,
 "nbformat_minor": 5
}
