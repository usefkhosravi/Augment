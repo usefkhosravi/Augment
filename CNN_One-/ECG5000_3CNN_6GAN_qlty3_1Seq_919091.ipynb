{
 "cells": [
  {
   "cell_type": "markdown",
   "metadata": {},
   "source": [
    "import time\n",
    "plc=1\n",
    "time.sleep(1500*plc)         #run after 1 houre = 3600 seconds"
   ]
  },
  {
   "cell_type": "code",
   "execution_count": 1,
   "metadata": {},
   "outputs": [
    {
     "data": {
      "text/html": [
       "<style>#notebook { padding-top:0px !important; } .container { width:100% !important; } .end_space { min-height:0px !important; } html, body, .container{ margin:0!important;padding:0!important;}</style>"
      ],
      "text/plain": [
       "<IPython.core.display.HTML object>"
      ]
     },
     "metadata": {},
     "output_type": "display_data"
    }
   ],
   "source": [
    "import os\n",
    "import glob\n",
    "import scipy\n",
    "import random\n",
    "import bisect\n",
    "import numpy as np\n",
    "import pandas as pd\n",
    "import seaborn as sns\n",
    "from scipy import signal\n",
    "from scipy.signal import find_peaks\n",
    "import matplotlib.pyplot as plt\n",
    "from preprocess import *                         #ماژول استخراج پنجره ها\n",
    "from data import *                          #ماژول محلی ورود داده ها\n",
    "from augment import *                            #ماژول های داده افزایی\n",
    "from lstm_cnn import *                           #ماژول های داده افزایی با lstm_cnn\n",
    "import augment\n",
    "import importlib\n",
    "importlib.reload(augment)\n",
    "import tensorflow as tf\n",
    "from tensorflow import keras\n",
    "from tensorflow.keras.layers import BatchNormalization\n",
    "from sklearn.model_selection import train_test_split\n",
    "from sklearn.neural_network import MLPClassifier\n",
    "from sklearn.datasets import make_classification\n",
    "from sklearn.metrics import confusion_matrix, accuracy_score, classification_report,recall_score,precision_score\n",
    "from tensorflow.keras import callbacks\n",
    "from tensorflow.keras import layers\n",
    "from tensorflow.keras.models import Sequential\n",
    "from tensorflow.keras.layers import Convolution2D,Conv1D,Dropout,MaxPooling1D,MaxPooling2D,Flatten,Dense\n",
    "from tensorflow.keras import backend as K\n",
    "from tensorflow.keras.utils import to_categorical\n",
    "from tensorflow.keras.models import load_model\n",
    "cwd = os.getcwd() #\n",
    "fullscrn()"
   ]
  },
  {
   "cell_type": "markdown",
   "metadata": {},
   "source": [
    "<h1><center><div style=\"direction:rtl;font-family:B Nazanin\">Importing Data</div></center></h1>"
   ]
  },
  {
   "cell_type": "code",
   "execution_count": 2,
   "metadata": {
    "scrolled": true
   },
   "outputs": [
    {
     "name": "stdout",
     "output_type": "stream",
     "text": [
      "1 31\t2 69\tshape ecg= (100, 481)\n"
     ]
    }
   ],
   "source": [
    "for i in range (1,3):\n",
    "    vars()['ecg'+str(i)],vars()['ecg_tst'+str(i)]=Ecg200(i)\n",
    "os.chdir(cwd)\n",
    "clses_lens=np.array([])\n",
    "i=0                               #جمع آوری داده ها و چاپ تعداد نمونه ی هر کلاس\n",
    "ecg=np.array(ecg1)\n",
    "print(1,len(vars()['ecg'+str(1)]), end='\\t')\n",
    "clses_lens=np.append(clses_lens,len(vars()['ecg'+str(1)]))\n",
    "for i in range (2,3):\n",
    "    ecg=np.concatenate((ecg,vars()['ecg'+str(i)]),axis=0)\n",
    "    clses_lens=np.append(clses_lens,len(vars()['ecg'+str(i)]))\n",
    "    print( i,len(vars()['ecg'+str(i)]), end='\\t')\n",
    "\n",
    "mx_sig=max(clses_lens)\n",
    "print('shape ecg=',np.shape(ecg))"
   ]
  },
  {
   "cell_type": "markdown",
   "metadata": {},
   "source": [
    "<h2><center><div style=\"direction:rtl;font-family:B Nazanin\">Base Train windows</div></center></h1>"
   ]
  },
  {
   "cell_type": "code",
   "execution_count": 3,
   "metadata": {},
   "outputs": [
    {
     "name": "stdout",
     "output_type": "stream",
     "text": [
      "each class and its windows =\n",
      "1 31\t2 69\t\n",
      " max = 69\n"
     ]
    }
   ],
   "source": [
    "smpl_rte=480                                              # در ماژول ها نیز همین مقدار ثبت شده\n",
    "i=0\n",
    "windws=np.array([])\n",
    "\n",
    "for cls in range (1,3):                                 #ساخت پنجره های داده های آموزش اصلی\n",
    "    vars()['wndws'+str(cls)]=np.array(vars()['ecg'+str(cls)])  \n",
    "    \n",
    "print(\"each class and its windows =\")\n",
    "\n",
    "cls_wndws=np.array([])\n",
    "for cls in range (1,3):                                # آرایه ی تعداد پنجره ی هر کلاس\n",
    "    wns=len(vars()['wndws'+str(cls)])\n",
    "    cls_wndws=np.append(cls_wndws,wns)\n",
    "    print(cls, wns, end='\\t')\n",
    "\n",
    "mx_wndws=int(np.max(cls_wndws))                        # حداکثر تعداد پنجره ی موجود بین کلاس ها\n",
    "print('\\n max =', mx_wndws)"
   ]
  },
  {
   "cell_type": "code",
   "execution_count": 4,
   "metadata": {},
   "outputs": [
    {
     "name": "stdout",
     "output_type": "stream",
     "text": [
      "75\n"
     ]
    }
   ],
   "source": [
    "#clses=3                                   #تعیین میزان افزایش نمونه (تولید داده)\n",
    "mx_wndws=int(mx_wndws+6)  #mx_wndws*0.3  # =classes-1 برای بررسی الگوریتم تعداد کمی کلاس آزمایش شد\n",
    "print(mx_wndws)"
   ]
  },
  {
   "cell_type": "markdown",
   "metadata": {},
   "source": [
    "<h1><center><div style=\"direction:rtl;font-family:B Nazanin\">Data Augmentation</div></center></h1>"
   ]
  },
  {
   "cell_type": "code",
   "execution_count": 5,
   "metadata": {
    "scrolled": false
   },
   "outputs": [
    {
     "name": "stdout",
     "output_type": "stream",
     "text": [
      "vlum_win= 44\n",
      "final shape=  (44, 487)\n",
      "generated data shape for class  1  =  (44, 481)\n",
      "vlum_win= 6\n",
      "final shape=  (6, 487)\n",
      "generated data shape for class  2  =  (6, 481)\n"
     ]
    }
   ],
   "source": [
    "methd=60         #10=scle,20MgWrp,30=timWrp,40=GDO,50=frqnc,60=GAN,70=LSTMplus\n",
    "sort=-3          #-5=Dis_sam_Cls=qlty1   #-4=var_Dis=qlty2    #-3=DisSm/DisOthr=qlty3    #-2=invrs_GDO_papr=qlty4   #-1=GDO_papr=qlty5  \n",
    "invers=0         #1=inverse sorting base of \"sort\"             #inverse of qlity3=qlty6  else=0\n",
    "dp_slct_dstrb=1  #1-sequencial 2-linear 3-beta 4-exponential 5-unfrm\n",
    "\n",
    "for i in range (1,3):                           #تعریف آرایه ی پنجره های کلاس ها\n",
    "    vars()['ecg_aug'+str(i)+str(methd)]=np.empty((0,smpl_rte+1), float) \n",
    "for i in range (1,3):                                     #تعریف آرایه ی پنجره های کلاس ها\n",
    "    vlum_win=mx_wndws-len(vars()['wndws'+str(i)])         #میزان داده افزایی در روش های عمیق (پنجره)\n",
    "    print(\"vlum_win=\",vlum_win)\n",
    "    vars()['ecg_aug'+str(i)+str(methd)]=np.append(vars()['ecg_aug'+str(i)+str(methd)],srtd_data(methd,i,vlum_win,dp_slct_dstrb,sort),axis=0)\n",
    "    #print('aug shape=',np.shape(scl_rndm(ecg,i,vlum_win,mag=.1)))\n",
    "    print('generated data shape for class ', i, ' = ', np.shape(vars()['ecg_aug'+str(i)+str(methd)]))"
   ]
  },
  {
   "cell_type": "code",
   "execution_count": 6,
   "metadata": {},
   "outputs": [
    {
     "name": "stdout",
     "output_type": "stream",
     "text": [
      "final shape=  (6, 487)\n"
     ]
    },
    {
     "data": {
      "text/plain": [
       "array([[2.87695312, 3.04296875, 3.078125  , ..., 2.515625  , 2.74609375,\n",
       "        2.        ],\n",
       "       [2.63476562, 2.77734375, 2.84960938, ..., 2.25390625, 2.421875  ,\n",
       "        2.        ],\n",
       "       [2.72851562, 2.921875  , 3.01757812, ..., 2.55273438, 2.78710938,\n",
       "        2.        ],\n",
       "       [2.58984375, 2.71289062, 2.80273438, ..., 2.296875  , 2.43554688,\n",
       "        2.        ],\n",
       "       [2.59179688, 2.6875    , 2.76757812, ..., 2.34375   , 2.45898438,\n",
       "        2.        ],\n",
       "       [2.61328125, 2.75      , 2.79296875, ..., 2.25390625, 2.35742188,\n",
       "        2.        ]])"
      ]
     },
     "execution_count": 6,
     "metadata": {},
     "output_type": "execute_result"
    }
   ],
   "source": [
    "srtd_data(methd,i,vlum_win,dp_slct_dstrb,sort)"
   ]
  },
  {
   "cell_type": "code",
   "execution_count": 7,
   "metadata": {},
   "outputs": [
    {
     "data": {
      "text/plain": [
       "6"
      ]
     },
     "execution_count": 7,
     "metadata": {},
     "output_type": "execute_result"
    }
   ],
   "source": [
    "vlum_win"
   ]
  },
  {
   "cell_type": "code",
   "execution_count": 8,
   "metadata": {},
   "outputs": [
    {
     "name": "stdout",
     "output_type": "stream",
     "text": [
      "Up to class  1 train shape =  (75, 481)\n",
      "Up to class  2 train shape =  (150, 481)\n"
     ]
    }
   ],
   "source": [
    "           #add augmented data to base data\n",
    "xtrain=np.empty((0,smpl_rte+1), float) \n",
    "for i in range (1,3):   \n",
    "    xtrain=np.append(xtrain,vars()['wndws'+str(i)],axis=0)\n",
    "    xtrain=np.append(xtrain,vars()['ecg_aug'+str(i)+str(methd)],axis=0)\n",
    "    print('Up to class ', i, 'train shape = ', np.shape(xtrain))"
   ]
  },
  {
   "cell_type": "code",
   "execution_count": 9,
   "metadata": {},
   "outputs": [
    {
     "name": "stdout",
     "output_type": "stream",
     "text": [
      "[ 0 75 75]\n"
     ]
    }
   ],
   "source": [
    "print(np.bincount(np.int16(xtrain[:,-1])))    #تعداد پنجره در هر کلاس از 0 تا 17"
   ]
  },
  {
   "cell_type": "code",
   "execution_count": 10,
   "metadata": {},
   "outputs": [],
   "source": [
    "mx_aug=np.max(xtrain[:,:-1])\n",
    "mx=np.max(ecg[:,:-1])\n",
    "mn_aug=np.min(xtrain[:,:-1])\n",
    "mn=np.min(ecg[:,:-1])\n",
    "\n",
    "#for i in range (1,3):             #نرمالسازی داده های افزایشی\n",
    "xtrain[:,:-1]= 2*(xtrain[:,:-1]-mn_aug)/(mx_aug - mn_aug) - 1"
   ]
  },
  {
   "cell_type": "code",
   "execution_count": 11,
   "metadata": {},
   "outputs": [
    {
     "name": "stdout",
     "output_type": "stream",
     "text": [
      "min trn = -1.0\n",
      "max trn = 1.0\n"
     ]
    }
   ],
   "source": [
    "print('min trn =', np.min(xtrain[:,:-1]))\n",
    "print('max trn =', np.max(xtrain[:,:-1]))"
   ]
  },
  {
   "cell_type": "raw",
   "metadata": {},
   "source": [
    "mxwn=np.array([])                               # Normalizing Base Train Windows\n",
    "wndws_base=np.empty((0,smpl_rte+1), float)\n",
    "for i in range (1,3):                          #جمع آوری کلاس ها جهت تعیین حداقل و حداکثر \n",
    "    wndws_base=np.append(wndws_base,vars()['wndws'+str(i)],axis=0)\n",
    "print('base train data wndws shape =', np.shape(wndws_base))\n",
    "mx=np.max(wndws_base[:,:-1])\n",
    "mn=np.min(wndws_base[:,:-1])\n",
    "xtrain=np.empty((0,smpl_rte+1), float)            \n",
    "for i in range (1,3):                          #انتقال به بعد از داده افزایی\n",
    "    vars()['wndws'+str(i)][:,:-1]= 2*(vars()['wndws'+str(i)][:,:-1]-mn)/(mx - mn) - 1\n",
    "    xtrain=np.append(xtrain,vars()['wndws'+str(i)],axis=0)"
   ]
  },
  {
   "cell_type": "raw",
   "metadata": {},
   "source": [
    "mx_aug=np.max(wndws_base[:,:-1])\n",
    "mn_aug=np.min(wndws_base[:,:-1])\n",
    "for i in range (1,3):             #نرمالسازی داده های افزایشی\n",
    "    vars()['ecg_aug'+str(i)][:,:-1]= 2*(vars()['ecg_aug'+str(i)][:,:-1]-mn_aug)/(mx_aug - mn_aug) - 1"
   ]
  },
  {
   "cell_type": "markdown",
   "metadata": {},
   "source": [
    "<h3><center><div style=\"direction:rtl;font-family:B Nazanin\">Test Windows</div></center></h1>"
   ]
  },
  {
   "cell_type": "code",
   "execution_count": 12,
   "metadata": {},
   "outputs": [],
   "source": [
    "wndws_test=np.empty((0,len(wndws1[0])), float)\n",
    "i=0\n",
    "windws=np.array([])\n",
    "for cls in range (1,3):                                 #ساخت پنجره های داده های آموزش اصلی\n",
    "    vars()['wndws_tst'+str(cls)]=np.empty((0,len(wndws1[0])), float)\n",
    "    vars()['wndws_tst'+str(cls)]=np.append(vars()['wndws_tst'+str(cls)],vars()['ecg_tst'+str(cls)],axis=0)   "
   ]
  },
  {
   "cell_type": "code",
   "execution_count": 13,
   "metadata": {},
   "outputs": [
    {
     "name": "stdout",
     "output_type": "stream",
     "text": [
      "\n",
      " cls 1  >> \n",
      "max magnitude class 1  =  4.159687838862726\n",
      "min magnitude class 1  =  -3.0608885355224738\n",
      "after normalizing >>\n",
      "max magnitude class 1  =  0.8684763566900235\n",
      "min magnitude class 1  =  -1.1223307155246187\n",
      "\n",
      " cls 2  >> \n",
      "max magnitude class 2  =  4.1476\n",
      "min magnitude class 2  =  -2.9588110682839144\n",
      "after normalizing >>\n",
      "max magnitude class 2  =  0.8651435818742796\n",
      "min magnitude class 2  =  -1.0941866265827458\n",
      "each class and its windows =\n",
      "1 36\t2 64\t\n",
      " max instance in classes of test windows = 64\n"
     ]
    }
   ],
   "source": [
    "#print(np.max(wndws_tst))\n",
    "for i in range (1,3):                # Normalization test windows\n",
    "    cls=i\n",
    "    print('\\n cls', i, ' >> ')\n",
    "    print('max magnitude class', i , ' = ' ,np.max(vars()['wndws_tst'+str(cls)][:,:-1]))\n",
    "    print('min magnitude class', i , ' = ' ,np.min(vars()['wndws_tst'+str(cls)][:,:-1]))\n",
    "\n",
    "    vars()['wndws_tst'+str(i)][:,:-1]= 2*(vars()['wndws_tst'+str(i)][:,:-1]-mn_aug)/(mx_aug - mn_aug) - 1\n",
    "    \n",
    "    print('after normalizing >>')\n",
    "    print('max magnitude class', i , ' = ' ,np.max(vars()['wndws_tst'+str(cls)][:,:-1]))\n",
    "    print('min magnitude class', i , ' = ' ,np.min(vars()['wndws_tst'+str(cls)][:,:-1]))\n",
    "    \n",
    "print(\"each class and its windows =\")                    #تجمیع کلاس های تست\n",
    "cls_wndws=np.array([])\n",
    "for cls in range (1,3):                                # آرایه ی تعداد پنجره ی هر کلاس\n",
    "    wns=len(vars()['wndws_tst'+str(cls)])\n",
    "    cls_wndws=np.append(cls_wndws,wns)\n",
    "    print(cls, wns, end='\\t')\n",
    "    wndws_test=np.append(wndws_test,vars()['wndws_tst'+str(cls)],axis=0)\n",
    "    \n",
    "mx_wndws=int(np.max(cls_wndws))                        # حداکثر تعداد پنجره ی موجود بین کلاس ها\n",
    "print('\\n max instance in classes of test windows =', mx_wndws)"
   ]
  },
  {
   "cell_type": "code",
   "execution_count": 14,
   "metadata": {},
   "outputs": [
    {
     "name": "stdout",
     "output_type": "stream",
     "text": [
      "min tst = -1.1223307155246187\n",
      "max tst = 0.8684763566900235\n"
     ]
    }
   ],
   "source": [
    "print('min tst =', np.min(wndws_test[:,:-1]))\n",
    "print('max tst =', np.max(wndws_test[:,:-1]))"
   ]
  },
  {
   "cell_type": "code",
   "execution_count": 15,
   "metadata": {},
   "outputs": [
    {
     "data": {
      "text/plain": [
       "100"
      ]
     },
     "execution_count": 15,
     "metadata": {},
     "output_type": "execute_result"
    }
   ],
   "source": [
    "len(wndws_test)"
   ]
  },
  {
   "cell_type": "code",
   "execution_count": 16,
   "metadata": {},
   "outputs": [
    {
     "data": {
      "text/plain": [
       "(100, 481)"
      ]
     },
     "execution_count": 16,
     "metadata": {},
     "output_type": "execute_result"
    }
   ],
   "source": [
    "np.shape(wndws_test)"
   ]
  },
  {
   "cell_type": "code",
   "execution_count": 17,
   "metadata": {},
   "outputs": [],
   "source": [
    "Xtest=wndws_test[:,:-1]\n",
    "ytest=np.int16(wndws_test[:,-1])"
   ]
  },
  {
   "cell_type": "code",
   "execution_count": 18,
   "metadata": {},
   "outputs": [
    {
     "name": "stdout",
     "output_type": "stream",
     "text": [
      "array([1, 1, 1, 1, 1, 1, 1, 1, 1, 1, 1, 1, 1, 1, 1, 1, 1, 1, 1, 1, 1, 1,\n",
      "       1, 1, 1, 1, 1, 1, 1, 1, 1, 1, 1, 1, 1, 1, 2, 2, 2, 2, 2, 2, 2, 2,\n",
      "       2, 2, 2, 2, 2, 2, 2, 2, 2, 2, 2, 2, 2, 2, 2, 2, 2, 2, 2, 2, 2, 2,\n",
      "       2, 2, 2, 2, 2, 2, 2, 2, 2, 2, 2, 2, 2, 2, 2, 2, 2, 2, 2, 2, 2, 2,\n",
      "       2, 2, 2, 2, 2, 2, 2, 2, 2, 2, 2, 2], dtype=int16)\n"
     ]
    }
   ],
   "source": [
    "fullprint(ytest)"
   ]
  },
  {
   "cell_type": "markdown",
   "metadata": {},
   "source": [
    "<h3><center><div style=\"direction:rtl;font-family:B Nazanin\">Train Windows</div></center></h1>"
   ]
  },
  {
   "cell_type": "code",
   "execution_count": 19,
   "metadata": {},
   "outputs": [
    {
     "data": {
      "text/plain": [
       "'\\nytestt=np.int32(np.array([ytest]).T)\\ntestx=np.concatenate((Xtest, ytestt), axis=1)\\ntestx=np.random.permutation(testx)\\nXtest=np.int32(testx[:,:-1])\\nytest=np.int32(testx[:,-1])'"
      ]
     },
     "execution_count": 19,
     "metadata": {},
     "output_type": "execute_result"
    }
   ],
   "source": [
    "#ytraint=np.int32(np.array([ytrain]).T)\n",
    "#trainx=np.concatenate((Xtrain, ytraint), axis=1)\n",
    "trainx=np.random.permutation(xtrain)\n",
    "Xtrain=np.array(trainx[:,:-1])\n",
    "ytrain=np.int16(trainx[:,-1])\n",
    "'''\n",
    "ytestt=np.int32(np.array([ytest]).T)\n",
    "testx=np.concatenate((Xtest, ytestt), axis=1)\n",
    "testx=np.random.permutation(testx)\n",
    "Xtest=np.int32(testx[:,:-1])\n",
    "ytest=np.int32(testx[:,-1])'''"
   ]
  },
  {
   "cell_type": "code",
   "execution_count": 20,
   "metadata": {},
   "outputs": [
    {
     "data": {
      "text/plain": [
       "(31, 481)"
      ]
     },
     "execution_count": 20,
     "metadata": {},
     "output_type": "execute_result"
    }
   ],
   "source": [
    "np.shape(wndws1)"
   ]
  },
  {
   "cell_type": "markdown",
   "metadata": {},
   "source": [
    "<h3><center><div style=\"direction:rtl;font-family:B Nazanin\">Validation Windows</div></center></h1>"
   ]
  },
  {
   "cell_type": "code",
   "execution_count": 21,
   "metadata": {},
   "outputs": [],
   "source": [
    "Xvalid=np.array(Xtest)\n",
    "yvalid=np.array(ytest)"
   ]
  },
  {
   "cell_type": "markdown",
   "metadata": {},
   "source": [
    "<h1><center><div style=\"direction:rtl;font-family:B Nazanin\">CNN And UnBalanced RAW Data</div></center></h1>\n",
    "<h1><center><div style=\"direction:rtl;font-family:Arial\">Cross Entropy Loss Function</div></center></h1>"
   ]
  },
  {
   "cell_type": "code",
   "execution_count": 22,
   "metadata": {
    "scrolled": true
   },
   "outputs": [
    {
     "name": "stdout",
     "output_type": "stream",
     "text": [
      "X_train =>  (150, 480)\n",
      "y_train =>  (150,)\n",
      "X_test  =>  (100, 480)\n",
      "y_test  =>  (100,)\n",
      "X_valid  =>  (100, 480)\n",
      "y_valid  =>  (100,)\n"
     ]
    }
   ],
   "source": [
    "X_train=np.array(Xtrain)\n",
    "y_train=np.array(ytrain)\n",
    "X_test=np.array(Xtest)\n",
    "y_test=np.array(ytest)\n",
    "X_valid=np.array(Xtest)\n",
    "y_valid=np.array(ytest)\n",
    "print('X_train => ', X_train.shape)\n",
    "print('y_train => ', y_train.shape)\n",
    "print('X_test  => ', X_test.shape)\n",
    "print('y_test  => ', y_test.shape)\n",
    "print('X_valid  => ', X_valid.shape)\n",
    "print('y_valid  => ', y_valid.shape)"
   ]
  },
  {
   "cell_type": "code",
   "execution_count": 23,
   "metadata": {},
   "outputs": [
    {
     "data": {
      "text/plain": [
       "1"
      ]
     },
     "execution_count": 23,
     "metadata": {},
     "output_type": "execute_result"
    }
   ],
   "source": [
    "y_train=np.array(ytrain)\n",
    "np.min(y_train)"
   ]
  },
  {
   "cell_type": "code",
   "execution_count": 24,
   "metadata": {},
   "outputs": [],
   "source": [
    "y_train_cat=to_categorical(y_train)\n",
    "y_valid_cat=to_categorical(y_valid)\n",
    "y_test_cat=to_categorical(y_test)\n",
    "\n",
    "\n",
    "X_train = np.expand_dims(X_train, axis=2)\n",
    "X_valid = np.expand_dims(X_valid, axis=2)\n",
    "X_test = np.expand_dims(X_test, axis=2)\n",
    "#y_train=np.transpose([y_train])"
   ]
  },
  {
   "cell_type": "code",
   "execution_count": 25,
   "metadata": {
    "scrolled": true
   },
   "outputs": [
    {
     "name": "stdout",
     "output_type": "stream",
     "text": [
      "Epoch 1/1000\n",
      "30/30 [==============================] - 3s 15ms/step - loss: 0.7503 - accuracy: 0.6600 - val_loss: 0.5556 - val_accuracy: 0.7800\n",
      "Epoch 2/1000\n",
      "30/30 [==============================] - 0s 10ms/step - loss: 0.5534 - accuracy: 0.7333 - val_loss: 0.6608 - val_accuracy: 0.6200\n",
      "Epoch 3/1000\n",
      "30/30 [==============================] - 0s 10ms/step - loss: 0.4685 - accuracy: 0.7733 - val_loss: 0.4978 - val_accuracy: 0.7100\n",
      "Epoch 4/1000\n",
      "30/30 [==============================] - 0s 10ms/step - loss: 0.3870 - accuracy: 0.8133 - val_loss: 0.5277 - val_accuracy: 0.7200\n",
      "Epoch 5/1000\n",
      "30/30 [==============================] - 0s 10ms/step - loss: 0.3452 - accuracy: 0.8200 - val_loss: 0.4125 - val_accuracy: 0.7800\n",
      "Epoch 6/1000\n",
      "30/30 [==============================] - 0s 10ms/step - loss: 0.2699 - accuracy: 0.8933 - val_loss: 0.4916 - val_accuracy: 0.7600\n",
      "Epoch 7/1000\n",
      "30/30 [==============================] - 0s 11ms/step - loss: 0.3110 - accuracy: 0.8533 - val_loss: 0.4096 - val_accuracy: 0.8200\n",
      "Epoch 8/1000\n",
      "30/30 [==============================] - 0s 10ms/step - loss: 0.2620 - accuracy: 0.8867 - val_loss: 0.5005 - val_accuracy: 0.7800\n",
      "Epoch 9/1000\n",
      "30/30 [==============================] - 0s 10ms/step - loss: 0.2628 - accuracy: 0.8600 - val_loss: 0.3914 - val_accuracy: 0.7800\n",
      "Epoch 10/1000\n",
      "30/30 [==============================] - 0s 10ms/step - loss: 0.2230 - accuracy: 0.8933 - val_loss: 0.9364 - val_accuracy: 0.7000\n",
      "Epoch 11/1000\n",
      "30/30 [==============================] - 0s 11ms/step - loss: 0.2440 - accuracy: 0.8667 - val_loss: 0.5881 - val_accuracy: 0.8100\n",
      "Epoch 12/1000\n",
      "30/30 [==============================] - 0s 10ms/step - loss: 0.2255 - accuracy: 0.8533 - val_loss: 0.4025 - val_accuracy: 0.7900\n",
      "Epoch 13/1000\n",
      "30/30 [==============================] - 0s 10ms/step - loss: 0.2190 - accuracy: 0.9067 - val_loss: 0.3952 - val_accuracy: 0.8100\n",
      "Epoch 14/1000\n",
      "30/30 [==============================] - 0s 10ms/step - loss: 0.1949 - accuracy: 0.8933 - val_loss: 0.3744 - val_accuracy: 0.8400\n",
      "Epoch 15/1000\n",
      "30/30 [==============================] - 0s 10ms/step - loss: 0.1931 - accuracy: 0.8933 - val_loss: 0.4572 - val_accuracy: 0.7800\n",
      "Epoch 16/1000\n",
      "30/30 [==============================] - 0s 10ms/step - loss: 0.2553 - accuracy: 0.9133 - val_loss: 0.3839 - val_accuracy: 0.8100\n",
      "Epoch 17/1000\n",
      "30/30 [==============================] - 0s 10ms/step - loss: 0.1606 - accuracy: 0.9400 - val_loss: 0.4605 - val_accuracy: 0.8500\n",
      "Epoch 18/1000\n",
      "30/30 [==============================] - 0s 10ms/step - loss: 0.1964 - accuracy: 0.9267 - val_loss: 0.3793 - val_accuracy: 0.8100\n",
      "Epoch 19/1000\n",
      "30/30 [==============================] - 0s 10ms/step - loss: 0.2082 - accuracy: 0.9200 - val_loss: 0.3913 - val_accuracy: 0.8600\n",
      "Epoch 20/1000\n",
      "30/30 [==============================] - 0s 10ms/step - loss: 0.1454 - accuracy: 0.9400 - val_loss: 0.4242 - val_accuracy: 0.8700\n",
      "Epoch 21/1000\n",
      "30/30 [==============================] - 0s 10ms/step - loss: 0.1541 - accuracy: 0.9467 - val_loss: 0.5158 - val_accuracy: 0.8600\n",
      "Epoch 22/1000\n",
      "30/30 [==============================] - 0s 10ms/step - loss: 0.1199 - accuracy: 0.9400 - val_loss: 0.5106 - val_accuracy: 0.7900\n",
      "Epoch 23/1000\n",
      "30/30 [==============================] - 0s 10ms/step - loss: 0.1067 - accuracy: 0.9600 - val_loss: 0.5376 - val_accuracy: 0.8600\n",
      "Epoch 24/1000\n",
      "30/30 [==============================] - 0s 10ms/step - loss: 0.1055 - accuracy: 0.9467 - val_loss: 0.9922 - val_accuracy: 0.7800\n",
      "Epoch 25/1000\n",
      "30/30 [==============================] - 0s 10ms/step - loss: 0.1089 - accuracy: 0.9533 - val_loss: 0.6554 - val_accuracy: 0.8500\n",
      "Epoch 26/1000\n",
      "30/30 [==============================] - 0s 10ms/step - loss: 0.0743 - accuracy: 0.9733 - val_loss: 0.9051 - val_accuracy: 0.8100\n",
      "Epoch 27/1000\n",
      "30/30 [==============================] - 0s 10ms/step - loss: 0.1094 - accuracy: 0.9600 - val_loss: 0.4666 - val_accuracy: 0.8400\n",
      "Epoch 28/1000\n",
      "30/30 [==============================] - 0s 10ms/step - loss: 0.1137 - accuracy: 0.9800 - val_loss: 0.6608 - val_accuracy: 0.8500\n",
      "Epoch 29/1000\n",
      "30/30 [==============================] - 0s 10ms/step - loss: 0.0761 - accuracy: 0.9733 - val_loss: 0.5403 - val_accuracy: 0.8600\n",
      "Epoch 30/1000\n",
      "30/30 [==============================] - 0s 10ms/step - loss: 0.0824 - accuracy: 0.9733 - val_loss: 0.6954 - val_accuracy: 0.8600\n",
      "Epoch 31/1000\n",
      "30/30 [==============================] - 0s 10ms/step - loss: 0.0900 - accuracy: 0.9600 - val_loss: 1.0382 - val_accuracy: 0.8300\n",
      "Epoch 32/1000\n",
      "30/30 [==============================] - 0s 10ms/step - loss: 0.1033 - accuracy: 0.9533 - val_loss: 0.7299 - val_accuracy: 0.8700\n",
      "Epoch 33/1000\n",
      "30/30 [==============================] - 0s 11ms/step - loss: 0.0580 - accuracy: 0.9800 - val_loss: 0.7671 - val_accuracy: 0.8700\n",
      "Epoch 34/1000\n",
      "30/30 [==============================] - 0s 10ms/step - loss: 0.0606 - accuracy: 0.9667 - val_loss: 0.5061 - val_accuracy: 0.8600\n",
      "Epoch 35/1000\n",
      "30/30 [==============================] - 0s 10ms/step - loss: 0.0463 - accuracy: 0.9800 - val_loss: 0.8160 - val_accuracy: 0.8800\n",
      "Epoch 36/1000\n",
      "30/30 [==============================] - 0s 10ms/step - loss: 0.0288 - accuracy: 0.9933 - val_loss: 0.8455 - val_accuracy: 0.8300\n",
      "Epoch 37/1000\n",
      "30/30 [==============================] - 0s 10ms/step - loss: 0.0576 - accuracy: 0.9867 - val_loss: 1.2813 - val_accuracy: 0.8700\n",
      "Epoch 38/1000\n",
      "30/30 [==============================] - 0s 10ms/step - loss: 0.0260 - accuracy: 0.9867 - val_loss: 0.8381 - val_accuracy: 0.8700\n",
      "Epoch 39/1000\n",
      "30/30 [==============================] - 0s 10ms/step - loss: 0.0019 - accuracy: 1.0000 - val_loss: 0.9211 - val_accuracy: 0.8800\n",
      "Epoch 40/1000\n",
      "30/30 [==============================] - 0s 10ms/step - loss: 0.1261 - accuracy: 0.9667 - val_loss: 1.4081 - val_accuracy: 0.8400\n",
      "Epoch 41/1000\n",
      "30/30 [==============================] - 0s 10ms/step - loss: 0.0027 - accuracy: 1.0000 - val_loss: 1.8503 - val_accuracy: 0.8500\n",
      "Epoch 42/1000\n",
      "30/30 [==============================] - 0s 10ms/step - loss: 0.0670 - accuracy: 0.9867 - val_loss: 1.2455 - val_accuracy: 0.8600\n",
      "Epoch 43/1000\n",
      "30/30 [==============================] - 0s 11ms/step - loss: 0.0522 - accuracy: 0.9800 - val_loss: 0.9675 - val_accuracy: 0.8700\n",
      "Epoch 44/1000\n",
      "30/30 [==============================] - 0s 11ms/step - loss: 0.0054 - accuracy: 1.0000 - val_loss: 1.2419 - val_accuracy: 0.8600\n",
      "Epoch 45/1000\n",
      "30/30 [==============================] - 0s 10ms/step - loss: 3.1545e-04 - accuracy: 1.0000 - val_loss: 1.0487 - val_accuracy: 0.8800\n",
      "Epoch 46/1000\n",
      "30/30 [==============================] - 0s 10ms/step - loss: 2.8247e-05 - accuracy: 1.0000 - val_loss: 1.3549 - val_accuracy: 0.8700\n",
      "Epoch 47/1000\n",
      "30/30 [==============================] - 0s 10ms/step - loss: 1.5666e-05 - accuracy: 1.0000 - val_loss: 1.2002 - val_accuracy: 0.8900\n",
      "Epoch 48/1000\n",
      "30/30 [==============================] - 0s 10ms/step - loss: 1.3779e-05 - accuracy: 1.0000 - val_loss: 2.2586 - val_accuracy: 0.8100\n",
      "Epoch 49/1000\n",
      "30/30 [==============================] - 0s 10ms/step - loss: 0.1280 - accuracy: 0.9733 - val_loss: 1.3492 - val_accuracy: 0.8800\n",
      "Epoch 50/1000\n",
      "30/30 [==============================] - 0s 11ms/step - loss: 1.9168e-05 - accuracy: 1.0000 - val_loss: 1.3497 - val_accuracy: 0.8800\n",
      "Epoch 51/1000\n",
      "30/30 [==============================] - 0s 11ms/step - loss: 1.6962e-05 - accuracy: 1.0000 - val_loss: 1.3427 - val_accuracy: 0.8800\n",
      "Epoch 52/1000\n",
      "30/30 [==============================] - 0s 11ms/step - loss: 1.0618e-05 - accuracy: 1.0000 - val_loss: 1.3731 - val_accuracy: 0.8800\n",
      "Epoch 53/1000\n",
      "30/30 [==============================] - 0s 10ms/step - loss: 5.5817e-06 - accuracy: 1.0000 - val_loss: 1.5006 - val_accuracy: 0.8700\n",
      "Epoch 54/1000\n",
      "30/30 [==============================] - 0s 11ms/step - loss: 2.3547e-06 - accuracy: 1.0000 - val_loss: 1.4097 - val_accuracy: 0.8900\n",
      "Epoch 55/1000\n",
      "30/30 [==============================] - 0s 12ms/step - loss: 1.3034e-07 - accuracy: 1.0000 - val_loss: 1.3682 - val_accuracy: 0.9000\n",
      "Epoch 56/1000\n",
      "30/30 [==============================] - 0s 11ms/step - loss: 0.1264 - accuracy: 0.9867 - val_loss: 1.4503 - val_accuracy: 0.8800\n",
      "Epoch 57/1000\n"
     ]
    },
    {
     "name": "stdout",
     "output_type": "stream",
     "text": [
      "30/30 [==============================] - 0s 11ms/step - loss: 3.4450e-06 - accuracy: 1.0000 - val_loss: 1.3874 - val_accuracy: 0.8900\n",
      "Epoch 58/1000\n",
      "30/30 [==============================] - 0s 11ms/step - loss: 1.5719e-06 - accuracy: 1.0000 - val_loss: 1.4334 - val_accuracy: 0.8800\n",
      "Epoch 59/1000\n",
      "30/30 [==============================] - 0s 10ms/step - loss: 7.6134e-07 - accuracy: 1.0000 - val_loss: 1.3901 - val_accuracy: 0.8800\n",
      "Epoch 60/1000\n",
      "30/30 [==============================] - 0s 12ms/step - loss: 3.6478e-07 - accuracy: 1.0000 - val_loss: 1.4773 - val_accuracy: 0.8800\n",
      "Epoch 61/1000\n",
      "30/30 [==============================] - 0s 11ms/step - loss: 1.9073e-07 - accuracy: 1.0000 - val_loss: 1.3535 - val_accuracy: 0.8700\n",
      "Epoch 62/1000\n",
      "30/30 [==============================] - 0s 11ms/step - loss: 1.4067e-07 - accuracy: 1.0000 - val_loss: 1.6316 - val_accuracy: 0.8800\n",
      "Epoch 63/1000\n",
      "30/30 [==============================] - 0s 10ms/step - loss: 4.6094e-08 - accuracy: 1.0000 - val_loss: 1.4765 - val_accuracy: 0.8900\n",
      "Epoch 64/1000\n",
      "30/30 [==============================] - 0s 10ms/step - loss: 1.1921e-08 - accuracy: 1.0000 - val_loss: 1.6131 - val_accuracy: 0.8700\n",
      "Epoch 65/1000\n",
      "30/30 [==============================] - 0s 10ms/step - loss: 3.9736e-09 - accuracy: 1.0000 - val_loss: 1.6012 - val_accuracy: 0.8900\n",
      "Epoch 66/1000\n",
      "30/30 [==============================] - 0s 11ms/step - loss: 7.9473e-10 - accuracy: 1.0000 - val_loss: 1.6928 - val_accuracy: 0.9000\n",
      "Epoch 67/1000\n",
      "30/30 [==============================] - 0s 13ms/step - loss: 2.3842e-09 - accuracy: 1.0000 - val_loss: 1.7612 - val_accuracy: 0.9000\n",
      "Epoch 68/1000\n",
      "30/30 [==============================] - 0s 13ms/step - loss: 0.0000e+00 - accuracy: 1.0000 - val_loss: 1.6931 - val_accuracy: 0.8900\n",
      "Epoch 69/1000\n",
      "30/30 [==============================] - 0s 12ms/step - loss: 0.0000e+00 - accuracy: 1.0000 - val_loss: 1.7038 - val_accuracy: 0.8900\n",
      "Epoch 70/1000\n",
      "30/30 [==============================] - 1s 38ms/step - loss: 0.0000e+00 - accuracy: 1.0000 - val_loss: 1.7053 - val_accuracy: 0.8900\n",
      "Epoch 71/1000\n",
      "30/30 [==============================] - 0s 10ms/step - loss: 0.0000e+00 - accuracy: 1.0000 - val_loss: 1.6838 - val_accuracy: 0.8900\n",
      "Epoch 72/1000\n",
      "30/30 [==============================] - 0s 10ms/step - loss: 0.0000e+00 - accuracy: 1.0000 - val_loss: 1.7361 - val_accuracy: 0.9100\n",
      "Epoch 73/1000\n",
      "30/30 [==============================] - 0s 10ms/step - loss: 0.0000e+00 - accuracy: 1.0000 - val_loss: 1.7133 - val_accuracy: 0.9000\n",
      "Epoch 74/1000\n",
      "30/30 [==============================] - 2s 11ms/step - loss: 0.0000e+00 - accuracy: 1.0000 - val_loss: 1.7388 - val_accuracy: 0.9100\n",
      "Epoch 75/1000\n",
      "30/30 [==============================] - 0s 10ms/step - loss: 0.0000e+00 - accuracy: 1.0000 - val_loss: 1.7464 - val_accuracy: 0.9100\n",
      "Epoch 76/1000\n",
      "30/30 [==============================] - 0s 10ms/step - loss: 0.0000e+00 - accuracy: 1.0000 - val_loss: 1.7500 - val_accuracy: 0.9100\n",
      "Epoch 77/1000\n",
      "30/30 [==============================] - 2s 57ms/step - loss: 0.0000e+00 - accuracy: 1.0000 - val_loss: 1.7403 - val_accuracy: 0.9100\n",
      "Epoch 78/1000\n",
      "30/30 [==============================] - 0s 9ms/step - loss: 0.0000e+00 - accuracy: 1.0000 - val_loss: 1.7293 - val_accuracy: 0.9000\n",
      "Epoch 79/1000\n",
      "30/30 [==============================] - 0s 9ms/step - loss: 0.0000e+00 - accuracy: 1.0000 - val_loss: 1.7365 - val_accuracy: 0.9000\n",
      "Epoch 80/1000\n",
      "30/30 [==============================] - 2s 63ms/step - loss: 0.0000e+00 - accuracy: 1.0000 - val_loss: 1.7406 - val_accuracy: 0.9000\n",
      "Epoch 81/1000\n",
      "30/30 [==============================] - 0s 10ms/step - loss: 0.0000e+00 - accuracy: 1.0000 - val_loss: 1.7614 - val_accuracy: 0.9100\n",
      "Epoch 82/1000\n",
      "30/30 [==============================] - 0s 10ms/step - loss: 0.0000e+00 - accuracy: 1.0000 - val_loss: 1.7503 - val_accuracy: 0.9100\n",
      "Epoch 83/1000\n",
      "30/30 [==============================] - 0s 10ms/step - loss: 0.0000e+00 - accuracy: 1.0000 - val_loss: 1.7665 - val_accuracy: 0.9100\n",
      "Epoch 84/1000\n",
      "30/30 [==============================] - 2s 78ms/step - loss: 0.0000e+00 - accuracy: 1.0000 - val_loss: 1.7719 - val_accuracy: 0.9100\n",
      "Epoch 85/1000\n",
      "30/30 [==============================] - 0s 11ms/step - loss: 0.0000e+00 - accuracy: 1.0000 - val_loss: 1.7772 - val_accuracy: 0.9100\n",
      "Epoch 86/1000\n",
      "30/30 [==============================] - 0s 10ms/step - loss: 0.0000e+00 - accuracy: 1.0000 - val_loss: 1.7618 - val_accuracy: 0.9100\n",
      "Epoch 87/1000\n",
      "30/30 [==============================] - 2s 64ms/step - loss: 0.0000e+00 - accuracy: 1.0000 - val_loss: 1.7621 - val_accuracy: 0.9100\n",
      "Epoch 88/1000\n",
      "30/30 [==============================] - 0s 11ms/step - loss: 0.0000e+00 - accuracy: 1.0000 - val_loss: 1.7758 - val_accuracy: 0.9100\n",
      "Epoch 89/1000\n",
      "30/30 [==============================] - 0s 11ms/step - loss: 0.0000e+00 - accuracy: 1.0000 - val_loss: 1.7817 - val_accuracy: 0.9100\n",
      "Epoch 90/1000\n",
      "30/30 [==============================] - 2s 60ms/step - loss: 0.0000e+00 - accuracy: 1.0000 - val_loss: 1.7730 - val_accuracy: 0.9100\n",
      "Epoch 91/1000\n",
      "30/30 [==============================] - 0s 11ms/step - loss: 0.0000e+00 - accuracy: 1.0000 - val_loss: 1.7897 - val_accuracy: 0.9100\n",
      "Epoch 92/1000\n",
      "30/30 [==============================] - 0s 12ms/step - loss: 0.0000e+00 - accuracy: 1.0000 - val_loss: 1.7895 - val_accuracy: 0.9100\n",
      "20/20 [==============================] - 0s 3ms/step - loss: 1.7361 - accuracy: 0.9100\n",
      "np.shape(X_test)= (100, 480, 1)\n",
      "Model: \"sequential\"\n",
      "_________________________________________________________________\n",
      " Layer (type)                Output Shape              Param #   \n",
      "=================================================================\n",
      " conv1d (Conv1D)             (None, 478, 32)           128       \n",
      "                                                                 \n",
      " conv1d_1 (Conv1D)           (None, 476, 64)           6208      \n",
      "                                                                 \n",
      " max_pooling1d (MaxPooling1D  (None, 158, 64)          0         \n",
      " )                                                               \n",
      "                                                                 \n",
      " conv1d_2 (Conv1D)           (None, 156, 128)          24704     \n",
      "                                                                 \n",
      " max_pooling1d_1 (MaxPooling  (None, 52, 128)          0         \n",
      " 1D)                                                             \n",
      "                                                                 \n",
      " conv1d_3 (Conv1D)           (None, 50, 128)           49280     \n",
      "                                                                 \n",
      " max_pooling1d_2 (MaxPooling  (None, 16, 128)          0         \n",
      " 1D)                                                             \n",
      "                                                                 \n",
      " conv1d_4 (Conv1D)           (None, 14, 256)           98560     \n",
      "                                                                 \n",
      " max_pooling1d_3 (MaxPooling  (None, 4, 256)           0         \n",
      " 1D)                                                             \n",
      "                                                                 \n",
      " flatten (Flatten)           (None, 1024)              0         \n",
      "                                                                 \n",
      " dense (Dense)               (None, 2000)              2050000   \n",
      "                                                                 \n",
      " dense_1 (Dense)             (None, 3)                 6003      \n",
      "                                                                 \n",
      "=================================================================\n",
      "Total params: 2,234,883\n",
      "Trainable params: 2,234,883\n",
      "Non-trainable params: 0\n",
      "_________________________________________________________________\n",
      "Accuracy=  0.9100000262260437\n"
     ]
    }
   ],
   "source": [
    "accuracy=0\n",
    "acc_crs=np.array([])\n",
    "##for i in range (10):\n",
    "##    if accuracy<0.2 :\n",
    "\n",
    "verbose, epochs, batch_size = 1, 1000, 5\n",
    "n_timesteps, n_features, n_outputs = X_train.shape[1], X_train.shape[2], y_train_cat.shape[1]\n",
    "steps_per_epoch = len(X_train)//batch_size\n",
    "validation_steps = len(X_valid)//batch_size # if you have test data\n",
    "\n",
    "model_crs = Sequential()\n",
    "BatchNormalization()\n",
    "model_crs.add(Conv1D(filters=32, kernel_size=3, activation='relu', input_shape=(n_timesteps,n_features)))\n",
    "#model_crs.add(MaxPooling1D(pool_size=3))\n",
    "BatchNormalization()\n",
    "model_crs.add(Conv1D(filters=64, kernel_size=3, activation='relu'))\n",
    "#model_crs.add(Dropout(0.5))\n",
    "model_crs.add(MaxPooling1D(pool_size=3))\n",
    "BatchNormalization()\n",
    "model_crs.add(Conv1D(filters=128, kernel_size=3, activation='relu'))\n",
    "model_crs.add(MaxPooling1D(pool_size=3))\n",
    "BatchNormalization()\n",
    "model_crs.add(Conv1D(filters=128, kernel_size=3, activation='relu'))\n",
    "model_crs.add(MaxPooling1D(pool_size=3))\n",
    "BatchNormalization()\n",
    "model_crs.add(Conv1D(filters=256, kernel_size=3, activation='relu'))\n",
    "model_crs.add(MaxPooling1D(pool_size=3))\n",
    "'''model_crs.add(Conv1D(filters=512, kernel_size=3, activation='relu'))\n",
    "model_crs.add(MaxPooling1D(pool_size=3))\n",
    "model_crs.add(Conv1D(filters=1024, kernel_size=3, activation='relu'))\n",
    "model_crs.add(MaxPooling1D(pool_size=3))\n",
    "'''\n",
    "model_crs.add(Flatten())\n",
    "#model_crs.add(Dropout(0.5))\n",
    "model_crs.add(Dense(2000, activation='relu'))\n",
    "model_crs.add(Dense(n_outputs, activation='softmax'))\n",
    "model_crs.compile(optimizer='rmsprop', loss='categorical_crossentropy', metrics=['accuracy'])\n",
    "# fit network   #CategoricalCrossentropy #sparse_categorical_crossentropy #SparseCategoricalCrossentropy\n",
    "\n",
    "earlystopping = callbacks.EarlyStopping(monitor =\"val_accuracy\", mode =\"max\", patience = 20, restore_best_weights = True)\n",
    "\n",
    "model_crs.fit(X_train, y_train_cat, epochs=epochs, batch_size=batch_size, verbose=verbose, validation_data = (X_valid, y_valid_cat), callbacks =[earlystopping])\n",
    "# evaluate model_crs\n",
    "_, accuracy = model_crs.evaluate(X_valid, y_valid_cat, batch_size=batch_size, verbose=1)\n",
    "\n",
    "print('np.shape(X_test)=',np.shape(X_test))\n",
    "\n",
    "\n",
    "model_crs.summary()\n",
    "print('Accuracy= ', accuracy)\n",
    "\n",
    "#output = K.function([model_crs.layers[0].input],[model_crs.layers[3].output])\n",
    "#output(X_test)[0]\n",
    "#y_pred= model_crs.predict(X_test)                # Function 1\n",
    "\n",
    "##    print('Round ', i, '==>', 'accuracy = ', accuracy)\n",
    "##    acc_crs=np.append(acc_crs,accuracy)\n",
    "#y_pred_crs = model_crs.predict_classes(X_test)   # Function 2"
   ]
  },
  {
   "cell_type": "code",
   "execution_count": 26,
   "metadata": {},
   "outputs": [],
   "source": [
    "def maxindx(ar):\n",
    "    ar_cpy=np.array(ar)\n",
    "    pred=np.argmax(ar,axis=1)\n",
    "    for i in range (len(pred)):\n",
    "        if pred[i]==0:\n",
    "            ar_cpy[i,0]=-1000\n",
    "    pred=np.argmax(ar_cpy,axis=1)\n",
    "    return(pred)"
   ]
  },
  {
   "cell_type": "code",
   "execution_count": 27,
   "metadata": {},
   "outputs": [
    {
     "name": "stdout",
     "output_type": "stream",
     "text": [
      "4/4 [==============================] - 2s 19ms/step\n",
      "[[29  7]\n",
      " [ 2 62]]\n",
      "              precision    recall  f1-score   support\n",
      "\n",
      "           1       0.94      0.81      0.87        36\n",
      "           2       0.90      0.97      0.93        64\n",
      "\n",
      "    accuracy                           0.91       100\n",
      "   macro avg       0.92      0.89      0.90       100\n",
      "weighted avg       0.91      0.91      0.91       100\n",
      "\n"
     ]
    }
   ],
   "source": [
    "predict_x=model_crs.predict(X_test)              # Function 1\n",
    "\n",
    "y_pred_crs=maxindx(predict_x)                    # function from augment.py to remove 0 index predictions\n",
    "\n",
    "#y_pred_crs = model_crs.predict_classes(X_test)\n",
    "\n",
    "cm = confusion_matrix(y_test, y_pred_crs)\n",
    "print(cm)\n",
    "acc3=accuracy_score(y_test, y_pred_crs)\n",
    "\n",
    "print(classification_report(y_test, y_pred_crs))\n",
    "\n",
    "#sns.heatmap(cm, annot=True)\n",
    "\n",
    "#plt.imshow(cm)"
   ]
  },
  {
   "cell_type": "raw",
   "metadata": {},
   "source": [
    "y_pred_crs = model_crs.predict_classes(X_test)     # Function 2\n",
    "\n",
    "\n",
    "cm = confusion_matrix(y_test, y_pred_crs)\n",
    "print(cm)\n",
    "acc3=accuracy_score(y_test, y_pred_crs)\n",
    "\n",
    "print(classification_report(y_test, y_pred_crs))\n",
    "\n",
    "#sns.heatmap(cm, annot=True)\n",
    "\n",
    "#plt.imshow(cm)"
   ]
  },
  {
   "cell_type": "code",
   "execution_count": 28,
   "metadata": {
    "scrolled": true
   },
   "outputs": [
    {
     "name": "stdout",
     "output_type": "stream",
     "text": [
      "[75 75]\n"
     ]
    }
   ],
   "source": [
    "print(np.bincount(y_train)[1:])"
   ]
  },
  {
   "cell_type": "raw",
   "metadata": {},
   "source": [
    "#model_crs=load_model('CNN1_crs_UnBlnc_8020_fld1_5550.h5')   # Save CNN Network For thereafter Predictions\n",
    "#model_crs=load_model('CNN1_crs_UnBlnc_9395%.h5')\n",
    "\n",
    "model_crs.save('CNN1_Scl_crs_0000.h5') "
   ]
  }
 ],
 "metadata": {
  "celltoolbar": "Raw Cell Format",
  "kernelspec": {
   "display_name": "Python 3 (ipykernel)",
   "language": "python",
   "name": "python3"
  },
  "language_info": {
   "codemirror_mode": {
    "name": "ipython",
    "version": 3
   },
   "file_extension": ".py",
   "mimetype": "text/x-python",
   "name": "python",
   "nbconvert_exporter": "python",
   "pygments_lexer": "ipython3",
   "version": "3.9.7"
  }
 },
 "nbformat": 4,
 "nbformat_minor": 4
}
