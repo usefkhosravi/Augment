{
 "cells": [
  {
   "cell_type": "code",
   "execution_count": 1,
   "id": "d5518c54",
   "metadata": {},
   "outputs": [],
   "source": [
    "#Change ClsStrt from 0/1 , cls_num , dataload , Rate , MthdMgntud"
   ]
  },
  {
   "cell_type": "code",
   "execution_count": 2,
   "id": "ab7fbdac",
   "metadata": {},
   "outputs": [],
   "source": [
    "from augment import *\n",
    "import glob\n",
    "import os\n",
    "import glob\n",
    "import scipy\n",
    "import random\n",
    "import bisect\n",
    "import numpy as np\n",
    "import pandas as pd\n",
    "import seaborn as sns\n",
    "from scipy import signal\n",
    "from scipy.signal import find_peaks\n",
    "import matplotlib.pyplot as plt\n",
    "from preprocess import *                         #ماژول استخراج پنجره ها\n",
    "from data import *                               #ماژول محلی ورود داده ها\n",
    "from augment import *                            #ماژول های داده افزایی\n",
    "from GAN import *                  \n",
    "from lstm_cnn import *                           #ماژول های داده افزایی با lstm_cnn\n",
    "import augment\n",
    "import importlib\n",
    "importlib.reload(augment)\n",
    "import tensorflow as tf\n",
    "from tensorflow import keras\n",
    "from tensorflow.keras.layers import BatchNormalization\n",
    "from sklearn.model_selection import train_test_split\n",
    "from sklearn.neural_network import MLPClassifier\n",
    "from sklearn.datasets import make_classification\n",
    "from sklearn.metrics import confusion_matrix, accuracy_score, classification_report,recall_score,precision_score\n",
    "from tensorflow.keras import callbacks\n",
    "from tensorflow.keras import layers\n",
    "from tensorflow.keras.models import Sequential\n",
    "from tensorflow.keras.layers import Convolution2D,Conv1D,Dropout,MaxPooling1D,MaxPooling2D,Flatten,Dense\n",
    "from tensorflow.keras import backend as K\n",
    "from tensorflow.keras.utils import to_categorical\n",
    "from tensorflow.keras.models import load_model\n",
    "cwd = os.getcwd() #"
   ]
  },
  {
   "cell_type": "code",
   "execution_count": 3,
   "id": "35d7534f",
   "metadata": {},
   "outputs": [],
   "source": [
    "def dstnc(dt2,dt1): #فاصله و واریانس بردار فاصله ی هر کدام از ردیف های دیتاست(آگمنت)1 از (کل)2\n",
    "    dist,vrnc,i,h,w=[],[],0,np.shape(dt1)[0],np.shape(dt1)[1]\n",
    "    end=min(len(dt2[0]),len(dt1[0]))\n",
    "    for i in range (h):\n",
    "        ds1 = dt2-dt1[i,:end] #.reshape(-1,1) #distance of every training instance\n",
    "        dist_array=(ds1*10)**3  #معیار فاصله با حساسیت به توان 3 (حفظ علامت و تاثیر بیشتر تفاوت زیاد در نقاط)\n",
    "        vr=np.var(ds1)\n",
    "        ds1=min(np.sum(np.absolute(dist_array),axis=1))\n",
    "        #print('dist2 = ', dist2)\n",
    "        vrnc.append(vr)\n",
    "        dist.append(ds1)\n",
    "    variance=np.reshape(vrnc,(-1,1))\n",
    "    distnc=np.reshape(dist,(-1,1))\n",
    "    return(distnc,variance)"
   ]
  },
  {
   "cell_type": "code",
   "execution_count": 4,
   "id": "73e40353",
   "metadata": {},
   "outputs": [
    {
     "name": "stdout",
     "output_type": "stream",
     "text": [
      "first_train_shape= (370, 236)\n",
      "first_test_shape= (613, 236)\n",
      "classes_quantity= 2\n",
      "tr_lbls=\t {1, 2}\n",
      "Count_labels= [132 238]\n",
      "max(train_feature_Altitude)= 3.7227\n",
      "min(train_feature_Altitude)= -2.1276\n",
      "first_train_sample=\n",
      " [ 1.0000e+00 -3.1047e-01 -3.0916e-01 -3.1179e-01 -2.9259e-01 -2.4866e-01\n",
      " -1.9342e-01 -1.6343e-01 -1.6633e-01 -1.9158e-01 -2.2840e-01 -2.5655e-01\n",
      " -2.7654e-01 -2.9943e-01 -3.2099e-01 -3.2704e-01 -3.0416e-01 -2.3893e-01\n",
      " -1.4160e-01 -6.9266e-02 -1.5342e-02  1.0329e-01  2.6900e-01  4.2656e-01\n",
      "  6.0517e-01  7.7693e-01  8.6189e-01  8.9162e-01  9.4081e-01  1.0510e+00\n",
      "  1.2486e+00  1.4782e+00  1.6436e+00  1.7783e+00  1.9924e+00  2.2715e+00\n",
      "  2.4793e+00  2.5630e+00  2.5853e+00  2.6240e+00  2.7276e+00  2.9065e+00\n",
      "  3.0877e+00  3.1716e+00  3.1293e+00  2.9857e+00  2.8286e+00  2.7529e+00\n",
      "  2.7197e+00  2.5375e+00  2.1403e+00  1.7415e+00  1.5555e+00  1.5876e+00\n",
      "  1.6757e+00  1.6555e+00  1.4953e+00  1.2717e+00  1.0700e+00  9.2266e-01\n",
      "  8.2139e-01  7.5142e-01  6.9881e-01  6.5699e-01  6.3358e-01  6.1622e-01\n",
      "  5.8228e-01  5.2599e-01  4.3919e-01  3.1188e-01  1.5853e-01  2.0957e-02\n",
      " -6.5320e-02 -9.7411e-02 -9.7937e-02 -8.8731e-02 -8.3470e-02 -8.4259e-02\n",
      " -8.2155e-02 -7.3211e-02 -6.2164e-02 -5.0853e-02 -3.6386e-02 -1.5342e-02\n",
      "  1.7274e-02  5.8572e-02  1.0118e-01  1.3880e-01  1.6352e-01  1.7378e-01\n",
      "  1.7484e-01  1.7168e-01  1.6668e-01  1.5721e-01  1.4143e-01  1.2275e-01\n",
      "  9.5397e-02  5.8309e-02  2.3324e-02 -2.4535e-03 -1.6395e-02 -2.6653e-02\n",
      " -4.0594e-02 -5.2431e-02 -5.9007e-02 -5.5588e-02 -3.9805e-02 -1.4553e-02\n",
      "  1.3592e-02  3.8318e-02  6.2517e-02  9.1452e-02  1.2196e-01  1.5616e-01\n",
      "  1.8325e-01  2.0456e-01  2.4244e-01  2.6637e-01  2.6558e-01  2.6006e-01\n",
      "  2.5269e-01  2.3612e-01  2.2586e-01  2.1219e-01  1.8115e-01  1.5590e-01\n",
      "  1.3485e-01  1.1092e-01  1.0039e-01  1.0355e-01  1.1118e-01  1.4432e-01\n",
      "  1.7431e-01  1.9719e-01  2.0956e-01  1.9614e-01  1.6800e-01  1.5826e-01\n",
      "  1.4117e-01  1.1197e-01  7.8300e-02  5.7783e-02  3.9107e-02 -1.4290e-02\n",
      " -7.1107e-02 -1.2345e-01 -2.1367e-01 -2.8312e-01 -3.9096e-01 -5.0091e-01\n",
      " -6.1086e-01 -6.7662e-01 -7.1661e-01 -7.7369e-01 -8.3024e-01 -8.5181e-01\n",
      " -8.7048e-01 -8.8811e-01 -9.0994e-01 -9.4519e-01 -9.1836e-01 -9.1915e-01\n",
      " -9.3782e-01 -9.5229e-01 -9.5019e-01 -9.5360e-01 -9.6518e-01 -9.8491e-01\n",
      " -9.8912e-01 -9.6123e-01 -9.4624e-01 -9.4571e-01 -9.4177e-01 -8.8521e-01\n",
      " -8.4918e-01 -8.2366e-01 -8.0209e-01 -7.8131e-01 -7.5738e-01 -7.5054e-01\n",
      " -7.5711e-01 -7.7027e-01 -7.8421e-01 -7.9973e-01 -8.3340e-01 -8.7916e-01\n",
      " -9.2309e-01 -9.7070e-01 -1.0059e+00 -1.0230e+00 -1.0278e+00 -1.0291e+00\n",
      " -1.0178e+00 -1.0165e+00 -1.0223e+00 -9.9517e-01 -9.5229e-01 -9.1862e-01\n",
      " -9.1678e-01 -9.0652e-01 -9.0626e-01 -9.1389e-01 -9.0152e-01 -8.8548e-01\n",
      " -8.8443e-01 -8.6812e-01 -8.3366e-01 -8.1209e-01 -8.0236e-01 -7.6053e-01\n",
      " -7.1240e-01 -6.6321e-01 -6.4374e-01 -6.4085e-01 -6.0403e-01 -5.9061e-01\n",
      " -6.1849e-01 -6.7584e-01 -7.2897e-01 -7.7106e-01 -8.3366e-01 -8.9311e-01\n",
      " -9.3730e-01 -9.6255e-01 -9.9753e-01 -1.0280e+00 -1.0549e+00 -1.0883e+00\n",
      " -1.1001e+00 -1.0983e+00 -1.1035e+00 -1.1049e+00 -1.1151e+00 -1.1230e+00\n",
      " -1.1196e+00 -1.1196e+00]\n",
      "1 132\t2 238\t"
     ]
    }
   ],
   "source": [
    "rate0=235\n",
    "rateNet=235                                                                  # Real rate , Load data+ '0'\n",
    "cls_num=2\n",
    "for i in range (1,cls_num+1):                                                  #Cls from 0to1 >>   replace:(1,cls_num+1)\n",
    "    vars()['ecg'+str(i)],vars()['ecg_tst'+str(i)]=Strawberry0(i)                # Real rate    >>   Load data+'0'\n",
    "\n",
    "os.chdir(cwd)\n",
    "clses_lens=np.array([])\n",
    "ecg=np.array(ecg1)                                                             #   4 case 1 to 0\n",
    "print(1,len(vars()['ecg'+str(1)]), end='\\t')\n",
    "clses_lens=np.append(clses_lens,len(vars()['ecg'+str(1)]))\n",
    "for i in range (2,cls_num+1):                                                    #Cls from 0to1 >> (1,cls_num) \n",
    "    ecg=np.concatenate((ecg,vars()['ecg'+str(i)]),axis=0)\n",
    "    clses_lens=np.append(clses_lens,len(vars()['ecg'+str(i)]))\n",
    "    print(i,len(vars()['ecg'+str(i)]), end='\\t')\n",
    "\n",
    "mx_sig=max(clses_lens)\n",
    "btch=int(min(clses_lens))"
   ]
  },
  {
   "cell_type": "code",
   "execution_count": 5,
   "id": "64bf2935",
   "metadata": {
    "scrolled": false
   },
   "outputs": [
    {
     "name": "stdout",
     "output_type": "stream",
     "text": [
      "shape wndws1= (132, 236)\n",
      "shape base_wn= (370, 236)\n",
      "shape furir_windws0= (370, 235)\n",
      "shape furir_windws= (370, 236)\n",
      "smpl_rte= 235\n",
      "mx_wndws= 238\n"
     ]
    }
   ],
   "source": [
    "wdth=int(len(ecg1[0]))\n",
    "os.chdir(cwd)\n",
    "base_wn=np.array([])\n",
    "windws=np.array([])\n",
    "\n",
    "for cls in range (1,cls_num+1):                   #ساخت پنجره های داده های آموزش اصلی\n",
    "    vars()['wndws'+str(cls)]=np.array(vars()['ecg'+str(cls)])\n",
    "    base_wn=np.append(base_wn,vars()['wndws'+str(cls)])\n",
    "base_wn=np.reshape(base_wn,(int(len(base_wn)/wdth),wdth))  #base data windows\n",
    "print(\"shape wndws1=\", np.shape(wndws1))\n",
    "print(\"shape base_wn=\", np.shape(base_wn))\n",
    "\n",
    "furir_windws0=np.fft.fft(np.array(base_wn[:,:-1]))\n",
    "print(\"shape furir_windws0=\", np.shape(furir_windws0))\n",
    "furir_windws=np.concatenate((np.array(furir_windws0),np.transpose([base_wn[:,-1]])),axis=1)   \n",
    "print(\"shape furir_windws=\", np.shape(furir_windws))\n",
    "\n",
    "smpl_rte=len(base_wn[0])-1                 #len(ecg1[0])  # در ماژول ها نیز همین مقدار ثبت شده\n",
    "print(\"smpl_rte=\",smpl_rte)\n",
    "mx_wndws=np.max(np.bincount(np.int16(base_wn[:,-1])))\n",
    "print(\"mx_wndws=\",mx_wndws)"
   ]
  },
  {
   "cell_type": "code",
   "execution_count": 6,
   "id": "095bd5cf",
   "metadata": {
    "scrolled": true
   },
   "outputs": [],
   "source": [
    "path=('{}\\AugEvl'.format(cwd)) #create folder \n",
    "if not os.path.isdir(path):\n",
    "    os.mkdir(path)\n",
    "\n",
    "def addqlty(base_wn_dt,data,mthd,i):               \n",
    "    cls=int(i)\n",
    "    c,alpha,PL=0,1,1\n",
    "    #from glob import glob\n",
    "    cwd = os.getcwd() #\n",
    "    adrs=cwd+'/Aug/aug'+str(i)+str(mthd)+'.csv'\n",
    "    #alldata = np.array([])                    # List for storing all the data\n",
    "    train_labels=np.array(base_wn_dt[:,-1])\n",
    "    tr=np.array(base_wn_dt[:,:-1])\n",
    "    indx_pstv=np.where(base_wn_dt[:,-1] == i)\n",
    "    P=np.array(base_wn_dt[indx_pstv])\n",
    "    indx_ngtv=np.where(base_wn_dt[:,-1] != i)\n",
    "    N=np.array(base_wn_dt[indx_ngtv])\n",
    "\n",
    "    #data = np.array(data)\n",
    "    aug=np.array(data)\n",
    "    pnts=int(np.shape(data)[1])\n",
    "    \n",
    "    #aug=data[data[:,-2].argsort()]        # Positive data Sorted Base Distance\n",
    "    trl=np.array(train_labels)\n",
    "    for j in range (len(trl)):\n",
    "        if train_labels[j]==i :           # !!!!! == (Paper GDO)\n",
    "            trl[j]=1\n",
    "        else :\n",
    "            trl[j]=0\n",
    "    trlt=np.array([trl]).T\n",
    "    #mn_ds_pstv=np.reshape(aug[:,-2],(-1,1)) #min dis to positive class (submited in -2 column)\n",
    "    #print('shape and aug[0]=',np.shape(aug[0]),aug[0])\n",
    "    #print('shape P and P[0]=',np.shape(P),P[0])    \n",
    "    qlty1,qlty2=mn_ds_pstv,vr_P=dstnc(P[:,1:-1],aug[:,1:-1])  #min distance to negative class\n",
    "    new1=np.append(aug,qlty1,axis=1)\n",
    "    new2=np.append(new1,qlty2,axis=1)\n",
    "    mn_ds_ngtv,vr_N=dstnc(N[:,1:-1],aug[:,1:-1])              #min distance to negative class\n",
    "    qlty3=mn_ds_pstv/mn_ds_ngtv                               #Smaller is Better\n",
    "    qlty4=np.reshape(valuation(aug[:,:-1],tr,trlt),(-1,1))   #line 272\n",
    "    new3=np.append(new2,qlty3,axis=1)\n",
    "    new4=np.append(new3,qlty4,axis=1)\n",
    "    for j in range (len(trl)):\n",
    "        if train_labels[j]!=i :                          # !!!!! == (!= Inverse Paper GDO)\n",
    "            trl[j]=1\n",
    "        else :\n",
    "            trl[j]=0\n",
    "    trlt=np.array([trl]).T\n",
    "    qlty5=np.reshape(valuation(aug[:,:-1],tr,trlt),(-1,1))   #line 272\n",
    "    new5=np.append(new4,qlty5,axis=1)\n",
    "    print('class=',i,'shape(new5)=',np.shape(new5),end='\\t')\n",
    "    print('mx=',np.max(new5[:,1:-7]),end='\\t')\n",
    "    print('mn=',np.min(new5[:,1:-7]))\n",
    "    pd.DataFrame(new5[:,:]).to_csv('{}/AugEvl/AugEvl{}{}.csv'.format(cwd,cls,mthd))\n",
    "    print()"
   ]
  },
  {
   "cell_type": "code",
   "execution_count": 7,
   "id": "39af649c",
   "metadata": {},
   "outputs": [],
   "source": [
    "for i in range (1,cls_num+1):                           #تعریف آرایه ی پنجره های کلاس ها\n",
    "    vars()['ecg_aug'+str(i)+'00']=np.empty((0,smpl_rte+1), float) #Scale    \n",
    "    vars()['ecg_aug'+str(i)+'10']=np.empty((0,smpl_rte+1), float) #Scale\n",
    "    vars()['ecg_aug'+str(i)+'20']=np.empty((0,smpl_rte+1), float) #Mag Warp\n",
    "    vars()['ecg_aug'+str(i)+'30']=np.empty((0,smpl_rte+1), float) #TimWarp\n",
    "    vars()['ecg_aug'+str(i)+'40']=np.empty((0,smpl_rte+1), float) #GDO\n",
    "    vars()['ecg_aug'+str(i)+'50']=np.empty((0,smpl_rte+1), float) #frequence\n",
    "    vars()['ecg_aug'+str(i)+'60']=np.empty((0,smpl_rte+1), float) #GAN\n",
    "    vars()['ecg_aug'+str(i)+'61']=np.empty((0,smpl_rte+1), float)\n",
    "    vars()['ecg_aug'+str(i)+'62']=np.empty((0,smpl_rte+1), float)\n",
    "    vars()['ecg_aug'+str(i)+'70']=np.empty((0,smpl_rte+1), float) #LSTM\n",
    "    vars()['ecg_aug'+str(i)+'71']=np.empty((0,smpl_rte+1), float)\n",
    "    vars()['ecg_aug'+str(i)+'72']=np.empty((0,smpl_rte+1), float)"
   ]
  },
  {
   "cell_type": "raw",
   "id": "1b374b4c",
   "metadata": {
    "scrolled": false
   },
   "source": [
    "for i in range (1,cls_num+1):                           #تعریف آرایه ی پنجره های کلاس ها\n",
    "    vlum_sig=10*mx_wndws-len(vars()['wndws'+str(i)])\n",
    "    \n",
    "    vars()['ecg_aug'+str(i)+'10']=np.append(vars()['ecg_aug'+str(i)+'10'],sclRaw(ecg,i,int(vlum_sig),mag=.1),axis=0)#0.1\n",
    "    addqlty(base_wn,vars()['ecg_aug'+str(i)+'10'],10,i)\n",
    "    print(str(i)+'10 =>',len(vars()['ecg_aug'+str(i)+'10']))              #scl_rndm_beat=Rndm  ,  sclRaw=Mrgnl\n",
    "    \n",
    "    vars()['ecg_aug'+str(i)+'20']=np.append(vars()['ecg_aug'+str(i)+'20'],MgWrp_rndm_beat(ecg,i,int(vlum_sig),mag=.05),axis=0)\n",
    "    addqlty(base_wn,vars()['ecg_aug'+str(i)+'20'],20,i)\n",
    "    print(str(i)+'20 =>',len(vars()['ecg_aug'+str(i)+'20']))\n",
    "    \n",
    "    vars()['ecg_aug'+str(i)+'30']=np.append(vars()['ecg_aug'+str(i)+'30'],TimWrp_rndm_beat(ecg,i,int(vlum_sig),mag=.2),axis=0)#.1\n",
    "    addqlty(base_wn,vars()['ecg_aug'+str(i)+'30'],30,i)\n",
    "    print(str(i)+'30 =>',len(vars()['ecg_aug'+str(i)+'30']))\n",
    "    \n",
    "    vars()['ecg_aug'+str(i)+'40']=np.append(vars()['ecg_aug'+str(i)+'40'],GDO_rndm_beat(ecg,i,int(vlum_sig),mag=.1),axis=0)\n",
    "    addqlty(base_wn,vars()['ecg_aug'+str(i)+'40'],40,i)\n",
    "    print(str(i)+'40 =>',len(vars()['ecg_aug'+str(i)+'40']))\n",
    "    \n",
    "    vars()['ecg_aug'+str(i)+'50']=np.append(vars()['ecg_aug'+str(i)+'50'],frqncRaw(furir_windws,i,int(vlum_sig),mag=.2),axis=0)\n",
    "    addqlty(base_wn,vars()['ecg_aug'+str(i)+'50'],50,i)\n",
    "    print(str(i)+'50 =>',len(vars()['ecg_aug'+str(i)+'50']))"
   ]
  },
  {
   "cell_type": "code",
   "execution_count": 8,
   "id": "c963230e",
   "metadata": {},
   "outputs": [
    {
     "name": "stdout",
     "output_type": "stream",
     "text": [
      "\n",
      "\n",
      "\n",
      " Class  1  Shape =  (370, 236)\n",
      "for class  1 number of windows is =  (236,)\n",
      "GAN Train Data shape= (476, 235)\n"
     ]
    },
    {
     "name": "stderr",
     "output_type": "stream",
     "text": [
      "C:\\ProgramData\\Anaconda3\\lib\\site-packages\\sklearn\\cluster\\_kmeans.py:881: UserWarning: KMeans is known to have a memory leak on Windows with MKL, when there are less chunks than available threads. You can avoid it by setting the environment variable OMP_NUM_THREADS=2.\n",
      "  warnings.warn(\n",
      "C:\\ProgramData\\Anaconda3\\lib\\site-packages\\sklearn\\cluster\\_kmeans.py:881: UserWarning: KMeans is known to have a memory leak on Windows with MKL, when there are less chunks than available threads. You can avoid it by setting the environment variable OMP_NUM_THREADS=2.\n",
      "  warnings.warn(\n"
     ]
    },
    {
     "name": "stdout",
     "output_type": "stream",
     "text": [
      "Optimal cluster number:  3\n",
      "nise shape= (8, 90)\n",
      "generated_signals shape= (8, 80, 1)\n"
     ]
    },
    {
     "ename": "ValueError",
     "evalue": "Input 0 of layer \"sequential_1\" is incompatible with the layer: expected shape=(None, 235, 1), found shape=(8, 80, 1)",
     "output_type": "error",
     "traceback": [
      "\u001b[1;31m---------------------------------------------------------------------------\u001b[0m",
      "\u001b[1;31mValueError\u001b[0m                                Traceback (most recent call last)",
      "\u001b[1;32m~\\AppData\\Local\\Temp/ipykernel_5020/604434700.py\u001b[0m in \u001b[0;36m<module>\u001b[1;34m\u001b[0m\n\u001b[0;32m      1\u001b[0m \u001b[1;32mfor\u001b[0m \u001b[0mi\u001b[0m \u001b[1;32min\u001b[0m \u001b[0mrange\u001b[0m \u001b[1;33m(\u001b[0m\u001b[1;36m1\u001b[0m\u001b[1;33m,\u001b[0m\u001b[0mcls_num\u001b[0m\u001b[1;33m+\u001b[0m\u001b[1;36m1\u001b[0m\u001b[1;33m)\u001b[0m\u001b[1;33m:\u001b[0m                           \u001b[1;31m#تعریف آرایه ی پنجره های کلاس ها\u001b[0m\u001b[1;33m\u001b[0m\u001b[1;33m\u001b[0m\u001b[0m\n\u001b[0;32m      2\u001b[0m     \u001b[0maug_pls60\u001b[0m\u001b[1;33m,\u001b[0m\u001b[0maug_pls61\u001b[0m\u001b[1;33m,\u001b[0m\u001b[0maug_pls62\u001b[0m\u001b[1;33m=\u001b[0m\u001b[1;36m2\u001b[0m\u001b[1;33m,\u001b[0m\u001b[1;36m5\u001b[0m\u001b[1;33m,\u001b[0m\u001b[1;36m3\u001b[0m \u001b[1;31m#2 is MgWrp and 4 is GDO and 5 is freq Augmentes Data for GAN Training\u001b[0m\u001b[1;33m\u001b[0m\u001b[1;33m\u001b[0m\u001b[0m\n\u001b[1;32m----> 3\u001b[1;33m     \u001b[0mvars\u001b[0m\u001b[1;33m(\u001b[0m\u001b[1;33m)\u001b[0m\u001b[1;33m[\u001b[0m\u001b[1;34m'ecg_aug'\u001b[0m\u001b[1;33m+\u001b[0m\u001b[0mstr\u001b[0m\u001b[1;33m(\u001b[0m\u001b[0mi\u001b[0m\u001b[1;33m)\u001b[0m\u001b[1;33m+\u001b[0m\u001b[1;34m'60'\u001b[0m\u001b[1;33m]\u001b[0m\u001b[1;33m=\u001b[0m\u001b[0mnp\u001b[0m\u001b[1;33m.\u001b[0m\u001b[0mappend\u001b[0m\u001b[1;33m(\u001b[0m\u001b[0mvars\u001b[0m\u001b[1;33m(\u001b[0m\u001b[1;33m)\u001b[0m\u001b[1;33m[\u001b[0m\u001b[1;34m'ecg_aug'\u001b[0m\u001b[1;33m+\u001b[0m\u001b[0mstr\u001b[0m\u001b[1;33m(\u001b[0m\u001b[0mi\u001b[0m\u001b[1;33m)\u001b[0m\u001b[1;33m+\u001b[0m\u001b[1;34m'60'\u001b[0m\u001b[1;33m]\u001b[0m\u001b[1;33m,\u001b[0m\u001b[0mGAN_Gnrt\u001b[0m\u001b[1;33m(\u001b[0m\u001b[0mecg\u001b[0m\u001b[1;33m,\u001b[0m\u001b[0mi\u001b[0m\u001b[1;33m,\u001b[0m\u001b[0maug_pls60\u001b[0m\u001b[1;33m)\u001b[0m\u001b[1;33m,\u001b[0m\u001b[0maxis\u001b[0m\u001b[1;33m=\u001b[0m\u001b[1;36m0\u001b[0m\u001b[1;33m)\u001b[0m\u001b[1;33m\u001b[0m\u001b[1;33m\u001b[0m\u001b[0m\n\u001b[0m\u001b[0;32m      4\u001b[0m     \u001b[0maddqlty\u001b[0m\u001b[1;33m(\u001b[0m\u001b[0mbase_wn\u001b[0m\u001b[1;33m,\u001b[0m\u001b[0mvars\u001b[0m\u001b[1;33m(\u001b[0m\u001b[1;33m)\u001b[0m\u001b[1;33m[\u001b[0m\u001b[1;34m'ecg_aug'\u001b[0m\u001b[1;33m+\u001b[0m\u001b[0mstr\u001b[0m\u001b[1;33m(\u001b[0m\u001b[0mi\u001b[0m\u001b[1;33m)\u001b[0m\u001b[1;33m+\u001b[0m\u001b[1;34m'60'\u001b[0m\u001b[1;33m]\u001b[0m\u001b[1;33m,\u001b[0m\u001b[1;36m60\u001b[0m\u001b[1;33m,\u001b[0m\u001b[0mi\u001b[0m\u001b[1;33m)\u001b[0m\u001b[1;33m\u001b[0m\u001b[1;33m\u001b[0m\u001b[0m\n\u001b[0;32m      5\u001b[0m     \u001b[0mprint\u001b[0m\u001b[1;33m(\u001b[0m\u001b[0mstr\u001b[0m\u001b[1;33m(\u001b[0m\u001b[0mi\u001b[0m\u001b[1;33m)\u001b[0m\u001b[1;33m+\u001b[0m\u001b[1;34m'60 ='\u001b[0m\u001b[1;33m,\u001b[0m\u001b[0mlen\u001b[0m\u001b[1;33m(\u001b[0m\u001b[0mvars\u001b[0m\u001b[1;33m(\u001b[0m\u001b[1;33m)\u001b[0m\u001b[1;33m[\u001b[0m\u001b[1;34m'ecg_aug'\u001b[0m\u001b[1;33m+\u001b[0m\u001b[0mstr\u001b[0m\u001b[1;33m(\u001b[0m\u001b[0mi\u001b[0m\u001b[1;33m)\u001b[0m\u001b[1;33m+\u001b[0m\u001b[1;34m'60'\u001b[0m\u001b[1;33m]\u001b[0m\u001b[1;33m)\u001b[0m\u001b[1;33m)\u001b[0m\u001b[1;33m\u001b[0m\u001b[1;33m\u001b[0m\u001b[0m\n",
      "\u001b[1;32m~\\Thesis\\Classifying\\CNNsplit\\CNN_Art_Strawberry97_96_strt1\\GAN.py\u001b[0m in \u001b[0;36mGAN_Gnrt\u001b[1;34m(wndws, cls, AgTyp)\u001b[0m\n\u001b[0;32m    151\u001b[0m         \u001b[1;31m##### Batch and shuffle the data And Train, Generate With GAN ######\u001b[0m\u001b[1;33m\u001b[0m\u001b[1;33m\u001b[0m\u001b[0m\n\u001b[0;32m    152\u001b[0m         \u001b[0mtrain_dataset\u001b[0m \u001b[1;33m=\u001b[0m \u001b[0mtf\u001b[0m\u001b[1;33m.\u001b[0m\u001b[0mdata\u001b[0m\u001b[1;33m.\u001b[0m\u001b[0mDataset\u001b[0m\u001b[1;33m.\u001b[0m\u001b[0mfrom_tensor_slices\u001b[0m\u001b[1;33m(\u001b[0m\u001b[0mx_train\u001b[0m\u001b[1;33m)\u001b[0m\u001b[1;33m.\u001b[0m\u001b[0mshuffle\u001b[0m\u001b[1;33m(\u001b[0m\u001b[0mBUFFER_SIZE\u001b[0m\u001b[1;33m)\u001b[0m\u001b[1;33m.\u001b[0m\u001b[0mbatch\u001b[0m\u001b[1;33m(\u001b[0m\u001b[0mBATCH_SIZE\u001b[0m\u001b[1;33m)\u001b[0m\u001b[1;33m\u001b[0m\u001b[1;33m\u001b[0m\u001b[0m\n\u001b[1;32m--> 153\u001b[1;33m         \u001b[0mgnrtds\u001b[0m\u001b[1;33m=\u001b[0m\u001b[0mtrain\u001b[0m\u001b[1;33m(\u001b[0m\u001b[0mtrain_dataset\u001b[0m\u001b[1;33m,\u001b[0m\u001b[0mx_train\u001b[0m\u001b[1;33m,\u001b[0m \u001b[0mEPOCHS\u001b[0m\u001b[1;33m,\u001b[0m \u001b[0mgnrtds\u001b[0m\u001b[1;33m,\u001b[0m \u001b[0mcls\u001b[0m\u001b[1;33m,\u001b[0m \u001b[0mmdl\u001b[0m\u001b[1;33m,\u001b[0m \u001b[0mclstr\u001b[0m\u001b[1;33m,\u001b[0m \u001b[0mnum_examples_to_generate\u001b[0m\u001b[1;33m,\u001b[0m \u001b[0mepch_sv_stp\u001b[0m\u001b[1;33m,\u001b[0m \u001b[0mBATCH_SIZE\u001b[0m\u001b[1;33m,\u001b[0m \u001b[0mnoise_dim\u001b[0m\u001b[1;33m,\u001b[0m \u001b[0mgenerator\u001b[0m\u001b[1;33m,\u001b[0m \u001b[0mdiscriminator\u001b[0m\u001b[1;33m)\u001b[0m \u001b[1;31m#تولید و ذخیره داده\u001b[0m\u001b[1;33m\u001b[0m\u001b[1;33m\u001b[0m\u001b[0m\n\u001b[0m\u001b[0;32m    154\u001b[0m         \u001b[0mprint\u001b[0m\u001b[1;33m(\u001b[0m\u001b[1;34m'class='\u001b[0m\u001b[1;33m,\u001b[0m\u001b[0mz\u001b[0m\u001b[1;33m,\u001b[0m\u001b[1;34m'cluster='\u001b[0m\u001b[1;33m,\u001b[0m\u001b[0mi\u001b[0m\u001b[1;33m,\u001b[0m \u001b[1;34m'epochs='\u001b[0m\u001b[1;33m,\u001b[0m\u001b[0mEPOCHS\u001b[0m\u001b[1;33m,\u001b[0m\u001b[1;34m' >> shape generate = '\u001b[0m\u001b[1;33m,\u001b[0m \u001b[0mnp\u001b[0m\u001b[1;33m.\u001b[0m\u001b[0mshape\u001b[0m\u001b[1;33m(\u001b[0m\u001b[0mgnrtds\u001b[0m\u001b[1;33m)\u001b[0m\u001b[1;33m)\u001b[0m\u001b[1;33m\u001b[0m\u001b[1;33m\u001b[0m\u001b[0m\n\u001b[0;32m    155\u001b[0m         \u001b[1;31m#pd.DataFrame(gnrtds).to_csv('{}/GAN_Cls{}_clstr_{}.csv'.format(cwd,cls,clstr)) #ذخیره\u001b[0m\u001b[1;33m\u001b[0m\u001b[1;33m\u001b[0m\u001b[0m\n",
      "\u001b[1;32m~\\Thesis\\Classifying\\CNNsplit\\CNN_Art_Strawberry97_96_strt1\\GAN.py\u001b[0m in \u001b[0;36mtrain\u001b[1;34m(dataset, x_trn, epochs, gnrtds, cls0, mdl0, clstr0, num_examples_to_generate, epch_sv_stp0, BATCH_SIZE, noise_dim, generator, discriminator)\u001b[0m\n\u001b[0;32m    581\u001b[0m         \u001b[1;31m#start = time.time()\u001b[0m\u001b[1;33m\u001b[0m\u001b[1;33m\u001b[0m\u001b[0m\n\u001b[0;32m    582\u001b[0m         \u001b[1;32mfor\u001b[0m \u001b[0msignal_batch\u001b[0m \u001b[1;32min\u001b[0m \u001b[0mdataset\u001b[0m\u001b[1;33m:\u001b[0m\u001b[1;33m\u001b[0m\u001b[1;33m\u001b[0m\u001b[0m\n\u001b[1;32m--> 583\u001b[1;33m             \u001b[0mtrain_step\u001b[0m\u001b[1;33m(\u001b[0m\u001b[0mgenerator\u001b[0m\u001b[1;33m,\u001b[0m \u001b[0mdiscriminator\u001b[0m\u001b[1;33m,\u001b[0m \u001b[0msignal_batch\u001b[0m\u001b[1;33m,\u001b[0m \u001b[0mBATCH_SIZE\u001b[0m\u001b[1;33m,\u001b[0m \u001b[0mnoise_dim\u001b[0m\u001b[1;33m)\u001b[0m\u001b[1;33m\u001b[0m\u001b[1;33m\u001b[0m\u001b[0m\n\u001b[0m\u001b[0;32m    584\u001b[0m         \u001b[0mseed\u001b[0m \u001b[1;33m=\u001b[0m \u001b[0mtf\u001b[0m\u001b[1;33m.\u001b[0m\u001b[0mrandom\u001b[0m\u001b[1;33m.\u001b[0m\u001b[0mnormal\u001b[0m\u001b[1;33m(\u001b[0m\u001b[1;33m[\u001b[0m\u001b[0mnum_examples_to_generate\u001b[0m\u001b[1;33m,\u001b[0m \u001b[0mnoise_dim\u001b[0m\u001b[1;33m]\u001b[0m\u001b[1;33m)\u001b[0m      \u001b[1;31m#Input Noise to Generator\u001b[0m\u001b[1;33m\u001b[0m\u001b[1;33m\u001b[0m\u001b[0m\n\u001b[0;32m    585\u001b[0m         \u001b[1;31m#clear_output(wait=True)\u001b[0m\u001b[1;33m\u001b[0m\u001b[1;33m\u001b[0m\u001b[0m\n",
      "\u001b[1;32mC:\\ProgramData\\Anaconda3\\lib\\site-packages\\tensorflow\\python\\util\\traceback_utils.py\u001b[0m in \u001b[0;36merror_handler\u001b[1;34m(*args, **kwargs)\u001b[0m\n\u001b[0;32m    151\u001b[0m     \u001b[1;32mexcept\u001b[0m \u001b[0mException\u001b[0m \u001b[1;32mas\u001b[0m \u001b[0me\u001b[0m\u001b[1;33m:\u001b[0m\u001b[1;33m\u001b[0m\u001b[1;33m\u001b[0m\u001b[0m\n\u001b[0;32m    152\u001b[0m       \u001b[0mfiltered_tb\u001b[0m \u001b[1;33m=\u001b[0m \u001b[0m_process_traceback_frames\u001b[0m\u001b[1;33m(\u001b[0m\u001b[0me\u001b[0m\u001b[1;33m.\u001b[0m\u001b[0m__traceback__\u001b[0m\u001b[1;33m)\u001b[0m\u001b[1;33m\u001b[0m\u001b[1;33m\u001b[0m\u001b[0m\n\u001b[1;32m--> 153\u001b[1;33m       \u001b[1;32mraise\u001b[0m \u001b[0me\u001b[0m\u001b[1;33m.\u001b[0m\u001b[0mwith_traceback\u001b[0m\u001b[1;33m(\u001b[0m\u001b[0mfiltered_tb\u001b[0m\u001b[1;33m)\u001b[0m \u001b[1;32mfrom\u001b[0m \u001b[1;32mNone\u001b[0m\u001b[1;33m\u001b[0m\u001b[1;33m\u001b[0m\u001b[0m\n\u001b[0m\u001b[0;32m    154\u001b[0m     \u001b[1;32mfinally\u001b[0m\u001b[1;33m:\u001b[0m\u001b[1;33m\u001b[0m\u001b[1;33m\u001b[0m\u001b[0m\n\u001b[0;32m    155\u001b[0m       \u001b[1;32mdel\u001b[0m \u001b[0mfiltered_tb\u001b[0m\u001b[1;33m\u001b[0m\u001b[1;33m\u001b[0m\u001b[0m\n",
      "\u001b[1;32m~\\Thesis\\Classifying\\CNNsplit\\CNN_Art_Strawberry97_96_strt1\\GAN.py\u001b[0m in \u001b[0;36mtrain_step\u001b[1;34m(generator, discriminator, signals, BATCH_SIZE, noise_dim)\u001b[0m\n\u001b[0;32m    515\u001b[0m       \u001b[0mprint\u001b[0m\u001b[1;33m(\u001b[0m\u001b[1;34m'generated_signals shape='\u001b[0m\u001b[1;33m,\u001b[0m\u001b[0mnp\u001b[0m\u001b[1;33m.\u001b[0m\u001b[0mshape\u001b[0m\u001b[1;33m(\u001b[0m\u001b[0mgenerated_signals\u001b[0m\u001b[1;33m)\u001b[0m\u001b[1;33m)\u001b[0m\u001b[1;33m\u001b[0m\u001b[1;33m\u001b[0m\u001b[0m\n\u001b[0;32m    516\u001b[0m       \u001b[0mreal_output\u001b[0m \u001b[1;33m=\u001b[0m \u001b[0mdiscriminator\u001b[0m\u001b[1;33m(\u001b[0m\u001b[0msignals\u001b[0m\u001b[1;33m,\u001b[0m \u001b[0mtraining\u001b[0m\u001b[1;33m=\u001b[0m\u001b[1;32mTrue\u001b[0m\u001b[1;33m)\u001b[0m\u001b[1;33m\u001b[0m\u001b[1;33m\u001b[0m\u001b[0m\n\u001b[1;32m--> 517\u001b[1;33m       \u001b[0mfake_output\u001b[0m \u001b[1;33m=\u001b[0m \u001b[0mdiscriminator\u001b[0m\u001b[1;33m(\u001b[0m\u001b[0mgenerated_signals\u001b[0m\u001b[1;33m,\u001b[0m \u001b[0mtraining\u001b[0m\u001b[1;33m=\u001b[0m\u001b[1;32mTrue\u001b[0m\u001b[1;33m)\u001b[0m\u001b[1;33m\u001b[0m\u001b[1;33m\u001b[0m\u001b[0m\n\u001b[0m\u001b[0;32m    518\u001b[0m \u001b[1;33m\u001b[0m\u001b[0m\n\u001b[0;32m    519\u001b[0m       \u001b[0mgen_loss\u001b[0m \u001b[1;33m=\u001b[0m \u001b[0mgenerator_loss\u001b[0m\u001b[1;33m(\u001b[0m\u001b[0mfake_output\u001b[0m\u001b[1;33m)\u001b[0m\u001b[1;33m\u001b[0m\u001b[1;33m\u001b[0m\u001b[0m\n",
      "\u001b[1;32mC:\\ProgramData\\Anaconda3\\lib\\site-packages\\keras\\utils\\traceback_utils.py\u001b[0m in \u001b[0;36merror_handler\u001b[1;34m(*args, **kwargs)\u001b[0m\n\u001b[0;32m     65\u001b[0m     \u001b[1;32mexcept\u001b[0m \u001b[0mException\u001b[0m \u001b[1;32mas\u001b[0m \u001b[0me\u001b[0m\u001b[1;33m:\u001b[0m  \u001b[1;31m# pylint: disable=broad-except\u001b[0m\u001b[1;33m\u001b[0m\u001b[1;33m\u001b[0m\u001b[0m\n\u001b[0;32m     66\u001b[0m       \u001b[0mfiltered_tb\u001b[0m \u001b[1;33m=\u001b[0m \u001b[0m_process_traceback_frames\u001b[0m\u001b[1;33m(\u001b[0m\u001b[0me\u001b[0m\u001b[1;33m.\u001b[0m\u001b[0m__traceback__\u001b[0m\u001b[1;33m)\u001b[0m\u001b[1;33m\u001b[0m\u001b[1;33m\u001b[0m\u001b[0m\n\u001b[1;32m---> 67\u001b[1;33m       \u001b[1;32mraise\u001b[0m \u001b[0me\u001b[0m\u001b[1;33m.\u001b[0m\u001b[0mwith_traceback\u001b[0m\u001b[1;33m(\u001b[0m\u001b[0mfiltered_tb\u001b[0m\u001b[1;33m)\u001b[0m \u001b[1;32mfrom\u001b[0m \u001b[1;32mNone\u001b[0m\u001b[1;33m\u001b[0m\u001b[1;33m\u001b[0m\u001b[0m\n\u001b[0m\u001b[0;32m     68\u001b[0m     \u001b[1;32mfinally\u001b[0m\u001b[1;33m:\u001b[0m\u001b[1;33m\u001b[0m\u001b[1;33m\u001b[0m\u001b[0m\n\u001b[0;32m     69\u001b[0m       \u001b[1;32mdel\u001b[0m \u001b[0mfiltered_tb\u001b[0m\u001b[1;33m\u001b[0m\u001b[1;33m\u001b[0m\u001b[0m\n",
      "\u001b[1;32mC:\\ProgramData\\Anaconda3\\lib\\site-packages\\keras\\engine\\input_spec.py\u001b[0m in \u001b[0;36massert_input_compatibility\u001b[1;34m(input_spec, inputs, layer_name)\u001b[0m\n\u001b[0;32m    262\u001b[0m         \u001b[1;32mif\u001b[0m \u001b[0mspec_dim\u001b[0m \u001b[1;32mis\u001b[0m \u001b[1;32mnot\u001b[0m \u001b[1;32mNone\u001b[0m \u001b[1;32mand\u001b[0m \u001b[0mdim\u001b[0m \u001b[1;32mis\u001b[0m \u001b[1;32mnot\u001b[0m \u001b[1;32mNone\u001b[0m\u001b[1;33m:\u001b[0m\u001b[1;33m\u001b[0m\u001b[1;33m\u001b[0m\u001b[0m\n\u001b[0;32m    263\u001b[0m           \u001b[1;32mif\u001b[0m \u001b[0mspec_dim\u001b[0m \u001b[1;33m!=\u001b[0m \u001b[0mdim\u001b[0m\u001b[1;33m:\u001b[0m\u001b[1;33m\u001b[0m\u001b[1;33m\u001b[0m\u001b[0m\n\u001b[1;32m--> 264\u001b[1;33m             raise ValueError(f'Input {input_index} of layer \"{layer_name}\" is '\n\u001b[0m\u001b[0;32m    265\u001b[0m                              \u001b[1;34m'incompatible with the layer: '\u001b[0m\u001b[1;33m\u001b[0m\u001b[1;33m\u001b[0m\u001b[0m\n\u001b[0;32m    266\u001b[0m                              \u001b[1;34mf'expected shape={spec.shape}, '\u001b[0m\u001b[1;33m\u001b[0m\u001b[1;33m\u001b[0m\u001b[0m\n",
      "\u001b[1;31mValueError\u001b[0m: Input 0 of layer \"sequential_1\" is incompatible with the layer: expected shape=(None, 235, 1), found shape=(8, 80, 1)"
     ]
    }
   ],
   "source": [
    "for i in range (1,cls_num+1):                           #تعریف آرایه ی پنجره های کلاس ها\n",
    "    aug_pls60,aug_pls61,aug_pls62=2,5,3 #2 is MgWrp and 4 is GDO and 5 is freq Augmentes Data for GAN Training\n",
    "    vars()['ecg_aug'+str(i)+'60']=np.append(vars()['ecg_aug'+str(i)+'60'],GAN_Gnrt(ecg,i,aug_pls60),axis=0)\n",
    "    addqlty(base_wn,vars()['ecg_aug'+str(i)+'60'],60,i)\n",
    "    print(str(i)+'60 =',len(vars()['ecg_aug'+str(i)+'60']))\n",
    "    '''vars()['ecg_aug'+str(i)+'61']=np.append(vars()['ecg_aug'+str(i)+'61'],GAN_Gnrt(ecg,i,aug_pls61),axis=0)\n",
    "    addqlty(base_wn,vars()['ecg_aug'+str(i)+'61'],61,i)\n",
    "    print(str(i)+'61 =',len(vars()['ecg_aug'+str(i)+'61']))\n",
    "    vars()['ecg_aug'+str(i)+'62']=np.append(vars()['ecg_aug'+str(i)+'62'],GAN_Gnrt(ecg,i,aug_pls62),axis=0)\n",
    "    addqlty(base_wn,vars()['ecg_aug'+str(i)+'62'],62,i)\n",
    "    print(str(i)+'62 =',len(vars()['ecg_aug'+str(i)+'62']))'''"
   ]
  },
  {
   "cell_type": "code",
   "execution_count": null,
   "id": "d6739945",
   "metadata": {},
   "outputs": [],
   "source": [
    "for i in range (1,cls_num+1):                           #تعریف آرایه ی پنجره های کلاس ها\n",
    "    aug_pls70,aug_pls71,aug_pls72=2,5,3 #2 is MgWrp and 3 is TimeWrp Augmentes Data for LSTM Augmentation\n",
    "    vars()['ecg_aug'+str(i)+'70']=np.append(vars()['ecg_aug'+str(i)+'70'],LSTM_Gnrt_Pridc(ecg,i,aug_pls70),axis=0)\n",
    "    addqlty(base_wn,vars()['ecg_aug'+str(i)+'70'],70,i)\n",
    "    print(str(i)+'70 =',len(vars()['ecg_aug'+str(i)+'70']))\n",
    "    '''vars()['ecg_aug'+str(i)+'71']=np.append(vars()['ecg_aug'+str(i)+'71'],LSTM_Gnrt_Pridc(ecg,i,aug_pls71),axis=0)\n",
    "    addqlty(base_wn,vars()['ecg_aug'+str(i)+'71'],71,i)\n",
    "    print(str(i)+'71 =',len(vars()['ecg_aug'+str(i)+'71']))\n",
    "    vars()['ecg_aug'+str(i)+'72']=np.append(vars()['ecg_aug'+str(i)+'72'],LSTM_Gnrt_Pridc(ecg,i,aug_pls72),axis=0)\n",
    "    addqlty(base_wn,vars()['ecg_aug'+str(i)+'72'],72,i)\n",
    "    print(str(i)+'72 =',len(vars()['ecg_aug'+str(i)+'72']))'''"
   ]
  }
 ],
 "metadata": {
  "kernelspec": {
   "display_name": "Python 3 (ipykernel)",
   "language": "python",
   "name": "python3"
  },
  "language_info": {
   "codemirror_mode": {
    "name": "ipython",
    "version": 3
   },
   "file_extension": ".py",
   "mimetype": "text/x-python",
   "name": "python",
   "nbconvert_exporter": "python",
   "pygments_lexer": "ipython3",
   "version": "3.9.7"
  }
 },
 "nbformat": 4,
 "nbformat_minor": 5
}
