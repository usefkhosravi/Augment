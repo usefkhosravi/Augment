{
 "cells": [
  {
   "cell_type": "markdown",
   "metadata": {},
   "source": [
    "import time\n",
    "plc=1\n",
    "time.sleep(3000*plc)         #run after 1 houre = 3600 seconds"
   ]
  },
  {
   "cell_type": "code",
   "execution_count": 1,
   "metadata": {},
   "outputs": [
    {
     "data": {
      "text/html": [
       "<style>#notebook { padding-top:0px !important; } .container { width:100% !important; } .end_space { min-height:0px !important; } html, body, .container{ margin:0!important;padding:0!important;}</style>"
      ],
      "text/plain": [
       "<IPython.core.display.HTML object>"
      ]
     },
     "metadata": {},
     "output_type": "display_data"
    }
   ],
   "source": [
    "import os\n",
    "import glob\n",
    "import scipy\n",
    "import random\n",
    "import bisect\n",
    "import numpy as np\n",
    "import pandas as pd\n",
    "import seaborn as sns\n",
    "from scipy import signal\n",
    "from scipy.signal import find_peaks\n",
    "import matplotlib.pyplot as plt\n",
    "from preprocess import *                         #ماژول استخراج پنجره ها\n",
    "from data import *                          #ماژول محلی ورود داده ها\n",
    "from augment import *                            #ماژول های داده افزایی\n",
    "from lstm_cnn import *                           #ماژول های داده افزایی با lstm_cnn\n",
    "import augment\n",
    "import importlib\n",
    "importlib.reload(augment)\n",
    "import tensorflow as tf\n",
    "from tensorflow import keras\n",
    "from tensorflow.keras.layers import BatchNormalization\n",
    "from sklearn.model_selection import train_test_split\n",
    "from sklearn.neural_network import MLPClassifier\n",
    "from sklearn.datasets import make_classification\n",
    "from sklearn.metrics import confusion_matrix, accuracy_score, classification_report,recall_score,precision_score\n",
    "from tensorflow.keras import callbacks\n",
    "from tensorflow.keras import layers\n",
    "from tensorflow.keras.models import Sequential\n",
    "from tensorflow.keras.layers import Convolution2D,Conv1D,Dropout,MaxPooling1D,MaxPooling2D,Flatten,Dense\n",
    "from tensorflow.keras import backend as K\n",
    "from tensorflow.keras.utils import to_categorical\n",
    "from tensorflow.keras.models import load_model\n",
    "cwd = os.getcwd() #\n",
    "fullscrn()"
   ]
  },
  {
   "cell_type": "markdown",
   "metadata": {},
   "source": [
    "<h1><center><div style=\"direction:rtl;font-family:B Nazanin\">Importing Data</div></center></h1>"
   ]
  },
  {
   "cell_type": "code",
   "execution_count": 2,
   "metadata": {
    "scrolled": true
   },
   "outputs": [
    {
     "name": "stdout",
     "output_type": "stream",
     "text": [
      "first_train_shape= (370, 236)\n",
      "first_test_shape= (613, 236)\n",
      "classes_quantity= 2\n",
      "tr_lbls=\t {1, 2}\n",
      "Count_labels= [132 238]\n",
      "max(train_feature_Altitude)= 3.7227\n",
      "min(train_feature_Altitude)= -2.1276\n",
      "first_train_sample=\n",
      " [ 1.0000e+00 -3.1047e-01 -3.0916e-01 -3.1179e-01 -2.9259e-01 -2.4866e-01\n",
      " -1.9342e-01 -1.6343e-01 -1.6633e-01 -1.9158e-01 -2.2840e-01 -2.5655e-01\n",
      " -2.7654e-01 -2.9943e-01 -3.2099e-01 -3.2704e-01 -3.0416e-01 -2.3893e-01\n",
      " -1.4160e-01 -6.9266e-02 -1.5342e-02  1.0329e-01  2.6900e-01  4.2656e-01\n",
      "  6.0517e-01  7.7693e-01  8.6189e-01  8.9162e-01  9.4081e-01  1.0510e+00\n",
      "  1.2486e+00  1.4782e+00  1.6436e+00  1.7783e+00  1.9924e+00  2.2715e+00\n",
      "  2.4793e+00  2.5630e+00  2.5853e+00  2.6240e+00  2.7276e+00  2.9065e+00\n",
      "  3.0877e+00  3.1716e+00  3.1293e+00  2.9857e+00  2.8286e+00  2.7529e+00\n",
      "  2.7197e+00  2.5375e+00  2.1403e+00  1.7415e+00  1.5555e+00  1.5876e+00\n",
      "  1.6757e+00  1.6555e+00  1.4953e+00  1.2717e+00  1.0700e+00  9.2266e-01\n",
      "  8.2139e-01  7.5142e-01  6.9881e-01  6.5699e-01  6.3358e-01  6.1622e-01\n",
      "  5.8228e-01  5.2599e-01  4.3919e-01  3.1188e-01  1.5853e-01  2.0957e-02\n",
      " -6.5320e-02 -9.7411e-02 -9.7937e-02 -8.8731e-02 -8.3470e-02 -8.4259e-02\n",
      " -8.2155e-02 -7.3211e-02 -6.2164e-02 -5.0853e-02 -3.6386e-02 -1.5342e-02\n",
      "  1.7274e-02  5.8572e-02  1.0118e-01  1.3880e-01  1.6352e-01  1.7378e-01\n",
      "  1.7484e-01  1.7168e-01  1.6668e-01  1.5721e-01  1.4143e-01  1.2275e-01\n",
      "  9.5397e-02  5.8309e-02  2.3324e-02 -2.4535e-03 -1.6395e-02 -2.6653e-02\n",
      " -4.0594e-02 -5.2431e-02 -5.9007e-02 -5.5588e-02 -3.9805e-02 -1.4553e-02\n",
      "  1.3592e-02  3.8318e-02  6.2517e-02  9.1452e-02  1.2196e-01  1.5616e-01\n",
      "  1.8325e-01  2.0456e-01  2.4244e-01  2.6637e-01  2.6558e-01  2.6006e-01\n",
      "  2.5269e-01  2.3612e-01  2.2586e-01  2.1219e-01  1.8115e-01  1.5590e-01\n",
      "  1.3485e-01  1.1092e-01  1.0039e-01  1.0355e-01  1.1118e-01  1.4432e-01\n",
      "  1.7431e-01  1.9719e-01  2.0956e-01  1.9614e-01  1.6800e-01  1.5826e-01\n",
      "  1.4117e-01  1.1197e-01  7.8300e-02  5.7783e-02  3.9107e-02 -1.4290e-02\n",
      " -7.1107e-02 -1.2345e-01 -2.1367e-01 -2.8312e-01 -3.9096e-01 -5.0091e-01\n",
      " -6.1086e-01 -6.7662e-01 -7.1661e-01 -7.7369e-01 -8.3024e-01 -8.5181e-01\n",
      " -8.7048e-01 -8.8811e-01 -9.0994e-01 -9.4519e-01 -9.1836e-01 -9.1915e-01\n",
      " -9.3782e-01 -9.5229e-01 -9.5019e-01 -9.5360e-01 -9.6518e-01 -9.8491e-01\n",
      " -9.8912e-01 -9.6123e-01 -9.4624e-01 -9.4571e-01 -9.4177e-01 -8.8521e-01\n",
      " -8.4918e-01 -8.2366e-01 -8.0209e-01 -7.8131e-01 -7.5738e-01 -7.5054e-01\n",
      " -7.5711e-01 -7.7027e-01 -7.8421e-01 -7.9973e-01 -8.3340e-01 -8.7916e-01\n",
      " -9.2309e-01 -9.7070e-01 -1.0059e+00 -1.0230e+00 -1.0278e+00 -1.0291e+00\n",
      " -1.0178e+00 -1.0165e+00 -1.0223e+00 -9.9517e-01 -9.5229e-01 -9.1862e-01\n",
      " -9.1678e-01 -9.0652e-01 -9.0626e-01 -9.1389e-01 -9.0152e-01 -8.8548e-01\n",
      " -8.8443e-01 -8.6812e-01 -8.3366e-01 -8.1209e-01 -8.0236e-01 -7.6053e-01\n",
      " -7.1240e-01 -6.6321e-01 -6.4374e-01 -6.4085e-01 -6.0403e-01 -5.9061e-01\n",
      " -6.1849e-01 -6.7584e-01 -7.2897e-01 -7.7106e-01 -8.3366e-01 -8.9311e-01\n",
      " -9.3730e-01 -9.6255e-01 -9.9753e-01 -1.0280e+00 -1.0549e+00 -1.0883e+00\n",
      " -1.1001e+00 -1.0983e+00 -1.1035e+00 -1.1049e+00 -1.1151e+00 -1.1230e+00\n",
      " -1.1196e+00 -1.1196e+00]\n",
      "1 132\t1 132\t"
     ]
    }
   ],
   "source": [
    "rate=480\n",
    "cls_num=2\n",
    "btch=20\n",
    "for i in range (1,cls_num+1):\n",
    "    vars()['ecg'+str(i)],vars()['ecg_tst'+str(i)]=Strawberry(i)\n",
    "\n",
    "os.chdir(cwd)\n",
    "clses_lens=np.array([])\n",
    "ecg=np.array(ecg1)\n",
    "print(1,len(vars()['ecg'+str(1)]), end='\\t')\n",
    "clses_lens=np.append(clses_lens,len(vars()['ecg'+str(1)]))\n",
    "for i in range (1,cls_num):\n",
    "    ecg=np.concatenate((ecg,vars()['ecg'+str(i)]),axis=0)\n",
    "    clses_lens=np.append(clses_lens,len(vars()['ecg'+str(i)]))\n",
    "    print(i,len(vars()['ecg'+str(i)]), end='\\t')\n",
    "\n",
    "mx_sig=max(clses_lens)"
   ]
  },
  {
   "cell_type": "code",
   "execution_count": 3,
   "metadata": {},
   "outputs": [
    {
     "data": {
      "text/plain": [
       "(264, 481)"
      ]
     },
     "execution_count": 3,
     "metadata": {},
     "output_type": "execute_result"
    }
   ],
   "source": [
    "np.shape(ecg)"
   ]
  },
  {
   "cell_type": "code",
   "execution_count": 4,
   "metadata": {},
   "outputs": [
    {
     "data": {
      "text/plain": [
       "array([1., 1., 1., 1., 1., 1., 1., 1., 1., 1., 1., 1., 1., 1., 1., 1., 1.,\n",
       "       1., 1., 1., 1., 1., 1., 1., 1., 1., 1., 1., 1., 1., 1., 1., 1., 1.,\n",
       "       1., 1., 1., 1., 1., 1., 1., 1., 1., 1., 1., 1., 1., 1., 1., 1., 1.,\n",
       "       1., 1., 1., 1., 1., 1., 1., 1., 1., 1., 1., 1., 1., 1., 1., 1., 1.,\n",
       "       1., 1., 1., 1., 1., 1., 1., 1., 1., 1., 1., 1., 1., 1., 1., 1., 1.,\n",
       "       1., 1., 1., 1., 1., 1., 1., 1., 1., 1., 1., 1., 1., 1., 1., 1., 1.,\n",
       "       1., 1., 1., 1., 1., 1., 1., 1., 1., 1., 1., 1., 1., 1., 1., 1., 1.,\n",
       "       1., 1., 1., 1., 1., 1., 1., 1., 1., 1., 1., 1., 1., 1., 1., 1., 1.,\n",
       "       1., 1., 1., 1., 1., 1., 1., 1., 1., 1., 1., 1., 1., 1., 1., 1., 1.,\n",
       "       1., 1., 1., 1., 1., 1., 1., 1., 1., 1., 1., 1., 1., 1., 1., 1., 1.,\n",
       "       1., 1., 1., 1., 1., 1., 1., 1., 1., 1., 1., 1., 1., 1., 1., 1., 1.,\n",
       "       1., 1., 1., 1., 1., 1., 1., 1., 1., 1., 1., 1., 1., 1., 1., 1., 1.,\n",
       "       1., 1., 1., 1., 1., 1., 1., 1., 1., 1., 1., 1., 1., 1., 1., 1., 1.,\n",
       "       1., 1., 1., 1., 1., 1., 1., 1., 1., 1., 1., 1., 1., 1., 1., 1., 1.,\n",
       "       1., 1., 1., 1., 1., 1., 1., 1., 1., 1., 1., 1., 1., 1., 1., 1., 1.,\n",
       "       1., 1., 1., 1., 1., 1., 1., 1., 1.])"
      ]
     },
     "execution_count": 4,
     "metadata": {},
     "output_type": "execute_result"
    }
   ],
   "source": [
    "ecg[:,-1]"
   ]
  },
  {
   "cell_type": "markdown",
   "metadata": {},
   "source": [
    "<h2><center><div style=\"direction:rtl;font-family:B Nazanin\">Base Train windows</div></center></h1>"
   ]
  },
  {
   "cell_type": "code",
   "execution_count": 5,
   "metadata": {},
   "outputs": [
    {
     "name": "stdout",
     "output_type": "stream",
     "text": [
      "each class and its windows =\n",
      "1 132\t2 238\t\n",
      " max = 238\n"
     ]
    }
   ],
   "source": [
    "smpl_rte=rate                                              # در ماژول ها نیز همین مقدار ثبت شده\n",
    "i=0\n",
    "windws=np.array([])\n",
    "\n",
    "for cls in range (1,cls_num+1):                                 #ساخت پنجره های داده های آموزش اصلی\n",
    "    vars()['wndws'+str(cls)]=np.array(vars()['ecg'+str(cls)])  \n",
    "    \n",
    "print(\"each class and its windows =\")\n",
    "\n",
    "cls_wndws=np.array([])\n",
    "for cls in range (1,cls_num+1):                                # آرایه ی تعداد پنجره ی هر کلاس\n",
    "    wns=len(vars()['wndws'+str(cls)])\n",
    "    cls_wndws=np.append(cls_wndws,wns)\n",
    "    print(cls, wns, end='\\t')\n",
    "\n",
    "mx_wndws=int(np.max(cls_wndws))                        # حداکثر تعداد پنجره ی موجود بین کلاس ها\n",
    "print('\\n max =', mx_wndws)"
   ]
  },
  {
   "cell_type": "raw",
   "metadata": {},
   "source": [
    "#clses=3                                   #تعیین میزان افزایش نمونه (تولید داده)\n",
    "mx_wndws=int(mx_wndws)  #mx_wndws*0.3  # =classes-1 برای بررسی الگوریتم تعداد کمی کلاس آزمایش شد\n",
    "mx_wndws=2598           #+2\n",
    "print(mx_wndws)"
   ]
  },
  {
   "cell_type": "markdown",
   "metadata": {},
   "source": [
    "<h1><center><div style=\"direction:rtl;font-family:B Nazanin\">Data Augmentation</div></center></h1>"
   ]
  },
  {
   "cell_type": "code",
   "execution_count": 6,
   "metadata": {},
   "outputs": [
    {
     "name": "stdout",
     "output_type": "stream",
     "text": [
      "Up to class  1 train shape =  (132, 481)\n",
      "Up to class  2 train shape =  (370, 481)\n"
     ]
    }
   ],
   "source": [
    "smpl_rte=len(wndws1[0])                                        # در ماژول ها نیز همین مقدار ثبت شده\n",
    "\n",
    "#add augmented data to base data\n",
    "xtrain=np.empty((0,len(wndws1[0])), float) \n",
    "for i in range (1,cls_num+1):   \n",
    "    xtrain=np.append(xtrain,vars()['wndws'+str(i)],axis=0)\n",
    "    print('Up to class ', i, 'train shape = ', np.shape(xtrain))"
   ]
  },
  {
   "cell_type": "code",
   "execution_count": 7,
   "metadata": {},
   "outputs": [
    {
     "name": "stdout",
     "output_type": "stream",
     "text": [
      "[  0 132 238]\n"
     ]
    }
   ],
   "source": [
    "print(np.bincount(np.int16(xtrain[:,-1])))    #تعداد پنجره در هر کلاس از 0 تا 17"
   ]
  },
  {
   "cell_type": "code",
   "execution_count": 8,
   "metadata": {},
   "outputs": [
    {
     "data": {
      "text/plain": [
       "array([1., 1., 1., 1., 1., 1., 1., 1., 1., 1., 1., 1., 1., 1., 1., 1., 1.,\n",
       "       1., 1., 1., 1., 1., 1., 1., 1., 1., 1., 1., 1., 1., 1., 1., 1., 1.,\n",
       "       1., 1., 1., 1., 1., 1., 1., 1., 1., 1., 1., 1., 1., 1., 1., 1., 1.,\n",
       "       1., 1., 1., 1., 1., 1., 1., 1., 1., 1., 1., 1., 1., 1., 1., 1., 1.,\n",
       "       1., 1., 1., 1., 1., 1., 1., 1., 1., 1., 1., 1., 1., 1., 1., 1., 1.,\n",
       "       1., 1., 1., 1., 1., 1., 1., 1., 1., 1., 1., 1., 1., 1., 1., 1., 1.,\n",
       "       1., 1., 1., 1., 1., 1., 1., 1., 1., 1., 1., 1., 1., 1., 1., 1., 1.,\n",
       "       1., 1., 1., 1., 1., 1., 1., 1., 1., 1., 1., 1., 1., 2., 2., 2., 2.,\n",
       "       2., 2., 2., 2., 2., 2., 2., 2., 2., 2., 2., 2., 2., 2., 2., 2., 2.,\n",
       "       2., 2., 2., 2., 2., 2., 2., 2., 2., 2., 2., 2., 2., 2., 2., 2., 2.,\n",
       "       2., 2., 2., 2., 2., 2., 2., 2., 2., 2., 2., 2., 2., 2., 2., 2., 2.,\n",
       "       2., 2., 2., 2., 2., 2., 2., 2., 2., 2., 2., 2., 2., 2., 2., 2., 2.,\n",
       "       2., 2., 2., 2., 2., 2., 2., 2., 2., 2., 2., 2., 2., 2., 2., 2., 2.,\n",
       "       2., 2., 2., 2., 2., 2., 2., 2., 2., 2., 2., 2., 2., 2., 2., 2., 2.,\n",
       "       2., 2., 2., 2., 2., 2., 2., 2., 2., 2., 2., 2., 2., 2., 2., 2., 2.,\n",
       "       2., 2., 2., 2., 2., 2., 2., 2., 2., 2., 2., 2., 2., 2., 2., 2., 2.,\n",
       "       2., 2., 2., 2., 2., 2., 2., 2., 2., 2., 2., 2., 2., 2., 2., 2., 2.,\n",
       "       2., 2., 2., 2., 2., 2., 2., 2., 2., 2., 2., 2., 2., 2., 2., 2., 2.,\n",
       "       2., 2., 2., 2., 2., 2., 2., 2., 2., 2., 2., 2., 2., 2., 2., 2., 2.,\n",
       "       2., 2., 2., 2., 2., 2., 2., 2., 2., 2., 2., 2., 2., 2., 2., 2., 2.,\n",
       "       2., 2., 2., 2., 2., 2., 2., 2., 2., 2., 2., 2., 2., 2., 2., 2., 2.,\n",
       "       2., 2., 2., 2., 2., 2., 2., 2., 2., 2., 2., 2., 2.])"
      ]
     },
     "execution_count": 8,
     "metadata": {},
     "output_type": "execute_result"
    }
   ],
   "source": [
    "xtrain[:,-1]"
   ]
  },
  {
   "cell_type": "code",
   "execution_count": 9,
   "metadata": {},
   "outputs": [],
   "source": [
    "mx_aug=np.max(xtrain[:,:-1])\n",
    "mx=np.max(ecg[:,:-1])\n",
    "mn_aug=np.min(xtrain[:,:-1])\n",
    "mn=np.min(ecg[:,:-1])\n",
    "\n",
    "#for i in range (1,cls_num+1):             #نرمالسازی داده های افزایشی\n",
    "xtrain[:,:-1]= 2*(xtrain[:,:-1]-mn_aug)/(mx_aug - mn_aug) - 1"
   ]
  },
  {
   "cell_type": "code",
   "execution_count": 10,
   "metadata": {},
   "outputs": [
    {
     "name": "stdout",
     "output_type": "stream",
     "text": [
      "min trn = -1.0\n",
      "max trn = 1.0\n"
     ]
    }
   ],
   "source": [
    "print('min trn =', np.min(xtrain[:,:-1]))\n",
    "print('max trn =', np.max(xtrain[:,:-1]))"
   ]
  },
  {
   "cell_type": "markdown",
   "metadata": {},
   "source": [
    "<h3><center><div style=\"direction:rtl;font-family:B Nazanin\">Test Windows</div></center></h1>"
   ]
  },
  {
   "cell_type": "code",
   "execution_count": 11,
   "metadata": {},
   "outputs": [],
   "source": [
    "wndws_test=np.empty((0,len(wndws1[0])), float)\n",
    "i=0\n",
    "windws=np.array([])\n",
    "for cls in range (1,cls_num+1):                                 #ساخت پنجره های داده های آموزش اصلی\n",
    "    vars()['wndws_tst'+str(cls)]=np.empty((0,len(wndws1[0])), float)\n",
    "    vars()['wndws_tst'+str(cls)]=np.append(vars()['wndws_tst'+str(cls)],vars()['ecg_tst'+str(cls)],axis=0)   "
   ]
  },
  {
   "cell_type": "code",
   "execution_count": 12,
   "metadata": {},
   "outputs": [
    {
     "name": "stdout",
     "output_type": "stream",
     "text": [
      "\n",
      " cls 1  >> \n",
      "max magnitude class 1  =  3.253532902325102\n",
      "min magnitude class 1  =  -1.5826337927522933\n",
      "after normalizing >>\n",
      "max magnitude class 1  =  0.8346310867512128\n",
      "min magnitude class 1  =  -0.7817978098961197\n",
      "\n",
      " cls 2  >> \n",
      "max magnitude class 2  =  3.709525354365643\n",
      "min magnitude class 2  =  -2.4935358068557427\n",
      "after normalizing >>\n",
      "max magnitude class 2  =  0.9870409234265398\n",
      "min magnitude class 2  =  -1.086255540666607\n",
      "each class and its windows =\n",
      "1 219\t2 394\t\n",
      " max instance in classes of test windows = 394\n"
     ]
    }
   ],
   "source": [
    "#print(np.max(wndws_tst))\n",
    "for i in range (1,cls_num+1):                # Normalization test windows\n",
    "    cls=i\n",
    "    print('\\n cls', i, ' >> ')\n",
    "    print('max magnitude class', i , ' = ' ,np.max(vars()['wndws_tst'+str(cls)][:,:-1]))\n",
    "    print('min magnitude class', i , ' = ' ,np.min(vars()['wndws_tst'+str(cls)][:,:-1]))\n",
    "\n",
    "    vars()['wndws_tst'+str(i)][:,:-1]= 2*(vars()['wndws_tst'+str(i)][:,:-1]-mn_aug)/(mx_aug - mn_aug) - 1\n",
    "    \n",
    "    print('after normalizing >>')\n",
    "    print('max magnitude class', i , ' = ' ,np.max(vars()['wndws_tst'+str(cls)][:,:-1]))\n",
    "    print('min magnitude class', i , ' = ' ,np.min(vars()['wndws_tst'+str(cls)][:,:-1]))\n",
    "    \n",
    "print(\"each class and its windows =\")                    #تجمیع کلاس های تست\n",
    "cls_wndws=np.array([])\n",
    "for cls in range (1,cls_num+1):                                # آرایه ی تعداد پنجره ی هر کلاس\n",
    "    wns=len(vars()['wndws_tst'+str(cls)])\n",
    "    cls_wndws=np.append(cls_wndws,wns)\n",
    "    print(cls, wns, end='\\t')\n",
    "    wndws_test=np.append(wndws_test,vars()['wndws_tst'+str(cls)],axis=0)\n",
    "    \n",
    "mx_wndws=int(np.max(cls_wndws))                        # حداکثر تعداد پنجره ی موجود بین کلاس ها\n",
    "print('\\n max instance in classes of test windows =', mx_wndws)"
   ]
  },
  {
   "cell_type": "code",
   "execution_count": 13,
   "metadata": {},
   "outputs": [
    {
     "name": "stdout",
     "output_type": "stream",
     "text": [
      "min tst = -1.086255540666607\n",
      "max tst = 0.9870409234265398\n"
     ]
    }
   ],
   "source": [
    "print('min tst =', np.min(wndws_test[:,:-1]))\n",
    "print('max tst =', np.max(wndws_test[:,:-1]))"
   ]
  },
  {
   "cell_type": "code",
   "execution_count": 14,
   "metadata": {},
   "outputs": [
    {
     "data": {
      "text/plain": [
       "613"
      ]
     },
     "execution_count": 14,
     "metadata": {},
     "output_type": "execute_result"
    }
   ],
   "source": [
    "len(wndws_test)"
   ]
  },
  {
   "cell_type": "code",
   "execution_count": 15,
   "metadata": {},
   "outputs": [
    {
     "data": {
      "text/plain": [
       "(613, 481)"
      ]
     },
     "execution_count": 15,
     "metadata": {},
     "output_type": "execute_result"
    }
   ],
   "source": [
    "np.shape(wndws_test)"
   ]
  },
  {
   "cell_type": "code",
   "execution_count": 16,
   "metadata": {},
   "outputs": [],
   "source": [
    "Xtest=wndws_test[:,:-1]\n",
    "ytest=np.int16(wndws_test[:,-1])"
   ]
  },
  {
   "cell_type": "code",
   "execution_count": 17,
   "metadata": {},
   "outputs": [
    {
     "name": "stdout",
     "output_type": "stream",
     "text": [
      "array([1, 1, 1, 1, 1, 1, 1, 1, 1, 1, 1, 1, 1, 1, 1, 1, 1, 1, 1, 1, 1, 1,\n",
      "       1, 1, 1, 1, 1, 1, 1, 1, 1, 1, 1, 1, 1, 1, 1, 1, 1, 1, 1, 1, 1, 1,\n",
      "       1, 1, 1, 1, 1, 1, 1, 1, 1, 1, 1, 1, 1, 1, 1, 1, 1, 1, 1, 1, 1, 1,\n",
      "       1, 1, 1, 1, 1, 1, 1, 1, 1, 1, 1, 1, 1, 1, 1, 1, 1, 1, 1, 1, 1, 1,\n",
      "       1, 1, 1, 1, 1, 1, 1, 1, 1, 1, 1, 1, 1, 1, 1, 1, 1, 1, 1, 1, 1, 1,\n",
      "       1, 1, 1, 1, 1, 1, 1, 1, 1, 1, 1, 1, 1, 1, 1, 1, 1, 1, 1, 1, 1, 1,\n",
      "       1, 1, 1, 1, 1, 1, 1, 1, 1, 1, 1, 1, 1, 1, 1, 1, 1, 1, 1, 1, 1, 1,\n",
      "       1, 1, 1, 1, 1, 1, 1, 1, 1, 1, 1, 1, 1, 1, 1, 1, 1, 1, 1, 1, 1, 1,\n",
      "       1, 1, 1, 1, 1, 1, 1, 1, 1, 1, 1, 1, 1, 1, 1, 1, 1, 1, 1, 1, 1, 1,\n",
      "       1, 1, 1, 1, 1, 1, 1, 1, 1, 1, 1, 1, 1, 1, 1, 1, 1, 1, 1, 1, 1, 2,\n",
      "       2, 2, 2, 2, 2, 2, 2, 2, 2, 2, 2, 2, 2, 2, 2, 2, 2, 2, 2, 2, 2, 2,\n",
      "       2, 2, 2, 2, 2, 2, 2, 2, 2, 2, 2, 2, 2, 2, 2, 2, 2, 2, 2, 2, 2, 2,\n",
      "       2, 2, 2, 2, 2, 2, 2, 2, 2, 2, 2, 2, 2, 2, 2, 2, 2, 2, 2, 2, 2, 2,\n",
      "       2, 2, 2, 2, 2, 2, 2, 2, 2, 2, 2, 2, 2, 2, 2, 2, 2, 2, 2, 2, 2, 2,\n",
      "       2, 2, 2, 2, 2, 2, 2, 2, 2, 2, 2, 2, 2, 2, 2, 2, 2, 2, 2, 2, 2, 2,\n",
      "       2, 2, 2, 2, 2, 2, 2, 2, 2, 2, 2, 2, 2, 2, 2, 2, 2, 2, 2, 2, 2, 2,\n",
      "       2, 2, 2, 2, 2, 2, 2, 2, 2, 2, 2, 2, 2, 2, 2, 2, 2, 2, 2, 2, 2, 2,\n",
      "       2, 2, 2, 2, 2, 2, 2, 2, 2, 2, 2, 2, 2, 2, 2, 2, 2, 2, 2, 2, 2, 2,\n",
      "       2, 2, 2, 2, 2, 2, 2, 2, 2, 2, 2, 2, 2, 2, 2, 2, 2, 2, 2, 2, 2, 2,\n",
      "       2, 2, 2, 2, 2, 2, 2, 2, 2, 2, 2, 2, 2, 2, 2, 2, 2, 2, 2, 2, 2, 2,\n",
      "       2, 2, 2, 2, 2, 2, 2, 2, 2, 2, 2, 2, 2, 2, 2, 2, 2, 2, 2, 2, 2, 2,\n",
      "       2, 2, 2, 2, 2, 2, 2, 2, 2, 2, 2, 2, 2, 2, 2, 2, 2, 2, 2, 2, 2, 2,\n",
      "       2, 2, 2, 2, 2, 2, 2, 2, 2, 2, 2, 2, 2, 2, 2, 2, 2, 2, 2, 2, 2, 2,\n",
      "       2, 2, 2, 2, 2, 2, 2, 2, 2, 2, 2, 2, 2, 2, 2, 2, 2, 2, 2, 2, 2, 2,\n",
      "       2, 2, 2, 2, 2, 2, 2, 2, 2, 2, 2, 2, 2, 2, 2, 2, 2, 2, 2, 2, 2, 2,\n",
      "       2, 2, 2, 2, 2, 2, 2, 2, 2, 2, 2, 2, 2, 2, 2, 2, 2, 2, 2, 2, 2, 2,\n",
      "       2, 2, 2, 2, 2, 2, 2, 2, 2, 2, 2, 2, 2, 2, 2, 2, 2, 2, 2, 2, 2, 2,\n",
      "       2, 2, 2, 2, 2, 2, 2, 2, 2, 2, 2, 2, 2, 2, 2, 2, 2, 2, 2],\n",
      "      dtype=int16)\n"
     ]
    }
   ],
   "source": [
    "fullprint(ytest)"
   ]
  },
  {
   "cell_type": "markdown",
   "metadata": {},
   "source": [
    "<h3><center><div style=\"direction:rtl;font-family:B Nazanin\">Train Windows</div></center></h1>"
   ]
  },
  {
   "cell_type": "code",
   "execution_count": 18,
   "metadata": {},
   "outputs": [
    {
     "data": {
      "text/plain": [
       "'\\nytestt=np.int32(np.array([ytest]).T)\\ntestx=np.concatenate((Xtest, ytestt), axis=1)\\ntestx=np.random.permutation(testx)\\nXtest=np.int32(testx[:,:-1])\\nytest=np.int32(testx[:,-1])'"
      ]
     },
     "execution_count": 18,
     "metadata": {},
     "output_type": "execute_result"
    }
   ],
   "source": [
    "#ytraint=np.int32(np.array([ytrain]).T)\n",
    "#trainx=np.concatenate((Xtrain, ytraint), axis=1)\n",
    "trainx=np.random.permutation(xtrain)\n",
    "Xtrain=np.array(trainx[:,:-1])\n",
    "ytrain=np.int16(trainx[:,-1])\n",
    "'''\n",
    "ytestt=np.int32(np.array([ytest]).T)\n",
    "testx=np.concatenate((Xtest, ytestt), axis=1)\n",
    "testx=np.random.permutation(testx)\n",
    "Xtest=np.int32(testx[:,:-1])\n",
    "ytest=np.int32(testx[:,-1])'''"
   ]
  },
  {
   "cell_type": "code",
   "execution_count": 19,
   "metadata": {},
   "outputs": [
    {
     "data": {
      "text/plain": [
       "(132, 481)"
      ]
     },
     "execution_count": 19,
     "metadata": {},
     "output_type": "execute_result"
    }
   ],
   "source": [
    "np.shape(wndws1)"
   ]
  },
  {
   "cell_type": "markdown",
   "metadata": {},
   "source": [
    "<h3><center><div style=\"direction:rtl;font-family:B Nazanin\">Validation Windows</div></center></h1>"
   ]
  },
  {
   "cell_type": "code",
   "execution_count": 20,
   "metadata": {},
   "outputs": [],
   "source": [
    "Xvalid=np.array(Xtrain)\n",
    "yvalid=np.array(ytrain)"
   ]
  },
  {
   "cell_type": "markdown",
   "metadata": {},
   "source": [
    "<h1><center><div style=\"direction:rtl;font-family:B Nazanin\">CNN And UnBalanced RAW Data</div></center></h1>\n",
    "<h1><center><div style=\"direction:rtl;font-family:Arial\">Cross Entropy Loss Function</div></center></h1>"
   ]
  },
  {
   "cell_type": "code",
   "execution_count": 21,
   "metadata": {
    "scrolled": true
   },
   "outputs": [
    {
     "name": "stdout",
     "output_type": "stream",
     "text": [
      "X_train =>  (370, 480)\n",
      "y_train =>  (370,)\n",
      "X_test  =>  (613, 480)\n",
      "y_test  =>  (613,)\n",
      "X_valid  =>  (370, 480)\n",
      "y_valid  =>  (370,)\n"
     ]
    }
   ],
   "source": [
    "X_train=np.array(Xtrain)\n",
    "y_train=np.array(ytrain)\n",
    "X_test=np.array(Xtest)\n",
    "y_test=np.array(ytest)\n",
    "X_valid=np.array(Xtrain)\n",
    "y_valid=np.array(ytrain)\n",
    "print('X_train => ', X_train.shape)\n",
    "print('y_train => ', y_train.shape)\n",
    "print('X_test  => ', X_test.shape)\n",
    "print('y_test  => ', y_test.shape)\n",
    "print('X_valid  => ', X_valid.shape)\n",
    "print('y_valid  => ', y_valid.shape)"
   ]
  },
  {
   "cell_type": "markdown",
   "metadata": {},
   "source": [
    "y_train=np.array(y_train+1)\n",
    "y_test=np.array(y_test+1)\n",
    "y_valid=np.array(y_valid+1)"
   ]
  },
  {
   "cell_type": "code",
   "execution_count": 22,
   "metadata": {},
   "outputs": [],
   "source": [
    "y_train_cat=to_categorical(y_train)\n",
    "y_valid_cat=to_categorical(y_valid)\n",
    "y_test_cat=to_categorical(y_test)\n",
    "\n",
    "\n",
    "X_train = np.expand_dims(X_train, axis=2)\n",
    "X_valid = np.expand_dims(X_valid, axis=2)\n",
    "X_test = np.expand_dims(X_test, axis=2)\n",
    "#y_train=np.transpose([y_train])"
   ]
  },
  {
   "cell_type": "code",
   "execution_count": 23,
   "metadata": {
    "scrolled": true
   },
   "outputs": [
    {
     "name": "stdout",
     "output_type": "stream",
     "text": [
      "Epoch 1/1000\n",
      "5/5 [==============================] - 4s 188ms/step - loss: 7.5468 - accuracy: 0.4595 - val_loss: 0.9914 - val_accuracy: 0.3568\n",
      "Epoch 2/1000\n",
      "5/5 [==============================] - 0s 28ms/step - loss: 0.7937 - accuracy: 0.5892 - val_loss: 0.9770 - val_accuracy: 0.6432\n",
      "Epoch 3/1000\n",
      "5/5 [==============================] - 0s 27ms/step - loss: 0.6605 - accuracy: 0.6189 - val_loss: 0.9601 - val_accuracy: 0.6432\n",
      "Epoch 4/1000\n",
      "5/5 [==============================] - 0s 26ms/step - loss: 0.6256 - accuracy: 0.6703 - val_loss: 0.9532 - val_accuracy: 0.3568\n",
      "Epoch 5/1000\n",
      "5/5 [==============================] - 0s 26ms/step - loss: 0.6440 - accuracy: 0.6541 - val_loss: 0.8600 - val_accuracy: 0.6432\n",
      "Epoch 6/1000\n",
      "5/5 [==============================] - 0s 27ms/step - loss: 0.6028 - accuracy: 0.6351 - val_loss: 0.8320 - val_accuracy: 0.6432\n",
      "Epoch 7/1000\n",
      "5/5 [==============================] - 0s 26ms/step - loss: 0.6301 - accuracy: 0.6297 - val_loss: 0.7422 - val_accuracy: 0.6432\n",
      "Epoch 8/1000\n",
      "5/5 [==============================] - 0s 27ms/step - loss: 0.5544 - accuracy: 0.7081 - val_loss: 0.7391 - val_accuracy: 0.6432\n",
      "Epoch 9/1000\n",
      "5/5 [==============================] - 0s 26ms/step - loss: 0.9464 - accuracy: 0.6459 - val_loss: 0.8162 - val_accuracy: 0.3568\n",
      "Epoch 10/1000\n",
      "5/5 [==============================] - 0s 26ms/step - loss: 0.6076 - accuracy: 0.6622 - val_loss: 0.6797 - val_accuracy: 0.6432\n",
      "Epoch 11/1000\n",
      "5/5 [==============================] - 0s 27ms/step - loss: 0.7196 - accuracy: 0.6622 - val_loss: 0.6925 - val_accuracy: 0.6432\n",
      "Epoch 12/1000\n",
      "5/5 [==============================] - 0s 28ms/step - loss: 0.5506 - accuracy: 0.7189 - val_loss: 0.6737 - val_accuracy: 0.6432\n",
      "Epoch 13/1000\n",
      "5/5 [==============================] - 0s 28ms/step - loss: 0.5167 - accuracy: 0.7216 - val_loss: 0.6673 - val_accuracy: 0.6432\n",
      "Epoch 14/1000\n",
      "5/5 [==============================] - 0s 28ms/step - loss: 0.4975 - accuracy: 0.7649 - val_loss: 0.6580 - val_accuracy: 0.6432\n",
      "Epoch 15/1000\n",
      "5/5 [==============================] - 0s 27ms/step - loss: 0.5732 - accuracy: 0.6946 - val_loss: 0.6663 - val_accuracy: 0.6432\n",
      "Epoch 16/1000\n",
      "5/5 [==============================] - 0s 25ms/step - loss: 0.4868 - accuracy: 0.7054 - val_loss: 0.8940 - val_accuracy: 0.6432\n",
      "Epoch 17/1000\n",
      "5/5 [==============================] - 0s 26ms/step - loss: 0.5386 - accuracy: 0.7892 - val_loss: 0.7189 - val_accuracy: 0.6432\n",
      "Epoch 18/1000\n",
      "5/5 [==============================] - 0s 26ms/step - loss: 0.7108 - accuracy: 0.6865 - val_loss: 0.6888 - val_accuracy: 0.6243\n",
      "Epoch 19/1000\n",
      "5/5 [==============================] - 0s 26ms/step - loss: 0.4940 - accuracy: 0.7703 - val_loss: 0.6639 - val_accuracy: 0.6432\n",
      "Epoch 20/1000\n",
      "5/5 [==============================] - 0s 27ms/step - loss: 0.3644 - accuracy: 0.8405 - val_loss: 0.6995 - val_accuracy: 0.6432\n",
      "Epoch 21/1000\n",
      "5/5 [==============================] - 0s 29ms/step - loss: 0.4834 - accuracy: 0.7568 - val_loss: 0.6538 - val_accuracy: 0.6432\n",
      "Epoch 22/1000\n",
      "5/5 [==============================] - 0s 28ms/step - loss: 0.3519 - accuracy: 0.8459 - val_loss: 0.6842 - val_accuracy: 0.6432\n",
      "Epoch 23/1000\n",
      "5/5 [==============================] - 0s 26ms/step - loss: 0.3857 - accuracy: 0.8027 - val_loss: 0.6956 - val_accuracy: 0.6432\n",
      "Epoch 24/1000\n",
      "5/5 [==============================] - 0s 26ms/step - loss: 0.3712 - accuracy: 0.8432 - val_loss: 0.6610 - val_accuracy: 0.6432\n",
      "Epoch 25/1000\n",
      "5/5 [==============================] - 0s 26ms/step - loss: 0.4727 - accuracy: 0.7514 - val_loss: 0.7094 - val_accuracy: 0.3568\n",
      "Epoch 26/1000\n",
      "5/5 [==============================] - 0s 26ms/step - loss: 0.4050 - accuracy: 0.8000 - val_loss: 0.6529 - val_accuracy: 0.6432\n",
      "Epoch 27/1000\n",
      "5/5 [==============================] - 0s 27ms/step - loss: 0.4453 - accuracy: 0.8054 - val_loss: 0.6611 - val_accuracy: 0.6432\n",
      "Epoch 28/1000\n",
      "5/5 [==============================] - 0s 26ms/step - loss: 0.3355 - accuracy: 0.8486 - val_loss: 0.6688 - val_accuracy: 0.6432\n",
      "Epoch 29/1000\n",
      "5/5 [==============================] - 0s 26ms/step - loss: 0.3924 - accuracy: 0.8081 - val_loss: 0.6680 - val_accuracy: 0.6432\n",
      "Epoch 30/1000\n",
      "5/5 [==============================] - 0s 26ms/step - loss: 0.2954 - accuracy: 0.8514 - val_loss: 0.6565 - val_accuracy: 0.6432\n",
      "Epoch 31/1000\n",
      "5/5 [==============================] - 0s 26ms/step - loss: 0.3187 - accuracy: 0.8541 - val_loss: 0.7223 - val_accuracy: 0.6432\n",
      "Epoch 32/1000\n",
      "5/5 [==============================] - 0s 26ms/step - loss: 0.2843 - accuracy: 0.8595 - val_loss: 0.7297 - val_accuracy: 0.6432\n",
      "Epoch 33/1000\n",
      "5/5 [==============================] - 0s 26ms/step - loss: 0.2230 - accuracy: 0.9162 - val_loss: 0.7621 - val_accuracy: 0.6432\n",
      "Epoch 34/1000\n",
      "5/5 [==============================] - 0s 26ms/step - loss: 0.2989 - accuracy: 0.8730 - val_loss: 0.6484 - val_accuracy: 0.6270\n",
      "Epoch 35/1000\n",
      "5/5 [==============================] - 0s 26ms/step - loss: 0.2854 - accuracy: 0.8919 - val_loss: 0.6550 - val_accuracy: 0.6432\n",
      "Epoch 36/1000\n",
      "5/5 [==============================] - 0s 25ms/step - loss: 0.2266 - accuracy: 0.9189 - val_loss: 1.1774 - val_accuracy: 0.6432\n",
      "Epoch 37/1000\n",
      "5/5 [==============================] - 0s 26ms/step - loss: 0.3403 - accuracy: 0.8432 - val_loss: 0.6798 - val_accuracy: 0.6405\n",
      "Epoch 38/1000\n",
      "5/5 [==============================] - 0s 26ms/step - loss: 0.2306 - accuracy: 0.9027 - val_loss: 0.6920 - val_accuracy: 0.6432\n",
      "Epoch 39/1000\n",
      "5/5 [==============================] - 0s 26ms/step - loss: 0.2517 - accuracy: 0.8784 - val_loss: 0.8100 - val_accuracy: 0.6432\n",
      "Epoch 40/1000\n",
      "5/5 [==============================] - 0s 26ms/step - loss: 0.2252 - accuracy: 0.9054 - val_loss: 1.2483 - val_accuracy: 0.6432\n",
      "Epoch 41/1000\n",
      "5/5 [==============================] - 0s 26ms/step - loss: 0.1879 - accuracy: 0.9405 - val_loss: 1.1494 - val_accuracy: 0.6432\n",
      "Epoch 42/1000\n",
      "5/5 [==============================] - 0s 26ms/step - loss: 0.1530 - accuracy: 0.9514 - val_loss: 0.6548 - val_accuracy: 0.6405\n",
      "Epoch 43/1000\n",
      "5/5 [==============================] - 0s 27ms/step - loss: 0.2969 - accuracy: 0.8324 - val_loss: 0.6788 - val_accuracy: 0.6432\n",
      "Epoch 44/1000\n",
      "5/5 [==============================] - 0s 27ms/step - loss: 0.1716 - accuracy: 0.9351 - val_loss: 0.9993 - val_accuracy: 0.6432\n",
      "Epoch 45/1000\n",
      "5/5 [==============================] - 0s 26ms/step - loss: 0.1186 - accuracy: 0.9649 - val_loss: 1.0666 - val_accuracy: 0.6432\n",
      "Epoch 46/1000\n",
      "5/5 [==============================] - 0s 26ms/step - loss: 0.2744 - accuracy: 0.8973 - val_loss: 1.0770 - val_accuracy: 0.6432\n",
      "Epoch 47/1000\n",
      "5/5 [==============================] - 0s 26ms/step - loss: 0.2686 - accuracy: 0.9081 - val_loss: 1.5366 - val_accuracy: 0.6432\n",
      "Epoch 48/1000\n",
      "5/5 [==============================] - 0s 26ms/step - loss: 0.1865 - accuracy: 0.9297 - val_loss: 2.1003 - val_accuracy: 0.6432\n",
      "Epoch 49/1000\n",
      "5/5 [==============================] - 0s 26ms/step - loss: 0.2023 - accuracy: 0.9135 - val_loss: 0.9714 - val_accuracy: 0.6432\n",
      "Epoch 50/1000\n",
      "5/5 [==============================] - 0s 26ms/step - loss: 0.1697 - accuracy: 0.9405 - val_loss: 1.2411 - val_accuracy: 0.6432\n",
      "Epoch 51/1000\n",
      "5/5 [==============================] - 0s 27ms/step - loss: 0.1204 - accuracy: 0.9649 - val_loss: 2.6977 - val_accuracy: 0.6432\n",
      "Epoch 52/1000\n",
      "5/5 [==============================] - 0s 29ms/step - loss: 0.1021 - accuracy: 0.9595 - val_loss: 2.4124 - val_accuracy: 0.6432\n",
      "5/5 [==============================] - 0s 5ms/step - loss: 0.9770 - accuracy: 0.6432\n",
      "np.shape(X_test)= (613, 480, 1)\n",
      "Accuracy=  0.6432432532310486\n"
     ]
    }
   ],
   "source": [
    "#VGG16_1D\n",
    "\n",
    "accuracy=0\n",
    "acc_crs=np.array([])\n",
    "##for i in range (10):\n",
    "##    if accuracy<0.2 :\n",
    "\n",
    "verbose, epochs, batch_size = 1, 1000, 80\n",
    "n_timesteps, n_features, n_outputs = X_train.shape[1], X_train.shape[2], y_train_cat.shape[1]\n",
    "steps_per_epoch = len(X_train)//batch_size\n",
    "validation_steps = len(X_valid)//batch_size # if you have test data\n",
    "\n",
    "\n",
    "\n",
    "model_crs = Sequential()\n",
    "#model_crs.add(Conv1D(input_shape=x_train.shape[1:],filters=64,kernel_size=9,padding=\"same\", activation=\"relu\"))\n",
    "model_crs.add(Conv1D(filters=128, kernel_size=12, strides=1, activation='relu', input_shape=(n_timesteps,n_features))) #Replaced\n",
    "model_crs.add(BatchNormalization())\n",
    "model_crs.add(MaxPooling1D(pool_size=2,strides=3))\n",
    "\n",
    "model_crs.add(Conv1D(filters=32, kernel_size=7, strides=1, padding=\"same\", activation=\"relu\"))\n",
    "model_crs.add(BatchNormalization())\n",
    "model_crs.add(MaxPooling1D(pool_size=2,strides=2))\n",
    "\n",
    "model_crs.add(Conv1D(filters=32, kernel_size=10, strides=1, padding=\"same\", activation=\"relu\"))\n",
    "model_crs.add(Conv1D(filters=128, kernel_size=5, strides=2, padding=\"same\", activation=\"relu\"))\n",
    "model_crs.add(MaxPooling1D(pool_size=2,strides=2))\n",
    "\n",
    "model_crs.add(Conv1D(filters=256, kernel_size=15, strides=1, padding=\"same\", activation=\"relu\"))\n",
    "model_crs.add(MaxPooling1D(pool_size=2,strides=2))\n",
    "\n",
    "model_crs.add(Conv1D(filters=512, kernel_size=5, strides=1, padding=\"same\", activation=\"relu\"))\n",
    "#model_crs.add(Conv1D(filters=128, kernel_size=3, strides=1, padding=\"same\", activation=\"relu\"))\n",
    "\n",
    "\n",
    "model_crs.add(Flatten())\n",
    "model_crs.add(Dropout(0.1))\n",
    "model_crs.add(Dense(units=512,activation=\"relu\"))\n",
    "#model_crs.add(Dense(units=2048,activation=\"relu\"))\n",
    "model_crs.add(Dense(n_outputs, activation='softmax'))   #Replaced here from old Model\n",
    "\n",
    "model_crs.compile(optimizer='rmsprop', loss='categorical_crossentropy', metrics=['accuracy'])\n",
    "# fit network   #CategoricalCrossentropy #sparse_categorical_crossentropy #SparseCategoricalCrossentropy\n",
    "\n",
    "earlystopping = callbacks.EarlyStopping(monitor =\"val_accuracy\", mode =\"max\", patience = 50, restore_best_weights = True)\n",
    "\n",
    "model_crs.fit(X_train, y_train_cat, epochs=epochs, batch_size=batch_size, verbose=verbose, validation_data = (X_valid, y_valid_cat), callbacks =[earlystopping])\n",
    "\n",
    "_, accuracy = model_crs.evaluate(X_valid, y_valid_cat, batch_size=batch_size, verbose=1)\n",
    "\n",
    "print('np.shape(X_test)=',np.shape(X_test))\n",
    "\n",
    "print('Accuracy= ', accuracy)\n",
    "\n",
    "#y_pred_vgg = model_crs.predict_classes(X_test)\n"
   ]
  },
  {
   "cell_type": "code",
   "execution_count": 24,
   "metadata": {},
   "outputs": [],
   "source": [
    "def maxindx(ar):\n",
    "    ar_cpy=np.array(ar)\n",
    "    pred=np.argmax(ar,axis=1)\n",
    "    for i in range (len(pred)):\n",
    "        if pred[i]==0:\n",
    "            ar_cpy[i,0]=-1000\n",
    "    pred=np.argmax(ar_cpy,axis=1)\n",
    "    return(pred)"
   ]
  },
  {
   "cell_type": "code",
   "execution_count": 25,
   "metadata": {},
   "outputs": [
    {
     "name": "stdout",
     "output_type": "stream",
     "text": [
      "20/20 [==============================] - 0s 9ms/step\n",
      "array([[  0, 219],\n",
      "       [  0, 394]], dtype=int64)\n",
      "              precision    recall  f1-score   support\n",
      "\n",
      "           1       0.00      0.00      0.00       219\n",
      "           2       0.64      1.00      0.78       394\n",
      "\n",
      "    accuracy                           0.64       613\n",
      "   macro avg       0.32      0.50      0.39       613\n",
      "weighted avg       0.41      0.64      0.50       613\n",
      "\n"
     ]
    },
    {
     "name": "stderr",
     "output_type": "stream",
     "text": [
      "C:\\ProgramData\\Anaconda3\\lib\\site-packages\\sklearn\\metrics\\_classification.py:1248: UndefinedMetricWarning: Precision and F-score are ill-defined and being set to 0.0 in labels with no predicted samples. Use `zero_division` parameter to control this behavior.\n",
      "  _warn_prf(average, modifier, msg_start, len(result))\n",
      "C:\\ProgramData\\Anaconda3\\lib\\site-packages\\sklearn\\metrics\\_classification.py:1248: UndefinedMetricWarning: Precision and F-score are ill-defined and being set to 0.0 in labels with no predicted samples. Use `zero_division` parameter to control this behavior.\n",
      "  _warn_prf(average, modifier, msg_start, len(result))\n",
      "C:\\ProgramData\\Anaconda3\\lib\\site-packages\\sklearn\\metrics\\_classification.py:1248: UndefinedMetricWarning: Precision and F-score are ill-defined and being set to 0.0 in labels with no predicted samples. Use `zero_division` parameter to control this behavior.\n",
      "  _warn_prf(average, modifier, msg_start, len(result))\n"
     ]
    }
   ],
   "source": [
    "predict_x=model_crs.predict(X_test)              # Function 1\n",
    "\n",
    "y_pred_crs=maxindx(predict_x)                    # function from augment.py to remove 0 index predictions\n",
    "\n",
    "#y_pred_crs = model_crs.predict_classes(X_test)\n",
    "\n",
    "cm = confusion_matrix(y_test, y_pred_crs)\n",
    "fullprint(cm)\n",
    "acc3=accuracy_score(y_test, y_pred_crs)\n",
    "\n",
    "print(classification_report(y_test, y_pred_crs))\n",
    "\n",
    "#sns.heatmap(cm, annot=True)\n",
    "\n",
    "#plt.imshow(cm)"
   ]
  },
  {
   "cell_type": "code",
   "execution_count": 26,
   "metadata": {},
   "outputs": [
    {
     "name": "stdout",
     "output_type": "stream",
     "text": [
      "Epoch 1/1000\n",
      "5/5 [==============================] - 2s 175ms/step - loss: 20.3864 - accuracy: 0.5108 - val_loss: 1.0285 - val_accuracy: 0.3568\n",
      "Epoch 2/1000\n",
      "5/5 [==============================] - 0s 36ms/step - loss: 0.8143 - accuracy: 0.4622 - val_loss: 0.9433 - val_accuracy: 0.3568\n",
      "Epoch 3/1000\n",
      "5/5 [==============================] - 0s 41ms/step - loss: 0.7418 - accuracy: 0.5865 - val_loss: 0.9429 - val_accuracy: 0.6432\n",
      "Epoch 4/1000\n",
      "5/5 [==============================] - 0s 37ms/step - loss: 0.6379 - accuracy: 0.6351 - val_loss: 0.9088 - val_accuracy: 0.6432\n",
      "Epoch 5/1000\n",
      "5/5 [==============================] - 0s 36ms/step - loss: 0.6104 - accuracy: 0.6838 - val_loss: 0.9186 - val_accuracy: 0.6432\n",
      "Epoch 6/1000\n",
      "5/5 [==============================] - 0s 36ms/step - loss: 0.6932 - accuracy: 0.5703 - val_loss: 0.9235 - val_accuracy: 0.6432\n",
      "Epoch 7/1000\n",
      "5/5 [==============================] - 0s 37ms/step - loss: 0.6468 - accuracy: 0.6135 - val_loss: 0.8374 - val_accuracy: 0.6432\n",
      "Epoch 8/1000\n",
      "5/5 [==============================] - 0s 36ms/step - loss: 0.6446 - accuracy: 0.6054 - val_loss: 0.7900 - val_accuracy: 0.6432\n",
      "Epoch 9/1000\n",
      "5/5 [==============================] - 0s 37ms/step - loss: 0.5680 - accuracy: 0.6541 - val_loss: 0.7242 - val_accuracy: 0.6432\n",
      "Epoch 10/1000\n",
      "5/5 [==============================] - 0s 37ms/step - loss: 0.5902 - accuracy: 0.6054 - val_loss: 0.6985 - val_accuracy: 0.6432\n",
      "Epoch 11/1000\n",
      "5/5 [==============================] - 0s 36ms/step - loss: 0.7184 - accuracy: 0.6054 - val_loss: 0.8166 - val_accuracy: 0.3568\n",
      "Epoch 12/1000\n",
      "5/5 [==============================] - 0s 37ms/step - loss: 0.6067 - accuracy: 0.6027 - val_loss: 0.7503 - val_accuracy: 0.6432\n",
      "Epoch 13/1000\n",
      "5/5 [==============================] - 0s 36ms/step - loss: 0.6114 - accuracy: 0.7054 - val_loss: 0.6851 - val_accuracy: 0.6432\n",
      "Epoch 14/1000\n",
      "5/5 [==============================] - 0s 36ms/step - loss: 0.7598 - accuracy: 0.6541 - val_loss: 0.7400 - val_accuracy: 0.3568\n",
      "Epoch 15/1000\n",
      "5/5 [==============================] - 0s 37ms/step - loss: 0.5713 - accuracy: 0.6081 - val_loss: 0.6734 - val_accuracy: 0.6432\n",
      "Epoch 16/1000\n",
      "5/5 [==============================] - 0s 36ms/step - loss: 0.6397 - accuracy: 0.6189 - val_loss: 0.6661 - val_accuracy: 0.6432\n",
      "Epoch 17/1000\n",
      "5/5 [==============================] - 0s 37ms/step - loss: 0.5786 - accuracy: 0.6351 - val_loss: 0.6860 - val_accuracy: 0.6432\n",
      "Epoch 18/1000\n",
      "5/5 [==============================] - 0s 38ms/step - loss: 0.5761 - accuracy: 0.6459 - val_loss: 0.7480 - val_accuracy: 0.6432\n",
      "Epoch 19/1000\n",
      "5/5 [==============================] - 0s 36ms/step - loss: 0.9641 - accuracy: 0.5946 - val_loss: 0.6959 - val_accuracy: 0.6432\n",
      "Epoch 20/1000\n",
      "5/5 [==============================] - 0s 36ms/step - loss: 0.5965 - accuracy: 0.6595 - val_loss: 0.6821 - val_accuracy: 0.6432\n",
      "Epoch 21/1000\n",
      "5/5 [==============================] - 0s 36ms/step - loss: 0.6192 - accuracy: 0.6405 - val_loss: 0.6890 - val_accuracy: 0.6432\n",
      "Epoch 22/1000\n",
      "5/5 [==============================] - 0s 37ms/step - loss: 0.6635 - accuracy: 0.6486 - val_loss: 0.6961 - val_accuracy: 0.6432\n",
      "Epoch 23/1000\n",
      "5/5 [==============================] - 0s 37ms/step - loss: 0.6051 - accuracy: 0.6432 - val_loss: 0.6684 - val_accuracy: 0.6432\n",
      "Epoch 24/1000\n",
      "5/5 [==============================] - 0s 36ms/step - loss: 0.6177 - accuracy: 0.6757 - val_loss: 0.6830 - val_accuracy: 0.6432\n",
      "Epoch 25/1000\n",
      "5/5 [==============================] - 0s 37ms/step - loss: 0.6205 - accuracy: 0.7784 - val_loss: 0.7226 - val_accuracy: 0.3568\n",
      "Epoch 26/1000\n",
      "5/5 [==============================] - 0s 37ms/step - loss: 0.6104 - accuracy: 0.6541 - val_loss: 0.6558 - val_accuracy: 0.6432\n",
      "Epoch 27/1000\n",
      "5/5 [==============================] - 0s 36ms/step - loss: 0.4776 - accuracy: 0.7568 - val_loss: 0.6877 - val_accuracy: 0.6432\n",
      "Epoch 28/1000\n",
      "5/5 [==============================] - 0s 36ms/step - loss: 0.7428 - accuracy: 0.7216 - val_loss: 0.6957 - val_accuracy: 0.6432\n",
      "Epoch 29/1000\n",
      "5/5 [==============================] - 0s 36ms/step - loss: 0.6568 - accuracy: 0.6486 - val_loss: 0.7139 - val_accuracy: 0.3568\n",
      "Epoch 30/1000\n",
      "5/5 [==============================] - 0s 37ms/step - loss: 0.5432 - accuracy: 0.7000 - val_loss: 0.6686 - val_accuracy: 0.6432\n",
      "Epoch 31/1000\n",
      "5/5 [==============================] - 0s 36ms/step - loss: 0.6275 - accuracy: 0.6811 - val_loss: 0.6637 - val_accuracy: 0.6432\n",
      "Epoch 32/1000\n",
      "5/5 [==============================] - 0s 36ms/step - loss: 0.5779 - accuracy: 0.6297 - val_loss: 0.6880 - val_accuracy: 0.6432\n",
      "Epoch 33/1000\n",
      "5/5 [==============================] - 0s 37ms/step - loss: 0.4793 - accuracy: 0.7892 - val_loss: 0.6552 - val_accuracy: 0.6432\n",
      "Epoch 34/1000\n",
      "5/5 [==============================] - 0s 36ms/step - loss: 0.6048 - accuracy: 0.7189 - val_loss: 0.6696 - val_accuracy: 0.6432\n",
      "Epoch 35/1000\n",
      "5/5 [==============================] - 0s 37ms/step - loss: 0.6459 - accuracy: 0.6784 - val_loss: 0.6888 - val_accuracy: 0.6432\n",
      "Epoch 36/1000\n",
      "5/5 [==============================] - 0s 37ms/step - loss: 0.4752 - accuracy: 0.7649 - val_loss: 0.6742 - val_accuracy: 0.6432\n",
      "Epoch 37/1000\n",
      "5/5 [==============================] - 0s 37ms/step - loss: 0.4481 - accuracy: 0.8324 - val_loss: 0.6540 - val_accuracy: 0.6432\n",
      "Epoch 38/1000\n",
      "5/5 [==============================] - 0s 36ms/step - loss: 0.6479 - accuracy: 0.7405 - val_loss: 0.7067 - val_accuracy: 0.3568\n",
      "Epoch 39/1000\n",
      "5/5 [==============================] - 0s 37ms/step - loss: 0.5150 - accuracy: 0.7243 - val_loss: 0.6659 - val_accuracy: 0.6432\n",
      "Epoch 40/1000\n",
      "5/5 [==============================] - 0s 36ms/step - loss: 0.4012 - accuracy: 0.8054 - val_loss: 0.7037 - val_accuracy: 0.3568\n",
      "Epoch 41/1000\n",
      "5/5 [==============================] - 0s 37ms/step - loss: 0.4297 - accuracy: 0.8054 - val_loss: 0.6566 - val_accuracy: 0.6432\n",
      "Epoch 42/1000\n",
      "5/5 [==============================] - 0s 37ms/step - loss: 0.5822 - accuracy: 0.7730 - val_loss: 0.6646 - val_accuracy: 0.6432\n",
      "Epoch 43/1000\n",
      "5/5 [==============================] - 0s 37ms/step - loss: 0.7311 - accuracy: 0.7865 - val_loss: 0.7805 - val_accuracy: 0.6432\n",
      "Epoch 44/1000\n",
      "5/5 [==============================] - 0s 37ms/step - loss: 0.3577 - accuracy: 0.8486 - val_loss: 0.6727 - val_accuracy: 0.6432\n",
      "Epoch 45/1000\n",
      "5/5 [==============================] - 0s 37ms/step - loss: 0.5477 - accuracy: 0.7811 - val_loss: 0.6477 - val_accuracy: 0.6432\n",
      "Epoch 46/1000\n",
      "5/5 [==============================] - 0s 36ms/step - loss: 0.3277 - accuracy: 0.8730 - val_loss: 0.6650 - val_accuracy: 0.6432\n",
      "Epoch 47/1000\n",
      "5/5 [==============================] - 0s 37ms/step - loss: 0.3459 - accuracy: 0.8486 - val_loss: 0.6430 - val_accuracy: 0.6432\n",
      "Epoch 48/1000\n",
      "5/5 [==============================] - 0s 37ms/step - loss: 0.3206 - accuracy: 0.8838 - val_loss: 0.6344 - val_accuracy: 0.6432\n",
      "Epoch 49/1000\n",
      "5/5 [==============================] - 0s 37ms/step - loss: 0.5586 - accuracy: 0.7514 - val_loss: 0.6653 - val_accuracy: 0.6432\n",
      "Epoch 50/1000\n",
      "5/5 [==============================] - 0s 37ms/step - loss: 0.4394 - accuracy: 0.7973 - val_loss: 0.6631 - val_accuracy: 0.6432\n",
      "Epoch 51/1000\n",
      "5/5 [==============================] - 0s 37ms/step - loss: 0.3782 - accuracy: 0.8162 - val_loss: 0.6512 - val_accuracy: 0.6432\n",
      "Epoch 52/1000\n",
      "5/5 [==============================] - 0s 37ms/step - loss: 0.2644 - accuracy: 0.8973 - val_loss: 0.6344 - val_accuracy: 0.6432\n",
      "Epoch 53/1000\n",
      "5/5 [==============================] - 0s 39ms/step - loss: 0.4980 - accuracy: 0.7351 - val_loss: 0.6457 - val_accuracy: 0.6432\n",
      "5/5 [==============================] - 0s 7ms/step - loss: 0.9429 - accuracy: 0.6432\n",
      "np.shape(X_test)= (613, 480, 1)\n",
      "Accuracy=  0.6432432532310486\n"
     ]
    }
   ],
   "source": [
    "#VGG16_1D\n",
    "\n",
    "accuracy=0\n",
    "acc_crs=np.array([])\n",
    "##for i in range (10):\n",
    "##    if accuracy<0.2 :\n",
    "\n",
    "verbose, epochs, batch_size = 1, 1000, 80\n",
    "n_timesteps, n_features, n_outputs = X_train.shape[1], X_train.shape[2], y_train_cat.shape[1]\n",
    "steps_per_epoch = len(X_train)//batch_size\n",
    "validation_steps = len(X_valid)//batch_size # if you have test data\n",
    "\n",
    "\n",
    "\n",
    "model_crs = Sequential()\n",
    "#model_crs.add(Conv1D(input_shape=x_train.shape[1:],filters=64,kernel_size=9,padding=\"same\", activation=\"relu\"))\n",
    "model_crs.add(Conv1D(filters=256, kernel_size=12, strides=1, activation='relu', input_shape=(n_timesteps,n_features))) #Replaced\n",
    "model_crs.add(BatchNormalization())\n",
    "model_crs.add(MaxPooling1D(pool_size=2,strides=3))\n",
    "\n",
    "model_crs.add(Conv1D(filters=64, kernel_size=7, strides=1, padding=\"same\", activation=\"relu\"))\n",
    "model_crs.add(BatchNormalization())\n",
    "model_crs.add(MaxPooling1D(pool_size=2,strides=2))\n",
    "\n",
    "model_crs.add(Conv1D(filters=64, kernel_size=10, strides=1, padding=\"same\", activation=\"relu\"))\n",
    "model_crs.add(Conv1D(filters=128, kernel_size=5, strides=2, padding=\"same\", activation=\"relu\"))\n",
    "model_crs.add(MaxPooling1D(pool_size=2,strides=2))\n",
    "\n",
    "model_crs.add(Conv1D(filters=512, kernel_size=15, strides=1, padding=\"same\", activation=\"relu\"))\n",
    "model_crs.add(MaxPooling1D(pool_size=2,strides=2))\n",
    "\n",
    "model_crs.add(Conv1D(filters=1024, kernel_size=5, strides=1, padding=\"same\", activation=\"relu\"))\n",
    "#model_crs.add(Conv1D(filters=128, kernel_size=3, strides=1, padding=\"same\", activation=\"relu\"))\n",
    "\n",
    "\n",
    "model_crs.add(Flatten())\n",
    "model_crs.add(Dropout(0.1))\n",
    "model_crs.add(Dense(units=512,activation=\"relu\"))\n",
    "#model_crs.add(Dense(units=2048,activation=\"relu\"))\n",
    "model_crs.add(Dense(n_outputs, activation='softmax'))   #Replaced here from old Model\n",
    "\n",
    "model_crs.compile(optimizer='rmsprop', loss='categorical_crossentropy', metrics=['accuracy'])\n",
    "# fit network   #CategoricalCrossentropy #sparse_categorical_crossentropy #SparseCategoricalCrossentropy\n",
    "\n",
    "earlystopping = callbacks.EarlyStopping(monitor =\"val_accuracy\", mode =\"max\", patience = 50, restore_best_weights = True)\n",
    "\n",
    "model_crs.fit(X_train, y_train_cat, epochs=epochs, batch_size=batch_size, verbose=verbose, validation_data = (X_valid, y_valid_cat), callbacks =[earlystopping])\n",
    "\n",
    "_, accuracy = model_crs.evaluate(X_valid, y_valid_cat, batch_size=batch_size, verbose=1)\n",
    "\n",
    "print('np.shape(X_test)=',np.shape(X_test))\n",
    "\n",
    "print('Accuracy= ', accuracy)\n",
    "\n",
    "#y_pred_vgg = model_crs.predict_classes(X_test)\n"
   ]
  },
  {
   "cell_type": "code",
   "execution_count": 27,
   "metadata": {},
   "outputs": [
    {
     "name": "stdout",
     "output_type": "stream",
     "text": [
      "20/20 [==============================] - 0s 9ms/step\n",
      "array([[  0, 219],\n",
      "       [  0, 394]], dtype=int64)\n",
      "              precision    recall  f1-score   support\n",
      "\n",
      "           1       0.00      0.00      0.00       219\n",
      "           2       0.64      1.00      0.78       394\n",
      "\n",
      "    accuracy                           0.64       613\n",
      "   macro avg       0.32      0.50      0.39       613\n",
      "weighted avg       0.41      0.64      0.50       613\n",
      "\n"
     ]
    },
    {
     "name": "stderr",
     "output_type": "stream",
     "text": [
      "C:\\ProgramData\\Anaconda3\\lib\\site-packages\\sklearn\\metrics\\_classification.py:1248: UndefinedMetricWarning: Precision and F-score are ill-defined and being set to 0.0 in labels with no predicted samples. Use `zero_division` parameter to control this behavior.\n",
      "  _warn_prf(average, modifier, msg_start, len(result))\n",
      "C:\\ProgramData\\Anaconda3\\lib\\site-packages\\sklearn\\metrics\\_classification.py:1248: UndefinedMetricWarning: Precision and F-score are ill-defined and being set to 0.0 in labels with no predicted samples. Use `zero_division` parameter to control this behavior.\n",
      "  _warn_prf(average, modifier, msg_start, len(result))\n",
      "C:\\ProgramData\\Anaconda3\\lib\\site-packages\\sklearn\\metrics\\_classification.py:1248: UndefinedMetricWarning: Precision and F-score are ill-defined and being set to 0.0 in labels with no predicted samples. Use `zero_division` parameter to control this behavior.\n",
      "  _warn_prf(average, modifier, msg_start, len(result))\n"
     ]
    }
   ],
   "source": [
    "predict_x=model_crs.predict(X_test)              # Function 1\n",
    "\n",
    "y_pred_crs=maxindx(predict_x)                    # function from augment.py to remove 0 index predictions\n",
    "\n",
    "#y_pred_crs = model_crs.predict_classes(X_test)\n",
    "\n",
    "cm = confusion_matrix(y_test, y_pred_crs)\n",
    "fullprint(cm)\n",
    "acc3=accuracy_score(y_test, y_pred_crs)\n",
    "\n",
    "print(classification_report(y_test, y_pred_crs))\n",
    "\n",
    "#sns.heatmap(cm, annot=True)\n",
    "\n",
    "#plt.imshow(cm)"
   ]
  },
  {
   "cell_type": "code",
   "execution_count": null,
   "metadata": {},
   "outputs": [],
   "source": []
  }
 ],
 "metadata": {
  "celltoolbar": "Raw Cell Format",
  "kernelspec": {
   "display_name": "Python 3 (ipykernel)",
   "language": "python",
   "name": "python3"
  },
  "language_info": {
   "codemirror_mode": {
    "name": "ipython",
    "version": 3
   },
   "file_extension": ".py",
   "mimetype": "text/x-python",
   "name": "python",
   "nbconvert_exporter": "python",
   "pygments_lexer": "ipython3",
   "version": "3.9.7"
  }
 },
 "nbformat": 4,
 "nbformat_minor": 4
}
