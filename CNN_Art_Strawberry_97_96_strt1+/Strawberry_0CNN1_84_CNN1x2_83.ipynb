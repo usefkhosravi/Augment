{
 "cells": [
  {
   "cell_type": "markdown",
   "metadata": {},
   "source": [
    "import time\n",
    "plc=1\n",
    "time.sleep(3000*plc)         #run after 1 houre = 3600 seconds"
   ]
  },
  {
   "cell_type": "code",
   "execution_count": 1,
   "metadata": {},
   "outputs": [
    {
     "data": {
      "text/html": [
       "<style>#notebook { padding-top:0px !important; } .container { width:100% !important; } .end_space { min-height:0px !important; } html, body, .container{ margin:0!important;padding:0!important;}</style>"
      ],
      "text/plain": [
       "<IPython.core.display.HTML object>"
      ]
     },
     "metadata": {},
     "output_type": "display_data"
    }
   ],
   "source": [
    "import os\n",
    "import glob\n",
    "import scipy\n",
    "import random\n",
    "import bisect\n",
    "import numpy as np\n",
    "import pandas as pd\n",
    "import seaborn as sns\n",
    "from scipy import signal\n",
    "from scipy.signal import find_peaks\n",
    "import matplotlib.pyplot as plt\n",
    "from preprocess import *                         #ماژول استخراج پنجره ها\n",
    "from data import *                          #ماژول محلی ورود داده ها\n",
    "from augment import *                            #ماژول های داده افزایی\n",
    "from lstm_cnn import *                           #ماژول های داده افزایی با lstm_cnn\n",
    "import augment\n",
    "import importlib\n",
    "importlib.reload(augment)\n",
    "import tensorflow as tf\n",
    "from tensorflow import keras\n",
    "from tensorflow.keras.layers import BatchNormalization\n",
    "from sklearn.model_selection import train_test_split\n",
    "from sklearn.neural_network import MLPClassifier\n",
    "from sklearn.datasets import make_classification\n",
    "from sklearn.metrics import confusion_matrix, accuracy_score, classification_report,recall_score,precision_score\n",
    "from tensorflow.keras import callbacks\n",
    "from tensorflow.keras import layers\n",
    "from tensorflow.keras.models import Sequential\n",
    "from tensorflow.keras.layers import Convolution2D,Conv1D,Dropout,MaxPooling1D,MaxPooling2D,Flatten,Dense\n",
    "from tensorflow.keras import backend as K\n",
    "from tensorflow.keras.utils import to_categorical\n",
    "from tensorflow.keras.models import load_model\n",
    "cwd = os.getcwd() #\n",
    "fullscrn()"
   ]
  },
  {
   "cell_type": "markdown",
   "metadata": {},
   "source": [
    "<h1><center><div style=\"direction:rtl;font-family:B Nazanin\">Importing Data</div></center></h1>"
   ]
  },
  {
   "cell_type": "code",
   "execution_count": 2,
   "metadata": {
    "scrolled": true
   },
   "outputs": [
    {
     "name": "stderr",
     "output_type": "stream",
     "text": [
      "C:\\ProgramData\\Anaconda3\\lib\\site-packages\\pandas\\util\\_decorators.py:311: ParserWarning: Falling back to the 'python' engine because the 'c' engine does not support regex separators (separators > 1 char and different from '\\s+' are interpreted as regex); you can avoid this warning by specifying engine='python'.\n",
      "  return func(*args, **kwargs)\n"
     ]
    },
    {
     "name": "stdout",
     "output_type": "stream",
     "text": [
      "first_train_shape= (100, 1025)\n",
      "first_test_shape= (2425, 1025)\n",
      "classes_quantity= 5\n",
      "tr_lbls=\t {1, 2, 3, 4, 5}\n",
      "Count_labels= [20 20 20 20 20]\n",
      "max(train_feature_Altitude)= 5.0\n",
      "min(train_feature_Altitude)= -2.8941765\n",
      "first_train_sample=\n",
      " [1.        1.1309687 1.1204832 ... 1.0931087 1.1025334 1.1120469]\n",
      "1 20\t2 20\t3 20\t4 20\t5 20\t"
     ]
    }
   ],
   "source": [
    "rate=480\n",
    "cls_num=5\n",
    "btch=20\n",
    "for i in range (1,cls_num+1):\n",
    "    vars()['ecg'+str(i)],vars()['ecg_tst'+str(i)]=MixedShapesSmallTrain(i)\n",
    "\n",
    "os.chdir(cwd)\n",
    "clses_lens=np.array([])\n",
    "i=0                               #جمع آوری داده ها و چاپ تعداد نمونه ی هر کلاس\n",
    "ecg=np.array(ecg1)\n",
    "print(1,len(vars()['ecg'+str(1)]), end='\\t')\n",
    "clses_lens=np.append(clses_lens,len(vars()['ecg'+str(1)]))\n",
    "for i in range (2,cls_num+1):\n",
    "    ecg=np.concatenate((ecg,vars()['ecg'+str(i)]),axis=0)\n",
    "    clses_lens=np.append(clses_lens,len(vars()['ecg'+str(i)]))\n",
    "    print(i,len(vars()['ecg'+str(i)]), end='\\t')\n",
    "\n",
    "mx_sig=max(clses_lens)"
   ]
  },
  {
   "cell_type": "code",
   "execution_count": 3,
   "metadata": {},
   "outputs": [
    {
     "data": {
      "text/plain": [
       "(100, 481)"
      ]
     },
     "execution_count": 3,
     "metadata": {},
     "output_type": "execute_result"
    }
   ],
   "source": [
    "np.shape(ecg)"
   ]
  },
  {
   "cell_type": "code",
   "execution_count": 4,
   "metadata": {},
   "outputs": [
    {
     "data": {
      "text/plain": [
       "array([1., 1., 1., 1., 1., 1., 1., 1., 1., 1., 1., 1., 1., 1., 1., 1., 1.,\n",
       "       1., 1., 1., 2., 2., 2., 2., 2., 2., 2., 2., 2., 2., 2., 2., 2., 2.,\n",
       "       2., 2., 2., 2., 2., 2., 3., 3., 3., 3., 3., 3., 3., 3., 3., 3., 3.,\n",
       "       3., 3., 3., 3., 3., 3., 3., 3., 3., 4., 4., 4., 4., 4., 4., 4., 4.,\n",
       "       4., 4., 4., 4., 4., 4., 4., 4., 4., 4., 4., 4., 5., 5., 5., 5., 5.,\n",
       "       5., 5., 5., 5., 5., 5., 5., 5., 5., 5., 5., 5., 5., 5., 5.])"
      ]
     },
     "execution_count": 4,
     "metadata": {},
     "output_type": "execute_result"
    }
   ],
   "source": [
    "ecg[:,-1]"
   ]
  },
  {
   "cell_type": "markdown",
   "metadata": {},
   "source": [
    "<h2><center><div style=\"direction:rtl;font-family:B Nazanin\">Base Train windows</div></center></h1>"
   ]
  },
  {
   "cell_type": "code",
   "execution_count": 5,
   "metadata": {},
   "outputs": [
    {
     "name": "stdout",
     "output_type": "stream",
     "text": [
      "each class and its windows =\n",
      "1 20\t2 20\t3 20\t4 20\t5 20\t\n",
      " max = 20\n"
     ]
    }
   ],
   "source": [
    "smpl_rte=rate                                              # در ماژول ها نیز همین مقدار ثبت شده\n",
    "i=0\n",
    "windws=np.array([])\n",
    "\n",
    "for cls in range (1,cls_num+1):                                 #ساخت پنجره های داده های آموزش اصلی\n",
    "    vars()['wndws'+str(cls)]=np.array(vars()['ecg'+str(cls)])  \n",
    "    \n",
    "print(\"each class and its windows =\")\n",
    "\n",
    "cls_wndws=np.array([])\n",
    "for cls in range (1,cls_num+1):                                # آرایه ی تعداد پنجره ی هر کلاس\n",
    "    wns=len(vars()['wndws'+str(cls)])\n",
    "    cls_wndws=np.append(cls_wndws,wns)\n",
    "    print(cls, wns, end='\\t')\n",
    "\n",
    "mx_wndws=int(np.max(cls_wndws))                        # حداکثر تعداد پنجره ی موجود بین کلاس ها\n",
    "print('\\n max =', mx_wndws)"
   ]
  },
  {
   "cell_type": "raw",
   "metadata": {},
   "source": [
    "#clses=3                                   #تعیین میزان افزایش نمونه (تولید داده)\n",
    "mx_wndws=int(mx_wndws)  #mx_wndws*0.3  # =classes-1 برای بررسی الگوریتم تعداد کمی کلاس آزمایش شد\n",
    "mx_wndws=2598           #+2\n",
    "print(mx_wndws)"
   ]
  },
  {
   "cell_type": "markdown",
   "metadata": {},
   "source": [
    "<h1><center><div style=\"direction:rtl;font-family:B Nazanin\">Data Augmentation</div></center></h1>"
   ]
  },
  {
   "cell_type": "code",
   "execution_count": 6,
   "metadata": {},
   "outputs": [
    {
     "name": "stdout",
     "output_type": "stream",
     "text": [
      "Up to class  1 train shape =  (20, 481)\n",
      "Up to class  2 train shape =  (40, 481)\n",
      "Up to class  3 train shape =  (60, 481)\n",
      "Up to class  4 train shape =  (80, 481)\n",
      "Up to class  5 train shape =  (100, 481)\n"
     ]
    }
   ],
   "source": [
    "smpl_rte=len(wndws1[0])                                        # در ماژول ها نیز همین مقدار ثبت شده\n",
    "\n",
    "#add augmented data to base data\n",
    "xtrain=np.empty((0,len(wndws1[0])), float) \n",
    "for i in range (1,cls_num+1):   \n",
    "    xtrain=np.append(xtrain,vars()['wndws'+str(i)],axis=0)\n",
    "    print('Up to class ', i, 'train shape = ', np.shape(xtrain))"
   ]
  },
  {
   "cell_type": "code",
   "execution_count": 7,
   "metadata": {},
   "outputs": [
    {
     "name": "stdout",
     "output_type": "stream",
     "text": [
      "[ 0 20 20 20 20 20]\n"
     ]
    }
   ],
   "source": [
    "print(np.bincount(np.int16(xtrain[:,-1])))    #تعداد پنجره در هر کلاس از 0 تا 17"
   ]
  },
  {
   "cell_type": "code",
   "execution_count": 8,
   "metadata": {},
   "outputs": [
    {
     "data": {
      "text/plain": [
       "array([1., 1., 1., 1., 1., 1., 1., 1., 1., 1., 1., 1., 1., 1., 1., 1., 1.,\n",
       "       1., 1., 1., 2., 2., 2., 2., 2., 2., 2., 2., 2., 2., 2., 2., 2., 2.,\n",
       "       2., 2., 2., 2., 2., 2., 3., 3., 3., 3., 3., 3., 3., 3., 3., 3., 3.,\n",
       "       3., 3., 3., 3., 3., 3., 3., 3., 3., 4., 4., 4., 4., 4., 4., 4., 4.,\n",
       "       4., 4., 4., 4., 4., 4., 4., 4., 4., 4., 4., 4., 5., 5., 5., 5., 5.,\n",
       "       5., 5., 5., 5., 5., 5., 5., 5., 5., 5., 5., 5., 5., 5., 5.])"
      ]
     },
     "execution_count": 8,
     "metadata": {},
     "output_type": "execute_result"
    }
   ],
   "source": [
    "xtrain[:,-1]"
   ]
  },
  {
   "cell_type": "code",
   "execution_count": 9,
   "metadata": {},
   "outputs": [],
   "source": [
    "mx_aug=np.max(xtrain[:,:-1])\n",
    "mx=np.max(ecg[:,:-1])\n",
    "mn_aug=np.min(xtrain[:,:-1])\n",
    "mn=np.min(ecg[:,:-1])\n",
    "\n",
    "#for i in range (1,cls_num+1):             #نرمالسازی داده های افزایشی\n",
    "xtrain[:,:-1]= 2*(xtrain[:,:-1]-mn_aug)/(mx_aug - mn_aug) - 1"
   ]
  },
  {
   "cell_type": "code",
   "execution_count": 10,
   "metadata": {},
   "outputs": [
    {
     "name": "stdout",
     "output_type": "stream",
     "text": [
      "min trn = -1.0\n",
      "max trn = 1.0\n"
     ]
    }
   ],
   "source": [
    "print('min trn =', np.min(xtrain[:,:-1]))\n",
    "print('max trn =', np.max(xtrain[:,:-1]))"
   ]
  },
  {
   "cell_type": "markdown",
   "metadata": {},
   "source": [
    "<h3><center><div style=\"direction:rtl;font-family:B Nazanin\">Test Windows</div></center></h1>"
   ]
  },
  {
   "cell_type": "code",
   "execution_count": 11,
   "metadata": {},
   "outputs": [],
   "source": [
    "wndws_test=np.empty((0,len(wndws1[0])), float)\n",
    "i=0\n",
    "windws=np.array([])\n",
    "for cls in range (1,cls_num+1):                                 #ساخت پنجره های داده های آموزش اصلی\n",
    "    vars()['wndws_tst'+str(cls)]=np.empty((0,len(wndws1[0])), float)\n",
    "    vars()['wndws_tst'+str(cls)]=np.append(vars()['wndws_tst'+str(cls)],vars()['ecg_tst'+str(cls)],axis=0)   "
   ]
  },
  {
   "cell_type": "code",
   "execution_count": 12,
   "metadata": {},
   "outputs": [
    {
     "name": "stdout",
     "output_type": "stream",
     "text": [
      "\n",
      " cls 1  >> \n",
      "max magnitude class 1  =  3.2039465056718415\n",
      "min magnitude class 1  =  -2.884115893278336\n",
      "after normalizing >>\n",
      "max magnitude class 1  =  1.1597146056049317\n",
      "min magnitude class 1  =  -0.9976296270354009\n",
      "\n",
      " cls 2  >> \n",
      "max magnitude class 2  =  2.153250951263272\n",
      "min magnitude class 2  =  -3.157946032386919\n",
      "after normalizing >>\n",
      "max magnitude class 2  =  0.7873938496686861\n",
      "min magnitude class 2  =  -1.094663105442401\n",
      "\n",
      " cls 3  >> \n",
      "max magnitude class 3  =  3.295854596189708\n",
      "min magnitude class 3  =  -2.6739892211512197\n",
      "after normalizing >>\n",
      "max magnitude class 3  =  1.1922828310958362\n",
      "min magnitude class 3  =  -0.9231698836011828\n",
      "\n",
      " cls 4  >> \n",
      "max magnitude class 4  =  3.036578170025929\n",
      "min magnitude class 4  =  -3.27023895113252\n",
      "after normalizing >>\n",
      "max magnitude class 4  =  1.1004065548703363\n",
      "min magnitude class 4  =  -1.1344548264773144\n",
      "\n",
      " cls 5  >> \n",
      "max magnitude class 5  =  2.7802354543354624\n",
      "min magnitude class 5  =  -2.65929182437955\n",
      "after normalizing >>\n",
      "max magnitude class 5  =  1.0095698578993013\n",
      "min magnitude class 5  =  -0.9179617661276076\n",
      "each class and its windows =\n",
      "1 458\t2 654\t3 418\t4 581\t5 314\t\n",
      " max instance in classes of test windows = 654\n"
     ]
    }
   ],
   "source": [
    "#print(np.max(wndws_tst))\n",
    "for i in range (1,cls_num+1):                # Normalization test windows\n",
    "    cls=i\n",
    "    print('\\n cls', i, ' >> ')\n",
    "    print('max magnitude class', i , ' = ' ,np.max(vars()['wndws_tst'+str(cls)][:,:-1]))\n",
    "    print('min magnitude class', i , ' = ' ,np.min(vars()['wndws_tst'+str(cls)][:,:-1]))\n",
    "\n",
    "    vars()['wndws_tst'+str(i)][:,:-1]= 2*(vars()['wndws_tst'+str(i)][:,:-1]-mn_aug)/(mx_aug - mn_aug) - 1\n",
    "    \n",
    "    print('after normalizing >>')\n",
    "    print('max magnitude class', i , ' = ' ,np.max(vars()['wndws_tst'+str(cls)][:,:-1]))\n",
    "    print('min magnitude class', i , ' = ' ,np.min(vars()['wndws_tst'+str(cls)][:,:-1]))\n",
    "    \n",
    "print(\"each class and its windows =\")                    #تجمیع کلاس های تست\n",
    "cls_wndws=np.array([])\n",
    "for cls in range (1,cls_num+1):                                # آرایه ی تعداد پنجره ی هر کلاس\n",
    "    wns=len(vars()['wndws_tst'+str(cls)])\n",
    "    cls_wndws=np.append(cls_wndws,wns)\n",
    "    print(cls, wns, end='\\t')\n",
    "    wndws_test=np.append(wndws_test,vars()['wndws_tst'+str(cls)],axis=0)\n",
    "    \n",
    "mx_wndws=int(np.max(cls_wndws))                        # حداکثر تعداد پنجره ی موجود بین کلاس ها\n",
    "print('\\n max instance in classes of test windows =', mx_wndws)"
   ]
  },
  {
   "cell_type": "code",
   "execution_count": 13,
   "metadata": {},
   "outputs": [
    {
     "name": "stdout",
     "output_type": "stream",
     "text": [
      "min tst = -1.1344548264773144\n",
      "max tst = 1.1922828310958362\n"
     ]
    }
   ],
   "source": [
    "print('min tst =', np.min(wndws_test[:,:-1]))\n",
    "print('max tst =', np.max(wndws_test[:,:-1]))"
   ]
  },
  {
   "cell_type": "code",
   "execution_count": 14,
   "metadata": {},
   "outputs": [
    {
     "data": {
      "text/plain": [
       "2425"
      ]
     },
     "execution_count": 14,
     "metadata": {},
     "output_type": "execute_result"
    }
   ],
   "source": [
    "len(wndws_test)"
   ]
  },
  {
   "cell_type": "code",
   "execution_count": 15,
   "metadata": {},
   "outputs": [
    {
     "data": {
      "text/plain": [
       "(2425, 481)"
      ]
     },
     "execution_count": 15,
     "metadata": {},
     "output_type": "execute_result"
    }
   ],
   "source": [
    "np.shape(wndws_test)"
   ]
  },
  {
   "cell_type": "code",
   "execution_count": 16,
   "metadata": {},
   "outputs": [],
   "source": [
    "Xtest=wndws_test[:,:-1]\n",
    "ytest=np.int16(wndws_test[:,-1])"
   ]
  },
  {
   "cell_type": "code",
   "execution_count": 17,
   "metadata": {},
   "outputs": [
    {
     "name": "stdout",
     "output_type": "stream",
     "text": [
      "array([1, 1, 1, 1, 1, 1, 1, 1, 1, 1, 1, 1, 1, 1, 1, 1, 1, 1, 1, 1, 1, 1,\n",
      "       1, 1, 1, 1, 1, 1, 1, 1, 1, 1, 1, 1, 1, 1, 1, 1, 1, 1, 1, 1, 1, 1,\n",
      "       1, 1, 1, 1, 1, 1, 1, 1, 1, 1, 1, 1, 1, 1, 1, 1, 1, 1, 1, 1, 1, 1,\n",
      "       1, 1, 1, 1, 1, 1, 1, 1, 1, 1, 1, 1, 1, 1, 1, 1, 1, 1, 1, 1, 1, 1,\n",
      "       1, 1, 1, 1, 1, 1, 1, 1, 1, 1, 1, 1, 1, 1, 1, 1, 1, 1, 1, 1, 1, 1,\n",
      "       1, 1, 1, 1, 1, 1, 1, 1, 1, 1, 1, 1, 1, 1, 1, 1, 1, 1, 1, 1, 1, 1,\n",
      "       1, 1, 1, 1, 1, 1, 1, 1, 1, 1, 1, 1, 1, 1, 1, 1, 1, 1, 1, 1, 1, 1,\n",
      "       1, 1, 1, 1, 1, 1, 1, 1, 1, 1, 1, 1, 1, 1, 1, 1, 1, 1, 1, 1, 1, 1,\n",
      "       1, 1, 1, 1, 1, 1, 1, 1, 1, 1, 1, 1, 1, 1, 1, 1, 1, 1, 1, 1, 1, 1,\n",
      "       1, 1, 1, 1, 1, 1, 1, 1, 1, 1, 1, 1, 1, 1, 1, 1, 1, 1, 1, 1, 1, 1,\n",
      "       1, 1, 1, 1, 1, 1, 1, 1, 1, 1, 1, 1, 1, 1, 1, 1, 1, 1, 1, 1, 1, 1,\n",
      "       1, 1, 1, 1, 1, 1, 1, 1, 1, 1, 1, 1, 1, 1, 1, 1, 1, 1, 1, 1, 1, 1,\n",
      "       1, 1, 1, 1, 1, 1, 1, 1, 1, 1, 1, 1, 1, 1, 1, 1, 1, 1, 1, 1, 1, 1,\n",
      "       1, 1, 1, 1, 1, 1, 1, 1, 1, 1, 1, 1, 1, 1, 1, 1, 1, 1, 1, 1, 1, 1,\n",
      "       1, 1, 1, 1, 1, 1, 1, 1, 1, 1, 1, 1, 1, 1, 1, 1, 1, 1, 1, 1, 1, 1,\n",
      "       1, 1, 1, 1, 1, 1, 1, 1, 1, 1, 1, 1, 1, 1, 1, 1, 1, 1, 1, 1, 1, 1,\n",
      "       1, 1, 1, 1, 1, 1, 1, 1, 1, 1, 1, 1, 1, 1, 1, 1, 1, 1, 1, 1, 1, 1,\n",
      "       1, 1, 1, 1, 1, 1, 1, 1, 1, 1, 1, 1, 1, 1, 1, 1, 1, 1, 1, 1, 1, 1,\n",
      "       1, 1, 1, 1, 1, 1, 1, 1, 1, 1, 1, 1, 1, 1, 1, 1, 1, 1, 1, 1, 1, 1,\n",
      "       1, 1, 1, 1, 1, 1, 1, 1, 1, 1, 1, 1, 1, 1, 1, 1, 1, 1, 1, 1, 1, 1,\n",
      "       1, 1, 1, 1, 1, 1, 1, 1, 1, 1, 1, 1, 1, 1, 1, 1, 1, 1, 2, 2, 2, 2,\n",
      "       2, 2, 2, 2, 2, 2, 2, 2, 2, 2, 2, 2, 2, 2, 2, 2, 2, 2, 2, 2, 2, 2,\n",
      "       2, 2, 2, 2, 2, 2, 2, 2, 2, 2, 2, 2, 2, 2, 2, 2, 2, 2, 2, 2, 2, 2,\n",
      "       2, 2, 2, 2, 2, 2, 2, 2, 2, 2, 2, 2, 2, 2, 2, 2, 2, 2, 2, 2, 2, 2,\n",
      "       2, 2, 2, 2, 2, 2, 2, 2, 2, 2, 2, 2, 2, 2, 2, 2, 2, 2, 2, 2, 2, 2,\n",
      "       2, 2, 2, 2, 2, 2, 2, 2, 2, 2, 2, 2, 2, 2, 2, 2, 2, 2, 2, 2, 2, 2,\n",
      "       2, 2, 2, 2, 2, 2, 2, 2, 2, 2, 2, 2, 2, 2, 2, 2, 2, 2, 2, 2, 2, 2,\n",
      "       2, 2, 2, 2, 2, 2, 2, 2, 2, 2, 2, 2, 2, 2, 2, 2, 2, 2, 2, 2, 2, 2,\n",
      "       2, 2, 2, 2, 2, 2, 2, 2, 2, 2, 2, 2, 2, 2, 2, 2, 2, 2, 2, 2, 2, 2,\n",
      "       2, 2, 2, 2, 2, 2, 2, 2, 2, 2, 2, 2, 2, 2, 2, 2, 2, 2, 2, 2, 2, 2,\n",
      "       2, 2, 2, 2, 2, 2, 2, 2, 2, 2, 2, 2, 2, 2, 2, 2, 2, 2, 2, 2, 2, 2,\n",
      "       2, 2, 2, 2, 2, 2, 2, 2, 2, 2, 2, 2, 2, 2, 2, 2, 2, 2, 2, 2, 2, 2,\n",
      "       2, 2, 2, 2, 2, 2, 2, 2, 2, 2, 2, 2, 2, 2, 2, 2, 2, 2, 2, 2, 2, 2,\n",
      "       2, 2, 2, 2, 2, 2, 2, 2, 2, 2, 2, 2, 2, 2, 2, 2, 2, 2, 2, 2, 2, 2,\n",
      "       2, 2, 2, 2, 2, 2, 2, 2, 2, 2, 2, 2, 2, 2, 2, 2, 2, 2, 2, 2, 2, 2,\n",
      "       2, 2, 2, 2, 2, 2, 2, 2, 2, 2, 2, 2, 2, 2, 2, 2, 2, 2, 2, 2, 2, 2,\n",
      "       2, 2, 2, 2, 2, 2, 2, 2, 2, 2, 2, 2, 2, 2, 2, 2, 2, 2, 2, 2, 2, 2,\n",
      "       2, 2, 2, 2, 2, 2, 2, 2, 2, 2, 2, 2, 2, 2, 2, 2, 2, 2, 2, 2, 2, 2,\n",
      "       2, 2, 2, 2, 2, 2, 2, 2, 2, 2, 2, 2, 2, 2, 2, 2, 2, 2, 2, 2, 2, 2,\n",
      "       2, 2, 2, 2, 2, 2, 2, 2, 2, 2, 2, 2, 2, 2, 2, 2, 2, 2, 2, 2, 2, 2,\n",
      "       2, 2, 2, 2, 2, 2, 2, 2, 2, 2, 2, 2, 2, 2, 2, 2, 2, 2, 2, 2, 2, 2,\n",
      "       2, 2, 2, 2, 2, 2, 2, 2, 2, 2, 2, 2, 2, 2, 2, 2, 2, 2, 2, 2, 2, 2,\n",
      "       2, 2, 2, 2, 2, 2, 2, 2, 2, 2, 2, 2, 2, 2, 2, 2, 2, 2, 2, 2, 2, 2,\n",
      "       2, 2, 2, 2, 2, 2, 2, 2, 2, 2, 2, 2, 2, 2, 2, 2, 2, 2, 2, 2, 2, 2,\n",
      "       2, 2, 2, 2, 2, 2, 2, 2, 2, 2, 2, 2, 2, 2, 2, 2, 2, 2, 2, 2, 2, 2,\n",
      "       2, 2, 2, 2, 2, 2, 2, 2, 2, 2, 2, 2, 2, 2, 2, 2, 2, 2, 2, 2, 2, 2,\n",
      "       2, 2, 2, 2, 2, 2, 2, 2, 2, 2, 2, 2, 2, 2, 2, 2, 2, 2, 2, 2, 2, 2,\n",
      "       2, 2, 2, 2, 2, 2, 2, 2, 2, 2, 2, 2, 2, 2, 2, 2, 2, 2, 2, 2, 2, 2,\n",
      "       2, 2, 2, 2, 2, 2, 2, 2, 2, 2, 2, 2, 2, 2, 2, 2, 2, 2, 2, 2, 2, 2,\n",
      "       2, 2, 2, 2, 2, 2, 2, 2, 2, 2, 2, 2, 2, 2, 2, 2, 2, 2, 2, 2, 2, 2,\n",
      "       2, 2, 2, 2, 2, 2, 2, 2, 2, 2, 2, 2, 3, 3, 3, 3, 3, 3, 3, 3, 3, 3,\n",
      "       3, 3, 3, 3, 3, 3, 3, 3, 3, 3, 3, 3, 3, 3, 3, 3, 3, 3, 3, 3, 3, 3,\n",
      "       3, 3, 3, 3, 3, 3, 3, 3, 3, 3, 3, 3, 3, 3, 3, 3, 3, 3, 3, 3, 3, 3,\n",
      "       3, 3, 3, 3, 3, 3, 3, 3, 3, 3, 3, 3, 3, 3, 3, 3, 3, 3, 3, 3, 3, 3,\n",
      "       3, 3, 3, 3, 3, 3, 3, 3, 3, 3, 3, 3, 3, 3, 3, 3, 3, 3, 3, 3, 3, 3,\n",
      "       3, 3, 3, 3, 3, 3, 3, 3, 3, 3, 3, 3, 3, 3, 3, 3, 3, 3, 3, 3, 3, 3,\n",
      "       3, 3, 3, 3, 3, 3, 3, 3, 3, 3, 3, 3, 3, 3, 3, 3, 3, 3, 3, 3, 3, 3,\n",
      "       3, 3, 3, 3, 3, 3, 3, 3, 3, 3, 3, 3, 3, 3, 3, 3, 3, 3, 3, 3, 3, 3,\n",
      "       3, 3, 3, 3, 3, 3, 3, 3, 3, 3, 3, 3, 3, 3, 3, 3, 3, 3, 3, 3, 3, 3,\n",
      "       3, 3, 3, 3, 3, 3, 3, 3, 3, 3, 3, 3, 3, 3, 3, 3, 3, 3, 3, 3, 3, 3,\n",
      "       3, 3, 3, 3, 3, 3, 3, 3, 3, 3, 3, 3, 3, 3, 3, 3, 3, 3, 3, 3, 3, 3,\n",
      "       3, 3, 3, 3, 3, 3, 3, 3, 3, 3, 3, 3, 3, 3, 3, 3, 3, 3, 3, 3, 3, 3,\n",
      "       3, 3, 3, 3, 3, 3, 3, 3, 3, 3, 3, 3, 3, 3, 3, 3, 3, 3, 3, 3, 3, 3,\n",
      "       3, 3, 3, 3, 3, 3, 3, 3, 3, 3, 3, 3, 3, 3, 3, 3, 3, 3, 3, 3, 3, 3,\n",
      "       3, 3, 3, 3, 3, 3, 3, 3, 3, 3, 3, 3, 3, 3, 3, 3, 3, 3, 3, 3, 3, 3,\n",
      "       3, 3, 3, 3, 3, 3, 3, 3, 3, 3, 3, 3, 3, 3, 3, 3, 3, 3, 3, 3, 3, 3,\n",
      "       3, 3, 3, 3, 3, 3, 3, 3, 3, 3, 3, 3, 3, 3, 3, 3, 3, 3, 3, 3, 3, 3,\n",
      "       3, 3, 3, 3, 3, 3, 3, 3, 3, 3, 3, 3, 3, 3, 3, 3, 3, 3, 3, 3, 3, 3,\n",
      "       3, 3, 3, 3, 3, 3, 3, 3, 3, 3, 3, 3, 3, 3, 3, 3, 3, 3, 3, 3, 3, 3,\n",
      "       3, 3, 3, 3, 3, 3, 3, 3, 3, 3, 3, 3, 4, 4, 4, 4, 4, 4, 4, 4, 4, 4,\n",
      "       4, 4, 4, 4, 4, 4, 4, 4, 4, 4, 4, 4, 4, 4, 4, 4, 4, 4, 4, 4, 4, 4,\n",
      "       4, 4, 4, 4, 4, 4, 4, 4, 4, 4, 4, 4, 4, 4, 4, 4, 4, 4, 4, 4, 4, 4,\n",
      "       4, 4, 4, 4, 4, 4, 4, 4, 4, 4, 4, 4, 4, 4, 4, 4, 4, 4, 4, 4, 4, 4,\n",
      "       4, 4, 4, 4, 4, 4, 4, 4, 4, 4, 4, 4, 4, 4, 4, 4, 4, 4, 4, 4, 4, 4,\n",
      "       4, 4, 4, 4, 4, 4, 4, 4, 4, 4, 4, 4, 4, 4, 4, 4, 4, 4, 4, 4, 4, 4,\n",
      "       4, 4, 4, 4, 4, 4, 4, 4, 4, 4, 4, 4, 4, 4, 4, 4, 4, 4, 4, 4, 4, 4,\n",
      "       4, 4, 4, 4, 4, 4, 4, 4, 4, 4, 4, 4, 4, 4, 4, 4, 4, 4, 4, 4, 4, 4,\n",
      "       4, 4, 4, 4, 4, 4, 4, 4, 4, 4, 4, 4, 4, 4, 4, 4, 4, 4, 4, 4, 4, 4,\n",
      "       4, 4, 4, 4, 4, 4, 4, 4, 4, 4, 4, 4, 4, 4, 4, 4, 4, 4, 4, 4, 4, 4,\n",
      "       4, 4, 4, 4, 4, 4, 4, 4, 4, 4, 4, 4, 4, 4, 4, 4, 4, 4, 4, 4, 4, 4,\n",
      "       4, 4, 4, 4, 4, 4, 4, 4, 4, 4, 4, 4, 4, 4, 4, 4, 4, 4, 4, 4, 4, 4,\n",
      "       4, 4, 4, 4, 4, 4, 4, 4, 4, 4, 4, 4, 4, 4, 4, 4, 4, 4, 4, 4, 4, 4,\n",
      "       4, 4, 4, 4, 4, 4, 4, 4, 4, 4, 4, 4, 4, 4, 4, 4, 4, 4, 4, 4, 4, 4,\n",
      "       4, 4, 4, 4, 4, 4, 4, 4, 4, 4, 4, 4, 4, 4, 4, 4, 4, 4, 4, 4, 4, 4,\n",
      "       4, 4, 4, 4, 4, 4, 4, 4, 4, 4, 4, 4, 4, 4, 4, 4, 4, 4, 4, 4, 4, 4,\n",
      "       4, 4, 4, 4, 4, 4, 4, 4, 4, 4, 4, 4, 4, 4, 4, 4, 4, 4, 4, 4, 4, 4,\n",
      "       4, 4, 4, 4, 4, 4, 4, 4, 4, 4, 4, 4, 4, 4, 4, 4, 4, 4, 4, 4, 4, 4,\n",
      "       4, 4, 4, 4, 4, 4, 4, 4, 4, 4, 4, 4, 4, 4, 4, 4, 4, 4, 4, 4, 4, 4,\n",
      "       4, 4, 4, 4, 4, 4, 4, 4, 4, 4, 4, 4, 4, 4, 4, 4, 4, 4, 4, 4, 4, 4,\n",
      "       4, 4, 4, 4, 4, 4, 4, 4, 4, 4, 4, 4, 4, 4, 4, 4, 4, 4, 4, 4, 4, 4,\n",
      "       4, 4, 4, 4, 4, 4, 4, 4, 4, 4, 4, 4, 4, 4, 4, 4, 4, 4, 4, 4, 4, 4,\n",
      "       4, 4, 4, 4, 4, 4, 4, 4, 4, 4, 4, 4, 4, 4, 4, 4, 4, 4, 4, 4, 4, 4,\n",
      "       4, 4, 4, 4, 4, 4, 4, 4, 4, 4, 4, 4, 4, 4, 4, 4, 4, 4, 4, 4, 4, 4,\n",
      "       4, 4, 4, 4, 4, 4, 4, 4, 4, 4, 4, 4, 4, 4, 4, 4, 4, 4, 4, 4, 4, 4,\n",
      "       4, 4, 4, 4, 4, 4, 4, 4, 4, 4, 4, 4, 4, 4, 4, 4, 4, 4, 4, 4, 4, 4,\n",
      "       4, 4, 4, 4, 4, 4, 4, 4, 4, 4, 4, 4, 4, 4, 4, 4, 4, 4, 4, 4, 4, 5,\n",
      "       5, 5, 5, 5, 5, 5, 5, 5, 5, 5, 5, 5, 5, 5, 5, 5, 5, 5, 5, 5, 5, 5,\n",
      "       5, 5, 5, 5, 5, 5, 5, 5, 5, 5, 5, 5, 5, 5, 5, 5, 5, 5, 5, 5, 5, 5,\n",
      "       5, 5, 5, 5, 5, 5, 5, 5, 5, 5, 5, 5, 5, 5, 5, 5, 5, 5, 5, 5, 5, 5,\n",
      "       5, 5, 5, 5, 5, 5, 5, 5, 5, 5, 5, 5, 5, 5, 5, 5, 5, 5, 5, 5, 5, 5,\n",
      "       5, 5, 5, 5, 5, 5, 5, 5, 5, 5, 5, 5, 5, 5, 5, 5, 5, 5, 5, 5, 5, 5,\n",
      "       5, 5, 5, 5, 5, 5, 5, 5, 5, 5, 5, 5, 5, 5, 5, 5, 5, 5, 5, 5, 5, 5,\n",
      "       5, 5, 5, 5, 5, 5, 5, 5, 5, 5, 5, 5, 5, 5, 5, 5, 5, 5, 5, 5, 5, 5,\n",
      "       5, 5, 5, 5, 5, 5, 5, 5, 5, 5, 5, 5, 5, 5, 5, 5, 5, 5, 5, 5, 5, 5,\n",
      "       5, 5, 5, 5, 5, 5, 5, 5, 5, 5, 5, 5, 5, 5, 5, 5, 5, 5, 5, 5, 5, 5,\n",
      "       5, 5, 5, 5, 5, 5, 5, 5, 5, 5, 5, 5, 5, 5, 5, 5, 5, 5, 5, 5, 5, 5,\n",
      "       5, 5, 5, 5, 5, 5, 5, 5, 5, 5, 5, 5, 5, 5, 5, 5, 5, 5, 5, 5, 5, 5,\n",
      "       5, 5, 5, 5, 5, 5, 5, 5, 5, 5, 5, 5, 5, 5, 5, 5, 5, 5, 5, 5, 5, 5,\n",
      "       5, 5, 5, 5, 5, 5, 5, 5, 5, 5, 5, 5, 5, 5, 5, 5, 5, 5, 5, 5, 5, 5,\n",
      "       5, 5, 5, 5, 5, 5, 5, 5, 5, 5, 5, 5, 5, 5, 5, 5, 5, 5, 5, 5, 5, 5,\n",
      "       5, 5, 5, 5, 5], dtype=int16)\n"
     ]
    }
   ],
   "source": [
    "fullprint(ytest)"
   ]
  },
  {
   "cell_type": "markdown",
   "metadata": {},
   "source": [
    "<h3><center><div style=\"direction:rtl;font-family:B Nazanin\">Train Windows</div></center></h1>"
   ]
  },
  {
   "cell_type": "code",
   "execution_count": 18,
   "metadata": {},
   "outputs": [
    {
     "data": {
      "text/plain": [
       "'\\nytestt=np.int32(np.array([ytest]).T)\\ntestx=np.concatenate((Xtest, ytestt), axis=1)\\ntestx=np.random.permutation(testx)\\nXtest=np.int32(testx[:,:-1])\\nytest=np.int32(testx[:,-1])'"
      ]
     },
     "execution_count": 18,
     "metadata": {},
     "output_type": "execute_result"
    }
   ],
   "source": [
    "#ytraint=np.int32(np.array([ytrain]).T)\n",
    "#trainx=np.concatenate((Xtrain, ytraint), axis=1)\n",
    "trainx=np.random.permutation(xtrain)\n",
    "Xtrain=np.array(trainx[:,:-1])\n",
    "ytrain=np.int16(trainx[:,-1])\n",
    "'''\n",
    "ytestt=np.int32(np.array([ytest]).T)\n",
    "testx=np.concatenate((Xtest, ytestt), axis=1)\n",
    "testx=np.random.permutation(testx)\n",
    "Xtest=np.int32(testx[:,:-1])\n",
    "ytest=np.int32(testx[:,-1])'''"
   ]
  },
  {
   "cell_type": "code",
   "execution_count": 19,
   "metadata": {},
   "outputs": [
    {
     "data": {
      "text/plain": [
       "(20, 481)"
      ]
     },
     "execution_count": 19,
     "metadata": {},
     "output_type": "execute_result"
    }
   ],
   "source": [
    "np.shape(wndws1)"
   ]
  },
  {
   "cell_type": "markdown",
   "metadata": {},
   "source": [
    "<h3><center><div style=\"direction:rtl;font-family:B Nazanin\">Validation Windows</div></center></h1>"
   ]
  },
  {
   "cell_type": "code",
   "execution_count": 20,
   "metadata": {},
   "outputs": [],
   "source": [
    "Xvalid=np.array(Xtrain)\n",
    "yvalid=np.array(ytrain)"
   ]
  },
  {
   "cell_type": "markdown",
   "metadata": {},
   "source": [
    "<h1><center><div style=\"direction:rtl;font-family:B Nazanin\">CNN And UnBalanced RAW Data</div></center></h1>\n",
    "<h1><center><div style=\"direction:rtl;font-family:Arial\">Cross Entropy Loss Function</div></center></h1>"
   ]
  },
  {
   "cell_type": "code",
   "execution_count": 21,
   "metadata": {
    "scrolled": true
   },
   "outputs": [
    {
     "name": "stdout",
     "output_type": "stream",
     "text": [
      "X_train =>  (100, 480)\n",
      "y_train =>  (100,)\n",
      "X_test  =>  (2425, 480)\n",
      "y_test  =>  (2425,)\n",
      "X_valid  =>  (100, 480)\n",
      "y_valid  =>  (100,)\n"
     ]
    }
   ],
   "source": [
    "X_train=np.array(Xtrain)\n",
    "y_train=np.array(ytrain)\n",
    "X_test=np.array(Xtest)\n",
    "y_test=np.array(ytest)\n",
    "X_valid=np.array(Xtrain)\n",
    "y_valid=np.array(ytrain)\n",
    "print('X_train => ', X_train.shape)\n",
    "print('y_train => ', y_train.shape)\n",
    "print('X_test  => ', X_test.shape)\n",
    "print('y_test  => ', y_test.shape)\n",
    "print('X_valid  => ', X_valid.shape)\n",
    "print('y_valid  => ', y_valid.shape)"
   ]
  },
  {
   "cell_type": "code",
   "execution_count": 22,
   "metadata": {},
   "outputs": [
    {
     "name": "stdout",
     "output_type": "stream",
     "text": [
      "!!!!!! class Should start from 0=Zero !!!!!!\n",
      "!!!!!!   Reduce 1 From Class Number    !!!!!\n",
      "final labels= {0, 1, 2, 3, 4}\n"
     ]
    }
   ],
   "source": [
    "if min(y_train)==0:\n",
    "    print(' class was started from 0=Zero ')\n",
    "else:\n",
    "    print('!!!!!! class Should start from 0=Zero !!!!!!')\n",
    "    print(\"!!!!!!   Reduce 1 From Class Number    !!!!!\")\n",
    "    y_train=np.array(y_train-1)\n",
    "    y_test=np.array(y_test-1)\n",
    "    y_valid=np.array(y_valid-1)\n",
    "print('final labels=',set(y_train))"
   ]
  },
  {
   "cell_type": "code",
   "execution_count": 23,
   "metadata": {},
   "outputs": [],
   "source": [
    "y_train_cat=to_categorical(y_train)\n",
    "y_valid_cat=to_categorical(y_valid)\n",
    "y_test_cat=to_categorical(y_test)\n",
    "\n",
    "\n",
    "X_train = np.expand_dims(X_train, axis=2)\n",
    "X_valid = np.expand_dims(X_valid, axis=2)\n",
    "X_test = np.expand_dims(X_test, axis=2)\n",
    "#y_train=np.transpose([y_train])"
   ]
  },
  {
   "cell_type": "code",
   "execution_count": 24,
   "metadata": {
    "scrolled": true
   },
   "outputs": [
    {
     "name": "stdout",
     "output_type": "stream",
     "text": [
      "Epoch 1/1000\n",
      "5/5 [==============================] - 3s 55ms/step - loss: 2.3164 - accuracy: 0.3500 - val_loss: 1.5754 - val_accuracy: 0.2000\n",
      "Epoch 2/1000\n",
      "5/5 [==============================] - 0s 19ms/step - loss: 0.8694 - accuracy: 0.7200 - val_loss: 1.4709 - val_accuracy: 0.4600\n",
      "Epoch 3/1000\n",
      "5/5 [==============================] - 0s 18ms/step - loss: 0.6087 - accuracy: 0.7700 - val_loss: 1.3840 - val_accuracy: 0.7200\n",
      "Epoch 4/1000\n",
      "5/5 [==============================] - 0s 21ms/step - loss: 0.6306 - accuracy: 0.7400 - val_loss: 1.3808 - val_accuracy: 0.8400\n",
      "Epoch 5/1000\n",
      "5/5 [==============================] - 0s 18ms/step - loss: 0.3769 - accuracy: 0.8500 - val_loss: 1.3246 - val_accuracy: 0.7700\n",
      "Epoch 6/1000\n",
      "5/5 [==============================] - 0s 20ms/step - loss: 0.6121 - accuracy: 0.7400 - val_loss: 1.3678 - val_accuracy: 0.9000\n",
      "Epoch 7/1000\n",
      "5/5 [==============================] - 0s 18ms/step - loss: 0.3190 - accuracy: 0.8700 - val_loss: 1.3177 - val_accuracy: 0.7000\n",
      "Epoch 8/1000\n",
      "5/5 [==============================] - 0s 17ms/step - loss: 0.3083 - accuracy: 0.8200 - val_loss: 1.3130 - val_accuracy: 0.8400\n",
      "Epoch 9/1000\n",
      "5/5 [==============================] - 0s 19ms/step - loss: 0.2105 - accuracy: 0.8900 - val_loss: 1.2765 - val_accuracy: 0.9500\n",
      "Epoch 10/1000\n",
      "5/5 [==============================] - 0s 18ms/step - loss: 0.1249 - accuracy: 0.9400 - val_loss: 1.1779 - val_accuracy: 0.9400\n",
      "Epoch 11/1000\n",
      "5/5 [==============================] - 0s 18ms/step - loss: 0.1208 - accuracy: 0.9400 - val_loss: 1.1426 - val_accuracy: 0.8300\n",
      "Epoch 12/1000\n",
      "5/5 [==============================] - 0s 17ms/step - loss: 0.1624 - accuracy: 0.9500 - val_loss: 1.1440 - val_accuracy: 0.9500\n",
      "Epoch 13/1000\n",
      "5/5 [==============================] - 0s 17ms/step - loss: 0.2058 - accuracy: 0.9200 - val_loss: 1.1387 - val_accuracy: 0.9400\n",
      "Epoch 14/1000\n",
      "5/5 [==============================] - 0s 17ms/step - loss: 0.0938 - accuracy: 0.9600 - val_loss: 1.0767 - val_accuracy: 0.8600\n",
      "Epoch 15/1000\n",
      "5/5 [==============================] - 0s 21ms/step - loss: 0.3585 - accuracy: 0.8500 - val_loss: 1.2649 - val_accuracy: 0.9900\n",
      "Epoch 16/1000\n",
      "5/5 [==============================] - 0s 20ms/step - loss: 0.0752 - accuracy: 0.9700 - val_loss: 1.1422 - val_accuracy: 0.8700\n",
      "Epoch 17/1000\n",
      "5/5 [==============================] - 0s 21ms/step - loss: 0.0542 - accuracy: 0.9900 - val_loss: 1.0149 - val_accuracy: 1.0000\n",
      "Epoch 18/1000\n",
      "5/5 [==============================] - 0s 17ms/step - loss: 0.0242 - accuracy: 0.9900 - val_loss: 1.0029 - val_accuracy: 0.9900\n",
      "Epoch 19/1000\n",
      "5/5 [==============================] - 0s 17ms/step - loss: 0.0618 - accuracy: 0.9800 - val_loss: 1.0053 - val_accuracy: 0.8100\n",
      "Epoch 20/1000\n",
      "5/5 [==============================] - 0s 19ms/step - loss: 0.2159 - accuracy: 0.9400 - val_loss: 0.9679 - val_accuracy: 0.9600\n",
      "Epoch 21/1000\n",
      "5/5 [==============================] - 0s 17ms/step - loss: 0.0907 - accuracy: 0.9700 - val_loss: 0.9631 - val_accuracy: 0.8500\n",
      "Epoch 22/1000\n",
      "5/5 [==============================] - 0s 17ms/step - loss: 0.0861 - accuracy: 0.9600 - val_loss: 1.0034 - val_accuracy: 1.0000\n",
      "Epoch 23/1000\n",
      "5/5 [==============================] - 0s 18ms/step - loss: 0.0098 - accuracy: 1.0000 - val_loss: 0.8650 - val_accuracy: 0.9900\n",
      "Epoch 24/1000\n",
      "5/5 [==============================] - 0s 17ms/step - loss: 0.0055 - accuracy: 1.0000 - val_loss: 0.8149 - val_accuracy: 0.9900\n",
      "Epoch 25/1000\n",
      "5/5 [==============================] - 0s 17ms/step - loss: 0.0121 - accuracy: 1.0000 - val_loss: 0.7300 - val_accuracy: 1.0000\n",
      "Epoch 26/1000\n",
      "5/5 [==============================] - 0s 17ms/step - loss: 0.0019 - accuracy: 1.0000 - val_loss: 0.6798 - val_accuracy: 1.0000\n",
      "Epoch 27/1000\n",
      "5/5 [==============================] - 0s 17ms/step - loss: 8.2228e-04 - accuracy: 1.0000 - val_loss: 0.6237 - val_accuracy: 1.0000\n",
      "Epoch 28/1000\n",
      "5/5 [==============================] - 0s 19ms/step - loss: 4.4682e-04 - accuracy: 1.0000 - val_loss: 0.5838 - val_accuracy: 1.0000\n",
      "Epoch 29/1000\n",
      "5/5 [==============================] - 0s 20ms/step - loss: 3.2314e-04 - accuracy: 1.0000 - val_loss: 0.5424 - val_accuracy: 1.0000\n",
      "Epoch 30/1000\n",
      "5/5 [==============================] - 0s 17ms/step - loss: 2.5281e-04 - accuracy: 1.0000 - val_loss: 0.4990 - val_accuracy: 1.0000\n",
      "Epoch 31/1000\n",
      "5/5 [==============================] - 0s 17ms/step - loss: 1.4479e-04 - accuracy: 1.0000 - val_loss: 0.4595 - val_accuracy: 1.0000\n",
      "Epoch 32/1000\n",
      "5/5 [==============================] - 0s 18ms/step - loss: 1.4608e-04 - accuracy: 1.0000 - val_loss: 0.4275 - val_accuracy: 1.0000\n",
      "Epoch 33/1000\n",
      "5/5 [==============================] - 0s 17ms/step - loss: 7.8414e-05 - accuracy: 1.0000 - val_loss: 0.3887 - val_accuracy: 1.0000\n",
      "Epoch 34/1000\n",
      "5/5 [==============================] - 0s 17ms/step - loss: 6.2862e-05 - accuracy: 1.0000 - val_loss: 0.3590 - val_accuracy: 1.0000\n",
      "Epoch 35/1000\n",
      "5/5 [==============================] - 0s 17ms/step - loss: 4.7796e-05 - accuracy: 1.0000 - val_loss: 0.3257 - val_accuracy: 1.0000\n",
      "Epoch 36/1000\n",
      "5/5 [==============================] - 0s 17ms/step - loss: 3.1159e-05 - accuracy: 1.0000 - val_loss: 0.2960 - val_accuracy: 1.0000\n",
      "Epoch 37/1000\n",
      "5/5 [==============================] - 0s 18ms/step - loss: 1.9230e-05 - accuracy: 1.0000 - val_loss: 0.2701 - val_accuracy: 1.0000\n",
      "5/5 [==============================] - 0s 4ms/step - loss: 1.0149 - accuracy: 1.0000\n",
      "np.shape(X_test)= (2425, 480, 1)\n",
      "Model: \"sequential\"\n",
      "_________________________________________________________________\n",
      " Layer (type)                Output Shape              Param #   \n",
      "=================================================================\n",
      " conv1d (Conv1D)             (None, 477, 32)           160       \n",
      "                                                                 \n",
      " batch_normalization (BatchN  (None, 477, 32)          128       \n",
      " ormalization)                                                   \n",
      "                                                                 \n",
      " conv1d_1 (Conv1D)           (None, 475, 64)           6208      \n",
      "                                                                 \n",
      " max_pooling1d (MaxPooling1D  (None, 158, 64)          0         \n",
      " )                                                               \n",
      "                                                                 \n",
      " conv1d_2 (Conv1D)           (None, 156, 128)          24704     \n",
      "                                                                 \n",
      " max_pooling1d_1 (MaxPooling  (None, 52, 128)          0         \n",
      " 1D)                                                             \n",
      "                                                                 \n",
      " conv1d_3 (Conv1D)           (None, 50, 128)           49280     \n",
      "                                                                 \n",
      " max_pooling1d_2 (MaxPooling  (None, 16, 128)          0         \n",
      " 1D)                                                             \n",
      "                                                                 \n",
      " conv1d_4 (Conv1D)           (None, 14, 256)           98560     \n",
      "                                                                 \n",
      " max_pooling1d_3 (MaxPooling  (None, 4, 256)           0         \n",
      " 1D)                                                             \n",
      "                                                                 \n",
      " flatten (Flatten)           (None, 1024)              0         \n",
      "                                                                 \n",
      " dense (Dense)               (None, 2000)              2050000   \n",
      "                                                                 \n",
      " dense_1 (Dense)             (None, 5)                 10005     \n",
      "                                                                 \n",
      "=================================================================\n",
      "Total params: 2,239,045\n",
      "Trainable params: 2,238,981\n",
      "Non-trainable params: 64\n",
      "_________________________________________________________________\n",
      "Accuracy=  1.0\n"
     ]
    }
   ],
   "source": [
    "accuracy=0\n",
    "acc_crs=np.array([])\n",
    "##for i in range (10):\n",
    "##    if accuracy<0.2 :\n",
    "\n",
    "verbose, epochs, batch_size = 0, 1000, btch\n",
    "n_timesteps, n_features, n_outputs = X_train.shape[1], X_train.shape[2], y_train_cat.shape[1]\n",
    "steps_per_epoch = len(X_train)//batch_size\n",
    "validation_steps = len(X_valid)//batch_size # if you have test data\n",
    "\n",
    "model_crs = Sequential()\n",
    "model_crs.add(Conv1D(filters=32, kernel_size=4, activation='relu', input_shape=(n_timesteps,n_features)))\n",
    "model_crs.add(BatchNormalization())\n",
    "#model_crs.add(MaxPooling1D(pool_size=3))\n",
    "model_crs.add(Conv1D(filters=64, kernel_size=3, activation='relu'))\n",
    "#model_crs.add(BatchNormalization())\n",
    "#model_crs.add(Dropout(0.5))\n",
    "model_crs.add(MaxPooling1D(pool_size=3))\n",
    "#model_crs.add(BatchNormalization())\n",
    "model_crs.add(Conv1D(filters=128, kernel_size=3, activation='relu'))\n",
    "#model_crs.add(BatchNormalization())\n",
    "model_crs.add(MaxPooling1D(pool_size=3))\n",
    "model_crs.add(Conv1D(filters=128, kernel_size=3, activation='relu'))\n",
    "model_crs.add(MaxPooling1D(pool_size=3))\n",
    "#model_crs.add(BatchNormalization())\n",
    "model_crs.add(Conv1D(filters=256, kernel_size=3, activation='relu'))\n",
    "model_crs.add(MaxPooling1D(pool_size=3))\n",
    "'''model_crs.add(Conv1D(filters=512, kernel_size=3, activation='relu'))\n",
    "model_crs.add(MaxPooling1D(pool_size=3))\n",
    "model_crs.add(Conv1D(filters=1024, kernel_size=3, activation='relu'))\n",
    "model_crs.add(MaxPooling1D(pool_size=3))\n",
    "'''\n",
    "model_crs.add(Flatten())\n",
    "#model_crs.add(Dropout(0.5))\n",
    "model_crs.add(Dense(2000, activation='relu'))\n",
    "model_crs.add(Dense(n_outputs, activation='softmax'))\n",
    "model_crs.compile(optimizer='rmsprop', loss='categorical_crossentropy', metrics=['accuracy'])\n",
    "# fit network   #CategoricalCrossentropy #sparse_categorical_crossentropy #SparseCategoricalCrossentropy\n",
    "\n",
    "earlystopping = callbacks.EarlyStopping(monitor =\"val_accuracy\", mode =\"max\", patience = 20, restore_best_weights = True)\n",
    "\n",
    "model_crs.fit(X_train, y_train_cat, epochs=epochs, batch_size=batch_size, verbose=verbose, validation_data = (X_valid, y_valid_cat), callbacks =[earlystopping])\n",
    "# evaluate model_crs\n",
    "_, accuracy = model_crs.evaluate(X_valid, y_valid_cat, batch_size=batch_size, verbose=verbose)\n",
    "\n",
    "print('np.shape(X_test)=',np.shape(X_test))\n",
    "\n",
    "\n",
    "model_crs.summary()\n",
    "print('Accuracy= ', accuracy)\n",
    "\n",
    "#output = K.function([model_crs.layers[0].input],[model_crs.layers[3].output])\n",
    "#output(X_test)[0]\n",
    "#y_pred= model_crs.predict(X_test)                # Function 1\n",
    "\n",
    "##    print('Round ', i, '==>', 'accuracy = ', accuracy)\n",
    "##    acc_crs=np.append(acc_crs,accuracy)\n",
    "#y_pred_crs = model_crs.predict_classes(X_test)   # Function 2"
   ]
  },
  {
   "cell_type": "code",
   "execution_count": 25,
   "metadata": {},
   "outputs": [
    {
     "name": "stdout",
     "output_type": "stream",
     "text": [
      "76/76 [==============================] - 0s 3ms/step\n",
      "array([[381,   2,   8,  17,  50],\n",
      "       [  5, 609,   0,  18,  22],\n",
      "       [  9,   6, 341,  53,   9],\n",
      "       [ 13,  12, 150, 386,  20],\n",
      "       [  0,   4,   0,   2, 308]], dtype=int64)\n",
      "              precision    recall  f1-score   support\n",
      "\n",
      "           0       0.93      0.83      0.88       458\n",
      "           1       0.96      0.93      0.95       654\n",
      "           2       0.68      0.82      0.74       418\n",
      "           3       0.81      0.66      0.73       581\n",
      "           4       0.75      0.98      0.85       314\n",
      "\n",
      "    accuracy                           0.84      2425\n",
      "   macro avg       0.83      0.84      0.83      2425\n",
      "weighted avg       0.85      0.84      0.83      2425\n",
      "\n"
     ]
    }
   ],
   "source": [
    "predict_x=model_crs.predict(X_test)              # Function 1\n",
    "\n",
    "y_pred_crs=np.argmax(predict_x,axis=1)                    # function from augment.py to remove 0 index predictions\n",
    "\n",
    "#y_pred_crs = model_crs.predict_classes(X_test)\n",
    "\n",
    "cm = confusion_matrix(y_test, y_pred_crs)\n",
    "fullprint(cm)\n",
    "acc3=accuracy_score(y_test, y_pred_crs)\n",
    "\n",
    "print(classification_report(y_test, y_pred_crs))\n",
    "\n",
    "#sns.heatmap(cm, annot=True)\n",
    "\n",
    "#plt.imshow(cm)"
   ]
  },
  {
   "cell_type": "code",
   "execution_count": 26,
   "metadata": {
    "scrolled": true
   },
   "outputs": [
    {
     "name": "stdout",
     "output_type": "stream",
     "text": [
      "Epoch 1/1000\n",
      "5/5 [==============================] - 1s 49ms/step - loss: 1.7242 - accuracy: 0.2200 - val_loss: 1.5397 - val_accuracy: 0.3900\n",
      "Epoch 2/1000\n",
      "5/5 [==============================] - 0s 20ms/step - loss: 1.3440 - accuracy: 0.4600 - val_loss: 1.1325 - val_accuracy: 0.4800\n",
      "Epoch 3/1000\n",
      "5/5 [==============================] - 0s 20ms/step - loss: 0.9110 - accuracy: 0.6000 - val_loss: 0.5917 - val_accuracy: 0.8000\n",
      "Epoch 4/1000\n",
      "5/5 [==============================] - 0s 17ms/step - loss: 0.6069 - accuracy: 0.7900 - val_loss: 0.4690 - val_accuracy: 0.7800\n",
      "Epoch 5/1000\n",
      "5/5 [==============================] - 0s 19ms/step - loss: 0.5242 - accuracy: 0.8200 - val_loss: 0.3789 - val_accuracy: 0.8400\n",
      "Epoch 6/1000\n",
      "5/5 [==============================] - 0s 18ms/step - loss: 0.5139 - accuracy: 0.7900 - val_loss: 0.4193 - val_accuracy: 0.7900\n",
      "Epoch 7/1000\n",
      "5/5 [==============================] - 0s 19ms/step - loss: 0.4529 - accuracy: 0.8200 - val_loss: 0.4506 - val_accuracy: 0.8500\n",
      "Epoch 8/1000\n",
      "5/5 [==============================] - 0s 20ms/step - loss: 0.3563 - accuracy: 0.8600 - val_loss: 0.2546 - val_accuracy: 0.9300\n",
      "Epoch 9/1000\n",
      "5/5 [==============================] - 0s 17ms/step - loss: 0.3173 - accuracy: 0.8800 - val_loss: 0.2365 - val_accuracy: 0.9300\n",
      "Epoch 10/1000\n",
      "5/5 [==============================] - 0s 19ms/step - loss: 0.4494 - accuracy: 0.8500 - val_loss: 0.3789 - val_accuracy: 0.8600\n",
      "Epoch 11/1000\n",
      "5/5 [==============================] - 0s 18ms/step - loss: 0.2805 - accuracy: 0.8600 - val_loss: 0.1849 - val_accuracy: 0.8800\n",
      "Epoch 12/1000\n",
      "5/5 [==============================] - 0s 18ms/step - loss: 0.4224 - accuracy: 0.8300 - val_loss: 0.5472 - val_accuracy: 0.7200\n",
      "Epoch 13/1000\n",
      "5/5 [==============================] - 0s 19ms/step - loss: 0.2830 - accuracy: 0.8500 - val_loss: 0.1312 - val_accuracy: 0.9700\n",
      "Epoch 14/1000\n",
      "5/5 [==============================] - 0s 16ms/step - loss: 0.3367 - accuracy: 0.8200 - val_loss: 0.1671 - val_accuracy: 0.9600\n",
      "Epoch 15/1000\n",
      "5/5 [==============================] - 0s 17ms/step - loss: 0.1630 - accuracy: 0.9500 - val_loss: 0.2633 - val_accuracy: 0.8500\n",
      "Epoch 16/1000\n",
      "5/5 [==============================] - 0s 17ms/step - loss: 0.3241 - accuracy: 0.8600 - val_loss: 0.1813 - val_accuracy: 0.9300\n",
      "Epoch 17/1000\n",
      "5/5 [==============================] - 0s 20ms/step - loss: 0.1468 - accuracy: 0.9700 - val_loss: 0.0784 - val_accuracy: 0.9800\n",
      "Epoch 18/1000\n",
      "5/5 [==============================] - 0s 18ms/step - loss: 0.0694 - accuracy: 0.9800 - val_loss: 0.1427 - val_accuracy: 0.9200\n",
      "Epoch 19/1000\n",
      "5/5 [==============================] - 0s 17ms/step - loss: 0.3792 - accuracy: 0.8800 - val_loss: 0.1595 - val_accuracy: 0.9200\n",
      "Epoch 20/1000\n",
      "5/5 [==============================] - 0s 19ms/step - loss: 0.1061 - accuracy: 0.9600 - val_loss: 0.0496 - val_accuracy: 1.0000\n",
      "Epoch 21/1000\n",
      "5/5 [==============================] - 0s 17ms/step - loss: 0.0634 - accuracy: 0.9800 - val_loss: 0.0321 - val_accuracy: 1.0000\n",
      "Epoch 22/1000\n",
      "5/5 [==============================] - 0s 17ms/step - loss: 0.0904 - accuracy: 0.9500 - val_loss: 0.1338 - val_accuracy: 0.9400\n",
      "Epoch 23/1000\n",
      "5/5 [==============================] - 0s 17ms/step - loss: 0.2085 - accuracy: 0.9200 - val_loss: 0.1692 - val_accuracy: 0.9300\n",
      "Epoch 24/1000\n",
      "5/5 [==============================] - 0s 17ms/step - loss: 0.1331 - accuracy: 0.9400 - val_loss: 0.0452 - val_accuracy: 1.0000\n",
      "Epoch 25/1000\n",
      "5/5 [==============================] - 0s 17ms/step - loss: 0.0493 - accuracy: 0.9900 - val_loss: 0.2409 - val_accuracy: 0.9100\n",
      "Epoch 26/1000\n",
      "5/5 [==============================] - 0s 17ms/step - loss: 0.0647 - accuracy: 0.9700 - val_loss: 0.1541 - val_accuracy: 0.9500\n",
      "Epoch 27/1000\n",
      "5/5 [==============================] - 0s 17ms/step - loss: 0.1027 - accuracy: 0.9600 - val_loss: 0.0199 - val_accuracy: 1.0000\n",
      "Epoch 28/1000\n",
      "5/5 [==============================] - 0s 17ms/step - loss: 0.0150 - accuracy: 1.0000 - val_loss: 0.0104 - val_accuracy: 1.0000\n",
      "Epoch 29/1000\n",
      "5/5 [==============================] - 0s 18ms/step - loss: 0.2635 - accuracy: 0.9500 - val_loss: 0.1640 - val_accuracy: 0.9400\n",
      "Epoch 30/1000\n",
      "5/5 [==============================] - 0s 18ms/step - loss: 0.1022 - accuracy: 0.9600 - val_loss: 0.0628 - val_accuracy: 0.9700\n",
      "Epoch 31/1000\n",
      "5/5 [==============================] - 0s 18ms/step - loss: 0.0445 - accuracy: 0.9800 - val_loss: 0.0080 - val_accuracy: 1.0000\n",
      "Epoch 32/1000\n",
      "5/5 [==============================] - 0s 17ms/step - loss: 0.0079 - accuracy: 1.0000 - val_loss: 0.0046 - val_accuracy: 1.0000\n",
      "Epoch 33/1000\n",
      "5/5 [==============================] - 0s 17ms/step - loss: 0.0035 - accuracy: 1.0000 - val_loss: 0.0023 - val_accuracy: 1.0000\n",
      "Epoch 34/1000\n",
      "5/5 [==============================] - 0s 18ms/step - loss: 0.0024 - accuracy: 1.0000 - val_loss: 0.0014 - val_accuracy: 1.0000\n",
      "Epoch 35/1000\n",
      "5/5 [==============================] - 0s 18ms/step - loss: 0.0018 - accuracy: 1.0000 - val_loss: 9.1716e-04 - val_accuracy: 1.0000\n",
      "Epoch 36/1000\n",
      "5/5 [==============================] - 0s 18ms/step - loss: 9.7577e-04 - accuracy: 1.0000 - val_loss: 5.8227e-04 - val_accuracy: 1.0000\n",
      "Epoch 37/1000\n",
      "5/5 [==============================] - 0s 18ms/step - loss: 5.6650e-04 - accuracy: 1.0000 - val_loss: 3.9846e-04 - val_accuracy: 1.0000\n",
      "Epoch 38/1000\n",
      "5/5 [==============================] - 0s 18ms/step - loss: 4.3495e-04 - accuracy: 1.0000 - val_loss: 3.0728e-04 - val_accuracy: 1.0000\n",
      "Epoch 39/1000\n",
      "5/5 [==============================] - 0s 18ms/step - loss: 2.6563e-04 - accuracy: 1.0000 - val_loss: 1.8536e-04 - val_accuracy: 1.0000\n",
      "Epoch 40/1000\n",
      "5/5 [==============================] - 0s 19ms/step - loss: 2.0645e-04 - accuracy: 1.0000 - val_loss: 1.2866e-04 - val_accuracy: 1.0000\n",
      "5/5 [==============================] - 0s 4ms/step - loss: 0.0496 - accuracy: 1.0000\n",
      "np.shape(X_test)= (2425, 480, 1)\n",
      "Model: \"sequential_1\"\n",
      "_________________________________________________________________\n",
      " Layer (type)                Output Shape              Param #   \n",
      "=================================================================\n",
      " conv1d_5 (Conv1D)           (None, 478, 64)           256       \n",
      "                                                                 \n",
      " conv1d_6 (Conv1D)           (None, 476, 128)          24704     \n",
      "                                                                 \n",
      " max_pooling1d_4 (MaxPooling  (None, 158, 128)         0         \n",
      " 1D)                                                             \n",
      "                                                                 \n",
      " conv1d_7 (Conv1D)           (None, 156, 256)          98560     \n",
      "                                                                 \n",
      " max_pooling1d_5 (MaxPooling  (None, 52, 256)          0         \n",
      " 1D)                                                             \n",
      "                                                                 \n",
      " conv1d_8 (Conv1D)           (None, 50, 256)           196864    \n",
      "                                                                 \n",
      " max_pooling1d_6 (MaxPooling  (None, 16, 256)          0         \n",
      " 1D)                                                             \n",
      "                                                                 \n",
      " conv1d_9 (Conv1D)           (None, 14, 512)           393728    \n",
      "                                                                 \n",
      " max_pooling1d_7 (MaxPooling  (None, 4, 512)           0         \n",
      " 1D)                                                             \n",
      "                                                                 \n",
      " flatten_1 (Flatten)         (None, 2048)              0         \n",
      "                                                                 \n",
      " dense_2 (Dense)             (None, 2000)              4098000   \n",
      "                                                                 \n",
      " dense_3 (Dense)             (None, 5)                 10005     \n",
      "                                                                 \n",
      "=================================================================\n",
      "Total params: 4,822,117\n",
      "Trainable params: 4,822,117\n",
      "Non-trainable params: 0\n",
      "_________________________________________________________________\n",
      "Accuracy=  1.0\n"
     ]
    }
   ],
   "source": [
    "accuracy=0\n",
    "acc_crs=np.array([])\n",
    "##for i in range (10):\n",
    "##    if accuracy<0.2 :\n",
    "\n",
    "verbose, epochs, batch_size = 0, 1000, btch\n",
    "n_timesteps, n_features, n_outputs = X_train.shape[1], X_train.shape[2], y_train_cat.shape[1]\n",
    "steps_per_epoch = len(X_train)//batch_size\n",
    "validation_steps = len(X_valid)//batch_size # if you have test data\n",
    "\n",
    "model_crs = Sequential()\n",
    "BatchNormalization()\n",
    "model_crs.add(Conv1D(filters=64, kernel_size=3, activation='relu', input_shape=(n_timesteps,n_features)))\n",
    "#model_crs.add(MaxPooling1D(pool_size=3))\n",
    "BatchNormalization()\n",
    "model_crs.add(Conv1D(filters=128, kernel_size=3, activation='relu'))\n",
    "#model_crs.add(Dropout(0.5))\n",
    "model_crs.add(MaxPooling1D(pool_size=3))\n",
    "BatchNormalization()\n",
    "model_crs.add(Conv1D(filters=256, kernel_size=3, activation='relu'))\n",
    "model_crs.add(MaxPooling1D(pool_size=3))\n",
    "BatchNormalization()\n",
    "model_crs.add(Conv1D(filters=256, kernel_size=3, activation='relu'))\n",
    "model_crs.add(MaxPooling1D(pool_size=3))\n",
    "BatchNormalization()\n",
    "model_crs.add(Conv1D(filters=512, kernel_size=3, activation='relu'))\n",
    "model_crs.add(MaxPooling1D(pool_size=3))\n",
    "'''model_crs.add(Conv1D(filters=512, kernel_size=3, activation='relu'))\n",
    "model_crs.add(MaxPooling1D(pool_size=3))\n",
    "model_crs.add(Conv1D(filters=1024, kernel_size=3, activation='relu'))\n",
    "model_crs.add(MaxPooling1D(pool_size=3))\n",
    "'''\n",
    "model_crs.add(Flatten())\n",
    "#model_crs.add(Dropout(0.5))\n",
    "model_crs.add(Dense(2000, activation='relu'))\n",
    "model_crs.add(Dense(n_outputs, activation='softmax'))\n",
    "model_crs.compile(optimizer='rmsprop', loss='categorical_crossentropy', metrics=['accuracy'])\n",
    "# fit network   #CategoricalCrossentropy #sparse_categorical_crossentropy #SparseCategoricalCrossentropy\n",
    "\n",
    "earlystopping = callbacks.EarlyStopping(monitor =\"val_accuracy\", mode =\"max\", patience = 20, restore_best_weights = True)\n",
    "\n",
    "model_crs.fit(X_train, y_train_cat, epochs=epochs, batch_size=batch_size, verbose=verbose, validation_data = (X_valid, y_valid_cat), callbacks =[earlystopping])\n",
    "# evaluate model_crs\n",
    "_, accuracy = model_crs.evaluate(X_valid, y_valid_cat, batch_size=batch_size, verbose=1)\n",
    "\n",
    "print('np.shape(X_test)=',np.shape(X_test))\n",
    "\n",
    "\n",
    "model_crs.summary()\n",
    "print('Accuracy= ', accuracy)\n",
    "\n",
    "#output = K.function([model_crs.layers[0].input],[model_crs.layers[3].output])\n",
    "#output(X_test)[0]\n",
    "#y_pred= model_crs.predict(X_test)                # Function 1\n",
    "\n",
    "##    print('Round ', i, '==>', 'accuracy = ', accuracy)\n",
    "##    acc_crs=np.append(acc_crs,accuracy)\n",
    "#y_pred_crs = model_crs.predict_classes(X_test)   # Function 2"
   ]
  },
  {
   "cell_type": "code",
   "execution_count": 27,
   "metadata": {},
   "outputs": [
    {
     "name": "stdout",
     "output_type": "stream",
     "text": [
      "76/76 [==============================] - 0s 4ms/step\n",
      "array([[415,   5,   5,  11,  22],\n",
      "       [  4, 611,   0,  23,  16],\n",
      "       [ 31,   5, 319,  56,   7],\n",
      "       [ 25,  27, 111, 399,  19],\n",
      "       [  0,   5,   0,   1, 308]], dtype=int64)\n",
      "              precision    recall  f1-score   support\n",
      "\n",
      "           0       0.87      0.91      0.89       458\n",
      "           1       0.94      0.93      0.93       654\n",
      "           2       0.73      0.76      0.75       418\n",
      "           3       0.81      0.69      0.75       581\n",
      "           4       0.83      0.98      0.90       314\n",
      "\n",
      "    accuracy                           0.85      2425\n",
      "   macro avg       0.84      0.85      0.84      2425\n",
      "weighted avg       0.85      0.85      0.84      2425\n",
      "\n"
     ]
    }
   ],
   "source": [
    "predict_x=model_crs.predict(X_test)                       # Function 1\n",
    "\n",
    "y_pred_crs=np.argmax(predict_x,axis=1)                    # function from augment.py to remove 0 index predictions\n",
    "\n",
    "#y_pred_crs = model_crs.predict_classes(X_test)\n",
    "\n",
    "cm = confusion_matrix(y_test, y_pred_crs)\n",
    "fullprint(cm)\n",
    "acc3=accuracy_score(y_test, y_pred_crs)\n",
    "\n",
    "print(classification_report(y_test, y_pred_crs))\n",
    "\n",
    "#sns.heatmap(cm, annot=True)\n",
    "\n",
    "#plt.imshow(cm)"
   ]
  },
  {
   "cell_type": "code",
   "execution_count": null,
   "metadata": {},
   "outputs": [],
   "source": []
  }
 ],
 "metadata": {
  "celltoolbar": "Raw Cell Format",
  "kernelspec": {
   "display_name": "Python 3 (ipykernel)",
   "language": "python",
   "name": "python3"
  },
  "language_info": {
   "codemirror_mode": {
    "name": "ipython",
    "version": 3
   },
   "file_extension": ".py",
   "mimetype": "text/x-python",
   "name": "python",
   "nbconvert_exporter": "python",
   "pygments_lexer": "ipython3",
   "version": "3.9.7"
  }
 },
 "nbformat": 4,
 "nbformat_minor": 4
}
