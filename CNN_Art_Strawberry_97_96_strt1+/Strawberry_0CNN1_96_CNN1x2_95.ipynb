{
 "cells": [
  {
   "cell_type": "markdown",
   "metadata": {},
   "source": [
    "import time\n",
    "plc=1\n",
    "time.sleep(3000*plc)         #run after 1 houre = 3600 seconds"
   ]
  },
  {
   "cell_type": "code",
   "execution_count": 1,
   "metadata": {},
   "outputs": [
    {
     "data": {
      "text/html": [
       "<style>#notebook { padding-top:0px !important; } .container { width:100% !important; } .end_space { min-height:0px !important; } html, body, .container{ margin:0!important;padding:0!important;}</style>"
      ],
      "text/plain": [
       "<IPython.core.display.HTML object>"
      ]
     },
     "metadata": {},
     "output_type": "display_data"
    }
   ],
   "source": [
    "import os\n",
    "import glob\n",
    "import scipy\n",
    "import random\n",
    "import bisect\n",
    "import numpy as np\n",
    "import pandas as pd\n",
    "import seaborn as sns\n",
    "from scipy import signal\n",
    "from scipy.signal import find_peaks\n",
    "import matplotlib.pyplot as plt\n",
    "from preprocess import *                         #ماژول استخراج پنجره ها\n",
    "from data import *                          #ماژول محلی ورود داده ها\n",
    "from augment import *                            #ماژول های داده افزایی\n",
    "from lstm_cnn import *                           #ماژول های داده افزایی با lstm_cnn\n",
    "import augment\n",
    "import importlib\n",
    "importlib.reload(augment)\n",
    "import tensorflow as tf\n",
    "from tensorflow import keras\n",
    "from tensorflow.keras.layers import BatchNormalization\n",
    "from sklearn.model_selection import train_test_split\n",
    "from sklearn.neural_network import MLPClassifier\n",
    "from sklearn.datasets import make_classification\n",
    "from sklearn.metrics import confusion_matrix, accuracy_score, classification_report,recall_score,precision_score\n",
    "from tensorflow.keras import callbacks\n",
    "from tensorflow.keras import layers\n",
    "from tensorflow.keras.models import Sequential\n",
    "from tensorflow.keras.layers import Convolution2D,Conv1D,Dropout,MaxPooling1D,MaxPooling2D,Flatten,Dense\n",
    "from tensorflow.keras import backend as K\n",
    "from tensorflow.keras.utils import to_categorical\n",
    "from tensorflow.keras.models import load_model\n",
    "cwd = os.getcwd() #\n",
    "fullscrn()"
   ]
  },
  {
   "cell_type": "markdown",
   "metadata": {},
   "source": [
    "<h1><center><div style=\"direction:rtl;font-family:B Nazanin\">Importing Data</div></center></h1>"
   ]
  },
  {
   "cell_type": "code",
   "execution_count": 2,
   "metadata": {
    "scrolled": true
   },
   "outputs": [
    {
     "name": "stdout",
     "output_type": "stream",
     "text": [
      "first_train_shape= (370, 236)\n",
      "first_test_shape= (613, 236)\n",
      "classes_quantity= 2\n",
      "tr_lbls=\t {1, 2}\n",
      "Count_labels= [132 238]\n",
      "max(train_feature_Altitude)= 3.7227\n",
      "min(train_feature_Altitude)= -2.1276\n",
      "first_train_sample=\n",
      " [ 1.0000e+00 -3.1047e-01 -3.0916e-01 -3.1179e-01 -2.9259e-01 -2.4866e-01\n",
      " -1.9342e-01 -1.6343e-01 -1.6633e-01 -1.9158e-01 -2.2840e-01 -2.5655e-01\n",
      " -2.7654e-01 -2.9943e-01 -3.2099e-01 -3.2704e-01 -3.0416e-01 -2.3893e-01\n",
      " -1.4160e-01 -6.9266e-02 -1.5342e-02  1.0329e-01  2.6900e-01  4.2656e-01\n",
      "  6.0517e-01  7.7693e-01  8.6189e-01  8.9162e-01  9.4081e-01  1.0510e+00\n",
      "  1.2486e+00  1.4782e+00  1.6436e+00  1.7783e+00  1.9924e+00  2.2715e+00\n",
      "  2.4793e+00  2.5630e+00  2.5853e+00  2.6240e+00  2.7276e+00  2.9065e+00\n",
      "  3.0877e+00  3.1716e+00  3.1293e+00  2.9857e+00  2.8286e+00  2.7529e+00\n",
      "  2.7197e+00  2.5375e+00  2.1403e+00  1.7415e+00  1.5555e+00  1.5876e+00\n",
      "  1.6757e+00  1.6555e+00  1.4953e+00  1.2717e+00  1.0700e+00  9.2266e-01\n",
      "  8.2139e-01  7.5142e-01  6.9881e-01  6.5699e-01  6.3358e-01  6.1622e-01\n",
      "  5.8228e-01  5.2599e-01  4.3919e-01  3.1188e-01  1.5853e-01  2.0957e-02\n",
      " -6.5320e-02 -9.7411e-02 -9.7937e-02 -8.8731e-02 -8.3470e-02 -8.4259e-02\n",
      " -8.2155e-02 -7.3211e-02 -6.2164e-02 -5.0853e-02 -3.6386e-02 -1.5342e-02\n",
      "  1.7274e-02  5.8572e-02  1.0118e-01  1.3880e-01  1.6352e-01  1.7378e-01\n",
      "  1.7484e-01  1.7168e-01  1.6668e-01  1.5721e-01  1.4143e-01  1.2275e-01\n",
      "  9.5397e-02  5.8309e-02  2.3324e-02 -2.4535e-03 -1.6395e-02 -2.6653e-02\n",
      " -4.0594e-02 -5.2431e-02 -5.9007e-02 -5.5588e-02 -3.9805e-02 -1.4553e-02\n",
      "  1.3592e-02  3.8318e-02  6.2517e-02  9.1452e-02  1.2196e-01  1.5616e-01\n",
      "  1.8325e-01  2.0456e-01  2.4244e-01  2.6637e-01  2.6558e-01  2.6006e-01\n",
      "  2.5269e-01  2.3612e-01  2.2586e-01  2.1219e-01  1.8115e-01  1.5590e-01\n",
      "  1.3485e-01  1.1092e-01  1.0039e-01  1.0355e-01  1.1118e-01  1.4432e-01\n",
      "  1.7431e-01  1.9719e-01  2.0956e-01  1.9614e-01  1.6800e-01  1.5826e-01\n",
      "  1.4117e-01  1.1197e-01  7.8300e-02  5.7783e-02  3.9107e-02 -1.4290e-02\n",
      " -7.1107e-02 -1.2345e-01 -2.1367e-01 -2.8312e-01 -3.9096e-01 -5.0091e-01\n",
      " -6.1086e-01 -6.7662e-01 -7.1661e-01 -7.7369e-01 -8.3024e-01 -8.5181e-01\n",
      " -8.7048e-01 -8.8811e-01 -9.0994e-01 -9.4519e-01 -9.1836e-01 -9.1915e-01\n",
      " -9.3782e-01 -9.5229e-01 -9.5019e-01 -9.5360e-01 -9.6518e-01 -9.8491e-01\n",
      " -9.8912e-01 -9.6123e-01 -9.4624e-01 -9.4571e-01 -9.4177e-01 -8.8521e-01\n",
      " -8.4918e-01 -8.2366e-01 -8.0209e-01 -7.8131e-01 -7.5738e-01 -7.5054e-01\n",
      " -7.5711e-01 -7.7027e-01 -7.8421e-01 -7.9973e-01 -8.3340e-01 -8.7916e-01\n",
      " -9.2309e-01 -9.7070e-01 -1.0059e+00 -1.0230e+00 -1.0278e+00 -1.0291e+00\n",
      " -1.0178e+00 -1.0165e+00 -1.0223e+00 -9.9517e-01 -9.5229e-01 -9.1862e-01\n",
      " -9.1678e-01 -9.0652e-01 -9.0626e-01 -9.1389e-01 -9.0152e-01 -8.8548e-01\n",
      " -8.8443e-01 -8.6812e-01 -8.3366e-01 -8.1209e-01 -8.0236e-01 -7.6053e-01\n",
      " -7.1240e-01 -6.6321e-01 -6.4374e-01 -6.4085e-01 -6.0403e-01 -5.9061e-01\n",
      " -6.1849e-01 -6.7584e-01 -7.2897e-01 -7.7106e-01 -8.3366e-01 -8.9311e-01\n",
      " -9.3730e-01 -9.6255e-01 -9.9753e-01 -1.0280e+00 -1.0549e+00 -1.0883e+00\n",
      " -1.1001e+00 -1.0983e+00 -1.1035e+00 -1.1049e+00 -1.1151e+00 -1.1230e+00\n",
      " -1.1196e+00 -1.1196e+00]\n",
      "1 132\t1 132\t"
     ]
    }
   ],
   "source": [
    "rate=480         #236\n",
    "cls_num=2\n",
    "for i in range (1,cls_num+1):\n",
    "    vars()['ecg'+str(i)],vars()['ecg_tst'+str(i)]=Strawberry(i)\n",
    "\n",
    "os.chdir(cwd)\n",
    "clses_lens=np.array([])\n",
    "ecg=np.array(ecg1)\n",
    "print(1,len(vars()['ecg'+str(1)]), end='\\t')\n",
    "clses_lens=np.append(clses_lens,len(vars()['ecg'+str(1)]))\n",
    "for i in range (1,cls_num):\n",
    "    ecg=np.concatenate((ecg,vars()['ecg'+str(i)]),axis=0)\n",
    "    clses_lens=np.append(clses_lens,len(vars()['ecg'+str(i)]))\n",
    "    print(i,len(vars()['ecg'+str(i)]), end='\\t')\n",
    "\n",
    "mx_sig=max(clses_lens)\n",
    "btch=int(min(clses_lens))"
   ]
  },
  {
   "cell_type": "code",
   "execution_count": 3,
   "metadata": {},
   "outputs": [
    {
     "data": {
      "text/plain": [
       "(264, 481)"
      ]
     },
     "execution_count": 3,
     "metadata": {},
     "output_type": "execute_result"
    }
   ],
   "source": [
    "np.shape(ecg)"
   ]
  },
  {
   "cell_type": "code",
   "execution_count": 4,
   "metadata": {},
   "outputs": [
    {
     "data": {
      "text/plain": [
       "array([1., 1., 1., 1., 1., 1., 1., 1., 1., 1., 1., 1., 1., 1., 1., 1., 1.,\n",
       "       1., 1., 1., 1., 1., 1., 1., 1., 1., 1., 1., 1., 1., 1., 1., 1., 1.,\n",
       "       1., 1., 1., 1., 1., 1., 1., 1., 1., 1., 1., 1., 1., 1., 1., 1., 1.,\n",
       "       1., 1., 1., 1., 1., 1., 1., 1., 1., 1., 1., 1., 1., 1., 1., 1., 1.,\n",
       "       1., 1., 1., 1., 1., 1., 1., 1., 1., 1., 1., 1., 1., 1., 1., 1., 1.,\n",
       "       1., 1., 1., 1., 1., 1., 1., 1., 1., 1., 1., 1., 1., 1., 1., 1., 1.,\n",
       "       1., 1., 1., 1., 1., 1., 1., 1., 1., 1., 1., 1., 1., 1., 1., 1., 1.,\n",
       "       1., 1., 1., 1., 1., 1., 1., 1., 1., 1., 1., 1., 1., 1., 1., 1., 1.,\n",
       "       1., 1., 1., 1., 1., 1., 1., 1., 1., 1., 1., 1., 1., 1., 1., 1., 1.,\n",
       "       1., 1., 1., 1., 1., 1., 1., 1., 1., 1., 1., 1., 1., 1., 1., 1., 1.,\n",
       "       1., 1., 1., 1., 1., 1., 1., 1., 1., 1., 1., 1., 1., 1., 1., 1., 1.,\n",
       "       1., 1., 1., 1., 1., 1., 1., 1., 1., 1., 1., 1., 1., 1., 1., 1., 1.,\n",
       "       1., 1., 1., 1., 1., 1., 1., 1., 1., 1., 1., 1., 1., 1., 1., 1., 1.,\n",
       "       1., 1., 1., 1., 1., 1., 1., 1., 1., 1., 1., 1., 1., 1., 1., 1., 1.,\n",
       "       1., 1., 1., 1., 1., 1., 1., 1., 1., 1., 1., 1., 1., 1., 1., 1., 1.,\n",
       "       1., 1., 1., 1., 1., 1., 1., 1., 1.])"
      ]
     },
     "execution_count": 4,
     "metadata": {},
     "output_type": "execute_result"
    }
   ],
   "source": [
    "ecg[:,-1]"
   ]
  },
  {
   "cell_type": "markdown",
   "metadata": {},
   "source": [
    "<h2><center><div style=\"direction:rtl;font-family:B Nazanin\">Base Train windows</div></center></h1>"
   ]
  },
  {
   "cell_type": "code",
   "execution_count": 5,
   "metadata": {},
   "outputs": [
    {
     "name": "stdout",
     "output_type": "stream",
     "text": [
      "each class and its windows =\n",
      "1 132\t2 238\t\n",
      " max = 238\n"
     ]
    }
   ],
   "source": [
    "smpl_rte=rate                                              # در ماژول ها نیز همین مقدار ثبت شده\n",
    "i=0\n",
    "windws=np.array([])\n",
    "\n",
    "for cls in range (1,cls_num+1):                                 #ساخت پنجره های داده های آموزش اصلی\n",
    "    vars()['wndws'+str(cls)]=np.array(vars()['ecg'+str(cls)])  \n",
    "    \n",
    "print(\"each class and its windows =\")\n",
    "\n",
    "cls_wndws=np.array([])\n",
    "for cls in range (1,cls_num+1):                                # آرایه ی تعداد پنجره ی هر کلاس\n",
    "    wns=len(vars()['wndws'+str(cls)])\n",
    "    cls_wndws=np.append(cls_wndws,wns)\n",
    "    print(cls, wns, end='\\t')\n",
    "\n",
    "mx_wndws=int(np.max(cls_wndws))                        # حداکثر تعداد پنجره ی موجود بین کلاس ها\n",
    "print('\\n max =', mx_wndws)"
   ]
  },
  {
   "cell_type": "raw",
   "metadata": {},
   "source": [
    "#clses=3                                   #تعیین میزان افزایش نمونه (تولید داده)\n",
    "mx_wndws=int(mx_wndws)  #mx_wndws*0.3  # =classes-1 برای بررسی الگوریتم تعداد کمی کلاس آزمایش شد\n",
    "mx_wndws=2598           #+2\n",
    "print(mx_wndws)"
   ]
  },
  {
   "cell_type": "markdown",
   "metadata": {},
   "source": [
    "<h1><center><div style=\"direction:rtl;font-family:B Nazanin\">Data Augmentation</div></center></h1>"
   ]
  },
  {
   "cell_type": "code",
   "execution_count": 6,
   "metadata": {},
   "outputs": [
    {
     "name": "stdout",
     "output_type": "stream",
     "text": [
      "Up to class  1 train shape =  (132, 481)\n",
      "Up to class  2 train shape =  (370, 481)\n"
     ]
    }
   ],
   "source": [
    "smpl_rte=len(wndws1[0])                                        # در ماژول ها نیز همین مقدار ثبت شده\n",
    "\n",
    "#add augmented data to base data\n",
    "xtrain=np.empty((0,len(wndws1[0])), float) \n",
    "for i in range (1,cls_num+1):   \n",
    "    xtrain=np.append(xtrain,vars()['wndws'+str(i)],axis=0)\n",
    "    print('Up to class ', i, 'train shape = ', np.shape(xtrain))"
   ]
  },
  {
   "cell_type": "code",
   "execution_count": 7,
   "metadata": {},
   "outputs": [
    {
     "name": "stdout",
     "output_type": "stream",
     "text": [
      "[  0 132 238]\n"
     ]
    }
   ],
   "source": [
    "print(np.bincount(np.int16(xtrain[:,-1])))    #تعداد پنجره در هر کلاس از 0 تا 17"
   ]
  },
  {
   "cell_type": "code",
   "execution_count": 8,
   "metadata": {},
   "outputs": [
    {
     "data": {
      "text/plain": [
       "array([1., 1., 1., 1., 1., 1., 1., 1., 1., 1., 1., 1., 1., 1., 1., 1., 1.,\n",
       "       1., 1., 1., 1., 1., 1., 1., 1., 1., 1., 1., 1., 1., 1., 1., 1., 1.,\n",
       "       1., 1., 1., 1., 1., 1., 1., 1., 1., 1., 1., 1., 1., 1., 1., 1., 1.,\n",
       "       1., 1., 1., 1., 1., 1., 1., 1., 1., 1., 1., 1., 1., 1., 1., 1., 1.,\n",
       "       1., 1., 1., 1., 1., 1., 1., 1., 1., 1., 1., 1., 1., 1., 1., 1., 1.,\n",
       "       1., 1., 1., 1., 1., 1., 1., 1., 1., 1., 1., 1., 1., 1., 1., 1., 1.,\n",
       "       1., 1., 1., 1., 1., 1., 1., 1., 1., 1., 1., 1., 1., 1., 1., 1., 1.,\n",
       "       1., 1., 1., 1., 1., 1., 1., 1., 1., 1., 1., 1., 1., 2., 2., 2., 2.,\n",
       "       2., 2., 2., 2., 2., 2., 2., 2., 2., 2., 2., 2., 2., 2., 2., 2., 2.,\n",
       "       2., 2., 2., 2., 2., 2., 2., 2., 2., 2., 2., 2., 2., 2., 2., 2., 2.,\n",
       "       2., 2., 2., 2., 2., 2., 2., 2., 2., 2., 2., 2., 2., 2., 2., 2., 2.,\n",
       "       2., 2., 2., 2., 2., 2., 2., 2., 2., 2., 2., 2., 2., 2., 2., 2., 2.,\n",
       "       2., 2., 2., 2., 2., 2., 2., 2., 2., 2., 2., 2., 2., 2., 2., 2., 2.,\n",
       "       2., 2., 2., 2., 2., 2., 2., 2., 2., 2., 2., 2., 2., 2., 2., 2., 2.,\n",
       "       2., 2., 2., 2., 2., 2., 2., 2., 2., 2., 2., 2., 2., 2., 2., 2., 2.,\n",
       "       2., 2., 2., 2., 2., 2., 2., 2., 2., 2., 2., 2., 2., 2., 2., 2., 2.,\n",
       "       2., 2., 2., 2., 2., 2., 2., 2., 2., 2., 2., 2., 2., 2., 2., 2., 2.,\n",
       "       2., 2., 2., 2., 2., 2., 2., 2., 2., 2., 2., 2., 2., 2., 2., 2., 2.,\n",
       "       2., 2., 2., 2., 2., 2., 2., 2., 2., 2., 2., 2., 2., 2., 2., 2., 2.,\n",
       "       2., 2., 2., 2., 2., 2., 2., 2., 2., 2., 2., 2., 2., 2., 2., 2., 2.,\n",
       "       2., 2., 2., 2., 2., 2., 2., 2., 2., 2., 2., 2., 2., 2., 2., 2., 2.,\n",
       "       2., 2., 2., 2., 2., 2., 2., 2., 2., 2., 2., 2., 2.])"
      ]
     },
     "execution_count": 8,
     "metadata": {},
     "output_type": "execute_result"
    }
   ],
   "source": [
    "xtrain[:,-1]"
   ]
  },
  {
   "cell_type": "code",
   "execution_count": 9,
   "metadata": {},
   "outputs": [],
   "source": [
    "mx_aug=np.max(xtrain[:,:-1])\n",
    "mx=np.max(ecg[:,:-1])\n",
    "mn_aug=np.min(xtrain[:,:-1])\n",
    "mn=np.min(ecg[:,:-1])\n",
    "\n",
    "#for i in range (1,cls_num+1):             #نرمالسازی داده های افزایشی\n",
    "xtrain[:,:-1]= 2*(xtrain[:,:-1]-mn_aug)/(mx_aug - mn_aug) - 1"
   ]
  },
  {
   "cell_type": "code",
   "execution_count": 10,
   "metadata": {},
   "outputs": [
    {
     "name": "stdout",
     "output_type": "stream",
     "text": [
      "min trn = -1.0\n",
      "max trn = 1.0\n"
     ]
    }
   ],
   "source": [
    "print('min trn =', np.min(xtrain[:,:-1]))\n",
    "print('max trn =', np.max(xtrain[:,:-1]))"
   ]
  },
  {
   "cell_type": "markdown",
   "metadata": {},
   "source": [
    "<h3><center><div style=\"direction:rtl;font-family:B Nazanin\">Test Windows</div></center></h1>"
   ]
  },
  {
   "cell_type": "code",
   "execution_count": 11,
   "metadata": {},
   "outputs": [],
   "source": [
    "wndws_test=np.empty((0,len(wndws1[0])), float)\n",
    "i=0\n",
    "windws=np.array([])\n",
    "for cls in range (1,cls_num+1):                                 #ساخت پنجره های داده های آموزش اصلی\n",
    "    vars()['wndws_tst'+str(cls)]=np.empty((0,len(wndws1[0])), float)\n",
    "    vars()['wndws_tst'+str(cls)]=np.append(vars()['wndws_tst'+str(cls)],vars()['ecg_tst'+str(cls)],axis=0)   "
   ]
  },
  {
   "cell_type": "code",
   "execution_count": 12,
   "metadata": {},
   "outputs": [
    {
     "name": "stdout",
     "output_type": "stream",
     "text": [
      "\n",
      " cls 1  >> \n",
      "max magnitude class 1  =  3.253532902325102\n",
      "min magnitude class 1  =  -1.5826337927522933\n",
      "after normalizing >>\n",
      "max magnitude class 1  =  0.8346310867512128\n",
      "min magnitude class 1  =  -0.7817978098961197\n",
      "\n",
      " cls 2  >> \n",
      "max magnitude class 2  =  3.709525354365643\n",
      "min magnitude class 2  =  -2.4935358068557427\n",
      "after normalizing >>\n",
      "max magnitude class 2  =  0.9870409234265398\n",
      "min magnitude class 2  =  -1.086255540666607\n",
      "each class and its windows =\n",
      "1 219\t2 394\t\n",
      " max instance in classes of test windows = 394\n"
     ]
    }
   ],
   "source": [
    "#print(np.max(wndws_tst))\n",
    "for i in range (1,cls_num+1):                # Normalization test windows\n",
    "    cls=i\n",
    "    print('\\n cls', i, ' >> ')\n",
    "    print('max magnitude class', i , ' = ' ,np.max(vars()['wndws_tst'+str(cls)][:,:-1]))\n",
    "    print('min magnitude class', i , ' = ' ,np.min(vars()['wndws_tst'+str(cls)][:,:-1]))\n",
    "\n",
    "    vars()['wndws_tst'+str(i)][:,:-1]= 2*(vars()['wndws_tst'+str(i)][:,:-1]-mn_aug)/(mx_aug - mn_aug) - 1\n",
    "    \n",
    "    print('after normalizing >>')\n",
    "    print('max magnitude class', i , ' = ' ,np.max(vars()['wndws_tst'+str(cls)][:,:-1]))\n",
    "    print('min magnitude class', i , ' = ' ,np.min(vars()['wndws_tst'+str(cls)][:,:-1]))\n",
    "    \n",
    "print(\"each class and its windows =\")                    #تجمیع کلاس های تست\n",
    "cls_wndws=np.array([])\n",
    "for cls in range (1,cls_num+1):                                # آرایه ی تعداد پنجره ی هر کلاس\n",
    "    wns=len(vars()['wndws_tst'+str(cls)])\n",
    "    cls_wndws=np.append(cls_wndws,wns)\n",
    "    print(cls, wns, end='\\t')\n",
    "    wndws_test=np.append(wndws_test,vars()['wndws_tst'+str(cls)],axis=0)\n",
    "    \n",
    "mx_wndws=int(np.max(cls_wndws))                        # حداکثر تعداد پنجره ی موجود بین کلاس ها\n",
    "print('\\n max instance in classes of test windows =', mx_wndws)"
   ]
  },
  {
   "cell_type": "code",
   "execution_count": 13,
   "metadata": {},
   "outputs": [
    {
     "name": "stdout",
     "output_type": "stream",
     "text": [
      "min tst = -1.086255540666607\n",
      "max tst = 0.9870409234265398\n"
     ]
    }
   ],
   "source": [
    "print('min tst =', np.min(wndws_test[:,:-1]))\n",
    "print('max tst =', np.max(wndws_test[:,:-1]))"
   ]
  },
  {
   "cell_type": "code",
   "execution_count": 14,
   "metadata": {},
   "outputs": [
    {
     "data": {
      "text/plain": [
       "613"
      ]
     },
     "execution_count": 14,
     "metadata": {},
     "output_type": "execute_result"
    }
   ],
   "source": [
    "len(wndws_test)"
   ]
  },
  {
   "cell_type": "code",
   "execution_count": 15,
   "metadata": {},
   "outputs": [
    {
     "data": {
      "text/plain": [
       "(613, 481)"
      ]
     },
     "execution_count": 15,
     "metadata": {},
     "output_type": "execute_result"
    }
   ],
   "source": [
    "np.shape(wndws_test)"
   ]
  },
  {
   "cell_type": "code",
   "execution_count": 16,
   "metadata": {},
   "outputs": [],
   "source": [
    "Xtest=wndws_test[:,:-1]\n",
    "ytest=np.int16(wndws_test[:,-1])"
   ]
  },
  {
   "cell_type": "code",
   "execution_count": 17,
   "metadata": {},
   "outputs": [
    {
     "name": "stdout",
     "output_type": "stream",
     "text": [
      "array([1, 1, 1, 1, 1, 1, 1, 1, 1, 1, 1, 1, 1, 1, 1, 1, 1, 1, 1, 1, 1, 1,\n",
      "       1, 1, 1, 1, 1, 1, 1, 1, 1, 1, 1, 1, 1, 1, 1, 1, 1, 1, 1, 1, 1, 1,\n",
      "       1, 1, 1, 1, 1, 1, 1, 1, 1, 1, 1, 1, 1, 1, 1, 1, 1, 1, 1, 1, 1, 1,\n",
      "       1, 1, 1, 1, 1, 1, 1, 1, 1, 1, 1, 1, 1, 1, 1, 1, 1, 1, 1, 1, 1, 1,\n",
      "       1, 1, 1, 1, 1, 1, 1, 1, 1, 1, 1, 1, 1, 1, 1, 1, 1, 1, 1, 1, 1, 1,\n",
      "       1, 1, 1, 1, 1, 1, 1, 1, 1, 1, 1, 1, 1, 1, 1, 1, 1, 1, 1, 1, 1, 1,\n",
      "       1, 1, 1, 1, 1, 1, 1, 1, 1, 1, 1, 1, 1, 1, 1, 1, 1, 1, 1, 1, 1, 1,\n",
      "       1, 1, 1, 1, 1, 1, 1, 1, 1, 1, 1, 1, 1, 1, 1, 1, 1, 1, 1, 1, 1, 1,\n",
      "       1, 1, 1, 1, 1, 1, 1, 1, 1, 1, 1, 1, 1, 1, 1, 1, 1, 1, 1, 1, 1, 1,\n",
      "       1, 1, 1, 1, 1, 1, 1, 1, 1, 1, 1, 1, 1, 1, 1, 1, 1, 1, 1, 1, 1, 2,\n",
      "       2, 2, 2, 2, 2, 2, 2, 2, 2, 2, 2, 2, 2, 2, 2, 2, 2, 2, 2, 2, 2, 2,\n",
      "       2, 2, 2, 2, 2, 2, 2, 2, 2, 2, 2, 2, 2, 2, 2, 2, 2, 2, 2, 2, 2, 2,\n",
      "       2, 2, 2, 2, 2, 2, 2, 2, 2, 2, 2, 2, 2, 2, 2, 2, 2, 2, 2, 2, 2, 2,\n",
      "       2, 2, 2, 2, 2, 2, 2, 2, 2, 2, 2, 2, 2, 2, 2, 2, 2, 2, 2, 2, 2, 2,\n",
      "       2, 2, 2, 2, 2, 2, 2, 2, 2, 2, 2, 2, 2, 2, 2, 2, 2, 2, 2, 2, 2, 2,\n",
      "       2, 2, 2, 2, 2, 2, 2, 2, 2, 2, 2, 2, 2, 2, 2, 2, 2, 2, 2, 2, 2, 2,\n",
      "       2, 2, 2, 2, 2, 2, 2, 2, 2, 2, 2, 2, 2, 2, 2, 2, 2, 2, 2, 2, 2, 2,\n",
      "       2, 2, 2, 2, 2, 2, 2, 2, 2, 2, 2, 2, 2, 2, 2, 2, 2, 2, 2, 2, 2, 2,\n",
      "       2, 2, 2, 2, 2, 2, 2, 2, 2, 2, 2, 2, 2, 2, 2, 2, 2, 2, 2, 2, 2, 2,\n",
      "       2, 2, 2, 2, 2, 2, 2, 2, 2, 2, 2, 2, 2, 2, 2, 2, 2, 2, 2, 2, 2, 2,\n",
      "       2, 2, 2, 2, 2, 2, 2, 2, 2, 2, 2, 2, 2, 2, 2, 2, 2, 2, 2, 2, 2, 2,\n",
      "       2, 2, 2, 2, 2, 2, 2, 2, 2, 2, 2, 2, 2, 2, 2, 2, 2, 2, 2, 2, 2, 2,\n",
      "       2, 2, 2, 2, 2, 2, 2, 2, 2, 2, 2, 2, 2, 2, 2, 2, 2, 2, 2, 2, 2, 2,\n",
      "       2, 2, 2, 2, 2, 2, 2, 2, 2, 2, 2, 2, 2, 2, 2, 2, 2, 2, 2, 2, 2, 2,\n",
      "       2, 2, 2, 2, 2, 2, 2, 2, 2, 2, 2, 2, 2, 2, 2, 2, 2, 2, 2, 2, 2, 2,\n",
      "       2, 2, 2, 2, 2, 2, 2, 2, 2, 2, 2, 2, 2, 2, 2, 2, 2, 2, 2, 2, 2, 2,\n",
      "       2, 2, 2, 2, 2, 2, 2, 2, 2, 2, 2, 2, 2, 2, 2, 2, 2, 2, 2, 2, 2, 2,\n",
      "       2, 2, 2, 2, 2, 2, 2, 2, 2, 2, 2, 2, 2, 2, 2, 2, 2, 2, 2],\n",
      "      dtype=int16)\n"
     ]
    }
   ],
   "source": [
    "fullprint(ytest)"
   ]
  },
  {
   "cell_type": "markdown",
   "metadata": {},
   "source": [
    "<h3><center><div style=\"direction:rtl;font-family:B Nazanin\">Train Windows</div></center></h1>"
   ]
  },
  {
   "cell_type": "code",
   "execution_count": 18,
   "metadata": {},
   "outputs": [
    {
     "data": {
      "text/plain": [
       "'\\nytestt=np.int32(np.array([ytest]).T)\\ntestx=np.concatenate((Xtest, ytestt), axis=1)\\ntestx=np.random.permutation(testx)\\nXtest=np.int32(testx[:,:-1])\\nytest=np.int32(testx[:,-1])'"
      ]
     },
     "execution_count": 18,
     "metadata": {},
     "output_type": "execute_result"
    }
   ],
   "source": [
    "#ytraint=np.int32(np.array([ytrain]).T)\n",
    "#trainx=np.concatenate((Xtrain, ytraint), axis=1)\n",
    "trainx=np.random.permutation(xtrain)\n",
    "Xtrain=np.array(trainx[:,:-1])\n",
    "ytrain=np.int16(trainx[:,-1])\n",
    "'''\n",
    "ytestt=np.int32(np.array([ytest]).T)\n",
    "testx=np.concatenate((Xtest, ytestt), axis=1)\n",
    "testx=np.random.permutation(testx)\n",
    "Xtest=np.int32(testx[:,:-1])\n",
    "ytest=np.int32(testx[:,-1])'''"
   ]
  },
  {
   "cell_type": "code",
   "execution_count": 19,
   "metadata": {},
   "outputs": [
    {
     "data": {
      "text/plain": [
       "(132, 481)"
      ]
     },
     "execution_count": 19,
     "metadata": {},
     "output_type": "execute_result"
    }
   ],
   "source": [
    "np.shape(wndws1)"
   ]
  },
  {
   "cell_type": "markdown",
   "metadata": {},
   "source": [
    "<h3><center><div style=\"direction:rtl;font-family:B Nazanin\">Validation Windows</div></center></h1>"
   ]
  },
  {
   "cell_type": "code",
   "execution_count": 20,
   "metadata": {},
   "outputs": [],
   "source": [
    "Xvalid=np.array(Xtrain)\n",
    "yvalid=np.array(ytrain)"
   ]
  },
  {
   "cell_type": "markdown",
   "metadata": {},
   "source": [
    "<h1><center><div style=\"direction:rtl;font-family:B Nazanin\">CNN And UnBalanced RAW Data</div></center></h1>\n",
    "<h1><center><div style=\"direction:rtl;font-family:Arial\">Cross Entropy Loss Function</div></center></h1>"
   ]
  },
  {
   "cell_type": "code",
   "execution_count": 21,
   "metadata": {
    "scrolled": true
   },
   "outputs": [
    {
     "name": "stdout",
     "output_type": "stream",
     "text": [
      "X_train =>  (370, 480)\n",
      "y_train =>  (370,)\n",
      "X_test  =>  (613, 480)\n",
      "y_test  =>  (613,)\n",
      "X_valid  =>  (370, 480)\n",
      "y_valid  =>  (370,)\n"
     ]
    }
   ],
   "source": [
    "X_train=np.array(Xtrain)\n",
    "y_train=np.array(ytrain)\n",
    "X_test=np.array(Xtest)\n",
    "y_test=np.array(ytest)\n",
    "X_valid=np.array(Xtrain)\n",
    "y_valid=np.array(ytrain)\n",
    "print('X_train => ', X_train.shape)\n",
    "print('y_train => ', y_train.shape)\n",
    "print('X_test  => ', X_test.shape)\n",
    "print('y_test  => ', y_test.shape)\n",
    "print('X_valid  => ', X_valid.shape)\n",
    "print('y_valid  => ', y_valid.shape)"
   ]
  },
  {
   "cell_type": "markdown",
   "metadata": {},
   "source": [
    "y_train=np.array(y_train+1)\n",
    "y_test=np.array(y_test+1)\n",
    "y_valid=np.array(y_valid+1)"
   ]
  },
  {
   "cell_type": "code",
   "execution_count": 22,
   "metadata": {},
   "outputs": [],
   "source": [
    "y_train_cat=to_categorical(y_train)\n",
    "y_valid_cat=to_categorical(y_valid)\n",
    "y_test_cat=to_categorical(y_test)\n",
    "\n",
    "\n",
    "X_train = np.expand_dims(X_train, axis=2)\n",
    "X_valid = np.expand_dims(X_valid, axis=2)\n",
    "X_test = np.expand_dims(X_test, axis=2)\n",
    "#y_train=np.transpose([y_train])"
   ]
  },
  {
   "cell_type": "code",
   "execution_count": 23,
   "metadata": {
    "scrolled": true
   },
   "outputs": [
    {
     "name": "stdout",
     "output_type": "stream",
     "text": [
      "Epoch 1/1000\n",
      "19/19 [==============================] - 3s 31ms/step - loss: 0.7919 - accuracy: 0.5865 - val_loss: 0.7416 - val_accuracy: 0.6432\n",
      "Epoch 2/1000\n",
      "19/19 [==============================] - 0s 12ms/step - loss: 0.6713 - accuracy: 0.6270 - val_loss: 0.6546 - val_accuracy: 0.6432\n",
      "Epoch 3/1000\n",
      "19/19 [==============================] - 0s 11ms/step - loss: 0.6764 - accuracy: 0.6189 - val_loss: 0.6727 - val_accuracy: 0.6432\n",
      "Epoch 4/1000\n",
      "19/19 [==============================] - 0s 12ms/step - loss: 0.6260 - accuracy: 0.6486 - val_loss: 0.7243 - val_accuracy: 0.4973\n",
      "Epoch 5/1000\n",
      "19/19 [==============================] - 0s 12ms/step - loss: 0.5959 - accuracy: 0.6649 - val_loss: 0.4844 - val_accuracy: 0.8270\n",
      "Epoch 6/1000\n",
      "19/19 [==============================] - 0s 12ms/step - loss: 0.5286 - accuracy: 0.7243 - val_loss: 0.4383 - val_accuracy: 0.8514\n",
      "Epoch 7/1000\n",
      "19/19 [==============================] - 0s 12ms/step - loss: 0.4614 - accuracy: 0.7514 - val_loss: 0.3457 - val_accuracy: 0.8622\n",
      "Epoch 8/1000\n",
      "19/19 [==============================] - 0s 11ms/step - loss: 0.4094 - accuracy: 0.8108 - val_loss: 0.8585 - val_accuracy: 0.6432\n",
      "Epoch 9/1000\n",
      "19/19 [==============================] - 0s 13ms/step - loss: 0.4046 - accuracy: 0.8351 - val_loss: 0.3511 - val_accuracy: 0.8459\n",
      "Epoch 10/1000\n",
      "19/19 [==============================] - 0s 13ms/step - loss: 0.4212 - accuracy: 0.8000 - val_loss: 0.3039 - val_accuracy: 0.9054\n",
      "Epoch 11/1000\n",
      "19/19 [==============================] - 0s 12ms/step - loss: 0.3520 - accuracy: 0.8351 - val_loss: 0.4817 - val_accuracy: 0.7730\n",
      "Epoch 12/1000\n",
      "19/19 [==============================] - 0s 12ms/step - loss: 0.3311 - accuracy: 0.8541 - val_loss: 0.2663 - val_accuracy: 0.8784\n",
      "Epoch 13/1000\n",
      "19/19 [==============================] - 0s 12ms/step - loss: 0.3151 - accuracy: 0.8622 - val_loss: 0.2323 - val_accuracy: 0.9135\n",
      "Epoch 14/1000\n",
      "19/19 [==============================] - 0s 12ms/step - loss: 0.2825 - accuracy: 0.8811 - val_loss: 0.4287 - val_accuracy: 0.8081\n",
      "Epoch 15/1000\n",
      "19/19 [==============================] - 0s 13ms/step - loss: 0.3111 - accuracy: 0.8649 - val_loss: 0.3372 - val_accuracy: 0.8216\n",
      "Epoch 16/1000\n",
      "19/19 [==============================] - 0s 12ms/step - loss: 0.3078 - accuracy: 0.8730 - val_loss: 0.2382 - val_accuracy: 0.9027\n",
      "Epoch 17/1000\n",
      "19/19 [==============================] - 0s 12ms/step - loss: 0.2388 - accuracy: 0.9081 - val_loss: 0.3474 - val_accuracy: 0.8459\n",
      "Epoch 18/1000\n",
      "19/19 [==============================] - 0s 12ms/step - loss: 0.2998 - accuracy: 0.8622 - val_loss: 0.3858 - val_accuracy: 0.8027\n",
      "Epoch 19/1000\n",
      "19/19 [==============================] - 0s 12ms/step - loss: 0.2669 - accuracy: 0.8838 - val_loss: 0.2130 - val_accuracy: 0.9162\n",
      "Epoch 20/1000\n",
      "19/19 [==============================] - 0s 12ms/step - loss: 0.2631 - accuracy: 0.8946 - val_loss: 0.1777 - val_accuracy: 0.9216\n",
      "Epoch 21/1000\n",
      "19/19 [==============================] - 0s 12ms/step - loss: 0.2227 - accuracy: 0.9081 - val_loss: 0.1403 - val_accuracy: 0.9541\n",
      "Epoch 22/1000\n",
      "19/19 [==============================] - 0s 12ms/step - loss: 0.3252 - accuracy: 0.8541 - val_loss: 0.2233 - val_accuracy: 0.9054\n",
      "Epoch 23/1000\n",
      "19/19 [==============================] - 0s 11ms/step - loss: 0.2017 - accuracy: 0.9189 - val_loss: 0.5993 - val_accuracy: 0.6703\n",
      "Epoch 24/1000\n",
      "19/19 [==============================] - 0s 12ms/step - loss: 0.2580 - accuracy: 0.8865 - val_loss: 0.1548 - val_accuracy: 0.9622\n",
      "Epoch 25/1000\n",
      "19/19 [==============================] - 0s 12ms/step - loss: 0.1718 - accuracy: 0.9378 - val_loss: 0.1307 - val_accuracy: 0.9622\n",
      "Epoch 26/1000\n",
      "19/19 [==============================] - 0s 12ms/step - loss: 0.2046 - accuracy: 0.9297 - val_loss: 0.1301 - val_accuracy: 0.9514\n",
      "Epoch 27/1000\n",
      "19/19 [==============================] - 0s 12ms/step - loss: 0.2312 - accuracy: 0.9135 - val_loss: 0.1989 - val_accuracy: 0.9216\n",
      "Epoch 28/1000\n",
      "19/19 [==============================] - 0s 12ms/step - loss: 0.2010 - accuracy: 0.9378 - val_loss: 0.1664 - val_accuracy: 0.9324\n",
      "Epoch 29/1000\n",
      "19/19 [==============================] - 0s 12ms/step - loss: 0.1848 - accuracy: 0.9297 - val_loss: 0.2283 - val_accuracy: 0.9108\n",
      "Epoch 30/1000\n",
      "19/19 [==============================] - 0s 12ms/step - loss: 0.1872 - accuracy: 0.9270 - val_loss: 0.1553 - val_accuracy: 0.9459\n",
      "Epoch 31/1000\n",
      "19/19 [==============================] - 0s 12ms/step - loss: 0.1951 - accuracy: 0.9459 - val_loss: 1.1934 - val_accuracy: 0.6541\n",
      "Epoch 32/1000\n",
      "19/19 [==============================] - 0s 12ms/step - loss: 0.2474 - accuracy: 0.9081 - val_loss: 0.2062 - val_accuracy: 0.9000\n",
      "Epoch 33/1000\n",
      "19/19 [==============================] - 0s 12ms/step - loss: 0.1534 - accuracy: 0.9405 - val_loss: 0.1403 - val_accuracy: 0.9432\n",
      "Epoch 34/1000\n",
      "19/19 [==============================] - 0s 12ms/step - loss: 0.2872 - accuracy: 0.9216 - val_loss: 0.1425 - val_accuracy: 0.9405\n",
      "Epoch 35/1000\n",
      "19/19 [==============================] - 0s 12ms/step - loss: 0.1865 - accuracy: 0.9324 - val_loss: 0.1568 - val_accuracy: 0.9405\n",
      "Epoch 36/1000\n",
      "19/19 [==============================] - 0s 12ms/step - loss: 0.2080 - accuracy: 0.9135 - val_loss: 0.1700 - val_accuracy: 0.9324\n",
      "Epoch 37/1000\n",
      "19/19 [==============================] - 0s 12ms/step - loss: 0.1722 - accuracy: 0.9378 - val_loss: 0.2292 - val_accuracy: 0.8892\n",
      "Epoch 38/1000\n",
      "19/19 [==============================] - 0s 11ms/step - loss: 0.1792 - accuracy: 0.9243 - val_loss: 0.1799 - val_accuracy: 0.9270\n",
      "Epoch 39/1000\n",
      "19/19 [==============================] - 0s 12ms/step - loss: 0.1489 - accuracy: 0.9324 - val_loss: 0.1125 - val_accuracy: 0.9649\n",
      "Epoch 40/1000\n",
      "19/19 [==============================] - 0s 12ms/step - loss: 0.1482 - accuracy: 0.9378 - val_loss: 0.0897 - val_accuracy: 0.9676\n",
      "Epoch 41/1000\n",
      "19/19 [==============================] - 0s 12ms/step - loss: 0.1508 - accuracy: 0.9486 - val_loss: 0.3425 - val_accuracy: 0.8189\n",
      "Epoch 42/1000\n",
      "19/19 [==============================] - 0s 12ms/step - loss: 0.2415 - accuracy: 0.9162 - val_loss: 0.1642 - val_accuracy: 0.9378\n",
      "Epoch 43/1000\n",
      "19/19 [==============================] - 0s 11ms/step - loss: 0.1960 - accuracy: 0.9378 - val_loss: 0.2674 - val_accuracy: 0.8811\n",
      "Epoch 44/1000\n",
      "19/19 [==============================] - 0s 12ms/step - loss: 0.1489 - accuracy: 0.9432 - val_loss: 0.0980 - val_accuracy: 0.9676\n",
      "Epoch 45/1000\n",
      "19/19 [==============================] - 0s 13ms/step - loss: 0.1403 - accuracy: 0.9432 - val_loss: 0.1154 - val_accuracy: 0.9703\n",
      "Epoch 46/1000\n",
      "19/19 [==============================] - 0s 11ms/step - loss: 0.1427 - accuracy: 0.9324 - val_loss: 0.0951 - val_accuracy: 0.9649\n",
      "Epoch 47/1000\n",
      "19/19 [==============================] - 0s 12ms/step - loss: 0.1790 - accuracy: 0.9351 - val_loss: 0.1315 - val_accuracy: 0.9459\n",
      "Epoch 48/1000\n",
      "19/19 [==============================] - 0s 12ms/step - loss: 0.1478 - accuracy: 0.9405 - val_loss: 0.4477 - val_accuracy: 0.8405\n",
      "Epoch 49/1000\n",
      "19/19 [==============================] - 0s 13ms/step - loss: 0.1777 - accuracy: 0.9297 - val_loss: 0.1030 - val_accuracy: 0.9568\n",
      "Epoch 50/1000\n",
      "19/19 [==============================] - 0s 12ms/step - loss: 0.1409 - accuracy: 0.9514 - val_loss: 0.0939 - val_accuracy: 0.9622\n",
      "Epoch 51/1000\n",
      "19/19 [==============================] - 0s 12ms/step - loss: 0.1533 - accuracy: 0.9432 - val_loss: 0.2332 - val_accuracy: 0.8946\n",
      "Epoch 52/1000\n",
      "19/19 [==============================] - 0s 12ms/step - loss: 0.1262 - accuracy: 0.9486 - val_loss: 0.1551 - val_accuracy: 0.9378\n",
      "Epoch 53/1000\n",
      "19/19 [==============================] - 0s 12ms/step - loss: 0.1123 - accuracy: 0.9541 - val_loss: 0.1052 - val_accuracy: 0.9649\n",
      "Epoch 54/1000\n",
      "19/19 [==============================] - 0s 12ms/step - loss: 0.1563 - accuracy: 0.9351 - val_loss: 0.2073 - val_accuracy: 0.9162\n",
      "Epoch 55/1000\n",
      "19/19 [==============================] - 0s 12ms/step - loss: 0.1328 - accuracy: 0.9378 - val_loss: 0.1330 - val_accuracy: 0.9568\n",
      "Epoch 56/1000\n",
      "19/19 [==============================] - 0s 12ms/step - loss: 0.1159 - accuracy: 0.9486 - val_loss: 0.1309 - val_accuracy: 0.9432\n",
      "Epoch 57/1000\n",
      "19/19 [==============================] - 0s 11ms/step - loss: 0.1695 - accuracy: 0.9514 - val_loss: 0.4365 - val_accuracy: 0.7405\n"
     ]
    },
    {
     "name": "stdout",
     "output_type": "stream",
     "text": [
      "Epoch 58/1000\n",
      "19/19 [==============================] - 0s 12ms/step - loss: 0.1322 - accuracy: 0.9405 - val_loss: 0.2411 - val_accuracy: 0.9054\n",
      "Epoch 59/1000\n",
      "19/19 [==============================] - 0s 12ms/step - loss: 0.1305 - accuracy: 0.9486 - val_loss: 0.1089 - val_accuracy: 0.9541\n",
      "Epoch 60/1000\n",
      "19/19 [==============================] - 0s 12ms/step - loss: 0.1419 - accuracy: 0.9432 - val_loss: 0.2640 - val_accuracy: 0.9054\n",
      "Epoch 61/1000\n",
      "19/19 [==============================] - 0s 12ms/step - loss: 0.1710 - accuracy: 0.9270 - val_loss: 0.0898 - val_accuracy: 0.9703\n",
      "Epoch 62/1000\n",
      "19/19 [==============================] - 0s 12ms/step - loss: 0.1423 - accuracy: 0.9541 - val_loss: 0.0924 - val_accuracy: 0.9676\n",
      "Epoch 63/1000\n",
      "19/19 [==============================] - 0s 12ms/step - loss: 0.1911 - accuracy: 0.9405 - val_loss: 0.2359 - val_accuracy: 0.8946\n",
      "Epoch 64/1000\n",
      "19/19 [==============================] - 0s 12ms/step - loss: 0.0997 - accuracy: 0.9703 - val_loss: 0.2027 - val_accuracy: 0.9459\n",
      "Epoch 65/1000\n",
      "19/19 [==============================] - 0s 14ms/step - loss: 0.2857 - accuracy: 0.9189 - val_loss: 0.1142 - val_accuracy: 0.9622\n",
      "19/19 [==============================] - 0s 3ms/step - loss: 0.1154 - accuracy: 0.9703\n",
      "np.shape(X_test)= (613, 480, 1)\n",
      "Model: \"sequential\"\n",
      "_________________________________________________________________\n",
      " Layer (type)                Output Shape              Param #   \n",
      "=================================================================\n",
      " conv1d (Conv1D)             (None, 478, 32)           128       \n",
      "                                                                 \n",
      " conv1d_1 (Conv1D)           (None, 476, 64)           6208      \n",
      "                                                                 \n",
      " max_pooling1d (MaxPooling1D  (None, 158, 64)          0         \n",
      " )                                                               \n",
      "                                                                 \n",
      " conv1d_2 (Conv1D)           (None, 156, 128)          24704     \n",
      "                                                                 \n",
      " max_pooling1d_1 (MaxPooling  (None, 52, 128)          0         \n",
      " 1D)                                                             \n",
      "                                                                 \n",
      " conv1d_3 (Conv1D)           (None, 50, 128)           49280     \n",
      "                                                                 \n",
      " max_pooling1d_2 (MaxPooling  (None, 16, 128)          0         \n",
      " 1D)                                                             \n",
      "                                                                 \n",
      " conv1d_4 (Conv1D)           (None, 14, 256)           98560     \n",
      "                                                                 \n",
      " max_pooling1d_3 (MaxPooling  (None, 4, 256)           0         \n",
      " 1D)                                                             \n",
      "                                                                 \n",
      " flatten (Flatten)           (None, 1024)              0         \n",
      "                                                                 \n",
      " dense (Dense)               (None, 2000)              2050000   \n",
      "                                                                 \n",
      " dense_1 (Dense)             (None, 3)                 6003      \n",
      "                                                                 \n",
      "=================================================================\n",
      "Total params: 2,234,883\n",
      "Trainable params: 2,234,883\n",
      "Non-trainable params: 0\n",
      "_________________________________________________________________\n",
      "Accuracy=  0.9702702760696411\n"
     ]
    }
   ],
   "source": [
    "accuracy=0\n",
    "acc_crs=np.array([])\n",
    "##for i in range (10):\n",
    "##    if accuracy<0.2 :\n",
    "\n",
    "verbose, epochs, batch_size = 0, 1000, btch\n",
    "n_timesteps, n_features, n_outputs = X_train.shape[1], X_train.shape[2], y_train_cat.shape[1]\n",
    "steps_per_epoch = len(X_train)//batch_size\n",
    "validation_steps = len(X_valid)//batch_size # if you have test data\n",
    "\n",
    "model_crs = Sequential()\n",
    "BatchNormalization()\n",
    "model_crs.add(Conv1D(filters=32, kernel_size=3, activation='relu', input_shape=(n_timesteps,n_features)))\n",
    "#model_crs.add(MaxPooling1D(pool_size=3))\n",
    "BatchNormalization()\n",
    "model_crs.add(Conv1D(filters=64, kernel_size=3, activation='relu'))\n",
    "#model_crs.add(Dropout(0.5))\n",
    "model_crs.add(MaxPooling1D(pool_size=3))\n",
    "BatchNormalization()\n",
    "model_crs.add(Conv1D(filters=128, kernel_size=3, activation='relu'))\n",
    "model_crs.add(MaxPooling1D(pool_size=3))\n",
    "BatchNormalization()\n",
    "model_crs.add(Conv1D(filters=128, kernel_size=3, activation='relu'))\n",
    "model_crs.add(MaxPooling1D(pool_size=3))\n",
    "BatchNormalization()\n",
    "model_crs.add(Conv1D(filters=256, kernel_size=3, activation='relu'))\n",
    "model_crs.add(MaxPooling1D(pool_size=3))\n",
    "'''model_crs.add(Conv1D(filters=512, kernel_size=3, activation='relu'))\n",
    "model_crs.add(MaxPooling1D(pool_size=3))\n",
    "model_crs.add(Conv1D(filters=1024, kernel_size=3, activation='relu'))\n",
    "model_crs.add(MaxPooling1D(pool_size=3))\n",
    "'''\n",
    "model_crs.add(Flatten())\n",
    "#model_crs.add(Dropout(0.5))\n",
    "model_crs.add(Dense(2000, activation='relu'))\n",
    "model_crs.add(Dense(n_outputs, activation='softmax'))\n",
    "model_crs.compile(optimizer='rmsprop', loss='categorical_crossentropy', metrics=['accuracy'])\n",
    "# fit network   #CategoricalCrossentropy #sparse_categorical_crossentropy #SparseCategoricalCrossentropy\n",
    "\n",
    "earlystopping = callbacks.EarlyStopping(monitor =\"val_accuracy\", mode =\"max\", patience = 20, restore_best_weights = True)\n",
    "\n",
    "model_crs.fit(X_train, y_train_cat, epochs=epochs, batch_size=batch_size, verbose=verbose, validation_data = (X_valid, y_valid_cat), callbacks =[earlystopping])\n",
    "# evaluate model_crs\n",
    "_, accuracy = model_crs.evaluate(X_valid, y_valid_cat, batch_size=batch_size, verbose=verbose)\n",
    "\n",
    "print('np.shape(X_test)=',np.shape(X_test))\n",
    "\n",
    "\n",
    "model_crs.summary()\n",
    "print('Accuracy= ', accuracy)\n",
    "\n",
    "#output = K.function([model_crs.layers[0].input],[model_crs.layers[3].output])\n",
    "#output(X_test)[0]\n",
    "#y_pred= model_crs.predict(X_test)                # Function 1\n",
    "\n",
    "##    print('Round ', i, '==>', 'accuracy = ', accuracy)\n",
    "##    acc_crs=np.append(acc_crs,accuracy)\n",
    "#y_pred_crs = model_crs.predict_classes(X_test)   # Function 2"
   ]
  },
  {
   "cell_type": "code",
   "execution_count": 25,
   "metadata": {},
   "outputs": [
    {
     "name": "stdout",
     "output_type": "stream",
     "text": [
      "20/20 [==============================] - 0s 5ms/step\n",
      "array([[200,  19],\n",
      "       [  7, 387]], dtype=int64)\n",
      "              precision    recall  f1-score   support\n",
      "\n",
      "           1       0.97      0.91      0.94       219\n",
      "           2       0.95      0.98      0.97       394\n",
      "\n",
      "    accuracy                           0.96       613\n",
      "   macro avg       0.96      0.95      0.95       613\n",
      "weighted avg       0.96      0.96      0.96       613\n",
      "\n"
     ]
    }
   ],
   "source": [
    "predict_x=model_crs.predict(X_test)                       # Function 1\n",
    "\n",
    "y_pred_crs=np.argmax(predict_x,axis=0)                    # function from augment.py to remove 0 index predictions\n",
    "\n",
    "#y_pred_crs = model_crs.predict_classes(X_test)\n",
    "\n",
    "cm = confusion_matrix(y_test, y_pred_crs)\n",
    "fullprint(cm)\n",
    "acc3=accuracy_score(y_test, y_pred_crs)\n",
    "\n",
    "print(classification_report(y_test, y_pred_crs))\n",
    "\n",
    "#sns.heatmap(cm, annot=True)\n",
    "\n",
    "#plt.imshow(cm)"
   ]
  },
  {
   "cell_type": "code",
   "execution_count": 26,
   "metadata": {},
   "outputs": [
    {
     "name": "stdout",
     "output_type": "stream",
     "text": [
      "Epoch 1/1000\n",
      "19/19 [==============================] - 2s 31ms/step - loss: 1.1349 - accuracy: 0.6459 - val_loss: 0.6524 - val_accuracy: 0.6432\n",
      "Epoch 2/1000\n",
      "19/19 [==============================] - 0s 13ms/step - loss: 0.6918 - accuracy: 0.6378 - val_loss: 0.7269 - val_accuracy: 0.6081\n",
      "Epoch 3/1000\n",
      "19/19 [==============================] - 0s 13ms/step - loss: 0.6625 - accuracy: 0.6297 - val_loss: 0.6975 - val_accuracy: 0.4703\n",
      "Epoch 4/1000\n",
      "19/19 [==============================] - 0s 13ms/step - loss: 0.7210 - accuracy: 0.6000 - val_loss: 0.6413 - val_accuracy: 0.6432\n",
      "Epoch 5/1000\n",
      "19/19 [==============================] - 0s 13ms/step - loss: 0.6266 - accuracy: 0.6216 - val_loss: 0.5643 - val_accuracy: 0.7811\n",
      "Epoch 6/1000\n",
      "19/19 [==============================] - 0s 13ms/step - loss: 0.6051 - accuracy: 0.6703 - val_loss: 0.5201 - val_accuracy: 0.8135\n",
      "Epoch 7/1000\n",
      "19/19 [==============================] - 0s 13ms/step - loss: 0.5447 - accuracy: 0.7216 - val_loss: 0.5414 - val_accuracy: 0.6649\n",
      "Epoch 8/1000\n",
      "19/19 [==============================] - 0s 13ms/step - loss: 0.5386 - accuracy: 0.7216 - val_loss: 0.3997 - val_accuracy: 0.8135\n",
      "Epoch 9/1000\n",
      "19/19 [==============================] - 0s 13ms/step - loss: 0.4870 - accuracy: 0.7189 - val_loss: 0.5044 - val_accuracy: 0.6784\n",
      "Epoch 10/1000\n",
      "19/19 [==============================] - 0s 14ms/step - loss: 0.4386 - accuracy: 0.7757 - val_loss: 0.3676 - val_accuracy: 0.8270\n",
      "Epoch 11/1000\n",
      "19/19 [==============================] - 0s 13ms/step - loss: 0.4638 - accuracy: 0.7757 - val_loss: 0.4617 - val_accuracy: 0.7243\n",
      "Epoch 12/1000\n",
      "19/19 [==============================] - 0s 13ms/step - loss: 0.4033 - accuracy: 0.8270 - val_loss: 0.7000 - val_accuracy: 0.6459\n",
      "Epoch 13/1000\n",
      "19/19 [==============================] - 0s 14ms/step - loss: 0.4173 - accuracy: 0.8243 - val_loss: 0.4153 - val_accuracy: 0.8243\n",
      "Epoch 14/1000\n",
      "19/19 [==============================] - 0s 14ms/step - loss: 0.4082 - accuracy: 0.8378 - val_loss: 0.4175 - val_accuracy: 0.8000\n",
      "Epoch 15/1000\n",
      "19/19 [==============================] - 0s 15ms/step - loss: 0.4499 - accuracy: 0.8351 - val_loss: 0.3361 - val_accuracy: 0.8703\n",
      "Epoch 16/1000\n",
      "19/19 [==============================] - 0s 14ms/step - loss: 0.3265 - accuracy: 0.8459 - val_loss: 0.5155 - val_accuracy: 0.7838\n",
      "Epoch 17/1000\n",
      "19/19 [==============================] - 0s 15ms/step - loss: 0.4055 - accuracy: 0.8054 - val_loss: 0.4692 - val_accuracy: 0.7514\n",
      "Epoch 18/1000\n",
      "19/19 [==============================] - 0s 14ms/step - loss: 0.4065 - accuracy: 0.8162 - val_loss: 0.3761 - val_accuracy: 0.8216\n",
      "Epoch 19/1000\n",
      "19/19 [==============================] - 0s 13ms/step - loss: 0.3424 - accuracy: 0.8622 - val_loss: 0.3333 - val_accuracy: 0.8568\n",
      "Epoch 20/1000\n",
      "19/19 [==============================] - 0s 13ms/step - loss: 0.3647 - accuracy: 0.8297 - val_loss: 0.3951 - val_accuracy: 0.7676\n",
      "Epoch 21/1000\n",
      "19/19 [==============================] - 0s 13ms/step - loss: 0.3130 - accuracy: 0.8405 - val_loss: 0.4598 - val_accuracy: 0.8081\n",
      "Epoch 22/1000\n",
      "19/19 [==============================] - 0s 13ms/step - loss: 0.3596 - accuracy: 0.8568 - val_loss: 0.2998 - val_accuracy: 0.8703\n",
      "Epoch 23/1000\n",
      "19/19 [==============================] - 0s 13ms/step - loss: 0.3027 - accuracy: 0.8514 - val_loss: 0.2350 - val_accuracy: 0.9189\n",
      "Epoch 24/1000\n",
      "19/19 [==============================] - 0s 13ms/step - loss: 0.3134 - accuracy: 0.8649 - val_loss: 0.6032 - val_accuracy: 0.7405\n",
      "Epoch 25/1000\n",
      "19/19 [==============================] - 0s 13ms/step - loss: 0.2735 - accuracy: 0.8838 - val_loss: 0.4129 - val_accuracy: 0.8000\n",
      "Epoch 26/1000\n",
      "19/19 [==============================] - 0s 14ms/step - loss: 0.3001 - accuracy: 0.8649 - val_loss: 0.4006 - val_accuracy: 0.8054\n",
      "Epoch 27/1000\n",
      "19/19 [==============================] - 0s 14ms/step - loss: 0.3098 - accuracy: 0.8541 - val_loss: 0.5188 - val_accuracy: 0.7054\n",
      "Epoch 28/1000\n",
      "19/19 [==============================] - 0s 14ms/step - loss: 0.3218 - accuracy: 0.8838 - val_loss: 0.2418 - val_accuracy: 0.9054\n",
      "Epoch 29/1000\n",
      "19/19 [==============================] - 0s 14ms/step - loss: 0.2456 - accuracy: 0.8946 - val_loss: 0.1969 - val_accuracy: 0.9270\n",
      "Epoch 30/1000\n",
      "19/19 [==============================] - 0s 14ms/step - loss: 0.2733 - accuracy: 0.8784 - val_loss: 0.2000 - val_accuracy: 0.9297\n",
      "Epoch 31/1000\n",
      "19/19 [==============================] - 0s 13ms/step - loss: 0.2989 - accuracy: 0.8757 - val_loss: 0.2208 - val_accuracy: 0.9216\n",
      "Epoch 32/1000\n",
      "19/19 [==============================] - 0s 13ms/step - loss: 0.2581 - accuracy: 0.9054 - val_loss: 0.3080 - val_accuracy: 0.8405\n",
      "Epoch 33/1000\n",
      "19/19 [==============================] - 0s 14ms/step - loss: 0.2772 - accuracy: 0.8784 - val_loss: 0.1896 - val_accuracy: 0.9378\n",
      "Epoch 34/1000\n",
      "19/19 [==============================] - 0s 13ms/step - loss: 0.2650 - accuracy: 0.8865 - val_loss: 0.2079 - val_accuracy: 0.9351\n",
      "Epoch 35/1000\n",
      "19/19 [==============================] - 0s 13ms/step - loss: 0.2499 - accuracy: 0.9189 - val_loss: 0.1792 - val_accuracy: 0.9378\n",
      "Epoch 36/1000\n",
      "19/19 [==============================] - 0s 13ms/step - loss: 0.2511 - accuracy: 0.8892 - val_loss: 0.2667 - val_accuracy: 0.8541\n",
      "Epoch 37/1000\n",
      "19/19 [==============================] - 0s 13ms/step - loss: 0.2244 - accuracy: 0.9081 - val_loss: 0.3817 - val_accuracy: 0.8405\n",
      "Epoch 38/1000\n",
      "19/19 [==============================] - 0s 13ms/step - loss: 0.2592 - accuracy: 0.9135 - val_loss: 0.1382 - val_accuracy: 0.9486\n",
      "Epoch 39/1000\n",
      "19/19 [==============================] - 0s 13ms/step - loss: 0.2185 - accuracy: 0.9081 - val_loss: 0.1959 - val_accuracy: 0.9081\n",
      "Epoch 40/1000\n",
      "19/19 [==============================] - 0s 13ms/step - loss: 0.2163 - accuracy: 0.9162 - val_loss: 0.1823 - val_accuracy: 0.9378\n",
      "Epoch 41/1000\n",
      "19/19 [==============================] - 0s 13ms/step - loss: 0.2339 - accuracy: 0.9054 - val_loss: 0.1908 - val_accuracy: 0.9216\n",
      "Epoch 42/1000\n",
      "19/19 [==============================] - 0s 13ms/step - loss: 0.1932 - accuracy: 0.9081 - val_loss: 0.2114 - val_accuracy: 0.9108\n",
      "Epoch 43/1000\n",
      "19/19 [==============================] - 0s 13ms/step - loss: 0.2231 - accuracy: 0.9189 - val_loss: 0.1974 - val_accuracy: 0.9270\n",
      "Epoch 44/1000\n",
      "19/19 [==============================] - 0s 13ms/step - loss: 0.2246 - accuracy: 0.9054 - val_loss: 0.1858 - val_accuracy: 0.9297\n",
      "Epoch 45/1000\n",
      "19/19 [==============================] - 0s 13ms/step - loss: 0.2660 - accuracy: 0.8784 - val_loss: 0.2033 - val_accuracy: 0.9324\n",
      "Epoch 46/1000\n",
      "19/19 [==============================] - 0s 13ms/step - loss: 0.1751 - accuracy: 0.9135 - val_loss: 0.5119 - val_accuracy: 0.8378\n",
      "Epoch 47/1000\n",
      "19/19 [==============================] - 0s 13ms/step - loss: 0.2708 - accuracy: 0.8973 - val_loss: 0.2300 - val_accuracy: 0.9135\n",
      "Epoch 48/1000\n",
      "19/19 [==============================] - 0s 15ms/step - loss: 0.2054 - accuracy: 0.9054 - val_loss: 0.1145 - val_accuracy: 0.9595\n",
      "Epoch 49/1000\n",
      "19/19 [==============================] - 0s 14ms/step - loss: 0.2588 - accuracy: 0.9108 - val_loss: 0.1237 - val_accuracy: 0.9595\n",
      "Epoch 50/1000\n",
      "19/19 [==============================] - 0s 14ms/step - loss: 0.1740 - accuracy: 0.9459 - val_loss: 0.3050 - val_accuracy: 0.9027\n",
      "Epoch 51/1000\n",
      "19/19 [==============================] - 0s 13ms/step - loss: 0.2109 - accuracy: 0.9081 - val_loss: 0.1778 - val_accuracy: 0.9351\n",
      "Epoch 52/1000\n",
      "19/19 [==============================] - 0s 13ms/step - loss: 0.2207 - accuracy: 0.9216 - val_loss: 0.2142 - val_accuracy: 0.9054\n",
      "Epoch 53/1000\n",
      "19/19 [==============================] - 0s 13ms/step - loss: 0.2335 - accuracy: 0.9000 - val_loss: 0.2438 - val_accuracy: 0.9054\n",
      "Epoch 54/1000\n",
      "19/19 [==============================] - 0s 13ms/step - loss: 0.1858 - accuracy: 0.9216 - val_loss: 0.1456 - val_accuracy: 0.9405\n",
      "Epoch 55/1000\n",
      "19/19 [==============================] - 0s 13ms/step - loss: 0.2365 - accuracy: 0.9000 - val_loss: 0.1062 - val_accuracy: 0.9568\n",
      "Epoch 56/1000\n",
      "19/19 [==============================] - 0s 13ms/step - loss: 0.1726 - accuracy: 0.9270 - val_loss: 0.1384 - val_accuracy: 0.9378\n",
      "Epoch 57/1000\n",
      "19/19 [==============================] - 0s 13ms/step - loss: 0.1828 - accuracy: 0.9351 - val_loss: 0.1160 - val_accuracy: 0.9595\n"
     ]
    },
    {
     "name": "stdout",
     "output_type": "stream",
     "text": [
      "Epoch 58/1000\n",
      "19/19 [==============================] - 0s 13ms/step - loss: 0.1988 - accuracy: 0.9108 - val_loss: 0.1204 - val_accuracy: 0.9405\n",
      "Epoch 59/1000\n",
      "19/19 [==============================] - 0s 13ms/step - loss: 0.1940 - accuracy: 0.9189 - val_loss: 0.2540 - val_accuracy: 0.8946\n",
      "Epoch 60/1000\n",
      "19/19 [==============================] - 0s 13ms/step - loss: 0.1987 - accuracy: 0.9162 - val_loss: 0.3726 - val_accuracy: 0.8324\n",
      "Epoch 61/1000\n",
      "19/19 [==============================] - 0s 13ms/step - loss: 0.2007 - accuracy: 0.9297 - val_loss: 0.2314 - val_accuracy: 0.8892\n",
      "Epoch 62/1000\n",
      "19/19 [==============================] - 0s 13ms/step - loss: 0.1511 - accuracy: 0.9432 - val_loss: 0.3213 - val_accuracy: 0.9135\n",
      "Epoch 63/1000\n",
      "19/19 [==============================] - 0s 13ms/step - loss: 0.1933 - accuracy: 0.9135 - val_loss: 0.1241 - val_accuracy: 0.9405\n",
      "Epoch 64/1000\n",
      "19/19 [==============================] - 0s 13ms/step - loss: 0.1511 - accuracy: 0.9270 - val_loss: 0.1386 - val_accuracy: 0.9486\n",
      "Epoch 65/1000\n",
      "19/19 [==============================] - 0s 13ms/step - loss: 0.2112 - accuracy: 0.9189 - val_loss: 0.1593 - val_accuracy: 0.9243\n",
      "Epoch 66/1000\n",
      "19/19 [==============================] - 0s 13ms/step - loss: 0.2015 - accuracy: 0.9405 - val_loss: 0.2112 - val_accuracy: 0.9189\n",
      "Epoch 67/1000\n",
      "19/19 [==============================] - 0s 14ms/step - loss: 0.2045 - accuracy: 0.9243 - val_loss: 0.0992 - val_accuracy: 0.9649\n",
      "Epoch 68/1000\n",
      "19/19 [==============================] - 0s 13ms/step - loss: 0.1907 - accuracy: 0.9270 - val_loss: 0.1117 - val_accuracy: 0.9595\n",
      "Epoch 69/1000\n",
      "19/19 [==============================] - 0s 13ms/step - loss: 0.1639 - accuracy: 0.9405 - val_loss: 0.9333 - val_accuracy: 0.6486\n",
      "Epoch 70/1000\n",
      "19/19 [==============================] - 0s 13ms/step - loss: 0.2366 - accuracy: 0.9081 - val_loss: 0.3013 - val_accuracy: 0.8324\n",
      "Epoch 71/1000\n",
      "19/19 [==============================] - 0s 13ms/step - loss: 0.1587 - accuracy: 0.9351 - val_loss: 0.1233 - val_accuracy: 0.9514\n",
      "Epoch 72/1000\n",
      "19/19 [==============================] - 0s 13ms/step - loss: 0.2143 - accuracy: 0.9270 - val_loss: 0.1205 - val_accuracy: 0.9541\n",
      "Epoch 73/1000\n",
      "19/19 [==============================] - 0s 13ms/step - loss: 0.1518 - accuracy: 0.9378 - val_loss: 0.1237 - val_accuracy: 0.9459\n",
      "Epoch 74/1000\n",
      "19/19 [==============================] - 0s 13ms/step - loss: 0.1550 - accuracy: 0.9324 - val_loss: 0.4079 - val_accuracy: 0.8297\n",
      "Epoch 75/1000\n",
      "19/19 [==============================] - 0s 13ms/step - loss: 0.1892 - accuracy: 0.9270 - val_loss: 0.2763 - val_accuracy: 0.8568\n",
      "Epoch 76/1000\n",
      "19/19 [==============================] - 0s 13ms/step - loss: 0.1862 - accuracy: 0.9351 - val_loss: 0.2458 - val_accuracy: 0.8568\n",
      "Epoch 77/1000\n",
      "19/19 [==============================] - 0s 13ms/step - loss: 0.1891 - accuracy: 0.9378 - val_loss: 0.2404 - val_accuracy: 0.9027\n",
      "Epoch 78/1000\n",
      "19/19 [==============================] - 0s 13ms/step - loss: 0.1432 - accuracy: 0.9486 - val_loss: 0.1956 - val_accuracy: 0.9081\n",
      "Epoch 79/1000\n",
      "19/19 [==============================] - 0s 13ms/step - loss: 0.1524 - accuracy: 0.9405 - val_loss: 0.1105 - val_accuracy: 0.9514\n",
      "Epoch 80/1000\n",
      "19/19 [==============================] - 0s 13ms/step - loss: 0.1516 - accuracy: 0.9378 - val_loss: 0.2738 - val_accuracy: 0.8703\n",
      "Epoch 81/1000\n",
      "19/19 [==============================] - 0s 13ms/step - loss: 0.1514 - accuracy: 0.9432 - val_loss: 0.1090 - val_accuracy: 0.9595\n",
      "Epoch 82/1000\n",
      "19/19 [==============================] - 0s 13ms/step - loss: 0.1770 - accuracy: 0.9243 - val_loss: 0.0989 - val_accuracy: 0.9568\n",
      "Epoch 83/1000\n",
      "19/19 [==============================] - 0s 13ms/step - loss: 0.1221 - accuracy: 0.9459 - val_loss: 0.0912 - val_accuracy: 0.9676\n",
      "Epoch 84/1000\n",
      "19/19 [==============================] - 0s 13ms/step - loss: 0.1548 - accuracy: 0.9378 - val_loss: 0.1145 - val_accuracy: 0.9595\n",
      "Epoch 85/1000\n",
      "19/19 [==============================] - 0s 13ms/step - loss: 0.2449 - accuracy: 0.9270 - val_loss: 0.0961 - val_accuracy: 0.9568\n",
      "Epoch 86/1000\n",
      "19/19 [==============================] - 0s 13ms/step - loss: 0.1370 - accuracy: 0.9405 - val_loss: 0.1067 - val_accuracy: 0.9595\n",
      "Epoch 87/1000\n",
      "19/19 [==============================] - 0s 14ms/step - loss: 0.1940 - accuracy: 0.9324 - val_loss: 0.1198 - val_accuracy: 0.9568\n",
      "Epoch 88/1000\n",
      "19/19 [==============================] - 0s 14ms/step - loss: 0.1244 - accuracy: 0.9514 - val_loss: 0.0743 - val_accuracy: 0.9703\n",
      "Epoch 89/1000\n",
      "19/19 [==============================] - 0s 13ms/step - loss: 0.1298 - accuracy: 0.9486 - val_loss: 0.5467 - val_accuracy: 0.8081\n",
      "Epoch 90/1000\n",
      "19/19 [==============================] - 0s 14ms/step - loss: 0.2463 - accuracy: 0.9243 - val_loss: 0.0798 - val_accuracy: 0.9730\n",
      "Epoch 91/1000\n",
      "19/19 [==============================] - 0s 13ms/step - loss: 0.1292 - accuracy: 0.9514 - val_loss: 0.0790 - val_accuracy: 0.9703\n",
      "Epoch 92/1000\n",
      "19/19 [==============================] - 0s 13ms/step - loss: 0.1609 - accuracy: 0.9405 - val_loss: 0.0880 - val_accuracy: 0.9703\n",
      "Epoch 93/1000\n",
      "19/19 [==============================] - 0s 13ms/step - loss: 0.1305 - accuracy: 0.9432 - val_loss: 0.1105 - val_accuracy: 0.9595\n",
      "Epoch 94/1000\n",
      "19/19 [==============================] - 0s 13ms/step - loss: 0.1336 - accuracy: 0.9514 - val_loss: 0.1358 - val_accuracy: 0.9486\n",
      "Epoch 95/1000\n",
      "19/19 [==============================] - 0s 13ms/step - loss: 0.1426 - accuracy: 0.9432 - val_loss: 0.0908 - val_accuracy: 0.9622\n",
      "Epoch 96/1000\n",
      "19/19 [==============================] - 0s 13ms/step - loss: 0.1467 - accuracy: 0.9459 - val_loss: 0.2120 - val_accuracy: 0.9216\n",
      "Epoch 97/1000\n",
      "19/19 [==============================] - 0s 13ms/step - loss: 0.1934 - accuracy: 0.9351 - val_loss: 0.1018 - val_accuracy: 0.9595\n",
      "Epoch 98/1000\n",
      "19/19 [==============================] - 0s 13ms/step - loss: 0.1215 - accuracy: 0.9486 - val_loss: 0.2286 - val_accuracy: 0.9270\n",
      "Epoch 99/1000\n",
      "19/19 [==============================] - 0s 13ms/step - loss: 0.1191 - accuracy: 0.9541 - val_loss: 0.1185 - val_accuracy: 0.9568\n",
      "Epoch 100/1000\n",
      "19/19 [==============================] - 0s 13ms/step - loss: 0.1220 - accuracy: 0.9459 - val_loss: 0.1240 - val_accuracy: 0.9486\n",
      "Epoch 101/1000\n",
      "19/19 [==============================] - 0s 13ms/step - loss: 0.1323 - accuracy: 0.9514 - val_loss: 0.1355 - val_accuracy: 0.9297\n",
      "Epoch 102/1000\n",
      "19/19 [==============================] - 0s 13ms/step - loss: 0.1225 - accuracy: 0.9405 - val_loss: 0.1695 - val_accuracy: 0.9595\n",
      "Epoch 103/1000\n",
      "19/19 [==============================] - 0s 13ms/step - loss: 0.1347 - accuracy: 0.9486 - val_loss: 0.2863 - val_accuracy: 0.8919\n",
      "Epoch 104/1000\n",
      "19/19 [==============================] - 0s 13ms/step - loss: 0.1371 - accuracy: 0.9432 - val_loss: 0.1779 - val_accuracy: 0.9432\n",
      "Epoch 105/1000\n",
      "19/19 [==============================] - 0s 13ms/step - loss: 0.1531 - accuracy: 0.9351 - val_loss: 0.1348 - val_accuracy: 0.9297\n",
      "Epoch 106/1000\n",
      "19/19 [==============================] - 0s 13ms/step - loss: 0.1387 - accuracy: 0.9514 - val_loss: 0.0717 - val_accuracy: 0.9676\n",
      "Epoch 107/1000\n",
      "19/19 [==============================] - 0s 13ms/step - loss: 0.1158 - accuracy: 0.9541 - val_loss: 0.0941 - val_accuracy: 0.9622\n",
      "Epoch 108/1000\n",
      "19/19 [==============================] - 0s 13ms/step - loss: 0.1126 - accuracy: 0.9568 - val_loss: 0.0992 - val_accuracy: 0.9595\n",
      "Epoch 109/1000\n",
      "19/19 [==============================] - 0s 13ms/step - loss: 0.1269 - accuracy: 0.9514 - val_loss: 0.1631 - val_accuracy: 0.9135\n",
      "Epoch 110/1000\n",
      "19/19 [==============================] - 0s 13ms/step - loss: 0.1120 - accuracy: 0.9514 - val_loss: 0.0743 - val_accuracy: 0.9730\n",
      "19/19 [==============================] - 0s 3ms/step - loss: 0.0798 - accuracy: 0.9730\n",
      "np.shape(X_test)= (613, 480, 1)\n",
      "Model: \"sequential_1\"\n",
      "_________________________________________________________________\n",
      " Layer (type)                Output Shape              Param #   \n",
      "=================================================================\n",
      " conv1d_5 (Conv1D)           (None, 478, 64)           256       \n",
      "                                                                 \n",
      " conv1d_6 (Conv1D)           (None, 476, 128)          24704     \n",
      "                                                                 \n"
     ]
    },
    {
     "name": "stdout",
     "output_type": "stream",
     "text": [
      " max_pooling1d_4 (MaxPooling  (None, 158, 128)         0         \n",
      " 1D)                                                             \n",
      "                                                                 \n",
      " conv1d_7 (Conv1D)           (None, 156, 256)          98560     \n",
      "                                                                 \n",
      " max_pooling1d_5 (MaxPooling  (None, 52, 256)          0         \n",
      " 1D)                                                             \n",
      "                                                                 \n",
      " conv1d_8 (Conv1D)           (None, 50, 256)           196864    \n",
      "                                                                 \n",
      " max_pooling1d_6 (MaxPooling  (None, 16, 256)          0         \n",
      " 1D)                                                             \n",
      "                                                                 \n",
      " conv1d_9 (Conv1D)           (None, 14, 512)           393728    \n",
      "                                                                 \n",
      " max_pooling1d_7 (MaxPooling  (None, 4, 512)           0         \n",
      " 1D)                                                             \n",
      "                                                                 \n",
      " flatten_1 (Flatten)         (None, 2048)              0         \n",
      "                                                                 \n",
      " dense_2 (Dense)             (None, 2000)              4098000   \n",
      "                                                                 \n",
      " dense_3 (Dense)             (None, 3)                 6003      \n",
      "                                                                 \n",
      "=================================================================\n",
      "Total params: 4,818,115\n",
      "Trainable params: 4,818,115\n",
      "Non-trainable params: 0\n",
      "_________________________________________________________________\n",
      "Accuracy=  0.9729729890823364\n"
     ]
    }
   ],
   "source": [
    "accuracy=0\n",
    "acc_crs=np.array([])\n",
    "##for i in range (10):\n",
    "##    if accuracy<0.2 :\n",
    "\n",
    "verbose, epochs, batch_size = 0, 1000, btch\n",
    "n_timesteps, n_features, n_outputs = X_train.shape[1], X_train.shape[2], y_train_cat.shape[1]\n",
    "steps_per_epoch = len(X_train)//batch_size\n",
    "validation_steps = len(X_valid)//batch_size # if you have test data\n",
    "\n",
    "model_crs = Sequential()\n",
    "BatchNormalization()\n",
    "model_crs.add(Conv1D(filters=64, kernel_size=3, activation='relu', input_shape=(n_timesteps,n_features)))\n",
    "#model_crs.add(MaxPooling1D(pool_size=3))\n",
    "BatchNormalization()\n",
    "model_crs.add(Conv1D(filters=128, kernel_size=3, activation='relu'))\n",
    "#model_crs.add(Dropout(0.5))\n",
    "model_crs.add(MaxPooling1D(pool_size=3))\n",
    "BatchNormalization()\n",
    "model_crs.add(Conv1D(filters=256, kernel_size=3, activation='relu'))\n",
    "model_crs.add(MaxPooling1D(pool_size=3))\n",
    "BatchNormalization()\n",
    "model_crs.add(Conv1D(filters=256, kernel_size=3, activation='relu'))\n",
    "model_crs.add(MaxPooling1D(pool_size=3))\n",
    "BatchNormalization()\n",
    "model_crs.add(Conv1D(filters=512, kernel_size=3, activation='relu'))\n",
    "model_crs.add(MaxPooling1D(pool_size=3))\n",
    "'''model_crs.add(Conv1D(filters=512, kernel_size=3, activation='relu'))\n",
    "model_crs.add(MaxPooling1D(pool_size=3))\n",
    "model_crs.add(Conv1D(filters=1024, kernel_size=3, activation='relu'))\n",
    "model_crs.add(MaxPooling1D(pool_size=3))\n",
    "'''\n",
    "model_crs.add(Flatten())\n",
    "#model_crs.add(Dropout(0.5))\n",
    "model_crs.add(Dense(2000, activation='relu'))\n",
    "model_crs.add(Dense(n_outputs, activation='softmax'))\n",
    "model_crs.compile(optimizer='rmsprop', loss='categorical_crossentropy', metrics=['accuracy'])\n",
    "# fit network   #CategoricalCrossentropy #sparse_categorical_crossentropy #SparseCategoricalCrossentropy\n",
    "\n",
    "earlystopping = callbacks.EarlyStopping(monitor =\"val_accuracy\", mode =\"max\", patience = 20, restore_best_weights = True)\n",
    "\n",
    "model_crs.fit(X_train, y_train_cat, epochs=epochs, batch_size=batch_size, verbose=verbose, validation_data = (X_valid, y_valid_cat), callbacks =[earlystopping])\n",
    "# evaluate model_crs\n",
    "_, accuracy = model_crs.evaluate(X_valid, y_valid_cat, batch_size=batch_size, verbose=verbose)\n",
    "\n",
    "print('np.shape(X_test)=',np.shape(X_test))\n",
    "\n",
    "\n",
    "model_crs.summary()\n",
    "print('Accuracy= ', accuracy)\n",
    "\n",
    "#output = K.function([model_crs.layers[0].input],[model_crs.layers[3].output])\n",
    "#output(X_test)[0]\n",
    "#y_pred= model_crs.predict(X_test)                # Function 1\n",
    "\n",
    "##    print('Round ', i, '==>', 'accuracy = ', accuracy)\n",
    "##    acc_crs=np.append(acc_crs,accuracy)\n",
    "#y_pred_crs = model_crs.predict_classes(X_test)   # Function 2"
   ]
  },
  {
   "cell_type": "code",
   "execution_count": 27,
   "metadata": {},
   "outputs": [
    {
     "name": "stdout",
     "output_type": "stream",
     "text": [
      "20/20 [==============================] - 0s 6ms/step\n",
      "array([[198,  21],\n",
      "       [ 10, 384]], dtype=int64)\n",
      "              precision    recall  f1-score   support\n",
      "\n",
      "           1       0.95      0.90      0.93       219\n",
      "           2       0.95      0.97      0.96       394\n",
      "\n",
      "    accuracy                           0.95       613\n",
      "   macro avg       0.95      0.94      0.94       613\n",
      "weighted avg       0.95      0.95      0.95       613\n",
      "\n"
     ]
    }
   ],
   "source": [
    "predict_x=model_crs.predict(X_test)              # Function 1\n",
    "\n",
    "y_pred_crs=np.argmax(predict_x,axis=0)                    # function from augment.py to remove 0 index predictions\n",
    "\n",
    "#y_pred_crs = model_crs.predict_classes(X_test)\n",
    "\n",
    "cm = confusion_matrix(y_test, y_pred_crs)\n",
    "fullprint(cm)\n",
    "acc3=accuracy_score(y_test, y_pred_crs)\n",
    "\n",
    "print(classification_report(y_test, y_pred_crs))\n",
    "\n",
    "#sns.heatmap(cm, annot=True)\n",
    "\n",
    "#plt.imshow(cm)"
   ]
  },
  {
   "cell_type": "code",
   "execution_count": null,
   "metadata": {},
   "outputs": [],
   "source": []
  }
 ],
 "metadata": {
  "celltoolbar": "Raw Cell Format",
  "kernelspec": {
   "display_name": "Python 3 (ipykernel)",
   "language": "python",
   "name": "python3"
  },
  "language_info": {
   "codemirror_mode": {
    "name": "ipython",
    "version": 3
   },
   "file_extension": ".py",
   "mimetype": "text/x-python",
   "name": "python",
   "nbconvert_exporter": "python",
   "pygments_lexer": "ipython3",
   "version": "3.9.7"
  }
 },
 "nbformat": 4,
 "nbformat_minor": 4
}
