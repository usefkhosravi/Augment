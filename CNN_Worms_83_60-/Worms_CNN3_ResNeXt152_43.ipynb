{
 "cells": [
  {
   "cell_type": "markdown",
   "metadata": {},
   "source": [
    "import time\n",
    "plc=1\n",
    "time.sleep(3000*plc)         #run after 1 houre = 3600 seconds"
   ]
  },
  {
   "cell_type": "code",
   "execution_count": 1,
   "metadata": {},
   "outputs": [
    {
     "data": {
      "text/html": [
       "<style>#notebook { padding-top:0px !important; } .container { width:100% !important; } .end_space { min-height:0px !important; } html, body, .container{ margin:0!important;padding:0!important;}</style>"
      ],
      "text/plain": [
       "<IPython.core.display.HTML object>"
      ]
     },
     "metadata": {},
     "output_type": "display_data"
    }
   ],
   "source": [
    "import os\n",
    "import glob\n",
    "import scipy\n",
    "import random\n",
    "import bisect\n",
    "import numpy as np\n",
    "import pandas as pd\n",
    "import seaborn as sns\n",
    "from scipy import signal\n",
    "from scipy.signal import find_peaks\n",
    "import matplotlib.pyplot as plt\n",
    "from preprocess import *                         #ماژول استخراج پنجره ها\n",
    "from data import *                          #ماژول محلی ورود داده ها\n",
    "from augment import *                            #ماژول های داده افزایی\n",
    "from lstm_cnn import *                           #ماژول های داده افزایی با lstm_cnn\n",
    "import augment\n",
    "import importlib\n",
    "importlib.reload(augment)\n",
    "import tensorflow as tf\n",
    "from tensorflow import keras\n",
    "from tensorflow.keras.layers import BatchNormalization,Input,ReLU,add,MaxPool1D,GlobalAveragePooling1D\n",
    "from sklearn.model_selection import train_test_split\n",
    "from sklearn.neural_network import MLPClassifier\n",
    "from sklearn.datasets import make_classification\n",
    "from sklearn.metrics import confusion_matrix, accuracy_score, classification_report,recall_score,precision_score,mean_absolute_error\n",
    "from tensorflow.keras import callbacks,Model,layers\n",
    "from tensorflow.keras.models import Sequential\n",
    "from tensorflow.keras.layers import Convolution2D,Conv1D,Dropout,MaxPooling1D,MaxPooling2D,Flatten,Dense\n",
    "from tensorflow.keras import backend as K\n",
    "from tensorflow.keras.utils import to_categorical\n",
    "from tensorflow.keras.models import load_model\n",
    "from keras.callbacks import EarlyStopping, ModelCheckpoint\n",
    "cwd = os.getcwd() #\n",
    "fullscrn()"
   ]
  },
  {
   "cell_type": "markdown",
   "metadata": {},
   "source": [
    "<h1><center><div style=\"direction:rtl;font-family:B Nazanin\">Importing Data</div></center></h1>"
   ]
  },
  {
   "cell_type": "code",
   "execution_count": 2,
   "metadata": {
    "scrolled": true
   },
   "outputs": [
    {
     "name": "stdout",
     "output_type": "stream",
     "text": [
      "first_train_shape= (77, 901)\n",
      "first_test_shape= (181, 901)\n",
      "classes_quantity= 5\n",
      "tr_lbls=\t {1, 2, 3, 4, 5}\n",
      "Count_labels= [33 13 10 13  8]\n",
      "max(train_feature_Altitude)= 5.0\n",
      "min(train_feature_Altitude)= -4.8873\n",
      "first_train_sample=\n",
      " [ 1.        -0.77859   -0.74444   -0.72546   -0.70269   -0.71408\n",
      " -0.72167   -0.73305   -0.71787   -0.73685   -0.76341   -0.77479\n",
      " -0.76341   -0.74823   -0.72546   -0.73305   -0.73305   -0.74064\n",
      " -0.74444   -0.76341   -0.7672    -0.76341   -0.75582   -0.74823\n",
      " -0.74823   -0.75582   -0.74823   -0.75962   -0.75203   -0.74823\n",
      " -0.74823   -0.73305   -0.73305   -0.74064   -0.771     -0.80895\n",
      " -0.83931   -0.86587   -0.87725   -0.87346   -0.919     -0.86207\n",
      " -0.86207   -0.85069   -0.82792   -0.85069   -0.78238   -0.7672\n",
      " -0.74444   -0.72546   -0.75203   -0.6951    -0.6951    -0.72167\n",
      " -0.72926   -0.74444   -0.74444   -0.79756   -0.75203   -0.67233\n",
      " -0.64577   -0.67613   -0.65716   -0.61541   -0.63818   -0.63439\n",
      " -0.59264   -0.61162   -0.5547    -0.42567   -0.30044   -0.21316\n",
      " -0.22455   -0.23973   -0.23214   -0.19419   -0.13727   -0.11829\n",
      "  0.0069361  0.056269   0.10181    0.11319    0.21945    0.22324\n",
      "  0.21186    0.24221    0.21565    0.21945    0.21945    0.23462\n",
      "  0.33329    0.36365    0.38642    0.40919    0.40919    0.44713\n",
      "  0.46231    0.51165    0.60272    0.65964    0.72795    0.84938\n",
      "  0.87215    0.97841    1.0201     1.0467     1.0733     1.1378\n",
      "  1.1795     1.2251     1.2706     1.3124     1.3579     1.4034\n",
      "  1.4224     1.4376     1.4566     1.4603     1.4414     1.4072\n",
      "  1.4072     1.392      1.392      1.3958     1.392      1.4034\n",
      "  1.3882     1.3617     1.3465     1.2934     1.2706     1.2175\n",
      "  1.153      1.1226     1.0581     1.0391     1.0164     0.986\n",
      "  0.99359    1.0088     0.986      0.98979    1.0315     1.0164\n",
      "  1.0164     0.986      0.986      1.005      1.0467     1.1264\n",
      "  1.0998     1.1036     1.1378     1.134      1.1454     1.1568\n",
      "  1.2175     1.2516     1.263      1.282      1.3465     1.3731\n",
      "  1.4072     1.3617     1.3048     1.2668     1.1378     1.0391\n",
      "  1.0088     0.89113    0.86077    0.74313    0.65964    0.56477\n",
      "  0.44334    0.37883    0.24221    0.10181    0.060063   0.02591\n",
      " -0.038602  -0.084139  -0.27008   -0.26629   -0.32321   -0.36875\n",
      " -0.35357   -0.41049   -0.42947   -0.38013   -0.39911   -0.35357\n",
      " -0.36875   -0.43326   -0.50157   -0.56987   -0.63818   -0.70649\n",
      " -0.77479   -0.83551   -0.79756   -0.78618   -0.83551   -0.93797\n",
      " -1.0025    -0.97971   -0.9911    -0.98351   -1.0328    -1.1087\n",
      " -1.1467    -1.2491    -1.3023    -1.3175    -1.3061    -1.3706\n",
      " -1.3516    -1.3554    -1.3175    -1.2681    -1.2909    -1.2909\n",
      " -1.2947    -1.3137    -1.2871    -1.2074    -1.1391    -1.1125\n",
      " -1.1163    -1.1391    -1.1353    -1.1467    -1.1315    -1.1353\n",
      " -1.1467    -1.1505    -1.1505    -1.1505    -1.1429    -1.1201\n",
      " -1.1125    -1.067     -1.0442    -1.029     -0.98351   -1.0025\n",
      " -1.0253    -1.0442    -1.0404    -1.0594    -1.0822    -1.0822\n",
      " -1.0746    -1.0898    -1.0822    -1.1087    -1.0784    -1.0708\n",
      " -1.067     -1.1087    -1.1163    -1.1467    -1.1467    -1.1998\n",
      " -1.215     -1.2795    -1.325     -1.3402    -1.4123    -1.4617\n",
      " -1.4579    -1.4692    -1.5034    -1.4047    -1.4237    -1.4009\n",
      " -1.3592    -1.3554    -1.3933    -1.3516    -1.344     -1.3478\n",
      " -1.3212    -1.2795    -1.234     -1.2226    -1.2529    -1.2378\n",
      " -1.1884    -1.1732    -1.1429    -1.1239    -1.0974    -1.1049\n",
      " -1.0974    -1.1011    -1.1011    -1.1011    -1.1049    -1.1049\n",
      " -1.1049    -1.1353    -1.1543    -1.1505    -1.1505    -1.2074\n",
      " -1.2264    -1.2188    -1.2529    -1.2605    -1.2643    -1.2454\n",
      " -1.2491    -1.2567    -1.2529    -1.2491    -1.2681    -1.2529\n",
      " -1.2681    -1.2719    -1.2757    -1.2795    -1.2719    -1.2719\n",
      " -1.2681    -1.2871    -1.2643    -1.2909    -1.2719    -1.3023\n",
      " -1.2985    -1.3061    -1.3364    -1.3212    -1.4161    -1.4047\n",
      " -1.4009    -1.3744    -1.3668    -1.3592    -1.3592    -1.3326\n",
      " -1.2643    -1.2757    -1.1505    -1.0784    -1.0139    -1.0253\n",
      " -0.9873    -0.96074   -0.83551   -0.74064   -0.66854   -0.60782\n",
      " -0.54711   -0.48639   -0.42567   -0.36875   -0.30803   -0.24732\n",
      " -0.20557   -0.12588   -0.07655   -0.038602   0.010731   0.0335\n",
      "  0.079037   0.10181    0.12078    0.13216    0.12837    0.12837\n",
      "  0.12458    0.12078    0.12078    0.11699    0.11319    0.079037\n",
      "  0.15114    0.063858   0.10181    0.12078    0.16632    0.14355\n",
      "  0.11319    0.063858   0.12837    0.14355    0.19288    0.33708\n",
      "  0.37503    0.3978     0.44334    0.39021    0.41678    0.4016\n",
      "  0.42436    0.52303    0.65964    0.86456    0.9101     0.9822\n",
      "  1.0126     1.0771     1.1492     1.2251     1.2896     1.4034\n",
      "  1.5021     1.5932     1.6653     1.688      1.7525     1.7601\n",
      "  1.7791     1.7943     1.8133     1.8398     1.8436     1.8133\n",
      "  1.7981     1.7184     1.6349     1.6463     1.6008     1.5514\n",
      "  1.4983     1.4717     1.4528     1.4262     1.3958     1.3541\n",
      "  1.2706     1.2516     1.2099     1.1833     1.0885     1.0505\n",
      "  1.0201     0.97841    0.97461    0.95184    0.96702    0.89872\n",
      "  0.85697    0.80764    0.77349    0.67862    0.62928    0.542\n",
      "  0.50026    0.53821    0.50406    0.48508    0.4699     0.43954\n",
      "  0.46231    0.41298    0.37883    0.33329    0.33708    0.29534\n",
      "  0.26119    0.26119    0.26498    0.26878    0.27257    0.27637\n",
      "  0.27637    0.29534    0.31052    0.33708    0.33708    0.36365\n",
      "  0.38642    0.40539    0.39021    0.42057    0.43954    0.42816\n",
      "  0.49647    0.51544    0.53821    0.56477    0.58754    0.59134\n",
      "  0.6179     0.73554    0.74313    0.77349    0.7659     0.78487\n",
      "  0.86836    0.97841    0.97841    0.97461    1.0012     0.97461\n",
      "  0.99738    1.0088     1.0239     1.0201     1.0164     0.94805\n",
      "  0.88354    0.81902    0.75072    0.68621    0.6179     0.55339\n",
      "  0.48888    0.40539    0.33708    0.24221    0.23083    0.13216\n",
      "  0.052474  -0.065165  -0.12968   -0.22834   -0.32701   -0.41049\n",
      " -0.47121   -0.50536   -0.59264   -0.57746   -0.63059   -0.66095\n",
      " -0.74064   -0.79377   -0.89623   -0.98351   -1.0898    -1.1505\n",
      " -1.2491    -1.3326    -1.3326    -1.3288    -1.3288    -1.325\n",
      " -1.325     -1.3212    -1.3212    -1.3592    -1.4541    -1.4654\n",
      " -1.492     -1.5186    -1.4882    -1.4541    -1.4275    -1.4047\n",
      " -1.3706    -1.3592    -1.3212    -1.2985    -1.2909    -1.2833\n",
      " -1.2491    -1.2036    -1.1505    -1.1011    -1.0442    -0.97971\n",
      " -0.95695   -0.97212   -1.0101    -0.97971   -0.94556   -0.80136\n",
      " -0.7672    -0.72546   -0.66474   -0.57367   -0.46741   -0.26629\n",
      " -0.16383   -0.13727   -0.16383   -0.19039   -0.21696   -0.24352\n",
      " -0.27008   -0.29665   -0.36496   -0.45983   -0.5509    -0.61921\n",
      " -0.74444   -0.83172   -0.90382   -0.97592   -1.0328    -1.1695\n",
      " -1.2454    -1.3023    -1.3364    -1.3933    -1.3971    -1.4351\n",
      " -1.4427    -1.3971    -1.3288    -1.2302    -1.1695    -1.0556\n",
      " -0.92279   -0.79756   -0.66854   -0.57367   -0.48259   -0.39531\n",
      " -0.31183   -0.22455   -0.13727   -0.049986   0.037295   0.12078\n",
      "  0.20047    0.28396    0.35606    0.42057    0.50026    0.51165\n",
      "  0.51544    0.51924    0.43954    0.4016     0.36744    0.20047\n",
      "  0.24221    0.11699    0.048679  -0.019628  -0.087934  -0.16004\n",
      " -0.22834   -0.29665   -0.39911   -0.44844   -0.45983   -0.51675\n",
      " -0.55849   -0.69131   -0.83551   -0.85449   -0.92659   -0.97971\n",
      " -0.94556   -1.0328    -0.89623   -0.98351   -0.97971   -0.86966\n",
      " -0.86966   -0.81274   -0.75203   -0.6951    -0.63818   -0.57746\n",
      " -0.52054   -0.45983   -0.31562   -0.30803   -0.19419   -0.1145\n",
      "  0.02591    0.16252    0.26119    0.41298    0.52682    0.51165\n",
      "  0.57616    0.65585    0.70518    0.79626    0.91769    0.95943\n",
      "  1.0809     1.263      1.301      1.4414     1.5856     1.7146\n",
      "  1.7981     1.9157     2.0144     2.0258     2.0979     2.2155\n",
      "  2.3104     2.3559     2.3939     2.4546     2.428      2.4925\n",
      "  2.5153     2.6405     2.7658     2.8151     2.8341     2.9138\n",
      "  2.9176     2.9403     2.9707     2.9365     2.9062     2.8379\n",
      "  2.7506     2.614      2.3863     2.2573     2.151      1.9726\n",
      "  1.8284     1.6425     1.5742     1.4793     1.4262     1.3845\n",
      "  1.3199     1.2706     1.2592     1.1909     1.1606     1.1264\n",
      "  1.0771     0.986      0.93287    0.88733    0.838      0.79626\n",
      "  0.72036    0.64067    0.62549    0.60272    0.55718    0.55339\n",
      "  0.49647    0.48508    0.43575    0.41298    0.39021    0.30293\n",
      "  0.19288    0.19288    0.21945    0.20047    0.15114    0.094217\n",
      "  0.094217   0.090422   0.11319    0.11319    0.14734    0.19288\n",
      "  0.26119    0.35985    0.46231    0.4737     0.51544    0.50406\n",
      "  0.55718    0.58754    0.6179     0.64826    0.67862    0.70898\n",
      "  0.73933    0.80764    0.86077    0.89872    0.93287    1.0201\n",
      "  1.0164     1.0126     1.005      0.99738    0.99359    1.0164\n",
      "  1.0164     1.005      1.0429     1.1036     1.1036     1.0543\n",
      "  1.005      0.96702    0.96702    0.91769    0.88733    0.86456\n",
      "  0.84938    0.78487    0.67862    0.65205    0.58375    0.59513\n",
      "  0.53441    0.4737     0.41298    0.35226    0.29155    0.23083\n",
      "  0.14355    0.048679  -0.019628  -0.057576  -0.1107    -0.13347\n",
      " -0.20178   -0.28906   -0.37634   -0.48259   -0.51295   -0.64957\n",
      " -0.64198   -0.67992   -0.66474   -0.65716   -0.58885   -0.56608\n",
      " -0.58885   -0.64577   -0.67613   -0.7672    -0.76341   -0.74064\n",
      " -0.74064   -0.78997   -0.78618   -0.78238   -0.78238   -0.77859\n",
      " -0.77479   -0.77479   -0.771     -0.70269   -0.71028   -0.70649\n",
      " -0.6989    -0.66854   -0.623     -0.57367   -0.50916   -0.4067\n",
      " -0.34978   -0.31562   -0.28147   -0.28526   -0.22834   -0.12209\n",
      " -0.019628   0.010731   0.090422   0.1094     0.16252    0.22703\n",
      "  0.27637    0.29534    0.29914    0.32949    0.35985    0.35606\n",
      "  0.34847    0.42057    0.46231    0.50785    0.54959    0.59513\n",
      "  0.63687    0.68241    0.71657    0.69759    0.67103    0.65585\n",
      "  0.65964    0.63687    0.62169    0.56477    0.57995    0.53821\n",
      "  0.50406    0.45852    0.41678    0.39021    0.37124    0.29914\n",
      "  0.2536     0.20047    0.12458    0.082832   0.052474  -0.042396\n",
      " -0.099319  -0.12588   -0.19039   -0.22834   -0.20557   -0.27388\n",
      " -0.32321  ]\n"
     ]
    },
    {
     "name": "stdout",
     "output_type": "stream",
     "text": [
      "1 33\t1 33\t2 13\t3 10\t4 13\t"
     ]
    }
   ],
   "source": [
    "rate=900\n",
    "cls_num=5\n",
    "btch=20\n",
    "for i in range (1,cls_num+1):\n",
    "    vars()['ecg'+str(i)],vars()['ecg_tst'+str(i)]=Worms0(i)\n",
    "\n",
    "os.chdir(cwd)\n",
    "clses_lens=np.array([])\n",
    "ecg=np.array(ecg1)\n",
    "print(1,len(vars()['ecg'+str(1)]), end='\\t')\n",
    "clses_lens=np.append(clses_lens,len(vars()['ecg'+str(1)]))\n",
    "for i in range (1,cls_num):\n",
    "    ecg=np.concatenate((ecg,vars()['ecg'+str(i)]),axis=0)\n",
    "    clses_lens=np.append(clses_lens,len(vars()['ecg'+str(i)]))\n",
    "    print(i,len(vars()['ecg'+str(i)]), end='\\t')\n",
    "\n",
    "mx_sig=max(clses_lens)"
   ]
  },
  {
   "cell_type": "code",
   "execution_count": 3,
   "metadata": {},
   "outputs": [
    {
     "data": {
      "text/plain": [
       "(102, 901)"
      ]
     },
     "execution_count": 3,
     "metadata": {},
     "output_type": "execute_result"
    }
   ],
   "source": [
    "np.shape(ecg)"
   ]
  },
  {
   "cell_type": "code",
   "execution_count": 4,
   "metadata": {},
   "outputs": [
    {
     "data": {
      "text/plain": [
       "array([1., 1., 1., 1., 1., 1., 1., 1., 1., 1., 1., 1., 1., 1., 1., 1., 1.,\n",
       "       1., 1., 1., 1., 1., 1., 1., 1., 1., 1., 1., 1., 1., 1., 1., 1., 1.,\n",
       "       1., 1., 1., 1., 1., 1., 1., 1., 1., 1., 1., 1., 1., 1., 1., 1., 1.,\n",
       "       1., 1., 1., 1., 1., 1., 1., 1., 1., 1., 1., 1., 1., 1., 1., 2., 2.,\n",
       "       2., 2., 2., 2., 2., 2., 2., 2., 2., 2., 2., 3., 3., 3., 3., 3., 3.,\n",
       "       3., 3., 3., 3., 4., 4., 4., 4., 4., 4., 4., 4., 4., 4., 4., 4., 4.])"
      ]
     },
     "execution_count": 4,
     "metadata": {},
     "output_type": "execute_result"
    }
   ],
   "source": [
    "ecg[:,-1]"
   ]
  },
  {
   "cell_type": "markdown",
   "metadata": {},
   "source": [
    "<h2><center><div style=\"direction:rtl;font-family:B Nazanin\">Base Train windows</div></center></h1>"
   ]
  },
  {
   "cell_type": "code",
   "execution_count": 5,
   "metadata": {},
   "outputs": [
    {
     "name": "stdout",
     "output_type": "stream",
     "text": [
      "each class and its windows =\n",
      "1 33\t2 13\t3 10\t4 13\t5 8\t\n",
      " max = 33\n"
     ]
    }
   ],
   "source": [
    "smpl_rte=rate                                              # در ماژول ها نیز همین مقدار ثبت شده\n",
    "i=0\n",
    "windws=np.array([])\n",
    "\n",
    "for cls in range (1,cls_num+1):                                 #ساخت پنجره های داده های آموزش اصلی\n",
    "    vars()['wndws'+str(cls)]=np.array(vars()['ecg'+str(cls)])  \n",
    "    \n",
    "print(\"each class and its windows =\")\n",
    "\n",
    "cls_wndws=np.array([])\n",
    "for cls in range (1,cls_num+1):                                # آرایه ی تعداد پنجره ی هر کلاس\n",
    "    wns=len(vars()['wndws'+str(cls)])\n",
    "    cls_wndws=np.append(cls_wndws,wns)\n",
    "    print(cls, wns, end='\\t')\n",
    "\n",
    "mx_wndws=int(np.max(cls_wndws))                        # حداکثر تعداد پنجره ی موجود بین کلاس ها\n",
    "print('\\n max =', mx_wndws)"
   ]
  },
  {
   "cell_type": "raw",
   "metadata": {},
   "source": [
    "#clses=3                                   #تعیین میزان افزایش نمونه (تولید داده)\n",
    "mx_wndws=int(mx_wndws)  #mx_wndws*0.3  # =classes-1 برای بررسی الگوریتم تعداد کمی کلاس آزمایش شد\n",
    "mx_wndws=2598           #+2\n",
    "print(mx_wndws)"
   ]
  },
  {
   "cell_type": "markdown",
   "metadata": {},
   "source": [
    "<h1><center><div style=\"direction:rtl;font-family:B Nazanin\">Data Augmentation</div></center></h1>"
   ]
  },
  {
   "cell_type": "code",
   "execution_count": 6,
   "metadata": {},
   "outputs": [
    {
     "name": "stdout",
     "output_type": "stream",
     "text": [
      "Up to class  1 train shape =  (33, 901)\n",
      "Up to class  2 train shape =  (46, 901)\n",
      "Up to class  3 train shape =  (56, 901)\n",
      "Up to class  4 train shape =  (69, 901)\n",
      "Up to class  5 train shape =  (77, 901)\n"
     ]
    }
   ],
   "source": [
    "smpl_rte=len(wndws1[0])                                        # در ماژول ها نیز همین مقدار ثبت شده\n",
    "\n",
    "#add augmented data to base data\n",
    "xtrain=np.empty((0,len(wndws1[0])), float) \n",
    "for i in range (1,cls_num+1):   \n",
    "    xtrain=np.append(xtrain,vars()['wndws'+str(i)],axis=0)\n",
    "    print('Up to class ', i, 'train shape = ', np.shape(xtrain))"
   ]
  },
  {
   "cell_type": "code",
   "execution_count": 7,
   "metadata": {},
   "outputs": [
    {
     "name": "stdout",
     "output_type": "stream",
     "text": [
      "[ 0 33 13 10 13  8]\n"
     ]
    }
   ],
   "source": [
    "print(np.bincount(np.int16(xtrain[:,-1])))    #تعداد پنجره در هر کلاس از 0 تا 17"
   ]
  },
  {
   "cell_type": "code",
   "execution_count": 8,
   "metadata": {},
   "outputs": [
    {
     "data": {
      "text/plain": [
       "array([1., 1., 1., 1., 1., 1., 1., 1., 1., 1., 1., 1., 1., 1., 1., 1., 1.,\n",
       "       1., 1., 1., 1., 1., 1., 1., 1., 1., 1., 1., 1., 1., 1., 1., 1., 2.,\n",
       "       2., 2., 2., 2., 2., 2., 2., 2., 2., 2., 2., 2., 3., 3., 3., 3., 3.,\n",
       "       3., 3., 3., 3., 3., 4., 4., 4., 4., 4., 4., 4., 4., 4., 4., 4., 4.,\n",
       "       4., 5., 5., 5., 5., 5., 5., 5., 5.])"
      ]
     },
     "execution_count": 8,
     "metadata": {},
     "output_type": "execute_result"
    }
   ],
   "source": [
    "xtrain[:,-1]"
   ]
  },
  {
   "cell_type": "code",
   "execution_count": 9,
   "metadata": {},
   "outputs": [],
   "source": [
    "mx_aug=np.max(xtrain[:,:-1])\n",
    "mx=np.max(ecg[:,:-1])\n",
    "mn_aug=np.min(xtrain[:,:-1])\n",
    "mn=np.min(ecg[:,:-1])\n",
    "\n",
    "#for i in range (1,cls_num+1):             #نرمالسازی داده های افزایشی\n",
    "xtrain[:,:-1]= 2*(xtrain[:,:-1]-mn_aug)/(mx_aug - mn_aug) - 1"
   ]
  },
  {
   "cell_type": "code",
   "execution_count": 10,
   "metadata": {},
   "outputs": [
    {
     "name": "stdout",
     "output_type": "stream",
     "text": [
      "min trn = -1.0\n",
      "max trn = 1.0\n"
     ]
    }
   ],
   "source": [
    "print('min trn =', np.min(xtrain[:,:-1]))\n",
    "print('max trn =', np.max(xtrain[:,:-1]))"
   ]
  },
  {
   "cell_type": "markdown",
   "metadata": {},
   "source": [
    "<h3><center><div style=\"direction:rtl;font-family:B Nazanin\">Test Windows</div></center></h1>"
   ]
  },
  {
   "cell_type": "code",
   "execution_count": 11,
   "metadata": {},
   "outputs": [],
   "source": [
    "wndws_test=np.empty((0,len(wndws1[0])), float)\n",
    "i=0\n",
    "windws=np.array([])\n",
    "for cls in range (1,cls_num+1):                                 #ساخت پنجره های داده های آموزش اصلی\n",
    "    vars()['wndws_tst'+str(cls)]=np.empty((0,len(wndws1[0])), float)\n",
    "    vars()['wndws_tst'+str(cls)]=np.append(vars()['wndws_tst'+str(cls)],vars()['ecg_tst'+str(cls)],axis=0)   "
   ]
  },
  {
   "cell_type": "code",
   "execution_count": 12,
   "metadata": {},
   "outputs": [
    {
     "name": "stdout",
     "output_type": "stream",
     "text": [
      "\n",
      " cls 1  >> \n",
      "max magnitude class 1  =  4.1375\n",
      "min magnitude class 1  =  -4.037800000000001\n",
      "after normalizing >>\n",
      "max magnitude class 1  =  0.9870973424048264\n",
      "min magnitude class 1  =  -0.8129555012440277\n",
      "\n",
      " cls 2  >> \n",
      "max magnitude class 2  =  4.8591000000000015\n",
      "min magnitude class 2  =  -4.3114\n",
      "after normalizing >>\n",
      "max magnitude class 2  =  1.1459805799590468\n",
      "min magnitude class 2  =  -0.8731972609375345\n",
      "\n",
      " cls 3  >> \n",
      "max magnitude class 3  =  4.263200000000001\n",
      "min magnitude class 3  =  -3.2160000000000006\n",
      "after normalizing >>\n",
      "max magnitude class 3  =  1.014774203492085\n",
      "min magnitude class 3  =  -0.6320100402932824\n",
      "\n",
      " cls 4  >> \n",
      "max magnitude class 4  =  2.804300000000001\n",
      "min magnitude class 4  =  -3.1806000000000005\n",
      "after normalizing >>\n",
      "max magnitude class 4  =  0.6935508730211157\n",
      "min magnitude class 4  =  -0.6242156020873243\n",
      "\n",
      " cls 5  >> \n",
      "max magnitude class 5  =  2.7693\n",
      "min magnitude class 5  =  -3.8073000000000006\n",
      "after normalizing >>\n",
      "max magnitude class 5  =  0.6858445075632471\n",
      "min magnitude class 5  =  -0.76220358015721\n",
      "each class and its windows =\n",
      "1 76\t2 31\t3 25\t4 32\t5 17\t\n",
      " max instance in classes of test windows = 76\n"
     ]
    }
   ],
   "source": [
    "#print(np.max(wndws_tst))\n",
    "for i in range (1,cls_num+1):                # Normalization test windows\n",
    "    cls=i\n",
    "    print('\\n cls', i, ' >> ')\n",
    "    print('max magnitude class', i , ' = ' ,np.max(vars()['wndws_tst'+str(cls)][:,:-1]))\n",
    "    print('min magnitude class', i , ' = ' ,np.min(vars()['wndws_tst'+str(cls)][:,:-1]))\n",
    "\n",
    "    vars()['wndws_tst'+str(i)][:,:-1]= 2*(vars()['wndws_tst'+str(i)][:,:-1]-mn_aug)/(mx_aug - mn_aug) - 1\n",
    "    \n",
    "    print('after normalizing >>')\n",
    "    print('max magnitude class', i , ' = ' ,np.max(vars()['wndws_tst'+str(cls)][:,:-1]))\n",
    "    print('min magnitude class', i , ' = ' ,np.min(vars()['wndws_tst'+str(cls)][:,:-1]))\n",
    "    \n",
    "print(\"each class and its windows =\")                    #تجمیع کلاس های تست\n",
    "cls_wndws=np.array([])\n",
    "for cls in range (1,cls_num+1):                                # آرایه ی تعداد پنجره ی هر کلاس\n",
    "    wns=len(vars()['wndws_tst'+str(cls)])\n",
    "    cls_wndws=np.append(cls_wndws,wns)\n",
    "    print(cls, wns, end='\\t')\n",
    "    wndws_test=np.append(wndws_test,vars()['wndws_tst'+str(cls)],axis=0)\n",
    "    \n",
    "mx_wndws=int(np.max(cls_wndws))                        # حداکثر تعداد پنجره ی موجود بین کلاس ها\n",
    "print('\\n max instance in classes of test windows =', mx_wndws)"
   ]
  },
  {
   "cell_type": "code",
   "execution_count": 13,
   "metadata": {},
   "outputs": [
    {
     "name": "stdout",
     "output_type": "stream",
     "text": [
      "min tst = -0.8731972609375345\n",
      "max tst = 1.1459805799590468\n"
     ]
    }
   ],
   "source": [
    "print('min tst =', np.min(wndws_test[:,:-1]))\n",
    "print('max tst =', np.max(wndws_test[:,:-1]))"
   ]
  },
  {
   "cell_type": "code",
   "execution_count": 14,
   "metadata": {},
   "outputs": [
    {
     "data": {
      "text/plain": [
       "181"
      ]
     },
     "execution_count": 14,
     "metadata": {},
     "output_type": "execute_result"
    }
   ],
   "source": [
    "len(wndws_test)"
   ]
  },
  {
   "cell_type": "code",
   "execution_count": 15,
   "metadata": {},
   "outputs": [
    {
     "data": {
      "text/plain": [
       "(181, 901)"
      ]
     },
     "execution_count": 15,
     "metadata": {},
     "output_type": "execute_result"
    }
   ],
   "source": [
    "np.shape(wndws_test)"
   ]
  },
  {
   "cell_type": "code",
   "execution_count": 16,
   "metadata": {},
   "outputs": [],
   "source": [
    "Xtest=wndws_test[:,:-1]\n",
    "ytest=np.int16(wndws_test[:,-1])"
   ]
  },
  {
   "cell_type": "code",
   "execution_count": 17,
   "metadata": {},
   "outputs": [
    {
     "name": "stdout",
     "output_type": "stream",
     "text": [
      "array([1, 1, 1, 1, 1, 1, 1, 1, 1, 1, 1, 1, 1, 1, 1, 1, 1, 1, 1, 1, 1, 1,\n",
      "       1, 1, 1, 1, 1, 1, 1, 1, 1, 1, 1, 1, 1, 1, 1, 1, 1, 1, 1, 1, 1, 1,\n",
      "       1, 1, 1, 1, 1, 1, 1, 1, 1, 1, 1, 1, 1, 1, 1, 1, 1, 1, 1, 1, 1, 1,\n",
      "       1, 1, 1, 1, 1, 1, 1, 1, 1, 1, 2, 2, 2, 2, 2, 2, 2, 2, 2, 2, 2, 2,\n",
      "       2, 2, 2, 2, 2, 2, 2, 2, 2, 2, 2, 2, 2, 2, 2, 2, 2, 2, 2, 3, 3, 3,\n",
      "       3, 3, 3, 3, 3, 3, 3, 3, 3, 3, 3, 3, 3, 3, 3, 3, 3, 3, 3, 3, 3, 3,\n",
      "       4, 4, 4, 4, 4, 4, 4, 4, 4, 4, 4, 4, 4, 4, 4, 4, 4, 4, 4, 4, 4, 4,\n",
      "       4, 4, 4, 4, 4, 4, 4, 4, 4, 4, 5, 5, 5, 5, 5, 5, 5, 5, 5, 5, 5, 5,\n",
      "       5, 5, 5, 5, 5], dtype=int16)\n"
     ]
    }
   ],
   "source": [
    "fullprint(ytest)"
   ]
  },
  {
   "cell_type": "markdown",
   "metadata": {},
   "source": [
    "<h3><center><div style=\"direction:rtl;font-family:B Nazanin\">Train Windows</div></center></h1>"
   ]
  },
  {
   "cell_type": "code",
   "execution_count": 18,
   "metadata": {},
   "outputs": [
    {
     "data": {
      "text/plain": [
       "'\\nytestt=np.int32(np.array([ytest]).T)\\ntestx=np.concatenate((Xtest, ytestt), axis=1)\\ntestx=np.random.permutation(testx)\\nXtest=np.int32(testx[:,:-1])\\nytest=np.int32(testx[:,-1])'"
      ]
     },
     "execution_count": 18,
     "metadata": {},
     "output_type": "execute_result"
    }
   ],
   "source": [
    "#ytraint=np.int32(np.array([ytrain]).T)\n",
    "#trainx=np.concatenate((Xtrain, ytraint), axis=1)\n",
    "trainx=np.random.permutation(xtrain)\n",
    "Xtrain=np.array(trainx[:,:-1])\n",
    "ytrain=np.int16(trainx[:,-1])\n",
    "'''\n",
    "ytestt=np.int32(np.array([ytest]).T)\n",
    "testx=np.concatenate((Xtest, ytestt), axis=1)\n",
    "testx=np.random.permutation(testx)\n",
    "Xtest=np.int32(testx[:,:-1])\n",
    "ytest=np.int32(testx[:,-1])'''"
   ]
  },
  {
   "cell_type": "code",
   "execution_count": 19,
   "metadata": {},
   "outputs": [
    {
     "data": {
      "text/plain": [
       "(33, 901)"
      ]
     },
     "execution_count": 19,
     "metadata": {},
     "output_type": "execute_result"
    }
   ],
   "source": [
    "np.shape(wndws1)"
   ]
  },
  {
   "cell_type": "markdown",
   "metadata": {},
   "source": [
    "<h3><center><div style=\"direction:rtl;font-family:B Nazanin\">Validation Windows</div></center></h1>"
   ]
  },
  {
   "cell_type": "code",
   "execution_count": 20,
   "metadata": {},
   "outputs": [],
   "source": [
    "Xvalid=np.array(Xtrain)\n",
    "yvalid=np.array(ytrain)"
   ]
  },
  {
   "cell_type": "markdown",
   "metadata": {},
   "source": [
    "<h1><center><div style=\"direction:rtl;font-family:B Nazanin\">CNN And UnBalanced RAW Data</div></center></h1>\n",
    "<h1><center><div style=\"direction:rtl;font-family:Arial\">Cross Entropy Loss Function</div></center></h1>"
   ]
  },
  {
   "cell_type": "code",
   "execution_count": 21,
   "metadata": {
    "scrolled": true
   },
   "outputs": [
    {
     "name": "stdout",
     "output_type": "stream",
     "text": [
      "X_train =>  (77, 900)\n",
      "y_train =>  (77,)\n",
      "X_test  =>  (181, 900)\n",
      "y_test  =>  (181,)\n",
      "X_valid  =>  (77, 900)\n",
      "y_valid  =>  (77,)\n"
     ]
    }
   ],
   "source": [
    "X_train=np.array(Xtrain)\n",
    "y_train=np.array(ytrain)\n",
    "X_test=np.array(Xtest)\n",
    "y_test=np.array(ytest)\n",
    "X_valid=np.array(Xtrain)\n",
    "y_valid=np.array(ytrain)\n",
    "print('X_train => ', X_train.shape)\n",
    "print('y_train => ', y_train.shape)\n",
    "print('X_test  => ', X_test.shape)\n",
    "print('y_test  => ', y_test.shape)\n",
    "print('X_valid  => ', X_valid.shape)\n",
    "print('y_valid  => ', y_valid.shape)"
   ]
  },
  {
   "cell_type": "code",
   "execution_count": 22,
   "metadata": {},
   "outputs": [
    {
     "name": "stdout",
     "output_type": "stream",
     "text": [
      "!!!!!! class Should start from 0=Zero !!!!!!\n",
      "!!!!!!   Reduce 1 From Class Number    !!!!!\n"
     ]
    }
   ],
   "source": [
    "if min(y_train)==0:\n",
    "    print(' class was started from 0=Zero ')\n",
    "else:\n",
    "    print('!!!!!! class Should start from 0=Zero !!!!!!')\n",
    "    print(\"!!!!!!   Reduce 1 From Class Number    !!!!!\")\n",
    "    y_train=np.array(y_train-1)\n",
    "    y_test=np.array(y_test-1)\n",
    "    y_valid=np.array(y_valid-1)"
   ]
  },
  {
   "cell_type": "code",
   "execution_count": 23,
   "metadata": {},
   "outputs": [],
   "source": [
    "y_train_cat=to_categorical(y_train)#[:,1:]\n",
    "y_valid_cat=to_categorical(y_valid)#[:,1:]\n",
    "y_test_cat=to_categorical(y_test)#[:,1:]\n",
    "\n",
    "\n",
    "X_train = np.expand_dims(X_train, axis=2)\n",
    "X_valid = np.expand_dims(X_valid, axis=2)\n",
    "X_test = np.expand_dims(X_test, axis=2)\n",
    "#y_train=np.transpose([y_train])"
   ]
  },
  {
   "cell_type": "markdown",
   "metadata": {},
   "source": [
    "<h1><center><div style=\"direction:rtl;font-family:B Nazanin\">Network</div></center></h1>"
   ]
  },
  {
   "cell_type": "code",
   "execution_count": 24,
   "metadata": {
    "scrolled": true
   },
   "outputs": [
    {
     "name": "stdout",
     "output_type": "stream",
     "text": [
      "Epoch 1/500\n",
      "4/4 [==============================] - 153s 6s/step - loss: 4.1938 - accuracy: 0.2727 - val_loss: 1700045949675067408384.0000 - val_accuracy: 0.1688\n",
      "Epoch 2/500\n",
      "4/4 [==============================] - 6s 2s/step - loss: 2.5952 - accuracy: 0.4286 - val_loss: 1875606114774154215424.0000 - val_accuracy: 0.1688\n",
      "Epoch 3/500\n",
      "4/4 [==============================] - 6s 2s/step - loss: 1.4179 - accuracy: 0.4545 - val_loss: 88213756323817324544.0000 - val_accuracy: 0.1688\n",
      "Epoch 4/500\n",
      "4/4 [==============================] - 6s 2s/step - loss: 1.4474 - accuracy: 0.4416 - val_loss: 12806707919567454208.0000 - val_accuracy: 0.1688\n",
      "Epoch 5/500\n",
      "4/4 [==============================] - 6s 2s/step - loss: 2.3959 - accuracy: 0.4416 - val_loss: 582178899962626048.0000 - val_accuracy: 0.1688\n",
      "Epoch 6/500\n",
      "4/4 [==============================] - 6s 2s/step - loss: 1.9089 - accuracy: 0.4026 - val_loss: 35729837230391296.0000 - val_accuracy: 0.1688\n",
      "Epoch 7/500\n",
      "4/4 [==============================] - 6s 2s/step - loss: 2.1445 - accuracy: 0.4026 - val_loss: 449452724715520.0000 - val_accuracy: 0.1169\n",
      "Epoch 8/500\n",
      "4/4 [==============================] - 6s 2s/step - loss: 1.5331 - accuracy: 0.4286 - val_loss: 735356047589376.0000 - val_accuracy: 0.0909\n",
      "Epoch 9/500\n",
      "4/4 [==============================] - 7s 2s/step - loss: 1.6648 - accuracy: 0.4416 - val_loss: 33864160378880.0000 - val_accuracy: 0.2468\n",
      "Epoch 10/500\n",
      "4/4 [==============================] - 7s 2s/step - loss: 1.6027 - accuracy: 0.4416 - val_loss: 2701079347200.0000 - val_accuracy: 0.4286\n",
      "Epoch 11/500\n",
      "4/4 [==============================] - 6s 2s/step - loss: 1.8917 - accuracy: 0.4026 - val_loss: 492230279168.0000 - val_accuracy: 0.3117\n",
      "Epoch 12/500\n",
      "4/4 [==============================] - 6s 2s/step - loss: 1.4709 - accuracy: 0.4675 - val_loss: 117876695040.0000 - val_accuracy: 0.4026\n",
      "Epoch 13/500\n",
      "4/4 [==============================] - 6s 2s/step - loss: 1.5921 - accuracy: 0.4286 - val_loss: 30016993280.0000 - val_accuracy: 0.4026\n",
      "Epoch 14/500\n",
      "4/4 [==============================] - 6s 2s/step - loss: 1.5320 - accuracy: 0.4545 - val_loss: 765362624.0000 - val_accuracy: 0.4286\n",
      "Epoch 15/500\n",
      "4/4 [==============================] - 6s 2s/step - loss: 1.5095 - accuracy: 0.4675 - val_loss: 3363562752.0000 - val_accuracy: 0.4286\n",
      "Epoch 16/500\n",
      "4/4 [==============================] - 6s 2s/step - loss: 1.4401 - accuracy: 0.4675 - val_loss: 519835584.0000 - val_accuracy: 0.4156\n",
      "Epoch 17/500\n",
      "4/4 [==============================] - 6s 2s/step - loss: 1.4415 - accuracy: 0.4805 - val_loss: 199705184.0000 - val_accuracy: 0.4156\n",
      "Epoch 18/500\n",
      "4/4 [==============================] - 6s 2s/step - loss: 1.4958 - accuracy: 0.4416 - val_loss: 3380697.2500 - val_accuracy: 0.4286\n",
      "Epoch 19/500\n",
      "4/4 [==============================] - 6s 2s/step - loss: 1.4639 - accuracy: 0.4545 - val_loss: 12661455.0000 - val_accuracy: 0.4286\n",
      "Epoch 20/500\n",
      "4/4 [==============================] - 6s 2s/step - loss: 1.5650 - accuracy: 0.4416 - val_loss: 799932.7500 - val_accuracy: 0.4286\n",
      "Epoch 21/500\n",
      "4/4 [==============================] - 6s 2s/step - loss: 1.6601 - accuracy: 0.4286 - val_loss: 8997477.0000 - val_accuracy: 0.4286\n",
      "Epoch 22/500\n",
      "4/4 [==============================] - 7s 2s/step - loss: 1.5071 - accuracy: 0.4286 - val_loss: 1.4639 - val_accuracy: 0.4416\n",
      "Epoch 23/500\n",
      "4/4 [==============================] - 6s 2s/step - loss: 1.4952 - accuracy: 0.4545 - val_loss: 1.4754 - val_accuracy: 0.4416\n",
      "Epoch 24/500\n",
      "4/4 [==============================] - 6s 2s/step - loss: 1.4353 - accuracy: 0.4675 - val_loss: 1.4974 - val_accuracy: 0.4416\n",
      "Epoch 25/500\n",
      "4/4 [==============================] - 6s 2s/step - loss: 1.5521 - accuracy: 0.4416 - val_loss: 1.5442 - val_accuracy: 0.4286\n",
      "Epoch 26/500\n",
      "4/4 [==============================] - 6s 2s/step - loss: 1.4610 - accuracy: 0.4545 - val_loss: 1.5266 - val_accuracy: 0.4286\n",
      "Epoch 27/500\n",
      "4/4 [==============================] - 6s 2s/step - loss: 1.4043 - accuracy: 0.4675 - val_loss: 1.5105 - val_accuracy: 0.4286\n",
      "Epoch 28/500\n",
      "4/4 [==============================] - 6s 2s/step - loss: 1.4502 - accuracy: 0.4416 - val_loss: 1.4843 - val_accuracy: 0.4286\n",
      "Epoch 29/500\n",
      "4/4 [==============================] - 6s 2s/step - loss: 1.5193 - accuracy: 0.4545 - val_loss: 1.4700 - val_accuracy: 0.4286\n",
      "Epoch 30/500\n",
      "4/4 [==============================] - 6s 2s/step - loss: 1.4851 - accuracy: 0.4675 - val_loss: 1.4896 - val_accuracy: 0.4286\n",
      "Epoch 31/500\n",
      "4/4 [==============================] - 6s 2s/step - loss: 1.4936 - accuracy: 0.4545 - val_loss: 1.5010 - val_accuracy: 0.4286\n",
      "Epoch 32/500\n",
      "4/4 [==============================] - 6s 2s/step - loss: 1.5070 - accuracy: 0.4545 - val_loss: 1.5271 - val_accuracy: 0.4286\n",
      "Epoch 33/500\n",
      "4/4 [==============================] - 6s 2s/step - loss: 1.4759 - accuracy: 0.4545 - val_loss: 1.5065 - val_accuracy: 0.4286\n",
      "Epoch 34/500\n",
      "4/4 [==============================] - 6s 2s/step - loss: 1.3877 - accuracy: 0.4805 - val_loss: 1.4983 - val_accuracy: 0.4286\n",
      "Epoch 35/500\n",
      "4/4 [==============================] - 6s 2s/step - loss: 1.6057 - accuracy: 0.4416 - val_loss: 1.4758 - val_accuracy: 0.4286\n",
      "Epoch 36/500\n",
      "4/4 [==============================] - 6s 2s/step - loss: 1.6084 - accuracy: 0.4156 - val_loss: 1.4875 - val_accuracy: 0.4286\n",
      "Epoch 37/500\n",
      "4/4 [==============================] - 6s 2s/step - loss: 1.5715 - accuracy: 0.4416 - val_loss: 1.5005 - val_accuracy: 0.4286\n",
      "Epoch 38/500\n",
      "4/4 [==============================] - 6s 2s/step - loss: 1.5170 - accuracy: 0.4416 - val_loss: 1.4867 - val_accuracy: 0.4286\n",
      "Epoch 39/500\n",
      "4/4 [==============================] - 6s 2s/step - loss: 1.4079 - accuracy: 0.4805 - val_loss: 1.4925 - val_accuracy: 0.4286\n",
      "Epoch 40/500\n",
      "4/4 [==============================] - 6s 2s/step - loss: 1.5142 - accuracy: 0.4545 - val_loss: 1.4839 - val_accuracy: 0.4286\n",
      "Epoch 41/500\n",
      "4/4 [==============================] - 6s 2s/step - loss: 1.3838 - accuracy: 0.4805 - val_loss: 1.4789 - val_accuracy: 0.4286\n",
      "Epoch 42/500\n",
      "4/4 [==============================] - 6s 2s/step - loss: 1.4971 - accuracy: 0.4416 - val_loss: 1.4664 - val_accuracy: 0.4286\n",
      "Epoch 43/500\n",
      "4/4 [==============================] - 6s 2s/step - loss: 1.4903 - accuracy: 0.4545 - val_loss: 1.4794 - val_accuracy: 0.4286\n",
      "Epoch 44/500\n",
      "4/4 [==============================] - 6s 2s/step - loss: 1.5870 - accuracy: 0.4156 - val_loss: 1.4422 - val_accuracy: 0.4416\n",
      "Epoch 45/500\n",
      "4/4 [==============================] - 6s 2s/step - loss: 1.4292 - accuracy: 0.4545 - val_loss: 1.4694 - val_accuracy: 0.4286\n",
      "Epoch 46/500\n",
      "4/4 [==============================] - 6s 2s/step - loss: 1.5899 - accuracy: 0.4545 - val_loss: 1.4609 - val_accuracy: 0.4416\n",
      "Epoch 47/500\n",
      "4/4 [==============================] - 6s 2s/step - loss: 1.4132 - accuracy: 0.4805 - val_loss: 1.4465 - val_accuracy: 0.4416\n",
      "Epoch 48/500\n",
      "4/4 [==============================] - 6s 2s/step - loss: 1.4640 - accuracy: 0.4545 - val_loss: 27134.8320 - val_accuracy: 0.4286\n",
      "Epoch 49/500\n",
      "4/4 [==============================] - 6s 2s/step - loss: 1.4980 - accuracy: 0.4545 - val_loss: 5046.1689 - val_accuracy: 0.4416\n",
      "Epoch 50/500\n",
      "4/4 [==============================] - 6s 2s/step - loss: 1.4735 - accuracy: 0.4545 - val_loss: 37109.2891 - val_accuracy: 0.4416\n",
      "Epoch 51/500\n",
      "4/4 [==============================] - 7s 2s/step - loss: 1.5340 - accuracy: 0.4286 - val_loss: 6973.3306 - val_accuracy: 0.4545\n",
      "Epoch 52/500\n",
      "4/4 [==============================] - 6s 2s/step - loss: 1.4377 - accuracy: 0.4675 - val_loss: 133353.6719 - val_accuracy: 0.1558\n",
      "Epoch 53/500\n",
      "4/4 [==============================] - 6s 2s/step - loss: 1.4351 - accuracy: 0.4545 - val_loss: 52959.8203 - val_accuracy: 0.1688\n",
      "Epoch 54/500\n",
      "4/4 [==============================] - 6s 2s/step - loss: 1.4837 - accuracy: 0.4545 - val_loss: 24141.9082 - val_accuracy: 0.4416\n",
      "Epoch 55/500\n",
      "4/4 [==============================] - 6s 2s/step - loss: 1.4626 - accuracy: 0.4675 - val_loss: 2576.5581 - val_accuracy: 0.4545\n",
      "Epoch 56/500\n",
      "4/4 [==============================] - 6s 2s/step - loss: 1.4627 - accuracy: 0.4675 - val_loss: 8996.2568 - val_accuracy: 0.1688\n",
      "Epoch 57/500\n",
      "4/4 [==============================] - 6s 2s/step - loss: 1.4604 - accuracy: 0.4675 - val_loss: 1.4406 - val_accuracy: 0.4545\n"
     ]
    },
    {
     "name": "stdout",
     "output_type": "stream",
     "text": [
      "Epoch 58/500\n",
      "4/4 [==============================] - 6s 2s/step - loss: 1.4966 - accuracy: 0.4416 - val_loss: 1.4489 - val_accuracy: 0.4416\n",
      "Epoch 59/500\n",
      "4/4 [==============================] - 6s 2s/step - loss: 1.3859 - accuracy: 0.4935 - val_loss: 1.4696 - val_accuracy: 0.4416\n",
      "Epoch 60/500\n",
      "4/4 [==============================] - 6s 2s/step - loss: 1.5719 - accuracy: 0.4416 - val_loss: 4.3682 - val_accuracy: 0.1688\n",
      "Epoch 61/500\n",
      "4/4 [==============================] - 6s 2s/step - loss: 1.4057 - accuracy: 0.4805 - val_loss: 1.9096 - val_accuracy: 0.1688\n",
      "Epoch 62/500\n",
      "4/4 [==============================] - 6s 2s/step - loss: 1.3534 - accuracy: 0.4935 - val_loss: 1.4739 - val_accuracy: 0.4416\n",
      "Epoch 63/500\n",
      "4/4 [==============================] - 6s 2s/step - loss: 1.3908 - accuracy: 0.4805 - val_loss: 1.4732 - val_accuracy: 0.4416\n",
      "Epoch 64/500\n",
      "4/4 [==============================] - 6s 2s/step - loss: 1.5901 - accuracy: 0.4545 - val_loss: 1.4535 - val_accuracy: 0.4416\n",
      "Epoch 65/500\n",
      "4/4 [==============================] - 6s 2s/step - loss: 1.4444 - accuracy: 0.4675 - val_loss: 1310.3380 - val_accuracy: 0.3896\n",
      "Epoch 66/500\n",
      "4/4 [==============================] - 6s 2s/step - loss: 1.4102 - accuracy: 0.4675 - val_loss: 407.8808 - val_accuracy: 0.3766\n",
      "Epoch 67/500\n",
      "4/4 [==============================] - 6s 2s/step - loss: 1.3883 - accuracy: 0.4805 - val_loss: 4.9304 - val_accuracy: 0.1688\n",
      "Epoch 68/500\n",
      "4/4 [==============================] - 6s 2s/step - loss: 1.4400 - accuracy: 0.4416 - val_loss: 5.3988 - val_accuracy: 0.1688\n",
      "Epoch 69/500\n",
      "4/4 [==============================] - 6s 2s/step - loss: 1.4531 - accuracy: 0.4416 - val_loss: 116.8922 - val_accuracy: 0.1688\n",
      "Epoch 70/500\n",
      "4/4 [==============================] - 6s 2s/step - loss: 1.5043 - accuracy: 0.4416 - val_loss: 39.7158 - val_accuracy: 0.1688\n",
      "Epoch 71/500\n",
      "4/4 [==============================] - 6s 2s/step - loss: 1.4452 - accuracy: 0.4675 - val_loss: 12.2300 - val_accuracy: 0.1688\n",
      "Epoch 72/500\n",
      "4/4 [==============================] - 6s 2s/step - loss: 1.3883 - accuracy: 0.4675 - val_loss: 43.9127 - val_accuracy: 0.1688\n",
      "Epoch 73/500\n",
      "4/4 [==============================] - 6s 2s/step - loss: 1.4387 - accuracy: 0.4675 - val_loss: 1.6181 - val_accuracy: 0.3117\n",
      "Epoch 74/500\n",
      "4/4 [==============================] - 6s 2s/step - loss: 1.5799 - accuracy: 0.4416 - val_loss: 121.5119 - val_accuracy: 0.1558\n",
      "Epoch 75/500\n",
      "4/4 [==============================] - 6s 2s/step - loss: 1.4223 - accuracy: 0.4416 - val_loss: 2.3870 - val_accuracy: 0.2078\n",
      "Epoch 76/500\n",
      "4/4 [==============================] - 6s 2s/step - loss: 1.4840 - accuracy: 0.4545 - val_loss: 1.4786 - val_accuracy: 0.4156\n",
      "Epoch 77/500\n",
      "4/4 [==============================] - 6s 2s/step - loss: 1.3945 - accuracy: 0.4805 - val_loss: 91.5521 - val_accuracy: 0.1688\n",
      "Epoch 78/500\n",
      "4/4 [==============================] - 6s 2s/step - loss: 1.3685 - accuracy: 0.4805 - val_loss: 5.7179 - val_accuracy: 0.1818\n",
      "Epoch 79/500\n",
      "4/4 [==============================] - 6s 2s/step - loss: 1.5538 - accuracy: 0.4416 - val_loss: 1.5332 - val_accuracy: 0.4156\n",
      "Epoch 80/500\n",
      "4/4 [==============================] - 6s 2s/step - loss: 1.4442 - accuracy: 0.4675 - val_loss: 3.8827 - val_accuracy: 0.2468\n",
      "Epoch 81/500\n",
      "4/4 [==============================] - 6s 2s/step - loss: 1.4311 - accuracy: 0.4805 - val_loss: 1.4334 - val_accuracy: 0.4416\n",
      "Epoch 82/500\n",
      "4/4 [==============================] - 6s 2s/step - loss: 1.4592 - accuracy: 0.4675 - val_loss: 122023.4453 - val_accuracy: 0.1429\n",
      "Epoch 83/500\n",
      "4/4 [==============================] - 6s 2s/step - loss: 1.3692 - accuracy: 0.4935 - val_loss: 81387.2500 - val_accuracy: 0.2727\n",
      "Epoch 84/500\n",
      "4/4 [==============================] - 6s 2s/step - loss: 1.3989 - accuracy: 0.4805 - val_loss: 63951.9102 - val_accuracy: 0.2208\n",
      "Epoch 85/500\n",
      "4/4 [==============================] - 6s 2s/step - loss: 1.4587 - accuracy: 0.4545 - val_loss: 174761.6562 - val_accuracy: 0.1688\n",
      "Epoch 86/500\n",
      "4/4 [==============================] - 6s 2s/step - loss: 1.5473 - accuracy: 0.4416 - val_loss: 14375.7891 - val_accuracy: 0.1688\n",
      "Epoch 87/500\n",
      "4/4 [==============================] - 6s 2s/step - loss: 1.4099 - accuracy: 0.4545 - val_loss: 29929.1035 - val_accuracy: 0.1688\n",
      "Epoch 88/500\n",
      "4/4 [==============================] - 6s 2s/step - loss: 1.3888 - accuracy: 0.4675 - val_loss: 14130.2871 - val_accuracy: 0.1688\n",
      "Epoch 89/500\n",
      "4/4 [==============================] - 6s 2s/step - loss: 1.3834 - accuracy: 0.4805 - val_loss: 15194.4209 - val_accuracy: 0.2078\n",
      "Epoch 90/500\n",
      "4/4 [==============================] - 6s 2s/step - loss: 1.3979 - accuracy: 0.4805 - val_loss: 8021874.0000 - val_accuracy: 0.1688\n",
      "Epoch 91/500\n",
      "4/4 [==============================] - 6s 2s/step - loss: 1.8374 - accuracy: 0.4286 - val_loss: 31239538.0000 - val_accuracy: 0.1688\n",
      "Epoch 92/500\n",
      "4/4 [==============================] - 6s 2s/step - loss: 1.5580 - accuracy: 0.4545 - val_loss: 7257092.0000 - val_accuracy: 0.1688\n",
      "Epoch 93/500\n",
      "4/4 [==============================] - 6s 2s/step - loss: 1.4290 - accuracy: 0.4805 - val_loss: 1179775488.0000 - val_accuracy: 0.1688\n",
      "Epoch 94/500\n",
      "4/4 [==============================] - 6s 2s/step - loss: 1.5385 - accuracy: 0.4286 - val_loss: 138198240.0000 - val_accuracy: 0.1688\n",
      "Epoch 95/500\n",
      "4/4 [==============================] - 6s 2s/step - loss: 1.4934 - accuracy: 0.4416 - val_loss: 139865424.0000 - val_accuracy: 0.1688\n",
      "Epoch 96/500\n",
      "4/4 [==============================] - 6s 2s/step - loss: 1.4794 - accuracy: 0.4545 - val_loss: 29538138.0000 - val_accuracy: 0.1688\n",
      "Epoch 97/500\n",
      "4/4 [==============================] - 6s 2s/step - loss: 1.5231 - accuracy: 0.4286 - val_loss: 188441280.0000 - val_accuracy: 0.1688\n",
      "Epoch 98/500\n",
      "4/4 [==============================] - 6s 2s/step - loss: 1.4000 - accuracy: 0.4675 - val_loss: 198163584.0000 - val_accuracy: 0.1688\n",
      "Epoch 99/500\n",
      "4/4 [==============================] - 6s 2s/step - loss: 1.4387 - accuracy: 0.4675 - val_loss: 53130468.0000 - val_accuracy: 0.1688\n",
      "Epoch 100/500\n",
      "4/4 [==============================] - 6s 2s/step - loss: 1.5632 - accuracy: 0.4286 - val_loss: 5823411.5000 - val_accuracy: 0.1688\n",
      "Epoch 101/500\n",
      "4/4 [==============================] - 6s 2s/step - loss: 1.4923 - accuracy: 0.4416 - val_loss: 119920.7891 - val_accuracy: 0.1688\n",
      "Epoch 102/500\n",
      "4/4 [==============================] - 6s 2s/step - loss: 1.4263 - accuracy: 0.4675 - val_loss: 191312.4375 - val_accuracy: 0.1948\n",
      "Epoch 103/500\n",
      "4/4 [==============================] - 6s 2s/step - loss: 1.4816 - accuracy: 0.4545 - val_loss: 34459.5078 - val_accuracy: 0.1818\n",
      "Epoch 104/500\n",
      "4/4 [==============================] - 6s 2s/step - loss: 1.4831 - accuracy: 0.4545 - val_loss: 322.3150 - val_accuracy: 0.1688\n",
      "Epoch 105/500\n",
      "4/4 [==============================] - 6s 2s/step - loss: 1.6652 - accuracy: 0.4286 - val_loss: 37885612.0000 - val_accuracy: 0.1688\n",
      "Epoch 106/500\n",
      "4/4 [==============================] - 6s 2s/step - loss: 1.6826 - accuracy: 0.3117 - val_loss: 128679256.0000 - val_accuracy: 0.1688\n",
      "Epoch 107/500\n",
      "4/4 [==============================] - 6s 2s/step - loss: 1.5096 - accuracy: 0.4545 - val_loss: 276789696.0000 - val_accuracy: 0.1688\n",
      "Epoch 108/500\n",
      "4/4 [==============================] - 6s 2s/step - loss: 1.4609 - accuracy: 0.4545 - val_loss: 60194516.0000 - val_accuracy: 0.1688\n",
      "Epoch 109/500\n",
      "4/4 [==============================] - 6s 2s/step - loss: 1.5386 - accuracy: 0.4026 - val_loss: 8632412.0000 - val_accuracy: 0.1688\n",
      "Epoch 110/500\n",
      "4/4 [==============================] - 6s 2s/step - loss: 1.5303 - accuracy: 0.4286 - val_loss: 880521.5625 - val_accuracy: 0.1948\n",
      "Epoch 111/500\n",
      "4/4 [==============================] - 6s 2s/step - loss: 1.4688 - accuracy: 0.4545 - val_loss: 98559.2656 - val_accuracy: 0.1818\n",
      "Epoch 112/500\n",
      "4/4 [==============================] - 6s 2s/step - loss: 1.4656 - accuracy: 0.4545 - val_loss: 272153.4688 - val_accuracy: 0.1169\n",
      "Epoch 113/500\n",
      "4/4 [==============================] - 6s 2s/step - loss: 1.5623 - accuracy: 0.4156 - val_loss: 3274184.0000 - val_accuracy: 0.3377\n",
      "Epoch 114/500\n",
      "4/4 [==============================] - 6s 2s/step - loss: 1.5021 - accuracy: 0.4026 - val_loss: 27413820.0000 - val_accuracy: 0.1688\n",
      "Epoch 115/500\n"
     ]
    },
    {
     "name": "stdout",
     "output_type": "stream",
     "text": [
      "4/4 [==============================] - 6s 2s/step - loss: 1.6166 - accuracy: 0.3896 - val_loss: 3769628.2500 - val_accuracy: 0.1688\n",
      "Epoch 116/500\n",
      "4/4 [==============================] - 6s 2s/step - loss: 1.4753 - accuracy: 0.4026 - val_loss: 4806315.0000 - val_accuracy: 0.2338\n",
      "Epoch 117/500\n",
      "4/4 [==============================] - 6s 2s/step - loss: 1.4429 - accuracy: 0.4156 - val_loss: 107576048.0000 - val_accuracy: 0.2338\n",
      "Epoch 118/500\n",
      "4/4 [==============================] - 6s 2s/step - loss: 1.4755 - accuracy: 0.4416 - val_loss: 156664240.0000 - val_accuracy: 0.1688\n",
      "Epoch 119/500\n",
      "4/4 [==============================] - 6s 2s/step - loss: 1.5625 - accuracy: 0.4026 - val_loss: 5100441.0000 - val_accuracy: 0.1818\n",
      "Epoch 120/500\n",
      "4/4 [==============================] - 6s 2s/step - loss: 1.5009 - accuracy: 0.4545 - val_loss: 69238568.0000 - val_accuracy: 0.2208\n",
      "Epoch 121/500\n",
      "4/4 [==============================] - 6s 2s/step - loss: 1.4113 - accuracy: 0.4675 - val_loss: 17966728.0000 - val_accuracy: 0.1688\n",
      "Epoch 122/500\n",
      "4/4 [==============================] - 6s 2s/step - loss: 1.4794 - accuracy: 0.4675 - val_loss: 1495160.2500 - val_accuracy: 0.1688\n",
      "Epoch 123/500\n",
      "4/4 [==============================] - 6s 2s/step - loss: 1.3556 - accuracy: 0.4416 - val_loss: 7265877.0000 - val_accuracy: 0.1688\n",
      "Epoch 124/500\n",
      "4/4 [==============================] - 6s 2s/step - loss: 1.3760 - accuracy: 0.4675 - val_loss: 8635256.0000 - val_accuracy: 0.1688\n",
      "Epoch 125/500\n",
      "4/4 [==============================] - 6s 2s/step - loss: 1.4310 - accuracy: 0.4286 - val_loss: 26905926.0000 - val_accuracy: 0.1688\n",
      "Epoch 126/500\n",
      "4/4 [==============================] - 6s 2s/step - loss: 1.4190 - accuracy: 0.4545 - val_loss: 43142684.0000 - val_accuracy: 0.1818\n",
      "Epoch 127/500\n",
      "4/4 [==============================] - 6s 2s/step - loss: 1.5219 - accuracy: 0.4156 - val_loss: 14596955.0000 - val_accuracy: 0.1688\n",
      "Epoch 128/500\n",
      "4/4 [==============================] - 6s 2s/step - loss: 1.5587 - accuracy: 0.4286 - val_loss: 7751377.5000 - val_accuracy: 0.1688\n",
      "Epoch 129/500\n",
      "4/4 [==============================] - 6s 2s/step - loss: 1.4972 - accuracy: 0.4545 - val_loss: 7843272.5000 - val_accuracy: 0.1688\n",
      "Epoch 130/500\n",
      "4/4 [==============================] - 6s 2s/step - loss: 1.4689 - accuracy: 0.4156 - val_loss: 22736564.0000 - val_accuracy: 0.1688\n",
      "Epoch 131/500\n",
      "4/4 [==============================] - 6s 2s/step - loss: 1.5809 - accuracy: 0.4286 - val_loss: 1074542464.0000 - val_accuracy: 0.1039\n",
      "Epoch 132/500\n",
      "4/4 [==============================] - 6s 2s/step - loss: 1.5226 - accuracy: 0.4545 - val_loss: 1210546304.0000 - val_accuracy: 0.1818\n",
      "Epoch 133/500\n",
      "4/4 [==============================] - 6s 2s/step - loss: 1.5676 - accuracy: 0.4026 - val_loss: 421336640.0000 - val_accuracy: 0.1688\n",
      "Epoch 134/500\n",
      "4/4 [==============================] - 6s 2s/step - loss: 1.4743 - accuracy: 0.4156 - val_loss: 1395564544.0000 - val_accuracy: 0.1688\n",
      "Epoch 135/500\n",
      "4/4 [==============================] - 6s 2s/step - loss: 1.5229 - accuracy: 0.3896 - val_loss: 1074754048.0000 - val_accuracy: 0.1688\n",
      "Epoch 136/500\n",
      "4/4 [==============================] - 6s 2s/step - loss: 1.4993 - accuracy: 0.4156 - val_loss: 1134800256.0000 - val_accuracy: 0.1688\n",
      "Epoch 137/500\n",
      "4/4 [==============================] - 6s 2s/step - loss: 1.4983 - accuracy: 0.4286 - val_loss: 251798464.0000 - val_accuracy: 0.1558\n",
      "Epoch 138/500\n",
      "4/4 [==============================] - 6s 2s/step - loss: 1.5404 - accuracy: 0.4156 - val_loss: 209123296.0000 - val_accuracy: 0.1688\n",
      "Epoch 139/500\n",
      "4/4 [==============================] - 6s 2s/step - loss: 1.4944 - accuracy: 0.4286 - val_loss: 1352873216.0000 - val_accuracy: 0.1688\n",
      "Epoch 140/500\n",
      "4/4 [==============================] - 6s 2s/step - loss: 1.4939 - accuracy: 0.4156 - val_loss: 5912585728.0000 - val_accuracy: 0.1688\n",
      "Epoch 141/500\n",
      "4/4 [==============================] - 6s 2s/step - loss: 1.5216 - accuracy: 0.4156 - val_loss: 11302005760.0000 - val_accuracy: 0.1688\n",
      "Epoch 142/500\n",
      "4/4 [==============================] - 6s 2s/step - loss: 1.4977 - accuracy: 0.4156 - val_loss: 1425639936.0000 - val_accuracy: 0.1688\n",
      "Epoch 143/500\n",
      "4/4 [==============================] - 6s 2s/step - loss: 1.5521 - accuracy: 0.4026 - val_loss: 1841663488.0000 - val_accuracy: 0.2078\n",
      "Epoch 144/500\n",
      "4/4 [==============================] - 6s 2s/step - loss: 1.5395 - accuracy: 0.4026 - val_loss: 607680640.0000 - val_accuracy: 0.2727\n",
      "Epoch 145/500\n",
      "4/4 [==============================] - 6s 2s/step - loss: 1.5143 - accuracy: 0.4156 - val_loss: 354318560.0000 - val_accuracy: 0.1818\n",
      "Epoch 146/500\n",
      "4/4 [==============================] - 6s 2s/step - loss: 1.4448 - accuracy: 0.4416 - val_loss: 35293688.0000 - val_accuracy: 0.1818\n",
      "Epoch 147/500\n",
      "4/4 [==============================] - 6s 2s/step - loss: 1.4430 - accuracy: 0.4416 - val_loss: 31208354.0000 - val_accuracy: 0.1688\n",
      "Epoch 148/500\n",
      "4/4 [==============================] - 6s 2s/step - loss: 1.4837 - accuracy: 0.4286 - val_loss: 45512320.0000 - val_accuracy: 0.1818\n",
      "Epoch 149/500\n",
      "4/4 [==============================] - 6s 2s/step - loss: 1.5084 - accuracy: 0.4416 - val_loss: 760554560.0000 - val_accuracy: 0.1818\n",
      "Epoch 150/500\n",
      "4/4 [==============================] - 6s 2s/step - loss: 1.5025 - accuracy: 0.4286 - val_loss: 269792032.0000 - val_accuracy: 0.1039\n",
      "Epoch 151/500\n",
      "4/4 [==============================] - 7s 2s/step - loss: 1.5506 - accuracy: 0.4156 - val_loss: 1429091456.0000 - val_accuracy: 0.1039\n",
      "6/6 [==============================] - 12s 308ms/step\n",
      "(181, 5)\n",
      "MAE: 0.2924624979496002\n"
     ]
    }
   ],
   "source": [
    "# Import ResNet1D Module\n",
    "#from ResNet_1DCNN import ResNet\n",
    "#from ResNeXt_1DCNN import ResNeXt as ResNet\n",
    "from SE_ResNeXt_1DCNN import SEResNeXt as ResNet\n",
    "\n",
    "\"Configurations for ResNet in Regression Mode\"\n",
    "length = X_train.shape[1]   # Number of Features (or length of the signal)\n",
    "model_width = 128           # Number of Filter or Kernel in the Input Layer\n",
    "num_channel = 1             # Number of Input Channels\n",
    "problem_type = 'Classification' # Regression or Classification\n",
    "output_number = cls_num     # Number of Outputs in the Regression Mode\n",
    "\n",
    "Regression_Model = ResNet(length, num_channel, model_width, problem_type=problem_type, output_nums=output_number).SEResNeXt152() # Build Model\n",
    "# ResNet Models supported: ResNet18, ResNet34, ResNet50, ResNet101, ResNet152, \n",
    "# ResNext Models supported: ResNeXt18, ResNeXt34, ResNeXt50, ResNeXt101, ResNeXt152, \n",
    "# SEResNext Models supported: SEResNeXt18, SEResNeXt34, SEResNeXt50, SEResNeXt101, SEResNeXt152, \n",
    "#Regression_Model.compile(loss='mae', optimizer='adam', metrics= ['mse']) # Compile Model\n",
    "Regression_Model.compile(optimizer='rmsprop', loss='categorical_crossentropy', metrics=['accuracy'])\n",
    "# Here, Model validation metric is set as Mean Squared Error or MSE\n",
    "\n",
    "#Regression_Model.summary() # Summary of the Model\n",
    "\n",
    "# Early Stopping and Model_Checkpoints are optional parameters\n",
    "# Early Stopping is to stop the training based on certain condition set by the user\n",
    "# Model Checkpoint is to save a model in a directory based on certain conditions so that it can be used later for Transfer Learning or avoiding retraining\n",
    "earlystopping = callbacks.EarlyStopping(monitor =\"val_accuracy\", mode =\"max\", patience = 100, restore_best_weights = True)\n",
    "#callbacks = [EarlyStopping(monitor='val_loss', patience=30, mode='min'), ModelCheckpoint('Saved_Model.h5', verbose=1, monitor='val_loss', save_best_only=True, mode='min')]\n",
    "history = Regression_Model.fit(X_train, y_train_cat, epochs=500, batch_size=btch, verbose=1, validation_data = (X_valid, y_valid_cat), callbacks =[earlystopping]) #,validation_split=0.2,callbacks =[callbacks]\n",
    "# Save 'History' of the model for model performance analysis performed later\n",
    "\n",
    "# Preictions from the Test Set from the Trained Model\n",
    "Predictions = Regression_Model.predict(X_test, verbose=1)\n",
    "print(Predictions.shape)\n",
    "\n",
    "# Error of the prediction, one of many evaluation metrics\n",
    "# Using Mean Absolute Error (MAE) in this case as a sample\n",
    "Error = mean_absolute_error(y_test_cat, Predictions)\n",
    "print(f\"MAE: {Error}\")"
   ]
  },
  {
   "cell_type": "code",
   "execution_count": 25,
   "metadata": {},
   "outputs": [
    {
     "name": "stdout",
     "output_type": "stream",
     "text": [
      "6/6 [==============================] - 2s 273ms/step\n",
      "array([[73,  3,  0,  0,  0],\n",
      "       [26,  5,  0,  0,  0],\n",
      "       [24,  1,  0,  0,  0],\n",
      "       [32,  0,  0,  0,  0],\n",
      "       [16,  1,  0,  0,  0]], dtype=int64)\n",
      "              precision    recall  f1-score   support\n",
      "\n",
      "           0       0.43      0.96      0.59        76\n",
      "           1       0.50      0.16      0.24        31\n",
      "           2       0.00      0.00      0.00        25\n",
      "           3       0.00      0.00      0.00        32\n",
      "           4       0.00      0.00      0.00        17\n",
      "\n",
      "    accuracy                           0.43       181\n",
      "   macro avg       0.19      0.22      0.17       181\n",
      "weighted avg       0.26      0.43      0.29       181\n",
      "\n"
     ]
    },
    {
     "name": "stderr",
     "output_type": "stream",
     "text": [
      "C:\\ProgramData\\Anaconda3\\lib\\site-packages\\sklearn\\metrics\\_classification.py:1248: UndefinedMetricWarning: Precision and F-score are ill-defined and being set to 0.0 in labels with no predicted samples. Use `zero_division` parameter to control this behavior.\n",
      "  _warn_prf(average, modifier, msg_start, len(result))\n",
      "C:\\ProgramData\\Anaconda3\\lib\\site-packages\\sklearn\\metrics\\_classification.py:1248: UndefinedMetricWarning: Precision and F-score are ill-defined and being set to 0.0 in labels with no predicted samples. Use `zero_division` parameter to control this behavior.\n",
      "  _warn_prf(average, modifier, msg_start, len(result))\n",
      "C:\\ProgramData\\Anaconda3\\lib\\site-packages\\sklearn\\metrics\\_classification.py:1248: UndefinedMetricWarning: Precision and F-score are ill-defined and being set to 0.0 in labels with no predicted samples. Use `zero_division` parameter to control this behavior.\n",
      "  _warn_prf(average, modifier, msg_start, len(result))\n"
     ]
    }
   ],
   "source": [
    "predict_x=Regression_Model.predict(X_test)              # Function 1\n",
    "\n",
    "y_pred_crs=np.argmax(predict_x,axis=1)                 # function from augment.py to remove 0 index predictions\n",
    "\n",
    "#y_pred_crs = model_Res.predict_classes(X_test)\n",
    "\n",
    "cm = confusion_matrix(y_test, y_pred_crs)\n",
    "fullprint(cm)\n",
    "acc3=accuracy_score(y_test, y_pred_crs)\n",
    "\n",
    "print(classification_report(y_test, y_pred_crs))\n",
    "\n",
    "#sns.heatmap(cm, annot=True)\n",
    "\n",
    "#plt.imshow(cm)"
   ]
  }
 ],
 "metadata": {
  "celltoolbar": "Raw Cell Format",
  "kernelspec": {
   "display_name": "Python 3 (ipykernel)",
   "language": "python",
   "name": "python3"
  },
  "language_info": {
   "codemirror_mode": {
    "name": "ipython",
    "version": 3
   },
   "file_extension": ".py",
   "mimetype": "text/x-python",
   "name": "python",
   "nbconvert_exporter": "python",
   "pygments_lexer": "ipython3",
   "version": "3.9.7"
  }
 },
 "nbformat": 4,
 "nbformat_minor": 4
}
