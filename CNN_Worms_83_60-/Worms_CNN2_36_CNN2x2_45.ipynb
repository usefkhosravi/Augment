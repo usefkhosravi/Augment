{
 "cells": [
  {
   "cell_type": "markdown",
   "metadata": {},
   "source": [
    "import time\n",
    "plc=1\n",
    "time.sleep(3000*plc)         #run after 1 houre = 3600 seconds"
   ]
  },
  {
   "cell_type": "code",
   "execution_count": 1,
   "metadata": {},
   "outputs": [
    {
     "data": {
      "text/html": [
       "<style>#notebook { padding-top:0px !important; } .container { width:100% !important; } .end_space { min-height:0px !important; } html, body, .container{ margin:0!important;padding:0!important;}</style>"
      ],
      "text/plain": [
       "<IPython.core.display.HTML object>"
      ]
     },
     "metadata": {},
     "output_type": "display_data"
    }
   ],
   "source": [
    "import os\n",
    "import glob\n",
    "import scipy\n",
    "import random\n",
    "import bisect\n",
    "import numpy as np\n",
    "import pandas as pd\n",
    "import seaborn as sns\n",
    "from scipy import signal\n",
    "from scipy.signal import find_peaks\n",
    "import matplotlib.pyplot as plt\n",
    "from preprocess import *                         #ماژول استخراج پنجره ها\n",
    "from data import *                          #ماژول محلی ورود داده ها\n",
    "from augment import *                            #ماژول های داده افزایی\n",
    "from lstm_cnn import *                           #ماژول های داده افزایی با lstm_cnn\n",
    "import augment\n",
    "import importlib\n",
    "importlib.reload(augment)\n",
    "import tensorflow as tf\n",
    "from tensorflow import keras\n",
    "from tensorflow.keras.layers import BatchNormalization\n",
    "from sklearn.model_selection import train_test_split\n",
    "from sklearn.neural_network import MLPClassifier\n",
    "from sklearn.datasets import make_classification\n",
    "from sklearn.metrics import confusion_matrix, accuracy_score, classification_report,recall_score,precision_score\n",
    "from tensorflow.keras import callbacks\n",
    "from tensorflow.keras import layers\n",
    "from tensorflow.keras.models import Sequential\n",
    "from tensorflow.keras.layers import Convolution2D,Conv1D,Dropout,MaxPooling1D,MaxPooling2D,Flatten,Dense\n",
    "from tensorflow.keras import backend as K\n",
    "from tensorflow.keras.utils import to_categorical\n",
    "from tensorflow.keras.models import load_model\n",
    "cwd = os.getcwd() #\n",
    "fullscrn()"
   ]
  },
  {
   "cell_type": "markdown",
   "metadata": {},
   "source": [
    "<h1><center><div style=\"direction:rtl;font-family:B Nazanin\">Importing Data</div></center></h1>"
   ]
  },
  {
   "cell_type": "code",
   "execution_count": 2,
   "metadata": {
    "scrolled": true
   },
   "outputs": [
    {
     "name": "stdout",
     "output_type": "stream",
     "text": [
      "first_train_shape= (77, 901)\n",
      "first_test_shape= (181, 901)\n",
      "classes_quantity= 5\n",
      "tr_lbls=\t {1, 2, 3, 4, 5}\n",
      "Count_labels= [33 13 10 13  8]\n",
      "max(train_feature_Altitude)= 5.0\n",
      "min(train_feature_Altitude)= -4.8873\n",
      "first_train_sample=\n",
      " [ 1.        -0.77859   -0.74444   -0.72546   -0.70269   -0.71408\n",
      " -0.72167   -0.73305   -0.71787   -0.73685   -0.76341   -0.77479\n",
      " -0.76341   -0.74823   -0.72546   -0.73305   -0.73305   -0.74064\n",
      " -0.74444   -0.76341   -0.7672    -0.76341   -0.75582   -0.74823\n",
      " -0.74823   -0.75582   -0.74823   -0.75962   -0.75203   -0.74823\n",
      " -0.74823   -0.73305   -0.73305   -0.74064   -0.771     -0.80895\n",
      " -0.83931   -0.86587   -0.87725   -0.87346   -0.919     -0.86207\n",
      " -0.86207   -0.85069   -0.82792   -0.85069   -0.78238   -0.7672\n",
      " -0.74444   -0.72546   -0.75203   -0.6951    -0.6951    -0.72167\n",
      " -0.72926   -0.74444   -0.74444   -0.79756   -0.75203   -0.67233\n",
      " -0.64577   -0.67613   -0.65716   -0.61541   -0.63818   -0.63439\n",
      " -0.59264   -0.61162   -0.5547    -0.42567   -0.30044   -0.21316\n",
      " -0.22455   -0.23973   -0.23214   -0.19419   -0.13727   -0.11829\n",
      "  0.0069361  0.056269   0.10181    0.11319    0.21945    0.22324\n",
      "  0.21186    0.24221    0.21565    0.21945    0.21945    0.23462\n",
      "  0.33329    0.36365    0.38642    0.40919    0.40919    0.44713\n",
      "  0.46231    0.51165    0.60272    0.65964    0.72795    0.84938\n",
      "  0.87215    0.97841    1.0201     1.0467     1.0733     1.1378\n",
      "  1.1795     1.2251     1.2706     1.3124     1.3579     1.4034\n",
      "  1.4224     1.4376     1.4566     1.4603     1.4414     1.4072\n",
      "  1.4072     1.392      1.392      1.3958     1.392      1.4034\n",
      "  1.3882     1.3617     1.3465     1.2934     1.2706     1.2175\n",
      "  1.153      1.1226     1.0581     1.0391     1.0164     0.986\n",
      "  0.99359    1.0088     0.986      0.98979    1.0315     1.0164\n",
      "  1.0164     0.986      0.986      1.005      1.0467     1.1264\n",
      "  1.0998     1.1036     1.1378     1.134      1.1454     1.1568\n",
      "  1.2175     1.2516     1.263      1.282      1.3465     1.3731\n",
      "  1.4072     1.3617     1.3048     1.2668     1.1378     1.0391\n",
      "  1.0088     0.89113    0.86077    0.74313    0.65964    0.56477\n",
      "  0.44334    0.37883    0.24221    0.10181    0.060063   0.02591\n",
      " -0.038602  -0.084139  -0.27008   -0.26629   -0.32321   -0.36875\n",
      " -0.35357   -0.41049   -0.42947   -0.38013   -0.39911   -0.35357\n",
      " -0.36875   -0.43326   -0.50157   -0.56987   -0.63818   -0.70649\n",
      " -0.77479   -0.83551   -0.79756   -0.78618   -0.83551   -0.93797\n",
      " -1.0025    -0.97971   -0.9911    -0.98351   -1.0328    -1.1087\n",
      " -1.1467    -1.2491    -1.3023    -1.3175    -1.3061    -1.3706\n",
      " -1.3516    -1.3554    -1.3175    -1.2681    -1.2909    -1.2909\n",
      " -1.2947    -1.3137    -1.2871    -1.2074    -1.1391    -1.1125\n",
      " -1.1163    -1.1391    -1.1353    -1.1467    -1.1315    -1.1353\n",
      " -1.1467    -1.1505    -1.1505    -1.1505    -1.1429    -1.1201\n",
      " -1.1125    -1.067     -1.0442    -1.029     -0.98351   -1.0025\n",
      " -1.0253    -1.0442    -1.0404    -1.0594    -1.0822    -1.0822\n",
      " -1.0746    -1.0898    -1.0822    -1.1087    -1.0784    -1.0708\n",
      " -1.067     -1.1087    -1.1163    -1.1467    -1.1467    -1.1998\n",
      " -1.215     -1.2795    -1.325     -1.3402    -1.4123    -1.4617\n",
      " -1.4579    -1.4692    -1.5034    -1.4047    -1.4237    -1.4009\n",
      " -1.3592    -1.3554    -1.3933    -1.3516    -1.344     -1.3478\n",
      " -1.3212    -1.2795    -1.234     -1.2226    -1.2529    -1.2378\n",
      " -1.1884    -1.1732    -1.1429    -1.1239    -1.0974    -1.1049\n",
      " -1.0974    -1.1011    -1.1011    -1.1011    -1.1049    -1.1049\n",
      " -1.1049    -1.1353    -1.1543    -1.1505    -1.1505    -1.2074\n",
      " -1.2264    -1.2188    -1.2529    -1.2605    -1.2643    -1.2454\n",
      " -1.2491    -1.2567    -1.2529    -1.2491    -1.2681    -1.2529\n",
      " -1.2681    -1.2719    -1.2757    -1.2795    -1.2719    -1.2719\n",
      " -1.2681    -1.2871    -1.2643    -1.2909    -1.2719    -1.3023\n",
      " -1.2985    -1.3061    -1.3364    -1.3212    -1.4161    -1.4047\n",
      " -1.4009    -1.3744    -1.3668    -1.3592    -1.3592    -1.3326\n",
      " -1.2643    -1.2757    -1.1505    -1.0784    -1.0139    -1.0253\n",
      " -0.9873    -0.96074   -0.83551   -0.74064   -0.66854   -0.60782\n",
      " -0.54711   -0.48639   -0.42567   -0.36875   -0.30803   -0.24732\n",
      " -0.20557   -0.12588   -0.07655   -0.038602   0.010731   0.0335\n",
      "  0.079037   0.10181    0.12078    0.13216    0.12837    0.12837\n",
      "  0.12458    0.12078    0.12078    0.11699    0.11319    0.079037\n",
      "  0.15114    0.063858   0.10181    0.12078    0.16632    0.14355\n",
      "  0.11319    0.063858   0.12837    0.14355    0.19288    0.33708\n",
      "  0.37503    0.3978     0.44334    0.39021    0.41678    0.4016\n",
      "  0.42436    0.52303    0.65964    0.86456    0.9101     0.9822\n",
      "  1.0126     1.0771     1.1492     1.2251     1.2896     1.4034\n",
      "  1.5021     1.5932     1.6653     1.688      1.7525     1.7601\n",
      "  1.7791     1.7943     1.8133     1.8398     1.8436     1.8133\n",
      "  1.7981     1.7184     1.6349     1.6463     1.6008     1.5514\n",
      "  1.4983     1.4717     1.4528     1.4262     1.3958     1.3541\n",
      "  1.2706     1.2516     1.2099     1.1833     1.0885     1.0505\n",
      "  1.0201     0.97841    0.97461    0.95184    0.96702    0.89872\n",
      "  0.85697    0.80764    0.77349    0.67862    0.62928    0.542\n",
      "  0.50026    0.53821    0.50406    0.48508    0.4699     0.43954\n",
      "  0.46231    0.41298    0.37883    0.33329    0.33708    0.29534\n",
      "  0.26119    0.26119    0.26498    0.26878    0.27257    0.27637\n",
      "  0.27637    0.29534    0.31052    0.33708    0.33708    0.36365\n",
      "  0.38642    0.40539    0.39021    0.42057    0.43954    0.42816\n",
      "  0.49647    0.51544    0.53821    0.56477    0.58754    0.59134\n",
      "  0.6179     0.73554    0.74313    0.77349    0.7659     0.78487\n",
      "  0.86836    0.97841    0.97841    0.97461    1.0012     0.97461\n",
      "  0.99738    1.0088     1.0239     1.0201     1.0164     0.94805\n",
      "  0.88354    0.81902    0.75072    0.68621    0.6179     0.55339\n",
      "  0.48888    0.40539    0.33708    0.24221    0.23083    0.13216\n",
      "  0.052474  -0.065165  -0.12968   -0.22834   -0.32701   -0.41049\n",
      " -0.47121   -0.50536   -0.59264   -0.57746   -0.63059   -0.66095\n",
      " -0.74064   -0.79377   -0.89623   -0.98351   -1.0898    -1.1505\n",
      " -1.2491    -1.3326    -1.3326    -1.3288    -1.3288    -1.325\n",
      " -1.325     -1.3212    -1.3212    -1.3592    -1.4541    -1.4654\n",
      " -1.492     -1.5186    -1.4882    -1.4541    -1.4275    -1.4047\n",
      " -1.3706    -1.3592    -1.3212    -1.2985    -1.2909    -1.2833\n",
      " -1.2491    -1.2036    -1.1505    -1.1011    -1.0442    -0.97971\n",
      " -0.95695   -0.97212   -1.0101    -0.97971   -0.94556   -0.80136\n",
      " -0.7672    -0.72546   -0.66474   -0.57367   -0.46741   -0.26629\n",
      " -0.16383   -0.13727   -0.16383   -0.19039   -0.21696   -0.24352\n",
      " -0.27008   -0.29665   -0.36496   -0.45983   -0.5509    -0.61921\n",
      " -0.74444   -0.83172   -0.90382   -0.97592   -1.0328    -1.1695\n",
      " -1.2454    -1.3023    -1.3364    -1.3933    -1.3971    -1.4351\n",
      " -1.4427    -1.3971    -1.3288    -1.2302    -1.1695    -1.0556\n",
      " -0.92279   -0.79756   -0.66854   -0.57367   -0.48259   -0.39531\n",
      " -0.31183   -0.22455   -0.13727   -0.049986   0.037295   0.12078\n",
      "  0.20047    0.28396    0.35606    0.42057    0.50026    0.51165\n",
      "  0.51544    0.51924    0.43954    0.4016     0.36744    0.20047\n",
      "  0.24221    0.11699    0.048679  -0.019628  -0.087934  -0.16004\n",
      " -0.22834   -0.29665   -0.39911   -0.44844   -0.45983   -0.51675\n",
      " -0.55849   -0.69131   -0.83551   -0.85449   -0.92659   -0.97971\n",
      " -0.94556   -1.0328    -0.89623   -0.98351   -0.97971   -0.86966\n",
      " -0.86966   -0.81274   -0.75203   -0.6951    -0.63818   -0.57746\n",
      " -0.52054   -0.45983   -0.31562   -0.30803   -0.19419   -0.1145\n",
      "  0.02591    0.16252    0.26119    0.41298    0.52682    0.51165\n",
      "  0.57616    0.65585    0.70518    0.79626    0.91769    0.95943\n",
      "  1.0809     1.263      1.301      1.4414     1.5856     1.7146\n",
      "  1.7981     1.9157     2.0144     2.0258     2.0979     2.2155\n",
      "  2.3104     2.3559     2.3939     2.4546     2.428      2.4925\n",
      "  2.5153     2.6405     2.7658     2.8151     2.8341     2.9138\n",
      "  2.9176     2.9403     2.9707     2.9365     2.9062     2.8379\n",
      "  2.7506     2.614      2.3863     2.2573     2.151      1.9726\n",
      "  1.8284     1.6425     1.5742     1.4793     1.4262     1.3845\n",
      "  1.3199     1.2706     1.2592     1.1909     1.1606     1.1264\n",
      "  1.0771     0.986      0.93287    0.88733    0.838      0.79626\n",
      "  0.72036    0.64067    0.62549    0.60272    0.55718    0.55339\n",
      "  0.49647    0.48508    0.43575    0.41298    0.39021    0.30293\n",
      "  0.19288    0.19288    0.21945    0.20047    0.15114    0.094217\n",
      "  0.094217   0.090422   0.11319    0.11319    0.14734    0.19288\n",
      "  0.26119    0.35985    0.46231    0.4737     0.51544    0.50406\n",
      "  0.55718    0.58754    0.6179     0.64826    0.67862    0.70898\n",
      "  0.73933    0.80764    0.86077    0.89872    0.93287    1.0201\n",
      "  1.0164     1.0126     1.005      0.99738    0.99359    1.0164\n",
      "  1.0164     1.005      1.0429     1.1036     1.1036     1.0543\n",
      "  1.005      0.96702    0.96702    0.91769    0.88733    0.86456\n",
      "  0.84938    0.78487    0.67862    0.65205    0.58375    0.59513\n",
      "  0.53441    0.4737     0.41298    0.35226    0.29155    0.23083\n",
      "  0.14355    0.048679  -0.019628  -0.057576  -0.1107    -0.13347\n",
      " -0.20178   -0.28906   -0.37634   -0.48259   -0.51295   -0.64957\n",
      " -0.64198   -0.67992   -0.66474   -0.65716   -0.58885   -0.56608\n",
      " -0.58885   -0.64577   -0.67613   -0.7672    -0.76341   -0.74064\n",
      " -0.74064   -0.78997   -0.78618   -0.78238   -0.78238   -0.77859\n",
      " -0.77479   -0.77479   -0.771     -0.70269   -0.71028   -0.70649\n",
      " -0.6989    -0.66854   -0.623     -0.57367   -0.50916   -0.4067\n",
      " -0.34978   -0.31562   -0.28147   -0.28526   -0.22834   -0.12209\n",
      " -0.019628   0.010731   0.090422   0.1094     0.16252    0.22703\n",
      "  0.27637    0.29534    0.29914    0.32949    0.35985    0.35606\n",
      "  0.34847    0.42057    0.46231    0.50785    0.54959    0.59513\n",
      "  0.63687    0.68241    0.71657    0.69759    0.67103    0.65585\n",
      "  0.65964    0.63687    0.62169    0.56477    0.57995    0.53821\n",
      "  0.50406    0.45852    0.41678    0.39021    0.37124    0.29914\n",
      "  0.2536     0.20047    0.12458    0.082832   0.052474  -0.042396\n",
      " -0.099319  -0.12588   -0.19039   -0.22834   -0.20557   -0.27388\n",
      " -0.32321  ]\n"
     ]
    },
    {
     "name": "stdout",
     "output_type": "stream",
     "text": [
      "1 33\t1 33\t2 13\t3 10\t4 13\t"
     ]
    }
   ],
   "source": [
    "rate=480\n",
    "cls_num=5\n",
    "btch=20\n",
    "for i in range (1,cls_num+1):\n",
    "    vars()['ecg'+str(i)],vars()['ecg_tst'+str(i)]=Worms(i)\n",
    "\n",
    "os.chdir(cwd)\n",
    "clses_lens=np.array([])\n",
    "ecg=np.array(ecg1)\n",
    "print(1,len(vars()['ecg'+str(1)]), end='\\t')\n",
    "clses_lens=np.append(clses_lens,len(vars()['ecg'+str(1)]))\n",
    "for i in range (1,cls_num):\n",
    "    ecg=np.concatenate((ecg,vars()['ecg'+str(i)]),axis=0)\n",
    "    clses_lens=np.append(clses_lens,len(vars()['ecg'+str(i)]))\n",
    "    print(i,len(vars()['ecg'+str(i)]), end='\\t')\n",
    "\n",
    "mx_sig=max(clses_lens)"
   ]
  },
  {
   "cell_type": "code",
   "execution_count": 3,
   "metadata": {},
   "outputs": [
    {
     "data": {
      "text/plain": [
       "(102, 481)"
      ]
     },
     "execution_count": 3,
     "metadata": {},
     "output_type": "execute_result"
    }
   ],
   "source": [
    "np.shape(ecg)"
   ]
  },
  {
   "cell_type": "code",
   "execution_count": 4,
   "metadata": {},
   "outputs": [
    {
     "data": {
      "text/plain": [
       "array([1., 1., 1., 1., 1., 1., 1., 1., 1., 1., 1., 1., 1., 1., 1., 1., 1.,\n",
       "       1., 1., 1., 1., 1., 1., 1., 1., 1., 1., 1., 1., 1., 1., 1., 1., 1.,\n",
       "       1., 1., 1., 1., 1., 1., 1., 1., 1., 1., 1., 1., 1., 1., 1., 1., 1.,\n",
       "       1., 1., 1., 1., 1., 1., 1., 1., 1., 1., 1., 1., 1., 1., 1., 2., 2.,\n",
       "       2., 2., 2., 2., 2., 2., 2., 2., 2., 2., 2., 3., 3., 3., 3., 3., 3.,\n",
       "       3., 3., 3., 3., 4., 4., 4., 4., 4., 4., 4., 4., 4., 4., 4., 4., 4.])"
      ]
     },
     "execution_count": 4,
     "metadata": {},
     "output_type": "execute_result"
    }
   ],
   "source": [
    "ecg[:,-1]"
   ]
  },
  {
   "cell_type": "markdown",
   "metadata": {},
   "source": [
    "<h2><center><div style=\"direction:rtl;font-family:B Nazanin\">Base Train windows</div></center></h1>"
   ]
  },
  {
   "cell_type": "code",
   "execution_count": 5,
   "metadata": {},
   "outputs": [
    {
     "name": "stdout",
     "output_type": "stream",
     "text": [
      "each class and its windows =\n",
      "1 33\t2 13\t3 10\t4 13\t5 8\t\n",
      " max = 33\n"
     ]
    }
   ],
   "source": [
    "smpl_rte=rate                                              # در ماژول ها نیز همین مقدار ثبت شده\n",
    "i=0\n",
    "windws=np.array([])\n",
    "\n",
    "for cls in range (1,cls_num+1):                                 #ساخت پنجره های داده های آموزش اصلی\n",
    "    vars()['wndws'+str(cls)]=np.array(vars()['ecg'+str(cls)])  \n",
    "    \n",
    "print(\"each class and its windows =\")\n",
    "\n",
    "cls_wndws=np.array([])\n",
    "for cls in range (1,cls_num+1):                                # آرایه ی تعداد پنجره ی هر کلاس\n",
    "    wns=len(vars()['wndws'+str(cls)])\n",
    "    cls_wndws=np.append(cls_wndws,wns)\n",
    "    print(cls, wns, end='\\t')\n",
    "\n",
    "mx_wndws=int(np.max(cls_wndws))                        # حداکثر تعداد پنجره ی موجود بین کلاس ها\n",
    "print('\\n max =', mx_wndws)"
   ]
  },
  {
   "cell_type": "raw",
   "metadata": {},
   "source": [
    "#clses=3                                   #تعیین میزان افزایش نمونه (تولید داده)\n",
    "mx_wndws=int(mx_wndws)  #mx_wndws*0.3  # =classes-1 برای بررسی الگوریتم تعداد کمی کلاس آزمایش شد\n",
    "mx_wndws=2598           #+2\n",
    "print(mx_wndws)"
   ]
  },
  {
   "cell_type": "markdown",
   "metadata": {},
   "source": [
    "<h1><center><div style=\"direction:rtl;font-family:B Nazanin\">Data Augmentation</div></center></h1>"
   ]
  },
  {
   "cell_type": "code",
   "execution_count": 6,
   "metadata": {},
   "outputs": [
    {
     "name": "stdout",
     "output_type": "stream",
     "text": [
      "Up to class  1 train shape =  (33, 481)\n",
      "Up to class  2 train shape =  (46, 481)\n",
      "Up to class  3 train shape =  (56, 481)\n",
      "Up to class  4 train shape =  (69, 481)\n",
      "Up to class  5 train shape =  (77, 481)\n"
     ]
    }
   ],
   "source": [
    "smpl_rte=len(wndws1[0])                                        # در ماژول ها نیز همین مقدار ثبت شده\n",
    "\n",
    "#add augmented data to base data\n",
    "xtrain=np.empty((0,len(wndws1[0])), float) \n",
    "for i in range (1,cls_num+1):   \n",
    "    xtrain=np.append(xtrain,vars()['wndws'+str(i)],axis=0)\n",
    "    print('Up to class ', i, 'train shape = ', np.shape(xtrain))"
   ]
  },
  {
   "cell_type": "code",
   "execution_count": 7,
   "metadata": {},
   "outputs": [
    {
     "name": "stdout",
     "output_type": "stream",
     "text": [
      "[ 0 33 13 10 13  8]\n"
     ]
    }
   ],
   "source": [
    "print(np.bincount(np.int16(xtrain[:,-1])))    #تعداد پنجره در هر کلاس از 0 تا 17"
   ]
  },
  {
   "cell_type": "code",
   "execution_count": 8,
   "metadata": {},
   "outputs": [
    {
     "data": {
      "text/plain": [
       "array([1., 1., 1., 1., 1., 1., 1., 1., 1., 1., 1., 1., 1., 1., 1., 1., 1.,\n",
       "       1., 1., 1., 1., 1., 1., 1., 1., 1., 1., 1., 1., 1., 1., 1., 1., 2.,\n",
       "       2., 2., 2., 2., 2., 2., 2., 2., 2., 2., 2., 2., 3., 3., 3., 3., 3.,\n",
       "       3., 3., 3., 3., 3., 4., 4., 4., 4., 4., 4., 4., 4., 4., 4., 4., 4.,\n",
       "       4., 5., 5., 5., 5., 5., 5., 5., 5.])"
      ]
     },
     "execution_count": 8,
     "metadata": {},
     "output_type": "execute_result"
    }
   ],
   "source": [
    "xtrain[:,-1]"
   ]
  },
  {
   "cell_type": "code",
   "execution_count": 9,
   "metadata": {},
   "outputs": [],
   "source": [
    "mx_aug=np.max(xtrain[:,:-1])\n",
    "mx=np.max(ecg[:,:-1])\n",
    "mn_aug=np.min(xtrain[:,:-1])\n",
    "mn=np.min(ecg[:,:-1])\n",
    "\n",
    "#for i in range (1,cls_num+1):             #نرمالسازی داده های افزایشی\n",
    "xtrain[:,:-1]= 2*(xtrain[:,:-1]-mn_aug)/(mx_aug - mn_aug) - 1"
   ]
  },
  {
   "cell_type": "code",
   "execution_count": 10,
   "metadata": {},
   "outputs": [
    {
     "name": "stdout",
     "output_type": "stream",
     "text": [
      "min trn = -1.0\n",
      "max trn = 1.0\n"
     ]
    }
   ],
   "source": [
    "print('min trn =', np.min(xtrain[:,:-1]))\n",
    "print('max trn =', np.max(xtrain[:,:-1]))"
   ]
  },
  {
   "cell_type": "markdown",
   "metadata": {},
   "source": [
    "<h3><center><div style=\"direction:rtl;font-family:B Nazanin\">Test Windows</div></center></h1>"
   ]
  },
  {
   "cell_type": "code",
   "execution_count": 11,
   "metadata": {},
   "outputs": [],
   "source": [
    "wndws_test=np.empty((0,len(wndws1[0])), float)\n",
    "i=0\n",
    "windws=np.array([])\n",
    "for cls in range (1,cls_num+1):                                 #ساخت پنجره های داده های آموزش اصلی\n",
    "    vars()['wndws_tst'+str(cls)]=np.empty((0,len(wndws1[0])), float)\n",
    "    vars()['wndws_tst'+str(cls)]=np.append(vars()['wndws_tst'+str(cls)],vars()['ecg_tst'+str(cls)],axis=0)   "
   ]
  },
  {
   "cell_type": "code",
   "execution_count": 12,
   "metadata": {},
   "outputs": [
    {
     "name": "stdout",
     "output_type": "stream",
     "text": [
      "\n",
      " cls 1  >> \n",
      "max magnitude class 1  =  4.15378796651056\n",
      "min magnitude class 1  =  -3.843315656665217\n",
      "after normalizing >>\n",
      "max magnitude class 1  =  0.9912474898930748\n",
      "min magnitude class 1  =  -0.7913781222668073\n",
      "\n",
      " cls 2  >> \n",
      "max magnitude class 2  =  4.805245664165702\n",
      "min magnitude class 2  =  -4.297923986368131\n",
      "after normalizing >>\n",
      "max magnitude class 2  =  1.1364632119594082\n",
      "min magnitude class 2  =  -0.8927143672644453\n",
      "\n",
      " cls 3  >> \n",
      "max magnitude class 3  =  4.34932253196514\n",
      "min magnitude class 3  =  -3.1886301151755214\n",
      "after normalizing >>\n",
      "max magnitude class 3  =  1.034833885776672\n",
      "min magnitude class 3  =  -0.6454428850656624\n",
      "\n",
      " cls 4  >> \n",
      "max magnitude class 4  =  2.8138531154032145\n",
      "min magnitude class 4  =  -3.243701190743466\n",
      "after normalizing >>\n",
      "max magnitude class 4  =  0.6925640794033854\n",
      "min magnitude class 4  =  -0.6577187182200694\n",
      "\n",
      " cls 5  >> \n",
      "max magnitude class 5  =  2.775953674075827\n",
      "min magnitude class 5  =  -3.985204399050608\n",
      "after normalizing >>\n",
      "max magnitude class 5  =  0.684115956435345\n",
      "min magnitude class 5  =  -0.823006386469905\n",
      "each class and its windows =\n",
      "1 76\t2 31\t3 25\t4 32\t5 17\t\n",
      " max instance in classes of test windows = 76\n"
     ]
    }
   ],
   "source": [
    "#print(np.max(wndws_tst))\n",
    "for i in range (1,cls_num+1):                # Normalization test windows\n",
    "    cls=i\n",
    "    print('\\n cls', i, ' >> ')\n",
    "    print('max magnitude class', i , ' = ' ,np.max(vars()['wndws_tst'+str(cls)][:,:-1]))\n",
    "    print('min magnitude class', i , ' = ' ,np.min(vars()['wndws_tst'+str(cls)][:,:-1]))\n",
    "\n",
    "    vars()['wndws_tst'+str(i)][:,:-1]= 2*(vars()['wndws_tst'+str(i)][:,:-1]-mn_aug)/(mx_aug - mn_aug) - 1\n",
    "    \n",
    "    print('after normalizing >>')\n",
    "    print('max magnitude class', i , ' = ' ,np.max(vars()['wndws_tst'+str(cls)][:,:-1]))\n",
    "    print('min magnitude class', i , ' = ' ,np.min(vars()['wndws_tst'+str(cls)][:,:-1]))\n",
    "    \n",
    "print(\"each class and its windows =\")                    #تجمیع کلاس های تست\n",
    "cls_wndws=np.array([])\n",
    "for cls in range (1,cls_num+1):                                # آرایه ی تعداد پنجره ی هر کلاس\n",
    "    wns=len(vars()['wndws_tst'+str(cls)])\n",
    "    cls_wndws=np.append(cls_wndws,wns)\n",
    "    print(cls, wns, end='\\t')\n",
    "    wndws_test=np.append(wndws_test,vars()['wndws_tst'+str(cls)],axis=0)\n",
    "    \n",
    "mx_wndws=int(np.max(cls_wndws))                        # حداکثر تعداد پنجره ی موجود بین کلاس ها\n",
    "print('\\n max instance in classes of test windows =', mx_wndws)"
   ]
  },
  {
   "cell_type": "code",
   "execution_count": 13,
   "metadata": {},
   "outputs": [
    {
     "name": "stdout",
     "output_type": "stream",
     "text": [
      "min tst = -0.8927143672644453\n",
      "max tst = 1.1364632119594082\n"
     ]
    }
   ],
   "source": [
    "print('min tst =', np.min(wndws_test[:,:-1]))\n",
    "print('max tst =', np.max(wndws_test[:,:-1]))"
   ]
  },
  {
   "cell_type": "code",
   "execution_count": 14,
   "metadata": {},
   "outputs": [
    {
     "data": {
      "text/plain": [
       "181"
      ]
     },
     "execution_count": 14,
     "metadata": {},
     "output_type": "execute_result"
    }
   ],
   "source": [
    "len(wndws_test)"
   ]
  },
  {
   "cell_type": "code",
   "execution_count": 15,
   "metadata": {},
   "outputs": [
    {
     "data": {
      "text/plain": [
       "(181, 481)"
      ]
     },
     "execution_count": 15,
     "metadata": {},
     "output_type": "execute_result"
    }
   ],
   "source": [
    "np.shape(wndws_test)"
   ]
  },
  {
   "cell_type": "code",
   "execution_count": 16,
   "metadata": {},
   "outputs": [],
   "source": [
    "Xtest=wndws_test[:,:-1]\n",
    "ytest=np.int16(wndws_test[:,-1])"
   ]
  },
  {
   "cell_type": "code",
   "execution_count": 17,
   "metadata": {},
   "outputs": [
    {
     "name": "stdout",
     "output_type": "stream",
     "text": [
      "array([1, 1, 1, 1, 1, 1, 1, 1, 1, 1, 1, 1, 1, 1, 1, 1, 1, 1, 1, 1, 1, 1,\n",
      "       1, 1, 1, 1, 1, 1, 1, 1, 1, 1, 1, 1, 1, 1, 1, 1, 1, 1, 1, 1, 1, 1,\n",
      "       1, 1, 1, 1, 1, 1, 1, 1, 1, 1, 1, 1, 1, 1, 1, 1, 1, 1, 1, 1, 1, 1,\n",
      "       1, 1, 1, 1, 1, 1, 1, 1, 1, 1, 2, 2, 2, 2, 2, 2, 2, 2, 2, 2, 2, 2,\n",
      "       2, 2, 2, 2, 2, 2, 2, 2, 2, 2, 2, 2, 2, 2, 2, 2, 2, 2, 2, 3, 3, 3,\n",
      "       3, 3, 3, 3, 3, 3, 3, 3, 3, 3, 3, 3, 3, 3, 3, 3, 3, 3, 3, 3, 3, 3,\n",
      "       4, 4, 4, 4, 4, 4, 4, 4, 4, 4, 4, 4, 4, 4, 4, 4, 4, 4, 4, 4, 4, 4,\n",
      "       4, 4, 4, 4, 4, 4, 4, 4, 4, 4, 5, 5, 5, 5, 5, 5, 5, 5, 5, 5, 5, 5,\n",
      "       5, 5, 5, 5, 5], dtype=int16)\n"
     ]
    }
   ],
   "source": [
    "fullprint(ytest)"
   ]
  },
  {
   "cell_type": "markdown",
   "metadata": {},
   "source": [
    "<h3><center><div style=\"direction:rtl;font-family:B Nazanin\">Train Windows</div></center></h1>"
   ]
  },
  {
   "cell_type": "code",
   "execution_count": 18,
   "metadata": {},
   "outputs": [
    {
     "data": {
      "text/plain": [
       "'\\nytestt=np.int32(np.array([ytest]).T)\\ntestx=np.concatenate((Xtest, ytestt), axis=1)\\ntestx=np.random.permutation(testx)\\nXtest=np.int32(testx[:,:-1])\\nytest=np.int32(testx[:,-1])'"
      ]
     },
     "execution_count": 18,
     "metadata": {},
     "output_type": "execute_result"
    }
   ],
   "source": [
    "#ytraint=np.int32(np.array([ytrain]).T)\n",
    "#trainx=np.concatenate((Xtrain, ytraint), axis=1)\n",
    "trainx=np.random.permutation(xtrain)\n",
    "Xtrain=np.array(trainx[:,:-1])\n",
    "ytrain=np.int16(trainx[:,-1])\n",
    "'''\n",
    "ytestt=np.int32(np.array([ytest]).T)\n",
    "testx=np.concatenate((Xtest, ytestt), axis=1)\n",
    "testx=np.random.permutation(testx)\n",
    "Xtest=np.int32(testx[:,:-1])\n",
    "ytest=np.int32(testx[:,-1])'''"
   ]
  },
  {
   "cell_type": "code",
   "execution_count": 19,
   "metadata": {},
   "outputs": [
    {
     "data": {
      "text/plain": [
       "(33, 481)"
      ]
     },
     "execution_count": 19,
     "metadata": {},
     "output_type": "execute_result"
    }
   ],
   "source": [
    "np.shape(wndws1)"
   ]
  },
  {
   "cell_type": "markdown",
   "metadata": {},
   "source": [
    "<h3><center><div style=\"direction:rtl;font-family:B Nazanin\">Validation Windows</div></center></h1>"
   ]
  },
  {
   "cell_type": "code",
   "execution_count": 20,
   "metadata": {},
   "outputs": [],
   "source": [
    "Xvalid=np.array(Xtrain)\n",
    "yvalid=np.array(ytrain)"
   ]
  },
  {
   "cell_type": "markdown",
   "metadata": {},
   "source": [
    "<h1><center><div style=\"direction:rtl;font-family:B Nazanin\">CNN And UnBalanced RAW Data</div></center></h1>\n",
    "<h1><center><div style=\"direction:rtl;font-family:Arial\">Cross Entropy Loss Function</div></center></h1>"
   ]
  },
  {
   "cell_type": "code",
   "execution_count": 21,
   "metadata": {
    "scrolled": true
   },
   "outputs": [
    {
     "name": "stdout",
     "output_type": "stream",
     "text": [
      "X_train =>  (77, 480)\n",
      "y_train =>  (77,)\n",
      "X_test  =>  (181, 480)\n",
      "y_test  =>  (181,)\n",
      "X_valid  =>  (77, 480)\n",
      "y_valid  =>  (77,)\n"
     ]
    }
   ],
   "source": [
    "X_train=np.array(Xtrain)\n",
    "y_train=np.array(ytrain)\n",
    "X_test=np.array(Xtest)\n",
    "y_test=np.array(ytest)\n",
    "X_valid=np.array(Xtrain)\n",
    "y_valid=np.array(ytrain)\n",
    "print('X_train => ', X_train.shape)\n",
    "print('y_train => ', y_train.shape)\n",
    "print('X_test  => ', X_test.shape)\n",
    "print('y_test  => ', y_test.shape)\n",
    "print('X_valid  => ', X_valid.shape)\n",
    "print('y_valid  => ', y_valid.shape)"
   ]
  },
  {
   "cell_type": "markdown",
   "metadata": {},
   "source": [
    "y_train=np.array(y_train+1)\n",
    "y_test=np.array(y_test+1)\n",
    "y_valid=np.array(y_valid+1)"
   ]
  },
  {
   "cell_type": "code",
   "execution_count": 22,
   "metadata": {},
   "outputs": [],
   "source": [
    "y_train_cat=to_categorical(y_train)\n",
    "y_valid_cat=to_categorical(y_valid)\n",
    "y_test_cat=to_categorical(y_test)\n",
    "\n",
    "\n",
    "X_train = np.expand_dims(X_train, axis=2)\n",
    "X_valid = np.expand_dims(X_valid, axis=2)\n",
    "X_test = np.expand_dims(X_test, axis=2)\n",
    "#y_train=np.transpose([y_train])"
   ]
  },
  {
   "cell_type": "code",
   "execution_count": 23,
   "metadata": {
    "scrolled": true
   },
   "outputs": [
    {
     "name": "stdout",
     "output_type": "stream",
     "text": [
      "Epoch 1/1000\n",
      "1/1 [==============================] - 3s 3s/step - loss: 1.8636 - accuracy: 0.1169 - val_loss: 1.5766 - val_accuracy: 0.4286\n",
      "Epoch 2/1000\n",
      "1/1 [==============================] - 0s 39ms/step - loss: 38.5308 - accuracy: 0.4286 - val_loss: 1.7884 - val_accuracy: 0.1688\n",
      "Epoch 3/1000\n",
      "1/1 [==============================] - 0s 41ms/step - loss: 1.8083 - accuracy: 0.1688 - val_loss: 1.7695 - val_accuracy: 0.4286\n",
      "Epoch 4/1000\n",
      "1/1 [==============================] - 0s 41ms/step - loss: 1.4497 - accuracy: 0.4286 - val_loss: 1.7207 - val_accuracy: 0.4286\n",
      "Epoch 5/1000\n",
      "1/1 [==============================] - 0s 41ms/step - loss: 1.8073 - accuracy: 0.4286 - val_loss: 1.7826 - val_accuracy: 0.1688\n",
      "Epoch 6/1000\n",
      "1/1 [==============================] - 0s 41ms/step - loss: 1.6856 - accuracy: 0.1688 - val_loss: 1.7695 - val_accuracy: 0.1688\n",
      "Epoch 7/1000\n",
      "1/1 [==============================] - 0s 44ms/step - loss: 1.5124 - accuracy: 0.5325 - val_loss: 1.7457 - val_accuracy: 0.4286\n",
      "Epoch 8/1000\n",
      "1/1 [==============================] - 0s 45ms/step - loss: 1.3185 - accuracy: 0.4286 - val_loss: 1.7423 - val_accuracy: 0.4286\n",
      "Epoch 9/1000\n",
      "1/1 [==============================] - 0s 45ms/step - loss: 1.3644 - accuracy: 0.2987 - val_loss: 1.7009 - val_accuracy: 0.4286\n",
      "Epoch 10/1000\n",
      "1/1 [==============================] - 0s 37ms/step - loss: 2.1675 - accuracy: 0.4286 - val_loss: 1.7724 - val_accuracy: 0.1688\n",
      "Epoch 11/1000\n",
      "1/1 [==============================] - 0s 37ms/step - loss: 1.5442 - accuracy: 0.3377 - val_loss: 1.7607 - val_accuracy: 0.1688\n",
      "Epoch 12/1000\n",
      "1/1 [==============================] - 0s 38ms/step - loss: 1.3534 - accuracy: 0.7143 - val_loss: 1.7421 - val_accuracy: 0.4286\n",
      "Epoch 13/1000\n",
      "1/1 [==============================] - 0s 42ms/step - loss: 1.1139 - accuracy: 0.6104 - val_loss: 1.7164 - val_accuracy: 0.4286\n",
      "Epoch 14/1000\n",
      "1/1 [==============================] - 0s 41ms/step - loss: 0.9100 - accuracy: 0.5974 - val_loss: 1.7442 - val_accuracy: 0.1688\n",
      "Epoch 15/1000\n",
      "1/1 [==============================] - 0s 40ms/step - loss: 1.1227 - accuracy: 0.4416 - val_loss: 1.6487 - val_accuracy: 0.4286\n",
      "Epoch 16/1000\n",
      "1/1 [==============================] - 0s 38ms/step - loss: 2.3525 - accuracy: 0.4286 - val_loss: 1.7524 - val_accuracy: 0.1948\n",
      "Epoch 17/1000\n",
      "1/1 [==============================] - 0s 49ms/step - loss: 2.3182 - accuracy: 0.1688 - val_loss: 1.7498 - val_accuracy: 0.4675\n",
      "Epoch 18/1000\n",
      "1/1 [==============================] - 0s 39ms/step - loss: 1.3812 - accuracy: 0.6104 - val_loss: 1.7232 - val_accuracy: 0.4286\n",
      "Epoch 19/1000\n",
      "1/1 [==============================] - 0s 38ms/step - loss: 1.1042 - accuracy: 0.5584 - val_loss: 1.7009 - val_accuracy: 0.4286\n",
      "Epoch 20/1000\n",
      "1/1 [==============================] - 0s 38ms/step - loss: 0.9563 - accuracy: 0.5584 - val_loss: 1.7255 - val_accuracy: 0.4286\n",
      "Epoch 21/1000\n",
      "1/1 [==============================] - 0s 37ms/step - loss: 0.9205 - accuracy: 0.7792 - val_loss: 1.6651 - val_accuracy: 0.4286\n",
      "Epoch 22/1000\n",
      "1/1 [==============================] - 0s 38ms/step - loss: 1.0120 - accuracy: 0.5584 - val_loss: 1.7479 - val_accuracy: 0.1688\n",
      "Epoch 23/1000\n",
      "1/1 [==============================] - 0s 37ms/step - loss: 1.0867 - accuracy: 0.6104 - val_loss: 1.7207 - val_accuracy: 0.4286\n",
      "Epoch 24/1000\n",
      "1/1 [==============================] - 0s 36ms/step - loss: 0.8040 - accuracy: 0.8442 - val_loss: 1.6822 - val_accuracy: 0.4286\n",
      "Epoch 25/1000\n",
      "1/1 [==============================] - 0s 38ms/step - loss: 0.5693 - accuracy: 0.7922 - val_loss: 1.6824 - val_accuracy: 0.3766\n",
      "Epoch 26/1000\n",
      "1/1 [==============================] - 0s 37ms/step - loss: 0.9413 - accuracy: 0.6234 - val_loss: 1.6979 - val_accuracy: 0.2597\n",
      "Epoch 27/1000\n",
      "1/1 [==============================] - 0s 37ms/step - loss: 2.1388 - accuracy: 0.4286 - val_loss: 1.7085 - val_accuracy: 0.4286\n",
      "Epoch 28/1000\n",
      "1/1 [==============================] - 0s 39ms/step - loss: 1.2043 - accuracy: 0.5195 - val_loss: 1.6952 - val_accuracy: 0.4286\n",
      "Epoch 29/1000\n",
      "1/1 [==============================] - 0s 38ms/step - loss: 0.8980 - accuracy: 0.5844 - val_loss: 1.7121 - val_accuracy: 0.4286\n",
      "Epoch 30/1000\n",
      "1/1 [==============================] - 0s 39ms/step - loss: 0.7221 - accuracy: 0.7403 - val_loss: 1.6798 - val_accuracy: 0.4286\n",
      "Epoch 31/1000\n",
      "1/1 [==============================] - 0s 37ms/step - loss: 0.5361 - accuracy: 0.7403 - val_loss: 1.7116 - val_accuracy: 0.1558\n",
      "Epoch 32/1000\n",
      "1/1 [==============================] - 0s 37ms/step - loss: 0.5228 - accuracy: 0.8442 - val_loss: 1.6320 - val_accuracy: 0.4286\n",
      "Epoch 33/1000\n",
      "1/1 [==============================] - 0s 39ms/step - loss: 0.7701 - accuracy: 0.6104 - val_loss: 1.7283 - val_accuracy: 0.1299\n",
      "Epoch 34/1000\n",
      "1/1 [==============================] - 0s 39ms/step - loss: 0.8696 - accuracy: 0.5974 - val_loss: 1.6844 - val_accuracy: 0.4286\n",
      "Epoch 35/1000\n",
      "1/1 [==============================] - 0s 36ms/step - loss: 0.4037 - accuracy: 0.9481 - val_loss: 1.6742 - val_accuracy: 0.4286\n",
      "Epoch 36/1000\n",
      "1/1 [==============================] - 0s 37ms/step - loss: 0.2208 - accuracy: 1.0000 - val_loss: 1.6504 - val_accuracy: 0.4286\n",
      "Epoch 37/1000\n",
      "1/1 [==============================] - 0s 49ms/step - loss: 0.1247 - accuracy: 1.0000 - val_loss: 1.6578 - val_accuracy: 0.4935\n",
      "Epoch 38/1000\n",
      "1/1 [==============================] - 0s 38ms/step - loss: 0.0798 - accuracy: 1.0000 - val_loss: 1.6127 - val_accuracy: 0.4286\n",
      "Epoch 39/1000\n",
      "1/1 [==============================] - 0s 38ms/step - loss: 0.0594 - accuracy: 0.9870 - val_loss: 1.6784 - val_accuracy: 0.1429\n",
      "Epoch 40/1000\n",
      "1/1 [==============================] - 0s 37ms/step - loss: 0.0954 - accuracy: 0.9481 - val_loss: 1.5845 - val_accuracy: 0.4286\n",
      "Epoch 41/1000\n",
      "1/1 [==============================] - 0s 39ms/step - loss: 0.3894 - accuracy: 0.8701 - val_loss: 1.7197 - val_accuracy: 0.1039\n",
      "Epoch 42/1000\n",
      "1/1 [==============================] - 0s 40ms/step - loss: 0.6371 - accuracy: 0.7403 - val_loss: 1.6558 - val_accuracy: 0.4286\n",
      "Epoch 43/1000\n",
      "1/1 [==============================] - 0s 40ms/step - loss: 0.6930 - accuracy: 0.7273 - val_loss: 1.6739 - val_accuracy: 0.4286\n",
      "Epoch 44/1000\n",
      "1/1 [==============================] - 0s 40ms/step - loss: 0.1670 - accuracy: 0.9740 - val_loss: 1.6561 - val_accuracy: 0.4286\n",
      "Epoch 45/1000\n",
      "1/1 [==============================] - 0s 39ms/step - loss: 0.0604 - accuracy: 1.0000 - val_loss: 1.6513 - val_accuracy: 0.4286\n",
      "Epoch 46/1000\n",
      "1/1 [==============================] - 0s 39ms/step - loss: 0.0259 - accuracy: 1.0000 - val_loss: 1.6438 - val_accuracy: 0.4286\n",
      "Epoch 47/1000\n",
      "1/1 [==============================] - 0s 40ms/step - loss: 0.0165 - accuracy: 1.0000 - val_loss: 1.6376 - val_accuracy: 0.4286\n",
      "Epoch 48/1000\n",
      "1/1 [==============================] - 0s 41ms/step - loss: 0.0114 - accuracy: 1.0000 - val_loss: 1.6314 - val_accuracy: 0.4286\n",
      "Epoch 49/1000\n",
      "1/1 [==============================] - 0s 39ms/step - loss: 0.0084 - accuracy: 1.0000 - val_loss: 1.6248 - val_accuracy: 0.4286\n",
      "Epoch 50/1000\n",
      "1/1 [==============================] - 0s 39ms/step - loss: 0.0066 - accuracy: 1.0000 - val_loss: 1.6187 - val_accuracy: 0.4286\n",
      "Epoch 51/1000\n",
      "1/1 [==============================] - 0s 38ms/step - loss: 0.0050 - accuracy: 1.0000 - val_loss: 1.6127 - val_accuracy: 0.4286\n",
      "Epoch 52/1000\n",
      "1/1 [==============================] - 0s 41ms/step - loss: 0.0038 - accuracy: 1.0000 - val_loss: 1.6070 - val_accuracy: 0.4286\n",
      "Epoch 53/1000\n",
      "1/1 [==============================] - 0s 40ms/step - loss: 0.0029 - accuracy: 1.0000 - val_loss: 1.6014 - val_accuracy: 0.4286\n",
      "Epoch 54/1000\n",
      "1/1 [==============================] - 0s 38ms/step - loss: 0.0024 - accuracy: 1.0000 - val_loss: 1.5968 - val_accuracy: 0.4286\n",
      "Epoch 55/1000\n",
      "1/1 [==============================] - 0s 40ms/step - loss: 0.0019 - accuracy: 1.0000 - val_loss: 1.5910 - val_accuracy: 0.4286\n",
      "Epoch 56/1000\n",
      "1/1 [==============================] - 0s 39ms/step - loss: 0.0015 - accuracy: 1.0000 - val_loss: 1.5800 - val_accuracy: 0.4286\n",
      "Epoch 57/1000\n",
      "1/1 [==============================] - 0s 40ms/step - loss: 0.0011 - accuracy: 1.0000 - val_loss: 1.5700 - val_accuracy: 0.4286\n",
      "Epoch 58/1000\n",
      "1/1 [==============================] - 0s 40ms/step - loss: 8.8202e-04 - accuracy: 1.0000 - val_loss: 1.5595 - val_accuracy: 0.4286\n"
     ]
    },
    {
     "name": "stdout",
     "output_type": "stream",
     "text": [
      "Epoch 59/1000\n",
      "1/1 [==============================] - 0s 38ms/step - loss: 6.7135e-04 - accuracy: 1.0000 - val_loss: 1.5523 - val_accuracy: 0.4286\n",
      "Epoch 60/1000\n",
      "1/1 [==============================] - 0s 39ms/step - loss: 5.6028e-04 - accuracy: 1.0000 - val_loss: 1.5491 - val_accuracy: 0.4286\n",
      "Epoch 61/1000\n",
      "1/1 [==============================] - 0s 39ms/step - loss: 4.6556e-04 - accuracy: 1.0000 - val_loss: 1.5421 - val_accuracy: 0.4286\n",
      "Epoch 62/1000\n",
      "1/1 [==============================] - 0s 41ms/step - loss: 4.0353e-04 - accuracy: 1.0000 - val_loss: 1.5446 - val_accuracy: 0.4545\n",
      "Epoch 63/1000\n",
      "1/1 [==============================] - 0s 40ms/step - loss: 3.5181e-04 - accuracy: 1.0000 - val_loss: 1.5377 - val_accuracy: 0.4286\n",
      "Epoch 64/1000\n",
      "1/1 [==============================] - 0s 39ms/step - loss: 2.7804e-04 - accuracy: 1.0000 - val_loss: 1.5350 - val_accuracy: 0.4935\n",
      "Epoch 65/1000\n",
      "1/1 [==============================] - 0s 40ms/step - loss: 2.6201e-04 - accuracy: 1.0000 - val_loss: 1.5249 - val_accuracy: 0.4286\n",
      "Epoch 66/1000\n",
      "1/1 [==============================] - 0s 40ms/step - loss: 2.5656e-04 - accuracy: 1.0000 - val_loss: 1.5558 - val_accuracy: 0.4935\n",
      "Epoch 67/1000\n",
      "1/1 [==============================] - 0s 40ms/step - loss: 2.4717e-04 - accuracy: 1.0000 - val_loss: 1.5124 - val_accuracy: 0.4286\n",
      "Epoch 68/1000\n",
      "1/1 [==============================] - 0s 52ms/step - loss: 2.5016e-04 - accuracy: 1.0000 - val_loss: 1.5484 - val_accuracy: 0.6234\n",
      "Epoch 69/1000\n",
      "1/1 [==============================] - 0s 41ms/step - loss: 2.3213e-04 - accuracy: 1.0000 - val_loss: 1.5080 - val_accuracy: 0.4286\n",
      "Epoch 70/1000\n",
      "1/1 [==============================] - 0s 38ms/step - loss: 1.9795e-04 - accuracy: 1.0000 - val_loss: 1.5395 - val_accuracy: 0.5195\n",
      "Epoch 71/1000\n",
      "1/1 [==============================] - 0s 39ms/step - loss: 1.4591e-04 - accuracy: 1.0000 - val_loss: 1.5338 - val_accuracy: 0.5065\n",
      "Epoch 72/1000\n",
      "1/1 [==============================] - 0s 39ms/step - loss: 1.3020e-04 - accuracy: 1.0000 - val_loss: 1.5289 - val_accuracy: 0.5065\n",
      "Epoch 73/1000\n",
      "1/1 [==============================] - 0s 42ms/step - loss: 1.2545e-04 - accuracy: 1.0000 - val_loss: 1.5217 - val_accuracy: 0.4545\n",
      "Epoch 74/1000\n",
      "1/1 [==============================] - 0s 40ms/step - loss: 1.0896e-04 - accuracy: 1.0000 - val_loss: 1.5190 - val_accuracy: 0.4805\n",
      "Epoch 75/1000\n",
      "1/1 [==============================] - 0s 40ms/step - loss: 1.0703e-04 - accuracy: 1.0000 - val_loss: 1.5166 - val_accuracy: 0.4805\n",
      "Epoch 76/1000\n",
      "1/1 [==============================] - 0s 39ms/step - loss: 1.0617e-04 - accuracy: 1.0000 - val_loss: 1.5275 - val_accuracy: 0.5065\n",
      "Epoch 77/1000\n",
      "1/1 [==============================] - 0s 40ms/step - loss: 1.1240e-04 - accuracy: 1.0000 - val_loss: 1.5196 - val_accuracy: 0.4286\n",
      "Epoch 78/1000\n",
      "1/1 [==============================] - 0s 40ms/step - loss: 1.0206e-04 - accuracy: 1.0000 - val_loss: 1.5428 - val_accuracy: 0.4156\n",
      "Epoch 79/1000\n",
      "1/1 [==============================] - 0s 39ms/step - loss: 9.4253e-05 - accuracy: 1.0000 - val_loss: 1.4993 - val_accuracy: 0.4286\n",
      "Epoch 80/1000\n",
      "1/1 [==============================] - 0s 39ms/step - loss: 9.9767e-05 - accuracy: 1.0000 - val_loss: 1.5450 - val_accuracy: 0.4545\n",
      "Epoch 81/1000\n",
      "1/1 [==============================] - 0s 40ms/step - loss: 8.2567e-05 - accuracy: 1.0000 - val_loss: 1.5122 - val_accuracy: 0.4286\n",
      "Epoch 82/1000\n",
      "1/1 [==============================] - 0s 41ms/step - loss: 7.2122e-05 - accuracy: 1.0000 - val_loss: 1.5305 - val_accuracy: 0.5455\n",
      "Epoch 83/1000\n",
      "1/1 [==============================] - 0s 39ms/step - loss: 7.3433e-05 - accuracy: 1.0000 - val_loss: 1.5244 - val_accuracy: 0.5195\n",
      "Epoch 84/1000\n",
      "1/1 [==============================] - 0s 40ms/step - loss: 5.7870e-05 - accuracy: 1.0000 - val_loss: 1.5190 - val_accuracy: 0.5065\n",
      "Epoch 85/1000\n",
      "1/1 [==============================] - 0s 39ms/step - loss: 5.8647e-05 - accuracy: 1.0000 - val_loss: 1.5167 - val_accuracy: 0.5325\n",
      "Epoch 86/1000\n",
      "1/1 [==============================] - 0s 39ms/step - loss: 6.1423e-05 - accuracy: 1.0000 - val_loss: 1.5323 - val_accuracy: 0.5325\n",
      "Epoch 87/1000\n",
      "1/1 [==============================] - 0s 41ms/step - loss: 5.6203e-05 - accuracy: 1.0000 - val_loss: 1.5057 - val_accuracy: 0.4545\n",
      "Epoch 88/1000\n",
      "1/1 [==============================] - 0s 40ms/step - loss: 5.7221e-05 - accuracy: 1.0000 - val_loss: 1.5394 - val_accuracy: 0.4545\n",
      "Epoch 89/1000\n",
      "1/1 [==============================] - 0s 41ms/step - loss: 5.1459e-05 - accuracy: 1.0000 - val_loss: 1.5053 - val_accuracy: 0.4935\n",
      "Epoch 90/1000\n",
      "1/1 [==============================] - 0s 40ms/step - loss: 5.4622e-05 - accuracy: 1.0000 - val_loss: 1.5315 - val_accuracy: 0.4675\n",
      "Epoch 91/1000\n",
      "1/1 [==============================] - 0s 42ms/step - loss: 5.0708e-05 - accuracy: 1.0000 - val_loss: 1.5049 - val_accuracy: 0.5195\n",
      "Epoch 92/1000\n",
      "1/1 [==============================] - 0s 41ms/step - loss: 4.3386e-05 - accuracy: 1.0000 - val_loss: 1.5391 - val_accuracy: 0.4026\n",
      "Epoch 93/1000\n",
      "1/1 [==============================] - 0s 42ms/step - loss: 4.2448e-05 - accuracy: 1.0000 - val_loss: 1.5152 - val_accuracy: 0.5455\n",
      "Epoch 94/1000\n",
      "1/1 [==============================] - 0s 40ms/step - loss: 4.0846e-05 - accuracy: 1.0000 - val_loss: 1.5216 - val_accuracy: 0.5455\n",
      "Epoch 95/1000\n",
      "1/1 [==============================] - 0s 41ms/step - loss: 3.7109e-05 - accuracy: 1.0000 - val_loss: 1.5154 - val_accuracy: 0.5455\n",
      "Epoch 96/1000\n",
      "1/1 [==============================] - 0s 38ms/step - loss: 3.2934e-05 - accuracy: 1.0000 - val_loss: 1.5269 - val_accuracy: 0.5455\n",
      "Epoch 97/1000\n",
      "1/1 [==============================] - 0s 40ms/step - loss: 2.7635e-05 - accuracy: 1.0000 - val_loss: 1.5070 - val_accuracy: 0.5065\n",
      "Epoch 98/1000\n",
      "1/1 [==============================] - 0s 41ms/step - loss: 2.7919e-05 - accuracy: 1.0000 - val_loss: 1.5251 - val_accuracy: 0.5195\n",
      "Epoch 99/1000\n",
      "1/1 [==============================] - 0s 39ms/step - loss: 3.1138e-05 - accuracy: 1.0000 - val_loss: 1.5263 - val_accuracy: 0.5584\n",
      "Epoch 100/1000\n",
      "1/1 [==============================] - 0s 40ms/step - loss: 2.3273e-05 - accuracy: 1.0000 - val_loss: 1.5202 - val_accuracy: 0.4935\n",
      "Epoch 101/1000\n",
      "1/1 [==============================] - 0s 40ms/step - loss: 2.5440e-05 - accuracy: 1.0000 - val_loss: 1.5088 - val_accuracy: 0.5455\n",
      "Epoch 102/1000\n",
      "1/1 [==============================] - 0s 40ms/step - loss: 2.5005e-05 - accuracy: 1.0000 - val_loss: 1.5250 - val_accuracy: 0.5195\n",
      "Epoch 103/1000\n",
      "1/1 [==============================] - 0s 41ms/step - loss: 2.2934e-05 - accuracy: 1.0000 - val_loss: 1.5088 - val_accuracy: 0.5065\n",
      "Epoch 104/1000\n",
      "1/1 [==============================] - 0s 41ms/step - loss: 2.4840e-05 - accuracy: 1.0000 - val_loss: 1.5403 - val_accuracy: 0.5065\n",
      "Epoch 105/1000\n",
      "1/1 [==============================] - 0s 39ms/step - loss: 1.9788e-05 - accuracy: 1.0000 - val_loss: 1.5340 - val_accuracy: 0.4805\n",
      "Epoch 106/1000\n",
      "1/1 [==============================] - 0s 39ms/step - loss: 1.8879e-05 - accuracy: 1.0000 - val_loss: 1.5105 - val_accuracy: 0.5844\n",
      "Epoch 107/1000\n",
      "1/1 [==============================] - 0s 39ms/step - loss: 1.6937e-05 - accuracy: 1.0000 - val_loss: 1.5148 - val_accuracy: 0.4935\n",
      "Epoch 108/1000\n",
      "1/1 [==============================] - 0s 40ms/step - loss: 1.3879e-05 - accuracy: 1.0000 - val_loss: 1.5161 - val_accuracy: 0.5584\n",
      "Epoch 109/1000\n",
      "1/1 [==============================] - 0s 40ms/step - loss: 1.5297e-05 - accuracy: 1.0000 - val_loss: 1.5188 - val_accuracy: 0.5714\n",
      "Epoch 110/1000\n",
      "1/1 [==============================] - 0s 40ms/step - loss: 1.1376e-05 - accuracy: 1.0000 - val_loss: 1.5178 - val_accuracy: 0.5065\n",
      "Epoch 111/1000\n",
      "1/1 [==============================] - 0s 38ms/step - loss: 1.5449e-05 - accuracy: 1.0000 - val_loss: 1.5367 - val_accuracy: 0.5584\n",
      "Epoch 112/1000\n",
      "1/1 [==============================] - 0s 39ms/step - loss: 1.4794e-05 - accuracy: 1.0000 - val_loss: 1.4907 - val_accuracy: 0.5065\n",
      "Epoch 113/1000\n",
      "1/1 [==============================] - 0s 39ms/step - loss: 1.5956e-05 - accuracy: 1.0000 - val_loss: 1.6208 - val_accuracy: 0.2078\n",
      "Epoch 114/1000\n",
      "1/1 [==============================] - 0s 39ms/step - loss: 2.4079e-05 - accuracy: 1.0000 - val_loss: 1.4606 - val_accuracy: 0.4286\n",
      "Epoch 115/1000\n"
     ]
    },
    {
     "name": "stdout",
     "output_type": "stream",
     "text": [
      "1/1 [==============================] - 0s 38ms/step - loss: 6.2499e-05 - accuracy: 1.0000 - val_loss: 1.9532 - val_accuracy: 0.1299\n",
      "Epoch 116/1000\n",
      "1/1 [==============================] - 0s 39ms/step - loss: 0.0016 - accuracy: 1.0000 - val_loss: 4.1709 - val_accuracy: 0.4286\n",
      "Epoch 117/1000\n",
      "1/1 [==============================] - 0s 40ms/step - loss: 13.4253 - accuracy: 0.4286 - val_loss: 1.9627 - val_accuracy: 0.1688\n",
      "Epoch 118/1000\n",
      "1/1 [==============================] - 0s 48ms/step - loss: 9.1068 - accuracy: 0.2468 - val_loss: 3.5194 - val_accuracy: 0.1039\n",
      "1/1 [==============================] - 0s 17ms/step - loss: 1.5484 - accuracy: 0.6234\n",
      "np.shape(X_test)= (181, 480, 1)\n",
      "Accuracy=  0.6233766078948975\n"
     ]
    }
   ],
   "source": [
    "#VGG16_1D\n",
    "\n",
    "accuracy=0\n",
    "acc_crs=np.array([])\n",
    "##for i in range (10):\n",
    "##    if accuracy<0.2 :\n",
    "\n",
    "verbose, epochs, batch_size = 1, 1000, 80\n",
    "n_timesteps, n_features, n_outputs = X_train.shape[1], X_train.shape[2], y_train_cat.shape[1]\n",
    "steps_per_epoch = len(X_train)//batch_size\n",
    "validation_steps = len(X_valid)//batch_size # if you have test data\n",
    "\n",
    "\n",
    "\n",
    "model_crs = Sequential()\n",
    "#model_crs.add(Conv1D(input_shape=x_train.shape[1:],filters=64,kernel_size=9,padding=\"same\", activation=\"relu\"))\n",
    "model_crs.add(Conv1D(filters=128, kernel_size=12, strides=1, activation='relu', input_shape=(n_timesteps,n_features))) #Replaced\n",
    "model_crs.add(BatchNormalization())\n",
    "model_crs.add(MaxPooling1D(pool_size=2,strides=3))\n",
    "\n",
    "model_crs.add(Conv1D(filters=32, kernel_size=7, strides=1, padding=\"same\", activation=\"relu\"))\n",
    "model_crs.add(BatchNormalization())\n",
    "model_crs.add(MaxPooling1D(pool_size=2,strides=2))\n",
    "\n",
    "model_crs.add(Conv1D(filters=32, kernel_size=10, strides=1, padding=\"same\", activation=\"relu\"))\n",
    "model_crs.add(Conv1D(filters=128, kernel_size=5, strides=2, padding=\"same\", activation=\"relu\"))\n",
    "model_crs.add(MaxPooling1D(pool_size=2,strides=2))\n",
    "\n",
    "model_crs.add(Conv1D(filters=256, kernel_size=15, strides=1, padding=\"same\", activation=\"relu\"))\n",
    "model_crs.add(MaxPooling1D(pool_size=2,strides=2))\n",
    "\n",
    "model_crs.add(Conv1D(filters=512, kernel_size=5, strides=1, padding=\"same\", activation=\"relu\"))\n",
    "#model_crs.add(Conv1D(filters=128, kernel_size=3, strides=1, padding=\"same\", activation=\"relu\"))\n",
    "\n",
    "\n",
    "model_crs.add(Flatten())\n",
    "model_crs.add(Dropout(0.1))\n",
    "model_crs.add(Dense(units=512,activation=\"relu\"))\n",
    "#model_crs.add(Dense(units=2048,activation=\"relu\"))\n",
    "model_crs.add(Dense(n_outputs, activation='softmax'))   #Replaced here from old Model\n",
    "\n",
    "model_crs.compile(optimizer='rmsprop', loss='categorical_crossentropy', metrics=['accuracy'])\n",
    "# fit network   #CategoricalCrossentropy #sparse_categorical_crossentropy #SparseCategoricalCrossentropy\n",
    "\n",
    "earlystopping = callbacks.EarlyStopping(monitor =\"val_accuracy\", mode =\"max\", patience = 50, restore_best_weights = True)\n",
    "\n",
    "model_crs.fit(X_train, y_train_cat, epochs=epochs, batch_size=batch_size, verbose=verbose, validation_data = (X_valid, y_valid_cat), callbacks =[earlystopping])\n",
    "\n",
    "_, accuracy = model_crs.evaluate(X_valid, y_valid_cat, batch_size=batch_size, verbose=1)\n",
    "\n",
    "print('np.shape(X_test)=',np.shape(X_test))\n",
    "\n",
    "print('Accuracy= ', accuracy)\n",
    "\n",
    "#y_pred_vgg = model_crs.predict_classes(X_test)\n"
   ]
  },
  {
   "cell_type": "code",
   "execution_count": 24,
   "metadata": {},
   "outputs": [],
   "source": [
    "def maxindx(ar):\n",
    "    ar_cpy=np.array(ar)\n",
    "    pred=np.argmax(ar,axis=1)\n",
    "    for i in range (len(pred)):\n",
    "        if pred[i]==0:\n",
    "            ar_cpy[i,0]=-1000\n",
    "    pred=np.argmax(ar_cpy,axis=1)\n",
    "    return(pred)"
   ]
  },
  {
   "cell_type": "code",
   "execution_count": 25,
   "metadata": {},
   "outputs": [
    {
     "name": "stdout",
     "output_type": "stream",
     "text": [
      "6/6 [==============================] - 0s 34ms/step\n",
      "array([[43,  0, 19, 14,  0],\n",
      "       [18,  0, 11,  2,  0],\n",
      "       [ 7,  0, 15,  3,  0],\n",
      "       [13,  0, 11,  8,  0],\n",
      "       [ 5,  0, 10,  2,  0]], dtype=int64)\n",
      "              precision    recall  f1-score   support\n",
      "\n",
      "           1       0.50      0.57      0.53        76\n",
      "           2       0.00      0.00      0.00        31\n",
      "           3       0.23      0.60      0.33        25\n",
      "           4       0.28      0.25      0.26        32\n",
      "           5       0.00      0.00      0.00        17\n",
      "\n",
      "    accuracy                           0.36       181\n",
      "   macro avg       0.20      0.28      0.22       181\n",
      "weighted avg       0.29      0.36      0.31       181\n",
      "\n"
     ]
    },
    {
     "name": "stderr",
     "output_type": "stream",
     "text": [
      "C:\\ProgramData\\Anaconda3\\lib\\site-packages\\sklearn\\metrics\\_classification.py:1248: UndefinedMetricWarning: Precision and F-score are ill-defined and being set to 0.0 in labels with no predicted samples. Use `zero_division` parameter to control this behavior.\n",
      "  _warn_prf(average, modifier, msg_start, len(result))\n",
      "C:\\ProgramData\\Anaconda3\\lib\\site-packages\\sklearn\\metrics\\_classification.py:1248: UndefinedMetricWarning: Precision and F-score are ill-defined and being set to 0.0 in labels with no predicted samples. Use `zero_division` parameter to control this behavior.\n",
      "  _warn_prf(average, modifier, msg_start, len(result))\n",
      "C:\\ProgramData\\Anaconda3\\lib\\site-packages\\sklearn\\metrics\\_classification.py:1248: UndefinedMetricWarning: Precision and F-score are ill-defined and being set to 0.0 in labels with no predicted samples. Use `zero_division` parameter to control this behavior.\n",
      "  _warn_prf(average, modifier, msg_start, len(result))\n"
     ]
    }
   ],
   "source": [
    "predict_x=model_crs.predict(X_test)              # Function 1\n",
    "\n",
    "y_pred_crs=maxindx(predict_x)                    # function from augment.py to remove 0 index predictions\n",
    "\n",
    "#y_pred_crs = model_crs.predict_classes(X_test)\n",
    "\n",
    "cm = confusion_matrix(y_test, y_pred_crs)\n",
    "fullprint(cm)\n",
    "acc3=accuracy_score(y_test, y_pred_crs)\n",
    "\n",
    "print(classification_report(y_test, y_pred_crs))\n",
    "\n",
    "#sns.heatmap(cm, annot=True)\n",
    "\n",
    "#plt.imshow(cm)"
   ]
  },
  {
   "cell_type": "code",
   "execution_count": 26,
   "metadata": {},
   "outputs": [
    {
     "name": "stdout",
     "output_type": "stream",
     "text": [
      "Epoch 1/1000\n",
      "1/1 [==============================] - 2s 2s/step - loss: 1.7807 - accuracy: 0.1818 - val_loss: 8.7909 - val_accuracy: 0.4286\n",
      "Epoch 2/1000\n",
      "1/1 [==============================] - 0s 50ms/step - loss: 221.5863 - accuracy: 0.4286 - val_loss: 1.7925 - val_accuracy: 0.1688\n",
      "Epoch 3/1000\n",
      "1/1 [==============================] - 0s 47ms/step - loss: 2.1895 - accuracy: 0.1688 - val_loss: 1.7876 - val_accuracy: 0.1688\n",
      "Epoch 4/1000\n",
      "1/1 [==============================] - 0s 48ms/step - loss: 1.8500 - accuracy: 0.1688 - val_loss: 1.7786 - val_accuracy: 0.4286\n",
      "Epoch 5/1000\n",
      "1/1 [==============================] - 0s 49ms/step - loss: 1.6318 - accuracy: 0.2208 - val_loss: 1.7470 - val_accuracy: 0.4286\n",
      "Epoch 6/1000\n",
      "1/1 [==============================] - 0s 48ms/step - loss: 1.4891 - accuracy: 0.4286 - val_loss: 1.7705 - val_accuracy: 0.4286\n",
      "Epoch 7/1000\n",
      "1/1 [==============================] - 0s 50ms/step - loss: 1.5363 - accuracy: 0.2727 - val_loss: 1.7441 - val_accuracy: 0.4286\n",
      "Epoch 8/1000\n",
      "1/1 [==============================] - 0s 48ms/step - loss: 1.4222 - accuracy: 0.4286 - val_loss: 1.7587 - val_accuracy: 0.4286\n",
      "Epoch 9/1000\n",
      "1/1 [==============================] - 0s 49ms/step - loss: 1.4114 - accuracy: 0.4286 - val_loss: 1.7355 - val_accuracy: 0.4286\n",
      "Epoch 10/1000\n",
      "1/1 [==============================] - 0s 66ms/step - loss: 1.3216 - accuracy: 0.4286 - val_loss: 1.7493 - val_accuracy: 0.5325\n",
      "Epoch 11/1000\n",
      "1/1 [==============================] - 0s 48ms/step - loss: 1.5032 - accuracy: 0.1688 - val_loss: 1.7143 - val_accuracy: 0.4286\n",
      "Epoch 12/1000\n",
      "1/1 [==============================] - 0s 50ms/step - loss: 1.7408 - accuracy: 0.4286 - val_loss: 1.7653 - val_accuracy: 0.1688\n",
      "Epoch 13/1000\n",
      "1/1 [==============================] - 0s 48ms/step - loss: 1.4968 - accuracy: 0.4935 - val_loss: 1.7480 - val_accuracy: 0.4286\n",
      "Epoch 14/1000\n",
      "1/1 [==============================] - 0s 47ms/step - loss: 1.3191 - accuracy: 0.4286 - val_loss: 1.7326 - val_accuracy: 0.4286\n",
      "Epoch 15/1000\n",
      "1/1 [==============================] - 0s 49ms/step - loss: 1.2175 - accuracy: 0.4286 - val_loss: 1.7284 - val_accuracy: 0.4286\n",
      "Epoch 16/1000\n",
      "1/1 [==============================] - 0s 48ms/step - loss: 1.1126 - accuracy: 0.5065 - val_loss: 1.7111 - val_accuracy: 0.4286\n",
      "Epoch 17/1000\n",
      "1/1 [==============================] - 0s 48ms/step - loss: 0.9671 - accuracy: 0.5455 - val_loss: 1.7145 - val_accuracy: 0.2338\n",
      "Epoch 18/1000\n",
      "1/1 [==============================] - 0s 52ms/step - loss: 0.9540 - accuracy: 0.6234 - val_loss: 1.6012 - val_accuracy: 0.4286\n",
      "Epoch 19/1000\n",
      "1/1 [==============================] - 0s 49ms/step - loss: 2.6832 - accuracy: 0.4286 - val_loss: 1.7575 - val_accuracy: 0.2857\n",
      "Epoch 20/1000\n",
      "1/1 [==============================] - 0s 54ms/step - loss: 1.4449 - accuracy: 0.4286 - val_loss: 1.7504 - val_accuracy: 0.4026\n",
      "Epoch 21/1000\n",
      "1/1 [==============================] - 0s 48ms/step - loss: 1.3089 - accuracy: 0.7403 - val_loss: 1.7075 - val_accuracy: 0.4935\n",
      "Epoch 22/1000\n",
      "1/1 [==============================] - 0s 48ms/step - loss: 1.0754 - accuracy: 0.6494 - val_loss: 1.6495 - val_accuracy: 0.4286\n",
      "Epoch 23/1000\n",
      "1/1 [==============================] - 0s 49ms/step - loss: 0.9057 - accuracy: 0.5584 - val_loss: 1.6713 - val_accuracy: 0.1688\n",
      "Epoch 24/1000\n",
      "1/1 [==============================] - 0s 47ms/step - loss: 1.1044 - accuracy: 0.6234 - val_loss: 1.6430 - val_accuracy: 0.4286\n",
      "Epoch 25/1000\n",
      "1/1 [==============================] - 0s 50ms/step - loss: 1.3263 - accuracy: 0.5195 - val_loss: 1.6886 - val_accuracy: 0.4805\n",
      "Epoch 26/1000\n",
      "1/1 [==============================] - 0s 50ms/step - loss: 0.8549 - accuracy: 0.8571 - val_loss: 1.6342 - val_accuracy: 0.4675\n",
      "Epoch 27/1000\n",
      "1/1 [==============================] - 0s 49ms/step - loss: 0.6177 - accuracy: 0.7662 - val_loss: 1.6271 - val_accuracy: 0.4286\n",
      "Epoch 28/1000\n",
      "1/1 [==============================] - 0s 48ms/step - loss: 0.7769 - accuracy: 0.6753 - val_loss: 1.5757 - val_accuracy: 0.3636\n",
      "Epoch 29/1000\n",
      "1/1 [==============================] - 0s 48ms/step - loss: 1.7684 - accuracy: 0.5714 - val_loss: 1.6981 - val_accuracy: 0.4286\n",
      "Epoch 30/1000\n",
      "1/1 [==============================] - 0s 48ms/step - loss: 0.8910 - accuracy: 0.8961 - val_loss: 1.6380 - val_accuracy: 0.4545\n",
      "Epoch 31/1000\n",
      "1/1 [==============================] - 0s 49ms/step - loss: 0.5339 - accuracy: 0.8831 - val_loss: 1.6085 - val_accuracy: 0.5065\n",
      "Epoch 32/1000\n",
      "1/1 [==============================] - 0s 48ms/step - loss: 0.3427 - accuracy: 0.9351 - val_loss: 1.5949 - val_accuracy: 0.1688\n",
      "Epoch 33/1000\n",
      "1/1 [==============================] - 0s 50ms/step - loss: 0.2112 - accuracy: 1.0000 - val_loss: 1.5443 - val_accuracy: 0.4286\n",
      "Epoch 34/1000\n",
      "1/1 [==============================] - 0s 49ms/step - loss: 0.4008 - accuracy: 0.8312 - val_loss: 1.9551 - val_accuracy: 0.1688\n",
      "Epoch 35/1000\n",
      "1/1 [==============================] - 0s 49ms/step - loss: 3.3556 - accuracy: 0.4026 - val_loss: 1.6856 - val_accuracy: 0.1688\n",
      "Epoch 36/1000\n",
      "1/1 [==============================] - 0s 50ms/step - loss: 2.8860 - accuracy: 0.2727 - val_loss: 1.6392 - val_accuracy: 0.4286\n",
      "Epoch 37/1000\n",
      "1/1 [==============================] - 0s 48ms/step - loss: 2.0518 - accuracy: 0.4286 - val_loss: 1.7308 - val_accuracy: 0.2727\n",
      "Epoch 38/1000\n",
      "1/1 [==============================] - 0s 49ms/step - loss: 1.3644 - accuracy: 0.6104 - val_loss: 1.6973 - val_accuracy: 0.4286\n",
      "Epoch 39/1000\n",
      "1/1 [==============================] - 0s 48ms/step - loss: 1.0281 - accuracy: 0.7662 - val_loss: 1.6297 - val_accuracy: 0.4286\n",
      "Epoch 40/1000\n",
      "1/1 [==============================] - 0s 51ms/step - loss: 0.6209 - accuracy: 0.7922 - val_loss: 1.5533 - val_accuracy: 0.4286\n",
      "Epoch 41/1000\n",
      "1/1 [==============================] - 0s 50ms/step - loss: 0.3538 - accuracy: 0.9091 - val_loss: 1.6083 - val_accuracy: 0.4675\n",
      "Epoch 42/1000\n",
      "1/1 [==============================] - 0s 54ms/step - loss: 0.4186 - accuracy: 0.8571 - val_loss: 1.5436 - val_accuracy: 0.4935\n",
      "Epoch 43/1000\n",
      "1/1 [==============================] - 0s 52ms/step - loss: 0.3714 - accuracy: 0.8701 - val_loss: 1.6482 - val_accuracy: 0.2987\n",
      "Epoch 44/1000\n",
      "1/1 [==============================] - 0s 52ms/step - loss: 0.4919 - accuracy: 0.8052 - val_loss: 1.5718 - val_accuracy: 0.4286\n",
      "Epoch 45/1000\n",
      "1/1 [==============================] - 0s 74ms/step - loss: 0.3054 - accuracy: 0.8442 - val_loss: 1.5796 - val_accuracy: 0.5455\n",
      "Epoch 46/1000\n",
      "1/1 [==============================] - 0s 53ms/step - loss: 0.1324 - accuracy: 0.9870 - val_loss: 1.5238 - val_accuracy: 0.4286\n",
      "Epoch 47/1000\n",
      "1/1 [==============================] - 0s 53ms/step - loss: 0.0697 - accuracy: 0.9870 - val_loss: 1.5434 - val_accuracy: 0.2338\n",
      "Epoch 48/1000\n",
      "1/1 [==============================] - 0s 51ms/step - loss: 0.0398 - accuracy: 1.0000 - val_loss: 1.5114 - val_accuracy: 0.5195\n",
      "Epoch 49/1000\n",
      "1/1 [==============================] - 0s 52ms/step - loss: 0.0176 - accuracy: 1.0000 - val_loss: 1.5028 - val_accuracy: 0.5455\n",
      "Epoch 50/1000\n",
      "1/1 [==============================] - 0s 51ms/step - loss: 0.0109 - accuracy: 1.0000 - val_loss: 1.4959 - val_accuracy: 0.5455\n",
      "Epoch 51/1000\n",
      "1/1 [==============================] - 0s 51ms/step - loss: 0.0081 - accuracy: 1.0000 - val_loss: 1.4901 - val_accuracy: 0.5325\n",
      "Epoch 52/1000\n",
      "1/1 [==============================] - 0s 50ms/step - loss: 0.0057 - accuracy: 1.0000 - val_loss: 1.4886 - val_accuracy: 0.4286\n",
      "Epoch 53/1000\n",
      "1/1 [==============================] - 0s 51ms/step - loss: 0.0045 - accuracy: 1.0000 - val_loss: 1.4845 - val_accuracy: 0.3766\n",
      "Epoch 54/1000\n",
      "1/1 [==============================] - 0s 49ms/step - loss: 0.0032 - accuracy: 1.0000 - val_loss: 1.4844 - val_accuracy: 0.2987\n",
      "Epoch 55/1000\n",
      "1/1 [==============================] - 0s 48ms/step - loss: 0.0027 - accuracy: 1.0000 - val_loss: 1.4810 - val_accuracy: 0.2987\n",
      "Epoch 56/1000\n",
      "1/1 [==============================] - 0s 49ms/step - loss: 0.0020 - accuracy: 1.0000 - val_loss: 1.4799 - val_accuracy: 0.2597\n",
      "Epoch 57/1000\n",
      "1/1 [==============================] - 0s 49ms/step - loss: 0.0016 - accuracy: 1.0000 - val_loss: 1.4780 - val_accuracy: 0.2338\n",
      "Epoch 58/1000\n",
      "1/1 [==============================] - 0s 50ms/step - loss: 0.0014 - accuracy: 1.0000 - val_loss: 1.4766 - val_accuracy: 0.2338\n"
     ]
    },
    {
     "name": "stdout",
     "output_type": "stream",
     "text": [
      "Epoch 59/1000\n",
      "1/1 [==============================] - 0s 49ms/step - loss: 0.0011 - accuracy: 1.0000 - val_loss: 1.4781 - val_accuracy: 0.2208\n",
      "Epoch 60/1000\n",
      "1/1 [==============================] - 0s 48ms/step - loss: 9.6147e-04 - accuracy: 1.0000 - val_loss: 1.4715 - val_accuracy: 0.2338\n",
      "Epoch 61/1000\n",
      "1/1 [==============================] - 0s 49ms/step - loss: 8.2409e-04 - accuracy: 1.0000 - val_loss: 1.4806 - val_accuracy: 0.1948\n",
      "Epoch 62/1000\n",
      "1/1 [==============================] - 0s 48ms/step - loss: 7.2082e-04 - accuracy: 1.0000 - val_loss: 1.4674 - val_accuracy: 0.2338\n",
      "Epoch 63/1000\n",
      "1/1 [==============================] - 0s 48ms/step - loss: 6.2117e-04 - accuracy: 1.0000 - val_loss: 1.5005 - val_accuracy: 0.1688\n",
      "Epoch 64/1000\n",
      "1/1 [==============================] - 0s 48ms/step - loss: 6.2345e-04 - accuracy: 1.0000 - val_loss: 1.4481 - val_accuracy: 0.3766\n",
      "Epoch 65/1000\n",
      "1/1 [==============================] - 0s 49ms/step - loss: 6.5006e-04 - accuracy: 1.0000 - val_loss: 1.5131 - val_accuracy: 0.1818\n",
      "Epoch 66/1000\n",
      "1/1 [==============================] - 0s 49ms/step - loss: 5.9746e-04 - accuracy: 1.0000 - val_loss: 1.4535 - val_accuracy: 0.2987\n",
      "Epoch 67/1000\n",
      "1/1 [==============================] - 0s 48ms/step - loss: 4.7156e-04 - accuracy: 1.0000 - val_loss: 1.4922 - val_accuracy: 0.1688\n",
      "Epoch 68/1000\n",
      "1/1 [==============================] - 0s 48ms/step - loss: 3.6559e-04 - accuracy: 1.0000 - val_loss: 1.4794 - val_accuracy: 0.1688\n",
      "Epoch 69/1000\n",
      "1/1 [==============================] - 0s 47ms/step - loss: 3.1537e-04 - accuracy: 1.0000 - val_loss: 1.4865 - val_accuracy: 0.1688\n",
      "Epoch 70/1000\n",
      "1/1 [==============================] - 0s 48ms/step - loss: 2.9579e-04 - accuracy: 1.0000 - val_loss: 1.4934 - val_accuracy: 0.1688\n",
      "Epoch 71/1000\n",
      "1/1 [==============================] - 0s 48ms/step - loss: 2.4237e-04 - accuracy: 1.0000 - val_loss: 1.4870 - val_accuracy: 0.1688\n",
      "Epoch 72/1000\n",
      "1/1 [==============================] - 0s 49ms/step - loss: 2.2498e-04 - accuracy: 1.0000 - val_loss: 1.4865 - val_accuracy: 0.1688\n",
      "Epoch 73/1000\n",
      "1/1 [==============================] - 0s 50ms/step - loss: 2.1959e-04 - accuracy: 1.0000 - val_loss: 1.4876 - val_accuracy: 0.1688\n",
      "Epoch 74/1000\n",
      "1/1 [==============================] - 0s 49ms/step - loss: 2.0129e-04 - accuracy: 1.0000 - val_loss: 1.4869 - val_accuracy: 0.1688\n",
      "Epoch 75/1000\n",
      "1/1 [==============================] - 0s 48ms/step - loss: 1.8620e-04 - accuracy: 1.0000 - val_loss: 1.4918 - val_accuracy: 0.1688\n",
      "Epoch 76/1000\n",
      "1/1 [==============================] - 0s 49ms/step - loss: 1.7072e-04 - accuracy: 1.0000 - val_loss: 1.4905 - val_accuracy: 0.1688\n",
      "Epoch 77/1000\n",
      "1/1 [==============================] - 0s 48ms/step - loss: 1.4428e-04 - accuracy: 1.0000 - val_loss: 1.4949 - val_accuracy: 0.1688\n",
      "Epoch 78/1000\n",
      "1/1 [==============================] - 0s 49ms/step - loss: 1.3357e-04 - accuracy: 1.0000 - val_loss: 1.4928 - val_accuracy: 0.1688\n",
      "Epoch 79/1000\n",
      "1/1 [==============================] - 0s 49ms/step - loss: 1.3205e-04 - accuracy: 1.0000 - val_loss: 1.4971 - val_accuracy: 0.1688\n",
      "Epoch 80/1000\n",
      "1/1 [==============================] - 0s 47ms/step - loss: 1.1169e-04 - accuracy: 1.0000 - val_loss: 1.4996 - val_accuracy: 0.1688\n",
      "Epoch 81/1000\n",
      "1/1 [==============================] - 0s 52ms/step - loss: 1.0319e-04 - accuracy: 1.0000 - val_loss: 1.4980 - val_accuracy: 0.1688\n",
      "Epoch 82/1000\n",
      "1/1 [==============================] - 0s 51ms/step - loss: 9.7069e-05 - accuracy: 1.0000 - val_loss: 1.5024 - val_accuracy: 0.1688\n",
      "Epoch 83/1000\n",
      "1/1 [==============================] - 0s 51ms/step - loss: 9.6098e-05 - accuracy: 1.0000 - val_loss: 1.5097 - val_accuracy: 0.1688\n",
      "Epoch 84/1000\n",
      "1/1 [==============================] - 0s 51ms/step - loss: 9.4884e-05 - accuracy: 1.0000 - val_loss: 1.5005 - val_accuracy: 0.1688\n",
      "Epoch 85/1000\n",
      "1/1 [==============================] - 0s 53ms/step - loss: 8.5113e-05 - accuracy: 1.0000 - val_loss: 1.4964 - val_accuracy: 0.1688\n",
      "Epoch 86/1000\n",
      "1/1 [==============================] - 0s 52ms/step - loss: 7.8061e-05 - accuracy: 1.0000 - val_loss: 1.5084 - val_accuracy: 0.1688\n",
      "Epoch 87/1000\n",
      "1/1 [==============================] - 0s 53ms/step - loss: 7.1710e-05 - accuracy: 1.0000 - val_loss: 1.5000 - val_accuracy: 0.1688\n",
      "Epoch 88/1000\n",
      "1/1 [==============================] - 0s 49ms/step - loss: 6.7633e-05 - accuracy: 1.0000 - val_loss: 1.5191 - val_accuracy: 0.1688\n",
      "Epoch 89/1000\n",
      "1/1 [==============================] - 0s 51ms/step - loss: 6.2812e-05 - accuracy: 1.0000 - val_loss: 1.5130 - val_accuracy: 0.1688\n",
      "Epoch 90/1000\n",
      "1/1 [==============================] - 0s 50ms/step - loss: 5.3650e-05 - accuracy: 1.0000 - val_loss: 1.5210 - val_accuracy: 0.1688\n",
      "Epoch 91/1000\n",
      "1/1 [==============================] - 0s 51ms/step - loss: 5.6468e-05 - accuracy: 1.0000 - val_loss: 1.5124 - val_accuracy: 0.1688\n",
      "Epoch 92/1000\n",
      "1/1 [==============================] - 0s 51ms/step - loss: 4.7299e-05 - accuracy: 1.0000 - val_loss: 1.5146 - val_accuracy: 0.1688\n",
      "Epoch 93/1000\n",
      "1/1 [==============================] - 0s 51ms/step - loss: 4.8556e-05 - accuracy: 1.0000 - val_loss: 1.5251 - val_accuracy: 0.1688\n",
      "Epoch 94/1000\n",
      "1/1 [==============================] - 0s 50ms/step - loss: 4.7163e-05 - accuracy: 1.0000 - val_loss: 1.5372 - val_accuracy: 0.1688\n",
      "Epoch 95/1000\n",
      "1/1 [==============================] - 0s 60ms/step - loss: 3.9234e-05 - accuracy: 1.0000 - val_loss: 1.5178 - val_accuracy: 0.1688\n",
      "1/1 [==============================] - 0s 21ms/step - loss: 1.5796 - accuracy: 0.5455\n",
      "np.shape(X_test)= (181, 480, 1)\n",
      "Accuracy=  0.5454545617103577\n"
     ]
    }
   ],
   "source": [
    "#VGG16_1D\n",
    "\n",
    "accuracy=0\n",
    "acc_crs=np.array([])\n",
    "##for i in range (10):\n",
    "##    if accuracy<0.2 :\n",
    "\n",
    "verbose, epochs, batch_size = 1, 1000, 80\n",
    "n_timesteps, n_features, n_outputs = X_train.shape[1], X_train.shape[2], y_train_cat.shape[1]\n",
    "steps_per_epoch = len(X_train)//batch_size\n",
    "validation_steps = len(X_valid)//batch_size # if you have test data\n",
    "\n",
    "\n",
    "\n",
    "model_crs = Sequential()\n",
    "#model_crs.add(Conv1D(input_shape=x_train.shape[1:],filters=64,kernel_size=9,padding=\"same\", activation=\"relu\"))\n",
    "model_crs.add(Conv1D(filters=256, kernel_size=12, strides=1, activation='relu', input_shape=(n_timesteps,n_features))) #Replaced\n",
    "model_crs.add(BatchNormalization())\n",
    "model_crs.add(MaxPooling1D(pool_size=2,strides=3))\n",
    "\n",
    "model_crs.add(Conv1D(filters=64, kernel_size=7, strides=1, padding=\"same\", activation=\"relu\"))\n",
    "model_crs.add(BatchNormalization())\n",
    "model_crs.add(MaxPooling1D(pool_size=2,strides=2))\n",
    "\n",
    "model_crs.add(Conv1D(filters=64, kernel_size=10, strides=1, padding=\"same\", activation=\"relu\"))\n",
    "model_crs.add(Conv1D(filters=128, kernel_size=5, strides=2, padding=\"same\", activation=\"relu\"))\n",
    "model_crs.add(MaxPooling1D(pool_size=2,strides=2))\n",
    "\n",
    "model_crs.add(Conv1D(filters=512, kernel_size=15, strides=1, padding=\"same\", activation=\"relu\"))\n",
    "model_crs.add(MaxPooling1D(pool_size=2,strides=2))\n",
    "\n",
    "model_crs.add(Conv1D(filters=1024, kernel_size=5, strides=1, padding=\"same\", activation=\"relu\"))\n",
    "#model_crs.add(Conv1D(filters=128, kernel_size=3, strides=1, padding=\"same\", activation=\"relu\"))\n",
    "\n",
    "\n",
    "model_crs.add(Flatten())\n",
    "model_crs.add(Dropout(0.1))\n",
    "model_crs.add(Dense(units=512,activation=\"relu\"))\n",
    "#model_crs.add(Dense(units=2048,activation=\"relu\"))\n",
    "model_crs.add(Dense(n_outputs, activation='softmax'))   #Replaced here from old Model\n",
    "\n",
    "model_crs.compile(optimizer='rmsprop', loss='categorical_crossentropy', metrics=['accuracy'])\n",
    "# fit network   #CategoricalCrossentropy #sparse_categorical_crossentropy #SparseCategoricalCrossentropy\n",
    "\n",
    "earlystopping = callbacks.EarlyStopping(monitor =\"val_accuracy\", mode =\"max\", patience = 50, restore_best_weights = True)\n",
    "\n",
    "model_crs.fit(X_train, y_train_cat, epochs=epochs, batch_size=batch_size, verbose=verbose, validation_data = (X_valid, y_valid_cat), callbacks =[earlystopping])\n",
    "\n",
    "_, accuracy = model_crs.evaluate(X_valid, y_valid_cat, batch_size=batch_size, verbose=1)\n",
    "\n",
    "print('np.shape(X_test)=',np.shape(X_test))\n",
    "\n",
    "print('Accuracy= ', accuracy)\n",
    "\n",
    "#y_pred_vgg = model_crs.predict_classes(X_test)\n"
   ]
  },
  {
   "cell_type": "code",
   "execution_count": 27,
   "metadata": {},
   "outputs": [
    {
     "name": "stdout",
     "output_type": "stream",
     "text": [
      "6/6 [==============================] - 0s 29ms/step\n",
      "array([[60, 16,  0,  0,  0],\n",
      "       [10, 21,  0,  0,  0],\n",
      "       [24,  1,  0,  0,  0],\n",
      "       [32,  0,  0,  0,  0],\n",
      "       [17,  0,  0,  0,  0]], dtype=int64)\n",
      "              precision    recall  f1-score   support\n",
      "\n",
      "           1       0.42      0.79      0.55        76\n",
      "           2       0.55      0.68      0.61        31\n",
      "           3       0.00      0.00      0.00        25\n",
      "           4       0.00      0.00      0.00        32\n",
      "           5       0.00      0.00      0.00        17\n",
      "\n",
      "    accuracy                           0.45       181\n",
      "   macro avg       0.19      0.29      0.23       181\n",
      "weighted avg       0.27      0.45      0.33       181\n",
      "\n"
     ]
    },
    {
     "name": "stderr",
     "output_type": "stream",
     "text": [
      "C:\\ProgramData\\Anaconda3\\lib\\site-packages\\sklearn\\metrics\\_classification.py:1248: UndefinedMetricWarning: Precision and F-score are ill-defined and being set to 0.0 in labels with no predicted samples. Use `zero_division` parameter to control this behavior.\n",
      "  _warn_prf(average, modifier, msg_start, len(result))\n",
      "C:\\ProgramData\\Anaconda3\\lib\\site-packages\\sklearn\\metrics\\_classification.py:1248: UndefinedMetricWarning: Precision and F-score are ill-defined and being set to 0.0 in labels with no predicted samples. Use `zero_division` parameter to control this behavior.\n",
      "  _warn_prf(average, modifier, msg_start, len(result))\n",
      "C:\\ProgramData\\Anaconda3\\lib\\site-packages\\sklearn\\metrics\\_classification.py:1248: UndefinedMetricWarning: Precision and F-score are ill-defined and being set to 0.0 in labels with no predicted samples. Use `zero_division` parameter to control this behavior.\n",
      "  _warn_prf(average, modifier, msg_start, len(result))\n"
     ]
    }
   ],
   "source": [
    "predict_x=model_crs.predict(X_test)              # Function 1\n",
    "\n",
    "y_pred_crs=maxindx(predict_x)                    # function from augment.py to remove 0 index predictions\n",
    "\n",
    "#y_pred_crs = model_crs.predict_classes(X_test)\n",
    "\n",
    "cm = confusion_matrix(y_test, y_pred_crs)\n",
    "fullprint(cm)\n",
    "acc3=accuracy_score(y_test, y_pred_crs)\n",
    "\n",
    "print(classification_report(y_test, y_pred_crs))\n",
    "\n",
    "#sns.heatmap(cm, annot=True)\n",
    "\n",
    "#plt.imshow(cm)"
   ]
  },
  {
   "cell_type": "code",
   "execution_count": null,
   "metadata": {},
   "outputs": [],
   "source": []
  }
 ],
 "metadata": {
  "celltoolbar": "Raw Cell Format",
  "kernelspec": {
   "display_name": "Python 3 (ipykernel)",
   "language": "python",
   "name": "python3"
  },
  "language_info": {
   "codemirror_mode": {
    "name": "ipython",
    "version": 3
   },
   "file_extension": ".py",
   "mimetype": "text/x-python",
   "name": "python",
   "nbconvert_exporter": "python",
   "pygments_lexer": "ipython3",
   "version": "3.9.7"
  }
 },
 "nbformat": 4,
 "nbformat_minor": 4
}
