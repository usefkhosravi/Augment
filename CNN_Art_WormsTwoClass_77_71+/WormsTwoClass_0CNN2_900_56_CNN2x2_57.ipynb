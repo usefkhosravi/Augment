{
 "cells": [
  {
   "cell_type": "markdown",
   "metadata": {},
   "source": [
    "import time\n",
    "plc=1\n",
    "time.sleep(3000*plc)         #run after 1 houre = 3600 seconds"
   ]
  },
  {
   "cell_type": "code",
   "execution_count": 1,
   "metadata": {},
   "outputs": [
    {
     "data": {
      "text/html": [
       "<style>#notebook { padding-top:0px !important; } .container { width:100% !important; } .end_space { min-height:0px !important; } html, body, .container{ margin:0!important;padding:0!important;}</style>"
      ],
      "text/plain": [
       "<IPython.core.display.HTML object>"
      ]
     },
     "metadata": {},
     "output_type": "display_data"
    }
   ],
   "source": [
    "import os\n",
    "import glob\n",
    "import scipy\n",
    "import random\n",
    "import bisect\n",
    "import numpy as np\n",
    "import pandas as pd\n",
    "import seaborn as sns\n",
    "from scipy import signal\n",
    "from scipy.signal import find_peaks\n",
    "import matplotlib.pyplot as plt\n",
    "from preprocess import *                         #ماژول استخراج پنجره ها\n",
    "from data import *                          #ماژول محلی ورود داده ها\n",
    "from augment import *                            #ماژول های داده افزایی\n",
    "from lstm_cnn import *                           #ماژول های داده افزایی با lstm_cnn\n",
    "import augment\n",
    "import importlib\n",
    "importlib.reload(augment)\n",
    "import tensorflow as tf\n",
    "from tensorflow import keras\n",
    "from tensorflow.keras.layers import BatchNormalization\n",
    "from sklearn.model_selection import train_test_split\n",
    "from sklearn.neural_network import MLPClassifier\n",
    "from sklearn.datasets import make_classification\n",
    "from sklearn.metrics import confusion_matrix, accuracy_score, classification_report,recall_score,precision_score\n",
    "from tensorflow.keras import callbacks\n",
    "from tensorflow.keras import layers\n",
    "from tensorflow.keras.models import Sequential\n",
    "from tensorflow.keras.layers import Convolution2D,Conv1D,Dropout,MaxPooling1D,MaxPooling2D,Flatten,Dense\n",
    "from tensorflow.keras import backend as K\n",
    "from tensorflow.keras.utils import to_categorical\n",
    "from tensorflow.keras.models import load_model\n",
    "cwd = os.getcwd() #\n",
    "fullscrn()"
   ]
  },
  {
   "cell_type": "markdown",
   "metadata": {},
   "source": [
    "<h1><center><div style=\"direction:rtl;font-family:B Nazanin\">Importing Data</div></center></h1>"
   ]
  },
  {
   "cell_type": "code",
   "execution_count": 2,
   "metadata": {
    "scrolled": true
   },
   "outputs": [
    {
     "name": "stdout",
     "output_type": "stream",
     "text": [
      "first_train_shape= (77, 901)\n",
      "first_test_shape= (181, 901)\n",
      "classes_quantity= 2\n",
      "tr_lbls=\t {1, 2}\n",
      "Count_labels= [33 44]\n",
      "max(train_feature_Altitude)= 4.1961\n",
      "min(train_feature_Altitude)= -4.8873\n",
      "first_train_sample=\n",
      " [ 1.        -0.77859   -0.74444   -0.72546   -0.70269   -0.71408\n",
      " -0.72167   -0.73305   -0.71787   -0.73685   -0.76341   -0.77479\n",
      " -0.76341   -0.74823   -0.72546   -0.73305   -0.73305   -0.74064\n",
      " -0.74444   -0.76341   -0.7672    -0.76341   -0.75582   -0.74823\n",
      " -0.74823   -0.75582   -0.74823   -0.75962   -0.75203   -0.74823\n",
      " -0.74823   -0.73305   -0.73305   -0.74064   -0.771     -0.80895\n",
      " -0.83931   -0.86587   -0.87725   -0.87346   -0.919     -0.86207\n",
      " -0.86207   -0.85069   -0.82792   -0.85069   -0.78238   -0.7672\n",
      " -0.74444   -0.72546   -0.75203   -0.6951    -0.6951    -0.72167\n",
      " -0.72926   -0.74444   -0.74444   -0.79756   -0.75203   -0.67233\n",
      " -0.64577   -0.67613   -0.65716   -0.61541   -0.63818   -0.63439\n",
      " -0.59264   -0.61162   -0.5547    -0.42567   -0.30044   -0.21316\n",
      " -0.22455   -0.23973   -0.23214   -0.19419   -0.13727   -0.11829\n",
      "  0.0069361  0.056269   0.10181    0.11319    0.21945    0.22324\n",
      "  0.21186    0.24221    0.21565    0.21945    0.21945    0.23462\n",
      "  0.33329    0.36365    0.38642    0.40919    0.40919    0.44713\n",
      "  0.46231    0.51165    0.60272    0.65964    0.72795    0.84938\n",
      "  0.87215    0.97841    1.0201     1.0467     1.0733     1.1378\n",
      "  1.1795     1.2251     1.2706     1.3124     1.3579     1.4034\n",
      "  1.4224     1.4376     1.4566     1.4603     1.4414     1.4072\n",
      "  1.4072     1.392      1.392      1.3958     1.392      1.4034\n",
      "  1.3882     1.3617     1.3465     1.2934     1.2706     1.2175\n",
      "  1.153      1.1226     1.0581     1.0391     1.0164     0.986\n",
      "  0.99359    1.0088     0.986      0.98979    1.0315     1.0164\n",
      "  1.0164     0.986      0.986      1.005      1.0467     1.1264\n",
      "  1.0998     1.1036     1.1378     1.134      1.1454     1.1568\n",
      "  1.2175     1.2516     1.263      1.282      1.3465     1.3731\n",
      "  1.4072     1.3617     1.3048     1.2668     1.1378     1.0391\n",
      "  1.0088     0.89113    0.86077    0.74313    0.65964    0.56477\n",
      "  0.44334    0.37883    0.24221    0.10181    0.060063   0.02591\n",
      " -0.038602  -0.084139  -0.27008   -0.26629   -0.32321   -0.36875\n",
      " -0.35357   -0.41049   -0.42947   -0.38013   -0.39911   -0.35357\n",
      " -0.36875   -0.43326   -0.50157   -0.56987   -0.63818   -0.70649\n",
      " -0.77479   -0.83551   -0.79756   -0.78618   -0.83551   -0.93797\n",
      " -1.0025    -0.97971   -0.9911    -0.98351   -1.0328    -1.1087\n",
      " -1.1467    -1.2491    -1.3023    -1.3175    -1.3061    -1.3706\n",
      " -1.3516    -1.3554    -1.3175    -1.2681    -1.2909    -1.2909\n",
      " -1.2947    -1.3137    -1.2871    -1.2074    -1.1391    -1.1125\n",
      " -1.1163    -1.1391    -1.1353    -1.1467    -1.1315    -1.1353\n",
      " -1.1467    -1.1505    -1.1505    -1.1505    -1.1429    -1.1201\n",
      " -1.1125    -1.067     -1.0442    -1.029     -0.98351   -1.0025\n",
      " -1.0253    -1.0442    -1.0404    -1.0594    -1.0822    -1.0822\n",
      " -1.0746    -1.0898    -1.0822    -1.1087    -1.0784    -1.0708\n",
      " -1.067     -1.1087    -1.1163    -1.1467    -1.1467    -1.1998\n",
      " -1.215     -1.2795    -1.325     -1.3402    -1.4123    -1.4617\n",
      " -1.4579    -1.4692    -1.5034    -1.4047    -1.4237    -1.4009\n",
      " -1.3592    -1.3554    -1.3933    -1.3516    -1.344     -1.3478\n",
      " -1.3212    -1.2795    -1.234     -1.2226    -1.2529    -1.2378\n",
      " -1.1884    -1.1732    -1.1429    -1.1239    -1.0974    -1.1049\n",
      " -1.0974    -1.1011    -1.1011    -1.1011    -1.1049    -1.1049\n",
      " -1.1049    -1.1353    -1.1543    -1.1505    -1.1505    -1.2074\n",
      " -1.2264    -1.2188    -1.2529    -1.2605    -1.2643    -1.2454\n",
      " -1.2491    -1.2567    -1.2529    -1.2491    -1.2681    -1.2529\n",
      " -1.2681    -1.2719    -1.2757    -1.2795    -1.2719    -1.2719\n",
      " -1.2681    -1.2871    -1.2643    -1.2909    -1.2719    -1.3023\n",
      " -1.2985    -1.3061    -1.3364    -1.3212    -1.4161    -1.4047\n",
      " -1.4009    -1.3744    -1.3668    -1.3592    -1.3592    -1.3326\n",
      " -1.2643    -1.2757    -1.1505    -1.0784    -1.0139    -1.0253\n",
      " -0.9873    -0.96074   -0.83551   -0.74064   -0.66854   -0.60782\n",
      " -0.54711   -0.48639   -0.42567   -0.36875   -0.30803   -0.24732\n",
      " -0.20557   -0.12588   -0.07655   -0.038602   0.010731   0.0335\n",
      "  0.079037   0.10181    0.12078    0.13216    0.12837    0.12837\n",
      "  0.12458    0.12078    0.12078    0.11699    0.11319    0.079037\n",
      "  0.15114    0.063858   0.10181    0.12078    0.16632    0.14355\n",
      "  0.11319    0.063858   0.12837    0.14355    0.19288    0.33708\n",
      "  0.37503    0.3978     0.44334    0.39021    0.41678    0.4016\n",
      "  0.42436    0.52303    0.65964    0.86456    0.9101     0.9822\n",
      "  1.0126     1.0771     1.1492     1.2251     1.2896     1.4034\n",
      "  1.5021     1.5932     1.6653     1.688      1.7525     1.7601\n",
      "  1.7791     1.7943     1.8133     1.8398     1.8436     1.8133\n",
      "  1.7981     1.7184     1.6349     1.6463     1.6008     1.5514\n",
      "  1.4983     1.4717     1.4528     1.4262     1.3958     1.3541\n",
      "  1.2706     1.2516     1.2099     1.1833     1.0885     1.0505\n",
      "  1.0201     0.97841    0.97461    0.95184    0.96702    0.89872\n",
      "  0.85697    0.80764    0.77349    0.67862    0.62928    0.542\n",
      "  0.50026    0.53821    0.50406    0.48508    0.4699     0.43954\n",
      "  0.46231    0.41298    0.37883    0.33329    0.33708    0.29534\n",
      "  0.26119    0.26119    0.26498    0.26878    0.27257    0.27637\n",
      "  0.27637    0.29534    0.31052    0.33708    0.33708    0.36365\n",
      "  0.38642    0.40539    0.39021    0.42057    0.43954    0.42816\n",
      "  0.49647    0.51544    0.53821    0.56477    0.58754    0.59134\n",
      "  0.6179     0.73554    0.74313    0.77349    0.7659     0.78487\n",
      "  0.86836    0.97841    0.97841    0.97461    1.0012     0.97461\n",
      "  0.99738    1.0088     1.0239     1.0201     1.0164     0.94805\n",
      "  0.88354    0.81902    0.75072    0.68621    0.6179     0.55339\n",
      "  0.48888    0.40539    0.33708    0.24221    0.23083    0.13216\n",
      "  0.052474  -0.065165  -0.12968   -0.22834   -0.32701   -0.41049\n",
      " -0.47121   -0.50536   -0.59264   -0.57746   -0.63059   -0.66095\n",
      " -0.74064   -0.79377   -0.89623   -0.98351   -1.0898    -1.1505\n",
      " -1.2491    -1.3326    -1.3326    -1.3288    -1.3288    -1.325\n",
      " -1.325     -1.3212    -1.3212    -1.3592    -1.4541    -1.4654\n",
      " -1.492     -1.5186    -1.4882    -1.4541    -1.4275    -1.4047\n",
      " -1.3706    -1.3592    -1.3212    -1.2985    -1.2909    -1.2833\n",
      " -1.2491    -1.2036    -1.1505    -1.1011    -1.0442    -0.97971\n",
      " -0.95695   -0.97212   -1.0101    -0.97971   -0.94556   -0.80136\n",
      " -0.7672    -0.72546   -0.66474   -0.57367   -0.46741   -0.26629\n",
      " -0.16383   -0.13727   -0.16383   -0.19039   -0.21696   -0.24352\n",
      " -0.27008   -0.29665   -0.36496   -0.45983   -0.5509    -0.61921\n",
      " -0.74444   -0.83172   -0.90382   -0.97592   -1.0328    -1.1695\n",
      " -1.2454    -1.3023    -1.3364    -1.3933    -1.3971    -1.4351\n",
      " -1.4427    -1.3971    -1.3288    -1.2302    -1.1695    -1.0556\n",
      " -0.92279   -0.79756   -0.66854   -0.57367   -0.48259   -0.39531\n",
      " -0.31183   -0.22455   -0.13727   -0.049986   0.037295   0.12078\n",
      "  0.20047    0.28396    0.35606    0.42057    0.50026    0.51165\n",
      "  0.51544    0.51924    0.43954    0.4016     0.36744    0.20047\n",
      "  0.24221    0.11699    0.048679  -0.019628  -0.087934  -0.16004\n",
      " -0.22834   -0.29665   -0.39911   -0.44844   -0.45983   -0.51675\n",
      " -0.55849   -0.69131   -0.83551   -0.85449   -0.92659   -0.97971\n",
      " -0.94556   -1.0328    -0.89623   -0.98351   -0.97971   -0.86966\n",
      " -0.86966   -0.81274   -0.75203   -0.6951    -0.63818   -0.57746\n",
      " -0.52054   -0.45983   -0.31562   -0.30803   -0.19419   -0.1145\n",
      "  0.02591    0.16252    0.26119    0.41298    0.52682    0.51165\n",
      "  0.57616    0.65585    0.70518    0.79626    0.91769    0.95943\n",
      "  1.0809     1.263      1.301      1.4414     1.5856     1.7146\n",
      "  1.7981     1.9157     2.0144     2.0258     2.0979     2.2155\n",
      "  2.3104     2.3559     2.3939     2.4546     2.428      2.4925\n",
      "  2.5153     2.6405     2.7658     2.8151     2.8341     2.9138\n",
      "  2.9176     2.9403     2.9707     2.9365     2.9062     2.8379\n",
      "  2.7506     2.614      2.3863     2.2573     2.151      1.9726\n",
      "  1.8284     1.6425     1.5742     1.4793     1.4262     1.3845\n",
      "  1.3199     1.2706     1.2592     1.1909     1.1606     1.1264\n",
      "  1.0771     0.986      0.93287    0.88733    0.838      0.79626\n",
      "  0.72036    0.64067    0.62549    0.60272    0.55718    0.55339\n",
      "  0.49647    0.48508    0.43575    0.41298    0.39021    0.30293\n",
      "  0.19288    0.19288    0.21945    0.20047    0.15114    0.094217\n",
      "  0.094217   0.090422   0.11319    0.11319    0.14734    0.19288\n",
      "  0.26119    0.35985    0.46231    0.4737     0.51544    0.50406\n",
      "  0.55718    0.58754    0.6179     0.64826    0.67862    0.70898\n",
      "  0.73933    0.80764    0.86077    0.89872    0.93287    1.0201\n",
      "  1.0164     1.0126     1.005      0.99738    0.99359    1.0164\n",
      "  1.0164     1.005      1.0429     1.1036     1.1036     1.0543\n",
      "  1.005      0.96702    0.96702    0.91769    0.88733    0.86456\n",
      "  0.84938    0.78487    0.67862    0.65205    0.58375    0.59513\n",
      "  0.53441    0.4737     0.41298    0.35226    0.29155    0.23083\n",
      "  0.14355    0.048679  -0.019628  -0.057576  -0.1107    -0.13347\n",
      " -0.20178   -0.28906   -0.37634   -0.48259   -0.51295   -0.64957\n",
      " -0.64198   -0.67992   -0.66474   -0.65716   -0.58885   -0.56608\n",
      " -0.58885   -0.64577   -0.67613   -0.7672    -0.76341   -0.74064\n",
      " -0.74064   -0.78997   -0.78618   -0.78238   -0.78238   -0.77859\n",
      " -0.77479   -0.77479   -0.771     -0.70269   -0.71028   -0.70649\n",
      " -0.6989    -0.66854   -0.623     -0.57367   -0.50916   -0.4067\n",
      " -0.34978   -0.31562   -0.28147   -0.28526   -0.22834   -0.12209\n",
      " -0.019628   0.010731   0.090422   0.1094     0.16252    0.22703\n",
      "  0.27637    0.29534    0.29914    0.32949    0.35985    0.35606\n",
      "  0.34847    0.42057    0.46231    0.50785    0.54959    0.59513\n",
      "  0.63687    0.68241    0.71657    0.69759    0.67103    0.65585\n",
      "  0.65964    0.63687    0.62169    0.56477    0.57995    0.53821\n",
      "  0.50406    0.45852    0.41678    0.39021    0.37124    0.29914\n",
      "  0.2536     0.20047    0.12458    0.082832   0.052474  -0.042396\n",
      " -0.099319  -0.12588   -0.19039   -0.22834   -0.20557   -0.27388\n",
      " -0.32321  ]\n",
      "1 33\t1 33\t"
     ]
    }
   ],
   "source": [
    "rate=900\n",
    "cls_num=2\n",
    "btch=20\n",
    "for i in range (1,cls_num+1):\n",
    "    vars()['ecg'+str(i)],vars()['ecg_tst'+str(i)]=WormsTwoClass0(i)\n",
    "\n",
    "os.chdir(cwd)\n",
    "clses_lens=np.array([])\n",
    "ecg=np.array(ecg1)\n",
    "print(1,len(vars()['ecg'+str(1)]), end='\\t')\n",
    "clses_lens=np.append(clses_lens,len(vars()['ecg'+str(1)]))\n",
    "for i in range (1,cls_num):\n",
    "    ecg=np.concatenate((ecg,vars()['ecg'+str(i)]),axis=0)\n",
    "    clses_lens=np.append(clses_lens,len(vars()['ecg'+str(i)]))\n",
    "    print(i,len(vars()['ecg'+str(i)]), end='\\t')\n",
    "\n",
    "mx_sig=max(clses_lens)"
   ]
  },
  {
   "cell_type": "code",
   "execution_count": 3,
   "metadata": {},
   "outputs": [
    {
     "data": {
      "text/plain": [
       "(66, 901)"
      ]
     },
     "execution_count": 3,
     "metadata": {},
     "output_type": "execute_result"
    }
   ],
   "source": [
    "np.shape(ecg)"
   ]
  },
  {
   "cell_type": "code",
   "execution_count": 4,
   "metadata": {},
   "outputs": [
    {
     "data": {
      "text/plain": [
       "array([1., 1., 1., 1., 1., 1., 1., 1., 1., 1., 1., 1., 1., 1., 1., 1., 1.,\n",
       "       1., 1., 1., 1., 1., 1., 1., 1., 1., 1., 1., 1., 1., 1., 1., 1., 1.,\n",
       "       1., 1., 1., 1., 1., 1., 1., 1., 1., 1., 1., 1., 1., 1., 1., 1., 1.,\n",
       "       1., 1., 1., 1., 1., 1., 1., 1., 1., 1., 1., 1., 1., 1., 1.])"
      ]
     },
     "execution_count": 4,
     "metadata": {},
     "output_type": "execute_result"
    }
   ],
   "source": [
    "ecg[:,-1]"
   ]
  },
  {
   "cell_type": "markdown",
   "metadata": {},
   "source": [
    "<h2><center><div style=\"direction:rtl;font-family:B Nazanin\">Base Train windows</div></center></h1>"
   ]
  },
  {
   "cell_type": "code",
   "execution_count": 5,
   "metadata": {},
   "outputs": [
    {
     "name": "stdout",
     "output_type": "stream",
     "text": [
      "each class and its windows =\n",
      "1 33\t2 44\t\n",
      " max = 44\n"
     ]
    }
   ],
   "source": [
    "smpl_rte=rate                                              # در ماژول ها نیز همین مقدار ثبت شده\n",
    "i=0\n",
    "windws=np.array([])\n",
    "\n",
    "for cls in range (1,cls_num+1):                                 #ساخت پنجره های داده های آموزش اصلی\n",
    "    vars()['wndws'+str(cls)]=np.array(vars()['ecg'+str(cls)])  \n",
    "    \n",
    "print(\"each class and its windows =\")\n",
    "\n",
    "cls_wndws=np.array([])\n",
    "for cls in range (1,cls_num+1):                                # آرایه ی تعداد پنجره ی هر کلاس\n",
    "    wns=len(vars()['wndws'+str(cls)])\n",
    "    cls_wndws=np.append(cls_wndws,wns)\n",
    "    print(cls, wns, end='\\t')\n",
    "\n",
    "mx_wndws=int(np.max(cls_wndws))                        # حداکثر تعداد پنجره ی موجود بین کلاس ها\n",
    "print('\\n max =', mx_wndws)"
   ]
  },
  {
   "cell_type": "raw",
   "metadata": {},
   "source": [
    "#clses=3                                   #تعیین میزان افزایش نمونه (تولید داده)\n",
    "mx_wndws=int(mx_wndws)  #mx_wndws*0.3  # =classes-1 برای بررسی الگوریتم تعداد کمی کلاس آزمایش شد\n",
    "mx_wndws=2598           #+2\n",
    "print(mx_wndws)"
   ]
  },
  {
   "cell_type": "markdown",
   "metadata": {},
   "source": [
    "<h1><center><div style=\"direction:rtl;font-family:B Nazanin\">Data Augmentation</div></center></h1>"
   ]
  },
  {
   "cell_type": "code",
   "execution_count": 6,
   "metadata": {},
   "outputs": [
    {
     "name": "stdout",
     "output_type": "stream",
     "text": [
      "Up to class  1 train shape =  (33, 901)\n",
      "Up to class  2 train shape =  (77, 901)\n"
     ]
    }
   ],
   "source": [
    "smpl_rte=len(wndws1[0])                                        # در ماژول ها نیز همین مقدار ثبت شده\n",
    "\n",
    "#add augmented data to base data\n",
    "xtrain=np.empty((0,len(wndws1[0])), float) \n",
    "for i in range (1,cls_num+1):   \n",
    "    xtrain=np.append(xtrain,vars()['wndws'+str(i)],axis=0)\n",
    "    print('Up to class ', i, 'train shape = ', np.shape(xtrain))"
   ]
  },
  {
   "cell_type": "code",
   "execution_count": 7,
   "metadata": {},
   "outputs": [
    {
     "name": "stdout",
     "output_type": "stream",
     "text": [
      "[ 0 33 44]\n"
     ]
    }
   ],
   "source": [
    "print(np.bincount(np.int16(xtrain[:,-1])))    #تعداد پنجره در هر کلاس از 0 تا 17"
   ]
  },
  {
   "cell_type": "code",
   "execution_count": 8,
   "metadata": {},
   "outputs": [
    {
     "data": {
      "text/plain": [
       "array([1., 1., 1., 1., 1., 1., 1., 1., 1., 1., 1., 1., 1., 1., 1., 1., 1.,\n",
       "       1., 1., 1., 1., 1., 1., 1., 1., 1., 1., 1., 1., 1., 1., 1., 1., 2.,\n",
       "       2., 2., 2., 2., 2., 2., 2., 2., 2., 2., 2., 2., 2., 2., 2., 2., 2.,\n",
       "       2., 2., 2., 2., 2., 2., 2., 2., 2., 2., 2., 2., 2., 2., 2., 2., 2.,\n",
       "       2., 2., 2., 2., 2., 2., 2., 2., 2.])"
      ]
     },
     "execution_count": 8,
     "metadata": {},
     "output_type": "execute_result"
    }
   ],
   "source": [
    "xtrain[:,-1]"
   ]
  },
  {
   "cell_type": "code",
   "execution_count": 9,
   "metadata": {},
   "outputs": [],
   "source": [
    "mx_aug=np.max(xtrain[:,:-1])\n",
    "mx=np.max(ecg[:,:-1])\n",
    "mn_aug=np.min(xtrain[:,:-1])\n",
    "mn=np.min(ecg[:,:-1])\n",
    "\n",
    "#for i in range (1,cls_num+1):             #نرمالسازی داده های افزایشی\n",
    "xtrain[:,:-1]= 2*(xtrain[:,:-1]-mn_aug)/(mx_aug - mn_aug) - 1"
   ]
  },
  {
   "cell_type": "code",
   "execution_count": 10,
   "metadata": {},
   "outputs": [
    {
     "name": "stdout",
     "output_type": "stream",
     "text": [
      "min trn = -1.0\n",
      "max trn = 1.0\n"
     ]
    }
   ],
   "source": [
    "print('min trn =', np.min(xtrain[:,:-1]))\n",
    "print('max trn =', np.max(xtrain[:,:-1]))"
   ]
  },
  {
   "cell_type": "markdown",
   "metadata": {},
   "source": [
    "<h3><center><div style=\"direction:rtl;font-family:B Nazanin\">Test Windows</div></center></h1>"
   ]
  },
  {
   "cell_type": "code",
   "execution_count": 11,
   "metadata": {},
   "outputs": [],
   "source": [
    "wndws_test=np.empty((0,len(wndws1[0])), float)\n",
    "i=0\n",
    "windws=np.array([])\n",
    "for cls in range (1,cls_num+1):                                 #ساخت پنجره های داده های آموزش اصلی\n",
    "    vars()['wndws_tst'+str(cls)]=np.empty((0,len(wndws1[0])), float)\n",
    "    vars()['wndws_tst'+str(cls)]=np.append(vars()['wndws_tst'+str(cls)],vars()['ecg_tst'+str(cls)],axis=0)   "
   ]
  },
  {
   "cell_type": "code",
   "execution_count": 12,
   "metadata": {},
   "outputs": [
    {
     "name": "stdout",
     "output_type": "stream",
     "text": [
      "\n",
      " cls 1  >> \n",
      "max magnitude class 1  =  4.1375\n",
      "min magnitude class 1  =  -4.037800000000001\n",
      "after normalizing >>\n",
      "max magnitude class 1  =  0.9870973424048264\n",
      "min magnitude class 1  =  -0.8129555012440277\n",
      "\n",
      " cls 2  >> \n",
      "max magnitude class 2  =  4.8591000000000015\n",
      "min magnitude class 2  =  -4.3114\n",
      "after normalizing >>\n",
      "max magnitude class 2  =  1.1459805799590468\n",
      "min magnitude class 2  =  -0.8731972609375345\n",
      "each class and its windows =\n",
      "1 76\t2 105\t\n",
      " max instance in classes of test windows = 105\n"
     ]
    }
   ],
   "source": [
    "#print(np.max(wndws_tst))\n",
    "for i in range (1,cls_num+1):                # Normalization test windows\n",
    "    cls=i\n",
    "    print('\\n cls', i, ' >> ')\n",
    "    print('max magnitude class', i , ' = ' ,np.max(vars()['wndws_tst'+str(cls)][:,:-1]))\n",
    "    print('min magnitude class', i , ' = ' ,np.min(vars()['wndws_tst'+str(cls)][:,:-1]))\n",
    "\n",
    "    vars()['wndws_tst'+str(i)][:,:-1]= 2*(vars()['wndws_tst'+str(i)][:,:-1]-mn_aug)/(mx_aug - mn_aug) - 1\n",
    "    \n",
    "    print('after normalizing >>')\n",
    "    print('max magnitude class', i , ' = ' ,np.max(vars()['wndws_tst'+str(cls)][:,:-1]))\n",
    "    print('min magnitude class', i , ' = ' ,np.min(vars()['wndws_tst'+str(cls)][:,:-1]))\n",
    "    \n",
    "print(\"each class and its windows =\")                    #تجمیع کلاس های تست\n",
    "cls_wndws=np.array([])\n",
    "for cls in range (1,cls_num+1):                                # آرایه ی تعداد پنجره ی هر کلاس\n",
    "    wns=len(vars()['wndws_tst'+str(cls)])\n",
    "    cls_wndws=np.append(cls_wndws,wns)\n",
    "    print(cls, wns, end='\\t')\n",
    "    wndws_test=np.append(wndws_test,vars()['wndws_tst'+str(cls)],axis=0)\n",
    "    \n",
    "mx_wndws=int(np.max(cls_wndws))                        # حداکثر تعداد پنجره ی موجود بین کلاس ها\n",
    "print('\\n max instance in classes of test windows =', mx_wndws)"
   ]
  },
  {
   "cell_type": "code",
   "execution_count": 13,
   "metadata": {},
   "outputs": [
    {
     "name": "stdout",
     "output_type": "stream",
     "text": [
      "min tst = -0.8731972609375345\n",
      "max tst = 1.1459805799590468\n"
     ]
    }
   ],
   "source": [
    "print('min tst =', np.min(wndws_test[:,:-1]))\n",
    "print('max tst =', np.max(wndws_test[:,:-1]))"
   ]
  },
  {
   "cell_type": "code",
   "execution_count": 14,
   "metadata": {},
   "outputs": [
    {
     "data": {
      "text/plain": [
       "181"
      ]
     },
     "execution_count": 14,
     "metadata": {},
     "output_type": "execute_result"
    }
   ],
   "source": [
    "len(wndws_test)"
   ]
  },
  {
   "cell_type": "code",
   "execution_count": 15,
   "metadata": {},
   "outputs": [
    {
     "data": {
      "text/plain": [
       "(181, 901)"
      ]
     },
     "execution_count": 15,
     "metadata": {},
     "output_type": "execute_result"
    }
   ],
   "source": [
    "np.shape(wndws_test)"
   ]
  },
  {
   "cell_type": "code",
   "execution_count": 16,
   "metadata": {},
   "outputs": [],
   "source": [
    "Xtest=wndws_test[:,:-1]\n",
    "ytest=np.int16(wndws_test[:,-1])"
   ]
  },
  {
   "cell_type": "code",
   "execution_count": 17,
   "metadata": {},
   "outputs": [
    {
     "name": "stdout",
     "output_type": "stream",
     "text": [
      "array([1, 1, 1, 1, 1, 1, 1, 1, 1, 1, 1, 1, 1, 1, 1, 1, 1, 1, 1, 1, 1, 1,\n",
      "       1, 1, 1, 1, 1, 1, 1, 1, 1, 1, 1, 1, 1, 1, 1, 1, 1, 1, 1, 1, 1, 1,\n",
      "       1, 1, 1, 1, 1, 1, 1, 1, 1, 1, 1, 1, 1, 1, 1, 1, 1, 1, 1, 1, 1, 1,\n",
      "       1, 1, 1, 1, 1, 1, 1, 1, 1, 1, 2, 2, 2, 2, 2, 2, 2, 2, 2, 2, 2, 2,\n",
      "       2, 2, 2, 2, 2, 2, 2, 2, 2, 2, 2, 2, 2, 2, 2, 2, 2, 2, 2, 2, 2, 2,\n",
      "       2, 2, 2, 2, 2, 2, 2, 2, 2, 2, 2, 2, 2, 2, 2, 2, 2, 2, 2, 2, 2, 2,\n",
      "       2, 2, 2, 2, 2, 2, 2, 2, 2, 2, 2, 2, 2, 2, 2, 2, 2, 2, 2, 2, 2, 2,\n",
      "       2, 2, 2, 2, 2, 2, 2, 2, 2, 2, 2, 2, 2, 2, 2, 2, 2, 2, 2, 2, 2, 2,\n",
      "       2, 2, 2, 2, 2], dtype=int16)\n"
     ]
    }
   ],
   "source": [
    "fullprint(ytest)"
   ]
  },
  {
   "cell_type": "markdown",
   "metadata": {},
   "source": [
    "<h3><center><div style=\"direction:rtl;font-family:B Nazanin\">Train Windows</div></center></h1>"
   ]
  },
  {
   "cell_type": "code",
   "execution_count": 18,
   "metadata": {},
   "outputs": [
    {
     "data": {
      "text/plain": [
       "'\\nytestt=np.int32(np.array([ytest]).T)\\ntestx=np.concatenate((Xtest, ytestt), axis=1)\\ntestx=np.random.permutation(testx)\\nXtest=np.int32(testx[:,:-1])\\nytest=np.int32(testx[:,-1])'"
      ]
     },
     "execution_count": 18,
     "metadata": {},
     "output_type": "execute_result"
    }
   ],
   "source": [
    "#ytraint=np.int32(np.array([ytrain]).T)\n",
    "#trainx=np.concatenate((Xtrain, ytraint), axis=1)\n",
    "trainx=np.random.permutation(xtrain)\n",
    "Xtrain=np.array(trainx[:,:-1])\n",
    "ytrain=np.int16(trainx[:,-1])\n",
    "'''\n",
    "ytestt=np.int32(np.array([ytest]).T)\n",
    "testx=np.concatenate((Xtest, ytestt), axis=1)\n",
    "testx=np.random.permutation(testx)\n",
    "Xtest=np.int32(testx[:,:-1])\n",
    "ytest=np.int32(testx[:,-1])'''"
   ]
  },
  {
   "cell_type": "code",
   "execution_count": 19,
   "metadata": {},
   "outputs": [
    {
     "data": {
      "text/plain": [
       "(33, 901)"
      ]
     },
     "execution_count": 19,
     "metadata": {},
     "output_type": "execute_result"
    }
   ],
   "source": [
    "np.shape(wndws1)"
   ]
  },
  {
   "cell_type": "markdown",
   "metadata": {},
   "source": [
    "<h3><center><div style=\"direction:rtl;font-family:B Nazanin\">Validation Windows</div></center></h1>"
   ]
  },
  {
   "cell_type": "code",
   "execution_count": 20,
   "metadata": {},
   "outputs": [],
   "source": [
    "Xvalid=np.array(Xtrain)\n",
    "yvalid=np.array(ytrain)"
   ]
  },
  {
   "cell_type": "markdown",
   "metadata": {},
   "source": [
    "<h1><center><div style=\"direction:rtl;font-family:B Nazanin\">CNN And UnBalanced RAW Data</div></center></h1>\n",
    "<h1><center><div style=\"direction:rtl;font-family:Arial\">Cross Entropy Loss Function</div></center></h1>"
   ]
  },
  {
   "cell_type": "code",
   "execution_count": 21,
   "metadata": {
    "scrolled": true
   },
   "outputs": [
    {
     "name": "stdout",
     "output_type": "stream",
     "text": [
      "X_train =>  (77, 900)\n",
      "y_train =>  (77,)\n",
      "X_test  =>  (181, 900)\n",
      "y_test  =>  (181,)\n",
      "X_valid  =>  (77, 900)\n",
      "y_valid  =>  (77,)\n"
     ]
    }
   ],
   "source": [
    "X_train=np.array(Xtrain)\n",
    "y_train=np.array(ytrain)\n",
    "X_test=np.array(Xtest)\n",
    "y_test=np.array(ytest)\n",
    "X_valid=np.array(Xtrain)\n",
    "y_valid=np.array(ytrain)\n",
    "print('X_train => ', X_train.shape)\n",
    "print('y_train => ', y_train.shape)\n",
    "print('X_test  => ', X_test.shape)\n",
    "print('y_test  => ', y_test.shape)\n",
    "print('X_valid  => ', X_valid.shape)\n",
    "print('y_valid  => ', y_valid.shape)"
   ]
  },
  {
   "cell_type": "markdown",
   "metadata": {},
   "source": [
    "y_train=np.array(y_train+1)\n",
    "y_test=np.array(y_test+1)\n",
    "y_valid=np.array(y_valid+1)"
   ]
  },
  {
   "cell_type": "code",
   "execution_count": 22,
   "metadata": {},
   "outputs": [],
   "source": [
    "y_train_cat=to_categorical(y_train)\n",
    "y_valid_cat=to_categorical(y_valid)\n",
    "y_test_cat=to_categorical(y_test)\n",
    "\n",
    "\n",
    "X_train = np.expand_dims(X_train, axis=2)\n",
    "X_valid = np.expand_dims(X_valid, axis=2)\n",
    "X_test = np.expand_dims(X_test, axis=2)\n",
    "#y_train=np.transpose([y_train])"
   ]
  },
  {
   "cell_type": "code",
   "execution_count": 23,
   "metadata": {
    "scrolled": true
   },
   "outputs": [
    {
     "name": "stdout",
     "output_type": "stream",
     "text": [
      "Epoch 1/1000\n",
      "1/1 [==============================] - 3s 3s/step - loss: 1.0459 - accuracy: 0.5455 - val_loss: 1.2042 - val_accuracy: 0.5714\n",
      "Epoch 2/1000\n",
      "1/1 [==============================] - 0s 45ms/step - loss: 29.9118 - accuracy: 0.5714 - val_loss: 1.0139 - val_accuracy: 0.4286\n",
      "Epoch 3/1000\n",
      "1/1 [==============================] - 0s 43ms/step - loss: 5.8295 - accuracy: 0.4286 - val_loss: 1.0770 - val_accuracy: 0.4286\n",
      "Epoch 4/1000\n",
      "1/1 [==============================] - 0s 43ms/step - loss: 0.9569 - accuracy: 0.4286 - val_loss: 1.0449 - val_accuracy: 0.5714\n",
      "Epoch 5/1000\n",
      "1/1 [==============================] - 0s 43ms/step - loss: 0.7100 - accuracy: 0.5714 - val_loss: 1.0587 - val_accuracy: 0.4286\n",
      "Epoch 6/1000\n",
      "1/1 [==============================] - 0s 45ms/step - loss: 1.0706 - accuracy: 0.4286 - val_loss: 1.0598 - val_accuracy: 0.5714\n",
      "Epoch 7/1000\n",
      "1/1 [==============================] - 0s 44ms/step - loss: 0.8933 - accuracy: 0.6104 - val_loss: 1.0034 - val_accuracy: 0.5714\n",
      "Epoch 8/1000\n",
      "1/1 [==============================] - 0s 42ms/step - loss: 0.6686 - accuracy: 0.5714 - val_loss: 0.9649 - val_accuracy: 0.5714\n",
      "Epoch 9/1000\n",
      "1/1 [==============================] - 0s 43ms/step - loss: 0.6070 - accuracy: 0.7792 - val_loss: 0.9193 - val_accuracy: 0.5714\n",
      "Epoch 10/1000\n",
      "1/1 [==============================] - 0s 44ms/step - loss: 1.7993 - accuracy: 0.5714 - val_loss: 1.0234 - val_accuracy: 0.4286\n",
      "Epoch 11/1000\n",
      "1/1 [==============================] - 0s 43ms/step - loss: 0.9145 - accuracy: 0.4286 - val_loss: 1.0069 - val_accuracy: 0.5714\n",
      "Epoch 12/1000\n",
      "1/1 [==============================] - 0s 45ms/step - loss: 0.8261 - accuracy: 0.4286 - val_loss: 0.9475 - val_accuracy: 0.5714\n",
      "Epoch 13/1000\n",
      "1/1 [==============================] - 0s 45ms/step - loss: 0.7050 - accuracy: 0.4416 - val_loss: 0.9124 - val_accuracy: 0.5714\n",
      "Epoch 14/1000\n",
      "1/1 [==============================] - 0s 43ms/step - loss: 0.6799 - accuracy: 0.5714 - val_loss: 0.9052 - val_accuracy: 0.5714\n",
      "Epoch 15/1000\n",
      "1/1 [==============================] - 0s 43ms/step - loss: 0.9955 - accuracy: 0.4286 - val_loss: 0.8652 - val_accuracy: 0.5714\n",
      "Epoch 16/1000\n",
      "1/1 [==============================] - 0s 44ms/step - loss: 0.8196 - accuracy: 0.5714 - val_loss: 0.9256 - val_accuracy: 0.5714\n",
      "Epoch 17/1000\n",
      "1/1 [==============================] - 0s 42ms/step - loss: 0.7192 - accuracy: 0.6494 - val_loss: 0.8819 - val_accuracy: 0.5714\n",
      "Epoch 18/1000\n",
      "1/1 [==============================] - 0s 43ms/step - loss: 0.6331 - accuracy: 0.6364 - val_loss: 0.8604 - val_accuracy: 0.5714\n",
      "Epoch 19/1000\n",
      "1/1 [==============================] - 0s 43ms/step - loss: 0.5875 - accuracy: 0.7013 - val_loss: 0.8475 - val_accuracy: 0.5714\n",
      "Epoch 20/1000\n",
      "1/1 [==============================] - 0s 43ms/step - loss: 0.5307 - accuracy: 0.7792 - val_loss: 0.8340 - val_accuracy: 0.5714\n",
      "Epoch 21/1000\n",
      "1/1 [==============================] - 0s 43ms/step - loss: 0.4503 - accuracy: 0.8701 - val_loss: 0.8177 - val_accuracy: 0.5714\n",
      "Epoch 22/1000\n",
      "1/1 [==============================] - 0s 43ms/step - loss: 0.3677 - accuracy: 0.9091 - val_loss: 0.7893 - val_accuracy: 0.5714\n",
      "Epoch 23/1000\n",
      "1/1 [==============================] - 0s 44ms/step - loss: 1.8696 - accuracy: 0.5714 - val_loss: 0.9312 - val_accuracy: 0.4286\n",
      "Epoch 24/1000\n",
      "1/1 [==============================] - 0s 44ms/step - loss: 1.0523 - accuracy: 0.4286 - val_loss: 0.9066 - val_accuracy: 0.5714\n",
      "Epoch 25/1000\n",
      "1/1 [==============================] - 0s 45ms/step - loss: 0.7329 - accuracy: 0.7403 - val_loss: 0.8474 - val_accuracy: 0.5714\n",
      "Epoch 26/1000\n",
      "1/1 [==============================] - 0s 45ms/step - loss: 0.6201 - accuracy: 0.8182 - val_loss: 0.8095 - val_accuracy: 0.5714\n",
      "Epoch 27/1000\n",
      "1/1 [==============================] - 0s 43ms/step - loss: 0.5404 - accuracy: 0.8182 - val_loss: 0.8218 - val_accuracy: 0.5714\n",
      "Epoch 28/1000\n",
      "1/1 [==============================] - 0s 44ms/step - loss: 0.5503 - accuracy: 0.6234 - val_loss: 0.8522 - val_accuracy: 0.5714\n",
      "Epoch 29/1000\n",
      "1/1 [==============================] - 0s 43ms/step - loss: 0.5833 - accuracy: 0.5974 - val_loss: 0.8154 - val_accuracy: 0.5714\n",
      "Epoch 30/1000\n",
      "1/1 [==============================] - 0s 44ms/step - loss: 0.5710 - accuracy: 0.5844 - val_loss: 0.8299 - val_accuracy: 0.5714\n",
      "Epoch 31/1000\n",
      "1/1 [==============================] - 0s 43ms/step - loss: 0.4685 - accuracy: 0.9221 - val_loss: 0.8022 - val_accuracy: 0.5714\n",
      "Epoch 32/1000\n",
      "1/1 [==============================] - 0s 43ms/step - loss: 0.3344 - accuracy: 0.9481 - val_loss: 0.7790 - val_accuracy: 0.5714\n",
      "Epoch 33/1000\n",
      "1/1 [==============================] - 0s 46ms/step - loss: 0.2810 - accuracy: 0.8701 - val_loss: 0.7551 - val_accuracy: 0.5714\n",
      "Epoch 34/1000\n",
      "1/1 [==============================] - 0s 44ms/step - loss: 2.0473 - accuracy: 0.5714 - val_loss: 0.8766 - val_accuracy: 0.4286\n",
      "Epoch 35/1000\n",
      "1/1 [==============================] - 0s 45ms/step - loss: 0.6001 - accuracy: 0.4935 - val_loss: 0.8535 - val_accuracy: 0.5714\n",
      "Epoch 36/1000\n",
      "1/1 [==============================] - 0s 45ms/step - loss: 0.4126 - accuracy: 0.8701 - val_loss: 0.8174 - val_accuracy: 0.5714\n",
      "Epoch 37/1000\n",
      "1/1 [==============================] - 0s 44ms/step - loss: 0.2762 - accuracy: 0.9351 - val_loss: 0.7675 - val_accuracy: 0.5714\n",
      "Epoch 38/1000\n",
      "1/1 [==============================] - 0s 45ms/step - loss: 0.1754 - accuracy: 0.9740 - val_loss: 0.7281 - val_accuracy: 0.4286\n",
      "Epoch 39/1000\n",
      "1/1 [==============================] - 0s 46ms/step - loss: 0.4775 - accuracy: 0.7273 - val_loss: 0.7680 - val_accuracy: 0.5714\n",
      "Epoch 40/1000\n",
      "1/1 [==============================] - 0s 46ms/step - loss: 1.0680 - accuracy: 0.5844 - val_loss: 0.8335 - val_accuracy: 0.5714\n",
      "Epoch 41/1000\n",
      "1/1 [==============================] - 0s 44ms/step - loss: 0.4773 - accuracy: 0.9481 - val_loss: 0.7971 - val_accuracy: 0.5714\n",
      "Epoch 42/1000\n",
      "1/1 [==============================] - 0s 45ms/step - loss: 0.2797 - accuracy: 1.0000 - val_loss: 0.7788 - val_accuracy: 0.5714\n",
      "Epoch 43/1000\n",
      "1/1 [==============================] - 0s 46ms/step - loss: 0.1773 - accuracy: 1.0000 - val_loss: 0.7590 - val_accuracy: 0.5714\n",
      "Epoch 44/1000\n",
      "1/1 [==============================] - 0s 45ms/step - loss: 0.1036 - accuracy: 1.0000 - val_loss: 0.7342 - val_accuracy: 0.5714\n",
      "Epoch 45/1000\n",
      "1/1 [==============================] - 0s 60ms/step - loss: 0.0535 - accuracy: 1.0000 - val_loss: 0.7155 - val_accuracy: 0.6753\n",
      "Epoch 46/1000\n",
      "1/1 [==============================] - 0s 46ms/step - loss: 0.0330 - accuracy: 1.0000 - val_loss: 0.7015 - val_accuracy: 0.5714\n",
      "Epoch 47/1000\n",
      "1/1 [==============================] - 0s 43ms/step - loss: 0.0614 - accuracy: 1.0000 - val_loss: 0.7493 - val_accuracy: 0.4286\n",
      "Epoch 48/1000\n",
      "1/1 [==============================] - 0s 43ms/step - loss: 0.2795 - accuracy: 0.8442 - val_loss: 0.7619 - val_accuracy: 0.5714\n",
      "Epoch 49/1000\n",
      "1/1 [==============================] - 0s 43ms/step - loss: 0.6023 - accuracy: 0.6494 - val_loss: 0.8345 - val_accuracy: 0.4416\n",
      "Epoch 50/1000\n",
      "1/1 [==============================] - 0s 42ms/step - loss: 0.1636 - accuracy: 1.0000 - val_loss: 0.7736 - val_accuracy: 0.5974\n",
      "Epoch 51/1000\n",
      "1/1 [==============================] - 0s 44ms/step - loss: 0.0352 - accuracy: 1.0000 - val_loss: 0.7547 - val_accuracy: 0.5714\n",
      "Epoch 52/1000\n",
      "1/1 [==============================] - 0s 44ms/step - loss: 0.0174 - accuracy: 1.0000 - val_loss: 0.7404 - val_accuracy: 0.5714\n",
      "Epoch 53/1000\n",
      "1/1 [==============================] - 0s 44ms/step - loss: 0.0103 - accuracy: 1.0000 - val_loss: 0.7292 - val_accuracy: 0.5714\n",
      "Epoch 54/1000\n",
      "1/1 [==============================] - 0s 44ms/step - loss: 0.0074 - accuracy: 1.0000 - val_loss: 0.7194 - val_accuracy: 0.5714\n",
      "Epoch 55/1000\n",
      "1/1 [==============================] - 0s 43ms/step - loss: 0.0051 - accuracy: 1.0000 - val_loss: 0.7116 - val_accuracy: 0.5714\n",
      "Epoch 56/1000\n",
      "1/1 [==============================] - 0s 43ms/step - loss: 0.0040 - accuracy: 1.0000 - val_loss: 0.7047 - val_accuracy: 0.5714\n",
      "Epoch 57/1000\n",
      "1/1 [==============================] - 0s 46ms/step - loss: 0.0028 - accuracy: 1.0000 - val_loss: 0.6980 - val_accuracy: 0.5714\n",
      "Epoch 58/1000\n",
      "1/1 [==============================] - 0s 45ms/step - loss: 0.0021 - accuracy: 1.0000 - val_loss: 0.6913 - val_accuracy: 0.5714\n"
     ]
    },
    {
     "name": "stdout",
     "output_type": "stream",
     "text": [
      "Epoch 59/1000\n",
      "1/1 [==============================] - 0s 45ms/step - loss: 0.0017 - accuracy: 1.0000 - val_loss: 0.6846 - val_accuracy: 0.5714\n",
      "Epoch 60/1000\n",
      "1/1 [==============================] - 0s 44ms/step - loss: 0.0013 - accuracy: 1.0000 - val_loss: 0.6791 - val_accuracy: 0.5714\n",
      "Epoch 61/1000\n",
      "1/1 [==============================] - 0s 44ms/step - loss: 9.9737e-04 - accuracy: 1.0000 - val_loss: 0.6746 - val_accuracy: 0.5714\n",
      "Epoch 62/1000\n",
      "1/1 [==============================] - 0s 41ms/step - loss: 8.1899e-04 - accuracy: 1.0000 - val_loss: 0.6713 - val_accuracy: 0.5714\n",
      "Epoch 63/1000\n",
      "1/1 [==============================] - 0s 46ms/step - loss: 5.7250e-04 - accuracy: 1.0000 - val_loss: 0.6691 - val_accuracy: 0.5714\n",
      "Epoch 64/1000\n",
      "1/1 [==============================] - 0s 46ms/step - loss: 4.6967e-04 - accuracy: 1.0000 - val_loss: 0.6673 - val_accuracy: 0.5714\n",
      "Epoch 65/1000\n",
      "1/1 [==============================] - 0s 45ms/step - loss: 3.7524e-04 - accuracy: 1.0000 - val_loss: 0.6661 - val_accuracy: 0.5714\n",
      "Epoch 66/1000\n",
      "1/1 [==============================] - 0s 43ms/step - loss: 3.1021e-04 - accuracy: 1.0000 - val_loss: 0.6652 - val_accuracy: 0.5714\n",
      "Epoch 67/1000\n",
      "1/1 [==============================] - 0s 42ms/step - loss: 2.6447e-04 - accuracy: 1.0000 - val_loss: 0.6644 - val_accuracy: 0.5714\n",
      "Epoch 68/1000\n",
      "1/1 [==============================] - 0s 44ms/step - loss: 2.4659e-04 - accuracy: 1.0000 - val_loss: 0.6637 - val_accuracy: 0.5714\n",
      "Epoch 69/1000\n",
      "1/1 [==============================] - 0s 45ms/step - loss: 1.9599e-04 - accuracy: 1.0000 - val_loss: 0.6631 - val_accuracy: 0.5714\n",
      "Epoch 70/1000\n",
      "1/1 [==============================] - 0s 45ms/step - loss: 1.7720e-04 - accuracy: 1.0000 - val_loss: 0.6625 - val_accuracy: 0.5714\n",
      "Epoch 71/1000\n",
      "1/1 [==============================] - 0s 45ms/step - loss: 1.6607e-04 - accuracy: 1.0000 - val_loss: 0.6621 - val_accuracy: 0.5714\n",
      "Epoch 72/1000\n",
      "1/1 [==============================] - 0s 47ms/step - loss: 1.4717e-04 - accuracy: 1.0000 - val_loss: 0.6616 - val_accuracy: 0.5714\n",
      "Epoch 73/1000\n",
      "1/1 [==============================] - 0s 45ms/step - loss: 1.3919e-04 - accuracy: 1.0000 - val_loss: 0.6612 - val_accuracy: 0.5714\n",
      "Epoch 74/1000\n",
      "1/1 [==============================] - 0s 44ms/step - loss: 1.1098e-04 - accuracy: 1.0000 - val_loss: 0.6609 - val_accuracy: 0.5714\n",
      "Epoch 75/1000\n",
      "1/1 [==============================] - 0s 45ms/step - loss: 1.0164e-04 - accuracy: 1.0000 - val_loss: 0.6605 - val_accuracy: 0.5714\n",
      "Epoch 76/1000\n",
      "1/1 [==============================] - 0s 50ms/step - loss: 1.0132e-04 - accuracy: 1.0000 - val_loss: 0.6602 - val_accuracy: 0.5714\n",
      "Epoch 77/1000\n",
      "1/1 [==============================] - 0s 44ms/step - loss: 8.7414e-05 - accuracy: 1.0000 - val_loss: 0.6599 - val_accuracy: 0.5714\n",
      "Epoch 78/1000\n",
      "1/1 [==============================] - 0s 45ms/step - loss: 8.4105e-05 - accuracy: 1.0000 - val_loss: 0.6593 - val_accuracy: 0.5714\n",
      "Epoch 79/1000\n",
      "1/1 [==============================] - 0s 45ms/step - loss: 7.3406e-05 - accuracy: 1.0000 - val_loss: 0.6588 - val_accuracy: 0.5714\n",
      "Epoch 80/1000\n",
      "1/1 [==============================] - 0s 46ms/step - loss: 7.0679e-05 - accuracy: 1.0000 - val_loss: 0.6583 - val_accuracy: 0.5714\n",
      "Epoch 81/1000\n",
      "1/1 [==============================] - 0s 44ms/step - loss: 6.5210e-05 - accuracy: 1.0000 - val_loss: 0.6578 - val_accuracy: 0.5714\n",
      "Epoch 82/1000\n",
      "1/1 [==============================] - 0s 44ms/step - loss: 6.0334e-05 - accuracy: 1.0000 - val_loss: 0.6574 - val_accuracy: 0.5714\n",
      "Epoch 83/1000\n",
      "1/1 [==============================] - 0s 44ms/step - loss: 5.4289e-05 - accuracy: 1.0000 - val_loss: 0.6569 - val_accuracy: 0.5714\n",
      "Epoch 84/1000\n",
      "1/1 [==============================] - 0s 45ms/step - loss: 5.1253e-05 - accuracy: 1.0000 - val_loss: 0.6564 - val_accuracy: 0.5844\n",
      "Epoch 85/1000\n",
      "1/1 [==============================] - 0s 47ms/step - loss: 4.8258e-05 - accuracy: 1.0000 - val_loss: 0.6560 - val_accuracy: 0.5844\n",
      "Epoch 86/1000\n",
      "1/1 [==============================] - 0s 45ms/step - loss: 4.3844e-05 - accuracy: 1.0000 - val_loss: 0.6558 - val_accuracy: 0.5714\n",
      "Epoch 87/1000\n",
      "1/1 [==============================] - 0s 46ms/step - loss: 3.9043e-05 - accuracy: 1.0000 - val_loss: 0.6554 - val_accuracy: 0.5844\n",
      "Epoch 88/1000\n",
      "1/1 [==============================] - 0s 45ms/step - loss: 3.9411e-05 - accuracy: 1.0000 - val_loss: 0.6548 - val_accuracy: 0.5844\n",
      "Epoch 89/1000\n",
      "1/1 [==============================] - 0s 45ms/step - loss: 3.8548e-05 - accuracy: 1.0000 - val_loss: 0.6549 - val_accuracy: 0.5974\n",
      "Epoch 90/1000\n",
      "1/1 [==============================] - 0s 45ms/step - loss: 3.8884e-05 - accuracy: 1.0000 - val_loss: 0.6543 - val_accuracy: 0.5974\n",
      "Epoch 91/1000\n",
      "1/1 [==============================] - 0s 44ms/step - loss: 3.2501e-05 - accuracy: 1.0000 - val_loss: 0.6536 - val_accuracy: 0.5714\n",
      "Epoch 92/1000\n",
      "1/1 [==============================] - 0s 44ms/step - loss: 2.9930e-05 - accuracy: 1.0000 - val_loss: 0.6536 - val_accuracy: 0.6104\n",
      "Epoch 93/1000\n",
      "1/1 [==============================] - 0s 43ms/step - loss: 3.1095e-05 - accuracy: 1.0000 - val_loss: 0.6528 - val_accuracy: 0.5844\n",
      "Epoch 94/1000\n",
      "1/1 [==============================] - 0s 55ms/step - loss: 3.0092e-05 - accuracy: 1.0000 - val_loss: 0.6555 - val_accuracy: 0.7403\n",
      "Epoch 95/1000\n",
      "1/1 [==============================] - 0s 45ms/step - loss: 2.6594e-05 - accuracy: 1.0000 - val_loss: 0.6520 - val_accuracy: 0.5844\n",
      "Epoch 96/1000\n",
      "1/1 [==============================] - 0s 43ms/step - loss: 2.5227e-05 - accuracy: 1.0000 - val_loss: 0.6522 - val_accuracy: 0.6234\n",
      "Epoch 97/1000\n",
      "1/1 [==============================] - 0s 49ms/step - loss: 2.3028e-05 - accuracy: 1.0000 - val_loss: 0.6513 - val_accuracy: 0.6104\n",
      "Epoch 98/1000\n",
      "1/1 [==============================] - 0s 47ms/step - loss: 2.2452e-05 - accuracy: 1.0000 - val_loss: 0.6525 - val_accuracy: 0.7013\n",
      "Epoch 99/1000\n",
      "1/1 [==============================] - 0s 46ms/step - loss: 2.0443e-05 - accuracy: 1.0000 - val_loss: 0.6514 - val_accuracy: 0.6364\n",
      "Epoch 100/1000\n",
      "1/1 [==============================] - 0s 49ms/step - loss: 1.9524e-05 - accuracy: 1.0000 - val_loss: 0.6504 - val_accuracy: 0.6234\n",
      "Epoch 101/1000\n",
      "1/1 [==============================] - 0s 47ms/step - loss: 1.8105e-05 - accuracy: 1.0000 - val_loss: 0.6525 - val_accuracy: 0.7273\n",
      "Epoch 102/1000\n",
      "1/1 [==============================] - 0s 50ms/step - loss: 1.8430e-05 - accuracy: 1.0000 - val_loss: 0.6494 - val_accuracy: 0.6104\n",
      "Epoch 103/1000\n",
      "1/1 [==============================] - 0s 49ms/step - loss: 1.5862e-05 - accuracy: 1.0000 - val_loss: 0.6525 - val_accuracy: 0.7403\n",
      "Epoch 104/1000\n",
      "1/1 [==============================] - 0s 43ms/step - loss: 1.5037e-05 - accuracy: 1.0000 - val_loss: 0.6488 - val_accuracy: 0.6234\n",
      "Epoch 105/1000\n",
      "1/1 [==============================] - 0s 44ms/step - loss: 1.5933e-05 - accuracy: 1.0000 - val_loss: 0.6513 - val_accuracy: 0.7403\n",
      "Epoch 106/1000\n",
      "1/1 [==============================] - 0s 46ms/step - loss: 1.2929e-05 - accuracy: 1.0000 - val_loss: 0.6487 - val_accuracy: 0.6753\n",
      "Epoch 107/1000\n",
      "1/1 [==============================] - 0s 44ms/step - loss: 1.2102e-05 - accuracy: 1.0000 - val_loss: 0.6502 - val_accuracy: 0.7403\n",
      "Epoch 108/1000\n",
      "1/1 [==============================] - 0s 44ms/step - loss: 1.2164e-05 - accuracy: 1.0000 - val_loss: 0.6479 - val_accuracy: 0.6883\n",
      "Epoch 109/1000\n",
      "1/1 [==============================] - 0s 58ms/step - loss: 1.0250e-05 - accuracy: 1.0000 - val_loss: 0.6507 - val_accuracy: 0.7662\n",
      "Epoch 110/1000\n",
      "1/1 [==============================] - 0s 43ms/step - loss: 1.0486e-05 - accuracy: 1.0000 - val_loss: 0.6468 - val_accuracy: 0.6623\n",
      "Epoch 111/1000\n",
      "1/1 [==============================] - 0s 43ms/step - loss: 9.4267e-06 - accuracy: 1.0000 - val_loss: 0.6494 - val_accuracy: 0.7532\n",
      "Epoch 112/1000\n",
      "1/1 [==============================] - 0s 44ms/step - loss: 9.6373e-06 - accuracy: 1.0000 - val_loss: 0.6483 - val_accuracy: 0.7532\n",
      "Epoch 113/1000\n",
      "1/1 [==============================] - 0s 43ms/step - loss: 8.6557e-06 - accuracy: 1.0000 - val_loss: 0.6484 - val_accuracy: 0.7532\n",
      "Epoch 114/1000\n",
      "1/1 [==============================] - 0s 61ms/step - loss: 8.3260e-06 - accuracy: 1.0000 - val_loss: 0.6486 - val_accuracy: 0.7792\n",
      "Epoch 115/1000\n"
     ]
    },
    {
     "name": "stdout",
     "output_type": "stream",
     "text": [
      "1/1 [==============================] - 0s 51ms/step - loss: 7.6479e-06 - accuracy: 1.0000 - val_loss: 0.6472 - val_accuracy: 0.7532\n",
      "Epoch 116/1000\n",
      "1/1 [==============================] - 0s 50ms/step - loss: 6.9110e-06 - accuracy: 1.0000 - val_loss: 0.6467 - val_accuracy: 0.7532\n",
      "Epoch 117/1000\n",
      "1/1 [==============================] - 0s 48ms/step - loss: 6.6974e-06 - accuracy: 1.0000 - val_loss: 0.6476 - val_accuracy: 0.7662\n",
      "Epoch 118/1000\n",
      "1/1 [==============================] - 0s 47ms/step - loss: 7.5535e-06 - accuracy: 1.0000 - val_loss: 0.6541 - val_accuracy: 0.6234\n",
      "Epoch 119/1000\n",
      "1/1 [==============================] - 0s 52ms/step - loss: 7.6340e-06 - accuracy: 1.0000 - val_loss: 0.6441 - val_accuracy: 0.7403\n",
      "Epoch 120/1000\n",
      "1/1 [==============================] - 0s 49ms/step - loss: 6.2964e-06 - accuracy: 1.0000 - val_loss: 0.6487 - val_accuracy: 0.7143\n",
      "Epoch 121/1000\n",
      "1/1 [==============================] - 0s 45ms/step - loss: 5.6895e-06 - accuracy: 1.0000 - val_loss: 0.6490 - val_accuracy: 0.7013\n",
      "Epoch 122/1000\n",
      "1/1 [==============================] - 0s 45ms/step - loss: 5.2947e-06 - accuracy: 1.0000 - val_loss: 0.6498 - val_accuracy: 0.7013\n",
      "Epoch 123/1000\n",
      "1/1 [==============================] - 0s 45ms/step - loss: 5.1043e-06 - accuracy: 1.0000 - val_loss: 0.6445 - val_accuracy: 0.7662\n",
      "Epoch 124/1000\n",
      "1/1 [==============================] - 0s 46ms/step - loss: 4.4556e-06 - accuracy: 1.0000 - val_loss: 0.6474 - val_accuracy: 0.7013\n",
      "Epoch 125/1000\n",
      "1/1 [==============================] - 0s 58ms/step - loss: 4.8148e-06 - accuracy: 1.0000 - val_loss: 0.6429 - val_accuracy: 0.8052\n",
      "Epoch 126/1000\n",
      "1/1 [==============================] - 0s 44ms/step - loss: 4.6770e-06 - accuracy: 1.0000 - val_loss: 0.6530 - val_accuracy: 0.5844\n",
      "Epoch 127/1000\n",
      "1/1 [==============================] - 0s 55ms/step - loss: 4.7250e-06 - accuracy: 1.0000 - val_loss: 0.6451 - val_accuracy: 0.7143\n",
      "Epoch 128/1000\n",
      "1/1 [==============================] - 0s 47ms/step - loss: 3.9215e-06 - accuracy: 1.0000 - val_loss: 0.6456 - val_accuracy: 0.7013\n",
      "Epoch 129/1000\n",
      "1/1 [==============================] - 0s 45ms/step - loss: 3.5670e-06 - accuracy: 1.0000 - val_loss: 0.6509 - val_accuracy: 0.5974\n",
      "Epoch 130/1000\n",
      "1/1 [==============================] - 0s 46ms/step - loss: 3.5051e-06 - accuracy: 1.0000 - val_loss: 0.6477 - val_accuracy: 0.6623\n",
      "Epoch 131/1000\n",
      "1/1 [==============================] - 0s 46ms/step - loss: 3.1660e-06 - accuracy: 1.0000 - val_loss: 0.6669 - val_accuracy: 0.5844\n",
      "Epoch 132/1000\n",
      "1/1 [==============================] - 0s 46ms/step - loss: 3.4555e-06 - accuracy: 1.0000 - val_loss: 0.6360 - val_accuracy: 0.6623\n",
      "Epoch 133/1000\n",
      "1/1 [==============================] - 0s 46ms/step - loss: 3.3177e-06 - accuracy: 1.0000 - val_loss: 0.6733 - val_accuracy: 0.5325\n",
      "Epoch 134/1000\n",
      "1/1 [==============================] - 0s 47ms/step - loss: 3.1304e-06 - accuracy: 1.0000 - val_loss: 0.6361 - val_accuracy: 0.7273\n",
      "Epoch 135/1000\n",
      "1/1 [==============================] - 0s 47ms/step - loss: 3.1288e-06 - accuracy: 1.0000 - val_loss: 0.6728 - val_accuracy: 0.5195\n",
      "Epoch 136/1000\n",
      "1/1 [==============================] - 0s 46ms/step - loss: 2.9400e-06 - accuracy: 1.0000 - val_loss: 0.6351 - val_accuracy: 0.7532\n",
      "Epoch 137/1000\n",
      "1/1 [==============================] - 0s 44ms/step - loss: 2.3362e-06 - accuracy: 1.0000 - val_loss: 0.6656 - val_accuracy: 0.5844\n",
      "Epoch 138/1000\n",
      "1/1 [==============================] - 0s 44ms/step - loss: 2.6969e-06 - accuracy: 1.0000 - val_loss: 0.6357 - val_accuracy: 0.8052\n",
      "Epoch 139/1000\n",
      "1/1 [==============================] - 0s 45ms/step - loss: 2.1891e-06 - accuracy: 1.0000 - val_loss: 0.6597 - val_accuracy: 0.5974\n",
      "Epoch 140/1000\n",
      "1/1 [==============================] - 0s 46ms/step - loss: 1.9522e-06 - accuracy: 1.0000 - val_loss: 0.6509 - val_accuracy: 0.6234\n",
      "Epoch 141/1000\n",
      "1/1 [==============================] - 0s 55ms/step - loss: 1.7061e-06 - accuracy: 1.0000 - val_loss: 0.6510 - val_accuracy: 0.6234\n",
      "Epoch 142/1000\n",
      "1/1 [==============================] - 0s 45ms/step - loss: 1.6225e-06 - accuracy: 1.0000 - val_loss: 0.6472 - val_accuracy: 0.5974\n",
      "Epoch 143/1000\n",
      "1/1 [==============================] - 0s 46ms/step - loss: 1.7432e-06 - accuracy: 1.0000 - val_loss: 0.6551 - val_accuracy: 0.5974\n",
      "Epoch 144/1000\n",
      "1/1 [==============================] - 0s 46ms/step - loss: 1.6921e-06 - accuracy: 1.0000 - val_loss: 0.6593 - val_accuracy: 0.5844\n",
      "Epoch 145/1000\n",
      "1/1 [==============================] - 0s 46ms/step - loss: 1.6116e-06 - accuracy: 1.0000 - val_loss: 0.6548 - val_accuracy: 0.5974\n",
      "Epoch 146/1000\n",
      "1/1 [==============================] - 0s 45ms/step - loss: 1.2571e-06 - accuracy: 1.0000 - val_loss: 0.6527 - val_accuracy: 0.6104\n",
      "Epoch 147/1000\n",
      "1/1 [==============================] - 0s 46ms/step - loss: 1.4166e-06 - accuracy: 1.0000 - val_loss: 0.6585 - val_accuracy: 0.5844\n",
      "Epoch 148/1000\n",
      "1/1 [==============================] - 0s 45ms/step - loss: 1.3330e-06 - accuracy: 1.0000 - val_loss: 0.6523 - val_accuracy: 0.5974\n",
      "Epoch 149/1000\n",
      "1/1 [==============================] - 0s 46ms/step - loss: 1.3810e-06 - accuracy: 1.0000 - val_loss: 0.6568 - val_accuracy: 0.5974\n",
      "Epoch 150/1000\n",
      "1/1 [==============================] - 0s 48ms/step - loss: 1.1286e-06 - accuracy: 1.0000 - val_loss: 0.6697 - val_accuracy: 0.5195\n",
      "Epoch 151/1000\n",
      "1/1 [==============================] - 0s 48ms/step - loss: 1.1456e-06 - accuracy: 1.0000 - val_loss: 0.6654 - val_accuracy: 0.5455\n",
      "Epoch 152/1000\n",
      "1/1 [==============================] - 0s 48ms/step - loss: 9.5832e-07 - accuracy: 1.0000 - val_loss: 0.6612 - val_accuracy: 0.5714\n",
      "Epoch 153/1000\n",
      "1/1 [==============================] - 0s 48ms/step - loss: 8.9794e-07 - accuracy: 1.0000 - val_loss: 0.6644 - val_accuracy: 0.5455\n",
      "Epoch 154/1000\n",
      "1/1 [==============================] - 0s 48ms/step - loss: 9.5522e-07 - accuracy: 1.0000 - val_loss: 0.6558 - val_accuracy: 0.5844\n",
      "Epoch 155/1000\n",
      "1/1 [==============================] - 0s 44ms/step - loss: 8.3292e-07 - accuracy: 1.0000 - val_loss: 0.6650 - val_accuracy: 0.5455\n",
      "Epoch 156/1000\n",
      "1/1 [==============================] - 0s 46ms/step - loss: 8.2363e-07 - accuracy: 1.0000 - val_loss: 0.6567 - val_accuracy: 0.5844\n",
      "Epoch 157/1000\n",
      "1/1 [==============================] - 0s 45ms/step - loss: 1.0837e-06 - accuracy: 1.0000 - val_loss: 0.6608 - val_accuracy: 0.5714\n",
      "Epoch 158/1000\n",
      "1/1 [==============================] - 0s 45ms/step - loss: 7.2609e-07 - accuracy: 1.0000 - val_loss: 0.6702 - val_accuracy: 0.5195\n",
      "Epoch 159/1000\n",
      "1/1 [==============================] - 0s 45ms/step - loss: 6.8584e-07 - accuracy: 1.0000 - val_loss: 0.6717 - val_accuracy: 0.5065\n",
      "Epoch 160/1000\n",
      "1/1 [==============================] - 0s 45ms/step - loss: 7.3848e-07 - accuracy: 1.0000 - val_loss: 0.6741 - val_accuracy: 0.5065\n",
      "Epoch 161/1000\n",
      "1/1 [==============================] - 0s 44ms/step - loss: 6.7500e-07 - accuracy: 1.0000 - val_loss: 0.6612 - val_accuracy: 0.5584\n",
      "Epoch 162/1000\n",
      "1/1 [==============================] - 0s 46ms/step - loss: 5.9140e-07 - accuracy: 1.0000 - val_loss: 0.6809 - val_accuracy: 0.4805\n",
      "Epoch 163/1000\n",
      "1/1 [==============================] - 0s 47ms/step - loss: 6.1617e-07 - accuracy: 1.0000 - val_loss: 0.6574 - val_accuracy: 0.5714\n",
      "Epoch 164/1000\n",
      "1/1 [==============================] - 0s 44ms/step - loss: 5.5270e-07 - accuracy: 1.0000 - val_loss: 0.6806 - val_accuracy: 0.4805\n",
      "Epoch 165/1000\n",
      "1/1 [==============================] - 0s 45ms/step - loss: 5.7902e-07 - accuracy: 1.0000 - val_loss: 0.6902 - val_accuracy: 0.4675\n",
      "Epoch 166/1000\n",
      "1/1 [==============================] - 0s 45ms/step - loss: 5.4341e-07 - accuracy: 1.0000 - val_loss: 0.6683 - val_accuracy: 0.5195\n",
      "Epoch 167/1000\n",
      "1/1 [==============================] - 0s 47ms/step - loss: 4.0098e-07 - accuracy: 1.0000 - val_loss: 0.6704 - val_accuracy: 0.5065\n",
      "Epoch 168/1000\n",
      "1/1 [==============================] - 0s 46ms/step - loss: 4.7064e-07 - accuracy: 1.0000 - val_loss: 0.6785 - val_accuracy: 0.4805\n",
      "Epoch 169/1000\n",
      "1/1 [==============================] - 0s 46ms/step - loss: 3.9014e-07 - accuracy: 1.0000 - val_loss: 0.6785 - val_accuracy: 0.4805\n",
      "Epoch 170/1000\n",
      "1/1 [==============================] - 0s 46ms/step - loss: 3.9788e-07 - accuracy: 1.0000 - val_loss: 0.6798 - val_accuracy: 0.4805\n"
     ]
    },
    {
     "name": "stdout",
     "output_type": "stream",
     "text": [
      "Epoch 171/1000\n",
      "1/1 [==============================] - 0s 46ms/step - loss: 3.8240e-07 - accuracy: 1.0000 - val_loss: 0.6725 - val_accuracy: 0.5065\n",
      "Epoch 172/1000\n",
      "1/1 [==============================] - 0s 45ms/step - loss: 4.3813e-07 - accuracy: 1.0000 - val_loss: 0.6902 - val_accuracy: 0.4805\n",
      "Epoch 173/1000\n",
      "1/1 [==============================] - 0s 46ms/step - loss: 3.2202e-07 - accuracy: 1.0000 - val_loss: 0.6738 - val_accuracy: 0.5065\n",
      "Epoch 174/1000\n",
      "1/1 [==============================] - 0s 46ms/step - loss: 3.4369e-07 - accuracy: 1.0000 - val_loss: 0.6884 - val_accuracy: 0.4805\n",
      "Epoch 175/1000\n",
      "1/1 [==============================] - 0s 53ms/step - loss: 3.2202e-07 - accuracy: 1.0000 - val_loss: 0.6810 - val_accuracy: 0.4805\n",
      "1/1 [==============================] - 0s 18ms/step - loss: 0.6429 - accuracy: 0.8052\n",
      "np.shape(X_test)= (181, 900, 1)\n",
      "Accuracy=  0.8051947951316833\n"
     ]
    }
   ],
   "source": [
    "#VGG16_1D\n",
    "\n",
    "accuracy=0\n",
    "acc_crs=np.array([])\n",
    "##for i in range (10):\n",
    "##    if accuracy<0.2 :\n",
    "\n",
    "verbose, epochs, batch_size = 1, 1000, 80\n",
    "n_timesteps, n_features, n_outputs = X_train.shape[1], X_train.shape[2], y_train_cat.shape[1]\n",
    "steps_per_epoch = len(X_train)//batch_size\n",
    "validation_steps = len(X_valid)//batch_size # if you have test data\n",
    "\n",
    "\n",
    "\n",
    "model_crs = Sequential()\n",
    "#model_crs.add(Conv1D(input_shape=x_train.shape[1:],filters=64,kernel_size=9,padding=\"same\", activation=\"relu\"))\n",
    "model_crs.add(Conv1D(filters=128, kernel_size=12, strides=1, activation='relu', input_shape=(n_timesteps,n_features))) #Replaced\n",
    "model_crs.add(BatchNormalization())\n",
    "model_crs.add(MaxPooling1D(pool_size=2,strides=3))\n",
    "\n",
    "model_crs.add(Conv1D(filters=32, kernel_size=7, strides=1, padding=\"same\", activation=\"relu\"))\n",
    "model_crs.add(BatchNormalization())\n",
    "model_crs.add(MaxPooling1D(pool_size=2,strides=2))\n",
    "\n",
    "model_crs.add(Conv1D(filters=32, kernel_size=10, strides=1, padding=\"same\", activation=\"relu\"))\n",
    "model_crs.add(Conv1D(filters=128, kernel_size=5, strides=2, padding=\"same\", activation=\"relu\"))\n",
    "model_crs.add(MaxPooling1D(pool_size=2,strides=2))\n",
    "\n",
    "model_crs.add(Conv1D(filters=256, kernel_size=15, strides=1, padding=\"same\", activation=\"relu\"))\n",
    "model_crs.add(MaxPooling1D(pool_size=2,strides=2))\n",
    "\n",
    "model_crs.add(Conv1D(filters=512, kernel_size=5, strides=1, padding=\"same\", activation=\"relu\"))\n",
    "#model_crs.add(Conv1D(filters=128, kernel_size=3, strides=1, padding=\"same\", activation=\"relu\"))\n",
    "\n",
    "\n",
    "model_crs.add(Flatten())\n",
    "model_crs.add(Dropout(0.1))\n",
    "model_crs.add(Dense(units=512,activation=\"relu\"))\n",
    "#model_crs.add(Dense(units=2048,activation=\"relu\"))\n",
    "model_crs.add(Dense(n_outputs, activation='softmax'))   #Replaced here from old Model\n",
    "\n",
    "model_crs.compile(optimizer='rmsprop', loss='categorical_crossentropy', metrics=['accuracy'])\n",
    "# fit network   #CategoricalCrossentropy #sparse_categorical_crossentropy #SparseCategoricalCrossentropy\n",
    "\n",
    "earlystopping = callbacks.EarlyStopping(monitor =\"val_accuracy\", mode =\"max\", patience = 50, restore_best_weights = True)\n",
    "\n",
    "model_crs.fit(X_train, y_train_cat, epochs=epochs, batch_size=batch_size, verbose=verbose, validation_data = (X_valid, y_valid_cat), callbacks =[earlystopping])\n",
    "\n",
    "_, accuracy = model_crs.evaluate(X_valid, y_valid_cat, batch_size=batch_size, verbose=1)\n",
    "\n",
    "print('np.shape(X_test)=',np.shape(X_test))\n",
    "\n",
    "print('Accuracy= ', accuracy)\n",
    "\n",
    "#y_pred_vgg = model_crs.predict_classes(X_test)\n"
   ]
  },
  {
   "cell_type": "code",
   "execution_count": 24,
   "metadata": {},
   "outputs": [],
   "source": [
    "def maxindx(ar):\n",
    "    ar_cpy=np.array(ar)\n",
    "    pred=np.argmax(ar,axis=1)\n",
    "    for i in range (len(pred)):\n",
    "        if pred[i]==0:\n",
    "            ar_cpy[i,0]=-1000\n",
    "    pred=np.argmax(ar_cpy,axis=1)\n",
    "    return(pred)"
   ]
  },
  {
   "cell_type": "code",
   "execution_count": 25,
   "metadata": {},
   "outputs": [
    {
     "name": "stdout",
     "output_type": "stream",
     "text": [
      "6/6 [==============================] - 0s 24ms/step\n",
      "array([[18, 58],\n",
      "       [21, 84]], dtype=int64)\n",
      "              precision    recall  f1-score   support\n",
      "\n",
      "           1       0.46      0.24      0.31        76\n",
      "           2       0.59      0.80      0.68       105\n",
      "\n",
      "    accuracy                           0.56       181\n",
      "   macro avg       0.53      0.52      0.50       181\n",
      "weighted avg       0.54      0.56      0.53       181\n",
      "\n"
     ]
    }
   ],
   "source": [
    "predict_x=model_crs.predict(X_test)              # Function 1\n",
    "\n",
    "y_pred_crs=maxindx(predict_x)                    # function from augment.py to remove 0 index predictions\n",
    "\n",
    "#y_pred_crs = model_crs.predict_classes(X_test)\n",
    "\n",
    "cm = confusion_matrix(y_test, y_pred_crs)\n",
    "fullprint(cm)\n",
    "acc3=accuracy_score(y_test, y_pred_crs)\n",
    "\n",
    "print(classification_report(y_test, y_pred_crs))\n",
    "\n",
    "#sns.heatmap(cm, annot=True)\n",
    "\n",
    "#plt.imshow(cm)"
   ]
  },
  {
   "cell_type": "code",
   "execution_count": 26,
   "metadata": {},
   "outputs": [
    {
     "name": "stdout",
     "output_type": "stream",
     "text": [
      "Epoch 1/1000\n",
      "1/1 [==============================] - 1s 1s/step - loss: 1.0305 - accuracy: 0.4416 - val_loss: 17.2957 - val_accuracy: 0.5714\n",
      "Epoch 2/1000\n",
      "1/1 [==============================] - 0s 70ms/step - loss: 473.6895 - accuracy: 0.5714 - val_loss: 0.9917 - val_accuracy: 0.4286\n",
      "Epoch 3/1000\n",
      "1/1 [==============================] - 0s 73ms/step - loss: 4.3910 - accuracy: 0.4286 - val_loss: 1.0723 - val_accuracy: 0.4286\n",
      "Epoch 4/1000\n",
      "1/1 [==============================] - 0s 75ms/step - loss: 1.5649 - accuracy: 0.4286 - val_loss: 1.0862 - val_accuracy: 0.5714\n",
      "Epoch 5/1000\n",
      "1/1 [==============================] - 0s 74ms/step - loss: 0.8529 - accuracy: 0.4286 - val_loss: 1.0414 - val_accuracy: 0.5714\n",
      "Epoch 6/1000\n",
      "1/1 [==============================] - 0s 60ms/step - loss: 0.9542 - accuracy: 0.5714 - val_loss: 1.0753 - val_accuracy: 0.5714\n",
      "Epoch 7/1000\n",
      "1/1 [==============================] - 0s 59ms/step - loss: 0.8302 - accuracy: 0.4286 - val_loss: 1.0549 - val_accuracy: 0.5714\n",
      "Epoch 8/1000\n",
      "1/1 [==============================] - 0s 67ms/step - loss: 0.7258 - accuracy: 0.5714 - val_loss: 1.0416 - val_accuracy: 0.5714\n",
      "Epoch 9/1000\n",
      "1/1 [==============================] - 0s 74ms/step - loss: 0.6965 - accuracy: 0.5714 - val_loss: 1.0273 - val_accuracy: 0.5714\n",
      "Epoch 10/1000\n",
      "1/1 [==============================] - 0s 70ms/step - loss: 0.6780 - accuracy: 0.5714 - val_loss: 1.0104 - val_accuracy: 0.5714\n",
      "Epoch 11/1000\n",
      "1/1 [==============================] - 0s 79ms/step - loss: 0.6665 - accuracy: 0.5714 - val_loss: 0.9992 - val_accuracy: 0.5714\n",
      "Epoch 12/1000\n",
      "1/1 [==============================] - 0s 69ms/step - loss: 0.6529 - accuracy: 0.5844 - val_loss: 0.9731 - val_accuracy: 0.5714\n",
      "Epoch 13/1000\n",
      "1/1 [==============================] - 0s 73ms/step - loss: 0.6557 - accuracy: 0.5714 - val_loss: 0.9980 - val_accuracy: 0.4286\n",
      "Epoch 14/1000\n",
      "1/1 [==============================] - 0s 67ms/step - loss: 0.7891 - accuracy: 0.4286 - val_loss: 0.9735 - val_accuracy: 0.5714\n",
      "Epoch 15/1000\n",
      "1/1 [==============================] - 0s 67ms/step - loss: 0.6968 - accuracy: 0.5714 - val_loss: 0.9927 - val_accuracy: 0.5714\n",
      "Epoch 16/1000\n",
      "1/1 [==============================] - 0s 65ms/step - loss: 0.6545 - accuracy: 0.9221 - val_loss: 0.9712 - val_accuracy: 0.5714\n",
      "Epoch 17/1000\n",
      "1/1 [==============================] - 0s 62ms/step - loss: 0.6358 - accuracy: 0.5714 - val_loss: 0.9737 - val_accuracy: 0.5714\n",
      "Epoch 18/1000\n",
      "1/1 [==============================] - 0s 66ms/step - loss: 0.6253 - accuracy: 0.9091 - val_loss: 0.9379 - val_accuracy: 0.5714\n",
      "Epoch 19/1000\n",
      "1/1 [==============================] - 0s 67ms/step - loss: 0.6430 - accuracy: 0.5714 - val_loss: 0.9776 - val_accuracy: 0.5714\n",
      "Epoch 20/1000\n",
      "1/1 [==============================] - 0s 66ms/step - loss: 0.6706 - accuracy: 0.4935 - val_loss: 0.9467 - val_accuracy: 0.5714\n",
      "Epoch 21/1000\n",
      "1/1 [==============================] - 0s 67ms/step - loss: 0.6168 - accuracy: 0.5714 - val_loss: 0.9773 - val_accuracy: 0.5714\n",
      "Epoch 22/1000\n",
      "1/1 [==============================] - 0s 65ms/step - loss: 0.6134 - accuracy: 0.6104 - val_loss: 0.9292 - val_accuracy: 0.5714\n",
      "Epoch 23/1000\n",
      "1/1 [==============================] - 0s 65ms/step - loss: 0.5609 - accuracy: 0.5844 - val_loss: 0.9678 - val_accuracy: 0.5714\n",
      "Epoch 24/1000\n",
      "1/1 [==============================] - 0s 63ms/step - loss: 0.6289 - accuracy: 0.5325 - val_loss: 0.8862 - val_accuracy: 0.5714\n",
      "Epoch 25/1000\n",
      "1/1 [==============================] - 0s 68ms/step - loss: 0.8681 - accuracy: 0.5714 - val_loss: 0.9827 - val_accuracy: 0.4286\n",
      "Epoch 26/1000\n",
      "1/1 [==============================] - 0s 69ms/step - loss: 0.6714 - accuracy: 0.4675 - val_loss: 0.9573 - val_accuracy: 0.5714\n",
      "Epoch 27/1000\n",
      "1/1 [==============================] - 0s 65ms/step - loss: 0.5697 - accuracy: 0.9481 - val_loss: 0.9195 - val_accuracy: 0.5714\n",
      "Epoch 28/1000\n",
      "1/1 [==============================] - 1s 1s/step - loss: 0.4739 - accuracy: 0.9740 - val_loss: 0.8843 - val_accuracy: 0.5714\n",
      "Epoch 29/1000\n",
      "1/1 [==============================] - 0s 64ms/step - loss: 0.3794 - accuracy: 0.9091 - val_loss: 0.8219 - val_accuracy: 0.5714\n",
      "Epoch 30/1000\n",
      "1/1 [==============================] - 0s 105ms/step - loss: 2.0638 - accuracy: 0.5714 - val_loss: 0.9744 - val_accuracy: 0.5844\n",
      "Epoch 31/1000\n",
      "1/1 [==============================] - 0s 62ms/step - loss: 0.6915 - accuracy: 0.5065 - val_loss: 0.9162 - val_accuracy: 0.5714\n",
      "Epoch 32/1000\n",
      "1/1 [==============================] - 0s 61ms/step - loss: 0.6579 - accuracy: 0.4545 - val_loss: 0.8765 - val_accuracy: 0.5714\n",
      "Epoch 33/1000\n",
      "1/1 [==============================] - 0s 61ms/step - loss: 0.5729 - accuracy: 0.6234 - val_loss: 0.8455 - val_accuracy: 0.5714\n",
      "Epoch 34/1000\n",
      "1/1 [==============================] - 0s 61ms/step - loss: 0.4925 - accuracy: 0.9091 - val_loss: 0.7949 - val_accuracy: 0.5714\n",
      "Epoch 35/1000\n",
      "1/1 [==============================] - 0s 62ms/step - loss: 0.4140 - accuracy: 0.7792 - val_loss: 0.8451 - val_accuracy: 0.4286\n",
      "Epoch 36/1000\n",
      "1/1 [==============================] - 0s 61ms/step - loss: 0.5715 - accuracy: 0.5714 - val_loss: 0.8113 - val_accuracy: 0.5714\n",
      "Epoch 37/1000\n",
      "1/1 [==============================] - 0s 66ms/step - loss: 0.4096 - accuracy: 0.7792 - val_loss: 0.8107 - val_accuracy: 0.5714\n",
      "Epoch 38/1000\n",
      "1/1 [==============================] - 0s 63ms/step - loss: 0.3060 - accuracy: 0.9870 - val_loss: 0.7751 - val_accuracy: 0.5714\n",
      "Epoch 39/1000\n",
      "1/1 [==============================] - 0s 62ms/step - loss: 0.1459 - accuracy: 0.9610 - val_loss: 0.9083 - val_accuracy: 0.4286\n",
      "Epoch 40/1000\n",
      "1/1 [==============================] - 0s 63ms/step - loss: 5.5767 - accuracy: 0.4286 - val_loss: 0.8440 - val_accuracy: 0.5714\n",
      "Epoch 41/1000\n",
      "1/1 [==============================] - 0s 60ms/step - loss: 3.0624 - accuracy: 0.5714 - val_loss: 0.8788 - val_accuracy: 0.4286\n",
      "Epoch 42/1000\n",
      "1/1 [==============================] - 0s 61ms/step - loss: 0.7386 - accuracy: 0.4416 - val_loss: 0.9132 - val_accuracy: 0.5714\n",
      "Epoch 43/1000\n",
      "1/1 [==============================] - 1s 1s/step - loss: 0.6249 - accuracy: 0.8442 - val_loss: 0.8302 - val_accuracy: 0.5714\n",
      "Epoch 44/1000\n",
      "1/1 [==============================] - 0s 63ms/step - loss: 0.5168 - accuracy: 0.8831 - val_loss: 0.7848 - val_accuracy: 0.5714\n",
      "Epoch 45/1000\n",
      "1/1 [==============================] - 0s 64ms/step - loss: 0.7990 - accuracy: 0.5714 - val_loss: 0.8073 - val_accuracy: 0.4286\n",
      "Epoch 46/1000\n",
      "1/1 [==============================] - 0s 63ms/step - loss: 1.5603 - accuracy: 0.4416 - val_loss: 0.8115 - val_accuracy: 0.5844\n",
      "Epoch 47/1000\n",
      "1/1 [==============================] - 0s 67ms/step - loss: 0.6037 - accuracy: 0.7403 - val_loss: 0.8077 - val_accuracy: 0.5714\n",
      "Epoch 48/1000\n",
      "1/1 [==============================] - 0s 62ms/step - loss: 0.5526 - accuracy: 0.7403 - val_loss: 0.7933 - val_accuracy: 0.5714\n",
      "Epoch 49/1000\n",
      "1/1 [==============================] - 0s 64ms/step - loss: 0.5107 - accuracy: 0.7792 - val_loss: 0.7811 - val_accuracy: 0.5714\n",
      "Epoch 50/1000\n",
      "1/1 [==============================] - 0s 63ms/step - loss: 0.4514 - accuracy: 0.8701 - val_loss: 0.7524 - val_accuracy: 0.5714\n",
      "Epoch 51/1000\n",
      "1/1 [==============================] - 0s 62ms/step - loss: 0.4549 - accuracy: 0.6753 - val_loss: 0.7874 - val_accuracy: 0.4286\n",
      "Epoch 52/1000\n",
      "1/1 [==============================] - 0s 65ms/step - loss: 0.6644 - accuracy: 0.5455 - val_loss: 0.8312 - val_accuracy: 0.5714\n",
      "Epoch 53/1000\n",
      "1/1 [==============================] - 0s 65ms/step - loss: 0.3960 - accuracy: 0.8831 - val_loss: 0.8038 - val_accuracy: 0.5714\n",
      "Epoch 54/1000\n",
      "1/1 [==============================] - 0s 66ms/step - loss: 0.2895 - accuracy: 0.9610 - val_loss: 0.7603 - val_accuracy: 0.5714\n",
      "Epoch 55/1000\n",
      "1/1 [==============================] - 0s 62ms/step - loss: 0.1931 - accuracy: 0.9740 - val_loss: 0.7451 - val_accuracy: 0.5714\n",
      "Epoch 56/1000\n",
      "1/1 [==============================] - 0s 65ms/step - loss: 0.1722 - accuracy: 0.9740 - val_loss: 0.8626 - val_accuracy: 0.5714\n",
      "Epoch 57/1000\n",
      "1/1 [==============================] - 0s 63ms/step - loss: 0.8677 - accuracy: 0.6104 - val_loss: 0.8211 - val_accuracy: 0.4286\n",
      "Epoch 58/1000\n",
      "1/1 [==============================] - 1s 1s/step - loss: 1.0166 - accuracy: 0.4545 - val_loss: 0.9394 - val_accuracy: 0.5714\n"
     ]
    },
    {
     "name": "stdout",
     "output_type": "stream",
     "text": [
      "Epoch 59/1000\n",
      "1/1 [==============================] - 0s 62ms/step - loss: 0.5985 - accuracy: 0.8052 - val_loss: 0.8530 - val_accuracy: 0.5714\n",
      "Epoch 60/1000\n",
      "1/1 [==============================] - 0s 62ms/step - loss: 0.3361 - accuracy: 0.9740 - val_loss: 0.7434 - val_accuracy: 0.4286\n",
      "Epoch 61/1000\n",
      "1/1 [==============================] - 0s 61ms/step - loss: 0.9598 - accuracy: 0.5584 - val_loss: 0.7321 - val_accuracy: 0.5714\n",
      "Epoch 62/1000\n",
      "1/1 [==============================] - 0s 63ms/step - loss: 0.9234 - accuracy: 0.5974 - val_loss: 0.7878 - val_accuracy: 0.4286\n",
      "Epoch 63/1000\n",
      "1/1 [==============================] - 0s 63ms/step - loss: 0.5438 - accuracy: 0.6494 - val_loss: 0.7990 - val_accuracy: 0.5714\n",
      "Epoch 64/1000\n",
      "1/1 [==============================] - 0s 63ms/step - loss: 0.2653 - accuracy: 0.9870 - val_loss: 0.7741 - val_accuracy: 0.5714\n",
      "Epoch 65/1000\n",
      "1/1 [==============================] - 0s 62ms/step - loss: 0.1521 - accuracy: 0.9870 - val_loss: 0.7401 - val_accuracy: 0.5714\n",
      "Epoch 66/1000\n",
      "1/1 [==============================] - 0s 62ms/step - loss: 0.0769 - accuracy: 1.0000 - val_loss: 0.7218 - val_accuracy: 0.5714\n",
      "Epoch 67/1000\n",
      "1/1 [==============================] - 0s 61ms/step - loss: 0.0498 - accuracy: 1.0000 - val_loss: 0.7249 - val_accuracy: 0.5714\n",
      "Epoch 68/1000\n",
      "1/1 [==============================] - 0s 62ms/step - loss: 0.0806 - accuracy: 0.9870 - val_loss: 0.7234 - val_accuracy: 0.5065\n",
      "Epoch 69/1000\n",
      "1/1 [==============================] - 0s 64ms/step - loss: 0.1259 - accuracy: 0.9610 - val_loss: 0.7274 - val_accuracy: 0.5714\n",
      "Epoch 70/1000\n",
      "1/1 [==============================] - 0s 76ms/step - loss: 0.0598 - accuracy: 1.0000 - val_loss: 0.7075 - val_accuracy: 0.5714\n",
      "Epoch 71/1000\n",
      "1/1 [==============================] - 0s 76ms/step - loss: 0.0077 - accuracy: 1.0000 - val_loss: 0.7007 - val_accuracy: 0.5714\n",
      "Epoch 72/1000\n",
      "1/1 [==============================] - 0s 74ms/step - loss: 0.0043 - accuracy: 1.0000 - val_loss: 0.6938 - val_accuracy: 0.5714\n",
      "Epoch 73/1000\n",
      "1/1 [==============================] - 2s 2s/step - loss: 0.0024 - accuracy: 1.0000 - val_loss: 0.6910 - val_accuracy: 0.5714\n",
      "Epoch 74/1000\n",
      "1/1 [==============================] - 0s 70ms/step - loss: 0.0014 - accuracy: 1.0000 - val_loss: 0.6915 - val_accuracy: 0.5714\n",
      "Epoch 75/1000\n",
      "1/1 [==============================] - 0s 72ms/step - loss: 9.8551e-04 - accuracy: 1.0000 - val_loss: 0.6943 - val_accuracy: 0.5714\n",
      "Epoch 76/1000\n",
      "1/1 [==============================] - 0s 70ms/step - loss: 6.8142e-04 - accuracy: 1.0000 - val_loss: 0.6992 - val_accuracy: 0.5714\n",
      "Epoch 77/1000\n",
      "1/1 [==============================] - 0s 61ms/step - loss: 4.7760e-04 - accuracy: 1.0000 - val_loss: 0.7050 - val_accuracy: 0.5714\n",
      "Epoch 78/1000\n",
      "1/1 [==============================] - 0s 64ms/step - loss: 4.3005e-04 - accuracy: 1.0000 - val_loss: 0.7083 - val_accuracy: 0.5714\n",
      "Epoch 79/1000\n",
      "1/1 [==============================] - 0s 66ms/step - loss: 2.7878e-04 - accuracy: 1.0000 - val_loss: 0.7156 - val_accuracy: 0.5714\n",
      "Epoch 80/1000\n",
      "1/1 [==============================] - 0s 76ms/step - loss: 2.7213e-04 - accuracy: 1.0000 - val_loss: 0.7093 - val_accuracy: 0.5714\n",
      "1/1 [==============================] - 0s 23ms/step - loss: 0.9744 - accuracy: 0.5844\n",
      "np.shape(X_test)= (181, 900, 1)\n",
      "Accuracy=  0.5844155550003052\n"
     ]
    }
   ],
   "source": [
    "#VGG16_1D\n",
    "\n",
    "accuracy=0\n",
    "acc_crs=np.array([])\n",
    "##for i in range (10):\n",
    "##    if accuracy<0.2 :\n",
    "\n",
    "verbose, epochs, batch_size = 1, 1000, 80\n",
    "n_timesteps, n_features, n_outputs = X_train.shape[1], X_train.shape[2], y_train_cat.shape[1]\n",
    "steps_per_epoch = len(X_train)//batch_size\n",
    "validation_steps = len(X_valid)//batch_size # if you have test data\n",
    "\n",
    "\n",
    "\n",
    "model_crs = Sequential()\n",
    "#model_crs.add(Conv1D(input_shape=x_train.shape[1:],filters=64,kernel_size=9,padding=\"same\", activation=\"relu\"))\n",
    "model_crs.add(Conv1D(filters=256, kernel_size=12, strides=1, activation='relu', input_shape=(n_timesteps,n_features))) #Replaced\n",
    "model_crs.add(BatchNormalization())\n",
    "model_crs.add(MaxPooling1D(pool_size=2,strides=3))\n",
    "\n",
    "model_crs.add(Conv1D(filters=64, kernel_size=7, strides=1, padding=\"same\", activation=\"relu\"))\n",
    "model_crs.add(BatchNormalization())\n",
    "model_crs.add(MaxPooling1D(pool_size=2,strides=2))\n",
    "\n",
    "model_crs.add(Conv1D(filters=64, kernel_size=10, strides=1, padding=\"same\", activation=\"relu\"))\n",
    "model_crs.add(Conv1D(filters=128, kernel_size=5, strides=2, padding=\"same\", activation=\"relu\"))\n",
    "model_crs.add(MaxPooling1D(pool_size=2,strides=2))\n",
    "\n",
    "model_crs.add(Conv1D(filters=512, kernel_size=15, strides=1, padding=\"same\", activation=\"relu\"))\n",
    "model_crs.add(MaxPooling1D(pool_size=2,strides=2))\n",
    "\n",
    "model_crs.add(Conv1D(filters=1024, kernel_size=5, strides=1, padding=\"same\", activation=\"relu\"))\n",
    "#model_crs.add(Conv1D(filters=128, kernel_size=3, strides=1, padding=\"same\", activation=\"relu\"))\n",
    "\n",
    "\n",
    "model_crs.add(Flatten())\n",
    "model_crs.add(Dropout(0.1))\n",
    "model_crs.add(Dense(units=512,activation=\"relu\"))\n",
    "#model_crs.add(Dense(units=2048,activation=\"relu\"))\n",
    "model_crs.add(Dense(n_outputs, activation='softmax'))   #Replaced here from old Model\n",
    "\n",
    "model_crs.compile(optimizer='rmsprop', loss='categorical_crossentropy', metrics=['accuracy'])\n",
    "# fit network   #CategoricalCrossentropy #sparse_categorical_crossentropy #SparseCategoricalCrossentropy\n",
    "\n",
    "earlystopping = callbacks.EarlyStopping(monitor =\"val_accuracy\", mode =\"max\", patience = 50, restore_best_weights = True)\n",
    "\n",
    "model_crs.fit(X_train, y_train_cat, epochs=epochs, batch_size=batch_size, verbose=verbose, validation_data = (X_valid, y_valid_cat), callbacks =[earlystopping])\n",
    "\n",
    "_, accuracy = model_crs.evaluate(X_valid, y_valid_cat, batch_size=batch_size, verbose=1)\n",
    "\n",
    "print('np.shape(X_test)=',np.shape(X_test))\n",
    "\n",
    "print('Accuracy= ', accuracy)\n",
    "\n",
    "#y_pred_vgg = model_crs.predict_classes(X_test)\n"
   ]
  },
  {
   "cell_type": "code",
   "execution_count": 27,
   "metadata": {},
   "outputs": [
    {
     "name": "stdout",
     "output_type": "stream",
     "text": [
      "6/6 [==============================] - 0s 15ms/step\n",
      "array([[  1,  75],\n",
      "       [  2, 103]], dtype=int64)\n",
      "              precision    recall  f1-score   support\n",
      "\n",
      "           1       0.33      0.01      0.03        76\n",
      "           2       0.58      0.98      0.73       105\n",
      "\n",
      "    accuracy                           0.57       181\n",
      "   macro avg       0.46      0.50      0.38       181\n",
      "weighted avg       0.48      0.57      0.43       181\n",
      "\n"
     ]
    }
   ],
   "source": [
    "predict_x=model_crs.predict(X_test)              # Function 1\n",
    "\n",
    "y_pred_crs=maxindx(predict_x)                    # function from augment.py to remove 0 index predictions\n",
    "\n",
    "#y_pred_crs = model_crs.predict_classes(X_test)\n",
    "\n",
    "cm = confusion_matrix(y_test, y_pred_crs)\n",
    "fullprint(cm)\n",
    "acc3=accuracy_score(y_test, y_pred_crs)\n",
    "\n",
    "print(classification_report(y_test, y_pred_crs))\n",
    "\n",
    "#sns.heatmap(cm, annot=True)\n",
    "\n",
    "#plt.imshow(cm)"
   ]
  },
  {
   "cell_type": "code",
   "execution_count": null,
   "metadata": {},
   "outputs": [],
   "source": []
  }
 ],
 "metadata": {
  "celltoolbar": "Raw Cell Format",
  "kernelspec": {
   "display_name": "Python 3 (ipykernel)",
   "language": "python",
   "name": "python3"
  },
  "language_info": {
   "codemirror_mode": {
    "name": "ipython",
    "version": 3
   },
   "file_extension": ".py",
   "mimetype": "text/x-python",
   "name": "python",
   "nbconvert_exporter": "python",
   "pygments_lexer": "ipython3",
   "version": "3.9.7"
  }
 },
 "nbformat": 4,
 "nbformat_minor": 4
}
