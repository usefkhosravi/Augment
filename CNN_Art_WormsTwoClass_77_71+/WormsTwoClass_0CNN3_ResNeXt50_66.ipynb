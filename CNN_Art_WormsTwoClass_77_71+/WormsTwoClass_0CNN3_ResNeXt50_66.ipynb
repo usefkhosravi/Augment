{
 "cells": [
  {
   "cell_type": "markdown",
   "metadata": {},
   "source": [
    "import time\n",
    "plc=1\n",
    "time.sleep(3000*plc)         #run after 1 houre = 3600 seconds"
   ]
  },
  {
   "cell_type": "code",
   "execution_count": 1,
   "metadata": {},
   "outputs": [
    {
     "data": {
      "text/html": [
       "<style>#notebook { padding-top:0px !important; } .container { width:100% !important; } .end_space { min-height:0px !important; } html, body, .container{ margin:0!important;padding:0!important;}</style>"
      ],
      "text/plain": [
       "<IPython.core.display.HTML object>"
      ]
     },
     "metadata": {},
     "output_type": "display_data"
    }
   ],
   "source": [
    "import os\n",
    "import glob\n",
    "import scipy\n",
    "import random\n",
    "import bisect\n",
    "import numpy as np\n",
    "import pandas as pd\n",
    "import seaborn as sns\n",
    "from scipy import signal\n",
    "from scipy.signal import find_peaks\n",
    "import matplotlib.pyplot as plt\n",
    "from preprocess import *                         #ماژول استخراج پنجره ها\n",
    "from data import *                          #ماژول محلی ورود داده ها\n",
    "from augment import *                            #ماژول های داده افزایی\n",
    "from lstm_cnn import *                           #ماژول های داده افزایی با lstm_cnn\n",
    "import augment\n",
    "import importlib\n",
    "importlib.reload(augment)\n",
    "import tensorflow as tf\n",
    "from tensorflow import keras\n",
    "from tensorflow.keras.layers import BatchNormalization,Input,ReLU,add,MaxPool1D,GlobalAveragePooling1D\n",
    "from sklearn.model_selection import train_test_split\n",
    "from sklearn.neural_network import MLPClassifier\n",
    "from sklearn.datasets import make_classification\n",
    "from sklearn.metrics import confusion_matrix, accuracy_score, classification_report,recall_score,precision_score,mean_absolute_error\n",
    "from tensorflow.keras import callbacks,Model,layers\n",
    "from tensorflow.keras.models import Sequential\n",
    "from tensorflow.keras.layers import Convolution2D,Conv1D,Dropout,MaxPooling1D,MaxPooling2D,Flatten,Dense\n",
    "from tensorflow.keras import backend as K\n",
    "from tensorflow.keras.utils import to_categorical\n",
    "from tensorflow.keras.models import load_model\n",
    "from keras.callbacks import EarlyStopping, ModelCheckpoint\n",
    "cwd = os.getcwd() #\n",
    "fullscrn()"
   ]
  },
  {
   "cell_type": "markdown",
   "metadata": {},
   "source": [
    "<h1><center><div style=\"direction:rtl;font-family:B Nazanin\">Importing Data</div></center></h1>"
   ]
  },
  {
   "cell_type": "code",
   "execution_count": 2,
   "metadata": {
    "scrolled": true
   },
   "outputs": [
    {
     "name": "stdout",
     "output_type": "stream",
     "text": [
      "first_train_shape= (77, 901)\n",
      "first_test_shape= (181, 901)\n",
      "classes_quantity= 2\n",
      "tr_lbls=\t {1, 2}\n",
      "Count_labels= [33 44]\n",
      "max(train_feature_Altitude)= 4.1961\n",
      "min(train_feature_Altitude)= -4.8873\n",
      "first_train_sample=\n",
      " [ 1.        -0.77859   -0.74444   -0.72546   -0.70269   -0.71408\n",
      " -0.72167   -0.73305   -0.71787   -0.73685   -0.76341   -0.77479\n",
      " -0.76341   -0.74823   -0.72546   -0.73305   -0.73305   -0.74064\n",
      " -0.74444   -0.76341   -0.7672    -0.76341   -0.75582   -0.74823\n",
      " -0.74823   -0.75582   -0.74823   -0.75962   -0.75203   -0.74823\n",
      " -0.74823   -0.73305   -0.73305   -0.74064   -0.771     -0.80895\n",
      " -0.83931   -0.86587   -0.87725   -0.87346   -0.919     -0.86207\n",
      " -0.86207   -0.85069   -0.82792   -0.85069   -0.78238   -0.7672\n",
      " -0.74444   -0.72546   -0.75203   -0.6951    -0.6951    -0.72167\n",
      " -0.72926   -0.74444   -0.74444   -0.79756   -0.75203   -0.67233\n",
      " -0.64577   -0.67613   -0.65716   -0.61541   -0.63818   -0.63439\n",
      " -0.59264   -0.61162   -0.5547    -0.42567   -0.30044   -0.21316\n",
      " -0.22455   -0.23973   -0.23214   -0.19419   -0.13727   -0.11829\n",
      "  0.0069361  0.056269   0.10181    0.11319    0.21945    0.22324\n",
      "  0.21186    0.24221    0.21565    0.21945    0.21945    0.23462\n",
      "  0.33329    0.36365    0.38642    0.40919    0.40919    0.44713\n",
      "  0.46231    0.51165    0.60272    0.65964    0.72795    0.84938\n",
      "  0.87215    0.97841    1.0201     1.0467     1.0733     1.1378\n",
      "  1.1795     1.2251     1.2706     1.3124     1.3579     1.4034\n",
      "  1.4224     1.4376     1.4566     1.4603     1.4414     1.4072\n",
      "  1.4072     1.392      1.392      1.3958     1.392      1.4034\n",
      "  1.3882     1.3617     1.3465     1.2934     1.2706     1.2175\n",
      "  1.153      1.1226     1.0581     1.0391     1.0164     0.986\n",
      "  0.99359    1.0088     0.986      0.98979    1.0315     1.0164\n",
      "  1.0164     0.986      0.986      1.005      1.0467     1.1264\n",
      "  1.0998     1.1036     1.1378     1.134      1.1454     1.1568\n",
      "  1.2175     1.2516     1.263      1.282      1.3465     1.3731\n",
      "  1.4072     1.3617     1.3048     1.2668     1.1378     1.0391\n",
      "  1.0088     0.89113    0.86077    0.74313    0.65964    0.56477\n",
      "  0.44334    0.37883    0.24221    0.10181    0.060063   0.02591\n",
      " -0.038602  -0.084139  -0.27008   -0.26629   -0.32321   -0.36875\n",
      " -0.35357   -0.41049   -0.42947   -0.38013   -0.39911   -0.35357\n",
      " -0.36875   -0.43326   -0.50157   -0.56987   -0.63818   -0.70649\n",
      " -0.77479   -0.83551   -0.79756   -0.78618   -0.83551   -0.93797\n",
      " -1.0025    -0.97971   -0.9911    -0.98351   -1.0328    -1.1087\n",
      " -1.1467    -1.2491    -1.3023    -1.3175    -1.3061    -1.3706\n",
      " -1.3516    -1.3554    -1.3175    -1.2681    -1.2909    -1.2909\n",
      " -1.2947    -1.3137    -1.2871    -1.2074    -1.1391    -1.1125\n",
      " -1.1163    -1.1391    -1.1353    -1.1467    -1.1315    -1.1353\n",
      " -1.1467    -1.1505    -1.1505    -1.1505    -1.1429    -1.1201\n",
      " -1.1125    -1.067     -1.0442    -1.029     -0.98351   -1.0025\n",
      " -1.0253    -1.0442    -1.0404    -1.0594    -1.0822    -1.0822\n",
      " -1.0746    -1.0898    -1.0822    -1.1087    -1.0784    -1.0708\n",
      " -1.067     -1.1087    -1.1163    -1.1467    -1.1467    -1.1998\n",
      " -1.215     -1.2795    -1.325     -1.3402    -1.4123    -1.4617\n",
      " -1.4579    -1.4692    -1.5034    -1.4047    -1.4237    -1.4009\n",
      " -1.3592    -1.3554    -1.3933    -1.3516    -1.344     -1.3478\n",
      " -1.3212    -1.2795    -1.234     -1.2226    -1.2529    -1.2378\n",
      " -1.1884    -1.1732    -1.1429    -1.1239    -1.0974    -1.1049\n",
      " -1.0974    -1.1011    -1.1011    -1.1011    -1.1049    -1.1049\n",
      " -1.1049    -1.1353    -1.1543    -1.1505    -1.1505    -1.2074\n",
      " -1.2264    -1.2188    -1.2529    -1.2605    -1.2643    -1.2454\n",
      " -1.2491    -1.2567    -1.2529    -1.2491    -1.2681    -1.2529\n",
      " -1.2681    -1.2719    -1.2757    -1.2795    -1.2719    -1.2719\n",
      " -1.2681    -1.2871    -1.2643    -1.2909    -1.2719    -1.3023\n",
      " -1.2985    -1.3061    -1.3364    -1.3212    -1.4161    -1.4047\n",
      " -1.4009    -1.3744    -1.3668    -1.3592    -1.3592    -1.3326\n",
      " -1.2643    -1.2757    -1.1505    -1.0784    -1.0139    -1.0253\n",
      " -0.9873    -0.96074   -0.83551   -0.74064   -0.66854   -0.60782\n",
      " -0.54711   -0.48639   -0.42567   -0.36875   -0.30803   -0.24732\n",
      " -0.20557   -0.12588   -0.07655   -0.038602   0.010731   0.0335\n",
      "  0.079037   0.10181    0.12078    0.13216    0.12837    0.12837\n",
      "  0.12458    0.12078    0.12078    0.11699    0.11319    0.079037\n",
      "  0.15114    0.063858   0.10181    0.12078    0.16632    0.14355\n",
      "  0.11319    0.063858   0.12837    0.14355    0.19288    0.33708\n",
      "  0.37503    0.3978     0.44334    0.39021    0.41678    0.4016\n",
      "  0.42436    0.52303    0.65964    0.86456    0.9101     0.9822\n",
      "  1.0126     1.0771     1.1492     1.2251     1.2896     1.4034\n",
      "  1.5021     1.5932     1.6653     1.688      1.7525     1.7601\n",
      "  1.7791     1.7943     1.8133     1.8398     1.8436     1.8133\n",
      "  1.7981     1.7184     1.6349     1.6463     1.6008     1.5514\n",
      "  1.4983     1.4717     1.4528     1.4262     1.3958     1.3541\n",
      "  1.2706     1.2516     1.2099     1.1833     1.0885     1.0505\n",
      "  1.0201     0.97841    0.97461    0.95184    0.96702    0.89872\n",
      "  0.85697    0.80764    0.77349    0.67862    0.62928    0.542\n",
      "  0.50026    0.53821    0.50406    0.48508    0.4699     0.43954\n",
      "  0.46231    0.41298    0.37883    0.33329    0.33708    0.29534\n",
      "  0.26119    0.26119    0.26498    0.26878    0.27257    0.27637\n",
      "  0.27637    0.29534    0.31052    0.33708    0.33708    0.36365\n",
      "  0.38642    0.40539    0.39021    0.42057    0.43954    0.42816\n",
      "  0.49647    0.51544    0.53821    0.56477    0.58754    0.59134\n",
      "  0.6179     0.73554    0.74313    0.77349    0.7659     0.78487\n",
      "  0.86836    0.97841    0.97841    0.97461    1.0012     0.97461\n",
      "  0.99738    1.0088     1.0239     1.0201     1.0164     0.94805\n",
      "  0.88354    0.81902    0.75072    0.68621    0.6179     0.55339\n",
      "  0.48888    0.40539    0.33708    0.24221    0.23083    0.13216\n",
      "  0.052474  -0.065165  -0.12968   -0.22834   -0.32701   -0.41049\n",
      " -0.47121   -0.50536   -0.59264   -0.57746   -0.63059   -0.66095\n",
      " -0.74064   -0.79377   -0.89623   -0.98351   -1.0898    -1.1505\n",
      " -1.2491    -1.3326    -1.3326    -1.3288    -1.3288    -1.325\n",
      " -1.325     -1.3212    -1.3212    -1.3592    -1.4541    -1.4654\n",
      " -1.492     -1.5186    -1.4882    -1.4541    -1.4275    -1.4047\n",
      " -1.3706    -1.3592    -1.3212    -1.2985    -1.2909    -1.2833\n",
      " -1.2491    -1.2036    -1.1505    -1.1011    -1.0442    -0.97971\n",
      " -0.95695   -0.97212   -1.0101    -0.97971   -0.94556   -0.80136\n",
      " -0.7672    -0.72546   -0.66474   -0.57367   -0.46741   -0.26629\n",
      " -0.16383   -0.13727   -0.16383   -0.19039   -0.21696   -0.24352\n",
      " -0.27008   -0.29665   -0.36496   -0.45983   -0.5509    -0.61921\n",
      " -0.74444   -0.83172   -0.90382   -0.97592   -1.0328    -1.1695\n",
      " -1.2454    -1.3023    -1.3364    -1.3933    -1.3971    -1.4351\n",
      " -1.4427    -1.3971    -1.3288    -1.2302    -1.1695    -1.0556\n",
      " -0.92279   -0.79756   -0.66854   -0.57367   -0.48259   -0.39531\n",
      " -0.31183   -0.22455   -0.13727   -0.049986   0.037295   0.12078\n",
      "  0.20047    0.28396    0.35606    0.42057    0.50026    0.51165\n",
      "  0.51544    0.51924    0.43954    0.4016     0.36744    0.20047\n",
      "  0.24221    0.11699    0.048679  -0.019628  -0.087934  -0.16004\n",
      " -0.22834   -0.29665   -0.39911   -0.44844   -0.45983   -0.51675\n",
      " -0.55849   -0.69131   -0.83551   -0.85449   -0.92659   -0.97971\n",
      " -0.94556   -1.0328    -0.89623   -0.98351   -0.97971   -0.86966\n",
      " -0.86966   -0.81274   -0.75203   -0.6951    -0.63818   -0.57746\n",
      " -0.52054   -0.45983   -0.31562   -0.30803   -0.19419   -0.1145\n",
      "  0.02591    0.16252    0.26119    0.41298    0.52682    0.51165\n",
      "  0.57616    0.65585    0.70518    0.79626    0.91769    0.95943\n",
      "  1.0809     1.263      1.301      1.4414     1.5856     1.7146\n",
      "  1.7981     1.9157     2.0144     2.0258     2.0979     2.2155\n",
      "  2.3104     2.3559     2.3939     2.4546     2.428      2.4925\n",
      "  2.5153     2.6405     2.7658     2.8151     2.8341     2.9138\n",
      "  2.9176     2.9403     2.9707     2.9365     2.9062     2.8379\n",
      "  2.7506     2.614      2.3863     2.2573     2.151      1.9726\n",
      "  1.8284     1.6425     1.5742     1.4793     1.4262     1.3845\n",
      "  1.3199     1.2706     1.2592     1.1909     1.1606     1.1264\n",
      "  1.0771     0.986      0.93287    0.88733    0.838      0.79626\n",
      "  0.72036    0.64067    0.62549    0.60272    0.55718    0.55339\n",
      "  0.49647    0.48508    0.43575    0.41298    0.39021    0.30293\n",
      "  0.19288    0.19288    0.21945    0.20047    0.15114    0.094217\n",
      "  0.094217   0.090422   0.11319    0.11319    0.14734    0.19288\n",
      "  0.26119    0.35985    0.46231    0.4737     0.51544    0.50406\n",
      "  0.55718    0.58754    0.6179     0.64826    0.67862    0.70898\n",
      "  0.73933    0.80764    0.86077    0.89872    0.93287    1.0201\n",
      "  1.0164     1.0126     1.005      0.99738    0.99359    1.0164\n",
      "  1.0164     1.005      1.0429     1.1036     1.1036     1.0543\n",
      "  1.005      0.96702    0.96702    0.91769    0.88733    0.86456\n",
      "  0.84938    0.78487    0.67862    0.65205    0.58375    0.59513\n",
      "  0.53441    0.4737     0.41298    0.35226    0.29155    0.23083\n",
      "  0.14355    0.048679  -0.019628  -0.057576  -0.1107    -0.13347\n",
      " -0.20178   -0.28906   -0.37634   -0.48259   -0.51295   -0.64957\n",
      " -0.64198   -0.67992   -0.66474   -0.65716   -0.58885   -0.56608\n",
      " -0.58885   -0.64577   -0.67613   -0.7672    -0.76341   -0.74064\n",
      " -0.74064   -0.78997   -0.78618   -0.78238   -0.78238   -0.77859\n",
      " -0.77479   -0.77479   -0.771     -0.70269   -0.71028   -0.70649\n",
      " -0.6989    -0.66854   -0.623     -0.57367   -0.50916   -0.4067\n",
      " -0.34978   -0.31562   -0.28147   -0.28526   -0.22834   -0.12209\n",
      " -0.019628   0.010731   0.090422   0.1094     0.16252    0.22703\n",
      "  0.27637    0.29534    0.29914    0.32949    0.35985    0.35606\n",
      "  0.34847    0.42057    0.46231    0.50785    0.54959    0.59513\n",
      "  0.63687    0.68241    0.71657    0.69759    0.67103    0.65585\n",
      "  0.65964    0.63687    0.62169    0.56477    0.57995    0.53821\n",
      "  0.50406    0.45852    0.41678    0.39021    0.37124    0.29914\n",
      "  0.2536     0.20047    0.12458    0.082832   0.052474  -0.042396\n",
      " -0.099319  -0.12588   -0.19039   -0.22834   -0.20557   -0.27388\n",
      " -0.32321  ]\n",
      "1 33\t1 33\t"
     ]
    }
   ],
   "source": [
    "rate=900\n",
    "cls_num=2\n",
    "for i in range (1,cls_num+1):\n",
    "    vars()['ecg'+str(i)],vars()['ecg_tst'+str(i)]=WormsTwoClass0(i)\n",
    "\n",
    "os.chdir(cwd)\n",
    "clses_lens=np.array([])\n",
    "ecg=np.array(ecg1)\n",
    "print(1,len(vars()['ecg'+str(1)]), end='\\t')\n",
    "clses_lens=np.append(clses_lens,len(vars()['ecg'+str(1)]))\n",
    "for i in range (1,cls_num):\n",
    "    ecg=np.concatenate((ecg,vars()['ecg'+str(i)]),axis=0)\n",
    "    clses_lens=np.append(clses_lens,len(vars()['ecg'+str(i)]))\n",
    "    print(i,len(vars()['ecg'+str(i)]), end='\\t')\n",
    "\n",
    "mx_sig=max(clses_lens)\n",
    "btch=int(min(clses_lens))"
   ]
  },
  {
   "cell_type": "code",
   "execution_count": 3,
   "metadata": {},
   "outputs": [
    {
     "data": {
      "text/plain": [
       "(66, 901)"
      ]
     },
     "execution_count": 3,
     "metadata": {},
     "output_type": "execute_result"
    }
   ],
   "source": [
    "np.shape(ecg)"
   ]
  },
  {
   "cell_type": "code",
   "execution_count": 4,
   "metadata": {},
   "outputs": [
    {
     "data": {
      "text/plain": [
       "array([1., 1., 1., 1., 1., 1., 1., 1., 1., 1., 1., 1., 1., 1., 1., 1., 1.,\n",
       "       1., 1., 1., 1., 1., 1., 1., 1., 1., 1., 1., 1., 1., 1., 1., 1., 1.,\n",
       "       1., 1., 1., 1., 1., 1., 1., 1., 1., 1., 1., 1., 1., 1., 1., 1., 1.,\n",
       "       1., 1., 1., 1., 1., 1., 1., 1., 1., 1., 1., 1., 1., 1., 1.])"
      ]
     },
     "execution_count": 4,
     "metadata": {},
     "output_type": "execute_result"
    }
   ],
   "source": [
    "ecg[:,-1]"
   ]
  },
  {
   "cell_type": "markdown",
   "metadata": {},
   "source": [
    "<h2><center><div style=\"direction:rtl;font-family:B Nazanin\">Base Train windows</div></center></h1>"
   ]
  },
  {
   "cell_type": "code",
   "execution_count": 5,
   "metadata": {},
   "outputs": [
    {
     "name": "stdout",
     "output_type": "stream",
     "text": [
      "each class and its windows =\n",
      "1 33\t2 44\t\n",
      " max = 44\n"
     ]
    }
   ],
   "source": [
    "smpl_rte=rate                                              # در ماژول ها نیز همین مقدار ثبت شده\n",
    "i=0\n",
    "windws=np.array([])\n",
    "\n",
    "for cls in range (1,cls_num+1):                                 #ساخت پنجره های داده های آموزش اصلی\n",
    "    vars()['wndws'+str(cls)]=np.array(vars()['ecg'+str(cls)])  \n",
    "    \n",
    "print(\"each class and its windows =\")\n",
    "\n",
    "cls_wndws=np.array([])\n",
    "for cls in range (1,cls_num+1):                                # آرایه ی تعداد پنجره ی هر کلاس\n",
    "    wns=len(vars()['wndws'+str(cls)])\n",
    "    cls_wndws=np.append(cls_wndws,wns)\n",
    "    print(cls, wns, end='\\t')\n",
    "\n",
    "mx_wndws=int(np.max(cls_wndws))                        # حداکثر تعداد پنجره ی موجود بین کلاس ها\n",
    "print('\\n max =', mx_wndws)"
   ]
  },
  {
   "cell_type": "raw",
   "metadata": {},
   "source": [
    "#clses=3                                   #تعیین میزان افزایش نمونه (تولید داده)\n",
    "mx_wndws=int(mx_wndws)  #mx_wndws*0.3  # =classes-1 برای بررسی الگوریتم تعداد کمی کلاس آزمایش شد\n",
    "mx_wndws=2598           #+2\n",
    "print(mx_wndws)"
   ]
  },
  {
   "cell_type": "markdown",
   "metadata": {},
   "source": [
    "<h1><center><div style=\"direction:rtl;font-family:B Nazanin\">Data Augmentation</div></center></h1>"
   ]
  },
  {
   "cell_type": "code",
   "execution_count": 6,
   "metadata": {},
   "outputs": [
    {
     "name": "stdout",
     "output_type": "stream",
     "text": [
      "Up to class  1 train shape =  (33, 901)\n",
      "Up to class  2 train shape =  (77, 901)\n"
     ]
    }
   ],
   "source": [
    "smpl_rte=len(wndws1[0])                                        # در ماژول ها نیز همین مقدار ثبت شده\n",
    "\n",
    "#add augmented data to base data\n",
    "xtrain=np.empty((0,len(wndws1[0])), float) \n",
    "for i in range (1,cls_num+1):   \n",
    "    xtrain=np.append(xtrain,vars()['wndws'+str(i)],axis=0)\n",
    "    print('Up to class ', i, 'train shape = ', np.shape(xtrain))"
   ]
  },
  {
   "cell_type": "code",
   "execution_count": 7,
   "metadata": {},
   "outputs": [
    {
     "name": "stdout",
     "output_type": "stream",
     "text": [
      "[ 0 33 44]\n"
     ]
    }
   ],
   "source": [
    "print(np.bincount(np.int16(xtrain[:,-1])))    #تعداد پنجره در هر کلاس از 0 تا 17"
   ]
  },
  {
   "cell_type": "code",
   "execution_count": 8,
   "metadata": {},
   "outputs": [
    {
     "data": {
      "text/plain": [
       "array([1., 1., 1., 1., 1., 1., 1., 1., 1., 1., 1., 1., 1., 1., 1., 1., 1.,\n",
       "       1., 1., 1., 1., 1., 1., 1., 1., 1., 1., 1., 1., 1., 1., 1., 1., 2.,\n",
       "       2., 2., 2., 2., 2., 2., 2., 2., 2., 2., 2., 2., 2., 2., 2., 2., 2.,\n",
       "       2., 2., 2., 2., 2., 2., 2., 2., 2., 2., 2., 2., 2., 2., 2., 2., 2.,\n",
       "       2., 2., 2., 2., 2., 2., 2., 2., 2.])"
      ]
     },
     "execution_count": 8,
     "metadata": {},
     "output_type": "execute_result"
    }
   ],
   "source": [
    "xtrain[:,-1]"
   ]
  },
  {
   "cell_type": "code",
   "execution_count": 9,
   "metadata": {},
   "outputs": [],
   "source": [
    "mx_aug=np.max(xtrain[:,:-1])\n",
    "mx=np.max(ecg[:,:-1])\n",
    "mn_aug=np.min(xtrain[:,:-1])\n",
    "mn=np.min(ecg[:,:-1])\n",
    "\n",
    "#for i in range (1,cls_num+1):             #نرمالسازی داده های افزایشی\n",
    "xtrain[:,:-1]= 2*(xtrain[:,:-1]-mn_aug)/(mx_aug - mn_aug) - 1"
   ]
  },
  {
   "cell_type": "code",
   "execution_count": 10,
   "metadata": {},
   "outputs": [
    {
     "name": "stdout",
     "output_type": "stream",
     "text": [
      "min trn = -1.0\n",
      "max trn = 1.0\n"
     ]
    }
   ],
   "source": [
    "print('min trn =', np.min(xtrain[:,:-1]))\n",
    "print('max trn =', np.max(xtrain[:,:-1]))"
   ]
  },
  {
   "cell_type": "markdown",
   "metadata": {},
   "source": [
    "<h3><center><div style=\"direction:rtl;font-family:B Nazanin\">Test Windows</div></center></h1>"
   ]
  },
  {
   "cell_type": "code",
   "execution_count": 11,
   "metadata": {},
   "outputs": [],
   "source": [
    "wndws_test=np.empty((0,len(wndws1[0])), float)\n",
    "i=0\n",
    "windws=np.array([])\n",
    "for cls in range (1,cls_num+1):                                 #ساخت پنجره های داده های آموزش اصلی\n",
    "    vars()['wndws_tst'+str(cls)]=np.empty((0,len(wndws1[0])), float)\n",
    "    vars()['wndws_tst'+str(cls)]=np.append(vars()['wndws_tst'+str(cls)],vars()['ecg_tst'+str(cls)],axis=0)   "
   ]
  },
  {
   "cell_type": "code",
   "execution_count": 12,
   "metadata": {},
   "outputs": [
    {
     "name": "stdout",
     "output_type": "stream",
     "text": [
      "\n",
      " cls 1  >> \n",
      "max magnitude class 1  =  4.1375\n",
      "min magnitude class 1  =  -4.037800000000001\n",
      "after normalizing >>\n",
      "max magnitude class 1  =  0.9870973424048264\n",
      "min magnitude class 1  =  -0.8129555012440277\n",
      "\n",
      " cls 2  >> \n",
      "max magnitude class 2  =  4.8591000000000015\n",
      "min magnitude class 2  =  -4.3114\n",
      "after normalizing >>\n",
      "max magnitude class 2  =  1.1459805799590468\n",
      "min magnitude class 2  =  -0.8731972609375345\n",
      "each class and its windows =\n",
      "1 76\t2 105\t\n",
      " max instance in classes of test windows = 105\n"
     ]
    }
   ],
   "source": [
    "#print(np.max(wndws_tst))\n",
    "for i in range (1,cls_num+1):                # Normalization test windows\n",
    "    cls=i\n",
    "    print('\\n cls', i, ' >> ')\n",
    "    print('max magnitude class', i , ' = ' ,np.max(vars()['wndws_tst'+str(cls)][:,:-1]))\n",
    "    print('min magnitude class', i , ' = ' ,np.min(vars()['wndws_tst'+str(cls)][:,:-1]))\n",
    "\n",
    "    vars()['wndws_tst'+str(i)][:,:-1]= 2*(vars()['wndws_tst'+str(i)][:,:-1]-mn_aug)/(mx_aug - mn_aug) - 1\n",
    "    \n",
    "    print('after normalizing >>')\n",
    "    print('max magnitude class', i , ' = ' ,np.max(vars()['wndws_tst'+str(cls)][:,:-1]))\n",
    "    print('min magnitude class', i , ' = ' ,np.min(vars()['wndws_tst'+str(cls)][:,:-1]))\n",
    "    \n",
    "print(\"each class and its windows =\")                    #تجمیع کلاس های تست\n",
    "cls_wndws=np.array([])\n",
    "for cls in range (1,cls_num+1):                                # آرایه ی تعداد پنجره ی هر کلاس\n",
    "    wns=len(vars()['wndws_tst'+str(cls)])\n",
    "    cls_wndws=np.append(cls_wndws,wns)\n",
    "    print(cls, wns, end='\\t')\n",
    "    wndws_test=np.append(wndws_test,vars()['wndws_tst'+str(cls)],axis=0)\n",
    "    \n",
    "mx_wndws=int(np.max(cls_wndws))                        # حداکثر تعداد پنجره ی موجود بین کلاس ها\n",
    "print('\\n max instance in classes of test windows =', mx_wndws)"
   ]
  },
  {
   "cell_type": "code",
   "execution_count": 13,
   "metadata": {},
   "outputs": [
    {
     "name": "stdout",
     "output_type": "stream",
     "text": [
      "min tst = -0.8731972609375345\n",
      "max tst = 1.1459805799590468\n"
     ]
    }
   ],
   "source": [
    "print('min tst =', np.min(wndws_test[:,:-1]))\n",
    "print('max tst =', np.max(wndws_test[:,:-1]))"
   ]
  },
  {
   "cell_type": "code",
   "execution_count": 14,
   "metadata": {},
   "outputs": [
    {
     "data": {
      "text/plain": [
       "181"
      ]
     },
     "execution_count": 14,
     "metadata": {},
     "output_type": "execute_result"
    }
   ],
   "source": [
    "len(wndws_test)"
   ]
  },
  {
   "cell_type": "code",
   "execution_count": 15,
   "metadata": {},
   "outputs": [
    {
     "data": {
      "text/plain": [
       "(181, 901)"
      ]
     },
     "execution_count": 15,
     "metadata": {},
     "output_type": "execute_result"
    }
   ],
   "source": [
    "np.shape(wndws_test)"
   ]
  },
  {
   "cell_type": "code",
   "execution_count": 16,
   "metadata": {},
   "outputs": [],
   "source": [
    "Xtest=wndws_test[:,:-1]\n",
    "ytest=np.int16(wndws_test[:,-1])"
   ]
  },
  {
   "cell_type": "code",
   "execution_count": 17,
   "metadata": {},
   "outputs": [
    {
     "name": "stdout",
     "output_type": "stream",
     "text": [
      "array([1, 1, 1, 1, 1, 1, 1, 1, 1, 1, 1, 1, 1, 1, 1, 1, 1, 1, 1, 1, 1, 1,\n",
      "       1, 1, 1, 1, 1, 1, 1, 1, 1, 1, 1, 1, 1, 1, 1, 1, 1, 1, 1, 1, 1, 1,\n",
      "       1, 1, 1, 1, 1, 1, 1, 1, 1, 1, 1, 1, 1, 1, 1, 1, 1, 1, 1, 1, 1, 1,\n",
      "       1, 1, 1, 1, 1, 1, 1, 1, 1, 1, 2, 2, 2, 2, 2, 2, 2, 2, 2, 2, 2, 2,\n",
      "       2, 2, 2, 2, 2, 2, 2, 2, 2, 2, 2, 2, 2, 2, 2, 2, 2, 2, 2, 2, 2, 2,\n",
      "       2, 2, 2, 2, 2, 2, 2, 2, 2, 2, 2, 2, 2, 2, 2, 2, 2, 2, 2, 2, 2, 2,\n",
      "       2, 2, 2, 2, 2, 2, 2, 2, 2, 2, 2, 2, 2, 2, 2, 2, 2, 2, 2, 2, 2, 2,\n",
      "       2, 2, 2, 2, 2, 2, 2, 2, 2, 2, 2, 2, 2, 2, 2, 2, 2, 2, 2, 2, 2, 2,\n",
      "       2, 2, 2, 2, 2], dtype=int16)\n"
     ]
    }
   ],
   "source": [
    "fullprint(ytest)"
   ]
  },
  {
   "cell_type": "markdown",
   "metadata": {},
   "source": [
    "<h3><center><div style=\"direction:rtl;font-family:B Nazanin\">Train Windows</div></center></h1>"
   ]
  },
  {
   "cell_type": "code",
   "execution_count": 18,
   "metadata": {},
   "outputs": [
    {
     "data": {
      "text/plain": [
       "'\\nytestt=np.int32(np.array([ytest]).T)\\ntestx=np.concatenate((Xtest, ytestt), axis=1)\\ntestx=np.random.permutation(testx)\\nXtest=np.int32(testx[:,:-1])\\nytest=np.int32(testx[:,-1])'"
      ]
     },
     "execution_count": 18,
     "metadata": {},
     "output_type": "execute_result"
    }
   ],
   "source": [
    "#ytraint=np.int32(np.array([ytrain]).T)\n",
    "#trainx=np.concatenate((Xtrain, ytraint), axis=1)\n",
    "trainx=np.random.permutation(xtrain)\n",
    "Xtrain=np.array(trainx[:,:-1])\n",
    "ytrain=np.int16(trainx[:,-1])\n",
    "'''\n",
    "ytestt=np.int32(np.array([ytest]).T)\n",
    "testx=np.concatenate((Xtest, ytestt), axis=1)\n",
    "testx=np.random.permutation(testx)\n",
    "Xtest=np.int32(testx[:,:-1])\n",
    "ytest=np.int32(testx[:,-1])'''"
   ]
  },
  {
   "cell_type": "code",
   "execution_count": 19,
   "metadata": {},
   "outputs": [
    {
     "data": {
      "text/plain": [
       "(33, 901)"
      ]
     },
     "execution_count": 19,
     "metadata": {},
     "output_type": "execute_result"
    }
   ],
   "source": [
    "np.shape(wndws1)"
   ]
  },
  {
   "cell_type": "markdown",
   "metadata": {},
   "source": [
    "<h3><center><div style=\"direction:rtl;font-family:B Nazanin\">Validation Windows</div></center></h1>"
   ]
  },
  {
   "cell_type": "code",
   "execution_count": 20,
   "metadata": {},
   "outputs": [],
   "source": [
    "Xvalid=np.array(Xtrain)\n",
    "yvalid=np.array(ytrain)"
   ]
  },
  {
   "cell_type": "markdown",
   "metadata": {},
   "source": [
    "<h1><center><div style=\"direction:rtl;font-family:B Nazanin\">CNN And UnBalanced RAW Data</div></center></h1>\n",
    "<h1><center><div style=\"direction:rtl;font-family:Arial\">Cross Entropy Loss Function</div></center></h1>"
   ]
  },
  {
   "cell_type": "code",
   "execution_count": 21,
   "metadata": {
    "scrolled": true
   },
   "outputs": [
    {
     "name": "stdout",
     "output_type": "stream",
     "text": [
      "X_train =>  (77, 900)\n",
      "y_train =>  (77,)\n",
      "X_test  =>  (181, 900)\n",
      "y_test  =>  (181,)\n",
      "X_valid  =>  (77, 900)\n",
      "y_valid  =>  (77,)\n"
     ]
    }
   ],
   "source": [
    "X_train=np.array(Xtrain)\n",
    "y_train=np.array(ytrain)\n",
    "X_test=np.array(Xtest)\n",
    "y_test=np.array(ytest)\n",
    "X_valid=np.array(Xtrain)\n",
    "y_valid=np.array(ytrain)\n",
    "print('X_train => ', X_train.shape)\n",
    "print('y_train => ', y_train.shape)\n",
    "print('X_test  => ', X_test.shape)\n",
    "print('y_test  => ', y_test.shape)\n",
    "print('X_valid  => ', X_valid.shape)\n",
    "print('y_valid  => ', y_valid.shape)"
   ]
  },
  {
   "cell_type": "code",
   "execution_count": 22,
   "metadata": {},
   "outputs": [
    {
     "name": "stdout",
     "output_type": "stream",
     "text": [
      "!!!!!! class Should start from 0=Zero !!!!!!\n",
      "!!!!!!   Reduce 1 From Class Number    !!!!!\n",
      "final labels= {0, 1}\n"
     ]
    }
   ],
   "source": [
    "if min(y_train)==0:\n",
    "    print(' class was started from 0=Zero ')\n",
    "else:\n",
    "    print('!!!!!! class Should start from 0=Zero !!!!!!')\n",
    "    print(\"!!!!!!   Reduce 1 From Class Number    !!!!!\")\n",
    "    y_train=np.array(y_train-1)\n",
    "    y_test=np.array(y_test-1)\n",
    "    y_valid=np.array(y_valid-1)\n",
    "print('final labels=',set(y_train))"
   ]
  },
  {
   "cell_type": "code",
   "execution_count": 23,
   "metadata": {},
   "outputs": [],
   "source": [
    "y_train_cat=to_categorical(y_train)#[:,1:]\n",
    "y_valid_cat=to_categorical(y_valid)#[:,1:]\n",
    "y_test_cat=to_categorical(y_test)#[:,1:]\n",
    "\n",
    "\n",
    "X_train = np.expand_dims(X_train, axis=2)\n",
    "X_valid = np.expand_dims(X_valid, axis=2)\n",
    "X_test = np.expand_dims(X_test, axis=2)\n",
    "#y_train=np.transpose([y_train])"
   ]
  },
  {
   "cell_type": "markdown",
   "metadata": {},
   "source": [
    "<h1><center><div style=\"direction:rtl;font-family:B Nazanin\">Network</div></center></h1>"
   ]
  },
  {
   "cell_type": "code",
   "execution_count": 24,
   "metadata": {
    "scrolled": true
   },
   "outputs": [
    {
     "name": "stdout",
     "output_type": "stream",
     "text": [
      "Epoch 1/500\n",
      "3/3 [==============================] - 43s 3s/step - loss: 1.8999 - accuracy: 0.4545 - val_loss: 6635645.5000 - val_accuracy: 0.5714\n",
      "Epoch 2/500\n",
      "3/3 [==============================] - 2s 534ms/step - loss: 2.5822 - accuracy: 0.5584 - val_loss: 16738312.0000 - val_accuracy: 0.5714\n",
      "Epoch 3/500\n",
      "3/3 [==============================] - 2s 538ms/step - loss: 0.9942 - accuracy: 0.5065 - val_loss: 5561234.5000 - val_accuracy: 0.5714\n",
      "Epoch 4/500\n",
      "3/3 [==============================] - 2s 540ms/step - loss: 0.6818 - accuracy: 0.4545 - val_loss: 1252270.1250 - val_accuracy: 0.5714\n",
      "Epoch 5/500\n",
      "3/3 [==============================] - 2s 550ms/step - loss: 0.5978 - accuracy: 0.6494 - val_loss: 320068.5000 - val_accuracy: 0.5714\n",
      "Epoch 6/500\n",
      "3/3 [==============================] - 2s 546ms/step - loss: 0.6310 - accuracy: 0.6753 - val_loss: 109064.6094 - val_accuracy: 0.5714\n",
      "Epoch 7/500\n",
      "3/3 [==============================] - 2s 537ms/step - loss: 1.0298 - accuracy: 0.7922 - val_loss: 55549.5664 - val_accuracy: 0.5714\n",
      "Epoch 8/500\n",
      "3/3 [==============================] - 2s 540ms/step - loss: 0.8171 - accuracy: 0.5844 - val_loss: 17669.2949 - val_accuracy: 0.5714\n",
      "Epoch 9/500\n",
      "3/3 [==============================] - 2s 535ms/step - loss: 0.6685 - accuracy: 0.6104 - val_loss: 4877.3750 - val_accuracy: 0.5714\n",
      "Epoch 10/500\n",
      "3/3 [==============================] - 2s 537ms/step - loss: 0.3819 - accuracy: 0.8442 - val_loss: 1443.3224 - val_accuracy: 0.5325\n",
      "Epoch 11/500\n",
      "3/3 [==============================] - 2s 537ms/step - loss: 0.6381 - accuracy: 0.5844 - val_loss: 345.2498 - val_accuracy: 0.5195\n",
      "Epoch 12/500\n",
      "3/3 [==============================] - 2s 539ms/step - loss: 0.2417 - accuracy: 0.8961 - val_loss: 129.6649 - val_accuracy: 0.5714\n",
      "Epoch 13/500\n",
      "3/3 [==============================] - 2s 538ms/step - loss: 0.6738 - accuracy: 0.6753 - val_loss: 8.8152 - val_accuracy: 0.4156\n",
      "Epoch 14/500\n",
      "3/3 [==============================] - 2s 536ms/step - loss: 0.3731 - accuracy: 0.8182 - val_loss: 2.5785 - val_accuracy: 0.4675\n",
      "Epoch 15/500\n",
      "3/3 [==============================] - 2s 539ms/step - loss: 0.3637 - accuracy: 0.8182 - val_loss: 1.0399 - val_accuracy: 0.5714\n",
      "Epoch 16/500\n",
      "3/3 [==============================] - 2s 547ms/step - loss: 0.1508 - accuracy: 0.9351 - val_loss: 0.8592 - val_accuracy: 0.4675\n",
      "Epoch 17/500\n",
      "3/3 [==============================] - 2s 545ms/step - loss: 0.3767 - accuracy: 0.8312 - val_loss: 2.0653 - val_accuracy: 0.5714\n",
      "Epoch 18/500\n",
      "3/3 [==============================] - 2s 527ms/step - loss: 0.3754 - accuracy: 0.8052 - val_loss: 13.7465 - val_accuracy: 0.4545\n",
      "Epoch 19/500\n",
      "3/3 [==============================] - 2s 622ms/step - loss: 0.3938 - accuracy: 0.8052 - val_loss: 2.4128 - val_accuracy: 0.5974\n",
      "Epoch 20/500\n",
      "3/3 [==============================] - 2s 534ms/step - loss: 0.3307 - accuracy: 0.8701 - val_loss: 1.6267 - val_accuracy: 0.5714\n",
      "Epoch 21/500\n",
      "3/3 [==============================] - 2s 533ms/step - loss: 0.1962 - accuracy: 0.9221 - val_loss: 2.0626 - val_accuracy: 0.5714\n",
      "Epoch 22/500\n",
      "3/3 [==============================] - 2s 527ms/step - loss: 0.4909 - accuracy: 0.7922 - val_loss: 0.7871 - val_accuracy: 0.5714\n",
      "Epoch 23/500\n",
      "3/3 [==============================] - 2s 534ms/step - loss: 0.2135 - accuracy: 0.9351 - val_loss: 2.6270 - val_accuracy: 0.4675\n",
      "Epoch 24/500\n",
      "3/3 [==============================] - 1s 526ms/step - loss: 0.4993 - accuracy: 0.7792 - val_loss: 8.2151 - val_accuracy: 0.5714\n",
      "Epoch 25/500\n",
      "3/3 [==============================] - 2s 536ms/step - loss: 0.6177 - accuracy: 0.7143 - val_loss: 0.8458 - val_accuracy: 0.5714\n",
      "Epoch 26/500\n",
      "3/3 [==============================] - 2s 548ms/step - loss: 0.7696 - accuracy: 0.6883 - val_loss: 1.7796 - val_accuracy: 0.5714\n",
      "Epoch 27/500\n",
      "3/3 [==============================] - 2s 527ms/step - loss: 0.2619 - accuracy: 0.8831 - val_loss: 2.4539 - val_accuracy: 0.5714\n",
      "Epoch 28/500\n",
      "3/3 [==============================] - 2s 535ms/step - loss: 0.4514 - accuracy: 0.7532 - val_loss: 3.3882 - val_accuracy: 0.5714\n",
      "Epoch 29/500\n",
      "3/3 [==============================] - 2s 548ms/step - loss: 0.9926 - accuracy: 0.8182 - val_loss: 0.9809 - val_accuracy: 0.4675\n",
      "Epoch 30/500\n",
      "3/3 [==============================] - 2s 548ms/step - loss: 0.2788 - accuracy: 0.8961 - val_loss: 0.6690 - val_accuracy: 0.5714\n",
      "Epoch 31/500\n",
      "3/3 [==============================] - 2s 533ms/step - loss: 0.3480 - accuracy: 0.8442 - val_loss: 1.2169 - val_accuracy: 0.5584\n",
      "Epoch 32/500\n",
      "3/3 [==============================] - 2s 542ms/step - loss: 0.7394 - accuracy: 0.7143 - val_loss: 1.0638 - val_accuracy: 0.4545\n",
      "Epoch 33/500\n",
      "3/3 [==============================] - 2s 537ms/step - loss: 0.5752 - accuracy: 0.7273 - val_loss: 0.8271 - val_accuracy: 0.4675\n",
      "Epoch 34/500\n",
      "3/3 [==============================] - 2s 532ms/step - loss: 0.4269 - accuracy: 0.8052 - val_loss: 0.6284 - val_accuracy: 0.5584\n",
      "Epoch 35/500\n",
      "3/3 [==============================] - 2s 532ms/step - loss: 0.3824 - accuracy: 0.8442 - val_loss: 4.0714 - val_accuracy: 0.5714\n",
      "Epoch 36/500\n",
      "3/3 [==============================] - 2s 535ms/step - loss: 0.3932 - accuracy: 0.7792 - val_loss: 2.0554 - val_accuracy: 0.5974\n",
      "Epoch 37/500\n",
      "3/3 [==============================] - 2s 637ms/step - loss: 0.3489 - accuracy: 0.8701 - val_loss: 1.8136 - val_accuracy: 0.6364\n",
      "Epoch 38/500\n",
      "3/3 [==============================] - 2s 538ms/step - loss: 0.2627 - accuracy: 0.8961 - val_loss: 1.8517 - val_accuracy: 0.4675\n",
      "Epoch 39/500\n",
      "3/3 [==============================] - 2s 533ms/step - loss: 0.2109 - accuracy: 0.9221 - val_loss: 6.6792 - val_accuracy: 0.5714\n",
      "Epoch 40/500\n",
      "3/3 [==============================] - 1s 528ms/step - loss: 0.0864 - accuracy: 0.9870 - val_loss: 1.1001 - val_accuracy: 0.6364\n",
      "Epoch 41/500\n",
      "3/3 [==============================] - 2s 544ms/step - loss: 0.1433 - accuracy: 0.9481 - val_loss: 6.4038 - val_accuracy: 0.4026\n",
      "Epoch 42/500\n",
      "3/3 [==============================] - 2s 533ms/step - loss: 0.6536 - accuracy: 0.7143 - val_loss: 5.3715 - val_accuracy: 0.6234\n",
      "Epoch 43/500\n",
      "3/3 [==============================] - 2s 539ms/step - loss: 0.3244 - accuracy: 0.8831 - val_loss: 92.2229 - val_accuracy: 0.5714\n",
      "Epoch 44/500\n",
      "3/3 [==============================] - 2s 533ms/step - loss: 0.3012 - accuracy: 0.8961 - val_loss: 24.3377 - val_accuracy: 0.4675\n",
      "Epoch 45/500\n",
      "3/3 [==============================] - 2s 533ms/step - loss: 0.3974 - accuracy: 0.8442 - val_loss: 4.8862 - val_accuracy: 0.4545\n",
      "Epoch 46/500\n",
      "3/3 [==============================] - 2s 546ms/step - loss: 0.3210 - accuracy: 0.8442 - val_loss: 7.9677 - val_accuracy: 0.4675\n",
      "Epoch 47/500\n",
      "3/3 [==============================] - 2s 546ms/step - loss: 0.2684 - accuracy: 0.9091 - val_loss: 3.5259 - val_accuracy: 0.4805\n",
      "Epoch 48/500\n",
      "3/3 [==============================] - 2s 538ms/step - loss: 0.2634 - accuracy: 0.8831 - val_loss: 2.5045 - val_accuracy: 0.5714\n",
      "Epoch 49/500\n",
      "3/3 [==============================] - 2s 537ms/step - loss: 0.2251 - accuracy: 0.9351 - val_loss: 1.5605 - val_accuracy: 0.6104\n",
      "Epoch 50/500\n",
      "3/3 [==============================] - 2s 524ms/step - loss: 0.3268 - accuracy: 0.8442 - val_loss: 1.4115 - val_accuracy: 0.6104\n",
      "Epoch 51/500\n",
      "3/3 [==============================] - 2s 529ms/step - loss: 0.4693 - accuracy: 0.8701 - val_loss: 6.4139 - val_accuracy: 0.5455\n",
      "Epoch 52/500\n",
      "3/3 [==============================] - 2s 534ms/step - loss: 0.0994 - accuracy: 0.9610 - val_loss: 3.7502 - val_accuracy: 0.5714\n",
      "Epoch 53/500\n",
      "3/3 [==============================] - 2s 541ms/step - loss: 0.0307 - accuracy: 0.9870 - val_loss: 3.9360 - val_accuracy: 0.5325\n",
      "Epoch 54/500\n",
      "3/3 [==============================] - 2s 534ms/step - loss: 0.0045 - accuracy: 1.0000 - val_loss: 2.9051 - val_accuracy: 0.5714\n",
      "Epoch 55/500\n",
      "3/3 [==============================] - 1s 527ms/step - loss: 0.0496 - accuracy: 0.9870 - val_loss: 158.6739 - val_accuracy: 0.5584\n",
      "Epoch 56/500\n",
      "3/3 [==============================] - 2s 530ms/step - loss: 0.7604 - accuracy: 0.7532 - val_loss: 11.0764 - val_accuracy: 0.5455\n",
      "Epoch 57/500\n",
      "3/3 [==============================] - 2s 532ms/step - loss: 0.2764 - accuracy: 0.8571 - val_loss: 76.5947 - val_accuracy: 0.6234\n",
      "Epoch 58/500\n"
     ]
    },
    {
     "name": "stdout",
     "output_type": "stream",
     "text": [
      "3/3 [==============================] - 2s 534ms/step - loss: 0.2904 - accuracy: 0.8831 - val_loss: 12.2364 - val_accuracy: 0.5844\n",
      "Epoch 59/500\n",
      "3/3 [==============================] - 2s 531ms/step - loss: 0.3267 - accuracy: 0.8571 - val_loss: 19.5951 - val_accuracy: 0.5195\n",
      "Epoch 60/500\n",
      "3/3 [==============================] - 2s 528ms/step - loss: 0.2321 - accuracy: 0.9091 - val_loss: 10.8071 - val_accuracy: 0.4675\n",
      "Epoch 61/500\n",
      "3/3 [==============================] - 2s 534ms/step - loss: 0.2986 - accuracy: 0.9091 - val_loss: 58.0710 - val_accuracy: 0.5065\n",
      "Epoch 62/500\n",
      "3/3 [==============================] - 1s 527ms/step - loss: 0.4805 - accuracy: 0.7792 - val_loss: 39.6768 - val_accuracy: 0.5714\n",
      "Epoch 63/500\n",
      "3/3 [==============================] - 2s 642ms/step - loss: 0.0685 - accuracy: 1.0000 - val_loss: 5.4195 - val_accuracy: 0.6753\n",
      "Epoch 64/500\n",
      "3/3 [==============================] - 2s 537ms/step - loss: 0.0404 - accuracy: 0.9870 - val_loss: 18.3182 - val_accuracy: 0.6234\n",
      "Epoch 65/500\n",
      "3/3 [==============================] - 1s 521ms/step - loss: 0.1375 - accuracy: 0.9481 - val_loss: 7.9126 - val_accuracy: 0.6623\n",
      "Epoch 66/500\n",
      "3/3 [==============================] - 2s 616ms/step - loss: 0.2589 - accuracy: 0.9351 - val_loss: 13.4250 - val_accuracy: 0.6883\n",
      "Epoch 67/500\n",
      "3/3 [==============================] - 1s 518ms/step - loss: 0.2081 - accuracy: 0.9221 - val_loss: 9.3698 - val_accuracy: 0.6883\n",
      "Epoch 68/500\n",
      "3/3 [==============================] - 1s 519ms/step - loss: 0.1330 - accuracy: 0.9351 - val_loss: 10.8570 - val_accuracy: 0.6753\n",
      "Epoch 69/500\n",
      "3/3 [==============================] - 1s 520ms/step - loss: 0.0952 - accuracy: 0.9610 - val_loss: 8.2555 - val_accuracy: 0.6234\n",
      "Epoch 70/500\n",
      "3/3 [==============================] - 1s 518ms/step - loss: 0.2318 - accuracy: 0.8961 - val_loss: 2.1766 - val_accuracy: 0.5844\n",
      "Epoch 71/500\n",
      "3/3 [==============================] - 1s 518ms/step - loss: 0.3419 - accuracy: 0.8831 - val_loss: 3.3563 - val_accuracy: 0.6883\n",
      "Epoch 72/500\n",
      "3/3 [==============================] - 2s 610ms/step - loss: 0.0211 - accuracy: 1.0000 - val_loss: 2.3857 - val_accuracy: 0.7013\n",
      "Epoch 73/500\n",
      "3/3 [==============================] - 2s 612ms/step - loss: 0.0050 - accuracy: 1.0000 - val_loss: 2.1948 - val_accuracy: 0.7273\n",
      "Epoch 74/500\n",
      "3/3 [==============================] - 1s 519ms/step - loss: 0.0026 - accuracy: 1.0000 - val_loss: 2.1722 - val_accuracy: 0.7273\n",
      "Epoch 75/500\n",
      "3/3 [==============================] - 1s 518ms/step - loss: 0.0015 - accuracy: 1.0000 - val_loss: 2.1510 - val_accuracy: 0.7273\n",
      "Epoch 76/500\n",
      "3/3 [==============================] - 2s 614ms/step - loss: 0.0013 - accuracy: 1.0000 - val_loss: 2.1212 - val_accuracy: 0.7532\n",
      "Epoch 77/500\n",
      "3/3 [==============================] - 1s 517ms/step - loss: 0.0032 - accuracy: 1.0000 - val_loss: 2.1683 - val_accuracy: 0.7532\n",
      "Epoch 78/500\n",
      "3/3 [==============================] - 1s 518ms/step - loss: 2.8544e-04 - accuracy: 1.0000 - val_loss: 2.1654 - val_accuracy: 0.7532\n",
      "Epoch 79/500\n",
      "3/3 [==============================] - 1s 519ms/step - loss: 3.9085e-04 - accuracy: 1.0000 - val_loss: 2.1680 - val_accuracy: 0.7532\n",
      "Epoch 80/500\n",
      "3/3 [==============================] - 1s 517ms/step - loss: 2.9226e-04 - accuracy: 1.0000 - val_loss: 2.1496 - val_accuracy: 0.7532\n",
      "Epoch 81/500\n",
      "3/3 [==============================] - 1s 518ms/step - loss: 4.9136e-04 - accuracy: 1.0000 - val_loss: 2.1685 - val_accuracy: 0.7273\n",
      "Epoch 82/500\n",
      "3/3 [==============================] - 1s 520ms/step - loss: 4.9646e-04 - accuracy: 1.0000 - val_loss: 2.1733 - val_accuracy: 0.7532\n",
      "Epoch 83/500\n",
      "3/3 [==============================] - 1s 519ms/step - loss: 1.8053e-04 - accuracy: 1.0000 - val_loss: 2.1425 - val_accuracy: 0.7403\n",
      "Epoch 84/500\n",
      "3/3 [==============================] - 1s 519ms/step - loss: 1.1212e-04 - accuracy: 1.0000 - val_loss: 2.1010 - val_accuracy: 0.7403\n",
      "Epoch 85/500\n",
      "3/3 [==============================] - 1s 520ms/step - loss: 4.2629e-04 - accuracy: 1.0000 - val_loss: 2.1252 - val_accuracy: 0.7273\n",
      "Epoch 86/500\n",
      "3/3 [==============================] - 1s 519ms/step - loss: 0.3850 - accuracy: 0.9091 - val_loss: 1.8707 - val_accuracy: 0.5325\n",
      "Epoch 87/500\n",
      "3/3 [==============================] - 1s 518ms/step - loss: 0.5955 - accuracy: 0.7532 - val_loss: 11.5651 - val_accuracy: 0.6364\n",
      "Epoch 88/500\n",
      "3/3 [==============================] - 1s 519ms/step - loss: 0.5442 - accuracy: 0.7013 - val_loss: 1.3977 - val_accuracy: 0.5455\n",
      "Epoch 89/500\n",
      "3/3 [==============================] - 1s 514ms/step - loss: 0.3912 - accuracy: 0.8312 - val_loss: 12.1125 - val_accuracy: 0.5584\n",
      "Epoch 90/500\n",
      "3/3 [==============================] - 1s 518ms/step - loss: 0.4317 - accuracy: 0.7922 - val_loss: 26.2135 - val_accuracy: 0.5455\n",
      "Epoch 91/500\n",
      "3/3 [==============================] - 1s 520ms/step - loss: 0.1332 - accuracy: 0.9610 - val_loss: 9.3102 - val_accuracy: 0.5325\n",
      "Epoch 92/500\n",
      "3/3 [==============================] - 1s 514ms/step - loss: 0.0767 - accuracy: 0.9481 - val_loss: 12.6184 - val_accuracy: 0.5455\n",
      "Epoch 93/500\n",
      "3/3 [==============================] - 1s 518ms/step - loss: 0.3828 - accuracy: 0.8442 - val_loss: 216.9536 - val_accuracy: 0.5714\n",
      "Epoch 94/500\n",
      "3/3 [==============================] - 1s 517ms/step - loss: 0.4866 - accuracy: 0.7403 - val_loss: 319.9780 - val_accuracy: 0.5844\n",
      "Epoch 95/500\n",
      "3/3 [==============================] - 1s 518ms/step - loss: 0.1762 - accuracy: 0.9481 - val_loss: 125.0576 - val_accuracy: 0.5974\n",
      "Epoch 96/500\n",
      "3/3 [==============================] - 1s 520ms/step - loss: 0.2825 - accuracy: 0.8571 - val_loss: 118.6843 - val_accuracy: 0.5974\n",
      "Epoch 97/500\n",
      "3/3 [==============================] - 1s 517ms/step - loss: 0.0840 - accuracy: 0.9740 - val_loss: 70.2644 - val_accuracy: 0.6234\n",
      "Epoch 98/500\n",
      "3/3 [==============================] - 1s 517ms/step - loss: 0.0926 - accuracy: 0.9740 - val_loss: 73.6151 - val_accuracy: 0.5714\n",
      "Epoch 99/500\n",
      "3/3 [==============================] - 1s 518ms/step - loss: 0.3957 - accuracy: 0.8701 - val_loss: 29.1525 - val_accuracy: 0.6104\n",
      "Epoch 100/500\n",
      "3/3 [==============================] - 1s 516ms/step - loss: 0.2527 - accuracy: 0.8961 - val_loss: 133.3081 - val_accuracy: 0.6234\n",
      "Epoch 101/500\n",
      "3/3 [==============================] - 1s 519ms/step - loss: 0.2140 - accuracy: 0.9221 - val_loss: 68.3003 - val_accuracy: 0.6494\n",
      "Epoch 102/500\n",
      "3/3 [==============================] - 1s 520ms/step - loss: 0.2652 - accuracy: 0.8701 - val_loss: 21.8417 - val_accuracy: 0.6104\n",
      "Epoch 103/500\n",
      "3/3 [==============================] - 2s 614ms/step - loss: 0.0496 - accuracy: 1.0000 - val_loss: 14.8390 - val_accuracy: 0.7662\n",
      "Epoch 104/500\n",
      "3/3 [==============================] - 1s 510ms/step - loss: 0.0224 - accuracy: 1.0000 - val_loss: 5.8102 - val_accuracy: 0.7532\n",
      "Epoch 105/500\n",
      "3/3 [==============================] - 1s 517ms/step - loss: 0.0170 - accuracy: 1.0000 - val_loss: 4.4239 - val_accuracy: 0.7273\n",
      "Epoch 106/500\n",
      "3/3 [==============================] - 1s 519ms/step - loss: 0.0734 - accuracy: 0.9740 - val_loss: 26.2065 - val_accuracy: 0.5714\n",
      "Epoch 107/500\n",
      "3/3 [==============================] - 1s 518ms/step - loss: 1.0953 - accuracy: 0.6623 - val_loss: 127.5012 - val_accuracy: 0.5714\n",
      "Epoch 108/500\n",
      "3/3 [==============================] - 1s 520ms/step - loss: 0.2387 - accuracy: 0.9221 - val_loss: 259.3941 - val_accuracy: 0.5714\n",
      "Epoch 109/500\n",
      "3/3 [==============================] - 1s 518ms/step - loss: 0.1667 - accuracy: 0.9610 - val_loss: 294.7892 - val_accuracy: 0.5714\n",
      "Epoch 110/500\n",
      "3/3 [==============================] - 1s 517ms/step - loss: 0.0996 - accuracy: 0.9740 - val_loss: 137.2934 - val_accuracy: 0.5714\n",
      "Epoch 111/500\n",
      "3/3 [==============================] - 1s 519ms/step - loss: 0.1113 - accuracy: 0.9610 - val_loss: 114.1429 - val_accuracy: 0.5714\n",
      "Epoch 112/500\n",
      "3/3 [==============================] - 1s 518ms/step - loss: 0.0521 - accuracy: 0.9870 - val_loss: 23.0747 - val_accuracy: 0.5714\n",
      "Epoch 113/500\n",
      "3/3 [==============================] - 1s 517ms/step - loss: 0.0837 - accuracy: 0.9740 - val_loss: 356.9903 - val_accuracy: 0.5584\n",
      "Epoch 114/500\n",
      "3/3 [==============================] - 1s 522ms/step - loss: 0.2544 - accuracy: 0.8961 - val_loss: 11.3438 - val_accuracy: 0.5584\n",
      "Epoch 115/500\n"
     ]
    },
    {
     "name": "stdout",
     "output_type": "stream",
     "text": [
      "3/3 [==============================] - 2s 532ms/step - loss: 0.0670 - accuracy: 0.9740 - val_loss: 7.5907 - val_accuracy: 0.6104\n",
      "Epoch 116/500\n",
      "3/3 [==============================] - 2s 533ms/step - loss: 0.1820 - accuracy: 0.9481 - val_loss: 18.7522 - val_accuracy: 0.5844\n",
      "Epoch 117/500\n",
      "3/3 [==============================] - 2s 539ms/step - loss: 0.1321 - accuracy: 0.9351 - val_loss: 19.6199 - val_accuracy: 0.5844\n",
      "Epoch 118/500\n",
      "3/3 [==============================] - 2s 527ms/step - loss: 0.2026 - accuracy: 0.9481 - val_loss: 65.2001 - val_accuracy: 0.5844\n",
      "Epoch 119/500\n",
      "3/3 [==============================] - 1s 520ms/step - loss: 0.0688 - accuracy: 0.9870 - val_loss: 36.9682 - val_accuracy: 0.5714\n",
      "Epoch 120/500\n",
      "3/3 [==============================] - 1s 518ms/step - loss: 0.0725 - accuracy: 0.9740 - val_loss: 65.4775 - val_accuracy: 0.6623\n",
      "Epoch 121/500\n",
      "3/3 [==============================] - 1s 517ms/step - loss: 0.0273 - accuracy: 0.9870 - val_loss: 61.9741 - val_accuracy: 0.6234\n",
      "Epoch 122/500\n",
      "3/3 [==============================] - 1s 517ms/step - loss: 0.0015 - accuracy: 1.0000 - val_loss: 47.0252 - val_accuracy: 0.6494\n",
      "Epoch 123/500\n",
      "3/3 [==============================] - 1s 518ms/step - loss: 0.0019 - accuracy: 1.0000 - val_loss: 33.3734 - val_accuracy: 0.6364\n",
      "Epoch 124/500\n",
      "3/3 [==============================] - 1s 517ms/step - loss: 0.0061 - accuracy: 1.0000 - val_loss: 12.4672 - val_accuracy: 0.6364\n",
      "Epoch 125/500\n",
      "3/3 [==============================] - 1s 518ms/step - loss: 0.0412 - accuracy: 0.9870 - val_loss: 23.8777 - val_accuracy: 0.5455\n",
      "Epoch 126/500\n",
      "3/3 [==============================] - 1s 521ms/step - loss: 0.3031 - accuracy: 0.8831 - val_loss: 48.4303 - val_accuracy: 0.6234\n",
      "Epoch 127/500\n",
      "3/3 [==============================] - 1s 515ms/step - loss: 0.1932 - accuracy: 0.9091 - val_loss: 71.4531 - val_accuracy: 0.5844\n",
      "Epoch 128/500\n",
      "3/3 [==============================] - 1s 519ms/step - loss: 0.1822 - accuracy: 0.9091 - val_loss: 564.2706 - val_accuracy: 0.5714\n",
      "Epoch 129/500\n",
      "3/3 [==============================] - 1s 517ms/step - loss: 0.0749 - accuracy: 0.9740 - val_loss: 256.4626 - val_accuracy: 0.5714\n",
      "Epoch 130/500\n",
      "3/3 [==============================] - 1s 519ms/step - loss: 0.0106 - accuracy: 1.0000 - val_loss: 175.1877 - val_accuracy: 0.5844\n",
      "Epoch 131/500\n",
      "3/3 [==============================] - 1s 518ms/step - loss: 0.0257 - accuracy: 0.9870 - val_loss: 126.7093 - val_accuracy: 0.5714\n",
      "Epoch 132/500\n",
      "3/3 [==============================] - 1s 517ms/step - loss: 0.0481 - accuracy: 0.9740 - val_loss: 19.3629 - val_accuracy: 0.5974\n",
      "Epoch 133/500\n",
      "3/3 [==============================] - 1s 521ms/step - loss: 0.4898 - accuracy: 0.8571 - val_loss: 23.4811 - val_accuracy: 0.5844\n",
      "Epoch 134/500\n",
      "3/3 [==============================] - 1s 519ms/step - loss: 0.1214 - accuracy: 0.9351 - val_loss: 43.4658 - val_accuracy: 0.5974\n",
      "Epoch 135/500\n",
      "3/3 [==============================] - 1s 517ms/step - loss: 0.1322 - accuracy: 0.9481 - val_loss: 93.6631 - val_accuracy: 0.5325\n",
      "Epoch 136/500\n",
      "3/3 [==============================] - 1s 515ms/step - loss: 0.5288 - accuracy: 0.9091 - val_loss: 146.1233 - val_accuracy: 0.5974\n",
      "Epoch 137/500\n",
      "3/3 [==============================] - 1s 519ms/step - loss: 0.5200 - accuracy: 0.7792 - val_loss: 55.7998 - val_accuracy: 0.5325\n",
      "Epoch 138/500\n",
      "3/3 [==============================] - 1s 518ms/step - loss: 0.2194 - accuracy: 0.9481 - val_loss: 491.5753 - val_accuracy: 0.5714\n",
      "Epoch 139/500\n",
      "3/3 [==============================] - 1s 519ms/step - loss: 0.2171 - accuracy: 0.9091 - val_loss: 183.1433 - val_accuracy: 0.5455\n",
      "Epoch 140/500\n",
      "3/3 [==============================] - 1s 517ms/step - loss: 0.0764 - accuracy: 0.9740 - val_loss: 129.7464 - val_accuracy: 0.5455\n",
      "Epoch 141/500\n",
      "3/3 [==============================] - 2s 539ms/step - loss: 0.0231 - accuracy: 1.0000 - val_loss: 91.4276 - val_accuracy: 0.5455\n",
      "Epoch 142/500\n",
      "3/3 [==============================] - 2s 536ms/step - loss: 0.0225 - accuracy: 1.0000 - val_loss: 64.3618 - val_accuracy: 0.5455\n",
      "Epoch 143/500\n",
      "3/3 [==============================] - 2s 546ms/step - loss: 0.0126 - accuracy: 1.0000 - val_loss: 38.8088 - val_accuracy: 0.4935\n",
      "Epoch 144/500\n",
      "3/3 [==============================] - 2s 543ms/step - loss: 0.0034 - accuracy: 1.0000 - val_loss: 28.6888 - val_accuracy: 0.4805\n",
      "Epoch 145/500\n",
      "3/3 [==============================] - 2s 532ms/step - loss: 0.0049 - accuracy: 1.0000 - val_loss: 24.1692 - val_accuracy: 0.4805\n",
      "Epoch 146/500\n",
      "3/3 [==============================] - 2s 540ms/step - loss: 0.0072 - accuracy: 1.0000 - val_loss: 13.7359 - val_accuracy: 0.6494\n",
      "Epoch 147/500\n",
      "3/3 [==============================] - 2s 549ms/step - loss: 0.1879 - accuracy: 0.9481 - val_loss: 25.9452 - val_accuracy: 0.4935\n",
      "Epoch 148/500\n",
      "3/3 [==============================] - 2s 539ms/step - loss: 0.1725 - accuracy: 0.9351 - val_loss: 40.5873 - val_accuracy: 0.5455\n",
      "Epoch 149/500\n",
      "3/3 [==============================] - 2s 534ms/step - loss: 0.1526 - accuracy: 0.9481 - val_loss: 28.7916 - val_accuracy: 0.5844\n",
      "Epoch 150/500\n",
      "3/3 [==============================] - 2s 534ms/step - loss: 0.0513 - accuracy: 0.9870 - val_loss: 28.0211 - val_accuracy: 0.5844\n",
      "Epoch 151/500\n",
      "3/3 [==============================] - 2s 531ms/step - loss: 0.1732 - accuracy: 0.9221 - val_loss: 252.6860 - val_accuracy: 0.5584\n",
      "Epoch 152/500\n",
      "3/3 [==============================] - 2s 534ms/step - loss: 0.0818 - accuracy: 0.9740 - val_loss: 13.5823 - val_accuracy: 0.5325\n",
      "Epoch 153/500\n",
      "3/3 [==============================] - 2s 527ms/step - loss: 0.0352 - accuracy: 0.9870 - val_loss: 8.6844 - val_accuracy: 0.5584\n",
      "Epoch 154/500\n",
      "3/3 [==============================] - 2s 535ms/step - loss: 0.0316 - accuracy: 1.0000 - val_loss: 5.3223 - val_accuracy: 0.6623\n",
      "Epoch 155/500\n",
      "3/3 [==============================] - 1s 521ms/step - loss: 0.0242 - accuracy: 0.9870 - val_loss: 26.6731 - val_accuracy: 0.5974\n",
      "Epoch 156/500\n",
      "3/3 [==============================] - 2s 533ms/step - loss: 0.0034 - accuracy: 1.0000 - val_loss: 18.1717 - val_accuracy: 0.5974\n",
      "Epoch 157/500\n",
      "3/3 [==============================] - 2s 541ms/step - loss: 0.0122 - accuracy: 1.0000 - val_loss: 8.8125 - val_accuracy: 0.7662\n",
      "Epoch 158/500\n",
      "3/3 [==============================] - 2s 539ms/step - loss: 0.1436 - accuracy: 0.9610 - val_loss: 11.8806 - val_accuracy: 0.7403\n",
      "Epoch 159/500\n",
      "3/3 [==============================] - 2s 540ms/step - loss: 0.0073 - accuracy: 1.0000 - val_loss: 8.0760 - val_accuracy: 0.7662\n",
      "Epoch 160/500\n",
      "3/3 [==============================] - 2s 647ms/step - loss: 0.0065 - accuracy: 1.0000 - val_loss: 0.4526 - val_accuracy: 0.8961\n",
      "Epoch 161/500\n",
      "3/3 [==============================] - 2s 541ms/step - loss: 0.3524 - accuracy: 0.8831 - val_loss: 360.7406 - val_accuracy: 0.5714\n",
      "Epoch 162/500\n",
      "3/3 [==============================] - 2s 544ms/step - loss: 0.0572 - accuracy: 0.9740 - val_loss: 82.6492 - val_accuracy: 0.5714\n",
      "Epoch 163/500\n",
      "3/3 [==============================] - 2s 537ms/step - loss: 0.1133 - accuracy: 0.9481 - val_loss: 86.7881 - val_accuracy: 0.5714\n",
      "Epoch 164/500\n",
      "3/3 [==============================] - 2s 531ms/step - loss: 0.0522 - accuracy: 0.9870 - val_loss: 59.9030 - val_accuracy: 0.5714\n",
      "Epoch 165/500\n",
      "3/3 [==============================] - 1s 524ms/step - loss: 0.0039 - accuracy: 1.0000 - val_loss: 42.4620 - val_accuracy: 0.5714\n",
      "Epoch 166/500\n",
      "3/3 [==============================] - 1s 526ms/step - loss: 0.0016 - accuracy: 1.0000 - val_loss: 29.7669 - val_accuracy: 0.5844\n",
      "Epoch 167/500\n",
      "3/3 [==============================] - 1s 523ms/step - loss: 0.0012 - accuracy: 1.0000 - val_loss: 20.9280 - val_accuracy: 0.6623\n",
      "Epoch 168/500\n",
      "3/3 [==============================] - 1s 520ms/step - loss: 0.0011 - accuracy: 1.0000 - val_loss: 15.4546 - val_accuracy: 0.7013\n",
      "Epoch 169/500\n",
      "3/3 [==============================] - 1s 523ms/step - loss: 0.0011 - accuracy: 1.0000 - val_loss: 11.0185 - val_accuracy: 0.7273\n",
      "Epoch 170/500\n",
      "3/3 [==============================] - 1s 522ms/step - loss: 0.0015 - accuracy: 1.0000 - val_loss: 9.0509 - val_accuracy: 0.7792\n",
      "Epoch 171/500\n",
      "3/3 [==============================] - 1s 528ms/step - loss: 0.0141 - accuracy: 0.9870 - val_loss: 27.6398 - val_accuracy: 0.5325\n"
     ]
    },
    {
     "name": "stdout",
     "output_type": "stream",
     "text": [
      "Epoch 172/500\n",
      "3/3 [==============================] - 2s 534ms/step - loss: 0.3389 - accuracy: 0.9221 - val_loss: 502.1937 - val_accuracy: 0.5714\n",
      "Epoch 173/500\n",
      "3/3 [==============================] - 1s 525ms/step - loss: 0.4881 - accuracy: 0.8571 - val_loss: 426.8407 - val_accuracy: 0.5714\n",
      "Epoch 174/500\n",
      "3/3 [==============================] - 2s 539ms/step - loss: 0.3775 - accuracy: 0.8961 - val_loss: 249.4938 - val_accuracy: 0.5714\n",
      "Epoch 175/500\n",
      "3/3 [==============================] - 1s 523ms/step - loss: 0.0863 - accuracy: 0.9870 - val_loss: 201.4954 - val_accuracy: 0.5714\n",
      "Epoch 176/500\n",
      "3/3 [==============================] - 2s 540ms/step - loss: 0.1049 - accuracy: 0.9481 - val_loss: 186.9772 - val_accuracy: 0.5714\n",
      "Epoch 177/500\n",
      "3/3 [==============================] - 1s 527ms/step - loss: 0.0191 - accuracy: 1.0000 - val_loss: 148.8367 - val_accuracy: 0.5714\n",
      "Epoch 178/500\n",
      "3/3 [==============================] - 2s 532ms/step - loss: 0.0095 - accuracy: 1.0000 - val_loss: 101.3988 - val_accuracy: 0.5714\n",
      "Epoch 179/500\n",
      "3/3 [==============================] - 2s 533ms/step - loss: 0.0042 - accuracy: 1.0000 - val_loss: 83.3561 - val_accuracy: 0.5714\n",
      "Epoch 180/500\n",
      "3/3 [==============================] - 1s 530ms/step - loss: 0.0131 - accuracy: 1.0000 - val_loss: 35.1489 - val_accuracy: 0.5714\n",
      "Epoch 181/500\n",
      "3/3 [==============================] - 2s 529ms/step - loss: 0.0461 - accuracy: 0.9610 - val_loss: 13.7951 - val_accuracy: 0.5974\n",
      "Epoch 182/500\n",
      "3/3 [==============================] - 2s 534ms/step - loss: 0.0072 - accuracy: 1.0000 - val_loss: 10.5427 - val_accuracy: 0.5974\n",
      "Epoch 183/500\n",
      "3/3 [==============================] - 2s 623ms/step - loss: 0.0387 - accuracy: 0.9740 - val_loss: 1.5200 - val_accuracy: 0.9091\n",
      "Epoch 184/500\n",
      "3/3 [==============================] - 1s 525ms/step - loss: 0.1406 - accuracy: 0.9740 - val_loss: 8.9284 - val_accuracy: 0.6623\n",
      "Epoch 185/500\n",
      "3/3 [==============================] - 1s 527ms/step - loss: 0.0111 - accuracy: 1.0000 - val_loss: 9.4270 - val_accuracy: 0.5974\n",
      "Epoch 186/500\n",
      "3/3 [==============================] - 1s 524ms/step - loss: 0.1960 - accuracy: 0.9351 - val_loss: 2.9918 - val_accuracy: 0.6234\n",
      "Epoch 187/500\n",
      "3/3 [==============================] - 1s 525ms/step - loss: 0.0234 - accuracy: 0.9870 - val_loss: 2.1131 - val_accuracy: 0.6883\n",
      "Epoch 188/500\n",
      "3/3 [==============================] - 1s 519ms/step - loss: 0.0255 - accuracy: 1.0000 - val_loss: 2.0631 - val_accuracy: 0.7013\n",
      "Epoch 189/500\n",
      "3/3 [==============================] - 1s 526ms/step - loss: 0.0015 - accuracy: 1.0000 - val_loss: 1.4961 - val_accuracy: 0.7403\n",
      "Epoch 190/500\n",
      "3/3 [==============================] - 1s 524ms/step - loss: 0.0017 - accuracy: 1.0000 - val_loss: 0.9965 - val_accuracy: 0.7792\n",
      "Epoch 191/500\n",
      "3/3 [==============================] - 1s 521ms/step - loss: 0.0014 - accuracy: 1.0000 - val_loss: 0.4719 - val_accuracy: 0.8831\n",
      "Epoch 192/500\n",
      "3/3 [==============================] - 1s 520ms/step - loss: 0.0054 - accuracy: 1.0000 - val_loss: 0.8169 - val_accuracy: 0.8052\n",
      "Epoch 193/500\n",
      "3/3 [==============================] - 1s 522ms/step - loss: 0.2588 - accuracy: 0.9221 - val_loss: 1.8643 - val_accuracy: 0.8182\n",
      "Epoch 194/500\n",
      "3/3 [==============================] - 1s 527ms/step - loss: 0.0571 - accuracy: 0.9740 - val_loss: 4.5168 - val_accuracy: 0.7013\n",
      "Epoch 195/500\n",
      "3/3 [==============================] - 1s 524ms/step - loss: 0.1745 - accuracy: 0.9351 - val_loss: 2.4361 - val_accuracy: 0.7273\n",
      "Epoch 196/500\n",
      "3/3 [==============================] - 1s 522ms/step - loss: 0.0072 - accuracy: 1.0000 - val_loss: 1.3830 - val_accuracy: 0.7922\n",
      "Epoch 197/500\n",
      "3/3 [==============================] - 1s 519ms/step - loss: 0.1683 - accuracy: 0.9481 - val_loss: 1.3291 - val_accuracy: 0.8312\n",
      "Epoch 198/500\n",
      "3/3 [==============================] - 1s 520ms/step - loss: 0.1214 - accuracy: 0.9351 - val_loss: 4.2168 - val_accuracy: 0.7013\n",
      "Epoch 199/500\n",
      "3/3 [==============================] - 1s 522ms/step - loss: 0.0854 - accuracy: 0.9870 - val_loss: 5.0995 - val_accuracy: 0.6104\n",
      "Epoch 200/500\n",
      "3/3 [==============================] - 1s 520ms/step - loss: 0.3025 - accuracy: 0.9091 - val_loss: 0.4785 - val_accuracy: 0.8831\n",
      "Epoch 201/500\n",
      "3/3 [==============================] - 2s 617ms/step - loss: 0.0353 - accuracy: 1.0000 - val_loss: 0.0186 - val_accuracy: 1.0000\n",
      "Epoch 202/500\n",
      "3/3 [==============================] - 1s 524ms/step - loss: 0.0694 - accuracy: 0.9870 - val_loss: 0.0836 - val_accuracy: 0.9610\n",
      "Epoch 203/500\n",
      "3/3 [==============================] - 1s 518ms/step - loss: 0.0018 - accuracy: 1.0000 - val_loss: 0.0815 - val_accuracy: 0.9610\n",
      "Epoch 204/500\n",
      "3/3 [==============================] - 1s 521ms/step - loss: 0.0022 - accuracy: 1.0000 - val_loss: 0.0831 - val_accuracy: 0.9610\n",
      "Epoch 205/500\n",
      "3/3 [==============================] - 1s 522ms/step - loss: 0.0092 - accuracy: 1.0000 - val_loss: 0.0162 - val_accuracy: 0.9870\n",
      "Epoch 206/500\n",
      "3/3 [==============================] - 1s 519ms/step - loss: 0.1623 - accuracy: 0.9221 - val_loss: 1.9623 - val_accuracy: 0.6494\n",
      "Epoch 207/500\n",
      "3/3 [==============================] - 1s 522ms/step - loss: 0.2076 - accuracy: 0.9481 - val_loss: 0.0520 - val_accuracy: 0.9870\n",
      "Epoch 208/500\n",
      "3/3 [==============================] - 1s 524ms/step - loss: 0.0468 - accuracy: 0.9870 - val_loss: 0.3851 - val_accuracy: 0.8961\n",
      "Epoch 209/500\n",
      "3/3 [==============================] - 1s 525ms/step - loss: 0.0217 - accuracy: 1.0000 - val_loss: 0.1481 - val_accuracy: 0.9481\n",
      "Epoch 210/500\n",
      "3/3 [==============================] - 1s 522ms/step - loss: 0.0754 - accuracy: 0.9740 - val_loss: 0.3861 - val_accuracy: 0.8961\n",
      "Epoch 211/500\n",
      "3/3 [==============================] - 1s 524ms/step - loss: 0.0362 - accuracy: 0.9740 - val_loss: 0.2502 - val_accuracy: 0.9091\n",
      "Epoch 212/500\n",
      "3/3 [==============================] - 1s 525ms/step - loss: 0.0770 - accuracy: 0.9740 - val_loss: 1.1655 - val_accuracy: 0.8312\n",
      "Epoch 213/500\n",
      "3/3 [==============================] - 1s 526ms/step - loss: 0.0912 - accuracy: 0.9740 - val_loss: 4.5506 - val_accuracy: 0.6623\n",
      "Epoch 214/500\n",
      "3/3 [==============================] - 1s 524ms/step - loss: 0.0633 - accuracy: 0.9740 - val_loss: 2.9970 - val_accuracy: 0.7532\n",
      "Epoch 215/500\n",
      "3/3 [==============================] - 1s 521ms/step - loss: 0.0102 - accuracy: 1.0000 - val_loss: 2.9045 - val_accuracy: 0.7013\n",
      "Epoch 216/500\n",
      "3/3 [==============================] - 1s 524ms/step - loss: 0.0033 - accuracy: 1.0000 - val_loss: 3.0690 - val_accuracy: 0.7013\n",
      "Epoch 217/500\n",
      "3/3 [==============================] - 1s 523ms/step - loss: 8.2754e-04 - accuracy: 1.0000 - val_loss: 2.8577 - val_accuracy: 0.7013\n",
      "Epoch 218/500\n",
      "3/3 [==============================] - 1s 529ms/step - loss: 0.0010 - accuracy: 1.0000 - val_loss: 2.5834 - val_accuracy: 0.7013\n",
      "Epoch 219/500\n",
      "3/3 [==============================] - 2s 544ms/step - loss: 3.9701e-04 - accuracy: 1.0000 - val_loss: 2.2371 - val_accuracy: 0.7273\n",
      "Epoch 220/500\n",
      "3/3 [==============================] - 2s 530ms/step - loss: 4.4697e-04 - accuracy: 1.0000 - val_loss: 1.9915 - val_accuracy: 0.7273\n",
      "Epoch 221/500\n",
      "3/3 [==============================] - 2s 551ms/step - loss: 5.8986e-04 - accuracy: 1.0000 - val_loss: 1.7942 - val_accuracy: 0.7403\n",
      "Epoch 222/500\n",
      "3/3 [==============================] - 2s 550ms/step - loss: 1.0979e-04 - accuracy: 1.0000 - val_loss: 1.5978 - val_accuracy: 0.7532\n",
      "Epoch 223/500\n",
      "3/3 [==============================] - 2s 530ms/step - loss: 5.9417e-04 - accuracy: 1.0000 - val_loss: 1.9099 - val_accuracy: 0.7532\n",
      "Epoch 224/500\n",
      "3/3 [==============================] - 1s 529ms/step - loss: 0.0012 - accuracy: 1.0000 - val_loss: 1.4619 - val_accuracy: 0.7922\n",
      "Epoch 225/500\n",
      "3/3 [==============================] - 1s 527ms/step - loss: 2.7218e-04 - accuracy: 1.0000 - val_loss: 1.2145 - val_accuracy: 0.8052\n",
      "Epoch 226/500\n",
      "3/3 [==============================] - 2s 540ms/step - loss: 8.7511e-04 - accuracy: 1.0000 - val_loss: 0.6303 - val_accuracy: 0.8571\n",
      "Epoch 227/500\n",
      "3/3 [==============================] - 2s 544ms/step - loss: 0.0481 - accuracy: 0.9740 - val_loss: 0.5935 - val_accuracy: 0.9091\n",
      "Epoch 228/500\n",
      "3/3 [==============================] - 2s 550ms/step - loss: 0.1220 - accuracy: 0.9481 - val_loss: 19.6367 - val_accuracy: 0.4805\n"
     ]
    },
    {
     "name": "stdout",
     "output_type": "stream",
     "text": [
      "Epoch 229/500\n",
      "3/3 [==============================] - 2s 536ms/step - loss: 0.1818 - accuracy: 0.9091 - val_loss: 3.0743 - val_accuracy: 0.7662\n",
      "Epoch 230/500\n",
      "3/3 [==============================] - 2s 534ms/step - loss: 0.0181 - accuracy: 1.0000 - val_loss: 0.7815 - val_accuracy: 0.8831\n",
      "Epoch 231/500\n",
      "3/3 [==============================] - 2s 534ms/step - loss: 0.0054 - accuracy: 1.0000 - val_loss: 0.5282 - val_accuracy: 0.9091\n",
      "Epoch 232/500\n",
      "3/3 [==============================] - 2s 530ms/step - loss: 0.0021 - accuracy: 1.0000 - val_loss: 0.3678 - val_accuracy: 0.9221\n",
      "Epoch 233/500\n",
      "3/3 [==============================] - 2s 543ms/step - loss: 0.0012 - accuracy: 1.0000 - val_loss: 0.2524 - val_accuracy: 0.9221\n",
      "Epoch 234/500\n",
      "3/3 [==============================] - 1s 524ms/step - loss: 0.0033 - accuracy: 1.0000 - val_loss: 0.1565 - val_accuracy: 0.9351\n",
      "Epoch 235/500\n",
      "3/3 [==============================] - 1s 526ms/step - loss: 5.4790e-04 - accuracy: 1.0000 - val_loss: 0.1050 - val_accuracy: 0.9610\n",
      "Epoch 236/500\n",
      "3/3 [==============================] - 2s 543ms/step - loss: 0.0029 - accuracy: 1.0000 - val_loss: 0.2308 - val_accuracy: 0.9351\n",
      "Epoch 237/500\n",
      "3/3 [==============================] - 2s 535ms/step - loss: 0.0016 - accuracy: 1.0000 - val_loss: 0.1220 - val_accuracy: 0.9481\n",
      "Epoch 238/500\n",
      "3/3 [==============================] - 1s 526ms/step - loss: 0.0405 - accuracy: 0.9870 - val_loss: 0.1611 - val_accuracy: 0.9610\n",
      "Epoch 239/500\n",
      "3/3 [==============================] - 2s 530ms/step - loss: 0.1848 - accuracy: 0.9351 - val_loss: 1.8659 - val_accuracy: 0.7922\n",
      "Epoch 240/500\n",
      "3/3 [==============================] - 2s 526ms/step - loss: 0.0694 - accuracy: 0.9740 - val_loss: 1.5523 - val_accuracy: 0.8442\n",
      "Epoch 241/500\n",
      "3/3 [==============================] - 2s 545ms/step - loss: 0.0887 - accuracy: 0.9870 - val_loss: 0.1415 - val_accuracy: 0.9870\n",
      "Epoch 242/500\n",
      "3/3 [==============================] - 2s 531ms/step - loss: 0.0335 - accuracy: 1.0000 - val_loss: 0.1456 - val_accuracy: 0.9740\n",
      "Epoch 243/500\n",
      "3/3 [==============================] - 1s 525ms/step - loss: 0.0042 - accuracy: 1.0000 - val_loss: 0.0941 - val_accuracy: 0.9870\n",
      "Epoch 244/500\n",
      "3/3 [==============================] - 2s 531ms/step - loss: 0.0023 - accuracy: 1.0000 - val_loss: 0.0711 - val_accuracy: 0.9870\n",
      "Epoch 245/500\n",
      "3/3 [==============================] - 2s 534ms/step - loss: 0.0024 - accuracy: 1.0000 - val_loss: 0.0434 - val_accuracy: 0.9870\n",
      "Epoch 246/500\n",
      "3/3 [==============================] - 2s 540ms/step - loss: 0.0021 - accuracy: 1.0000 - val_loss: 0.0336 - val_accuracy: 0.9870\n",
      "Epoch 247/500\n",
      "3/3 [==============================] - 2s 540ms/step - loss: 0.1192 - accuracy: 0.9610 - val_loss: 0.8740 - val_accuracy: 0.7532\n",
      "Epoch 248/500\n",
      "3/3 [==============================] - 2s 537ms/step - loss: 0.0742 - accuracy: 0.9740 - val_loss: 4.1039 - val_accuracy: 0.6883\n",
      "Epoch 249/500\n",
      "3/3 [==============================] - 2s 539ms/step - loss: 0.1187 - accuracy: 0.9351 - val_loss: 6.1290 - val_accuracy: 0.7403\n",
      "Epoch 250/500\n",
      "3/3 [==============================] - 2s 530ms/step - loss: 0.0614 - accuracy: 0.9740 - val_loss: 3.0217 - val_accuracy: 0.7532\n",
      "Epoch 251/500\n",
      "3/3 [==============================] - 2s 540ms/step - loss: 0.0516 - accuracy: 0.9740 - val_loss: 1.5716 - val_accuracy: 0.8052\n",
      "Epoch 252/500\n",
      "3/3 [==============================] - 2s 542ms/step - loss: 0.0176 - accuracy: 1.0000 - val_loss: 4.0592 - val_accuracy: 0.7662\n",
      "Epoch 253/500\n",
      "3/3 [==============================] - 2s 543ms/step - loss: 0.0244 - accuracy: 1.0000 - val_loss: 2.4117 - val_accuracy: 0.7662\n",
      "Epoch 254/500\n",
      "3/3 [==============================] - 2s 533ms/step - loss: 0.0184 - accuracy: 1.0000 - val_loss: 1.0400 - val_accuracy: 0.8571\n",
      "Epoch 255/500\n",
      "3/3 [==============================] - 2s 528ms/step - loss: 0.0613 - accuracy: 0.9481 - val_loss: 0.2880 - val_accuracy: 0.8831\n",
      "Epoch 256/500\n",
      "3/3 [==============================] - 2s 537ms/step - loss: 0.3272 - accuracy: 0.9091 - val_loss: 0.1115 - val_accuracy: 0.9870\n",
      "Epoch 257/500\n",
      "3/3 [==============================] - 2s 537ms/step - loss: 0.0570 - accuracy: 0.9610 - val_loss: 0.0013 - val_accuracy: 1.0000\n",
      "Epoch 258/500\n",
      "3/3 [==============================] - 2s 539ms/step - loss: 0.0045 - accuracy: 1.0000 - val_loss: 8.1603e-04 - val_accuracy: 1.0000\n",
      "Epoch 259/500\n",
      "3/3 [==============================] - 2s 539ms/step - loss: 0.0038 - accuracy: 1.0000 - val_loss: 0.0014 - val_accuracy: 1.0000\n",
      "Epoch 260/500\n",
      "3/3 [==============================] - 2s 534ms/step - loss: 7.0453e-04 - accuracy: 1.0000 - val_loss: 9.9144e-04 - val_accuracy: 1.0000\n",
      "Epoch 261/500\n",
      "3/3 [==============================] - 2s 552ms/step - loss: 0.0015 - accuracy: 1.0000 - val_loss: 7.4884e-04 - val_accuracy: 1.0000\n",
      "Epoch 262/500\n",
      "3/3 [==============================] - 2s 545ms/step - loss: 0.0012 - accuracy: 1.0000 - val_loss: 0.0010 - val_accuracy: 1.0000\n",
      "Epoch 263/500\n",
      "3/3 [==============================] - 2s 540ms/step - loss: 2.1385e-04 - accuracy: 1.0000 - val_loss: 7.9233e-04 - val_accuracy: 1.0000\n",
      "Epoch 264/500\n",
      "3/3 [==============================] - 2s 527ms/step - loss: 0.1364 - accuracy: 0.9740 - val_loss: 0.1774 - val_accuracy: 0.9740\n",
      "Epoch 265/500\n",
      "3/3 [==============================] - 2s 531ms/step - loss: 0.0034 - accuracy: 1.0000 - val_loss: 0.0622 - val_accuracy: 0.9870\n",
      "Epoch 266/500\n",
      "3/3 [==============================] - 1s 528ms/step - loss: 0.0014 - accuracy: 1.0000 - val_loss: 0.0490 - val_accuracy: 0.9870\n",
      "Epoch 267/500\n",
      "3/3 [==============================] - 2s 532ms/step - loss: 2.8444e-04 - accuracy: 1.0000 - val_loss: 0.0400 - val_accuracy: 0.9870\n",
      "Epoch 268/500\n",
      "3/3 [==============================] - 2s 528ms/step - loss: 4.4846e-04 - accuracy: 1.0000 - val_loss: 0.0289 - val_accuracy: 0.9870\n",
      "Epoch 269/500\n",
      "3/3 [==============================] - 2s 541ms/step - loss: 0.0215 - accuracy: 1.0000 - val_loss: 0.0566 - val_accuracy: 0.9740\n",
      "Epoch 270/500\n",
      "3/3 [==============================] - 2s 538ms/step - loss: 0.2627 - accuracy: 0.9481 - val_loss: 0.4126 - val_accuracy: 0.9481\n",
      "Epoch 271/500\n",
      "3/3 [==============================] - 2s 536ms/step - loss: 0.0102 - accuracy: 1.0000 - val_loss: 0.6079 - val_accuracy: 0.9481\n",
      "Epoch 272/500\n",
      "3/3 [==============================] - 2s 539ms/step - loss: 0.0344 - accuracy: 0.9740 - val_loss: 3.1802 - val_accuracy: 0.9351\n",
      "Epoch 273/500\n",
      "3/3 [==============================] - 2s 536ms/step - loss: 0.1824 - accuracy: 0.9870 - val_loss: 4.7596 - val_accuracy: 0.7532\n",
      "Epoch 274/500\n",
      "3/3 [==============================] - 2s 533ms/step - loss: 0.0187 - accuracy: 1.0000 - val_loss: 2.5733 - val_accuracy: 0.8182\n",
      "Epoch 275/500\n",
      "3/3 [==============================] - 1s 526ms/step - loss: 0.0051 - accuracy: 1.0000 - val_loss: 3.3208 - val_accuracy: 0.8052\n",
      "Epoch 276/500\n",
      "3/3 [==============================] - 2s 535ms/step - loss: 0.2627 - accuracy: 0.9740 - val_loss: 5.3388 - val_accuracy: 0.6234\n",
      "Epoch 277/500\n",
      "3/3 [==============================] - 2s 538ms/step - loss: 0.1609 - accuracy: 0.9481 - val_loss: 2.0634 - val_accuracy: 0.7532\n",
      "Epoch 278/500\n",
      "3/3 [==============================] - 2s 533ms/step - loss: 0.0245 - accuracy: 1.0000 - val_loss: 0.9933 - val_accuracy: 0.8961\n",
      "Epoch 279/500\n",
      "3/3 [==============================] - 1s 529ms/step - loss: 0.0203 - accuracy: 0.9870 - val_loss: 1.0819 - val_accuracy: 0.8571\n",
      "Epoch 280/500\n",
      "3/3 [==============================] - 2s 527ms/step - loss: 0.0286 - accuracy: 0.9870 - val_loss: 0.7523 - val_accuracy: 0.8571\n",
      "Epoch 281/500\n",
      "3/3 [==============================] - 2s 540ms/step - loss: 0.0060 - accuracy: 1.0000 - val_loss: 0.5033 - val_accuracy: 0.8701\n",
      "Epoch 282/500\n",
      "3/3 [==============================] - 2s 538ms/step - loss: 0.1495 - accuracy: 0.9610 - val_loss: 1.0021 - val_accuracy: 0.8961\n",
      "Epoch 283/500\n",
      "3/3 [==============================] - 2s 532ms/step - loss: 0.0656 - accuracy: 0.9870 - val_loss: 0.7402 - val_accuracy: 0.9481\n",
      "Epoch 284/500\n",
      "3/3 [==============================] - 1s 523ms/step - loss: 0.0058 - accuracy: 1.0000 - val_loss: 0.6477 - val_accuracy: 0.9481\n",
      "Epoch 285/500\n",
      "3/3 [==============================] - 2s 537ms/step - loss: 0.0048 - accuracy: 1.0000 - val_loss: 0.5728 - val_accuracy: 0.9481\n",
      "Epoch 286/500\n"
     ]
    },
    {
     "name": "stdout",
     "output_type": "stream",
     "text": [
      "3/3 [==============================] - 2s 532ms/step - loss: 0.0017 - accuracy: 1.0000 - val_loss: 0.5048 - val_accuracy: 0.9610\n",
      "Epoch 287/500\n",
      "3/3 [==============================] - 2s 528ms/step - loss: 0.0030 - accuracy: 1.0000 - val_loss: 0.4089 - val_accuracy: 0.9610\n",
      "Epoch 288/500\n",
      "3/3 [==============================] - 2s 539ms/step - loss: 0.0019 - accuracy: 1.0000 - val_loss: 0.3480 - val_accuracy: 0.9610\n",
      "Epoch 289/500\n",
      "3/3 [==============================] - 1s 520ms/step - loss: 5.8412e-04 - accuracy: 1.0000 - val_loss: 0.3096 - val_accuracy: 0.9740\n",
      "Epoch 290/500\n",
      "3/3 [==============================] - 1s 521ms/step - loss: 8.2109e-04 - accuracy: 1.0000 - val_loss: 0.2633 - val_accuracy: 0.9740\n",
      "Epoch 291/500\n",
      "3/3 [==============================] - 1s 517ms/step - loss: 0.0056 - accuracy: 1.0000 - val_loss: 0.2319 - val_accuracy: 0.9870\n",
      "Epoch 292/500\n",
      "3/3 [==============================] - 1s 519ms/step - loss: 0.0013 - accuracy: 1.0000 - val_loss: 0.0832 - val_accuracy: 0.9870\n",
      "Epoch 293/500\n",
      "3/3 [==============================] - 1s 521ms/step - loss: 9.3894e-04 - accuracy: 1.0000 - val_loss: 0.0521 - val_accuracy: 0.9870\n",
      "Epoch 294/500\n",
      "3/3 [==============================] - 2s 537ms/step - loss: 1.7009e-04 - accuracy: 1.0000 - val_loss: 0.0293 - val_accuracy: 0.9870\n",
      "Epoch 295/500\n",
      "3/3 [==============================] - 2s 531ms/step - loss: 0.0112 - accuracy: 0.9870 - val_loss: 0.1162 - val_accuracy: 0.9610\n",
      "Epoch 296/500\n",
      "3/3 [==============================] - 2s 533ms/step - loss: 0.1294 - accuracy: 0.9740 - val_loss: 0.3051 - val_accuracy: 0.9481\n",
      "Epoch 297/500\n",
      "3/3 [==============================] - 2s 537ms/step - loss: 0.1225 - accuracy: 0.9351 - val_loss: 0.0246 - val_accuracy: 0.9870\n",
      "Epoch 298/500\n",
      "3/3 [==============================] - 2s 538ms/step - loss: 0.0027 - accuracy: 1.0000 - val_loss: 0.0044 - val_accuracy: 1.0000\n",
      "Epoch 299/500\n",
      "3/3 [==============================] - 2s 533ms/step - loss: 0.0046 - accuracy: 1.0000 - val_loss: 7.3180e-04 - val_accuracy: 1.0000\n",
      "Epoch 300/500\n",
      "3/3 [==============================] - 1s 527ms/step - loss: 0.0022 - accuracy: 1.0000 - val_loss: 4.9785e-04 - val_accuracy: 1.0000\n",
      "Epoch 301/500\n",
      "3/3 [==============================] - 2s 644ms/step - loss: 0.0015 - accuracy: 1.0000 - val_loss: 1.9720e-04 - val_accuracy: 1.0000\n"
     ]
    }
   ],
   "source": [
    "# Import ResNet1D Module\n",
    "#from ResNet_1DCNN import ResNet\n",
    "#from ResNeXt_1DCNN import ResNeXt as ResNet\n",
    "from SE_ResNeXt_1DCNN import SEResNeXt as ResNet\n",
    "\n",
    "\"Configurations for ResNet in Regression Mode\"\n",
    "length = X_train.shape[1]   # Number of Features (or length of the signal)\n",
    "model_width = 128           # Number of Filter or Kernel in the Input Layer\n",
    "num_channel = 1             # Number of Input Channels\n",
    "problem_type = 'Classification' # Regression or Classification\n",
    "output_number = cls_num     # Number of Outputs in the Regression Mode\n",
    "Regression_Model = ResNet(length, num_channel, model_width, problem_type=problem_type, output_nums=output_number).SEResNeXt50() # Build Model\n",
    "# SEResNext Models supported: SEResNeXt18, SEResNeXt34, SEResNeXt50, SEResNeXt101, SEResNeXt152, \n",
    "Regression_Model.compile(optimizer='rmsprop', loss='categorical_crossentropy', metrics=['accuracy'])\n",
    "earlystopping = callbacks.EarlyStopping(monitor =\"val_accuracy\", mode =\"max\", patience = 100, restore_best_weights = True)\n",
    "history = Regression_Model.fit(X_train, y_train_cat, epochs=500, batch_size=btch, verbose=1, validation_data = (X_valid, y_valid_cat), callbacks =[earlystopping]) #,validation_split=0.2,callbacks =[callbacks]"
   ]
  },
  {
   "cell_type": "code",
   "execution_count": 25,
   "metadata": {},
   "outputs": [
    {
     "name": "stdout",
     "output_type": "stream",
     "text": [
      "6/6 [==============================] - 5s 202ms/step\n",
      "array([[43, 33],\n",
      "       [28, 77]], dtype=int64)\n",
      "              precision    recall  f1-score   support\n",
      "\n",
      "           0       0.61      0.57      0.59        76\n",
      "           1       0.70      0.73      0.72       105\n",
      "\n",
      "    accuracy                           0.66       181\n",
      "   macro avg       0.65      0.65      0.65       181\n",
      "weighted avg       0.66      0.66      0.66       181\n",
      "\n"
     ]
    }
   ],
   "source": [
    "predict_x=Regression_Model.predict(X_test)              # Function 1\n",
    "\n",
    "y_pred_crs=np.argmax(predict_x,axis=1)                 # function from augment.py to remove 0 index predictions\n",
    "\n",
    "#y_pred_crs = model_Res.predict_classes(X_test)\n",
    "\n",
    "cm = confusion_matrix(y_test, y_pred_crs)\n",
    "fullprint(cm)\n",
    "acc3=accuracy_score(y_test, y_pred_crs)\n",
    "\n",
    "print(classification_report(y_test, y_pred_crs))\n",
    "\n",
    "#sns.heatmap(cm, annot=True)\n",
    "\n",
    "#plt.imshow(cm)"
   ]
  }
 ],
 "metadata": {
  "celltoolbar": "Raw Cell Format",
  "kernelspec": {
   "display_name": "Python 3 (ipykernel)",
   "language": "python",
   "name": "python3"
  },
  "language_info": {
   "codemirror_mode": {
    "name": "ipython",
    "version": 3
   },
   "file_extension": ".py",
   "mimetype": "text/x-python",
   "name": "python",
   "nbconvert_exporter": "python",
   "pygments_lexer": "ipython3",
   "version": "3.9.7"
  }
 },
 "nbformat": 4,
 "nbformat_minor": 4
}
