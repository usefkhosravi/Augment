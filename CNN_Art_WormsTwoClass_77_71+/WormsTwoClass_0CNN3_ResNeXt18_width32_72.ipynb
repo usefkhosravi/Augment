{
 "cells": [
  {
   "cell_type": "markdown",
   "metadata": {},
   "source": [
    "import time\n",
    "plc=1\n",
    "time.sleep(3000*plc)         #run after 1 houre = 3600 seconds"
   ]
  },
  {
   "cell_type": "code",
   "execution_count": 1,
   "metadata": {},
   "outputs": [
    {
     "data": {
      "text/html": [
       "<style>#notebook { padding-top:0px !important; } .container { width:100% !important; } .end_space { min-height:0px !important; } html, body, .container{ margin:0!important;padding:0!important;}</style>"
      ],
      "text/plain": [
       "<IPython.core.display.HTML object>"
      ]
     },
     "metadata": {},
     "output_type": "display_data"
    }
   ],
   "source": [
    "import os\n",
    "import glob\n",
    "import scipy\n",
    "import random\n",
    "import bisect\n",
    "import numpy as np\n",
    "import pandas as pd\n",
    "import seaborn as sns\n",
    "from scipy import signal\n",
    "from scipy.signal import find_peaks\n",
    "import matplotlib.pyplot as plt\n",
    "from preprocess import *                         #ماژول استخراج پنجره ها\n",
    "from data import *                          #ماژول محلی ورود داده ها\n",
    "from augment import *                            #ماژول های داده افزایی\n",
    "from lstm_cnn import *                           #ماژول های داده افزایی با lstm_cnn\n",
    "import augment\n",
    "import importlib\n",
    "importlib.reload(augment)\n",
    "import tensorflow as tf\n",
    "from tensorflow import keras\n",
    "from tensorflow.keras.layers import BatchNormalization,Input,ReLU,add,MaxPool1D,GlobalAveragePooling1D\n",
    "from sklearn.model_selection import train_test_split\n",
    "from sklearn.neural_network import MLPClassifier\n",
    "from sklearn.datasets import make_classification\n",
    "from sklearn.metrics import confusion_matrix, accuracy_score, classification_report,recall_score,precision_score,mean_absolute_error\n",
    "from tensorflow.keras import callbacks,Model,layers\n",
    "from tensorflow.keras.models import Sequential\n",
    "from tensorflow.keras.layers import Convolution2D,Conv1D,Dropout,MaxPooling1D,MaxPooling2D,Flatten,Dense\n",
    "from tensorflow.keras import backend as K\n",
    "from tensorflow.keras.utils import to_categorical\n",
    "from tensorflow.keras.models import load_model\n",
    "from keras.callbacks import EarlyStopping, ModelCheckpoint\n",
    "cwd = os.getcwd() #\n",
    "fullscrn()"
   ]
  },
  {
   "cell_type": "markdown",
   "metadata": {},
   "source": [
    "<h1><center><div style=\"direction:rtl;font-family:B Nazanin\">Importing Data</div></center></h1>"
   ]
  },
  {
   "cell_type": "code",
   "execution_count": 2,
   "metadata": {
    "scrolled": true
   },
   "outputs": [
    {
     "name": "stdout",
     "output_type": "stream",
     "text": [
      "first_train_shape= (77, 901)\n",
      "first_test_shape= (181, 901)\n",
      "classes_quantity= 2\n",
      "tr_lbls=\t {1, 2}\n",
      "Count_labels= [33 44]\n",
      "max(train_feature_Altitude)= 4.1961\n",
      "min(train_feature_Altitude)= -4.8873\n",
      "first_train_sample=\n",
      " [ 1.        -0.77859   -0.74444   -0.72546   -0.70269   -0.71408\n",
      " -0.72167   -0.73305   -0.71787   -0.73685   -0.76341   -0.77479\n",
      " -0.76341   -0.74823   -0.72546   -0.73305   -0.73305   -0.74064\n",
      " -0.74444   -0.76341   -0.7672    -0.76341   -0.75582   -0.74823\n",
      " -0.74823   -0.75582   -0.74823   -0.75962   -0.75203   -0.74823\n",
      " -0.74823   -0.73305   -0.73305   -0.74064   -0.771     -0.80895\n",
      " -0.83931   -0.86587   -0.87725   -0.87346   -0.919     -0.86207\n",
      " -0.86207   -0.85069   -0.82792   -0.85069   -0.78238   -0.7672\n",
      " -0.74444   -0.72546   -0.75203   -0.6951    -0.6951    -0.72167\n",
      " -0.72926   -0.74444   -0.74444   -0.79756   -0.75203   -0.67233\n",
      " -0.64577   -0.67613   -0.65716   -0.61541   -0.63818   -0.63439\n",
      " -0.59264   -0.61162   -0.5547    -0.42567   -0.30044   -0.21316\n",
      " -0.22455   -0.23973   -0.23214   -0.19419   -0.13727   -0.11829\n",
      "  0.0069361  0.056269   0.10181    0.11319    0.21945    0.22324\n",
      "  0.21186    0.24221    0.21565    0.21945    0.21945    0.23462\n",
      "  0.33329    0.36365    0.38642    0.40919    0.40919    0.44713\n",
      "  0.46231    0.51165    0.60272    0.65964    0.72795    0.84938\n",
      "  0.87215    0.97841    1.0201     1.0467     1.0733     1.1378\n",
      "  1.1795     1.2251     1.2706     1.3124     1.3579     1.4034\n",
      "  1.4224     1.4376     1.4566     1.4603     1.4414     1.4072\n",
      "  1.4072     1.392      1.392      1.3958     1.392      1.4034\n",
      "  1.3882     1.3617     1.3465     1.2934     1.2706     1.2175\n",
      "  1.153      1.1226     1.0581     1.0391     1.0164     0.986\n",
      "  0.99359    1.0088     0.986      0.98979    1.0315     1.0164\n",
      "  1.0164     0.986      0.986      1.005      1.0467     1.1264\n",
      "  1.0998     1.1036     1.1378     1.134      1.1454     1.1568\n",
      "  1.2175     1.2516     1.263      1.282      1.3465     1.3731\n",
      "  1.4072     1.3617     1.3048     1.2668     1.1378     1.0391\n",
      "  1.0088     0.89113    0.86077    0.74313    0.65964    0.56477\n",
      "  0.44334    0.37883    0.24221    0.10181    0.060063   0.02591\n",
      " -0.038602  -0.084139  -0.27008   -0.26629   -0.32321   -0.36875\n",
      " -0.35357   -0.41049   -0.42947   -0.38013   -0.39911   -0.35357\n",
      " -0.36875   -0.43326   -0.50157   -0.56987   -0.63818   -0.70649\n",
      " -0.77479   -0.83551   -0.79756   -0.78618   -0.83551   -0.93797\n",
      " -1.0025    -0.97971   -0.9911    -0.98351   -1.0328    -1.1087\n",
      " -1.1467    -1.2491    -1.3023    -1.3175    -1.3061    -1.3706\n",
      " -1.3516    -1.3554    -1.3175    -1.2681    -1.2909    -1.2909\n",
      " -1.2947    -1.3137    -1.2871    -1.2074    -1.1391    -1.1125\n",
      " -1.1163    -1.1391    -1.1353    -1.1467    -1.1315    -1.1353\n",
      " -1.1467    -1.1505    -1.1505    -1.1505    -1.1429    -1.1201\n",
      " -1.1125    -1.067     -1.0442    -1.029     -0.98351   -1.0025\n",
      " -1.0253    -1.0442    -1.0404    -1.0594    -1.0822    -1.0822\n",
      " -1.0746    -1.0898    -1.0822    -1.1087    -1.0784    -1.0708\n",
      " -1.067     -1.1087    -1.1163    -1.1467    -1.1467    -1.1998\n",
      " -1.215     -1.2795    -1.325     -1.3402    -1.4123    -1.4617\n",
      " -1.4579    -1.4692    -1.5034    -1.4047    -1.4237    -1.4009\n",
      " -1.3592    -1.3554    -1.3933    -1.3516    -1.344     -1.3478\n",
      " -1.3212    -1.2795    -1.234     -1.2226    -1.2529    -1.2378\n",
      " -1.1884    -1.1732    -1.1429    -1.1239    -1.0974    -1.1049\n",
      " -1.0974    -1.1011    -1.1011    -1.1011    -1.1049    -1.1049\n",
      " -1.1049    -1.1353    -1.1543    -1.1505    -1.1505    -1.2074\n",
      " -1.2264    -1.2188    -1.2529    -1.2605    -1.2643    -1.2454\n",
      " -1.2491    -1.2567    -1.2529    -1.2491    -1.2681    -1.2529\n",
      " -1.2681    -1.2719    -1.2757    -1.2795    -1.2719    -1.2719\n",
      " -1.2681    -1.2871    -1.2643    -1.2909    -1.2719    -1.3023\n",
      " -1.2985    -1.3061    -1.3364    -1.3212    -1.4161    -1.4047\n",
      " -1.4009    -1.3744    -1.3668    -1.3592    -1.3592    -1.3326\n",
      " -1.2643    -1.2757    -1.1505    -1.0784    -1.0139    -1.0253\n",
      " -0.9873    -0.96074   -0.83551   -0.74064   -0.66854   -0.60782\n",
      " -0.54711   -0.48639   -0.42567   -0.36875   -0.30803   -0.24732\n",
      " -0.20557   -0.12588   -0.07655   -0.038602   0.010731   0.0335\n",
      "  0.079037   0.10181    0.12078    0.13216    0.12837    0.12837\n",
      "  0.12458    0.12078    0.12078    0.11699    0.11319    0.079037\n",
      "  0.15114    0.063858   0.10181    0.12078    0.16632    0.14355\n",
      "  0.11319    0.063858   0.12837    0.14355    0.19288    0.33708\n",
      "  0.37503    0.3978     0.44334    0.39021    0.41678    0.4016\n",
      "  0.42436    0.52303    0.65964    0.86456    0.9101     0.9822\n",
      "  1.0126     1.0771     1.1492     1.2251     1.2896     1.4034\n",
      "  1.5021     1.5932     1.6653     1.688      1.7525     1.7601\n",
      "  1.7791     1.7943     1.8133     1.8398     1.8436     1.8133\n",
      "  1.7981     1.7184     1.6349     1.6463     1.6008     1.5514\n",
      "  1.4983     1.4717     1.4528     1.4262     1.3958     1.3541\n",
      "  1.2706     1.2516     1.2099     1.1833     1.0885     1.0505\n",
      "  1.0201     0.97841    0.97461    0.95184    0.96702    0.89872\n",
      "  0.85697    0.80764    0.77349    0.67862    0.62928    0.542\n",
      "  0.50026    0.53821    0.50406    0.48508    0.4699     0.43954\n",
      "  0.46231    0.41298    0.37883    0.33329    0.33708    0.29534\n",
      "  0.26119    0.26119    0.26498    0.26878    0.27257    0.27637\n",
      "  0.27637    0.29534    0.31052    0.33708    0.33708    0.36365\n",
      "  0.38642    0.40539    0.39021    0.42057    0.43954    0.42816\n",
      "  0.49647    0.51544    0.53821    0.56477    0.58754    0.59134\n",
      "  0.6179     0.73554    0.74313    0.77349    0.7659     0.78487\n",
      "  0.86836    0.97841    0.97841    0.97461    1.0012     0.97461\n",
      "  0.99738    1.0088     1.0239     1.0201     1.0164     0.94805\n",
      "  0.88354    0.81902    0.75072    0.68621    0.6179     0.55339\n",
      "  0.48888    0.40539    0.33708    0.24221    0.23083    0.13216\n",
      "  0.052474  -0.065165  -0.12968   -0.22834   -0.32701   -0.41049\n",
      " -0.47121   -0.50536   -0.59264   -0.57746   -0.63059   -0.66095\n",
      " -0.74064   -0.79377   -0.89623   -0.98351   -1.0898    -1.1505\n",
      " -1.2491    -1.3326    -1.3326    -1.3288    -1.3288    -1.325\n",
      " -1.325     -1.3212    -1.3212    -1.3592    -1.4541    -1.4654\n",
      " -1.492     -1.5186    -1.4882    -1.4541    -1.4275    -1.4047\n",
      " -1.3706    -1.3592    -1.3212    -1.2985    -1.2909    -1.2833\n",
      " -1.2491    -1.2036    -1.1505    -1.1011    -1.0442    -0.97971\n",
      " -0.95695   -0.97212   -1.0101    -0.97971   -0.94556   -0.80136\n",
      " -0.7672    -0.72546   -0.66474   -0.57367   -0.46741   -0.26629\n",
      " -0.16383   -0.13727   -0.16383   -0.19039   -0.21696   -0.24352\n",
      " -0.27008   -0.29665   -0.36496   -0.45983   -0.5509    -0.61921\n",
      " -0.74444   -0.83172   -0.90382   -0.97592   -1.0328    -1.1695\n",
      " -1.2454    -1.3023    -1.3364    -1.3933    -1.3971    -1.4351\n",
      " -1.4427    -1.3971    -1.3288    -1.2302    -1.1695    -1.0556\n",
      " -0.92279   -0.79756   -0.66854   -0.57367   -0.48259   -0.39531\n",
      " -0.31183   -0.22455   -0.13727   -0.049986   0.037295   0.12078\n",
      "  0.20047    0.28396    0.35606    0.42057    0.50026    0.51165\n",
      "  0.51544    0.51924    0.43954    0.4016     0.36744    0.20047\n",
      "  0.24221    0.11699    0.048679  -0.019628  -0.087934  -0.16004\n",
      " -0.22834   -0.29665   -0.39911   -0.44844   -0.45983   -0.51675\n",
      " -0.55849   -0.69131   -0.83551   -0.85449   -0.92659   -0.97971\n",
      " -0.94556   -1.0328    -0.89623   -0.98351   -0.97971   -0.86966\n",
      " -0.86966   -0.81274   -0.75203   -0.6951    -0.63818   -0.57746\n",
      " -0.52054   -0.45983   -0.31562   -0.30803   -0.19419   -0.1145\n",
      "  0.02591    0.16252    0.26119    0.41298    0.52682    0.51165\n",
      "  0.57616    0.65585    0.70518    0.79626    0.91769    0.95943\n",
      "  1.0809     1.263      1.301      1.4414     1.5856     1.7146\n",
      "  1.7981     1.9157     2.0144     2.0258     2.0979     2.2155\n",
      "  2.3104     2.3559     2.3939     2.4546     2.428      2.4925\n",
      "  2.5153     2.6405     2.7658     2.8151     2.8341     2.9138\n",
      "  2.9176     2.9403     2.9707     2.9365     2.9062     2.8379\n",
      "  2.7506     2.614      2.3863     2.2573     2.151      1.9726\n",
      "  1.8284     1.6425     1.5742     1.4793     1.4262     1.3845\n",
      "  1.3199     1.2706     1.2592     1.1909     1.1606     1.1264\n",
      "  1.0771     0.986      0.93287    0.88733    0.838      0.79626\n",
      "  0.72036    0.64067    0.62549    0.60272    0.55718    0.55339\n",
      "  0.49647    0.48508    0.43575    0.41298    0.39021    0.30293\n",
      "  0.19288    0.19288    0.21945    0.20047    0.15114    0.094217\n",
      "  0.094217   0.090422   0.11319    0.11319    0.14734    0.19288\n",
      "  0.26119    0.35985    0.46231    0.4737     0.51544    0.50406\n",
      "  0.55718    0.58754    0.6179     0.64826    0.67862    0.70898\n",
      "  0.73933    0.80764    0.86077    0.89872    0.93287    1.0201\n",
      "  1.0164     1.0126     1.005      0.99738    0.99359    1.0164\n",
      "  1.0164     1.005      1.0429     1.1036     1.1036     1.0543\n",
      "  1.005      0.96702    0.96702    0.91769    0.88733    0.86456\n",
      "  0.84938    0.78487    0.67862    0.65205    0.58375    0.59513\n",
      "  0.53441    0.4737     0.41298    0.35226    0.29155    0.23083\n",
      "  0.14355    0.048679  -0.019628  -0.057576  -0.1107    -0.13347\n",
      " -0.20178   -0.28906   -0.37634   -0.48259   -0.51295   -0.64957\n",
      " -0.64198   -0.67992   -0.66474   -0.65716   -0.58885   -0.56608\n",
      " -0.58885   -0.64577   -0.67613   -0.7672    -0.76341   -0.74064\n",
      " -0.74064   -0.78997   -0.78618   -0.78238   -0.78238   -0.77859\n",
      " -0.77479   -0.77479   -0.771     -0.70269   -0.71028   -0.70649\n",
      " -0.6989    -0.66854   -0.623     -0.57367   -0.50916   -0.4067\n",
      " -0.34978   -0.31562   -0.28147   -0.28526   -0.22834   -0.12209\n",
      " -0.019628   0.010731   0.090422   0.1094     0.16252    0.22703\n",
      "  0.27637    0.29534    0.29914    0.32949    0.35985    0.35606\n",
      "  0.34847    0.42057    0.46231    0.50785    0.54959    0.59513\n",
      "  0.63687    0.68241    0.71657    0.69759    0.67103    0.65585\n",
      "  0.65964    0.63687    0.62169    0.56477    0.57995    0.53821\n",
      "  0.50406    0.45852    0.41678    0.39021    0.37124    0.29914\n",
      "  0.2536     0.20047    0.12458    0.082832   0.052474  -0.042396\n",
      " -0.099319  -0.12588   -0.19039   -0.22834   -0.20557   -0.27388\n",
      " -0.32321  ]\n",
      "1 33\t1 33\t"
     ]
    }
   ],
   "source": [
    "rate=900\n",
    "cls_num=2\n",
    "for i in range (1,cls_num+1):\n",
    "    vars()['ecg'+str(i)],vars()['ecg_tst'+str(i)]=WormsTwoClass0(i)\n",
    "\n",
    "os.chdir(cwd)\n",
    "clses_lens=np.array([])\n",
    "ecg=np.array(ecg1)\n",
    "print(1,len(vars()['ecg'+str(1)]), end='\\t')\n",
    "clses_lens=np.append(clses_lens,len(vars()['ecg'+str(1)]))\n",
    "for i in range (1,cls_num):\n",
    "    ecg=np.concatenate((ecg,vars()['ecg'+str(i)]),axis=0)\n",
    "    clses_lens=np.append(clses_lens,len(vars()['ecg'+str(i)]))\n",
    "    print(i,len(vars()['ecg'+str(i)]), end='\\t')\n",
    "\n",
    "mx_sig=max(clses_lens)\n",
    "btch=int(min(clses_lens))"
   ]
  },
  {
   "cell_type": "code",
   "execution_count": 3,
   "metadata": {},
   "outputs": [
    {
     "data": {
      "text/plain": [
       "(66, 901)"
      ]
     },
     "execution_count": 3,
     "metadata": {},
     "output_type": "execute_result"
    }
   ],
   "source": [
    "np.shape(ecg)"
   ]
  },
  {
   "cell_type": "code",
   "execution_count": 4,
   "metadata": {},
   "outputs": [
    {
     "data": {
      "text/plain": [
       "array([1., 1., 1., 1., 1., 1., 1., 1., 1., 1., 1., 1., 1., 1., 1., 1., 1.,\n",
       "       1., 1., 1., 1., 1., 1., 1., 1., 1., 1., 1., 1., 1., 1., 1., 1., 1.,\n",
       "       1., 1., 1., 1., 1., 1., 1., 1., 1., 1., 1., 1., 1., 1., 1., 1., 1.,\n",
       "       1., 1., 1., 1., 1., 1., 1., 1., 1., 1., 1., 1., 1., 1., 1.])"
      ]
     },
     "execution_count": 4,
     "metadata": {},
     "output_type": "execute_result"
    }
   ],
   "source": [
    "ecg[:,-1]"
   ]
  },
  {
   "cell_type": "markdown",
   "metadata": {},
   "source": [
    "<h2><center><div style=\"direction:rtl;font-family:B Nazanin\">Base Train windows</div></center></h1>"
   ]
  },
  {
   "cell_type": "code",
   "execution_count": 5,
   "metadata": {},
   "outputs": [
    {
     "name": "stdout",
     "output_type": "stream",
     "text": [
      "each class and its windows =\n",
      "1 33\t2 44\t\n",
      " max = 44\n"
     ]
    }
   ],
   "source": [
    "smpl_rte=rate                                              # در ماژول ها نیز همین مقدار ثبت شده\n",
    "i=0\n",
    "windws=np.array([])\n",
    "\n",
    "for cls in range (1,cls_num+1):                                 #ساخت پنجره های داده های آموزش اصلی\n",
    "    vars()['wndws'+str(cls)]=np.array(vars()['ecg'+str(cls)])  \n",
    "    \n",
    "print(\"each class and its windows =\")\n",
    "\n",
    "cls_wndws=np.array([])\n",
    "for cls in range (1,cls_num+1):                                # آرایه ی تعداد پنجره ی هر کلاس\n",
    "    wns=len(vars()['wndws'+str(cls)])\n",
    "    cls_wndws=np.append(cls_wndws,wns)\n",
    "    print(cls, wns, end='\\t')\n",
    "\n",
    "mx_wndws=int(np.max(cls_wndws))                        # حداکثر تعداد پنجره ی موجود بین کلاس ها\n",
    "print('\\n max =', mx_wndws)"
   ]
  },
  {
   "cell_type": "raw",
   "metadata": {},
   "source": [
    "#clses=3                                   #تعیین میزان افزایش نمونه (تولید داده)\n",
    "mx_wndws=int(mx_wndws)  #mx_wndws*0.3  # =classes-1 برای بررسی الگوریتم تعداد کمی کلاس آزمایش شد\n",
    "mx_wndws=2598           #+2\n",
    "print(mx_wndws)"
   ]
  },
  {
   "cell_type": "markdown",
   "metadata": {},
   "source": [
    "<h1><center><div style=\"direction:rtl;font-family:B Nazanin\">Data Augmentation</div></center></h1>"
   ]
  },
  {
   "cell_type": "code",
   "execution_count": 6,
   "metadata": {},
   "outputs": [
    {
     "name": "stdout",
     "output_type": "stream",
     "text": [
      "Up to class  1 train shape =  (33, 901)\n",
      "Up to class  2 train shape =  (77, 901)\n"
     ]
    }
   ],
   "source": [
    "smpl_rte=len(wndws1[0])                                        # در ماژول ها نیز همین مقدار ثبت شده\n",
    "\n",
    "#add augmented data to base data\n",
    "xtrain=np.empty((0,len(wndws1[0])), float) \n",
    "for i in range (1,cls_num+1):   \n",
    "    xtrain=np.append(xtrain,vars()['wndws'+str(i)],axis=0)\n",
    "    print('Up to class ', i, 'train shape = ', np.shape(xtrain))"
   ]
  },
  {
   "cell_type": "code",
   "execution_count": 7,
   "metadata": {},
   "outputs": [
    {
     "name": "stdout",
     "output_type": "stream",
     "text": [
      "[ 0 33 44]\n"
     ]
    }
   ],
   "source": [
    "print(np.bincount(np.int16(xtrain[:,-1])))    #تعداد پنجره در هر کلاس از 0 تا 17"
   ]
  },
  {
   "cell_type": "code",
   "execution_count": 8,
   "metadata": {},
   "outputs": [
    {
     "data": {
      "text/plain": [
       "array([1., 1., 1., 1., 1., 1., 1., 1., 1., 1., 1., 1., 1., 1., 1., 1., 1.,\n",
       "       1., 1., 1., 1., 1., 1., 1., 1., 1., 1., 1., 1., 1., 1., 1., 1., 2.,\n",
       "       2., 2., 2., 2., 2., 2., 2., 2., 2., 2., 2., 2., 2., 2., 2., 2., 2.,\n",
       "       2., 2., 2., 2., 2., 2., 2., 2., 2., 2., 2., 2., 2., 2., 2., 2., 2.,\n",
       "       2., 2., 2., 2., 2., 2., 2., 2., 2.])"
      ]
     },
     "execution_count": 8,
     "metadata": {},
     "output_type": "execute_result"
    }
   ],
   "source": [
    "xtrain[:,-1]"
   ]
  },
  {
   "cell_type": "code",
   "execution_count": 9,
   "metadata": {},
   "outputs": [],
   "source": [
    "mx_aug=np.max(xtrain[:,:-1])\n",
    "mx=np.max(ecg[:,:-1])\n",
    "mn_aug=np.min(xtrain[:,:-1])\n",
    "mn=np.min(ecg[:,:-1])\n",
    "\n",
    "#for i in range (1,cls_num+1):             #نرمالسازی داده های افزایشی\n",
    "xtrain[:,:-1]= 2*(xtrain[:,:-1]-mn_aug)/(mx_aug - mn_aug) - 1"
   ]
  },
  {
   "cell_type": "code",
   "execution_count": 10,
   "metadata": {},
   "outputs": [
    {
     "name": "stdout",
     "output_type": "stream",
     "text": [
      "min trn = -1.0\n",
      "max trn = 1.0\n"
     ]
    }
   ],
   "source": [
    "print('min trn =', np.min(xtrain[:,:-1]))\n",
    "print('max trn =', np.max(xtrain[:,:-1]))"
   ]
  },
  {
   "cell_type": "markdown",
   "metadata": {},
   "source": [
    "<h3><center><div style=\"direction:rtl;font-family:B Nazanin\">Test Windows</div></center></h1>"
   ]
  },
  {
   "cell_type": "code",
   "execution_count": 11,
   "metadata": {},
   "outputs": [],
   "source": [
    "wndws_test=np.empty((0,len(wndws1[0])), float)\n",
    "i=0\n",
    "windws=np.array([])\n",
    "for cls in range (1,cls_num+1):                                 #ساخت پنجره های داده های آموزش اصلی\n",
    "    vars()['wndws_tst'+str(cls)]=np.empty((0,len(wndws1[0])), float)\n",
    "    vars()['wndws_tst'+str(cls)]=np.append(vars()['wndws_tst'+str(cls)],vars()['ecg_tst'+str(cls)],axis=0)   "
   ]
  },
  {
   "cell_type": "code",
   "execution_count": 12,
   "metadata": {},
   "outputs": [
    {
     "name": "stdout",
     "output_type": "stream",
     "text": [
      "\n",
      " cls 1  >> \n",
      "max magnitude class 1  =  4.1375\n",
      "min magnitude class 1  =  -4.037800000000001\n",
      "after normalizing >>\n",
      "max magnitude class 1  =  0.9870973424048264\n",
      "min magnitude class 1  =  -0.8129555012440277\n",
      "\n",
      " cls 2  >> \n",
      "max magnitude class 2  =  4.8591000000000015\n",
      "min magnitude class 2  =  -4.3114\n",
      "after normalizing >>\n",
      "max magnitude class 2  =  1.1459805799590468\n",
      "min magnitude class 2  =  -0.8731972609375345\n",
      "each class and its windows =\n",
      "1 76\t2 105\t\n",
      " max instance in classes of test windows = 105\n"
     ]
    }
   ],
   "source": [
    "#print(np.max(wndws_tst))\n",
    "for i in range (1,cls_num+1):                # Normalization test windows\n",
    "    cls=i\n",
    "    print('\\n cls', i, ' >> ')\n",
    "    print('max magnitude class', i , ' = ' ,np.max(vars()['wndws_tst'+str(cls)][:,:-1]))\n",
    "    print('min magnitude class', i , ' = ' ,np.min(vars()['wndws_tst'+str(cls)][:,:-1]))\n",
    "\n",
    "    vars()['wndws_tst'+str(i)][:,:-1]= 2*(vars()['wndws_tst'+str(i)][:,:-1]-mn_aug)/(mx_aug - mn_aug) - 1\n",
    "    \n",
    "    print('after normalizing >>')\n",
    "    print('max magnitude class', i , ' = ' ,np.max(vars()['wndws_tst'+str(cls)][:,:-1]))\n",
    "    print('min magnitude class', i , ' = ' ,np.min(vars()['wndws_tst'+str(cls)][:,:-1]))\n",
    "    \n",
    "print(\"each class and its windows =\")                    #تجمیع کلاس های تست\n",
    "cls_wndws=np.array([])\n",
    "for cls in range (1,cls_num+1):                                # آرایه ی تعداد پنجره ی هر کلاس\n",
    "    wns=len(vars()['wndws_tst'+str(cls)])\n",
    "    cls_wndws=np.append(cls_wndws,wns)\n",
    "    print(cls, wns, end='\\t')\n",
    "    wndws_test=np.append(wndws_test,vars()['wndws_tst'+str(cls)],axis=0)\n",
    "    \n",
    "mx_wndws=int(np.max(cls_wndws))                        # حداکثر تعداد پنجره ی موجود بین کلاس ها\n",
    "print('\\n max instance in classes of test windows =', mx_wndws)"
   ]
  },
  {
   "cell_type": "code",
   "execution_count": 13,
   "metadata": {},
   "outputs": [
    {
     "name": "stdout",
     "output_type": "stream",
     "text": [
      "min tst = -0.8731972609375345\n",
      "max tst = 1.1459805799590468\n"
     ]
    }
   ],
   "source": [
    "print('min tst =', np.min(wndws_test[:,:-1]))\n",
    "print('max tst =', np.max(wndws_test[:,:-1]))"
   ]
  },
  {
   "cell_type": "code",
   "execution_count": 14,
   "metadata": {},
   "outputs": [
    {
     "data": {
      "text/plain": [
       "181"
      ]
     },
     "execution_count": 14,
     "metadata": {},
     "output_type": "execute_result"
    }
   ],
   "source": [
    "len(wndws_test)"
   ]
  },
  {
   "cell_type": "code",
   "execution_count": 15,
   "metadata": {},
   "outputs": [
    {
     "data": {
      "text/plain": [
       "(181, 901)"
      ]
     },
     "execution_count": 15,
     "metadata": {},
     "output_type": "execute_result"
    }
   ],
   "source": [
    "np.shape(wndws_test)"
   ]
  },
  {
   "cell_type": "code",
   "execution_count": 16,
   "metadata": {},
   "outputs": [],
   "source": [
    "Xtest=wndws_test[:,:-1]\n",
    "ytest=np.int16(wndws_test[:,-1])"
   ]
  },
  {
   "cell_type": "code",
   "execution_count": 17,
   "metadata": {},
   "outputs": [
    {
     "name": "stdout",
     "output_type": "stream",
     "text": [
      "array([1, 1, 1, 1, 1, 1, 1, 1, 1, 1, 1, 1, 1, 1, 1, 1, 1, 1, 1, 1, 1, 1,\n",
      "       1, 1, 1, 1, 1, 1, 1, 1, 1, 1, 1, 1, 1, 1, 1, 1, 1, 1, 1, 1, 1, 1,\n",
      "       1, 1, 1, 1, 1, 1, 1, 1, 1, 1, 1, 1, 1, 1, 1, 1, 1, 1, 1, 1, 1, 1,\n",
      "       1, 1, 1, 1, 1, 1, 1, 1, 1, 1, 2, 2, 2, 2, 2, 2, 2, 2, 2, 2, 2, 2,\n",
      "       2, 2, 2, 2, 2, 2, 2, 2, 2, 2, 2, 2, 2, 2, 2, 2, 2, 2, 2, 2, 2, 2,\n",
      "       2, 2, 2, 2, 2, 2, 2, 2, 2, 2, 2, 2, 2, 2, 2, 2, 2, 2, 2, 2, 2, 2,\n",
      "       2, 2, 2, 2, 2, 2, 2, 2, 2, 2, 2, 2, 2, 2, 2, 2, 2, 2, 2, 2, 2, 2,\n",
      "       2, 2, 2, 2, 2, 2, 2, 2, 2, 2, 2, 2, 2, 2, 2, 2, 2, 2, 2, 2, 2, 2,\n",
      "       2, 2, 2, 2, 2], dtype=int16)\n"
     ]
    }
   ],
   "source": [
    "fullprint(ytest)"
   ]
  },
  {
   "cell_type": "markdown",
   "metadata": {},
   "source": [
    "<h3><center><div style=\"direction:rtl;font-family:B Nazanin\">Train Windows</div></center></h1>"
   ]
  },
  {
   "cell_type": "code",
   "execution_count": 18,
   "metadata": {},
   "outputs": [
    {
     "data": {
      "text/plain": [
       "'\\nytestt=np.int32(np.array([ytest]).T)\\ntestx=np.concatenate((Xtest, ytestt), axis=1)\\ntestx=np.random.permutation(testx)\\nXtest=np.int32(testx[:,:-1])\\nytest=np.int32(testx[:,-1])'"
      ]
     },
     "execution_count": 18,
     "metadata": {},
     "output_type": "execute_result"
    }
   ],
   "source": [
    "#ytraint=np.int32(np.array([ytrain]).T)\n",
    "#trainx=np.concatenate((Xtrain, ytraint), axis=1)\n",
    "trainx=np.random.permutation(xtrain)\n",
    "Xtrain=np.array(trainx[:,:-1])\n",
    "ytrain=np.int16(trainx[:,-1])\n",
    "'''\n",
    "ytestt=np.int32(np.array([ytest]).T)\n",
    "testx=np.concatenate((Xtest, ytestt), axis=1)\n",
    "testx=np.random.permutation(testx)\n",
    "Xtest=np.int32(testx[:,:-1])\n",
    "ytest=np.int32(testx[:,-1])'''"
   ]
  },
  {
   "cell_type": "code",
   "execution_count": 19,
   "metadata": {},
   "outputs": [
    {
     "data": {
      "text/plain": [
       "(33, 901)"
      ]
     },
     "execution_count": 19,
     "metadata": {},
     "output_type": "execute_result"
    }
   ],
   "source": [
    "np.shape(wndws1)"
   ]
  },
  {
   "cell_type": "markdown",
   "metadata": {},
   "source": [
    "<h3><center><div style=\"direction:rtl;font-family:B Nazanin\">Validation Windows</div></center></h1>"
   ]
  },
  {
   "cell_type": "code",
   "execution_count": 20,
   "metadata": {},
   "outputs": [],
   "source": [
    "Xvalid=np.array(Xtrain)\n",
    "yvalid=np.array(ytrain)"
   ]
  },
  {
   "cell_type": "markdown",
   "metadata": {},
   "source": [
    "<h1><center><div style=\"direction:rtl;font-family:B Nazanin\">CNN And UnBalanced RAW Data</div></center></h1>\n",
    "<h1><center><div style=\"direction:rtl;font-family:Arial\">Cross Entropy Loss Function</div></center></h1>"
   ]
  },
  {
   "cell_type": "code",
   "execution_count": 21,
   "metadata": {
    "scrolled": true
   },
   "outputs": [
    {
     "name": "stdout",
     "output_type": "stream",
     "text": [
      "X_train =>  (77, 900)\n",
      "y_train =>  (77,)\n",
      "X_test  =>  (181, 900)\n",
      "y_test  =>  (181,)\n",
      "X_valid  =>  (77, 900)\n",
      "y_valid  =>  (77,)\n"
     ]
    }
   ],
   "source": [
    "X_train=np.array(Xtrain)\n",
    "y_train=np.array(ytrain)\n",
    "X_test=np.array(Xtest)\n",
    "y_test=np.array(ytest)\n",
    "X_valid=np.array(Xtrain)\n",
    "y_valid=np.array(ytrain)\n",
    "print('X_train => ', X_train.shape)\n",
    "print('y_train => ', y_train.shape)\n",
    "print('X_test  => ', X_test.shape)\n",
    "print('y_test  => ', y_test.shape)\n",
    "print('X_valid  => ', X_valid.shape)\n",
    "print('y_valid  => ', y_valid.shape)"
   ]
  },
  {
   "cell_type": "code",
   "execution_count": 22,
   "metadata": {},
   "outputs": [
    {
     "name": "stdout",
     "output_type": "stream",
     "text": [
      "!!!!!! class Should start from 0=Zero !!!!!!\n",
      "!!!!!!   Reduce 1 From Class Number    !!!!!\n",
      "final labels= {0, 1}\n"
     ]
    }
   ],
   "source": [
    "if min(y_train)==0:\n",
    "    print(' class was started from 0=Zero ')\n",
    "else:\n",
    "    print('!!!!!! class Should start from 0=Zero !!!!!!')\n",
    "    print(\"!!!!!!   Reduce 1 From Class Number    !!!!!\")\n",
    "    y_train=np.array(y_train-1)\n",
    "    y_test=np.array(y_test-1)\n",
    "    y_valid=np.array(y_valid-1)\n",
    "print('final labels=',set(y_train))"
   ]
  },
  {
   "cell_type": "code",
   "execution_count": 23,
   "metadata": {},
   "outputs": [],
   "source": [
    "y_train_cat=to_categorical(y_train)#[:,1:]\n",
    "y_valid_cat=to_categorical(y_valid)#[:,1:]\n",
    "y_test_cat=to_categorical(y_test)#[:,1:]\n",
    "\n",
    "\n",
    "X_train = np.expand_dims(X_train, axis=2)\n",
    "X_valid = np.expand_dims(X_valid, axis=2)\n",
    "X_test = np.expand_dims(X_test, axis=2)\n",
    "#y_train=np.transpose([y_train])"
   ]
  },
  {
   "cell_type": "markdown",
   "metadata": {},
   "source": [
    "<h1><center><div style=\"direction:rtl;font-family:B Nazanin\">Network</div></center></h1>"
   ]
  },
  {
   "cell_type": "code",
   "execution_count": 24,
   "metadata": {
    "scrolled": true
   },
   "outputs": [
    {
     "name": "stdout",
     "output_type": "stream",
     "text": [
      "Epoch 1/500\n",
      "3/3 [==============================] - 19s 1s/step - loss: 1.1895 - accuracy: 0.5974 - val_loss: 0.7142 - val_accuracy: 0.5714\n",
      "Epoch 2/500\n",
      "3/3 [==============================] - 0s 173ms/step - loss: 0.6947 - accuracy: 0.6883 - val_loss: 0.8676 - val_accuracy: 0.5714\n",
      "Epoch 3/500\n",
      "3/3 [==============================] - 1s 187ms/step - loss: 0.4420 - accuracy: 0.8571 - val_loss: 0.7185 - val_accuracy: 0.5714\n",
      "Epoch 4/500\n",
      "3/3 [==============================] - 1s 186ms/step - loss: 0.1995 - accuracy: 0.9351 - val_loss: 0.6959 - val_accuracy: 0.4675\n",
      "Epoch 5/500\n",
      "3/3 [==============================] - 1s 211ms/step - loss: 0.0876 - accuracy: 0.9740 - val_loss: 0.6599 - val_accuracy: 0.6104\n",
      "Epoch 6/500\n",
      "3/3 [==============================] - 1s 185ms/step - loss: 0.1396 - accuracy: 0.9481 - val_loss: 0.7338 - val_accuracy: 0.4286\n",
      "Epoch 7/500\n",
      "3/3 [==============================] - 1s 210ms/step - loss: 0.2409 - accuracy: 0.8701 - val_loss: 0.6819 - val_accuracy: 0.6234\n",
      "Epoch 8/500\n",
      "3/3 [==============================] - 1s 189ms/step - loss: 0.2160 - accuracy: 0.9221 - val_loss: 0.6706 - val_accuracy: 0.5974\n",
      "Epoch 9/500\n",
      "3/3 [==============================] - 1s 185ms/step - loss: 0.0110 - accuracy: 1.0000 - val_loss: 0.6929 - val_accuracy: 0.4935\n",
      "Epoch 10/500\n",
      "3/3 [==============================] - 1s 185ms/step - loss: 0.0150 - accuracy: 1.0000 - val_loss: 0.6686 - val_accuracy: 0.5714\n",
      "Epoch 11/500\n",
      "3/3 [==============================] - 1s 186ms/step - loss: 0.0759 - accuracy: 0.9481 - val_loss: 0.6800 - val_accuracy: 0.5844\n",
      "Epoch 12/500\n",
      "3/3 [==============================] - 1s 192ms/step - loss: 0.1138 - accuracy: 0.9740 - val_loss: 0.8123 - val_accuracy: 0.4156\n",
      "Epoch 13/500\n",
      "3/3 [==============================] - 1s 194ms/step - loss: 0.0106 - accuracy: 1.0000 - val_loss: 0.7838 - val_accuracy: 0.4416\n",
      "Epoch 14/500\n",
      "3/3 [==============================] - 1s 189ms/step - loss: 0.0355 - accuracy: 0.9740 - val_loss: 0.9623 - val_accuracy: 0.4286\n",
      "Epoch 15/500\n",
      "3/3 [==============================] - 1s 189ms/step - loss: 0.1230 - accuracy: 0.9351 - val_loss: 1.0041 - val_accuracy: 0.4156\n",
      "Epoch 16/500\n",
      "3/3 [==============================] - 1s 191ms/step - loss: 0.1809 - accuracy: 0.9221 - val_loss: 0.7577 - val_accuracy: 0.5065\n",
      "Epoch 17/500\n",
      "3/3 [==============================] - 1s 193ms/step - loss: 0.0185 - accuracy: 0.9870 - val_loss: 1.0754 - val_accuracy: 0.4286\n",
      "Epoch 18/500\n",
      "3/3 [==============================] - 1s 206ms/step - loss: 0.0023 - accuracy: 1.0000 - val_loss: 1.2186 - val_accuracy: 0.4286\n",
      "Epoch 19/500\n",
      "3/3 [==============================] - 1s 211ms/step - loss: 0.0031 - accuracy: 1.0000 - val_loss: 1.7086 - val_accuracy: 0.4286\n",
      "Epoch 20/500\n",
      "3/3 [==============================] - 1s 201ms/step - loss: 0.0104 - accuracy: 1.0000 - val_loss: 1.4701 - val_accuracy: 0.4286\n",
      "Epoch 21/500\n",
      "3/3 [==============================] - 1s 207ms/step - loss: 0.0037 - accuracy: 1.0000 - val_loss: 1.7204 - val_accuracy: 0.4286\n",
      "Epoch 22/500\n",
      "3/3 [==============================] - 1s 207ms/step - loss: 0.0107 - accuracy: 1.0000 - val_loss: 2.1930 - val_accuracy: 0.4286\n",
      "Epoch 23/500\n",
      "3/3 [==============================] - 1s 202ms/step - loss: 0.0864 - accuracy: 0.9610 - val_loss: 4.1969 - val_accuracy: 0.4286\n",
      "Epoch 24/500\n",
      "3/3 [==============================] - 1s 205ms/step - loss: 0.2207 - accuracy: 0.9351 - val_loss: 2.3616 - val_accuracy: 0.4286\n",
      "Epoch 25/500\n",
      "3/3 [==============================] - 1s 205ms/step - loss: 0.0025 - accuracy: 1.0000 - val_loss: 2.3103 - val_accuracy: 0.4286\n",
      "Epoch 26/500\n",
      "3/3 [==============================] - 1s 209ms/step - loss: 0.0153 - accuracy: 1.0000 - val_loss: 3.2865 - val_accuracy: 0.4286\n",
      "Epoch 27/500\n",
      "3/3 [==============================] - 1s 208ms/step - loss: 0.0038 - accuracy: 1.0000 - val_loss: 5.1765 - val_accuracy: 0.4286\n",
      "Epoch 28/500\n",
      "3/3 [==============================] - 1s 197ms/step - loss: 0.0231 - accuracy: 0.9870 - val_loss: 2.2729 - val_accuracy: 0.4286\n",
      "Epoch 29/500\n",
      "3/3 [==============================] - 1s 209ms/step - loss: 1.8767e-04 - accuracy: 1.0000 - val_loss: 2.3047 - val_accuracy: 0.4286\n",
      "Epoch 30/500\n",
      "3/3 [==============================] - 1s 211ms/step - loss: 6.1152e-04 - accuracy: 1.0000 - val_loss: 2.3355 - val_accuracy: 0.4416\n",
      "Epoch 31/500\n",
      "3/3 [==============================] - 1s 212ms/step - loss: 5.7550e-04 - accuracy: 1.0000 - val_loss: 2.4691 - val_accuracy: 0.4416\n",
      "Epoch 32/500\n",
      "3/3 [==============================] - 1s 204ms/step - loss: 4.8879e-04 - accuracy: 1.0000 - val_loss: 2.4510 - val_accuracy: 0.4416\n",
      "Epoch 33/500\n",
      "3/3 [==============================] - 1s 201ms/step - loss: 9.0371e-05 - accuracy: 1.0000 - val_loss: 2.4245 - val_accuracy: 0.4416\n",
      "Epoch 34/500\n",
      "3/3 [==============================] - 1s 200ms/step - loss: 0.0015 - accuracy: 1.0000 - val_loss: 2.3883 - val_accuracy: 0.4416\n",
      "Epoch 35/500\n",
      "3/3 [==============================] - 1s 200ms/step - loss: 0.0277 - accuracy: 0.9740 - val_loss: 1.4289 - val_accuracy: 0.5455\n",
      "Epoch 36/500\n",
      "3/3 [==============================] - 1s 206ms/step - loss: 0.0549 - accuracy: 0.9870 - val_loss: 4.7415 - val_accuracy: 0.4286\n",
      "Epoch 37/500\n",
      "3/3 [==============================] - 1s 201ms/step - loss: 0.3340 - accuracy: 0.9610 - val_loss: 1.6698 - val_accuracy: 0.4805\n",
      "Epoch 38/500\n",
      "3/3 [==============================] - 1s 213ms/step - loss: 0.0111 - accuracy: 1.0000 - val_loss: 0.8378 - val_accuracy: 0.5844\n",
      "Epoch 39/500\n",
      "3/3 [==============================] - 1s 200ms/step - loss: 0.0053 - accuracy: 1.0000 - val_loss: 0.8219 - val_accuracy: 0.5584\n",
      "Epoch 40/500\n",
      "3/3 [==============================] - 1s 210ms/step - loss: 0.0043 - accuracy: 1.0000 - val_loss: 1.1993 - val_accuracy: 0.5455\n",
      "Epoch 41/500\n",
      "3/3 [==============================] - 1s 193ms/step - loss: 0.0103 - accuracy: 1.0000 - val_loss: 3.5491 - val_accuracy: 0.4675\n",
      "Epoch 42/500\n",
      "3/3 [==============================] - 1s 192ms/step - loss: 0.0504 - accuracy: 0.9740 - val_loss: 10.1559 - val_accuracy: 0.4286\n",
      "Epoch 43/500\n",
      "3/3 [==============================] - 1s 191ms/step - loss: 0.0900 - accuracy: 0.9740 - val_loss: 4.0008 - val_accuracy: 0.4675\n",
      "Epoch 44/500\n",
      "3/3 [==============================] - 1s 191ms/step - loss: 0.2201 - accuracy: 0.9221 - val_loss: 3.3465 - val_accuracy: 0.4416\n",
      "Epoch 45/500\n",
      "3/3 [==============================] - 1s 188ms/step - loss: 0.0993 - accuracy: 0.9610 - val_loss: 5.2991 - val_accuracy: 0.4286\n",
      "Epoch 46/500\n",
      "3/3 [==============================] - 1s 192ms/step - loss: 8.5327e-04 - accuracy: 1.0000 - val_loss: 4.9483 - val_accuracy: 0.4286\n",
      "Epoch 47/500\n",
      "3/3 [==============================] - 1s 201ms/step - loss: 0.0023 - accuracy: 1.0000 - val_loss: 5.2711 - val_accuracy: 0.4286\n",
      "Epoch 48/500\n",
      "3/3 [==============================] - 1s 191ms/step - loss: 0.0019 - accuracy: 1.0000 - val_loss: 4.7847 - val_accuracy: 0.4416\n",
      "Epoch 49/500\n",
      "3/3 [==============================] - 1s 183ms/step - loss: 0.0226 - accuracy: 0.9870 - val_loss: 2.7456 - val_accuracy: 0.5325\n",
      "Epoch 50/500\n",
      "3/3 [==============================] - 1s 180ms/step - loss: 0.1279 - accuracy: 0.9481 - val_loss: 4.5868 - val_accuracy: 0.4675\n",
      "Epoch 51/500\n",
      "3/3 [==============================] - 1s 180ms/step - loss: 0.0087 - accuracy: 1.0000 - val_loss: 4.4564 - val_accuracy: 0.4805\n",
      "Epoch 52/500\n",
      "3/3 [==============================] - 1s 183ms/step - loss: 0.0128 - accuracy: 1.0000 - val_loss: 5.4328 - val_accuracy: 0.4675\n",
      "Epoch 53/500\n",
      "3/3 [==============================] - 1s 203ms/step - loss: 0.0237 - accuracy: 0.9870 - val_loss: 2.2550 - val_accuracy: 0.5325\n",
      "Epoch 54/500\n",
      "3/3 [==============================] - 1s 190ms/step - loss: 0.0055 - accuracy: 1.0000 - val_loss: 2.2532 - val_accuracy: 0.5325\n",
      "Epoch 55/500\n",
      "3/3 [==============================] - 1s 194ms/step - loss: 0.0287 - accuracy: 0.9870 - val_loss: 3.3643 - val_accuracy: 0.5584\n",
      "Epoch 56/500\n",
      "3/3 [==============================] - 1s 189ms/step - loss: 0.1097 - accuracy: 0.9481 - val_loss: 5.4137 - val_accuracy: 0.4805\n",
      "Epoch 57/500\n",
      "3/3 [==============================] - 1s 192ms/step - loss: 5.5498e-04 - accuracy: 1.0000 - val_loss: 5.1557 - val_accuracy: 0.5195\n",
      "Epoch 58/500\n"
     ]
    },
    {
     "name": "stdout",
     "output_type": "stream",
     "text": [
      "3/3 [==============================] - 1s 191ms/step - loss: 0.0368 - accuracy: 0.9870 - val_loss: 5.7950 - val_accuracy: 0.5195\n",
      "Epoch 59/500\n",
      "3/3 [==============================] - 1s 188ms/step - loss: 0.3056 - accuracy: 0.8831 - val_loss: 3.3315 - val_accuracy: 0.5325\n",
      "Epoch 60/500\n",
      "3/3 [==============================] - 1s 211ms/step - loss: 0.0862 - accuracy: 0.9740 - val_loss: 3.3379 - val_accuracy: 0.5455\n",
      "Epoch 61/500\n",
      "3/3 [==============================] - 1s 204ms/step - loss: 0.0011 - accuracy: 1.0000 - val_loss: 3.1757 - val_accuracy: 0.5584\n",
      "Epoch 62/500\n",
      "3/3 [==============================] - 2s 197ms/step - loss: 0.0152 - accuracy: 0.9870 - val_loss: 3.5423 - val_accuracy: 0.5455\n",
      "Epoch 63/500\n",
      "3/3 [==============================] - 1s 183ms/step - loss: 0.0013 - accuracy: 1.0000 - val_loss: 3.3274 - val_accuracy: 0.5584\n",
      "Epoch 64/500\n",
      "3/3 [==============================] - 1s 191ms/step - loss: 0.0129 - accuracy: 1.0000 - val_loss: 5.5902 - val_accuracy: 0.5714\n",
      "Epoch 65/500\n",
      "3/3 [==============================] - 1s 192ms/step - loss: 0.0062 - accuracy: 1.0000 - val_loss: 5.0891 - val_accuracy: 0.5714\n",
      "Epoch 66/500\n",
      "3/3 [==============================] - 1s 191ms/step - loss: 0.0012 - accuracy: 1.0000 - val_loss: 4.9863 - val_accuracy: 0.5714\n",
      "Epoch 67/500\n",
      "3/3 [==============================] - 1s 198ms/step - loss: 3.4270e-04 - accuracy: 1.0000 - val_loss: 5.0205 - val_accuracy: 0.5584\n",
      "Epoch 68/500\n",
      "3/3 [==============================] - 1s 194ms/step - loss: 0.0014 - accuracy: 1.0000 - val_loss: 5.0233 - val_accuracy: 0.5584\n",
      "Epoch 69/500\n",
      "3/3 [==============================] - 1s 192ms/step - loss: 4.4842e-05 - accuracy: 1.0000 - val_loss: 4.9411 - val_accuracy: 0.5584\n",
      "Epoch 70/500\n",
      "3/3 [==============================] - 1s 194ms/step - loss: 3.6680e-04 - accuracy: 1.0000 - val_loss: 4.7319 - val_accuracy: 0.5455\n",
      "Epoch 71/500\n",
      "3/3 [==============================] - 1s 183ms/step - loss: 2.2911e-04 - accuracy: 1.0000 - val_loss: 4.5977 - val_accuracy: 0.5455\n",
      "Epoch 72/500\n",
      "3/3 [==============================] - 1s 193ms/step - loss: 7.0531e-05 - accuracy: 1.0000 - val_loss: 4.5283 - val_accuracy: 0.5455\n",
      "Epoch 73/500\n",
      "3/3 [==============================] - 1s 190ms/step - loss: 3.6524e-05 - accuracy: 1.0000 - val_loss: 4.5161 - val_accuracy: 0.5455\n",
      "Epoch 74/500\n",
      "3/3 [==============================] - 1s 192ms/step - loss: 2.1321e-05 - accuracy: 1.0000 - val_loss: 4.4792 - val_accuracy: 0.5455\n",
      "Epoch 75/500\n",
      "3/3 [==============================] - 1s 189ms/step - loss: 5.7783e-04 - accuracy: 1.0000 - val_loss: 2.1528 - val_accuracy: 0.6104\n",
      "Epoch 76/500\n",
      "3/3 [==============================] - 1s 187ms/step - loss: 0.0375 - accuracy: 0.9740 - val_loss: 3.2270 - val_accuracy: 0.5844\n",
      "Epoch 77/500\n",
      "3/3 [==============================] - 1s 213ms/step - loss: 0.1252 - accuracy: 0.9610 - val_loss: 3.1267 - val_accuracy: 0.6364\n",
      "Epoch 78/500\n",
      "3/3 [==============================] - 1s 193ms/step - loss: 0.0089 - accuracy: 1.0000 - val_loss: 4.0400 - val_accuracy: 0.5714\n",
      "Epoch 79/500\n",
      "3/3 [==============================] - 1s 190ms/step - loss: 4.4301e-04 - accuracy: 1.0000 - val_loss: 4.0088 - val_accuracy: 0.5455\n",
      "Epoch 80/500\n",
      "3/3 [==============================] - 1s 195ms/step - loss: 4.6091e-04 - accuracy: 1.0000 - val_loss: 3.9383 - val_accuracy: 0.5455\n",
      "Epoch 81/500\n",
      "3/3 [==============================] - 1s 186ms/step - loss: 0.0212 - accuracy: 0.9870 - val_loss: 1.6049 - val_accuracy: 0.6104\n",
      "Epoch 82/500\n",
      "3/3 [==============================] - 1s 181ms/step - loss: 0.7703 - accuracy: 0.8701 - val_loss: 2.2736 - val_accuracy: 0.6104\n",
      "Epoch 83/500\n",
      "3/3 [==============================] - 1s 211ms/step - loss: 0.1020 - accuracy: 0.9870 - val_loss: 1.7479 - val_accuracy: 0.7013\n",
      "Epoch 84/500\n",
      "3/3 [==============================] - 1s 195ms/step - loss: 0.0032 - accuracy: 1.0000 - val_loss: 1.7191 - val_accuracy: 0.6883\n",
      "Epoch 85/500\n",
      "3/3 [==============================] - 1s 184ms/step - loss: 0.0237 - accuracy: 1.0000 - val_loss: 1.7162 - val_accuracy: 0.6883\n",
      "Epoch 86/500\n",
      "3/3 [==============================] - 1s 196ms/step - loss: 6.0414e-04 - accuracy: 1.0000 - val_loss: 1.7135 - val_accuracy: 0.6883\n",
      "Epoch 87/500\n",
      "3/3 [==============================] - 1s 193ms/step - loss: 0.0024 - accuracy: 1.0000 - val_loss: 1.6945 - val_accuracy: 0.7013\n",
      "Epoch 88/500\n",
      "3/3 [==============================] - 1s 192ms/step - loss: 3.6719e-04 - accuracy: 1.0000 - val_loss: 1.6916 - val_accuracy: 0.6883\n",
      "Epoch 89/500\n",
      "3/3 [==============================] - 1s 188ms/step - loss: 2.2720e-04 - accuracy: 1.0000 - val_loss: 1.6823 - val_accuracy: 0.6883\n",
      "Epoch 90/500\n",
      "3/3 [==============================] - 1s 193ms/step - loss: 6.5248e-04 - accuracy: 1.0000 - val_loss: 1.6880 - val_accuracy: 0.6883\n",
      "Epoch 91/500\n",
      "3/3 [==============================] - 1s 192ms/step - loss: 6.5205e-04 - accuracy: 1.0000 - val_loss: 1.7626 - val_accuracy: 0.7013\n",
      "Epoch 92/500\n",
      "3/3 [==============================] - 1s 208ms/step - loss: 0.0013 - accuracy: 1.0000 - val_loss: 1.9649 - val_accuracy: 0.6883\n",
      "Epoch 93/500\n",
      "3/3 [==============================] - 4s 2s/step - loss: 2.1340e-04 - accuracy: 1.0000 - val_loss: 1.9220 - val_accuracy: 0.6753\n",
      "Epoch 94/500\n",
      "3/3 [==============================] - 1s 210ms/step - loss: 9.8794e-04 - accuracy: 1.0000 - val_loss: 1.8783 - val_accuracy: 0.6883\n",
      "Epoch 95/500\n",
      "3/3 [==============================] - 1s 208ms/step - loss: 6.4070e-04 - accuracy: 1.0000 - val_loss: 1.8419 - val_accuracy: 0.6883\n",
      "Epoch 96/500\n",
      "3/3 [==============================] - 1s 232ms/step - loss: 1.2531e-04 - accuracy: 1.0000 - val_loss: 1.8028 - val_accuracy: 0.6883\n",
      "Epoch 97/500\n",
      "3/3 [==============================] - 1s 218ms/step - loss: 0.0116 - accuracy: 0.9870 - val_loss: 3.4675 - val_accuracy: 0.5844\n",
      "Epoch 98/500\n",
      "3/3 [==============================] - 1s 219ms/step - loss: 0.0176 - accuracy: 1.0000 - val_loss: 5.6465 - val_accuracy: 0.5844\n",
      "Epoch 99/500\n",
      "3/3 [==============================] - 1s 289ms/step - loss: 0.1092 - accuracy: 0.9481 - val_loss: 2.6276 - val_accuracy: 0.6883\n",
      "Epoch 100/500\n",
      "3/3 [==============================] - 1s 219ms/step - loss: 0.0438 - accuracy: 0.9870 - val_loss: 2.3332 - val_accuracy: 0.7013\n",
      "Epoch 101/500\n",
      "3/3 [==============================] - 1s 198ms/step - loss: 0.0354 - accuracy: 0.9610 - val_loss: 3.2875 - val_accuracy: 0.6364\n",
      "Epoch 102/500\n",
      "3/3 [==============================] - 1s 207ms/step - loss: 0.0366 - accuracy: 0.9870 - val_loss: 1.6974 - val_accuracy: 0.6753\n",
      "Epoch 103/500\n",
      "3/3 [==============================] - 1s 202ms/step - loss: 0.0011 - accuracy: 1.0000 - val_loss: 1.6196 - val_accuracy: 0.6753\n",
      "Epoch 104/500\n",
      "3/3 [==============================] - 1s 237ms/step - loss: 0.0028 - accuracy: 1.0000 - val_loss: 1.5396 - val_accuracy: 0.7143\n",
      "Epoch 105/500\n",
      "3/3 [==============================] - 1s 224ms/step - loss: 8.0569e-05 - accuracy: 1.0000 - val_loss: 1.4673 - val_accuracy: 0.7273\n",
      "Epoch 106/500\n",
      "3/3 [==============================] - 1s 227ms/step - loss: 2.8794e-04 - accuracy: 1.0000 - val_loss: 1.4150 - val_accuracy: 0.7403\n",
      "Epoch 107/500\n",
      "3/3 [==============================] - 1s 200ms/step - loss: 0.0314 - accuracy: 0.9870 - val_loss: 8.8092 - val_accuracy: 0.5844\n",
      "Epoch 108/500\n",
      "3/3 [==============================] - 1s 211ms/step - loss: 0.0761 - accuracy: 0.9610 - val_loss: 1.8838 - val_accuracy: 0.6623\n",
      "Epoch 109/500\n",
      "3/3 [==============================] - 1s 203ms/step - loss: 0.0049 - accuracy: 1.0000 - val_loss: 1.5029 - val_accuracy: 0.7013\n",
      "Epoch 110/500\n",
      "3/3 [==============================] - 1s 194ms/step - loss: 0.0240 - accuracy: 0.9870 - val_loss: 1.8068 - val_accuracy: 0.6623\n",
      "Epoch 111/500\n",
      "3/3 [==============================] - 1s 203ms/step - loss: 0.0093 - accuracy: 1.0000 - val_loss: 1.3402 - val_accuracy: 0.7143\n",
      "Epoch 112/500\n",
      "3/3 [==============================] - 1s 201ms/step - loss: 0.0011 - accuracy: 1.0000 - val_loss: 1.3058 - val_accuracy: 0.7403\n",
      "Epoch 113/500\n",
      "3/3 [==============================] - 1s 230ms/step - loss: 2.4566e-04 - accuracy: 1.0000 - val_loss: 1.2790 - val_accuracy: 0.7532\n",
      "Epoch 114/500\n",
      "3/3 [==============================] - 1s 198ms/step - loss: 0.1399 - accuracy: 0.9740 - val_loss: 7.0684 - val_accuracy: 0.4545\n",
      "Epoch 115/500\n"
     ]
    },
    {
     "name": "stdout",
     "output_type": "stream",
     "text": [
      "3/3 [==============================] - 1s 206ms/step - loss: 0.4869 - accuracy: 0.8831 - val_loss: 1.3382 - val_accuracy: 0.5974\n",
      "Epoch 116/500\n",
      "3/3 [==============================] - 1s 201ms/step - loss: 0.1283 - accuracy: 0.9870 - val_loss: 1.9404 - val_accuracy: 0.6104\n",
      "Epoch 117/500\n",
      "3/3 [==============================] - 1s 205ms/step - loss: 0.0036 - accuracy: 1.0000 - val_loss: 2.0287 - val_accuracy: 0.6234\n",
      "Epoch 118/500\n",
      "3/3 [==============================] - 1s 194ms/step - loss: 0.0030 - accuracy: 1.0000 - val_loss: 2.0415 - val_accuracy: 0.6234\n",
      "Epoch 119/500\n",
      "3/3 [==============================] - 1s 195ms/step - loss: 3.1681e-04 - accuracy: 1.0000 - val_loss: 2.0395 - val_accuracy: 0.6104\n",
      "Epoch 120/500\n",
      "3/3 [==============================] - 1s 201ms/step - loss: 4.6801e-04 - accuracy: 1.0000 - val_loss: 2.0300 - val_accuracy: 0.6104\n",
      "Epoch 121/500\n",
      "3/3 [==============================] - 1s 202ms/step - loss: 4.7371e-04 - accuracy: 1.0000 - val_loss: 2.1908 - val_accuracy: 0.6104\n",
      "Epoch 122/500\n",
      "3/3 [==============================] - 1s 209ms/step - loss: 0.0018 - accuracy: 1.0000 - val_loss: 2.0400 - val_accuracy: 0.6494\n",
      "Epoch 123/500\n",
      "3/3 [==============================] - 1s 202ms/step - loss: 1.9572e-04 - accuracy: 1.0000 - val_loss: 1.9300 - val_accuracy: 0.6623\n",
      "Epoch 124/500\n",
      "3/3 [==============================] - 1s 196ms/step - loss: 0.0099 - accuracy: 1.0000 - val_loss: 7.8191 - val_accuracy: 0.4935\n",
      "Epoch 125/500\n",
      "3/3 [==============================] - 1s 206ms/step - loss: 5.9990e-04 - accuracy: 1.0000 - val_loss: 7.2809 - val_accuracy: 0.5195\n",
      "Epoch 126/500\n",
      "3/3 [==============================] - 1s 204ms/step - loss: 9.4476e-04 - accuracy: 1.0000 - val_loss: 6.5607 - val_accuracy: 0.5325\n",
      "Epoch 127/500\n",
      "3/3 [==============================] - 1s 200ms/step - loss: 1.0468e-04 - accuracy: 1.0000 - val_loss: 6.0953 - val_accuracy: 0.5325\n",
      "Epoch 128/500\n",
      "3/3 [==============================] - 1s 207ms/step - loss: 6.0186e-05 - accuracy: 1.0000 - val_loss: 5.7097 - val_accuracy: 0.5325\n",
      "Epoch 129/500\n",
      "3/3 [==============================] - 1s 196ms/step - loss: 4.5155e-05 - accuracy: 1.0000 - val_loss: 5.3052 - val_accuracy: 0.5325\n",
      "Epoch 130/500\n",
      "3/3 [==============================] - 1s 200ms/step - loss: 1.5747e-04 - accuracy: 1.0000 - val_loss: 4.8153 - val_accuracy: 0.5455\n",
      "Epoch 131/500\n",
      "3/3 [==============================] - 1s 207ms/step - loss: 5.7095e-05 - accuracy: 1.0000 - val_loss: 4.4350 - val_accuracy: 0.5584\n",
      "Epoch 132/500\n",
      "3/3 [==============================] - 1s 202ms/step - loss: 5.4152e-05 - accuracy: 1.0000 - val_loss: 4.1388 - val_accuracy: 0.5974\n",
      "Epoch 133/500\n",
      "3/3 [==============================] - 1s 197ms/step - loss: 1.0709e-04 - accuracy: 1.0000 - val_loss: 3.5895 - val_accuracy: 0.6234\n",
      "Epoch 134/500\n",
      "3/3 [==============================] - 1s 203ms/step - loss: 1.9437e-05 - accuracy: 1.0000 - val_loss: 3.3805 - val_accuracy: 0.6364\n",
      "Epoch 135/500\n",
      "3/3 [==============================] - 1s 201ms/step - loss: 2.4113e-05 - accuracy: 1.0000 - val_loss: 3.1768 - val_accuracy: 0.6494\n",
      "Epoch 136/500\n",
      "3/3 [==============================] - 1s 206ms/step - loss: 0.0062 - accuracy: 1.0000 - val_loss: 7.5667 - val_accuracy: 0.4805\n",
      "Epoch 137/500\n",
      "3/3 [==============================] - 1s 208ms/step - loss: 0.0119 - accuracy: 1.0000 - val_loss: 8.4288 - val_accuracy: 0.4675\n",
      "Epoch 138/500\n",
      "3/3 [==============================] - 1s 199ms/step - loss: 5.5801e-04 - accuracy: 1.0000 - val_loss: 7.6173 - val_accuracy: 0.4805\n",
      "Epoch 139/500\n",
      "3/3 [==============================] - 1s 183ms/step - loss: 6.5304e-04 - accuracy: 1.0000 - val_loss: 6.3628 - val_accuracy: 0.4805\n",
      "Epoch 140/500\n",
      "3/3 [==============================] - 1s 198ms/step - loss: 1.7247e-04 - accuracy: 1.0000 - val_loss: 5.7582 - val_accuracy: 0.5195\n",
      "Epoch 141/500\n",
      "3/3 [==============================] - 1s 194ms/step - loss: 7.0970e-05 - accuracy: 1.0000 - val_loss: 5.0569 - val_accuracy: 0.5195\n",
      "Epoch 142/500\n",
      "3/3 [==============================] - 1s 212ms/step - loss: 0.0191 - accuracy: 0.9870 - val_loss: 2.0665 - val_accuracy: 0.6364\n",
      "Epoch 143/500\n",
      "3/3 [==============================] - 1s 201ms/step - loss: 0.3680 - accuracy: 0.9481 - val_loss: 0.8932 - val_accuracy: 0.7532\n",
      "Epoch 144/500\n",
      "3/3 [==============================] - 1s 188ms/step - loss: 0.0227 - accuracy: 0.9870 - val_loss: 1.5847 - val_accuracy: 0.7013\n",
      "Epoch 145/500\n",
      "3/3 [==============================] - 1s 193ms/step - loss: 0.0011 - accuracy: 1.0000 - val_loss: 1.6480 - val_accuracy: 0.7013\n",
      "Epoch 146/500\n",
      "3/3 [==============================] - 1s 199ms/step - loss: 5.3427e-04 - accuracy: 1.0000 - val_loss: 1.6629 - val_accuracy: 0.7013\n",
      "Epoch 147/500\n",
      "3/3 [==============================] - 1s 190ms/step - loss: 0.0020 - accuracy: 1.0000 - val_loss: 1.5891 - val_accuracy: 0.7143\n",
      "Epoch 148/500\n",
      "3/3 [==============================] - 1s 181ms/step - loss: 0.0068 - accuracy: 1.0000 - val_loss: 6.6965 - val_accuracy: 0.4805\n",
      "Epoch 149/500\n",
      "3/3 [==============================] - 1s 181ms/step - loss: 0.0208 - accuracy: 0.9870 - val_loss: 2.4837 - val_accuracy: 0.6883\n",
      "Epoch 150/500\n",
      "3/3 [==============================] - 1s 183ms/step - loss: 5.7898e-04 - accuracy: 1.0000 - val_loss: 2.4371 - val_accuracy: 0.6753\n",
      "Epoch 151/500\n",
      "3/3 [==============================] - 1s 181ms/step - loss: 6.3977e-04 - accuracy: 1.0000 - val_loss: 2.3040 - val_accuracy: 0.7013\n",
      "Epoch 152/500\n",
      "3/3 [==============================] - 1s 204ms/step - loss: 1.2519e-04 - accuracy: 1.0000 - val_loss: 2.1110 - val_accuracy: 0.7143\n",
      "Epoch 153/500\n",
      "3/3 [==============================] - 1s 190ms/step - loss: 1.4107e-04 - accuracy: 1.0000 - val_loss: 1.9052 - val_accuracy: 0.7143\n",
      "Epoch 154/500\n",
      "3/3 [==============================] - 1s 192ms/step - loss: 9.4366e-05 - accuracy: 1.0000 - val_loss: 1.6988 - val_accuracy: 0.7143\n",
      "Epoch 155/500\n",
      "3/3 [==============================] - 1s 185ms/step - loss: 1.6357e-04 - accuracy: 1.0000 - val_loss: 1.5195 - val_accuracy: 0.7143\n",
      "Epoch 156/500\n",
      "3/3 [==============================] - 1s 187ms/step - loss: 1.1177e-04 - accuracy: 1.0000 - val_loss: 1.3428 - val_accuracy: 0.7403\n",
      "Epoch 157/500\n",
      "3/3 [==============================] - 1s 185ms/step - loss: 0.0014 - accuracy: 1.0000 - val_loss: 1.8128 - val_accuracy: 0.7013\n",
      "Epoch 158/500\n",
      "3/3 [==============================] - 1s 184ms/step - loss: 2.4034e-04 - accuracy: 1.0000 - val_loss: 1.4712 - val_accuracy: 0.7273\n",
      "Epoch 159/500\n",
      "3/3 [==============================] - 1s 208ms/step - loss: 2.9787e-04 - accuracy: 1.0000 - val_loss: 1.0554 - val_accuracy: 0.7662\n",
      "Epoch 160/500\n",
      "3/3 [==============================] - 1s 208ms/step - loss: 8.4445e-05 - accuracy: 1.0000 - val_loss: 0.9222 - val_accuracy: 0.8182\n",
      "Epoch 161/500\n",
      "3/3 [==============================] - 1s 205ms/step - loss: 1.3863e-04 - accuracy: 1.0000 - val_loss: 0.8647 - val_accuracy: 0.8312\n",
      "Epoch 162/500\n",
      "3/3 [==============================] - 1s 204ms/step - loss: 9.1527e-05 - accuracy: 1.0000 - val_loss: 0.5803 - val_accuracy: 0.8701\n",
      "Epoch 163/500\n",
      "3/3 [==============================] - 1s 184ms/step - loss: 6.8600e-05 - accuracy: 1.0000 - val_loss: 0.5293 - val_accuracy: 0.8701\n",
      "Epoch 164/500\n",
      "3/3 [==============================] - 1s 183ms/step - loss: 2.1264e-05 - accuracy: 1.0000 - val_loss: 0.5013 - val_accuracy: 0.8701\n",
      "Epoch 165/500\n",
      "3/3 [==============================] - 1s 221ms/step - loss: 3.3301e-05 - accuracy: 1.0000 - val_loss: 0.4537 - val_accuracy: 0.8831\n",
      "Epoch 166/500\n",
      "3/3 [==============================] - 1s 194ms/step - loss: 1.5924e-05 - accuracy: 1.0000 - val_loss: 0.3988 - val_accuracy: 0.8831\n",
      "Epoch 167/500\n",
      "3/3 [==============================] - 1s 211ms/step - loss: 9.7712e-06 - accuracy: 1.0000 - val_loss: 0.3436 - val_accuracy: 0.9091\n",
      "Epoch 168/500\n",
      "3/3 [==============================] - 1s 206ms/step - loss: 3.4412e-05 - accuracy: 1.0000 - val_loss: 0.3232 - val_accuracy: 0.9221\n",
      "Epoch 169/500\n",
      "3/3 [==============================] - 1s 209ms/step - loss: 2.4035e-05 - accuracy: 1.0000 - val_loss: 0.2372 - val_accuracy: 0.9481\n",
      "Epoch 170/500\n",
      "3/3 [==============================] - 1s 184ms/step - loss: 9.0982e-06 - accuracy: 1.0000 - val_loss: 0.2198 - val_accuracy: 0.9481\n",
      "Epoch 171/500\n"
     ]
    },
    {
     "name": "stdout",
     "output_type": "stream",
     "text": [
      "3/3 [==============================] - 1s 183ms/step - loss: 1.0507e-05 - accuracy: 1.0000 - val_loss: 0.2222 - val_accuracy: 0.9481\n",
      "Epoch 172/500\n",
      "3/3 [==============================] - 1s 197ms/step - loss: 0.0020 - accuracy: 1.0000 - val_loss: 8.1516 - val_accuracy: 0.4545\n",
      "Epoch 173/500\n",
      "3/3 [==============================] - 1s 192ms/step - loss: 0.0069 - accuracy: 1.0000 - val_loss: 2.5044 - val_accuracy: 0.5584\n",
      "Epoch 174/500\n",
      "3/3 [==============================] - 1s 189ms/step - loss: 0.1065 - accuracy: 0.9610 - val_loss: 1.3837 - val_accuracy: 0.7273\n",
      "Epoch 175/500\n",
      "3/3 [==============================] - 1s 203ms/step - loss: 0.1373 - accuracy: 0.9610 - val_loss: 1.3989 - val_accuracy: 0.7922\n",
      "Epoch 176/500\n",
      "3/3 [==============================] - 1s 194ms/step - loss: 0.0758 - accuracy: 0.9870 - val_loss: 0.2710 - val_accuracy: 0.9351\n",
      "Epoch 177/500\n",
      "3/3 [==============================] - 1s 189ms/step - loss: 0.0122 - accuracy: 0.9870 - val_loss: 0.3388 - val_accuracy: 0.9221\n",
      "Epoch 178/500\n",
      "3/3 [==============================] - 1s 190ms/step - loss: 0.0021 - accuracy: 1.0000 - val_loss: 0.3202 - val_accuracy: 0.9351\n",
      "Epoch 179/500\n",
      "3/3 [==============================] - 1s 190ms/step - loss: 0.0668 - accuracy: 0.9870 - val_loss: 0.5263 - val_accuracy: 0.9091\n",
      "Epoch 180/500\n",
      "3/3 [==============================] - 1s 186ms/step - loss: 0.1092 - accuracy: 0.9481 - val_loss: 0.3108 - val_accuracy: 0.9481\n",
      "Epoch 181/500\n",
      "3/3 [==============================] - 1s 181ms/step - loss: 0.0153 - accuracy: 1.0000 - val_loss: 0.3454 - val_accuracy: 0.9481\n",
      "Epoch 182/500\n",
      "3/3 [==============================] - 1s 188ms/step - loss: 3.5346e-04 - accuracy: 1.0000 - val_loss: 0.3234 - val_accuracy: 0.9481\n",
      "Epoch 183/500\n",
      "3/3 [==============================] - 1s 184ms/step - loss: 2.5260e-04 - accuracy: 1.0000 - val_loss: 0.2959 - val_accuracy: 0.9481\n",
      "Epoch 184/500\n",
      "3/3 [==============================] - 1s 184ms/step - loss: 6.9233e-05 - accuracy: 1.0000 - val_loss: 0.2707 - val_accuracy: 0.9351\n",
      "Epoch 185/500\n",
      "3/3 [==============================] - 1s 183ms/step - loss: 0.0032 - accuracy: 1.0000 - val_loss: 0.2460 - val_accuracy: 0.9481\n",
      "Epoch 186/500\n",
      "3/3 [==============================] - 1s 186ms/step - loss: 3.1948e-05 - accuracy: 1.0000 - val_loss: 0.2212 - val_accuracy: 0.9481\n",
      "Epoch 187/500\n",
      "3/3 [==============================] - 1s 185ms/step - loss: 0.0042 - accuracy: 1.0000 - val_loss: 0.4976 - val_accuracy: 0.8701\n",
      "Epoch 188/500\n",
      "3/3 [==============================] - 1s 200ms/step - loss: 0.0012 - accuracy: 1.0000 - val_loss: 0.2532 - val_accuracy: 0.9481\n",
      "Epoch 189/500\n",
      "3/3 [==============================] - 1s 189ms/step - loss: 1.1182e-05 - accuracy: 1.0000 - val_loss: 0.2261 - val_accuracy: 0.9481\n",
      "Epoch 190/500\n",
      "3/3 [==============================] - 1s 183ms/step - loss: 0.0313 - accuracy: 0.9870 - val_loss: 4.3547 - val_accuracy: 0.6883\n",
      "Epoch 191/500\n",
      "3/3 [==============================] - 1s 192ms/step - loss: 0.1141 - accuracy: 0.9740 - val_loss: 0.5007 - val_accuracy: 0.9351\n",
      "Epoch 192/500\n",
      "3/3 [==============================] - 1s 187ms/step - loss: 0.0061 - accuracy: 1.0000 - val_loss: 0.4609 - val_accuracy: 0.9221\n",
      "Epoch 193/500\n",
      "3/3 [==============================] - 1s 207ms/step - loss: 0.0050 - accuracy: 1.0000 - val_loss: 0.0467 - val_accuracy: 0.9870\n",
      "Epoch 194/500\n",
      "3/3 [==============================] - 1s 191ms/step - loss: 0.0018 - accuracy: 1.0000 - val_loss: 0.0629 - val_accuracy: 0.9740\n",
      "Epoch 195/500\n",
      "3/3 [==============================] - 1s 193ms/step - loss: 0.0015 - accuracy: 1.0000 - val_loss: 0.0383 - val_accuracy: 0.9870\n",
      "Epoch 196/500\n",
      "3/3 [==============================] - 1s 186ms/step - loss: 8.4951e-04 - accuracy: 1.0000 - val_loss: 0.0215 - val_accuracy: 0.9870\n",
      "Epoch 197/500\n",
      "3/3 [==============================] - 1s 188ms/step - loss: 0.0092 - accuracy: 1.0000 - val_loss: 0.1405 - val_accuracy: 0.9740\n",
      "Epoch 198/500\n",
      "3/3 [==============================] - 1s 194ms/step - loss: 1.8279e-04 - accuracy: 1.0000 - val_loss: 0.1171 - val_accuracy: 0.9740\n",
      "Epoch 199/500\n",
      "3/3 [==============================] - 1s 190ms/step - loss: 0.0022 - accuracy: 1.0000 - val_loss: 0.1795 - val_accuracy: 0.9610\n",
      "Epoch 200/500\n",
      "3/3 [==============================] - 1s 192ms/step - loss: 5.0860e-05 - accuracy: 1.0000 - val_loss: 0.1642 - val_accuracy: 0.9610\n",
      "Epoch 201/500\n",
      "3/3 [==============================] - 1s 196ms/step - loss: 1.6016e-04 - accuracy: 1.0000 - val_loss: 0.1453 - val_accuracy: 0.9740\n",
      "Epoch 202/500\n",
      "3/3 [==============================] - 1s 184ms/step - loss: 6.0999e-05 - accuracy: 1.0000 - val_loss: 0.1297 - val_accuracy: 0.9740\n",
      "Epoch 203/500\n",
      "3/3 [==============================] - 1s 183ms/step - loss: 0.0042 - accuracy: 1.0000 - val_loss: 0.0990 - val_accuracy: 0.9740\n",
      "Epoch 204/500\n",
      "3/3 [==============================] - 1s 200ms/step - loss: 7.3263e-05 - accuracy: 1.0000 - val_loss: 0.0835 - val_accuracy: 0.9740\n",
      "Epoch 205/500\n",
      "3/3 [==============================] - 1s 186ms/step - loss: 1.9348e-04 - accuracy: 1.0000 - val_loss: 0.0551 - val_accuracy: 0.9740\n",
      "Epoch 206/500\n",
      "3/3 [==============================] - 1s 184ms/step - loss: 6.2203e-05 - accuracy: 1.0000 - val_loss: 0.0402 - val_accuracy: 0.9870\n",
      "Epoch 207/500\n",
      "3/3 [==============================] - 1s 182ms/step - loss: 0.0041 - accuracy: 1.0000 - val_loss: 0.6844 - val_accuracy: 0.8831\n",
      "Epoch 208/500\n",
      "3/3 [==============================] - 1s 186ms/step - loss: 0.1181 - accuracy: 0.9740 - val_loss: 1.0307 - val_accuracy: 0.9481\n",
      "Epoch 209/500\n",
      "3/3 [==============================] - 1s 184ms/step - loss: 0.0961 - accuracy: 0.9870 - val_loss: 0.2707 - val_accuracy: 0.9351\n",
      "Epoch 210/500\n",
      "3/3 [==============================] - 1s 192ms/step - loss: 0.0156 - accuracy: 0.9870 - val_loss: 0.0333 - val_accuracy: 0.9870\n",
      "Epoch 211/500\n",
      "3/3 [==============================] - 1s 207ms/step - loss: 0.0151 - accuracy: 0.9870 - val_loss: 9.2793e-05 - val_accuracy: 1.0000\n",
      "Epoch 212/500\n",
      "3/3 [==============================] - 1s 189ms/step - loss: 2.7846e-04 - accuracy: 1.0000 - val_loss: 6.3424e-05 - val_accuracy: 1.0000\n",
      "Epoch 213/500\n",
      "3/3 [==============================] - 1s 186ms/step - loss: 6.0449e-04 - accuracy: 1.0000 - val_loss: 2.2773e-05 - val_accuracy: 1.0000\n",
      "Epoch 214/500\n",
      "3/3 [==============================] - 1s 193ms/step - loss: 0.0571 - accuracy: 0.9740 - val_loss: 1.2276 - val_accuracy: 0.8831\n",
      "Epoch 215/500\n",
      "3/3 [==============================] - 1s 182ms/step - loss: 0.0625 - accuracy: 0.9740 - val_loss: 0.0035 - val_accuracy: 1.0000\n",
      "Epoch 216/500\n",
      "3/3 [==============================] - 1s 195ms/step - loss: 5.8260e-04 - accuracy: 1.0000 - val_loss: 0.0023 - val_accuracy: 1.0000\n",
      "Epoch 217/500\n",
      "3/3 [==============================] - 1s 189ms/step - loss: 6.8256e-04 - accuracy: 1.0000 - val_loss: 7.4777e-04 - val_accuracy: 1.0000\n",
      "Epoch 218/500\n",
      "3/3 [==============================] - 1s 183ms/step - loss: 6.6314e-05 - accuracy: 1.0000 - val_loss: 6.8116e-04 - val_accuracy: 1.0000\n",
      "Epoch 219/500\n",
      "3/3 [==============================] - 1s 189ms/step - loss: 4.1963e-05 - accuracy: 1.0000 - val_loss: 6.8995e-04 - val_accuracy: 1.0000\n",
      "Epoch 220/500\n",
      "3/3 [==============================] - 1s 198ms/step - loss: 8.0765e-04 - accuracy: 1.0000 - val_loss: 0.0016 - val_accuracy: 1.0000\n",
      "Epoch 221/500\n",
      "3/3 [==============================] - 1s 183ms/step - loss: 6.8039e-05 - accuracy: 1.0000 - val_loss: 0.0014 - val_accuracy: 1.0000\n",
      "Epoch 222/500\n",
      "3/3 [==============================] - 1s 197ms/step - loss: 1.3938e-04 - accuracy: 1.0000 - val_loss: 0.0014 - val_accuracy: 1.0000\n",
      "Epoch 223/500\n",
      "3/3 [==============================] - 1s 198ms/step - loss: 5.7472e-05 - accuracy: 1.0000 - val_loss: 0.0013 - val_accuracy: 1.0000\n",
      "Epoch 224/500\n",
      "3/3 [==============================] - 1s 184ms/step - loss: 4.0005e-04 - accuracy: 1.0000 - val_loss: 1.1419e-04 - val_accuracy: 1.0000\n",
      "Epoch 225/500\n",
      "3/3 [==============================] - 1s 189ms/step - loss: 0.0453 - accuracy: 0.9740 - val_loss: 0.5044 - val_accuracy: 0.9221\n",
      "Epoch 226/500\n",
      "3/3 [==============================] - 1s 182ms/step - loss: 0.0572 - accuracy: 0.9740 - val_loss: 0.0079 - val_accuracy: 1.0000\n",
      "Epoch 227/500\n"
     ]
    },
    {
     "name": "stdout",
     "output_type": "stream",
     "text": [
      "3/3 [==============================] - 1s 192ms/step - loss: 8.2486e-05 - accuracy: 1.0000 - val_loss: 0.0057 - val_accuracy: 1.0000\n",
      "Epoch 228/500\n",
      "3/3 [==============================] - 1s 196ms/step - loss: 0.0374 - accuracy: 0.9740 - val_loss: 0.0038 - val_accuracy: 1.0000\n",
      "Epoch 229/500\n",
      "3/3 [==============================] - 1s 181ms/step - loss: 0.0096 - accuracy: 1.0000 - val_loss: 2.7030e-05 - val_accuracy: 1.0000\n",
      "Epoch 230/500\n",
      "3/3 [==============================] - 1s 186ms/step - loss: 0.0022 - accuracy: 1.0000 - val_loss: 2.6334e-05 - val_accuracy: 1.0000\n",
      "Epoch 231/500\n",
      "3/3 [==============================] - 1s 187ms/step - loss: 0.0011 - accuracy: 1.0000 - val_loss: 1.3891e-05 - val_accuracy: 1.0000\n",
      "Epoch 232/500\n",
      "3/3 [==============================] - 1s 180ms/step - loss: 0.0102 - accuracy: 0.9870 - val_loss: 7.4024e-04 - val_accuracy: 1.0000\n",
      "Epoch 233/500\n",
      "3/3 [==============================] - 1s 184ms/step - loss: 1.5460e-04 - accuracy: 1.0000 - val_loss: 5.4572e-04 - val_accuracy: 1.0000\n",
      "Epoch 234/500\n",
      "3/3 [==============================] - 1s 193ms/step - loss: 4.3391e-04 - accuracy: 1.0000 - val_loss: 2.2243e-04 - val_accuracy: 1.0000\n",
      "Epoch 235/500\n",
      "3/3 [==============================] - 1s 181ms/step - loss: 9.2394e-05 - accuracy: 1.0000 - val_loss: 1.8769e-04 - val_accuracy: 1.0000\n",
      "Epoch 236/500\n",
      "3/3 [==============================] - 1s 186ms/step - loss: 0.0312 - accuracy: 0.9870 - val_loss: 6.2493 - val_accuracy: 0.6494\n",
      "Epoch 237/500\n",
      "3/3 [==============================] - 1s 188ms/step - loss: 0.0073 - accuracy: 1.0000 - val_loss: 0.4868 - val_accuracy: 0.9091\n",
      "Epoch 238/500\n",
      "3/3 [==============================] - 0s 180ms/step - loss: 0.0184 - accuracy: 0.9870 - val_loss: 0.2773 - val_accuracy: 0.9481\n",
      "Epoch 239/500\n",
      "3/3 [==============================] - 0s 179ms/step - loss: 0.0921 - accuracy: 0.9740 - val_loss: 0.0146 - val_accuracy: 0.9870\n",
      "Epoch 240/500\n",
      "3/3 [==============================] - 1s 184ms/step - loss: 0.0014 - accuracy: 1.0000 - val_loss: 0.0083 - val_accuracy: 1.0000\n",
      "Epoch 241/500\n",
      "3/3 [==============================] - 1s 188ms/step - loss: 4.9116e-04 - accuracy: 1.0000 - val_loss: 0.0049 - val_accuracy: 1.0000\n",
      "Epoch 242/500\n",
      "3/3 [==============================] - 0s 179ms/step - loss: 0.0032 - accuracy: 1.0000 - val_loss: 0.2295 - val_accuracy: 0.9870\n",
      "Epoch 243/500\n",
      "3/3 [==============================] - 1s 184ms/step - loss: 0.0325 - accuracy: 0.9870 - val_loss: 0.0381 - val_accuracy: 0.9870\n",
      "Epoch 244/500\n",
      "3/3 [==============================] - 1s 182ms/step - loss: 0.0014 - accuracy: 1.0000 - val_loss: 0.0923 - val_accuracy: 0.9870\n",
      "Epoch 245/500\n",
      "3/3 [==============================] - 1s 181ms/step - loss: 2.0335e-04 - accuracy: 1.0000 - val_loss: 0.0783 - val_accuracy: 0.9870\n",
      "Epoch 246/500\n",
      "3/3 [==============================] - 1s 189ms/step - loss: 1.8834e-04 - accuracy: 1.0000 - val_loss: 0.0675 - val_accuracy: 0.9870\n",
      "Epoch 247/500\n",
      "3/3 [==============================] - 1s 188ms/step - loss: 2.0960e-05 - accuracy: 1.0000 - val_loss: 0.0602 - val_accuracy: 0.9870\n",
      "Epoch 248/500\n",
      "3/3 [==============================] - 1s 191ms/step - loss: 1.8429e-05 - accuracy: 1.0000 - val_loss: 0.0536 - val_accuracy: 0.9870\n",
      "Epoch 249/500\n",
      "3/3 [==============================] - 1s 183ms/step - loss: 2.7206e-05 - accuracy: 1.0000 - val_loss: 0.0472 - val_accuracy: 0.9870\n",
      "Epoch 250/500\n",
      "3/3 [==============================] - 1s 181ms/step - loss: 5.0855e-04 - accuracy: 1.0000 - val_loss: 0.0811 - val_accuracy: 0.9870\n",
      "Epoch 251/500\n",
      "3/3 [==============================] - 1s 182ms/step - loss: 1.2158e-04 - accuracy: 1.0000 - val_loss: 0.0581 - val_accuracy: 0.9870\n",
      "Epoch 252/500\n",
      "3/3 [==============================] - 1s 184ms/step - loss: 1.4325e-04 - accuracy: 1.0000 - val_loss: 0.0099 - val_accuracy: 0.9870\n",
      "Epoch 253/500\n",
      "3/3 [==============================] - 1s 182ms/step - loss: 1.7032e-04 - accuracy: 1.0000 - val_loss: 0.0135 - val_accuracy: 0.9870\n",
      "Epoch 254/500\n",
      "3/3 [==============================] - 1s 181ms/step - loss: 1.4287e-05 - accuracy: 1.0000 - val_loss: 0.0091 - val_accuracy: 0.9870\n",
      "Epoch 255/500\n",
      "3/3 [==============================] - 1s 196ms/step - loss: 3.3378e-06 - accuracy: 1.0000 - val_loss: 0.0062 - val_accuracy: 1.0000\n",
      "Epoch 256/500\n",
      "3/3 [==============================] - 1s 191ms/step - loss: 1.4057e-05 - accuracy: 1.0000 - val_loss: 0.0039 - val_accuracy: 1.0000\n",
      "Epoch 257/500\n",
      "3/3 [==============================] - 1s 186ms/step - loss: 0.0145 - accuracy: 0.9870 - val_loss: 0.0830 - val_accuracy: 0.9740\n",
      "Epoch 258/500\n",
      "3/3 [==============================] - 1s 180ms/step - loss: 0.1477 - accuracy: 0.9481 - val_loss: 0.1108 - val_accuracy: 0.9610\n",
      "Epoch 259/500\n",
      "3/3 [==============================] - 1s 181ms/step - loss: 0.0248 - accuracy: 0.9870 - val_loss: 1.6402e-04 - val_accuracy: 1.0000\n",
      "Epoch 260/500\n",
      "3/3 [==============================] - 1s 182ms/step - loss: 0.0107 - accuracy: 0.9870 - val_loss: 0.0990 - val_accuracy: 0.9610\n",
      "Epoch 261/500\n",
      "3/3 [==============================] - 1s 180ms/step - loss: 0.0465 - accuracy: 0.9740 - val_loss: 0.0623 - val_accuracy: 0.9870\n",
      "Epoch 262/500\n",
      "3/3 [==============================] - 1s 181ms/step - loss: 0.0046 - accuracy: 1.0000 - val_loss: 0.3858 - val_accuracy: 0.9481\n",
      "Epoch 263/500\n",
      "3/3 [==============================] - 1s 182ms/step - loss: 3.6985e-04 - accuracy: 1.0000 - val_loss: 0.3080 - val_accuracy: 0.9610\n",
      "Epoch 264/500\n",
      "3/3 [==============================] - 1s 183ms/step - loss: 9.0487e-04 - accuracy: 1.0000 - val_loss: 0.1323 - val_accuracy: 0.9740\n",
      "Epoch 265/500\n",
      "3/3 [==============================] - 0s 179ms/step - loss: 1.4579e-04 - accuracy: 1.0000 - val_loss: 0.0934 - val_accuracy: 0.9740\n",
      "Epoch 266/500\n",
      "3/3 [==============================] - 1s 182ms/step - loss: 1.1847e-04 - accuracy: 1.0000 - val_loss: 0.0686 - val_accuracy: 0.9740\n",
      "Epoch 267/500\n",
      "3/3 [==============================] - 1s 189ms/step - loss: 1.4952e-04 - accuracy: 1.0000 - val_loss: 0.0492 - val_accuracy: 0.9870\n",
      "Epoch 268/500\n",
      "3/3 [==============================] - 1s 196ms/step - loss: 0.0042 - accuracy: 1.0000 - val_loss: 0.0284 - val_accuracy: 0.9870\n",
      "Epoch 269/500\n",
      "3/3 [==============================] - 1s 197ms/step - loss: 0.0022 - accuracy: 1.0000 - val_loss: 0.1023 - val_accuracy: 0.9740\n",
      "Epoch 270/500\n",
      "3/3 [==============================] - 1s 189ms/step - loss: 2.0974e-04 - accuracy: 1.0000 - val_loss: 0.0646 - val_accuracy: 0.9740\n",
      "Epoch 271/500\n",
      "3/3 [==============================] - 1s 197ms/step - loss: 2.1391e-04 - accuracy: 1.0000 - val_loss: 0.0495 - val_accuracy: 0.9740\n",
      "Epoch 272/500\n",
      "3/3 [==============================] - 1s 182ms/step - loss: 1.7759e-04 - accuracy: 1.0000 - val_loss: 0.0366 - val_accuracy: 0.9740\n",
      "Epoch 273/500\n",
      "3/3 [==============================] - 1s 191ms/step - loss: 0.1142 - accuracy: 0.9740 - val_loss: 0.0062 - val_accuracy: 1.0000\n",
      "Epoch 274/500\n",
      "3/3 [==============================] - 1s 197ms/step - loss: 0.0185 - accuracy: 0.9870 - val_loss: 0.0018 - val_accuracy: 1.0000\n",
      "Epoch 275/500\n",
      "3/3 [==============================] - 1s 193ms/step - loss: 0.0071 - accuracy: 1.0000 - val_loss: 0.0030 - val_accuracy: 1.0000\n",
      "Epoch 276/500\n",
      "3/3 [==============================] - 1s 196ms/step - loss: 5.6916e-04 - accuracy: 1.0000 - val_loss: 0.0017 - val_accuracy: 1.0000\n",
      "Epoch 277/500\n",
      "3/3 [==============================] - 1s 191ms/step - loss: 2.6912e-04 - accuracy: 1.0000 - val_loss: 0.0013 - val_accuracy: 1.0000\n",
      "Epoch 278/500\n",
      "3/3 [==============================] - 1s 196ms/step - loss: 9.6206e-05 - accuracy: 1.0000 - val_loss: 9.9278e-04 - val_accuracy: 1.0000\n",
      "Epoch 279/500\n",
      "3/3 [==============================] - 1s 198ms/step - loss: 9.7766e-05 - accuracy: 1.0000 - val_loss: 7.5477e-04 - val_accuracy: 1.0000\n",
      "Epoch 280/500\n",
      "3/3 [==============================] - 1s 188ms/step - loss: 2.3512e-05 - accuracy: 1.0000 - val_loss: 5.8640e-04 - val_accuracy: 1.0000\n",
      "Epoch 281/500\n",
      "3/3 [==============================] - 1s 192ms/step - loss: 0.0069 - accuracy: 1.0000 - val_loss: 0.2257 - val_accuracy: 0.9351\n",
      "Epoch 282/500\n",
      "3/3 [==============================] - 1s 195ms/step - loss: 0.1321 - accuracy: 0.9481 - val_loss: 0.9727 - val_accuracy: 0.8312\n",
      "Epoch 283/500\n"
     ]
    },
    {
     "name": "stdout",
     "output_type": "stream",
     "text": [
      "3/3 [==============================] - 1s 186ms/step - loss: 0.0040 - accuracy: 1.0000 - val_loss: 0.5904 - val_accuracy: 0.9091\n",
      "Epoch 284/500\n",
      "3/3 [==============================] - 1s 202ms/step - loss: 0.0959 - accuracy: 0.9740 - val_loss: 0.4944 - val_accuracy: 0.9481\n",
      "Epoch 285/500\n",
      "3/3 [==============================] - 1s 198ms/step - loss: 0.0036 - accuracy: 1.0000 - val_loss: 0.4534 - val_accuracy: 0.9481\n",
      "Epoch 286/500\n",
      "3/3 [==============================] - 1s 193ms/step - loss: 0.0037 - accuracy: 1.0000 - val_loss: 0.3817 - val_accuracy: 0.9481\n",
      "Epoch 287/500\n",
      "3/3 [==============================] - 1s 184ms/step - loss: 4.0696e-04 - accuracy: 1.0000 - val_loss: 0.2983 - val_accuracy: 0.9481\n",
      "Epoch 288/500\n",
      "3/3 [==============================] - 1s 183ms/step - loss: 0.0048 - accuracy: 1.0000 - val_loss: 1.0570 - val_accuracy: 0.9091\n",
      "Epoch 289/500\n",
      "3/3 [==============================] - 1s 184ms/step - loss: 0.1123 - accuracy: 0.9610 - val_loss: 0.0070 - val_accuracy: 1.0000\n",
      "Epoch 290/500\n",
      "3/3 [==============================] - 0s 180ms/step - loss: 0.0054 - accuracy: 1.0000 - val_loss: 0.0109 - val_accuracy: 1.0000\n",
      "Epoch 291/500\n",
      "3/3 [==============================] - 1s 184ms/step - loss: 1.5417e-04 - accuracy: 1.0000 - val_loss: 0.0082 - val_accuracy: 1.0000\n",
      "Epoch 292/500\n",
      "3/3 [==============================] - 1s 183ms/step - loss: 4.8553e-04 - accuracy: 1.0000 - val_loss: 0.0105 - val_accuracy: 1.0000\n",
      "Epoch 293/500\n",
      "3/3 [==============================] - 1s 183ms/step - loss: 7.6535e-05 - accuracy: 1.0000 - val_loss: 0.0078 - val_accuracy: 1.0000\n",
      "Epoch 294/500\n",
      "3/3 [==============================] - 1s 186ms/step - loss: 0.0046 - accuracy: 1.0000 - val_loss: 0.2920 - val_accuracy: 0.9481\n",
      "Epoch 295/500\n",
      "3/3 [==============================] - 1s 187ms/step - loss: 0.0537 - accuracy: 0.9740 - val_loss: 6.6267 - val_accuracy: 0.6883\n",
      "Epoch 296/500\n",
      "3/3 [==============================] - 1s 194ms/step - loss: 0.0726 - accuracy: 0.9740 - val_loss: 1.0209 - val_accuracy: 0.8312\n",
      "Epoch 297/500\n",
      "3/3 [==============================] - 1s 198ms/step - loss: 1.3086e-04 - accuracy: 1.0000 - val_loss: 0.9328 - val_accuracy: 0.8442\n",
      "Epoch 298/500\n",
      "3/3 [==============================] - 1s 197ms/step - loss: 0.0017 - accuracy: 1.0000 - val_loss: 0.7027 - val_accuracy: 0.8961\n",
      "Epoch 299/500\n",
      "3/3 [==============================] - 1s 187ms/step - loss: 0.0041 - accuracy: 1.0000 - val_loss: 0.9996 - val_accuracy: 0.8701\n",
      "Epoch 300/500\n",
      "3/3 [==============================] - 1s 190ms/step - loss: 0.0012 - accuracy: 1.0000 - val_loss: 0.9507 - val_accuracy: 0.8701\n",
      "Epoch 301/500\n",
      "3/3 [==============================] - 1s 186ms/step - loss: 0.0174 - accuracy: 0.9870 - val_loss: 1.3556 - val_accuracy: 0.8571\n",
      "Epoch 302/500\n",
      "3/3 [==============================] - 1s 183ms/step - loss: 0.0071 - accuracy: 1.0000 - val_loss: 1.2141 - val_accuracy: 0.8182\n",
      "Epoch 303/500\n",
      "3/3 [==============================] - 1s 181ms/step - loss: 0.0014 - accuracy: 1.0000 - val_loss: 1.0642 - val_accuracy: 0.8052\n",
      "Epoch 304/500\n",
      "3/3 [==============================] - 1s 182ms/step - loss: 6.9548e-04 - accuracy: 1.0000 - val_loss: 0.9391 - val_accuracy: 0.8312\n",
      "Epoch 305/500\n",
      "3/3 [==============================] - 1s 186ms/step - loss: 6.6124e-05 - accuracy: 1.0000 - val_loss: 0.8462 - val_accuracy: 0.8442\n",
      "Epoch 306/500\n",
      "3/3 [==============================] - 1s 184ms/step - loss: 0.0964 - accuracy: 0.9610 - val_loss: 0.3760 - val_accuracy: 0.9221\n",
      "Epoch 307/500\n",
      "3/3 [==============================] - 1s 185ms/step - loss: 0.0672 - accuracy: 0.9870 - val_loss: 0.0264 - val_accuracy: 1.0000\n",
      "Epoch 308/500\n",
      "3/3 [==============================] - 1s 182ms/step - loss: 0.0015 - accuracy: 1.0000 - val_loss: 0.0150 - val_accuracy: 1.0000\n",
      "Epoch 309/500\n",
      "3/3 [==============================] - 1s 190ms/step - loss: 0.0010 - accuracy: 1.0000 - val_loss: 0.0099 - val_accuracy: 1.0000\n",
      "Epoch 310/500\n",
      "3/3 [==============================] - 1s 187ms/step - loss: 8.3035e-04 - accuracy: 1.0000 - val_loss: 0.0083 - val_accuracy: 1.0000\n",
      "Epoch 311/500\n",
      "3/3 [==============================] - 1s 216ms/step - loss: 7.4117e-04 - accuracy: 1.0000 - val_loss: 0.0192 - val_accuracy: 0.9870\n"
     ]
    }
   ],
   "source": [
    "# Import ResNet1D Module\n",
    "#from ResNet_1DCNN import ResNet\n",
    "#from ResNeXt_1DCNN import ResNeXt as ResNet\n",
    "from SE_ResNeXt_1DCNN import SEResNeXt as ResNet\n",
    "\n",
    "\"Configurations for ResNet in Regression Mode\"\n",
    "length = X_train.shape[1]   # Number of Features (or length of the signal)\n",
    "model_width = 32           # Number of Filter or Kernel in the Input Layer\n",
    "num_channel = 1             # Number of Input Channels\n",
    "problem_type = 'Classification' # Regression or Classification\n",
    "output_number = cls_num     # Number of Outputs in the Regression Mode\n",
    "Regression_Model = ResNet(length, num_channel, model_width, problem_type=problem_type, output_nums=output_number).SEResNeXt18() # Build Model\n",
    "# SEResNext Models supported: SEResNeXt18, SEResNeXt34, SEResNeXt50, SEResNeXt101, SEResNeXt152, \n",
    "Regression_Model.compile(optimizer='rmsprop', loss='categorical_crossentropy', metrics=['accuracy'])\n",
    "earlystopping = callbacks.EarlyStopping(monitor =\"val_accuracy\", mode =\"max\", patience = 100, restore_best_weights = True)\n",
    "history = Regression_Model.fit(X_train, y_train_cat, epochs=500, batch_size=btch, verbose=1, validation_data = (X_valid, y_valid_cat), callbacks =[earlystopping]) #,validation_split=0.2,callbacks =[callbacks]"
   ]
  },
  {
   "cell_type": "code",
   "execution_count": 25,
   "metadata": {},
   "outputs": [
    {
     "name": "stdout",
     "output_type": "stream",
     "text": [
      "6/6 [==============================] - 2s 97ms/step\n",
      "array([[41, 35],\n",
      "       [16, 89]], dtype=int64)\n",
      "              precision    recall  f1-score   support\n",
      "\n",
      "           0       0.72      0.54      0.62        76\n",
      "           1       0.72      0.85      0.78       105\n",
      "\n",
      "    accuracy                           0.72       181\n",
      "   macro avg       0.72      0.69      0.70       181\n",
      "weighted avg       0.72      0.72      0.71       181\n",
      "\n"
     ]
    }
   ],
   "source": [
    "predict_x=Regression_Model.predict(X_test)              # Function 1\n",
    "\n",
    "y_pred_crs=np.argmax(predict_x,axis=1)                 # function from augment.py to remove 0 index predictions\n",
    "\n",
    "#y_pred_crs = model_Res.predict_classes(X_test)\n",
    "\n",
    "cm = confusion_matrix(y_test, y_pred_crs)\n",
    "fullprint(cm)\n",
    "acc3=accuracy_score(y_test, y_pred_crs)\n",
    "\n",
    "print(classification_report(y_test, y_pred_crs))\n",
    "\n",
    "#sns.heatmap(cm, annot=True)\n",
    "\n",
    "#plt.imshow(cm)"
   ]
  }
 ],
 "metadata": {
  "celltoolbar": "Raw Cell Format",
  "kernelspec": {
   "display_name": "Python 3 (ipykernel)",
   "language": "python",
   "name": "python3"
  },
  "language_info": {
   "codemirror_mode": {
    "name": "ipython",
    "version": 3
   },
   "file_extension": ".py",
   "mimetype": "text/x-python",
   "name": "python",
   "nbconvert_exporter": "python",
   "pygments_lexer": "ipython3",
   "version": "3.9.7"
  }
 },
 "nbformat": 4,
 "nbformat_minor": 4
}
