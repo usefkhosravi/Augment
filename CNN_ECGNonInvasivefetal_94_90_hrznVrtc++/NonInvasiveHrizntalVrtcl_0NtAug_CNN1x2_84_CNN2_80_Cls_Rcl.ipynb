{
 "cells": [
  {
   "cell_type": "markdown",
   "metadata": {},
   "source": [
    "import time\n",
    "plc=1\n",
    "time.sleep(1500*plc)         #run after 1 houre = 3600 seconds"
   ]
  },
  {
   "cell_type": "code",
   "execution_count": 1,
   "metadata": {},
   "outputs": [
    {
     "data": {
      "text/html": [
       "<style>#notebook { padding-top:0px !important; } .container { width:100% !important; } .end_space { min-height:0px !important; } html, body, .container{ margin:0!important;padding:0!important;}</style>"
      ],
      "text/plain": [
       "<IPython.core.display.HTML object>"
      ]
     },
     "metadata": {},
     "output_type": "display_data"
    }
   ],
   "source": [
    "import os\n",
    "import glob\n",
    "import scipy\n",
    "import random\n",
    "import bisect\n",
    "import numpy as np\n",
    "import pandas as pd\n",
    "import seaborn as sns\n",
    "from scipy import signal\n",
    "from scipy.signal import find_peaks\n",
    "import matplotlib.pyplot as plt\n",
    "from preprocess import *                         #ماژول استخراج پنجره ها\n",
    "from data import *                          #ماژول محلی ورود داده ها\n",
    "from augment import *                            #ماژول های داده افزایی\n",
    "from lstm_cnn import *                           #ماژول های داده افزایی با lstm_cnn\n",
    "import augment\n",
    "import importlib\n",
    "importlib.reload(augment)\n",
    "import tensorflow as tf\n",
    "from tensorflow import keras\n",
    "from tensorflow.keras.layers import BatchNormalization\n",
    "from sklearn.model_selection import train_test_split\n",
    "from sklearn.neural_network import MLPClassifier\n",
    "from sklearn.datasets import make_classification\n",
    "from sklearn.metrics import confusion_matrix, accuracy_score, classification_report,recall_score,precision_score\n",
    "from tensorflow.keras import callbacks\n",
    "from tensorflow.keras import layers\n",
    "from tensorflow.keras.models import Sequential\n",
    "from tensorflow.keras.layers import Convolution2D,Conv1D,Dropout,MaxPooling1D,MaxPooling2D,Flatten,Dense\n",
    "from tensorflow.keras import backend as K\n",
    "from tensorflow.keras.utils import to_categorical\n",
    "from tensorflow.keras.models import load_model\n",
    "cwd = os.getcwd() #\n",
    "fullscrn()"
   ]
  },
  {
   "cell_type": "code",
   "execution_count": 2,
   "metadata": {},
   "outputs": [],
   "source": [
    "def maxindx(ar):\n",
    "    ar_cpy=np.array(ar)\n",
    "    pred=np.argmax(ar,axis=1)\n",
    "    for i in range (len(pred)):\n",
    "        if pred[i]==0:\n",
    "            ar_cpy[i,0]=-1000\n",
    "    pred=np.argmax(ar_cpy,axis=1)\n",
    "    return(pred)"
   ]
  },
  {
   "cell_type": "markdown",
   "metadata": {},
   "source": [
    "<h1><center><div style=\"direction:rtl;font-family:B Nazanin\">Importing Data</div></center></h1>"
   ]
  },
  {
   "cell_type": "code",
   "execution_count": 3,
   "metadata": {},
   "outputs": [
    {
     "name": "stderr",
     "output_type": "stream",
     "text": [
      "C:\\ProgramData\\Anaconda3\\lib\\site-packages\\pandas\\util\\_decorators.py:311: ParserWarning: Falling back to the 'python' engine because the 'c' engine does not support regex separators (separators > 1 char and different from '\\s+' are interpreted as regex); you can avoid this warning by specifying engine='python'.\n",
      "  return func(*args, **kwargs)\n"
     ]
    },
    {
     "name": "stdout",
     "output_type": "stream",
     "text": [
      "first_train_shape= (362, 1251)\n",
      "first_test_shape= (362, 1251)\n",
      "classes_quantity= 12\n",
      "tr_lbls=\t {1, 2, 3, 4, 5, 6, 7, 8, 9, 10, 11, 12}\n",
      "Count_labels= [30 30 30 30 30 31 31 30 30 30 30 30]\n",
      "max(train_feature_Altitude)= 446.32\n",
      "min(train_feature_Altitude)= -1110.8\n",
      "first_train_sample=\n",
      " [   1.         0.47769    0.60965 ... -110.76    -111.03    -110.9    ]\n",
      "1 30\t2 30\t3 30\t4 30\t5 30\t6 31\t7 31\t8 30\t9 30\t10 30\t11 30\t12 30\t\n",
      "shape ecgH= (362, 481)\n"
     ]
    }
   ],
   "source": [
    "cls_num=12\n",
    "btch=30\n",
    "for i in range (1,cls_num+1):\n",
    "    vars()['ecgH'+str(i)],vars()['ecg_tstH'+str(i)]=EOGHorizontalSignal(i)\n",
    "os.chdir(cwd)\n",
    "clses_lens=np.array([])\n",
    "clses_lensH=np.array([])\n",
    "i=0                               #جمع آوری داده ها و چاپ تعداد نمونه ی هر کلاس\n",
    "ecgH=np.array(ecgH1)\n",
    "print(1,len(vars()['ecgH'+str(1)]), end='\\t')\n",
    "clses_lensH=np.append(clses_lensH,len(vars()['ecgH'+str(1)]))\n",
    "for i in range (2,cls_num+1):\n",
    "    ecgH=np.concatenate((ecgH,vars()['ecgH'+str(i)]),axis=0)\n",
    "    clses_lensH=np.append(clses_lensH,len(vars()['ecgH'+str(i)]))\n",
    "    print( i,len(vars()['ecgH'+str(i)]), end='\\t')\n",
    "\n",
    "mx_sigH=max(clses_lensH)\n",
    "print('\\nshape ecgH=',np.shape(ecgH))"
   ]
  },
  {
   "cell_type": "code",
   "execution_count": 4,
   "metadata": {},
   "outputs": [
    {
     "name": "stdout",
     "output_type": "stream",
     "text": [
      "first_train_shape= (362, 1251)\n",
      "first_test_shape= (362, 1251)\n",
      "classes_quantity= 12\n",
      "tr_lbls=\t {1, 2, 3, 4, 5, 6, 7, 8, 9, 10, 11, 12}\n",
      "Count_labels= [30 30 30 30 30 31 31 30 30 30 30 30]\n",
      "max(train_feature_Altitude)= 2540.7\n",
      "min(train_feature_Altitude)= -923.79\n",
      "first_train_sample=\n",
      " [   1.       -5.7032   -5.8955 ... -113.16   -112.85   -112.94  ]\n",
      "1 30\t2 30\t3 30\t4 30\t5 30\t6 31\t7 31\t8 30\t9 30\t10 30\t11 30\t12 30\t\n",
      "shape ecgV= (362, 481)\n"
     ]
    }
   ],
   "source": [
    "EOGHorizontalSignal\n",
    "#Vertical\n",
    "for i in range (1,cls_num+1):\n",
    "    vars()['ecgV'+str(i)],vars()['ecg_tstV'+str(i)]=EOGVerticalSignal(i)\n",
    "os.chdir(cwd)\n",
    "clses_lensV=np.array([])\n",
    "i=0                               #جمع آوری داده ها و چاپ تعداد نمونه ی هر کلاس\n",
    "ecgV=np.array(ecgV1)\n",
    "print(1,len(vars()['ecgV'+str(1)]), end='\\t')\n",
    "clses_lens=np.append(clses_lens,len(vars()['ecgV'+str(1)]))\n",
    "for i in range (2,cls_num+1):\n",
    "    ecgV=np.concatenate((ecgV,vars()['ecgV'+str(i)]),axis=0)\n",
    "    clses_lensV=np.append(clses_lensV,len(vars()['ecgV'+str(i)]))\n",
    "    print( i,len(vars()['ecgV'+str(i)]), end='\\t')\n",
    "\n",
    "mx_sigV=max(clses_lensV)\n",
    "print('\\nshape ecgV=',np.shape(ecgV))"
   ]
  },
  {
   "cell_type": "code",
   "execution_count": 5,
   "metadata": {},
   "outputs": [],
   "source": [
    "for i in range (1,cls_num+1):\n",
    "    #vars()['ecgHV'+str(i)]=np.array([])\n",
    "    vars()['ecg'+str(i)]=np.array(np.concatenate((vars()['ecgH'+str(i)][:,0:-1],vars()['ecgV'+str(i)]),axis=1))\n",
    "    vars()['ecg_tst'+str(i)]=np.array(np.concatenate((vars()['ecg_tstH'+str(i)][:,0:-1],vars()['ecg_tstV'+str(i)]),axis=1))\n",
    "ecg=np.array(np.concatenate((ecgH[:,:-1],ecgV),axis=1))"
   ]
  },
  {
   "cell_type": "code",
   "execution_count": 6,
   "metadata": {},
   "outputs": [
    {
     "data": {
      "text/plain": [
       "(362, 961)"
      ]
     },
     "execution_count": 6,
     "metadata": {},
     "output_type": "execute_result"
    }
   ],
   "source": [
    "np.shape(ecg)"
   ]
  },
  {
   "cell_type": "markdown",
   "metadata": {},
   "source": [
    "<h2><center><div style=\"direction:rtl;font-family:B Nazanin\">Base Train windows</div></center></h1>"
   ]
  },
  {
   "cell_type": "code",
   "execution_count": 7,
   "metadata": {},
   "outputs": [
    {
     "name": "stdout",
     "output_type": "stream",
     "text": [
      "each class and its windows =\n",
      "shape furir_windws0= (362, 960)\n",
      "shape furir_windws= (362, 961)\n",
      "1 30\t2 30\t3 30\t4 30\t5 30\t6 31\t7 31\t8 30\t9 30\t10 30\t11 30\t12 30\t\n",
      " max = 31\n"
     ]
    }
   ],
   "source": [
    "smpl_rte=960                                              # در ماژول ها نیز همین مقدار ثبت شده\n",
    "i=0\n",
    "windws=np.empty((0,smpl_rte+1))\n",
    "\n",
    "for cls in range (1,cls_num+1):                                 #ساخت پنجره های داده های آموزش اصلی\n",
    "    vars()['wndws'+str(cls)]=np.array(vars()['ecg'+str(cls)])  \n",
    "    windws=np.append(windws,vars()['wndws'+str(cls)],axis=0)\n",
    "    \n",
    "print(\"each class and its windows =\")\n",
    "\n",
    "furir_windws0=np.fft.fft(np.array(windws[:,:-1]))\n",
    "print(\"shape furir_windws0=\", np.shape(furir_windws0))\n",
    "furir_windws=np.concatenate((np.array(furir_windws0),np.transpose([windws[:,-1]])),axis=1)\n",
    "print(\"shape furir_windws=\", np.shape(furir_windws))\n",
    "\n",
    "cls_wndws=np.array([])\n",
    "for cls in range (1,cls_num+1):                                # آرایه ی تعداد پنجره ی هر کلاس\n",
    "    wns=len(vars()['wndws'+str(cls)])\n",
    "    cls_wndws=np.append(cls_wndws,wns)\n",
    "    print(cls, wns, end='\\t')\n",
    "\n",
    "mx_wndws=int(np.max(cls_wndws))                        # حداکثر تعداد پنجره ی موجود بین کلاس ها\n",
    "print('\\n max =', mx_wndws)"
   ]
  },
  {
   "cell_type": "code",
   "execution_count": 8,
   "metadata": {},
   "outputs": [
    {
     "name": "stdout",
     "output_type": "stream",
     "text": [
      "32\n"
     ]
    }
   ],
   "source": [
    "#clses=3                                   #تعیین میزان افزایش نمونه (تولید داده)\n",
    "mx_wndws=int(mx_wndws+1)  #mx_wndws*0.3  # =classes-1 برای بررسی الگوریتم تعداد کمی کلاس آزمایش شد\n",
    "print(mx_wndws)"
   ]
  },
  {
   "cell_type": "markdown",
   "metadata": {},
   "source": [
    "<h1><center><div style=\"direction:rtl;font-family:B Nazanin\">Not Augment CNN1</div></center></h1>"
   ]
  },
  {
   "cell_type": "code",
   "execution_count": 9,
   "metadata": {
    "scrolled": false
   },
   "outputs": [
    {
     "name": "stdout",
     "output_type": "stream",
     "text": [
      "12/12 [==============================] - 0s 7ms/step\n",
      "12/12 [==============================] - 0s 3ms/step\n",
      "12/12 [==============================] - 0s 3ms/step\n",
      "12/12 [==============================] - 0s 3ms/step\n",
      "12/12 [==============================] - 0s 3ms/step\n"
     ]
    }
   ],
   "source": [
    "rpt_cnn_clsfctn=5\n",
    "rslt=np.array([])\n",
    "rslts=np.array([])\n",
    "xtrain=np.empty((0,len(wndws1[0])), float) \n",
    "rprt=np.empty((0,3),float)\n",
    "\n",
    "for repeat in range(1,rpt_cnn_clsfctn+1):\n",
    "    for i in range (1,cls_num+1):   \n",
    "        xtrain=np.append(xtrain,vars()['wndws'+str(i)],axis=0)\n",
    "        #print('Up to class ', i, 'train shape = ', np.shape(xtrain))\n",
    "\n",
    "    # Normalization train windows\n",
    "    mx_aug=np.max(xtrain[:,:-1])\n",
    "    mx=np.max(ecg[:,:-1])\n",
    "    mn_aug=np.min(xtrain[:,:-1])\n",
    "    mn=np.min(ecg[:,:-1])\n",
    "    xtrain[:,:-1]= 2*(xtrain[:,:-1]-mn_aug)/(mx_aug - mn_aug) - 1\n",
    "\n",
    "\n",
    "    ###Test Windows:\n",
    "    wndws_test=np.empty((0,len(wndws1[0])), float)\n",
    "    i=0\n",
    "    windws=np.array([])\n",
    "    for cls in range (1,cls_num+1):                                 #ساخت پنجره های داده های آموزش اصلی\n",
    "        vars()['wndws_tst'+str(cls)]=np.empty((0,len(wndws1[0])), float)\n",
    "        vars()['wndws_tst'+str(cls)]=np.append(vars()['wndws_tst'+str(cls)],vars()['ecg_tst'+str(cls)],axis=0)   \n",
    "\n",
    "    # Normalization test windows\n",
    "    for i in range (1,cls_num+1):                \n",
    "        cls=i\n",
    "        #print('\\n cls', i, ' >> ')\n",
    "        #print('max magnitude class', i , ' = ' ,np.max(vars()['wndws_tst'+str(cls)][:,:-1]))\n",
    "        #print('min magnitude class', i , ' = ' ,np.min(vars()['wndws_tst'+str(cls)][:,:-1]))\n",
    "        vars()['wndws_tst'+str(i)][:,:-1]= 2*(vars()['wndws_tst'+str(i)][:,:-1]-mn_aug)/(mx_aug - mn_aug) - 1\n",
    "        #print('after normalizing >>')\n",
    "        #print('max magnitude class', i , ' = ' ,np.max(vars()['wndws_tst'+str(cls)][:,:-1]))\n",
    "        #print('min magnitude class', i , ' = ' ,np.min(vars()['wndws_tst'+str(cls)][:,:-1]))\n",
    "    #print(\"each class and its windows =\")                    #تجمیع کلاس های تست\n",
    "    cls_wndws=np.array([])\n",
    "    for cls in range (1,cls_num+1):                                # آرایه ی تعداد پنجره ی هر کلاس\n",
    "        wns=len(vars()['wndws_tst'+str(cls)])\n",
    "        cls_wndws=np.append(cls_wndws,wns)\n",
    "        #print(cls, wns, end='\\t')\n",
    "        wndws_test=np.append(wndws_test,vars()['wndws_tst'+str(cls)],axis=0)\n",
    "    #mx_wndws=int(np.max(cls_wndws))                        # حداکثر تعداد پنجره ی موجود بین کلاس ها\n",
    "    #print('\\n max instance in classes of test windows =', mx_wndws)\n",
    "\n",
    "    #print('min tst =', np.min(wndws_test[:,:-1]))\n",
    "    #print('max tst =', np.max(wndws_test[:,:-1]))\n",
    "\n",
    "    Xtest=wndws_test[:,:-1]\n",
    "    ytest=np.int16(wndws_test[:,-1])\n",
    "\n",
    "    #fullprint(ytest)\n",
    "\n",
    "    trainx=np.random.permutation(xtrain)\n",
    "    Xtrain=np.array(trainx[:,:-1])\n",
    "    ytrain=np.int16(trainx[:,-1])\n",
    "\n",
    "    X_train=np.array(Xtrain)\n",
    "    y_train=np.array(ytrain)\n",
    "    X_test=np.array(Xtest)\n",
    "    y_test=np.array(ytest)\n",
    "    X_valid=np.array(Xtrain)\n",
    "    y_valid=np.array(ytrain)\n",
    "    #print('X_train => ', X_train.shape)\n",
    "    #print('y_train => ', y_train.shape)\n",
    "    #print('X_test  => ', X_test.shape)\n",
    "    #print('y_test  => ', y_test.shape)\n",
    "    #print('X_valid  => ', X_valid.shape)\n",
    "    #print('y_valid  => ', y_valid.shape)\n",
    "\n",
    "    y_train_cat=to_categorical(y_train)\n",
    "    y_valid_cat=to_categorical(y_valid)\n",
    "    y_test_cat=to_categorical(y_test)\n",
    "    X_train = np.expand_dims(X_train, axis=2)\n",
    "    X_valid = np.expand_dims(X_valid, axis=2)\n",
    "    X_test = np.expand_dims(X_test, axis=2)\n",
    "\n",
    "    ####### NETWORK #######\n",
    "    accuracy=0\n",
    "    acc_crs=np.array([])\n",
    "    ##for i in range (10):\n",
    "    ##    if accuracy<0.2 :\n",
    "    verbose, epochs, batch_size = 0, 1000, btch\n",
    "    n_timesteps, n_features, n_outputs = X_train.shape[1], X_train.shape[2], y_train_cat.shape[1]\n",
    "    steps_per_epoch = len(X_train)//batch_size\n",
    "    validation_steps = len(X_valid)//batch_size # if you have test data\n",
    "    model_crs = Sequential()\n",
    "    BatchNormalization()\n",
    "    model_crs.add(Conv1D(filters=64, kernel_size=3, activation='relu', input_shape=(n_timesteps,n_features)))\n",
    "    #model_crs.add(MaxPooling1D(pool_size=3))\n",
    "    BatchNormalization()\n",
    "    model_crs.add(Conv1D(filters=128, kernel_size=3, activation='relu'))\n",
    "    #model_crs.add(Dropout(0.5))\n",
    "    model_crs.add(MaxPooling1D(pool_size=3))\n",
    "    BatchNormalization()\n",
    "    model_crs.add(Conv1D(filters=256, kernel_size=3, activation='relu'))\n",
    "    model_crs.add(MaxPooling1D(pool_size=3))\n",
    "    BatchNormalization()\n",
    "    model_crs.add(Conv1D(filters=256, kernel_size=3, activation='relu'))\n",
    "    model_crs.add(MaxPooling1D(pool_size=3))\n",
    "    BatchNormalization()\n",
    "    model_crs.add(Conv1D(filters=512, kernel_size=3, activation='relu'))\n",
    "    model_crs.add(MaxPooling1D(pool_size=3))\n",
    "    '''model_crs.add(Conv1D(filters=512, kernel_size=3, activation='relu'))\n",
    "    model_crs.add(MaxPooling1D(pool_size=3))\n",
    "    model_crs.add(Conv1D(filters=1024, kernel_size=3, activation='relu'))\n",
    "    model_crs.add(MaxPooling1D(pool_size=3))\n",
    "    '''\n",
    "    model_crs.add(Flatten())\n",
    "    #model_crs.add(Dropout(0.5))\n",
    "    model_crs.add(Dense(2000, activation='relu'))\n",
    "    model_crs.add(Dense(n_outputs, activation='softmax'))\n",
    "    model_crs.compile(optimizer='rmsprop', loss='categorical_crossentropy', metrics=['accuracy'])\n",
    "    # fit network   #CategoricalCrossentropy #sparse_categorical_crossentropy #SparseCategoricalCrossentropy\n",
    "    earlystopping = callbacks.EarlyStopping(monitor =\"val_accuracy\", mode =\"max\", patience = 20, restore_best_weights = True)\n",
    "    model_crs.fit(X_train, y_train_cat, epochs=epochs, batch_size=batch_size, verbose=verbose, validation_data = (X_valid, y_valid_cat), callbacks =[earlystopping])\n",
    "    # evaluate model_crs\n",
    "    _, accuracy = model_crs.evaluate(X_valid, y_valid_cat, batch_size=batch_size, verbose=verbose)\n",
    "    #print('np.shape(X_test)=',np.shape(X_test))\n",
    "    #model_crs.summary()\n",
    "    predict_x=model_crs.predict(X_test)              # Function 1\n",
    "    y_pred_crs=maxindx(predict_x)                    # function from augment.py to remove 0 index predictions\n",
    "\n",
    "    rprt0=classification_report(y_test, y_pred_crs,output_dict=True)\n",
    "    rprt_row=np.array([])\n",
    "    rprt_row=np.append(rprt_row,rprt0['accuracy'])\n",
    "    rprt_row=np.append(rprt_row,rprt0['macro avg']['f1-score'])\n",
    "    rprt_row=np.append(rprt_row,rprt0['weighted avg']['f1-score'])\n",
    "    rprt=np.append(rprt,np.array([rprt_row]),axis=0)\n",
    "maxm=rprt[np.argmax(rprt[:,1])]\n",
    "avrg=np.mean(rprt,axis=0)\n",
    "rslts=np.append(rslts,['  average= '+str(np.int16(100*avrg))+'  max= '+str(np.int16(100*maxm))+'  var= '+str(np.int16(np.var(100*rprt[:,1])))],axis=0)"
   ]
  },
  {
   "cell_type": "code",
   "execution_count": 10,
   "metadata": {},
   "outputs": [
    {
     "data": {
      "text/plain": [
       "array(['  average= [82 82 82]  max= [85 85 85]  var= 10'], dtype='<U47')"
      ]
     },
     "execution_count": 10,
     "metadata": {},
     "output_type": "execute_result"
    }
   ],
   "source": [
    "rslts"
   ]
  },
  {
   "cell_type": "markdown",
   "metadata": {},
   "source": [
    "<h1><center><div style=\"direction:rtl;font-family:B Nazanin\">Not Augment CNN2</div></center></h1>"
   ]
  },
  {
   "cell_type": "code",
   "execution_count": 11,
   "metadata": {},
   "outputs": [
    {
     "name": "stdout",
     "output_type": "stream",
     "text": [
      "12/12 [==============================] - 0s 14ms/step\n",
      "rprt 1 =\n",
      " {'1': {'precision': 0.7575757575757576, 'recall': 0.8333333333333334, 'f1-score': 0.7936507936507938, 'support': 30}, '2': {'precision': 0.5094339622641509, 'recall': 0.9, 'f1-score': 0.6506024096385542, 'support': 30}, '3': {'precision': 0.8461538461538461, 'recall': 0.36666666666666664, 'f1-score': 0.5116279069767441, 'support': 30}, '4': {'precision': 0.9, 'recall': 0.9, 'f1-score': 0.9, 'support': 30}, '5': {'precision': 0.8235294117647058, 'recall': 0.9032258064516129, 'f1-score': 0.8615384615384616, 'support': 31}, '6': {'precision': 0.8125, 'recall': 0.8666666666666667, 'f1-score': 0.8387096774193549, 'support': 30}, '7': {'precision': 0.7837837837837838, 'recall': 0.9666666666666667, 'f1-score': 0.8656716417910447, 'support': 30}, '8': {'precision': 0.967741935483871, 'recall': 1.0, 'f1-score': 0.9836065573770492, 'support': 30}, '9': {'precision': 0.9545454545454546, 'recall': 0.6774193548387096, 'f1-score': 0.7924528301886793, 'support': 31}, '10': {'precision': 0.9629629629629629, 'recall': 0.8666666666666667, 'f1-score': 0.912280701754386, 'support': 30}, '11': {'precision': 0.9523809523809523, 'recall': 0.6451612903225806, 'f1-score': 0.7692307692307692, 'support': 31}, '12': {'precision': 1.0, 'recall': 1.0, 'f1-score': 1.0, 'support': 29}, 'accuracy': 0.8259668508287292, 'macro avg': {'precision': 0.8558840055762905, 'recall': 0.8271505376344086, 'f1-score': 0.8232809791304865, 'support': 362}, 'weighted avg': {'precision': 0.8559356293540212, 'recall': 0.8259668508287292, 'f1-score': 0.8226640180882128, 'support': 362}}\n",
      "12/12 [==============================] - 0s 5ms/step\n",
      "rprt 2 =\n",
      " {'1': {'precision': 0.8461538461538461, 'recall': 0.7333333333333333, 'f1-score': 0.7857142857142856, 'support': 30}, '2': {'precision': 0.6216216216216216, 'recall': 0.7666666666666667, 'f1-score': 0.6865671641791045, 'support': 30}, '3': {'precision': 0.8846153846153846, 'recall': 0.7666666666666667, 'f1-score': 0.8214285714285715, 'support': 30}, '4': {'precision': 0.9411764705882353, 'recall': 0.5333333333333333, 'f1-score': 0.6808510638297872, 'support': 30}, '5': {'precision': 0.8823529411764706, 'recall': 0.967741935483871, 'f1-score': 0.923076923076923, 'support': 31}, '6': {'precision': 0.5283018867924528, 'recall': 0.9333333333333333, 'f1-score': 0.6746987951807228, 'support': 30}, '7': {'precision': 0.7297297297297297, 'recall': 0.9, 'f1-score': 0.8059701492537312, 'support': 30}, '8': {'precision': 1.0, 'recall': 0.7, 'f1-score': 0.8235294117647058, 'support': 30}, '9': {'precision': 0.631578947368421, 'recall': 0.7741935483870968, 'f1-score': 0.6956521739130435, 'support': 31}, '10': {'precision': 0.84375, 'recall': 0.9, 'f1-score': 0.870967741935484, 'support': 30}, '11': {'precision': 0.9411764705882353, 'recall': 0.5161290322580645, 'f1-score': 0.6666666666666666, 'support': 31}, '12': {'precision': 1.0, 'recall': 0.8275862068965517, 'f1-score': 0.9056603773584906, 'support': 29}, 'accuracy': 0.7762430939226519, 'macro avg': {'precision': 0.8208714415528665, 'recall': 0.7765820046965765, 'f1-score': 0.7783986103584596, 'support': 362}, 'weighted avg': {'precision': 0.8203558765695167, 'recall': 0.7762430939226519, 'f1-score': 0.7779094892689049, 'support': 362}}\n",
      "12/12 [==============================] - 0s 5ms/step\n",
      "rprt 3 =\n",
      " {'1': {'precision': 0.9230769230769231, 'recall': 0.4, 'f1-score': 0.5581395348837209, 'support': 30}, '2': {'precision': 0.6111111111111112, 'recall': 0.7333333333333333, 'f1-score': 0.6666666666666666, 'support': 30}, '3': {'precision': 0.9473684210526315, 'recall': 0.6, 'f1-score': 0.7346938775510204, 'support': 30}, '4': {'precision': 0.88, 'recall': 0.7333333333333333, 'f1-score': 0.8, 'support': 30}, '5': {'precision': 0.6122448979591837, 'recall': 0.967741935483871, 'f1-score': 0.75, 'support': 31}, '6': {'precision': 0.7142857142857143, 'recall': 0.8333333333333334, 'f1-score': 0.7692307692307692, 'support': 30}, '7': {'precision': 0.9090909090909091, 'recall': 0.6666666666666666, 'f1-score': 0.7692307692307692, 'support': 30}, '8': {'precision': 1.0, 'recall': 0.8666666666666667, 'f1-score': 0.9285714285714286, 'support': 30}, '9': {'precision': 0.6444444444444445, 'recall': 0.9354838709677419, 'f1-score': 0.763157894736842, 'support': 31}, '10': {'precision': 0.9, 'recall': 0.9, 'f1-score': 0.9, 'support': 30}, '11': {'precision': 0.7428571428571429, 'recall': 0.8387096774193549, 'f1-score': 0.787878787878788, 'support': 31}, '12': {'precision': 1.0, 'recall': 0.9310344827586207, 'f1-score': 0.9642857142857143, 'support': 29}, 'accuracy': 0.7845303867403315, 'macro avg': {'precision': 0.8237066303231716, 'recall': 0.7838586083302435, 'f1-score': 0.7826546202529765, 'support': 362}, 'weighted avg': {'precision': 0.8219169430983497, 'recall': 0.7845303867403315, 'f1-score': 0.7820232438105014, 'support': 362}}\n"
     ]
    }
   ],
   "source": [
    "rpt_cnn_clsfctn=3\n",
    "rslt=np.array([])\n",
    "rslts=np.array([])\n",
    "xtrain=np.empty((0,len(wndws1[0])), float) \n",
    "rprt=np.empty((0,3),float)\n",
    "\n",
    "for repeat in range(1,rpt_cnn_clsfctn+1):\n",
    "    for i in range (1,cls_num+1):   \n",
    "        xtrain=np.append(xtrain,vars()['wndws'+str(i)],axis=0)\n",
    "        #print('Up to class ', i, 'train shape = ', np.shape(xtrain))\n",
    "\n",
    "    # Normalization train windows\n",
    "    mx_aug=np.max(xtrain[:,:-1])\n",
    "    mx=np.max(ecg[:,:-1])\n",
    "    mn_aug=np.min(xtrain[:,:-1])\n",
    "    mn=np.min(ecg[:,:-1])\n",
    "    xtrain[:,:-1]= 2*(xtrain[:,:-1]-mn_aug)/(mx_aug - mn_aug) - 1\n",
    "\n",
    "\n",
    "    ###Test Windows:\n",
    "    wndws_test=np.empty((0,len(wndws1[0])), float)\n",
    "    i=0\n",
    "    windws=np.array([])\n",
    "    for cls in range (1,cls_num+1):                                 #ساخت پنجره های داده های آموزش اصلی\n",
    "        vars()['wndws_tst'+str(cls)]=np.empty((0,len(wndws1[0])), float)\n",
    "        vars()['wndws_tst'+str(cls)]=np.append(vars()['wndws_tst'+str(cls)],vars()['ecg_tst'+str(cls)],axis=0)   \n",
    "\n",
    "    # Normalization test windows\n",
    "    for i in range (1,cls_num+1):                \n",
    "        cls=i\n",
    "        #print('\\n cls', i, ' >> ')\n",
    "        #print('max magnitude class', i , ' = ' ,np.max(vars()['wndws_tst'+str(cls)][:,:-1]))\n",
    "        #print('min magnitude class', i , ' = ' ,np.min(vars()['wndws_tst'+str(cls)][:,:-1]))\n",
    "        vars()['wndws_tst'+str(i)][:,:-1]= 2*(vars()['wndws_tst'+str(i)][:,:-1]-mn_aug)/(mx_aug - mn_aug) - 1\n",
    "        #print('after normalizing >>')\n",
    "        #print('max magnitude class', i , ' = ' ,np.max(vars()['wndws_tst'+str(cls)][:,:-1]))\n",
    "        #print('min magnitude class', i , ' = ' ,np.min(vars()['wndws_tst'+str(cls)][:,:-1]))\n",
    "    #print(\"each class and its windows =\")                    #تجمیع کلاس های تست\n",
    "    cls_wndws=np.array([])\n",
    "    for cls in range (1,cls_num+1):                                # آرایه ی تعداد پنجره ی هر کلاس\n",
    "        wns=len(vars()['wndws_tst'+str(cls)])\n",
    "        cls_wndws=np.append(cls_wndws,wns)\n",
    "        #print(cls, wns, end='\\t')\n",
    "        wndws_test=np.append(wndws_test,vars()['wndws_tst'+str(cls)],axis=0)\n",
    "    #mx_wndws=int(np.max(cls_wndws))                        # حداکثر تعداد پنجره ی موجود بین کلاس ها\n",
    "    #print('\\n max instance in classes of test windows =', mx_wndws)\n",
    "\n",
    "    #print('min tst =', np.min(wndws_test[:,:-1]))\n",
    "    #print('max tst =', np.max(wndws_test[:,:-1]))\n",
    "\n",
    "    Xtest=wndws_test[:,:-1]\n",
    "    ytest=np.int16(wndws_test[:,-1])\n",
    "\n",
    "    #fullprint(ytest)\n",
    "\n",
    "    trainx=np.random.permutation(xtrain)\n",
    "    Xtrain=np.array(trainx[:,:-1])\n",
    "    ytrain=np.int16(trainx[:,-1])\n",
    "\n",
    "    X_train=np.array(Xtrain)\n",
    "    y_train=np.array(ytrain)\n",
    "    X_test=np.array(Xtest)\n",
    "    y_test=np.array(ytest)\n",
    "    X_valid=np.array(Xtrain)\n",
    "    y_valid=np.array(ytrain)\n",
    "    #print('X_train => ', X_train.shape)\n",
    "    #print('y_train => ', y_train.shape)\n",
    "    #print('X_test  => ', X_test.shape)\n",
    "    #print('y_test  => ', y_test.shape)\n",
    "    #print('X_valid  => ', X_valid.shape)\n",
    "    #print('y_valid  => ', y_valid.shape)\n",
    "\n",
    "    y_train_cat=to_categorical(y_train)\n",
    "    y_valid_cat=to_categorical(y_valid)\n",
    "    y_test_cat=to_categorical(y_test)\n",
    "    X_train = np.expand_dims(X_train, axis=2)\n",
    "    X_valid = np.expand_dims(X_valid, axis=2)\n",
    "    X_test = np.expand_dims(X_test, axis=2)\n",
    "\n",
    "    ####### NETWORK #######\n",
    "    #Yildirin\n",
    "\n",
    "    accuracy=0\n",
    "    acc_crs=np.array([])\n",
    "    ##for i in range (10):\n",
    "    ##    if accuracy<0.2 :\n",
    "\n",
    "    verbose, epochs, batch_size = 0, 1000, btch\n",
    "    n_timesteps, n_features, n_outputs = X_train.shape[1], X_train.shape[2], y_train_cat.shape[1]\n",
    "    steps_per_epoch = len(X_train)//batch_size\n",
    "    validation_steps = len(X_valid)//batch_size # if you have test data\n",
    "\n",
    "\n",
    "\n",
    "    model_crs = Sequential()\n",
    "    #model_crs.add(Conv1D(input_shape=x_train.shape[1:],filters=64,kernel_size=9,padding=\"same\", activation=\"relu\"))\n",
    "    model_crs.add(Conv1D(filters=256, kernel_size=12, strides=1, activation='relu', input_shape=(n_timesteps,n_features))) #Replaced\n",
    "    model_crs.add(BatchNormalization())\n",
    "    model_crs.add(MaxPooling1D(pool_size=2,strides=3))\n",
    "\n",
    "    model_crs.add(Conv1D(filters=64, kernel_size=7, strides=1, padding=\"same\", activation=\"relu\"))\n",
    "    model_crs.add(BatchNormalization())\n",
    "    model_crs.add(MaxPooling1D(pool_size=2,strides=2))\n",
    "\n",
    "    model_crs.add(Conv1D(filters=64, kernel_size=10, strides=1, padding=\"same\", activation=\"relu\"))\n",
    "    model_crs.add(Conv1D(filters=256, kernel_size=5, strides=2, padding=\"same\", activation=\"relu\"))\n",
    "    model_crs.add(MaxPooling1D(pool_size=2,strides=2))\n",
    "\n",
    "    model_crs.add(Conv1D(filters=512, kernel_size=15, strides=1, padding=\"same\", activation=\"relu\"))\n",
    "    model_crs.add(MaxPooling1D(pool_size=2,strides=2))\n",
    "\n",
    "    model_crs.add(Conv1D(filters=1024, kernel_size=5, strides=1, padding=\"same\", activation=\"relu\"))\n",
    "    #model_crs.add(Conv1D(filters=128, kernel_size=3, strides=1, padding=\"same\", activation=\"relu\"))\n",
    "\n",
    "\n",
    "    model_crs.add(Flatten())\n",
    "    model_crs.add(Dropout(0.1))\n",
    "    model_crs.add(Dense(units=512,activation=\"relu\"))\n",
    "    #model_crs.add(Dense(units=2048,activation=\"relu\"))\n",
    "    model_crs.add(Dense(n_outputs, activation='softmax'))   #Replaced here from old Model\n",
    "\n",
    "    model_crs.compile(optimizer='rmsprop', loss='categorical_crossentropy', metrics=['accuracy'])\n",
    "    # fit network   #CategoricalCrossentropy #sparse_categorical_crossentropy #SparseCategoricalCrossentropy\n",
    "\n",
    "    earlystopping = callbacks.EarlyStopping(monitor =\"val_accuracy\", mode =\"max\", patience = 50, restore_best_weights = True)\n",
    "\n",
    "    model_crs.fit(X_train, y_train_cat, epochs=epochs, batch_size=batch_size, verbose=verbose, validation_data = (X_valid, y_valid_cat), callbacks =[earlystopping])\n",
    "\n",
    "    _, accuracy = model_crs.evaluate(X_valid, y_valid_cat, batch_size=batch_size, verbose=verbose)\n",
    "\n",
    "\n",
    "    #y_pred_vgg = model_crs.predict_classes(X_test)\n",
    "    predict_x=model_crs.predict(X_test)              # Function 1\n",
    "    y_pred_crs=maxindx(predict_x)                    # function from augment.py to remove 0 index predictions\n",
    "\n",
    "    rprt0=classification_report(y_test, y_pred_crs,output_dict=False)\n",
    "    print('rprt',repeat,'=\\n',rprt0)\n",
    "    rprt_row=np.array([])\n",
    "    rprt_row=np.append(rprt_row,rprt0['accuracy'])\n",
    "    rprt_row=np.append(rprt_row,rprt0['macro avg']['f1-score'])\n",
    "    rprt_row=np.append(rprt_row,rprt0['weighted avg']['f1-score'])\n",
    "    rprt=np.append(rprt,np.array([rprt_row]),axis=0)\n",
    "maxm=rprt[np.argmax(rprt[:,1])]\n",
    "avrg=np.mean(rprt,axis=0)\n",
    "rslts=np.append(rslts,['  average= '+str(np.int16(100*avrg))+'  max= '+str(np.int16(100*maxm))+'  var= '+str(np.int16(np.var(100*rprt[:,1])))],axis=0)"
   ]
  },
  {
   "cell_type": "code",
   "execution_count": 12,
   "metadata": {},
   "outputs": [
    {
     "data": {
      "text/plain": [
       "array(['  average= [79 79 79]  max= [82 82 82]  var= 4'], dtype='<U46')"
      ]
     },
     "execution_count": 12,
     "metadata": {},
     "output_type": "execute_result"
    }
   ],
   "source": [
    "rslts"
   ]
  }
 ],
 "metadata": {
  "celltoolbar": "Raw Cell Format",
  "kernelspec": {
   "display_name": "Python 3 (ipykernel)",
   "language": "python",
   "name": "python3"
  },
  "language_info": {
   "codemirror_mode": {
    "name": "ipython",
    "version": 3
   },
   "file_extension": ".py",
   "mimetype": "text/x-python",
   "name": "python",
   "nbconvert_exporter": "python",
   "pygments_lexer": "ipython3",
   "version": "3.9.7"
  }
 },
 "nbformat": 4,
 "nbformat_minor": 4
}
