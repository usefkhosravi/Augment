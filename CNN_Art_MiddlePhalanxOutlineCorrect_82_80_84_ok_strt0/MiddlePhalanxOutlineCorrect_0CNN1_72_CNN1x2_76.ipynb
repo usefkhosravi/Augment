{
 "cells": [
  {
   "cell_type": "markdown",
   "metadata": {},
   "source": [
    "import time\n",
    "plc=1\n",
    "time.sleep(3000*plc)         #run after 1 houre = 3600 seconds"
   ]
  },
  {
   "cell_type": "code",
   "execution_count": 1,
   "metadata": {},
   "outputs": [
    {
     "data": {
      "text/html": [
       "<style>#notebook { padding-top:0px !important; } .container { width:100% !important; } .end_space { min-height:0px !important; } html, body, .container{ margin:0!important;padding:0!important;}</style>"
      ],
      "text/plain": [
       "<IPython.core.display.HTML object>"
      ]
     },
     "metadata": {},
     "output_type": "display_data"
    }
   ],
   "source": [
    "import os\n",
    "import glob\n",
    "import scipy\n",
    "import random\n",
    "import bisect\n",
    "import numpy as np\n",
    "import pandas as pd\n",
    "import seaborn as sns\n",
    "from scipy import signal\n",
    "from scipy.signal import find_peaks\n",
    "import matplotlib.pyplot as plt\n",
    "from preprocess import *                         #ماژول استخراج پنجره ها\n",
    "from data import *                          #ماژول محلی ورود داده ها\n",
    "from augment import *                            #ماژول های داده افزایی\n",
    "from lstm_cnn import *                           #ماژول های داده افزایی با lstm_cnn\n",
    "import augment\n",
    "import importlib\n",
    "importlib.reload(augment)\n",
    "import tensorflow as tf\n",
    "from tensorflow import keras\n",
    "from tensorflow.keras.layers import BatchNormalization\n",
    "from sklearn.model_selection import train_test_split\n",
    "from sklearn.neural_network import MLPClassifier\n",
    "from sklearn.datasets import make_classification\n",
    "from sklearn.metrics import confusion_matrix, accuracy_score, classification_report,recall_score,precision_score\n",
    "from tensorflow.keras import callbacks\n",
    "from tensorflow.keras import layers\n",
    "from tensorflow.keras.models import Sequential\n",
    "from tensorflow.keras.layers import Convolution2D,Conv1D,Dropout,MaxPooling1D,MaxPooling2D,Flatten,Dense\n",
    "from tensorflow.keras import backend as K\n",
    "from tensorflow.keras.utils import to_categorical\n",
    "from tensorflow.keras.models import load_model\n",
    "cwd = os.getcwd() #\n",
    "fullscrn()"
   ]
  },
  {
   "cell_type": "markdown",
   "metadata": {},
   "source": [
    "<h1><center><div style=\"direction:rtl;font-family:B Nazanin\">Importing Data</div></center></h1>"
   ]
  },
  {
   "cell_type": "code",
   "execution_count": 2,
   "metadata": {
    "scrolled": true
   },
   "outputs": [
    {
     "name": "stdout",
     "output_type": "stream",
     "text": [
      "first_train_shape= (291, 81)\n",
      "first_test_shape= (600, 81)\n",
      "classes_quantity= 2\n",
      "tr_lbls=\t {0, 1}\n",
      "Count_labels= [166]\n",
      "max(train_feature_Altitude)= 1.8756\n",
      "min(train_feature_Altitude)= -1.7195\n",
      "first_train_sample=\n",
      " [ 0.       -0.7065   -0.65997  -0.47379  -0.22616   0.10006   0.39363\n",
      "  0.69603   0.98459   1.1738    1.4781    1.4308    1.3673    1.4243\n",
      "  1.5021    1.4319    1.1978    0.98944   0.80072   0.53166   0.23594\n",
      " -0.058043 -0.30808  -0.55961  -0.68329  -0.66936  -0.51165  -0.31784\n",
      " -0.076799  0.19995   0.44881   0.75216   1.0404    1.3203    1.5863\n",
      "  1.6022    1.377     1.3586    1.3593    1.3325    1.2374    1.2954\n",
      "  1.4635    1.3819    1.0603    0.75858   0.44207   0.14705  -0.14366\n",
      " -0.3966   -0.58665  -0.49186  -0.50286  -0.62594  -0.72812  -0.88656\n",
      " -1.0317   -1.1653   -1.3105   -1.4478   -1.3864   -1.2248   -1.0622\n",
      " -0.90622  -0.78891  -0.65143  -0.58693  -0.65616  -0.8165   -0.97518\n",
      " -1.1302   -1.2435   -1.2487   -1.2692   -1.3553   -1.332    -1.2132\n",
      " -1.1004   -0.95834  -0.79523  -0.63212 ]\n",
      "0 125\t1 166\t"
     ]
    }
   ],
   "source": [
    "rate=480\n",
    "cls_num=2\n",
    "btch=20\n",
    "for i in range (0,cls_num):\n",
    "    vars()['ecg'+str(i)],vars()['ecg_tst'+str(i)]=MiddlePhalanxOutlineCorrect(i)\n",
    "\n",
    "os.chdir(cwd)\n",
    "clses_lens=np.array([])\n",
    "i=0                               #جمع آوری داده ها و چاپ تعداد نمونه ی هر کلاس\n",
    "ecg=np.array(ecg0)\n",
    "print(0,len(vars()['ecg'+str(0)]), end='\\t')\n",
    "clses_lens=np.append(clses_lens,len(vars()['ecg'+str(0)]))\n",
    "for i in range (1,cls_num):\n",
    "    ecg=np.concatenate((ecg,vars()['ecg'+str(i)]),axis=0)\n",
    "    clses_lens=np.append(clses_lens,len(vars()['ecg'+str(i)]))\n",
    "    print(i,len(vars()['ecg'+str(i)]), end='\\t')\n",
    "\n",
    "mx_sig=max(clses_lens)"
   ]
  },
  {
   "cell_type": "code",
   "execution_count": 3,
   "metadata": {},
   "outputs": [
    {
     "data": {
      "text/plain": [
       "(291, 481)"
      ]
     },
     "execution_count": 3,
     "metadata": {},
     "output_type": "execute_result"
    }
   ],
   "source": [
    "np.shape(ecg)"
   ]
  },
  {
   "cell_type": "code",
   "execution_count": 4,
   "metadata": {},
   "outputs": [
    {
     "data": {
      "text/plain": [
       "[<matplotlib.lines.Line2D at 0x25d5a061910>]"
      ]
     },
     "execution_count": 4,
     "metadata": {},
     "output_type": "execute_result"
    },
    {
     "data": {
      "image/png": "[encoded data removed]",
      "text/plain": [
       "<Figure size 432x288 with 1 Axes>"
      ]
     },
     "metadata": {
      "needs_background": "light"
     },
     "output_type": "display_data"
    }
   ],
   "source": [
    "plt.plot(ecg[0])"
   ]
  },
  {
   "cell_type": "code",
   "execution_count": 4,
   "metadata": {},
   "outputs": [
    {
     "data": {
      "text/plain": [
       "array([0., 0., 0., 0., 0., 0., 0., 0., 0., 0., 0., 0., 0., 0., 0., 0., 0.,\n",
       "       0., 0., 0., 0., 0., 0., 0., 0., 0., 0., 0., 0., 0., 0., 0., 0., 0.,\n",
       "       0., 0., 0., 0., 0., 0., 0., 0., 0., 0., 0., 0., 0., 0., 0., 0., 0.,\n",
       "       0., 0., 0., 0., 0., 0., 0., 0., 0., 0., 0., 0., 0., 0., 0., 0., 0.,\n",
       "       0., 0., 0., 0., 0., 0., 0., 0., 0., 0., 0., 0., 0., 0., 0., 0., 0.,\n",
       "       0., 0., 0., 0., 0., 0., 0., 0., 0., 0., 0., 0., 0., 0., 0., 0., 0.,\n",
       "       0., 0., 0., 0., 0., 0., 0., 0., 0., 0., 0., 0., 0., 0., 0., 0., 0.,\n",
       "       0., 0., 0., 0., 0., 0., 1., 1., 1., 1., 1., 1., 1., 1., 1., 1., 1.,\n",
       "       1., 1., 1., 1., 1., 1., 1., 1., 1., 1., 1., 1., 1., 1., 1., 1., 1.,\n",
       "       1., 1., 1., 1., 1., 1., 1., 1., 1., 1., 1., 1., 1., 1., 1., 1., 1.,\n",
       "       1., 1., 1., 1., 1., 1., 1., 1., 1., 1., 1., 1., 1., 1., 1., 1., 1.,\n",
       "       1., 1., 1., 1., 1., 1., 1., 1., 1., 1., 1., 1., 1., 1., 1., 1., 1.,\n",
       "       1., 1., 1., 1., 1., 1., 1., 1., 1., 1., 1., 1., 1., 1., 1., 1., 1.,\n",
       "       1., 1., 1., 1., 1., 1., 1., 1., 1., 1., 1., 1., 1., 1., 1., 1., 1.,\n",
       "       1., 1., 1., 1., 1., 1., 1., 1., 1., 1., 1., 1., 1., 1., 1., 1., 1.,\n",
       "       1., 1., 1., 1., 1., 1., 1., 1., 1., 1., 1., 1., 1., 1., 1., 1., 1.,\n",
       "       1., 1., 1., 1., 1., 1., 1., 1., 1., 1., 1., 1., 1., 1., 1., 1., 1.,\n",
       "       1., 1.])"
      ]
     },
     "execution_count": 4,
     "metadata": {},
     "output_type": "execute_result"
    }
   ],
   "source": [
    "ecg[:,-1]"
   ]
  },
  {
   "cell_type": "markdown",
   "metadata": {},
   "source": [
    "<h2><center><div style=\"direction:rtl;font-family:B Nazanin\">Base Train windows</div></center></h1>"
   ]
  },
  {
   "cell_type": "code",
   "execution_count": 5,
   "metadata": {},
   "outputs": [
    {
     "name": "stdout",
     "output_type": "stream",
     "text": [
      "each class and its windows =\n",
      "0 125\t1 166\t\n",
      " max = 166\n"
     ]
    }
   ],
   "source": [
    "smpl_rte=rate                                              # در ماژول ها نیز همین مقدار ثبت شده\n",
    "i=0\n",
    "windws=np.array([])\n",
    "\n",
    "for cls in range (0,cls_num):                                 #ساخت پنجره های داده های آموزش اصلی\n",
    "    vars()['wndws'+str(cls)]=np.array(vars()['ecg'+str(cls)])  \n",
    "    \n",
    "print(\"each class and its windows =\")\n",
    "\n",
    "cls_wndws=np.array([])\n",
    "for cls in range (0,cls_num):                                # آرایه ی تعداد پنجره ی هر کلاس\n",
    "    wns=len(vars()['wndws'+str(cls)])\n",
    "    cls_wndws=np.append(cls_wndws,wns)\n",
    "    print(cls, wns, end='\\t')\n",
    "\n",
    "mx_wndws=int(np.max(cls_wndws))                        # حداکثر تعداد پنجره ی موجود بین کلاس ها\n",
    "print('\\n max =', mx_wndws)"
   ]
  },
  {
   "cell_type": "raw",
   "metadata": {},
   "source": [
    "#clses=3                                   #تعیین میزان افزایش نمونه (تولید داده)\n",
    "mx_wndws=int(mx_wndws)  #mx_wndws*0.3  # =classes-1 برای بررسی الگوریتم تعداد کمی کلاس آزمایش شد\n",
    "mx_wndws=2598           #+2\n",
    "print(mx_wndws)"
   ]
  },
  {
   "cell_type": "markdown",
   "metadata": {},
   "source": [
    "<h1><center><div style=\"direction:rtl;font-family:B Nazanin\">Data Augmentation</div></center></h1>"
   ]
  },
  {
   "cell_type": "code",
   "execution_count": 6,
   "metadata": {},
   "outputs": [
    {
     "name": "stdout",
     "output_type": "stream",
     "text": [
      "Up to class  0 train shape =  (125, 481)\n",
      "Up to class  1 train shape =  (291, 481)\n"
     ]
    }
   ],
   "source": [
    "smpl_rte=len(wndws1[0])                                        # در ماژول ها نیز همین مقدار ثبت شده\n",
    "\n",
    "#add augmented data to base data\n",
    "xtrain=np.empty((0,len(wndws1[0])), float) \n",
    "for i in range (0,cls_num):   \n",
    "    xtrain=np.append(xtrain,vars()['wndws'+str(i)],axis=0)\n",
    "    print('Up to class ', i, 'train shape = ', np.shape(xtrain))"
   ]
  },
  {
   "cell_type": "code",
   "execution_count": 7,
   "metadata": {},
   "outputs": [
    {
     "name": "stdout",
     "output_type": "stream",
     "text": [
      "[125 166]\n"
     ]
    }
   ],
   "source": [
    "print(np.bincount(np.int16(xtrain[:,-1])))    #تعداد پنجره در هر کلاس از 0 تا 17"
   ]
  },
  {
   "cell_type": "code",
   "execution_count": 8,
   "metadata": {},
   "outputs": [
    {
     "data": {
      "text/plain": [
       "array([0., 0., 0., 0., 0., 0., 0., 0., 0., 0., 0., 0., 0., 0., 0., 0., 0.,\n",
       "       0., 0., 0., 0., 0., 0., 0., 0., 0., 0., 0., 0., 0., 0., 0., 0., 0.,\n",
       "       0., 0., 0., 0., 0., 0., 0., 0., 0., 0., 0., 0., 0., 0., 0., 0., 0.,\n",
       "       0., 0., 0., 0., 0., 0., 0., 0., 0., 0., 0., 0., 0., 0., 0., 0., 0.,\n",
       "       0., 0., 0., 0., 0., 0., 0., 0., 0., 0., 0., 0., 0., 0., 0., 0., 0.,\n",
       "       0., 0., 0., 0., 0., 0., 0., 0., 0., 0., 0., 0., 0., 0., 0., 0., 0.,\n",
       "       0., 0., 0., 0., 0., 0., 0., 0., 0., 0., 0., 0., 0., 0., 0., 0., 0.,\n",
       "       0., 0., 0., 0., 0., 0., 1., 1., 1., 1., 1., 1., 1., 1., 1., 1., 1.,\n",
       "       1., 1., 1., 1., 1., 1., 1., 1., 1., 1., 1., 1., 1., 1., 1., 1., 1.,\n",
       "       1., 1., 1., 1., 1., 1., 1., 1., 1., 1., 1., 1., 1., 1., 1., 1., 1.,\n",
       "       1., 1., 1., 1., 1., 1., 1., 1., 1., 1., 1., 1., 1., 1., 1., 1., 1.,\n",
       "       1., 1., 1., 1., 1., 1., 1., 1., 1., 1., 1., 1., 1., 1., 1., 1., 1.,\n",
       "       1., 1., 1., 1., 1., 1., 1., 1., 1., 1., 1., 1., 1., 1., 1., 1., 1.,\n",
       "       1., 1., 1., 1., 1., 1., 1., 1., 1., 1., 1., 1., 1., 1., 1., 1., 1.,\n",
       "       1., 1., 1., 1., 1., 1., 1., 1., 1., 1., 1., 1., 1., 1., 1., 1., 1.,\n",
       "       1., 1., 1., 1., 1., 1., 1., 1., 1., 1., 1., 1., 1., 1., 1., 1., 1.,\n",
       "       1., 1., 1., 1., 1., 1., 1., 1., 1., 1., 1., 1., 1., 1., 1., 1., 1.,\n",
       "       1., 1.])"
      ]
     },
     "execution_count": 8,
     "metadata": {},
     "output_type": "execute_result"
    }
   ],
   "source": [
    "xtrain[:,-1]"
   ]
  },
  {
   "cell_type": "code",
   "execution_count": 9,
   "metadata": {},
   "outputs": [],
   "source": [
    "mx_aug=np.max(xtrain[:,:-1])\n",
    "mx=np.max(ecg[:,:-1])\n",
    "mn_aug=np.min(xtrain[:,:-1])\n",
    "mn=np.min(ecg[:,:-1])\n",
    "\n",
    "#for i in range (0,cls_num):             #نرمالسازی داده های افزایشی\n",
    "xtrain[:,:-1]= 2*(xtrain[:,:-1]-mn_aug)/(mx_aug - mn_aug) - 1"
   ]
  },
  {
   "cell_type": "code",
   "execution_count": 10,
   "metadata": {},
   "outputs": [
    {
     "name": "stdout",
     "output_type": "stream",
     "text": [
      "min trn = -1.0\n",
      "max trn = 1.0\n"
     ]
    }
   ],
   "source": [
    "print('min trn =', np.min(xtrain[:,:-1]))\n",
    "print('max trn =', np.max(xtrain[:,:-1]))"
   ]
  },
  {
   "cell_type": "markdown",
   "metadata": {},
   "source": [
    "<h3><center><div style=\"direction:rtl;font-family:B Nazanin\">Test Windows</div></center></h1>"
   ]
  },
  {
   "cell_type": "code",
   "execution_count": 11,
   "metadata": {},
   "outputs": [],
   "source": [
    "wndws_test=np.empty((0,len(wndws1[0])), float)\n",
    "i=0\n",
    "windws=np.array([])\n",
    "for cls in range (0,cls_num):                                 #ساخت پنجره های داده های آموزش اصلی\n",
    "    vars()['wndws_tst'+str(cls)]=np.empty((0,len(wndws1[0])), float)\n",
    "    vars()['wndws_tst'+str(cls)]=np.append(vars()['wndws_tst'+str(cls)],vars()['ecg_tst'+str(cls)],axis=0)   "
   ]
  },
  {
   "cell_type": "code",
   "execution_count": 12,
   "metadata": {},
   "outputs": [
    {
     "name": "stdout",
     "output_type": "stream",
     "text": [
      "\n",
      " cls 0  >> \n",
      "max magnitude class 0  =  2.072583183149495\n",
      "min magnitude class 0  =  -1.6939263958932065\n",
      "after normalizing >>\n",
      "max magnitude class 0  =  1.1016146975829342\n",
      "min magnitude class 0  =  -0.9816839335302111\n",
      "\n",
      " cls 1  >> \n",
      "max magnitude class 1  =  1.9305638381922492\n",
      "min magnitude class 1  =  -1.651088332578463\n",
      "after normalizing >>\n",
      "max magnitude class 1  =  1.0230622073444215\n",
      "min magnitude class 1  =  -0.9579897209468395\n",
      "each class and its windows =\n",
      "0 212\t1 388\t\n",
      " max instance in classes of test windows = 388\n"
     ]
    }
   ],
   "source": [
    "#print(np.max(wndws_tst))\n",
    "for i in range (0,cls_num):                # Normalization test windows\n",
    "    cls=i\n",
    "    print('\\n cls', i, ' >> ')\n",
    "    print('max magnitude class', i , ' = ' ,np.max(vars()['wndws_tst'+str(cls)][:,:-1]))\n",
    "    print('min magnitude class', i , ' = ' ,np.min(vars()['wndws_tst'+str(cls)][:,:-1]))\n",
    "\n",
    "    vars()['wndws_tst'+str(i)][:,:-1]= 2*(vars()['wndws_tst'+str(i)][:,:-1]-mn_aug)/(mx_aug - mn_aug) - 1\n",
    "    \n",
    "    print('after normalizing >>')\n",
    "    print('max magnitude class', i , ' = ' ,np.max(vars()['wndws_tst'+str(cls)][:,:-1]))\n",
    "    print('min magnitude class', i , ' = ' ,np.min(vars()['wndws_tst'+str(cls)][:,:-1]))\n",
    "    \n",
    "print(\"each class and its windows =\")                    #تجمیع کلاس های تست\n",
    "cls_wndws=np.array([])\n",
    "for cls in range (0,cls_num):                                # آرایه ی تعداد پنجره ی هر کلاس\n",
    "    wns=len(vars()['wndws_tst'+str(cls)])\n",
    "    cls_wndws=np.append(cls_wndws,wns)\n",
    "    print(cls, wns, end='\\t')\n",
    "    wndws_test=np.append(wndws_test,vars()['wndws_tst'+str(cls)],axis=0)\n",
    "    \n",
    "mx_wndws=int(np.max(cls_wndws))                        # حداکثر تعداد پنجره ی موجود بین کلاس ها\n",
    "print('\\n max instance in classes of test windows =', mx_wndws)"
   ]
  },
  {
   "cell_type": "code",
   "execution_count": 13,
   "metadata": {},
   "outputs": [
    {
     "name": "stdout",
     "output_type": "stream",
     "text": [
      "min tst = -0.9816839335302111\n",
      "max tst = 1.1016146975829342\n"
     ]
    }
   ],
   "source": [
    "print('min tst =', np.min(wndws_test[:,:-1]))\n",
    "print('max tst =', np.max(wndws_test[:,:-1]))"
   ]
  },
  {
   "cell_type": "code",
   "execution_count": 14,
   "metadata": {},
   "outputs": [
    {
     "data": {
      "text/plain": [
       "600"
      ]
     },
     "execution_count": 14,
     "metadata": {},
     "output_type": "execute_result"
    }
   ],
   "source": [
    "len(wndws_test)"
   ]
  },
  {
   "cell_type": "code",
   "execution_count": 15,
   "metadata": {},
   "outputs": [
    {
     "data": {
      "text/plain": [
       "(600, 481)"
      ]
     },
     "execution_count": 15,
     "metadata": {},
     "output_type": "execute_result"
    }
   ],
   "source": [
    "np.shape(wndws_test)"
   ]
  },
  {
   "cell_type": "code",
   "execution_count": 16,
   "metadata": {},
   "outputs": [],
   "source": [
    "Xtest=wndws_test[:,:-1]\n",
    "ytest=np.int16(wndws_test[:,-1])"
   ]
  },
  {
   "cell_type": "code",
   "execution_count": 17,
   "metadata": {},
   "outputs": [
    {
     "name": "stdout",
     "output_type": "stream",
     "text": [
      "array([0, 0, 0, 0, 0, 0, 0, 0, 0, 0, 0, 0, 0, 0, 0, 0, 0, 0, 0, 0, 0, 0,\n",
      "       0, 0, 0, 0, 0, 0, 0, 0, 0, 0, 0, 0, 0, 0, 0, 0, 0, 0, 0, 0, 0, 0,\n",
      "       0, 0, 0, 0, 0, 0, 0, 0, 0, 0, 0, 0, 0, 0, 0, 0, 0, 0, 0, 0, 0, 0,\n",
      "       0, 0, 0, 0, 0, 0, 0, 0, 0, 0, 0, 0, 0, 0, 0, 0, 0, 0, 0, 0, 0, 0,\n",
      "       0, 0, 0, 0, 0, 0, 0, 0, 0, 0, 0, 0, 0, 0, 0, 0, 0, 0, 0, 0, 0, 0,\n",
      "       0, 0, 0, 0, 0, 0, 0, 0, 0, 0, 0, 0, 0, 0, 0, 0, 0, 0, 0, 0, 0, 0,\n",
      "       0, 0, 0, 0, 0, 0, 0, 0, 0, 0, 0, 0, 0, 0, 0, 0, 0, 0, 0, 0, 0, 0,\n",
      "       0, 0, 0, 0, 0, 0, 0, 0, 0, 0, 0, 0, 0, 0, 0, 0, 0, 0, 0, 0, 0, 0,\n",
      "       0, 0, 0, 0, 0, 0, 0, 0, 0, 0, 0, 0, 0, 0, 0, 0, 0, 0, 0, 0, 0, 0,\n",
      "       0, 0, 0, 0, 0, 0, 0, 0, 0, 0, 0, 0, 0, 0, 1, 1, 1, 1, 1, 1, 1, 1,\n",
      "       1, 1, 1, 1, 1, 1, 1, 1, 1, 1, 1, 1, 1, 1, 1, 1, 1, 1, 1, 1, 1, 1,\n",
      "       1, 1, 1, 1, 1, 1, 1, 1, 1, 1, 1, 1, 1, 1, 1, 1, 1, 1, 1, 1, 1, 1,\n",
      "       1, 1, 1, 1, 1, 1, 1, 1, 1, 1, 1, 1, 1, 1, 1, 1, 1, 1, 1, 1, 1, 1,\n",
      "       1, 1, 1, 1, 1, 1, 1, 1, 1, 1, 1, 1, 1, 1, 1, 1, 1, 1, 1, 1, 1, 1,\n",
      "       1, 1, 1, 1, 1, 1, 1, 1, 1, 1, 1, 1, 1, 1, 1, 1, 1, 1, 1, 1, 1, 1,\n",
      "       1, 1, 1, 1, 1, 1, 1, 1, 1, 1, 1, 1, 1, 1, 1, 1, 1, 1, 1, 1, 1, 1,\n",
      "       1, 1, 1, 1, 1, 1, 1, 1, 1, 1, 1, 1, 1, 1, 1, 1, 1, 1, 1, 1, 1, 1,\n",
      "       1, 1, 1, 1, 1, 1, 1, 1, 1, 1, 1, 1, 1, 1, 1, 1, 1, 1, 1, 1, 1, 1,\n",
      "       1, 1, 1, 1, 1, 1, 1, 1, 1, 1, 1, 1, 1, 1, 1, 1, 1, 1, 1, 1, 1, 1,\n",
      "       1, 1, 1, 1, 1, 1, 1, 1, 1, 1, 1, 1, 1, 1, 1, 1, 1, 1, 1, 1, 1, 1,\n",
      "       1, 1, 1, 1, 1, 1, 1, 1, 1, 1, 1, 1, 1, 1, 1, 1, 1, 1, 1, 1, 1, 1,\n",
      "       1, 1, 1, 1, 1, 1, 1, 1, 1, 1, 1, 1, 1, 1, 1, 1, 1, 1, 1, 1, 1, 1,\n",
      "       1, 1, 1, 1, 1, 1, 1, 1, 1, 1, 1, 1, 1, 1, 1, 1, 1, 1, 1, 1, 1, 1,\n",
      "       1, 1, 1, 1, 1, 1, 1, 1, 1, 1, 1, 1, 1, 1, 1, 1, 1, 1, 1, 1, 1, 1,\n",
      "       1, 1, 1, 1, 1, 1, 1, 1, 1, 1, 1, 1, 1, 1, 1, 1, 1, 1, 1, 1, 1, 1,\n",
      "       1, 1, 1, 1, 1, 1, 1, 1, 1, 1, 1, 1, 1, 1, 1, 1, 1, 1, 1, 1, 1, 1,\n",
      "       1, 1, 1, 1, 1, 1, 1, 1, 1, 1, 1, 1, 1, 1, 1, 1, 1, 1, 1, 1, 1, 1,\n",
      "       1, 1, 1, 1, 1, 1], dtype=int16)\n"
     ]
    }
   ],
   "source": [
    "fullprint(ytest)"
   ]
  },
  {
   "cell_type": "markdown",
   "metadata": {},
   "source": [
    "<h3><center><div style=\"direction:rtl;font-family:B Nazanin\">Train Windows</div></center></h1>"
   ]
  },
  {
   "cell_type": "code",
   "execution_count": 18,
   "metadata": {},
   "outputs": [
    {
     "data": {
      "text/plain": [
       "'\\nytestt=np.int32(np.array([ytest]).T)\\ntestx=np.concatenate((Xtest, ytestt), axis=1)\\ntestx=np.random.permutation(testx)\\nXtest=np.int32(testx[:,:-1])\\nytest=np.int32(testx[:,-1])'"
      ]
     },
     "execution_count": 18,
     "metadata": {},
     "output_type": "execute_result"
    }
   ],
   "source": [
    "#ytraint=np.int32(np.array([ytrain]).T)\n",
    "#trainx=np.concatenate((Xtrain, ytraint), axis=1)\n",
    "trainx=np.random.permutation(xtrain)\n",
    "Xtrain=np.array(trainx[:,:-1])\n",
    "ytrain=np.int16(trainx[:,-1])\n",
    "'''\n",
    "ytestt=np.int32(np.array([ytest]).T)\n",
    "testx=np.concatenate((Xtest, ytestt), axis=1)\n",
    "testx=np.random.permutation(testx)\n",
    "Xtest=np.int32(testx[:,:-1])\n",
    "ytest=np.int32(testx[:,-1])'''"
   ]
  },
  {
   "cell_type": "code",
   "execution_count": 19,
   "metadata": {},
   "outputs": [
    {
     "data": {
      "text/plain": [
       "(166, 481)"
      ]
     },
     "execution_count": 19,
     "metadata": {},
     "output_type": "execute_result"
    }
   ],
   "source": [
    "np.shape(wndws1)"
   ]
  },
  {
   "cell_type": "markdown",
   "metadata": {},
   "source": [
    "<h3><center><div style=\"direction:rtl;font-family:B Nazanin\">Validation Windows</div></center></h1>"
   ]
  },
  {
   "cell_type": "code",
   "execution_count": 20,
   "metadata": {},
   "outputs": [],
   "source": [
    "Xvalid=np.array(Xtrain)\n",
    "yvalid=np.array(ytrain)"
   ]
  },
  {
   "cell_type": "markdown",
   "metadata": {},
   "source": [
    "<h1><center><div style=\"direction:rtl;font-family:B Nazanin\">CNN And UnBalanced RAW Data</div></center></h1>\n",
    "<h1><center><div style=\"direction:rtl;font-family:Arial\">Cross Entropy Loss Function</div></center></h1>"
   ]
  },
  {
   "cell_type": "code",
   "execution_count": 21,
   "metadata": {
    "scrolled": true
   },
   "outputs": [
    {
     "name": "stdout",
     "output_type": "stream",
     "text": [
      "X_train =>  (291, 480)\n",
      "y_train =>  (291,)\n",
      "X_test  =>  (600, 480)\n",
      "y_test  =>  (600,)\n",
      "X_valid  =>  (291, 480)\n",
      "y_valid  =>  (291,)\n"
     ]
    }
   ],
   "source": [
    "X_train=np.array(Xtrain)\n",
    "y_train=np.array(ytrain)\n",
    "X_test=np.array(Xtest)\n",
    "y_test=np.array(ytest)\n",
    "X_valid=np.array(Xtrain)\n",
    "y_valid=np.array(ytrain)\n",
    "print('X_train => ', X_train.shape)\n",
    "print('y_train => ', y_train.shape)\n",
    "print('X_test  => ', X_test.shape)\n",
    "print('y_test  => ', y_test.shape)\n",
    "print('X_valid  => ', X_valid.shape)\n",
    "print('y_valid  => ', y_valid.shape)"
   ]
  },
  {
   "cell_type": "code",
   "execution_count": 22,
   "metadata": {},
   "outputs": [],
   "source": [
    "y_train=np.array(y_train+1)\n",
    "y_test=np.array(y_test+1)\n",
    "y_valid=np.array(y_valid+1)"
   ]
  },
  {
   "cell_type": "code",
   "execution_count": 23,
   "metadata": {},
   "outputs": [],
   "source": [
    "y_train_cat=to_categorical(y_train)\n",
    "y_valid_cat=to_categorical(y_valid)\n",
    "y_test_cat=to_categorical(y_test)\n",
    "\n",
    "\n",
    "X_train = np.expand_dims(X_train, axis=2)\n",
    "X_valid = np.expand_dims(X_valid, axis=2)\n",
    "X_test = np.expand_dims(X_test, axis=2)\n",
    "#y_train=np.transpose([y_train])"
   ]
  },
  {
   "cell_type": "code",
   "execution_count": 24,
   "metadata": {
    "scrolled": true
   },
   "outputs": [
    {
     "name": "stdout",
     "output_type": "stream",
     "text": [
      "Epoch 1/1000\n",
      "15/15 [==============================] - 3s 33ms/step - loss: 0.8082 - accuracy: 0.5155 - val_loss: 0.7566 - val_accuracy: 0.4296\n",
      "Epoch 2/1000\n",
      "15/15 [==============================] - 0s 12ms/step - loss: 0.7079 - accuracy: 0.5155 - val_loss: 0.7349 - val_accuracy: 0.4296\n",
      "Epoch 3/1000\n",
      "15/15 [==============================] - 0s 14ms/step - loss: 0.7167 - accuracy: 0.5155 - val_loss: 0.6740 - val_accuracy: 0.5704\n",
      "Epoch 4/1000\n",
      "15/15 [==============================] - 0s 12ms/step - loss: 0.6764 - accuracy: 0.5979 - val_loss: 0.6518 - val_accuracy: 0.5739\n",
      "Epoch 5/1000\n",
      "15/15 [==============================] - 0s 13ms/step - loss: 0.6618 - accuracy: 0.6632 - val_loss: 0.6525 - val_accuracy: 0.5945\n",
      "Epoch 6/1000\n",
      "15/15 [==============================] - 0s 13ms/step - loss: 0.6456 - accuracy: 0.7010 - val_loss: 0.5617 - val_accuracy: 0.7526\n",
      "Epoch 7/1000\n",
      "15/15 [==============================] - 0s 11ms/step - loss: 0.5877 - accuracy: 0.7045 - val_loss: 0.6198 - val_accuracy: 0.6804\n",
      "Epoch 8/1000\n",
      "15/15 [==============================] - 0s 12ms/step - loss: 0.5952 - accuracy: 0.7251 - val_loss: 0.5182 - val_accuracy: 0.7904\n",
      "Epoch 9/1000\n",
      "15/15 [==============================] - 0s 14ms/step - loss: 0.5468 - accuracy: 0.7491 - val_loss: 0.4884 - val_accuracy: 0.8110\n",
      "Epoch 10/1000\n",
      "15/15 [==============================] - 0s 13ms/step - loss: 0.5314 - accuracy: 0.7560 - val_loss: 0.5669 - val_accuracy: 0.7182\n",
      "Epoch 11/1000\n",
      "15/15 [==============================] - 0s 14ms/step - loss: 0.5272 - accuracy: 0.7285 - val_loss: 0.5011 - val_accuracy: 0.7663\n",
      "Epoch 12/1000\n",
      "15/15 [==============================] - 0s 14ms/step - loss: 0.5239 - accuracy: 0.7732 - val_loss: 0.4879 - val_accuracy: 0.8007\n",
      "Epoch 13/1000\n",
      "15/15 [==============================] - 0s 15ms/step - loss: 0.5398 - accuracy: 0.7629 - val_loss: 0.4623 - val_accuracy: 0.8213\n",
      "Epoch 14/1000\n",
      "15/15 [==============================] - 0s 14ms/step - loss: 0.4897 - accuracy: 0.7904 - val_loss: 0.4574 - val_accuracy: 0.8076\n",
      "Epoch 15/1000\n",
      "15/15 [==============================] - 0s 14ms/step - loss: 0.4850 - accuracy: 0.7732 - val_loss: 0.4577 - val_accuracy: 0.8076\n",
      "Epoch 16/1000\n",
      "15/15 [==============================] - 0s 14ms/step - loss: 0.5094 - accuracy: 0.7629 - val_loss: 0.4583 - val_accuracy: 0.8110\n",
      "Epoch 17/1000\n",
      "15/15 [==============================] - 0s 13ms/step - loss: 0.4872 - accuracy: 0.7938 - val_loss: 0.5654 - val_accuracy: 0.7216\n",
      "Epoch 18/1000\n",
      "15/15 [==============================] - 0s 13ms/step - loss: 0.4501 - accuracy: 0.8007 - val_loss: 0.3986 - val_accuracy: 0.8522\n",
      "Epoch 19/1000\n",
      "15/15 [==============================] - 0s 12ms/step - loss: 0.4627 - accuracy: 0.7904 - val_loss: 0.4193 - val_accuracy: 0.8007\n",
      "Epoch 20/1000\n",
      "15/15 [==============================] - 0s 12ms/step - loss: 0.4060 - accuracy: 0.8179 - val_loss: 0.4970 - val_accuracy: 0.8007\n",
      "Epoch 21/1000\n",
      "15/15 [==============================] - 0s 12ms/step - loss: 0.4620 - accuracy: 0.7835 - val_loss: 0.3648 - val_accuracy: 0.8247\n",
      "Epoch 22/1000\n",
      "15/15 [==============================] - 0s 12ms/step - loss: 0.4415 - accuracy: 0.7869 - val_loss: 0.4329 - val_accuracy: 0.7801\n",
      "Epoch 23/1000\n",
      "15/15 [==============================] - 0s 13ms/step - loss: 0.4178 - accuracy: 0.8110 - val_loss: 0.3545 - val_accuracy: 0.8625\n",
      "Epoch 24/1000\n",
      "15/15 [==============================] - 0s 12ms/step - loss: 0.3738 - accuracy: 0.8488 - val_loss: 0.4297 - val_accuracy: 0.8076\n",
      "Epoch 25/1000\n",
      "15/15 [==============================] - 0s 12ms/step - loss: 0.4345 - accuracy: 0.7869 - val_loss: 0.3651 - val_accuracy: 0.8213\n",
      "Epoch 26/1000\n",
      "15/15 [==============================] - 0s 12ms/step - loss: 0.4130 - accuracy: 0.8282 - val_loss: 0.3443 - val_accuracy: 0.8557\n",
      "Epoch 27/1000\n",
      "15/15 [==============================] - 0s 12ms/step - loss: 0.3655 - accuracy: 0.8247 - val_loss: 0.4413 - val_accuracy: 0.7869\n",
      "Epoch 28/1000\n",
      "15/15 [==============================] - 0s 12ms/step - loss: 0.3747 - accuracy: 0.8076 - val_loss: 0.5175 - val_accuracy: 0.7457\n",
      "Epoch 29/1000\n",
      "15/15 [==============================] - 0s 12ms/step - loss: 0.4082 - accuracy: 0.8351 - val_loss: 0.3852 - val_accuracy: 0.8041\n",
      "Epoch 30/1000\n",
      "15/15 [==============================] - 0s 13ms/step - loss: 0.3836 - accuracy: 0.8179 - val_loss: 0.3911 - val_accuracy: 0.8213\n",
      "Epoch 31/1000\n",
      "15/15 [==============================] - 0s 12ms/step - loss: 0.3834 - accuracy: 0.8110 - val_loss: 0.4182 - val_accuracy: 0.8179\n",
      "Epoch 32/1000\n",
      "15/15 [==============================] - 0s 13ms/step - loss: 0.3548 - accuracy: 0.8316 - val_loss: 0.2794 - val_accuracy: 0.9003\n",
      "Epoch 33/1000\n",
      "15/15 [==============================] - 0s 12ms/step - loss: 0.3495 - accuracy: 0.8625 - val_loss: 0.2974 - val_accuracy: 0.8591\n",
      "Epoch 34/1000\n",
      "15/15 [==============================] - 0s 12ms/step - loss: 0.3336 - accuracy: 0.8454 - val_loss: 0.5741 - val_accuracy: 0.7010\n",
      "Epoch 35/1000\n",
      "15/15 [==============================] - 0s 12ms/step - loss: 0.3285 - accuracy: 0.8625 - val_loss: 0.2987 - val_accuracy: 0.8660\n",
      "Epoch 36/1000\n",
      "15/15 [==============================] - 0s 13ms/step - loss: 0.3550 - accuracy: 0.8694 - val_loss: 0.3239 - val_accuracy: 0.8557\n",
      "Epoch 37/1000\n",
      "15/15 [==============================] - 0s 13ms/step - loss: 0.3192 - accuracy: 0.8522 - val_loss: 0.2523 - val_accuracy: 0.8969\n",
      "Epoch 38/1000\n",
      "15/15 [==============================] - 0s 12ms/step - loss: 0.3048 - accuracy: 0.8935 - val_loss: 0.3580 - val_accuracy: 0.8419\n",
      "Epoch 39/1000\n",
      "15/15 [==============================] - 0s 13ms/step - loss: 0.3281 - accuracy: 0.8625 - val_loss: 0.3000 - val_accuracy: 0.8591\n",
      "Epoch 40/1000\n",
      "15/15 [==============================] - 0s 12ms/step - loss: 0.3367 - accuracy: 0.8591 - val_loss: 0.3251 - val_accuracy: 0.8557\n",
      "Epoch 41/1000\n",
      "15/15 [==============================] - 0s 12ms/step - loss: 0.3264 - accuracy: 0.8694 - val_loss: 0.2608 - val_accuracy: 0.8797\n",
      "Epoch 42/1000\n",
      "15/15 [==============================] - 0s 12ms/step - loss: 0.3087 - accuracy: 0.8763 - val_loss: 0.4324 - val_accuracy: 0.7801\n",
      "Epoch 43/1000\n",
      "15/15 [==============================] - 0s 12ms/step - loss: 0.3079 - accuracy: 0.8591 - val_loss: 0.2306 - val_accuracy: 0.9141\n",
      "Epoch 44/1000\n",
      "15/15 [==============================] - 0s 12ms/step - loss: 0.2935 - accuracy: 0.8557 - val_loss: 0.2274 - val_accuracy: 0.8900\n",
      "Epoch 45/1000\n",
      "15/15 [==============================] - 0s 12ms/step - loss: 0.3059 - accuracy: 0.8729 - val_loss: 0.2732 - val_accuracy: 0.8763\n",
      "Epoch 46/1000\n",
      "15/15 [==============================] - 0s 12ms/step - loss: 0.3156 - accuracy: 0.8729 - val_loss: 0.2897 - val_accuracy: 0.8660\n",
      "Epoch 47/1000\n",
      "15/15 [==============================] - 0s 12ms/step - loss: 0.2854 - accuracy: 0.8797 - val_loss: 0.2589 - val_accuracy: 0.9107\n",
      "Epoch 48/1000\n",
      "15/15 [==============================] - 0s 12ms/step - loss: 0.3130 - accuracy: 0.8454 - val_loss: 0.2940 - val_accuracy: 0.8694\n",
      "Epoch 49/1000\n",
      "15/15 [==============================] - 0s 12ms/step - loss: 0.2662 - accuracy: 0.8969 - val_loss: 0.4054 - val_accuracy: 0.8110\n",
      "Epoch 50/1000\n",
      "15/15 [==============================] - 0s 12ms/step - loss: 0.2976 - accuracy: 0.8694 - val_loss: 0.2491 - val_accuracy: 0.9038\n",
      "Epoch 51/1000\n",
      "15/15 [==============================] - 0s 12ms/step - loss: 0.2339 - accuracy: 0.9003 - val_loss: 0.3374 - val_accuracy: 0.8316\n",
      "Epoch 52/1000\n",
      "15/15 [==============================] - 0s 12ms/step - loss: 0.2594 - accuracy: 0.8969 - val_loss: 0.2630 - val_accuracy: 0.8832\n",
      "Epoch 53/1000\n",
      "15/15 [==============================] - 0s 12ms/step - loss: 0.2595 - accuracy: 0.8866 - val_loss: 0.2038 - val_accuracy: 0.9175\n",
      "Epoch 54/1000\n",
      "15/15 [==============================] - 0s 12ms/step - loss: 0.2498 - accuracy: 0.8832 - val_loss: 0.2318 - val_accuracy: 0.8900\n",
      "Epoch 55/1000\n",
      "15/15 [==============================] - 0s 12ms/step - loss: 0.2932 - accuracy: 0.8591 - val_loss: 0.3070 - val_accuracy: 0.8625\n",
      "Epoch 56/1000\n",
      "15/15 [==============================] - 0s 12ms/step - loss: 0.2679 - accuracy: 0.8729 - val_loss: 0.4601 - val_accuracy: 0.7973\n",
      "Epoch 57/1000\n",
      "15/15 [==============================] - 0s 12ms/step - loss: 0.2598 - accuracy: 0.8832 - val_loss: 0.1923 - val_accuracy: 0.9141\n"
     ]
    },
    {
     "name": "stdout",
     "output_type": "stream",
     "text": [
      "Epoch 58/1000\n",
      "15/15 [==============================] - 0s 12ms/step - loss: 0.2403 - accuracy: 0.9107 - val_loss: 0.1565 - val_accuracy: 0.9381\n",
      "Epoch 59/1000\n",
      "15/15 [==============================] - 0s 12ms/step - loss: 0.2199 - accuracy: 0.9038 - val_loss: 0.1872 - val_accuracy: 0.9313\n",
      "Epoch 60/1000\n",
      "15/15 [==============================] - 0s 13ms/step - loss: 0.2254 - accuracy: 0.8969 - val_loss: 0.2524 - val_accuracy: 0.8866\n",
      "Epoch 61/1000\n",
      "15/15 [==============================] - 0s 14ms/step - loss: 0.2273 - accuracy: 0.9141 - val_loss: 0.3364 - val_accuracy: 0.8282\n",
      "Epoch 62/1000\n",
      "15/15 [==============================] - 0s 12ms/step - loss: 0.2554 - accuracy: 0.8729 - val_loss: 0.4249 - val_accuracy: 0.8385\n",
      "Epoch 63/1000\n",
      "15/15 [==============================] - 0s 13ms/step - loss: 0.2232 - accuracy: 0.9107 - val_loss: 0.2265 - val_accuracy: 0.8866\n",
      "Epoch 64/1000\n",
      "15/15 [==============================] - 0s 12ms/step - loss: 0.2108 - accuracy: 0.9003 - val_loss: 0.2194 - val_accuracy: 0.9141\n",
      "Epoch 65/1000\n",
      "15/15 [==============================] - 0s 12ms/step - loss: 0.2319 - accuracy: 0.9038 - val_loss: 0.1418 - val_accuracy: 0.9416\n",
      "Epoch 66/1000\n",
      "15/15 [==============================] - 0s 12ms/step - loss: 0.2552 - accuracy: 0.8866 - val_loss: 0.2084 - val_accuracy: 0.9072\n",
      "Epoch 67/1000\n",
      "15/15 [==============================] - 0s 12ms/step - loss: 0.1771 - accuracy: 0.9072 - val_loss: 0.2884 - val_accuracy: 0.8900\n",
      "Epoch 68/1000\n",
      "15/15 [==============================] - 0s 12ms/step - loss: 0.2380 - accuracy: 0.9003 - val_loss: 0.1479 - val_accuracy: 0.9450\n",
      "Epoch 69/1000\n",
      "15/15 [==============================] - 0s 12ms/step - loss: 0.2170 - accuracy: 0.9038 - val_loss: 0.1409 - val_accuracy: 0.9416\n",
      "Epoch 70/1000\n",
      "15/15 [==============================] - 0s 12ms/step - loss: 0.2237 - accuracy: 0.9313 - val_loss: 0.1250 - val_accuracy: 0.9381\n",
      "Epoch 71/1000\n",
      "15/15 [==============================] - 0s 13ms/step - loss: 0.1951 - accuracy: 0.9072 - val_loss: 0.1058 - val_accuracy: 0.9588\n",
      "Epoch 72/1000\n",
      "15/15 [==============================] - 0s 12ms/step - loss: 0.1775 - accuracy: 0.9313 - val_loss: 0.2057 - val_accuracy: 0.9278\n",
      "Epoch 73/1000\n",
      "15/15 [==============================] - 0s 12ms/step - loss: 0.1753 - accuracy: 0.9278 - val_loss: 0.3316 - val_accuracy: 0.8488\n",
      "Epoch 74/1000\n",
      "15/15 [==============================] - 0s 12ms/step - loss: 0.2285 - accuracy: 0.8969 - val_loss: 0.2062 - val_accuracy: 0.9072\n",
      "Epoch 75/1000\n",
      "15/15 [==============================] - 0s 12ms/step - loss: 0.1618 - accuracy: 0.9175 - val_loss: 0.1029 - val_accuracy: 0.9588\n",
      "Epoch 76/1000\n",
      "15/15 [==============================] - 0s 12ms/step - loss: 0.1739 - accuracy: 0.9347 - val_loss: 0.9239 - val_accuracy: 0.8110\n",
      "Epoch 77/1000\n",
      "15/15 [==============================] - 0s 12ms/step - loss: 0.2172 - accuracy: 0.9107 - val_loss: 0.1250 - val_accuracy: 0.9622\n",
      "Epoch 78/1000\n",
      "15/15 [==============================] - 0s 12ms/step - loss: 0.1657 - accuracy: 0.9244 - val_loss: 0.1587 - val_accuracy: 0.9347\n",
      "Epoch 79/1000\n",
      "15/15 [==============================] - 0s 12ms/step - loss: 0.1747 - accuracy: 0.9141 - val_loss: 0.1581 - val_accuracy: 0.9416\n",
      "Epoch 80/1000\n",
      "15/15 [==============================] - 0s 12ms/step - loss: 0.1419 - accuracy: 0.9278 - val_loss: 0.5588 - val_accuracy: 0.8110\n",
      "Epoch 81/1000\n",
      "15/15 [==============================] - 0s 12ms/step - loss: 0.1508 - accuracy: 0.9381 - val_loss: 0.4520 - val_accuracy: 0.8351\n",
      "Epoch 82/1000\n",
      "15/15 [==============================] - 0s 12ms/step - loss: 0.1774 - accuracy: 0.9244 - val_loss: 0.1537 - val_accuracy: 0.9381\n",
      "Epoch 83/1000\n",
      "15/15 [==============================] - 0s 12ms/step - loss: 0.1786 - accuracy: 0.9210 - val_loss: 0.1454 - val_accuracy: 0.9381\n",
      "Epoch 84/1000\n",
      "15/15 [==============================] - 0s 12ms/step - loss: 0.1452 - accuracy: 0.9347 - val_loss: 0.1203 - val_accuracy: 0.9416\n",
      "Epoch 85/1000\n",
      "15/15 [==============================] - 0s 12ms/step - loss: 0.1802 - accuracy: 0.9210 - val_loss: 0.3183 - val_accuracy: 0.8797\n",
      "Epoch 86/1000\n",
      "15/15 [==============================] - 0s 12ms/step - loss: 0.1752 - accuracy: 0.9244 - val_loss: 0.0822 - val_accuracy: 0.9691\n",
      "Epoch 87/1000\n",
      "15/15 [==============================] - 0s 12ms/step - loss: 0.1588 - accuracy: 0.9519 - val_loss: 0.2722 - val_accuracy: 0.8866\n",
      "Epoch 88/1000\n",
      "15/15 [==============================] - 0s 12ms/step - loss: 0.2232 - accuracy: 0.9175 - val_loss: 0.0857 - val_accuracy: 0.9656\n",
      "Epoch 89/1000\n",
      "15/15 [==============================] - 0s 12ms/step - loss: 0.0980 - accuracy: 0.9553 - val_loss: 0.1395 - val_accuracy: 0.9519\n",
      "Epoch 90/1000\n",
      "15/15 [==============================] - 0s 12ms/step - loss: 0.1650 - accuracy: 0.9347 - val_loss: 0.2106 - val_accuracy: 0.9107\n",
      "Epoch 91/1000\n",
      "15/15 [==============================] - 0s 12ms/step - loss: 0.1344 - accuracy: 0.9450 - val_loss: 0.3538 - val_accuracy: 0.9038\n",
      "Epoch 92/1000\n",
      "15/15 [==============================] - 0s 12ms/step - loss: 0.2243 - accuracy: 0.9244 - val_loss: 0.0634 - val_accuracy: 0.9794\n",
      "Epoch 93/1000\n",
      "15/15 [==============================] - 0s 12ms/step - loss: 0.1141 - accuracy: 0.9519 - val_loss: 0.1129 - val_accuracy: 0.9622\n",
      "Epoch 94/1000\n",
      "15/15 [==============================] - 0s 12ms/step - loss: 0.1137 - accuracy: 0.9519 - val_loss: 0.2347 - val_accuracy: 0.9210\n",
      "Epoch 95/1000\n",
      "15/15 [==============================] - 0s 12ms/step - loss: 0.1505 - accuracy: 0.9381 - val_loss: 0.1048 - val_accuracy: 0.9588\n",
      "Epoch 96/1000\n",
      "15/15 [==============================] - 0s 12ms/step - loss: 0.0947 - accuracy: 0.9656 - val_loss: 0.1092 - val_accuracy: 0.9450\n",
      "Epoch 97/1000\n",
      "15/15 [==============================] - 0s 12ms/step - loss: 0.1516 - accuracy: 0.9450 - val_loss: 0.0796 - val_accuracy: 0.9691\n",
      "Epoch 98/1000\n",
      "15/15 [==============================] - 0s 12ms/step - loss: 0.1045 - accuracy: 0.9588 - val_loss: 0.2676 - val_accuracy: 0.9003\n",
      "Epoch 99/1000\n",
      "15/15 [==============================] - 0s 12ms/step - loss: 0.1096 - accuracy: 0.9622 - val_loss: 0.4042 - val_accuracy: 0.8797\n",
      "Epoch 100/1000\n",
      "15/15 [==============================] - 0s 12ms/step - loss: 0.1809 - accuracy: 0.9175 - val_loss: 0.1121 - val_accuracy: 0.9588\n",
      "Epoch 101/1000\n",
      "15/15 [==============================] - 0s 12ms/step - loss: 0.0873 - accuracy: 0.9588 - val_loss: 0.0493 - val_accuracy: 0.9794\n",
      "Epoch 102/1000\n",
      "15/15 [==============================] - 0s 12ms/step - loss: 0.1199 - accuracy: 0.9485 - val_loss: 0.0908 - val_accuracy: 0.9553\n",
      "Epoch 103/1000\n",
      "15/15 [==============================] - 0s 12ms/step - loss: 0.1888 - accuracy: 0.9347 - val_loss: 0.0592 - val_accuracy: 0.9863\n",
      "Epoch 104/1000\n",
      "15/15 [==============================] - 0s 12ms/step - loss: 0.0933 - accuracy: 0.9622 - val_loss: 0.3152 - val_accuracy: 0.9038\n",
      "Epoch 105/1000\n",
      "15/15 [==============================] - 0s 13ms/step - loss: 0.1518 - accuracy: 0.9416 - val_loss: 0.0666 - val_accuracy: 0.9759\n",
      "Epoch 106/1000\n",
      "15/15 [==============================] - 0s 12ms/step - loss: 0.1173 - accuracy: 0.9450 - val_loss: 0.0482 - val_accuracy: 0.9828\n",
      "Epoch 107/1000\n",
      "15/15 [==============================] - 0s 12ms/step - loss: 0.0680 - accuracy: 0.9759 - val_loss: 0.0622 - val_accuracy: 0.9794\n",
      "Epoch 108/1000\n",
      "15/15 [==============================] - 0s 12ms/step - loss: 0.1134 - accuracy: 0.9553 - val_loss: 0.1189 - val_accuracy: 0.9450\n",
      "Epoch 109/1000\n",
      "15/15 [==============================] - 0s 12ms/step - loss: 0.1116 - accuracy: 0.9622 - val_loss: 0.0621 - val_accuracy: 0.9691\n",
      "Epoch 110/1000\n",
      "15/15 [==============================] - 0s 12ms/step - loss: 0.1276 - accuracy: 0.9485 - val_loss: 0.0592 - val_accuracy: 0.9725\n",
      "Epoch 111/1000\n",
      "15/15 [==============================] - 0s 12ms/step - loss: 0.0584 - accuracy: 0.9691 - val_loss: 0.2100 - val_accuracy: 0.9141\n",
      "Epoch 112/1000\n",
      "15/15 [==============================] - 0s 12ms/step - loss: 0.1482 - accuracy: 0.9347 - val_loss: 0.0540 - val_accuracy: 0.9863\n",
      "Epoch 113/1000\n",
      "15/15 [==============================] - 0s 12ms/step - loss: 0.0653 - accuracy: 0.9691 - val_loss: 0.0731 - val_accuracy: 0.9794\n",
      "Epoch 114/1000\n",
      "15/15 [==============================] - 0s 12ms/step - loss: 0.1911 - accuracy: 0.9416 - val_loss: 0.0549 - val_accuracy: 0.9828\n"
     ]
    },
    {
     "name": "stdout",
     "output_type": "stream",
     "text": [
      "Epoch 115/1000\n",
      "15/15 [==============================] - 0s 12ms/step - loss: 0.0765 - accuracy: 0.9656 - val_loss: 0.0376 - val_accuracy: 0.9897\n",
      "Epoch 116/1000\n",
      "15/15 [==============================] - 0s 12ms/step - loss: 0.0308 - accuracy: 0.9931 - val_loss: 0.3012 - val_accuracy: 0.8832\n",
      "Epoch 117/1000\n",
      "15/15 [==============================] - 0s 12ms/step - loss: 0.1241 - accuracy: 0.9588 - val_loss: 0.2747 - val_accuracy: 0.9175\n",
      "Epoch 118/1000\n",
      "15/15 [==============================] - 0s 13ms/step - loss: 0.0762 - accuracy: 0.9725 - val_loss: 0.0611 - val_accuracy: 0.9622\n",
      "Epoch 119/1000\n",
      "15/15 [==============================] - 0s 12ms/step - loss: 0.1338 - accuracy: 0.9485 - val_loss: 0.1110 - val_accuracy: 0.9588\n",
      "Epoch 120/1000\n",
      "15/15 [==============================] - 0s 12ms/step - loss: 0.0594 - accuracy: 0.9828 - val_loss: 0.0172 - val_accuracy: 1.0000\n",
      "Epoch 121/1000\n",
      "15/15 [==============================] - 0s 13ms/step - loss: 0.0861 - accuracy: 0.9794 - val_loss: 0.1057 - val_accuracy: 0.9485\n",
      "Epoch 122/1000\n",
      "15/15 [==============================] - 0s 12ms/step - loss: 0.0600 - accuracy: 0.9828 - val_loss: 0.1708 - val_accuracy: 0.9313\n",
      "Epoch 123/1000\n",
      "15/15 [==============================] - 0s 12ms/step - loss: 0.0821 - accuracy: 0.9725 - val_loss: 0.0381 - val_accuracy: 0.9828\n",
      "Epoch 124/1000\n",
      "15/15 [==============================] - 0s 13ms/step - loss: 0.0894 - accuracy: 0.9622 - val_loss: 0.7055 - val_accuracy: 0.8557\n",
      "Epoch 125/1000\n",
      "15/15 [==============================] - 0s 12ms/step - loss: 0.1181 - accuracy: 0.9691 - val_loss: 0.0203 - val_accuracy: 1.0000\n",
      "Epoch 126/1000\n",
      "15/15 [==============================] - 0s 12ms/step - loss: 0.0941 - accuracy: 0.9622 - val_loss: 0.0340 - val_accuracy: 0.9931\n",
      "Epoch 127/1000\n",
      "15/15 [==============================] - 0s 13ms/step - loss: 0.0657 - accuracy: 0.9794 - val_loss: 0.0879 - val_accuracy: 0.9553\n",
      "Epoch 128/1000\n",
      "15/15 [==============================] - 0s 12ms/step - loss: 0.0518 - accuracy: 0.9759 - val_loss: 0.0559 - val_accuracy: 0.9828\n",
      "Epoch 129/1000\n",
      "15/15 [==============================] - 0s 12ms/step - loss: 0.1312 - accuracy: 0.9485 - val_loss: 0.0584 - val_accuracy: 0.9691\n",
      "Epoch 130/1000\n",
      "15/15 [==============================] - 0s 12ms/step - loss: 0.0354 - accuracy: 0.9863 - val_loss: 0.2251 - val_accuracy: 0.9107\n",
      "Epoch 131/1000\n",
      "15/15 [==============================] - 0s 12ms/step - loss: 0.0678 - accuracy: 0.9691 - val_loss: 0.0266 - val_accuracy: 0.9897\n",
      "Epoch 132/1000\n",
      "15/15 [==============================] - 0s 12ms/step - loss: 0.1135 - accuracy: 0.9691 - val_loss: 0.1429 - val_accuracy: 0.9416\n",
      "Epoch 133/1000\n",
      "15/15 [==============================] - 0s 12ms/step - loss: 0.0488 - accuracy: 0.9863 - val_loss: 0.0717 - val_accuracy: 0.9691\n",
      "Epoch 134/1000\n",
      "15/15 [==============================] - 0s 12ms/step - loss: 0.0637 - accuracy: 0.9691 - val_loss: 0.0741 - val_accuracy: 0.9794\n",
      "Epoch 135/1000\n",
      "15/15 [==============================] - 0s 12ms/step - loss: 0.1597 - accuracy: 0.9450 - val_loss: 0.1303 - val_accuracy: 0.9656\n",
      "Epoch 136/1000\n",
      "15/15 [==============================] - 0s 12ms/step - loss: 0.0508 - accuracy: 0.9794 - val_loss: 0.0088 - val_accuracy: 1.0000\n",
      "Epoch 137/1000\n",
      "15/15 [==============================] - 0s 12ms/step - loss: 0.0111 - accuracy: 1.0000 - val_loss: 0.0085 - val_accuracy: 1.0000\n",
      "Epoch 138/1000\n",
      "15/15 [==============================] - 0s 12ms/step - loss: 0.1825 - accuracy: 0.9485 - val_loss: 0.2584 - val_accuracy: 0.8729\n",
      "Epoch 139/1000\n",
      "15/15 [==============================] - 0s 12ms/step - loss: 0.0444 - accuracy: 0.9863 - val_loss: 0.0387 - val_accuracy: 0.9897\n",
      "Epoch 140/1000\n",
      "15/15 [==============================] - 0s 13ms/step - loss: 0.0423 - accuracy: 0.9863 - val_loss: 0.0160 - val_accuracy: 1.0000\n",
      "15/15 [==============================] - 0s 3ms/step - loss: 0.0172 - accuracy: 1.0000\n",
      "np.shape(X_test)= (600, 480, 1)\n",
      "Model: \"sequential\"\n",
      "_________________________________________________________________\n",
      " Layer (type)                Output Shape              Param #   \n",
      "=================================================================\n",
      " conv1d (Conv1D)             (None, 478, 32)           128       \n",
      "                                                                 \n",
      " conv1d_1 (Conv1D)           (None, 476, 64)           6208      \n",
      "                                                                 \n",
      " max_pooling1d (MaxPooling1D  (None, 158, 64)          0         \n",
      " )                                                               \n",
      "                                                                 \n",
      " conv1d_2 (Conv1D)           (None, 156, 128)          24704     \n",
      "                                                                 \n",
      " max_pooling1d_1 (MaxPooling  (None, 52, 128)          0         \n",
      " 1D)                                                             \n",
      "                                                                 \n",
      " conv1d_3 (Conv1D)           (None, 50, 128)           49280     \n",
      "                                                                 \n",
      " max_pooling1d_2 (MaxPooling  (None, 16, 128)          0         \n",
      " 1D)                                                             \n",
      "                                                                 \n",
      " conv1d_4 (Conv1D)           (None, 14, 256)           98560     \n",
      "                                                                 \n",
      " max_pooling1d_3 (MaxPooling  (None, 4, 256)           0         \n",
      " 1D)                                                             \n",
      "                                                                 \n",
      " flatten (Flatten)           (None, 1024)              0         \n",
      "                                                                 \n",
      " dense (Dense)               (None, 2000)              2050000   \n",
      "                                                                 \n",
      " dense_1 (Dense)             (None, 3)                 6003      \n",
      "                                                                 \n",
      "=================================================================\n",
      "Total params: 2,234,883\n",
      "Trainable params: 2,234,883\n",
      "Non-trainable params: 0\n",
      "_________________________________________________________________\n",
      "Accuracy=  1.0\n"
     ]
    }
   ],
   "source": [
    "accuracy=0\n",
    "acc_crs=np.array([])\n",
    "##for i in range (10):\n",
    "##    if accuracy<0.2 :\n",
    "\n",
    "verbose, epochs, batch_size = 1, 1000, btch\n",
    "n_timesteps, n_features, n_outputs = X_train.shape[1], X_train.shape[2], y_train_cat.shape[1]\n",
    "steps_per_epoch = len(X_train)//batch_size\n",
    "validation_steps = len(X_valid)//batch_size # if you have test data\n",
    "\n",
    "model_crs = Sequential()\n",
    "BatchNormalization()\n",
    "model_crs.add(Conv1D(filters=32, kernel_size=3, activation='relu', input_shape=(n_timesteps,n_features)))\n",
    "#model_crs.add(MaxPooling1D(pool_size=3))\n",
    "BatchNormalization()\n",
    "model_crs.add(Conv1D(filters=64, kernel_size=3, activation='relu'))\n",
    "#model_crs.add(Dropout(0.5))\n",
    "model_crs.add(MaxPooling1D(pool_size=3))\n",
    "BatchNormalization()\n",
    "model_crs.add(Conv1D(filters=128, kernel_size=3, activation='relu'))\n",
    "model_crs.add(MaxPooling1D(pool_size=3))\n",
    "BatchNormalization()\n",
    "model_crs.add(Conv1D(filters=128, kernel_size=3, activation='relu'))\n",
    "model_crs.add(MaxPooling1D(pool_size=3))\n",
    "BatchNormalization()\n",
    "model_crs.add(Conv1D(filters=256, kernel_size=3, activation='relu'))\n",
    "model_crs.add(MaxPooling1D(pool_size=3))\n",
    "'''model_crs.add(Conv1D(filters=512, kernel_size=3, activation='relu'))\n",
    "model_crs.add(MaxPooling1D(pool_size=3))\n",
    "model_crs.add(Conv1D(filters=1024, kernel_size=3, activation='relu'))\n",
    "model_crs.add(MaxPooling1D(pool_size=3))\n",
    "'''\n",
    "model_crs.add(Flatten())\n",
    "#model_crs.add(Dropout(0.5))\n",
    "model_crs.add(Dense(2000, activation='relu'))\n",
    "model_crs.add(Dense(n_outputs, activation='softmax'))\n",
    "model_crs.compile(optimizer='rmsprop', loss='categorical_crossentropy', metrics=['accuracy'])\n",
    "# fit network   #CategoricalCrossentropy #sparse_categorical_crossentropy #SparseCategoricalCrossentropy\n",
    "\n",
    "earlystopping = callbacks.EarlyStopping(monitor =\"val_accuracy\", mode =\"max\", patience = 20, restore_best_weights = True)\n",
    "\n",
    "model_crs.fit(X_train, y_train_cat, epochs=epochs, batch_size=batch_size, verbose=verbose, validation_data = (X_valid, y_valid_cat), callbacks =[earlystopping])\n",
    "# evaluate model_crs\n",
    "_, accuracy = model_crs.evaluate(X_valid, y_valid_cat, batch_size=batch_size, verbose=1)\n",
    "\n",
    "print('np.shape(X_test)=',np.shape(X_test))\n",
    "\n",
    "\n",
    "model_crs.summary()\n",
    "print('Accuracy= ', accuracy)\n",
    "\n",
    "#output = K.function([model_crs.layers[0].input],[model_crs.layers[3].output])\n",
    "#output(X_test)[0]\n",
    "#y_pred= model_crs.predict(X_test)                # Function 1\n",
    "\n",
    "##    print('Round ', i, '==>', 'accuracy = ', accuracy)\n",
    "##    acc_crs=np.append(acc_crs,accuracy)\n",
    "#y_pred_crs = model_crs.predict_classes(X_test)   # Function 2"
   ]
  },
  {
   "cell_type": "code",
   "execution_count": 25,
   "metadata": {},
   "outputs": [],
   "source": [
    "def maxindx(ar):\n",
    "    ar_cpy=np.array(ar)\n",
    "    pred=np.argmax(ar,axis=1)\n",
    "    for i in range (len(pred)):\n",
    "        if pred[i]==0:\n",
    "            ar_cpy[i,0]=-1000\n",
    "    pred=np.argmax(ar_cpy,axis=1)\n",
    "    return(pred)"
   ]
  },
  {
   "cell_type": "code",
   "execution_count": 26,
   "metadata": {},
   "outputs": [
    {
     "name": "stdout",
     "output_type": "stream",
     "text": [
      "19/19 [==============================] - 0s 5ms/step\n",
      "array([[146,  66],\n",
      "       [100, 288]], dtype=int64)\n",
      "              precision    recall  f1-score   support\n",
      "\n",
      "           1       0.59      0.69      0.64       212\n",
      "           2       0.81      0.74      0.78       388\n",
      "\n",
      "    accuracy                           0.72       600\n",
      "   macro avg       0.70      0.72      0.71       600\n",
      "weighted avg       0.74      0.72      0.73       600\n",
      "\n"
     ]
    }
   ],
   "source": [
    "predict_x=model_crs.predict(X_test)              # Function 1\n",
    "\n",
    "y_pred_crs=maxindx(predict_x)                    # function from augment.py to remove 0 index predictions\n",
    "\n",
    "#y_pred_crs = model_crs.predict_classes(X_test)\n",
    "\n",
    "cm = confusion_matrix(y_test, y_pred_crs)\n",
    "fullprint(cm)\n",
    "acc3=accuracy_score(y_test, y_pred_crs)\n",
    "\n",
    "print(classification_report(y_test, y_pred_crs))\n",
    "\n",
    "#sns.heatmap(cm, annot=True)\n",
    "\n",
    "#plt.imshow(cm)"
   ]
  },
  {
   "cell_type": "code",
   "execution_count": 27,
   "metadata": {},
   "outputs": [
    {
     "name": "stdout",
     "output_type": "stream",
     "text": [
      "Epoch 1/1000\n",
      "15/15 [==============================] - 1s 39ms/step - loss: 0.8585 - accuracy: 0.5464 - val_loss: 0.6889 - val_accuracy: 0.5704\n",
      "Epoch 2/1000\n",
      "15/15 [==============================] - 0s 13ms/step - loss: 0.7136 - accuracy: 0.5704 - val_loss: 0.6845 - val_accuracy: 0.5704\n",
      "Epoch 3/1000\n",
      "15/15 [==============================] - 0s 13ms/step - loss: 0.7106 - accuracy: 0.5120 - val_loss: 0.6858 - val_accuracy: 0.5704\n",
      "Epoch 4/1000\n",
      "15/15 [==============================] - 0s 13ms/step - loss: 0.6947 - accuracy: 0.5636 - val_loss: 0.6802 - val_accuracy: 0.5704\n",
      "Epoch 5/1000\n",
      "15/15 [==============================] - 0s 14ms/step - loss: 0.6902 - accuracy: 0.5223 - val_loss: 0.6753 - val_accuracy: 0.6048\n",
      "Epoch 6/1000\n",
      "15/15 [==============================] - 0s 14ms/step - loss: 0.7027 - accuracy: 0.5739 - val_loss: 0.6526 - val_accuracy: 0.6117\n",
      "Epoch 7/1000\n",
      "15/15 [==============================] - 0s 13ms/step - loss: 0.6576 - accuracy: 0.6117 - val_loss: 0.6581 - val_accuracy: 0.5808\n",
      "Epoch 8/1000\n",
      "15/15 [==============================] - 0s 14ms/step - loss: 0.6438 - accuracy: 0.6357 - val_loss: 0.5952 - val_accuracy: 0.7113\n",
      "Epoch 9/1000\n",
      "15/15 [==============================] - 0s 13ms/step - loss: 0.5491 - accuracy: 0.7354 - val_loss: 0.6046 - val_accuracy: 0.6838\n",
      "Epoch 10/1000\n",
      "15/15 [==============================] - 0s 13ms/step - loss: 0.6116 - accuracy: 0.7010 - val_loss: 0.7295 - val_accuracy: 0.6392\n",
      "Epoch 11/1000\n",
      "15/15 [==============================] - 0s 14ms/step - loss: 0.5866 - accuracy: 0.7320 - val_loss: 0.5338 - val_accuracy: 0.7629\n",
      "Epoch 12/1000\n",
      "15/15 [==============================] - 0s 13ms/step - loss: 0.5558 - accuracy: 0.7388 - val_loss: 0.6392 - val_accuracy: 0.6426\n",
      "Epoch 13/1000\n",
      "15/15 [==============================] - 0s 13ms/step - loss: 0.5333 - accuracy: 0.7491 - val_loss: 0.6029 - val_accuracy: 0.7320\n",
      "Epoch 14/1000\n",
      "15/15 [==============================] - 0s 14ms/step - loss: 0.5595 - accuracy: 0.7216 - val_loss: 0.4823 - val_accuracy: 0.7973\n",
      "Epoch 15/1000\n",
      "15/15 [==============================] - 0s 13ms/step - loss: 0.5416 - accuracy: 0.7423 - val_loss: 0.4821 - val_accuracy: 0.7869\n",
      "Epoch 16/1000\n",
      "15/15 [==============================] - 0s 14ms/step - loss: 0.5392 - accuracy: 0.7526 - val_loss: 0.5013 - val_accuracy: 0.7973\n",
      "Epoch 17/1000\n",
      "15/15 [==============================] - 0s 13ms/step - loss: 0.5424 - accuracy: 0.7698 - val_loss: 0.4794 - val_accuracy: 0.7732\n",
      "Epoch 18/1000\n",
      "15/15 [==============================] - 0s 14ms/step - loss: 0.4815 - accuracy: 0.7904 - val_loss: 0.5027 - val_accuracy: 0.7698\n",
      "Epoch 19/1000\n",
      "15/15 [==============================] - 0s 14ms/step - loss: 0.5010 - accuracy: 0.7938 - val_loss: 0.4650 - val_accuracy: 0.8110\n",
      "Epoch 20/1000\n",
      "15/15 [==============================] - 0s 13ms/step - loss: 0.4879 - accuracy: 0.7835 - val_loss: 0.5580 - val_accuracy: 0.7663\n",
      "Epoch 21/1000\n",
      "15/15 [==============================] - 0s 14ms/step - loss: 0.4937 - accuracy: 0.7835 - val_loss: 0.4522 - val_accuracy: 0.8144\n",
      "Epoch 22/1000\n",
      "15/15 [==============================] - 0s 14ms/step - loss: 0.4728 - accuracy: 0.7938 - val_loss: 0.4910 - val_accuracy: 0.7835\n",
      "Epoch 23/1000\n",
      "15/15 [==============================] - 0s 13ms/step - loss: 0.4499 - accuracy: 0.8041 - val_loss: 0.4624 - val_accuracy: 0.7698\n",
      "Epoch 24/1000\n",
      "15/15 [==============================] - 0s 13ms/step - loss: 0.4558 - accuracy: 0.7904 - val_loss: 0.4154 - val_accuracy: 0.8041\n",
      "Epoch 25/1000\n",
      "15/15 [==============================] - 0s 14ms/step - loss: 0.4625 - accuracy: 0.7801 - val_loss: 0.3692 - val_accuracy: 0.8557\n",
      "Epoch 26/1000\n",
      "15/15 [==============================] - 0s 14ms/step - loss: 0.4605 - accuracy: 0.8041 - val_loss: 0.4267 - val_accuracy: 0.8007\n",
      "Epoch 27/1000\n",
      "15/15 [==============================] - 0s 13ms/step - loss: 0.4299 - accuracy: 0.8110 - val_loss: 0.3827 - val_accuracy: 0.8454\n",
      "Epoch 28/1000\n",
      "15/15 [==============================] - 0s 13ms/step - loss: 0.4095 - accuracy: 0.8144 - val_loss: 0.4292 - val_accuracy: 0.8041\n",
      "Epoch 29/1000\n",
      "15/15 [==============================] - 0s 13ms/step - loss: 0.4203 - accuracy: 0.8213 - val_loss: 0.3841 - val_accuracy: 0.8110\n",
      "Epoch 30/1000\n",
      "15/15 [==============================] - 0s 14ms/step - loss: 0.4349 - accuracy: 0.7869 - val_loss: 0.4216 - val_accuracy: 0.7801\n",
      "Epoch 31/1000\n",
      "15/15 [==============================] - 0s 13ms/step - loss: 0.3781 - accuracy: 0.8385 - val_loss: 0.3767 - val_accuracy: 0.8351\n",
      "Epoch 32/1000\n",
      "15/15 [==============================] - 0s 13ms/step - loss: 0.3528 - accuracy: 0.8591 - val_loss: 0.5801 - val_accuracy: 0.6770\n",
      "Epoch 33/1000\n",
      "15/15 [==============================] - 0s 15ms/step - loss: 0.3973 - accuracy: 0.8179 - val_loss: 0.2744 - val_accuracy: 0.8969\n",
      "Epoch 34/1000\n",
      "15/15 [==============================] - 0s 14ms/step - loss: 0.4166 - accuracy: 0.8041 - val_loss: 0.3452 - val_accuracy: 0.8419\n",
      "Epoch 35/1000\n",
      "15/15 [==============================] - 0s 14ms/step - loss: 0.3436 - accuracy: 0.8282 - val_loss: 0.3073 - val_accuracy: 0.8729\n",
      "Epoch 36/1000\n",
      "15/15 [==============================] - 0s 14ms/step - loss: 0.3349 - accuracy: 0.8522 - val_loss: 0.2743 - val_accuracy: 0.8797\n",
      "Epoch 37/1000\n",
      "15/15 [==============================] - 0s 14ms/step - loss: 0.3573 - accuracy: 0.8557 - val_loss: 0.4105 - val_accuracy: 0.8007\n",
      "Epoch 38/1000\n",
      "15/15 [==============================] - 0s 14ms/step - loss: 0.3533 - accuracy: 0.8351 - val_loss: 1.0208 - val_accuracy: 0.5876\n",
      "Epoch 39/1000\n",
      "15/15 [==============================] - 0s 14ms/step - loss: 0.3669 - accuracy: 0.8557 - val_loss: 0.3182 - val_accuracy: 0.8557\n",
      "Epoch 40/1000\n",
      "15/15 [==============================] - 0s 13ms/step - loss: 0.3168 - accuracy: 0.8694 - val_loss: 0.3945 - val_accuracy: 0.8247\n",
      "Epoch 41/1000\n",
      "15/15 [==============================] - 0s 13ms/step - loss: 0.3490 - accuracy: 0.8419 - val_loss: 0.4136 - val_accuracy: 0.8144\n",
      "Epoch 42/1000\n",
      "15/15 [==============================] - 0s 14ms/step - loss: 0.2969 - accuracy: 0.8694 - val_loss: 0.3431 - val_accuracy: 0.8351\n",
      "Epoch 43/1000\n",
      "15/15 [==============================] - 0s 14ms/step - loss: 0.2837 - accuracy: 0.8591 - val_loss: 0.3158 - val_accuracy: 0.8454\n",
      "Epoch 44/1000\n",
      "15/15 [==============================] - 0s 14ms/step - loss: 0.3193 - accuracy: 0.8522 - val_loss: 0.5046 - val_accuracy: 0.8179\n",
      "Epoch 45/1000\n",
      "15/15 [==============================] - 0s 14ms/step - loss: 0.3072 - accuracy: 0.8557 - val_loss: 0.3455 - val_accuracy: 0.8454\n",
      "Epoch 46/1000\n",
      "15/15 [==============================] - 0s 14ms/step - loss: 0.3102 - accuracy: 0.8488 - val_loss: 0.2449 - val_accuracy: 0.8866\n",
      "Epoch 47/1000\n",
      "15/15 [==============================] - 0s 15ms/step - loss: 0.3101 - accuracy: 0.8419 - val_loss: 0.2295 - val_accuracy: 0.9072\n",
      "Epoch 48/1000\n",
      "15/15 [==============================] - 0s 15ms/step - loss: 0.2629 - accuracy: 0.8832 - val_loss: 0.3716 - val_accuracy: 0.8591\n",
      "Epoch 49/1000\n",
      "15/15 [==============================] - 0s 15ms/step - loss: 0.3754 - accuracy: 0.8454 - val_loss: 0.2206 - val_accuracy: 0.9244\n",
      "Epoch 50/1000\n",
      "15/15 [==============================] - 0s 14ms/step - loss: 0.2850 - accuracy: 0.8832 - val_loss: 0.2465 - val_accuracy: 0.8900\n",
      "Epoch 51/1000\n",
      "15/15 [==============================] - 0s 14ms/step - loss: 0.2660 - accuracy: 0.8763 - val_loss: 0.3974 - val_accuracy: 0.8351\n",
      "Epoch 52/1000\n",
      "15/15 [==============================] - 0s 14ms/step - loss: 0.2530 - accuracy: 0.8900 - val_loss: 0.3830 - val_accuracy: 0.8110\n",
      "Epoch 53/1000\n",
      "15/15 [==============================] - 0s 14ms/step - loss: 0.3011 - accuracy: 0.8557 - val_loss: 0.5203 - val_accuracy: 0.7938\n",
      "Epoch 54/1000\n",
      "15/15 [==============================] - 0s 14ms/step - loss: 0.3108 - accuracy: 0.8488 - val_loss: 0.2072 - val_accuracy: 0.9141\n",
      "Epoch 55/1000\n",
      "15/15 [==============================] - 0s 14ms/step - loss: 0.2490 - accuracy: 0.8900 - val_loss: 0.3081 - val_accuracy: 0.8522\n",
      "Epoch 56/1000\n",
      "15/15 [==============================] - 0s 14ms/step - loss: 0.2634 - accuracy: 0.8763 - val_loss: 0.2318 - val_accuracy: 0.8969\n",
      "Epoch 57/1000\n",
      "15/15 [==============================] - 0s 14ms/step - loss: 0.2466 - accuracy: 0.9038 - val_loss: 0.1671 - val_accuracy: 0.9072\n"
     ]
    },
    {
     "name": "stdout",
     "output_type": "stream",
     "text": [
      "Epoch 58/1000\n",
      "15/15 [==============================] - 0s 14ms/step - loss: 0.2876 - accuracy: 0.8488 - val_loss: 0.1579 - val_accuracy: 0.9313\n",
      "Epoch 59/1000\n",
      "15/15 [==============================] - 0s 14ms/step - loss: 0.2191 - accuracy: 0.9141 - val_loss: 0.2325 - val_accuracy: 0.8832\n",
      "Epoch 60/1000\n",
      "15/15 [==============================] - 0s 14ms/step - loss: 0.2831 - accuracy: 0.8763 - val_loss: 0.1851 - val_accuracy: 0.9141\n",
      "Epoch 61/1000\n",
      "15/15 [==============================] - 0s 13ms/step - loss: 0.2087 - accuracy: 0.9072 - val_loss: 0.4396 - val_accuracy: 0.8591\n",
      "Epoch 62/1000\n",
      "15/15 [==============================] - 0s 14ms/step - loss: 0.3181 - accuracy: 0.8694 - val_loss: 0.2630 - val_accuracy: 0.8832\n",
      "Epoch 63/1000\n",
      "15/15 [==============================] - 0s 14ms/step - loss: 0.2091 - accuracy: 0.9072 - val_loss: 0.6910 - val_accuracy: 0.6564\n",
      "Epoch 64/1000\n",
      "15/15 [==============================] - 0s 14ms/step - loss: 0.2679 - accuracy: 0.8729 - val_loss: 0.4138 - val_accuracy: 0.8522\n",
      "Epoch 65/1000\n",
      "15/15 [==============================] - 0s 14ms/step - loss: 0.2441 - accuracy: 0.8935 - val_loss: 0.1640 - val_accuracy: 0.9244\n",
      "Epoch 66/1000\n",
      "15/15 [==============================] - 0s 14ms/step - loss: 0.2455 - accuracy: 0.8935 - val_loss: 0.2965 - val_accuracy: 0.8900\n",
      "Epoch 67/1000\n",
      "15/15 [==============================] - 0s 14ms/step - loss: 0.2235 - accuracy: 0.8969 - val_loss: 0.2545 - val_accuracy: 0.8729\n",
      "Epoch 68/1000\n",
      "15/15 [==============================] - 0s 14ms/step - loss: 0.2065 - accuracy: 0.9210 - val_loss: 0.1852 - val_accuracy: 0.9175\n",
      "Epoch 69/1000\n",
      "15/15 [==============================] - 0s 14ms/step - loss: 0.1981 - accuracy: 0.9072 - val_loss: 0.4379 - val_accuracy: 0.8454\n",
      "Epoch 70/1000\n",
      "15/15 [==============================] - 0s 14ms/step - loss: 0.2279 - accuracy: 0.9038 - val_loss: 0.1373 - val_accuracy: 0.9416\n",
      "Epoch 71/1000\n",
      "15/15 [==============================] - 0s 14ms/step - loss: 0.2009 - accuracy: 0.9175 - val_loss: 0.1192 - val_accuracy: 0.9622\n",
      "Epoch 72/1000\n",
      "15/15 [==============================] - 0s 14ms/step - loss: 0.1885 - accuracy: 0.9210 - val_loss: 0.1630 - val_accuracy: 0.9278\n",
      "Epoch 73/1000\n",
      "15/15 [==============================] - 0s 14ms/step - loss: 0.1892 - accuracy: 0.9003 - val_loss: 0.1540 - val_accuracy: 0.9244\n",
      "Epoch 74/1000\n",
      "15/15 [==============================] - 0s 14ms/step - loss: 0.2008 - accuracy: 0.9072 - val_loss: 0.2447 - val_accuracy: 0.8935\n",
      "Epoch 75/1000\n",
      "15/15 [==============================] - 0s 14ms/step - loss: 0.2245 - accuracy: 0.9072 - val_loss: 0.1268 - val_accuracy: 0.9588\n",
      "Epoch 76/1000\n",
      "15/15 [==============================] - 0s 14ms/step - loss: 0.1655 - accuracy: 0.9141 - val_loss: 0.1783 - val_accuracy: 0.9107\n",
      "Epoch 77/1000\n",
      "15/15 [==============================] - 0s 14ms/step - loss: 0.1823 - accuracy: 0.9141 - val_loss: 0.1560 - val_accuracy: 0.9450\n",
      "Epoch 78/1000\n",
      "15/15 [==============================] - 0s 14ms/step - loss: 0.1819 - accuracy: 0.9313 - val_loss: 0.1602 - val_accuracy: 0.9450\n",
      "Epoch 79/1000\n",
      "15/15 [==============================] - 0s 14ms/step - loss: 0.1822 - accuracy: 0.9381 - val_loss: 0.1542 - val_accuracy: 0.9210\n",
      "Epoch 80/1000\n",
      "15/15 [==============================] - 0s 14ms/step - loss: 0.1406 - accuracy: 0.9347 - val_loss: 0.1621 - val_accuracy: 0.9244\n",
      "Epoch 81/1000\n",
      "15/15 [==============================] - 0s 14ms/step - loss: 0.1662 - accuracy: 0.9313 - val_loss: 0.1497 - val_accuracy: 0.9347\n",
      "Epoch 82/1000\n",
      "15/15 [==============================] - 0s 14ms/step - loss: 0.1445 - accuracy: 0.9519 - val_loss: 0.1353 - val_accuracy: 0.9313\n",
      "Epoch 83/1000\n",
      "15/15 [==============================] - 0s 14ms/step - loss: 0.1761 - accuracy: 0.9347 - val_loss: 0.1645 - val_accuracy: 0.9072\n",
      "Epoch 84/1000\n",
      "15/15 [==============================] - 0s 14ms/step - loss: 0.1299 - accuracy: 0.9381 - val_loss: 0.1068 - val_accuracy: 0.9519\n",
      "Epoch 85/1000\n",
      "15/15 [==============================] - 0s 14ms/step - loss: 0.1529 - accuracy: 0.9381 - val_loss: 0.4488 - val_accuracy: 0.8797\n",
      "Epoch 86/1000\n",
      "15/15 [==============================] - 0s 13ms/step - loss: 0.2987 - accuracy: 0.9141 - val_loss: 0.1228 - val_accuracy: 0.9347\n",
      "Epoch 87/1000\n",
      "15/15 [==============================] - 0s 13ms/step - loss: 0.0973 - accuracy: 0.9553 - val_loss: 0.1369 - val_accuracy: 0.9347\n",
      "Epoch 88/1000\n",
      "15/15 [==============================] - 0s 14ms/step - loss: 0.1783 - accuracy: 0.9313 - val_loss: 0.0697 - val_accuracy: 0.9759\n",
      "Epoch 89/1000\n",
      "15/15 [==============================] - 0s 14ms/step - loss: 0.1423 - accuracy: 0.9519 - val_loss: 0.0540 - val_accuracy: 0.9863\n",
      "Epoch 90/1000\n",
      "15/15 [==============================] - 0s 13ms/step - loss: 0.1317 - accuracy: 0.9553 - val_loss: 0.2111 - val_accuracy: 0.8832\n",
      "Epoch 91/1000\n",
      "15/15 [==============================] - 0s 13ms/step - loss: 0.1978 - accuracy: 0.9313 - val_loss: 0.0790 - val_accuracy: 0.9794\n",
      "Epoch 92/1000\n",
      "15/15 [==============================] - 0s 13ms/step - loss: 0.0869 - accuracy: 0.9759 - val_loss: 0.2889 - val_accuracy: 0.8969\n",
      "Epoch 93/1000\n",
      "15/15 [==============================] - 0s 13ms/step - loss: 0.2029 - accuracy: 0.9175 - val_loss: 0.4065 - val_accuracy: 0.8179\n",
      "Epoch 94/1000\n",
      "15/15 [==============================] - 0s 14ms/step - loss: 0.1414 - accuracy: 0.9381 - val_loss: 0.1707 - val_accuracy: 0.9313\n",
      "Epoch 95/1000\n",
      "15/15 [==============================] - 0s 13ms/step - loss: 0.1798 - accuracy: 0.9210 - val_loss: 0.0841 - val_accuracy: 0.9725\n",
      "Epoch 96/1000\n",
      "15/15 [==============================] - 0s 13ms/step - loss: 0.0985 - accuracy: 0.9588 - val_loss: 0.0699 - val_accuracy: 0.9691\n",
      "Epoch 97/1000\n",
      "15/15 [==============================] - 0s 13ms/step - loss: 0.2122 - accuracy: 0.9416 - val_loss: 0.0858 - val_accuracy: 0.9656\n",
      "Epoch 98/1000\n",
      "15/15 [==============================] - 0s 14ms/step - loss: 0.1108 - accuracy: 0.9553 - val_loss: 0.1321 - val_accuracy: 0.9416\n",
      "Epoch 99/1000\n",
      "15/15 [==============================] - 0s 14ms/step - loss: 0.1119 - accuracy: 0.9553 - val_loss: 0.4745 - val_accuracy: 0.8625\n",
      "Epoch 100/1000\n",
      "15/15 [==============================] - 0s 13ms/step - loss: 0.1119 - accuracy: 0.9519 - val_loss: 0.2596 - val_accuracy: 0.9381\n",
      "Epoch 101/1000\n",
      "15/15 [==============================] - 0s 14ms/step - loss: 0.0963 - accuracy: 0.9622 - val_loss: 0.3859 - val_accuracy: 0.8797\n",
      "Epoch 102/1000\n",
      "15/15 [==============================] - 0s 14ms/step - loss: 0.1996 - accuracy: 0.9278 - val_loss: 0.0462 - val_accuracy: 0.9863\n",
      "Epoch 103/1000\n",
      "15/15 [==============================] - 0s 14ms/step - loss: 0.0734 - accuracy: 0.9725 - val_loss: 0.1272 - val_accuracy: 0.9347\n",
      "Epoch 104/1000\n",
      "15/15 [==============================] - 0s 13ms/step - loss: 0.0777 - accuracy: 0.9622 - val_loss: 0.1333 - val_accuracy: 0.9450\n",
      "Epoch 105/1000\n",
      "15/15 [==============================] - 0s 13ms/step - loss: 0.1357 - accuracy: 0.9347 - val_loss: 0.0418 - val_accuracy: 0.9863\n",
      "Epoch 106/1000\n",
      "15/15 [==============================] - 0s 13ms/step - loss: 0.1086 - accuracy: 0.9553 - val_loss: 0.4947 - val_accuracy: 0.8488\n",
      "Epoch 107/1000\n",
      "15/15 [==============================] - 0s 13ms/step - loss: 0.1796 - accuracy: 0.9450 - val_loss: 0.0811 - val_accuracy: 0.9588\n",
      "Epoch 108/1000\n",
      "15/15 [==============================] - 0s 13ms/step - loss: 0.0830 - accuracy: 0.9725 - val_loss: 0.0579 - val_accuracy: 0.9828\n",
      "Epoch 109/1000\n",
      "15/15 [==============================] - 0s 14ms/step - loss: 0.1109 - accuracy: 0.9588 - val_loss: 0.2081 - val_accuracy: 0.9141\n",
      "15/15 [==============================] - 0s 3ms/step - loss: 0.0540 - accuracy: 0.9863\n",
      "np.shape(X_test)= (600, 480, 1)\n",
      "Model: \"sequential_1\"\n",
      "_________________________________________________________________\n",
      " Layer (type)                Output Shape              Param #   \n",
      "=================================================================\n",
      " conv1d_5 (Conv1D)           (None, 478, 64)           256       \n",
      "                                                                 \n",
      " conv1d_6 (Conv1D)           (None, 476, 128)          24704     \n",
      "                                                                 \n",
      " max_pooling1d_4 (MaxPooling  (None, 158, 128)         0         \n",
      " 1D)                                                             \n"
     ]
    },
    {
     "name": "stdout",
     "output_type": "stream",
     "text": [
      "                                                                 \n",
      " conv1d_7 (Conv1D)           (None, 156, 256)          98560     \n",
      "                                                                 \n",
      " max_pooling1d_5 (MaxPooling  (None, 52, 256)          0         \n",
      " 1D)                                                             \n",
      "                                                                 \n",
      " conv1d_8 (Conv1D)           (None, 50, 256)           196864    \n",
      "                                                                 \n",
      " max_pooling1d_6 (MaxPooling  (None, 16, 256)          0         \n",
      " 1D)                                                             \n",
      "                                                                 \n",
      " conv1d_9 (Conv1D)           (None, 14, 512)           393728    \n",
      "                                                                 \n",
      " max_pooling1d_7 (MaxPooling  (None, 4, 512)           0         \n",
      " 1D)                                                             \n",
      "                                                                 \n",
      " flatten_1 (Flatten)         (None, 2048)              0         \n",
      "                                                                 \n",
      " dense_2 (Dense)             (None, 2000)              4098000   \n",
      "                                                                 \n",
      " dense_3 (Dense)             (None, 3)                 6003      \n",
      "                                                                 \n",
      "=================================================================\n",
      "Total params: 4,818,115\n",
      "Trainable params: 4,818,115\n",
      "Non-trainable params: 0\n",
      "_________________________________________________________________\n",
      "Accuracy=  0.9862542748451233\n"
     ]
    }
   ],
   "source": [
    "accuracy=0\n",
    "acc_crs=np.array([])\n",
    "##for i in range (10):\n",
    "##    if accuracy<0.2 :\n",
    "\n",
    "verbose, epochs, batch_size = 1, 1000, btch\n",
    "n_timesteps, n_features, n_outputs = X_train.shape[1], X_train.shape[2], y_train_cat.shape[1]\n",
    "steps_per_epoch = len(X_train)//batch_size\n",
    "validation_steps = len(X_valid)//batch_size # if you have test data\n",
    "\n",
    "model_crs = Sequential()\n",
    "BatchNormalization()\n",
    "model_crs.add(Conv1D(filters=64, kernel_size=3, activation='relu', input_shape=(n_timesteps,n_features)))\n",
    "#model_crs.add(MaxPooling1D(pool_size=3))\n",
    "BatchNormalization()\n",
    "model_crs.add(Conv1D(filters=128, kernel_size=3, activation='relu'))\n",
    "#model_crs.add(Dropout(0.5))\n",
    "model_crs.add(MaxPooling1D(pool_size=3))\n",
    "BatchNormalization()\n",
    "model_crs.add(Conv1D(filters=256, kernel_size=3, activation='relu'))\n",
    "model_crs.add(MaxPooling1D(pool_size=3))\n",
    "BatchNormalization()\n",
    "model_crs.add(Conv1D(filters=256, kernel_size=3, activation='relu'))\n",
    "model_crs.add(MaxPooling1D(pool_size=3))\n",
    "BatchNormalization()\n",
    "model_crs.add(Conv1D(filters=512, kernel_size=3, activation='relu'))\n",
    "model_crs.add(MaxPooling1D(pool_size=3))\n",
    "'''model_crs.add(Conv1D(filters=512, kernel_size=3, activation='relu'))\n",
    "model_crs.add(MaxPooling1D(pool_size=3))\n",
    "model_crs.add(Conv1D(filters=1024, kernel_size=3, activation='relu'))\n",
    "model_crs.add(MaxPooling1D(pool_size=3))\n",
    "'''\n",
    "model_crs.add(Flatten())\n",
    "#model_crs.add(Dropout(0.5))\n",
    "model_crs.add(Dense(2000, activation='relu'))\n",
    "model_crs.add(Dense(n_outputs, activation='softmax'))\n",
    "model_crs.compile(optimizer='rmsprop', loss='categorical_crossentropy', metrics=['accuracy'])\n",
    "# fit network   #CategoricalCrossentropy #sparse_categorical_crossentropy #SparseCategoricalCrossentropy\n",
    "\n",
    "earlystopping = callbacks.EarlyStopping(monitor =\"val_accuracy\", mode =\"max\", patience = 20, restore_best_weights = True)\n",
    "\n",
    "model_crs.fit(X_train, y_train_cat, epochs=epochs, batch_size=batch_size, verbose=verbose, validation_data = (X_valid, y_valid_cat), callbacks =[earlystopping])\n",
    "# evaluate model_crs\n",
    "_, accuracy = model_crs.evaluate(X_valid, y_valid_cat, batch_size=batch_size, verbose=1)\n",
    "\n",
    "print('np.shape(X_test)=',np.shape(X_test))\n",
    "\n",
    "\n",
    "model_crs.summary()\n",
    "print('Accuracy= ', accuracy)\n",
    "\n",
    "#output = K.function([model_crs.layers[0].input],[model_crs.layers[3].output])\n",
    "#output(X_test)[0]\n",
    "#y_pred= model_crs.predict(X_test)                # Function 1\n",
    "\n",
    "##    print('Round ', i, '==>', 'accuracy = ', accuracy)\n",
    "##    acc_crs=np.append(acc_crs,accuracy)\n",
    "#y_pred_crs = model_crs.predict_classes(X_test)   # Function 2"
   ]
  },
  {
   "cell_type": "code",
   "execution_count": 28,
   "metadata": {},
   "outputs": [
    {
     "name": "stdout",
     "output_type": "stream",
     "text": [
      "19/19 [==============================] - 0s 7ms/step\n",
      "array([[157,  55],\n",
      "       [ 87, 301]], dtype=int64)\n",
      "              precision    recall  f1-score   support\n",
      "\n",
      "           1       0.64      0.74      0.69       212\n",
      "           2       0.85      0.78      0.81       388\n",
      "\n",
      "    accuracy                           0.76       600\n",
      "   macro avg       0.74      0.76      0.75       600\n",
      "weighted avg       0.77      0.76      0.77       600\n",
      "\n"
     ]
    }
   ],
   "source": [
    "predict_x=model_crs.predict(X_test)              # Function 1\n",
    "\n",
    "y_pred_crs=maxindx(predict_x)                    # function from augment.py to remove 0 index predictions\n",
    "\n",
    "#y_pred_crs = model_crs.predict_classes(X_test)\n",
    "\n",
    "cm = confusion_matrix(y_test, y_pred_crs)\n",
    "fullprint(cm)\n",
    "acc3=accuracy_score(y_test, y_pred_crs)\n",
    "\n",
    "print(classification_report(y_test, y_pred_crs))\n",
    "\n",
    "#sns.heatmap(cm, annot=True)\n",
    "\n",
    "#plt.imshow(cm)"
   ]
  },
  {
   "cell_type": "code",
   "execution_count": null,
   "metadata": {},
   "outputs": [],
   "source": []
  }
 ],
 "metadata": {
  "celltoolbar": "Raw Cell Format",
  "kernelspec": {
   "display_name": "Python 3 (ipykernel)",
   "language": "python",
   "name": "python3"
  },
  "language_info": {
   "codemirror_mode": {
    "name": "ipython",
    "version": 3
   },
   "file_extension": ".py",
   "mimetype": "text/x-python",
   "name": "python",
   "nbconvert_exporter": "python",
   "pygments_lexer": "ipython3",
   "version": "3.9.7"
  }
 },
 "nbformat": 4,
 "nbformat_minor": 4
}
