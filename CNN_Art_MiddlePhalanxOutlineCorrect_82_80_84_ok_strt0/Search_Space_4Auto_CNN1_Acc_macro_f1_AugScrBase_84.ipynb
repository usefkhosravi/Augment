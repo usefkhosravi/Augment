{
 "cells": [
  {
   "cell_type": "markdown",
   "metadata": {},
   "source": [
    "import time\n",
    "plc=1\n",
    "time.sleep(1500*plc)         #run after 1 houre = 3600 seconds"
   ]
  },
  {
   "cell_type": "code",
   "execution_count": 1,
   "metadata": {},
   "outputs": [],
   "source": [
    "# , ClsStrt0/1 , Cls , load data , Rate , Btch , ClsPrcnt , AugPrcnt"
   ]
  },
  {
   "cell_type": "code",
   "execution_count": 2,
   "metadata": {},
   "outputs": [
    {
     "data": {
      "text/html": [
       "<style>#notebook { padding-top:0px !important; } .container { width:100% !important; } .end_space { min-height:0px !important; } html, body, .container{ margin:0!important;padding:0!important;}</style>"
      ],
      "text/plain": [
       "<IPython.core.display.HTML object>"
      ]
     },
     "metadata": {},
     "output_type": "display_data"
    }
   ],
   "source": [
    "import os\n",
    "import glob\n",
    "import scipy\n",
    "import random\n",
    "import bisect\n",
    "import numpy as np\n",
    "import pandas as pd\n",
    "import seaborn as sns\n",
    "from scipy import signal\n",
    "from scipy.signal import find_peaks\n",
    "import matplotlib.pyplot as plt\n",
    "from preprocess import *                         #ماژول استخراج پنجره ها\n",
    "from data import *                          #ماژول محلی ورود داده ها\n",
    "from augment import *                            #ماژول های داده افزایی\n",
    "from lstm_cnn import *                           #ماژول های داده افزایی با lstm_cnn\n",
    "import augment\n",
    "import importlib\n",
    "importlib.reload(augment)\n",
    "import tensorflow as tf\n",
    "from tensorflow import keras\n",
    "from tensorflow.keras.layers import BatchNormalization\n",
    "from sklearn.model_selection import train_test_split\n",
    "from sklearn.neural_network import MLPClassifier\n",
    "from sklearn.datasets import make_classification\n",
    "from sklearn.metrics import confusion_matrix, accuracy_score, classification_report,recall_score,precision_score\n",
    "from tensorflow.keras import callbacks\n",
    "from tensorflow.keras import layers\n",
    "from tensorflow.keras.models import Sequential\n",
    "from tensorflow.keras.layers import Convolution2D,Conv1D,Dropout,MaxPooling1D,MaxPooling2D,Flatten,Dense\n",
    "from tensorflow.keras import backend as K\n",
    "from tensorflow.keras.utils import to_categorical\n",
    "from tensorflow.keras.models import load_model\n",
    "cwd = os.getcwd() #\n",
    "fullscrn()"
   ]
  },
  {
   "cell_type": "markdown",
   "metadata": {},
   "source": [
    "<h1><center><div style=\"direction:rtl;font-family:B Nazanin\">Importing Data</div></center></h1>"
   ]
  },
  {
   "cell_type": "code",
   "execution_count": 11,
   "metadata": {
    "scrolled": true
   },
   "outputs": [
    {
     "name": "stdout",
     "output_type": "stream",
     "text": [
      "first_train_shape= (291, 81)\n",
      "first_test_shape= (600, 81)\n",
      "classes_quantity= 2\n",
      "tr_lbls=\t {0, 1}\n",
      "Count_labels= [166]\n",
      "max(train_feature_Altitude)= 1.8756\n",
      "min(train_feature_Altitude)= -1.7195\n",
      "first_train_sample=\n",
      " [ 0.       -0.7065   -0.65997  -0.47379  -0.22616   0.10006   0.39363\n",
      "  0.69603   0.98459   1.1738    1.4781    1.4308    1.3673    1.4243\n",
      "  1.5021    1.4319    1.1978    0.98944   0.80072   0.53166   0.23594\n",
      " -0.058043 -0.30808  -0.55961  -0.68329  -0.66936  -0.51165  -0.31784\n",
      " -0.076799  0.19995   0.44881   0.75216   1.0404    1.3203    1.5863\n",
      "  1.6022    1.377     1.3586    1.3593    1.3325    1.2374    1.2954\n",
      "  1.4635    1.3819    1.0603    0.75858   0.44207   0.14705  -0.14366\n",
      " -0.3966   -0.58665  -0.49186  -0.50286  -0.62594  -0.72812  -0.88656\n",
      " -1.0317   -1.1653   -1.3105   -1.4478   -1.3864   -1.2248   -1.0622\n",
      " -0.90622  -0.78891  -0.65143  -0.58693  -0.65616  -0.8165   -0.97518\n",
      " -1.1302   -1.2435   -1.2487   -1.2692   -1.3553   -1.332    -1.2132\n",
      " -1.1004   -0.95834  -0.79523  -0.63212 ]\n",
      "0 125\t1 166\t\n",
      "shape ecg= (291, 481)\n",
      "['X 4  alpha 3  Beta 6']\n"
     ]
    }
   ],
   "source": [
    "rate=480\n",
    "cls_num=2\n",
    "btch=20\n",
    "for i in range (0,cls_num):\n",
    "    vars()['ecg'+str(i)],vars()['ecg_tst'+str(i)]=MiddlePhalanxOutlineCorrect(i)\n",
    "os.chdir(cwd)\n",
    "clses_lens=np.array([])\n",
    "clses_lens=np.array([])\n",
    "ecg=np.array(ecg0)\n",
    "print(0,len(vars()['ecg'+str(0)]), end='\\t')\n",
    "clses_lens=np.append(clses_lens,len(vars()['ecg'+str(0)]))\n",
    "for i in range (1,cls_num):\n",
    "    ecg=np.concatenate((ecg,vars()['ecg'+str(i)]),axis=0)\n",
    "    clses_lens=np.append(clses_lens,len(vars()['ecg'+str(i)]))\n",
    "    print( i,len(vars()['ecg'+str(i)]), end='\\t')\n",
    "\n",
    "mx_sig=max(clses_lens)\n",
    "print('\\nshape ecg=',np.shape(ecg))\n"
   ]
  },
  {
   "cell_type": "code",
   "execution_count": 4,
   "metadata": {},
   "outputs": [
    {
     "data": {
      "text/plain": [
       "(291, 481)"
      ]
     },
     "execution_count": 4,
     "metadata": {},
     "output_type": "execute_result"
    }
   ],
   "source": [
    "np.shape(ecg)"
   ]
  },
  {
   "cell_type": "markdown",
   "metadata": {},
   "source": [
    "<h2><center><div style=\"direction:rtl;font-family:B Nazanin\">Base Train windows</div></center></h1>"
   ]
  },
  {
   "cell_type": "code",
   "execution_count": 5,
   "metadata": {},
   "outputs": [
    {
     "name": "stdout",
     "output_type": "stream",
     "text": [
      "each class and its windows =\n",
      "0 125\t1 166\t"
     ]
    }
   ],
   "source": [
    "smpl_rte=rate                                              # در ماژول ها نیز همین مقدار ثبت شده\n",
    "i=0\n",
    "windws=np.array([])\n",
    "\n",
    "for cls in range (0,cls_num):                                 #ساخت پنجره های داده های آموزش اصلی\n",
    "    vars()['wndws'+str(cls)]=np.array(vars()['ecg'+str(cls)])  \n",
    "    \n",
    "print(\"each class and its windows =\")\n",
    "\n",
    "cls_wndws=np.array([])\n",
    "for cls in range (0,cls_num):                                # آرایه ی تعداد پنجره ی هر کلاس\n",
    "    wns=len(vars()['wndws'+str(cls)])\n",
    "    cls_wndws=np.append(cls_wndws,wns)\n",
    "    print(cls, wns, end='\\t')"
   ]
  },
  {
   "cell_type": "markdown",
   "metadata": {},
   "source": [
    "<h1><center><div style=\"direction:rtl;font-family:B Nazanin\">Data Augmentation</div></center></h1>"
   ]
  },
  {
   "cell_type": "code",
   "execution_count": 8,
   "metadata": {},
   "outputs": [
    {
     "ename": "SyntaxError",
     "evalue": "invalid syntax (Temp/ipykernel_9036/1858457791.py, line 164)",
     "output_type": "error",
     "traceback": [
      "\u001b[1;36m  File \u001b[1;32m\"C:\\Users\\user\\AppData\\Local\\Temp/ipykernel_9036/1858457791.py\"\u001b[1;36m, line \u001b[1;32m164\u001b[0m\n\u001b[1;33m    '''model_crs.add(Conv1D(filters=512, kernel_size=3, activation='relu'))\u001b[0m\n\u001b[1;37m       ^\u001b[0m\n\u001b[1;31mSyntaxError\u001b[0m\u001b[1;31m:\u001b[0m invalid syntax\n"
     ]
    }
   ],
   "source": [
    "mx_wndws=int(np.max(cls_wndws)+1)   # حداکثر تعداد پنجره ی موجود بین کلاس ها\n",
    "print('\\n max =', mx_wndws)\n",
    "rpt_cnn_clsfctn=3                 #تعداد اجرای شبکه عصبی برای میانگین گیری هر حالت \n",
    "aug_amnt_Ttl=np.empty((0,5), int) \n",
    "rslts=np.array([])\n",
    "for X in range(1,5):                               #داده افزایی تا چند برابر کلاس اکثریت\n",
    "    mx_wndws=int(np.max(cls_wndws))   # حداکثر تعداد پنجره ی موجود بین کلاس ها\n",
    "    mx_wndws=int(X*mx_wndws)          #\n",
    "    for alpha in range(1,4):\n",
    "        rprt=np.array([])\n",
    "        for beta in range(1,4):                        #چند برابر کردن داده افزایی هر کلاس متناسب ضعیف بودن آن کلاس\n",
    "            if beta==3:\n",
    "                beta=beta*2\n",
    "\n",
    "            f_scr=np.array([79,81,80,80,81,81])                      #UnAg,Scl.2,Mag.05,Tm.2,Gs1,frqnc2,GAN,LSTMexpgdo\n",
    "            f_scr_difrnc=f_scr-f_scr[0]\n",
    "            for z in range (len(f_scr_difrnc)):\n",
    "                if f_scr_difrnc[z]<0:\n",
    "                    f_scr_difrnc[z]=0\n",
    "            f_scr_difrnc=f_scr_difrnc**beta\n",
    "            f_scr_rtio=f_scr_difrnc/(sum(f_scr_difrnc))\n",
    "            print('f_scr_rtio=\\n',f_scr_rtio)\n",
    "            \n",
    "            scors0=np.array([77,86])    #76,72 - 82,74 - 75,69     #Class Recalls without Augmentation\n",
    "            MxMn20fscr=((max(f_scr)-f_scr[0])/20)**0.7\n",
    "            Cls_amnt=1+alpha*MxMn20fscr*((100-scors0)/(np.max(100-scors0)))**beta        #Class Specific\n",
    "            print('Cls_amnt=\\n',Cls_amnt)\n",
    "            aug_amnt=np.empty((0,len(f_scr_rtio)-1), int) \n",
    "\n",
    "            for i in range (0,cls_num):\n",
    "                aug_amnt=np.append(aug_amnt,[f_scr_rtio[1:]*(mx_wndws*Cls_amnt[i]-cls_wndws[i])],axis=0)\n",
    "                #vlum_win=mx_wndws-cls_wndws[i]                        #میزان داده افزایی در روش های عمیق (پنجره)\n",
    "            aug_amnt=np.int16(MxMn20fscr*np.round(aug_amnt))\n",
    "            aug_amnt_Ttl=np.append(aug_amnt_Ttl,aug_amnt,axis=0)\n",
    "            #print(np.int16(100*f_scr_rtio))\n",
    "            #print(aug_amnt)\n",
    "            rprt=np.empty((0,3),float)\n",
    "            print('aug_amnt=\\n',aug_amnt)\n",
    "            print(['X '+str(X)+'  alpha '+str(alpha) +'  Beta '+str(beta)],'\\n\\n')\n",
    "\n",
    "            for repeat in range(1,rpt_cnn_clsfctn+1):\n",
    "                xtrain=np.empty((0,smpl_rte+1), float) \n",
    "                for i in range (0,cls_num):                            #تعریف آرایه ی پنجره های کلاس ها\n",
    "                    xtrain=np.append(xtrain,vars()['wndws'+str(i)],axis=0)\n",
    "                    if aug_amnt[i,0]>0:\n",
    "                        methd=10\n",
    "                        sort=-5  #-5=Dis_sam_Cls=qlty1 #-4=var_Dis=qlty2 #-3=DisSm/DisOthr=qlty3  #-2=invrs_GDO_papr=qlty4   #-1=GDO_papr=qlty5\n",
    "                        dp_slct_dstrb=1            #1-sequencial 2-linear 3-beta 4-exponential 5-unfrm\n",
    "                        xtrain=np.append(xtrain,srtd_data(methd,i,aug_amnt[i,0],dp_slct_dstrb,sort),axis=0)\n",
    "                    if aug_amnt[i,1]>0:\n",
    "                        methd=20\n",
    "                        sort=-5\n",
    "                        dp_slct_dstrb=1\n",
    "                        xtrain=np.append(xtrain,srtd_data(methd,i,aug_amnt[i,1],dp_slct_dstrb,sort),axis=0)\n",
    "                    if aug_amnt[i,2]>0:\n",
    "                        methd=30\n",
    "                        sort=-5\n",
    "                        dp_slct_dstrb=1\n",
    "                        xtrain=np.append(xtrain,srtd_data(methd,i,aug_amnt[i,2],dp_slct_dstrb,sort),axis=0)\n",
    "                    if aug_amnt[i,3]>0:\n",
    "                        methd=40\n",
    "                        sort=-5\n",
    "                        dp_slct_dstrb=1\n",
    "                        xtrain=np.append(xtrain,srtd_data(methd,i,aug_amnt[i,3],dp_slct_dstrb,sort),axis=0)\n",
    "                    if aug_amnt[i,4]>0:\n",
    "                        methd=50\n",
    "                        sort=-5\n",
    "                        dp_slct_dstrb=1\n",
    "                        xtrain=np.append(xtrain,srtd_data(methd,i,aug_amnt[i,4],dp_slct_dstrb,sort),axis=0)\n",
    "                    ''''if aug_amnt[i,5]>0:\n",
    "                        methd=60\n",
    "                        sort=-5\n",
    "                        dp_slct_dstrb=1\n",
    "                        xtrain=np.append(xtrain,srtd_data(methd,i,aug_amnt[i,5],dp_slct_dstrb,sort),axis=0)\n",
    "                    if aug_amnt[i,6]>0:\n",
    "                        methd=70\n",
    "                        sort=-1\n",
    "                        dp_slct_dstrb=2\n",
    "                        xtrain=np.append(xtrain,srtd_data(methd,i,aug_amnt[i,6],dp_slct_dstrb,sort),axis=0)'''\n",
    "                    #print('class ', i, 'train shape = ', np.shape(xtrain))\n",
    "\n",
    "                # Normalization train windows\n",
    "                mx_aug=np.max(xtrain[:,:-1])\n",
    "                mx=np.max(ecg[:,:-1])\n",
    "                mn_aug=np.min(xtrain[:,:-1])\n",
    "                mn=np.min(ecg[:,:-1])\n",
    "                xtrain[:,:-1]= 2*(xtrain[:,:-1]-mn_aug)/(mx_aug - mn_aug) - 1\n",
    "\n",
    "\n",
    "                ###Test Windows:\n",
    "                wndws_test=np.empty((0,len(wndws1[0])), float)\n",
    "                i=0\n",
    "                windws=np.array([])\n",
    "                for cls in range (0,cls_num):                                 #ساخت پنجره های داده های آموزش اصلی\n",
    "                    vars()['wndws_tst'+str(cls)]=np.empty((0,len(wndws1[0])), float)\n",
    "                    vars()['wndws_tst'+str(cls)]=np.append(vars()['wndws_tst'+str(cls)],vars()['ecg_tst'+str(cls)],axis=0)   \n",
    "\n",
    "                # Normalization test windows\n",
    "                for i in range (0,cls_num):                \n",
    "                    cls=i\n",
    "                    #print('\\n cls', i, ' >> ')\n",
    "                    #print('max magnitude class', i , ' = ' ,np.max(vars()['wndws_tst'+str(cls)][:,:-1]))\n",
    "                    #print('min magnitude class', i , ' = ' ,np.min(vars()['wndws_tst'+str(cls)][:,:-1]))\n",
    "                    vars()['wndws_tst'+str(i)][:,:-1]= 2*(vars()['wndws_tst'+str(i)][:,:-1]-mn_aug)/(mx_aug - mn_aug) - 1\n",
    "                    #print('after normalizing >>')\n",
    "                    #print('max magnitude class', i , ' = ' ,np.max(vars()['wndws_tst'+str(cls)][:,:-1]))\n",
    "                    #print('min magnitude class', i , ' = ' ,np.min(vars()['wndws_tst'+str(cls)][:,:-1]))\n",
    "                #print(\"each class and its windows =\")                    #تجمیع کلاس های تست\n",
    "                for cls in range (0,cls_num):                                # آرایه ی تعداد پنجره ی هر کلاس\n",
    "                    wns=len(vars()['wndws_tst'+str(cls)])\n",
    "                    wndws_test=np.append(wndws_test,vars()['wndws_tst'+str(cls)],axis=0)\n",
    "                Xtest=wndws_test[:,:-1]\n",
    "                ytest=np.int16(wndws_test[:,-1])\n",
    "\n",
    "                trainx=np.random.permutation(xtrain)\n",
    "                Xtrain=np.array(trainx[:,:-1])\n",
    "                ytrain=np.int16(trainx[:,-1])\n",
    "\n",
    "                X_train=np.array(Xtrain)\n",
    "                y_train=np.array(ytrain)\n",
    "                X_test=np.array(Xtest)\n",
    "                y_test=np.array(ytest)\n",
    "                X_valid=np.array(Xtrain)\n",
    "                y_valid=np.array(ytrain)\n",
    "                #print('X_train => ', X_train.shape)\n",
    "                #print('y_train => ', y_train.shape)\n",
    "                #print('X_test  => ', X_test.shape)\n",
    "                #print('y_test  => ', y_test.shape)\n",
    "                #print('X_valid  => ', X_valid.shape)\n",
    "                #print('y_valid  => ', y_valid.shape)\n",
    "\n",
    "                if min(y_train)==1:\n",
    "                    y_train=y_train-1\n",
    "                    y_test=y_test-1\n",
    "                    y_valid =y_valid-1\n",
    "                y_train_cat=to_categorical(y_train)\n",
    "                y_valid_cat=to_categorical(y_valid)\n",
    "                y_test_cat=to_categorical(y_test)\n",
    "                X_train = np.expand_dims(X_train, axis=2)\n",
    "                X_valid = np.expand_dims(X_valid, axis=2)\n",
    "                X_test = np.expand_dims(X_test, axis=2)\n",
    "\n",
    "                ####### NETWORK #######\n",
    "                accuracy=0\n",
    "                acc_crs=np.array([])\n",
    "                ##for i in range (10):\n",
    "                ##    if accuracy<0.2 :\n",
    "                verbose, epochs, batch_size = 0, 1000, btch\n",
    "                n_timesteps, n_features, n_outputs = X_train.shape[1], X_train.shape[2], y_train_cat.shape[1]\n",
    "                steps_per_epoch = len(X_train)//batch_size\n",
    "                validation_steps = len(X_valid)//batch_size # if you have test data\n",
    "                model_crs = Sequential()\n",
    "                BatchNormalization()\n",
    "                model_crs.add(Conv1D(filters=32, kernel_size=3, activation='relu', input_shape=(n_timesteps,n_features)))\n",
    "                #model_crs.add(MaxPooling1D(pool_size=3))\n",
    "                BatchNormalization()\n",
    "                model_crs.add(Conv1D(filters=64, kernel_size=3, activation='relu'))\n",
    "                #model_crs.add(Dropout(0.5))\n",
    "                model_crs.add(MaxPooling1D(pool_size=3))\n",
    "                BatchNormalization()\n",
    "                model_crs.add(Conv1D(filters=128, kernel_size=3, activation='relu'))\n",
    "                model_crs.add(MaxPooling1D(pool_size=3))\n",
    "                BatchNormalization()\n",
    "                model_crs.add(Conv1D(filters=128, kernel_size=3, activation='relu'))\n",
    "                model_crs.add(MaxPooling1D(pool_size=3))\n",
    "                BatchNormalization()\n",
    "                model_crs.add(Conv1D(filters=256, kernel_size=3, activation='relu'))\n",
    "                model_crs.add(MaxPooling1D(pool_size=3))\n",
    "                '''model_crs.add(Conv1D(filters=512, kernel_size=3, activation='relu'))\n",
    "                model_crs.add(MaxPooling1D(pool_size=3))\n",
    "                model_crs.add(Conv1D(filters=1024, kernel_size=3, activation='relu'))\n",
    "                model_crs.add(MaxPooling1D(pool_size=3))\n",
    "                '''\n",
    "                model_crs.add(Flatten())\n",
    "                #model_crs.add(Dropout(0.5))\n",
    "                model_crs.add(Dense(2000, activation='relu'))\n",
    "                model_crs.add(Dense(n_outputs, activation='softmax'))\n",
    "                model_crs.compile(optimizer='rmsprop', loss='categorical_crossentropy', metrics=['accuracy'])\n",
    "                # fit network   #CategoricalCrossentropy #sparse_categorical_crossentropy #SparseCategoricalCrossentropy\n",
    "                earlystopping = callbacks.EarlyStopping(monitor =\"val_accuracy\", mode =\"max\", patience = 20, restore_best_weights = True)\n",
    "                model_crs.fit(X_train, y_train_cat, epochs=epochs, batch_size=batch_size, verbose=verbose, validation_data = (X_valid, y_valid_cat), callbacks =[earlystopping])\n",
    "                # evaluate model_crs\n",
    "                _, accuracy = model_crs.evaluate(X_valid, y_valid_cat, batch_size=batch_size, verbose=verbose)\n",
    "                predict_x=model_crs.predict(X_test)              # Function 1\n",
    "                y_pred_crs=np.argmax(predict_x,axis=1)           # function from augment.py to remove 0 index predictions\n",
    "                rprt0=classification_report(y_test, y_pred_crs,output_dict=True)\n",
    "                rprt_row=np.array([])\n",
    "                rprt_row=np.append(rprt_row,rprt0['accuracy'])\n",
    "                rprt_row=np.append(rprt_row,rprt0['macro avg']['f1-score'])\n",
    "                rprt_row=np.append(rprt_row,rprt0['weighted avg']['f1-score'])\n",
    "                rprt=np.append(rprt,[rprt_row],axis=0)\n",
    "            #print('rprt=',rprt)\n",
    "            maxm=rprt[np.argmax(rprt[:,1])]\n",
    "            #print('maxm=',maxm)\n",
    "            avrg=np.mean(rprt,axis=0)\n",
    "            #print('avrg=',avrg)\n",
    "            rslts=np.append(rslts,['X '+str(X)+'  alpha '+str(alpha) +'  Beta '+str(beta)+'  average= '+str(np.int16(100*avrg))+'  max= '+str(np.int16(100*maxm))+'  var= '+str(np.int16(np.var(100*rprt,axis=0)))],axis=0)\n",
    "            print('rslts=',rslts[-1])"
   ]
  },
  {
   "cell_type": "code",
   "execution_count": null,
   "metadata": {},
   "outputs": [],
   "source": [
    "rslts"
   ]
  }
 ],
 "metadata": {
  "celltoolbar": "Raw Cell Format",
  "kernelspec": {
   "display_name": "Python 3 (ipykernel)",
   "language": "python",
   "name": "python3"
  },
  "language_info": {
   "codemirror_mode": {
    "name": "ipython",
    "version": 3
   },
   "file_extension": ".py",
   "mimetype": "text/x-python",
   "name": "python",
   "nbconvert_exporter": "python",
   "pygments_lexer": "ipython3",
   "version": "3.9.7"
  }
 },
 "nbformat": 4,
 "nbformat_minor": 4
}
