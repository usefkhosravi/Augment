{
 "cells": [
  {
   "cell_type": "markdown",
   "metadata": {},
   "source": [
    "import time\n",
    "plc=1\n",
    "time.sleep(3000*plc)         #run after 1 houre = 3600 seconds"
   ]
  },
  {
   "cell_type": "code",
   "execution_count": 1,
   "metadata": {},
   "outputs": [
    {
     "data": {
      "text/html": [
       "<style>#notebook { padding-top:0px !important; } .container { width:100% !important; } .end_space { min-height:0px !important; } html, body, .container{ margin:0!important;padding:0!important;}</style>"
      ],
      "text/plain": [
       "<IPython.core.display.HTML object>"
      ]
     },
     "metadata": {},
     "output_type": "display_data"
    }
   ],
   "source": [
    "import os\n",
    "import glob\n",
    "import scipy\n",
    "import random\n",
    "import bisect\n",
    "import numpy as np\n",
    "import pandas as pd\n",
    "import seaborn as sns\n",
    "from scipy import signal\n",
    "from scipy.signal import find_peaks\n",
    "import matplotlib.pyplot as plt\n",
    "from preprocess import *                         #ماژول استخراج پنجره ها\n",
    "from data import *                          #ماژول محلی ورود داده ها\n",
    "from augment import *                            #ماژول های داده افزایی\n",
    "from lstm_cnn import *                           #ماژول های داده افزایی با lstm_cnn\n",
    "import augment\n",
    "import importlib\n",
    "importlib.reload(augment)\n",
    "import tensorflow as tf\n",
    "from tensorflow import keras\n",
    "from tensorflow.keras.layers import BatchNormalization\n",
    "from sklearn.model_selection import train_test_split\n",
    "from sklearn.neural_network import MLPClassifier\n",
    "from sklearn.datasets import make_classification\n",
    "from sklearn.metrics import confusion_matrix, accuracy_score, classification_report,recall_score,precision_score\n",
    "from tensorflow.keras import callbacks\n",
    "from tensorflow.keras import layers\n",
    "from tensorflow.keras.models import Sequential\n",
    "from tensorflow.keras.layers import Convolution2D,Conv1D,Dropout,MaxPooling1D,MaxPooling2D,Flatten,Dense\n",
    "from tensorflow.keras import backend as K\n",
    "from tensorflow.keras.utils import to_categorical\n",
    "from tensorflow.keras.models import load_model\n",
    "cwd = os.getcwd() #\n",
    "fullscrn()"
   ]
  },
  {
   "cell_type": "markdown",
   "metadata": {},
   "source": [
    "<h1><center><div style=\"direction:rtl;font-family:B Nazanin\">Importing Data</div></center></h1>"
   ]
  },
  {
   "cell_type": "code",
   "execution_count": 2,
   "metadata": {
    "scrolled": true
   },
   "outputs": [
    {
     "name": "stdout",
     "output_type": "stream",
     "text": [
      "first_train_shape= (291, 81)\n",
      "first_test_shape= (600, 81)\n",
      "classes_quantity= 2\n",
      "tr_lbls=\t {0, 1}\n",
      "Count_labels= [166]\n",
      "max(train_feature_Altitude)= 1.8756\n",
      "min(train_feature_Altitude)= -1.7195\n",
      "first_train_sample=\n",
      " [ 0.       -0.7065   -0.65997  -0.47379  -0.22616   0.10006   0.39363\n",
      "  0.69603   0.98459   1.1738    1.4781    1.4308    1.3673    1.4243\n",
      "  1.5021    1.4319    1.1978    0.98944   0.80072   0.53166   0.23594\n",
      " -0.058043 -0.30808  -0.55961  -0.68329  -0.66936  -0.51165  -0.31784\n",
      " -0.076799  0.19995   0.44881   0.75216   1.0404    1.3203    1.5863\n",
      "  1.6022    1.377     1.3586    1.3593    1.3325    1.2374    1.2954\n",
      "  1.4635    1.3819    1.0603    0.75858   0.44207   0.14705  -0.14366\n",
      " -0.3966   -0.58665  -0.49186  -0.50286  -0.62594  -0.72812  -0.88656\n",
      " -1.0317   -1.1653   -1.3105   -1.4478   -1.3864   -1.2248   -1.0622\n",
      " -0.90622  -0.78891  -0.65143  -0.58693  -0.65616  -0.8165   -0.97518\n",
      " -1.1302   -1.2435   -1.2487   -1.2692   -1.3553   -1.332    -1.2132\n",
      " -1.1004   -0.95834  -0.79523  -0.63212 ]\n",
      "0 125\t1 166\t"
     ]
    }
   ],
   "source": [
    "rate=480         #MiddlePhalanxOutlineCorrect signal len,cls = 80,2\n",
    "cls_num=2\n",
    "for i in range (0,cls_num):\n",
    "    vars()['ecg'+str(i)],vars()['ecg_tst'+str(i)]=MiddlePhalanxOutlineCorrect(i)\n",
    "\n",
    "os.chdir(cwd)\n",
    "clses_lens=np.array([])\n",
    "i=0                               #جمع آوری داده ها و چاپ تعداد نمونه ی هر کلاس\n",
    "ecg=np.array(ecg0)\n",
    "print(0,len(vars()['ecg'+str(0)]), end='\\t')\n",
    "clses_lens=np.append(clses_lens,len(vars()['ecg'+str(0)]))\n",
    "for i in range (1,cls_num):\n",
    "    ecg=np.concatenate((ecg,vars()['ecg'+str(i)]),axis=0)\n",
    "    clses_lens=np.append(clses_lens,len(vars()['ecg'+str(i)]))\n",
    "    print(i,len(vars()['ecg'+str(i)]), end='\\t')\n",
    "\n",
    "mx_sig=max(clses_lens)"
   ]
  },
  {
   "cell_type": "code",
   "execution_count": 3,
   "metadata": {},
   "outputs": [
    {
     "data": {
      "text/plain": [
       "(291, 481)"
      ]
     },
     "execution_count": 3,
     "metadata": {},
     "output_type": "execute_result"
    }
   ],
   "source": [
    "np.shape(ecg)"
   ]
  },
  {
   "cell_type": "markdown",
   "metadata": {},
   "source": [
    "<h2><center><div style=\"direction:rtl;font-family:B Nazanin\">Base Train windows</div></center></h1>"
   ]
  },
  {
   "cell_type": "code",
   "execution_count": 4,
   "metadata": {},
   "outputs": [
    {
     "name": "stdout",
     "output_type": "stream",
     "text": [
      "each class and its windows =\n",
      "0 125\t1 166\t\n",
      " max = 166\n"
     ]
    }
   ],
   "source": [
    "smpl_rte=480                                              # در ماژول ها نیز همین مقدار ثبت شده\n",
    "i=0\n",
    "windws=np.array([])\n",
    "\n",
    "for cls in range (0,cls_num):                                 #ساخت پنجره های داده های آموزش اصلی\n",
    "    vars()['wndws'+str(cls)]=np.array(vars()['ecg'+str(cls)])  \n",
    "    \n",
    "print(\"each class and its windows =\")\n",
    "\n",
    "cls_wndws=np.array([])\n",
    "for cls in range (0,cls_num):                                # آرایه ی تعداد پنجره ی هر کلاس\n",
    "    wns=len(vars()['wndws'+str(cls)])\n",
    "    cls_wndws=np.append(cls_wndws,wns)\n",
    "    print(cls, wns, end='\\t')\n",
    "\n",
    "mx_wndws=int(np.max(cls_wndws))                        # حداکثر تعداد پنجره ی موجود بین کلاس ها\n",
    "print('\\n max =', mx_wndws)"
   ]
  },
  {
   "cell_type": "raw",
   "metadata": {},
   "source": [
    "#clses=3                                   #تعیین میزان افزایش نمونه (تولید داده)\n",
    "mx_wndws=int(mx_wndws)  #mx_wndws*0.3  # =classes-1 برای بررسی الگوریتم تعداد کمی کلاس آزمایش شد\n",
    "mx_wndws=2598           #+2\n",
    "print(mx_wndws)"
   ]
  },
  {
   "cell_type": "markdown",
   "metadata": {},
   "source": [
    "<h1><center><div style=\"direction:rtl;font-family:B Nazanin\">Data Augmentation</div></center></h1>"
   ]
  },
  {
   "cell_type": "code",
   "execution_count": 5,
   "metadata": {},
   "outputs": [
    {
     "name": "stdout",
     "output_type": "stream",
     "text": [
      "Up to class  0 train shape =  (125, 481)\n",
      "Up to class  1 train shape =  (291, 481)\n"
     ]
    }
   ],
   "source": [
    "smpl_rte=len(wndws1[0])                                        # در ماژول ها نیز همین مقدار ثبت شده\n",
    "\n",
    "#add augmented data to base data\n",
    "xtrain=np.empty((0,len(wndws1[0])), float) \n",
    "for i in range (0,cls_num):   \n",
    "    xtrain=np.append(xtrain,vars()['wndws'+str(i)],axis=0)\n",
    "    print('Up to class ', i, 'train shape = ', np.shape(xtrain))"
   ]
  },
  {
   "cell_type": "code",
   "execution_count": 6,
   "metadata": {},
   "outputs": [
    {
     "name": "stdout",
     "output_type": "stream",
     "text": [
      "[125 166]\n"
     ]
    }
   ],
   "source": [
    "print(np.bincount(np.int16(xtrain[:,-1])))    #تعداد پنجره در هر کلاس از 0 تا 17"
   ]
  },
  {
   "cell_type": "code",
   "execution_count": 7,
   "metadata": {},
   "outputs": [
    {
     "data": {
      "text/plain": [
       "array([0., 0., 0., 0., 0., 0., 0., 0., 0., 0., 0., 0., 0., 0., 0., 0., 0.,\n",
       "       0., 0., 0., 0., 0., 0., 0., 0., 0., 0., 0., 0., 0., 0., 0., 0., 0.,\n",
       "       0., 0., 0., 0., 0., 0., 0., 0., 0., 0., 0., 0., 0., 0., 0., 0., 0.,\n",
       "       0., 0., 0., 0., 0., 0., 0., 0., 0., 0., 0., 0., 0., 0., 0., 0., 0.,\n",
       "       0., 0., 0., 0., 0., 0., 0., 0., 0., 0., 0., 0., 0., 0., 0., 0., 0.,\n",
       "       0., 0., 0., 0., 0., 0., 0., 0., 0., 0., 0., 0., 0., 0., 0., 0., 0.,\n",
       "       0., 0., 0., 0., 0., 0., 0., 0., 0., 0., 0., 0., 0., 0., 0., 0., 0.,\n",
       "       0., 0., 0., 0., 0., 0., 1., 1., 1., 1., 1., 1., 1., 1., 1., 1., 1.,\n",
       "       1., 1., 1., 1., 1., 1., 1., 1., 1., 1., 1., 1., 1., 1., 1., 1., 1.,\n",
       "       1., 1., 1., 1., 1., 1., 1., 1., 1., 1., 1., 1., 1., 1., 1., 1., 1.,\n",
       "       1., 1., 1., 1., 1., 1., 1., 1., 1., 1., 1., 1., 1., 1., 1., 1., 1.,\n",
       "       1., 1., 1., 1., 1., 1., 1., 1., 1., 1., 1., 1., 1., 1., 1., 1., 1.,\n",
       "       1., 1., 1., 1., 1., 1., 1., 1., 1., 1., 1., 1., 1., 1., 1., 1., 1.,\n",
       "       1., 1., 1., 1., 1., 1., 1., 1., 1., 1., 1., 1., 1., 1., 1., 1., 1.,\n",
       "       1., 1., 1., 1., 1., 1., 1., 1., 1., 1., 1., 1., 1., 1., 1., 1., 1.,\n",
       "       1., 1., 1., 1., 1., 1., 1., 1., 1., 1., 1., 1., 1., 1., 1., 1., 1.,\n",
       "       1., 1., 1., 1., 1., 1., 1., 1., 1., 1., 1., 1., 1., 1., 1., 1., 1.,\n",
       "       1., 1.])"
      ]
     },
     "execution_count": 7,
     "metadata": {},
     "output_type": "execute_result"
    }
   ],
   "source": [
    "xtrain[:,-1]"
   ]
  },
  {
   "cell_type": "code",
   "execution_count": 8,
   "metadata": {},
   "outputs": [],
   "source": [
    "mx_aug=np.max(xtrain[:,:-1])\n",
    "mx=np.max(ecg[:,:-1])\n",
    "mn_aug=np.min(xtrain[:,:-1])\n",
    "mn=np.min(ecg[:,:-1])\n",
    "\n",
    "#for i in range (0,cls_num):             #نرمالسازی داده های افزایشی\n",
    "xtrain[:,:-1]= 2*(xtrain[:,:-1]-mn_aug)/(mx_aug - mn_aug) - 1"
   ]
  },
  {
   "cell_type": "code",
   "execution_count": 9,
   "metadata": {},
   "outputs": [
    {
     "name": "stdout",
     "output_type": "stream",
     "text": [
      "min trn = -1.0\n",
      "max trn = 1.0\n"
     ]
    }
   ],
   "source": [
    "print('min trn =', np.min(xtrain[:,:-1]))\n",
    "print('max trn =', np.max(xtrain[:,:-1]))"
   ]
  },
  {
   "cell_type": "markdown",
   "metadata": {},
   "source": [
    "<h3><center><div style=\"direction:rtl;font-family:B Nazanin\">Test Windows</div></center></h1>"
   ]
  },
  {
   "cell_type": "code",
   "execution_count": 10,
   "metadata": {},
   "outputs": [],
   "source": [
    "wndws_test=np.empty((0,len(wndws1[0])), float)\n",
    "i=0\n",
    "windws=np.array([])\n",
    "for cls in range (0,cls_num):                                 #ساخت پنجره های داده های آموزش اصلی\n",
    "    vars()['wndws_tst'+str(cls)]=np.empty((0,len(wndws1[0])), float)\n",
    "    vars()['wndws_tst'+str(cls)]=np.append(vars()['wndws_tst'+str(cls)],vars()['ecg_tst'+str(cls)],axis=0)   "
   ]
  },
  {
   "cell_type": "code",
   "execution_count": 11,
   "metadata": {},
   "outputs": [
    {
     "name": "stdout",
     "output_type": "stream",
     "text": [
      "\n",
      " cls 0  >> \n",
      "max magnitude class 0  =  2.072583183149495\n",
      "min magnitude class 0  =  -1.6939263958932065\n",
      "after normalizing >>\n",
      "max magnitude class 0  =  1.1016146975829342\n",
      "min magnitude class 0  =  -0.9816839335302111\n",
      "\n",
      " cls 1  >> \n",
      "max magnitude class 1  =  1.9305638381922492\n",
      "min magnitude class 1  =  -1.651088332578463\n",
      "after normalizing >>\n",
      "max magnitude class 1  =  1.0230622073444215\n",
      "min magnitude class 1  =  -0.9579897209468395\n",
      "each class and its windows =\n",
      "0 212\t1 388\t\n",
      " max instance in classes of test windows = 388\n"
     ]
    }
   ],
   "source": [
    "#print(np.max(wndws_tst))\n",
    "for i in range (0,cls_num):                # Normalization test windows\n",
    "    cls=i\n",
    "    print('\\n cls', i, ' >> ')\n",
    "    print('max magnitude class', i , ' = ' ,np.max(vars()['wndws_tst'+str(cls)][:,:-1]))\n",
    "    print('min magnitude class', i , ' = ' ,np.min(vars()['wndws_tst'+str(cls)][:,:-1]))\n",
    "\n",
    "    vars()['wndws_tst'+str(i)][:,:-1]= 2*(vars()['wndws_tst'+str(i)][:,:-1]-mn_aug)/(mx_aug - mn_aug) - 1\n",
    "    \n",
    "    print('after normalizing >>')\n",
    "    print('max magnitude class', i , ' = ' ,np.max(vars()['wndws_tst'+str(cls)][:,:-1]))\n",
    "    print('min magnitude class', i , ' = ' ,np.min(vars()['wndws_tst'+str(cls)][:,:-1]))\n",
    "    \n",
    "print(\"each class and its windows =\")                    #تجمیع کلاس های تست\n",
    "cls_wndws=np.array([])\n",
    "for cls in range (0,cls_num):                                # آرایه ی تعداد پنجره ی هر کلاس\n",
    "    wns=len(vars()['wndws_tst'+str(cls)])\n",
    "    cls_wndws=np.append(cls_wndws,wns)\n",
    "    print(cls, wns, end='\\t')\n",
    "    wndws_test=np.append(wndws_test,vars()['wndws_tst'+str(cls)],axis=0)\n",
    "    \n",
    "mx_wndws=int(np.max(cls_wndws))                        # حداکثر تعداد پنجره ی موجود بین کلاس ها\n",
    "print('\\n max instance in classes of test windows =', mx_wndws)"
   ]
  },
  {
   "cell_type": "code",
   "execution_count": 12,
   "metadata": {},
   "outputs": [
    {
     "name": "stdout",
     "output_type": "stream",
     "text": [
      "min tst = -0.9816839335302111\n",
      "max tst = 1.1016146975829342\n"
     ]
    }
   ],
   "source": [
    "print('min tst =', np.min(wndws_test[:,:-1]))\n",
    "print('max tst =', np.max(wndws_test[:,:-1]))"
   ]
  },
  {
   "cell_type": "code",
   "execution_count": 13,
   "metadata": {},
   "outputs": [
    {
     "data": {
      "text/plain": [
       "600"
      ]
     },
     "execution_count": 13,
     "metadata": {},
     "output_type": "execute_result"
    }
   ],
   "source": [
    "len(wndws_test)"
   ]
  },
  {
   "cell_type": "code",
   "execution_count": 14,
   "metadata": {},
   "outputs": [
    {
     "data": {
      "text/plain": [
       "(600, 481)"
      ]
     },
     "execution_count": 14,
     "metadata": {},
     "output_type": "execute_result"
    }
   ],
   "source": [
    "np.shape(wndws_test)"
   ]
  },
  {
   "cell_type": "code",
   "execution_count": 15,
   "metadata": {},
   "outputs": [],
   "source": [
    "Xtest=wndws_test[:,:-1]\n",
    "ytest=np.int16(wndws_test[:,-1])"
   ]
  },
  {
   "cell_type": "code",
   "execution_count": 16,
   "metadata": {},
   "outputs": [
    {
     "name": "stdout",
     "output_type": "stream",
     "text": [
      "array([0, 0, 0, 0, 0, 0, 0, 0, 0, 0, 0, 0, 0, 0, 0, 0, 0, 0, 0, 0, 0, 0,\n",
      "       0, 0, 0, 0, 0, 0, 0, 0, 0, 0, 0, 0, 0, 0, 0, 0, 0, 0, 0, 0, 0, 0,\n",
      "       0, 0, 0, 0, 0, 0, 0, 0, 0, 0, 0, 0, 0, 0, 0, 0, 0, 0, 0, 0, 0, 0,\n",
      "       0, 0, 0, 0, 0, 0, 0, 0, 0, 0, 0, 0, 0, 0, 0, 0, 0, 0, 0, 0, 0, 0,\n",
      "       0, 0, 0, 0, 0, 0, 0, 0, 0, 0, 0, 0, 0, 0, 0, 0, 0, 0, 0, 0, 0, 0,\n",
      "       0, 0, 0, 0, 0, 0, 0, 0, 0, 0, 0, 0, 0, 0, 0, 0, 0, 0, 0, 0, 0, 0,\n",
      "       0, 0, 0, 0, 0, 0, 0, 0, 0, 0, 0, 0, 0, 0, 0, 0, 0, 0, 0, 0, 0, 0,\n",
      "       0, 0, 0, 0, 0, 0, 0, 0, 0, 0, 0, 0, 0, 0, 0, 0, 0, 0, 0, 0, 0, 0,\n",
      "       0, 0, 0, 0, 0, 0, 0, 0, 0, 0, 0, 0, 0, 0, 0, 0, 0, 0, 0, 0, 0, 0,\n",
      "       0, 0, 0, 0, 0, 0, 0, 0, 0, 0, 0, 0, 0, 0, 1, 1, 1, 1, 1, 1, 1, 1,\n",
      "       1, 1, 1, 1, 1, 1, 1, 1, 1, 1, 1, 1, 1, 1, 1, 1, 1, 1, 1, 1, 1, 1,\n",
      "       1, 1, 1, 1, 1, 1, 1, 1, 1, 1, 1, 1, 1, 1, 1, 1, 1, 1, 1, 1, 1, 1,\n",
      "       1, 1, 1, 1, 1, 1, 1, 1, 1, 1, 1, 1, 1, 1, 1, 1, 1, 1, 1, 1, 1, 1,\n",
      "       1, 1, 1, 1, 1, 1, 1, 1, 1, 1, 1, 1, 1, 1, 1, 1, 1, 1, 1, 1, 1, 1,\n",
      "       1, 1, 1, 1, 1, 1, 1, 1, 1, 1, 1, 1, 1, 1, 1, 1, 1, 1, 1, 1, 1, 1,\n",
      "       1, 1, 1, 1, 1, 1, 1, 1, 1, 1, 1, 1, 1, 1, 1, 1, 1, 1, 1, 1, 1, 1,\n",
      "       1, 1, 1, 1, 1, 1, 1, 1, 1, 1, 1, 1, 1, 1, 1, 1, 1, 1, 1, 1, 1, 1,\n",
      "       1, 1, 1, 1, 1, 1, 1, 1, 1, 1, 1, 1, 1, 1, 1, 1, 1, 1, 1, 1, 1, 1,\n",
      "       1, 1, 1, 1, 1, 1, 1, 1, 1, 1, 1, 1, 1, 1, 1, 1, 1, 1, 1, 1, 1, 1,\n",
      "       1, 1, 1, 1, 1, 1, 1, 1, 1, 1, 1, 1, 1, 1, 1, 1, 1, 1, 1, 1, 1, 1,\n",
      "       1, 1, 1, 1, 1, 1, 1, 1, 1, 1, 1, 1, 1, 1, 1, 1, 1, 1, 1, 1, 1, 1,\n",
      "       1, 1, 1, 1, 1, 1, 1, 1, 1, 1, 1, 1, 1, 1, 1, 1, 1, 1, 1, 1, 1, 1,\n",
      "       1, 1, 1, 1, 1, 1, 1, 1, 1, 1, 1, 1, 1, 1, 1, 1, 1, 1, 1, 1, 1, 1,\n",
      "       1, 1, 1, 1, 1, 1, 1, 1, 1, 1, 1, 1, 1, 1, 1, 1, 1, 1, 1, 1, 1, 1,\n",
      "       1, 1, 1, 1, 1, 1, 1, 1, 1, 1, 1, 1, 1, 1, 1, 1, 1, 1, 1, 1, 1, 1,\n",
      "       1, 1, 1, 1, 1, 1, 1, 1, 1, 1, 1, 1, 1, 1, 1, 1, 1, 1, 1, 1, 1, 1,\n",
      "       1, 1, 1, 1, 1, 1, 1, 1, 1, 1, 1, 1, 1, 1, 1, 1, 1, 1, 1, 1, 1, 1,\n",
      "       1, 1, 1, 1, 1, 1], dtype=int16)\n"
     ]
    }
   ],
   "source": [
    "fullprint(ytest)"
   ]
  },
  {
   "cell_type": "markdown",
   "metadata": {},
   "source": [
    "<h3><center><div style=\"direction:rtl;font-family:B Nazanin\">Train Windows</div></center></h1>"
   ]
  },
  {
   "cell_type": "code",
   "execution_count": 17,
   "metadata": {},
   "outputs": [
    {
     "data": {
      "text/plain": [
       "'\\nytestt=np.int32(np.array([ytest]).T)\\ntestx=np.concatenate((Xtest, ytestt), axis=1)\\ntestx=np.random.permutation(testx)\\nXtest=np.int32(testx[:,:-1])\\nytest=np.int32(testx[:,-1])'"
      ]
     },
     "execution_count": 17,
     "metadata": {},
     "output_type": "execute_result"
    }
   ],
   "source": [
    "#ytraint=np.int32(np.array([ytrain]).T)\n",
    "#trainx=np.concatenate((Xtrain, ytraint), axis=1)\n",
    "trainx=np.random.permutation(xtrain)\n",
    "Xtrain=np.array(trainx[:,:-1])\n",
    "ytrain=np.int16(trainx[:,-1])\n",
    "'''\n",
    "ytestt=np.int32(np.array([ytest]).T)\n",
    "testx=np.concatenate((Xtest, ytestt), axis=1)\n",
    "testx=np.random.permutation(testx)\n",
    "Xtest=np.int32(testx[:,:-1])\n",
    "ytest=np.int32(testx[:,-1])'''"
   ]
  },
  {
   "cell_type": "code",
   "execution_count": 18,
   "metadata": {},
   "outputs": [
    {
     "data": {
      "text/plain": [
       "(166, 481)"
      ]
     },
     "execution_count": 18,
     "metadata": {},
     "output_type": "execute_result"
    }
   ],
   "source": [
    "np.shape(wndws1)"
   ]
  },
  {
   "cell_type": "markdown",
   "metadata": {},
   "source": [
    "<h3><center><div style=\"direction:rtl;font-family:B Nazanin\">Validation Windows</div></center></h1>"
   ]
  },
  {
   "cell_type": "code",
   "execution_count": 19,
   "metadata": {},
   "outputs": [],
   "source": [
    "Xvalid=np.array(Xtrain)\n",
    "yvalid=np.array(ytrain)"
   ]
  },
  {
   "cell_type": "markdown",
   "metadata": {},
   "source": [
    "<h1><center><div style=\"direction:rtl;font-family:B Nazanin\">CNN And UnBalanced RAW Data</div></center></h1>\n",
    "<h1><center><div style=\"direction:rtl;font-family:Arial\">Cross Entropy Loss Function</div></center></h1>"
   ]
  },
  {
   "cell_type": "code",
   "execution_count": 20,
   "metadata": {
    "scrolled": true
   },
   "outputs": [
    {
     "name": "stdout",
     "output_type": "stream",
     "text": [
      "X_train =>  (291, 480)\n",
      "y_train =>  (291,)\n",
      "X_test  =>  (600, 480)\n",
      "y_test  =>  (600,)\n",
      "X_valid  =>  (291, 480)\n",
      "y_valid  =>  (291,)\n"
     ]
    }
   ],
   "source": [
    "X_train=np.array(Xtrain)\n",
    "y_train=np.array(ytrain)\n",
    "X_test=np.array(Xtest)\n",
    "y_test=np.array(ytest)\n",
    "X_valid=np.array(Xtrain)\n",
    "y_valid=np.array(ytrain)\n",
    "print('X_train => ', X_train.shape)\n",
    "print('y_train => ', y_train.shape)\n",
    "print('X_test  => ', X_test.shape)\n",
    "print('y_test  => ', y_test.shape)\n",
    "print('X_valid  => ', X_valid.shape)\n",
    "print('y_valid  => ', y_valid.shape)"
   ]
  },
  {
   "cell_type": "code",
   "execution_count": null,
   "metadata": {},
   "outputs": [],
   "source": [
    "if min(y_train)==1:\n",
    "    y_train=y_train-1\n",
    "    y_test=y_test-1\n",
    "    y_valid =y_valid-1"
   ]
  },
  {
   "cell_type": "code",
   "execution_count": 22,
   "metadata": {},
   "outputs": [],
   "source": [
    "y_train_cat=to_categorical(y_train)\n",
    "y_valid_cat=to_categorical(y_valid)\n",
    "y_test_cat=to_categorical(y_test)\n",
    "\n",
    "\n",
    "X_train = np.expand_dims(X_train, axis=2)\n",
    "X_valid = np.expand_dims(X_valid, axis=2)\n",
    "X_test = np.expand_dims(X_test, axis=2)\n",
    "#y_train=np.transpose([y_train])"
   ]
  },
  {
   "cell_type": "code",
   "execution_count": 23,
   "metadata": {
    "scrolled": true
   },
   "outputs": [
    {
     "name": "stdout",
     "output_type": "stream",
     "text": [
      "Epoch 1/1000\n",
      "4/4 [==============================] - 6s 204ms/step - loss: 4.8663 - accuracy: 0.5464 - val_loss: 0.6917 - val_accuracy: 0.5704\n",
      "Epoch 2/1000\n",
      "4/4 [==============================] - 0s 29ms/step - loss: 0.6985 - accuracy: 0.5155 - val_loss: 0.6915 - val_accuracy: 0.5704\n",
      "Epoch 3/1000\n",
      "4/4 [==============================] - 0s 28ms/step - loss: 0.7243 - accuracy: 0.5464 - val_loss: 0.6928 - val_accuracy: 0.5704\n",
      "Epoch 4/1000\n",
      "4/4 [==============================] - 0s 28ms/step - loss: 0.6870 - accuracy: 0.5430 - val_loss: 0.6892 - val_accuracy: 0.5704\n",
      "Epoch 5/1000\n",
      "4/4 [==============================] - 0s 28ms/step - loss: 0.6748 - accuracy: 0.5979 - val_loss: 0.6929 - val_accuracy: 0.5704\n",
      "Epoch 6/1000\n",
      "4/4 [==============================] - 0s 27ms/step - loss: 0.6435 - accuracy: 0.6838 - val_loss: 0.6917 - val_accuracy: 0.5704\n",
      "Epoch 7/1000\n",
      "4/4 [==============================] - 0s 27ms/step - loss: 0.6766 - accuracy: 0.7457 - val_loss: 0.6932 - val_accuracy: 0.4983\n",
      "Epoch 8/1000\n",
      "4/4 [==============================] - 0s 27ms/step - loss: 0.6623 - accuracy: 0.6254 - val_loss: 0.6953 - val_accuracy: 0.4296\n",
      "Epoch 9/1000\n",
      "4/4 [==============================] - 0s 33ms/step - loss: 0.6461 - accuracy: 0.5876 - val_loss: 0.6865 - val_accuracy: 0.5808\n",
      "Epoch 10/1000\n",
      "4/4 [==============================] - 0s 27ms/step - loss: 0.9819 - accuracy: 0.6838 - val_loss: 0.6917 - val_accuracy: 0.5704\n",
      "Epoch 11/1000\n",
      "4/4 [==============================] - 0s 27ms/step - loss: 0.6806 - accuracy: 0.5326 - val_loss: 0.6913 - val_accuracy: 0.5704\n",
      "Epoch 12/1000\n",
      "4/4 [==============================] - 0s 27ms/step - loss: 0.6767 - accuracy: 0.6220 - val_loss: 0.6904 - val_accuracy: 0.5704\n",
      "Epoch 13/1000\n",
      "4/4 [==============================] - 0s 26ms/step - loss: 0.6689 - accuracy: 0.5808 - val_loss: 0.6920 - val_accuracy: 0.5704\n",
      "Epoch 14/1000\n",
      "4/4 [==============================] - 0s 30ms/step - loss: 0.6277 - accuracy: 0.6289 - val_loss: 0.6866 - val_accuracy: 0.5842\n",
      "Epoch 15/1000\n",
      "4/4 [==============================] - 0s 27ms/step - loss: 0.9649 - accuracy: 0.5601 - val_loss: 0.6919 - val_accuracy: 0.5704\n",
      "Epoch 16/1000\n",
      "4/4 [==============================] - 0s 26ms/step - loss: 0.6618 - accuracy: 0.6151 - val_loss: 0.6857 - val_accuracy: 0.5704\n",
      "Epoch 17/1000\n",
      "4/4 [==============================] - 0s 27ms/step - loss: 0.6521 - accuracy: 0.6632 - val_loss: 0.6896 - val_accuracy: 0.5704\n",
      "Epoch 18/1000\n",
      "4/4 [==============================] - 0s 26ms/step - loss: 0.7646 - accuracy: 0.6735 - val_loss: 0.6918 - val_accuracy: 0.5704\n",
      "Epoch 19/1000\n",
      "4/4 [==============================] - 0s 27ms/step - loss: 0.6750 - accuracy: 0.5704 - val_loss: 0.6835 - val_accuracy: 0.5704\n",
      "Epoch 20/1000\n",
      "4/4 [==============================] - 0s 27ms/step - loss: 0.6621 - accuracy: 0.6151 - val_loss: 0.6865 - val_accuracy: 0.5704\n",
      "Epoch 21/1000\n",
      "4/4 [==============================] - 0s 27ms/step - loss: 0.6919 - accuracy: 0.6014 - val_loss: 0.6899 - val_accuracy: 0.5704\n",
      "Epoch 22/1000\n",
      "4/4 [==============================] - 0s 27ms/step - loss: 0.6449 - accuracy: 0.6873 - val_loss: 0.6909 - val_accuracy: 0.5704\n",
      "Epoch 23/1000\n",
      "4/4 [==============================] - 0s 27ms/step - loss: 0.6328 - accuracy: 0.6495 - val_loss: 0.6962 - val_accuracy: 0.4296\n",
      "Epoch 24/1000\n",
      "4/4 [==============================] - 0s 30ms/step - loss: 0.6049 - accuracy: 0.6907 - val_loss: 0.6812 - val_accuracy: 0.7698\n",
      "Epoch 25/1000\n",
      "4/4 [==============================] - 0s 27ms/step - loss: 0.6414 - accuracy: 0.6667 - val_loss: 0.6867 - val_accuracy: 0.6254\n",
      "Epoch 26/1000\n",
      "4/4 [==============================] - 0s 27ms/step - loss: 0.6541 - accuracy: 0.6186 - val_loss: 0.6821 - val_accuracy: 0.6598\n",
      "Epoch 27/1000\n",
      "4/4 [==============================] - 0s 27ms/step - loss: 0.5889 - accuracy: 0.7079 - val_loss: 0.6801 - val_accuracy: 0.6907\n",
      "Epoch 28/1000\n",
      "4/4 [==============================] - 0s 26ms/step - loss: 0.5384 - accuracy: 0.7216 - val_loss: 0.6796 - val_accuracy: 0.7629\n",
      "Epoch 29/1000\n",
      "4/4 [==============================] - 0s 27ms/step - loss: 0.5953 - accuracy: 0.6976 - val_loss: 0.6844 - val_accuracy: 0.7320\n",
      "Epoch 30/1000\n",
      "4/4 [==============================] - 0s 27ms/step - loss: 0.5487 - accuracy: 0.7629 - val_loss: 0.6920 - val_accuracy: 0.4330\n",
      "Epoch 31/1000\n",
      "4/4 [==============================] - 0s 27ms/step - loss: 0.6228 - accuracy: 0.6598 - val_loss: 0.6838 - val_accuracy: 0.7526\n",
      "Epoch 32/1000\n",
      "4/4 [==============================] - 0s 27ms/step - loss: 0.4883 - accuracy: 0.7663 - val_loss: 0.6776 - val_accuracy: 0.6976\n",
      "Epoch 33/1000\n",
      "4/4 [==============================] - 0s 27ms/step - loss: 0.5522 - accuracy: 0.7732 - val_loss: 0.6751 - val_accuracy: 0.6014\n",
      "Epoch 34/1000\n",
      "4/4 [==============================] - 0s 27ms/step - loss: 0.5578 - accuracy: 0.7148 - val_loss: 0.6722 - val_accuracy: 0.5911\n",
      "Epoch 35/1000\n",
      "4/4 [==============================] - 0s 27ms/step - loss: 0.4864 - accuracy: 0.7766 - val_loss: 0.6509 - val_accuracy: 0.6082\n",
      "Epoch 36/1000\n",
      "4/4 [==============================] - 0s 27ms/step - loss: 0.7521 - accuracy: 0.7113 - val_loss: 0.6776 - val_accuracy: 0.5945\n",
      "Epoch 37/1000\n",
      "4/4 [==============================] - 0s 27ms/step - loss: 0.5148 - accuracy: 0.7595 - val_loss: 0.6749 - val_accuracy: 0.6667\n",
      "Epoch 38/1000\n",
      "4/4 [==============================] - 0s 27ms/step - loss: 0.4608 - accuracy: 0.7869 - val_loss: 0.6576 - val_accuracy: 0.7595\n",
      "Epoch 39/1000\n",
      "4/4 [==============================] - 0s 27ms/step - loss: 0.4518 - accuracy: 0.7904 - val_loss: 0.6532 - val_accuracy: 0.7423\n",
      "Epoch 40/1000\n",
      "4/4 [==============================] - 0s 27ms/step - loss: 0.4560 - accuracy: 0.7973 - val_loss: 0.6558 - val_accuracy: 0.7320\n",
      "Epoch 41/1000\n",
      "4/4 [==============================] - 0s 27ms/step - loss: 0.5043 - accuracy: 0.7526 - val_loss: 0.6556 - val_accuracy: 0.7526\n",
      "Epoch 42/1000\n",
      "4/4 [==============================] - 0s 28ms/step - loss: 0.4808 - accuracy: 0.7698 - val_loss: 0.6711 - val_accuracy: 0.5945\n",
      "Epoch 43/1000\n",
      "4/4 [==============================] - 0s 27ms/step - loss: 0.4762 - accuracy: 0.7835 - val_loss: 0.6624 - val_accuracy: 0.7698\n",
      "Epoch 44/1000\n",
      "4/4 [==============================] - 0s 30ms/step - loss: 0.4376 - accuracy: 0.8076 - val_loss: 0.6375 - val_accuracy: 0.7869\n",
      "Epoch 45/1000\n",
      "4/4 [==============================] - 0s 27ms/step - loss: 0.5557 - accuracy: 0.7595 - val_loss: 0.6495 - val_accuracy: 0.6667\n",
      "Epoch 46/1000\n",
      "4/4 [==============================] - 0s 27ms/step - loss: 0.4468 - accuracy: 0.7904 - val_loss: 0.6485 - val_accuracy: 0.7285\n",
      "Epoch 47/1000\n",
      "4/4 [==============================] - 0s 30ms/step - loss: 0.3347 - accuracy: 0.8419 - val_loss: 0.6254 - val_accuracy: 0.7904\n",
      "Epoch 48/1000\n",
      "4/4 [==============================] - 0s 27ms/step - loss: 0.4101 - accuracy: 0.7904 - val_loss: 0.6358 - val_accuracy: 0.7560\n",
      "Epoch 49/1000\n",
      "4/4 [==============================] - 0s 31ms/step - loss: 0.3409 - accuracy: 0.8454 - val_loss: 0.6363 - val_accuracy: 0.7938\n",
      "Epoch 50/1000\n",
      "4/4 [==============================] - 0s 27ms/step - loss: 0.4212 - accuracy: 0.7973 - val_loss: 0.6389 - val_accuracy: 0.7010\n",
      "Epoch 51/1000\n",
      "4/4 [==============================] - 0s 30ms/step - loss: 0.4219 - accuracy: 0.7904 - val_loss: 0.5907 - val_accuracy: 0.8007\n",
      "Epoch 52/1000\n",
      "4/4 [==============================] - 0s 27ms/step - loss: 0.4003 - accuracy: 0.8007 - val_loss: 0.6183 - val_accuracy: 0.7904\n",
      "Epoch 53/1000\n",
      "4/4 [==============================] - 0s 27ms/step - loss: 0.3180 - accuracy: 0.8625 - val_loss: 0.6061 - val_accuracy: 0.7698\n",
      "Epoch 54/1000\n",
      "4/4 [==============================] - 0s 27ms/step - loss: 0.3943 - accuracy: 0.8351 - val_loss: 0.6305 - val_accuracy: 0.7285\n",
      "Epoch 55/1000\n",
      "4/4 [==============================] - 0s 31ms/step - loss: 0.3870 - accuracy: 0.8316 - val_loss: 0.6482 - val_accuracy: 0.8007\n",
      "Epoch 56/1000\n",
      "4/4 [==============================] - 0s 30ms/step - loss: 0.4517 - accuracy: 0.8076 - val_loss: 0.6297 - val_accuracy: 0.7869\n",
      "Epoch 57/1000\n",
      "4/4 [==============================] - 0s 30ms/step - loss: 0.3287 - accuracy: 0.8419 - val_loss: 0.6174 - val_accuracy: 0.7010\n",
      "Epoch 58/1000\n",
      "4/4 [==============================] - 0s 29ms/step - loss: 0.3213 - accuracy: 0.8179 - val_loss: 0.6239 - val_accuracy: 0.7045\n"
     ]
    },
    {
     "name": "stdout",
     "output_type": "stream",
     "text": [
      "Epoch 59/1000\n",
      "4/4 [==============================] - 0s 29ms/step - loss: 0.5073 - accuracy: 0.7766 - val_loss: 0.5907 - val_accuracy: 0.7766\n",
      "Epoch 60/1000\n",
      "4/4 [==============================] - 0s 29ms/step - loss: 0.3803 - accuracy: 0.8041 - val_loss: 0.6099 - val_accuracy: 0.7938\n",
      "Epoch 61/1000\n",
      "4/4 [==============================] - 0s 31ms/step - loss: 0.2533 - accuracy: 0.9038 - val_loss: 0.5464 - val_accuracy: 0.8076\n",
      "Epoch 62/1000\n",
      "4/4 [==============================] - 0s 28ms/step - loss: 0.5767 - accuracy: 0.8247 - val_loss: 0.5930 - val_accuracy: 0.7560\n",
      "Epoch 63/1000\n",
      "4/4 [==============================] - 0s 31ms/step - loss: 0.4119 - accuracy: 0.8110 - val_loss: 0.6000 - val_accuracy: 0.7457\n",
      "Epoch 64/1000\n",
      "4/4 [==============================] - 0s 30ms/step - loss: 0.3317 - accuracy: 0.8316 - val_loss: 0.5667 - val_accuracy: 0.7835\n",
      "Epoch 65/1000\n",
      "4/4 [==============================] - 0s 33ms/step - loss: 0.3579 - accuracy: 0.8351 - val_loss: 0.5869 - val_accuracy: 0.8213\n",
      "Epoch 66/1000\n",
      "4/4 [==============================] - 0s 28ms/step - loss: 0.3135 - accuracy: 0.8660 - val_loss: 0.5519 - val_accuracy: 0.7869\n",
      "Epoch 67/1000\n",
      "4/4 [==============================] - 0s 30ms/step - loss: 0.2384 - accuracy: 0.9038 - val_loss: 0.5289 - val_accuracy: 0.8213\n",
      "Epoch 68/1000\n",
      "4/4 [==============================] - 0s 30ms/step - loss: 0.2361 - accuracy: 0.9003 - val_loss: 0.5450 - val_accuracy: 0.7698\n",
      "Epoch 69/1000\n",
      "4/4 [==============================] - 0s 34ms/step - loss: 0.4159 - accuracy: 0.8110 - val_loss: 0.5497 - val_accuracy: 0.8316\n",
      "Epoch 70/1000\n",
      "4/4 [==============================] - 0s 29ms/step - loss: 0.2556 - accuracy: 0.8763 - val_loss: 0.6109 - val_accuracy: 0.6564\n",
      "Epoch 71/1000\n",
      "4/4 [==============================] - 0s 29ms/step - loss: 0.3381 - accuracy: 0.8385 - val_loss: 0.5389 - val_accuracy: 0.8179\n",
      "Epoch 72/1000\n",
      "4/4 [==============================] - 0s 29ms/step - loss: 0.2238 - accuracy: 0.8935 - val_loss: 0.5433 - val_accuracy: 0.7938\n",
      "Epoch 73/1000\n",
      "4/4 [==============================] - 0s 29ms/step - loss: 0.3302 - accuracy: 0.8351 - val_loss: 0.6053 - val_accuracy: 0.7285\n",
      "Epoch 74/1000\n",
      "4/4 [==============================] - 0s 30ms/step - loss: 0.3164 - accuracy: 0.8694 - val_loss: 0.5091 - val_accuracy: 0.8213\n",
      "Epoch 75/1000\n",
      "4/4 [==============================] - 0s 30ms/step - loss: 0.2052 - accuracy: 0.9038 - val_loss: 0.5854 - val_accuracy: 0.6976\n",
      "Epoch 76/1000\n",
      "4/4 [==============================] - 0s 30ms/step - loss: 0.4180 - accuracy: 0.7904 - val_loss: 0.5540 - val_accuracy: 0.7835\n",
      "Epoch 77/1000\n",
      "4/4 [==============================] - 0s 29ms/step - loss: 0.2267 - accuracy: 0.8866 - val_loss: 0.5242 - val_accuracy: 0.8282\n",
      "Epoch 78/1000\n",
      "4/4 [==============================] - 0s 33ms/step - loss: 0.2409 - accuracy: 0.8935 - val_loss: 0.4849 - val_accuracy: 0.8522\n",
      "Epoch 79/1000\n",
      "4/4 [==============================] - 0s 29ms/step - loss: 0.2741 - accuracy: 0.8797 - val_loss: 0.5819 - val_accuracy: 0.7216\n",
      "Epoch 80/1000\n",
      "4/4 [==============================] - 0s 29ms/step - loss: 0.2538 - accuracy: 0.8832 - val_loss: 0.5185 - val_accuracy: 0.7869\n",
      "Epoch 81/1000\n",
      "4/4 [==============================] - 0s 27ms/step - loss: 0.2197 - accuracy: 0.9107 - val_loss: 0.5112 - val_accuracy: 0.7835\n",
      "Epoch 82/1000\n",
      "4/4 [==============================] - 0s 30ms/step - loss: 0.3749 - accuracy: 0.8316 - val_loss: 0.5017 - val_accuracy: 0.7835\n",
      "Epoch 83/1000\n",
      "4/4 [==============================] - 0s 30ms/step - loss: 0.2721 - accuracy: 0.8591 - val_loss: 0.4502 - val_accuracy: 0.8282\n",
      "Epoch 84/1000\n",
      "4/4 [==============================] - 0s 33ms/step - loss: 0.2467 - accuracy: 0.8900 - val_loss: 0.4627 - val_accuracy: 0.8625\n",
      "Epoch 85/1000\n",
      "4/4 [==============================] - 0s 29ms/step - loss: 0.1583 - accuracy: 0.9244 - val_loss: 0.4382 - val_accuracy: 0.8179\n",
      "Epoch 86/1000\n",
      "4/4 [==============================] - 0s 30ms/step - loss: 0.1878 - accuracy: 0.9107 - val_loss: 0.4226 - val_accuracy: 0.8419\n",
      "Epoch 87/1000\n",
      "4/4 [==============================] - 0s 30ms/step - loss: 0.2408 - accuracy: 0.8900 - val_loss: 0.4707 - val_accuracy: 0.8316\n",
      "Epoch 88/1000\n",
      "4/4 [==============================] - 0s 30ms/step - loss: 0.4212 - accuracy: 0.8488 - val_loss: 0.4295 - val_accuracy: 0.8625\n",
      "Epoch 89/1000\n",
      "4/4 [==============================] - 0s 32ms/step - loss: 0.1801 - accuracy: 0.9175 - val_loss: 0.3824 - val_accuracy: 0.8694\n",
      "Epoch 90/1000\n",
      "4/4 [==============================] - 0s 28ms/step - loss: 0.3373 - accuracy: 0.8866 - val_loss: 0.5129 - val_accuracy: 0.8488\n",
      "Epoch 91/1000\n",
      "4/4 [==============================] - 0s 30ms/step - loss: 0.2892 - accuracy: 0.8660 - val_loss: 0.3858 - val_accuracy: 0.8522\n",
      "Epoch 92/1000\n",
      "4/4 [==============================] - 0s 30ms/step - loss: 0.1775 - accuracy: 0.9210 - val_loss: 0.3656 - val_accuracy: 0.8557\n",
      "Epoch 93/1000\n",
      "4/4 [==============================] - 0s 29ms/step - loss: 0.1203 - accuracy: 0.9519 - val_loss: 0.3889 - val_accuracy: 0.8385\n",
      "Epoch 94/1000\n",
      "4/4 [==============================] - 0s 29ms/step - loss: 0.1749 - accuracy: 0.9313 - val_loss: 0.5412 - val_accuracy: 0.7010\n",
      "Epoch 95/1000\n",
      "4/4 [==============================] - 0s 31ms/step - loss: 0.4481 - accuracy: 0.8007 - val_loss: 0.3867 - val_accuracy: 0.8797\n",
      "Epoch 96/1000\n",
      "4/4 [==============================] - 0s 30ms/step - loss: 0.1638 - accuracy: 0.9347 - val_loss: 0.2962 - val_accuracy: 0.8557\n",
      "Epoch 97/1000\n",
      "4/4 [==============================] - 0s 30ms/step - loss: 0.1208 - accuracy: 0.9622 - val_loss: 0.3176 - val_accuracy: 0.8729\n",
      "Epoch 98/1000\n",
      "4/4 [==============================] - 0s 28ms/step - loss: 0.1946 - accuracy: 0.9072 - val_loss: 0.4394 - val_accuracy: 0.7766\n",
      "Epoch 99/1000\n",
      "4/4 [==============================] - 0s 30ms/step - loss: 0.4013 - accuracy: 0.9141 - val_loss: 0.3063 - val_accuracy: 0.8625\n",
      "Epoch 100/1000\n",
      "4/4 [==============================] - 0s 33ms/step - loss: 0.1478 - accuracy: 0.9278 - val_loss: 0.2848 - val_accuracy: 0.8832\n",
      "Epoch 101/1000\n",
      "4/4 [==============================] - 0s 30ms/step - loss: 0.1282 - accuracy: 0.9416 - val_loss: 0.2340 - val_accuracy: 0.9107\n",
      "Epoch 102/1000\n",
      "4/4 [==============================] - 0s 28ms/step - loss: 0.2044 - accuracy: 0.9175 - val_loss: 0.3123 - val_accuracy: 0.9003\n",
      "Epoch 103/1000\n",
      "4/4 [==============================] - 0s 27ms/step - loss: 0.1527 - accuracy: 0.9485 - val_loss: 0.3060 - val_accuracy: 0.8866\n",
      "Epoch 104/1000\n",
      "4/4 [==============================] - 0s 28ms/step - loss: 0.2340 - accuracy: 0.9003 - val_loss: 0.3116 - val_accuracy: 0.9003\n",
      "Epoch 105/1000\n",
      "4/4 [==============================] - 0s 28ms/step - loss: 0.1460 - accuracy: 0.9381 - val_loss: 0.2612 - val_accuracy: 0.9003\n",
      "Epoch 106/1000\n",
      "4/4 [==============================] - 0s 27ms/step - loss: 0.2124 - accuracy: 0.9278 - val_loss: 0.2212 - val_accuracy: 0.9072\n",
      "Epoch 107/1000\n",
      "4/4 [==============================] - 0s 28ms/step - loss: 0.1787 - accuracy: 0.9107 - val_loss: 0.2829 - val_accuracy: 0.8729\n",
      "Epoch 108/1000\n",
      "4/4 [==============================] - 0s 29ms/step - loss: 0.1240 - accuracy: 0.9485 - val_loss: 0.1847 - val_accuracy: 0.9210\n",
      "Epoch 109/1000\n",
      "4/4 [==============================] - 0s 27ms/step - loss: 0.1238 - accuracy: 0.9485 - val_loss: 0.2256 - val_accuracy: 0.8969\n",
      "Epoch 110/1000\n",
      "4/4 [==============================] - 0s 27ms/step - loss: 0.2331 - accuracy: 0.8866 - val_loss: 0.3305 - val_accuracy: 0.8625\n",
      "Epoch 111/1000\n",
      "4/4 [==============================] - 0s 30ms/step - loss: 0.1630 - accuracy: 0.9244 - val_loss: 0.1754 - val_accuracy: 0.9210\n",
      "Epoch 112/1000\n",
      "4/4 [==============================] - 0s 30ms/step - loss: 0.0929 - accuracy: 0.9588 - val_loss: 0.2789 - val_accuracy: 0.8660\n",
      "Epoch 113/1000\n",
      "4/4 [==============================] - 0s 29ms/step - loss: 0.4447 - accuracy: 0.8419 - val_loss: 0.2526 - val_accuracy: 0.9210\n",
      "Epoch 114/1000\n",
      "4/4 [==============================] - 0s 27ms/step - loss: 0.1392 - accuracy: 0.9588 - val_loss: 0.2274 - val_accuracy: 0.8763\n",
      "Epoch 115/1000\n",
      "4/4 [==============================] - 0s 27ms/step - loss: 0.1124 - accuracy: 0.9416 - val_loss: 0.4350 - val_accuracy: 0.7835\n",
      "Epoch 116/1000\n",
      "4/4 [==============================] - 0s 29ms/step - loss: 0.2554 - accuracy: 0.8969 - val_loss: 0.1746 - val_accuracy: 0.9244\n",
      "Epoch 117/1000\n",
      "4/4 [==============================] - 0s 27ms/step - loss: 0.1133 - accuracy: 0.9725 - val_loss: 0.3447 - val_accuracy: 0.9072\n",
      "Epoch 118/1000\n",
      "4/4 [==============================] - 0s 27ms/step - loss: 0.0919 - accuracy: 0.9691 - val_loss: 0.1982 - val_accuracy: 0.9141\n",
      "Epoch 119/1000\n",
      "4/4 [==============================] - 0s 28ms/step - loss: 0.1664 - accuracy: 0.9381 - val_loss: 0.1990 - val_accuracy: 0.9107\n",
      "Epoch 120/1000\n",
      "4/4 [==============================] - 0s 27ms/step - loss: 0.1007 - accuracy: 0.9656 - val_loss: 0.1794 - val_accuracy: 0.9244\n",
      "Epoch 121/1000\n",
      "4/4 [==============================] - 0s 30ms/step - loss: 0.0978 - accuracy: 0.9588 - val_loss: 0.0839 - val_accuracy: 0.9691\n",
      "Epoch 122/1000\n",
      "4/4 [==============================] - 0s 28ms/step - loss: 0.1435 - accuracy: 0.9450 - val_loss: 0.6001 - val_accuracy: 0.6564\n",
      "Epoch 123/1000\n",
      "4/4 [==============================] - 0s 29ms/step - loss: 0.4433 - accuracy: 0.7801 - val_loss: 0.2046 - val_accuracy: 0.9278\n",
      "Epoch 124/1000\n",
      "4/4 [==============================] - 0s 28ms/step - loss: 0.1151 - accuracy: 0.9656 - val_loss: 0.2370 - val_accuracy: 0.9107\n",
      "Epoch 125/1000\n",
      "4/4 [==============================] - 0s 29ms/step - loss: 0.0743 - accuracy: 0.9794 - val_loss: 0.1251 - val_accuracy: 0.9622\n",
      "Epoch 126/1000\n",
      "4/4 [==============================] - 0s 26ms/step - loss: 0.2347 - accuracy: 0.9072 - val_loss: 0.2444 - val_accuracy: 0.9038\n",
      "Epoch 127/1000\n",
      "4/4 [==============================] - 0s 30ms/step - loss: 0.1206 - accuracy: 0.9656 - val_loss: 0.0796 - val_accuracy: 0.9725\n",
      "Epoch 128/1000\n",
      "4/4 [==============================] - 0s 28ms/step - loss: 0.0398 - accuracy: 0.9897 - val_loss: 0.0652 - val_accuracy: 0.9725\n",
      "Epoch 129/1000\n",
      "4/4 [==============================] - 0s 30ms/step - loss: 0.0238 - accuracy: 0.9966 - val_loss: 0.0730 - val_accuracy: 0.9794\n",
      "Epoch 130/1000\n",
      "4/4 [==============================] - 0s 27ms/step - loss: 0.0549 - accuracy: 0.9794 - val_loss: 0.4468 - val_accuracy: 0.8935\n",
      "Epoch 131/1000\n",
      "4/4 [==============================] - 0s 27ms/step - loss: 0.4444 - accuracy: 0.8522 - val_loss: 0.1541 - val_accuracy: 0.9485\n",
      "Epoch 132/1000\n",
      "4/4 [==============================] - 0s 27ms/step - loss: 0.0981 - accuracy: 0.9656 - val_loss: 1.3734 - val_accuracy: 0.7182\n",
      "Epoch 133/1000\n",
      "4/4 [==============================] - 0s 27ms/step - loss: 0.5793 - accuracy: 0.8488 - val_loss: 0.1937 - val_accuracy: 0.9244\n",
      "Epoch 134/1000\n",
      "4/4 [==============================] - 0s 28ms/step - loss: 0.0744 - accuracy: 0.9725 - val_loss: 0.0874 - val_accuracy: 0.9725\n",
      "Epoch 135/1000\n",
      "4/4 [==============================] - 0s 26ms/step - loss: 0.0588 - accuracy: 0.9794 - val_loss: 0.3763 - val_accuracy: 0.9141\n",
      "Epoch 136/1000\n",
      "4/4 [==============================] - 0s 27ms/step - loss: 0.1886 - accuracy: 0.9278 - val_loss: 0.0710 - val_accuracy: 0.9794\n",
      "Epoch 137/1000\n",
      "4/4 [==============================] - 0s 30ms/step - loss: 0.0317 - accuracy: 0.9897 - val_loss: 0.0243 - val_accuracy: 0.9966\n",
      "Epoch 138/1000\n",
      "4/4 [==============================] - 0s 28ms/step - loss: 0.0099 - accuracy: 1.0000 - val_loss: 0.0281 - val_accuracy: 0.9897\n",
      "Epoch 139/1000\n",
      "4/4 [==============================] - 0s 27ms/step - loss: 0.0173 - accuracy: 0.9863 - val_loss: 0.9637 - val_accuracy: 0.8557\n",
      "Epoch 140/1000\n",
      "4/4 [==============================] - 0s 26ms/step - loss: 0.5825 - accuracy: 0.8797 - val_loss: 0.1579 - val_accuracy: 0.9347\n",
      "Epoch 141/1000\n",
      "4/4 [==============================] - 0s 27ms/step - loss: 0.0769 - accuracy: 0.9691 - val_loss: 0.1626 - val_accuracy: 0.9278\n",
      "Epoch 142/1000\n",
      "4/4 [==============================] - 0s 28ms/step - loss: 0.1471 - accuracy: 0.9347 - val_loss: 0.1001 - val_accuracy: 0.9588\n",
      "Epoch 143/1000\n",
      "4/4 [==============================] - 0s 27ms/step - loss: 0.0929 - accuracy: 0.9588 - val_loss: 0.1400 - val_accuracy: 0.9416\n",
      "Epoch 144/1000\n",
      "4/4 [==============================] - 0s 27ms/step - loss: 0.0601 - accuracy: 0.9794 - val_loss: 0.0347 - val_accuracy: 0.9897\n",
      "Epoch 145/1000\n",
      "4/4 [==============================] - 0s 27ms/step - loss: 0.0103 - accuracy: 1.0000 - val_loss: 0.0114 - val_accuracy: 0.9966\n",
      "Epoch 146/1000\n",
      "4/4 [==============================] - 0s 30ms/step - loss: 0.0014 - accuracy: 1.0000 - val_loss: 0.0078 - val_accuracy: 1.0000\n",
      "Epoch 147/1000\n",
      "4/4 [==============================] - 0s 27ms/step - loss: 3.9657e-04 - accuracy: 1.0000 - val_loss: 0.0053 - val_accuracy: 1.0000\n",
      "Epoch 148/1000\n",
      "4/4 [==============================] - 0s 27ms/step - loss: 1.2833e-04 - accuracy: 1.0000 - val_loss: 0.0038 - val_accuracy: 1.0000\n",
      "Epoch 149/1000\n",
      "4/4 [==============================] - 0s 27ms/step - loss: 5.8865e-05 - accuracy: 1.0000 - val_loss: 0.0033 - val_accuracy: 1.0000\n",
      "Epoch 150/1000\n",
      "4/4 [==============================] - 0s 27ms/step - loss: 3.6037e-05 - accuracy: 1.0000 - val_loss: 0.0031 - val_accuracy: 1.0000\n",
      "Epoch 151/1000\n",
      "4/4 [==============================] - 0s 26ms/step - loss: 2.8242e-05 - accuracy: 1.0000 - val_loss: 0.0025 - val_accuracy: 1.0000\n",
      "Epoch 152/1000\n",
      "4/4 [==============================] - 0s 26ms/step - loss: 2.2811e-05 - accuracy: 1.0000 - val_loss: 0.0023 - val_accuracy: 1.0000\n",
      "Epoch 153/1000\n",
      "4/4 [==============================] - 0s 28ms/step - loss: 1.1794e-05 - accuracy: 1.0000 - val_loss: 0.0018 - val_accuracy: 1.0000\n",
      "Epoch 154/1000\n",
      "4/4 [==============================] - 0s 27ms/step - loss: 1.0696e-05 - accuracy: 1.0000 - val_loss: 0.0015 - val_accuracy: 1.0000\n",
      "Epoch 155/1000\n",
      "4/4 [==============================] - 0s 28ms/step - loss: 9.6589e-06 - accuracy: 1.0000 - val_loss: 0.0013 - val_accuracy: 1.0000\n",
      "Epoch 156/1000\n",
      "4/4 [==============================] - 0s 27ms/step - loss: 6.6354e-06 - accuracy: 1.0000 - val_loss: 8.4146e-04 - val_accuracy: 1.0000\n",
      "Epoch 157/1000\n",
      "4/4 [==============================] - 0s 27ms/step - loss: 4.7341e-06 - accuracy: 1.0000 - val_loss: 5.6665e-04 - val_accuracy: 1.0000\n",
      "Epoch 158/1000\n",
      "4/4 [==============================] - 0s 28ms/step - loss: 2.9531e-06 - accuracy: 1.0000 - val_loss: 5.4786e-04 - val_accuracy: 1.0000\n",
      "Epoch 159/1000\n",
      "4/4 [==============================] - 0s 28ms/step - loss: 2.1990e-06 - accuracy: 1.0000 - val_loss: 3.5602e-04 - val_accuracy: 1.0000\n",
      "Epoch 160/1000\n",
      "4/4 [==============================] - 0s 27ms/step - loss: 3.1537e-06 - accuracy: 1.0000 - val_loss: 4.2648e-04 - val_accuracy: 1.0000\n",
      "Epoch 161/1000\n",
      "4/4 [==============================] - 0s 28ms/step - loss: 1.7013e-06 - accuracy: 1.0000 - val_loss: 1.8948e-04 - val_accuracy: 1.0000\n",
      "Epoch 162/1000\n",
      "4/4 [==============================] - 0s 28ms/step - loss: 1.0688e-06 - accuracy: 1.0000 - val_loss: 1.8648e-04 - val_accuracy: 1.0000\n",
      "Epoch 163/1000\n",
      "4/4 [==============================] - 0s 28ms/step - loss: 1.1126e-06 - accuracy: 1.0000 - val_loss: 1.3332e-04 - val_accuracy: 1.0000\n",
      "Epoch 164/1000\n",
      "4/4 [==============================] - 0s 27ms/step - loss: 1.0925e-06 - accuracy: 1.0000 - val_loss: 2.0182e-04 - val_accuracy: 1.0000\n",
      "Epoch 165/1000\n",
      "4/4 [==============================] - 0s 27ms/step - loss: 1.0155e-06 - accuracy: 1.0000 - val_loss: 9.3915e-05 - val_accuracy: 1.0000\n",
      "Epoch 166/1000\n",
      "4/4 [==============================] - 0s 27ms/step - loss: 7.0132e-07 - accuracy: 1.0000 - val_loss: 8.0871e-05 - val_accuracy: 1.0000\n",
      "Epoch 167/1000\n",
      "4/4 [==============================] - 0s 28ms/step - loss: 5.8334e-07 - accuracy: 1.0000 - val_loss: 1.1445e-04 - val_accuracy: 1.0000\n",
      "Epoch 168/1000\n",
      "4/4 [==============================] - 0s 26ms/step - loss: 6.8657e-07 - accuracy: 1.0000 - val_loss: 3.9617e-05 - val_accuracy: 1.0000\n",
      "Epoch 169/1000\n",
      "4/4 [==============================] - 0s 28ms/step - loss: 4.1252e-07 - accuracy: 1.0000 - val_loss: 3.0836e-05 - val_accuracy: 1.0000\n",
      "Epoch 170/1000\n",
      "4/4 [==============================] - 0s 27ms/step - loss: 2.4129e-07 - accuracy: 1.0000 - val_loss: 3.3610e-05 - val_accuracy: 1.0000\n",
      "Epoch 171/1000\n",
      "4/4 [==============================] - 0s 29ms/step - loss: 4.4652e-07 - accuracy: 1.0000 - val_loss: 1.5342e-05 - val_accuracy: 1.0000\n",
      "Epoch 172/1000\n"
     ]
    },
    {
     "name": "stdout",
     "output_type": "stream",
     "text": [
      "4/4 [==============================] - 0s 27ms/step - loss: 2.3719e-07 - accuracy: 1.0000 - val_loss: 1.3794e-05 - val_accuracy: 1.0000\n",
      "Epoch 173/1000\n",
      "4/4 [==============================] - 0s 27ms/step - loss: 1.5362e-07 - accuracy: 1.0000 - val_loss: 9.9071e-06 - val_accuracy: 1.0000\n",
      "Epoch 174/1000\n",
      "4/4 [==============================] - 0s 27ms/step - loss: 1.6204e-04 - accuracy: 1.0000 - val_loss: 4.5017 - val_accuracy: 0.7973\n",
      "Epoch 175/1000\n",
      "4/4 [==============================] - 0s 26ms/step - loss: 2.6013 - accuracy: 0.7216 - val_loss: 0.3241 - val_accuracy: 0.8900\n",
      "Epoch 176/1000\n",
      "4/4 [==============================] - 0s 27ms/step - loss: 0.2640 - accuracy: 0.8935 - val_loss: 0.3215 - val_accuracy: 0.8351\n",
      "Epoch 177/1000\n",
      "4/4 [==============================] - 0s 27ms/step - loss: 0.1624 - accuracy: 0.9313 - val_loss: 0.1223 - val_accuracy: 0.9519\n",
      "Epoch 178/1000\n",
      "4/4 [==============================] - 0s 27ms/step - loss: 0.1146 - accuracy: 0.9450 - val_loss: 0.1045 - val_accuracy: 0.9725\n",
      "Epoch 179/1000\n",
      "4/4 [==============================] - 0s 28ms/step - loss: 0.0789 - accuracy: 0.9553 - val_loss: 0.0750 - val_accuracy: 0.9759\n",
      "Epoch 180/1000\n",
      "4/4 [==============================] - 0s 28ms/step - loss: 0.0620 - accuracy: 0.9691 - val_loss: 0.7813 - val_accuracy: 0.8076\n",
      "Epoch 181/1000\n",
      "4/4 [==============================] - 0s 28ms/step - loss: 0.4044 - accuracy: 0.8900 - val_loss: 0.0767 - val_accuracy: 0.9897\n",
      "Epoch 182/1000\n",
      "4/4 [==============================] - 0s 27ms/step - loss: 0.0744 - accuracy: 0.9759 - val_loss: 0.0515 - val_accuracy: 0.9759\n",
      "Epoch 183/1000\n",
      "4/4 [==============================] - 0s 28ms/step - loss: 0.0357 - accuracy: 0.9863 - val_loss: 0.0075 - val_accuracy: 1.0000\n",
      "Epoch 184/1000\n",
      "4/4 [==============================] - 0s 28ms/step - loss: 0.0102 - accuracy: 0.9966 - val_loss: 0.0161 - val_accuracy: 0.9897\n",
      "Epoch 185/1000\n",
      "4/4 [==============================] - 0s 27ms/step - loss: 0.0617 - accuracy: 0.9759 - val_loss: 0.0494 - val_accuracy: 0.9828\n",
      "Epoch 186/1000\n",
      "4/4 [==============================] - 0s 26ms/step - loss: 0.0112 - accuracy: 0.9966 - val_loss: 0.0098 - val_accuracy: 0.9966\n",
      "Epoch 187/1000\n",
      "4/4 [==============================] - 0s 27ms/step - loss: 0.0055 - accuracy: 1.0000 - val_loss: 0.0051 - val_accuracy: 0.9966\n",
      "Epoch 188/1000\n",
      "4/4 [==============================] - 0s 26ms/step - loss: 0.0013 - accuracy: 1.0000 - val_loss: 0.0040 - val_accuracy: 0.9966\n",
      "Epoch 189/1000\n",
      "4/4 [==============================] - 0s 26ms/step - loss: 1.2018e-04 - accuracy: 1.0000 - val_loss: 0.0065 - val_accuracy: 0.9966\n",
      "Epoch 190/1000\n",
      "4/4 [==============================] - 0s 27ms/step - loss: 4.2930e-05 - accuracy: 1.0000 - val_loss: 0.0024 - val_accuracy: 1.0000\n",
      "Epoch 191/1000\n",
      "4/4 [==============================] - 0s 26ms/step - loss: 3.0852e-05 - accuracy: 1.0000 - val_loss: 0.0019 - val_accuracy: 1.0000\n",
      "Epoch 192/1000\n",
      "4/4 [==============================] - 0s 31ms/step - loss: 1.8714e-05 - accuracy: 1.0000 - val_loss: 9.9469e-04 - val_accuracy: 1.0000\n",
      "Epoch 193/1000\n",
      "4/4 [==============================] - 0s 30ms/step - loss: 1.8461e-05 - accuracy: 1.0000 - val_loss: 5.4114e-04 - val_accuracy: 1.0000\n",
      "Epoch 194/1000\n",
      "4/4 [==============================] - 0s 29ms/step - loss: 1.1760e-05 - accuracy: 1.0000 - val_loss: 3.1457e-04 - val_accuracy: 1.0000\n",
      "Epoch 195/1000\n",
      "4/4 [==============================] - 0s 31ms/step - loss: 1.1118e-05 - accuracy: 1.0000 - val_loss: 2.4365e-04 - val_accuracy: 1.0000\n",
      "Epoch 196/1000\n",
      "4/4 [==============================] - 0s 32ms/step - loss: 6.1162e-06 - accuracy: 1.0000 - val_loss: 1.6610e-04 - val_accuracy: 1.0000\n",
      "4/4 [==============================] - 0s 5ms/step - loss: 0.0078 - accuracy: 1.0000\n",
      "np.shape(X_test)= (600, 480, 1)\n",
      "Accuracy=  1.0\n"
     ]
    }
   ],
   "source": [
    "#VGG16_1D\n",
    "\n",
    "accuracy=0\n",
    "acc_crs=np.array([])\n",
    "##for i in range (10):\n",
    "##    if accuracy<0.2 :\n",
    "\n",
    "verbose, epochs, batch_size = 1, 1000, 80\n",
    "n_timesteps, n_features, n_outputs = X_train.shape[1], X_train.shape[2], y_train_cat.shape[1]\n",
    "steps_per_epoch = len(X_train)//batch_size\n",
    "validation_steps = len(X_valid)//batch_size # if you have test data\n",
    "\n",
    "\n",
    "\n",
    "model_crs = Sequential()\n",
    "#model_crs.add(Conv1D(input_shape=x_train.shape[1:],filters=64,kernel_size=9,padding=\"same\", activation=\"relu\"))\n",
    "model_crs.add(Conv1D(filters=128, kernel_size=12, strides=1, activation='relu', input_shape=(n_timesteps,n_features))) #Replaced\n",
    "model_crs.add(BatchNormalization())\n",
    "model_crs.add(MaxPooling1D(pool_size=2,strides=3))\n",
    "\n",
    "model_crs.add(Conv1D(filters=32, kernel_size=7, strides=1, padding=\"same\", activation=\"relu\"))\n",
    "model_crs.add(BatchNormalization())\n",
    "model_crs.add(MaxPooling1D(pool_size=2,strides=2))\n",
    "\n",
    "model_crs.add(Conv1D(filters=32, kernel_size=10, strides=1, padding=\"same\", activation=\"relu\"))\n",
    "model_crs.add(Conv1D(filters=128, kernel_size=5, strides=2, padding=\"same\", activation=\"relu\"))\n",
    "model_crs.add(MaxPooling1D(pool_size=2,strides=2))\n",
    "\n",
    "model_crs.add(Conv1D(filters=256, kernel_size=15, strides=1, padding=\"same\", activation=\"relu\"))\n",
    "model_crs.add(MaxPooling1D(pool_size=2,strides=2))\n",
    "\n",
    "model_crs.add(Conv1D(filters=512, kernel_size=5, strides=1, padding=\"same\", activation=\"relu\"))\n",
    "#model_crs.add(Conv1D(filters=128, kernel_size=3, strides=1, padding=\"same\", activation=\"relu\"))\n",
    "\n",
    "\n",
    "model_crs.add(Flatten())\n",
    "model_crs.add(Dropout(0.1))\n",
    "model_crs.add(Dense(units=512,activation=\"relu\"))\n",
    "#model_crs.add(Dense(units=2048,activation=\"relu\"))\n",
    "model_crs.add(Dense(n_outputs, activation='softmax'))   #Replaced here from old Model\n",
    "\n",
    "model_crs.compile(optimizer='rmsprop', loss='categorical_crossentropy', metrics=['accuracy'])\n",
    "# fit network   #CategoricalCrossentropy #sparse_categorical_crossentropy #SparseCategoricalCrossentropy\n",
    "\n",
    "earlystopping = callbacks.EarlyStopping(monitor =\"val_accuracy\", mode =\"max\", patience = 50, restore_best_weights = True)\n",
    "\n",
    "model_crs.fit(X_train, y_train_cat, epochs=epochs, batch_size=batch_size, verbose=verbose, validation_data = (X_valid, y_valid_cat), callbacks =[earlystopping])\n",
    "\n",
    "_, accuracy = model_crs.evaluate(X_valid, y_valid_cat, batch_size=batch_size, verbose=1)\n",
    "\n",
    "print('np.shape(X_test)=',np.shape(X_test))\n",
    "\n",
    "print('Accuracy= ', accuracy)\n",
    "\n",
    "#y_pred_vgg = model_crs.predict_classes(X_test)\n"
   ]
  },
  {
   "cell_type": "code",
   "execution_count": 26,
   "metadata": {},
   "outputs": [
    {
     "name": "stdout",
     "output_type": "stream",
     "text": [
      "19/19 [==============================] - 0s 3ms/step\n",
      "[[163  49]\n",
      " [ 54 334]]\n",
      "              precision    recall  f1-score   support\n",
      "\n",
      "           0       0.75      0.77      0.76       212\n",
      "           1       0.87      0.86      0.87       388\n",
      "\n",
      "    accuracy                           0.83       600\n",
      "   macro avg       0.81      0.81      0.81       600\n",
      "weighted avg       0.83      0.83      0.83       600\n",
      "\n"
     ]
    }
   ],
   "source": [
    "predict_x=model_crs.predict(X_test)              # Function 1\n",
    "\n",
    "y_pred_crs=np.argmax(predict_x,axis=1)                    # function from augment.py to remove 0 index predictions\n",
    "\n",
    "#y_pred_crs = model_crs.predict_classes(X_test)\n",
    "\n",
    "cm = confusion_matrix(y_test, y_pred_crs)\n",
    "print(cm)\n",
    "acc3=accuracy_score(y_test, y_pred_crs)\n",
    "\n",
    "print(classification_report(y_test, y_pred_crs))\n",
    "\n",
    "#sns.heatmap(cm, annot=True)\n",
    "\n",
    "#plt.imshow(cm)"
   ]
  },
  {
   "cell_type": "code",
   "execution_count": null,
   "metadata": {},
   "outputs": [],
   "source": []
  }
 ],
 "metadata": {
  "celltoolbar": "Raw Cell Format",
  "kernelspec": {
   "display_name": "Python 3 (ipykernel)",
   "language": "python",
   "name": "python3"
  },
  "language_info": {
   "codemirror_mode": {
    "name": "ipython",
    "version": 3
   },
   "file_extension": ".py",
   "mimetype": "text/x-python",
   "name": "python",
   "nbconvert_exporter": "python",
   "pygments_lexer": "ipython3",
   "version": "3.9.7"
  }
 },
 "nbformat": 4,
 "nbformat_minor": 4
}
