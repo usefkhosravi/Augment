{
 "cells": [
  {
   "cell_type": "markdown",
   "metadata": {},
   "source": [
    "import time\n",
    "plc=1\n",
    "time.sleep(3000*plc)         #run after 1 houre = 3600 seconds"
   ]
  },
  {
   "cell_type": "code",
   "execution_count": 1,
   "metadata": {},
   "outputs": [
    {
     "data": {
      "text/html": [
       "<style>#notebook { padding-top:0px !important; } .container { width:100% !important; } .end_space { min-height:0px !important; } html, body, .container{ margin:0!important;padding:0!important;}</style>"
      ],
      "text/plain": [
       "<IPython.core.display.HTML object>"
      ]
     },
     "metadata": {},
     "output_type": "display_data"
    }
   ],
   "source": [
    "import os\n",
    "import glob\n",
    "import scipy\n",
    "import random\n",
    "import bisect\n",
    "import numpy as np\n",
    "import pandas as pd\n",
    "import seaborn as sns\n",
    "from scipy import signal\n",
    "from scipy.signal import find_peaks\n",
    "import matplotlib.pyplot as plt\n",
    "from preprocess import *                         #ماژول استخراج پنجره ها\n",
    "from data import *                          #ماژول محلی ورود داده ها\n",
    "from augment import *                            #ماژول های داده افزایی\n",
    "from lstm_cnn import *                           #ماژول های داده افزایی با lstm_cnn\n",
    "import augment\n",
    "import importlib\n",
    "importlib.reload(augment)\n",
    "import tensorflow as tf\n",
    "from tensorflow import keras\n",
    "from tensorflow.keras.layers import BatchNormalization\n",
    "from sklearn.model_selection import train_test_split\n",
    "from sklearn.neural_network import MLPClassifier\n",
    "from sklearn.datasets import make_classification\n",
    "from sklearn.metrics import confusion_matrix, accuracy_score, classification_report,recall_score,precision_score\n",
    "from tensorflow.keras import callbacks\n",
    "from tensorflow.keras import layers\n",
    "from tensorflow.keras.models import Sequential\n",
    "from tensorflow.keras.layers import Convolution2D,Conv1D,Dropout,MaxPooling1D,MaxPooling2D,Flatten,Dense\n",
    "from tensorflow.keras import backend as K\n",
    "from tensorflow.keras.utils import to_categorical\n",
    "from tensorflow.keras.models import load_model\n",
    "cwd = os.getcwd() #\n",
    "fullscrn()"
   ]
  },
  {
   "cell_type": "markdown",
   "metadata": {},
   "source": [
    "<h1><center><div style=\"direction:rtl;font-family:B Nazanin\">Importing Data</div></center></h1>"
   ]
  },
  {
   "cell_type": "code",
   "execution_count": 2,
   "metadata": {
    "scrolled": true
   },
   "outputs": [
    {
     "name": "stdout",
     "output_type": "stream",
     "text": [
      "first_train_shape= (100, 1883)\n",
      "first_test_shape= (550, 1883)\n",
      "classes_quantity= 7\n",
      "tr_lbls=\t {1, 2, 3, 4, 5, 6, 7}\n",
      "Count_labels= [ 9 14 18 18 16 14 11]\n",
      "max(train_feature_Altitude)= 7.0\n",
      "min(train_feature_Altitude)= -2.2635\n",
      "first_train_sample=\n",
      " [ 2.       -0.036166 -0.15164  ... -0.12786  -0.19202  -0.11038 ]\n",
      "1 9\t2 14\t3 18\t4 18\t5 16\t6 14\t7 11\t"
     ]
    }
   ],
   "source": [
    "rate=1882\n",
    "cls_num=7\n",
    "btch=20\n",
    "for i in range (1,cls_num+1):\n",
    "    vars()['ecg'+str(i)],vars()['ecg_tst'+str(i)]=InlineSkate0(i)\n",
    "\n",
    "os.chdir(cwd)\n",
    "clses_lens=np.array([])\n",
    "i=0                               #جمع آوری داده ها و چاپ تعداد نمونه ی هر کلاس\n",
    "ecg=np.array(ecg1)\n",
    "print(1,len(vars()['ecg'+str(1)]), end='\\t')\n",
    "clses_lens=np.append(clses_lens,len(vars()['ecg'+str(1)]))\n",
    "for i in range (2,cls_num+1):\n",
    "    ecg=np.concatenate((ecg,vars()['ecg'+str(i)]),axis=0)\n",
    "    clses_lens=np.append(clses_lens,len(vars()['ecg'+str(i)]))\n",
    "    print(i,len(vars()['ecg'+str(i)]), end='\\t')\n",
    "\n",
    "mx_sig=max(clses_lens)"
   ]
  },
  {
   "cell_type": "code",
   "execution_count": 3,
   "metadata": {},
   "outputs": [
    {
     "data": {
      "text/plain": [
       "(100, 1883)"
      ]
     },
     "execution_count": 3,
     "metadata": {},
     "output_type": "execute_result"
    }
   ],
   "source": [
    "np.shape(ecg)"
   ]
  },
  {
   "cell_type": "code",
   "execution_count": 4,
   "metadata": {},
   "outputs": [
    {
     "data": {
      "text/plain": [
       "array([1., 1., 1., 1., 1., 1., 1., 1., 1., 2., 2., 2., 2., 2., 2., 2., 2.,\n",
       "       2., 2., 2., 2., 2., 2., 3., 3., 3., 3., 3., 3., 3., 3., 3., 3., 3.,\n",
       "       3., 3., 3., 3., 3., 3., 3., 4., 4., 4., 4., 4., 4., 4., 4., 4., 4.,\n",
       "       4., 4., 4., 4., 4., 4., 4., 4., 5., 5., 5., 5., 5., 5., 5., 5., 5.,\n",
       "       5., 5., 5., 5., 5., 5., 5., 6., 6., 6., 6., 6., 6., 6., 6., 6., 6.,\n",
       "       6., 6., 6., 6., 7., 7., 7., 7., 7., 7., 7., 7., 7., 7., 7.])"
      ]
     },
     "execution_count": 4,
     "metadata": {},
     "output_type": "execute_result"
    }
   ],
   "source": [
    "ecg[:,-1]"
   ]
  },
  {
   "cell_type": "markdown",
   "metadata": {},
   "source": [
    "<h2><center><div style=\"direction:rtl;font-family:B Nazanin\">Base Train windows</div></center></h1>"
   ]
  },
  {
   "cell_type": "code",
   "execution_count": 5,
   "metadata": {},
   "outputs": [
    {
     "name": "stdout",
     "output_type": "stream",
     "text": [
      "each class and its windows =\n",
      "1 9\t2 14\t3 18\t4 18\t5 16\t6 14\t7 11\t\n",
      " max = 18\n"
     ]
    }
   ],
   "source": [
    "smpl_rte=rate                                              # در ماژول ها نیز همین مقدار ثبت شده\n",
    "i=0\n",
    "windws=np.array([])\n",
    "\n",
    "for cls in range (1,cls_num+1):                                 #ساخت پنجره های داده های آموزش اصلی\n",
    "    vars()['wndws'+str(cls)]=np.array(vars()['ecg'+str(cls)])  \n",
    "    \n",
    "print(\"each class and its windows =\")\n",
    "\n",
    "cls_wndws=np.array([])\n",
    "for cls in range (1,cls_num+1):                                # آرایه ی تعداد پنجره ی هر کلاس\n",
    "    wns=len(vars()['wndws'+str(cls)])\n",
    "    cls_wndws=np.append(cls_wndws,wns)\n",
    "    print(cls, wns, end='\\t')\n",
    "\n",
    "mx_wndws=int(np.max(cls_wndws))                        # حداکثر تعداد پنجره ی موجود بین کلاس ها\n",
    "print('\\n max =', mx_wndws)"
   ]
  },
  {
   "cell_type": "raw",
   "metadata": {},
   "source": [
    "#clses=3                                   #تعیین میزان افزایش نمونه (تولید داده)\n",
    "mx_wndws=int(mx_wndws)  #mx_wndws*0.3  # =classes-1 برای بررسی الگوریتم تعداد کمی کلاس آزمایش شد\n",
    "mx_wndws=2598           #+2\n",
    "print(mx_wndws)"
   ]
  },
  {
   "cell_type": "markdown",
   "metadata": {},
   "source": [
    "<h1><center><div style=\"direction:rtl;font-family:B Nazanin\">Data Augmentation</div></center></h1>"
   ]
  },
  {
   "cell_type": "code",
   "execution_count": 6,
   "metadata": {},
   "outputs": [
    {
     "name": "stdout",
     "output_type": "stream",
     "text": [
      "Up to class  1 train shape =  (9, 1883)\n",
      "Up to class  2 train shape =  (23, 1883)\n",
      "Up to class  3 train shape =  (41, 1883)\n",
      "Up to class  4 train shape =  (59, 1883)\n",
      "Up to class  5 train shape =  (75, 1883)\n",
      "Up to class  6 train shape =  (89, 1883)\n",
      "Up to class  7 train shape =  (100, 1883)\n"
     ]
    }
   ],
   "source": [
    "smpl_rte=len(wndws1[0])                                        # در ماژول ها نیز همین مقدار ثبت شده\n",
    "\n",
    "#add augmented data to base data\n",
    "xtrain=np.empty((0,len(wndws1[0])), float) \n",
    "for i in range (1,cls_num+1):   \n",
    "    xtrain=np.append(xtrain,vars()['wndws'+str(i)],axis=0)\n",
    "    print('Up to class ', i, 'train shape = ', np.shape(xtrain))"
   ]
  },
  {
   "cell_type": "code",
   "execution_count": 7,
   "metadata": {},
   "outputs": [
    {
     "name": "stdout",
     "output_type": "stream",
     "text": [
      "[ 0  9 14 18 18 16 14 11]\n"
     ]
    }
   ],
   "source": [
    "print(np.bincount(np.int16(xtrain[:,-1])))    #تعداد پنجره در هر کلاس از 0 تا 17"
   ]
  },
  {
   "cell_type": "code",
   "execution_count": 8,
   "metadata": {},
   "outputs": [
    {
     "data": {
      "text/plain": [
       "array([1., 1., 1., 1., 1., 1., 1., 1., 1., 2., 2., 2., 2., 2., 2., 2., 2.,\n",
       "       2., 2., 2., 2., 2., 2., 3., 3., 3., 3., 3., 3., 3., 3., 3., 3., 3.,\n",
       "       3., 3., 3., 3., 3., 3., 3., 4., 4., 4., 4., 4., 4., 4., 4., 4., 4.,\n",
       "       4., 4., 4., 4., 4., 4., 4., 4., 5., 5., 5., 5., 5., 5., 5., 5., 5.,\n",
       "       5., 5., 5., 5., 5., 5., 5., 6., 6., 6., 6., 6., 6., 6., 6., 6., 6.,\n",
       "       6., 6., 6., 6., 7., 7., 7., 7., 7., 7., 7., 7., 7., 7., 7.])"
      ]
     },
     "execution_count": 8,
     "metadata": {},
     "output_type": "execute_result"
    }
   ],
   "source": [
    "xtrain[:,-1]"
   ]
  },
  {
   "cell_type": "code",
   "execution_count": 9,
   "metadata": {},
   "outputs": [],
   "source": [
    "mx_aug=np.max(xtrain[:,:-1])\n",
    "mx=np.max(ecg[:,:-1])\n",
    "mn_aug=np.min(xtrain[:,:-1])\n",
    "mn=np.min(ecg[:,:-1])\n",
    "\n",
    "#for i in range (1,cls_num+1):             #نرمالسازی داده های افزایشی\n",
    "xtrain[:,:-1]= 2*(xtrain[:,:-1]-mn_aug)/(mx_aug - mn_aug) - 1"
   ]
  },
  {
   "cell_type": "code",
   "execution_count": 10,
   "metadata": {},
   "outputs": [
    {
     "name": "stdout",
     "output_type": "stream",
     "text": [
      "min trn = -1.0\n",
      "max trn = 1.0\n"
     ]
    }
   ],
   "source": [
    "print('min trn =', np.min(xtrain[:,:-1]))\n",
    "print('max trn =', np.max(xtrain[:,:-1]))"
   ]
  },
  {
   "cell_type": "markdown",
   "metadata": {},
   "source": [
    "<h3><center><div style=\"direction:rtl;font-family:B Nazanin\">Test Windows</div></center></h1>"
   ]
  },
  {
   "cell_type": "code",
   "execution_count": 11,
   "metadata": {},
   "outputs": [],
   "source": [
    "wndws_test=np.empty((0,len(wndws1[0])), float)\n",
    "i=0\n",
    "windws=np.array([])\n",
    "for cls in range (1,cls_num+1):                                 #ساخت پنجره های داده های آموزش اصلی\n",
    "    vars()['wndws_tst'+str(cls)]=np.empty((0,len(wndws1[0])), float)\n",
    "    vars()['wndws_tst'+str(cls)]=np.append(vars()['wndws_tst'+str(cls)],vars()['ecg_tst'+str(cls)],axis=0)   "
   ]
  },
  {
   "cell_type": "code",
   "execution_count": 12,
   "metadata": {},
   "outputs": [
    {
     "name": "stdout",
     "output_type": "stream",
     "text": [
      "\n",
      " cls 1  >> \n",
      "max magnitude class 1  =  3.477399999999998\n",
      "min magnitude class 1  =  -2.5181999999999993\n",
      "after normalizing >>\n",
      "max magnitude class 1  =  0.7389289392378988\n",
      "min magnitude class 1  =  -1.0771490882655848\n",
      "\n",
      " cls 2  >> \n",
      "max magnitude class 2  =  3.407200000000001\n",
      "min magnitude class 2  =  -2.3568000000000002\n",
      "after normalizing >>\n",
      "max magnitude class 2  =  0.7176652329314843\n",
      "min magnitude class 2  =  -1.0282607378687836\n",
      "\n",
      " cls 3  >> \n",
      "max magnitude class 3  =  3.340299999999999\n",
      "min magnitude class 3  =  -2.4181999999999992\n",
      "after normalizing >>\n",
      "max magnitude class 3  =  0.6974011025625495\n",
      "min magnitude class 3  =  -1.0468589083419158\n",
      "\n",
      " cls 4  >> \n",
      "max magnitude class 4  =  3.4306\n",
      "min magnitude class 4  =  -2.2704999999999997\n",
      "after normalizing >>\n",
      "max magnitude class 4  =  0.7247531350336227\n",
      "min magnitude class 4  =  -1.0021203125946572\n",
      "\n",
      " cls 5  >> \n",
      "max magnitude class 5  =  3.6146999999999987\n",
      "min magnitude class 5  =  -2.0925999999999987\n",
      "after normalizing >>\n",
      "max magnitude class 5  =  0.7805173562730963\n",
      "min magnitude class 5  =  -0.9482340825104502\n",
      "\n",
      " cls 6  >> \n",
      "max magnitude class 6  =  3.827199999999999\n",
      "min magnitude class 6  =  -2.500199999999999\n",
      "after normalizing >>\n",
      "max magnitude class 6  =  0.8448839886108925\n",
      "min magnitude class 6  =  -1.0716968558793243\n",
      "\n",
      " cls 7  >> \n",
      "max magnitude class 7  =  3.619499999999999\n",
      "min magnitude class 7  =  -2.5188999999999986\n",
      "after normalizing >>\n",
      "max magnitude class 7  =  0.7819712849094325\n",
      "min magnitude class 7  =  -1.07736111952505\n",
      "each class and its windows =\n",
      "1 53\t2 86\t3 85\t4 90\t5 101\t6 84\t7 51\t\n",
      " max instance in classes of test windows = 101\n"
     ]
    }
   ],
   "source": [
    "#print(np.max(wndws_tst))\n",
    "for i in range (1,cls_num+1):                # Normalization test windows\n",
    "    cls=i\n",
    "    print('\\n cls', i, ' >> ')\n",
    "    print('max magnitude class', i , ' = ' ,np.max(vars()['wndws_tst'+str(cls)][:,:-1]))\n",
    "    print('min magnitude class', i , ' = ' ,np.min(vars()['wndws_tst'+str(cls)][:,:-1]))\n",
    "\n",
    "    vars()['wndws_tst'+str(i)][:,:-1]= 2*(vars()['wndws_tst'+str(i)][:,:-1]-mn_aug)/(mx_aug - mn_aug) - 1\n",
    "    \n",
    "    print('after normalizing >>')\n",
    "    print('max magnitude class', i , ' = ' ,np.max(vars()['wndws_tst'+str(cls)][:,:-1]))\n",
    "    print('min magnitude class', i , ' = ' ,np.min(vars()['wndws_tst'+str(cls)][:,:-1]))\n",
    "    \n",
    "print(\"each class and its windows =\")                    #تجمیع کلاس های تست\n",
    "cls_wndws=np.array([])\n",
    "for cls in range (1,cls_num+1):                                # آرایه ی تعداد پنجره ی هر کلاس\n",
    "    wns=len(vars()['wndws_tst'+str(cls)])\n",
    "    cls_wndws=np.append(cls_wndws,wns)\n",
    "    print(cls, wns, end='\\t')\n",
    "    wndws_test=np.append(wndws_test,vars()['wndws_tst'+str(cls)],axis=0)\n",
    "    \n",
    "mx_wndws=int(np.max(cls_wndws))                        # حداکثر تعداد پنجره ی موجود بین کلاس ها\n",
    "print('\\n max instance in classes of test windows =', mx_wndws)"
   ]
  },
  {
   "cell_type": "code",
   "execution_count": 13,
   "metadata": {},
   "outputs": [
    {
     "name": "stdout",
     "output_type": "stream",
     "text": [
      "min tst = -1.07736111952505\n",
      "max tst = 0.8448839886108925\n"
     ]
    }
   ],
   "source": [
    "print('min tst =', np.min(wndws_test[:,:-1]))\n",
    "print('max tst =', np.max(wndws_test[:,:-1]))"
   ]
  },
  {
   "cell_type": "code",
   "execution_count": 14,
   "metadata": {},
   "outputs": [
    {
     "data": {
      "text/plain": [
       "550"
      ]
     },
     "execution_count": 14,
     "metadata": {},
     "output_type": "execute_result"
    }
   ],
   "source": [
    "len(wndws_test)"
   ]
  },
  {
   "cell_type": "code",
   "execution_count": 15,
   "metadata": {},
   "outputs": [
    {
     "data": {
      "text/plain": [
       "(550, 1883)"
      ]
     },
     "execution_count": 15,
     "metadata": {},
     "output_type": "execute_result"
    }
   ],
   "source": [
    "np.shape(wndws_test)"
   ]
  },
  {
   "cell_type": "code",
   "execution_count": 16,
   "metadata": {},
   "outputs": [],
   "source": [
    "Xtest=wndws_test[:,:-1]\n",
    "ytest=np.int16(wndws_test[:,-1])"
   ]
  },
  {
   "cell_type": "code",
   "execution_count": 17,
   "metadata": {},
   "outputs": [
    {
     "name": "stdout",
     "output_type": "stream",
     "text": [
      "array([1, 1, 1, 1, 1, 1, 1, 1, 1, 1, 1, 1, 1, 1, 1, 1, 1, 1, 1, 1, 1, 1,\n",
      "       1, 1, 1, 1, 1, 1, 1, 1, 1, 1, 1, 1, 1, 1, 1, 1, 1, 1, 1, 1, 1, 1,\n",
      "       1, 1, 1, 1, 1, 1, 1, 1, 1, 2, 2, 2, 2, 2, 2, 2, 2, 2, 2, 2, 2, 2,\n",
      "       2, 2, 2, 2, 2, 2, 2, 2, 2, 2, 2, 2, 2, 2, 2, 2, 2, 2, 2, 2, 2, 2,\n",
      "       2, 2, 2, 2, 2, 2, 2, 2, 2, 2, 2, 2, 2, 2, 2, 2, 2, 2, 2, 2, 2, 2,\n",
      "       2, 2, 2, 2, 2, 2, 2, 2, 2, 2, 2, 2, 2, 2, 2, 2, 2, 2, 2, 2, 2, 2,\n",
      "       2, 2, 2, 2, 2, 2, 2, 3, 3, 3, 3, 3, 3, 3, 3, 3, 3, 3, 3, 3, 3, 3,\n",
      "       3, 3, 3, 3, 3, 3, 3, 3, 3, 3, 3, 3, 3, 3, 3, 3, 3, 3, 3, 3, 3, 3,\n",
      "       3, 3, 3, 3, 3, 3, 3, 3, 3, 3, 3, 3, 3, 3, 3, 3, 3, 3, 3, 3, 3, 3,\n",
      "       3, 3, 3, 3, 3, 3, 3, 3, 3, 3, 3, 3, 3, 3, 3, 3, 3, 3, 3, 3, 3, 3,\n",
      "       3, 3, 3, 3, 4, 4, 4, 4, 4, 4, 4, 4, 4, 4, 4, 4, 4, 4, 4, 4, 4, 4,\n",
      "       4, 4, 4, 4, 4, 4, 4, 4, 4, 4, 4, 4, 4, 4, 4, 4, 4, 4, 4, 4, 4, 4,\n",
      "       4, 4, 4, 4, 4, 4, 4, 4, 4, 4, 4, 4, 4, 4, 4, 4, 4, 4, 4, 4, 4, 4,\n",
      "       4, 4, 4, 4, 4, 4, 4, 4, 4, 4, 4, 4, 4, 4, 4, 4, 4, 4, 4, 4, 4, 4,\n",
      "       4, 4, 4, 4, 4, 4, 5, 5, 5, 5, 5, 5, 5, 5, 5, 5, 5, 5, 5, 5, 5, 5,\n",
      "       5, 5, 5, 5, 5, 5, 5, 5, 5, 5, 5, 5, 5, 5, 5, 5, 5, 5, 5, 5, 5, 5,\n",
      "       5, 5, 5, 5, 5, 5, 5, 5, 5, 5, 5, 5, 5, 5, 5, 5, 5, 5, 5, 5, 5, 5,\n",
      "       5, 5, 5, 5, 5, 5, 5, 5, 5, 5, 5, 5, 5, 5, 5, 5, 5, 5, 5, 5, 5, 5,\n",
      "       5, 5, 5, 5, 5, 5, 5, 5, 5, 5, 5, 5, 5, 5, 5, 5, 5, 5, 5, 6, 6, 6,\n",
      "       6, 6, 6, 6, 6, 6, 6, 6, 6, 6, 6, 6, 6, 6, 6, 6, 6, 6, 6, 6, 6, 6,\n",
      "       6, 6, 6, 6, 6, 6, 6, 6, 6, 6, 6, 6, 6, 6, 6, 6, 6, 6, 6, 6, 6, 6,\n",
      "       6, 6, 6, 6, 6, 6, 6, 6, 6, 6, 6, 6, 6, 6, 6, 6, 6, 6, 6, 6, 6, 6,\n",
      "       6, 6, 6, 6, 6, 6, 6, 6, 6, 6, 6, 6, 6, 6, 6, 7, 7, 7, 7, 7, 7, 7,\n",
      "       7, 7, 7, 7, 7, 7, 7, 7, 7, 7, 7, 7, 7, 7, 7, 7, 7, 7, 7, 7, 7, 7,\n",
      "       7, 7, 7, 7, 7, 7, 7, 7, 7, 7, 7, 7, 7, 7, 7, 7, 7, 7, 7, 7, 7, 7],\n",
      "      dtype=int16)\n"
     ]
    }
   ],
   "source": [
    "fullprint(ytest)"
   ]
  },
  {
   "cell_type": "markdown",
   "metadata": {},
   "source": [
    "<h3><center><div style=\"direction:rtl;font-family:B Nazanin\">Train Windows</div></center></h1>"
   ]
  },
  {
   "cell_type": "code",
   "execution_count": 18,
   "metadata": {},
   "outputs": [
    {
     "data": {
      "text/plain": [
       "'\\nytestt=np.int32(np.array([ytest]).T)\\ntestx=np.concatenate((Xtest, ytestt), axis=1)\\ntestx=np.random.permutation(testx)\\nXtest=np.int32(testx[:,:-1])\\nytest=np.int32(testx[:,-1])'"
      ]
     },
     "execution_count": 18,
     "metadata": {},
     "output_type": "execute_result"
    }
   ],
   "source": [
    "#ytraint=np.int32(np.array([ytrain]).T)\n",
    "#trainx=np.concatenate((Xtrain, ytraint), axis=1)\n",
    "trainx=np.random.permutation(xtrain)\n",
    "Xtrain=np.array(trainx[:,:-1])\n",
    "ytrain=np.int16(trainx[:,-1])\n",
    "'''\n",
    "ytestt=np.int32(np.array([ytest]).T)\n",
    "testx=np.concatenate((Xtest, ytestt), axis=1)\n",
    "testx=np.random.permutation(testx)\n",
    "Xtest=np.int32(testx[:,:-1])\n",
    "ytest=np.int32(testx[:,-1])'''"
   ]
  },
  {
   "cell_type": "code",
   "execution_count": 19,
   "metadata": {},
   "outputs": [
    {
     "data": {
      "text/plain": [
       "(9, 1883)"
      ]
     },
     "execution_count": 19,
     "metadata": {},
     "output_type": "execute_result"
    }
   ],
   "source": [
    "np.shape(wndws1)"
   ]
  },
  {
   "cell_type": "markdown",
   "metadata": {},
   "source": [
    "<h3><center><div style=\"direction:rtl;font-family:B Nazanin\">Validation Windows</div></center></h1>"
   ]
  },
  {
   "cell_type": "code",
   "execution_count": 20,
   "metadata": {},
   "outputs": [],
   "source": [
    "Xvalid=np.array(Xtrain)\n",
    "yvalid=np.array(ytrain)"
   ]
  },
  {
   "cell_type": "markdown",
   "metadata": {},
   "source": [
    "<h1><center><div style=\"direction:rtl;font-family:B Nazanin\">CNN And UnBalanced RAW Data</div></center></h1>\n",
    "<h1><center><div style=\"direction:rtl;font-family:Arial\">Cross Entropy Loss Function</div></center></h1>"
   ]
  },
  {
   "cell_type": "code",
   "execution_count": 21,
   "metadata": {
    "scrolled": true
   },
   "outputs": [
    {
     "name": "stdout",
     "output_type": "stream",
     "text": [
      "X_train =>  (100, 1882)\n",
      "y_train =>  (100,)\n",
      "X_test  =>  (550, 1882)\n",
      "y_test  =>  (550,)\n",
      "X_valid  =>  (100, 1882)\n",
      "y_valid  =>  (100,)\n"
     ]
    }
   ],
   "source": [
    "X_train=np.array(Xtrain)\n",
    "y_train=np.array(ytrain)\n",
    "X_test=np.array(Xtest)\n",
    "y_test=np.array(ytest)\n",
    "X_valid=np.array(Xtrain)\n",
    "y_valid=np.array(ytrain)\n",
    "print('X_train => ', X_train.shape)\n",
    "print('y_train => ', y_train.shape)\n",
    "print('X_test  => ', X_test.shape)\n",
    "print('y_test  => ', y_test.shape)\n",
    "print('X_valid  => ', X_valid.shape)\n",
    "print('y_valid  => ', y_valid.shape)"
   ]
  },
  {
   "cell_type": "markdown",
   "metadata": {},
   "source": [
    "y_train=np.array(y_train+1)\n",
    "y_test=np.array(y_test+1)\n",
    "y_valid=np.array(y_valid+1)"
   ]
  },
  {
   "cell_type": "code",
   "execution_count": 22,
   "metadata": {},
   "outputs": [],
   "source": [
    "y_train_cat=to_categorical(y_train)\n",
    "y_valid_cat=to_categorical(y_valid)\n",
    "y_test_cat=to_categorical(y_test)\n",
    "\n",
    "\n",
    "X_train = np.expand_dims(X_train, axis=2)\n",
    "X_valid = np.expand_dims(X_valid, axis=2)\n",
    "X_test = np.expand_dims(X_test, axis=2)\n",
    "#y_train=np.transpose([y_train])"
   ]
  },
  {
   "cell_type": "code",
   "execution_count": 23,
   "metadata": {
    "scrolled": true
   },
   "outputs": [
    {
     "name": "stdout",
     "output_type": "stream",
     "text": [
      "Epoch 1/1000\n",
      "2/2 [==============================] - 3s 363ms/step - loss: 10.5868 - accuracy: 0.0700 - val_loss: 2.0562 - val_accuracy: 0.1600\n",
      "Epoch 2/1000\n",
      "2/2 [==============================] - 0s 77ms/step - loss: 2.4094 - accuracy: 0.1700 - val_loss: 2.0570 - val_accuracy: 0.1900\n",
      "Epoch 3/1000\n",
      "2/2 [==============================] - 0s 58ms/step - loss: 1.9982 - accuracy: 0.2500 - val_loss: 2.0605 - val_accuracy: 0.1700\n",
      "Epoch 4/1000\n",
      "2/2 [==============================] - 0s 54ms/step - loss: 1.9019 - accuracy: 0.1900 - val_loss: 2.0611 - val_accuracy: 0.1800\n",
      "Epoch 5/1000\n",
      "2/2 [==============================] - 0s 80ms/step - loss: 1.8254 - accuracy: 0.3200 - val_loss: 1.9972 - val_accuracy: 0.2600\n",
      "Epoch 6/1000\n",
      "2/2 [==============================] - 0s 48ms/step - loss: 1.5420 - accuracy: 0.3700 - val_loss: 2.0137 - val_accuracy: 0.1800\n",
      "Epoch 7/1000\n",
      "2/2 [==============================] - 0s 52ms/step - loss: 1.9553 - accuracy: 0.3000 - val_loss: 2.0389 - val_accuracy: 0.1800\n",
      "Epoch 8/1000\n",
      "2/2 [==============================] - 0s 50ms/step - loss: 1.5418 - accuracy: 0.4200 - val_loss: 2.0217 - val_accuracy: 0.2000\n",
      "Epoch 9/1000\n",
      "2/2 [==============================] - 0s 51ms/step - loss: 1.4746 - accuracy: 0.3000 - val_loss: 2.0135 - val_accuracy: 0.2100\n",
      "Epoch 10/1000\n",
      "2/2 [==============================] - 0s 72ms/step - loss: 1.5267 - accuracy: 0.3900 - val_loss: 1.9844 - val_accuracy: 0.2700\n",
      "Epoch 11/1000\n",
      "2/2 [==============================] - 0s 70ms/step - loss: 1.2129 - accuracy: 0.5300 - val_loss: 1.9764 - val_accuracy: 0.3200\n",
      "Epoch 12/1000\n",
      "2/2 [==============================] - 0s 49ms/step - loss: 1.1091 - accuracy: 0.5500 - val_loss: 2.0022 - val_accuracy: 0.2500\n",
      "Epoch 13/1000\n",
      "2/2 [==============================] - 0s 50ms/step - loss: 1.1398 - accuracy: 0.5800 - val_loss: 1.9442 - val_accuracy: 0.2100\n",
      "Epoch 14/1000\n",
      "2/2 [==============================] - 0s 51ms/step - loss: 0.9654 - accuracy: 0.5800 - val_loss: 1.9659 - val_accuracy: 0.2500\n",
      "Epoch 15/1000\n",
      "2/2 [==============================] - 0s 49ms/step - loss: 0.8554 - accuracy: 0.6900 - val_loss: 1.9423 - val_accuracy: 0.2100\n",
      "Epoch 16/1000\n",
      "2/2 [==============================] - 0s 50ms/step - loss: 0.9332 - accuracy: 0.5900 - val_loss: 1.9329 - val_accuracy: 0.2400\n",
      "Epoch 17/1000\n",
      "2/2 [==============================] - 0s 50ms/step - loss: 0.9295 - accuracy: 0.6600 - val_loss: 1.9382 - val_accuracy: 0.2600\n",
      "Epoch 18/1000\n",
      "2/2 [==============================] - 0s 51ms/step - loss: 1.0121 - accuracy: 0.6100 - val_loss: 1.9214 - val_accuracy: 0.2100\n",
      "Epoch 19/1000\n",
      "2/2 [==============================] - 0s 49ms/step - loss: 0.6431 - accuracy: 0.7300 - val_loss: 1.8820 - val_accuracy: 0.2100\n",
      "Epoch 20/1000\n",
      "2/2 [==============================] - 0s 50ms/step - loss: 0.6093 - accuracy: 0.7500 - val_loss: 1.9776 - val_accuracy: 0.2700\n",
      "Epoch 21/1000\n",
      "2/2 [==============================] - 0s 52ms/step - loss: 1.2029 - accuracy: 0.6100 - val_loss: 1.8787 - val_accuracy: 0.2700\n",
      "Epoch 22/1000\n",
      "2/2 [==============================] - 0s 51ms/step - loss: 0.5154 - accuracy: 0.7500 - val_loss: 1.8686 - val_accuracy: 0.2500\n",
      "Epoch 23/1000\n",
      "2/2 [==============================] - 0s 50ms/step - loss: 0.4012 - accuracy: 0.8600 - val_loss: 1.8479 - val_accuracy: 0.2500\n",
      "Epoch 24/1000\n",
      "2/2 [==============================] - 0s 53ms/step - loss: 0.5946 - accuracy: 0.8000 - val_loss: 1.9233 - val_accuracy: 0.1900\n",
      "Epoch 25/1000\n",
      "2/2 [==============================] - 0s 52ms/step - loss: 0.5257 - accuracy: 0.8600 - val_loss: 1.9640 - val_accuracy: 0.1800\n",
      "Epoch 26/1000\n",
      "2/2 [==============================] - 0s 49ms/step - loss: 0.3339 - accuracy: 0.8700 - val_loss: 1.8660 - val_accuracy: 0.2000\n",
      "Epoch 27/1000\n",
      "2/2 [==============================] - 0s 50ms/step - loss: 0.5093 - accuracy: 0.8100 - val_loss: 1.9165 - val_accuracy: 0.1900\n",
      "Epoch 28/1000\n",
      "2/2 [==============================] - 0s 52ms/step - loss: 0.7213 - accuracy: 0.7700 - val_loss: 1.8868 - val_accuracy: 0.1700\n",
      "Epoch 29/1000\n",
      "2/2 [==============================] - 0s 51ms/step - loss: 0.2912 - accuracy: 0.8600 - val_loss: 2.0506 - val_accuracy: 0.1900\n",
      "Epoch 30/1000\n",
      "2/2 [==============================] - 0s 49ms/step - loss: 0.2435 - accuracy: 0.9100 - val_loss: 1.9016 - val_accuracy: 0.1700\n",
      "Epoch 31/1000\n",
      "2/2 [==============================] - 0s 49ms/step - loss: 0.2622 - accuracy: 0.8900 - val_loss: 2.1437 - val_accuracy: 0.1400\n",
      "Epoch 32/1000\n",
      "2/2 [==============================] - 0s 50ms/step - loss: 0.7982 - accuracy: 0.7400 - val_loss: 1.9070 - val_accuracy: 0.2400\n",
      "Epoch 33/1000\n",
      "2/2 [==============================] - 0s 49ms/step - loss: 0.7777 - accuracy: 0.7000 - val_loss: 2.0005 - val_accuracy: 0.2000\n",
      "Epoch 34/1000\n",
      "2/2 [==============================] - 0s 50ms/step - loss: 0.2483 - accuracy: 0.8700 - val_loss: 2.0409 - val_accuracy: 0.1900\n",
      "Epoch 35/1000\n",
      "2/2 [==============================] - 0s 52ms/step - loss: 0.3777 - accuracy: 0.8500 - val_loss: 2.0998 - val_accuracy: 0.2100\n",
      "Epoch 36/1000\n",
      "2/2 [==============================] - 0s 50ms/step - loss: 0.3004 - accuracy: 0.8900 - val_loss: 2.1150 - val_accuracy: 0.1800\n",
      "Epoch 37/1000\n",
      "2/2 [==============================] - 0s 51ms/step - loss: 0.1535 - accuracy: 0.9300 - val_loss: 1.9429 - val_accuracy: 0.2300\n",
      "Epoch 38/1000\n",
      "2/2 [==============================] - 0s 50ms/step - loss: 0.0635 - accuracy: 0.9800 - val_loss: 1.9255 - val_accuracy: 0.2400\n",
      "Epoch 39/1000\n",
      "2/2 [==============================] - 0s 51ms/step - loss: 0.2860 - accuracy: 0.9200 - val_loss: 1.8607 - val_accuracy: 0.1800\n",
      "Epoch 40/1000\n",
      "2/2 [==============================] - 0s 51ms/step - loss: 0.1436 - accuracy: 0.9600 - val_loss: 1.9537 - val_accuracy: 0.2000\n",
      "Epoch 41/1000\n",
      "2/2 [==============================] - 0s 49ms/step - loss: 0.0453 - accuracy: 0.9900 - val_loss: 2.0458 - val_accuracy: 0.1900\n",
      "Epoch 42/1000\n",
      "2/2 [==============================] - 0s 50ms/step - loss: 0.0201 - accuracy: 1.0000 - val_loss: 2.0797 - val_accuracy: 0.1800\n",
      "Epoch 43/1000\n",
      "2/2 [==============================] - 0s 50ms/step - loss: 0.0286 - accuracy: 0.9900 - val_loss: 2.1426 - val_accuracy: 0.2200\n",
      "Epoch 44/1000\n",
      "2/2 [==============================] - 0s 51ms/step - loss: 0.0091 - accuracy: 1.0000 - val_loss: 2.1324 - val_accuracy: 0.2200\n",
      "Epoch 45/1000\n",
      "2/2 [==============================] - 0s 50ms/step - loss: 0.0060 - accuracy: 1.0000 - val_loss: 2.1986 - val_accuracy: 0.2100\n",
      "Epoch 46/1000\n",
      "2/2 [==============================] - 0s 49ms/step - loss: 0.0094 - accuracy: 1.0000 - val_loss: 2.3304 - val_accuracy: 0.2000\n",
      "Epoch 47/1000\n",
      "2/2 [==============================] - 0s 51ms/step - loss: 0.0484 - accuracy: 0.9800 - val_loss: 2.5389 - val_accuracy: 0.1900\n",
      "Epoch 48/1000\n",
      "2/2 [==============================] - 0s 55ms/step - loss: 0.0575 - accuracy: 0.9800 - val_loss: 2.4696 - val_accuracy: 0.1300\n",
      "Epoch 49/1000\n",
      "2/2 [==============================] - 0s 56ms/step - loss: 0.0377 - accuracy: 0.9800 - val_loss: 3.2981 - val_accuracy: 0.1500\n",
      "Epoch 50/1000\n",
      "2/2 [==============================] - 0s 59ms/step - loss: 0.7536 - accuracy: 0.8000 - val_loss: 2.1858 - val_accuracy: 0.2500\n",
      "Epoch 51/1000\n",
      "2/2 [==============================] - 0s 57ms/step - loss: 1.6731 - accuracy: 0.7000 - val_loss: 2.2344 - val_accuracy: 0.2000\n",
      "Epoch 52/1000\n",
      "2/2 [==============================] - 0s 50ms/step - loss: 0.1990 - accuracy: 0.9200 - val_loss: 2.4752 - val_accuracy: 0.2000\n",
      "Epoch 53/1000\n",
      "2/2 [==============================] - 0s 52ms/step - loss: 0.1564 - accuracy: 0.9300 - val_loss: 2.7857 - val_accuracy: 0.2200\n",
      "Epoch 54/1000\n",
      "2/2 [==============================] - 0s 52ms/step - loss: 0.5284 - accuracy: 0.8300 - val_loss: 2.8722 - val_accuracy: 0.2400\n",
      "Epoch 55/1000\n",
      "2/2 [==============================] - 0s 50ms/step - loss: 0.3217 - accuracy: 0.9100 - val_loss: 2.1855 - val_accuracy: 0.2500\n",
      "Epoch 56/1000\n",
      "2/2 [==============================] - 0s 50ms/step - loss: 0.3298 - accuracy: 0.8900 - val_loss: 3.1151 - val_accuracy: 0.1600\n",
      "Epoch 57/1000\n",
      "2/2 [==============================] - 0s 50ms/step - loss: 0.1178 - accuracy: 0.9500 - val_loss: 2.8412 - val_accuracy: 0.2200\n",
      "Epoch 58/1000\n",
      "2/2 [==============================] - 0s 51ms/step - loss: 0.0278 - accuracy: 0.9900 - val_loss: 2.8971 - val_accuracy: 0.2000\n"
     ]
    },
    {
     "name": "stdout",
     "output_type": "stream",
     "text": [
      "Epoch 59/1000\n",
      "2/2 [==============================] - 0s 49ms/step - loss: 0.0481 - accuracy: 0.9900 - val_loss: 2.5414 - val_accuracy: 0.2100\n",
      "Epoch 60/1000\n",
      "2/2 [==============================] - 0s 52ms/step - loss: 0.0030 - accuracy: 1.0000 - val_loss: 2.6861 - val_accuracy: 0.2100\n",
      "Epoch 61/1000\n",
      "2/2 [==============================] - 0s 58ms/step - loss: 0.0018 - accuracy: 1.0000 - val_loss: 2.8780 - val_accuracy: 0.2100\n",
      "2/2 [==============================] - 0s 6ms/step - loss: 1.9764 - accuracy: 0.3200\n",
      "np.shape(X_test)= (550, 1882, 1)\n",
      "Accuracy=  0.3199999928474426\n"
     ]
    }
   ],
   "source": [
    "#VGG16_1D\n",
    "\n",
    "accuracy=0\n",
    "acc_crs=np.array([])\n",
    "##for i in range (10):\n",
    "##    if accuracy<0.2 :\n",
    "\n",
    "verbose, epochs, batch_size = 1, 1000, 80\n",
    "n_timesteps, n_features, n_outputs = X_train.shape[1], X_train.shape[2], y_train_cat.shape[1]\n",
    "steps_per_epoch = len(X_train)//batch_size\n",
    "validation_steps = len(X_valid)//batch_size # if you have test data\n",
    "\n",
    "\n",
    "\n",
    "model_crs = Sequential()\n",
    "#model_crs.add(Conv1D(input_shape=x_train.shape[1:],filters=64,kernel_size=9,padding=\"same\", activation=\"relu\"))\n",
    "model_crs.add(Conv1D(filters=128, kernel_size=12, strides=1, activation='relu', input_shape=(n_timesteps,n_features))) #Replaced\n",
    "model_crs.add(BatchNormalization())\n",
    "model_crs.add(MaxPooling1D(pool_size=2,strides=3))\n",
    "\n",
    "model_crs.add(Conv1D(filters=32, kernel_size=7, strides=1, padding=\"same\", activation=\"relu\"))\n",
    "model_crs.add(BatchNormalization())\n",
    "model_crs.add(MaxPooling1D(pool_size=2,strides=2))\n",
    "\n",
    "model_crs.add(Conv1D(filters=32, kernel_size=10, strides=1, padding=\"same\", activation=\"relu\"))\n",
    "model_crs.add(Conv1D(filters=128, kernel_size=5, strides=2, padding=\"same\", activation=\"relu\"))\n",
    "model_crs.add(MaxPooling1D(pool_size=2,strides=2))\n",
    "\n",
    "model_crs.add(Conv1D(filters=256, kernel_size=15, strides=1, padding=\"same\", activation=\"relu\"))\n",
    "model_crs.add(MaxPooling1D(pool_size=2,strides=2))\n",
    "\n",
    "model_crs.add(Conv1D(filters=512, kernel_size=5, strides=1, padding=\"same\", activation=\"relu\"))\n",
    "#model_crs.add(Conv1D(filters=128, kernel_size=3, strides=1, padding=\"same\", activation=\"relu\"))\n",
    "\n",
    "\n",
    "model_crs.add(Flatten())\n",
    "model_crs.add(Dropout(0.1))\n",
    "model_crs.add(Dense(units=512,activation=\"relu\"))\n",
    "#model_crs.add(Dense(units=2048,activation=\"relu\"))\n",
    "model_crs.add(Dense(n_outputs, activation='softmax'))   #Replaced here from old Model\n",
    "\n",
    "model_crs.compile(optimizer='rmsprop', loss='categorical_crossentropy', metrics=['accuracy'])\n",
    "# fit network   #CategoricalCrossentropy #sparse_categorical_crossentropy #SparseCategoricalCrossentropy\n",
    "\n",
    "earlystopping = callbacks.EarlyStopping(monitor =\"val_accuracy\", mode =\"max\", patience = 50, restore_best_weights = True)\n",
    "\n",
    "model_crs.fit(X_train, y_train_cat, epochs=epochs, batch_size=batch_size, verbose=verbose, validation_data = (X_valid, y_valid_cat), callbacks =[earlystopping])\n",
    "\n",
    "_, accuracy = model_crs.evaluate(X_valid, y_valid_cat, batch_size=batch_size, verbose=1)\n",
    "\n",
    "print('np.shape(X_test)=',np.shape(X_test))\n",
    "\n",
    "print('Accuracy= ', accuracy)\n",
    "\n",
    "#y_pred_vgg = model_crs.predict_classes(X_test)\n"
   ]
  },
  {
   "cell_type": "code",
   "execution_count": 24,
   "metadata": {},
   "outputs": [],
   "source": [
    "def maxindx(ar):\n",
    "    ar_cpy=np.array(ar)\n",
    "    pred=np.argmax(ar,axis=1)\n",
    "    for i in range (len(pred)):\n",
    "        if pred[i]==0:\n",
    "            ar_cpy[i,0]=-1000\n",
    "    pred=np.argmax(ar_cpy,axis=1)\n",
    "    return(pred)"
   ]
  },
  {
   "cell_type": "code",
   "execution_count": 25,
   "metadata": {},
   "outputs": [
    {
     "name": "stdout",
     "output_type": "stream",
     "text": [
      "18/18 [==============================] - 0s 7ms/step\n",
      "array([[ 0,  0, 23, 30,  0,  0,  0],\n",
      "       [ 0,  0, 36, 45,  0,  2,  3],\n",
      "       [ 0,  0, 27, 52,  0,  1,  5],\n",
      "       [ 0,  0,  6, 70,  0,  7,  7],\n",
      "       [ 0,  0, 15, 75,  0,  7,  4],\n",
      "       [ 0,  0,  9, 71,  0,  1,  3],\n",
      "       [ 0,  0,  0, 41,  1,  1,  8]], dtype=int64)\n",
      "              precision    recall  f1-score   support\n",
      "\n",
      "           1       0.00      0.00      0.00        53\n",
      "           2       0.00      0.00      0.00        86\n",
      "           3       0.23      0.32      0.27        85\n",
      "           4       0.18      0.78      0.30        90\n",
      "           5       0.00      0.00      0.00       101\n",
      "           6       0.05      0.01      0.02        84\n",
      "           7       0.27      0.16      0.20        51\n",
      "\n",
      "    accuracy                           0.19       550\n",
      "   macro avg       0.10      0.18      0.11       550\n",
      "weighted avg       0.10      0.19      0.11       550\n",
      "\n"
     ]
    },
    {
     "name": "stderr",
     "output_type": "stream",
     "text": [
      "C:\\ProgramData\\Anaconda3\\lib\\site-packages\\sklearn\\metrics\\_classification.py:1248: UndefinedMetricWarning: Precision and F-score are ill-defined and being set to 0.0 in labels with no predicted samples. Use `zero_division` parameter to control this behavior.\n",
      "  _warn_prf(average, modifier, msg_start, len(result))\n",
      "C:\\ProgramData\\Anaconda3\\lib\\site-packages\\sklearn\\metrics\\_classification.py:1248: UndefinedMetricWarning: Precision and F-score are ill-defined and being set to 0.0 in labels with no predicted samples. Use `zero_division` parameter to control this behavior.\n",
      "  _warn_prf(average, modifier, msg_start, len(result))\n",
      "C:\\ProgramData\\Anaconda3\\lib\\site-packages\\sklearn\\metrics\\_classification.py:1248: UndefinedMetricWarning: Precision and F-score are ill-defined and being set to 0.0 in labels with no predicted samples. Use `zero_division` parameter to control this behavior.\n",
      "  _warn_prf(average, modifier, msg_start, len(result))\n"
     ]
    }
   ],
   "source": [
    "predict_x=model_crs.predict(X_test)              # Function 1\n",
    "\n",
    "y_pred_crs=maxindx(predict_x)                    # function from augment.py to remove 0 index predictions\n",
    "\n",
    "#y_pred_crs = model_crs.predict_classes(X_test)\n",
    "\n",
    "cm = confusion_matrix(y_test, y_pred_crs)\n",
    "fullprint(cm)\n",
    "acc3=accuracy_score(y_test, y_pred_crs)\n",
    "\n",
    "print(classification_report(y_test, y_pred_crs))\n",
    "\n",
    "#sns.heatmap(cm, annot=True)\n",
    "\n",
    "#plt.imshow(cm)"
   ]
  },
  {
   "cell_type": "code",
   "execution_count": 26,
   "metadata": {},
   "outputs": [
    {
     "name": "stdout",
     "output_type": "stream",
     "text": [
      "Epoch 1/1000\n",
      "2/2 [==============================] - 2s 419ms/step - loss: 19.1868 - accuracy: 0.1900 - val_loss: 2.0975 - val_accuracy: 0.1600\n",
      "Epoch 2/1000\n",
      "2/2 [==============================] - 0s 115ms/step - loss: 4.0666 - accuracy: 0.1700 - val_loss: 2.0716 - val_accuracy: 0.1800\n",
      "Epoch 3/1000\n",
      "2/2 [==============================] - 0s 69ms/step - loss: 2.0607 - accuracy: 0.1600 - val_loss: 2.0515 - val_accuracy: 0.1800\n",
      "Epoch 4/1000\n",
      "2/2 [==============================] - 0s 70ms/step - loss: 2.4444 - accuracy: 0.2400 - val_loss: 2.0560 - val_accuracy: 0.1800\n",
      "Epoch 5/1000\n",
      "2/2 [==============================] - 0s 71ms/step - loss: 1.8642 - accuracy: 0.2800 - val_loss: 2.0562 - val_accuracy: 0.1600\n",
      "Epoch 6/1000\n",
      "2/2 [==============================] - 0s 117ms/step - loss: 1.8799 - accuracy: 0.3100 - val_loss: 2.0364 - val_accuracy: 0.1900\n",
      "Epoch 7/1000\n",
      "2/2 [==============================] - 0s 72ms/step - loss: 1.8117 - accuracy: 0.3100 - val_loss: 1.9956 - val_accuracy: 0.1900\n",
      "Epoch 8/1000\n",
      "2/2 [==============================] - 0s 71ms/step - loss: 1.8045 - accuracy: 0.4100 - val_loss: 2.0444 - val_accuracy: 0.1800\n",
      "Epoch 9/1000\n",
      "2/2 [==============================] - 0s 116ms/step - loss: 1.6710 - accuracy: 0.4100 - val_loss: 1.9917 - val_accuracy: 0.2500\n",
      "Epoch 10/1000\n",
      "2/2 [==============================] - 0s 70ms/step - loss: 1.5126 - accuracy: 0.3700 - val_loss: 1.9786 - val_accuracy: 0.1800\n",
      "Epoch 11/1000\n",
      "2/2 [==============================] - 0s 71ms/step - loss: 1.3435 - accuracy: 0.5000 - val_loss: 1.9233 - val_accuracy: 0.2200\n",
      "Epoch 12/1000\n",
      "2/2 [==============================] - 0s 111ms/step - loss: 1.5564 - accuracy: 0.4100 - val_loss: 1.9580 - val_accuracy: 0.2600\n",
      "Epoch 13/1000\n",
      "2/2 [==============================] - 0s 68ms/step - loss: 1.3419 - accuracy: 0.4900 - val_loss: 1.9704 - val_accuracy: 0.2600\n",
      "Epoch 14/1000\n",
      "2/2 [==============================] - 0s 70ms/step - loss: 1.2959 - accuracy: 0.4800 - val_loss: 1.9270 - val_accuracy: 0.1800\n",
      "Epoch 15/1000\n",
      "2/2 [==============================] - 0s 109ms/step - loss: 1.8853 - accuracy: 0.3100 - val_loss: 2.0172 - val_accuracy: 0.2900\n",
      "Epoch 16/1000\n",
      "2/2 [==============================] - 0s 71ms/step - loss: 1.7449 - accuracy: 0.3500 - val_loss: 2.0480 - val_accuracy: 0.1800\n",
      "Epoch 17/1000\n",
      "2/2 [==============================] - 0s 71ms/step - loss: 1.4384 - accuracy: 0.4200 - val_loss: 2.0150 - val_accuracy: 0.2700\n",
      "Epoch 18/1000\n",
      "2/2 [==============================] - 0s 73ms/step - loss: 1.3181 - accuracy: 0.4900 - val_loss: 1.8883 - val_accuracy: 0.2100\n",
      "Epoch 19/1000\n",
      "2/2 [==============================] - 0s 112ms/step - loss: 1.2414 - accuracy: 0.5300 - val_loss: 2.0425 - val_accuracy: 0.3900\n",
      "Epoch 20/1000\n",
      "2/2 [==============================] - 0s 71ms/step - loss: 1.3426 - accuracy: 0.5000 - val_loss: 2.0342 - val_accuracy: 0.3300\n",
      "Epoch 21/1000\n",
      "2/2 [==============================] - 0s 72ms/step - loss: 1.0972 - accuracy: 0.5400 - val_loss: 2.0008 - val_accuracy: 0.2500\n",
      "Epoch 22/1000\n",
      "2/2 [==============================] - 0s 69ms/step - loss: 1.2185 - accuracy: 0.6100 - val_loss: 2.0122 - val_accuracy: 0.2700\n",
      "Epoch 23/1000\n",
      "2/2 [==============================] - 0s 69ms/step - loss: 1.0588 - accuracy: 0.5300 - val_loss: 1.9830 - val_accuracy: 0.3000\n",
      "Epoch 24/1000\n",
      "2/2 [==============================] - 0s 69ms/step - loss: 1.0863 - accuracy: 0.5800 - val_loss: 1.9888 - val_accuracy: 0.2200\n",
      "Epoch 25/1000\n",
      "2/2 [==============================] - 0s 70ms/step - loss: 0.9459 - accuracy: 0.5900 - val_loss: 1.9499 - val_accuracy: 0.2600\n",
      "Epoch 26/1000\n",
      "2/2 [==============================] - 0s 70ms/step - loss: 0.5923 - accuracy: 0.8100 - val_loss: 1.9139 - val_accuracy: 0.2100\n",
      "Epoch 27/1000\n",
      "2/2 [==============================] - 0s 70ms/step - loss: 0.6735 - accuracy: 0.7400 - val_loss: 1.9130 - val_accuracy: 0.2400\n",
      "Epoch 28/1000\n",
      "2/2 [==============================] - 0s 70ms/step - loss: 0.4781 - accuracy: 0.7900 - val_loss: 1.9303 - val_accuracy: 0.2000\n",
      "Epoch 29/1000\n",
      "2/2 [==============================] - 0s 71ms/step - loss: 0.4819 - accuracy: 0.8100 - val_loss: 1.8359 - val_accuracy: 0.2500\n",
      "Epoch 30/1000\n",
      "2/2 [==============================] - 0s 72ms/step - loss: 1.3728 - accuracy: 0.6000 - val_loss: 1.9255 - val_accuracy: 0.2100\n",
      "Epoch 31/1000\n",
      "2/2 [==============================] - 0s 69ms/step - loss: 0.8854 - accuracy: 0.6600 - val_loss: 1.9729 - val_accuracy: 0.2200\n",
      "Epoch 32/1000\n",
      "2/2 [==============================] - 0s 72ms/step - loss: 0.4610 - accuracy: 0.8300 - val_loss: 2.0178 - val_accuracy: 0.1800\n",
      "Epoch 33/1000\n",
      "2/2 [==============================] - 0s 70ms/step - loss: 0.9219 - accuracy: 0.7000 - val_loss: 2.0199 - val_accuracy: 0.2500\n",
      "Epoch 34/1000\n",
      "2/2 [==============================] - 0s 72ms/step - loss: 0.4602 - accuracy: 0.8300 - val_loss: 1.8968 - val_accuracy: 0.2800\n",
      "Epoch 35/1000\n",
      "2/2 [==============================] - 0s 70ms/step - loss: 0.3348 - accuracy: 0.8300 - val_loss: 1.8655 - val_accuracy: 0.1900\n",
      "Epoch 36/1000\n",
      "2/2 [==============================] - 0s 70ms/step - loss: 0.4117 - accuracy: 0.8600 - val_loss: 1.9051 - val_accuracy: 0.1800\n",
      "Epoch 37/1000\n",
      "2/2 [==============================] - 0s 71ms/step - loss: 0.3914 - accuracy: 0.8500 - val_loss: 1.9111 - val_accuracy: 0.3100\n",
      "Epoch 38/1000\n",
      "2/2 [==============================] - 0s 70ms/step - loss: 0.3224 - accuracy: 0.8900 - val_loss: 2.2465 - val_accuracy: 0.1600\n",
      "Epoch 39/1000\n",
      "2/2 [==============================] - 0s 71ms/step - loss: 0.1647 - accuracy: 0.9500 - val_loss: 1.8720 - val_accuracy: 0.2300\n",
      "Epoch 40/1000\n",
      "2/2 [==============================] - 0s 71ms/step - loss: 0.0745 - accuracy: 0.9800 - val_loss: 1.8502 - val_accuracy: 0.2100\n",
      "Epoch 41/1000\n",
      "2/2 [==============================] - 0s 71ms/step - loss: 0.0993 - accuracy: 0.9700 - val_loss: 1.9924 - val_accuracy: 0.1800\n",
      "Epoch 42/1000\n",
      "2/2 [==============================] - 0s 70ms/step - loss: 0.0545 - accuracy: 0.9700 - val_loss: 1.9976 - val_accuracy: 0.2000\n",
      "Epoch 43/1000\n",
      "2/2 [==============================] - 0s 71ms/step - loss: 0.0248 - accuracy: 0.9900 - val_loss: 1.9875 - val_accuracy: 0.1900\n",
      "Epoch 44/1000\n",
      "2/2 [==============================] - 0s 69ms/step - loss: 0.0141 - accuracy: 0.9900 - val_loss: 1.8869 - val_accuracy: 0.2800\n",
      "Epoch 45/1000\n",
      "2/2 [==============================] - 0s 71ms/step - loss: 0.4739 - accuracy: 0.9000 - val_loss: 2.1759 - val_accuracy: 0.1500\n",
      "Epoch 46/1000\n",
      "2/2 [==============================] - 0s 71ms/step - loss: 1.0502 - accuracy: 0.5900 - val_loss: 1.7112 - val_accuracy: 0.3100\n",
      "Epoch 47/1000\n",
      "2/2 [==============================] - 0s 71ms/step - loss: 1.7863 - accuracy: 0.5800 - val_loss: 2.1967 - val_accuracy: 0.1900\n",
      "Epoch 48/1000\n",
      "2/2 [==============================] - 0s 72ms/step - loss: 1.6103 - accuracy: 0.5800 - val_loss: 2.2984 - val_accuracy: 0.2400\n",
      "Epoch 49/1000\n",
      "2/2 [==============================] - 0s 69ms/step - loss: 1.8411 - accuracy: 0.4800 - val_loss: 1.9341 - val_accuracy: 0.1800\n",
      "Epoch 50/1000\n",
      "2/2 [==============================] - 0s 70ms/step - loss: 0.5898 - accuracy: 0.8000 - val_loss: 1.9283 - val_accuracy: 0.2000\n",
      "Epoch 51/1000\n",
      "2/2 [==============================] - 0s 71ms/step - loss: 0.3376 - accuracy: 0.8900 - val_loss: 1.8328 - val_accuracy: 0.2300\n",
      "Epoch 52/1000\n",
      "2/2 [==============================] - 0s 71ms/step - loss: 0.3065 - accuracy: 0.9000 - val_loss: 2.1838 - val_accuracy: 0.2100\n",
      "Epoch 53/1000\n",
      "2/2 [==============================] - 0s 70ms/step - loss: 0.1504 - accuracy: 0.9500 - val_loss: 1.8701 - val_accuracy: 0.2400\n",
      "Epoch 54/1000\n",
      "2/2 [==============================] - 0s 69ms/step - loss: 0.0526 - accuracy: 0.9900 - val_loss: 1.8096 - val_accuracy: 0.2300\n",
      "Epoch 55/1000\n",
      "2/2 [==============================] - 0s 71ms/step - loss: 0.1178 - accuracy: 0.9600 - val_loss: 2.0181 - val_accuracy: 0.2400\n",
      "Epoch 56/1000\n",
      "2/2 [==============================] - 0s 70ms/step - loss: 0.0153 - accuracy: 1.0000 - val_loss: 2.0883 - val_accuracy: 0.2200\n",
      "Epoch 57/1000\n",
      "2/2 [==============================] - 0s 71ms/step - loss: 0.0073 - accuracy: 1.0000 - val_loss: 2.1606 - val_accuracy: 0.1900\n",
      "Epoch 58/1000\n",
      "2/2 [==============================] - 0s 72ms/step - loss: 0.0047 - accuracy: 1.0000 - val_loss: 2.2054 - val_accuracy: 0.1900\n"
     ]
    },
    {
     "name": "stdout",
     "output_type": "stream",
     "text": [
      "Epoch 59/1000\n",
      "2/2 [==============================] - 0s 69ms/step - loss: 0.0052 - accuracy: 1.0000 - val_loss: 2.5151 - val_accuracy: 0.1900\n",
      "Epoch 60/1000\n",
      "2/2 [==============================] - 0s 70ms/step - loss: 0.0231 - accuracy: 0.9900 - val_loss: 2.1845 - val_accuracy: 0.1900\n",
      "Epoch 61/1000\n",
      "2/2 [==============================] - 0s 72ms/step - loss: 0.1418 - accuracy: 0.9600 - val_loss: 1.9043 - val_accuracy: 0.2500\n",
      "Epoch 62/1000\n",
      "2/2 [==============================] - 0s 70ms/step - loss: 0.2805 - accuracy: 0.8900 - val_loss: 1.9457 - val_accuracy: 0.1600\n",
      "Epoch 63/1000\n",
      "2/2 [==============================] - 0s 71ms/step - loss: 0.7263 - accuracy: 0.8300 - val_loss: 1.9434 - val_accuracy: 0.1600\n",
      "Epoch 64/1000\n",
      "2/2 [==============================] - 0s 71ms/step - loss: 0.3887 - accuracy: 0.8700 - val_loss: 2.5390 - val_accuracy: 0.2400\n",
      "Epoch 65/1000\n",
      "2/2 [==============================] - 0s 71ms/step - loss: 2.0246 - accuracy: 0.6100 - val_loss: 2.0482 - val_accuracy: 0.2000\n",
      "Epoch 66/1000\n",
      "2/2 [==============================] - 0s 71ms/step - loss: 0.5169 - accuracy: 0.8000 - val_loss: 2.0128 - val_accuracy: 0.2100\n",
      "Epoch 67/1000\n",
      "2/2 [==============================] - 0s 72ms/step - loss: 0.0726 - accuracy: 0.9800 - val_loss: 2.2984 - val_accuracy: 0.2300\n",
      "Epoch 68/1000\n",
      "2/2 [==============================] - 0s 70ms/step - loss: 0.0281 - accuracy: 1.0000 - val_loss: 2.2825 - val_accuracy: 0.2200\n",
      "Epoch 69/1000\n",
      "2/2 [==============================] - 0s 84ms/step - loss: 0.0297 - accuracy: 0.9900 - val_loss: 2.4079 - val_accuracy: 0.2100\n",
      "2/2 [==============================] - 0s 9ms/step - loss: 2.0425 - accuracy: 0.3900\n",
      "np.shape(X_test)= (550, 1882, 1)\n",
      "Accuracy=  0.38999998569488525\n"
     ]
    }
   ],
   "source": [
    "#VGG16_1D\n",
    "\n",
    "accuracy=0\n",
    "acc_crs=np.array([])\n",
    "##for i in range (10):\n",
    "##    if accuracy<0.2 :\n",
    "\n",
    "verbose, epochs, batch_size = 1, 1000, 80\n",
    "n_timesteps, n_features, n_outputs = X_train.shape[1], X_train.shape[2], y_train_cat.shape[1]\n",
    "steps_per_epoch = len(X_train)//batch_size\n",
    "validation_steps = len(X_valid)//batch_size # if you have test data\n",
    "\n",
    "\n",
    "\n",
    "model_crs = Sequential()\n",
    "#model_crs.add(Conv1D(input_shape=x_train.shape[1:],filters=64,kernel_size=9,padding=\"same\", activation=\"relu\"))\n",
    "model_crs.add(Conv1D(filters=256, kernel_size=12, strides=1, activation='relu', input_shape=(n_timesteps,n_features))) #Replaced\n",
    "model_crs.add(BatchNormalization())\n",
    "model_crs.add(MaxPooling1D(pool_size=2,strides=3))\n",
    "\n",
    "model_crs.add(Conv1D(filters=64, kernel_size=7, strides=1, padding=\"same\", activation=\"relu\"))\n",
    "model_crs.add(BatchNormalization())\n",
    "model_crs.add(MaxPooling1D(pool_size=2,strides=2))\n",
    "\n",
    "model_crs.add(Conv1D(filters=64, kernel_size=10, strides=1, padding=\"same\", activation=\"relu\"))\n",
    "model_crs.add(Conv1D(filters=128, kernel_size=5, strides=2, padding=\"same\", activation=\"relu\"))\n",
    "model_crs.add(MaxPooling1D(pool_size=2,strides=2))\n",
    "\n",
    "model_crs.add(Conv1D(filters=512, kernel_size=15, strides=1, padding=\"same\", activation=\"relu\"))\n",
    "model_crs.add(MaxPooling1D(pool_size=2,strides=2))\n",
    "\n",
    "model_crs.add(Conv1D(filters=1024, kernel_size=5, strides=1, padding=\"same\", activation=\"relu\"))\n",
    "#model_crs.add(Conv1D(filters=128, kernel_size=3, strides=1, padding=\"same\", activation=\"relu\"))\n",
    "\n",
    "\n",
    "model_crs.add(Flatten())\n",
    "model_crs.add(Dropout(0.1))\n",
    "model_crs.add(Dense(units=512,activation=\"relu\"))\n",
    "#model_crs.add(Dense(units=2048,activation=\"relu\"))\n",
    "model_crs.add(Dense(n_outputs, activation='softmax'))   #Replaced here from old Model\n",
    "\n",
    "model_crs.compile(optimizer='rmsprop', loss='categorical_crossentropy', metrics=['accuracy'])\n",
    "# fit network   #CategoricalCrossentropy #sparse_categorical_crossentropy #SparseCategoricalCrossentropy\n",
    "\n",
    "earlystopping = callbacks.EarlyStopping(monitor =\"val_accuracy\", mode =\"max\", patience = 50, restore_best_weights = True)\n",
    "\n",
    "model_crs.fit(X_train, y_train_cat, epochs=epochs, batch_size=batch_size, verbose=verbose, validation_data = (X_valid, y_valid_cat), callbacks =[earlystopping])\n",
    "\n",
    "_, accuracy = model_crs.evaluate(X_valid, y_valid_cat, batch_size=batch_size, verbose=1)\n",
    "\n",
    "print('np.shape(X_test)=',np.shape(X_test))\n",
    "\n",
    "print('Accuracy= ', accuracy)\n",
    "\n",
    "#y_pred_vgg = model_crs.predict_classes(X_test)\n"
   ]
  },
  {
   "cell_type": "code",
   "execution_count": 27,
   "metadata": {},
   "outputs": [
    {
     "name": "stdout",
     "output_type": "stream",
     "text": [
      "18/18 [==============================] - 0s 10ms/step\n",
      "array([[ 6,  4, 21, 15,  1,  6,  0],\n",
      "       [ 3, 15, 15, 36,  3,  4, 10],\n",
      "       [ 3, 13, 18, 30,  2,  4, 15],\n",
      "       [ 0,  8, 11, 50,  2,  4, 15],\n",
      "       [ 0,  3, 22, 56,  3,  8,  9],\n",
      "       [ 0,  2, 16, 47,  3,  6, 10],\n",
      "       [ 0,  5,  0, 28,  2,  0, 16]], dtype=int64)\n",
      "              precision    recall  f1-score   support\n",
      "\n",
      "           1       0.50      0.11      0.18        53\n",
      "           2       0.30      0.17      0.22        86\n",
      "           3       0.17      0.21      0.19        85\n",
      "           4       0.19      0.56      0.28        90\n",
      "           5       0.19      0.03      0.05       101\n",
      "           6       0.19      0.07      0.10        84\n",
      "           7       0.21      0.31      0.25        51\n",
      "\n",
      "    accuracy                           0.21       550\n",
      "   macro avg       0.25      0.21      0.18       550\n",
      "weighted avg       0.24      0.21      0.18       550\n",
      "\n"
     ]
    }
   ],
   "source": [
    "predict_x=model_crs.predict(X_test)              # Function 1\n",
    "\n",
    "y_pred_crs=maxindx(predict_x)                    # function from augment.py to remove 0 index predictions\n",
    "\n",
    "#y_pred_crs = model_crs.predict_classes(X_test)\n",
    "\n",
    "cm = confusion_matrix(y_test, y_pred_crs)\n",
    "fullprint(cm)\n",
    "acc3=accuracy_score(y_test, y_pred_crs)\n",
    "\n",
    "print(classification_report(y_test, y_pred_crs))\n",
    "\n",
    "#sns.heatmap(cm, annot=True)\n",
    "\n",
    "#plt.imshow(cm)"
   ]
  },
  {
   "cell_type": "code",
   "execution_count": null,
   "metadata": {},
   "outputs": [],
   "source": []
  }
 ],
 "metadata": {
  "celltoolbar": "Raw Cell Format",
  "kernelspec": {
   "display_name": "Python 3 (ipykernel)",
   "language": "python",
   "name": "python3"
  },
  "language_info": {
   "codemirror_mode": {
    "name": "ipython",
    "version": 3
   },
   "file_extension": ".py",
   "mimetype": "text/x-python",
   "name": "python",
   "nbconvert_exporter": "python",
   "pygments_lexer": "ipython3",
   "version": "3.9.7"
  }
 },
 "nbformat": 4,
 "nbformat_minor": 4
}
