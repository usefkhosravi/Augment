{
 "cells": [
  {
   "cell_type": "markdown",
   "metadata": {},
   "source": [
    "import time\n",
    "plc=1\n",
    "time.sleep(3000*plc)         #run after 1 houre = 3600 seconds"
   ]
  },
  {
   "cell_type": "code",
   "execution_count": 1,
   "metadata": {},
   "outputs": [
    {
     "data": {
      "text/html": [
       "<style>#notebook { padding-top:0px !important; } .container { width:100% !important; } .end_space { min-height:0px !important; } html, body, .container{ margin:0!important;padding:0!important;}</style>"
      ],
      "text/plain": [
       "<IPython.core.display.HTML object>"
      ]
     },
     "metadata": {},
     "output_type": "display_data"
    }
   ],
   "source": [
    "import os\n",
    "import glob\n",
    "import scipy\n",
    "import random\n",
    "import bisect\n",
    "import numpy as np\n",
    "import pandas as pd\n",
    "import seaborn as sns\n",
    "from scipy import signal\n",
    "from scipy.signal import find_peaks\n",
    "import matplotlib.pyplot as plt\n",
    "from preprocess import *                         #ماژول استخراج پنجره ها\n",
    "from data import *                          #ماژول محلی ورود داده ها\n",
    "from augment import *                            #ماژول های داده افزایی\n",
    "from lstm_cnn import *                           #ماژول های داده افزایی با lstm_cnn\n",
    "import augment\n",
    "import importlib\n",
    "importlib.reload(augment)\n",
    "import tensorflow as tf\n",
    "from tensorflow import keras\n",
    "from tensorflow.keras.layers import BatchNormalization\n",
    "from sklearn.model_selection import train_test_split\n",
    "from sklearn.neural_network import MLPClassifier\n",
    "from sklearn.datasets import make_classification\n",
    "from sklearn.metrics import confusion_matrix, accuracy_score, classification_report,recall_score,precision_score\n",
    "from tensorflow.keras import callbacks\n",
    "from tensorflow.keras import layers\n",
    "from tensorflow.keras.models import Sequential\n",
    "from tensorflow.keras.layers import Convolution2D,Conv1D,Dropout,MaxPooling1D,MaxPooling2D,Flatten,Dense\n",
    "from tensorflow.keras import backend as K\n",
    "from tensorflow.keras.utils import to_categorical\n",
    "from tensorflow.keras.models import load_model\n",
    "cwd = os.getcwd() #\n",
    "fullscrn()"
   ]
  },
  {
   "cell_type": "markdown",
   "metadata": {},
   "source": [
    "<h1><center><div style=\"direction:rtl;font-family:B Nazanin\">Importing Data</div></center></h1>"
   ]
  },
  {
   "cell_type": "code",
   "execution_count": 2,
   "metadata": {
    "scrolled": true
   },
   "outputs": [
    {
     "name": "stdout",
     "output_type": "stream",
     "text": [
      "first_train_shape= (100, 1883)\n",
      "first_test_shape= (550, 1883)\n",
      "classes_quantity= 7\n",
      "tr_lbls=\t {1, 2, 3, 4, 5, 6, 7}\n",
      "Count_labels= [ 9 14 18 18 16 14 11]\n",
      "max(train_feature_Altitude)= 7.0\n",
      "min(train_feature_Altitude)= -2.2635\n",
      "first_train_sample=\n",
      " [ 2.       -0.036166 -0.15164  ... -0.12786  -0.19202  -0.11038 ]\n",
      "1 9\t2 14\t3 18\t4 18\t5 16\t6 14\t7 11\t"
     ]
    }
   ],
   "source": [
    "rate=480\n",
    "cls_num=7\n",
    "btch=20\n",
    "for i in range (1,cls_num+1):\n",
    "    vars()['ecg'+str(i)],vars()['ecg_tst'+str(i)]=InlineSkate(i)\n",
    "\n",
    "os.chdir(cwd)\n",
    "clses_lens=np.array([])\n",
    "i=0                               #جمع آوری داده ها و چاپ تعداد نمونه ی هر کلاس\n",
    "ecg=np.array(ecg1)\n",
    "print(1,len(vars()['ecg'+str(1)]), end='\\t')\n",
    "clses_lens=np.append(clses_lens,len(vars()['ecg'+str(1)]))\n",
    "for i in range (2,cls_num+1):\n",
    "    ecg=np.concatenate((ecg,vars()['ecg'+str(i)]),axis=0)\n",
    "    clses_lens=np.append(clses_lens,len(vars()['ecg'+str(i)]))\n",
    "    print(i,len(vars()['ecg'+str(i)]), end='\\t')\n",
    "\n",
    "mx_sig=max(clses_lens)"
   ]
  },
  {
   "cell_type": "code",
   "execution_count": 3,
   "metadata": {},
   "outputs": [
    {
     "data": {
      "text/plain": [
       "(100, 481)"
      ]
     },
     "execution_count": 3,
     "metadata": {},
     "output_type": "execute_result"
    }
   ],
   "source": [
    "np.shape(ecg)"
   ]
  },
  {
   "cell_type": "code",
   "execution_count": 4,
   "metadata": {},
   "outputs": [
    {
     "data": {
      "text/plain": [
       "array([1., 1., 1., 1., 1., 1., 1., 1., 1., 2., 2., 2., 2., 2., 2., 2., 2.,\n",
       "       2., 2., 2., 2., 2., 2., 3., 3., 3., 3., 3., 3., 3., 3., 3., 3., 3.,\n",
       "       3., 3., 3., 3., 3., 3., 3., 4., 4., 4., 4., 4., 4., 4., 4., 4., 4.,\n",
       "       4., 4., 4., 4., 4., 4., 4., 4., 5., 5., 5., 5., 5., 5., 5., 5., 5.,\n",
       "       5., 5., 5., 5., 5., 5., 5., 6., 6., 6., 6., 6., 6., 6., 6., 6., 6.,\n",
       "       6., 6., 6., 6., 7., 7., 7., 7., 7., 7., 7., 7., 7., 7., 7.])"
      ]
     },
     "execution_count": 4,
     "metadata": {},
     "output_type": "execute_result"
    }
   ],
   "source": [
    "ecg[:,-1]"
   ]
  },
  {
   "cell_type": "markdown",
   "metadata": {},
   "source": [
    "<h2><center><div style=\"direction:rtl;font-family:B Nazanin\">Base Train windows</div></center></h1>"
   ]
  },
  {
   "cell_type": "code",
   "execution_count": 5,
   "metadata": {},
   "outputs": [
    {
     "name": "stdout",
     "output_type": "stream",
     "text": [
      "each class and its windows =\n",
      "1 9\t2 14\t3 18\t4 18\t5 16\t6 14\t7 11\t\n",
      " max = 18\n"
     ]
    }
   ],
   "source": [
    "smpl_rte=rate                                              # در ماژول ها نیز همین مقدار ثبت شده\n",
    "i=0\n",
    "windws=np.array([])\n",
    "\n",
    "for cls in range (1,cls_num+1):                                 #ساخت پنجره های داده های آموزش اصلی\n",
    "    vars()['wndws'+str(cls)]=np.array(vars()['ecg'+str(cls)])  \n",
    "    \n",
    "print(\"each class and its windows =\")\n",
    "\n",
    "cls_wndws=np.array([])\n",
    "for cls in range (1,cls_num+1):                                # آرایه ی تعداد پنجره ی هر کلاس\n",
    "    wns=len(vars()['wndws'+str(cls)])\n",
    "    cls_wndws=np.append(cls_wndws,wns)\n",
    "    print(cls, wns, end='\\t')\n",
    "\n",
    "mx_wndws=int(np.max(cls_wndws))                        # حداکثر تعداد پنجره ی موجود بین کلاس ها\n",
    "print('\\n max =', mx_wndws)"
   ]
  },
  {
   "cell_type": "raw",
   "metadata": {},
   "source": [
    "#clses=3                                   #تعیین میزان افزایش نمونه (تولید داده)\n",
    "mx_wndws=int(mx_wndws)  #mx_wndws*0.3  # =classes-1 برای بررسی الگوریتم تعداد کمی کلاس آزمایش شد\n",
    "mx_wndws=2598           #+2\n",
    "print(mx_wndws)"
   ]
  },
  {
   "cell_type": "markdown",
   "metadata": {},
   "source": [
    "<h1><center><div style=\"direction:rtl;font-family:B Nazanin\">Data Augmentation</div></center></h1>"
   ]
  },
  {
   "cell_type": "code",
   "execution_count": 6,
   "metadata": {},
   "outputs": [
    {
     "name": "stdout",
     "output_type": "stream",
     "text": [
      "Up to class  1 train shape =  (9, 481)\n",
      "Up to class  2 train shape =  (23, 481)\n",
      "Up to class  3 train shape =  (41, 481)\n",
      "Up to class  4 train shape =  (59, 481)\n",
      "Up to class  5 train shape =  (75, 481)\n",
      "Up to class  6 train shape =  (89, 481)\n",
      "Up to class  7 train shape =  (100, 481)\n"
     ]
    }
   ],
   "source": [
    "smpl_rte=len(wndws1[0])                                        # در ماژول ها نیز همین مقدار ثبت شده\n",
    "\n",
    "#add augmented data to base data\n",
    "xtrain=np.empty((0,len(wndws1[0])), float) \n",
    "for i in range (1,cls_num+1):   \n",
    "    xtrain=np.append(xtrain,vars()['wndws'+str(i)],axis=0)\n",
    "    print('Up to class ', i, 'train shape = ', np.shape(xtrain))"
   ]
  },
  {
   "cell_type": "code",
   "execution_count": 7,
   "metadata": {},
   "outputs": [
    {
     "name": "stdout",
     "output_type": "stream",
     "text": [
      "[ 0  9 14 18 18 16 14 11]\n"
     ]
    }
   ],
   "source": [
    "print(np.bincount(np.int16(xtrain[:,-1])))    #تعداد پنجره در هر کلاس از 0 تا 17"
   ]
  },
  {
   "cell_type": "code",
   "execution_count": 8,
   "metadata": {},
   "outputs": [
    {
     "data": {
      "text/plain": [
       "array([1., 1., 1., 1., 1., 1., 1., 1., 1., 2., 2., 2., 2., 2., 2., 2., 2.,\n",
       "       2., 2., 2., 2., 2., 2., 3., 3., 3., 3., 3., 3., 3., 3., 3., 3., 3.,\n",
       "       3., 3., 3., 3., 3., 3., 3., 4., 4., 4., 4., 4., 4., 4., 4., 4., 4.,\n",
       "       4., 4., 4., 4., 4., 4., 4., 4., 5., 5., 5., 5., 5., 5., 5., 5., 5.,\n",
       "       5., 5., 5., 5., 5., 5., 5., 6., 6., 6., 6., 6., 6., 6., 6., 6., 6.,\n",
       "       6., 6., 6., 6., 7., 7., 7., 7., 7., 7., 7., 7., 7., 7., 7.])"
      ]
     },
     "execution_count": 8,
     "metadata": {},
     "output_type": "execute_result"
    }
   ],
   "source": [
    "xtrain[:,-1]"
   ]
  },
  {
   "cell_type": "code",
   "execution_count": 9,
   "metadata": {},
   "outputs": [],
   "source": [
    "mx_aug=np.max(xtrain[:,:-1])\n",
    "mx=np.max(ecg[:,:-1])\n",
    "mn_aug=np.min(xtrain[:,:-1])\n",
    "mn=np.min(ecg[:,:-1])\n",
    "\n",
    "#for i in range (1,cls_num+1):             #نرمالسازی داده های افزایشی\n",
    "xtrain[:,:-1]= 2*(xtrain[:,:-1]-mn_aug)/(mx_aug - mn_aug) - 1"
   ]
  },
  {
   "cell_type": "code",
   "execution_count": 10,
   "metadata": {},
   "outputs": [
    {
     "name": "stdout",
     "output_type": "stream",
     "text": [
      "min trn = -1.0\n",
      "max trn = 1.0\n"
     ]
    }
   ],
   "source": [
    "print('min trn =', np.min(xtrain[:,:-1]))\n",
    "print('max trn =', np.max(xtrain[:,:-1]))"
   ]
  },
  {
   "cell_type": "markdown",
   "metadata": {},
   "source": [
    "<h3><center><div style=\"direction:rtl;font-family:B Nazanin\">Test Windows</div></center></h1>"
   ]
  },
  {
   "cell_type": "code",
   "execution_count": 11,
   "metadata": {},
   "outputs": [],
   "source": [
    "wndws_test=np.empty((0,len(wndws1[0])), float)\n",
    "i=0\n",
    "windws=np.array([])\n",
    "for cls in range (1,cls_num+1):                                 #ساخت پنجره های داده های آموزش اصلی\n",
    "    vars()['wndws_tst'+str(cls)]=np.empty((0,len(wndws1[0])), float)\n",
    "    vars()['wndws_tst'+str(cls)]=np.append(vars()['wndws_tst'+str(cls)],vars()['ecg_tst'+str(cls)],axis=0)   "
   ]
  },
  {
   "cell_type": "code",
   "execution_count": 12,
   "metadata": {},
   "outputs": [
    {
     "name": "stdout",
     "output_type": "stream",
     "text": [
      "\n",
      " cls 1  >> \n",
      "max magnitude class 1  =  3.7291666652218383\n",
      "min magnitude class 1  =  -2.508548310896286\n",
      "after normalizing >>\n",
      "max magnitude class 1  =  0.733681061164432\n",
      "min magnitude class 1  =  -1.0787732639697398\n",
      "\n",
      " cls 2  >> \n",
      "max magnitude class 2  =  3.3943594536308117\n",
      "min magnitude class 2  =  -2.3324202170418937\n",
      "after normalizing >>\n",
      "max magnitude class 2  =  0.6363981969974146\n",
      "min magnitude class 2  =  -1.027596811261301\n",
      "\n",
      " cls 3  >> \n",
      "max magnitude class 3  =  3.3222986082221646\n",
      "min magnitude class 3  =  -2.39417835567284\n",
      "after normalizing >>\n",
      "max magnitude class 3  =  0.6154599220948627\n",
      "min magnitude class 3  =  -1.0455414922706845\n",
      "\n",
      " cls 4  >> \n",
      "max magnitude class 4  =  3.4087788185571775\n",
      "min magnitude class 4  =  -2.2646441798184282\n",
      "after normalizing >>\n",
      "max magnitude class 4  =  0.6405879428300698\n",
      "min magnitude class 4  =  -1.0079035466160844\n",
      "\n",
      " cls 5  >> \n",
      "max magnitude class 5  =  3.600329022216654\n",
      "min magnitude class 5  =  -2.081825404656493\n",
      "after normalizing >>\n",
      "max magnitude class 5  =  0.6962455027590111\n",
      "min magnitude class 5  =  -0.9547830239524809\n",
      "\n",
      " cls 6  >> \n",
      "max magnitude class 6  =  3.8104804407737056\n",
      "min magnitude class 6  =  -2.419249588624298\n",
      "after normalizing >>\n",
      "max magnitude class 6  =  0.7573079028454361\n",
      "min magnitude class 6  =  -1.0528262856242268\n",
      "\n",
      " cls 7  >> \n",
      "max magnitude class 7  =  3.6091453128665085\n",
      "min magnitude class 7  =  -2.513674133845302\n",
      "after normalizing >>\n",
      "max magnitude class 7  =  0.6988071978959556\n",
      "min magnitude class 7  =  -1.080262642694062\n",
      "each class and its windows =\n",
      "1 53\t2 86\t3 85\t4 90\t5 101\t6 84\t7 51\t\n",
      " max instance in classes of test windows = 101\n"
     ]
    }
   ],
   "source": [
    "#print(np.max(wndws_tst))\n",
    "for i in range (1,cls_num+1):                # Normalization test windows\n",
    "    cls=i\n",
    "    print('\\n cls', i, ' >> ')\n",
    "    print('max magnitude class', i , ' = ' ,np.max(vars()['wndws_tst'+str(cls)][:,:-1]))\n",
    "    print('min magnitude class', i , ' = ' ,np.min(vars()['wndws_tst'+str(cls)][:,:-1]))\n",
    "\n",
    "    vars()['wndws_tst'+str(i)][:,:-1]= 2*(vars()['wndws_tst'+str(i)][:,:-1]-mn_aug)/(mx_aug - mn_aug) - 1\n",
    "    \n",
    "    print('after normalizing >>')\n",
    "    print('max magnitude class', i , ' = ' ,np.max(vars()['wndws_tst'+str(cls)][:,:-1]))\n",
    "    print('min magnitude class', i , ' = ' ,np.min(vars()['wndws_tst'+str(cls)][:,:-1]))\n",
    "    \n",
    "print(\"each class and its windows =\")                    #تجمیع کلاس های تست\n",
    "cls_wndws=np.array([])\n",
    "for cls in range (1,cls_num+1):                                # آرایه ی تعداد پنجره ی هر کلاس\n",
    "    wns=len(vars()['wndws_tst'+str(cls)])\n",
    "    cls_wndws=np.append(cls_wndws,wns)\n",
    "    print(cls, wns, end='\\t')\n",
    "    wndws_test=np.append(wndws_test,vars()['wndws_tst'+str(cls)],axis=0)\n",
    "    \n",
    "mx_wndws=int(np.max(cls_wndws))                        # حداکثر تعداد پنجره ی موجود بین کلاس ها\n",
    "print('\\n max instance in classes of test windows =', mx_wndws)"
   ]
  },
  {
   "cell_type": "code",
   "execution_count": 13,
   "metadata": {},
   "outputs": [
    {
     "name": "stdout",
     "output_type": "stream",
     "text": [
      "min tst = -1.080262642694062\n",
      "max tst = 0.7573079028454361\n"
     ]
    }
   ],
   "source": [
    "print('min tst =', np.min(wndws_test[:,:-1]))\n",
    "print('max tst =', np.max(wndws_test[:,:-1]))"
   ]
  },
  {
   "cell_type": "code",
   "execution_count": 14,
   "metadata": {},
   "outputs": [
    {
     "data": {
      "text/plain": [
       "550"
      ]
     },
     "execution_count": 14,
     "metadata": {},
     "output_type": "execute_result"
    }
   ],
   "source": [
    "len(wndws_test)"
   ]
  },
  {
   "cell_type": "code",
   "execution_count": 15,
   "metadata": {},
   "outputs": [
    {
     "data": {
      "text/plain": [
       "(550, 481)"
      ]
     },
     "execution_count": 15,
     "metadata": {},
     "output_type": "execute_result"
    }
   ],
   "source": [
    "np.shape(wndws_test)"
   ]
  },
  {
   "cell_type": "code",
   "execution_count": 16,
   "metadata": {},
   "outputs": [],
   "source": [
    "Xtest=wndws_test[:,:-1]\n",
    "ytest=np.int16(wndws_test[:,-1])"
   ]
  },
  {
   "cell_type": "code",
   "execution_count": 17,
   "metadata": {},
   "outputs": [
    {
     "name": "stdout",
     "output_type": "stream",
     "text": [
      "array([1, 1, 1, 1, 1, 1, 1, 1, 1, 1, 1, 1, 1, 1, 1, 1, 1, 1, 1, 1, 1, 1,\n",
      "       1, 1, 1, 1, 1, 1, 1, 1, 1, 1, 1, 1, 1, 1, 1, 1, 1, 1, 1, 1, 1, 1,\n",
      "       1, 1, 1, 1, 1, 1, 1, 1, 1, 2, 2, 2, 2, 2, 2, 2, 2, 2, 2, 2, 2, 2,\n",
      "       2, 2, 2, 2, 2, 2, 2, 2, 2, 2, 2, 2, 2, 2, 2, 2, 2, 2, 2, 2, 2, 2,\n",
      "       2, 2, 2, 2, 2, 2, 2, 2, 2, 2, 2, 2, 2, 2, 2, 2, 2, 2, 2, 2, 2, 2,\n",
      "       2, 2, 2, 2, 2, 2, 2, 2, 2, 2, 2, 2, 2, 2, 2, 2, 2, 2, 2, 2, 2, 2,\n",
      "       2, 2, 2, 2, 2, 2, 2, 3, 3, 3, 3, 3, 3, 3, 3, 3, 3, 3, 3, 3, 3, 3,\n",
      "       3, 3, 3, 3, 3, 3, 3, 3, 3, 3, 3, 3, 3, 3, 3, 3, 3, 3, 3, 3, 3, 3,\n",
      "       3, 3, 3, 3, 3, 3, 3, 3, 3, 3, 3, 3, 3, 3, 3, 3, 3, 3, 3, 3, 3, 3,\n",
      "       3, 3, 3, 3, 3, 3, 3, 3, 3, 3, 3, 3, 3, 3, 3, 3, 3, 3, 3, 3, 3, 3,\n",
      "       3, 3, 3, 3, 4, 4, 4, 4, 4, 4, 4, 4, 4, 4, 4, 4, 4, 4, 4, 4, 4, 4,\n",
      "       4, 4, 4, 4, 4, 4, 4, 4, 4, 4, 4, 4, 4, 4, 4, 4, 4, 4, 4, 4, 4, 4,\n",
      "       4, 4, 4, 4, 4, 4, 4, 4, 4, 4, 4, 4, 4, 4, 4, 4, 4, 4, 4, 4, 4, 4,\n",
      "       4, 4, 4, 4, 4, 4, 4, 4, 4, 4, 4, 4, 4, 4, 4, 4, 4, 4, 4, 4, 4, 4,\n",
      "       4, 4, 4, 4, 4, 4, 5, 5, 5, 5, 5, 5, 5, 5, 5, 5, 5, 5, 5, 5, 5, 5,\n",
      "       5, 5, 5, 5, 5, 5, 5, 5, 5, 5, 5, 5, 5, 5, 5, 5, 5, 5, 5, 5, 5, 5,\n",
      "       5, 5, 5, 5, 5, 5, 5, 5, 5, 5, 5, 5, 5, 5, 5, 5, 5, 5, 5, 5, 5, 5,\n",
      "       5, 5, 5, 5, 5, 5, 5, 5, 5, 5, 5, 5, 5, 5, 5, 5, 5, 5, 5, 5, 5, 5,\n",
      "       5, 5, 5, 5, 5, 5, 5, 5, 5, 5, 5, 5, 5, 5, 5, 5, 5, 5, 5, 6, 6, 6,\n",
      "       6, 6, 6, 6, 6, 6, 6, 6, 6, 6, 6, 6, 6, 6, 6, 6, 6, 6, 6, 6, 6, 6,\n",
      "       6, 6, 6, 6, 6, 6, 6, 6, 6, 6, 6, 6, 6, 6, 6, 6, 6, 6, 6, 6, 6, 6,\n",
      "       6, 6, 6, 6, 6, 6, 6, 6, 6, 6, 6, 6, 6, 6, 6, 6, 6, 6, 6, 6, 6, 6,\n",
      "       6, 6, 6, 6, 6, 6, 6, 6, 6, 6, 6, 6, 6, 6, 6, 7, 7, 7, 7, 7, 7, 7,\n",
      "       7, 7, 7, 7, 7, 7, 7, 7, 7, 7, 7, 7, 7, 7, 7, 7, 7, 7, 7, 7, 7, 7,\n",
      "       7, 7, 7, 7, 7, 7, 7, 7, 7, 7, 7, 7, 7, 7, 7, 7, 7, 7, 7, 7, 7, 7],\n",
      "      dtype=int16)\n"
     ]
    }
   ],
   "source": [
    "fullprint(ytest)"
   ]
  },
  {
   "cell_type": "markdown",
   "metadata": {},
   "source": [
    "<h3><center><div style=\"direction:rtl;font-family:B Nazanin\">Train Windows</div></center></h1>"
   ]
  },
  {
   "cell_type": "code",
   "execution_count": 18,
   "metadata": {},
   "outputs": [
    {
     "data": {
      "text/plain": [
       "'\\nytestt=np.int32(np.array([ytest]).T)\\ntestx=np.concatenate((Xtest, ytestt), axis=1)\\ntestx=np.random.permutation(testx)\\nXtest=np.int32(testx[:,:-1])\\nytest=np.int32(testx[:,-1])'"
      ]
     },
     "execution_count": 18,
     "metadata": {},
     "output_type": "execute_result"
    }
   ],
   "source": [
    "#ytraint=np.int32(np.array([ytrain]).T)\n",
    "#trainx=np.concatenate((Xtrain, ytraint), axis=1)\n",
    "trainx=np.random.permutation(xtrain)\n",
    "Xtrain=np.array(trainx[:,:-1])\n",
    "ytrain=np.int16(trainx[:,-1])\n",
    "'''\n",
    "ytestt=np.int32(np.array([ytest]).T)\n",
    "testx=np.concatenate((Xtest, ytestt), axis=1)\n",
    "testx=np.random.permutation(testx)\n",
    "Xtest=np.int32(testx[:,:-1])\n",
    "ytest=np.int32(testx[:,-1])'''"
   ]
  },
  {
   "cell_type": "code",
   "execution_count": 19,
   "metadata": {},
   "outputs": [
    {
     "data": {
      "text/plain": [
       "(9, 481)"
      ]
     },
     "execution_count": 19,
     "metadata": {},
     "output_type": "execute_result"
    }
   ],
   "source": [
    "np.shape(wndws1)"
   ]
  },
  {
   "cell_type": "markdown",
   "metadata": {},
   "source": [
    "<h3><center><div style=\"direction:rtl;font-family:B Nazanin\">Validation Windows</div></center></h1>"
   ]
  },
  {
   "cell_type": "code",
   "execution_count": 20,
   "metadata": {},
   "outputs": [],
   "source": [
    "Xvalid=np.array(Xtrain)\n",
    "yvalid=np.array(ytrain)"
   ]
  },
  {
   "cell_type": "markdown",
   "metadata": {},
   "source": [
    "<h1><center><div style=\"direction:rtl;font-family:B Nazanin\">CNN And UnBalanced RAW Data</div></center></h1>\n",
    "<h1><center><div style=\"direction:rtl;font-family:Arial\">Cross Entropy Loss Function</div></center></h1>"
   ]
  },
  {
   "cell_type": "code",
   "execution_count": 21,
   "metadata": {
    "scrolled": true
   },
   "outputs": [
    {
     "name": "stdout",
     "output_type": "stream",
     "text": [
      "X_train =>  (100, 480)\n",
      "y_train =>  (100,)\n",
      "X_test  =>  (550, 480)\n",
      "y_test  =>  (550,)\n",
      "X_valid  =>  (100, 480)\n",
      "y_valid  =>  (100,)\n"
     ]
    }
   ],
   "source": [
    "X_train=np.array(Xtrain)\n",
    "y_train=np.array(ytrain)\n",
    "X_test=np.array(Xtest)\n",
    "y_test=np.array(ytest)\n",
    "X_valid=np.array(Xtrain)\n",
    "y_valid=np.array(ytrain)\n",
    "print('X_train => ', X_train.shape)\n",
    "print('y_train => ', y_train.shape)\n",
    "print('X_test  => ', X_test.shape)\n",
    "print('y_test  => ', y_test.shape)\n",
    "print('X_valid  => ', X_valid.shape)\n",
    "print('y_valid  => ', y_valid.shape)"
   ]
  },
  {
   "cell_type": "markdown",
   "metadata": {},
   "source": [
    "y_train=np.array(y_train+1)\n",
    "y_test=np.array(y_test+1)\n",
    "y_valid=np.array(y_valid+1)"
   ]
  },
  {
   "cell_type": "code",
   "execution_count": 22,
   "metadata": {},
   "outputs": [],
   "source": [
    "y_train_cat=to_categorical(y_train)\n",
    "y_valid_cat=to_categorical(y_valid)\n",
    "y_test_cat=to_categorical(y_test)\n",
    "\n",
    "\n",
    "X_train = np.expand_dims(X_train, axis=2)\n",
    "X_valid = np.expand_dims(X_valid, axis=2)\n",
    "X_test = np.expand_dims(X_test, axis=2)\n",
    "#y_train=np.transpose([y_train])"
   ]
  },
  {
   "cell_type": "code",
   "execution_count": 23,
   "metadata": {
    "scrolled": true
   },
   "outputs": [
    {
     "name": "stdout",
     "output_type": "stream",
     "text": [
      "Epoch 1/1000\n",
      "5/5 [==============================] - 3s 55ms/step - loss: 2.3267 - accuracy: 0.1700 - val_loss: 1.9829 - val_accuracy: 0.1800\n",
      "Epoch 2/1000\n",
      "5/5 [==============================] - 0s 15ms/step - loss: 1.9817 - accuracy: 0.1700 - val_loss: 1.9174 - val_accuracy: 0.1800\n",
      "Epoch 3/1000\n",
      "5/5 [==============================] - 0s 19ms/step - loss: 1.9426 - accuracy: 0.1700 - val_loss: 1.8633 - val_accuracy: 0.2600\n",
      "Epoch 4/1000\n",
      "5/5 [==============================] - 0s 16ms/step - loss: 1.9010 - accuracy: 0.1900 - val_loss: 1.8007 - val_accuracy: 0.2700\n",
      "Epoch 5/1000\n",
      "5/5 [==============================] - 0s 16ms/step - loss: 1.8351 - accuracy: 0.2400 - val_loss: 1.7638 - val_accuracy: 0.3100\n",
      "Epoch 6/1000\n",
      "5/5 [==============================] - 0s 15ms/step - loss: 1.8322 - accuracy: 0.2100 - val_loss: 1.7371 - val_accuracy: 0.3100\n",
      "Epoch 7/1000\n",
      "5/5 [==============================] - 0s 15ms/step - loss: 1.7929 - accuracy: 0.2600 - val_loss: 1.6574 - val_accuracy: 0.2800\n",
      "Epoch 8/1000\n",
      "5/5 [==============================] - 0s 15ms/step - loss: 1.7245 - accuracy: 0.3000 - val_loss: 1.6599 - val_accuracy: 0.2900\n",
      "Epoch 9/1000\n",
      "5/5 [==============================] - 0s 16ms/step - loss: 1.6403 - accuracy: 0.3100 - val_loss: 1.5835 - val_accuracy: 0.3500\n",
      "Epoch 10/1000\n",
      "5/5 [==============================] - 0s 17ms/step - loss: 1.6852 - accuracy: 0.3400 - val_loss: 1.5352 - val_accuracy: 0.4100\n",
      "Epoch 11/1000\n",
      "5/5 [==============================] - 0s 15ms/step - loss: 1.7090 - accuracy: 0.3900 - val_loss: 1.5612 - val_accuracy: 0.3700\n",
      "Epoch 12/1000\n",
      "5/5 [==============================] - 0s 15ms/step - loss: 1.5481 - accuracy: 0.4100 - val_loss: 1.4885 - val_accuracy: 0.3800\n",
      "Epoch 13/1000\n",
      "5/5 [==============================] - 0s 17ms/step - loss: 1.4907 - accuracy: 0.4300 - val_loss: 1.4445 - val_accuracy: 0.4300\n",
      "Epoch 14/1000\n",
      "5/5 [==============================] - 0s 16ms/step - loss: 1.4993 - accuracy: 0.3500 - val_loss: 1.3942 - val_accuracy: 0.4400\n",
      "Epoch 15/1000\n",
      "5/5 [==============================] - 0s 15ms/step - loss: 1.4777 - accuracy: 0.4400 - val_loss: 1.4057 - val_accuracy: 0.4200\n",
      "Epoch 16/1000\n",
      "5/5 [==============================] - 0s 16ms/step - loss: 1.3806 - accuracy: 0.4100 - val_loss: 1.2447 - val_accuracy: 0.4800\n",
      "Epoch 17/1000\n",
      "5/5 [==============================] - 0s 15ms/step - loss: 1.3936 - accuracy: 0.4800 - val_loss: 1.2884 - val_accuracy: 0.4800\n",
      "Epoch 18/1000\n",
      "5/5 [==============================] - 0s 15ms/step - loss: 1.3189 - accuracy: 0.4600 - val_loss: 1.3932 - val_accuracy: 0.4300\n",
      "Epoch 19/1000\n",
      "5/5 [==============================] - 0s 16ms/step - loss: 1.3462 - accuracy: 0.4500 - val_loss: 1.1561 - val_accuracy: 0.6100\n",
      "Epoch 20/1000\n",
      "5/5 [==============================] - 0s 16ms/step - loss: 1.2094 - accuracy: 0.5200 - val_loss: 1.2476 - val_accuracy: 0.5100\n",
      "Epoch 21/1000\n",
      "5/5 [==============================] - 0s 15ms/step - loss: 1.2445 - accuracy: 0.5400 - val_loss: 1.0805 - val_accuracy: 0.5500\n",
      "Epoch 22/1000\n",
      "5/5 [==============================] - 0s 15ms/step - loss: 1.2539 - accuracy: 0.4300 - val_loss: 1.0499 - val_accuracy: 0.5700\n",
      "Epoch 23/1000\n",
      "5/5 [==============================] - 0s 15ms/step - loss: 1.1681 - accuracy: 0.4900 - val_loss: 1.1254 - val_accuracy: 0.5700\n",
      "Epoch 24/1000\n",
      "5/5 [==============================] - 0s 14ms/step - loss: 1.2480 - accuracy: 0.5000 - val_loss: 1.0024 - val_accuracy: 0.6100\n",
      "Epoch 25/1000\n",
      "5/5 [==============================] - 0s 16ms/step - loss: 0.9839 - accuracy: 0.6200 - val_loss: 1.1474 - val_accuracy: 0.5700\n",
      "Epoch 26/1000\n",
      "5/5 [==============================] - 0s 16ms/step - loss: 1.1858 - accuracy: 0.5400 - val_loss: 1.0042 - val_accuracy: 0.6200\n",
      "Epoch 27/1000\n",
      "5/5 [==============================] - 0s 15ms/step - loss: 1.0038 - accuracy: 0.5400 - val_loss: 1.0519 - val_accuracy: 0.5600\n",
      "Epoch 28/1000\n",
      "5/5 [==============================] - 0s 15ms/step - loss: 1.1976 - accuracy: 0.5500 - val_loss: 1.0792 - val_accuracy: 0.5400\n",
      "Epoch 29/1000\n",
      "5/5 [==============================] - 0s 17ms/step - loss: 1.0013 - accuracy: 0.5900 - val_loss: 0.8533 - val_accuracy: 0.6700\n",
      "Epoch 30/1000\n",
      "5/5 [==============================] - 0s 15ms/step - loss: 0.9501 - accuracy: 0.6600 - val_loss: 0.9168 - val_accuracy: 0.6600\n",
      "Epoch 31/1000\n",
      "5/5 [==============================] - 0s 16ms/step - loss: 0.9271 - accuracy: 0.6100 - val_loss: 0.7899 - val_accuracy: 0.6500\n",
      "Epoch 32/1000\n",
      "5/5 [==============================] - 0s 16ms/step - loss: 0.9927 - accuracy: 0.5900 - val_loss: 0.7958 - val_accuracy: 0.7200\n",
      "Epoch 33/1000\n",
      "5/5 [==============================] - 0s 15ms/step - loss: 0.8377 - accuracy: 0.7000 - val_loss: 0.9373 - val_accuracy: 0.5900\n",
      "Epoch 34/1000\n",
      "5/5 [==============================] - 0s 15ms/step - loss: 0.8436 - accuracy: 0.6600 - val_loss: 0.9190 - val_accuracy: 0.6400\n",
      "Epoch 35/1000\n",
      "5/5 [==============================] - 0s 15ms/step - loss: 0.8811 - accuracy: 0.6500 - val_loss: 0.7510 - val_accuracy: 0.7200\n",
      "Epoch 36/1000\n",
      "5/5 [==============================] - 0s 16ms/step - loss: 0.7778 - accuracy: 0.7100 - val_loss: 0.5785 - val_accuracy: 0.8100\n",
      "Epoch 37/1000\n",
      "5/5 [==============================] - 0s 14ms/step - loss: 0.7780 - accuracy: 0.7600 - val_loss: 0.6801 - val_accuracy: 0.7300\n",
      "Epoch 38/1000\n",
      "5/5 [==============================] - 0s 15ms/step - loss: 0.8847 - accuracy: 0.6500 - val_loss: 0.7786 - val_accuracy: 0.6900\n",
      "Epoch 39/1000\n",
      "5/5 [==============================] - 0s 15ms/step - loss: 0.7098 - accuracy: 0.7100 - val_loss: 0.5913 - val_accuracy: 0.8000\n",
      "Epoch 40/1000\n",
      "5/5 [==============================] - 0s 15ms/step - loss: 0.6394 - accuracy: 0.7600 - val_loss: 0.6625 - val_accuracy: 0.7300\n",
      "Epoch 41/1000\n",
      "5/5 [==============================] - 0s 17ms/step - loss: 0.6752 - accuracy: 0.7100 - val_loss: 0.6518 - val_accuracy: 0.7500\n",
      "Epoch 42/1000\n",
      "5/5 [==============================] - 0s 17ms/step - loss: 0.8539 - accuracy: 0.6500 - val_loss: 1.4830 - val_accuracy: 0.4900\n",
      "Epoch 43/1000\n",
      "5/5 [==============================] - 0s 15ms/step - loss: 0.7217 - accuracy: 0.7300 - val_loss: 0.4870 - val_accuracy: 0.7700\n",
      "Epoch 44/1000\n",
      "5/5 [==============================] - 0s 17ms/step - loss: 0.5358 - accuracy: 0.7500 - val_loss: 0.4028 - val_accuracy: 0.8500\n",
      "Epoch 45/1000\n",
      "5/5 [==============================] - 0s 15ms/step - loss: 0.6107 - accuracy: 0.7700 - val_loss: 0.4756 - val_accuracy: 0.8400\n",
      "Epoch 46/1000\n",
      "5/5 [==============================] - 0s 15ms/step - loss: 0.5635 - accuracy: 0.7700 - val_loss: 0.4081 - val_accuracy: 0.8300\n",
      "Epoch 47/1000\n",
      "5/5 [==============================] - 0s 15ms/step - loss: 0.6274 - accuracy: 0.7600 - val_loss: 0.5109 - val_accuracy: 0.8200\n",
      "Epoch 48/1000\n",
      "5/5 [==============================] - 0s 15ms/step - loss: 0.5242 - accuracy: 0.7900 - val_loss: 0.8003 - val_accuracy: 0.7300\n",
      "Epoch 49/1000\n",
      "5/5 [==============================] - 0s 17ms/step - loss: 0.5686 - accuracy: 0.8000 - val_loss: 0.3378 - val_accuracy: 0.8900\n",
      "Epoch 50/1000\n",
      "5/5 [==============================] - 0s 15ms/step - loss: 0.4801 - accuracy: 0.7900 - val_loss: 0.5816 - val_accuracy: 0.7900\n",
      "Epoch 51/1000\n",
      "5/5 [==============================] - 0s 15ms/step - loss: 0.5294 - accuracy: 0.7900 - val_loss: 0.8461 - val_accuracy: 0.7400\n",
      "Epoch 52/1000\n",
      "5/5 [==============================] - 0s 15ms/step - loss: 0.4680 - accuracy: 0.8500 - val_loss: 0.2859 - val_accuracy: 0.8700\n",
      "Epoch 53/1000\n",
      "5/5 [==============================] - 0s 15ms/step - loss: 0.4157 - accuracy: 0.8500 - val_loss: 0.3164 - val_accuracy: 0.8800\n",
      "Epoch 54/1000\n",
      "5/5 [==============================] - 0s 16ms/step - loss: 0.4041 - accuracy: 0.8400 - val_loss: 0.2238 - val_accuracy: 0.9100\n",
      "Epoch 55/1000\n",
      "5/5 [==============================] - 0s 15ms/step - loss: 0.4344 - accuracy: 0.8300 - val_loss: 0.5227 - val_accuracy: 0.7600\n",
      "Epoch 56/1000\n",
      "5/5 [==============================] - 0s 16ms/step - loss: 0.5368 - accuracy: 0.7800 - val_loss: 0.2511 - val_accuracy: 0.9200\n",
      "Epoch 57/1000\n",
      "5/5 [==============================] - 0s 15ms/step - loss: 0.2936 - accuracy: 0.9000 - val_loss: 0.2868 - val_accuracy: 0.8900\n",
      "Epoch 58/1000\n",
      "5/5 [==============================] - 0s 15ms/step - loss: 0.2922 - accuracy: 0.9100 - val_loss: 0.3661 - val_accuracy: 0.8700\n"
     ]
    },
    {
     "name": "stdout",
     "output_type": "stream",
     "text": [
      "Epoch 59/1000\n",
      "5/5 [==============================] - 0s 15ms/step - loss: 0.3301 - accuracy: 0.8600 - val_loss: 0.2990 - val_accuracy: 0.9000\n",
      "Epoch 60/1000\n",
      "5/5 [==============================] - 0s 14ms/step - loss: 0.5035 - accuracy: 0.8400 - val_loss: 0.4423 - val_accuracy: 0.7900\n",
      "Epoch 61/1000\n",
      "5/5 [==============================] - 0s 16ms/step - loss: 0.3824 - accuracy: 0.8100 - val_loss: 0.1684 - val_accuracy: 0.9500\n",
      "Epoch 62/1000\n",
      "5/5 [==============================] - 0s 16ms/step - loss: 0.2078 - accuracy: 0.9100 - val_loss: 0.1443 - val_accuracy: 0.9600\n",
      "Epoch 63/1000\n",
      "5/5 [==============================] - 0s 15ms/step - loss: 0.2817 - accuracy: 0.9400 - val_loss: 0.1728 - val_accuracy: 0.9400\n",
      "Epoch 64/1000\n",
      "5/5 [==============================] - 0s 14ms/step - loss: 0.3882 - accuracy: 0.8900 - val_loss: 0.1316 - val_accuracy: 0.9500\n",
      "Epoch 65/1000\n",
      "5/5 [==============================] - 0s 15ms/step - loss: 0.1384 - accuracy: 0.9500 - val_loss: 0.1573 - val_accuracy: 0.9400\n",
      "Epoch 66/1000\n",
      "5/5 [==============================] - 0s 15ms/step - loss: 0.2067 - accuracy: 0.9100 - val_loss: 0.6715 - val_accuracy: 0.7800\n",
      "Epoch 67/1000\n",
      "5/5 [==============================] - 0s 14ms/step - loss: 0.8923 - accuracy: 0.6600 - val_loss: 0.2514 - val_accuracy: 0.8900\n",
      "Epoch 68/1000\n",
      "5/5 [==============================] - 0s 16ms/step - loss: 0.2186 - accuracy: 0.9000 - val_loss: 0.1146 - val_accuracy: 0.9800\n",
      "Epoch 69/1000\n",
      "5/5 [==============================] - 0s 15ms/step - loss: 0.1275 - accuracy: 0.9600 - val_loss: 0.1187 - val_accuracy: 0.9700\n",
      "Epoch 70/1000\n",
      "5/5 [==============================] - 0s 16ms/step - loss: 0.2060 - accuracy: 0.9200 - val_loss: 0.0732 - val_accuracy: 1.0000\n",
      "Epoch 71/1000\n",
      "5/5 [==============================] - 0s 15ms/step - loss: 0.0834 - accuracy: 0.9900 - val_loss: 0.0752 - val_accuracy: 0.9800\n",
      "Epoch 72/1000\n",
      "5/5 [==============================] - 0s 15ms/step - loss: 0.2551 - accuracy: 0.9000 - val_loss: 0.3214 - val_accuracy: 0.8800\n",
      "Epoch 73/1000\n",
      "5/5 [==============================] - 0s 15ms/step - loss: 0.2025 - accuracy: 0.9400 - val_loss: 0.0746 - val_accuracy: 0.9800\n",
      "Epoch 74/1000\n",
      "5/5 [==============================] - 0s 15ms/step - loss: 0.1105 - accuracy: 0.9500 - val_loss: 0.5100 - val_accuracy: 0.8600\n",
      "Epoch 75/1000\n",
      "5/5 [==============================] - 0s 14ms/step - loss: 0.7593 - accuracy: 0.7900 - val_loss: 0.1808 - val_accuracy: 0.9600\n",
      "Epoch 76/1000\n",
      "5/5 [==============================] - 0s 15ms/step - loss: 0.1377 - accuracy: 0.9600 - val_loss: 0.0574 - val_accuracy: 1.0000\n",
      "Epoch 77/1000\n",
      "5/5 [==============================] - 0s 15ms/step - loss: 0.0572 - accuracy: 1.0000 - val_loss: 0.0509 - val_accuracy: 1.0000\n",
      "Epoch 78/1000\n",
      "5/5 [==============================] - 0s 14ms/step - loss: 0.0659 - accuracy: 0.9900 - val_loss: 0.2911 - val_accuracy: 0.9200\n",
      "Epoch 79/1000\n",
      "5/5 [==============================] - 0s 14ms/step - loss: 0.3589 - accuracy: 0.8800 - val_loss: 1.0199 - val_accuracy: 0.7000\n",
      "Epoch 80/1000\n",
      "5/5 [==============================] - 0s 14ms/step - loss: 0.3953 - accuracy: 0.8600 - val_loss: 0.0870 - val_accuracy: 0.9900\n",
      "Epoch 81/1000\n",
      "5/5 [==============================] - 0s 15ms/step - loss: 0.0712 - accuracy: 0.9900 - val_loss: 0.0328 - val_accuracy: 1.0000\n",
      "Epoch 82/1000\n",
      "5/5 [==============================] - 0s 15ms/step - loss: 0.0333 - accuracy: 1.0000 - val_loss: 0.0222 - val_accuracy: 1.0000\n",
      "Epoch 83/1000\n",
      "5/5 [==============================] - 0s 15ms/step - loss: 0.0226 - accuracy: 1.0000 - val_loss: 0.0150 - val_accuracy: 1.0000\n",
      "Epoch 84/1000\n",
      "5/5 [==============================] - 0s 15ms/step - loss: 0.0201 - accuracy: 1.0000 - val_loss: 0.0941 - val_accuracy: 0.9800\n",
      "Epoch 85/1000\n",
      "5/5 [==============================] - 0s 14ms/step - loss: 0.8020 - accuracy: 0.8200 - val_loss: 0.1073 - val_accuracy: 0.9800\n",
      "Epoch 86/1000\n",
      "5/5 [==============================] - 0s 16ms/step - loss: 0.1364 - accuracy: 0.9400 - val_loss: 0.1290 - val_accuracy: 0.9600\n",
      "Epoch 87/1000\n",
      "5/5 [==============================] - 0s 15ms/step - loss: 0.0794 - accuracy: 0.9800 - val_loss: 0.0266 - val_accuracy: 1.0000\n",
      "Epoch 88/1000\n",
      "5/5 [==============================] - 0s 15ms/step - loss: 0.0309 - accuracy: 1.0000 - val_loss: 0.0162 - val_accuracy: 1.0000\n",
      "Epoch 89/1000\n",
      "5/5 [==============================] - 0s 15ms/step - loss: 0.0216 - accuracy: 1.0000 - val_loss: 0.0135 - val_accuracy: 1.0000\n",
      "Epoch 90/1000\n",
      "5/5 [==============================] - 0s 16ms/step - loss: 0.0132 - accuracy: 1.0000 - val_loss: 0.0254 - val_accuracy: 0.9900\n",
      "5/5 [==============================] - 0s 3ms/step - loss: 0.0732 - accuracy: 1.0000\n",
      "np.shape(X_test)= (550, 480, 1)\n",
      "Model: \"sequential\"\n",
      "_________________________________________________________________\n",
      " Layer (type)                Output Shape              Param #   \n",
      "=================================================================\n",
      " conv1d (Conv1D)             (None, 478, 32)           128       \n",
      "                                                                 \n",
      " conv1d_1 (Conv1D)           (None, 476, 64)           6208      \n",
      "                                                                 \n",
      " max_pooling1d (MaxPooling1D  (None, 158, 64)          0         \n",
      " )                                                               \n",
      "                                                                 \n",
      " conv1d_2 (Conv1D)           (None, 156, 128)          24704     \n",
      "                                                                 \n",
      " max_pooling1d_1 (MaxPooling  (None, 52, 128)          0         \n",
      " 1D)                                                             \n",
      "                                                                 \n",
      " conv1d_3 (Conv1D)           (None, 50, 128)           49280     \n",
      "                                                                 \n",
      " max_pooling1d_2 (MaxPooling  (None, 16, 128)          0         \n",
      " 1D)                                                             \n",
      "                                                                 \n",
      " conv1d_4 (Conv1D)           (None, 14, 256)           98560     \n",
      "                                                                 \n",
      " max_pooling1d_3 (MaxPooling  (None, 4, 256)           0         \n",
      " 1D)                                                             \n",
      "                                                                 \n",
      " flatten (Flatten)           (None, 1024)              0         \n",
      "                                                                 \n",
      " dense (Dense)               (None, 2000)              2050000   \n",
      "                                                                 \n",
      " dense_1 (Dense)             (None, 8)                 16008     \n",
      "                                                                 \n",
      "=================================================================\n",
      "Total params: 2,244,888\n",
      "Trainable params: 2,244,888\n",
      "Non-trainable params: 0\n",
      "_________________________________________________________________\n",
      "Accuracy=  1.0\n"
     ]
    }
   ],
   "source": [
    "accuracy=0\n",
    "acc_crs=np.array([])\n",
    "##for i in range (10):\n",
    "##    if accuracy<0.2 :\n",
    "\n",
    "verbose, epochs, batch_size = 1, 1000, btch\n",
    "n_timesteps, n_features, n_outputs = X_train.shape[1], X_train.shape[2], y_train_cat.shape[1]\n",
    "steps_per_epoch = len(X_train)//batch_size\n",
    "validation_steps = len(X_valid)//batch_size # if you have test data\n",
    "\n",
    "model_crs = Sequential()\n",
    "BatchNormalization()\n",
    "model_crs.add(Conv1D(filters=32, kernel_size=3, activation='relu', input_shape=(n_timesteps,n_features)))\n",
    "#model_crs.add(MaxPooling1D(pool_size=3))\n",
    "BatchNormalization()\n",
    "model_crs.add(Conv1D(filters=64, kernel_size=3, activation='relu'))\n",
    "#model_crs.add(Dropout(0.5))\n",
    "model_crs.add(MaxPooling1D(pool_size=3))\n",
    "BatchNormalization()\n",
    "model_crs.add(Conv1D(filters=128, kernel_size=3, activation='relu'))\n",
    "model_crs.add(MaxPooling1D(pool_size=3))\n",
    "BatchNormalization()\n",
    "model_crs.add(Conv1D(filters=128, kernel_size=3, activation='relu'))\n",
    "model_crs.add(MaxPooling1D(pool_size=3))\n",
    "BatchNormalization()\n",
    "model_crs.add(Conv1D(filters=256, kernel_size=3, activation='relu'))\n",
    "model_crs.add(MaxPooling1D(pool_size=3))\n",
    "'''model_crs.add(Conv1D(filters=512, kernel_size=3, activation='relu'))\n",
    "model_crs.add(MaxPooling1D(pool_size=3))\n",
    "model_crs.add(Conv1D(filters=1024, kernel_size=3, activation='relu'))\n",
    "model_crs.add(MaxPooling1D(pool_size=3))\n",
    "'''\n",
    "model_crs.add(Flatten())\n",
    "#model_crs.add(Dropout(0.5))\n",
    "model_crs.add(Dense(2000, activation='relu'))\n",
    "model_crs.add(Dense(n_outputs, activation='softmax'))\n",
    "model_crs.compile(optimizer='rmsprop', loss='categorical_crossentropy', metrics=['accuracy'])\n",
    "# fit network   #CategoricalCrossentropy #sparse_categorical_crossentropy #SparseCategoricalCrossentropy\n",
    "\n",
    "earlystopping = callbacks.EarlyStopping(monitor =\"val_accuracy\", mode =\"max\", patience = 20, restore_best_weights = True)\n",
    "\n",
    "model_crs.fit(X_train, y_train_cat, epochs=epochs, batch_size=batch_size, verbose=verbose, validation_data = (X_valid, y_valid_cat), callbacks =[earlystopping])\n",
    "# evaluate model_crs\n",
    "_, accuracy = model_crs.evaluate(X_valid, y_valid_cat, batch_size=batch_size, verbose=1)\n",
    "\n",
    "print('np.shape(X_test)=',np.shape(X_test))\n",
    "\n",
    "\n",
    "model_crs.summary()\n",
    "print('Accuracy= ', accuracy)\n",
    "\n",
    "#output = K.function([model_crs.layers[0].input],[model_crs.layers[3].output])\n",
    "#output(X_test)[0]\n",
    "#y_pred= model_crs.predict(X_test)                # Function 1\n",
    "\n",
    "##    print('Round ', i, '==>', 'accuracy = ', accuracy)\n",
    "##    acc_crs=np.append(acc_crs,accuracy)\n",
    "#y_pred_crs = model_crs.predict_classes(X_test)   # Function 2"
   ]
  },
  {
   "cell_type": "code",
   "execution_count": 24,
   "metadata": {},
   "outputs": [],
   "source": [
    "def maxindx(ar):\n",
    "    ar_cpy=np.array(ar)\n",
    "    pred=np.argmax(ar,axis=1)\n",
    "    for i in range (len(pred)):\n",
    "        if pred[i]==0:\n",
    "            ar_cpy[i,0]=-1000\n",
    "    pred=np.argmax(ar_cpy,axis=1)\n",
    "    return(pred)"
   ]
  },
  {
   "cell_type": "code",
   "execution_count": 25,
   "metadata": {},
   "outputs": [
    {
     "name": "stdout",
     "output_type": "stream",
     "text": [
      "18/18 [==============================] - 0s 5ms/step\n",
      "array([[16,  5, 27,  2,  1,  2,  0],\n",
      "       [ 7, 18, 33, 12,  9,  4,  3],\n",
      "       [ 1, 10, 33, 15, 17,  1,  8],\n",
      "       [ 0,  4, 18, 30, 23,  5, 10],\n",
      "       [ 2,  3, 17, 28, 38,  8,  5],\n",
      "       [ 2,  2,  7, 16, 16, 35,  6],\n",
      "       [ 0,  1,  1, 13, 14, 14,  8]], dtype=int64)\n",
      "              precision    recall  f1-score   support\n",
      "\n",
      "           1       0.57      0.30      0.40        53\n",
      "           2       0.42      0.21      0.28        86\n",
      "           3       0.24      0.39      0.30        85\n",
      "           4       0.26      0.33      0.29        90\n",
      "           5       0.32      0.38      0.35       101\n",
      "           6       0.51      0.42      0.46        84\n",
      "           7       0.20      0.16      0.18        51\n",
      "\n",
      "    accuracy                           0.32       550\n",
      "   macro avg       0.36      0.31      0.32       550\n",
      "weighted avg       0.36      0.32      0.33       550\n",
      "\n"
     ]
    }
   ],
   "source": [
    "predict_x=model_crs.predict(X_test)              # Function 1\n",
    "\n",
    "y_pred_crs=maxindx(predict_x)                    # function from augment.py to remove 0 index predictions\n",
    "\n",
    "#y_pred_crs = model_crs.predict_classes(X_test)\n",
    "\n",
    "cm = confusion_matrix(y_test, y_pred_crs)\n",
    "fullprint(cm)\n",
    "acc3=accuracy_score(y_test, y_pred_crs)\n",
    "\n",
    "print(classification_report(y_test, y_pred_crs))\n",
    "\n",
    "#sns.heatmap(cm, annot=True)\n",
    "\n",
    "#plt.imshow(cm)"
   ]
  },
  {
   "cell_type": "code",
   "execution_count": 26,
   "metadata": {},
   "outputs": [
    {
     "name": "stdout",
     "output_type": "stream",
     "text": [
      "Epoch 1/1000\n",
      "5/5 [==============================] - 1s 49ms/step - loss: 2.1777 - accuracy: 0.1300 - val_loss: 1.9857 - val_accuracy: 0.1400\n",
      "Epoch 2/1000\n",
      "5/5 [==============================] - 0s 19ms/step - loss: 2.0809 - accuracy: 0.1300 - val_loss: 1.9254 - val_accuracy: 0.1800\n",
      "Epoch 3/1000\n",
      "5/5 [==============================] - 0s 18ms/step - loss: 1.9405 - accuracy: 0.1400 - val_loss: 1.8861 - val_accuracy: 0.2700\n",
      "Epoch 4/1000\n",
      "5/5 [==============================] - 0s 16ms/step - loss: 1.8879 - accuracy: 0.2300 - val_loss: 1.7988 - val_accuracy: 0.2600\n",
      "Epoch 5/1000\n",
      "5/5 [==============================] - 0s 18ms/step - loss: 1.8626 - accuracy: 0.2400 - val_loss: 1.8275 - val_accuracy: 0.3600\n",
      "Epoch 6/1000\n",
      "5/5 [==============================] - 0s 15ms/step - loss: 1.7972 - accuracy: 0.2900 - val_loss: 1.7478 - val_accuracy: 0.3000\n",
      "Epoch 7/1000\n",
      "5/5 [==============================] - 0s 18ms/step - loss: 1.7890 - accuracy: 0.2100 - val_loss: 1.6701 - val_accuracy: 0.4100\n",
      "Epoch 8/1000\n",
      "5/5 [==============================] - 0s 16ms/step - loss: 1.6868 - accuracy: 0.3500 - val_loss: 1.6482 - val_accuracy: 0.3600\n",
      "Epoch 9/1000\n",
      "5/5 [==============================] - 0s 15ms/step - loss: 1.6736 - accuracy: 0.3500 - val_loss: 1.5871 - val_accuracy: 0.3300\n",
      "Epoch 10/1000\n",
      "5/5 [==============================] - 0s 18ms/step - loss: 1.6453 - accuracy: 0.3300 - val_loss: 1.5505 - val_accuracy: 0.4200\n",
      "Epoch 11/1000\n",
      "5/5 [==============================] - 0s 16ms/step - loss: 1.7300 - accuracy: 0.3200 - val_loss: 1.6009 - val_accuracy: 0.3700\n",
      "Epoch 12/1000\n",
      "5/5 [==============================] - 0s 16ms/step - loss: 1.5670 - accuracy: 0.3900 - val_loss: 1.4410 - val_accuracy: 0.3800\n",
      "Epoch 13/1000\n",
      "5/5 [==============================] - 0s 16ms/step - loss: 1.6538 - accuracy: 0.3000 - val_loss: 1.4660 - val_accuracy: 0.3800\n",
      "Epoch 14/1000\n",
      "5/5 [==============================] - 0s 18ms/step - loss: 1.5289 - accuracy: 0.3600 - val_loss: 1.3246 - val_accuracy: 0.5400\n",
      "Epoch 15/1000\n",
      "5/5 [==============================] - 0s 16ms/step - loss: 1.5379 - accuracy: 0.4500 - val_loss: 1.3872 - val_accuracy: 0.4300\n",
      "Epoch 16/1000\n",
      "5/5 [==============================] - 0s 16ms/step - loss: 1.4032 - accuracy: 0.4100 - val_loss: 1.2954 - val_accuracy: 0.4400\n",
      "Epoch 17/1000\n",
      "5/5 [==============================] - 0s 15ms/step - loss: 1.4529 - accuracy: 0.4300 - val_loss: 1.3361 - val_accuracy: 0.4700\n",
      "Epoch 18/1000\n",
      "5/5 [==============================] - 0s 16ms/step - loss: 1.3192 - accuracy: 0.4400 - val_loss: 1.2084 - val_accuracy: 0.4900\n",
      "Epoch 19/1000\n",
      "5/5 [==============================] - 0s 16ms/step - loss: 1.4146 - accuracy: 0.4000 - val_loss: 1.2127 - val_accuracy: 0.5400\n",
      "Epoch 20/1000\n",
      "5/5 [==============================] - 0s 15ms/step - loss: 1.3387 - accuracy: 0.4600 - val_loss: 1.2000 - val_accuracy: 0.4600\n",
      "Epoch 21/1000\n",
      "5/5 [==============================] - 0s 16ms/step - loss: 1.3948 - accuracy: 0.4400 - val_loss: 1.1945 - val_accuracy: 0.5300\n",
      "Epoch 22/1000\n",
      "5/5 [==============================] - 0s 16ms/step - loss: 1.2004 - accuracy: 0.5500 - val_loss: 1.1375 - val_accuracy: 0.5000\n",
      "Epoch 23/1000\n",
      "5/5 [==============================] - 0s 18ms/step - loss: 1.2570 - accuracy: 0.4800 - val_loss: 1.1963 - val_accuracy: 0.5600\n",
      "Epoch 24/1000\n",
      "5/5 [==============================] - 0s 18ms/step - loss: 1.2306 - accuracy: 0.5100 - val_loss: 1.0224 - val_accuracy: 0.5900\n",
      "Epoch 25/1000\n",
      "5/5 [==============================] - 0s 16ms/step - loss: 1.1052 - accuracy: 0.5200 - val_loss: 1.1931 - val_accuracy: 0.5100\n",
      "Epoch 26/1000\n",
      "5/5 [==============================] - 0s 19ms/step - loss: 1.1653 - accuracy: 0.5100 - val_loss: 0.9710 - val_accuracy: 0.6200\n",
      "Epoch 27/1000\n",
      "5/5 [==============================] - 0s 16ms/step - loss: 1.0833 - accuracy: 0.5900 - val_loss: 1.2604 - val_accuracy: 0.5000\n",
      "Epoch 28/1000\n",
      "5/5 [==============================] - 0s 16ms/step - loss: 1.1226 - accuracy: 0.5700 - val_loss: 0.9580 - val_accuracy: 0.5700\n",
      "Epoch 29/1000\n",
      "5/5 [==============================] - 0s 16ms/step - loss: 0.9952 - accuracy: 0.5700 - val_loss: 0.9037 - val_accuracy: 0.6000\n",
      "Epoch 30/1000\n",
      "5/5 [==============================] - 0s 16ms/step - loss: 0.9130 - accuracy: 0.6100 - val_loss: 0.9984 - val_accuracy: 0.6000\n",
      "Epoch 31/1000\n",
      "5/5 [==============================] - 0s 19ms/step - loss: 1.0048 - accuracy: 0.5600 - val_loss: 0.7088 - val_accuracy: 0.7400\n",
      "Epoch 32/1000\n",
      "5/5 [==============================] - 0s 16ms/step - loss: 0.8830 - accuracy: 0.6400 - val_loss: 0.7640 - val_accuracy: 0.7000\n",
      "Epoch 33/1000\n",
      "5/5 [==============================] - 0s 16ms/step - loss: 0.8544 - accuracy: 0.6600 - val_loss: 1.9073 - val_accuracy: 0.3300\n",
      "Epoch 34/1000\n",
      "5/5 [==============================] - 0s 19ms/step - loss: 1.2815 - accuracy: 0.5000 - val_loss: 0.7201 - val_accuracy: 0.7900\n",
      "Epoch 35/1000\n",
      "5/5 [==============================] - 0s 17ms/step - loss: 0.7218 - accuracy: 0.7100 - val_loss: 0.6121 - val_accuracy: 0.7600\n",
      "Epoch 36/1000\n",
      "5/5 [==============================] - 0s 16ms/step - loss: 0.7355 - accuracy: 0.7000 - val_loss: 0.7332 - val_accuracy: 0.6700\n",
      "Epoch 37/1000\n",
      "5/5 [==============================] - 0s 16ms/step - loss: 0.7391 - accuracy: 0.6900 - val_loss: 0.6735 - val_accuracy: 0.7500\n",
      "Epoch 38/1000\n",
      "5/5 [==============================] - 0s 16ms/step - loss: 0.5897 - accuracy: 0.7600 - val_loss: 0.6717 - val_accuracy: 0.7200\n",
      "Epoch 39/1000\n",
      "5/5 [==============================] - 0s 17ms/step - loss: 0.9624 - accuracy: 0.6300 - val_loss: 0.6243 - val_accuracy: 0.7500\n",
      "Epoch 40/1000\n",
      "5/5 [==============================] - 0s 19ms/step - loss: 0.7052 - accuracy: 0.7000 - val_loss: 0.4527 - val_accuracy: 0.8100\n",
      "Epoch 41/1000\n",
      "5/5 [==============================] - 0s 16ms/step - loss: 0.6293 - accuracy: 0.7400 - val_loss: 0.6087 - val_accuracy: 0.7500\n",
      "Epoch 42/1000\n",
      "5/5 [==============================] - 0s 19ms/step - loss: 0.6139 - accuracy: 0.7500 - val_loss: 0.4133 - val_accuracy: 0.8500\n",
      "Epoch 43/1000\n",
      "5/5 [==============================] - 0s 17ms/step - loss: 0.6228 - accuracy: 0.7300 - val_loss: 0.5732 - val_accuracy: 0.7800\n",
      "Epoch 44/1000\n",
      "5/5 [==============================] - 0s 16ms/step - loss: 0.6457 - accuracy: 0.7200 - val_loss: 0.4745 - val_accuracy: 0.8000\n",
      "Epoch 45/1000\n",
      "5/5 [==============================] - 0s 16ms/step - loss: 0.6512 - accuracy: 0.7700 - val_loss: 0.5218 - val_accuracy: 0.7800\n",
      "Epoch 46/1000\n",
      "5/5 [==============================] - 0s 16ms/step - loss: 0.4665 - accuracy: 0.8000 - val_loss: 0.7147 - val_accuracy: 0.6700\n",
      "Epoch 47/1000\n",
      "5/5 [==============================] - 0s 16ms/step - loss: 0.4900 - accuracy: 0.8200 - val_loss: 0.4043 - val_accuracy: 0.8400\n",
      "Epoch 48/1000\n",
      "5/5 [==============================] - 0s 17ms/step - loss: 0.5994 - accuracy: 0.8000 - val_loss: 0.9053 - val_accuracy: 0.7000\n",
      "Epoch 49/1000\n",
      "5/5 [==============================] - 0s 20ms/step - loss: 0.6543 - accuracy: 0.6900 - val_loss: 0.3246 - val_accuracy: 0.9100\n",
      "Epoch 50/1000\n",
      "5/5 [==============================] - 0s 16ms/step - loss: 0.4886 - accuracy: 0.8200 - val_loss: 0.4117 - val_accuracy: 0.8500\n",
      "Epoch 51/1000\n",
      "5/5 [==============================] - 0s 17ms/step - loss: 0.3811 - accuracy: 0.8500 - val_loss: 0.3513 - val_accuracy: 0.8700\n",
      "Epoch 52/1000\n",
      "5/5 [==============================] - 0s 16ms/step - loss: 0.5805 - accuracy: 0.7800 - val_loss: 0.5729 - val_accuracy: 0.8100\n",
      "Epoch 53/1000\n",
      "5/5 [==============================] - 0s 17ms/step - loss: 0.4475 - accuracy: 0.8400 - val_loss: 0.5190 - val_accuracy: 0.7900\n",
      "Epoch 54/1000\n",
      "5/5 [==============================] - 0s 17ms/step - loss: 0.2644 - accuracy: 0.9400 - val_loss: 0.2272 - val_accuracy: 0.9100\n",
      "Epoch 55/1000\n",
      "5/5 [==============================] - 0s 16ms/step - loss: 0.2340 - accuracy: 0.9200 - val_loss: 0.3010 - val_accuracy: 0.8700\n",
      "Epoch 56/1000\n",
      "5/5 [==============================] - 0s 20ms/step - loss: 0.5752 - accuracy: 0.8000 - val_loss: 0.2455 - val_accuracy: 0.9200\n",
      "Epoch 57/1000\n",
      "5/5 [==============================] - 0s 17ms/step - loss: 0.2295 - accuracy: 0.9300 - val_loss: 0.2611 - val_accuracy: 0.9100\n",
      "Epoch 58/1000\n",
      "5/5 [==============================] - 0s 17ms/step - loss: 0.3135 - accuracy: 0.8600 - val_loss: 0.3618 - val_accuracy: 0.8300\n"
     ]
    },
    {
     "name": "stdout",
     "output_type": "stream",
     "text": [
      "Epoch 59/1000\n",
      "5/5 [==============================] - 0s 16ms/step - loss: 0.6439 - accuracy: 0.7400 - val_loss: 0.3880 - val_accuracy: 0.8300\n",
      "Epoch 60/1000\n",
      "5/5 [==============================] - 0s 19ms/step - loss: 0.2614 - accuracy: 0.9000 - val_loss: 0.1026 - val_accuracy: 0.9800\n",
      "Epoch 61/1000\n",
      "5/5 [==============================] - 0s 17ms/step - loss: 0.1304 - accuracy: 0.9700 - val_loss: 0.1665 - val_accuracy: 0.9400\n",
      "Epoch 62/1000\n",
      "5/5 [==============================] - 0s 18ms/step - loss: 0.2546 - accuracy: 0.8900 - val_loss: 0.1927 - val_accuracy: 0.9300\n",
      "Epoch 63/1000\n",
      "5/5 [==============================] - 0s 17ms/step - loss: 0.1478 - accuracy: 0.9400 - val_loss: 0.2935 - val_accuracy: 0.9000\n",
      "Epoch 64/1000\n",
      "5/5 [==============================] - 0s 17ms/step - loss: 0.2659 - accuracy: 0.9200 - val_loss: 0.2465 - val_accuracy: 0.9200\n",
      "Epoch 65/1000\n",
      "5/5 [==============================] - 0s 17ms/step - loss: 0.7870 - accuracy: 0.8300 - val_loss: 0.2260 - val_accuracy: 0.9100\n",
      "Epoch 66/1000\n",
      "5/5 [==============================] - 0s 17ms/step - loss: 0.2084 - accuracy: 0.9200 - val_loss: 0.1001 - val_accuracy: 0.9700\n",
      "Epoch 67/1000\n",
      "5/5 [==============================] - 0s 17ms/step - loss: 0.1063 - accuracy: 0.9700 - val_loss: 0.2023 - val_accuracy: 0.9400\n",
      "Epoch 68/1000\n",
      "5/5 [==============================] - 0s 17ms/step - loss: 0.3741 - accuracy: 0.8900 - val_loss: 0.1657 - val_accuracy: 0.9300\n",
      "Epoch 69/1000\n",
      "5/5 [==============================] - 0s 17ms/step - loss: 0.1371 - accuracy: 0.9400 - val_loss: 0.1435 - val_accuracy: 0.9400\n",
      "Epoch 70/1000\n",
      "5/5 [==============================] - 0s 17ms/step - loss: 0.4617 - accuracy: 0.8600 - val_loss: 0.1167 - val_accuracy: 0.9700\n",
      "Epoch 71/1000\n",
      "5/5 [==============================] - 0s 17ms/step - loss: 0.1407 - accuracy: 0.9400 - val_loss: 0.0922 - val_accuracy: 0.9500\n",
      "Epoch 72/1000\n",
      "5/5 [==============================] - 0s 19ms/step - loss: 0.1065 - accuracy: 0.9600 - val_loss: 0.0378 - val_accuracy: 0.9900\n",
      "Epoch 73/1000\n",
      "5/5 [==============================] - 0s 17ms/step - loss: 0.0403 - accuracy: 0.9900 - val_loss: 0.0296 - val_accuracy: 0.9900\n",
      "Epoch 74/1000\n",
      "5/5 [==============================] - 0s 17ms/step - loss: 0.0240 - accuracy: 0.9900 - val_loss: 0.1000 - val_accuracy: 0.9800\n",
      "Epoch 75/1000\n",
      "5/5 [==============================] - 0s 17ms/step - loss: 0.3402 - accuracy: 0.9200 - val_loss: 0.7309 - val_accuracy: 0.8100\n",
      "Epoch 76/1000\n",
      "5/5 [==============================] - 0s 17ms/step - loss: 0.6482 - accuracy: 0.7900 - val_loss: 0.0578 - val_accuracy: 0.9900\n",
      "Epoch 77/1000\n",
      "5/5 [==============================] - 0s 19ms/step - loss: 0.0551 - accuracy: 0.9900 - val_loss: 0.0317 - val_accuracy: 1.0000\n",
      "Epoch 78/1000\n",
      "5/5 [==============================] - 0s 17ms/step - loss: 0.0322 - accuracy: 1.0000 - val_loss: 0.0195 - val_accuracy: 1.0000\n",
      "Epoch 79/1000\n",
      "5/5 [==============================] - 0s 17ms/step - loss: 0.0242 - accuracy: 1.0000 - val_loss: 0.0357 - val_accuracy: 0.9800\n",
      "Epoch 80/1000\n",
      "5/5 [==============================] - 0s 17ms/step - loss: 0.0282 - accuracy: 1.0000 - val_loss: 0.0740 - val_accuracy: 0.9600\n",
      "Epoch 81/1000\n",
      "5/5 [==============================] - 0s 17ms/step - loss: 0.6983 - accuracy: 0.8300 - val_loss: 0.7005 - val_accuracy: 0.7800\n",
      "Epoch 82/1000\n",
      "5/5 [==============================] - 0s 17ms/step - loss: 0.3834 - accuracy: 0.8700 - val_loss: 0.0430 - val_accuracy: 1.0000\n",
      "Epoch 83/1000\n",
      "5/5 [==============================] - 0s 18ms/step - loss: 0.0365 - accuracy: 1.0000 - val_loss: 0.0165 - val_accuracy: 1.0000\n",
      "Epoch 84/1000\n",
      "5/5 [==============================] - 0s 17ms/step - loss: 0.0214 - accuracy: 1.0000 - val_loss: 0.0170 - val_accuracy: 1.0000\n",
      "Epoch 85/1000\n",
      "5/5 [==============================] - 0s 17ms/step - loss: 0.0174 - accuracy: 1.0000 - val_loss: 0.0153 - val_accuracy: 0.9900\n",
      "Epoch 86/1000\n",
      "5/5 [==============================] - 0s 17ms/step - loss: 0.0153 - accuracy: 0.9900 - val_loss: 0.0616 - val_accuracy: 0.9800\n",
      "Epoch 87/1000\n",
      "5/5 [==============================] - 0s 17ms/step - loss: 0.1101 - accuracy: 0.9600 - val_loss: 2.0363 - val_accuracy: 0.6800\n",
      "Epoch 88/1000\n",
      "5/5 [==============================] - 0s 17ms/step - loss: 0.8574 - accuracy: 0.8500 - val_loss: 0.0586 - val_accuracy: 0.9700\n",
      "Epoch 89/1000\n",
      "5/5 [==============================] - 0s 17ms/step - loss: 0.0452 - accuracy: 0.9900 - val_loss: 0.0147 - val_accuracy: 1.0000\n",
      "Epoch 90/1000\n",
      "5/5 [==============================] - 0s 17ms/step - loss: 0.0149 - accuracy: 1.0000 - val_loss: 0.0096 - val_accuracy: 1.0000\n",
      "Epoch 91/1000\n",
      "5/5 [==============================] - 0s 17ms/step - loss: 0.0091 - accuracy: 1.0000 - val_loss: 0.0052 - val_accuracy: 1.0000\n",
      "Epoch 92/1000\n",
      "5/5 [==============================] - 0s 17ms/step - loss: 0.0060 - accuracy: 1.0000 - val_loss: 0.0047 - val_accuracy: 1.0000\n",
      "Epoch 93/1000\n",
      "5/5 [==============================] - 0s 17ms/step - loss: 0.0071 - accuracy: 1.0000 - val_loss: 0.0048 - val_accuracy: 1.0000\n",
      "Epoch 94/1000\n",
      "5/5 [==============================] - 0s 17ms/step - loss: 0.0049 - accuracy: 1.0000 - val_loss: 0.0351 - val_accuracy: 0.9900\n",
      "Epoch 95/1000\n",
      "5/5 [==============================] - 0s 17ms/step - loss: 0.3936 - accuracy: 0.9000 - val_loss: 1.7967 - val_accuracy: 0.6600\n",
      "Epoch 96/1000\n",
      "5/5 [==============================] - 0s 17ms/step - loss: 0.6235 - accuracy: 0.8300 - val_loss: 0.0528 - val_accuracy: 0.9900\n",
      "Epoch 97/1000\n",
      "5/5 [==============================] - 0s 18ms/step - loss: 0.0432 - accuracy: 1.0000 - val_loss: 0.0144 - val_accuracy: 1.0000\n",
      "5/5 [==============================] - 0s 3ms/step - loss: 0.0317 - accuracy: 1.0000\n",
      "np.shape(X_test)= (550, 480, 1)\n",
      "Model: \"sequential_1\"\n",
      "_________________________________________________________________\n",
      " Layer (type)                Output Shape              Param #   \n",
      "=================================================================\n",
      " conv1d_5 (Conv1D)           (None, 478, 64)           256       \n",
      "                                                                 \n",
      " conv1d_6 (Conv1D)           (None, 476, 128)          24704     \n",
      "                                                                 \n",
      " max_pooling1d_4 (MaxPooling  (None, 158, 128)         0         \n",
      " 1D)                                                             \n",
      "                                                                 \n",
      " conv1d_7 (Conv1D)           (None, 156, 256)          98560     \n",
      "                                                                 \n",
      " max_pooling1d_5 (MaxPooling  (None, 52, 256)          0         \n",
      " 1D)                                                             \n",
      "                                                                 \n",
      " conv1d_8 (Conv1D)           (None, 50, 256)           196864    \n",
      "                                                                 \n",
      " max_pooling1d_6 (MaxPooling  (None, 16, 256)          0         \n",
      " 1D)                                                             \n",
      "                                                                 \n",
      " conv1d_9 (Conv1D)           (None, 14, 512)           393728    \n",
      "                                                                 \n",
      " max_pooling1d_7 (MaxPooling  (None, 4, 512)           0         \n",
      " 1D)                                                             \n",
      "                                                                 \n",
      " flatten_1 (Flatten)         (None, 2048)              0         \n",
      "                                                                 \n",
      " dense_2 (Dense)             (None, 2000)              4098000   \n",
      "                                                                 \n",
      " dense_3 (Dense)             (None, 8)                 16008     \n",
      "                                                                 \n",
      "=================================================================\n",
      "Total params: 4,828,120\n",
      "Trainable params: 4,828,120\n",
      "Non-trainable params: 0\n",
      "_________________________________________________________________\n",
      "Accuracy=  1.0\n"
     ]
    }
   ],
   "source": [
    "accuracy=0\n",
    "acc_crs=np.array([])\n",
    "##for i in range (10):\n",
    "##    if accuracy<0.2 :\n",
    "\n",
    "verbose, epochs, batch_size = 1, 1000, btch\n",
    "n_timesteps, n_features, n_outputs = X_train.shape[1], X_train.shape[2], y_train_cat.shape[1]\n",
    "steps_per_epoch = len(X_train)//batch_size\n",
    "validation_steps = len(X_valid)//batch_size # if you have test data\n",
    "\n",
    "model_crs = Sequential()\n",
    "BatchNormalization()\n",
    "model_crs.add(Conv1D(filters=64, kernel_size=3, activation='relu', input_shape=(n_timesteps,n_features)))\n",
    "#model_crs.add(MaxPooling1D(pool_size=3))\n",
    "BatchNormalization()\n",
    "model_crs.add(Conv1D(filters=128, kernel_size=3, activation='relu'))\n",
    "#model_crs.add(Dropout(0.5))\n",
    "model_crs.add(MaxPooling1D(pool_size=3))\n",
    "BatchNormalization()\n",
    "model_crs.add(Conv1D(filters=256, kernel_size=3, activation='relu'))\n",
    "model_crs.add(MaxPooling1D(pool_size=3))\n",
    "BatchNormalization()\n",
    "model_crs.add(Conv1D(filters=256, kernel_size=3, activation='relu'))\n",
    "model_crs.add(MaxPooling1D(pool_size=3))\n",
    "BatchNormalization()\n",
    "model_crs.add(Conv1D(filters=512, kernel_size=3, activation='relu'))\n",
    "model_crs.add(MaxPooling1D(pool_size=3))\n",
    "'''model_crs.add(Conv1D(filters=512, kernel_size=3, activation='relu'))\n",
    "model_crs.add(MaxPooling1D(pool_size=3))\n",
    "model_crs.add(Conv1D(filters=1024, kernel_size=3, activation='relu'))\n",
    "model_crs.add(MaxPooling1D(pool_size=3))\n",
    "'''\n",
    "model_crs.add(Flatten())\n",
    "#model_crs.add(Dropout(0.5))\n",
    "model_crs.add(Dense(2000, activation='relu'))\n",
    "model_crs.add(Dense(n_outputs, activation='softmax'))\n",
    "model_crs.compile(optimizer='rmsprop', loss='categorical_crossentropy', metrics=['accuracy'])\n",
    "# fit network   #CategoricalCrossentropy #sparse_categorical_crossentropy #SparseCategoricalCrossentropy\n",
    "\n",
    "earlystopping = callbacks.EarlyStopping(monitor =\"val_accuracy\", mode =\"max\", patience = 20, restore_best_weights = True)\n",
    "\n",
    "model_crs.fit(X_train, y_train_cat, epochs=epochs, batch_size=batch_size, verbose=verbose, validation_data = (X_valid, y_valid_cat), callbacks =[earlystopping])\n",
    "# evaluate model_crs\n",
    "_, accuracy = model_crs.evaluate(X_valid, y_valid_cat, batch_size=batch_size, verbose=1)\n",
    "\n",
    "print('np.shape(X_test)=',np.shape(X_test))\n",
    "\n",
    "\n",
    "model_crs.summary()\n",
    "print('Accuracy= ', accuracy)\n",
    "\n",
    "#output = K.function([model_crs.layers[0].input],[model_crs.layers[3].output])\n",
    "#output(X_test)[0]\n",
    "#y_pred= model_crs.predict(X_test)                # Function 1\n",
    "\n",
    "##    print('Round ', i, '==>', 'accuracy = ', accuracy)\n",
    "##    acc_crs=np.append(acc_crs,accuracy)\n",
    "#y_pred_crs = model_crs.predict_classes(X_test)   # Function 2"
   ]
  },
  {
   "cell_type": "code",
   "execution_count": 27,
   "metadata": {},
   "outputs": [
    {
     "name": "stdout",
     "output_type": "stream",
     "text": [
      "18/18 [==============================] - 0s 7ms/step\n",
      "array([[23,  5, 18,  3,  3,  1,  0],\n",
      "       [ 9, 26, 28, 10,  6,  1,  6],\n",
      "       [ 3, 18, 27, 14, 15,  1,  7],\n",
      "       [ 1,  7,  5, 29, 28,  4, 16],\n",
      "       [ 2,  4, 10, 29, 37, 10,  9],\n",
      "       [ 1,  2,  6, 13, 18, 31, 13],\n",
      "       [ 0,  0,  1, 13, 17, 10, 10]], dtype=int64)\n",
      "              precision    recall  f1-score   support\n",
      "\n",
      "           1       0.59      0.43      0.50        53\n",
      "           2       0.42      0.30      0.35        86\n",
      "           3       0.28      0.32      0.30        85\n",
      "           4       0.26      0.32      0.29        90\n",
      "           5       0.30      0.37      0.33       101\n",
      "           6       0.53      0.37      0.44        84\n",
      "           7       0.16      0.20      0.18        51\n",
      "\n",
      "    accuracy                           0.33       550\n",
      "   macro avg       0.36      0.33      0.34       550\n",
      "weighted avg       0.36      0.33      0.34       550\n",
      "\n"
     ]
    }
   ],
   "source": [
    "predict_x=model_crs.predict(X_test)              # Function 1\n",
    "\n",
    "y_pred_crs=maxindx(predict_x)                    # function from augment.py to remove 0 index predictions\n",
    "\n",
    "#y_pred_crs = model_crs.predict_classes(X_test)\n",
    "\n",
    "cm = confusion_matrix(y_test, y_pred_crs)\n",
    "fullprint(cm)\n",
    "acc3=accuracy_score(y_test, y_pred_crs)\n",
    "\n",
    "print(classification_report(y_test, y_pred_crs))\n",
    "\n",
    "#sns.heatmap(cm, annot=True)\n",
    "\n",
    "#plt.imshow(cm)"
   ]
  },
  {
   "cell_type": "code",
   "execution_count": null,
   "metadata": {},
   "outputs": [],
   "source": []
  }
 ],
 "metadata": {
  "celltoolbar": "Raw Cell Format",
  "kernelspec": {
   "display_name": "Python 3 (ipykernel)",
   "language": "python",
   "name": "python3"
  },
  "language_info": {
   "codemirror_mode": {
    "name": "ipython",
    "version": 3
   },
   "file_extension": ".py",
   "mimetype": "text/x-python",
   "name": "python",
   "nbconvert_exporter": "python",
   "pygments_lexer": "ipython3",
   "version": "3.9.7"
  }
 },
 "nbformat": 4,
 "nbformat_minor": 4
}
