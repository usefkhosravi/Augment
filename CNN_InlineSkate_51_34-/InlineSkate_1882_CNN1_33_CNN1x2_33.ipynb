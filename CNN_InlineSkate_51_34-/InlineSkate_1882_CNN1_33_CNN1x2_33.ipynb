{
 "cells": [
  {
   "cell_type": "markdown",
   "metadata": {},
   "source": [
    "import time\n",
    "plc=1\n",
    "time.sleep(3000*plc)         #run after 1 houre = 3600 seconds"
   ]
  },
  {
   "cell_type": "code",
   "execution_count": 1,
   "metadata": {},
   "outputs": [
    {
     "data": {
      "text/html": [
       "<style>#notebook { padding-top:0px !important; } .container { width:100% !important; } .end_space { min-height:0px !important; } html, body, .container{ margin:0!important;padding:0!important;}</style>"
      ],
      "text/plain": [
       "<IPython.core.display.HTML object>"
      ]
     },
     "metadata": {},
     "output_type": "display_data"
    }
   ],
   "source": [
    "import os\n",
    "import glob\n",
    "import scipy\n",
    "import random\n",
    "import bisect\n",
    "import numpy as np\n",
    "import pandas as pd\n",
    "import seaborn as sns\n",
    "from scipy import signal\n",
    "from scipy.signal import find_peaks\n",
    "import matplotlib.pyplot as plt\n",
    "from preprocess import *                         #ماژول استخراج پنجره ها\n",
    "from data import *                          #ماژول محلی ورود داده ها\n",
    "from augment import *                            #ماژول های داده افزایی\n",
    "from lstm_cnn import *                           #ماژول های داده افزایی با lstm_cnn\n",
    "import augment\n",
    "import importlib\n",
    "importlib.reload(augment)\n",
    "import tensorflow as tf\n",
    "from tensorflow import keras\n",
    "from tensorflow.keras.layers import BatchNormalization\n",
    "from sklearn.model_selection import train_test_split\n",
    "from sklearn.neural_network import MLPClassifier\n",
    "from sklearn.datasets import make_classification\n",
    "from sklearn.metrics import confusion_matrix, accuracy_score, classification_report,recall_score,precision_score\n",
    "from tensorflow.keras import callbacks\n",
    "from tensorflow.keras import layers\n",
    "from tensorflow.keras.models import Sequential\n",
    "from tensorflow.keras.layers import Convolution2D,Conv1D,Dropout,MaxPooling1D,MaxPooling2D,Flatten,Dense\n",
    "from tensorflow.keras import backend as K\n",
    "from tensorflow.keras.utils import to_categorical\n",
    "from tensorflow.keras.models import load_model\n",
    "cwd = os.getcwd() #\n",
    "fullscrn()"
   ]
  },
  {
   "cell_type": "markdown",
   "metadata": {},
   "source": [
    "<h1><center><div style=\"direction:rtl;font-family:B Nazanin\">Importing Data</div></center></h1>"
   ]
  },
  {
   "cell_type": "code",
   "execution_count": 2,
   "metadata": {
    "scrolled": true
   },
   "outputs": [
    {
     "name": "stdout",
     "output_type": "stream",
     "text": [
      "first_train_shape= (100, 1883)\n",
      "first_test_shape= (550, 1883)\n",
      "classes_quantity= 7\n",
      "tr_lbls=\t {1, 2, 3, 4, 5, 6, 7}\n",
      "Count_labels= [ 9 14 18 18 16 14 11]\n",
      "max(train_feature_Altitude)= 7.0\n",
      "min(train_feature_Altitude)= -2.2635\n",
      "first_train_sample=\n",
      " [ 2.       -0.036166 -0.15164  ... -0.12786  -0.19202  -0.11038 ]\n",
      "1 9\t2 14\t3 18\t4 18\t5 16\t6 14\t7 11\t"
     ]
    }
   ],
   "source": [
    "rate=1882\n",
    "cls_num=7\n",
    "btch=20\n",
    "for i in range (1,cls_num+1):\n",
    "    vars()['ecg'+str(i)],vars()['ecg_tst'+str(i)]=InlineSkate0(i)\n",
    "\n",
    "os.chdir(cwd)\n",
    "clses_lens=np.array([])\n",
    "i=0                               #جمع آوری داده ها و چاپ تعداد نمونه ی هر کلاس\n",
    "ecg=np.array(ecg1)\n",
    "print(1,len(vars()['ecg'+str(1)]), end='\\t')\n",
    "clses_lens=np.append(clses_lens,len(vars()['ecg'+str(1)]))\n",
    "for i in range (2,cls_num+1):\n",
    "    ecg=np.concatenate((ecg,vars()['ecg'+str(i)]),axis=0)\n",
    "    clses_lens=np.append(clses_lens,len(vars()['ecg'+str(i)]))\n",
    "    print(i,len(vars()['ecg'+str(i)]), end='\\t')\n",
    "\n",
    "mx_sig=max(clses_lens)"
   ]
  },
  {
   "cell_type": "code",
   "execution_count": 3,
   "metadata": {},
   "outputs": [
    {
     "data": {
      "text/plain": [
       "(100, 1883)"
      ]
     },
     "execution_count": 3,
     "metadata": {},
     "output_type": "execute_result"
    }
   ],
   "source": [
    "np.shape(ecg)"
   ]
  },
  {
   "cell_type": "code",
   "execution_count": 4,
   "metadata": {},
   "outputs": [
    {
     "data": {
      "text/plain": [
       "array([1., 1., 1., 1., 1., 1., 1., 1., 1., 2., 2., 2., 2., 2., 2., 2., 2.,\n",
       "       2., 2., 2., 2., 2., 2., 3., 3., 3., 3., 3., 3., 3., 3., 3., 3., 3.,\n",
       "       3., 3., 3., 3., 3., 3., 3., 4., 4., 4., 4., 4., 4., 4., 4., 4., 4.,\n",
       "       4., 4., 4., 4., 4., 4., 4., 4., 5., 5., 5., 5., 5., 5., 5., 5., 5.,\n",
       "       5., 5., 5., 5., 5., 5., 5., 6., 6., 6., 6., 6., 6., 6., 6., 6., 6.,\n",
       "       6., 6., 6., 6., 7., 7., 7., 7., 7., 7., 7., 7., 7., 7., 7.])"
      ]
     },
     "execution_count": 4,
     "metadata": {},
     "output_type": "execute_result"
    }
   ],
   "source": [
    "ecg[:,-1]"
   ]
  },
  {
   "cell_type": "markdown",
   "metadata": {},
   "source": [
    "<h2><center><div style=\"direction:rtl;font-family:B Nazanin\">Base Train windows</div></center></h1>"
   ]
  },
  {
   "cell_type": "code",
   "execution_count": 5,
   "metadata": {},
   "outputs": [
    {
     "name": "stdout",
     "output_type": "stream",
     "text": [
      "each class and its windows =\n",
      "1 9\t2 14\t3 18\t4 18\t5 16\t6 14\t7 11\t\n",
      " max = 18\n"
     ]
    }
   ],
   "source": [
    "smpl_rte=rate                                              # در ماژول ها نیز همین مقدار ثبت شده\n",
    "i=0\n",
    "windws=np.array([])\n",
    "\n",
    "for cls in range (1,cls_num+1):                                 #ساخت پنجره های داده های آموزش اصلی\n",
    "    vars()['wndws'+str(cls)]=np.array(vars()['ecg'+str(cls)])  \n",
    "    \n",
    "print(\"each class and its windows =\")\n",
    "\n",
    "cls_wndws=np.array([])\n",
    "for cls in range (1,cls_num+1):                                # آرایه ی تعداد پنجره ی هر کلاس\n",
    "    wns=len(vars()['wndws'+str(cls)])\n",
    "    cls_wndws=np.append(cls_wndws,wns)\n",
    "    print(cls, wns, end='\\t')\n",
    "\n",
    "mx_wndws=int(np.max(cls_wndws))                        # حداکثر تعداد پنجره ی موجود بین کلاس ها\n",
    "print('\\n max =', mx_wndws)"
   ]
  },
  {
   "cell_type": "raw",
   "metadata": {},
   "source": [
    "#clses=3                                   #تعیین میزان افزایش نمونه (تولید داده)\n",
    "mx_wndws=int(mx_wndws)  #mx_wndws*0.3  # =classes-1 برای بررسی الگوریتم تعداد کمی کلاس آزمایش شد\n",
    "mx_wndws=2598           #+2\n",
    "print(mx_wndws)"
   ]
  },
  {
   "cell_type": "markdown",
   "metadata": {},
   "source": [
    "<h1><center><div style=\"direction:rtl;font-family:B Nazanin\">Data Augmentation</div></center></h1>"
   ]
  },
  {
   "cell_type": "code",
   "execution_count": 6,
   "metadata": {},
   "outputs": [
    {
     "name": "stdout",
     "output_type": "stream",
     "text": [
      "Up to class  1 train shape =  (9, 1883)\n",
      "Up to class  2 train shape =  (23, 1883)\n",
      "Up to class  3 train shape =  (41, 1883)\n",
      "Up to class  4 train shape =  (59, 1883)\n",
      "Up to class  5 train shape =  (75, 1883)\n",
      "Up to class  6 train shape =  (89, 1883)\n",
      "Up to class  7 train shape =  (100, 1883)\n"
     ]
    }
   ],
   "source": [
    "smpl_rte=len(wndws1[0])                                        # در ماژول ها نیز همین مقدار ثبت شده\n",
    "\n",
    "#add augmented data to base data\n",
    "xtrain=np.empty((0,len(wndws1[0])), float) \n",
    "for i in range (1,cls_num+1):   \n",
    "    xtrain=np.append(xtrain,vars()['wndws'+str(i)],axis=0)\n",
    "    print('Up to class ', i, 'train shape = ', np.shape(xtrain))"
   ]
  },
  {
   "cell_type": "code",
   "execution_count": 7,
   "metadata": {},
   "outputs": [
    {
     "name": "stdout",
     "output_type": "stream",
     "text": [
      "[ 0  9 14 18 18 16 14 11]\n"
     ]
    }
   ],
   "source": [
    "print(np.bincount(np.int16(xtrain[:,-1])))    #تعداد پنجره در هر کلاس از 0 تا 17"
   ]
  },
  {
   "cell_type": "code",
   "execution_count": 8,
   "metadata": {},
   "outputs": [
    {
     "data": {
      "text/plain": [
       "array([1., 1., 1., 1., 1., 1., 1., 1., 1., 2., 2., 2., 2., 2., 2., 2., 2.,\n",
       "       2., 2., 2., 2., 2., 2., 3., 3., 3., 3., 3., 3., 3., 3., 3., 3., 3.,\n",
       "       3., 3., 3., 3., 3., 3., 3., 4., 4., 4., 4., 4., 4., 4., 4., 4., 4.,\n",
       "       4., 4., 4., 4., 4., 4., 4., 4., 5., 5., 5., 5., 5., 5., 5., 5., 5.,\n",
       "       5., 5., 5., 5., 5., 5., 5., 6., 6., 6., 6., 6., 6., 6., 6., 6., 6.,\n",
       "       6., 6., 6., 6., 7., 7., 7., 7., 7., 7., 7., 7., 7., 7., 7.])"
      ]
     },
     "execution_count": 8,
     "metadata": {},
     "output_type": "execute_result"
    }
   ],
   "source": [
    "xtrain[:,-1]"
   ]
  },
  {
   "cell_type": "code",
   "execution_count": 9,
   "metadata": {},
   "outputs": [],
   "source": [
    "mx_aug=np.max(xtrain[:,:-1])\n",
    "mx=np.max(ecg[:,:-1])\n",
    "mn_aug=np.min(xtrain[:,:-1])\n",
    "mn=np.min(ecg[:,:-1])\n",
    "\n",
    "#for i in range (1,cls_num+1):             #نرمالسازی داده های افزایشی\n",
    "xtrain[:,:-1]= 2*(xtrain[:,:-1]-mn_aug)/(mx_aug - mn_aug) - 1"
   ]
  },
  {
   "cell_type": "code",
   "execution_count": 10,
   "metadata": {},
   "outputs": [
    {
     "name": "stdout",
     "output_type": "stream",
     "text": [
      "min trn = -1.0\n",
      "max trn = 1.0\n"
     ]
    }
   ],
   "source": [
    "print('min trn =', np.min(xtrain[:,:-1]))\n",
    "print('max trn =', np.max(xtrain[:,:-1]))"
   ]
  },
  {
   "cell_type": "markdown",
   "metadata": {},
   "source": [
    "<h3><center><div style=\"direction:rtl;font-family:B Nazanin\">Test Windows</div></center></h1>"
   ]
  },
  {
   "cell_type": "code",
   "execution_count": 11,
   "metadata": {},
   "outputs": [],
   "source": [
    "wndws_test=np.empty((0,len(wndws1[0])), float)\n",
    "i=0\n",
    "windws=np.array([])\n",
    "for cls in range (1,cls_num+1):                                 #ساخت پنجره های داده های آموزش اصلی\n",
    "    vars()['wndws_tst'+str(cls)]=np.empty((0,len(wndws1[0])), float)\n",
    "    vars()['wndws_tst'+str(cls)]=np.append(vars()['wndws_tst'+str(cls)],vars()['ecg_tst'+str(cls)],axis=0)   "
   ]
  },
  {
   "cell_type": "code",
   "execution_count": 12,
   "metadata": {},
   "outputs": [
    {
     "name": "stdout",
     "output_type": "stream",
     "text": [
      "\n",
      " cls 1  >> \n",
      "max magnitude class 1  =  3.477399999999998\n",
      "min magnitude class 1  =  -2.5181999999999993\n",
      "after normalizing >>\n",
      "max magnitude class 1  =  0.7389289392378988\n",
      "min magnitude class 1  =  -1.0771490882655848\n",
      "\n",
      " cls 2  >> \n",
      "max magnitude class 2  =  3.407200000000001\n",
      "min magnitude class 2  =  -2.3568000000000002\n",
      "after normalizing >>\n",
      "max magnitude class 2  =  0.7176652329314843\n",
      "min magnitude class 2  =  -1.0282607378687836\n",
      "\n",
      " cls 3  >> \n",
      "max magnitude class 3  =  3.340299999999999\n",
      "min magnitude class 3  =  -2.4181999999999992\n",
      "after normalizing >>\n",
      "max magnitude class 3  =  0.6974011025625495\n",
      "min magnitude class 3  =  -1.0468589083419158\n",
      "\n",
      " cls 4  >> \n",
      "max magnitude class 4  =  3.4306\n",
      "min magnitude class 4  =  -2.2704999999999997\n",
      "after normalizing >>\n",
      "max magnitude class 4  =  0.7247531350336227\n",
      "min magnitude class 4  =  -1.0021203125946572\n",
      "\n",
      " cls 5  >> \n",
      "max magnitude class 5  =  3.6146999999999987\n",
      "min magnitude class 5  =  -2.0925999999999987\n",
      "after normalizing >>\n",
      "max magnitude class 5  =  0.7805173562730963\n",
      "min magnitude class 5  =  -0.9482340825104502\n",
      "\n",
      " cls 6  >> \n",
      "max magnitude class 6  =  3.827199999999999\n",
      "min magnitude class 6  =  -2.500199999999999\n",
      "after normalizing >>\n",
      "max magnitude class 6  =  0.8448839886108925\n",
      "min magnitude class 6  =  -1.0716968558793243\n",
      "\n",
      " cls 7  >> \n",
      "max magnitude class 7  =  3.619499999999999\n",
      "min magnitude class 7  =  -2.5188999999999986\n",
      "after normalizing >>\n",
      "max magnitude class 7  =  0.7819712849094325\n",
      "min magnitude class 7  =  -1.07736111952505\n",
      "each class and its windows =\n",
      "1 53\t2 86\t3 85\t4 90\t5 101\t6 84\t7 51\t\n",
      " max instance in classes of test windows = 101\n"
     ]
    }
   ],
   "source": [
    "#print(np.max(wndws_tst))\n",
    "for i in range (1,cls_num+1):                # Normalization test windows\n",
    "    cls=i\n",
    "    print('\\n cls', i, ' >> ')\n",
    "    print('max magnitude class', i , ' = ' ,np.max(vars()['wndws_tst'+str(cls)][:,:-1]))\n",
    "    print('min magnitude class', i , ' = ' ,np.min(vars()['wndws_tst'+str(cls)][:,:-1]))\n",
    "\n",
    "    vars()['wndws_tst'+str(i)][:,:-1]= 2*(vars()['wndws_tst'+str(i)][:,:-1]-mn_aug)/(mx_aug - mn_aug) - 1\n",
    "    \n",
    "    print('after normalizing >>')\n",
    "    print('max magnitude class', i , ' = ' ,np.max(vars()['wndws_tst'+str(cls)][:,:-1]))\n",
    "    print('min magnitude class', i , ' = ' ,np.min(vars()['wndws_tst'+str(cls)][:,:-1]))\n",
    "    \n",
    "print(\"each class and its windows =\")                    #تجمیع کلاس های تست\n",
    "cls_wndws=np.array([])\n",
    "for cls in range (1,cls_num+1):                                # آرایه ی تعداد پنجره ی هر کلاس\n",
    "    wns=len(vars()['wndws_tst'+str(cls)])\n",
    "    cls_wndws=np.append(cls_wndws,wns)\n",
    "    print(cls, wns, end='\\t')\n",
    "    wndws_test=np.append(wndws_test,vars()['wndws_tst'+str(cls)],axis=0)\n",
    "    \n",
    "mx_wndws=int(np.max(cls_wndws))                        # حداکثر تعداد پنجره ی موجود بین کلاس ها\n",
    "print('\\n max instance in classes of test windows =', mx_wndws)"
   ]
  },
  {
   "cell_type": "code",
   "execution_count": 13,
   "metadata": {},
   "outputs": [
    {
     "name": "stdout",
     "output_type": "stream",
     "text": [
      "min tst = -1.07736111952505\n",
      "max tst = 0.8448839886108925\n"
     ]
    }
   ],
   "source": [
    "print('min tst =', np.min(wndws_test[:,:-1]))\n",
    "print('max tst =', np.max(wndws_test[:,:-1]))"
   ]
  },
  {
   "cell_type": "code",
   "execution_count": 14,
   "metadata": {},
   "outputs": [
    {
     "data": {
      "text/plain": [
       "550"
      ]
     },
     "execution_count": 14,
     "metadata": {},
     "output_type": "execute_result"
    }
   ],
   "source": [
    "len(wndws_test)"
   ]
  },
  {
   "cell_type": "code",
   "execution_count": 15,
   "metadata": {},
   "outputs": [
    {
     "data": {
      "text/plain": [
       "(550, 1883)"
      ]
     },
     "execution_count": 15,
     "metadata": {},
     "output_type": "execute_result"
    }
   ],
   "source": [
    "np.shape(wndws_test)"
   ]
  },
  {
   "cell_type": "code",
   "execution_count": 16,
   "metadata": {},
   "outputs": [],
   "source": [
    "Xtest=wndws_test[:,:-1]\n",
    "ytest=np.int16(wndws_test[:,-1])"
   ]
  },
  {
   "cell_type": "code",
   "execution_count": 17,
   "metadata": {},
   "outputs": [
    {
     "name": "stdout",
     "output_type": "stream",
     "text": [
      "array([1, 1, 1, 1, 1, 1, 1, 1, 1, 1, 1, 1, 1, 1, 1, 1, 1, 1, 1, 1, 1, 1,\n",
      "       1, 1, 1, 1, 1, 1, 1, 1, 1, 1, 1, 1, 1, 1, 1, 1, 1, 1, 1, 1, 1, 1,\n",
      "       1, 1, 1, 1, 1, 1, 1, 1, 1, 2, 2, 2, 2, 2, 2, 2, 2, 2, 2, 2, 2, 2,\n",
      "       2, 2, 2, 2, 2, 2, 2, 2, 2, 2, 2, 2, 2, 2, 2, 2, 2, 2, 2, 2, 2, 2,\n",
      "       2, 2, 2, 2, 2, 2, 2, 2, 2, 2, 2, 2, 2, 2, 2, 2, 2, 2, 2, 2, 2, 2,\n",
      "       2, 2, 2, 2, 2, 2, 2, 2, 2, 2, 2, 2, 2, 2, 2, 2, 2, 2, 2, 2, 2, 2,\n",
      "       2, 2, 2, 2, 2, 2, 2, 3, 3, 3, 3, 3, 3, 3, 3, 3, 3, 3, 3, 3, 3, 3,\n",
      "       3, 3, 3, 3, 3, 3, 3, 3, 3, 3, 3, 3, 3, 3, 3, 3, 3, 3, 3, 3, 3, 3,\n",
      "       3, 3, 3, 3, 3, 3, 3, 3, 3, 3, 3, 3, 3, 3, 3, 3, 3, 3, 3, 3, 3, 3,\n",
      "       3, 3, 3, 3, 3, 3, 3, 3, 3, 3, 3, 3, 3, 3, 3, 3, 3, 3, 3, 3, 3, 3,\n",
      "       3, 3, 3, 3, 4, 4, 4, 4, 4, 4, 4, 4, 4, 4, 4, 4, 4, 4, 4, 4, 4, 4,\n",
      "       4, 4, 4, 4, 4, 4, 4, 4, 4, 4, 4, 4, 4, 4, 4, 4, 4, 4, 4, 4, 4, 4,\n",
      "       4, 4, 4, 4, 4, 4, 4, 4, 4, 4, 4, 4, 4, 4, 4, 4, 4, 4, 4, 4, 4, 4,\n",
      "       4, 4, 4, 4, 4, 4, 4, 4, 4, 4, 4, 4, 4, 4, 4, 4, 4, 4, 4, 4, 4, 4,\n",
      "       4, 4, 4, 4, 4, 4, 5, 5, 5, 5, 5, 5, 5, 5, 5, 5, 5, 5, 5, 5, 5, 5,\n",
      "       5, 5, 5, 5, 5, 5, 5, 5, 5, 5, 5, 5, 5, 5, 5, 5, 5, 5, 5, 5, 5, 5,\n",
      "       5, 5, 5, 5, 5, 5, 5, 5, 5, 5, 5, 5, 5, 5, 5, 5, 5, 5, 5, 5, 5, 5,\n",
      "       5, 5, 5, 5, 5, 5, 5, 5, 5, 5, 5, 5, 5, 5, 5, 5, 5, 5, 5, 5, 5, 5,\n",
      "       5, 5, 5, 5, 5, 5, 5, 5, 5, 5, 5, 5, 5, 5, 5, 5, 5, 5, 5, 6, 6, 6,\n",
      "       6, 6, 6, 6, 6, 6, 6, 6, 6, 6, 6, 6, 6, 6, 6, 6, 6, 6, 6, 6, 6, 6,\n",
      "       6, 6, 6, 6, 6, 6, 6, 6, 6, 6, 6, 6, 6, 6, 6, 6, 6, 6, 6, 6, 6, 6,\n",
      "       6, 6, 6, 6, 6, 6, 6, 6, 6, 6, 6, 6, 6, 6, 6, 6, 6, 6, 6, 6, 6, 6,\n",
      "       6, 6, 6, 6, 6, 6, 6, 6, 6, 6, 6, 6, 6, 6, 6, 7, 7, 7, 7, 7, 7, 7,\n",
      "       7, 7, 7, 7, 7, 7, 7, 7, 7, 7, 7, 7, 7, 7, 7, 7, 7, 7, 7, 7, 7, 7,\n",
      "       7, 7, 7, 7, 7, 7, 7, 7, 7, 7, 7, 7, 7, 7, 7, 7, 7, 7, 7, 7, 7, 7],\n",
      "      dtype=int16)\n"
     ]
    }
   ],
   "source": [
    "fullprint(ytest)"
   ]
  },
  {
   "cell_type": "markdown",
   "metadata": {},
   "source": [
    "<h3><center><div style=\"direction:rtl;font-family:B Nazanin\">Train Windows</div></center></h1>"
   ]
  },
  {
   "cell_type": "code",
   "execution_count": 18,
   "metadata": {},
   "outputs": [
    {
     "data": {
      "text/plain": [
       "'\\nytestt=np.int32(np.array([ytest]).T)\\ntestx=np.concatenate((Xtest, ytestt), axis=1)\\ntestx=np.random.permutation(testx)\\nXtest=np.int32(testx[:,:-1])\\nytest=np.int32(testx[:,-1])'"
      ]
     },
     "execution_count": 18,
     "metadata": {},
     "output_type": "execute_result"
    }
   ],
   "source": [
    "#ytraint=np.int32(np.array([ytrain]).T)\n",
    "#trainx=np.concatenate((Xtrain, ytraint), axis=1)\n",
    "trainx=np.random.permutation(xtrain)\n",
    "Xtrain=np.array(trainx[:,:-1])\n",
    "ytrain=np.int16(trainx[:,-1])\n",
    "'''\n",
    "ytestt=np.int32(np.array([ytest]).T)\n",
    "testx=np.concatenate((Xtest, ytestt), axis=1)\n",
    "testx=np.random.permutation(testx)\n",
    "Xtest=np.int32(testx[:,:-1])\n",
    "ytest=np.int32(testx[:,-1])'''"
   ]
  },
  {
   "cell_type": "code",
   "execution_count": 19,
   "metadata": {},
   "outputs": [
    {
     "data": {
      "text/plain": [
       "(9, 1883)"
      ]
     },
     "execution_count": 19,
     "metadata": {},
     "output_type": "execute_result"
    }
   ],
   "source": [
    "np.shape(wndws1)"
   ]
  },
  {
   "cell_type": "markdown",
   "metadata": {},
   "source": [
    "<h3><center><div style=\"direction:rtl;font-family:B Nazanin\">Validation Windows</div></center></h1>"
   ]
  },
  {
   "cell_type": "code",
   "execution_count": 20,
   "metadata": {},
   "outputs": [],
   "source": [
    "Xvalid=np.array(Xtrain)\n",
    "yvalid=np.array(ytrain)"
   ]
  },
  {
   "cell_type": "markdown",
   "metadata": {},
   "source": [
    "<h1><center><div style=\"direction:rtl;font-family:B Nazanin\">CNN And UnBalanced RAW Data</div></center></h1>\n",
    "<h1><center><div style=\"direction:rtl;font-family:Arial\">Cross Entropy Loss Function</div></center></h1>"
   ]
  },
  {
   "cell_type": "code",
   "execution_count": 21,
   "metadata": {
    "scrolled": true
   },
   "outputs": [
    {
     "name": "stdout",
     "output_type": "stream",
     "text": [
      "X_train =>  (100, 1882)\n",
      "y_train =>  (100,)\n",
      "X_test  =>  (550, 1882)\n",
      "y_test  =>  (550,)\n",
      "X_valid  =>  (100, 1882)\n",
      "y_valid  =>  (100,)\n"
     ]
    }
   ],
   "source": [
    "X_train=np.array(Xtrain)\n",
    "y_train=np.array(ytrain)\n",
    "X_test=np.array(Xtest)\n",
    "y_test=np.array(ytest)\n",
    "X_valid=np.array(Xtrain)\n",
    "y_valid=np.array(ytrain)\n",
    "print('X_train => ', X_train.shape)\n",
    "print('y_train => ', y_train.shape)\n",
    "print('X_test  => ', X_test.shape)\n",
    "print('y_test  => ', y_test.shape)\n",
    "print('X_valid  => ', X_valid.shape)\n",
    "print('y_valid  => ', y_valid.shape)"
   ]
  },
  {
   "cell_type": "markdown",
   "metadata": {},
   "source": [
    "y_train=np.array(y_train+1)\n",
    "y_test=np.array(y_test+1)\n",
    "y_valid=np.array(y_valid+1)"
   ]
  },
  {
   "cell_type": "code",
   "execution_count": 22,
   "metadata": {},
   "outputs": [],
   "source": [
    "y_train_cat=to_categorical(y_train)\n",
    "y_valid_cat=to_categorical(y_valid)\n",
    "y_test_cat=to_categorical(y_test)\n",
    "\n",
    "\n",
    "X_train = np.expand_dims(X_train, axis=2)\n",
    "X_valid = np.expand_dims(X_valid, axis=2)\n",
    "X_test = np.expand_dims(X_test, axis=2)\n",
    "#y_train=np.transpose([y_train])"
   ]
  },
  {
   "cell_type": "code",
   "execution_count": 23,
   "metadata": {
    "scrolled": true
   },
   "outputs": [
    {
     "name": "stdout",
     "output_type": "stream",
     "text": [
      "Epoch 1/1000\n",
      "5/5 [==============================] - 3s 65ms/step - loss: 2.5014 - accuracy: 0.1400 - val_loss: 1.9880 - val_accuracy: 0.1800\n",
      "Epoch 2/1000\n",
      "5/5 [==============================] - 0s 25ms/step - loss: 1.9674 - accuracy: 0.1700 - val_loss: 1.8887 - val_accuracy: 0.2200\n",
      "Epoch 3/1000\n",
      "5/5 [==============================] - 0s 25ms/step - loss: 1.9108 - accuracy: 0.2400 - val_loss: 1.8498 - val_accuracy: 0.2600\n",
      "Epoch 4/1000\n",
      "5/5 [==============================] - 0s 26ms/step - loss: 1.7944 - accuracy: 0.2500 - val_loss: 1.7175 - val_accuracy: 0.2800\n",
      "Epoch 5/1000\n",
      "5/5 [==============================] - 0s 27ms/step - loss: 1.7807 - accuracy: 0.2600 - val_loss: 1.6333 - val_accuracy: 0.3200\n",
      "Epoch 6/1000\n",
      "5/5 [==============================] - 0s 26ms/step - loss: 1.6837 - accuracy: 0.2800 - val_loss: 1.5484 - val_accuracy: 0.3600\n",
      "Epoch 7/1000\n",
      "5/5 [==============================] - 0s 26ms/step - loss: 1.6163 - accuracy: 0.3500 - val_loss: 1.4451 - val_accuracy: 0.4000\n",
      "Epoch 8/1000\n",
      "5/5 [==============================] - 0s 30ms/step - loss: 1.5142 - accuracy: 0.3700 - val_loss: 1.3809 - val_accuracy: 0.4900\n",
      "Epoch 9/1000\n",
      "5/5 [==============================] - 0s 21ms/step - loss: 1.5292 - accuracy: 0.3800 - val_loss: 1.4910 - val_accuracy: 0.4800\n",
      "Epoch 10/1000\n",
      "5/5 [==============================] - 0s 26ms/step - loss: 1.4918 - accuracy: 0.3900 - val_loss: 1.2648 - val_accuracy: 0.5100\n",
      "Epoch 11/1000\n",
      "5/5 [==============================] - 0s 25ms/step - loss: 1.3716 - accuracy: 0.4100 - val_loss: 1.1432 - val_accuracy: 0.5300\n",
      "Epoch 12/1000\n",
      "5/5 [==============================] - 0s 21ms/step - loss: 1.3609 - accuracy: 0.4500 - val_loss: 1.3415 - val_accuracy: 0.5300\n",
      "Epoch 13/1000\n",
      "5/5 [==============================] - 0s 25ms/step - loss: 1.2671 - accuracy: 0.4800 - val_loss: 1.1054 - val_accuracy: 0.6000\n",
      "Epoch 14/1000\n",
      "5/5 [==============================] - 0s 21ms/step - loss: 1.2089 - accuracy: 0.5300 - val_loss: 1.0958 - val_accuracy: 0.5900\n",
      "Epoch 15/1000\n",
      "5/5 [==============================] - 0s 25ms/step - loss: 1.0739 - accuracy: 0.6000 - val_loss: 0.9876 - val_accuracy: 0.6300\n",
      "Epoch 16/1000\n",
      "5/5 [==============================] - 0s 25ms/step - loss: 1.4029 - accuracy: 0.5100 - val_loss: 0.9912 - val_accuracy: 0.7100\n",
      "Epoch 17/1000\n",
      "5/5 [==============================] - 0s 22ms/step - loss: 0.9943 - accuracy: 0.6900 - val_loss: 0.9898 - val_accuracy: 0.6300\n",
      "Epoch 18/1000\n",
      "5/5 [==============================] - 0s 20ms/step - loss: 0.9665 - accuracy: 0.6000 - val_loss: 0.9215 - val_accuracy: 0.6200\n",
      "Epoch 19/1000\n",
      "5/5 [==============================] - 0s 19ms/step - loss: 1.0113 - accuracy: 0.5600 - val_loss: 0.9809 - val_accuracy: 0.6100\n",
      "Epoch 20/1000\n",
      "5/5 [==============================] - 0s 25ms/step - loss: 0.8859 - accuracy: 0.6400 - val_loss: 0.6966 - val_accuracy: 0.7700\n",
      "Epoch 21/1000\n",
      "5/5 [==============================] - 0s 19ms/step - loss: 0.8204 - accuracy: 0.7100 - val_loss: 0.6740 - val_accuracy: 0.7300\n",
      "Epoch 22/1000\n",
      "5/5 [==============================] - 0s 20ms/step - loss: 0.6897 - accuracy: 0.7400 - val_loss: 0.6053 - val_accuracy: 0.7500\n",
      "Epoch 23/1000\n",
      "5/5 [==============================] - 0s 25ms/step - loss: 0.8575 - accuracy: 0.6800 - val_loss: 0.5414 - val_accuracy: 0.8300\n",
      "Epoch 24/1000\n",
      "5/5 [==============================] - 0s 20ms/step - loss: 0.6373 - accuracy: 0.7000 - val_loss: 0.5384 - val_accuracy: 0.7700\n",
      "Epoch 25/1000\n",
      "5/5 [==============================] - 0s 19ms/step - loss: 0.7003 - accuracy: 0.7300 - val_loss: 0.5574 - val_accuracy: 0.7900\n",
      "Epoch 26/1000\n",
      "5/5 [==============================] - 0s 19ms/step - loss: 0.4572 - accuracy: 0.8500 - val_loss: 0.5224 - val_accuracy: 0.7900\n",
      "Epoch 27/1000\n",
      "5/5 [==============================] - 0s 25ms/step - loss: 0.5071 - accuracy: 0.8100 - val_loss: 0.3694 - val_accuracy: 0.8800\n",
      "Epoch 28/1000\n",
      "5/5 [==============================] - 0s 20ms/step - loss: 0.7921 - accuracy: 0.7000 - val_loss: 0.4689 - val_accuracy: 0.8100\n",
      "Epoch 29/1000\n",
      "5/5 [==============================] - 0s 24ms/step - loss: 0.4925 - accuracy: 0.7800 - val_loss: 0.3096 - val_accuracy: 0.9000\n",
      "Epoch 30/1000\n",
      "5/5 [==============================] - 0s 20ms/step - loss: 0.5953 - accuracy: 0.7900 - val_loss: 0.4154 - val_accuracy: 0.8400\n",
      "Epoch 31/1000\n",
      "5/5 [==============================] - 0s 20ms/step - loss: 0.4048 - accuracy: 0.8300 - val_loss: 0.4445 - val_accuracy: 0.8300\n",
      "Epoch 32/1000\n",
      "5/5 [==============================] - 0s 26ms/step - loss: 0.8444 - accuracy: 0.7000 - val_loss: 0.2941 - val_accuracy: 0.9200\n",
      "Epoch 33/1000\n",
      "5/5 [==============================] - 0s 26ms/step - loss: 0.3353 - accuracy: 0.9100 - val_loss: 0.2077 - val_accuracy: 0.9600\n",
      "Epoch 34/1000\n",
      "5/5 [==============================] - 0s 20ms/step - loss: 0.3264 - accuracy: 0.8900 - val_loss: 0.2634 - val_accuracy: 0.9000\n",
      "Epoch 35/1000\n",
      "5/5 [==============================] - 0s 20ms/step - loss: 0.2554 - accuracy: 0.8800 - val_loss: 0.2049 - val_accuracy: 0.9200\n",
      "Epoch 36/1000\n",
      "5/5 [==============================] - 0s 20ms/step - loss: 0.2452 - accuracy: 0.9200 - val_loss: 0.4851 - val_accuracy: 0.8200\n",
      "Epoch 37/1000\n",
      "5/5 [==============================] - 0s 21ms/step - loss: 0.3407 - accuracy: 0.8600 - val_loss: 0.3911 - val_accuracy: 0.8300\n",
      "Epoch 38/1000\n",
      "5/5 [==============================] - 0s 20ms/step - loss: 0.3276 - accuracy: 0.8400 - val_loss: 0.4036 - val_accuracy: 0.8400\n",
      "Epoch 39/1000\n",
      "5/5 [==============================] - 0s 19ms/step - loss: 0.2651 - accuracy: 0.9000 - val_loss: 0.1545 - val_accuracy: 0.9600\n",
      "Epoch 40/1000\n",
      "5/5 [==============================] - 0s 20ms/step - loss: 0.4686 - accuracy: 0.8500 - val_loss: 0.4020 - val_accuracy: 0.8900\n",
      "Epoch 41/1000\n",
      "5/5 [==============================] - 0s 25ms/step - loss: 0.2986 - accuracy: 0.8900 - val_loss: 0.1185 - val_accuracy: 0.9800\n",
      "Epoch 42/1000\n",
      "5/5 [==============================] - 0s 20ms/step - loss: 0.2275 - accuracy: 0.9000 - val_loss: 0.3149 - val_accuracy: 0.9100\n",
      "Epoch 43/1000\n",
      "5/5 [==============================] - 0s 25ms/step - loss: 0.2156 - accuracy: 0.9200 - val_loss: 0.0934 - val_accuracy: 0.9900\n",
      "Epoch 44/1000\n",
      "5/5 [==============================] - 0s 20ms/step - loss: 0.0714 - accuracy: 1.0000 - val_loss: 0.0498 - val_accuracy: 0.9900\n",
      "Epoch 45/1000\n",
      "5/5 [==============================] - 0s 19ms/step - loss: 0.1659 - accuracy: 0.9500 - val_loss: 0.2074 - val_accuracy: 0.9200\n",
      "Epoch 46/1000\n",
      "5/5 [==============================] - 0s 21ms/step - loss: 0.2404 - accuracy: 0.8900 - val_loss: 0.3739 - val_accuracy: 0.8300\n",
      "Epoch 47/1000\n",
      "5/5 [==============================] - 0s 22ms/step - loss: 0.4015 - accuracy: 0.8200 - val_loss: 0.1278 - val_accuracy: 0.9600\n",
      "Epoch 48/1000\n",
      "5/5 [==============================] - 0s 21ms/step - loss: 0.1473 - accuracy: 0.9300 - val_loss: 0.0498 - val_accuracy: 0.9900\n",
      "Epoch 49/1000\n",
      "5/5 [==============================] - 0s 21ms/step - loss: 0.0505 - accuracy: 0.9900 - val_loss: 0.0669 - val_accuracy: 0.9600\n",
      "Epoch 50/1000\n",
      "5/5 [==============================] - 0s 20ms/step - loss: 0.0440 - accuracy: 0.9900 - val_loss: 0.0270 - val_accuracy: 0.9900\n",
      "Epoch 51/1000\n",
      "5/5 [==============================] - 0s 20ms/step - loss: 0.0286 - accuracy: 0.9900 - val_loss: 0.0849 - val_accuracy: 0.9600\n",
      "Epoch 52/1000\n",
      "5/5 [==============================] - 0s 21ms/step - loss: 0.1529 - accuracy: 0.9400 - val_loss: 0.2302 - val_accuracy: 0.9300\n",
      "Epoch 53/1000\n",
      "5/5 [==============================] - 0s 20ms/step - loss: 0.1710 - accuracy: 0.9400 - val_loss: 0.2904 - val_accuracy: 0.8500\n",
      "Epoch 54/1000\n",
      "5/5 [==============================] - 0s 20ms/step - loss: 0.2148 - accuracy: 0.9200 - val_loss: 0.1462 - val_accuracy: 0.9500\n",
      "Epoch 55/1000\n",
      "5/5 [==============================] - 0s 20ms/step - loss: 0.0825 - accuracy: 0.9700 - val_loss: 0.0352 - val_accuracy: 0.9800\n",
      "Epoch 56/1000\n",
      "5/5 [==============================] - 0s 22ms/step - loss: 0.0263 - accuracy: 1.0000 - val_loss: 0.0214 - val_accuracy: 0.9900\n",
      "Epoch 57/1000\n",
      "5/5 [==============================] - 0s 26ms/step - loss: 0.0142 - accuracy: 1.0000 - val_loss: 0.0101 - val_accuracy: 1.0000\n",
      "Epoch 58/1000\n",
      "5/5 [==============================] - 0s 20ms/step - loss: 0.0060 - accuracy: 1.0000 - val_loss: 0.0033 - val_accuracy: 1.0000\n"
     ]
    },
    {
     "name": "stdout",
     "output_type": "stream",
     "text": [
      "Epoch 59/1000\n",
      "5/5 [==============================] - 0s 19ms/step - loss: 0.0047 - accuracy: 1.0000 - val_loss: 0.0039 - val_accuracy: 1.0000\n",
      "Epoch 60/1000\n",
      "5/5 [==============================] - 0s 20ms/step - loss: 0.0034 - accuracy: 1.0000 - val_loss: 0.0022 - val_accuracy: 1.0000\n",
      "Epoch 61/1000\n",
      "5/5 [==============================] - 0s 19ms/step - loss: 0.0020 - accuracy: 1.0000 - val_loss: 0.0014 - val_accuracy: 1.0000\n",
      "Epoch 62/1000\n",
      "5/5 [==============================] - 0s 19ms/step - loss: 0.0013 - accuracy: 1.0000 - val_loss: 0.0014 - val_accuracy: 1.0000\n",
      "Epoch 63/1000\n",
      "5/5 [==============================] - 0s 19ms/step - loss: 0.0010 - accuracy: 1.0000 - val_loss: 0.0026 - val_accuracy: 1.0000\n",
      "Epoch 64/1000\n",
      "5/5 [==============================] - 0s 19ms/step - loss: 1.2411 - accuracy: 0.8400 - val_loss: 0.9391 - val_accuracy: 0.7500\n",
      "Epoch 65/1000\n",
      "5/5 [==============================] - 0s 19ms/step - loss: 0.3102 - accuracy: 0.9200 - val_loss: 0.0139 - val_accuracy: 1.0000\n",
      "Epoch 66/1000\n",
      "5/5 [==============================] - 0s 20ms/step - loss: 0.0141 - accuracy: 1.0000 - val_loss: 0.0036 - val_accuracy: 1.0000\n",
      "Epoch 67/1000\n",
      "5/5 [==============================] - 0s 20ms/step - loss: 0.0036 - accuracy: 1.0000 - val_loss: 0.0027 - val_accuracy: 1.0000\n",
      "Epoch 68/1000\n",
      "5/5 [==============================] - 0s 20ms/step - loss: 0.0029 - accuracy: 1.0000 - val_loss: 0.0021 - val_accuracy: 1.0000\n",
      "Epoch 69/1000\n",
      "5/5 [==============================] - 0s 19ms/step - loss: 0.0022 - accuracy: 1.0000 - val_loss: 0.0017 - val_accuracy: 1.0000\n",
      "Epoch 70/1000\n",
      "5/5 [==============================] - 0s 19ms/step - loss: 0.0018 - accuracy: 1.0000 - val_loss: 0.0013 - val_accuracy: 1.0000\n",
      "Epoch 71/1000\n",
      "5/5 [==============================] - 0s 19ms/step - loss: 0.0015 - accuracy: 1.0000 - val_loss: 0.0012 - val_accuracy: 1.0000\n",
      "Epoch 72/1000\n",
      "5/5 [==============================] - 0s 19ms/step - loss: 0.0013 - accuracy: 1.0000 - val_loss: 9.3142e-04 - val_accuracy: 1.0000\n",
      "Epoch 73/1000\n",
      "5/5 [==============================] - 0s 20ms/step - loss: 0.0011 - accuracy: 1.0000 - val_loss: 6.8599e-04 - val_accuracy: 1.0000\n",
      "Epoch 74/1000\n",
      "5/5 [==============================] - 0s 20ms/step - loss: 7.8562e-04 - accuracy: 1.0000 - val_loss: 5.6080e-04 - val_accuracy: 1.0000\n",
      "Epoch 75/1000\n",
      "5/5 [==============================] - 0s 19ms/step - loss: 6.7847e-04 - accuracy: 1.0000 - val_loss: 4.3933e-04 - val_accuracy: 1.0000\n",
      "Epoch 76/1000\n",
      "5/5 [==============================] - 0s 19ms/step - loss: 4.8086e-04 - accuracy: 1.0000 - val_loss: 3.9853e-04 - val_accuracy: 1.0000\n",
      "Epoch 77/1000\n",
      "5/5 [==============================] - 0s 21ms/step - loss: 3.5445e-04 - accuracy: 1.0000 - val_loss: 3.0884e-04 - val_accuracy: 1.0000\n",
      "5/5 [==============================] - 0s 3ms/step - loss: 0.0101 - accuracy: 1.0000\n",
      "np.shape(X_test)= (550, 1882, 1)\n",
      "Model: \"sequential\"\n",
      "_________________________________________________________________\n",
      " Layer (type)                Output Shape              Param #   \n",
      "=================================================================\n",
      " conv1d (Conv1D)             (None, 1880, 32)          128       \n",
      "                                                                 \n",
      " conv1d_1 (Conv1D)           (None, 1878, 64)          6208      \n",
      "                                                                 \n",
      " max_pooling1d (MaxPooling1D  (None, 626, 64)          0         \n",
      " )                                                               \n",
      "                                                                 \n",
      " conv1d_2 (Conv1D)           (None, 624, 128)          24704     \n",
      "                                                                 \n",
      " max_pooling1d_1 (MaxPooling  (None, 208, 128)         0         \n",
      " 1D)                                                             \n",
      "                                                                 \n",
      " conv1d_3 (Conv1D)           (None, 206, 128)          49280     \n",
      "                                                                 \n",
      " max_pooling1d_2 (MaxPooling  (None, 68, 128)          0         \n",
      " 1D)                                                             \n",
      "                                                                 \n",
      " conv1d_4 (Conv1D)           (None, 66, 256)           98560     \n",
      "                                                                 \n",
      " max_pooling1d_3 (MaxPooling  (None, 22, 256)          0         \n",
      " 1D)                                                             \n",
      "                                                                 \n",
      " flatten (Flatten)           (None, 5632)              0         \n",
      "                                                                 \n",
      " dense (Dense)               (None, 2000)              11266000  \n",
      "                                                                 \n",
      " dense_1 (Dense)             (None, 8)                 16008     \n",
      "                                                                 \n",
      "=================================================================\n",
      "Total params: 11,460,888\n",
      "Trainable params: 11,460,888\n",
      "Non-trainable params: 0\n",
      "_________________________________________________________________\n",
      "Accuracy=  1.0\n"
     ]
    }
   ],
   "source": [
    "accuracy=0\n",
    "acc_crs=np.array([])\n",
    "##for i in range (10):\n",
    "##    if accuracy<0.2 :\n",
    "\n",
    "verbose, epochs, batch_size = 1, 1000, btch\n",
    "n_timesteps, n_features, n_outputs = X_train.shape[1], X_train.shape[2], y_train_cat.shape[1]\n",
    "steps_per_epoch = len(X_train)//batch_size\n",
    "validation_steps = len(X_valid)//batch_size # if you have test data\n",
    "\n",
    "model_crs = Sequential()\n",
    "BatchNormalization()\n",
    "model_crs.add(Conv1D(filters=32, kernel_size=3, activation='relu', input_shape=(n_timesteps,n_features)))\n",
    "#model_crs.add(MaxPooling1D(pool_size=3))\n",
    "BatchNormalization()\n",
    "model_crs.add(Conv1D(filters=64, kernel_size=3, activation='relu'))\n",
    "#model_crs.add(Dropout(0.5))\n",
    "model_crs.add(MaxPooling1D(pool_size=3))\n",
    "BatchNormalization()\n",
    "model_crs.add(Conv1D(filters=128, kernel_size=3, activation='relu'))\n",
    "model_crs.add(MaxPooling1D(pool_size=3))\n",
    "BatchNormalization()\n",
    "model_crs.add(Conv1D(filters=128, kernel_size=3, activation='relu'))\n",
    "model_crs.add(MaxPooling1D(pool_size=3))\n",
    "BatchNormalization()\n",
    "model_crs.add(Conv1D(filters=256, kernel_size=3, activation='relu'))\n",
    "model_crs.add(MaxPooling1D(pool_size=3))\n",
    "'''model_crs.add(Conv1D(filters=512, kernel_size=3, activation='relu'))\n",
    "model_crs.add(MaxPooling1D(pool_size=3))\n",
    "model_crs.add(Conv1D(filters=1024, kernel_size=3, activation='relu'))\n",
    "model_crs.add(MaxPooling1D(pool_size=3))\n",
    "'''\n",
    "model_crs.add(Flatten())\n",
    "#model_crs.add(Dropout(0.5))\n",
    "model_crs.add(Dense(2000, activation='relu'))\n",
    "model_crs.add(Dense(n_outputs, activation='softmax'))\n",
    "model_crs.compile(optimizer='rmsprop', loss='categorical_crossentropy', metrics=['accuracy'])\n",
    "# fit network   #CategoricalCrossentropy #sparse_categorical_crossentropy #SparseCategoricalCrossentropy\n",
    "\n",
    "earlystopping = callbacks.EarlyStopping(monitor =\"val_accuracy\", mode =\"max\", patience = 20, restore_best_weights = True)\n",
    "\n",
    "model_crs.fit(X_train, y_train_cat, epochs=epochs, batch_size=batch_size, verbose=verbose, validation_data = (X_valid, y_valid_cat), callbacks =[earlystopping])\n",
    "# evaluate model_crs\n",
    "_, accuracy = model_crs.evaluate(X_valid, y_valid_cat, batch_size=batch_size, verbose=1)\n",
    "\n",
    "print('np.shape(X_test)=',np.shape(X_test))\n",
    "\n",
    "\n",
    "model_crs.summary()\n",
    "print('Accuracy= ', accuracy)\n",
    "\n",
    "#output = K.function([model_crs.layers[0].input],[model_crs.layers[3].output])\n",
    "#output(X_test)[0]\n",
    "#y_pred= model_crs.predict(X_test)                # Function 1\n",
    "\n",
    "##    print('Round ', i, '==>', 'accuracy = ', accuracy)\n",
    "##    acc_crs=np.append(acc_crs,accuracy)\n",
    "#y_pred_crs = model_crs.predict_classes(X_test)   # Function 2"
   ]
  },
  {
   "cell_type": "code",
   "execution_count": 24,
   "metadata": {},
   "outputs": [],
   "source": [
    "def maxindx(ar):\n",
    "    ar_cpy=np.array(ar)\n",
    "    pred=np.argmax(ar,axis=1)\n",
    "    for i in range (len(pred)):\n",
    "        if pred[i]==0:\n",
    "            ar_cpy[i,0]=-1000\n",
    "    pred=np.argmax(ar_cpy,axis=1)\n",
    "    return(pred)"
   ]
  },
  {
   "cell_type": "code",
   "execution_count": 25,
   "metadata": {},
   "outputs": [
    {
     "name": "stdout",
     "output_type": "stream",
     "text": [
      "18/18 [==============================] - 0s 5ms/step\n",
      "array([[13, 10, 14,  6,  8,  2,  0],\n",
      "       [ 1, 26, 25, 15, 10,  3,  6],\n",
      "       [ 2, 11, 26, 13, 18,  4, 11],\n",
      "       [ 0,  7,  9, 34, 21,  9, 10],\n",
      "       [ 0,  3, 15, 26, 36, 12,  9],\n",
      "       [ 0,  3,  6, 16, 20, 29, 10],\n",
      "       [ 0,  0,  1, 11, 22,  1, 16]], dtype=int64)\n",
      "              precision    recall  f1-score   support\n",
      "\n",
      "           1       0.81      0.25      0.38        53\n",
      "           2       0.43      0.30      0.36        86\n",
      "           3       0.27      0.31      0.29        85\n",
      "           4       0.28      0.38      0.32        90\n",
      "           5       0.27      0.36      0.31       101\n",
      "           6       0.48      0.35      0.40        84\n",
      "           7       0.26      0.31      0.28        51\n",
      "\n",
      "    accuracy                           0.33       550\n",
      "   macro avg       0.40      0.32      0.33       550\n",
      "weighted avg       0.38      0.33      0.33       550\n",
      "\n"
     ]
    }
   ],
   "source": [
    "predict_x=model_crs.predict(X_test)              # Function 1\n",
    "\n",
    "y_pred_crs=maxindx(predict_x)                    # function from augment.py to remove 0 index predictions\n",
    "\n",
    "#y_pred_crs = model_crs.predict_classes(X_test)\n",
    "\n",
    "cm = confusion_matrix(y_test, y_pred_crs)\n",
    "fullprint(cm)\n",
    "acc3=accuracy_score(y_test, y_pred_crs)\n",
    "\n",
    "print(classification_report(y_test, y_pred_crs))\n",
    "\n",
    "#sns.heatmap(cm, annot=True)\n",
    "\n",
    "#plt.imshow(cm)"
   ]
  },
  {
   "cell_type": "code",
   "execution_count": 26,
   "metadata": {},
   "outputs": [
    {
     "name": "stdout",
     "output_type": "stream",
     "text": [
      "Epoch 1/1000\n",
      "5/5 [==============================] - 1s 82ms/step - loss: 3.2347 - accuracy: 0.1300 - val_loss: 2.0121 - val_accuracy: 0.2200\n",
      "Epoch 2/1000\n",
      "5/5 [==============================] - 0s 39ms/step - loss: 2.0018 - accuracy: 0.2100 - val_loss: 1.9050 - val_accuracy: 0.2800\n",
      "Epoch 3/1000\n",
      "5/5 [==============================] - 0s 29ms/step - loss: 1.9159 - accuracy: 0.2100 - val_loss: 1.7811 - val_accuracy: 0.2600\n",
      "Epoch 4/1000\n",
      "5/5 [==============================] - 0s 40ms/step - loss: 1.8231 - accuracy: 0.2000 - val_loss: 1.7588 - val_accuracy: 0.3300\n",
      "Epoch 5/1000\n",
      "5/5 [==============================] - 0s 41ms/step - loss: 1.7216 - accuracy: 0.2700 - val_loss: 1.5805 - val_accuracy: 0.3400\n",
      "Epoch 6/1000\n",
      "5/5 [==============================] - 0s 40ms/step - loss: 1.7008 - accuracy: 0.3000 - val_loss: 1.6037 - val_accuracy: 0.3600\n",
      "Epoch 7/1000\n",
      "5/5 [==============================] - 0s 38ms/step - loss: 1.6229 - accuracy: 0.3400 - val_loss: 1.4487 - val_accuracy: 0.3700\n",
      "Epoch 8/1000\n",
      "5/5 [==============================] - 0s 38ms/step - loss: 1.5646 - accuracy: 0.3600 - val_loss: 1.5441 - val_accuracy: 0.3800\n",
      "Epoch 9/1000\n",
      "5/5 [==============================] - 0s 39ms/step - loss: 1.5359 - accuracy: 0.3600 - val_loss: 1.4210 - val_accuracy: 0.4100\n",
      "Epoch 10/1000\n",
      "5/5 [==============================] - 0s 29ms/step - loss: 1.4727 - accuracy: 0.3900 - val_loss: 1.6313 - val_accuracy: 0.4000\n",
      "Epoch 11/1000\n",
      "5/5 [==============================] - 0s 39ms/step - loss: 1.5003 - accuracy: 0.3900 - val_loss: 1.2468 - val_accuracy: 0.4900\n",
      "Epoch 12/1000\n",
      "5/5 [==============================] - 0s 30ms/step - loss: 1.2863 - accuracy: 0.4900 - val_loss: 1.1591 - val_accuracy: 0.4900\n",
      "Epoch 13/1000\n",
      "5/5 [==============================] - 0s 28ms/step - loss: 1.3871 - accuracy: 0.4800 - val_loss: 1.3372 - val_accuracy: 0.4200\n",
      "Epoch 14/1000\n",
      "5/5 [==============================] - 0s 43ms/step - loss: 1.2617 - accuracy: 0.5000 - val_loss: 1.0122 - val_accuracy: 0.7100\n",
      "Epoch 15/1000\n",
      "5/5 [==============================] - 0s 30ms/step - loss: 1.1058 - accuracy: 0.5900 - val_loss: 1.4707 - val_accuracy: 0.3900\n",
      "Epoch 16/1000\n",
      "5/5 [==============================] - 0s 30ms/step - loss: 1.3470 - accuracy: 0.5200 - val_loss: 0.9390 - val_accuracy: 0.6300\n",
      "Epoch 17/1000\n",
      "5/5 [==============================] - 0s 29ms/step - loss: 1.0447 - accuracy: 0.5600 - val_loss: 0.9144 - val_accuracy: 0.6400\n",
      "Epoch 18/1000\n",
      "5/5 [==============================] - 0s 29ms/step - loss: 1.0442 - accuracy: 0.5300 - val_loss: 0.8059 - val_accuracy: 0.6700\n",
      "Epoch 19/1000\n",
      "5/5 [==============================] - 0s 29ms/step - loss: 0.9040 - accuracy: 0.6200 - val_loss: 0.9826 - val_accuracy: 0.5300\n",
      "Epoch 20/1000\n",
      "5/5 [==============================] - 0s 29ms/step - loss: 0.9621 - accuracy: 0.6100 - val_loss: 0.7881 - val_accuracy: 0.6900\n",
      "Epoch 21/1000\n",
      "5/5 [==============================] - 0s 39ms/step - loss: 0.7617 - accuracy: 0.6900 - val_loss: 0.7299 - val_accuracy: 0.7200\n",
      "Epoch 22/1000\n",
      "5/5 [==============================] - 0s 28ms/step - loss: 0.8004 - accuracy: 0.6300 - val_loss: 0.7167 - val_accuracy: 0.6800\n",
      "Epoch 23/1000\n",
      "5/5 [==============================] - 0s 40ms/step - loss: 0.8765 - accuracy: 0.6400 - val_loss: 0.5271 - val_accuracy: 0.8300\n",
      "Epoch 24/1000\n",
      "5/5 [==============================] - 0s 28ms/step - loss: 1.0467 - accuracy: 0.6200 - val_loss: 0.7756 - val_accuracy: 0.7000\n",
      "Epoch 25/1000\n",
      "5/5 [==============================] - 0s 28ms/step - loss: 0.7827 - accuracy: 0.7000 - val_loss: 0.5656 - val_accuracy: 0.7500\n",
      "Epoch 26/1000\n",
      "5/5 [==============================] - 0s 33ms/step - loss: 0.5484 - accuracy: 0.7800 - val_loss: 0.4906 - val_accuracy: 0.8300\n",
      "Epoch 27/1000\n",
      "5/5 [==============================] - 0s 39ms/step - loss: 0.4988 - accuracy: 0.8100 - val_loss: 0.3703 - val_accuracy: 0.8600\n",
      "Epoch 28/1000\n",
      "5/5 [==============================] - 0s 28ms/step - loss: 0.4642 - accuracy: 0.8200 - val_loss: 0.4743 - val_accuracy: 0.8100\n",
      "Epoch 29/1000\n",
      "5/5 [==============================] - 0s 28ms/step - loss: 0.5077 - accuracy: 0.7900 - val_loss: 0.3920 - val_accuracy: 0.8400\n",
      "Epoch 30/1000\n",
      "5/5 [==============================] - 0s 38ms/step - loss: 0.4497 - accuracy: 0.8000 - val_loss: 0.2679 - val_accuracy: 0.8700\n",
      "Epoch 31/1000\n",
      "5/5 [==============================] - 0s 29ms/step - loss: 0.3148 - accuracy: 0.8500 - val_loss: 1.1249 - val_accuracy: 0.6300\n",
      "Epoch 32/1000\n",
      "5/5 [==============================] - 0s 41ms/step - loss: 0.7328 - accuracy: 0.7600 - val_loss: 0.2642 - val_accuracy: 0.9100\n",
      "Epoch 33/1000\n",
      "5/5 [==============================] - 0s 28ms/step - loss: 0.3281 - accuracy: 0.8900 - val_loss: 0.3594 - val_accuracy: 0.8700\n",
      "Epoch 34/1000\n",
      "5/5 [==============================] - 0s 28ms/step - loss: 0.5374 - accuracy: 0.7600 - val_loss: 0.4218 - val_accuracy: 0.8000\n",
      "Epoch 35/1000\n",
      "5/5 [==============================] - 0s 29ms/step - loss: 0.3325 - accuracy: 0.8400 - val_loss: 0.2368 - val_accuracy: 0.8900\n",
      "Epoch 36/1000\n",
      "5/5 [==============================] - 0s 28ms/step - loss: 0.4167 - accuracy: 0.8300 - val_loss: 0.5090 - val_accuracy: 0.8000\n",
      "Epoch 37/1000\n",
      "5/5 [==============================] - 0s 28ms/step - loss: 0.5131 - accuracy: 0.7800 - val_loss: 0.3329 - val_accuracy: 0.8500\n",
      "Epoch 38/1000\n",
      "5/5 [==============================] - 0s 38ms/step - loss: 0.1943 - accuracy: 0.9500 - val_loss: 0.0960 - val_accuracy: 0.9800\n",
      "Epoch 39/1000\n",
      "5/5 [==============================] - 0s 28ms/step - loss: 0.1174 - accuracy: 0.9800 - val_loss: 0.1187 - val_accuracy: 0.9400\n",
      "Epoch 40/1000\n",
      "5/5 [==============================] - 0s 29ms/step - loss: 0.3494 - accuracy: 0.8700 - val_loss: 0.3717 - val_accuracy: 0.8600\n",
      "Epoch 41/1000\n",
      "5/5 [==============================] - 0s 28ms/step - loss: 0.2409 - accuracy: 0.9100 - val_loss: 0.3571 - val_accuracy: 0.8100\n",
      "Epoch 42/1000\n",
      "5/5 [==============================] - 0s 28ms/step - loss: 0.1609 - accuracy: 0.9300 - val_loss: 0.1782 - val_accuracy: 0.9500\n",
      "Epoch 43/1000\n",
      "5/5 [==============================] - 0s 28ms/step - loss: 0.1409 - accuracy: 0.9600 - val_loss: 0.3861 - val_accuracy: 0.8600\n",
      "Epoch 44/1000\n",
      "5/5 [==============================] - 0s 28ms/step - loss: 0.2309 - accuracy: 0.8800 - val_loss: 1.0896 - val_accuracy: 0.7000\n",
      "Epoch 45/1000\n",
      "5/5 [==============================] - 0s 37ms/step - loss: 0.5798 - accuracy: 0.8100 - val_loss: 0.0754 - val_accuracy: 0.9900\n",
      "Epoch 46/1000\n",
      "5/5 [==============================] - 0s 28ms/step - loss: 0.0905 - accuracy: 0.9800 - val_loss: 0.0329 - val_accuracy: 0.9900\n",
      "Epoch 47/1000\n",
      "5/5 [==============================] - 0s 28ms/step - loss: 0.0363 - accuracy: 0.9900 - val_loss: 0.0633 - val_accuracy: 0.9700\n",
      "Epoch 48/1000\n",
      "5/5 [==============================] - 0s 38ms/step - loss: 0.1416 - accuracy: 0.9500 - val_loss: 0.0228 - val_accuracy: 1.0000\n",
      "Epoch 49/1000\n",
      "5/5 [==============================] - 0s 28ms/step - loss: 0.0205 - accuracy: 1.0000 - val_loss: 0.0114 - val_accuracy: 1.0000\n",
      "Epoch 50/1000\n",
      "5/5 [==============================] - 0s 28ms/step - loss: 0.0120 - accuracy: 1.0000 - val_loss: 0.0152 - val_accuracy: 1.0000\n",
      "Epoch 51/1000\n",
      "5/5 [==============================] - 0s 28ms/step - loss: 0.3857 - accuracy: 0.8700 - val_loss: 0.3891 - val_accuracy: 0.8500\n",
      "Epoch 52/1000\n",
      "5/5 [==============================] - 0s 28ms/step - loss: 0.2699 - accuracy: 0.9400 - val_loss: 0.0339 - val_accuracy: 1.0000\n",
      "Epoch 53/1000\n",
      "5/5 [==============================] - 0s 28ms/step - loss: 0.0358 - accuracy: 0.9900 - val_loss: 0.0261 - val_accuracy: 1.0000\n",
      "Epoch 54/1000\n",
      "5/5 [==============================] - 0s 28ms/step - loss: 0.0176 - accuracy: 1.0000 - val_loss: 0.0067 - val_accuracy: 1.0000\n",
      "Epoch 55/1000\n",
      "5/5 [==============================] - 0s 28ms/step - loss: 0.0069 - accuracy: 1.0000 - val_loss: 0.0031 - val_accuracy: 1.0000\n",
      "Epoch 56/1000\n",
      "5/5 [==============================] - 0s 28ms/step - loss: 0.0031 - accuracy: 1.0000 - val_loss: 0.0021 - val_accuracy: 1.0000\n",
      "Epoch 57/1000\n",
      "5/5 [==============================] - 0s 29ms/step - loss: 0.0022 - accuracy: 1.0000 - val_loss: 0.0014 - val_accuracy: 1.0000\n",
      "Epoch 58/1000\n",
      "5/5 [==============================] - 0s 29ms/step - loss: 0.0014 - accuracy: 1.0000 - val_loss: 8.6590e-04 - val_accuracy: 1.0000\n"
     ]
    },
    {
     "name": "stdout",
     "output_type": "stream",
     "text": [
      "Epoch 59/1000\n",
      "5/5 [==============================] - 0s 29ms/step - loss: 9.3579e-04 - accuracy: 1.0000 - val_loss: 6.3009e-04 - val_accuracy: 1.0000\n",
      "Epoch 60/1000\n",
      "5/5 [==============================] - 0s 28ms/step - loss: 6.4024e-04 - accuracy: 1.0000 - val_loss: 4.3103e-04 - val_accuracy: 1.0000\n",
      "Epoch 61/1000\n",
      "5/5 [==============================] - 0s 28ms/step - loss: 4.2018e-04 - accuracy: 1.0000 - val_loss: 3.1258e-04 - val_accuracy: 1.0000\n",
      "Epoch 62/1000\n",
      "5/5 [==============================] - 0s 29ms/step - loss: 3.2942e-04 - accuracy: 1.0000 - val_loss: 2.1376e-04 - val_accuracy: 1.0000\n",
      "Epoch 63/1000\n",
      "5/5 [==============================] - 0s 28ms/step - loss: 2.1837e-04 - accuracy: 1.0000 - val_loss: 1.4295e-04 - val_accuracy: 1.0000\n",
      "Epoch 64/1000\n",
      "5/5 [==============================] - 0s 28ms/step - loss: 1.4978e-04 - accuracy: 1.0000 - val_loss: 1.0560e-04 - val_accuracy: 1.0000\n",
      "Epoch 65/1000\n",
      "5/5 [==============================] - 0s 28ms/step - loss: 1.2253e-04 - accuracy: 1.0000 - val_loss: 1.1091e-04 - val_accuracy: 1.0000\n",
      "Epoch 66/1000\n",
      "5/5 [==============================] - 0s 28ms/step - loss: 7.9832e-05 - accuracy: 1.0000 - val_loss: 5.9846e-05 - val_accuracy: 1.0000\n",
      "Epoch 67/1000\n",
      "5/5 [==============================] - 0s 28ms/step - loss: 6.0586e-05 - accuracy: 1.0000 - val_loss: 3.6484e-05 - val_accuracy: 1.0000\n",
      "Epoch 68/1000\n",
      "5/5 [==============================] - 0s 31ms/step - loss: 3.9032e-05 - accuracy: 1.0000 - val_loss: 2.4480e-05 - val_accuracy: 1.0000\n",
      "5/5 [==============================] - 0s 5ms/step - loss: 0.0228 - accuracy: 1.0000\n",
      "np.shape(X_test)= (550, 1882, 1)\n",
      "Model: \"sequential_1\"\n",
      "_________________________________________________________________\n",
      " Layer (type)                Output Shape              Param #   \n",
      "=================================================================\n",
      " conv1d_5 (Conv1D)           (None, 1880, 64)          256       \n",
      "                                                                 \n",
      " conv1d_6 (Conv1D)           (None, 1878, 128)         24704     \n",
      "                                                                 \n",
      " max_pooling1d_4 (MaxPooling  (None, 626, 128)         0         \n",
      " 1D)                                                             \n",
      "                                                                 \n",
      " conv1d_7 (Conv1D)           (None, 624, 256)          98560     \n",
      "                                                                 \n",
      " max_pooling1d_5 (MaxPooling  (None, 208, 256)         0         \n",
      " 1D)                                                             \n",
      "                                                                 \n",
      " conv1d_8 (Conv1D)           (None, 206, 256)          196864    \n",
      "                                                                 \n",
      " max_pooling1d_6 (MaxPooling  (None, 68, 256)          0         \n",
      " 1D)                                                             \n",
      "                                                                 \n",
      " conv1d_9 (Conv1D)           (None, 66, 512)           393728    \n",
      "                                                                 \n",
      " max_pooling1d_7 (MaxPooling  (None, 22, 512)          0         \n",
      " 1D)                                                             \n",
      "                                                                 \n",
      " flatten_1 (Flatten)         (None, 11264)             0         \n",
      "                                                                 \n",
      " dense_2 (Dense)             (None, 2000)              22530000  \n",
      "                                                                 \n",
      " dense_3 (Dense)             (None, 8)                 16008     \n",
      "                                                                 \n",
      "=================================================================\n",
      "Total params: 23,260,120\n",
      "Trainable params: 23,260,120\n",
      "Non-trainable params: 0\n",
      "_________________________________________________________________\n",
      "Accuracy=  1.0\n"
     ]
    }
   ],
   "source": [
    "accuracy=0\n",
    "acc_crs=np.array([])\n",
    "##for i in range (10):\n",
    "##    if accuracy<0.2 :\n",
    "\n",
    "verbose, epochs, batch_size = 1, 1000, btch\n",
    "n_timesteps, n_features, n_outputs = X_train.shape[1], X_train.shape[2], y_train_cat.shape[1]\n",
    "steps_per_epoch = len(X_train)//batch_size\n",
    "validation_steps = len(X_valid)//batch_size # if you have test data\n",
    "\n",
    "model_crs = Sequential()\n",
    "BatchNormalization()\n",
    "model_crs.add(Conv1D(filters=64, kernel_size=3, activation='relu', input_shape=(n_timesteps,n_features)))\n",
    "#model_crs.add(MaxPooling1D(pool_size=3))\n",
    "BatchNormalization()\n",
    "model_crs.add(Conv1D(filters=128, kernel_size=3, activation='relu'))\n",
    "#model_crs.add(Dropout(0.5))\n",
    "model_crs.add(MaxPooling1D(pool_size=3))\n",
    "BatchNormalization()\n",
    "model_crs.add(Conv1D(filters=256, kernel_size=3, activation='relu'))\n",
    "model_crs.add(MaxPooling1D(pool_size=3))\n",
    "BatchNormalization()\n",
    "model_crs.add(Conv1D(filters=256, kernel_size=3, activation='relu'))\n",
    "model_crs.add(MaxPooling1D(pool_size=3))\n",
    "BatchNormalization()\n",
    "model_crs.add(Conv1D(filters=512, kernel_size=3, activation='relu'))\n",
    "model_crs.add(MaxPooling1D(pool_size=3))\n",
    "'''model_crs.add(Conv1D(filters=512, kernel_size=3, activation='relu'))\n",
    "model_crs.add(MaxPooling1D(pool_size=3))\n",
    "model_crs.add(Conv1D(filters=1024, kernel_size=3, activation='relu'))\n",
    "model_crs.add(MaxPooling1D(pool_size=3))\n",
    "'''\n",
    "model_crs.add(Flatten())\n",
    "#model_crs.add(Dropout(0.5))\n",
    "model_crs.add(Dense(2000, activation='relu'))\n",
    "model_crs.add(Dense(n_outputs, activation='softmax'))\n",
    "model_crs.compile(optimizer='rmsprop', loss='categorical_crossentropy', metrics=['accuracy'])\n",
    "# fit network   #CategoricalCrossentropy #sparse_categorical_crossentropy #SparseCategoricalCrossentropy\n",
    "\n",
    "earlystopping = callbacks.EarlyStopping(monitor =\"val_accuracy\", mode =\"max\", patience = 20, restore_best_weights = True)\n",
    "\n",
    "model_crs.fit(X_train, y_train_cat, epochs=epochs, batch_size=batch_size, verbose=verbose, validation_data = (X_valid, y_valid_cat), callbacks =[earlystopping])\n",
    "# evaluate model_crs\n",
    "_, accuracy = model_crs.evaluate(X_valid, y_valid_cat, batch_size=batch_size, verbose=1)\n",
    "\n",
    "print('np.shape(X_test)=',np.shape(X_test))\n",
    "\n",
    "\n",
    "model_crs.summary()\n",
    "print('Accuracy= ', accuracy)\n",
    "\n",
    "#output = K.function([model_crs.layers[0].input],[model_crs.layers[3].output])\n",
    "#output(X_test)[0]\n",
    "#y_pred= model_crs.predict(X_test)                # Function 1\n",
    "\n",
    "##    print('Round ', i, '==>', 'accuracy = ', accuracy)\n",
    "##    acc_crs=np.append(acc_crs,accuracy)\n",
    "#y_pred_crs = model_crs.predict_classes(X_test)   # Function 2"
   ]
  },
  {
   "cell_type": "code",
   "execution_count": 27,
   "metadata": {},
   "outputs": [
    {
     "name": "stdout",
     "output_type": "stream",
     "text": [
      "18/18 [==============================] - 0s 8ms/step\n",
      "array([[19,  9,  7,  3, 12,  3,  0],\n",
      "       [ 7, 35, 23,  8,  6,  7,  0],\n",
      "       [ 4, 12, 21,  6, 19, 12, 11],\n",
      "       [ 0, 10, 14, 25, 22, 13,  6],\n",
      "       [ 0,  3, 20, 21, 26, 22,  9],\n",
      "       [ 0,  3,  3, 15, 12, 39, 12],\n",
      "       [ 1,  2,  0,  5, 20, 10, 13]], dtype=int64)\n",
      "              precision    recall  f1-score   support\n",
      "\n",
      "           1       0.61      0.36      0.45        53\n",
      "           2       0.47      0.41      0.44        86\n",
      "           3       0.24      0.25      0.24        85\n",
      "           4       0.30      0.28      0.29        90\n",
      "           5       0.22      0.26      0.24       101\n",
      "           6       0.37      0.46      0.41        84\n",
      "           7       0.25      0.25      0.25        51\n",
      "\n",
      "    accuracy                           0.32       550\n",
      "   macro avg       0.35      0.32      0.33       550\n",
      "weighted avg       0.34      0.32      0.33       550\n",
      "\n"
     ]
    }
   ],
   "source": [
    "predict_x=model_crs.predict(X_test)              # Function 1\n",
    "\n",
    "y_pred_crs=maxindx(predict_x)                    # function from augment.py to remove 0 index predictions\n",
    "\n",
    "#y_pred_crs = model_crs.predict_classes(X_test)\n",
    "\n",
    "cm = confusion_matrix(y_test, y_pred_crs)\n",
    "fullprint(cm)\n",
    "acc3=accuracy_score(y_test, y_pred_crs)\n",
    "\n",
    "print(classification_report(y_test, y_pred_crs))\n",
    "\n",
    "#sns.heatmap(cm, annot=True)\n",
    "\n",
    "#plt.imshow(cm)"
   ]
  },
  {
   "cell_type": "code",
   "execution_count": null,
   "metadata": {},
   "outputs": [],
   "source": []
  }
 ],
 "metadata": {
  "celltoolbar": "Raw Cell Format",
  "kernelspec": {
   "display_name": "Python 3 (ipykernel)",
   "language": "python",
   "name": "python3"
  },
  "language_info": {
   "codemirror_mode": {
    "name": "ipython",
    "version": 3
   },
   "file_extension": ".py",
   "mimetype": "text/x-python",
   "name": "python",
   "nbconvert_exporter": "python",
   "pygments_lexer": "ipython3",
   "version": "3.9.7"
  }
 },
 "nbformat": 4,
 "nbformat_minor": 4
}
