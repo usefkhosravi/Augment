{
 "cells": [
  {
   "cell_type": "markdown",
   "metadata": {},
   "source": [
    "import time\n",
    "plc=1\n",
    "time.sleep(3000*plc)         #run after 1 houre = 3600 seconds"
   ]
  },
  {
   "cell_type": "code",
   "execution_count": 1,
   "metadata": {},
   "outputs": [
    {
     "data": {
      "text/html": [
       "<style>#notebook { padding-top:0px !important; } .container { width:100% !important; } .end_space { min-height:0px !important; } html, body, .container{ margin:0!important;padding:0!important;}</style>"
      ],
      "text/plain": [
       "<IPython.core.display.HTML object>"
      ]
     },
     "metadata": {},
     "output_type": "display_data"
    }
   ],
   "source": [
    "import os\n",
    "import glob\n",
    "import scipy\n",
    "import random\n",
    "import bisect\n",
    "import numpy as np\n",
    "import pandas as pd\n",
    "import seaborn as sns\n",
    "from scipy import signal\n",
    "from scipy.signal import find_peaks\n",
    "import matplotlib.pyplot as plt\n",
    "from preprocess import *                         #ماژول استخراج پنجره ها\n",
    "from data import *                          #ماژول محلی ورود داده ها\n",
    "from augment import *                            #ماژول های داده افزایی\n",
    "from lstm_cnn import *                           #ماژول های داده افزایی با lstm_cnn\n",
    "import augment\n",
    "import importlib\n",
    "importlib.reload(augment)\n",
    "import tensorflow as tf\n",
    "from tensorflow import keras\n",
    "from tensorflow.keras.layers import BatchNormalization\n",
    "from sklearn.model_selection import train_test_split\n",
    "from sklearn.neural_network import MLPClassifier\n",
    "from sklearn.datasets import make_classification\n",
    "from sklearn.metrics import confusion_matrix, accuracy_score, classification_report,recall_score,precision_score\n",
    "from tensorflow.keras import callbacks\n",
    "from tensorflow.keras import layers\n",
    "from tensorflow.keras.models import Sequential\n",
    "from tensorflow.keras.layers import Convolution2D,Conv1D,Dropout,MaxPooling1D,MaxPooling2D,Flatten,Dense\n",
    "from tensorflow.keras import backend as K\n",
    "from tensorflow.keras.utils import to_categorical\n",
    "from tensorflow.keras.models import load_model\n",
    "cwd = os.getcwd() #\n",
    "fullscrn()"
   ]
  },
  {
   "cell_type": "markdown",
   "metadata": {},
   "source": [
    "<h1><center><div style=\"direction:rtl;font-family:B Nazanin\">Importing Data</div></center></h1>"
   ]
  },
  {
   "cell_type": "code",
   "execution_count": 2,
   "metadata": {
    "scrolled": true
   },
   "outputs": [
    {
     "name": "stdout",
     "output_type": "stream",
     "text": [
      "first_train_shape= (100, 1883)\n",
      "first_test_shape= (550, 1883)\n",
      "classes_quantity= 7\n",
      "tr_lbls=\t {1, 2, 3, 4, 5, 6, 7}\n",
      "Count_labels= [ 9 14 18 18 16 14 11]\n",
      "max(train_feature_Altitude)= 7.0\n",
      "min(train_feature_Altitude)= -2.2635\n",
      "first_train_sample=\n",
      " [ 2.       -0.036166 -0.15164  ... -0.12786  -0.19202  -0.11038 ]\n",
      "1 9\t2 14\t3 18\t4 18\t5 16\t6 14\t7 11\t"
     ]
    }
   ],
   "source": [
    "rate=480\n",
    "cls_num=7\n",
    "btch=20\n",
    "for i in range (1,cls_num+1):\n",
    "    vars()['ecg'+str(i)],vars()['ecg_tst'+str(i)]=InlineSkate(i)\n",
    "\n",
    "os.chdir(cwd)\n",
    "clses_lens=np.array([])\n",
    "i=0                               #جمع آوری داده ها و چاپ تعداد نمونه ی هر کلاس\n",
    "ecg=np.array(ecg1)\n",
    "print(1,len(vars()['ecg'+str(1)]), end='\\t')\n",
    "clses_lens=np.append(clses_lens,len(vars()['ecg'+str(1)]))\n",
    "for i in range (2,cls_num+1):\n",
    "    ecg=np.concatenate((ecg,vars()['ecg'+str(i)]),axis=0)\n",
    "    clses_lens=np.append(clses_lens,len(vars()['ecg'+str(i)]))\n",
    "    print(i,len(vars()['ecg'+str(i)]), end='\\t')\n",
    "\n",
    "mx_sig=max(clses_lens)"
   ]
  },
  {
   "cell_type": "code",
   "execution_count": 3,
   "metadata": {},
   "outputs": [
    {
     "data": {
      "text/plain": [
       "(100, 481)"
      ]
     },
     "execution_count": 3,
     "metadata": {},
     "output_type": "execute_result"
    }
   ],
   "source": [
    "np.shape(ecg)"
   ]
  },
  {
   "cell_type": "code",
   "execution_count": 4,
   "metadata": {},
   "outputs": [
    {
     "data": {
      "text/plain": [
       "array([1., 1., 1., 1., 1., 1., 1., 1., 1., 2., 2., 2., 2., 2., 2., 2., 2.,\n",
       "       2., 2., 2., 2., 2., 2., 3., 3., 3., 3., 3., 3., 3., 3., 3., 3., 3.,\n",
       "       3., 3., 3., 3., 3., 3., 3., 4., 4., 4., 4., 4., 4., 4., 4., 4., 4.,\n",
       "       4., 4., 4., 4., 4., 4., 4., 4., 5., 5., 5., 5., 5., 5., 5., 5., 5.,\n",
       "       5., 5., 5., 5., 5., 5., 5., 6., 6., 6., 6., 6., 6., 6., 6., 6., 6.,\n",
       "       6., 6., 6., 6., 7., 7., 7., 7., 7., 7., 7., 7., 7., 7., 7.])"
      ]
     },
     "execution_count": 4,
     "metadata": {},
     "output_type": "execute_result"
    }
   ],
   "source": [
    "ecg[:,-1]"
   ]
  },
  {
   "cell_type": "markdown",
   "metadata": {},
   "source": [
    "<h2><center><div style=\"direction:rtl;font-family:B Nazanin\">Base Train windows</div></center></h1>"
   ]
  },
  {
   "cell_type": "code",
   "execution_count": 5,
   "metadata": {},
   "outputs": [
    {
     "name": "stdout",
     "output_type": "stream",
     "text": [
      "each class and its windows =\n",
      "1 9\t2 14\t3 18\t4 18\t5 16\t6 14\t7 11\t\n",
      " max = 18\n"
     ]
    }
   ],
   "source": [
    "smpl_rte=rate                                              # در ماژول ها نیز همین مقدار ثبت شده\n",
    "i=0\n",
    "windws=np.array([])\n",
    "\n",
    "for cls in range (1,cls_num+1):                                 #ساخت پنجره های داده های آموزش اصلی\n",
    "    vars()['wndws'+str(cls)]=np.array(vars()['ecg'+str(cls)])  \n",
    "    \n",
    "print(\"each class and its windows =\")\n",
    "\n",
    "cls_wndws=np.array([])\n",
    "for cls in range (1,cls_num+1):                                # آرایه ی تعداد پنجره ی هر کلاس\n",
    "    wns=len(vars()['wndws'+str(cls)])\n",
    "    cls_wndws=np.append(cls_wndws,wns)\n",
    "    print(cls, wns, end='\\t')\n",
    "\n",
    "mx_wndws=int(np.max(cls_wndws))                        # حداکثر تعداد پنجره ی موجود بین کلاس ها\n",
    "print('\\n max =', mx_wndws)"
   ]
  },
  {
   "cell_type": "raw",
   "metadata": {},
   "source": [
    "#clses=3                                   #تعیین میزان افزایش نمونه (تولید داده)\n",
    "mx_wndws=int(mx_wndws)  #mx_wndws*0.3  # =classes-1 برای بررسی الگوریتم تعداد کمی کلاس آزمایش شد\n",
    "mx_wndws=2598           #+2\n",
    "print(mx_wndws)"
   ]
  },
  {
   "cell_type": "markdown",
   "metadata": {},
   "source": [
    "<h1><center><div style=\"direction:rtl;font-family:B Nazanin\">Data Augmentation</div></center></h1>"
   ]
  },
  {
   "cell_type": "code",
   "execution_count": 6,
   "metadata": {},
   "outputs": [
    {
     "name": "stdout",
     "output_type": "stream",
     "text": [
      "Up to class  1 train shape =  (9, 481)\n",
      "Up to class  2 train shape =  (23, 481)\n",
      "Up to class  3 train shape =  (41, 481)\n",
      "Up to class  4 train shape =  (59, 481)\n",
      "Up to class  5 train shape =  (75, 481)\n",
      "Up to class  6 train shape =  (89, 481)\n",
      "Up to class  7 train shape =  (100, 481)\n"
     ]
    }
   ],
   "source": [
    "smpl_rte=len(wndws1[0])                                        # در ماژول ها نیز همین مقدار ثبت شده\n",
    "\n",
    "#add augmented data to base data\n",
    "xtrain=np.empty((0,len(wndws1[0])), float) \n",
    "for i in range (1,cls_num+1):   \n",
    "    xtrain=np.append(xtrain,vars()['wndws'+str(i)],axis=0)\n",
    "    print('Up to class ', i, 'train shape = ', np.shape(xtrain))"
   ]
  },
  {
   "cell_type": "code",
   "execution_count": 7,
   "metadata": {},
   "outputs": [
    {
     "name": "stdout",
     "output_type": "stream",
     "text": [
      "[ 0  9 14 18 18 16 14 11]\n"
     ]
    }
   ],
   "source": [
    "print(np.bincount(np.int16(xtrain[:,-1])))    #تعداد پنجره در هر کلاس از 0 تا 17"
   ]
  },
  {
   "cell_type": "code",
   "execution_count": 8,
   "metadata": {},
   "outputs": [
    {
     "data": {
      "text/plain": [
       "array([1., 1., 1., 1., 1., 1., 1., 1., 1., 2., 2., 2., 2., 2., 2., 2., 2.,\n",
       "       2., 2., 2., 2., 2., 2., 3., 3., 3., 3., 3., 3., 3., 3., 3., 3., 3.,\n",
       "       3., 3., 3., 3., 3., 3., 3., 4., 4., 4., 4., 4., 4., 4., 4., 4., 4.,\n",
       "       4., 4., 4., 4., 4., 4., 4., 4., 5., 5., 5., 5., 5., 5., 5., 5., 5.,\n",
       "       5., 5., 5., 5., 5., 5., 5., 6., 6., 6., 6., 6., 6., 6., 6., 6., 6.,\n",
       "       6., 6., 6., 6., 7., 7., 7., 7., 7., 7., 7., 7., 7., 7., 7.])"
      ]
     },
     "execution_count": 8,
     "metadata": {},
     "output_type": "execute_result"
    }
   ],
   "source": [
    "xtrain[:,-1]"
   ]
  },
  {
   "cell_type": "code",
   "execution_count": 9,
   "metadata": {},
   "outputs": [],
   "source": [
    "mx_aug=np.max(xtrain[:,:-1])\n",
    "mx=np.max(ecg[:,:-1])\n",
    "mn_aug=np.min(xtrain[:,:-1])\n",
    "mn=np.min(ecg[:,:-1])\n",
    "\n",
    "#for i in range (1,cls_num+1):             #نرمالسازی داده های افزایشی\n",
    "xtrain[:,:-1]= 2*(xtrain[:,:-1]-mn_aug)/(mx_aug - mn_aug) - 1"
   ]
  },
  {
   "cell_type": "code",
   "execution_count": 10,
   "metadata": {},
   "outputs": [
    {
     "name": "stdout",
     "output_type": "stream",
     "text": [
      "min trn = -1.0\n",
      "max trn = 1.0\n"
     ]
    }
   ],
   "source": [
    "print('min trn =', np.min(xtrain[:,:-1]))\n",
    "print('max trn =', np.max(xtrain[:,:-1]))"
   ]
  },
  {
   "cell_type": "markdown",
   "metadata": {},
   "source": [
    "<h3><center><div style=\"direction:rtl;font-family:B Nazanin\">Test Windows</div></center></h1>"
   ]
  },
  {
   "cell_type": "code",
   "execution_count": 11,
   "metadata": {},
   "outputs": [],
   "source": [
    "wndws_test=np.empty((0,len(wndws1[0])), float)\n",
    "i=0\n",
    "windws=np.array([])\n",
    "for cls in range (1,cls_num+1):                                 #ساخت پنجره های داده های آموزش اصلی\n",
    "    vars()['wndws_tst'+str(cls)]=np.empty((0,len(wndws1[0])), float)\n",
    "    vars()['wndws_tst'+str(cls)]=np.append(vars()['wndws_tst'+str(cls)],vars()['ecg_tst'+str(cls)],axis=0)   "
   ]
  },
  {
   "cell_type": "code",
   "execution_count": 12,
   "metadata": {},
   "outputs": [
    {
     "name": "stdout",
     "output_type": "stream",
     "text": [
      "\n",
      " cls 1  >> \n",
      "max magnitude class 1  =  3.7291666652218383\n",
      "min magnitude class 1  =  -2.508548310896286\n",
      "after normalizing >>\n",
      "max magnitude class 1  =  0.733681061164432\n",
      "min magnitude class 1  =  -1.0787732639697398\n",
      "\n",
      " cls 2  >> \n",
      "max magnitude class 2  =  3.3943594536308117\n",
      "min magnitude class 2  =  -2.3324202170418937\n",
      "after normalizing >>\n",
      "max magnitude class 2  =  0.6363981969974146\n",
      "min magnitude class 2  =  -1.027596811261301\n",
      "\n",
      " cls 3  >> \n",
      "max magnitude class 3  =  3.3222986082221646\n",
      "min magnitude class 3  =  -2.39417835567284\n",
      "after normalizing >>\n",
      "max magnitude class 3  =  0.6154599220948627\n",
      "min magnitude class 3  =  -1.0455414922706845\n",
      "\n",
      " cls 4  >> \n",
      "max magnitude class 4  =  3.4087788185571775\n",
      "min magnitude class 4  =  -2.2646441798184282\n",
      "after normalizing >>\n",
      "max magnitude class 4  =  0.6405879428300698\n",
      "min magnitude class 4  =  -1.0079035466160844\n",
      "\n",
      " cls 5  >> \n",
      "max magnitude class 5  =  3.600329022216654\n",
      "min magnitude class 5  =  -2.081825404656493\n",
      "after normalizing >>\n",
      "max magnitude class 5  =  0.6962455027590111\n",
      "min magnitude class 5  =  -0.9547830239524809\n",
      "\n",
      " cls 6  >> \n",
      "max magnitude class 6  =  3.8104804407737056\n",
      "min magnitude class 6  =  -2.419249588624298\n",
      "after normalizing >>\n",
      "max magnitude class 6  =  0.7573079028454361\n",
      "min magnitude class 6  =  -1.0528262856242268\n",
      "\n",
      " cls 7  >> \n",
      "max magnitude class 7  =  3.6091453128665085\n",
      "min magnitude class 7  =  -2.513674133845302\n",
      "after normalizing >>\n",
      "max magnitude class 7  =  0.6988071978959556\n",
      "min magnitude class 7  =  -1.080262642694062\n",
      "each class and its windows =\n",
      "1 53\t2 86\t3 85\t4 90\t5 101\t6 84\t7 51\t\n",
      " max instance in classes of test windows = 101\n"
     ]
    }
   ],
   "source": [
    "#print(np.max(wndws_tst))\n",
    "for i in range (1,cls_num+1):                # Normalization test windows\n",
    "    cls=i\n",
    "    print('\\n cls', i, ' >> ')\n",
    "    print('max magnitude class', i , ' = ' ,np.max(vars()['wndws_tst'+str(cls)][:,:-1]))\n",
    "    print('min magnitude class', i , ' = ' ,np.min(vars()['wndws_tst'+str(cls)][:,:-1]))\n",
    "\n",
    "    vars()['wndws_tst'+str(i)][:,:-1]= 2*(vars()['wndws_tst'+str(i)][:,:-1]-mn_aug)/(mx_aug - mn_aug) - 1\n",
    "    \n",
    "    print('after normalizing >>')\n",
    "    print('max magnitude class', i , ' = ' ,np.max(vars()['wndws_tst'+str(cls)][:,:-1]))\n",
    "    print('min magnitude class', i , ' = ' ,np.min(vars()['wndws_tst'+str(cls)][:,:-1]))\n",
    "    \n",
    "print(\"each class and its windows =\")                    #تجمیع کلاس های تست\n",
    "cls_wndws=np.array([])\n",
    "for cls in range (1,cls_num+1):                                # آرایه ی تعداد پنجره ی هر کلاس\n",
    "    wns=len(vars()['wndws_tst'+str(cls)])\n",
    "    cls_wndws=np.append(cls_wndws,wns)\n",
    "    print(cls, wns, end='\\t')\n",
    "    wndws_test=np.append(wndws_test,vars()['wndws_tst'+str(cls)],axis=0)\n",
    "    \n",
    "mx_wndws=int(np.max(cls_wndws))                        # حداکثر تعداد پنجره ی موجود بین کلاس ها\n",
    "print('\\n max instance in classes of test windows =', mx_wndws)"
   ]
  },
  {
   "cell_type": "code",
   "execution_count": 13,
   "metadata": {},
   "outputs": [
    {
     "name": "stdout",
     "output_type": "stream",
     "text": [
      "min tst = -1.080262642694062\n",
      "max tst = 0.7573079028454361\n"
     ]
    }
   ],
   "source": [
    "print('min tst =', np.min(wndws_test[:,:-1]))\n",
    "print('max tst =', np.max(wndws_test[:,:-1]))"
   ]
  },
  {
   "cell_type": "code",
   "execution_count": 14,
   "metadata": {},
   "outputs": [
    {
     "data": {
      "text/plain": [
       "550"
      ]
     },
     "execution_count": 14,
     "metadata": {},
     "output_type": "execute_result"
    }
   ],
   "source": [
    "len(wndws_test)"
   ]
  },
  {
   "cell_type": "code",
   "execution_count": 15,
   "metadata": {},
   "outputs": [
    {
     "data": {
      "text/plain": [
       "(550, 481)"
      ]
     },
     "execution_count": 15,
     "metadata": {},
     "output_type": "execute_result"
    }
   ],
   "source": [
    "np.shape(wndws_test)"
   ]
  },
  {
   "cell_type": "code",
   "execution_count": 16,
   "metadata": {},
   "outputs": [],
   "source": [
    "Xtest=wndws_test[:,:-1]\n",
    "ytest=np.int16(wndws_test[:,-1])"
   ]
  },
  {
   "cell_type": "code",
   "execution_count": 17,
   "metadata": {},
   "outputs": [
    {
     "name": "stdout",
     "output_type": "stream",
     "text": [
      "array([1, 1, 1, 1, 1, 1, 1, 1, 1, 1, 1, 1, 1, 1, 1, 1, 1, 1, 1, 1, 1, 1,\n",
      "       1, 1, 1, 1, 1, 1, 1, 1, 1, 1, 1, 1, 1, 1, 1, 1, 1, 1, 1, 1, 1, 1,\n",
      "       1, 1, 1, 1, 1, 1, 1, 1, 1, 2, 2, 2, 2, 2, 2, 2, 2, 2, 2, 2, 2, 2,\n",
      "       2, 2, 2, 2, 2, 2, 2, 2, 2, 2, 2, 2, 2, 2, 2, 2, 2, 2, 2, 2, 2, 2,\n",
      "       2, 2, 2, 2, 2, 2, 2, 2, 2, 2, 2, 2, 2, 2, 2, 2, 2, 2, 2, 2, 2, 2,\n",
      "       2, 2, 2, 2, 2, 2, 2, 2, 2, 2, 2, 2, 2, 2, 2, 2, 2, 2, 2, 2, 2, 2,\n",
      "       2, 2, 2, 2, 2, 2, 2, 3, 3, 3, 3, 3, 3, 3, 3, 3, 3, 3, 3, 3, 3, 3,\n",
      "       3, 3, 3, 3, 3, 3, 3, 3, 3, 3, 3, 3, 3, 3, 3, 3, 3, 3, 3, 3, 3, 3,\n",
      "       3, 3, 3, 3, 3, 3, 3, 3, 3, 3, 3, 3, 3, 3, 3, 3, 3, 3, 3, 3, 3, 3,\n",
      "       3, 3, 3, 3, 3, 3, 3, 3, 3, 3, 3, 3, 3, 3, 3, 3, 3, 3, 3, 3, 3, 3,\n",
      "       3, 3, 3, 3, 4, 4, 4, 4, 4, 4, 4, 4, 4, 4, 4, 4, 4, 4, 4, 4, 4, 4,\n",
      "       4, 4, 4, 4, 4, 4, 4, 4, 4, 4, 4, 4, 4, 4, 4, 4, 4, 4, 4, 4, 4, 4,\n",
      "       4, 4, 4, 4, 4, 4, 4, 4, 4, 4, 4, 4, 4, 4, 4, 4, 4, 4, 4, 4, 4, 4,\n",
      "       4, 4, 4, 4, 4, 4, 4, 4, 4, 4, 4, 4, 4, 4, 4, 4, 4, 4, 4, 4, 4, 4,\n",
      "       4, 4, 4, 4, 4, 4, 5, 5, 5, 5, 5, 5, 5, 5, 5, 5, 5, 5, 5, 5, 5, 5,\n",
      "       5, 5, 5, 5, 5, 5, 5, 5, 5, 5, 5, 5, 5, 5, 5, 5, 5, 5, 5, 5, 5, 5,\n",
      "       5, 5, 5, 5, 5, 5, 5, 5, 5, 5, 5, 5, 5, 5, 5, 5, 5, 5, 5, 5, 5, 5,\n",
      "       5, 5, 5, 5, 5, 5, 5, 5, 5, 5, 5, 5, 5, 5, 5, 5, 5, 5, 5, 5, 5, 5,\n",
      "       5, 5, 5, 5, 5, 5, 5, 5, 5, 5, 5, 5, 5, 5, 5, 5, 5, 5, 5, 6, 6, 6,\n",
      "       6, 6, 6, 6, 6, 6, 6, 6, 6, 6, 6, 6, 6, 6, 6, 6, 6, 6, 6, 6, 6, 6,\n",
      "       6, 6, 6, 6, 6, 6, 6, 6, 6, 6, 6, 6, 6, 6, 6, 6, 6, 6, 6, 6, 6, 6,\n",
      "       6, 6, 6, 6, 6, 6, 6, 6, 6, 6, 6, 6, 6, 6, 6, 6, 6, 6, 6, 6, 6, 6,\n",
      "       6, 6, 6, 6, 6, 6, 6, 6, 6, 6, 6, 6, 6, 6, 6, 7, 7, 7, 7, 7, 7, 7,\n",
      "       7, 7, 7, 7, 7, 7, 7, 7, 7, 7, 7, 7, 7, 7, 7, 7, 7, 7, 7, 7, 7, 7,\n",
      "       7, 7, 7, 7, 7, 7, 7, 7, 7, 7, 7, 7, 7, 7, 7, 7, 7, 7, 7, 7, 7, 7],\n",
      "      dtype=int16)\n"
     ]
    }
   ],
   "source": [
    "fullprint(ytest)"
   ]
  },
  {
   "cell_type": "markdown",
   "metadata": {},
   "source": [
    "<h3><center><div style=\"direction:rtl;font-family:B Nazanin\">Train Windows</div></center></h1>"
   ]
  },
  {
   "cell_type": "code",
   "execution_count": 18,
   "metadata": {},
   "outputs": [
    {
     "data": {
      "text/plain": [
       "'\\nytestt=np.int32(np.array([ytest]).T)\\ntestx=np.concatenate((Xtest, ytestt), axis=1)\\ntestx=np.random.permutation(testx)\\nXtest=np.int32(testx[:,:-1])\\nytest=np.int32(testx[:,-1])'"
      ]
     },
     "execution_count": 18,
     "metadata": {},
     "output_type": "execute_result"
    }
   ],
   "source": [
    "#ytraint=np.int32(np.array([ytrain]).T)\n",
    "#trainx=np.concatenate((Xtrain, ytraint), axis=1)\n",
    "trainx=np.random.permutation(xtrain)\n",
    "Xtrain=np.array(trainx[:,:-1])\n",
    "ytrain=np.int16(trainx[:,-1])\n",
    "'''\n",
    "ytestt=np.int32(np.array([ytest]).T)\n",
    "testx=np.concatenate((Xtest, ytestt), axis=1)\n",
    "testx=np.random.permutation(testx)\n",
    "Xtest=np.int32(testx[:,:-1])\n",
    "ytest=np.int32(testx[:,-1])'''"
   ]
  },
  {
   "cell_type": "code",
   "execution_count": 19,
   "metadata": {},
   "outputs": [
    {
     "data": {
      "text/plain": [
       "(9, 481)"
      ]
     },
     "execution_count": 19,
     "metadata": {},
     "output_type": "execute_result"
    }
   ],
   "source": [
    "np.shape(wndws1)"
   ]
  },
  {
   "cell_type": "markdown",
   "metadata": {},
   "source": [
    "<h3><center><div style=\"direction:rtl;font-family:B Nazanin\">Validation Windows</div></center></h1>"
   ]
  },
  {
   "cell_type": "code",
   "execution_count": 20,
   "metadata": {},
   "outputs": [],
   "source": [
    "Xvalid=np.array(Xtrain)\n",
    "yvalid=np.array(ytrain)"
   ]
  },
  {
   "cell_type": "markdown",
   "metadata": {},
   "source": [
    "<h1><center><div style=\"direction:rtl;font-family:B Nazanin\">CNN And UnBalanced RAW Data</div></center></h1>\n",
    "<h1><center><div style=\"direction:rtl;font-family:Arial\">Cross Entropy Loss Function</div></center></h1>"
   ]
  },
  {
   "cell_type": "code",
   "execution_count": 21,
   "metadata": {
    "scrolled": true
   },
   "outputs": [
    {
     "name": "stdout",
     "output_type": "stream",
     "text": [
      "X_train =>  (100, 480)\n",
      "y_train =>  (100,)\n",
      "X_test  =>  (550, 480)\n",
      "y_test  =>  (550,)\n",
      "X_valid  =>  (100, 480)\n",
      "y_valid  =>  (100,)\n"
     ]
    }
   ],
   "source": [
    "X_train=np.array(Xtrain)\n",
    "y_train=np.array(ytrain)\n",
    "X_test=np.array(Xtest)\n",
    "y_test=np.array(ytest)\n",
    "X_valid=np.array(Xtrain)\n",
    "y_valid=np.array(ytrain)\n",
    "print('X_train => ', X_train.shape)\n",
    "print('y_train => ', y_train.shape)\n",
    "print('X_test  => ', X_test.shape)\n",
    "print('y_test  => ', y_test.shape)\n",
    "print('X_valid  => ', X_valid.shape)\n",
    "print('y_valid  => ', y_valid.shape)"
   ]
  },
  {
   "cell_type": "markdown",
   "metadata": {},
   "source": [
    "y_train=np.array(y_train+1)\n",
    "y_test=np.array(y_test+1)\n",
    "y_valid=np.array(y_valid+1)"
   ]
  },
  {
   "cell_type": "code",
   "execution_count": 22,
   "metadata": {},
   "outputs": [],
   "source": [
    "y_train_cat=to_categorical(y_train)\n",
    "y_valid_cat=to_categorical(y_valid)\n",
    "y_test_cat=to_categorical(y_test)\n",
    "\n",
    "\n",
    "X_train = np.expand_dims(X_train, axis=2)\n",
    "X_valid = np.expand_dims(X_valid, axis=2)\n",
    "X_test = np.expand_dims(X_test, axis=2)\n",
    "#y_train=np.transpose([y_train])"
   ]
  },
  {
   "cell_type": "code",
   "execution_count": 23,
   "metadata": {
    "scrolled": true
   },
   "outputs": [
    {
     "name": "stdout",
     "output_type": "stream",
     "text": [
      "Epoch 1/1000\n",
      "2/2 [==============================] - 4s 511ms/step - loss: 2.4978 - accuracy: 0.1400 - val_loss: 2.1204 - val_accuracy: 0.1600\n",
      "Epoch 2/1000\n",
      "2/2 [==============================] - 0s 56ms/step - loss: 8.9585 - accuracy: 0.1100 - val_loss: 2.0706 - val_accuracy: 0.1800\n",
      "Epoch 3/1000\n",
      "2/2 [==============================] - 0s 41ms/step - loss: 2.0481 - accuracy: 0.1700 - val_loss: 2.0676 - val_accuracy: 0.1400\n",
      "Epoch 4/1000\n",
      "2/2 [==============================] - 0s 39ms/step - loss: 2.0053 - accuracy: 0.1700 - val_loss: 2.0529 - val_accuracy: 0.1400\n",
      "Epoch 5/1000\n",
      "2/2 [==============================] - 0s 37ms/step - loss: 1.9447 - accuracy: 0.1700 - val_loss: 2.0486 - val_accuracy: 0.1800\n",
      "Epoch 6/1000\n",
      "2/2 [==============================] - 0s 38ms/step - loss: 1.8818 - accuracy: 0.2000 - val_loss: 2.0544 - val_accuracy: 0.1800\n",
      "Epoch 7/1000\n",
      "2/2 [==============================] - 0s 38ms/step - loss: 1.8975 - accuracy: 0.2600 - val_loss: 2.0389 - val_accuracy: 0.1800\n",
      "Epoch 8/1000\n",
      "2/2 [==============================] - 0s 47ms/step - loss: 1.7608 - accuracy: 0.3300 - val_loss: 2.0394 - val_accuracy: 0.2200\n",
      "Epoch 9/1000\n",
      "2/2 [==============================] - 0s 37ms/step - loss: 1.6756 - accuracy: 0.4100 - val_loss: 2.0146 - val_accuracy: 0.1800\n",
      "Epoch 10/1000\n",
      "2/2 [==============================] - 0s 38ms/step - loss: 1.9986 - accuracy: 0.3900 - val_loss: 2.0302 - val_accuracy: 0.1800\n",
      "Epoch 11/1000\n",
      "2/2 [==============================] - 0s 38ms/step - loss: 1.6325 - accuracy: 0.3900 - val_loss: 2.0133 - val_accuracy: 0.1800\n",
      "Epoch 12/1000\n",
      "2/2 [==============================] - 0s 45ms/step - loss: 1.5340 - accuracy: 0.4100 - val_loss: 2.0272 - val_accuracy: 0.2400\n",
      "Epoch 13/1000\n",
      "2/2 [==============================] - 0s 37ms/step - loss: 1.6005 - accuracy: 0.4000 - val_loss: 1.9961 - val_accuracy: 0.2200\n",
      "Epoch 14/1000\n",
      "2/2 [==============================] - 0s 37ms/step - loss: 1.3865 - accuracy: 0.5000 - val_loss: 2.0023 - val_accuracy: 0.1800\n",
      "Epoch 15/1000\n",
      "2/2 [==============================] - 0s 36ms/step - loss: 1.5627 - accuracy: 0.3500 - val_loss: 2.0100 - val_accuracy: 0.1800\n",
      "Epoch 16/1000\n",
      "2/2 [==============================] - 0s 34ms/step - loss: 1.3544 - accuracy: 0.4500 - val_loss: 1.9880 - val_accuracy: 0.1800\n",
      "Epoch 17/1000\n",
      "2/2 [==============================] - 0s 35ms/step - loss: 1.0920 - accuracy: 0.5900 - val_loss: 1.9941 - val_accuracy: 0.1800\n",
      "Epoch 18/1000\n",
      "2/2 [==============================] - 0s 40ms/step - loss: 1.4708 - accuracy: 0.4500 - val_loss: 1.9809 - val_accuracy: 0.1800\n",
      "Epoch 19/1000\n",
      "2/2 [==============================] - 0s 40ms/step - loss: 0.8590 - accuracy: 0.6500 - val_loss: 1.9483 - val_accuracy: 0.1800\n",
      "Epoch 20/1000\n",
      "2/2 [==============================] - 0s 36ms/step - loss: 1.3762 - accuracy: 0.4900 - val_loss: 1.9895 - val_accuracy: 0.1900\n",
      "Epoch 21/1000\n",
      "2/2 [==============================] - 0s 46ms/step - loss: 1.0817 - accuracy: 0.6700 - val_loss: 1.9765 - val_accuracy: 0.2500\n",
      "Epoch 22/1000\n",
      "2/2 [==============================] - 0s 37ms/step - loss: 1.0413 - accuracy: 0.5500 - val_loss: 1.9693 - val_accuracy: 0.1800\n",
      "Epoch 23/1000\n",
      "2/2 [==============================] - 0s 34ms/step - loss: 0.9108 - accuracy: 0.6300 - val_loss: 1.9784 - val_accuracy: 0.1900\n",
      "Epoch 24/1000\n",
      "2/2 [==============================] - 0s 36ms/step - loss: 1.1129 - accuracy: 0.5900 - val_loss: 1.9598 - val_accuracy: 0.2000\n",
      "Epoch 25/1000\n",
      "2/2 [==============================] - 0s 36ms/step - loss: 1.1350 - accuracy: 0.5900 - val_loss: 1.9646 - val_accuracy: 0.2200\n",
      "Epoch 26/1000\n",
      "2/2 [==============================] - 0s 39ms/step - loss: 0.8756 - accuracy: 0.6900 - val_loss: 1.9280 - val_accuracy: 0.2000\n",
      "Epoch 27/1000\n",
      "2/2 [==============================] - 0s 38ms/step - loss: 0.7981 - accuracy: 0.7000 - val_loss: 1.9557 - val_accuracy: 0.2400\n",
      "Epoch 28/1000\n",
      "2/2 [==============================] - 0s 39ms/step - loss: 0.5438 - accuracy: 0.8200 - val_loss: 1.9236 - val_accuracy: 0.2000\n",
      "Epoch 29/1000\n",
      "2/2 [==============================] - 0s 37ms/step - loss: 0.5122 - accuracy: 0.8000 - val_loss: 1.9364 - val_accuracy: 0.2000\n",
      "Epoch 30/1000\n",
      "2/2 [==============================] - 0s 58ms/step - loss: 0.6608 - accuracy: 0.7700 - val_loss: 1.9386 - val_accuracy: 0.2600\n",
      "Epoch 31/1000\n",
      "2/2 [==============================] - 0s 45ms/step - loss: 0.5376 - accuracy: 0.8200 - val_loss: 1.9300 - val_accuracy: 0.2100\n",
      "Epoch 32/1000\n",
      "2/2 [==============================] - 0s 44ms/step - loss: 0.4183 - accuracy: 0.8400 - val_loss: 1.8814 - val_accuracy: 0.2200\n",
      "Epoch 33/1000\n",
      "2/2 [==============================] - 0s 42ms/step - loss: 0.7870 - accuracy: 0.7300 - val_loss: 1.9628 - val_accuracy: 0.2500\n",
      "Epoch 34/1000\n",
      "2/2 [==============================] - 0s 43ms/step - loss: 0.7239 - accuracy: 0.7500 - val_loss: 1.9508 - val_accuracy: 0.1900\n",
      "Epoch 35/1000\n",
      "2/2 [==============================] - 0s 36ms/step - loss: 0.3900 - accuracy: 0.8900 - val_loss: 1.8967 - val_accuracy: 0.2300\n",
      "Epoch 36/1000\n",
      "2/2 [==============================] - 0s 36ms/step - loss: 0.2934 - accuracy: 0.9100 - val_loss: 1.9165 - val_accuracy: 0.2600\n",
      "Epoch 37/1000\n",
      "2/2 [==============================] - 0s 37ms/step - loss: 0.5685 - accuracy: 0.8100 - val_loss: 1.9339 - val_accuracy: 0.1800\n",
      "Epoch 38/1000\n",
      "2/2 [==============================] - 0s 37ms/step - loss: 0.4542 - accuracy: 0.8300 - val_loss: 1.9592 - val_accuracy: 0.1800\n",
      "Epoch 39/1000\n",
      "2/2 [==============================] - 0s 36ms/step - loss: 0.5066 - accuracy: 0.8000 - val_loss: 1.9120 - val_accuracy: 0.2000\n",
      "Epoch 40/1000\n",
      "2/2 [==============================] - 0s 39ms/step - loss: 0.2060 - accuracy: 0.9200 - val_loss: 1.9076 - val_accuracy: 0.2100\n",
      "Epoch 41/1000\n",
      "2/2 [==============================] - 0s 38ms/step - loss: 0.0988 - accuracy: 0.9700 - val_loss: 1.8946 - val_accuracy: 0.2000\n",
      "Epoch 42/1000\n",
      "2/2 [==============================] - 0s 37ms/step - loss: 0.1250 - accuracy: 0.9500 - val_loss: 1.9113 - val_accuracy: 0.2100\n",
      "Epoch 43/1000\n",
      "2/2 [==============================] - 0s 38ms/step - loss: 0.2759 - accuracy: 0.9200 - val_loss: 1.8947 - val_accuracy: 0.2200\n",
      "Epoch 44/1000\n",
      "2/2 [==============================] - 0s 37ms/step - loss: 0.2414 - accuracy: 0.9000 - val_loss: 1.8374 - val_accuracy: 0.2500\n",
      "Epoch 45/1000\n",
      "2/2 [==============================] - 0s 37ms/step - loss: 0.9094 - accuracy: 0.7700 - val_loss: 1.9503 - val_accuracy: 0.2500\n",
      "Epoch 46/1000\n",
      "2/2 [==============================] - 0s 39ms/step - loss: 0.3359 - accuracy: 0.9000 - val_loss: 1.8895 - val_accuracy: 0.2300\n",
      "Epoch 47/1000\n",
      "2/2 [==============================] - 0s 39ms/step - loss: 0.1140 - accuracy: 0.9800 - val_loss: 1.8572 - val_accuracy: 0.2600\n",
      "Epoch 48/1000\n",
      "2/2 [==============================] - 0s 38ms/step - loss: 0.0452 - accuracy: 0.9800 - val_loss: 1.8446 - val_accuracy: 0.1900\n",
      "Epoch 49/1000\n",
      "2/2 [==============================] - 0s 37ms/step - loss: 0.0749 - accuracy: 0.9700 - val_loss: 1.8590 - val_accuracy: 0.2400\n",
      "Epoch 50/1000\n",
      "2/2 [==============================] - 0s 36ms/step - loss: 0.1376 - accuracy: 0.9600 - val_loss: 1.8937 - val_accuracy: 0.1700\n",
      "Epoch 51/1000\n",
      "2/2 [==============================] - 0s 37ms/step - loss: 0.2360 - accuracy: 0.9500 - val_loss: 1.8421 - val_accuracy: 0.2200\n",
      "Epoch 52/1000\n",
      "2/2 [==============================] - 0s 50ms/step - loss: 0.0585 - accuracy: 0.9800 - val_loss: 1.8539 - val_accuracy: 0.2900\n",
      "Epoch 53/1000\n",
      "2/2 [==============================] - 0s 40ms/step - loss: 0.4104 - accuracy: 0.8500 - val_loss: 1.9332 - val_accuracy: 0.1700\n",
      "Epoch 54/1000\n",
      "2/2 [==============================] - 0s 40ms/step - loss: 0.9625 - accuracy: 0.6700 - val_loss: 1.9326 - val_accuracy: 0.2400\n",
      "Epoch 55/1000\n",
      "2/2 [==============================] - 0s 40ms/step - loss: 0.1871 - accuracy: 0.9400 - val_loss: 1.8880 - val_accuracy: 0.2600\n",
      "Epoch 56/1000\n",
      "2/2 [==============================] - 0s 42ms/step - loss: 0.0415 - accuracy: 1.0000 - val_loss: 1.8718 - val_accuracy: 0.2300\n",
      "Epoch 57/1000\n",
      "2/2 [==============================] - 0s 40ms/step - loss: 0.0198 - accuracy: 1.0000 - val_loss: 1.8666 - val_accuracy: 0.2200\n",
      "Epoch 58/1000\n",
      "2/2 [==============================] - 0s 39ms/step - loss: 0.0171 - accuracy: 1.0000 - val_loss: 1.8329 - val_accuracy: 0.2400\n"
     ]
    },
    {
     "name": "stdout",
     "output_type": "stream",
     "text": [
      "Epoch 59/1000\n",
      "2/2 [==============================] - 0s 38ms/step - loss: 0.0967 - accuracy: 0.9700 - val_loss: 1.8686 - val_accuracy: 0.2600\n",
      "Epoch 60/1000\n",
      "2/2 [==============================] - 0s 37ms/step - loss: 0.0593 - accuracy: 0.9800 - val_loss: 1.8613 - val_accuracy: 0.2200\n",
      "Epoch 61/1000\n",
      "2/2 [==============================] - 0s 37ms/step - loss: 0.0128 - accuracy: 1.0000 - val_loss: 1.8705 - val_accuracy: 0.2400\n",
      "Epoch 62/1000\n",
      "2/2 [==============================] - 0s 38ms/step - loss: 0.0568 - accuracy: 0.9900 - val_loss: 1.8379 - val_accuracy: 0.2200\n",
      "Epoch 63/1000\n",
      "2/2 [==============================] - 0s 44ms/step - loss: 0.0109 - accuracy: 1.0000 - val_loss: 1.8587 - val_accuracy: 0.2500\n",
      "Epoch 64/1000\n",
      "2/2 [==============================] - 0s 40ms/step - loss: 0.0369 - accuracy: 0.9800 - val_loss: 1.8296 - val_accuracy: 0.1900\n",
      "Epoch 65/1000\n",
      "2/2 [==============================] - 0s 39ms/step - loss: 0.0202 - accuracy: 0.9900 - val_loss: 1.8592 - val_accuracy: 0.2200\n",
      "Epoch 66/1000\n",
      "2/2 [==============================] - 0s 38ms/step - loss: 0.0071 - accuracy: 1.0000 - val_loss: 1.8413 - val_accuracy: 0.2100\n",
      "Epoch 67/1000\n",
      "2/2 [==============================] - 0s 36ms/step - loss: 0.0025 - accuracy: 1.0000 - val_loss: 1.8387 - val_accuracy: 0.2100\n",
      "Epoch 68/1000\n",
      "2/2 [==============================] - 0s 39ms/step - loss: 0.0019 - accuracy: 1.0000 - val_loss: 1.8983 - val_accuracy: 0.2500\n",
      "Epoch 69/1000\n",
      "2/2 [==============================] - 0s 37ms/step - loss: 0.0041 - accuracy: 1.0000 - val_loss: 1.8627 - val_accuracy: 0.2000\n",
      "Epoch 70/1000\n",
      "2/2 [==============================] - 0s 37ms/step - loss: 4.3059e-04 - accuracy: 1.0000 - val_loss: 1.8614 - val_accuracy: 0.2000\n",
      "Epoch 71/1000\n",
      "2/2 [==============================] - 0s 38ms/step - loss: 3.7456e-04 - accuracy: 1.0000 - val_loss: 1.8587 - val_accuracy: 0.2000\n",
      "Epoch 72/1000\n",
      "2/2 [==============================] - 0s 38ms/step - loss: 3.0875e-04 - accuracy: 1.0000 - val_loss: 1.8620 - val_accuracy: 0.2100\n",
      "Epoch 73/1000\n",
      "2/2 [==============================] - 0s 36ms/step - loss: 2.7764e-04 - accuracy: 1.0000 - val_loss: 1.8802 - val_accuracy: 0.2300\n",
      "Epoch 74/1000\n",
      "2/2 [==============================] - 0s 42ms/step - loss: 2.0162e-04 - accuracy: 1.0000 - val_loss: 1.8833 - val_accuracy: 0.2800\n",
      "Epoch 75/1000\n",
      "2/2 [==============================] - 0s 42ms/step - loss: 3.0429e-04 - accuracy: 1.0000 - val_loss: 2.0883 - val_accuracy: 0.2000\n",
      "Epoch 76/1000\n",
      "2/2 [==============================] - 0s 41ms/step - loss: 0.0281 - accuracy: 0.9900 - val_loss: 1.8514 - val_accuracy: 0.2400\n",
      "Epoch 77/1000\n",
      "2/2 [==============================] - 0s 40ms/step - loss: 3.2064 - accuracy: 0.6200 - val_loss: 2.0962 - val_accuracy: 0.1400\n",
      "Epoch 78/1000\n",
      "2/2 [==============================] - 0s 39ms/step - loss: 1.5977 - accuracy: 0.5600 - val_loss: 1.9005 - val_accuracy: 0.2400\n",
      "Epoch 79/1000\n",
      "2/2 [==============================] - 0s 48ms/step - loss: 0.3999 - accuracy: 0.8900 - val_loss: 1.8662 - val_accuracy: 0.3200\n",
      "Epoch 80/1000\n",
      "2/2 [==============================] - 0s 38ms/step - loss: 0.1349 - accuracy: 0.9500 - val_loss: 1.8325 - val_accuracy: 0.2100\n",
      "Epoch 81/1000\n",
      "2/2 [==============================] - 0s 39ms/step - loss: 0.0536 - accuracy: 0.9800 - val_loss: 1.8461 - val_accuracy: 0.2000\n",
      "Epoch 82/1000\n",
      "2/2 [==============================] - 0s 37ms/step - loss: 0.0483 - accuracy: 0.9900 - val_loss: 1.8414 - val_accuracy: 0.2000\n",
      "Epoch 83/1000\n",
      "2/2 [==============================] - 0s 36ms/step - loss: 0.0096 - accuracy: 1.0000 - val_loss: 1.8695 - val_accuracy: 0.2000\n",
      "Epoch 84/1000\n",
      "2/2 [==============================] - 0s 38ms/step - loss: 0.0036 - accuracy: 1.0000 - val_loss: 1.9310 - val_accuracy: 0.1900\n",
      "Epoch 85/1000\n",
      "2/2 [==============================] - 0s 38ms/step - loss: 0.0024 - accuracy: 1.0000 - val_loss: 1.9684 - val_accuracy: 0.1900\n",
      "Epoch 86/1000\n",
      "2/2 [==============================] - 0s 42ms/step - loss: 0.0017 - accuracy: 1.0000 - val_loss: 2.0256 - val_accuracy: 0.1900\n",
      "Epoch 87/1000\n",
      "2/2 [==============================] - 0s 37ms/step - loss: 6.8050e-04 - accuracy: 1.0000 - val_loss: 2.0405 - val_accuracy: 0.1900\n",
      "Epoch 88/1000\n",
      "2/2 [==============================] - 0s 37ms/step - loss: 5.4289e-04 - accuracy: 1.0000 - val_loss: 2.0770 - val_accuracy: 0.1900\n",
      "Epoch 89/1000\n",
      "2/2 [==============================] - 0s 37ms/step - loss: 4.8466e-04 - accuracy: 1.0000 - val_loss: 2.2141 - val_accuracy: 0.1900\n",
      "Epoch 90/1000\n",
      "2/2 [==============================] - 0s 36ms/step - loss: 3.9287e-04 - accuracy: 1.0000 - val_loss: 2.2255 - val_accuracy: 0.1900\n",
      "Epoch 91/1000\n",
      "2/2 [==============================] - 0s 36ms/step - loss: 3.0822e-04 - accuracy: 1.0000 - val_loss: 2.2089 - val_accuracy: 0.1900\n",
      "Epoch 92/1000\n",
      "2/2 [==============================] - 0s 37ms/step - loss: 3.2319e-04 - accuracy: 1.0000 - val_loss: 2.2032 - val_accuracy: 0.1900\n",
      "Epoch 93/1000\n",
      "2/2 [==============================] - 0s 38ms/step - loss: 1.6209e-04 - accuracy: 1.0000 - val_loss: 2.2154 - val_accuracy: 0.1900\n",
      "Epoch 94/1000\n",
      "2/2 [==============================] - 0s 40ms/step - loss: 1.5499e-04 - accuracy: 1.0000 - val_loss: 2.2167 - val_accuracy: 0.1900\n",
      "Epoch 95/1000\n",
      "2/2 [==============================] - 0s 40ms/step - loss: 1.0671e-04 - accuracy: 1.0000 - val_loss: 2.2208 - val_accuracy: 0.1900\n",
      "Epoch 96/1000\n",
      "2/2 [==============================] - 0s 38ms/step - loss: 9.9965e-05 - accuracy: 1.0000 - val_loss: 2.2287 - val_accuracy: 0.1900\n",
      "Epoch 97/1000\n",
      "2/2 [==============================] - 0s 39ms/step - loss: 1.0796e-04 - accuracy: 1.0000 - val_loss: 2.2384 - val_accuracy: 0.1900\n",
      "Epoch 98/1000\n",
      "2/2 [==============================] - 0s 37ms/step - loss: 1.5959e-04 - accuracy: 1.0000 - val_loss: 2.2079 - val_accuracy: 0.1900\n",
      "Epoch 99/1000\n",
      "2/2 [==============================] - 0s 36ms/step - loss: 0.0020 - accuracy: 1.0000 - val_loss: 2.0222 - val_accuracy: 0.2000\n",
      "Epoch 100/1000\n",
      "2/2 [==============================] - 0s 37ms/step - loss: 1.5751 - accuracy: 0.8000 - val_loss: 2.0024 - val_accuracy: 0.2400\n",
      "Epoch 101/1000\n",
      "2/2 [==============================] - 0s 38ms/step - loss: 2.0603 - accuracy: 0.5000 - val_loss: 1.8681 - val_accuracy: 0.2700\n",
      "Epoch 102/1000\n",
      "2/2 [==============================] - 0s 38ms/step - loss: 0.4428 - accuracy: 0.8600 - val_loss: 1.8655 - val_accuracy: 0.2100\n",
      "Epoch 103/1000\n",
      "2/2 [==============================] - 0s 37ms/step - loss: 0.1323 - accuracy: 0.9700 - val_loss: 1.8338 - val_accuracy: 0.2200\n",
      "Epoch 104/1000\n",
      "2/2 [==============================] - 0s 37ms/step - loss: 0.0381 - accuracy: 0.9800 - val_loss: 1.8723 - val_accuracy: 0.2100\n",
      "Epoch 105/1000\n",
      "2/2 [==============================] - 0s 36ms/step - loss: 0.0216 - accuracy: 0.9900 - val_loss: 1.9262 - val_accuracy: 0.2200\n",
      "Epoch 106/1000\n",
      "2/2 [==============================] - 0s 37ms/step - loss: 0.0057 - accuracy: 1.0000 - val_loss: 2.0575 - val_accuracy: 0.2300\n",
      "Epoch 107/1000\n",
      "2/2 [==============================] - 0s 37ms/step - loss: 0.0059 - accuracy: 1.0000 - val_loss: 2.0560 - val_accuracy: 0.2300\n",
      "Epoch 108/1000\n",
      "2/2 [==============================] - 0s 37ms/step - loss: 0.0030 - accuracy: 1.0000 - val_loss: 2.1476 - val_accuracy: 0.2400\n",
      "Epoch 109/1000\n",
      "2/2 [==============================] - 0s 36ms/step - loss: 7.3814e-04 - accuracy: 1.0000 - val_loss: 2.2334 - val_accuracy: 0.2300\n",
      "Epoch 110/1000\n",
      "2/2 [==============================] - 0s 36ms/step - loss: 2.9864e-04 - accuracy: 1.0000 - val_loss: 2.2533 - val_accuracy: 0.2400\n",
      "Epoch 111/1000\n",
      "2/2 [==============================] - 0s 37ms/step - loss: 3.5046e-04 - accuracy: 1.0000 - val_loss: 2.2806 - val_accuracy: 0.2400\n",
      "Epoch 112/1000\n",
      "2/2 [==============================] - 0s 37ms/step - loss: 2.5559e-04 - accuracy: 1.0000 - val_loss: 2.3805 - val_accuracy: 0.2200\n",
      "Epoch 113/1000\n",
      "2/2 [==============================] - 0s 36ms/step - loss: 1.9640e-04 - accuracy: 1.0000 - val_loss: 2.3877 - val_accuracy: 0.2200\n",
      "Epoch 114/1000\n",
      "2/2 [==============================] - 0s 36ms/step - loss: 1.8475e-04 - accuracy: 1.0000 - val_loss: 2.7293 - val_accuracy: 0.2300\n",
      "Epoch 115/1000\n",
      "2/2 [==============================] - 0s 36ms/step - loss: 2.2719e-04 - accuracy: 1.0000 - val_loss: 2.5132 - val_accuracy: 0.2200\n"
     ]
    },
    {
     "name": "stdout",
     "output_type": "stream",
     "text": [
      "Epoch 116/1000\n",
      "2/2 [==============================] - 0s 37ms/step - loss: 8.2199e-05 - accuracy: 1.0000 - val_loss: 2.5450 - val_accuracy: 0.2100\n",
      "Epoch 117/1000\n",
      "2/2 [==============================] - 0s 36ms/step - loss: 8.1739e-05 - accuracy: 1.0000 - val_loss: 2.5137 - val_accuracy: 0.2300\n",
      "Epoch 118/1000\n",
      "2/2 [==============================] - 0s 37ms/step - loss: 8.1267e-05 - accuracy: 1.0000 - val_loss: 2.5002 - val_accuracy: 0.2500\n",
      "Epoch 119/1000\n",
      "2/2 [==============================] - 0s 35ms/step - loss: 7.2946e-05 - accuracy: 1.0000 - val_loss: 2.5591 - val_accuracy: 0.2700\n",
      "Epoch 120/1000\n",
      "2/2 [==============================] - 0s 40ms/step - loss: 1.1182e-04 - accuracy: 1.0000 - val_loss: 2.6668 - val_accuracy: 0.3000\n",
      "Epoch 121/1000\n",
      "2/2 [==============================] - 0s 38ms/step - loss: 2.6975e-04 - accuracy: 1.0000 - val_loss: 2.7381 - val_accuracy: 0.2900\n",
      "Epoch 122/1000\n",
      "2/2 [==============================] - 0s 37ms/step - loss: 8.1935e-05 - accuracy: 1.0000 - val_loss: 2.5580 - val_accuracy: 0.2900\n",
      "Epoch 123/1000\n",
      "2/2 [==============================] - 0s 37ms/step - loss: 3.4672e-05 - accuracy: 1.0000 - val_loss: 2.5824 - val_accuracy: 0.2800\n",
      "Epoch 124/1000\n",
      "2/2 [==============================] - 0s 37ms/step - loss: 3.0930e-05 - accuracy: 1.0000 - val_loss: 2.6138 - val_accuracy: 0.2900\n",
      "Epoch 125/1000\n",
      "2/2 [==============================] - 0s 40ms/step - loss: 2.7926e-05 - accuracy: 1.0000 - val_loss: 2.6251 - val_accuracy: 0.2200\n",
      "Epoch 126/1000\n",
      "2/2 [==============================] - 0s 37ms/step - loss: 2.2698e-05 - accuracy: 1.0000 - val_loss: 2.6835 - val_accuracy: 0.2300\n",
      "Epoch 127/1000\n",
      "2/2 [==============================] - 0s 37ms/step - loss: 2.3453e-05 - accuracy: 1.0000 - val_loss: 2.6479 - val_accuracy: 0.2800\n",
      "Epoch 128/1000\n",
      "2/2 [==============================] - 0s 38ms/step - loss: 1.7104e-05 - accuracy: 1.0000 - val_loss: 2.6285 - val_accuracy: 0.2800\n",
      "Epoch 129/1000\n",
      "2/2 [==============================] - 0s 43ms/step - loss: 2.0297e-05 - accuracy: 1.0000 - val_loss: 2.7745 - val_accuracy: 0.3000\n",
      "2/2 [==============================] - 0s 4ms/step - loss: 1.8662 - accuracy: 0.3200\n",
      "np.shape(X_test)= (550, 480, 1)\n",
      "Accuracy=  0.3199999928474426\n"
     ]
    }
   ],
   "source": [
    "#VGG16_1D\n",
    "\n",
    "accuracy=0\n",
    "acc_crs=np.array([])\n",
    "##for i in range (10):\n",
    "##    if accuracy<0.2 :\n",
    "\n",
    "verbose, epochs, batch_size = 1, 1000, 80\n",
    "n_timesteps, n_features, n_outputs = X_train.shape[1], X_train.shape[2], y_train_cat.shape[1]\n",
    "steps_per_epoch = len(X_train)//batch_size\n",
    "validation_steps = len(X_valid)//batch_size # if you have test data\n",
    "\n",
    "\n",
    "\n",
    "model_crs = Sequential()\n",
    "#model_crs.add(Conv1D(input_shape=x_train.shape[1:],filters=64,kernel_size=9,padding=\"same\", activation=\"relu\"))\n",
    "model_crs.add(Conv1D(filters=128, kernel_size=12, strides=1, activation='relu', input_shape=(n_timesteps,n_features))) #Replaced\n",
    "model_crs.add(BatchNormalization())\n",
    "model_crs.add(MaxPooling1D(pool_size=2,strides=3))\n",
    "\n",
    "model_crs.add(Conv1D(filters=32, kernel_size=7, strides=1, padding=\"same\", activation=\"relu\"))\n",
    "model_crs.add(BatchNormalization())\n",
    "model_crs.add(MaxPooling1D(pool_size=2,strides=2))\n",
    "\n",
    "model_crs.add(Conv1D(filters=32, kernel_size=10, strides=1, padding=\"same\", activation=\"relu\"))\n",
    "model_crs.add(Conv1D(filters=128, kernel_size=5, strides=2, padding=\"same\", activation=\"relu\"))\n",
    "model_crs.add(MaxPooling1D(pool_size=2,strides=2))\n",
    "\n",
    "model_crs.add(Conv1D(filters=256, kernel_size=15, strides=1, padding=\"same\", activation=\"relu\"))\n",
    "model_crs.add(MaxPooling1D(pool_size=2,strides=2))\n",
    "\n",
    "model_crs.add(Conv1D(filters=512, kernel_size=5, strides=1, padding=\"same\", activation=\"relu\"))\n",
    "#model_crs.add(Conv1D(filters=128, kernel_size=3, strides=1, padding=\"same\", activation=\"relu\"))\n",
    "\n",
    "\n",
    "model_crs.add(Flatten())\n",
    "model_crs.add(Dropout(0.1))\n",
    "model_crs.add(Dense(units=512,activation=\"relu\"))\n",
    "#model_crs.add(Dense(units=2048,activation=\"relu\"))\n",
    "model_crs.add(Dense(n_outputs, activation='softmax'))   #Replaced here from old Model\n",
    "\n",
    "model_crs.compile(optimizer='rmsprop', loss='categorical_crossentropy', metrics=['accuracy'])\n",
    "# fit network   #CategoricalCrossentropy #sparse_categorical_crossentropy #SparseCategoricalCrossentropy\n",
    "\n",
    "earlystopping = callbacks.EarlyStopping(monitor =\"val_accuracy\", mode =\"max\", patience = 50, restore_best_weights = True)\n",
    "\n",
    "model_crs.fit(X_train, y_train_cat, epochs=epochs, batch_size=batch_size, verbose=verbose, validation_data = (X_valid, y_valid_cat), callbacks =[earlystopping])\n",
    "\n",
    "_, accuracy = model_crs.evaluate(X_valid, y_valid_cat, batch_size=batch_size, verbose=1)\n",
    "\n",
    "print('np.shape(X_test)=',np.shape(X_test))\n",
    "\n",
    "print('Accuracy= ', accuracy)\n",
    "\n",
    "#y_pred_vgg = model_crs.predict_classes(X_test)\n"
   ]
  },
  {
   "cell_type": "code",
   "execution_count": 24,
   "metadata": {},
   "outputs": [],
   "source": [
    "def maxindx(ar):\n",
    "    ar_cpy=np.array(ar)\n",
    "    pred=np.argmax(ar,axis=1)\n",
    "    for i in range (len(pred)):\n",
    "        if pred[i]==0:\n",
    "            ar_cpy[i,0]=-1000\n",
    "    pred=np.argmax(ar_cpy,axis=1)\n",
    "    return(pred)"
   ]
  },
  {
   "cell_type": "code",
   "execution_count": 25,
   "metadata": {},
   "outputs": [
    {
     "name": "stdout",
     "output_type": "stream",
     "text": [
      "18/18 [==============================] - 0s 8ms/step\n",
      "array([[ 0,  0, 30,  3,  0, 20,  0],\n",
      "       [ 0,  0, 47,  9,  0, 30,  0],\n",
      "       [ 0,  0, 41,  8,  0, 36,  0],\n",
      "       [ 0,  0, 22,  7,  0, 61,  0],\n",
      "       [ 0,  0, 37, 14,  0, 50,  0],\n",
      "       [ 0,  0, 19,  6,  0, 59,  0],\n",
      "       [ 0,  0,  5,  3,  0, 43,  0]], dtype=int64)\n",
      "              precision    recall  f1-score   support\n",
      "\n",
      "           1       0.00      0.00      0.00        53\n",
      "           2       0.00      0.00      0.00        86\n",
      "           3       0.20      0.48      0.29        85\n",
      "           4       0.14      0.08      0.10        90\n",
      "           5       0.00      0.00      0.00       101\n",
      "           6       0.20      0.70      0.31        84\n",
      "           7       0.00      0.00      0.00        51\n",
      "\n",
      "    accuracy                           0.19       550\n",
      "   macro avg       0.08      0.18      0.10       550\n",
      "weighted avg       0.08      0.19      0.11       550\n",
      "\n"
     ]
    },
    {
     "name": "stderr",
     "output_type": "stream",
     "text": [
      "C:\\ProgramData\\Anaconda3\\lib\\site-packages\\sklearn\\metrics\\_classification.py:1248: UndefinedMetricWarning: Precision and F-score are ill-defined and being set to 0.0 in labels with no predicted samples. Use `zero_division` parameter to control this behavior.\n",
      "  _warn_prf(average, modifier, msg_start, len(result))\n",
      "C:\\ProgramData\\Anaconda3\\lib\\site-packages\\sklearn\\metrics\\_classification.py:1248: UndefinedMetricWarning: Precision and F-score are ill-defined and being set to 0.0 in labels with no predicted samples. Use `zero_division` parameter to control this behavior.\n",
      "  _warn_prf(average, modifier, msg_start, len(result))\n",
      "C:\\ProgramData\\Anaconda3\\lib\\site-packages\\sklearn\\metrics\\_classification.py:1248: UndefinedMetricWarning: Precision and F-score are ill-defined and being set to 0.0 in labels with no predicted samples. Use `zero_division` parameter to control this behavior.\n",
      "  _warn_prf(average, modifier, msg_start, len(result))\n"
     ]
    }
   ],
   "source": [
    "predict_x=model_crs.predict(X_test)              # Function 1\n",
    "\n",
    "y_pred_crs=maxindx(predict_x)                    # function from augment.py to remove 0 index predictions\n",
    "\n",
    "#y_pred_crs = model_crs.predict_classes(X_test)\n",
    "\n",
    "cm = confusion_matrix(y_test, y_pred_crs)\n",
    "fullprint(cm)\n",
    "acc3=accuracy_score(y_test, y_pred_crs)\n",
    "\n",
    "print(classification_report(y_test, y_pred_crs))\n",
    "\n",
    "#sns.heatmap(cm, annot=True)\n",
    "\n",
    "#plt.imshow(cm)"
   ]
  },
  {
   "cell_type": "code",
   "execution_count": 26,
   "metadata": {},
   "outputs": [
    {
     "name": "stdout",
     "output_type": "stream",
     "text": [
      "Epoch 1/1000\n",
      "2/2 [==============================] - 2s 425ms/step - loss: 15.0076 - accuracy: 0.0100 - val_loss: 2.0635 - val_accuracy: 0.1800\n",
      "Epoch 2/1000\n",
      "2/2 [==============================] - 0s 47ms/step - loss: 2.1236 - accuracy: 0.1800 - val_loss: 2.0674 - val_accuracy: 0.1800\n",
      "Epoch 3/1000\n",
      "2/2 [==============================] - 0s 61ms/step - loss: 2.0162 - accuracy: 0.1800 - val_loss: 2.0619 - val_accuracy: 0.1900\n",
      "Epoch 4/1000\n",
      "2/2 [==============================] - 0s 43ms/step - loss: 1.9940 - accuracy: 0.2000 - val_loss: 2.0658 - val_accuracy: 0.1800\n",
      "Epoch 5/1000\n",
      "2/2 [==============================] - 0s 42ms/step - loss: 1.9562 - accuracy: 0.2300 - val_loss: 2.0185 - val_accuracy: 0.1800\n",
      "Epoch 6/1000\n",
      "2/2 [==============================] - 0s 46ms/step - loss: 2.0857 - accuracy: 0.2400 - val_loss: 2.0495 - val_accuracy: 0.1800\n",
      "Epoch 7/1000\n",
      "2/2 [==============================] - 0s 43ms/step - loss: 1.7998 - accuracy: 0.3400 - val_loss: 2.0364 - val_accuracy: 0.1800\n",
      "Epoch 8/1000\n",
      "2/2 [==============================] - 0s 43ms/step - loss: 1.7011 - accuracy: 0.3800 - val_loss: 2.0153 - val_accuracy: 0.1800\n",
      "Epoch 9/1000\n",
      "2/2 [==============================] - 0s 42ms/step - loss: 1.7717 - accuracy: 0.2500 - val_loss: 2.0462 - val_accuracy: 0.1900\n",
      "Epoch 10/1000\n",
      "2/2 [==============================] - 0s 59ms/step - loss: 1.7820 - accuracy: 0.3800 - val_loss: 2.0129 - val_accuracy: 0.2400\n",
      "Epoch 11/1000\n",
      "2/2 [==============================] - 0s 43ms/step - loss: 1.4233 - accuracy: 0.4100 - val_loss: 2.0142 - val_accuracy: 0.1600\n",
      "Epoch 12/1000\n",
      "2/2 [==============================] - 0s 60ms/step - loss: 1.7882 - accuracy: 0.3600 - val_loss: 1.9827 - val_accuracy: 0.2500\n",
      "Epoch 13/1000\n",
      "2/2 [==============================] - 0s 42ms/step - loss: 1.3235 - accuracy: 0.4200 - val_loss: 2.0002 - val_accuracy: 0.1800\n",
      "Epoch 14/1000\n",
      "2/2 [==============================] - 0s 44ms/step - loss: 1.3109 - accuracy: 0.5200 - val_loss: 2.0032 - val_accuracy: 0.1800\n",
      "Epoch 15/1000\n",
      "2/2 [==============================] - 0s 61ms/step - loss: 1.8352 - accuracy: 0.3800 - val_loss: 1.9752 - val_accuracy: 0.2700\n",
      "Epoch 16/1000\n",
      "2/2 [==============================] - 0s 45ms/step - loss: 1.1555 - accuracy: 0.5900 - val_loss: 1.9636 - val_accuracy: 0.2000\n",
      "Epoch 17/1000\n",
      "2/2 [==============================] - 0s 59ms/step - loss: 1.2004 - accuracy: 0.5200 - val_loss: 1.9499 - val_accuracy: 0.3300\n",
      "Epoch 18/1000\n",
      "2/2 [==============================] - 0s 43ms/step - loss: 1.0607 - accuracy: 0.5900 - val_loss: 1.9404 - val_accuracy: 0.2500\n",
      "Epoch 19/1000\n",
      "2/2 [==============================] - 0s 42ms/step - loss: 0.8992 - accuracy: 0.6700 - val_loss: 2.0126 - val_accuracy: 0.1800\n",
      "Epoch 20/1000\n",
      "2/2 [==============================] - 0s 47ms/step - loss: 1.7284 - accuracy: 0.4500 - val_loss: 2.0210 - val_accuracy: 0.2600\n",
      "Epoch 21/1000\n",
      "2/2 [==============================] - 0s 43ms/step - loss: 1.3102 - accuracy: 0.4500 - val_loss: 1.9844 - val_accuracy: 0.2400\n",
      "Epoch 22/1000\n",
      "2/2 [==============================] - 0s 43ms/step - loss: 0.9017 - accuracy: 0.6900 - val_loss: 1.9339 - val_accuracy: 0.2100\n",
      "Epoch 23/1000\n",
      "2/2 [==============================] - 0s 43ms/step - loss: 1.0690 - accuracy: 0.6200 - val_loss: 1.9414 - val_accuracy: 0.1900\n",
      "Epoch 24/1000\n",
      "2/2 [==============================] - 0s 42ms/step - loss: 0.8469 - accuracy: 0.6700 - val_loss: 1.9670 - val_accuracy: 0.1800\n",
      "Epoch 25/1000\n",
      "2/2 [==============================] - 0s 46ms/step - loss: 1.0678 - accuracy: 0.5600 - val_loss: 1.9665 - val_accuracy: 0.2000\n",
      "Epoch 26/1000\n",
      "2/2 [==============================] - 0s 43ms/step - loss: 1.1021 - accuracy: 0.6000 - val_loss: 1.9010 - val_accuracy: 0.1900\n",
      "Epoch 27/1000\n",
      "2/2 [==============================] - 0s 46ms/step - loss: 0.6236 - accuracy: 0.7600 - val_loss: 1.8954 - val_accuracy: 0.2000\n",
      "Epoch 28/1000\n",
      "2/2 [==============================] - 0s 46ms/step - loss: 0.9353 - accuracy: 0.6800 - val_loss: 1.9253 - val_accuracy: 0.2100\n",
      "Epoch 29/1000\n",
      "2/2 [==============================] - 0s 42ms/step - loss: 0.9821 - accuracy: 0.6000 - val_loss: 1.9038 - val_accuracy: 0.1900\n",
      "Epoch 30/1000\n",
      "2/2 [==============================] - 0s 43ms/step - loss: 1.1359 - accuracy: 0.6100 - val_loss: 1.8874 - val_accuracy: 0.2100\n",
      "Epoch 31/1000\n",
      "2/2 [==============================] - 0s 44ms/step - loss: 0.8058 - accuracy: 0.7600 - val_loss: 1.8557 - val_accuracy: 0.2400\n",
      "Epoch 32/1000\n",
      "2/2 [==============================] - 0s 50ms/step - loss: 0.4613 - accuracy: 0.8500 - val_loss: 1.8737 - val_accuracy: 0.2400\n",
      "Epoch 33/1000\n",
      "2/2 [==============================] - 0s 54ms/step - loss: 0.6300 - accuracy: 0.7400 - val_loss: 1.9401 - val_accuracy: 0.2000\n",
      "Epoch 34/1000\n",
      "2/2 [==============================] - 0s 63ms/step - loss: 0.7598 - accuracy: 0.7200 - val_loss: 1.8744 - val_accuracy: 0.1800\n",
      "Epoch 35/1000\n",
      "2/2 [==============================] - 0s 58ms/step - loss: 0.5215 - accuracy: 0.8200 - val_loss: 2.0887 - val_accuracy: 0.1800\n",
      "Epoch 36/1000\n",
      "2/2 [==============================] - 0s 56ms/step - loss: 0.6781 - accuracy: 0.8100 - val_loss: 1.8671 - val_accuracy: 0.2400\n",
      "Epoch 37/1000\n",
      "2/2 [==============================] - 0s 56ms/step - loss: 0.4475 - accuracy: 0.8400 - val_loss: 1.8613 - val_accuracy: 0.2100\n",
      "Epoch 38/1000\n",
      "2/2 [==============================] - 0s 51ms/step - loss: 0.3514 - accuracy: 0.8500 - val_loss: 1.9420 - val_accuracy: 0.2000\n",
      "Epoch 39/1000\n",
      "2/2 [==============================] - 0s 54ms/step - loss: 0.8103 - accuracy: 0.7500 - val_loss: 1.9309 - val_accuracy: 0.2100\n",
      "Epoch 40/1000\n",
      "2/2 [==============================] - 0s 51ms/step - loss: 0.4162 - accuracy: 0.8700 - val_loss: 1.9362 - val_accuracy: 0.2000\n",
      "Epoch 41/1000\n",
      "2/2 [==============================] - 0s 52ms/step - loss: 0.4408 - accuracy: 0.8500 - val_loss: 2.0340 - val_accuracy: 0.1700\n",
      "Epoch 42/1000\n",
      "2/2 [==============================] - 2s 2s/step - loss: 0.2153 - accuracy: 0.9200 - val_loss: 1.9568 - val_accuracy: 0.1700\n",
      "Epoch 43/1000\n",
      "2/2 [==============================] - 0s 49ms/step - loss: 0.0948 - accuracy: 0.9800 - val_loss: 2.2700 - val_accuracy: 0.1700\n",
      "Epoch 44/1000\n",
      "2/2 [==============================] - 0s 46ms/step - loss: 0.2053 - accuracy: 0.9200 - val_loss: 2.6276 - val_accuracy: 0.1800\n",
      "Epoch 45/1000\n",
      "2/2 [==============================] - 0s 50ms/step - loss: 0.6875 - accuracy: 0.8200 - val_loss: 1.8993 - val_accuracy: 0.2100\n",
      "Epoch 46/1000\n",
      "2/2 [==============================] - 0s 47ms/step - loss: 0.7577 - accuracy: 0.7600 - val_loss: 1.8402 - val_accuracy: 0.2500\n",
      "Epoch 47/1000\n",
      "2/2 [==============================] - 0s 48ms/step - loss: 0.6602 - accuracy: 0.7200 - val_loss: 1.9091 - val_accuracy: 0.2100\n",
      "Epoch 48/1000\n",
      "2/2 [==============================] - 0s 44ms/step - loss: 0.7141 - accuracy: 0.8000 - val_loss: 1.8340 - val_accuracy: 0.2500\n",
      "Epoch 49/1000\n",
      "2/2 [==============================] - 0s 103ms/step - loss: 0.3794 - accuracy: 0.9100 - val_loss: 2.0002 - val_accuracy: 0.2200\n",
      "Epoch 50/1000\n",
      "2/2 [==============================] - 0s 45ms/step - loss: 0.0956 - accuracy: 0.9700 - val_loss: 1.9301 - val_accuracy: 0.2100\n",
      "Epoch 51/1000\n",
      "2/2 [==============================] - 0s 42ms/step - loss: 0.4047 - accuracy: 0.8900 - val_loss: 1.8830 - val_accuracy: 0.2000\n",
      "Epoch 52/1000\n",
      "2/2 [==============================] - 0s 43ms/step - loss: 0.2269 - accuracy: 0.9000 - val_loss: 1.9911 - val_accuracy: 0.1800\n",
      "Epoch 53/1000\n",
      "2/2 [==============================] - 0s 43ms/step - loss: 0.0755 - accuracy: 0.9600 - val_loss: 2.0578 - val_accuracy: 0.2000\n",
      "Epoch 54/1000\n",
      "2/2 [==============================] - 0s 43ms/step - loss: 0.0397 - accuracy: 0.9900 - val_loss: 2.0651 - val_accuracy: 0.1800\n",
      "Epoch 55/1000\n",
      "2/2 [==============================] - 0s 45ms/step - loss: 0.0496 - accuracy: 0.9800 - val_loss: 2.1300 - val_accuracy: 0.2000\n",
      "Epoch 56/1000\n",
      "2/2 [==============================] - 0s 43ms/step - loss: 0.0124 - accuracy: 1.0000 - val_loss: 2.1926 - val_accuracy: 0.2000\n",
      "Epoch 57/1000\n",
      "2/2 [==============================] - 0s 44ms/step - loss: 0.0061 - accuracy: 1.0000 - val_loss: 2.2341 - val_accuracy: 0.2000\n",
      "Epoch 58/1000\n",
      "2/2 [==============================] - 0s 47ms/step - loss: 0.0320 - accuracy: 0.9900 - val_loss: 2.3258 - val_accuracy: 0.2000\n"
     ]
    },
    {
     "name": "stdout",
     "output_type": "stream",
     "text": [
      "Epoch 59/1000\n",
      "2/2 [==============================] - 0s 48ms/step - loss: 0.0676 - accuracy: 0.9900 - val_loss: 2.2217 - val_accuracy: 0.2200\n",
      "Epoch 60/1000\n",
      "2/2 [==============================] - 0s 50ms/step - loss: 0.6221 - accuracy: 0.8400 - val_loss: 2.1004 - val_accuracy: 0.1800\n",
      "Epoch 61/1000\n",
      "2/2 [==============================] - 0s 47ms/step - loss: 0.5824 - accuracy: 0.7600 - val_loss: 1.9158 - val_accuracy: 0.2700\n",
      "Epoch 62/1000\n",
      "2/2 [==============================] - 0s 48ms/step - loss: 1.4354 - accuracy: 0.6500 - val_loss: 1.9695 - val_accuracy: 0.1800\n",
      "Epoch 63/1000\n",
      "2/2 [==============================] - 0s 49ms/step - loss: 0.4378 - accuracy: 0.8700 - val_loss: 2.0727 - val_accuracy: 0.2000\n",
      "Epoch 64/1000\n",
      "2/2 [==============================] - 0s 45ms/step - loss: 0.0759 - accuracy: 0.9800 - val_loss: 2.5474 - val_accuracy: 0.2200\n",
      "Epoch 65/1000\n",
      "2/2 [==============================] - 0s 44ms/step - loss: 0.0714 - accuracy: 0.9800 - val_loss: 2.4048 - val_accuracy: 0.2100\n",
      "Epoch 66/1000\n",
      "2/2 [==============================] - 0s 45ms/step - loss: 0.0299 - accuracy: 0.9900 - val_loss: 2.5189 - val_accuracy: 0.2200\n",
      "Epoch 67/1000\n",
      "2/2 [==============================] - 0s 49ms/step - loss: 0.0351 - accuracy: 0.9900 - val_loss: 2.5234 - val_accuracy: 0.2100\n",
      "2/2 [==============================] - 0s 5ms/step - loss: 1.9499 - accuracy: 0.3300\n",
      "np.shape(X_test)= (550, 480, 1)\n",
      "Accuracy=  0.33000001311302185\n"
     ]
    }
   ],
   "source": [
    "#VGG16_1D\n",
    "\n",
    "accuracy=0\n",
    "acc_crs=np.array([])\n",
    "##for i in range (10):\n",
    "##    if accuracy<0.2 :\n",
    "\n",
    "verbose, epochs, batch_size = 1, 1000, 80\n",
    "n_timesteps, n_features, n_outputs = X_train.shape[1], X_train.shape[2], y_train_cat.shape[1]\n",
    "steps_per_epoch = len(X_train)//batch_size\n",
    "validation_steps = len(X_valid)//batch_size # if you have test data\n",
    "\n",
    "\n",
    "\n",
    "model_crs = Sequential()\n",
    "#model_crs.add(Conv1D(input_shape=x_train.shape[1:],filters=64,kernel_size=9,padding=\"same\", activation=\"relu\"))\n",
    "model_crs.add(Conv1D(filters=256, kernel_size=12, strides=1, activation='relu', input_shape=(n_timesteps,n_features))) #Replaced\n",
    "model_crs.add(BatchNormalization())\n",
    "model_crs.add(MaxPooling1D(pool_size=2,strides=3))\n",
    "\n",
    "model_crs.add(Conv1D(filters=64, kernel_size=7, strides=1, padding=\"same\", activation=\"relu\"))\n",
    "model_crs.add(BatchNormalization())\n",
    "model_crs.add(MaxPooling1D(pool_size=2,strides=2))\n",
    "\n",
    "model_crs.add(Conv1D(filters=64, kernel_size=10, strides=1, padding=\"same\", activation=\"relu\"))\n",
    "model_crs.add(Conv1D(filters=128, kernel_size=5, strides=2, padding=\"same\", activation=\"relu\"))\n",
    "model_crs.add(MaxPooling1D(pool_size=2,strides=2))\n",
    "\n",
    "model_crs.add(Conv1D(filters=512, kernel_size=15, strides=1, padding=\"same\", activation=\"relu\"))\n",
    "model_crs.add(MaxPooling1D(pool_size=2,strides=2))\n",
    "\n",
    "model_crs.add(Conv1D(filters=1024, kernel_size=5, strides=1, padding=\"same\", activation=\"relu\"))\n",
    "#model_crs.add(Conv1D(filters=128, kernel_size=3, strides=1, padding=\"same\", activation=\"relu\"))\n",
    "\n",
    "\n",
    "model_crs.add(Flatten())\n",
    "model_crs.add(Dropout(0.1))\n",
    "model_crs.add(Dense(units=512,activation=\"relu\"))\n",
    "#model_crs.add(Dense(units=2048,activation=\"relu\"))\n",
    "model_crs.add(Dense(n_outputs, activation='softmax'))   #Replaced here from old Model\n",
    "\n",
    "model_crs.compile(optimizer='rmsprop', loss='categorical_crossentropy', metrics=['accuracy'])\n",
    "# fit network   #CategoricalCrossentropy #sparse_categorical_crossentropy #SparseCategoricalCrossentropy\n",
    "\n",
    "earlystopping = callbacks.EarlyStopping(monitor =\"val_accuracy\", mode =\"max\", patience = 50, restore_best_weights = True)\n",
    "\n",
    "model_crs.fit(X_train, y_train_cat, epochs=epochs, batch_size=batch_size, verbose=verbose, validation_data = (X_valid, y_valid_cat), callbacks =[earlystopping])\n",
    "\n",
    "_, accuracy = model_crs.evaluate(X_valid, y_valid_cat, batch_size=batch_size, verbose=1)\n",
    "\n",
    "print('np.shape(X_test)=',np.shape(X_test))\n",
    "\n",
    "print('Accuracy= ', accuracy)\n",
    "\n",
    "#y_pred_vgg = model_crs.predict_classes(X_test)\n"
   ]
  },
  {
   "cell_type": "code",
   "execution_count": 27,
   "metadata": {},
   "outputs": [
    {
     "name": "stdout",
     "output_type": "stream",
     "text": [
      "18/18 [==============================] - 0s 8ms/step\n",
      "array([[ 0, 24, 14, 13,  2,  0,  0],\n",
      "       [ 0, 52, 14, 14,  2,  0,  4],\n",
      "       [ 0, 41, 18, 14,  4,  0,  8],\n",
      "       [ 0, 41,  6, 27,  5,  0, 11],\n",
      "       [ 0, 38, 19, 28,  6,  0, 10],\n",
      "       [ 0, 37,  9, 24,  6,  0,  8],\n",
      "       [ 0, 21,  0, 19,  3,  0,  8]], dtype=int64)\n",
      "              precision    recall  f1-score   support\n",
      "\n",
      "           1       0.00      0.00      0.00        53\n",
      "           2       0.20      0.60      0.31        86\n",
      "           3       0.23      0.21      0.22        85\n",
      "           4       0.19      0.30      0.24        90\n",
      "           5       0.21      0.06      0.09       101\n",
      "           6       0.00      0.00      0.00        84\n",
      "           7       0.16      0.16      0.16        51\n",
      "\n",
      "    accuracy                           0.20       550\n",
      "   macro avg       0.14      0.19      0.14       550\n",
      "weighted avg       0.15      0.20      0.15       550\n",
      "\n"
     ]
    },
    {
     "name": "stderr",
     "output_type": "stream",
     "text": [
      "C:\\ProgramData\\Anaconda3\\lib\\site-packages\\sklearn\\metrics\\_classification.py:1248: UndefinedMetricWarning: Precision and F-score are ill-defined and being set to 0.0 in labels with no predicted samples. Use `zero_division` parameter to control this behavior.\n",
      "  _warn_prf(average, modifier, msg_start, len(result))\n",
      "C:\\ProgramData\\Anaconda3\\lib\\site-packages\\sklearn\\metrics\\_classification.py:1248: UndefinedMetricWarning: Precision and F-score are ill-defined and being set to 0.0 in labels with no predicted samples. Use `zero_division` parameter to control this behavior.\n",
      "  _warn_prf(average, modifier, msg_start, len(result))\n",
      "C:\\ProgramData\\Anaconda3\\lib\\site-packages\\sklearn\\metrics\\_classification.py:1248: UndefinedMetricWarning: Precision and F-score are ill-defined and being set to 0.0 in labels with no predicted samples. Use `zero_division` parameter to control this behavior.\n",
      "  _warn_prf(average, modifier, msg_start, len(result))\n"
     ]
    }
   ],
   "source": [
    "predict_x=model_crs.predict(X_test)              # Function 1\n",
    "\n",
    "y_pred_crs=maxindx(predict_x)                    # function from augment.py to remove 0 index predictions\n",
    "\n",
    "#y_pred_crs = model_crs.predict_classes(X_test)\n",
    "\n",
    "cm = confusion_matrix(y_test, y_pred_crs)\n",
    "fullprint(cm)\n",
    "acc3=accuracy_score(y_test, y_pred_crs)\n",
    "\n",
    "print(classification_report(y_test, y_pred_crs))\n",
    "\n",
    "#sns.heatmap(cm, annot=True)\n",
    "\n",
    "#plt.imshow(cm)"
   ]
  },
  {
   "cell_type": "code",
   "execution_count": null,
   "metadata": {},
   "outputs": [],
   "source": []
  }
 ],
 "metadata": {
  "celltoolbar": "Raw Cell Format",
  "kernelspec": {
   "display_name": "Python 3 (ipykernel)",
   "language": "python",
   "name": "python3"
  },
  "language_info": {
   "codemirror_mode": {
    "name": "ipython",
    "version": 3
   },
   "file_extension": ".py",
   "mimetype": "text/x-python",
   "name": "python",
   "nbconvert_exporter": "python",
   "pygments_lexer": "ipython3",
   "version": "3.9.7"
  }
 },
 "nbformat": 4,
 "nbformat_minor": 4
}
