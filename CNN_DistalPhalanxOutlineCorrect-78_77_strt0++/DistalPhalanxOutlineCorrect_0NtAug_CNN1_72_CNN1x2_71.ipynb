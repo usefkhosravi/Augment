{
 "cells": [
  {
   "cell_type": "markdown",
   "metadata": {},
   "source": [
    "import time\n",
    "plc=1\n",
    "time.sleep(3000*plc)         #run after 1 houre = 3600 seconds"
   ]
  },
  {
   "cell_type": "code",
   "execution_count": 1,
   "metadata": {},
   "outputs": [
    {
     "data": {
      "text/html": [
       "<style>#notebook { padding-top:0px !important; } .container { width:100% !important; } .end_space { min-height:0px !important; } html, body, .container{ margin:0!important;padding:0!important;}</style>"
      ],
      "text/plain": [
       "<IPython.core.display.HTML object>"
      ]
     },
     "metadata": {},
     "output_type": "display_data"
    }
   ],
   "source": [
    "import os\n",
    "import glob\n",
    "import scipy\n",
    "import random\n",
    "import bisect\n",
    "import numpy as np\n",
    "import pandas as pd\n",
    "import seaborn as sns\n",
    "from scipy import signal\n",
    "from scipy.signal import find_peaks\n",
    "import matplotlib.pyplot as plt\n",
    "from preprocess import *                         #ماژول استخراج پنجره ها\n",
    "from data import *                          #ماژول محلی ورود داده ها\n",
    "from augment import *                            #ماژول های داده افزایی\n",
    "from lstm_cnn import *                           #ماژول های داده افزایی با lstm_cnn\n",
    "import augment\n",
    "import importlib\n",
    "importlib.reload(augment)\n",
    "import tensorflow as tf\n",
    "from tensorflow import keras\n",
    "from tensorflow.keras.layers import BatchNormalization\n",
    "from sklearn.model_selection import train_test_split\n",
    "from sklearn.neural_network import MLPClassifier\n",
    "from sklearn.datasets import make_classification\n",
    "from sklearn.metrics import confusion_matrix, accuracy_score, classification_report,recall_score,precision_score\n",
    "from tensorflow.keras import callbacks\n",
    "from tensorflow.keras import layers\n",
    "from tensorflow.keras.models import Sequential\n",
    "from tensorflow.keras.layers import Convolution2D,Conv1D,Dropout,MaxPooling1D,MaxPooling2D,Flatten,Dense\n",
    "from tensorflow.keras import backend as K\n",
    "from tensorflow.keras.utils import to_categorical\n",
    "from tensorflow.keras.models import load_model\n",
    "cwd = os.getcwd() #\n",
    "fullscrn()"
   ]
  },
  {
   "cell_type": "markdown",
   "metadata": {},
   "source": [
    "<h1><center><div style=\"direction:rtl;font-family:B Nazanin\">Importing Data</div></center></h1>"
   ]
  },
  {
   "cell_type": "code",
   "execution_count": 2,
   "metadata": {
    "scrolled": true
   },
   "outputs": [
    {
     "name": "stdout",
     "output_type": "stream",
     "text": [
      "first_train_shape= (276, 81)\n",
      "first_test_shape= (600, 81)\n",
      "classes_quantity= 2\n",
      "tr_lbls=\t {0, 1}\n",
      "Count_labels= [161]\n",
      "max(train_feature_Altitude)= 2.4602\n",
      "min(train_feature_Altitude)= -2.1799\n",
      "first_train_sample=\n",
      " [ 1.       -0.88425  -0.76511  -0.6264   -0.30459  -0.014302  0.29922\n",
      "  0.51262   0.62572   0.89455   1.053     1.1322    1.2672    1.4321\n",
      "  1.4845    1.2757    1.1589    1.0053    0.81736   0.50439   0.37885\n",
      "  0.14581  -0.20947  -0.57872  -0.67481  -0.79999  -0.93504  -0.78816\n",
      " -0.57744  -0.27191   0.061242  0.41037   0.76072   1.1348    1.5046\n",
      "  1.6696    1.6999    1.5531    1.3937    1.4704    1.5877    1.6902\n",
      "  1.7647    1.5246    1.1461    0.76139   0.42848   0.076242 -0.2335\n",
      " -0.51671  -0.81834  -0.080823 -0.27898  -0.46208  -0.69433  -0.92273\n",
      " -1.1133   -1.3737   -1.5067   -1.5621   -1.3708   -1.102    -0.86298\n",
      " -0.53403  -0.3252   -0.1899   -0.3366   -0.45422  -0.60653  -0.78383\n",
      " -1.0497   -1.3447   -1.4977   -1.5734   -1.4749   -1.2418   -1.0149\n",
      " -0.78176  -0.61354  -0.3066   -0.16655 ]\n",
      "0 115\t1 161\t"
     ]
    }
   ],
   "source": [
    "rate=480       #81\n",
    "cls_num=2\n",
    "btch=20\n",
    "for i in range (0,cls_num):\n",
    "    vars()['ecg'+str(i)],vars()['ecg_tst'+str(i)]=DistalPhalanxOutlineCorrect(i)\n",
    "\n",
    "os.chdir(cwd)\n",
    "clses_lens=np.array([])\n",
    "i=0                               #جمع آوری داده ها و چاپ تعداد نمونه ی هر کلاس\n",
    "ecg=np.array(ecg0)\n",
    "print(0,len(vars()['ecg'+str(0)]), end='\\t')\n",
    "clses_lens=np.append(clses_lens,len(vars()['ecg'+str(0)]))\n",
    "for i in range (1,cls_num):\n",
    "    ecg=np.concatenate((ecg,vars()['ecg'+str(i)]),axis=0)\n",
    "    clses_lens=np.append(clses_lens,len(vars()['ecg'+str(i)]))\n",
    "    print(i,len(vars()['ecg'+str(i)]), end='\\t')\n",
    "\n",
    "mx_sig=max(clses_lens)"
   ]
  },
  {
   "cell_type": "code",
   "execution_count": 3,
   "metadata": {},
   "outputs": [
    {
     "data": {
      "text/plain": [
       "(276, 481)"
      ]
     },
     "execution_count": 3,
     "metadata": {},
     "output_type": "execute_result"
    }
   ],
   "source": [
    "np.shape(ecg)"
   ]
  },
  {
   "cell_type": "code",
   "execution_count": 4,
   "metadata": {},
   "outputs": [
    {
     "data": {
      "text/plain": [
       "array([0., 0., 0., 0., 0., 0., 0., 0., 0., 0., 0., 0., 0., 0., 0., 0., 0.,\n",
       "       0., 0., 0., 0., 0., 0., 0., 0., 0., 0., 0., 0., 0., 0., 0., 0., 0.,\n",
       "       0., 0., 0., 0., 0., 0., 0., 0., 0., 0., 0., 0., 0., 0., 0., 0., 0.,\n",
       "       0., 0., 0., 0., 0., 0., 0., 0., 0., 0., 0., 0., 0., 0., 0., 0., 0.,\n",
       "       0., 0., 0., 0., 0., 0., 0., 0., 0., 0., 0., 0., 0., 0., 0., 0., 0.,\n",
       "       0., 0., 0., 0., 0., 0., 0., 0., 0., 0., 0., 0., 0., 0., 0., 0., 0.,\n",
       "       0., 0., 0., 0., 0., 0., 0., 0., 0., 0., 0., 0., 0., 1., 1., 1., 1.,\n",
       "       1., 1., 1., 1., 1., 1., 1., 1., 1., 1., 1., 1., 1., 1., 1., 1., 1.,\n",
       "       1., 1., 1., 1., 1., 1., 1., 1., 1., 1., 1., 1., 1., 1., 1., 1., 1.,\n",
       "       1., 1., 1., 1., 1., 1., 1., 1., 1., 1., 1., 1., 1., 1., 1., 1., 1.,\n",
       "       1., 1., 1., 1., 1., 1., 1., 1., 1., 1., 1., 1., 1., 1., 1., 1., 1.,\n",
       "       1., 1., 1., 1., 1., 1., 1., 1., 1., 1., 1., 1., 1., 1., 1., 1., 1.,\n",
       "       1., 1., 1., 1., 1., 1., 1., 1., 1., 1., 1., 1., 1., 1., 1., 1., 1.,\n",
       "       1., 1., 1., 1., 1., 1., 1., 1., 1., 1., 1., 1., 1., 1., 1., 1., 1.,\n",
       "       1., 1., 1., 1., 1., 1., 1., 1., 1., 1., 1., 1., 1., 1., 1., 1., 1.,\n",
       "       1., 1., 1., 1., 1., 1., 1., 1., 1., 1., 1., 1., 1., 1., 1., 1., 1.,\n",
       "       1., 1., 1., 1.])"
      ]
     },
     "execution_count": 4,
     "metadata": {},
     "output_type": "execute_result"
    }
   ],
   "source": [
    "ecg[:,-1]"
   ]
  },
  {
   "cell_type": "markdown",
   "metadata": {},
   "source": [
    "<h2><center><div style=\"direction:rtl;font-family:B Nazanin\">Base Train windows</div></center></h1>"
   ]
  },
  {
   "cell_type": "code",
   "execution_count": 5,
   "metadata": {},
   "outputs": [
    {
     "name": "stdout",
     "output_type": "stream",
     "text": [
      "each class and its windows =\n",
      "0 115\t1 161\t\n",
      " max = 161\n"
     ]
    }
   ],
   "source": [
    "smpl_rte=480                                              # در ماژول ها نیز همین مقدار ثبت شده\n",
    "i=0\n",
    "windws=np.array([])\n",
    "\n",
    "for cls in range (0,cls_num):                                 #ساخت پنجره های داده های آموزش اصلی\n",
    "    vars()['wndws'+str(cls)]=np.array(vars()['ecg'+str(cls)])  \n",
    "    \n",
    "print(\"each class and its windows =\")\n",
    "\n",
    "cls_wndws=np.array([])\n",
    "for cls in range (0,cls_num):                                # آرایه ی تعداد پنجره ی هر کلاس\n",
    "    wns=len(vars()['wndws'+str(cls)])\n",
    "    cls_wndws=np.append(cls_wndws,wns)\n",
    "    print(cls, wns, end='\\t')\n",
    "\n",
    "mx_wndws=int(np.max(cls_wndws))                        # حداکثر تعداد پنجره ی موجود بین کلاس ها\n",
    "print('\\n max =', mx_wndws)"
   ]
  },
  {
   "cell_type": "raw",
   "metadata": {},
   "source": [
    "#clses=3                                   #تعیین میزان افزایش نمونه (تولید داده)\n",
    "mx_wndws=int(mx_wndws)  #mx_wndws*0.3  # =classes-1 برای بررسی الگوریتم تعداد کمی کلاس آزمایش شد\n",
    "mx_wndws=2598           #+2\n",
    "print(mx_wndws)"
   ]
  },
  {
   "cell_type": "markdown",
   "metadata": {},
   "source": [
    "<h1><center><div style=\"direction:rtl;font-family:B Nazanin\">Data Augmentation</div></center></h1>"
   ]
  },
  {
   "cell_type": "code",
   "execution_count": 6,
   "metadata": {},
   "outputs": [
    {
     "name": "stdout",
     "output_type": "stream",
     "text": [
      "Up to class  0 train shape =  (115, 481)\n",
      "Up to class  1 train shape =  (276, 481)\n"
     ]
    }
   ],
   "source": [
    "smpl_rte=len(wndws1[0])                                        # در ماژول ها نیز همین مقدار ثبت شده\n",
    "\n",
    "#add augmented data to base data\n",
    "xtrain=np.empty((0,len(wndws1[0])), float) \n",
    "for i in range (0,cls_num):   \n",
    "    xtrain=np.append(xtrain,vars()['wndws'+str(i)],axis=0)\n",
    "    print('Up to class ', i, 'train shape = ', np.shape(xtrain))"
   ]
  },
  {
   "cell_type": "code",
   "execution_count": 7,
   "metadata": {},
   "outputs": [
    {
     "name": "stdout",
     "output_type": "stream",
     "text": [
      "[115 161]\n"
     ]
    }
   ],
   "source": [
    "print(np.bincount(np.int16(xtrain[:,-1])))    #تعداد پنجره در هر کلاس از 0 تا 17"
   ]
  },
  {
   "cell_type": "code",
   "execution_count": 8,
   "metadata": {},
   "outputs": [
    {
     "data": {
      "text/plain": [
       "array([0., 0., 0., 0., 0., 0., 0., 0., 0., 0., 0., 0., 0., 0., 0., 0., 0.,\n",
       "       0., 0., 0., 0., 0., 0., 0., 0., 0., 0., 0., 0., 0., 0., 0., 0., 0.,\n",
       "       0., 0., 0., 0., 0., 0., 0., 0., 0., 0., 0., 0., 0., 0., 0., 0., 0.,\n",
       "       0., 0., 0., 0., 0., 0., 0., 0., 0., 0., 0., 0., 0., 0., 0., 0., 0.,\n",
       "       0., 0., 0., 0., 0., 0., 0., 0., 0., 0., 0., 0., 0., 0., 0., 0., 0.,\n",
       "       0., 0., 0., 0., 0., 0., 0., 0., 0., 0., 0., 0., 0., 0., 0., 0., 0.,\n",
       "       0., 0., 0., 0., 0., 0., 0., 0., 0., 0., 0., 0., 0., 1., 1., 1., 1.,\n",
       "       1., 1., 1., 1., 1., 1., 1., 1., 1., 1., 1., 1., 1., 1., 1., 1., 1.,\n",
       "       1., 1., 1., 1., 1., 1., 1., 1., 1., 1., 1., 1., 1., 1., 1., 1., 1.,\n",
       "       1., 1., 1., 1., 1., 1., 1., 1., 1., 1., 1., 1., 1., 1., 1., 1., 1.,\n",
       "       1., 1., 1., 1., 1., 1., 1., 1., 1., 1., 1., 1., 1., 1., 1., 1., 1.,\n",
       "       1., 1., 1., 1., 1., 1., 1., 1., 1., 1., 1., 1., 1., 1., 1., 1., 1.,\n",
       "       1., 1., 1., 1., 1., 1., 1., 1., 1., 1., 1., 1., 1., 1., 1., 1., 1.,\n",
       "       1., 1., 1., 1., 1., 1., 1., 1., 1., 1., 1., 1., 1., 1., 1., 1., 1.,\n",
       "       1., 1., 1., 1., 1., 1., 1., 1., 1., 1., 1., 1., 1., 1., 1., 1., 1.,\n",
       "       1., 1., 1., 1., 1., 1., 1., 1., 1., 1., 1., 1., 1., 1., 1., 1., 1.,\n",
       "       1., 1., 1., 1.])"
      ]
     },
     "execution_count": 8,
     "metadata": {},
     "output_type": "execute_result"
    }
   ],
   "source": [
    "xtrain[:,-1]"
   ]
  },
  {
   "cell_type": "code",
   "execution_count": 9,
   "metadata": {},
   "outputs": [],
   "source": [
    "mx_aug=np.max(xtrain[:,:-1])\n",
    "mx=np.max(ecg[:,:-1])\n",
    "mn_aug=np.min(xtrain[:,:-1])\n",
    "mn=np.min(ecg[:,:-1])\n",
    "\n",
    "#for i in range (0,cls_num):             #نرمالسازی داده های افزایشی\n",
    "xtrain[:,:-1]= 2*(xtrain[:,:-1]-mn_aug)/(mx_aug - mn_aug) - 1"
   ]
  },
  {
   "cell_type": "code",
   "execution_count": 10,
   "metadata": {},
   "outputs": [
    {
     "name": "stdout",
     "output_type": "stream",
     "text": [
      "min trn = -1.0\n",
      "max trn = 1.0\n"
     ]
    }
   ],
   "source": [
    "print('min trn =', np.min(xtrain[:,:-1]))\n",
    "print('max trn =', np.max(xtrain[:,:-1]))"
   ]
  },
  {
   "cell_type": "markdown",
   "metadata": {},
   "source": [
    "<h3><center><div style=\"direction:rtl;font-family:B Nazanin\">Test Windows</div></center></h1>"
   ]
  },
  {
   "cell_type": "code",
   "execution_count": 11,
   "metadata": {},
   "outputs": [],
   "source": [
    "wndws_test=np.empty((0,len(wndws1[0])), float)\n",
    "i=0\n",
    "windws=np.array([])\n",
    "for cls in range (0,cls_num):                                 #ساخت پنجره های داده های آموزش اصلی\n",
    "    vars()['wndws_tst'+str(cls)]=np.empty((0,len(wndws1[0])), float)\n",
    "    vars()['wndws_tst'+str(cls)]=np.append(vars()['wndws_tst'+str(cls)],vars()['ecg_tst'+str(cls)],axis=0)   "
   ]
  },
  {
   "cell_type": "code",
   "execution_count": 12,
   "metadata": {},
   "outputs": [
    {
     "name": "stdout",
     "output_type": "stream",
     "text": [
      "\n",
      " cls 0  >> \n",
      "max magnitude class 0  =  2.4659367123545555\n",
      "min magnitude class 0  =  -2.1616024973492727\n",
      "after normalizing >>\n",
      "max magnitude class 0  =  0.9764289207494858\n",
      "min magnitude class 0  =  -0.9718534363802719\n",
      "\n",
      " cls 1  >> \n",
      "max magnitude class 1  =  2.095753113350402\n",
      "min magnitude class 1  =  -1.994499999999999\n",
      "after normalizing >>\n",
      "max magnitude class 1  =  0.8205745579542003\n",
      "min magnitude class 1  =  -0.9015000946440819\n",
      "each class and its windows =\n",
      "0 222\t1 378\t\n",
      " max instance in classes of test windows = 378\n"
     ]
    }
   ],
   "source": [
    "#print(np.max(wndws_tst))\n",
    "for i in range (0,cls_num):                # Normalization test windows\n",
    "    cls=i\n",
    "    print('\\n cls', i, ' >> ')\n",
    "    print('max magnitude class', i , ' = ' ,np.max(vars()['wndws_tst'+str(cls)][:,:-1]))\n",
    "    print('min magnitude class', i , ' = ' ,np.min(vars()['wndws_tst'+str(cls)][:,:-1]))\n",
    "\n",
    "    vars()['wndws_tst'+str(i)][:,:-1]= 2*(vars()['wndws_tst'+str(i)][:,:-1]-mn_aug)/(mx_aug - mn_aug) - 1\n",
    "    \n",
    "    print('after normalizing >>')\n",
    "    print('max magnitude class', i , ' = ' ,np.max(vars()['wndws_tst'+str(cls)][:,:-1]))\n",
    "    print('min magnitude class', i , ' = ' ,np.min(vars()['wndws_tst'+str(cls)][:,:-1]))\n",
    "    \n",
    "print(\"each class and its windows =\")                    #تجمیع کلاس های تست\n",
    "cls_wndws=np.array([])\n",
    "for cls in range (0,cls_num):                                # آرایه ی تعداد پنجره ی هر کلاس\n",
    "    wns=len(vars()['wndws_tst'+str(cls)])\n",
    "    cls_wndws=np.append(cls_wndws,wns)\n",
    "    print(cls, wns, end='\\t')\n",
    "    wndws_test=np.append(wndws_test,vars()['wndws_tst'+str(cls)],axis=0)\n",
    "    \n",
    "mx_wndws=int(np.max(cls_wndws))                        # حداکثر تعداد پنجره ی موجود بین کلاس ها\n",
    "print('\\n max instance in classes of test windows =', mx_wndws)"
   ]
  },
  {
   "cell_type": "code",
   "execution_count": 13,
   "metadata": {},
   "outputs": [
    {
     "name": "stdout",
     "output_type": "stream",
     "text": [
      "min tst = -0.9718534363802719\n",
      "max tst = 0.9764289207494858\n"
     ]
    }
   ],
   "source": [
    "print('min tst =', np.min(wndws_test[:,:-1]))\n",
    "print('max tst =', np.max(wndws_test[:,:-1]))"
   ]
  },
  {
   "cell_type": "code",
   "execution_count": 14,
   "metadata": {},
   "outputs": [
    {
     "data": {
      "text/plain": [
       "600"
      ]
     },
     "execution_count": 14,
     "metadata": {},
     "output_type": "execute_result"
    }
   ],
   "source": [
    "len(wndws_test)"
   ]
  },
  {
   "cell_type": "code",
   "execution_count": 15,
   "metadata": {},
   "outputs": [
    {
     "data": {
      "text/plain": [
       "(600, 481)"
      ]
     },
     "execution_count": 15,
     "metadata": {},
     "output_type": "execute_result"
    }
   ],
   "source": [
    "np.shape(wndws_test)"
   ]
  },
  {
   "cell_type": "code",
   "execution_count": 16,
   "metadata": {},
   "outputs": [],
   "source": [
    "Xtest=wndws_test[:,:-1]\n",
    "ytest=np.int16(wndws_test[:,-1])"
   ]
  },
  {
   "cell_type": "code",
   "execution_count": 17,
   "metadata": {},
   "outputs": [
    {
     "name": "stdout",
     "output_type": "stream",
     "text": [
      "array([0, 0, 0, 0, 0, 0, 0, 0, 0, 0, 0, 0, 0, 0, 0, 0, 0, 0, 0, 0, 0, 0,\n",
      "       0, 0, 0, 0, 0, 0, 0, 0, 0, 0, 0, 0, 0, 0, 0, 0, 0, 0, 0, 0, 0, 0,\n",
      "       0, 0, 0, 0, 0, 0, 0, 0, 0, 0, 0, 0, 0, 0, 0, 0, 0, 0, 0, 0, 0, 0,\n",
      "       0, 0, 0, 0, 0, 0, 0, 0, 0, 0, 0, 0, 0, 0, 0, 0, 0, 0, 0, 0, 0, 0,\n",
      "       0, 0, 0, 0, 0, 0, 0, 0, 0, 0, 0, 0, 0, 0, 0, 0, 0, 0, 0, 0, 0, 0,\n",
      "       0, 0, 0, 0, 0, 0, 0, 0, 0, 0, 0, 0, 0, 0, 0, 0, 0, 0, 0, 0, 0, 0,\n",
      "       0, 0, 0, 0, 0, 0, 0, 0, 0, 0, 0, 0, 0, 0, 0, 0, 0, 0, 0, 0, 0, 0,\n",
      "       0, 0, 0, 0, 0, 0, 0, 0, 0, 0, 0, 0, 0, 0, 0, 0, 0, 0, 0, 0, 0, 0,\n",
      "       0, 0, 0, 0, 0, 0, 0, 0, 0, 0, 0, 0, 0, 0, 0, 0, 0, 0, 0, 0, 0, 0,\n",
      "       0, 0, 0, 0, 0, 0, 0, 0, 0, 0, 0, 0, 0, 0, 0, 0, 0, 0, 0, 0, 0, 0,\n",
      "       0, 0, 1, 1, 1, 1, 1, 1, 1, 1, 1, 1, 1, 1, 1, 1, 1, 1, 1, 1, 1, 1,\n",
      "       1, 1, 1, 1, 1, 1, 1, 1, 1, 1, 1, 1, 1, 1, 1, 1, 1, 1, 1, 1, 1, 1,\n",
      "       1, 1, 1, 1, 1, 1, 1, 1, 1, 1, 1, 1, 1, 1, 1, 1, 1, 1, 1, 1, 1, 1,\n",
      "       1, 1, 1, 1, 1, 1, 1, 1, 1, 1, 1, 1, 1, 1, 1, 1, 1, 1, 1, 1, 1, 1,\n",
      "       1, 1, 1, 1, 1, 1, 1, 1, 1, 1, 1, 1, 1, 1, 1, 1, 1, 1, 1, 1, 1, 1,\n",
      "       1, 1, 1, 1, 1, 1, 1, 1, 1, 1, 1, 1, 1, 1, 1, 1, 1, 1, 1, 1, 1, 1,\n",
      "       1, 1, 1, 1, 1, 1, 1, 1, 1, 1, 1, 1, 1, 1, 1, 1, 1, 1, 1, 1, 1, 1,\n",
      "       1, 1, 1, 1, 1, 1, 1, 1, 1, 1, 1, 1, 1, 1, 1, 1, 1, 1, 1, 1, 1, 1,\n",
      "       1, 1, 1, 1, 1, 1, 1, 1, 1, 1, 1, 1, 1, 1, 1, 1, 1, 1, 1, 1, 1, 1,\n",
      "       1, 1, 1, 1, 1, 1, 1, 1, 1, 1, 1, 1, 1, 1, 1, 1, 1, 1, 1, 1, 1, 1,\n",
      "       1, 1, 1, 1, 1, 1, 1, 1, 1, 1, 1, 1, 1, 1, 1, 1, 1, 1, 1, 1, 1, 1,\n",
      "       1, 1, 1, 1, 1, 1, 1, 1, 1, 1, 1, 1, 1, 1, 1, 1, 1, 1, 1, 1, 1, 1,\n",
      "       1, 1, 1, 1, 1, 1, 1, 1, 1, 1, 1, 1, 1, 1, 1, 1, 1, 1, 1, 1, 1, 1,\n",
      "       1, 1, 1, 1, 1, 1, 1, 1, 1, 1, 1, 1, 1, 1, 1, 1, 1, 1, 1, 1, 1, 1,\n",
      "       1, 1, 1, 1, 1, 1, 1, 1, 1, 1, 1, 1, 1, 1, 1, 1, 1, 1, 1, 1, 1, 1,\n",
      "       1, 1, 1, 1, 1, 1, 1, 1, 1, 1, 1, 1, 1, 1, 1, 1, 1, 1, 1, 1, 1, 1,\n",
      "       1, 1, 1, 1, 1, 1, 1, 1, 1, 1, 1, 1, 1, 1, 1, 1, 1, 1, 1, 1, 1, 1,\n",
      "       1, 1, 1, 1, 1, 1], dtype=int16)\n"
     ]
    }
   ],
   "source": [
    "fullprint(ytest)"
   ]
  },
  {
   "cell_type": "markdown",
   "metadata": {},
   "source": [
    "<h3><center><div style=\"direction:rtl;font-family:B Nazanin\">Train Windows</div></center></h1>"
   ]
  },
  {
   "cell_type": "code",
   "execution_count": 18,
   "metadata": {},
   "outputs": [
    {
     "data": {
      "text/plain": [
       "'\\nytestt=np.int32(np.array([ytest]).T)\\ntestx=np.concatenate((Xtest, ytestt), axis=1)\\ntestx=np.random.permutation(testx)\\nXtest=np.int32(testx[:,:-1])\\nytest=np.int32(testx[:,-1])'"
      ]
     },
     "execution_count": 18,
     "metadata": {},
     "output_type": "execute_result"
    }
   ],
   "source": [
    "#ytraint=np.int32(np.array([ytrain]).T)\n",
    "#trainx=np.concatenate((Xtrain, ytraint), axis=1)\n",
    "trainx=np.random.permutation(xtrain)\n",
    "Xtrain=np.array(trainx[:,:-1])\n",
    "ytrain=np.int16(trainx[:,-1])\n",
    "'''\n",
    "ytestt=np.int32(np.array([ytest]).T)\n",
    "testx=np.concatenate((Xtest, ytestt), axis=1)\n",
    "testx=np.random.permutation(testx)\n",
    "Xtest=np.int32(testx[:,:-1])\n",
    "ytest=np.int32(testx[:,-1])'''"
   ]
  },
  {
   "cell_type": "code",
   "execution_count": 19,
   "metadata": {},
   "outputs": [
    {
     "data": {
      "text/plain": [
       "(161, 481)"
      ]
     },
     "execution_count": 19,
     "metadata": {},
     "output_type": "execute_result"
    }
   ],
   "source": [
    "np.shape(wndws1)"
   ]
  },
  {
   "cell_type": "markdown",
   "metadata": {},
   "source": [
    "<h3><center><div style=\"direction:rtl;font-family:B Nazanin\">Validation Windows</div></center></h1>"
   ]
  },
  {
   "cell_type": "code",
   "execution_count": 20,
   "metadata": {},
   "outputs": [],
   "source": [
    "Xvalid=np.array(Xtrain)\n",
    "yvalid=np.array(ytrain)"
   ]
  },
  {
   "cell_type": "markdown",
   "metadata": {},
   "source": [
    "<h1><center><div style=\"direction:rtl;font-family:B Nazanin\">CNN And UnBalanced RAW Data</div></center></h1>\n",
    "<h1><center><div style=\"direction:rtl;font-family:Arial\">Cross Entropy Loss Function</div></center></h1>"
   ]
  },
  {
   "cell_type": "code",
   "execution_count": 21,
   "metadata": {
    "scrolled": true
   },
   "outputs": [
    {
     "name": "stdout",
     "output_type": "stream",
     "text": [
      "X_train =>  (276, 480)\n",
      "y_train =>  (276,)\n",
      "X_test  =>  (600, 480)\n",
      "y_test  =>  (600,)\n",
      "X_valid  =>  (276, 480)\n",
      "y_valid  =>  (276,)\n"
     ]
    }
   ],
   "source": [
    "X_train=np.array(Xtrain)\n",
    "y_train=np.array(ytrain)\n",
    "X_test=np.array(Xtest)\n",
    "y_test=np.array(ytest)\n",
    "X_valid=np.array(Xtrain)\n",
    "y_valid=np.array(ytrain)\n",
    "print('X_train => ', X_train.shape)\n",
    "print('y_train => ', y_train.shape)\n",
    "print('X_test  => ', X_test.shape)\n",
    "print('y_test  => ', y_test.shape)\n",
    "print('X_valid  => ', X_valid.shape)\n",
    "print('y_valid  => ', y_valid.shape)"
   ]
  },
  {
   "cell_type": "code",
   "execution_count": 22,
   "metadata": {},
   "outputs": [],
   "source": [
    "y_train=np.array(y_train+1)\n",
    "y_test=np.array(y_test+1)\n",
    "y_valid=np.array(y_valid+1)"
   ]
  },
  {
   "cell_type": "code",
   "execution_count": 23,
   "metadata": {},
   "outputs": [],
   "source": [
    "y_train_cat=to_categorical(y_train)\n",
    "y_valid_cat=to_categorical(y_valid)\n",
    "y_test_cat=to_categorical(y_test)\n",
    "\n",
    "\n",
    "X_train = np.expand_dims(X_train, axis=2)\n",
    "X_valid = np.expand_dims(X_valid, axis=2)\n",
    "X_test = np.expand_dims(X_test, axis=2)\n",
    "#y_train=np.transpose([y_train])"
   ]
  },
  {
   "cell_type": "code",
   "execution_count": 24,
   "metadata": {
    "scrolled": true
   },
   "outputs": [
    {
     "name": "stdout",
     "output_type": "stream",
     "text": [
      "Epoch 1/1000\n",
      "14/14 [==============================] - 3s 34ms/step - loss: 0.8604 - accuracy: 0.4783 - val_loss: 0.6791 - val_accuracy: 0.5833\n",
      "Epoch 2/1000\n",
      "14/14 [==============================] - 0s 12ms/step - loss: 0.7195 - accuracy: 0.5399 - val_loss: 0.6795 - val_accuracy: 0.5833\n",
      "Epoch 3/1000\n",
      "14/14 [==============================] - 0s 13ms/step - loss: 0.6816 - accuracy: 0.5652 - val_loss: 0.6551 - val_accuracy: 0.5870\n",
      "Epoch 4/1000\n",
      "14/14 [==============================] - 0s 12ms/step - loss: 0.6458 - accuracy: 0.6304 - val_loss: 0.8727 - val_accuracy: 0.4167\n",
      "Epoch 5/1000\n",
      "14/14 [==============================] - 0s 12ms/step - loss: 0.6782 - accuracy: 0.6232 - val_loss: 0.5998 - val_accuracy: 0.6341\n",
      "Epoch 6/1000\n",
      "14/14 [==============================] - 0s 13ms/step - loss: 0.6227 - accuracy: 0.6775 - val_loss: 0.5663 - val_accuracy: 0.6957\n",
      "Epoch 7/1000\n",
      "14/14 [==============================] - 0s 12ms/step - loss: 0.6029 - accuracy: 0.6739 - val_loss: 0.5756 - val_accuracy: 0.6993\n",
      "Epoch 8/1000\n",
      "14/14 [==============================] - 0s 12ms/step - loss: 0.5836 - accuracy: 0.6812 - val_loss: 0.5505 - val_accuracy: 0.7101\n",
      "Epoch 9/1000\n",
      "14/14 [==============================] - 0s 12ms/step - loss: 0.5700 - accuracy: 0.6739 - val_loss: 0.5392 - val_accuracy: 0.7283\n",
      "Epoch 10/1000\n",
      "14/14 [==============================] - 0s 12ms/step - loss: 0.5616 - accuracy: 0.7065 - val_loss: 0.5477 - val_accuracy: 0.7138\n",
      "Epoch 11/1000\n",
      "14/14 [==============================] - 0s 13ms/step - loss: 0.5462 - accuracy: 0.7174 - val_loss: 0.5803 - val_accuracy: 0.6848\n",
      "Epoch 12/1000\n",
      "14/14 [==============================] - 0s 12ms/step - loss: 0.5455 - accuracy: 0.7101 - val_loss: 0.6186 - val_accuracy: 0.6812\n",
      "Epoch 13/1000\n",
      "14/14 [==============================] - 0s 13ms/step - loss: 0.5374 - accuracy: 0.7138 - val_loss: 0.4616 - val_accuracy: 0.7862\n",
      "Epoch 14/1000\n",
      "14/14 [==============================] - 0s 13ms/step - loss: 0.5202 - accuracy: 0.7138 - val_loss: 0.5005 - val_accuracy: 0.7500\n",
      "Epoch 15/1000\n",
      "14/14 [==============================] - 0s 13ms/step - loss: 0.5507 - accuracy: 0.7754 - val_loss: 0.4360 - val_accuracy: 0.8043\n",
      "Epoch 16/1000\n",
      "14/14 [==============================] - 0s 13ms/step - loss: 0.5477 - accuracy: 0.7246 - val_loss: 0.4486 - val_accuracy: 0.8116\n",
      "Epoch 17/1000\n",
      "14/14 [==============================] - 0s 13ms/step - loss: 0.4853 - accuracy: 0.7717 - val_loss: 0.4328 - val_accuracy: 0.8406\n",
      "Epoch 18/1000\n",
      "14/14 [==============================] - 0s 12ms/step - loss: 0.4914 - accuracy: 0.7355 - val_loss: 0.4290 - val_accuracy: 0.7899\n",
      "Epoch 19/1000\n",
      "14/14 [==============================] - 0s 12ms/step - loss: 0.4973 - accuracy: 0.7899 - val_loss: 0.3939 - val_accuracy: 0.8225\n",
      "Epoch 20/1000\n",
      "14/14 [==============================] - 0s 12ms/step - loss: 0.4403 - accuracy: 0.8080 - val_loss: 0.3921 - val_accuracy: 0.8261\n",
      "Epoch 21/1000\n",
      "14/14 [==============================] - 0s 12ms/step - loss: 0.4876 - accuracy: 0.7717 - val_loss: 0.4085 - val_accuracy: 0.8152\n",
      "Epoch 22/1000\n",
      "14/14 [==============================] - 0s 12ms/step - loss: 0.4379 - accuracy: 0.8080 - val_loss: 0.4973 - val_accuracy: 0.7500\n",
      "Epoch 23/1000\n",
      "14/14 [==============================] - 0s 13ms/step - loss: 0.4563 - accuracy: 0.8080 - val_loss: 0.3519 - val_accuracy: 0.8442\n",
      "Epoch 24/1000\n",
      "14/14 [==============================] - 0s 13ms/step - loss: 0.4422 - accuracy: 0.7862 - val_loss: 0.3918 - val_accuracy: 0.8188\n",
      "Epoch 25/1000\n",
      "14/14 [==============================] - 0s 13ms/step - loss: 0.4014 - accuracy: 0.8478 - val_loss: 0.5150 - val_accuracy: 0.7536\n",
      "Epoch 26/1000\n",
      "14/14 [==============================] - 0s 13ms/step - loss: 0.4001 - accuracy: 0.8116 - val_loss: 0.4842 - val_accuracy: 0.7935\n",
      "Epoch 27/1000\n",
      "14/14 [==============================] - 0s 13ms/step - loss: 0.3966 - accuracy: 0.8152 - val_loss: 0.3767 - val_accuracy: 0.8225\n",
      "Epoch 28/1000\n",
      "14/14 [==============================] - 0s 14ms/step - loss: 0.3951 - accuracy: 0.8297 - val_loss: 0.3117 - val_accuracy: 0.8732\n",
      "Epoch 29/1000\n",
      "14/14 [==============================] - 0s 12ms/step - loss: 0.4137 - accuracy: 0.8152 - val_loss: 0.3241 - val_accuracy: 0.8514\n",
      "Epoch 30/1000\n",
      "14/14 [==============================] - 0s 13ms/step - loss: 0.4221 - accuracy: 0.8225 - val_loss: 0.3450 - val_accuracy: 0.8333\n",
      "Epoch 31/1000\n",
      "14/14 [==============================] - 0s 13ms/step - loss: 0.3588 - accuracy: 0.8442 - val_loss: 0.3219 - val_accuracy: 0.8587\n",
      "Epoch 32/1000\n",
      "14/14 [==============================] - 0s 12ms/step - loss: 0.3581 - accuracy: 0.8370 - val_loss: 0.3778 - val_accuracy: 0.8406\n",
      "Epoch 33/1000\n",
      "14/14 [==============================] - 0s 13ms/step - loss: 0.3601 - accuracy: 0.8478 - val_loss: 0.2750 - val_accuracy: 0.8841\n",
      "Epoch 34/1000\n",
      "14/14 [==============================] - 0s 13ms/step - loss: 0.3704 - accuracy: 0.8297 - val_loss: 0.3396 - val_accuracy: 0.8659\n",
      "Epoch 35/1000\n",
      "14/14 [==============================] - 0s 12ms/step - loss: 0.3414 - accuracy: 0.8514 - val_loss: 0.2709 - val_accuracy: 0.8841\n",
      "Epoch 36/1000\n",
      "14/14 [==============================] - 0s 12ms/step - loss: 0.3266 - accuracy: 0.8623 - val_loss: 0.3917 - val_accuracy: 0.8043\n",
      "Epoch 37/1000\n",
      "14/14 [==============================] - 0s 12ms/step - loss: 0.3328 - accuracy: 0.8623 - val_loss: 0.2786 - val_accuracy: 0.8659\n",
      "Epoch 38/1000\n",
      "14/14 [==============================] - 0s 13ms/step - loss: 0.3312 - accuracy: 0.8442 - val_loss: 0.2500 - val_accuracy: 0.8986\n",
      "Epoch 39/1000\n",
      "14/14 [==============================] - 0s 12ms/step - loss: 0.2926 - accuracy: 0.8841 - val_loss: 0.2883 - val_accuracy: 0.8659\n",
      "Epoch 40/1000\n",
      "14/14 [==============================] - 0s 12ms/step - loss: 0.3492 - accuracy: 0.8623 - val_loss: 0.5633 - val_accuracy: 0.7428\n",
      "Epoch 41/1000\n",
      "14/14 [==============================] - 0s 12ms/step - loss: 0.3247 - accuracy: 0.8659 - val_loss: 0.2236 - val_accuracy: 0.8949\n",
      "Epoch 42/1000\n",
      "14/14 [==============================] - 0s 12ms/step - loss: 0.2743 - accuracy: 0.8804 - val_loss: 0.2647 - val_accuracy: 0.8877\n",
      "Epoch 43/1000\n",
      "14/14 [==============================] - 0s 12ms/step - loss: 0.3068 - accuracy: 0.8478 - val_loss: 0.2728 - val_accuracy: 0.8877\n",
      "Epoch 44/1000\n",
      "14/14 [==============================] - 0s 13ms/step - loss: 0.2758 - accuracy: 0.8659 - val_loss: 0.1663 - val_accuracy: 0.9493\n",
      "Epoch 45/1000\n",
      "14/14 [==============================] - 0s 13ms/step - loss: 0.3506 - accuracy: 0.8442 - val_loss: 0.1851 - val_accuracy: 0.9239\n",
      "Epoch 46/1000\n",
      "14/14 [==============================] - 0s 12ms/step - loss: 0.2575 - accuracy: 0.8949 - val_loss: 0.1866 - val_accuracy: 0.9239\n",
      "Epoch 47/1000\n",
      "14/14 [==============================] - 0s 13ms/step - loss: 0.2134 - accuracy: 0.9203 - val_loss: 0.2187 - val_accuracy: 0.8913\n",
      "Epoch 48/1000\n",
      "14/14 [==============================] - 0s 12ms/step - loss: 0.2615 - accuracy: 0.8841 - val_loss: 0.2476 - val_accuracy: 0.8913\n",
      "Epoch 49/1000\n",
      "14/14 [==============================] - 0s 13ms/step - loss: 0.2227 - accuracy: 0.9058 - val_loss: 0.1547 - val_accuracy: 0.9239\n",
      "Epoch 50/1000\n",
      "14/14 [==============================] - 0s 13ms/step - loss: 0.2668 - accuracy: 0.8478 - val_loss: 0.1822 - val_accuracy: 0.9167\n",
      "Epoch 51/1000\n",
      "14/14 [==============================] - 0s 13ms/step - loss: 0.2042 - accuracy: 0.8986 - val_loss: 0.3728 - val_accuracy: 0.8478\n",
      "Epoch 52/1000\n",
      "14/14 [==============================] - 0s 12ms/step - loss: 0.2332 - accuracy: 0.9094 - val_loss: 0.1361 - val_accuracy: 0.9420\n",
      "Epoch 53/1000\n",
      "14/14 [==============================] - 0s 13ms/step - loss: 0.2325 - accuracy: 0.8732 - val_loss: 0.2584 - val_accuracy: 0.8949\n",
      "Epoch 54/1000\n",
      "14/14 [==============================] - 0s 14ms/step - loss: 0.1703 - accuracy: 0.9384 - val_loss: 0.1469 - val_accuracy: 0.9384\n",
      "Epoch 55/1000\n",
      "14/14 [==============================] - 0s 12ms/step - loss: 0.2103 - accuracy: 0.9022 - val_loss: 0.1320 - val_accuracy: 0.9493\n",
      "Epoch 56/1000\n",
      "14/14 [==============================] - 0s 14ms/step - loss: 0.2223 - accuracy: 0.8986 - val_loss: 0.1133 - val_accuracy: 0.9674\n",
      "Epoch 57/1000\n",
      "14/14 [==============================] - 0s 13ms/step - loss: 0.2121 - accuracy: 0.8877 - val_loss: 0.2916 - val_accuracy: 0.8514\n"
     ]
    },
    {
     "name": "stdout",
     "output_type": "stream",
     "text": [
      "Epoch 58/1000\n",
      "14/14 [==============================] - 0s 12ms/step - loss: 0.1493 - accuracy: 0.9384 - val_loss: 0.1817 - val_accuracy: 0.9312\n",
      "Epoch 59/1000\n",
      "14/14 [==============================] - 0s 12ms/step - loss: 0.2036 - accuracy: 0.9167 - val_loss: 0.2212 - val_accuracy: 0.9203\n",
      "Epoch 60/1000\n",
      "14/14 [==============================] - 0s 12ms/step - loss: 0.2127 - accuracy: 0.9022 - val_loss: 0.1931 - val_accuracy: 0.9058\n",
      "Epoch 61/1000\n",
      "14/14 [==============================] - 0s 12ms/step - loss: 0.1418 - accuracy: 0.9348 - val_loss: 0.8807 - val_accuracy: 0.8043\n",
      "Epoch 62/1000\n",
      "14/14 [==============================] - 0s 13ms/step - loss: 0.1600 - accuracy: 0.9420 - val_loss: 0.1626 - val_accuracy: 0.9203\n",
      "Epoch 63/1000\n",
      "14/14 [==============================] - 0s 13ms/step - loss: 0.1639 - accuracy: 0.9312 - val_loss: 0.0933 - val_accuracy: 0.9565\n",
      "Epoch 64/1000\n",
      "14/14 [==============================] - 0s 14ms/step - loss: 0.1447 - accuracy: 0.9565 - val_loss: 0.2149 - val_accuracy: 0.9203\n",
      "Epoch 65/1000\n",
      "14/14 [==============================] - 0s 13ms/step - loss: 0.1781 - accuracy: 0.9384 - val_loss: 0.1352 - val_accuracy: 0.9420\n",
      "Epoch 66/1000\n",
      "14/14 [==============================] - 0s 13ms/step - loss: 0.1215 - accuracy: 0.9384 - val_loss: 0.1759 - val_accuracy: 0.8949\n",
      "Epoch 67/1000\n",
      "14/14 [==============================] - 0s 13ms/step - loss: 0.1506 - accuracy: 0.9384 - val_loss: 0.0977 - val_accuracy: 0.9565\n",
      "Epoch 68/1000\n",
      "14/14 [==============================] - 0s 12ms/step - loss: 0.1304 - accuracy: 0.9493 - val_loss: 0.2522 - val_accuracy: 0.8949\n",
      "Epoch 69/1000\n",
      "14/14 [==============================] - 0s 12ms/step - loss: 0.0901 - accuracy: 0.9783 - val_loss: 0.1614 - val_accuracy: 0.9384\n",
      "Epoch 70/1000\n",
      "14/14 [==============================] - 0s 12ms/step - loss: 0.1696 - accuracy: 0.9312 - val_loss: 0.3168 - val_accuracy: 0.8261\n",
      "Epoch 71/1000\n",
      "14/14 [==============================] - 0s 12ms/step - loss: 0.0857 - accuracy: 0.9746 - val_loss: 0.2402 - val_accuracy: 0.9058\n",
      "Epoch 72/1000\n",
      "14/14 [==============================] - 0s 13ms/step - loss: 0.1805 - accuracy: 0.9493 - val_loss: 0.0626 - val_accuracy: 0.9783\n",
      "Epoch 73/1000\n",
      "14/14 [==============================] - 0s 12ms/step - loss: 0.1091 - accuracy: 0.9601 - val_loss: 0.0591 - val_accuracy: 0.9746\n",
      "Epoch 74/1000\n",
      "14/14 [==============================] - 0s 13ms/step - loss: 0.0965 - accuracy: 0.9674 - val_loss: 0.0443 - val_accuracy: 0.9891\n",
      "Epoch 75/1000\n",
      "14/14 [==============================] - 0s 12ms/step - loss: 0.1942 - accuracy: 0.9420 - val_loss: 0.1622 - val_accuracy: 0.9420\n",
      "Epoch 76/1000\n",
      "14/14 [==============================] - 0s 13ms/step - loss: 0.0931 - accuracy: 0.9674 - val_loss: 0.0507 - val_accuracy: 0.9928\n",
      "Epoch 77/1000\n",
      "14/14 [==============================] - 0s 12ms/step - loss: 0.0717 - accuracy: 0.9783 - val_loss: 0.0478 - val_accuracy: 0.9819\n",
      "Epoch 78/1000\n",
      "14/14 [==============================] - 0s 12ms/step - loss: 0.0560 - accuracy: 0.9819 - val_loss: 0.2119 - val_accuracy: 0.9348\n",
      "Epoch 79/1000\n",
      "14/14 [==============================] - 0s 14ms/step - loss: 0.1724 - accuracy: 0.9457 - val_loss: 0.0357 - val_accuracy: 0.9891\n",
      "Epoch 80/1000\n",
      "14/14 [==============================] - 0s 12ms/step - loss: 0.0298 - accuracy: 0.9891 - val_loss: 0.0666 - val_accuracy: 0.9674\n",
      "Epoch 81/1000\n",
      "14/14 [==============================] - 0s 12ms/step - loss: 0.2843 - accuracy: 0.9239 - val_loss: 0.1364 - val_accuracy: 0.9420\n",
      "Epoch 82/1000\n",
      "14/14 [==============================] - 0s 13ms/step - loss: 0.0838 - accuracy: 0.9674 - val_loss: 0.0197 - val_accuracy: 0.9964\n",
      "Epoch 83/1000\n",
      "14/14 [==============================] - 0s 12ms/step - loss: 0.0369 - accuracy: 0.9928 - val_loss: 0.0721 - val_accuracy: 0.9674\n",
      "Epoch 84/1000\n",
      "14/14 [==============================] - 0s 13ms/step - loss: 0.1568 - accuracy: 0.9565 - val_loss: 0.0205 - val_accuracy: 1.0000\n",
      "Epoch 85/1000\n",
      "14/14 [==============================] - 0s 13ms/step - loss: 0.1442 - accuracy: 0.9638 - val_loss: 0.0635 - val_accuracy: 0.9783\n",
      "Epoch 86/1000\n",
      "14/14 [==============================] - 0s 12ms/step - loss: 0.0521 - accuracy: 0.9855 - val_loss: 0.0853 - val_accuracy: 0.9674\n",
      "Epoch 87/1000\n",
      "14/14 [==============================] - 0s 12ms/step - loss: 0.0734 - accuracy: 0.9746 - val_loss: 0.1065 - val_accuracy: 0.9565\n",
      "Epoch 88/1000\n",
      "14/14 [==============================] - 0s 12ms/step - loss: 0.1167 - accuracy: 0.9710 - val_loss: 0.0367 - val_accuracy: 0.9964\n",
      "Epoch 89/1000\n",
      "14/14 [==============================] - 0s 12ms/step - loss: 0.1384 - accuracy: 0.9384 - val_loss: 0.0428 - val_accuracy: 0.9928\n",
      "Epoch 90/1000\n",
      "14/14 [==============================] - 0s 12ms/step - loss: 0.0228 - accuracy: 1.0000 - val_loss: 0.0227 - val_accuracy: 0.9928\n",
      "Epoch 91/1000\n",
      "14/14 [==============================] - 0s 12ms/step - loss: 0.0715 - accuracy: 0.9783 - val_loss: 0.0232 - val_accuracy: 0.9928\n",
      "Epoch 92/1000\n",
      "14/14 [==============================] - 0s 12ms/step - loss: 0.0172 - accuracy: 0.9964 - val_loss: 0.0854 - val_accuracy: 0.9819\n",
      "Epoch 93/1000\n",
      "14/14 [==============================] - 0s 13ms/step - loss: 0.1833 - accuracy: 0.9493 - val_loss: 0.0487 - val_accuracy: 0.9710\n",
      "Epoch 94/1000\n",
      "14/14 [==============================] - 0s 13ms/step - loss: 0.0642 - accuracy: 0.9783 - val_loss: 0.0360 - val_accuracy: 0.9928\n",
      "Epoch 95/1000\n",
      "14/14 [==============================] - 0s 12ms/step - loss: 0.0869 - accuracy: 0.9601 - val_loss: 0.0315 - val_accuracy: 0.9928\n",
      "Epoch 96/1000\n",
      "14/14 [==============================] - 0s 12ms/step - loss: 0.2804 - accuracy: 0.9601 - val_loss: 0.1096 - val_accuracy: 0.9565\n",
      "Epoch 97/1000\n",
      "14/14 [==============================] - 0s 12ms/step - loss: 0.0764 - accuracy: 0.9710 - val_loss: 0.0174 - val_accuracy: 0.9964\n",
      "Epoch 98/1000\n",
      "14/14 [==============================] - 0s 12ms/step - loss: 0.0088 - accuracy: 1.0000 - val_loss: 0.0240 - val_accuracy: 0.9891\n",
      "Epoch 99/1000\n",
      "14/14 [==============================] - 0s 12ms/step - loss: 0.0567 - accuracy: 0.9819 - val_loss: 0.0082 - val_accuracy: 1.0000\n",
      "Epoch 100/1000\n",
      "14/14 [==============================] - 0s 12ms/step - loss: 0.0057 - accuracy: 1.0000 - val_loss: 0.0023 - val_accuracy: 1.0000\n",
      "Epoch 101/1000\n",
      "14/14 [==============================] - 0s 12ms/step - loss: 0.1754 - accuracy: 0.9493 - val_loss: 0.0788 - val_accuracy: 0.9710\n",
      "Epoch 102/1000\n",
      "14/14 [==============================] - 0s 12ms/step - loss: 0.0455 - accuracy: 0.9891 - val_loss: 0.0065 - val_accuracy: 1.0000\n",
      "Epoch 103/1000\n",
      "14/14 [==============================] - 0s 12ms/step - loss: 0.0368 - accuracy: 0.9855 - val_loss: 0.5335 - val_accuracy: 0.8370\n",
      "Epoch 104/1000\n",
      "14/14 [==============================] - 0s 13ms/step - loss: 0.1190 - accuracy: 0.9565 - val_loss: 0.0098 - val_accuracy: 1.0000\n",
      "14/14 [==============================] - 0s 3ms/step - loss: 0.0205 - accuracy: 1.0000\n",
      "np.shape(X_test)= (600, 480, 1)\n",
      "Model: \"sequential\"\n",
      "_________________________________________________________________\n",
      " Layer (type)                Output Shape              Param #   \n",
      "=================================================================\n",
      " conv1d (Conv1D)             (None, 478, 32)           128       \n",
      "                                                                 \n",
      " conv1d_1 (Conv1D)           (None, 476, 64)           6208      \n",
      "                                                                 \n",
      " max_pooling1d (MaxPooling1D  (None, 158, 64)          0         \n",
      " )                                                               \n",
      "                                                                 \n",
      " conv1d_2 (Conv1D)           (None, 156, 128)          24704     \n",
      "                                                                 \n",
      " max_pooling1d_1 (MaxPooling  (None, 52, 128)          0         \n",
      " 1D)                                                             \n",
      "                                                                 \n",
      " conv1d_3 (Conv1D)           (None, 50, 128)           49280     \n",
      "                                                                 \n",
      " max_pooling1d_2 (MaxPooling  (None, 16, 128)          0         \n",
      " 1D)                                                             \n",
      "                                                                 \n"
     ]
    },
    {
     "name": "stdout",
     "output_type": "stream",
     "text": [
      " conv1d_4 (Conv1D)           (None, 14, 256)           98560     \n",
      "                                                                 \n",
      " max_pooling1d_3 (MaxPooling  (None, 4, 256)           0         \n",
      " 1D)                                                             \n",
      "                                                                 \n",
      " flatten (Flatten)           (None, 1024)              0         \n",
      "                                                                 \n",
      " dense (Dense)               (None, 2000)              2050000   \n",
      "                                                                 \n",
      " dense_1 (Dense)             (None, 3)                 6003      \n",
      "                                                                 \n",
      "=================================================================\n",
      "Total params: 2,234,883\n",
      "Trainable params: 2,234,883\n",
      "Non-trainable params: 0\n",
      "_________________________________________________________________\n",
      "Accuracy=  1.0\n"
     ]
    }
   ],
   "source": [
    "accuracy=0\n",
    "acc_crs=np.array([])\n",
    "##for i in range (10):\n",
    "##    if accuracy<0.2 :\n",
    "\n",
    "verbose, epochs, batch_size = 1, 1000, btch\n",
    "n_timesteps, n_features, n_outputs = X_train.shape[1], X_train.shape[2], y_train_cat.shape[1]\n",
    "steps_per_epoch = len(X_train)//batch_size\n",
    "validation_steps = len(X_valid)//batch_size # if you have test data\n",
    "\n",
    "model_crs = Sequential()\n",
    "BatchNormalization()\n",
    "model_crs.add(Conv1D(filters=32, kernel_size=3, activation='relu', input_shape=(n_timesteps,n_features)))\n",
    "#model_crs.add(MaxPooling1D(pool_size=3))\n",
    "BatchNormalization()\n",
    "model_crs.add(Conv1D(filters=64, kernel_size=3, activation='relu'))\n",
    "#model_crs.add(Dropout(0.5))\n",
    "model_crs.add(MaxPooling1D(pool_size=3))\n",
    "BatchNormalization()\n",
    "model_crs.add(Conv1D(filters=128, kernel_size=3, activation='relu'))\n",
    "model_crs.add(MaxPooling1D(pool_size=3))\n",
    "BatchNormalization()\n",
    "model_crs.add(Conv1D(filters=128, kernel_size=3, activation='relu'))\n",
    "model_crs.add(MaxPooling1D(pool_size=3))\n",
    "BatchNormalization()\n",
    "model_crs.add(Conv1D(filters=256, kernel_size=3, activation='relu'))\n",
    "model_crs.add(MaxPooling1D(pool_size=3))\n",
    "'''model_crs.add(Conv1D(filters=512, kernel_size=3, activation='relu'))\n",
    "model_crs.add(MaxPooling1D(pool_size=3))\n",
    "model_crs.add(Conv1D(filters=1024, kernel_size=3, activation='relu'))\n",
    "model_crs.add(MaxPooling1D(pool_size=3))\n",
    "'''\n",
    "model_crs.add(Flatten())\n",
    "#model_crs.add(Dropout(0.5))\n",
    "model_crs.add(Dense(2000, activation='relu'))\n",
    "model_crs.add(Dense(n_outputs, activation='softmax'))\n",
    "model_crs.compile(optimizer='rmsprop', loss='categorical_crossentropy', metrics=['accuracy'])\n",
    "# fit network   #CategoricalCrossentropy #sparse_categorical_crossentropy #SparseCategoricalCrossentropy\n",
    "\n",
    "earlystopping = callbacks.EarlyStopping(monitor =\"val_accuracy\", mode =\"max\", patience = 20, restore_best_weights = True)\n",
    "\n",
    "model_crs.fit(X_train, y_train_cat, epochs=epochs, batch_size=batch_size, verbose=verbose, validation_data = (X_valid, y_valid_cat), callbacks =[earlystopping])\n",
    "# evaluate model_crs\n",
    "_, accuracy = model_crs.evaluate(X_valid, y_valid_cat, batch_size=batch_size, verbose=1)\n",
    "\n",
    "print('np.shape(X_test)=',np.shape(X_test))\n",
    "\n",
    "\n",
    "model_crs.summary()\n",
    "print('Accuracy= ', accuracy)\n",
    "\n",
    "#output = K.function([model_crs.layers[0].input],[model_crs.layers[3].output])\n",
    "#output(X_test)[0]\n",
    "#y_pred= model_crs.predict(X_test)                # Function 1\n",
    "\n",
    "##    print('Round ', i, '==>', 'accuracy = ', accuracy)\n",
    "##    acc_crs=np.append(acc_crs,accuracy)\n",
    "#y_pred_crs = model_crs.predict_classes(X_test)   # Function 2"
   ]
  },
  {
   "cell_type": "code",
   "execution_count": 25,
   "metadata": {},
   "outputs": [],
   "source": [
    "def maxindx(ar):\n",
    "    ar_cpy=np.array(ar)\n",
    "    pred=np.argmax(ar,axis=1)\n",
    "    for i in range (len(pred)):\n",
    "        if pred[i]==0:\n",
    "            ar_cpy[i,0]=-1000\n",
    "    pred=np.argmax(ar_cpy,axis=1)\n",
    "    return(pred)"
   ]
  },
  {
   "cell_type": "code",
   "execution_count": 26,
   "metadata": {},
   "outputs": [
    {
     "name": "stdout",
     "output_type": "stream",
     "text": [
      "19/19 [==============================] - 0s 5ms/step\n",
      "array([[156,  66],\n",
      "       [ 94, 284]], dtype=int64)\n",
      "              precision    recall  f1-score   support\n",
      "\n",
      "           1       0.62      0.70      0.66       222\n",
      "           2       0.81      0.75      0.78       378\n",
      "\n",
      "    accuracy                           0.73       600\n",
      "   macro avg       0.72      0.73      0.72       600\n",
      "weighted avg       0.74      0.73      0.74       600\n",
      "\n"
     ]
    }
   ],
   "source": [
    "predict_x=model_crs.predict(X_test)              # Function 1\n",
    "\n",
    "y_pred_crs=maxindx(predict_x)                    # function from augment.py to remove 0 index predictions\n",
    "\n",
    "#y_pred_crs = model_crs.predict_classes(X_test)\n",
    "\n",
    "cm = confusion_matrix(y_test, y_pred_crs)\n",
    "fullprint(cm)\n",
    "acc3=accuracy_score(y_test, y_pred_crs)\n",
    "\n",
    "print(classification_report(y_test, y_pred_crs))\n",
    "\n",
    "#sns.heatmap(cm, annot=True)\n",
    "\n",
    "#plt.imshow(cm)"
   ]
  },
  {
   "cell_type": "code",
   "execution_count": 27,
   "metadata": {},
   "outputs": [
    {
     "name": "stdout",
     "output_type": "stream",
     "text": [
      "Epoch 1/1000\n",
      "14/14 [==============================] - 1s 40ms/step - loss: 0.8129 - accuracy: 0.5399 - val_loss: 0.7231 - val_accuracy: 0.5833\n",
      "Epoch 2/1000\n",
      "14/14 [==============================] - 0s 13ms/step - loss: 0.6967 - accuracy: 0.5688 - val_loss: 0.7075 - val_accuracy: 0.4167\n",
      "Epoch 3/1000\n",
      "14/14 [==============================] - 0s 15ms/step - loss: 0.6849 - accuracy: 0.5688 - val_loss: 0.6600 - val_accuracy: 0.6268\n",
      "Epoch 4/1000\n",
      "14/14 [==============================] - 0s 15ms/step - loss: 0.6912 - accuracy: 0.5978 - val_loss: 0.6605 - val_accuracy: 0.6957\n",
      "Epoch 5/1000\n",
      "14/14 [==============================] - 0s 14ms/step - loss: 0.6770 - accuracy: 0.6304 - val_loss: 0.6638 - val_accuracy: 0.6341\n",
      "Epoch 6/1000\n",
      "14/14 [==============================] - 0s 13ms/step - loss: 0.6326 - accuracy: 0.6341 - val_loss: 0.6227 - val_accuracy: 0.6268\n",
      "Epoch 7/1000\n",
      "14/14 [==============================] - 0s 14ms/step - loss: 0.6205 - accuracy: 0.6522 - val_loss: 0.5820 - val_accuracy: 0.7065\n",
      "Epoch 8/1000\n",
      "14/14 [==============================] - 0s 13ms/step - loss: 0.5901 - accuracy: 0.7138 - val_loss: 0.5691 - val_accuracy: 0.6993\n",
      "Epoch 9/1000\n",
      "14/14 [==============================] - 0s 13ms/step - loss: 0.5854 - accuracy: 0.6667 - val_loss: 0.5833 - val_accuracy: 0.6630\n",
      "Epoch 10/1000\n",
      "14/14 [==============================] - 0s 14ms/step - loss: 0.5853 - accuracy: 0.6703 - val_loss: 0.5461 - val_accuracy: 0.7101\n",
      "Epoch 11/1000\n",
      "14/14 [==============================] - 0s 14ms/step - loss: 0.5925 - accuracy: 0.6957 - val_loss: 0.5307 - val_accuracy: 0.7355\n",
      "Epoch 12/1000\n",
      "14/14 [==============================] - 0s 15ms/step - loss: 0.5766 - accuracy: 0.6957 - val_loss: 0.5015 - val_accuracy: 0.7717\n",
      "Epoch 13/1000\n",
      "14/14 [==============================] - 0s 14ms/step - loss: 0.5593 - accuracy: 0.7246 - val_loss: 0.4924 - val_accuracy: 0.7681\n",
      "Epoch 14/1000\n",
      "14/14 [==============================] - 0s 13ms/step - loss: 0.5540 - accuracy: 0.7246 - val_loss: 0.5812 - val_accuracy: 0.6812\n",
      "Epoch 15/1000\n",
      "14/14 [==============================] - 0s 16ms/step - loss: 0.5391 - accuracy: 0.6920 - val_loss: 0.4731 - val_accuracy: 0.7862\n",
      "Epoch 16/1000\n",
      "14/14 [==============================] - 0s 14ms/step - loss: 0.5302 - accuracy: 0.7101 - val_loss: 0.4815 - val_accuracy: 0.7862\n",
      "Epoch 17/1000\n",
      "14/14 [==============================] - 0s 15ms/step - loss: 0.5122 - accuracy: 0.7500 - val_loss: 0.4505 - val_accuracy: 0.7790\n",
      "Epoch 18/1000\n",
      "14/14 [==============================] - 0s 15ms/step - loss: 0.5079 - accuracy: 0.7391 - val_loss: 0.4388 - val_accuracy: 0.7862\n",
      "Epoch 19/1000\n",
      "14/14 [==============================] - 0s 14ms/step - loss: 0.5526 - accuracy: 0.7428 - val_loss: 0.4487 - val_accuracy: 0.8080\n",
      "Epoch 20/1000\n",
      "14/14 [==============================] - 0s 14ms/step - loss: 0.4871 - accuracy: 0.7790 - val_loss: 0.5161 - val_accuracy: 0.7645\n",
      "Epoch 21/1000\n",
      "14/14 [==============================] - 0s 13ms/step - loss: 0.4781 - accuracy: 0.7609 - val_loss: 0.4272 - val_accuracy: 0.8007\n",
      "Epoch 22/1000\n",
      "14/14 [==============================] - 0s 14ms/step - loss: 0.4695 - accuracy: 0.7500 - val_loss: 0.4177 - val_accuracy: 0.8007\n",
      "Epoch 23/1000\n",
      "14/14 [==============================] - 0s 14ms/step - loss: 0.4576 - accuracy: 0.7754 - val_loss: 0.4684 - val_accuracy: 0.7464\n",
      "Epoch 24/1000\n",
      "14/14 [==============================] - 0s 14ms/step - loss: 0.4414 - accuracy: 0.7935 - val_loss: 0.4902 - val_accuracy: 0.7500\n",
      "Epoch 25/1000\n",
      "14/14 [==============================] - 0s 16ms/step - loss: 0.4413 - accuracy: 0.8080 - val_loss: 0.3611 - val_accuracy: 0.8370\n",
      "Epoch 26/1000\n",
      "14/14 [==============================] - 0s 15ms/step - loss: 0.4728 - accuracy: 0.7717 - val_loss: 0.3676 - val_accuracy: 0.8406\n",
      "Epoch 27/1000\n",
      "14/14 [==============================] - 0s 14ms/step - loss: 0.3983 - accuracy: 0.8261 - val_loss: 0.5134 - val_accuracy: 0.7500\n",
      "Epoch 28/1000\n",
      "14/14 [==============================] - 0s 15ms/step - loss: 0.4002 - accuracy: 0.8188 - val_loss: 0.3478 - val_accuracy: 0.8406\n",
      "Epoch 29/1000\n",
      "14/14 [==============================] - 0s 14ms/step - loss: 0.4247 - accuracy: 0.7899 - val_loss: 0.3556 - val_accuracy: 0.8370\n",
      "Epoch 30/1000\n",
      "14/14 [==============================] - 0s 15ms/step - loss: 0.3902 - accuracy: 0.8116 - val_loss: 0.4511 - val_accuracy: 0.7862\n",
      "Epoch 31/1000\n",
      "14/14 [==============================] - 0s 14ms/step - loss: 0.3874 - accuracy: 0.8297 - val_loss: 0.7068 - val_accuracy: 0.6051\n",
      "Epoch 32/1000\n",
      "14/14 [==============================] - 0s 15ms/step - loss: 0.4168 - accuracy: 0.7935 - val_loss: 0.2962 - val_accuracy: 0.8551\n",
      "Epoch 33/1000\n",
      "14/14 [==============================] - 0s 15ms/step - loss: 0.3683 - accuracy: 0.8297 - val_loss: 0.3088 - val_accuracy: 0.8659\n",
      "Epoch 34/1000\n",
      "14/14 [==============================] - 0s 14ms/step - loss: 0.3961 - accuracy: 0.8225 - val_loss: 0.3749 - val_accuracy: 0.8261\n",
      "Epoch 35/1000\n",
      "14/14 [==============================] - 0s 14ms/step - loss: 0.3626 - accuracy: 0.8514 - val_loss: 0.3526 - val_accuracy: 0.8370\n",
      "Epoch 36/1000\n",
      "14/14 [==============================] - 0s 14ms/step - loss: 0.3274 - accuracy: 0.8370 - val_loss: 0.3186 - val_accuracy: 0.8333\n",
      "Epoch 37/1000\n",
      "14/14 [==============================] - 0s 15ms/step - loss: 0.3275 - accuracy: 0.8514 - val_loss: 0.2709 - val_accuracy: 0.8587\n",
      "Epoch 38/1000\n",
      "14/14 [==============================] - 0s 14ms/step - loss: 0.3310 - accuracy: 0.8514 - val_loss: 0.2539 - val_accuracy: 0.8768\n",
      "Epoch 39/1000\n",
      "14/14 [==============================] - 0s 14ms/step - loss: 0.3599 - accuracy: 0.8406 - val_loss: 0.4045 - val_accuracy: 0.8152\n",
      "Epoch 40/1000\n",
      "14/14 [==============================] - 0s 15ms/step - loss: 0.3380 - accuracy: 0.8442 - val_loss: 0.6688 - val_accuracy: 0.7138\n",
      "Epoch 41/1000\n",
      "14/14 [==============================] - 0s 14ms/step - loss: 0.3261 - accuracy: 0.8406 - val_loss: 0.3660 - val_accuracy: 0.8442\n",
      "Epoch 42/1000\n",
      "14/14 [==============================] - 0s 14ms/step - loss: 0.3225 - accuracy: 0.8333 - val_loss: 0.2895 - val_accuracy: 0.8514\n",
      "Epoch 43/1000\n",
      "14/14 [==============================] - 0s 14ms/step - loss: 0.2834 - accuracy: 0.8768 - val_loss: 0.2060 - val_accuracy: 0.9058\n",
      "Epoch 44/1000\n",
      "14/14 [==============================] - 0s 14ms/step - loss: 0.2704 - accuracy: 0.8768 - val_loss: 0.2886 - val_accuracy: 0.8659\n",
      "Epoch 45/1000\n",
      "14/14 [==============================] - 0s 14ms/step - loss: 0.3080 - accuracy: 0.8623 - val_loss: 0.3087 - val_accuracy: 0.8478\n",
      "Epoch 46/1000\n",
      "14/14 [==============================] - 0s 14ms/step - loss: 0.2718 - accuracy: 0.8696 - val_loss: 0.2041 - val_accuracy: 0.8949\n",
      "Epoch 47/1000\n",
      "14/14 [==============================] - 0s 14ms/step - loss: 0.2717 - accuracy: 0.8804 - val_loss: 0.2313 - val_accuracy: 0.9022\n",
      "Epoch 48/1000\n",
      "14/14 [==============================] - 0s 14ms/step - loss: 0.3898 - accuracy: 0.8261 - val_loss: 0.2249 - val_accuracy: 0.8986\n",
      "Epoch 49/1000\n",
      "14/14 [==============================] - 0s 14ms/step - loss: 0.2598 - accuracy: 0.8696 - val_loss: 0.2492 - val_accuracy: 0.8949\n",
      "Epoch 50/1000\n",
      "14/14 [==============================] - 0s 14ms/step - loss: 0.2333 - accuracy: 0.8841 - val_loss: 0.2332 - val_accuracy: 0.8949\n",
      "Epoch 51/1000\n",
      "14/14 [==============================] - 0s 14ms/step - loss: 0.2507 - accuracy: 0.8696 - val_loss: 0.2347 - val_accuracy: 0.8949\n",
      "Epoch 52/1000\n",
      "14/14 [==============================] - 0s 14ms/step - loss: 0.2433 - accuracy: 0.8913 - val_loss: 0.2397 - val_accuracy: 0.8913\n",
      "Epoch 53/1000\n",
      "14/14 [==============================] - 0s 15ms/step - loss: 0.2754 - accuracy: 0.8768 - val_loss: 0.2518 - val_accuracy: 0.9130\n",
      "Epoch 54/1000\n",
      "14/14 [==============================] - 0s 15ms/step - loss: 0.2107 - accuracy: 0.9275 - val_loss: 0.1578 - val_accuracy: 0.9312\n",
      "Epoch 55/1000\n",
      "14/14 [==============================] - 0s 14ms/step - loss: 0.2340 - accuracy: 0.8949 - val_loss: 0.1895 - val_accuracy: 0.9094\n",
      "Epoch 56/1000\n",
      "14/14 [==============================] - 0s 14ms/step - loss: 0.2083 - accuracy: 0.8949 - val_loss: 0.2225 - val_accuracy: 0.8877\n",
      "Epoch 57/1000\n",
      "14/14 [==============================] - 0s 14ms/step - loss: 0.2345 - accuracy: 0.9022 - val_loss: 0.1617 - val_accuracy: 0.9022\n"
     ]
    },
    {
     "name": "stdout",
     "output_type": "stream",
     "text": [
      "Epoch 58/1000\n",
      "14/14 [==============================] - 0s 17ms/step - loss: 0.2118 - accuracy: 0.8768 - val_loss: 0.1421 - val_accuracy: 0.9457\n",
      "Epoch 59/1000\n",
      "14/14 [==============================] - 0s 15ms/step - loss: 0.2199 - accuracy: 0.8877 - val_loss: 0.1691 - val_accuracy: 0.9312\n",
      "Epoch 60/1000\n",
      "14/14 [==============================] - 0s 15ms/step - loss: 0.2299 - accuracy: 0.9058 - val_loss: 0.1848 - val_accuracy: 0.9239\n",
      "Epoch 61/1000\n",
      "14/14 [==============================] - 0s 14ms/step - loss: 0.2029 - accuracy: 0.8986 - val_loss: 0.1493 - val_accuracy: 0.9420\n",
      "Epoch 62/1000\n",
      "14/14 [==============================] - 0s 14ms/step - loss: 0.1432 - accuracy: 0.9384 - val_loss: 0.2932 - val_accuracy: 0.8659\n",
      "Epoch 63/1000\n",
      "14/14 [==============================] - 0s 14ms/step - loss: 0.2104 - accuracy: 0.9239 - val_loss: 0.2075 - val_accuracy: 0.8877\n",
      "Epoch 64/1000\n",
      "14/14 [==============================] - 0s 14ms/step - loss: 0.2447 - accuracy: 0.8913 - val_loss: 0.1662 - val_accuracy: 0.9239\n",
      "Epoch 65/1000\n",
      "14/14 [==============================] - 0s 14ms/step - loss: 0.1623 - accuracy: 0.9312 - val_loss: 0.0957 - val_accuracy: 0.9674\n",
      "Epoch 66/1000\n",
      "14/14 [==============================] - 0s 14ms/step - loss: 0.1625 - accuracy: 0.9275 - val_loss: 0.1244 - val_accuracy: 0.9348\n",
      "Epoch 67/1000\n",
      "14/14 [==============================] - 0s 14ms/step - loss: 0.1690 - accuracy: 0.9239 - val_loss: 0.2034 - val_accuracy: 0.9203\n",
      "Epoch 68/1000\n",
      "14/14 [==============================] - 0s 14ms/step - loss: 0.1897 - accuracy: 0.9203 - val_loss: 0.1194 - val_accuracy: 0.9565\n",
      "Epoch 69/1000\n",
      "14/14 [==============================] - 0s 14ms/step - loss: 0.1279 - accuracy: 0.9384 - val_loss: 0.7478 - val_accuracy: 0.8297\n",
      "Epoch 70/1000\n",
      "14/14 [==============================] - 0s 14ms/step - loss: 0.2339 - accuracy: 0.9239 - val_loss: 0.0964 - val_accuracy: 0.9601\n",
      "Epoch 71/1000\n",
      "14/14 [==============================] - 0s 14ms/step - loss: 0.1207 - accuracy: 0.9493 - val_loss: 0.1857 - val_accuracy: 0.9384\n",
      "Epoch 72/1000\n",
      "14/14 [==============================] - 0s 14ms/step - loss: 0.1420 - accuracy: 0.9565 - val_loss: 0.1174 - val_accuracy: 0.9493\n",
      "Epoch 73/1000\n",
      "14/14 [==============================] - 0s 14ms/step - loss: 0.0972 - accuracy: 0.9601 - val_loss: 0.1648 - val_accuracy: 0.9384\n",
      "Epoch 74/1000\n",
      "14/14 [==============================] - 0s 14ms/step - loss: 0.1507 - accuracy: 0.9457 - val_loss: 0.2385 - val_accuracy: 0.9022\n",
      "Epoch 75/1000\n",
      "14/14 [==============================] - 0s 14ms/step - loss: 0.1742 - accuracy: 0.9348 - val_loss: 0.3671 - val_accuracy: 0.8732\n",
      "Epoch 76/1000\n",
      "14/14 [==============================] - 0s 14ms/step - loss: 0.1690 - accuracy: 0.9420 - val_loss: 0.1013 - val_accuracy: 0.9565\n",
      "Epoch 77/1000\n",
      "14/14 [==============================] - 0s 14ms/step - loss: 0.1165 - accuracy: 0.9493 - val_loss: 0.0934 - val_accuracy: 0.9601\n",
      "Epoch 78/1000\n",
      "14/14 [==============================] - 0s 14ms/step - loss: 0.0970 - accuracy: 0.9638 - val_loss: 0.2028 - val_accuracy: 0.9239\n",
      "Epoch 79/1000\n",
      "14/14 [==============================] - 0s 14ms/step - loss: 0.1578 - accuracy: 0.9420 - val_loss: 0.0822 - val_accuracy: 0.9565\n",
      "Epoch 80/1000\n",
      "14/14 [==============================] - 0s 14ms/step - loss: 0.1134 - accuracy: 0.9529 - val_loss: 0.1956 - val_accuracy: 0.9312\n",
      "Epoch 81/1000\n",
      "14/14 [==============================] - 0s 14ms/step - loss: 0.1304 - accuracy: 0.9565 - val_loss: 0.9389 - val_accuracy: 0.7246\n",
      "Epoch 82/1000\n",
      "14/14 [==============================] - 0s 14ms/step - loss: 0.2454 - accuracy: 0.9203 - val_loss: 0.0521 - val_accuracy: 0.9746\n",
      "Epoch 83/1000\n",
      "14/14 [==============================] - 0s 14ms/step - loss: 0.0999 - accuracy: 0.9601 - val_loss: 0.1305 - val_accuracy: 0.9601\n",
      "Epoch 84/1000\n",
      "14/14 [==============================] - 0s 14ms/step - loss: 0.0636 - accuracy: 0.9819 - val_loss: 0.0251 - val_accuracy: 0.9964\n",
      "Epoch 85/1000\n",
      "14/14 [==============================] - 0s 14ms/step - loss: 0.1870 - accuracy: 0.9348 - val_loss: 0.0657 - val_accuracy: 0.9746\n",
      "Epoch 86/1000\n",
      "14/14 [==============================] - 0s 14ms/step - loss: 0.0559 - accuracy: 0.9746 - val_loss: 1.9293 - val_accuracy: 0.6739\n",
      "Epoch 87/1000\n",
      "14/14 [==============================] - 0s 14ms/step - loss: 0.2350 - accuracy: 0.9529 - val_loss: 0.0572 - val_accuracy: 0.9928\n",
      "Epoch 88/1000\n",
      "14/14 [==============================] - 0s 14ms/step - loss: 0.0400 - accuracy: 0.9855 - val_loss: 0.1754 - val_accuracy: 0.9601\n",
      "Epoch 89/1000\n",
      "14/14 [==============================] - 0s 14ms/step - loss: 0.1100 - accuracy: 0.9601 - val_loss: 0.2841 - val_accuracy: 0.9094\n",
      "Epoch 90/1000\n",
      "14/14 [==============================] - 0s 15ms/step - loss: 0.1195 - accuracy: 0.9420 - val_loss: 0.0178 - val_accuracy: 1.0000\n",
      "Epoch 91/1000\n",
      "14/14 [==============================] - 0s 14ms/step - loss: 0.0747 - accuracy: 0.9783 - val_loss: 0.1000 - val_accuracy: 0.9493\n",
      "Epoch 92/1000\n",
      "14/14 [==============================] - 0s 14ms/step - loss: 0.0851 - accuracy: 0.9638 - val_loss: 0.2252 - val_accuracy: 0.9167\n",
      "Epoch 93/1000\n",
      "14/14 [==============================] - 0s 14ms/step - loss: 0.1347 - accuracy: 0.9529 - val_loss: 0.0400 - val_accuracy: 0.9855\n",
      "Epoch 94/1000\n",
      "14/14 [==============================] - 0s 14ms/step - loss: 0.0549 - accuracy: 0.9783 - val_loss: 0.0181 - val_accuracy: 0.9928\n",
      "Epoch 95/1000\n",
      "14/14 [==============================] - 0s 14ms/step - loss: 0.1545 - accuracy: 0.9565 - val_loss: 0.0241 - val_accuracy: 0.9928\n",
      "Epoch 96/1000\n",
      "14/14 [==============================] - 0s 14ms/step - loss: 0.2071 - accuracy: 0.9457 - val_loss: 0.1649 - val_accuracy: 0.9239\n",
      "Epoch 97/1000\n",
      "14/14 [==============================] - 0s 14ms/step - loss: 0.0513 - accuracy: 0.9819 - val_loss: 0.1179 - val_accuracy: 0.9493\n",
      "Epoch 98/1000\n",
      "14/14 [==============================] - 0s 14ms/step - loss: 0.0981 - accuracy: 0.9565 - val_loss: 0.0182 - val_accuracy: 1.0000\n",
      "Epoch 99/1000\n",
      "14/14 [==============================] - 0s 14ms/step - loss: 0.0096 - accuracy: 1.0000 - val_loss: 0.0225 - val_accuracy: 0.9891\n",
      "Epoch 100/1000\n",
      "14/14 [==============================] - 0s 14ms/step - loss: 0.1868 - accuracy: 0.9493 - val_loss: 0.0154 - val_accuracy: 0.9964\n",
      "Epoch 101/1000\n",
      "14/14 [==============================] - 0s 14ms/step - loss: 0.0607 - accuracy: 0.9819 - val_loss: 0.1458 - val_accuracy: 0.9348\n",
      "Epoch 102/1000\n",
      "14/14 [==============================] - 0s 13ms/step - loss: 0.0330 - accuracy: 0.9964 - val_loss: 0.1238 - val_accuracy: 0.9638\n",
      "Epoch 103/1000\n",
      "14/14 [==============================] - 0s 14ms/step - loss: 0.2839 - accuracy: 0.9312 - val_loss: 0.0390 - val_accuracy: 0.9964\n",
      "Epoch 104/1000\n",
      "14/14 [==============================] - 0s 13ms/step - loss: 0.0215 - accuracy: 1.0000 - val_loss: 0.0096 - val_accuracy: 0.9964\n",
      "Epoch 105/1000\n",
      "14/14 [==============================] - 0s 14ms/step - loss: 0.0511 - accuracy: 0.9819 - val_loss: 0.4524 - val_accuracy: 0.8478\n",
      "Epoch 106/1000\n",
      "14/14 [==============================] - 0s 14ms/step - loss: 0.1004 - accuracy: 0.9601 - val_loss: 0.0055 - val_accuracy: 1.0000\n",
      "Epoch 107/1000\n",
      "14/14 [==============================] - 0s 14ms/step - loss: 0.0032 - accuracy: 1.0000 - val_loss: 0.0023 - val_accuracy: 1.0000\n",
      "Epoch 108/1000\n",
      "14/14 [==============================] - 0s 14ms/step - loss: 0.0021 - accuracy: 1.0000 - val_loss: 8.7194e-04 - val_accuracy: 1.0000\n",
      "Epoch 109/1000\n",
      "14/14 [==============================] - 0s 14ms/step - loss: 7.8183e-04 - accuracy: 1.0000 - val_loss: 0.2624 - val_accuracy: 0.9529\n",
      "Epoch 110/1000\n",
      "14/14 [==============================] - 0s 14ms/step - loss: 0.7786 - accuracy: 0.9167 - val_loss: 0.0319 - val_accuracy: 0.9891\n",
      "14/14 [==============================] - 0s 3ms/step - loss: 0.0178 - accuracy: 1.0000\n",
      "np.shape(X_test)= (600, 480, 1)\n",
      "Model: \"sequential_1\"\n",
      "_________________________________________________________________\n",
      " Layer (type)                Output Shape              Param #   \n",
      "=================================================================\n",
      " conv1d_5 (Conv1D)           (None, 478, 64)           256       \n",
      "                                                                 \n",
      " conv1d_6 (Conv1D)           (None, 476, 128)          24704     \n",
      "                                                                 \n"
     ]
    },
    {
     "name": "stdout",
     "output_type": "stream",
     "text": [
      " max_pooling1d_4 (MaxPooling  (None, 158, 128)         0         \n",
      " 1D)                                                             \n",
      "                                                                 \n",
      " conv1d_7 (Conv1D)           (None, 156, 256)          98560     \n",
      "                                                                 \n",
      " max_pooling1d_5 (MaxPooling  (None, 52, 256)          0         \n",
      " 1D)                                                             \n",
      "                                                                 \n",
      " conv1d_8 (Conv1D)           (None, 50, 256)           196864    \n",
      "                                                                 \n",
      " max_pooling1d_6 (MaxPooling  (None, 16, 256)          0         \n",
      " 1D)                                                             \n",
      "                                                                 \n",
      " conv1d_9 (Conv1D)           (None, 14, 512)           393728    \n",
      "                                                                 \n",
      " max_pooling1d_7 (MaxPooling  (None, 4, 512)           0         \n",
      " 1D)                                                             \n",
      "                                                                 \n",
      " flatten_1 (Flatten)         (None, 2048)              0         \n",
      "                                                                 \n",
      " dense_2 (Dense)             (None, 2000)              4098000   \n",
      "                                                                 \n",
      " dense_3 (Dense)             (None, 3)                 6003      \n",
      "                                                                 \n",
      "=================================================================\n",
      "Total params: 4,818,115\n",
      "Trainable params: 4,818,115\n",
      "Non-trainable params: 0\n",
      "_________________________________________________________________\n",
      "Accuracy=  1.0\n"
     ]
    }
   ],
   "source": [
    "accuracy=0\n",
    "acc_crs=np.array([])\n",
    "##for i in range (10):\n",
    "##    if accuracy<0.2 :\n",
    "\n",
    "verbose, epochs, batch_size = 1, 1000, btch\n",
    "n_timesteps, n_features, n_outputs = X_train.shape[1], X_train.shape[2], y_train_cat.shape[1]\n",
    "steps_per_epoch = len(X_train)//batch_size\n",
    "validation_steps = len(X_valid)//batch_size # if you have test data\n",
    "\n",
    "model_crs = Sequential()\n",
    "BatchNormalization()\n",
    "model_crs.add(Conv1D(filters=64, kernel_size=3, activation='relu', input_shape=(n_timesteps,n_features)))\n",
    "#model_crs.add(MaxPooling1D(pool_size=3))\n",
    "BatchNormalization()\n",
    "model_crs.add(Conv1D(filters=128, kernel_size=3, activation='relu'))\n",
    "#model_crs.add(Dropout(0.5))\n",
    "model_crs.add(MaxPooling1D(pool_size=3))\n",
    "BatchNormalization()\n",
    "model_crs.add(Conv1D(filters=256, kernel_size=3, activation='relu'))\n",
    "model_crs.add(MaxPooling1D(pool_size=3))\n",
    "BatchNormalization()\n",
    "model_crs.add(Conv1D(filters=256, kernel_size=3, activation='relu'))\n",
    "model_crs.add(MaxPooling1D(pool_size=3))\n",
    "BatchNormalization()\n",
    "model_crs.add(Conv1D(filters=512, kernel_size=3, activation='relu'))\n",
    "model_crs.add(MaxPooling1D(pool_size=3))\n",
    "'''model_crs.add(Conv1D(filters=512, kernel_size=3, activation='relu'))\n",
    "model_crs.add(MaxPooling1D(pool_size=3))\n",
    "model_crs.add(Conv1D(filters=1024, kernel_size=3, activation='relu'))\n",
    "model_crs.add(MaxPooling1D(pool_size=3))\n",
    "'''\n",
    "model_crs.add(Flatten())\n",
    "#model_crs.add(Dropout(0.5))\n",
    "model_crs.add(Dense(2000, activation='relu'))\n",
    "model_crs.add(Dense(n_outputs, activation='softmax'))\n",
    "model_crs.compile(optimizer='rmsprop', loss='categorical_crossentropy', metrics=['accuracy'])\n",
    "# fit network   #CategoricalCrossentropy #sparse_categorical_crossentropy #SparseCategoricalCrossentropy\n",
    "\n",
    "earlystopping = callbacks.EarlyStopping(monitor =\"val_accuracy\", mode =\"max\", patience = 20, restore_best_weights = True)\n",
    "\n",
    "model_crs.fit(X_train, y_train_cat, epochs=epochs, batch_size=batch_size, verbose=verbose, validation_data = (X_valid, y_valid_cat), callbacks =[earlystopping])\n",
    "# evaluate model_crs\n",
    "_, accuracy = model_crs.evaluate(X_valid, y_valid_cat, batch_size=batch_size, verbose=1)\n",
    "\n",
    "print('np.shape(X_test)=',np.shape(X_test))\n",
    "\n",
    "\n",
    "model_crs.summary()\n",
    "print('Accuracy= ', accuracy)\n",
    "\n",
    "#output = K.function([model_crs.layers[0].input],[model_crs.layers[3].output])\n",
    "#output(X_test)[0]\n",
    "#y_pred= model_crs.predict(X_test)                # Function 1\n",
    "\n",
    "##    print('Round ', i, '==>', 'accuracy = ', accuracy)\n",
    "##    acc_crs=np.append(acc_crs,accuracy)\n",
    "#y_pred_crs = model_crs.predict_classes(X_test)   # Function 2"
   ]
  },
  {
   "cell_type": "code",
   "execution_count": 28,
   "metadata": {},
   "outputs": [
    {
     "name": "stdout",
     "output_type": "stream",
     "text": [
      "19/19 [==============================] - 0s 7ms/step\n",
      "array([[159,  63],\n",
      "       [105, 273]], dtype=int64)\n",
      "              precision    recall  f1-score   support\n",
      "\n",
      "           1       0.60      0.72      0.65       222\n",
      "           2       0.81      0.72      0.76       378\n",
      "\n",
      "    accuracy                           0.72       600\n",
      "   macro avg       0.71      0.72      0.71       600\n",
      "weighted avg       0.73      0.72      0.72       600\n",
      "\n"
     ]
    }
   ],
   "source": [
    "predict_x=model_crs.predict(X_test)              # Function 1\n",
    "\n",
    "y_pred_crs=maxindx(predict_x)                    # function from augment.py to remove 0 index predictions\n",
    "\n",
    "#y_pred_crs = model_crs.predict_classes(X_test)\n",
    "\n",
    "cm = confusion_matrix(y_test, y_pred_crs)\n",
    "fullprint(cm)\n",
    "acc3=accuracy_score(y_test, y_pred_crs)\n",
    "\n",
    "print(classification_report(y_test, y_pred_crs))\n",
    "\n",
    "#sns.heatmap(cm, annot=True)\n",
    "\n",
    "#plt.imshow(cm)"
   ]
  },
  {
   "cell_type": "code",
   "execution_count": null,
   "metadata": {},
   "outputs": [],
   "source": []
  }
 ],
 "metadata": {
  "celltoolbar": "Raw Cell Format",
  "kernelspec": {
   "display_name": "Python 3 (ipykernel)",
   "language": "python",
   "name": "python3"
  },
  "language_info": {
   "codemirror_mode": {
    "name": "ipython",
    "version": 3
   },
   "file_extension": ".py",
   "mimetype": "text/x-python",
   "name": "python",
   "nbconvert_exporter": "python",
   "pygments_lexer": "ipython3",
   "version": "3.9.7"
  }
 },
 "nbformat": 4,
 "nbformat_minor": 4
}
