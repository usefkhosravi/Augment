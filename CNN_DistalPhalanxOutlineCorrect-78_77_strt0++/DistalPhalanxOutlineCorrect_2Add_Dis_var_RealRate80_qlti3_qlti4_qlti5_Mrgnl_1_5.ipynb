{
 "cells": [
  {
   "cell_type": "code",
   "execution_count": 1,
   "id": "d5518c54",
   "metadata": {},
   "outputs": [],
   "source": [
    "#Change class Lable start from 0 or 1 , cls_num , dataload"
   ]
  },
  {
   "cell_type": "code",
   "execution_count": 2,
   "id": "ab7fbdac",
   "metadata": {},
   "outputs": [],
   "source": [
    "from augment import *\n",
    "import glob\n",
    "import os\n",
    "import glob\n",
    "import scipy\n",
    "import random\n",
    "import bisect\n",
    "import numpy as np\n",
    "import pandas as pd\n",
    "import seaborn as sns\n",
    "from scipy import signal\n",
    "from scipy.signal import find_peaks\n",
    "import matplotlib.pyplot as plt\n",
    "from preprocess import *                         #ماژول استخراج پنجره ها\n",
    "from data import *                               #ماژول محلی ورود داده ها\n",
    "from augment import *                            #ماژول های داده افزایی\n",
    "from GAN import *                  \n",
    "from lstm_cnn import *                           #ماژول های داده افزایی با lstm_cnn\n",
    "import augment\n",
    "import importlib\n",
    "importlib.reload(augment)\n",
    "import tensorflow as tf\n",
    "from tensorflow import keras\n",
    "from tensorflow.keras.layers import BatchNormalization\n",
    "from sklearn.model_selection import train_test_split\n",
    "from sklearn.neural_network import MLPClassifier\n",
    "from sklearn.datasets import make_classification\n",
    "from sklearn.metrics import confusion_matrix, accuracy_score, classification_report,recall_score,precision_score\n",
    "from tensorflow.keras import callbacks\n",
    "from tensorflow.keras import layers\n",
    "from tensorflow.keras.models import Sequential\n",
    "from tensorflow.keras.layers import Convolution2D,Conv1D,Dropout,MaxPooling1D,MaxPooling2D,Flatten,Dense\n",
    "from tensorflow.keras import backend as K\n",
    "from tensorflow.keras.utils import to_categorical\n",
    "from tensorflow.keras.models import load_model\n",
    "cwd = os.getcwd() #"
   ]
  },
  {
   "cell_type": "code",
   "execution_count": 3,
   "id": "5f9eb49d",
   "metadata": {},
   "outputs": [],
   "source": [
    "def dstnc(dt2,dt1): #فاصله و واریانس بردار فاصله ی هر کدام از ردیف های دیتاست(آگمنت)1 از (کل)2\n",
    "    dist,vrnc,i,h,w=[],[],0,np.shape(dt1)[0],np.shape(dt1)[1]\n",
    "    end=min(len(dt2[0]),len(dt1[0]))\n",
    "    for i in range (h):\n",
    "        ds1 = dt2-dt1[i,:end] #.reshape(-1,1) #distance of every training instance\n",
    "        dist_array=(ds1*10)**3  #معیار فاصله با حساسیت به توان 3 (حفظ علامت و تاثیر بیشتر تفاوت زیاد در نقاط)\n",
    "        vr=np.var(ds1)\n",
    "        ds1=min(np.sum(np.absolute(dist_array),axis=1))\n",
    "        #print('dist2 = ', dist2)\n",
    "        vrnc.append(vr)\n",
    "        dist.append(ds1)\n",
    "    variance=np.reshape(vrnc,(-1,1))\n",
    "    distnc=np.reshape(dist,(-1,1))\n",
    "    return(distnc,variance)"
   ]
  },
  {
   "cell_type": "code",
   "execution_count": 4,
   "id": "73e40353",
   "metadata": {},
   "outputs": [
    {
     "name": "stdout",
     "output_type": "stream",
     "text": [
      "first_train_shape= (276, 81)\n",
      "first_test_shape= (600, 81)\n",
      "classes_quantity= 2\n",
      "tr_lbls=\t {0, 1}\n",
      "Count_labels= [161]\n",
      "max(train_feature_Altitude)= 2.4602\n",
      "min(train_feature_Altitude)= -2.1799\n",
      "first_train_sample=\n",
      " [ 1.       -0.88425  -0.76511  -0.6264   -0.30459  -0.014302  0.29922\n",
      "  0.51262   0.62572   0.89455   1.053     1.1322    1.2672    1.4321\n",
      "  1.4845    1.2757    1.1589    1.0053    0.81736   0.50439   0.37885\n",
      "  0.14581  -0.20947  -0.57872  -0.67481  -0.79999  -0.93504  -0.78816\n",
      " -0.57744  -0.27191   0.061242  0.41037   0.76072   1.1348    1.5046\n",
      "  1.6696    1.6999    1.5531    1.3937    1.4704    1.5877    1.6902\n",
      "  1.7647    1.5246    1.1461    0.76139   0.42848   0.076242 -0.2335\n",
      " -0.51671  -0.81834  -0.080823 -0.27898  -0.46208  -0.69433  -0.92273\n",
      " -1.1133   -1.3737   -1.5067   -1.5621   -1.3708   -1.102    -0.86298\n",
      " -0.53403  -0.3252   -0.1899   -0.3366   -0.45422  -0.60653  -0.78383\n",
      " -1.0497   -1.3447   -1.4977   -1.5734   -1.4749   -1.2418   -1.0149\n",
      " -0.78176  -0.61354  -0.3066   -0.16655 ]\n",
      "0 115\t1 161\t"
     ]
    }
   ],
   "source": [
    "rate0=80\n",
    "ratenet=480\n",
    "cls_num=2\n",
    "for i in range (0,cls_num):\n",
    "    vars()['ecg'+str(i)],vars()['ecg_tst'+str(i)]=DistalPhalanxOutlineCorrect0(i)\n",
    "\n",
    "os.chdir(cwd)\n",
    "clses_lens=np.array([])\n",
    "i=0                               #جمع آوری داده ها و چاپ تعداد نمونه ی هر کلاس\n",
    "ecg=np.array(ecg0)\n",
    "print(0,len(vars()['ecg'+str(0)]), end='\\t')\n",
    "clses_lens=np.append(clses_lens,len(vars()['ecg'+str(0)]))\n",
    "for i in range (1,cls_num):\n",
    "    ecg=np.concatenate((ecg,vars()['ecg'+str(i)]),axis=0)\n",
    "    clses_lens=np.append(clses_lens,len(vars()['ecg'+str(i)]))\n",
    "    print(i,len(vars()['ecg'+str(i)]), end='\\t')\n",
    "\n",
    "mx_sig=max(clses_lens)\n",
    "btch=int(min(clses_lens))"
   ]
  },
  {
   "cell_type": "code",
   "execution_count": 5,
   "id": "64bf2935",
   "metadata": {
    "scrolled": false
   },
   "outputs": [
    {
     "name": "stdout",
     "output_type": "stream",
     "text": [
      "shape wndws1= (161, 81)\n",
      "shape base_wn= (276, 81)\n",
      "shape furir_windws0= (276, 80)\n",
      "shape furir_windws= (276, 81)\n",
      "smpl_rte= 80\n",
      "mx_wndws= 161\n"
     ]
    }
   ],
   "source": [
    "wdth=int(len(ecg1[0]))\n",
    "os.chdir(cwd)\n",
    "base_wn=np.array([])\n",
    "windws=np.array([])\n",
    "\n",
    "for cls in range (0,cls_num):                   #ساخت پنجره های داده های آموزش اصلی\n",
    "    vars()['wndws'+str(cls)]=np.array(vars()['ecg'+str(cls)])\n",
    "    base_wn=np.append(base_wn,vars()['wndws'+str(cls)])\n",
    "base_wn=np.reshape(base_wn,(int(len(base_wn)/wdth),wdth))  #base data windows\n",
    "print(\"shape wndws1=\", np.shape(wndws1))\n",
    "print(\"shape base_wn=\", np.shape(base_wn))\n",
    "\n",
    "furir_windws0=np.fft.fft(np.array(base_wn[:,:-1]))\n",
    "print(\"shape furir_windws0=\", np.shape(furir_windws0))\n",
    "furir_windws=np.concatenate((np.array(furir_windws0),np.transpose([base_wn[:,-1]])),axis=1)   \n",
    "print(\"shape furir_windws=\", np.shape(furir_windws))\n",
    "\n",
    "smpl_rte=len(base_wn[0])-1                 #len(ecg1[0])  # در ماژول ها نیز همین مقدار ثبت شده\n",
    "print(\"smpl_rte=\",smpl_rte)\n",
    "mx_wndws=np.max(np.bincount(np.int16(base_wn[:,-1])))\n",
    "print(\"mx_wndws=\",mx_wndws)"
   ]
  },
  {
   "cell_type": "code",
   "execution_count": 6,
   "id": "095bd5cf",
   "metadata": {
    "scrolled": true
   },
   "outputs": [],
   "source": [
    "path=('{}\\AugEvl'.format(cwd)) #create folder \n",
    "if not os.path.isdir(path):\n",
    "    os.mkdir(path)\n",
    "\n",
    "def addqlty(base_wn_dt,data,mthd,i):               \n",
    "    cls=int(i)\n",
    "    c,alpha,PL=0,1,1\n",
    "    #from glob import glob\n",
    "    cwd = os.getcwd() #\n",
    "    adrs=cwd+'/Aug/aug'+str(i)+str(mthd)+'.csv'\n",
    "    #alldata = np.array([])                    # List for storing all the data\n",
    "    train_labels=np.array(base_wn_dt[:,-1])\n",
    "    tr=np.array(base_wn_dt[:,:-1])\n",
    "    indx_pstv=np.where(base_wn_dt[:,-1] == i)\n",
    "    P=np.array(base_wn_dt[indx_pstv])\n",
    "    indx_ngtv=np.where(base_wn_dt[:,-1] != i)\n",
    "    N=np.array(base_wn_dt[indx_ngtv])\n",
    "\n",
    "    #data = np.array(data)\n",
    "    aug=np.array(data)\n",
    "    pnts=int(np.shape(data)[1])\n",
    "    \n",
    "    #aug=data[data[:,-2].argsort()]        # Positive data Sorted Base Distance\n",
    "    trl=np.array(train_labels)\n",
    "    for j in range (len(trl)):\n",
    "        if train_labels[j]==i :           # !!!!! == (Paper GDO)\n",
    "            trl[j]=1\n",
    "        else :\n",
    "            trl[j]=0\n",
    "    trlt=np.array([trl]).T\n",
    "    #mn_ds_pstv=np.reshape(aug[:,-2],(-1,1)) #min dis to positive class (submited in -2 column)\n",
    "    #print('shape and aug[0]=',np.shape(aug[0]),aug[0])\n",
    "    #print('shape P and P[0]=',np.shape(P),P[0])    \n",
    "    qlty1,qlty2=mn_ds_pstv,vr_P=dstnc(P[:,1:-1],aug[:,1:-1])  #min distance to negative class\n",
    "    new1=np.append(aug,qlty1,axis=1)\n",
    "    new2=np.append(new1,qlty2,axis=1)\n",
    "    mn_ds_ngtv,vr_N=dstnc(N[:,1:-1],aug[:,1:-1])              #min distance to negative class\n",
    "    qlty3=mn_ds_pstv/mn_ds_ngtv                               #Smaller is Better\n",
    "    qlty4=np.reshape(valuation(aug[:,:-1],tr,trlt),(-1,1))   #line 272\n",
    "    new3=np.append(new2,qlty3,axis=1)\n",
    "    new4=np.append(new3,qlty4,axis=1)\n",
    "    for j in range (len(trl)):\n",
    "        if train_labels[j]!=i :                          # !!!!! == (!= Inverse Paper GDO)\n",
    "            trl[j]=1\n",
    "        else :\n",
    "            trl[j]=0\n",
    "    trlt=np.array([trl]).T\n",
    "    qlty5=np.reshape(valuation(aug[:,:-1],tr,trlt),(-1,1))   #line 272\n",
    "    new5=np.append(new4,qlty5,axis=1)\n",
    "    print('class=',i,'shape(new5)=',np.shape(new5),end='\\t')\n",
    "    print('mx=',np.max(new5[:,1:-7]),end='\\t')\n",
    "    print('mn=',np.min(new5[:,1:-7]))\n",
    "    pd.DataFrame(new5[:,:]).to_csv('{}/AugEvl/AugEvl{}{}.csv'.format(cwd,cls,mthd))\n",
    "    print()"
   ]
  },
  {
   "cell_type": "code",
   "execution_count": 7,
   "id": "39af649c",
   "metadata": {},
   "outputs": [],
   "source": [
    "for i in range (0,cls_num):                           #تعریف آرایه ی پنجره های کلاس ها\n",
    "    vars()['ecg_aug'+str(i)+'00']=np.empty((0,smpl_rte+1), float) #Scale    \n",
    "    vars()['ecg_aug'+str(i)+'10']=np.empty((0,smpl_rte+1), float) #Scale\n",
    "    vars()['ecg_aug'+str(i)+'20']=np.empty((0,smpl_rte+1), float) #Mag Warp\n",
    "    vars()['ecg_aug'+str(i)+'30']=np.empty((0,smpl_rte+1), float) #TimWarp\n",
    "    vars()['ecg_aug'+str(i)+'40']=np.empty((0,smpl_rte+1), float) #GDO\n",
    "    vars()['ecg_aug'+str(i)+'50']=np.empty((0,smpl_rte+1), float) #frequence\n",
    "    vars()['ecg_aug'+str(i)+'60']=np.empty((0,smpl_rte+1), float) #GAN\n",
    "    vars()['ecg_aug'+str(i)+'61']=np.empty((0,smpl_rte+1), float)\n",
    "    vars()['ecg_aug'+str(i)+'62']=np.empty((0,smpl_rte+1), float)\n",
    "    vars()['ecg_aug'+str(i)+'70']=np.empty((0,smpl_rte+1), float) #LSTM\n",
    "    vars()['ecg_aug'+str(i)+'71']=np.empty((0,smpl_rte+1), float)\n",
    "    vars()['ecg_aug'+str(i)+'72']=np.empty((0,smpl_rte+1), float)"
   ]
  },
  {
   "cell_type": "code",
   "execution_count": 8,
   "id": "f821490e",
   "metadata": {
    "scrolled": false
   },
   "outputs": [
    {
     "name": "stdout",
     "output_type": "stream",
     "text": [
      "class= 0 shape(new5)= (1495, 86)\tmx= 3.0454095014189937\tmn= -2.4630167121072795\n",
      "\n",
      "010 => 1495\n"
     ]
    },
    {
     "name": "stderr",
     "output_type": "stream",
     "text": [
      "C:\\ProgramData\\Anaconda3\\lib\\site-packages\\numpy\\core\\fromnumeric.py:3419: RuntimeWarning: Mean of empty slice.\n",
      "  return _methods._mean(a, axis=axis, dtype=dtype,\n",
      "C:\\ProgramData\\Anaconda3\\lib\\site-packages\\numpy\\core\\_methods.py:188: RuntimeWarning: invalid value encountered in double_scalars\n",
      "  ret = ret.dtype.type(ret / rcount)\n"
     ]
    },
    {
     "name": "stdout",
     "output_type": "stream",
     "text": [
      "class= 0 shape(new5)= (1498, 86)\tmx= 2.9891845642697947\tmn= -2.4291674224032147\n",
      "\n",
      "020 => 1498\n",
      "class= 0 shape(new5)= (1497, 86)\tmx= 2.45629112062674\tmn= -2.1790095163729415\n",
      "\n",
      "030 => 1497\n",
      "class= 0 shape(new5)= (1497, 86)\tmx= 2.6861429170875466\tmn= -2.489308535002995\n",
      "\n",
      "040 => 1497\n"
     ]
    },
    {
     "name": "stderr",
     "output_type": "stream",
     "text": [
      "C:\\Users\\user\\Thesis\\Classifying\\CNNsplit\\CNN_DistalPhalanxOutlineCorrect78_77_strt0\\augment.py:1504: ComplexWarning: Casting complex values to real discards the imaginary part\n",
      "  return(np.float16(p_aug_raw))\n"
     ]
    },
    {
     "name": "stdout",
     "output_type": "stream",
     "text": [
      "class= 0 shape(new5)= (1498, 86)\tmx= 2.4296875\tmn= -2.181640625\n",
      "\n",
      "050 => 1498\n",
      "class= 1 shape(new5)= (1449, 86)\tmx= 2.511155998038982\tmn= -2.3175353788816193\n",
      "\n",
      "110 => 1449\n",
      "class= 1 shape(new5)= (1452, 86)\tmx= 2.435307014829773\tmn= -2.2966549625751695\n",
      "\n",
      "120 => 1452\n",
      "class= 1 shape(new5)= (1451, 86)\tmx= 2.019065436699826\tmn= -1.900739183584158\n",
      "\n",
      "130 => 1451\n",
      "class= 1 shape(new5)= (1451, 86)\tmx= 2.237832170627891\tmn= -2.0991668616564176\n",
      "\n",
      "140 => 1451\n",
      "class= 1 shape(new5)= (1452, 86)\tmx= 2.02734375\tmn= -1.9140625\n",
      "\n",
      "150 => 1452\n"
     ]
    }
   ],
   "source": [
    "for i in range (0,cls_num):                           #تعریف آرایه ی پنجره های کلاس ها\n",
    "    vlum_sig=10*mx_wndws-len(vars()['wndws'+str(i)])\n",
    "    \n",
    "    vars()['ecg_aug'+str(i)+'10']=np.append(vars()['ecg_aug'+str(i)+'10'],scl_rndm_beat(ecg,i,int(vlum_sig),mag=.1),axis=0)#0.1\n",
    "    addqlty(base_wn,vars()['ecg_aug'+str(i)+'10'],10,i)\n",
    "    print(str(i)+'10 =>',len(vars()['ecg_aug'+str(i)+'10']))                #scl_rndm_beat=Rndm,sclRaw=Mrgnl\n",
    "    \n",
    "    vars()['ecg_aug'+str(i)+'20']=np.append(vars()['ecg_aug'+str(i)+'20'],MgWrpRaw(ecg,i,int(vlum_sig),mag=.1),axis=0)\n",
    "    addqlty(base_wn,vars()['ecg_aug'+str(i)+'20'],20,i)\n",
    "    print(str(i)+'20 =>',len(vars()['ecg_aug'+str(i)+'20']))\n",
    "    \n",
    "    vars()['ecg_aug'+str(i)+'30']=np.append(vars()['ecg_aug'+str(i)+'30'],TimWrp_rndm_beat(ecg,i,int(vlum_sig),mag=.05),axis=0)#.1\n",
    "    addqlty(base_wn,vars()['ecg_aug'+str(i)+'30'],30,i)\n",
    "    print(str(i)+'30 =>',len(vars()['ecg_aug'+str(i)+'30']))\n",
    "    \n",
    "    vars()['ecg_aug'+str(i)+'40']=np.append(vars()['ecg_aug'+str(i)+'40'],GDO_rndm_beat(ecg,i,int(vlum_sig),mag=.05),axis=0)\n",
    "    addqlty(base_wn,vars()['ecg_aug'+str(i)+'40'],40,i)\n",
    "    print(str(i)+'40 =>',len(vars()['ecg_aug'+str(i)+'40']))\n",
    "    \n",
    "    vars()['ecg_aug'+str(i)+'50']=np.append(vars()['ecg_aug'+str(i)+'50'],frqncRaw(furir_windws,i,int(vlum_sig),mag=.05),axis=0)\n",
    "    addqlty(base_wn,vars()['ecg_aug'+str(i)+'50'],50,i)\n",
    "    print(str(i)+'50 =>',len(vars()['ecg_aug'+str(i)+'50']))"
   ]
  },
  {
   "cell_type": "raw",
   "id": "f5256b07",
   "metadata": {},
   "source": [
    "for i in range (0,cls_num):                           #تعریف آرایه ی پنجره های کلاس ها\n",
    "    aug_pls60,aug_pls61,aug_pls62=2,5,3 #2 is MgWrp and 4 is GDO and 5 is freq Augmentes Data for GAN Training\n",
    "    vars()['ecg_aug'+str(i)+'60']=np.append(vars()['ecg_aug'+str(i)+'60'],GAN_Gnrt(ecg,i,aug_pls60),axis=0)\n",
    "    addqlty(base_wn,vars()['ecg_aug'+str(i)+'60'],60,i)\n",
    "    print(str(i)+'60 =',len(vars()['ecg_aug'+str(i)+'60']))\n",
    "    '''vars()['ecg_aug'+str(i)+'61']=np.append(vars()['ecg_aug'+str(i)+'61'],GAN_Gnrt(ecg,i,aug_pls61),axis=0)\n",
    "    addqlty(base_wn,vars()['ecg_aug'+str(i)+'61'],61,i)\n",
    "    print(str(i)+'61 =',len(vars()['ecg_aug'+str(i)+'61']))\n",
    "    vars()['ecg_aug'+str(i)+'62']=np.append(vars()['ecg_aug'+str(i)+'62'],GAN_Gnrt(ecg,i,aug_pls62),axis=0)\n",
    "    addqlty(base_wn,vars()['ecg_aug'+str(i)+'62'],62,i)\n",
    "    print(str(i)+'62 =',len(vars()['ecg_aug'+str(i)+'62']))'''"
   ]
  },
  {
   "cell_type": "raw",
   "id": "321f8919",
   "metadata": {},
   "source": [
    "for i in range (0,cls_num):                           #تعریف آرایه ی پنجره های کلاس ها\n",
    "    aug_pls70,aug_pls71,aug_pls72=2,5,3 #2 is MgWrp and 3 is TimeWrp Augmentes Data for LSTM Augmentation\n",
    "    vars()['ecg_aug'+str(i)+'70']=np.append(vars()['ecg_aug'+str(i)+'70'],LSTM_Gnrt_Pridc(ecg,i,aug_pls70),axis=0)\n",
    "    addqlty(base_wn,vars()['ecg_aug'+str(i)+'70'],70,i)\n",
    "    print(str(i)+'70 =',len(vars()['ecg_aug'+str(i)+'70']))\n",
    "    '''vars()['ecg_aug'+str(i)+'71']=np.append(vars()['ecg_aug'+str(i)+'71'],LSTM_Gnrt_Pridc(ecg,i,aug_pls71),axis=0)\n",
    "    addqlty(base_wn,vars()['ecg_aug'+str(i)+'71'],71,i)\n",
    "    print(str(i)+'71 =',len(vars()['ecg_aug'+str(i)+'71']))\n",
    "    vars()['ecg_aug'+str(i)+'72']=np.append(vars()['ecg_aug'+str(i)+'72'],LSTM_Gnrt_Pridc(ecg,i,aug_pls72),axis=0)\n",
    "    addqlty(base_wn,vars()['ecg_aug'+str(i)+'72'],72,i)\n",
    "    print(str(i)+'72 =',len(vars()['ecg_aug'+str(i)+'72']))'''"
   ]
  }
 ],
 "metadata": {
  "kernelspec": {
   "display_name": "Python 3 (ipykernel)",
   "language": "python",
   "name": "python3"
  },
  "language_info": {
   "codemirror_mode": {
    "name": "ipython",
    "version": 3
   },
   "file_extension": ".py",
   "mimetype": "text/x-python",
   "name": "python",
   "nbconvert_exporter": "python",
   "pygments_lexer": "ipython3",
   "version": "3.9.7"
  }
 },
 "nbformat": 4,
 "nbformat_minor": 5
}
