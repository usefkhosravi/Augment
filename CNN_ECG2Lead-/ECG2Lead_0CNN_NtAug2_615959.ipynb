{
 "cells": [
  {
   "cell_type": "markdown",
   "metadata": {},
   "source": [
    "import time\n",
    "plc=1\n",
    "time.sleep(3000*plc)         #run after 1 houre = 3600 seconds"
   ]
  },
  {
   "cell_type": "code",
   "execution_count": 1,
   "metadata": {},
   "outputs": [
    {
     "data": {
      "text/html": [
       "<style>#notebook { padding-top:0px !important; } .container { width:100% !important; } .end_space { min-height:0px !important; } html, body, .container{ margin:0!important;padding:0!important;}</style>"
      ],
      "text/plain": [
       "<IPython.core.display.HTML object>"
      ]
     },
     "metadata": {},
     "output_type": "display_data"
    }
   ],
   "source": [
    "import os\n",
    "import glob\n",
    "import scipy\n",
    "import random\n",
    "import bisect\n",
    "import numpy as np\n",
    "import pandas as pd\n",
    "import seaborn as sns\n",
    "from scipy import signal\n",
    "from scipy.signal import find_peaks\n",
    "import matplotlib.pyplot as plt\n",
    "from preprocess import *                         #ماژول استخراج پنجره ها\n",
    "from data import *                          #ماژول محلی ورود داده ها\n",
    "from augment import *                            #ماژول های داده افزایی\n",
    "from lstm_cnn import *                           #ماژول های داده افزایی با lstm_cnn\n",
    "import augment\n",
    "import importlib\n",
    "importlib.reload(augment)\n",
    "import tensorflow as tf\n",
    "from tensorflow import keras\n",
    "from tensorflow.keras.layers import BatchNormalization\n",
    "from sklearn.model_selection import train_test_split\n",
    "from sklearn.neural_network import MLPClassifier\n",
    "from sklearn.datasets import make_classification\n",
    "from sklearn.metrics import confusion_matrix, accuracy_score, classification_report,recall_score,precision_score\n",
    "from tensorflow.keras import callbacks\n",
    "from tensorflow.keras import layers\n",
    "from tensorflow.keras.models import Sequential\n",
    "from tensorflow.keras.layers import Convolution2D,Conv1D,Dropout,MaxPooling1D,MaxPooling2D,Flatten,Dense\n",
    "from tensorflow.keras import backend as K\n",
    "from tensorflow.keras.utils import to_categorical\n",
    "from tensorflow.keras.models import load_model\n",
    "cwd = os.getcwd() #\n",
    "fullscrn()"
   ]
  },
  {
   "cell_type": "markdown",
   "metadata": {},
   "source": [
    "<h1><center><div style=\"direction:rtl;font-family:B Nazanin\">Importing Data</div></center></h1>"
   ]
  },
  {
   "cell_type": "code",
   "execution_count": 2,
   "metadata": {
    "scrolled": true
   },
   "outputs": [
    {
     "name": "stdout",
     "output_type": "stream",
     "text": [
      "first_train_shape= (23, 83)\n",
      "first_test_shape= (1139, 83)\n",
      "classes_quantity= 2\n",
      "tr_lbls=\t {1, 2}\n",
      "Count_labels= [12 11]\n",
      "max(train_feature_Altitude)= 2.0\n",
      "min(train_feature_Altitude)= -3.1489147\n",
      "first_train_sample=\n",
      " [ 2.          0.68834554  0.6172271   0.6172271   0.56981481  0.68834554\n",
      "  0.64093325  0.71205169  0.78317013  0.49869637  0.47499023  0.54610867\n",
      "  0.33275335  0.33275335  0.26163491  0.23792876  0.26163491  0.21422262\n",
      "  0.21422262  0.26163491  0.23792876  0.09569189  0.11939803  0.11939803\n",
      " -0.02283885  0.16681032  0.28534105  0.16681032  0.04827959  0.16681032\n",
      "  0.16681032  0.14310418 -0.80514168 -2.1800981  -3.0098133  -3.0098133\n",
      " -2.8438703  -2.962401   -2.5831026  -2.0378613  -2.0852736  -1.8482121\n",
      " -1.4689138  -1.2318524  -1.1370278  -0.6629048  -0.37843104 -0.33101875\n",
      " -0.14136958  0.28534105  0.45128408  0.49869637  0.40387178  0.33275335\n",
      "  0.47499023  0.28534105  0.42757794  0.49869637  0.6172271   0.54610867\n",
      "  0.49869637  0.54610867  0.6172271   0.6646394   0.6646394   0.71205169\n",
      "  0.80687628  0.78317013  0.85428856  0.80687628  0.90170086  0.85428856\n",
      "  0.73575783  0.71205169  0.64093325  0.56981481  0.45128408  0.40387178\n",
      "  0.35645949  0.21422262  0.14310418  0.16681032  0.14310418]\n",
      "1 12\t2 11\t"
     ]
    },
    {
     "name": "stderr",
     "output_type": "stream",
     "text": [
      "C:\\ProgramData\\Anaconda3\\lib\\site-packages\\pandas\\util\\_decorators.py:311: ParserWarning: Falling back to the 'python' engine because the 'c' engine does not support regex separators (separators > 1 char and different from '\\s+' are interpreted as regex); you can avoid this warning by specifying engine='python'.\n",
      "  return func(*args, **kwargs)\n",
      "C:\\Users\\user\\AppData\\Local\\Temp/ipykernel_3696/2717273001.py:3: VisibleDeprecationWarning: Creating an ndarray from ragged nested sequences (which is a list-or-tuple of lists-or-tuples-or ndarrays with different lengths or shapes) is deprecated. If you meant to do this, you must specify 'dtype=object' when creating the ndarray.\n",
      "  vars()['ecg'+str(i)],vars()['ecg_tst'+str(i)]=np.array(TwoLeadECG(i))\n"
     ]
    }
   ],
   "source": [
    "rate=480\n",
    "for i in range (1,3):\n",
    "    vars()['ecg'+str(i)],vars()['ecg_tst'+str(i)]=np.array(TwoLeadECG(i))\n",
    "\n",
    "os.chdir(cwd)\n",
    "clses_lens=np.array([])\n",
    "i=0                               #جمع آوری داده ها و چاپ تعداد نمونه ی هر کلاس\n",
    "ecg=np.array(ecg1)\n",
    "print(1,len(vars()['ecg'+str(1)]), end='\\t')\n",
    "clses_lens=np.append(clses_lens,len(vars()['ecg'+str(1)]))\n",
    "for i in range (2,3):\n",
    "    ecg=np.concatenate((ecg,vars()['ecg'+str(i)]),axis=0)\n",
    "    clses_lens=np.append(clses_lens,len(vars()['ecg'+str(i)]))\n",
    "    print(i,len(vars()['ecg'+str(i)]), end='\\t')\n",
    "\n",
    "mx_sig=max(clses_lens)"
   ]
  },
  {
   "cell_type": "code",
   "execution_count": 3,
   "metadata": {},
   "outputs": [
    {
     "data": {
      "text/plain": [
       "(23, 481)"
      ]
     },
     "execution_count": 3,
     "metadata": {},
     "output_type": "execute_result"
    }
   ],
   "source": [
    "np.shape(ecg)"
   ]
  },
  {
   "cell_type": "markdown",
   "metadata": {},
   "source": [
    "<h2><center><div style=\"direction:rtl;font-family:B Nazanin\">Base Train windows</div></center></h1>"
   ]
  },
  {
   "cell_type": "code",
   "execution_count": 4,
   "metadata": {},
   "outputs": [
    {
     "name": "stdout",
     "output_type": "stream",
     "text": [
      "each class and its windows =\n",
      "1 12\t2 11\t\n",
      " max = 12\n"
     ]
    }
   ],
   "source": [
    "smpl_rte=480                                              # در ماژول ها نیز همین مقدار ثبت شده\n",
    "i=0\n",
    "windws=np.array([])\n",
    "\n",
    "for cls in range (1,3):                                 #ساخت پنجره های داده های آموزش اصلی\n",
    "    vars()['wndws'+str(cls)]=np.array(vars()['ecg'+str(cls)])  \n",
    "    \n",
    "print(\"each class and its windows =\")\n",
    "\n",
    "cls_wndws=np.array([])\n",
    "for cls in range (1,3):                                # آرایه ی تعداد پنجره ی هر کلاس\n",
    "    wns=len(vars()['wndws'+str(cls)])\n",
    "    cls_wndws=np.append(cls_wndws,wns)\n",
    "    print(cls, wns, end='\\t')\n",
    "\n",
    "mx_wndws=int(np.max(cls_wndws))                        # حداکثر تعداد پنجره ی موجود بین کلاس ها\n",
    "print('\\n max =', mx_wndws)"
   ]
  },
  {
   "cell_type": "raw",
   "metadata": {},
   "source": [
    "#clses=3                                   #تعیین میزان افزایش نمونه (تولید داده)\n",
    "mx_wndws=int(mx_wndws)  #mx_wndws*0.3  # =classes-1 برای بررسی الگوریتم تعداد کمی کلاس آزمایش شد\n",
    "mx_wndws=2598           #+2\n",
    "print(mx_wndws)"
   ]
  },
  {
   "cell_type": "markdown",
   "metadata": {},
   "source": [
    "<h1><center><div style=\"direction:rtl;font-family:B Nazanin\">Data Augmentation</div></center></h1>"
   ]
  },
  {
   "cell_type": "code",
   "execution_count": 5,
   "metadata": {},
   "outputs": [
    {
     "name": "stdout",
     "output_type": "stream",
     "text": [
      "Up to class  1 train shape =  (12, 481)\n",
      "Up to class  2 train shape =  (23, 481)\n"
     ]
    }
   ],
   "source": [
    "smpl_rte=len(wndws1[0])                                        # در ماژول ها نیز همین مقدار ثبت شده\n",
    "\n",
    "#add augmented data to base data\n",
    "xtrain=np.empty((0,len(wndws1[0])), float) \n",
    "for i in range (1,3):   \n",
    "    xtrain=np.append(xtrain,vars()['wndws'+str(i)],axis=0)\n",
    "    print('Up to class ', i, 'train shape = ', np.shape(xtrain))"
   ]
  },
  {
   "cell_type": "code",
   "execution_count": 6,
   "metadata": {},
   "outputs": [
    {
     "name": "stdout",
     "output_type": "stream",
     "text": [
      "[ 0 12 11]\n"
     ]
    }
   ],
   "source": [
    "print(np.bincount(np.int16(xtrain[:,-1])))    #تعداد پنجره در هر کلاس از 0 تا 17"
   ]
  },
  {
   "cell_type": "code",
   "execution_count": 7,
   "metadata": {},
   "outputs": [
    {
     "data": {
      "text/plain": [
       "array([1., 1., 1., 1., 1., 1., 1., 1., 1., 1., 1., 1., 2., 2., 2., 2., 2.,\n",
       "       2., 2., 2., 2., 2., 2.])"
      ]
     },
     "execution_count": 7,
     "metadata": {},
     "output_type": "execute_result"
    }
   ],
   "source": [
    "xtrain[:,-1]"
   ]
  },
  {
   "cell_type": "code",
   "execution_count": 8,
   "metadata": {},
   "outputs": [],
   "source": [
    "mx_aug=np.max(xtrain[:,:-1])\n",
    "mx=np.max(ecg[:,:-1])\n",
    "mn_aug=np.min(xtrain[:,:-1])\n",
    "mn=np.min(ecg[:,:-1])\n",
    "\n",
    "#for i in range (1,3):             #نرمالسازی داده های افزایشی\n",
    "xtrain[:,:-1]= 2*(xtrain[:,:-1]-mn_aug)/(mx_aug - mn_aug) - 1"
   ]
  },
  {
   "cell_type": "code",
   "execution_count": 9,
   "metadata": {},
   "outputs": [
    {
     "name": "stdout",
     "output_type": "stream",
     "text": [
      "min trn = -1.0\n",
      "max trn = 1.0\n"
     ]
    }
   ],
   "source": [
    "print('min trn =', np.min(xtrain[:,:-1]))\n",
    "print('max trn =', np.max(xtrain[:,:-1]))"
   ]
  },
  {
   "cell_type": "markdown",
   "metadata": {},
   "source": [
    "<h3><center><div style=\"direction:rtl;font-family:B Nazanin\">Test Windows</div></center></h1>"
   ]
  },
  {
   "cell_type": "code",
   "execution_count": 10,
   "metadata": {},
   "outputs": [],
   "source": [
    "wndws_test=np.empty((0,len(wndws1[0])), float)\n",
    "i=0\n",
    "windws=np.array([])\n",
    "for cls in range (1,3):                                 #ساخت پنجره های داده های آموزش اصلی\n",
    "    vars()['wndws_tst'+str(cls)]=np.empty((0,len(wndws1[0])), float)\n",
    "    vars()['wndws_tst'+str(cls)]=np.append(vars()['wndws_tst'+str(cls)],vars()['ecg_tst'+str(cls)],axis=0)   "
   ]
  },
  {
   "cell_type": "code",
   "execution_count": 11,
   "metadata": {},
   "outputs": [
    {
     "name": "stdout",
     "output_type": "stream",
     "text": [
      "\n",
      " cls 1  >> \n",
      "max magnitude class 1  =  1.6961987541059285\n",
      "min magnitude class 1  =  -3.292980177654397\n",
      "after normalizing >>\n",
      "max magnitude class 1  =  0.9305939600982402\n",
      "min magnitude class 1  =  -1.0563182548850396\n",
      "\n",
      " cls 2  >> \n",
      "max magnitude class 2  =  1.9728414308506252\n",
      "min magnitude class 2  =  -3.8530850339864156\n",
      "after normalizing >>\n",
      "max magnitude class 2  =  1.0407653372181564\n",
      "min magnitude class 2  =  -1.27937683745724\n",
      "each class and its windows =\n",
      "1 569\t2 570\t\n",
      " max instance in classes of test windows = 570\n"
     ]
    }
   ],
   "source": [
    "#print(np.max(wndws_tst))\n",
    "for i in range (1,3):                # Normalization test windows\n",
    "    cls=i\n",
    "    print('\\n cls', i, ' >> ')\n",
    "    print('max magnitude class', i , ' = ' ,np.max(vars()['wndws_tst'+str(cls)][:,:-1]))\n",
    "    print('min magnitude class', i , ' = ' ,np.min(vars()['wndws_tst'+str(cls)][:,:-1]))\n",
    "\n",
    "    vars()['wndws_tst'+str(i)][:,:-1]= 2*(vars()['wndws_tst'+str(i)][:,:-1]-mn_aug)/(mx_aug - mn_aug) - 1\n",
    "    \n",
    "    print('after normalizing >>')\n",
    "    print('max magnitude class', i , ' = ' ,np.max(vars()['wndws_tst'+str(cls)][:,:-1]))\n",
    "    print('min magnitude class', i , ' = ' ,np.min(vars()['wndws_tst'+str(cls)][:,:-1]))\n",
    "    \n",
    "print(\"each class and its windows =\")                    #تجمیع کلاس های تست\n",
    "cls_wndws=np.array([])\n",
    "for cls in range (1,3):                                # آرایه ی تعداد پنجره ی هر کلاس\n",
    "    wns=len(vars()['wndws_tst'+str(cls)])\n",
    "    cls_wndws=np.append(cls_wndws,wns)\n",
    "    print(cls, wns, end='\\t')\n",
    "    wndws_test=np.append(wndws_test,vars()['wndws_tst'+str(cls)],axis=0)\n",
    "    \n",
    "mx_wndws=int(np.max(cls_wndws))                        # حداکثر تعداد پنجره ی موجود بین کلاس ها\n",
    "print('\\n max instance in classes of test windows =', mx_wndws)"
   ]
  },
  {
   "cell_type": "code",
   "execution_count": 12,
   "metadata": {},
   "outputs": [
    {
     "name": "stdout",
     "output_type": "stream",
     "text": [
      "min tst = -1.27937683745724\n",
      "max tst = 1.0407653372181564\n"
     ]
    }
   ],
   "source": [
    "print('min tst =', np.min(wndws_test[:,:-1]))\n",
    "print('max tst =', np.max(wndws_test[:,:-1]))"
   ]
  },
  {
   "cell_type": "code",
   "execution_count": 13,
   "metadata": {},
   "outputs": [
    {
     "data": {
      "text/plain": [
       "1139"
      ]
     },
     "execution_count": 13,
     "metadata": {},
     "output_type": "execute_result"
    }
   ],
   "source": [
    "len(wndws_test)"
   ]
  },
  {
   "cell_type": "code",
   "execution_count": 14,
   "metadata": {},
   "outputs": [
    {
     "data": {
      "text/plain": [
       "(1139, 481)"
      ]
     },
     "execution_count": 14,
     "metadata": {},
     "output_type": "execute_result"
    }
   ],
   "source": [
    "np.shape(wndws_test)"
   ]
  },
  {
   "cell_type": "code",
   "execution_count": 15,
   "metadata": {},
   "outputs": [],
   "source": [
    "Xtest=wndws_test[:,:-1]\n",
    "ytest=np.int16(wndws_test[:,-1])"
   ]
  },
  {
   "cell_type": "code",
   "execution_count": 16,
   "metadata": {},
   "outputs": [
    {
     "name": "stdout",
     "output_type": "stream",
     "text": [
      "array([1, 1, 1, 1, 1, 1, 1, 1, 1, 1, 1, 1, 1, 1, 1, 1, 1, 1, 1, 1, 1, 1,\n",
      "       1, 1, 1, 1, 1, 1, 1, 1, 1, 1, 1, 1, 1, 1, 1, 1, 1, 1, 1, 1, 1, 1,\n",
      "       1, 1, 1, 1, 1, 1, 1, 1, 1, 1, 1, 1, 1, 1, 1, 1, 1, 1, 1, 1, 1, 1,\n",
      "       1, 1, 1, 1, 1, 1, 1, 1, 1, 1, 1, 1, 1, 1, 1, 1, 1, 1, 1, 1, 1, 1,\n",
      "       1, 1, 1, 1, 1, 1, 1, 1, 1, 1, 1, 1, 1, 1, 1, 1, 1, 1, 1, 1, 1, 1,\n",
      "       1, 1, 1, 1, 1, 1, 1, 1, 1, 1, 1, 1, 1, 1, 1, 1, 1, 1, 1, 1, 1, 1,\n",
      "       1, 1, 1, 1, 1, 1, 1, 1, 1, 1, 1, 1, 1, 1, 1, 1, 1, 1, 1, 1, 1, 1,\n",
      "       1, 1, 1, 1, 1, 1, 1, 1, 1, 1, 1, 1, 1, 1, 1, 1, 1, 1, 1, 1, 1, 1,\n",
      "       1, 1, 1, 1, 1, 1, 1, 1, 1, 1, 1, 1, 1, 1, 1, 1, 1, 1, 1, 1, 1, 1,\n",
      "       1, 1, 1, 1, 1, 1, 1, 1, 1, 1, 1, 1, 1, 1, 1, 1, 1, 1, 1, 1, 1, 1,\n",
      "       1, 1, 1, 1, 1, 1, 1, 1, 1, 1, 1, 1, 1, 1, 1, 1, 1, 1, 1, 1, 1, 1,\n",
      "       1, 1, 1, 1, 1, 1, 1, 1, 1, 1, 1, 1, 1, 1, 1, 1, 1, 1, 1, 1, 1, 1,\n",
      "       1, 1, 1, 1, 1, 1, 1, 1, 1, 1, 1, 1, 1, 1, 1, 1, 1, 1, 1, 1, 1, 1,\n",
      "       1, 1, 1, 1, 1, 1, 1, 1, 1, 1, 1, 1, 1, 1, 1, 1, 1, 1, 1, 1, 1, 1,\n",
      "       1, 1, 1, 1, 1, 1, 1, 1, 1, 1, 1, 1, 1, 1, 1, 1, 1, 1, 1, 1, 1, 1,\n",
      "       1, 1, 1, 1, 1, 1, 1, 1, 1, 1, 1, 1, 1, 1, 1, 1, 1, 1, 1, 1, 1, 1,\n",
      "       1, 1, 1, 1, 1, 1, 1, 1, 1, 1, 1, 1, 1, 1, 1, 1, 1, 1, 1, 1, 1, 1,\n",
      "       1, 1, 1, 1, 1, 1, 1, 1, 1, 1, 1, 1, 1, 1, 1, 1, 1, 1, 1, 1, 1, 1,\n",
      "       1, 1, 1, 1, 1, 1, 1, 1, 1, 1, 1, 1, 1, 1, 1, 1, 1, 1, 1, 1, 1, 1,\n",
      "       1, 1, 1, 1, 1, 1, 1, 1, 1, 1, 1, 1, 1, 1, 1, 1, 1, 1, 1, 1, 1, 1,\n",
      "       1, 1, 1, 1, 1, 1, 1, 1, 1, 1, 1, 1, 1, 1, 1, 1, 1, 1, 1, 1, 1, 1,\n",
      "       1, 1, 1, 1, 1, 1, 1, 1, 1, 1, 1, 1, 1, 1, 1, 1, 1, 1, 1, 1, 1, 1,\n",
      "       1, 1, 1, 1, 1, 1, 1, 1, 1, 1, 1, 1, 1, 1, 1, 1, 1, 1, 1, 1, 1, 1,\n",
      "       1, 1, 1, 1, 1, 1, 1, 1, 1, 1, 1, 1, 1, 1, 1, 1, 1, 1, 1, 1, 1, 1,\n",
      "       1, 1, 1, 1, 1, 1, 1, 1, 1, 1, 1, 1, 1, 1, 1, 1, 1, 1, 1, 1, 1, 1,\n",
      "       1, 1, 1, 1, 1, 1, 1, 1, 1, 1, 1, 1, 1, 1, 1, 1, 1, 1, 1, 2, 2, 2,\n",
      "       2, 2, 2, 2, 2, 2, 2, 2, 2, 2, 2, 2, 2, 2, 2, 2, 2, 2, 2, 2, 2, 2,\n",
      "       2, 2, 2, 2, 2, 2, 2, 2, 2, 2, 2, 2, 2, 2, 2, 2, 2, 2, 2, 2, 2, 2,\n",
      "       2, 2, 2, 2, 2, 2, 2, 2, 2, 2, 2, 2, 2, 2, 2, 2, 2, 2, 2, 2, 2, 2,\n",
      "       2, 2, 2, 2, 2, 2, 2, 2, 2, 2, 2, 2, 2, 2, 2, 2, 2, 2, 2, 2, 2, 2,\n",
      "       2, 2, 2, 2, 2, 2, 2, 2, 2, 2, 2, 2, 2, 2, 2, 2, 2, 2, 2, 2, 2, 2,\n",
      "       2, 2, 2, 2, 2, 2, 2, 2, 2, 2, 2, 2, 2, 2, 2, 2, 2, 2, 2, 2, 2, 2,\n",
      "       2, 2, 2, 2, 2, 2, 2, 2, 2, 2, 2, 2, 2, 2, 2, 2, 2, 2, 2, 2, 2, 2,\n",
      "       2, 2, 2, 2, 2, 2, 2, 2, 2, 2, 2, 2, 2, 2, 2, 2, 2, 2, 2, 2, 2, 2,\n",
      "       2, 2, 2, 2, 2, 2, 2, 2, 2, 2, 2, 2, 2, 2, 2, 2, 2, 2, 2, 2, 2, 2,\n",
      "       2, 2, 2, 2, 2, 2, 2, 2, 2, 2, 2, 2, 2, 2, 2, 2, 2, 2, 2, 2, 2, 2,\n",
      "       2, 2, 2, 2, 2, 2, 2, 2, 2, 2, 2, 2, 2, 2, 2, 2, 2, 2, 2, 2, 2, 2,\n",
      "       2, 2, 2, 2, 2, 2, 2, 2, 2, 2, 2, 2, 2, 2, 2, 2, 2, 2, 2, 2, 2, 2,\n",
      "       2, 2, 2, 2, 2, 2, 2, 2, 2, 2, 2, 2, 2, 2, 2, 2, 2, 2, 2, 2, 2, 2,\n",
      "       2, 2, 2, 2, 2, 2, 2, 2, 2, 2, 2, 2, 2, 2, 2, 2, 2, 2, 2, 2, 2, 2,\n",
      "       2, 2, 2, 2, 2, 2, 2, 2, 2, 2, 2, 2, 2, 2, 2, 2, 2, 2, 2, 2, 2, 2,\n",
      "       2, 2, 2, 2, 2, 2, 2, 2, 2, 2, 2, 2, 2, 2, 2, 2, 2, 2, 2, 2, 2, 2,\n",
      "       2, 2, 2, 2, 2, 2, 2, 2, 2, 2, 2, 2, 2, 2, 2, 2, 2, 2, 2, 2, 2, 2,\n",
      "       2, 2, 2, 2, 2, 2, 2, 2, 2, 2, 2, 2, 2, 2, 2, 2, 2, 2, 2, 2, 2, 2,\n",
      "       2, 2, 2, 2, 2, 2, 2, 2, 2, 2, 2, 2, 2, 2, 2, 2, 2, 2, 2, 2, 2, 2,\n",
      "       2, 2, 2, 2, 2, 2, 2, 2, 2, 2, 2, 2, 2, 2, 2, 2, 2, 2, 2, 2, 2, 2,\n",
      "       2, 2, 2, 2, 2, 2, 2, 2, 2, 2, 2, 2, 2, 2, 2, 2, 2, 2, 2, 2, 2, 2,\n",
      "       2, 2, 2, 2, 2, 2, 2, 2, 2, 2, 2, 2, 2, 2, 2, 2, 2, 2, 2, 2, 2, 2,\n",
      "       2, 2, 2, 2, 2, 2, 2, 2, 2, 2, 2, 2, 2, 2, 2, 2, 2, 2, 2, 2, 2, 2,\n",
      "       2, 2, 2, 2, 2, 2, 2, 2, 2, 2, 2, 2, 2, 2, 2, 2, 2, 2, 2, 2, 2, 2,\n",
      "       2, 2, 2, 2, 2, 2, 2, 2, 2, 2, 2, 2, 2, 2, 2, 2, 2, 2, 2, 2, 2, 2,\n",
      "       2, 2, 2, 2, 2, 2, 2, 2, 2, 2, 2, 2, 2, 2, 2, 2, 2], dtype=int16)\n"
     ]
    }
   ],
   "source": [
    "fullprint(ytest)"
   ]
  },
  {
   "cell_type": "markdown",
   "metadata": {},
   "source": [
    "<h3><center><div style=\"direction:rtl;font-family:B Nazanin\">Train Windows</div></center></h1>"
   ]
  },
  {
   "cell_type": "code",
   "execution_count": 17,
   "metadata": {},
   "outputs": [
    {
     "data": {
      "text/plain": [
       "'\\nytestt=np.int32(np.array([ytest]).T)\\ntestx=np.concatenate((Xtest, ytestt), axis=1)\\ntestx=np.random.permutation(testx)\\nXtest=np.int32(testx[:,:-1])\\nytest=np.int32(testx[:,-1])'"
      ]
     },
     "execution_count": 17,
     "metadata": {},
     "output_type": "execute_result"
    }
   ],
   "source": [
    "#ytraint=np.int32(np.array([ytrain]).T)\n",
    "#trainx=np.concatenate((Xtrain, ytraint), axis=1)\n",
    "trainx=np.random.permutation(xtrain)\n",
    "Xtrain=np.array(trainx[:,:-1])\n",
    "ytrain=np.int16(trainx[:,-1])\n",
    "'''\n",
    "ytestt=np.int32(np.array([ytest]).T)\n",
    "testx=np.concatenate((Xtest, ytestt), axis=1)\n",
    "testx=np.random.permutation(testx)\n",
    "Xtest=np.int32(testx[:,:-1])\n",
    "ytest=np.int32(testx[:,-1])'''"
   ]
  },
  {
   "cell_type": "code",
   "execution_count": 18,
   "metadata": {},
   "outputs": [
    {
     "data": {
      "text/plain": [
       "(12, 481)"
      ]
     },
     "execution_count": 18,
     "metadata": {},
     "output_type": "execute_result"
    }
   ],
   "source": [
    "np.shape(wndws1)"
   ]
  },
  {
   "cell_type": "markdown",
   "metadata": {},
   "source": [
    "<h3><center><div style=\"direction:rtl;font-family:B Nazanin\">Validation Windows</div></center></h1>"
   ]
  },
  {
   "cell_type": "code",
   "execution_count": 19,
   "metadata": {},
   "outputs": [],
   "source": [
    "Xvalid=np.array(Xtrain)\n",
    "yvalid=np.array(ytrain)"
   ]
  },
  {
   "cell_type": "markdown",
   "metadata": {},
   "source": [
    "<h1><center><div style=\"direction:rtl;font-family:B Nazanin\">CNN And UnBalanced RAW Data</div></center></h1>\n",
    "<h1><center><div style=\"direction:rtl;font-family:Arial\">Cross Entropy Loss Function</div></center></h1>"
   ]
  },
  {
   "cell_type": "code",
   "execution_count": 20,
   "metadata": {
    "scrolled": true
   },
   "outputs": [
    {
     "name": "stdout",
     "output_type": "stream",
     "text": [
      "X_train =>  (23, 480)\n",
      "y_train =>  (23,)\n",
      "X_test  =>  (1139, 480)\n",
      "y_test  =>  (1139,)\n",
      "X_valid  =>  (23, 480)\n",
      "y_valid  =>  (23,)\n"
     ]
    }
   ],
   "source": [
    "X_train=np.array(Xtrain)\n",
    "y_train=np.array(ytrain)\n",
    "X_test=np.array(Xtest)\n",
    "y_test=np.array(ytest)\n",
    "X_valid=np.array(Xtrain)\n",
    "y_valid=np.array(ytrain)\n",
    "print('X_train => ', X_train.shape)\n",
    "print('y_train => ', y_train.shape)\n",
    "print('X_test  => ', X_test.shape)\n",
    "print('y_test  => ', y_test.shape)\n",
    "print('X_valid  => ', X_valid.shape)\n",
    "print('y_valid  => ', y_valid.shape)"
   ]
  },
  {
   "cell_type": "code",
   "execution_count": 21,
   "metadata": {},
   "outputs": [
    {
     "data": {
      "text/plain": [
       "1"
      ]
     },
     "execution_count": 21,
     "metadata": {},
     "output_type": "execute_result"
    }
   ],
   "source": [
    "y_train=np.array(ytrain)\n",
    "np.min(y_train)"
   ]
  },
  {
   "cell_type": "code",
   "execution_count": 22,
   "metadata": {},
   "outputs": [],
   "source": [
    "y_train_cat=to_categorical(y_train)\n",
    "y_valid_cat=to_categorical(y_valid)\n",
    "y_test_cat=to_categorical(y_test)\n",
    "\n",
    "\n",
    "X_train = np.expand_dims(X_train, axis=2)\n",
    "X_valid = np.expand_dims(X_valid, axis=2)\n",
    "X_test = np.expand_dims(X_test, axis=2)\n",
    "#y_train=np.transpose([y_train])"
   ]
  },
  {
   "cell_type": "code",
   "execution_count": 23,
   "metadata": {
    "scrolled": true
   },
   "outputs": [
    {
     "name": "stdout",
     "output_type": "stream",
     "text": [
      "Epoch 1/1000\n",
      "1/1 [==============================] - 7s 7s/step - loss: 1.2876 - accuracy: 0.0000e+00 - val_loss: 0.7598 - val_accuracy: 0.5217\n",
      "Epoch 2/1000\n",
      "1/1 [==============================] - 0s 34ms/step - loss: 3.4904 - accuracy: 0.5217 - val_loss: 1.0362 - val_accuracy: 0.4783\n",
      "Epoch 3/1000\n",
      "1/1 [==============================] - 0s 33ms/step - loss: 8.2926 - accuracy: 0.4783 - val_loss: 1.0783 - val_accuracy: 0.4783\n",
      "Epoch 4/1000\n",
      "1/1 [==============================] - 0s 34ms/step - loss: 1.0028 - accuracy: 0.4783 - val_loss: 1.0522 - val_accuracy: 0.4783\n",
      "Epoch 5/1000\n",
      "1/1 [==============================] - 0s 34ms/step - loss: 0.8696 - accuracy: 0.4783 - val_loss: 1.0424 - val_accuracy: 0.5217\n",
      "Epoch 6/1000\n",
      "1/1 [==============================] - 0s 34ms/step - loss: 0.7954 - accuracy: 0.7391 - val_loss: 0.9618 - val_accuracy: 0.4783\n",
      "Epoch 7/1000\n",
      "1/1 [==============================] - 0s 34ms/step - loss: 0.6810 - accuracy: 0.4783 - val_loss: 0.9696 - val_accuracy: 0.5217\n",
      "Epoch 8/1000\n",
      "1/1 [==============================] - 0s 33ms/step - loss: 1.2392 - accuracy: 0.5217 - val_loss: 1.0335 - val_accuracy: 0.5217\n",
      "Epoch 9/1000\n",
      "1/1 [==============================] - 0s 34ms/step - loss: 0.9090 - accuracy: 0.7391 - val_loss: 0.9913 - val_accuracy: 0.5217\n",
      "Epoch 10/1000\n",
      "1/1 [==============================] - 0s 46ms/step - loss: 0.7548 - accuracy: 0.8696 - val_loss: 0.9484 - val_accuracy: 0.7826\n",
      "Epoch 11/1000\n",
      "1/1 [==============================] - 0s 35ms/step - loss: 0.6423 - accuracy: 0.6957 - val_loss: 0.9346 - val_accuracy: 0.5217\n",
      "Epoch 12/1000\n",
      "1/1 [==============================] - 0s 34ms/step - loss: 0.5666 - accuracy: 0.7826 - val_loss: 0.9058 - val_accuracy: 0.4783\n",
      "Epoch 13/1000\n",
      "1/1 [==============================] - 0s 33ms/step - loss: 1.2908 - accuracy: 0.4783 - val_loss: 0.9454 - val_accuracy: 0.5217\n",
      "Epoch 14/1000\n",
      "1/1 [==============================] - 0s 33ms/step - loss: 0.8526 - accuracy: 0.5217 - val_loss: 0.9684 - val_accuracy: 0.5217\n",
      "Epoch 15/1000\n",
      "1/1 [==============================] - 0s 34ms/step - loss: 0.7691 - accuracy: 0.5217 - val_loss: 0.9239 - val_accuracy: 0.5217\n",
      "Epoch 16/1000\n",
      "1/1 [==============================] - 0s 33ms/step - loss: 0.6863 - accuracy: 0.5217 - val_loss: 0.9096 - val_accuracy: 0.5217\n",
      "Epoch 17/1000\n",
      "1/1 [==============================] - 0s 33ms/step - loss: 0.6413 - accuracy: 0.5217 - val_loss: 0.8931 - val_accuracy: 0.5217\n",
      "Epoch 18/1000\n",
      "1/1 [==============================] - 0s 34ms/step - loss: 0.5831 - accuracy: 0.7391 - val_loss: 0.8794 - val_accuracy: 0.6087\n",
      "Epoch 19/1000\n",
      "1/1 [==============================] - 0s 35ms/step - loss: 0.5007 - accuracy: 0.9130 - val_loss: 0.8614 - val_accuracy: 0.6957\n",
      "Epoch 20/1000\n",
      "1/1 [==============================] - 0s 35ms/step - loss: 0.4553 - accuracy: 0.7826 - val_loss: 0.8698 - val_accuracy: 0.4783\n",
      "Epoch 21/1000\n",
      "1/1 [==============================] - 0s 34ms/step - loss: 1.3503 - accuracy: 0.4783 - val_loss: 0.9373 - val_accuracy: 0.5217\n",
      "Epoch 22/1000\n",
      "1/1 [==============================] - 0s 34ms/step - loss: 0.6558 - accuracy: 0.5652 - val_loss: 0.9003 - val_accuracy: 0.5217\n",
      "Epoch 23/1000\n",
      "1/1 [==============================] - 0s 35ms/step - loss: 0.5327 - accuracy: 0.7826 - val_loss: 0.8951 - val_accuracy: 0.4783\n",
      "Epoch 24/1000\n",
      "1/1 [==============================] - 0s 34ms/step - loss: 0.4654 - accuracy: 0.8696 - val_loss: 0.8674 - val_accuracy: 0.6522\n",
      "Epoch 25/1000\n",
      "1/1 [==============================] - 0s 35ms/step - loss: 0.4703 - accuracy: 0.7391 - val_loss: 0.8815 - val_accuracy: 0.4783\n",
      "Epoch 26/1000\n",
      "1/1 [==============================] - 0s 45ms/step - loss: 0.8692 - accuracy: 0.4783 - val_loss: 0.9161 - val_accuracy: 0.4783\n",
      "Epoch 27/1000\n",
      "1/1 [==============================] - 0s 35ms/step - loss: 0.5847 - accuracy: 0.8696 - val_loss: 0.8631 - val_accuracy: 0.4783\n",
      "Epoch 28/1000\n",
      "1/1 [==============================] - 0s 33ms/step - loss: 0.3891 - accuracy: 0.9130 - val_loss: 0.8539 - val_accuracy: 0.4783\n",
      "Epoch 29/1000\n",
      "1/1 [==============================] - 0s 34ms/step - loss: 0.2825 - accuracy: 0.9130 - val_loss: 0.8290 - val_accuracy: 0.4783\n",
      "Epoch 30/1000\n",
      "1/1 [==============================] - 0s 34ms/step - loss: 0.3238 - accuracy: 0.9130 - val_loss: 0.8471 - val_accuracy: 0.4783\n",
      "Epoch 31/1000\n",
      "1/1 [==============================] - 0s 33ms/step - loss: 0.8503 - accuracy: 0.4783 - val_loss: 0.8918 - val_accuracy: 0.4783\n",
      "Epoch 32/1000\n",
      "1/1 [==============================] - 0s 33ms/step - loss: 0.4205 - accuracy: 0.8696 - val_loss: 0.8609 - val_accuracy: 0.4783\n",
      "Epoch 33/1000\n",
      "1/1 [==============================] - 0s 33ms/step - loss: 0.2163 - accuracy: 0.9565 - val_loss: 0.8436 - val_accuracy: 0.4783\n",
      "Epoch 34/1000\n",
      "1/1 [==============================] - 0s 33ms/step - loss: 0.1247 - accuracy: 0.9565 - val_loss: 0.8325 - val_accuracy: 0.4783\n",
      "Epoch 35/1000\n",
      "1/1 [==============================] - 0s 33ms/step - loss: 0.1920 - accuracy: 0.9130 - val_loss: 0.8210 - val_accuracy: 0.4783\n",
      "Epoch 36/1000\n",
      "1/1 [==============================] - 0s 33ms/step - loss: 1.1653 - accuracy: 0.6957 - val_loss: 0.8811 - val_accuracy: 0.4783\n",
      "Epoch 37/1000\n",
      "1/1 [==============================] - 0s 34ms/step - loss: 0.9684 - accuracy: 0.4783 - val_loss: 0.9262 - val_accuracy: 0.4783\n",
      "Epoch 38/1000\n",
      "1/1 [==============================] - 0s 33ms/step - loss: 0.6436 - accuracy: 0.8696 - val_loss: 0.8462 - val_accuracy: 0.4783\n",
      "Epoch 39/1000\n",
      "1/1 [==============================] - 0s 32ms/step - loss: 0.2666 - accuracy: 0.9130 - val_loss: 0.8274 - val_accuracy: 0.4783\n",
      "Epoch 40/1000\n",
      "1/1 [==============================] - 0s 34ms/step - loss: 0.1268 - accuracy: 1.0000 - val_loss: 0.8196 - val_accuracy: 0.4783\n",
      "Epoch 41/1000\n",
      "1/1 [==============================] - 0s 34ms/step - loss: 0.0794 - accuracy: 1.0000 - val_loss: 0.8076 - val_accuracy: 0.4783\n",
      "Epoch 42/1000\n",
      "1/1 [==============================] - 0s 33ms/step - loss: 0.3512 - accuracy: 0.9130 - val_loss: 0.8360 - val_accuracy: 0.4783\n",
      "Epoch 43/1000\n",
      "1/1 [==============================] - 0s 34ms/step - loss: 0.3050 - accuracy: 0.8696 - val_loss: 0.8435 - val_accuracy: 0.4783\n",
      "Epoch 44/1000\n",
      "1/1 [==============================] - 0s 33ms/step - loss: 0.2429 - accuracy: 0.9130 - val_loss: 0.8372 - val_accuracy: 0.4783\n",
      "Epoch 45/1000\n",
      "1/1 [==============================] - 0s 33ms/step - loss: 0.0862 - accuracy: 0.9565 - val_loss: 0.8216 - val_accuracy: 0.4783\n",
      "Epoch 46/1000\n",
      "1/1 [==============================] - 0s 33ms/step - loss: 0.0369 - accuracy: 1.0000 - val_loss: 0.8135 - val_accuracy: 0.4783\n",
      "Epoch 47/1000\n",
      "1/1 [==============================] - 0s 33ms/step - loss: 0.0160 - accuracy: 1.0000 - val_loss: 0.8210 - val_accuracy: 0.4783\n",
      "Epoch 48/1000\n",
      "1/1 [==============================] - 0s 37ms/step - loss: 0.0082 - accuracy: 1.0000 - val_loss: 0.8291 - val_accuracy: 0.4783\n",
      "Epoch 49/1000\n",
      "1/1 [==============================] - 0s 37ms/step - loss: 0.0041 - accuracy: 1.0000 - val_loss: 0.8483 - val_accuracy: 0.4783\n",
      "Epoch 50/1000\n",
      "1/1 [==============================] - 0s 34ms/step - loss: 0.0030 - accuracy: 1.0000 - val_loss: 0.8588 - val_accuracy: 0.4783\n",
      "Epoch 51/1000\n",
      "1/1 [==============================] - 0s 35ms/step - loss: 0.0018 - accuracy: 1.0000 - val_loss: 0.8766 - val_accuracy: 0.4783\n",
      "Epoch 52/1000\n",
      "1/1 [==============================] - 0s 35ms/step - loss: 0.0014 - accuracy: 1.0000 - val_loss: 0.8911 - val_accuracy: 0.4783\n",
      "Epoch 53/1000\n",
      "1/1 [==============================] - 0s 38ms/step - loss: 0.0010 - accuracy: 1.0000 - val_loss: 0.9063 - val_accuracy: 0.4783\n",
      "Epoch 54/1000\n",
      "1/1 [==============================] - 0s 34ms/step - loss: 8.2425e-04 - accuracy: 1.0000 - val_loss: 0.9145 - val_accuracy: 0.4783\n",
      "Epoch 55/1000\n",
      "1/1 [==============================] - 0s 35ms/step - loss: 7.0452e-04 - accuracy: 1.0000 - val_loss: 0.9334 - val_accuracy: 0.4783\n",
      "Epoch 56/1000\n",
      "1/1 [==============================] - 0s 38ms/step - loss: 6.4342e-04 - accuracy: 1.0000 - val_loss: 0.9535 - val_accuracy: 0.4783\n",
      "Epoch 57/1000\n",
      "1/1 [==============================] - 0s 37ms/step - loss: 4.0966e-04 - accuracy: 1.0000 - val_loss: 0.9669 - val_accuracy: 0.4783\n",
      "Epoch 58/1000\n"
     ]
    },
    {
     "name": "stdout",
     "output_type": "stream",
     "text": [
      "1/1 [==============================] - 0s 38ms/step - loss: 3.3341e-04 - accuracy: 1.0000 - val_loss: 0.9798 - val_accuracy: 0.4783\n",
      "Epoch 59/1000\n",
      "1/1 [==============================] - 0s 35ms/step - loss: 3.0964e-04 - accuracy: 1.0000 - val_loss: 0.9850 - val_accuracy: 0.4783\n",
      "Epoch 60/1000\n",
      "1/1 [==============================] - 0s 43ms/step - loss: 2.3747e-04 - accuracy: 1.0000 - val_loss: 1.0011 - val_accuracy: 0.4783\n",
      "1/1 [==============================] - 0s 16ms/step - loss: 0.9484 - accuracy: 0.7826\n",
      "np.shape(X_test)= (1139, 480, 1)\n",
      "Accuracy=  0.782608687877655\n"
     ]
    }
   ],
   "source": [
    "#VGG16_1D\n",
    "\n",
    "accuracy=0\n",
    "acc_crs=np.array([])\n",
    "##for i in range (10):\n",
    "##    if accuracy<0.2 :\n",
    "\n",
    "verbose, epochs, batch_size = 1, 1000, 70\n",
    "n_timesteps, n_features, n_outputs = X_train.shape[1], X_train.shape[2], y_train_cat.shape[1]\n",
    "steps_per_epoch = len(X_train)//batch_size\n",
    "validation_steps = len(X_valid)//batch_size # if you have test data\n",
    "\n",
    "\n",
    "\n",
    "model_crs = Sequential()\n",
    "#model_crs.add(Conv1D(input_shape=x_train.shape[1:],filters=64,kernel_size=9,padding=\"same\", activation=\"relu\"))\n",
    "model_crs.add(Conv1D(filters=128, kernel_size=12, strides=1, activation='relu', input_shape=(n_timesteps,n_features))) #Replaced\n",
    "model_crs.add(BatchNormalization())\n",
    "model_crs.add(MaxPooling1D(pool_size=2,strides=3))\n",
    "\n",
    "model_crs.add(Conv1D(filters=32, kernel_size=7, strides=1, padding=\"same\", activation=\"relu\"))\n",
    "model_crs.add(BatchNormalization())\n",
    "model_crs.add(MaxPooling1D(pool_size=2,strides=2))\n",
    "\n",
    "model_crs.add(Conv1D(filters=32, kernel_size=10, strides=1, padding=\"same\", activation=\"relu\"))\n",
    "model_crs.add(Conv1D(filters=128, kernel_size=5, strides=2, padding=\"same\", activation=\"relu\"))\n",
    "model_crs.add(MaxPooling1D(pool_size=2,strides=2))\n",
    "\n",
    "model_crs.add(Conv1D(filters=256, kernel_size=15, strides=1, padding=\"same\", activation=\"relu\"))\n",
    "model_crs.add(MaxPooling1D(pool_size=2,strides=2))\n",
    "\n",
    "model_crs.add(Conv1D(filters=512, kernel_size=5, strides=1, padding=\"same\", activation=\"relu\"))\n",
    "#model_crs.add(Conv1D(filters=128, kernel_size=3, strides=1, padding=\"same\", activation=\"relu\"))\n",
    "\n",
    "\n",
    "model_crs.add(Flatten())\n",
    "model_crs.add(Dropout(0.1))\n",
    "model_crs.add(Dense(units=512,activation=\"relu\"))\n",
    "#model_crs.add(Dense(units=2048,activation=\"relu\"))\n",
    "model_crs.add(Dense(n_outputs, activation='softmax'))   #Replaced here from old Model\n",
    "\n",
    "model_crs.compile(optimizer='rmsprop', loss='categorical_crossentropy', metrics=['accuracy'])\n",
    "# fit network   #CategoricalCrossentropy #sparse_categorical_crossentropy #SparseCategoricalCrossentropy\n",
    "\n",
    "earlystopping = callbacks.EarlyStopping(monitor =\"val_accuracy\", mode =\"max\", patience = 50, restore_best_weights = True)\n",
    "\n",
    "model_crs.fit(X_train, y_train_cat, epochs=epochs, batch_size=batch_size, verbose=verbose, validation_data = (X_valid, y_valid_cat), callbacks =[earlystopping])\n",
    "\n",
    "_, accuracy = model_crs.evaluate(X_valid, y_valid_cat, batch_size=batch_size, verbose=1)\n",
    "\n",
    "print('np.shape(X_test)=',np.shape(X_test))\n",
    "\n",
    "print('Accuracy= ', accuracy)\n",
    "\n",
    "#y_pred_vgg = model_crs.predict_classes(X_test)\n"
   ]
  },
  {
   "cell_type": "code",
   "execution_count": 24,
   "metadata": {},
   "outputs": [],
   "source": [
    "def maxindx(ar):\n",
    "    ar_cpy=np.array(ar)\n",
    "    pred=np.argmax(ar,axis=1)\n",
    "    for i in range (len(pred)):\n",
    "        if pred[i]==0:\n",
    "            ar_cpy[i,0]=-1000\n",
    "    pred=np.argmax(ar_cpy,axis=1)\n",
    "    return(pred)"
   ]
  },
  {
   "cell_type": "code",
   "execution_count": 25,
   "metadata": {},
   "outputs": [
    {
     "name": "stdout",
     "output_type": "stream",
     "text": [
      "36/36 [==============================] - 0s 7ms/step\n",
      "[[483  86]\n",
      " [355 215]]\n",
      "              precision    recall  f1-score   support\n",
      "\n",
      "           1       0.58      0.85      0.69       569\n",
      "           2       0.71      0.38      0.49       570\n",
      "\n",
      "    accuracy                           0.61      1139\n",
      "   macro avg       0.65      0.61      0.59      1139\n",
      "weighted avg       0.65      0.61      0.59      1139\n",
      "\n"
     ]
    }
   ],
   "source": [
    "predict_x=model_crs.predict(X_test)              # Function 1\n",
    "\n",
    "y_pred_crs=maxindx(predict_x)                    # function from augment.py to remove 0 index predictions\n",
    "\n",
    "#y_pred_crs = model_crs.predict_classes(X_test)\n",
    "\n",
    "cm = confusion_matrix(y_test, y_pred_crs)\n",
    "print(cm)\n",
    "acc3=accuracy_score(y_test, y_pred_crs)\n",
    "\n",
    "print(classification_report(y_test, y_pred_crs))\n",
    "\n",
    "#sns.heatmap(cm, annot=True)\n",
    "\n",
    "#plt.imshow(cm)"
   ]
  }
 ],
 "metadata": {
  "celltoolbar": "Raw Cell Format",
  "kernelspec": {
   "display_name": "Python 3 (ipykernel)",
   "language": "python",
   "name": "python3"
  },
  "language_info": {
   "codemirror_mode": {
    "name": "ipython",
    "version": 3
   },
   "file_extension": ".py",
   "mimetype": "text/x-python",
   "name": "python",
   "nbconvert_exporter": "python",
   "pygments_lexer": "ipython3",
   "version": "3.9.7"
  }
 },
 "nbformat": 4,
 "nbformat_minor": 4
}
